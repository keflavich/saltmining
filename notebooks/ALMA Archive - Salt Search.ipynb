{
 "cells": [
  {
   "cell_type": "code",
   "execution_count": 1,
   "metadata": {},
   "outputs": [
    {
     "name": "stdout",
     "output_type": "stream",
     "text": [
      "/orange/adamginsburg/salt/archive\n"
     ]
    }
   ],
   "source": [
    "cd ../archive"
   ]
  },
  {
   "cell_type": "code",
   "execution_count": 2,
   "metadata": {},
   "outputs": [
    {
     "name": "stdout",
     "output_type": "stream",
     "text": [
      "<Table length=842>\n",
      "     obs_publisher_did      obs_collection ...       lastModified     \n",
      "                                           ...                        \n",
      "           str33                 str4      ...          object        \n",
      "--------------------------- -------------- ... -----------------------\n",
      "ADS/JAO.ALMA#2018.1.01309.S           ALMA ... 2021-08-09T17:58:23.481\n",
      "ADS/JAO.ALMA#2018.1.01309.S           ALMA ... 2021-08-09T17:58:23.481\n",
      "ADS/JAO.ALMA#2018.1.01309.S           ALMA ... 2021-08-09T17:58:23.481\n",
      "ADS/JAO.ALMA#2013.1.00048.S           ALMA ... 2021-08-09T17:58:23.481\n",
      "ADS/JAO.ALMA#2013.1.00048.S           ALMA ... 2021-08-09T17:58:23.481\n",
      "ADS/JAO.ALMA#2017.1.00237.S           ALMA ... 2021-08-09T17:58:23.481\n",
      "ADS/JAO.ALMA#2017.1.00237.S           ALMA ... 2021-08-09T17:58:23.481\n",
      "ADS/JAO.ALMA#2017.1.00237.S           ALMA ... 2021-08-09T17:58:23.481\n",
      "ADS/JAO.ALMA#2012.1.01029.S           ALMA ... 2021-08-09T17:58:23.481\n",
      "                        ...            ... ...                     ...\n",
      "ADS/JAO.ALMA#2019.1.00437.S           ALMA ... 2021-08-21T15:52:49.091\n",
      "ADS/JAO.ALMA#2019.1.00437.S           ALMA ... 2021-08-21T15:52:49.091\n",
      "ADS/JAO.ALMA#2019.1.01693.S           ALMA ... 2021-09-03T16:27:58.121\n",
      "ADS/JAO.ALMA#2019.1.00462.S           ALMA ... 2021-09-02T05:22:51.532\n",
      "ADS/JAO.ALMA#2019.1.00462.S           ALMA ... 2021-09-02T05:22:51.532\n",
      "ADS/JAO.ALMA#2019.1.00462.S           ALMA ... 2021-09-02T05:22:51.532\n",
      "ADS/JAO.ALMA#2019.1.00462.S           ALMA ... 2021-09-02T05:22:51.532\n",
      "ADS/JAO.ALMA#2019.1.00462.S           ALMA ... 2021-09-02T05:22:51.532\n",
      "ADS/JAO.ALMA#2019.1.01463.S           ALMA ... 2021-09-22T17:21:28.722\n",
      "ADS/JAO.ALMA#2019.1.01463.S           ALMA ... 2021-09-22T17:21:28.722\n",
      "{('HD100546', '2018.1.01309.S'): [<Table length=4>\n",
      "Species     ChemicalName     QNs      Freq    log10_Aij    EU_K   \n",
      "  str8         str18         str5   float64    float64   float64  \n",
      "-------- ------------------ ----- ----------- --------- ----------\n",
      "41KClv=1 Potassium chloride 29-28 216.2224953  -2.20966  550.41794\n",
      " NaClv=3    Sodium Chloride 17-16 216.3560118  -2.31626 1637.27494\n",
      "41KClv=0 Potassium chloride 29-28 217.5430431  -2.20681  156.71091\n",
      " NaClv=2    Sodium Chloride 17-16 217.9802149  -2.31227 1128.38157, <Table length=1>\n",
      "Species   ChemicalName   QNs     Freq    log10_Aij    EU_K  \n",
      "  str7       str15       str5  float64    float64   float64 \n",
      "------- --------------- ----- ---------- --------- ---------\n",
      "NaClv=1 Sodium Chloride 17-16 219.614922  -2.30839 614.50884, <Table length=2>\n",
      "Species     ChemicalName     QNs      Freq    log10_Aij    EU_K  \n",
      "  str8         str18         str5   float64    float64   float64 \n",
      "-------- ------------------ ----- ----------- --------- ---------\n",
      "41KClv=0 Potassium chloride 31-30 232.4997148  -2.11976 178.66839\n",
      " NaClv=1    Sodium Chloride 18-17   232.50995  -2.23334 625.66754], ('Orion_Source_I', '2013.1.00048.S'): [<Table length=2>\n",
      "Species     ChemicalName     QNs      Freq    log10_Aij    EU_K  \n",
      "  str8         str18         str5   float64    float64   float64 \n",
      "-------- ------------------ ----- ----------- --------- ---------\n",
      "41KClv=0 Potassium chloride 62-61  462.772973  -0.52046  701.8064\n",
      "  KClv=1 Potassium chloride 61-60 463.1960865   -1.6758 771.02649, <Table length=1>\n",
      "Species   ChemicalName   QNs      Freq    log10_Aij    EU_K  \n",
      "  str7       str15       str5   float64    float64   float64 \n",
      "------- --------------- ----- ----------- --------- ---------\n",
      "NaClv=1 Sodium Chloride 36-35 463.7153639  -1.32798 932.07618, <Table length=1>\n",
      "Species     ChemicalName     QNs      Freq    log10_Aij    EU_K   \n",
      "  str8         str18         str5   float64    float64   float64  \n",
      "-------- ------------------ ----- ----------- --------- ----------\n",
      "41KClv=1 Potassium chloride 64-63 474.5857171  -0.53321 1137.39768, <Table length=2>\n",
      "Species     ChemicalName     QNs      Freq    log10_Aij    EU_K  \n",
      "  str8         str18         str5   float64    float64   float64 \n",
      "-------- ------------------ ----- ----------- --------- ---------\n",
      " NaClv=1    Sodium Chloride 37-36 476.4956241  -1.29236 954.94426\n",
      "41KClv=0 Potassium chloride 64-63 477.5000634   -0.5303  747.2855], ('IRAS_18337-0743', '2017.1.00237.S'): [<Table length=2>\n",
      "Species     ChemicalName     QNs      Freq    log10_Aij    EU_K   \n",
      "  str8         str18         str5   float64    float64   float64  \n",
      "-------- ------------------ ----- ----------- --------- ----------\n",
      "41KClv=0 Potassium chloride 29-28 217.5430431  -2.20681  156.71091\n",
      " NaClv=2    Sodium Chloride 17-16 217.9802149  -2.31227 1128.38157, <Table length=1>\n",
      "Species   ChemicalName   QNs     Freq    log10_Aij    EU_K  \n",
      "  str7       str15       str5  float64    float64   float64 \n",
      "------- --------------- ----- ---------- --------- ---------\n",
      "NaClv=1 Sodium Chloride 17-16 219.614922  -2.30839 614.50884, <Table length=3>\n",
      "Species     ChemicalName     QNs      Freq    log10_Aij    EU_K  \n",
      "  str8         str18         str5   float64    float64   float64 \n",
      "-------- ------------------ ----- ----------- --------- ---------\n",
      "41KClv=1 Potassium chloride 31-30 231.0880933   -2.1226 572.24213\n",
      "41KClv=0 Potassium chloride 31-30 232.4997148  -2.11976 178.66839\n",
      " NaClv=1    Sodium Chloride 18-17   232.50995  -2.23334 625.66754, <Table length=1>\n",
      "Species   ChemicalName   QNs     Freq   log10_Aij    EU_K  \n",
      "  str7       str15       str5  float64   float64   float64 \n",
      "------- --------------- ----- --------- --------- ---------\n",
      "NaClv=0 Sodium Chloride 18-17 234.25183  -2.22932 106.84828], ('G351.77-0.54', '2017.1.00237.S'): [<Table length=2>\n",
      "Species     ChemicalName     QNs      Freq    log10_Aij    EU_K   \n",
      "  str8         str18         str5   float64    float64   float64  \n",
      "-------- ------------------ ----- ----------- --------- ----------\n",
      "41KClv=0 Potassium chloride 29-28 217.5430431  -2.20681  156.71091\n",
      " NaClv=2    Sodium Chloride 17-16 217.9802149  -2.31227 1128.38157, <Table length=1>\n",
      "Species   ChemicalName   QNs     Freq    log10_Aij    EU_K  \n",
      "  str7       str15       str5  float64    float64   float64 \n",
      "------- --------------- ----- ---------- --------- ---------\n",
      "NaClv=1 Sodium Chloride 17-16 219.614922  -2.30839 614.50884, <Table length=3>\n",
      "Species     ChemicalName     QNs      Freq    log10_Aij    EU_K  \n",
      "  str8         str18         str5   float64    float64   float64 \n",
      "-------- ------------------ ----- ----------- --------- ---------\n",
      "41KClv=1 Potassium chloride 31-30 231.0880933   -2.1226 572.24213\n",
      "41KClv=0 Potassium chloride 31-30 232.4997148  -2.11976 178.66839\n",
      " NaClv=1    Sodium Chloride 18-17   232.50995  -2.23334 625.66754, <Table length=1>\n",
      "Species   ChemicalName   QNs     Freq   log10_Aij    EU_K  \n",
      "  str7       str15       str5  float64   float64   float64 \n",
      "------- --------------- ----- --------- --------- ---------\n",
      "NaClv=0 Sodium Chloride 18-17 234.25183  -2.22932 106.84828], ('S255_IR', '2015.1.00500.S'): [<Table length=3>\n",
      "Species     ChemicalName     QNs      Freq    log10_Aij    EU_K  \n",
      "  str8         str18         str5   float64    float64   float64 \n",
      "-------- ------------------ ----- ----------- --------- ---------\n",
      "41KClv=1 Potassium chloride 45-44 334.8543603  -1.63717 764.88875\n",
      "  KClv=1 Potassium chloride 44-43  335.133995  -1.95904 538.71388\n",
      " NaClv=1    Sodium Chloride 26-25 335.5065502  -1.75191 737.19038, <Table length=1>\n",
      "Species   ChemicalName   QNs      Freq    log10_Aij    EU_K   \n",
      "  str7       str15       str5   float64    float64   float64  \n",
      "------- --------------- ----- ----------- --------- ----------\n",
      "NaClv=2 Sodium Chloride 27-26 345.7620205  -1.70658 1266.74326], ('G17.64+0.16', '2017.1.00098.S'): [<Table length=2>\n",
      "Species     ChemicalName     QNs      Freq    log10_Aij    EU_K   \n",
      "  str8         str18         str5   float64    float64   float64  \n",
      "-------- ------------------ ----- ----------- --------- ----------\n",
      "41KClv=0 Potassium chloride 29-28 217.5430431  -2.20681  156.71091\n",
      " NaClv=2    Sodium Chloride 17-16 217.9802149  -2.31227 1128.38157, <Table length=1>\n",
      "Species   ChemicalName   QNs     Freq    log10_Aij    EU_K  \n",
      "  str7       str15       str5  float64    float64   float64 \n",
      "------- --------------- ----- ---------- --------- ---------\n",
      "NaClv=1 Sodium Chloride 17-16 219.614922  -2.30839 614.50884, <Table length=3>\n",
      "Species     ChemicalName     QNs      Freq    log10_Aij    EU_K  \n",
      "  str8         str18         str5   float64    float64   float64 \n",
      "-------- ------------------ ----- ----------- --------- ---------\n",
      "41KClv=1 Potassium chloride 31-30 231.0880933   -2.1226 572.24213\n",
      "41KClv=0 Potassium chloride 31-30 232.4997148  -2.11976 178.66839\n",
      " NaClv=1    Sodium Chloride 18-17   232.50995  -2.23334 625.66754, <Table length=1>\n",
      "Species   ChemicalName   QNs     Freq   log10_Aij    EU_K  \n",
      "  str7       str15       str5  float64   float64   float64 \n",
      "------- --------------- ----- --------- --------- ---------\n",
      "NaClv=0 Sodium Chloride 18-17 234.25183  -2.22932 106.84828], ('G335.78+0.17', '2017.1.00237.S'): [<Table length=2>\n",
      "Species     ChemicalName     QNs      Freq    log10_Aij    EU_K   \n",
      "  str8         str18         str5   float64    float64   float64  \n",
      "-------- ------------------ ----- ----------- --------- ----------\n",
      "41KClv=0 Potassium chloride 29-28 217.5430431  -2.20681  156.71091\n",
      " NaClv=2    Sodium Chloride 17-16 217.9802149  -2.31227 1128.38157, <Table length=1>\n",
      "Species   ChemicalName   QNs     Freq    log10_Aij    EU_K  \n",
      "  str7       str15       str5  float64    float64   float64 \n",
      "------- --------------- ----- ---------- --------- ---------\n",
      "NaClv=1 Sodium Chloride 17-16 219.614922  -2.30839 614.50884, <Table length=3>\n",
      "Species     ChemicalName     QNs      Freq    log10_Aij    EU_K  \n",
      "  str8         str18         str5   float64    float64   float64 \n",
      "-------- ------------------ ----- ----------- --------- ---------\n",
      "41KClv=1 Potassium chloride 31-30 231.0880933   -2.1226 572.24213\n",
      "41KClv=0 Potassium chloride 31-30 232.4997148  -2.11976 178.66839\n",
      " NaClv=1    Sodium Chloride 18-17   232.50995  -2.23334 625.66754, <Table length=1>\n",
      "Species   ChemicalName   QNs     Freq   log10_Aij    EU_K  \n",
      "  str7       str15       str5  float64   float64   float64 \n",
      "------- --------------- ----- --------- --------- ---------\n",
      "NaClv=0 Sodium Chloride 18-17 234.25183  -2.22932 106.84828], ('G333.46-0.16', '2017.1.00237.S'): [<Table length=2>\n",
      "Species     ChemicalName     QNs      Freq    log10_Aij    EU_K   \n",
      "  str8         str18         str5   float64    float64   float64  \n",
      "-------- ------------------ ----- ----------- --------- ----------\n",
      "41KClv=0 Potassium chloride 29-28 217.5430431  -2.20681  156.71091\n",
      " NaClv=2    Sodium Chloride 17-16 217.9802149  -2.31227 1128.38157, <Table length=1>\n",
      "Species   ChemicalName   QNs     Freq    log10_Aij    EU_K  \n",
      "  str7       str15       str5  float64    float64   float64 \n",
      "------- --------------- ----- ---------- --------- ---------\n",
      "NaClv=1 Sodium Chloride 17-16 219.614922  -2.30839 614.50884, <Table length=3>\n",
      "Species     ChemicalName     QNs      Freq    log10_Aij    EU_K  \n",
      "  str8         str18         str5   float64    float64   float64 \n",
      "-------- ------------------ ----- ----------- --------- ---------\n",
      "41KClv=1 Potassium chloride 31-30 231.0880933   -2.1226 572.24213\n",
      "41KClv=0 Potassium chloride 31-30 232.4997148  -2.11976 178.66839\n",
      " NaClv=1    Sodium Chloride 18-17   232.50995  -2.23334 625.66754, <Table length=1>\n",
      "Species   ChemicalName   QNs     Freq   log10_Aij    EU_K  \n",
      "  str7       str15       str5  float64   float64   float64 \n",
      "------- --------------- ----- --------- --------- ---------\n",
      "NaClv=0 Sodium Chloride 18-17 234.25183  -2.22932 106.84828], ('G343.12-0.06', '2017.1.00237.S'): [<Table length=2>\n",
      "Species     ChemicalName     QNs      Freq    log10_Aij    EU_K   \n",
      "  str8         str18         str5   float64    float64   float64  \n",
      "-------- ------------------ ----- ----------- --------- ----------\n",
      "41KClv=0 Potassium chloride 29-28 217.5430431  -2.20681  156.71091\n",
      " NaClv=2    Sodium Chloride 17-16 217.9802149  -2.31227 1128.38157, <Table length=1>\n",
      "Species   ChemicalName   QNs     Freq    log10_Aij    EU_K  \n",
      "  str7       str15       str5  float64    float64   float64 \n",
      "------- --------------- ----- ---------- --------- ---------\n",
      "NaClv=1 Sodium Chloride 17-16 219.614922  -2.30839 614.50884, <Table length=3>\n",
      "Species     ChemicalName     QNs      Freq    log10_Aij    EU_K  \n",
      "  str8         str18         str5   float64    float64   float64 \n",
      "-------- ------------------ ----- ----------- --------- ---------\n",
      "41KClv=1 Potassium chloride 31-30 231.0880933   -2.1226 572.24213\n",
      "41KClv=0 Potassium chloride 31-30 232.4997148  -2.11976 178.66839\n",
      " NaClv=1    Sodium Chloride 18-17   232.50995  -2.23334 625.66754, <Table length=1>\n",
      "Species   ChemicalName   QNs     Freq   log10_Aij    EU_K  \n",
      "  str7       str15       str5  float64   float64   float64 \n",
      "------- --------------- ----- --------- --------- ---------\n",
      "NaClv=0 Sodium Chloride 18-17 234.25183  -2.22932 106.84828], ('G333.12-0.56', '2017.1.00237.S'): [<Table length=2>\n",
      "Species     ChemicalName     QNs      Freq    log10_Aij    EU_K   \n",
      "  str8         str18         str5   float64    float64   float64  \n",
      "-------- ------------------ ----- ----------- --------- ----------\n",
      "41KClv=0 Potassium chloride 29-28 217.5430431  -2.20681  156.71091\n",
      " NaClv=2    Sodium Chloride 17-16 217.9802149  -2.31227 1128.38157, <Table length=1>\n",
      "Species   ChemicalName   QNs     Freq    log10_Aij    EU_K  \n",
      "  str7       str15       str5  float64    float64   float64 \n",
      "------- --------------- ----- ---------- --------- ---------\n",
      "NaClv=1 Sodium Chloride 17-16 219.614922  -2.30839 614.50884, <Table length=3>\n",
      "Species     ChemicalName     QNs      Freq    log10_Aij    EU_K  \n",
      "  str8         str18         str5   float64    float64   float64 \n",
      "-------- ------------------ ----- ----------- --------- ---------\n",
      "41KClv=1 Potassium chloride 31-30 231.0880933   -2.1226 572.24213\n",
      "41KClv=0 Potassium chloride 31-30 232.4997148  -2.11976 178.66839\n",
      " NaClv=1    Sodium Chloride 18-17   232.50995  -2.23334 625.66754, <Table length=1>\n",
      "Species   ChemicalName   QNs     Freq   log10_Aij    EU_K  \n",
      "  str7       str15       str5  float64   float64   float64 \n",
      "------- --------------- ----- --------- --------- ---------\n",
      "NaClv=0 Sodium Chloride 18-17 234.25183  -2.22932 106.84828], ('G34.43+0.24MM2', '2017.1.00237.S'): [<Table length=2>\n",
      "Species     ChemicalName     QNs      Freq    log10_Aij    EU_K   \n",
      "  str8         str18         str5   float64    float64   float64  \n",
      "-------- ------------------ ----- ----------- --------- ----------\n",
      "41KClv=0 Potassium chloride 29-28 217.5430431  -2.20681  156.71091\n",
      " NaClv=2    Sodium Chloride 17-16 217.9802149  -2.31227 1128.38157, <Table length=1>\n",
      "Species   ChemicalName   QNs     Freq    log10_Aij    EU_K  \n",
      "  str7       str15       str5  float64    float64   float64 \n",
      "------- --------------- ----- ---------- --------- ---------\n",
      "NaClv=1 Sodium Chloride 17-16 219.614922  -2.30839 614.50884, <Table length=3>\n",
      "Species     ChemicalName     QNs      Freq    log10_Aij    EU_K  \n",
      "  str8         str18         str5   float64    float64   float64 \n",
      "-------- ------------------ ----- ----------- --------- ---------\n",
      "41KClv=1 Potassium chloride 31-30 231.0880933   -2.1226 572.24213\n",
      "41KClv=0 Potassium chloride 31-30 232.4997148  -2.11976 178.66839\n",
      " NaClv=1    Sodium Chloride 18-17   232.50995  -2.23334 625.66754, <Table length=1>\n",
      "Species   ChemicalName   QNs     Freq   log10_Aij    EU_K  \n",
      "  str7       str15       str5  float64   float64   float64 \n",
      "------- --------------- ----- --------- --------- ---------\n",
      "NaClv=0 Sodium Chloride 18-17 234.25183  -2.22932 106.84828], ('G35.13-0.74', '2017.1.00237.S'): [<Table length=2>\n",
      "Species     ChemicalName     QNs      Freq    log10_Aij    EU_K   \n",
      "  str8         str18         str5   float64    float64   float64  \n",
      "-------- ------------------ ----- ----------- --------- ----------\n",
      "41KClv=0 Potassium chloride 29-28 217.5430431  -2.20681  156.71091\n",
      " NaClv=2    Sodium Chloride 17-16 217.9802149  -2.31227 1128.38157, <Table length=1>\n",
      "Species   ChemicalName   QNs     Freq    log10_Aij    EU_K  \n",
      "  str7       str15       str5  float64    float64   float64 \n",
      "------- --------------- ----- ---------- --------- ---------\n",
      "NaClv=1 Sodium Chloride 17-16 219.614922  -2.30839 614.50884, <Table length=3>\n",
      "Species     ChemicalName     QNs      Freq    log10_Aij    EU_K  \n",
      "  str8         str18         str5   float64    float64   float64 \n",
      "-------- ------------------ ----- ----------- --------- ---------\n",
      "41KClv=1 Potassium chloride 31-30 231.0880933   -2.1226 572.24213\n",
      "41KClv=0 Potassium chloride 31-30 232.4997148  -2.11976 178.66839\n",
      " NaClv=1    Sodium Chloride 18-17   232.50995  -2.23334 625.66754, <Table length=1>\n",
      "Species   ChemicalName   QNs     Freq   log10_Aij    EU_K  \n",
      "  str7       str15       str5  float64   float64   float64 \n",
      "------- --------------- ----- --------- --------- ---------\n",
      "NaClv=0 Sodium Chloride 18-17 234.25183  -2.22932 106.84828], ('G336.01-0.82', '2017.1.00237.S'): [<Table length=2>\n",
      "Species     ChemicalName     QNs      Freq    log10_Aij    EU_K   \n",
      "  str8         str18         str5   float64    float64   float64  \n",
      "-------- ------------------ ----- ----------- --------- ----------\n",
      "41KClv=0 Potassium chloride 29-28 217.5430431  -2.20681  156.71091\n",
      " NaClv=2    Sodium Chloride 17-16 217.9802149  -2.31227 1128.38157, <Table length=1>\n",
      "Species   ChemicalName   QNs     Freq    log10_Aij    EU_K  \n",
      "  str7       str15       str5  float64    float64   float64 \n",
      "------- --------------- ----- ---------- --------- ---------\n",
      "NaClv=1 Sodium Chloride 17-16 219.614922  -2.30839 614.50884, <Table length=3>\n",
      "Species     ChemicalName     QNs      Freq    log10_Aij    EU_K  \n",
      "  str8         str18         str5   float64    float64   float64 \n",
      "-------- ------------------ ----- ----------- --------- ---------\n",
      "41KClv=1 Potassium chloride 31-30 231.0880933   -2.1226 572.24213\n",
      "41KClv=0 Potassium chloride 31-30 232.4997148  -2.11976 178.66839\n",
      " NaClv=1    Sodium Chloride 18-17   232.50995  -2.23334 625.66754, <Table length=1>\n",
      "Species   ChemicalName   QNs     Freq   log10_Aij    EU_K  \n",
      "  str7       str15       str5  float64   float64   float64 \n",
      "------- --------------- ----- --------- --------- ---------\n",
      "NaClv=0 Sodium Chloride 18-17 234.25183  -2.22932 106.84828], ('G31.41+0.31', '2016.1.00223.S'): [<Table length=2>\n",
      "Species     ChemicalName     QNs      Freq    log10_Aij    EU_K   \n",
      "  str8         str18         str5   float64    float64   float64  \n",
      "-------- ------------------ ----- ----------- --------- ----------\n",
      "41KClv=0 Potassium chloride 29-28 217.5430431  -2.20681  156.71091\n",
      " NaClv=2    Sodium Chloride 17-16 217.9802149  -2.31227 1128.38157, <Table length=1>\n",
      "Species   ChemicalName   QNs     Freq    log10_Aij    EU_K  \n",
      "  str7       str15       str5  float64    float64   float64 \n",
      "------- --------------- ----- ---------- --------- ---------\n",
      "NaClv=1 Sodium Chloride 17-16 219.614922  -2.30839 614.50884, <Table length=2>\n",
      "Species    ChemicalName     QNs      Freq    log10_Aij    EU_K  \n",
      "  str7        str18         str5   float64    float64   float64 \n",
      "------- ------------------ ----- ----------- --------- ---------\n",
      "NaClv=0    Sodium Chloride 17-16   221.26015  -2.30439   95.6061\n",
      " KClv=1 Potassium chloride 29-28 221.2979777  -2.41676 394.75692], ('G24.60+0.08', '2017.1.00237.S'): [<Table length=2>\n",
      "Species     ChemicalName     QNs      Freq    log10_Aij    EU_K   \n",
      "  str8         str18         str5   float64    float64   float64  \n",
      "-------- ------------------ ----- ----------- --------- ----------\n",
      "41KClv=0 Potassium chloride 29-28 217.5430431  -2.20681  156.71091\n",
      " NaClv=2    Sodium Chloride 17-16 217.9802149  -2.31227 1128.38157, <Table length=1>\n",
      "Species   ChemicalName   QNs     Freq    log10_Aij    EU_K  \n",
      "  str7       str15       str5  float64    float64   float64 \n",
      "------- --------------- ----- ---------- --------- ---------\n",
      "NaClv=1 Sodium Chloride 17-16 219.614922  -2.30839 614.50884, <Table length=3>\n",
      "Species     ChemicalName     QNs      Freq    log10_Aij    EU_K  \n",
      "  str8         str18         str5   float64    float64   float64 \n",
      "-------- ------------------ ----- ----------- --------- ---------\n",
      "41KClv=1 Potassium chloride 31-30 231.0880933   -2.1226 572.24213\n",
      "41KClv=0 Potassium chloride 31-30 232.4997148  -2.11976 178.66839\n",
      " NaClv=1    Sodium Chloride 18-17   232.50995  -2.23334 625.66754, <Table length=1>\n",
      "Species   ChemicalName   QNs     Freq   log10_Aij    EU_K  \n",
      "  str7       str15       str5  float64   float64   float64 \n",
      "------- --------------- ----- --------- --------- ---------\n",
      "NaClv=0 Sodium Chloride 18-17 234.25183  -2.22932 106.84828], ('G286_2', '2015.1.00357.S'): [<Table length=3>\n",
      "Species     ChemicalName     QNs      Freq    log10_Aij    EU_K  \n",
      "  str8         str18         str5   float64    float64   float64 \n",
      "-------- ------------------ ----- ----------- --------- ---------\n",
      "  KClv=0 Potassium chloride 30-29   230.32056   -2.2017 171.45701\n",
      " NaClv=2    Sodium Chloride 18-17 230.7791504  -2.23734 1139.4571\n",
      "41KClv=1 Potassium chloride 31-30 231.0880933   -2.1226 572.24213], ('G286_1', '2015.1.00357.S'): [<Table length=3>\n",
      "Species     ChemicalName     QNs      Freq    log10_Aij    EU_K  \n",
      "  str8         str18         str5   float64    float64   float64 \n",
      "-------- ------------------ ----- ----------- --------- ---------\n",
      "  KClv=0 Potassium chloride 30-29   230.32056   -2.2017 171.45701\n",
      " NaClv=2    Sodium Chloride 18-17 230.7791504  -2.23734 1139.4571\n",
      "41KClv=1 Potassium chloride 31-30 231.0880933   -2.1226 572.24213], ('IRAS13481-6124', '2015.1.00424.S'): [<Table length=2>\n",
      "Species     ChemicalName     QNs      Freq    log10_Aij    EU_K  \n",
      "  str8         str18         str5   float64    float64   float64 \n",
      "-------- ------------------ ----- ----------- --------- ---------\n",
      "41KClv=0 Potassium chloride 46-45 344.3381157  -1.60574 389.01842\n",
      "  KClv=0 Potassium chloride 45-44  344.820476    -1.762 381.26099, <Table length=1>\n",
      "Species   ChemicalName   QNs      Freq    log10_Aij    EU_K   \n",
      "  str7       str15       str5   float64    float64   float64  \n",
      "------- --------------- ----- ----------- --------- ----------\n",
      "NaClv=2 Sodium Chloride 27-26 345.7620205  -1.70658 1266.74326, <Table length=3>\n",
      "Species     ChemicalName     QNs      Freq    log10_Aij    EU_K  \n",
      "  str8         str18         str5   float64    float64   float64 \n",
      "-------- ------------------ ----- ----------- --------- ---------\n",
      "  KClv=1 Potassium chloride 47-46 357.8166035  -1.89478 574.38584\n",
      " NaClv=2    Sodium Chloride 28-27 358.5107404   -1.6592  1283.949\n",
      "41KClv=0 Potassium chloride 48-47 359.1969479  -1.55051 423.13916], ('HD_34282', '2017.1.01578.S'): [<Table length=3>\n",
      "Species     ChemicalName     QNs      Freq    log10_Aij    EU_K   \n",
      "  str8         str18         str5   float64    float64   float64  \n",
      "-------- ------------------ ----- ----------- --------- ----------\n",
      " NaClv=3    Sodium Chloride 17-16 216.3560118  -2.31626 1637.27494\n",
      "41KClv=0 Potassium chloride 29-28 217.5430431  -2.20681  156.71091\n",
      " NaClv=2    Sodium Chloride 17-16 217.9802149  -2.31227 1128.38157, <Table length=1>\n",
      "Species   ChemicalName   QNs     Freq    log10_Aij    EU_K  \n",
      "  str7       str15       str5  float64    float64   float64 \n",
      "------- --------------- ----- ---------- --------- ---------\n",
      "NaClv=1 Sodium Chloride 17-16 219.614922  -2.30839 614.50884, <Table length=1>\n",
      "Species   ChemicalName   QNs     Freq   log10_Aij    EU_K  \n",
      "  str7       str15       str5  float64   float64   float64 \n",
      "------- --------------- ----- --------- --------- ---------\n",
      "NaClv=0 Sodium Chloride 18-17 234.25183  -2.22932 106.84828], ('G353.273+0.641', '2016.1.01068.S'): [<Table length=4>\n",
      "Species     ChemicalName     QNs      Freq    log10_Aij    EU_K  \n",
      "  str8         str18         str5   float64    float64   float64 \n",
      "-------- ------------------ ----- ----------- --------- ---------\n",
      "41KClv=1 Potassium chloride 19-18 141.7765005  -2.76343 462.71873\n",
      " NaClv=1    Sodium Chloride 11-10 142.1726576  -2.88159 560.55905\n",
      "41KClv=0 Potassium chloride 19-18 142.6416834  -2.76054   68.4762\n",
      " NaClv=0    Sodium Chloride 11-10 143.2373601  -2.87766  41.25206, <Table length=1>\n",
      "Species    ChemicalName     QNs      Freq    log10_Aij    EU_K  \n",
      "  str6        str18         str5   float64    float64   float64 \n",
      "------- ------------------ ----- ----------- --------- ---------\n",
      " KClv=1 Potassium chloride 19-18 145.1072502  -2.93316 330.75015, <Table length=2>\n",
      "Species   ChemicalName   QNs      Freq    log10_Aij    EU_K   \n",
      "  str7       str15       str5   float64    float64   float64  \n",
      "------- --------------- ----- ----------- --------- ----------\n",
      "NaClv=2 Sodium Chloride 12-11 153.9330971  -2.77071 1082.22086\n",
      "NaClv=1 Sodium Chloride 12-11 155.0871569  -2.76672  568.00206, <Table length=2>\n",
      "Species     ChemicalName     QNs      Freq    log10_Aij    EU_K  \n",
      "  str8         str18         str5   float64    float64   float64 \n",
      "-------- ------------------ ----- ----------- --------- ---------\n",
      " NaClv=0    Sodium Chloride 12-11    156.2486  -2.76281  48.75079\n",
      "41KClv=1 Potassium chloride 21-20 156.6794396  -2.63219 477.39993], ('G14.22-0.50_S', '2017.1.00237.S'): [<Table length=2>\n",
      "Species     ChemicalName     QNs      Freq    log10_Aij    EU_K   \n",
      "  str8         str18         str5   float64    float64   float64  \n",
      "-------- ------------------ ----- ----------- --------- ----------\n",
      "41KClv=0 Potassium chloride 29-28 217.5430431  -2.20681  156.71091\n",
      " NaClv=2    Sodium Chloride 17-16 217.9802149  -2.31227 1128.38157, <Table length=1>\n",
      "Species   ChemicalName   QNs     Freq    log10_Aij    EU_K  \n",
      "  str7       str15       str5  float64    float64   float64 \n",
      "------- --------------- ----- ---------- --------- ---------\n",
      "NaClv=1 Sodium Chloride 17-16 219.614922  -2.30839 614.50884, <Table length=3>\n",
      "Species     ChemicalName     QNs      Freq    log10_Aij    EU_K  \n",
      "  str8         str18         str5   float64    float64   float64 \n",
      "-------- ------------------ ----- ----------- --------- ---------\n",
      "41KClv=1 Potassium chloride 31-30 231.0880933   -2.1226 572.24213\n",
      "41KClv=0 Potassium chloride 31-30 232.4997148  -2.11976 178.66839\n",
      " NaClv=1    Sodium Chloride 18-17   232.50995  -2.23334 625.66754, <Table length=1>\n",
      "Species   ChemicalName   QNs     Freq   log10_Aij    EU_K  \n",
      "  str7       str15       str5  float64   float64   float64 \n",
      "------- --------------- ----- --------- --------- ---------\n",
      "NaClv=0 Sodium Chloride 18-17 234.25183  -2.22932 106.84828], ('G31.41+0.31', '2018.1.00252.S'): [<Table length=1>\n",
      "Species    ChemicalName     QNs     Freq    log10_Aij   EU_K  \n",
      "  str6        str18         str5  float64    float64  float64 \n",
      "------- ------------------ ----- ---------- --------- --------\n",
      " KClv=0 Potassium chloride 11-10 84.5625936  -3.45856 24.35232, <Table length=2>\n",
      "Species     ChemicalName     QNs     Freq    log10_Aij    EU_K  \n",
      "  str8         str18         str5  float64    float64   float64 \n",
      "-------- ------------------ ----- ---------- --------- ---------\n",
      "41KClv=1 Potassium chloride 13-12 97.0360277  -3.26257 427.26073\n",
      "41KClv=0 Potassium chloride 13-12 97.6279938  -3.25969  32.80194, <Table length=2>\n",
      "Species    ChemicalName     QNs    Freq   log10_Aij    EU_K  \n",
      "  str6        str18         str5 float64   float64   float64 \n",
      "------- ------------------ ----- -------- --------- ---------\n",
      " KClv=1 Potassium chloride 13-12 99.31644   -3.4176 304.65588\n",
      " KClv=0 Potassium chloride 13-12 99.92954  -3.24184  33.57524], ('IRAS_16293-2422B', '2017.1.01247.S'): [<Table length=2>\n",
      "Species    ChemicalName     QNs    Freq   log10_Aij    EU_K  \n",
      "  str6        str18         str5 float64   float64   float64 \n",
      "------- ------------------ ----- -------- --------- ---------\n",
      " KClv=1 Potassium chloride 13-12 99.31644   -3.4176 304.65588\n",
      " KClv=0 Potassium chloride 13-12 99.92954  -3.24184  33.57524], ('G345.49+1.47', '2018.1.00385.S'): [<Table length=1>\n",
      "Species   ChemicalName   QNs     Freq    log10_Aij    EU_K  \n",
      "  str7       str15       str5  float64    float64   float64 \n",
      "------- --------------- ----- ---------- --------- ---------\n",
      "NaClv=1 Sodium Chloride 17-16 219.614922  -2.30839 614.50884, <Table length=3>\n",
      "Species    ChemicalName     QNs      Freq    log10_Aij    EU_K  \n",
      "  str7        str18         str5   float64    float64   float64 \n",
      "------- ------------------ ----- ----------- --------- ---------\n",
      "NaClv=1    Sodium Chloride 17-16  219.614922  -2.30839 614.50884\n",
      "NaClv=0    Sodium Chloride 17-16   221.26015  -2.30439   95.6061\n",
      " KClv=1 Potassium chloride 29-28 221.2979777  -2.41676 394.75692, <Table length=2>\n",
      "Species     ChemicalName     QNs      Freq    log10_Aij    EU_K  \n",
      "  str8         str18         str5   float64    float64   float64 \n",
      "-------- ------------------ ----- ----------- --------- ---------\n",
      "  KClv=0 Potassium chloride 29-28 222.6655244  -2.24131 160.40346\n",
      "41KClv=1 Potassium chloride 30-29 223.6564148  -2.16538 561.15168], ('HD_97048', '2016.1.00826.S'): [<Table length=1>\n",
      "Species   ChemicalName   QNs      Freq    log10_Aij    EU_K   \n",
      "  str7       str15       str5   float64    float64   float64  \n",
      "------- --------------- ----- ----------- --------- ----------\n",
      "NaClv=3 Sodium Chloride 26-25 330.5240848  -1.75987 1758.13516, <Table length=1>\n",
      "Species   ChemicalName   QNs      Freq    log10_Aij    EU_K   \n",
      "  str7       str15       str5   float64    float64   float64  \n",
      "------- --------------- ----- ----------- --------- ----------\n",
      "NaClv=2 Sodium Chloride 26-25 333.0072742  -1.75589 1250.14944, <Table length=3>\n",
      "Species     ChemicalName     QNs      Freq    log10_Aij    EU_K   \n",
      "  str8         str18         str5   float64    float64   float64  \n",
      "-------- ------------------ ----- ----------- --------- ----------\n",
      "41KClv=1 Potassium chloride 46-45 342.2434366  -1.60871   781.3137\n",
      "  KClv=1 Potassium chloride 45-44 342.6984166  -1.93682  550.35024\n",
      " NaClv=3    Sodium Chloride 27-26 343.1834501  -1.71063 1774.60528, <Table length=3>\n",
      "Species     ChemicalName     QNs      Freq    log10_Aij    EU_K   \n",
      "  str8         str18         str5   float64    float64   float64  \n",
      "-------- ------------------ ----- ----------- --------- ----------\n",
      "41KClv=0 Potassium chloride 46-45 344.3381157  -1.60574  389.01842\n",
      "  KClv=0 Potassium chloride 45-44  344.820476    -1.762  381.26099\n",
      " NaClv=2    Sodium Chloride 27-26 345.7620205  -1.70658 1266.74326], ('S255IR_NIRS3', '2019.1.00571.S'): [<Table length=1>\n",
      "Species     ChemicalName     QNs     Freq    log10_Aij    EU_K  \n",
      "  str8         str18         str5  float64    float64   float64 \n",
      "-------- ------------------ ----- ---------- --------- ---------\n",
      "41KClv=1 Potassium chloride 32-31 238.517456  -2.08112 583.68915, <Table length=2>\n",
      "Species     ChemicalName     QNs      Freq    log10_Aij    EU_K   \n",
      "  str8         str18         str5   float64    float64   float64  \n",
      "-------- ------------------ ----- ----------- --------- ----------\n",
      " NaClv=4    Sodium Chloride 19-18 239.9554804  -2.17429 2163.66672\n",
      "41KClv=0 Potassium chloride 32-31 239.9746144  -2.07828  190.18521, <Table length=1>\n",
      "Species   ChemicalName   QNs      Freq    log10_Aij    EU_K   \n",
      "  str7       str15       str5   float64    float64   float64  \n",
      "------- --------------- ----- ----------- --------- ----------\n",
      "NaClv=3 Sodium Chloride 19-18 241.7589034  -2.17032 1659.87058, <Table length=1>\n",
      "Species   ChemicalName   QNs     Freq    log10_Aij    EU_K  \n",
      "  str7       str15       str5  float64    float64   float64 \n",
      "------- --------------- ----- ---------- --------- ---------\n",
      "NaClv=2 Sodium Chloride 19-18 243.574069  -2.16639 1151.1468, <Table length=1>\n",
      "Species    ChemicalName     QNs      Freq    log10_Aij    EU_K  \n",
      "  str6        str18         str5   float64    float64   float64 \n",
      "------- ------------------ ----- ----------- --------- ---------\n",
      " KClv=1 Potassium chloride 32-31 244.1145193  -2.30247 418.95203, <Table length=2>\n",
      "Species    ChemicalName     QNs      Freq    log10_Aij    EU_K  \n",
      "  str7        str18         str5   float64    float64   float64 \n",
      "------- ------------------ ----- ----------- --------- ---------\n",
      "NaClv=1    Sodium Chloride 19-18 245.4010857  -2.16237 637.44487\n",
      " KClv=0 Potassium chloride 32-31 245.6235302  -2.12712 194.66586, <Table length=1>\n",
      "Species     ChemicalName     QNs      Freq    log10_Aij    EU_K  \n",
      "  str8         str18         str5   float64    float64   float64 \n",
      "-------- ------------------ ----- ----------- --------- ---------\n",
      "41KClv=1 Potassium chloride 33-32 245.9444281  -2.04103 595.49257, <Table length=2>\n",
      "Species     ChemicalName     QNs      Freq    log10_Aij    EU_K  \n",
      "  str8         str18         str5   float64    float64   float64 \n",
      "-------- ------------------ ----- ----------- --------- ---------\n",
      " NaClv=0    Sodium Chloride 19-18 247.2397334  -2.15843 118.71385\n",
      "41KClv=0 Potassium chloride 33-32 247.4471235  -2.03809 202.06074, <Table length=1>\n",
      "Species    ChemicalName     QNs      Freq    log10_Aij    EU_K  \n",
      "  str6        str18         str5   float64    float64   float64 \n",
      "------- ------------------ ----- ----------- --------- ---------\n",
      " KClv=1 Potassium chloride 33-32 251.7151233  -2.26737 427.52845, <Table length=1>\n",
      "Species   ChemicalName   QNs      Freq    log10_Aij    EU_K   \n",
      "  str7       str15       str5   float64    float64   float64  \n",
      "------- --------------- ----- ----------- --------- ----------\n",
      "NaClv=4 Sodium Chloride 20-19 252.5558458  -2.10708 2175.78748, <Table length=2>\n",
      "Species     ChemicalName     QNs      Freq    log10_Aij    EU_K  \n",
      "  str8         str18         str5   float64    float64   float64 \n",
      "-------- ------------------ ----- ----------- --------- ---------\n",
      "  KClv=0 Potassium chloride 33-32 253.2712915  -2.09214 206.82101\n",
      "41KClv=1 Potassium chloride 34-33 253.3689347  -2.00205 607.65226, <Table length=1>\n",
      "Species   ChemicalName   QNs      Freq    log10_Aij    EU_K   \n",
      "  str7       str15       str5   float64    float64   float64  \n",
      "------- --------------- ----- ----------- --------- ----------\n",
      "NaClv=3 Sodium Chloride 20-19 254.4541155  -2.10308 1672.08237, <Table length=1>\n",
      "Species     ChemicalName     QNs     Freq    log10_Aij    EU_K  \n",
      "  str8         str18         str5  float64    float64   float64 \n",
      "-------- ------------------ ----- ---------- --------- ---------\n",
      "41KClv=0 Potassium chloride 34-33 254.917167   -1.9992 214.29484, <Table length=1>\n",
      "Species   ChemicalName   QNs      Freq    log10_Aij    EU_K   \n",
      "  str7       str15       str5   float64    float64   float64  \n",
      "------- --------------- ----- ----------- --------- ----------\n",
      "NaClv=2 Sodium Chloride 20-19 256.3647476  -2.09912 1163.45036], ('NGC6334I', '2018.1.00495.S'): [<Table length=1>\n",
      "Species     ChemicalName     QNs      Freq    log10_Aij    EU_K  \n",
      "  str8         str18         str5   float64    float64   float64 \n",
      "-------- ------------------ ----- ----------- --------- ---------\n",
      "41KClv=1 Potassium chloride 18-17 134.3228658  -2.83441 455.91461], ('iras16547-4247', '2016.1.00992.S'): [<Table length=1>\n",
      "Species   ChemicalName   QNs     Freq    log10_Aij    EU_K  \n",
      "  str7       str15       str5  float64    float64   float64 \n",
      "------- --------------- ----- ---------- --------- ---------\n",
      "NaClv=4 Sodium Chloride 27-26 340.621588  -1.71461 2277.5452, <Table length=3>\n",
      "Species     ChemicalName     QNs      Freq    log10_Aij    EU_K  \n",
      "  str8         str18         str5   float64    float64   float64 \n",
      "-------- ------------------ ----- ----------- --------- ---------\n",
      " NaClv=0    Sodium Chloride 27-26 350.9692862  -1.69865 236.05068\n",
      "41KClv=0 Potassium chloride 47-46   351.76928  -1.57783 405.90061\n",
      "  KClv=0 Potassium chloride 46-45 352.4285206  -1.74061 398.17484], ('M17UC1', '2015.1.01163.S'): [<Table length=1>\n",
      "Species     ChemicalName     QNs      Freq    log10_Aij    EU_K  \n",
      "  str8         str18         str5   float64    float64   float64 \n",
      "-------- ------------------ ----- ----------- --------- ---------\n",
      "41KClv=0 Potassium chloride 54-53 403.6848731  -0.31477 534.04703, <Table length=2>\n",
      "Species    ChemicalName     QNs      Freq    log10_Aij    EU_K   \n",
      "  str7        str18         str5   float64    float64   float64  \n",
      "------- ------------------ ----- ----------- --------- ----------\n",
      " KClv=0 Potassium chloride 53-52 405.5795659  -1.61157  526.78008\n",
      "NaClv=3    Sodium Chloride 32-31  406.385639  -1.48909 1866.05859, <Table length=3>\n",
      "Species     ChemicalName     QNs      Freq    log10_Aij    EU_K   \n",
      "  str8         str18         str5   float64    float64   float64  \n",
      "-------- ------------------ ----- ----------- --------- ----------\n",
      " NaClv=0    Sodium Chloride 32-31 415.6108536  -1.47715  329.57958\n",
      " NaClv=4    Sodium Chloride 33-32  415.875501  -1.45308 2388.27442\n",
      "41KClv=1 Potassium chloride 56-55 415.9326004  -0.41461  965.02966, <Table length=2>\n",
      "Species     ChemicalName     QNs      Freq    log10_Aij    EU_K  \n",
      "  str8         str18         str5   float64    float64   float64 \n",
      "-------- ------------------ ----- ----------- --------- ---------\n",
      "  KClv=1 Potassium chloride 55-54 418.1357186  -1.75507 680.67915\n",
      "41KClv=0 Potassium chloride 56-55 418.4826526  -0.41172 573.85977], ('G14.33', '2018.1.01014.S'): [<Table length=2>\n",
      "Species    ChemicalName     QNs      Freq    log10_Aij    EU_K  \n",
      "  str7        str18         str5   float64    float64   float64 \n",
      "------- ------------------ ----- ----------- --------- ---------\n",
      "NaClv=0    Sodium Chloride 17-16   221.26015  -2.30439   95.6061\n",
      " KClv=1 Potassium chloride 29-28 221.2979777  -2.41676 394.75692, <Table length=1>\n",
      "Species     ChemicalName     QNs     Freq    log10_Aij    EU_K  \n",
      "  str8         str18         str5  float64    float64   float64 \n",
      "-------- ------------------ ----- ---------- --------- ---------\n",
      "41KClv=1 Potassium chloride 32-31 238.517456  -2.08112 583.68915], ('HD_100453', '2017.1.01678.S'): [<Table length=3>\n",
      "Species     ChemicalName     QNs      Freq    log10_Aij    EU_K   \n",
      "  str8         str18         str5   float64    float64   float64  \n",
      "-------- ------------------ ----- ----------- --------- ----------\n",
      " NaClv=3    Sodium Chloride 17-16 216.3560118  -2.31626 1637.27494\n",
      "41KClv=0 Potassium chloride 29-28 217.5430431  -2.20681  156.71091\n",
      " NaClv=2    Sodium Chloride 17-16 217.9802149  -2.31227 1128.38157, <Table length=1>\n",
      "Species   ChemicalName   QNs     Freq    log10_Aij    EU_K  \n",
      "  str7       str15       str5  float64    float64   float64 \n",
      "------- --------------- ----- ---------- --------- ---------\n",
      "NaClv=1 Sodium Chloride 17-16 219.614922  -2.30839 614.50884, <Table length=1>\n",
      "Species   ChemicalName   QNs     Freq   log10_Aij    EU_K  \n",
      "  str7       str15       str5  float64   float64   float64 \n",
      "------- --------------- ----- --------- --------- ---------\n",
      "NaClv=0 Sodium Chloride 18-17 234.25183  -2.22932 106.84828], ('G11.92-0.61_MM1', '2018.1.01010.S'): [<Table length=2>\n",
      "Species    ChemicalName     QNs      Freq    log10_Aij    EU_K  \n",
      "  str7        str18         str5   float64    float64   float64 \n",
      "------- ------------------ ----- ----------- --------- ---------\n",
      "NaClv=0    Sodium Chloride 17-16   221.26015  -2.30439   95.6061\n",
      " KClv=1 Potassium chloride 29-28 221.2979777  -2.41676 394.75692, <Table length=1>\n",
      "Species     ChemicalName     QNs     Freq    log10_Aij    EU_K  \n",
      "  str8         str18         str5  float64    float64   float64 \n",
      "-------- ------------------ ----- ---------- --------- ---------\n",
      "41KClv=1 Potassium chloride 32-31 238.517456  -2.08112 583.68915], ('G33.92+0.11', '2016.1.00362.S'): [<Table length=3>\n",
      "Species     ChemicalName     QNs      Freq    log10_Aij    EU_K   \n",
      "  str8         str18         str5   float64    float64   float64  \n",
      "-------- ------------------ ----- ----------- --------- ----------\n",
      "41KClv=1 Potassium chloride 29-28 216.2224953  -2.20966  550.41794\n",
      " NaClv=3    Sodium Chloride 17-16 216.3560118  -2.31626 1637.27494\n",
      "41KClv=0 Potassium chloride 29-28 217.5430431  -2.20681  156.71091, <Table length=3>\n",
      "Species     ChemicalName     QNs      Freq    log10_Aij    EU_K  \n",
      "  str8         str18         str5   float64    float64   float64 \n",
      "-------- ------------------ ----- ----------- --------- ---------\n",
      "41KClv=1 Potassium chloride 31-30 231.0880933   -2.1226 572.24213\n",
      "41KClv=0 Potassium chloride 31-30 232.4997148  -2.11976 178.66839\n",
      " NaClv=1    Sodium Chloride 18-17   232.50995  -2.23334 625.66754, <Table length=1>\n",
      "Species     ChemicalName     QNs      Freq    log10_Aij    EU_K  \n",
      "  str8         str18         str5   float64    float64   float64 \n",
      "-------- ------------------ ----- ----------- --------- ---------\n",
      "41KClv=1 Potassium chloride 31-30 231.0880933   -2.1226 572.24213], ('hd_100453', '2017.1.01678.S'): [<Table length=4>\n",
      "Species     ChemicalName     QNs     Freq    log10_Aij    EU_K   \n",
      "  str8         str18         str5  float64    float64   float64  \n",
      "-------- ------------------ ----- ---------- --------- ----------\n",
      " NaClv=4    Sodium Chloride   7-6 88.4854845  -3.49279 2065.43666\n",
      " NaClv=3    Sodium Chloride   7-6 89.1500999  -3.48885 1560.90246\n",
      "41KClv=1 Potassium chloride 12-11 89.5754501  -3.36817  422.60379\n",
      " NaClv=2    Sodium Chloride   7-6 89.8190369  -3.48486 1051.43579, <Table length=4>\n",
      "Species     ChemicalName     QNs     Freq    log10_Aij    EU_K  \n",
      "  str8         str18         str5  float64    float64   float64 \n",
      "-------- ------------------ ----- ---------- --------- ---------\n",
      "41KClv=0 Potassium chloride 12-11 90.1218802  -3.36523  28.11648\n",
      " NaClv=1    Sodium Chloride   7-6 90.4922954  -3.48088  536.9863\n",
      " NaClv=0    Sodium Chloride   7-6 91.1698754  -3.47689  17.50276\n",
      "  KClv=1 Potassium chloride 12-11 91.6806299  -3.52125 301.20537, <Table length=2>\n",
      "Species   ChemicalName  QNs      Freq    log10_Aij    EU_K   \n",
      "  str7       str15      str3   float64    float64   float64  \n",
      "------- --------------- ---- ----------- --------- ----------\n",
      "NaClv=4 Sodium Chloride  8-7 101.1218267  -3.31519 2070.28978\n",
      "NaClv=3 Sodium Chloride  8-7 101.8813765   -3.3112 1565.79207, <Table length=2>\n",
      "Species   ChemicalName  QNs      Freq    log10_Aij    EU_K   \n",
      "  str7       str15      str3   float64    float64   float64  \n",
      "------- --------------- ---- ----------- --------- ----------\n",
      "NaClv=2 Sodium Chloride  8-7 102.6458653  -3.30726 1056.36208\n",
      "NaClv=1 Sodium Chloride  8-7 103.4152933  -3.30333  541.94943], ('IRAS13481-6124', '2018.1.01660.S'): [<Table length=1>\n",
      "Species     ChemicalName     QNs      Freq    log10_Aij    EU_K  \n",
      "  str8         str18         str5   float64    float64   float64 \n",
      "-------- ------------------ ----- ----------- --------- ---------\n",
      "41KClv=1 Potassium chloride 30-29 223.6564148  -2.16538 561.15168, <Table length=2>\n",
      "Species     ChemicalName     QNs      Freq    log10_Aij    EU_K   \n",
      "  str8         str18         str5   float64    float64   float64  \n",
      "-------- ------------------ ----- ----------- --------- ----------\n",
      "41KClv=1 Potassium chloride 32-31  238.517456  -2.08112  583.68915\n",
      " NaClv=4    Sodium Chloride 19-18 239.9554804  -2.17429 2163.66672, <Table length=1>\n",
      "Species   ChemicalName   QNs      Freq    log10_Aij    EU_K   \n",
      "  str7       str15       str5   float64    float64   float64  \n",
      "------- --------------- ----- ----------- --------- ----------\n",
      "NaClv=3 Sodium Chloride 19-18 241.7589034  -2.17032 1659.87058], ('W33A', '2018.1.00458.S'): [<Table length=1>\n",
      "Species     ChemicalName     QNs      Freq    log10_Aij    EU_K  \n",
      "  str8         str18         str5   float64    float64   float64 \n",
      "-------- ------------------ ----- ----------- --------- ---------\n",
      "41KClv=0 Potassium chloride 30-29 225.0224994  -2.16253 167.51014, <Table length=1>\n",
      "Species    ChemicalName     QNs      Freq    log10_Aij    EU_K  \n",
      "  str6        str18         str5   float64    float64   float64 \n",
      "------- ------------------ ----- ----------- --------- ---------\n",
      " KClv=1 Potassium chloride 31-30 236.5114104  -2.33902 410.63123, <Table length=1>\n",
      "Species     ChemicalName     QNs     Freq    log10_Aij    EU_K  \n",
      "  str8         str18         str5  float64    float64   float64 \n",
      "-------- ------------------ ----- ---------- --------- ---------\n",
      "41KClv=1 Potassium chloride 32-31 238.517456  -2.08112 583.68915], ('M17-IRS5', '2015.1.01163.S'): [<Table length=1>\n",
      "Species     ChemicalName     QNs      Freq    log10_Aij    EU_K  \n",
      "  str8         str18         str5   float64    float64   float64 \n",
      "-------- ------------------ ----- ----------- --------- ---------\n",
      "41KClv=0 Potassium chloride 54-53 403.6848731  -0.31477 534.04703, <Table length=2>\n",
      "Species    ChemicalName     QNs      Freq    log10_Aij    EU_K   \n",
      "  str7        str18         str5   float64    float64   float64  \n",
      "------- ------------------ ----- ----------- --------- ----------\n",
      " KClv=0 Potassium chloride 53-52 405.5795659  -1.61157  526.78008\n",
      "NaClv=3    Sodium Chloride 32-31  406.385639  -1.48909 1866.05859, <Table length=3>\n",
      "Species     ChemicalName     QNs      Freq    log10_Aij    EU_K   \n",
      "  str8         str18         str5   float64    float64   float64  \n",
      "-------- ------------------ ----- ----------- --------- ----------\n",
      " NaClv=0    Sodium Chloride 32-31 415.6108536  -1.47715  329.57958\n",
      " NaClv=4    Sodium Chloride 33-32  415.875501  -1.45308 2388.27442\n",
      "41KClv=1 Potassium chloride 56-55 415.9326004  -0.41461  965.02966, <Table length=2>\n",
      "Species     ChemicalName     QNs      Freq    log10_Aij    EU_K  \n",
      "  str8         str18         str5   float64    float64   float64 \n",
      "-------- ------------------ ----- ----------- --------- ---------\n",
      "  KClv=1 Potassium chloride 55-54 418.1357186  -1.75507 680.67915\n",
      "41KClv=0 Potassium chloride 56-55 418.4826526  -0.41172 573.85977], ('G34.43+0.24', '2016.1.01036.S'): [<Table length=2>\n",
      "Species     ChemicalName     QNs      Freq    log10_Aij    EU_K   \n",
      "  str8         str18         str5   float64    float64   float64  \n",
      "-------- ------------------ ----- ----------- --------- ----------\n",
      "41KClv=0 Potassium chloride 29-28 217.5430431  -2.20681  156.71091\n",
      " NaClv=2    Sodium Chloride 17-16 217.9802149  -2.31227 1128.38157, <Table length=1>\n",
      "Species   ChemicalName   QNs     Freq    log10_Aij    EU_K  \n",
      "  str7       str15       str5  float64    float64   float64 \n",
      "------- --------------- ----- ---------- --------- ---------\n",
      "NaClv=1 Sodium Chloride 17-16 219.614922  -2.30839 614.50884, <Table length=3>\n",
      "Species     ChemicalName     QNs      Freq    log10_Aij    EU_K  \n",
      "  str8         str18         str5   float64    float64   float64 \n",
      "-------- ------------------ ----- ----------- --------- ---------\n",
      "41KClv=1 Potassium chloride 31-30 231.0880933   -2.1226 572.24213\n",
      "41KClv=0 Potassium chloride 31-30 232.4997148  -2.11976 178.66839\n",
      " NaClv=1    Sodium Chloride 18-17   232.50995  -2.23334 625.66754, <Table length=1>\n",
      "Species   ChemicalName   QNs     Freq   log10_Aij    EU_K  \n",
      "  str7       str15       str5  float64   float64   float64 \n",
      "------- --------------- ----- --------- --------- ---------\n",
      "NaClv=0 Sodium Chloride 18-17 234.25183  -2.22932 106.84828], ('G35.03+0.35_A', '2016.1.01036.S'): [<Table length=2>\n",
      "Species     ChemicalName     QNs      Freq    log10_Aij    EU_K   \n",
      "  str8         str18         str5   float64    float64   float64  \n",
      "-------- ------------------ ----- ----------- --------- ----------\n",
      "41KClv=0 Potassium chloride 29-28 217.5430431  -2.20681  156.71091\n",
      " NaClv=2    Sodium Chloride 17-16 217.9802149  -2.31227 1128.38157, <Table length=1>\n",
      "Species   ChemicalName   QNs     Freq    log10_Aij    EU_K  \n",
      "  str7       str15       str5  float64    float64   float64 \n",
      "------- --------------- ----- ---------- --------- ---------\n",
      "NaClv=1 Sodium Chloride 17-16 219.614922  -2.30839 614.50884, <Table length=3>\n",
      "Species     ChemicalName     QNs      Freq    log10_Aij    EU_K  \n",
      "  str8         str18         str5   float64    float64   float64 \n",
      "-------- ------------------ ----- ----------- --------- ---------\n",
      "41KClv=1 Potassium chloride 31-30 231.0880933   -2.1226 572.24213\n",
      "41KClv=0 Potassium chloride 31-30 232.4997148  -2.11976 178.66839\n",
      " NaClv=1    Sodium Chloride 18-17   232.50995  -2.23334 625.66754, <Table length=1>\n",
      "Species   ChemicalName   QNs     Freq   log10_Aij    EU_K  \n",
      "  str7       str15       str5  float64   float64   float64 \n",
      "------- --------------- ----- --------- --------- ---------\n",
      "NaClv=0 Sodium Chloride 18-17 234.25183  -2.22932 106.84828], ('G10.62-0.38', '2016.1.01036.S'): [<Table length=2>\n",
      "Species     ChemicalName     QNs      Freq    log10_Aij    EU_K   \n",
      "  str8         str18         str5   float64    float64   float64  \n",
      "-------- ------------------ ----- ----------- --------- ----------\n",
      "41KClv=0 Potassium chloride 29-28 217.5430431  -2.20681  156.71091\n",
      " NaClv=2    Sodium Chloride 17-16 217.9802149  -2.31227 1128.38157, <Table length=1>\n",
      "Species   ChemicalName   QNs     Freq    log10_Aij    EU_K  \n",
      "  str7       str15       str5  float64    float64   float64 \n",
      "------- --------------- ----- ---------- --------- ---------\n",
      "NaClv=1 Sodium Chloride 17-16 219.614922  -2.30839 614.50884, <Table length=3>\n",
      "Species     ChemicalName     QNs      Freq    log10_Aij    EU_K  \n",
      "  str8         str18         str5   float64    float64   float64 \n",
      "-------- ------------------ ----- ----------- --------- ---------\n",
      "41KClv=1 Potassium chloride 31-30 231.0880933   -2.1226 572.24213\n",
      "41KClv=0 Potassium chloride 31-30 232.4997148  -2.11976 178.66839\n",
      " NaClv=1    Sodium Chloride 18-17   232.50995  -2.23334 625.66754, <Table length=1>\n",
      "Species   ChemicalName   QNs     Freq   log10_Aij    EU_K  \n",
      "  str7       str15       str5  float64   float64   float64 \n",
      "------- --------------- ----- --------- --------- ---------\n",
      "NaClv=0 Sodium Chloride 18-17 234.25183  -2.22932 106.84828], ('IRAS_180891732', '2016.1.01036.S'): [<Table length=2>\n",
      "Species     ChemicalName     QNs      Freq    log10_Aij    EU_K   \n",
      "  str8         str18         str5   float64    float64   float64  \n",
      "-------- ------------------ ----- ----------- --------- ----------\n",
      "41KClv=0 Potassium chloride 29-28 217.5430431  -2.20681  156.71091\n",
      " NaClv=2    Sodium Chloride 17-16 217.9802149  -2.31227 1128.38157, <Table length=1>\n",
      "Species   ChemicalName   QNs     Freq    log10_Aij    EU_K  \n",
      "  str7       str15       str5  float64    float64   float64 \n",
      "------- --------------- ----- ---------- --------- ---------\n",
      "NaClv=1 Sodium Chloride 17-16 219.614922  -2.30839 614.50884, <Table length=3>\n",
      "Species     ChemicalName     QNs      Freq    log10_Aij    EU_K  \n",
      "  str8         str18         str5   float64    float64   float64 \n",
      "-------- ------------------ ----- ----------- --------- ---------\n",
      "41KClv=1 Potassium chloride 31-30 231.0880933   -2.1226 572.24213\n",
      "41KClv=0 Potassium chloride 31-30 232.4997148  -2.11976 178.66839\n",
      " NaClv=1    Sodium Chloride 18-17   232.50995  -2.23334 625.66754, <Table length=1>\n",
      "Species   ChemicalName   QNs     Freq   log10_Aij    EU_K  \n",
      "  str7       str15       str5  float64   float64   float64 \n",
      "------- --------------- ----- --------- --------- ---------\n",
      "NaClv=0 Sodium Chloride 18-17 234.25183  -2.22932 106.84828], ('IRDC_182231243', '2016.1.01036.S'): [<Table length=2>\n",
      "Species     ChemicalName     QNs      Freq    log10_Aij    EU_K   \n",
      "  str8         str18         str5   float64    float64   float64  \n",
      "-------- ------------------ ----- ----------- --------- ----------\n",
      "41KClv=0 Potassium chloride 29-28 217.5430431  -2.20681  156.71091\n",
      " NaClv=2    Sodium Chloride 17-16 217.9802149  -2.31227 1128.38157, <Table length=1>\n",
      "Species   ChemicalName   QNs     Freq    log10_Aij    EU_K  \n",
      "  str7       str15       str5  float64    float64   float64 \n",
      "------- --------------- ----- ---------- --------- ---------\n",
      "NaClv=1 Sodium Chloride 17-16 219.614922  -2.30839 614.50884, <Table length=3>\n",
      "Species     ChemicalName     QNs      Freq    log10_Aij    EU_K  \n",
      "  str8         str18         str5   float64    float64   float64 \n",
      "-------- ------------------ ----- ----------- --------- ---------\n",
      "41KClv=1 Potassium chloride 31-30 231.0880933   -2.1226 572.24213\n",
      "41KClv=0 Potassium chloride 31-30 232.4997148  -2.11976 178.66839\n",
      " NaClv=1    Sodium Chloride 18-17   232.50995  -2.23334 625.66754, <Table length=1>\n",
      "Species   ChemicalName   QNs     Freq   log10_Aij    EU_K  \n",
      "  str7       str15       str5  float64   float64   float64 \n",
      "------- --------------- ----- --------- --------- ---------\n",
      "NaClv=0 Sodium Chloride 18-17 234.25183  -2.22932 106.84828], ('Orion_Source_I', '2016.1.00970.S'): [<Table length=1>\n",
      "Species     ChemicalName      QNs       Freq    log10_Aij    EU_K   \n",
      "  str8         str18          str7    float64    float64   float64  \n",
      "-------- ------------------ ------- ----------- --------- ----------\n",
      "41KClv=1 Potassium chloride 115-114 839.6472865   0.43569 2758.08721, <Table length=3>\n",
      "Species    ChemicalName      QNs       Freq    log10_Aij    EU_K   \n",
      "  str7        str18          str7    float64    float64   float64  \n",
      "------- ------------------ ------- ----------- --------- ----------\n",
      "NaClv=3    Sodium Chloride   67-66 842.2508549   -0.5361 2927.09091\n",
      "NaClv=1    Sodium Chloride   66-65 842.6105982  -0.54711  1882.8011\n",
      " KClv=0 Potassium chloride 112-111 842.7983961  -1.41946 2310.02226, <Table length=3>\n",
      "Species     ChemicalName      QNs       Freq    log10_Aij    EU_K   \n",
      "  str8         str18          str7    float64    float64   float64  \n",
      "-------- ------------------ ------- ----------- --------- ----------\n",
      "41KClv=1 Potassium chloride 117-116 853.5692721   0.41186 2839.68264\n",
      " NaClv=3    Sodium Chloride   68-67 854.4807843   -0.5173 2968.09933\n",
      " NaClv=1    Sodium Chloride   67-66 855.0448005  -0.52797  1923.8366, <Table length=3>\n",
      "Species     ChemicalName      QNs       Freq    log10_Aij    EU_K   \n",
      "  str8         str18          str7    float64    float64   float64  \n",
      "-------- ------------------ ------- ----------- --------- ----------\n",
      " NaClv=4    Sodium Chloride   69-68 860.1743202  -0.50282 3503.37655\n",
      "41KClv=1 Potassium chloride 118-117 860.5170283   0.40198 2880.98069\n",
      " NaClv=2    Sodium Chloride   68-67   860.95109  -0.51322 2469.24058], ('Sgr_B2_DS', '2017.1.00114.S'): [<Table length=2>\n",
      "Species     ChemicalName     QNs      Freq    log10_Aij    EU_K   \n",
      "  str8         str18         str5   float64    float64   float64  \n",
      "-------- ------------------ ----- ----------- --------- ----------\n",
      "41KClv=0 Potassium chloride 29-28 217.5430431  -2.20681  156.71091\n",
      " NaClv=2    Sodium Chloride 17-16 217.9802149  -2.31227 1128.38157, <Table length=1>\n",
      "Species   ChemicalName   QNs     Freq    log10_Aij    EU_K  \n",
      "  str7       str15       str5  float64    float64   float64 \n",
      "------- --------------- ----- ---------- --------- ---------\n",
      "NaClv=1 Sodium Chloride 17-16 219.614922  -2.30839 614.50884, <Table length=2>\n",
      "Species     ChemicalName     QNs      Freq    log10_Aij    EU_K  \n",
      "  str8         str18         str5   float64    float64   float64 \n",
      "-------- ------------------ ----- ----------- --------- ---------\n",
      " NaClv=2    Sodium Chloride 18-17 230.7791504  -2.23734 1139.4571\n",
      "41KClv=1 Potassium chloride 31-30 231.0880933   -2.1226 572.24213, <Table length=2>\n",
      "Species     ChemicalName     QNs      Freq    log10_Aij    EU_K  \n",
      "  str8         str18         str5   float64    float64   float64 \n",
      "-------- ------------------ ----- ----------- --------- ---------\n",
      "41KClv=0 Potassium chloride 31-30 232.4997148  -2.11976 178.66839\n",
      " NaClv=1    Sodium Chloride 18-17   232.50995  -2.23334 625.66754], ('W33A', '2016.1.01036.S'): [<Table length=2>\n",
      "Species     ChemicalName     QNs      Freq    log10_Aij    EU_K   \n",
      "  str8         str18         str5   float64    float64   float64  \n",
      "-------- ------------------ ----- ----------- --------- ----------\n",
      "41KClv=0 Potassium chloride 29-28 217.5430431  -2.20681  156.71091\n",
      " NaClv=2    Sodium Chloride 17-16 217.9802149  -2.31227 1128.38157, <Table length=1>\n",
      "Species   ChemicalName   QNs     Freq    log10_Aij    EU_K  \n",
      "  str7       str15       str5  float64    float64   float64 \n",
      "------- --------------- ----- ---------- --------- ---------\n",
      "NaClv=1 Sodium Chloride 17-16 219.614922  -2.30839 614.50884, <Table length=3>\n",
      "Species     ChemicalName     QNs      Freq    log10_Aij    EU_K  \n",
      "  str8         str18         str5   float64    float64   float64 \n",
      "-------- ------------------ ----- ----------- --------- ---------\n",
      "41KClv=1 Potassium chloride 31-30 231.0880933   -2.1226 572.24213\n",
      "41KClv=0 Potassium chloride 31-30 232.4997148  -2.11976 178.66839\n",
      " NaClv=1    Sodium Chloride 18-17   232.50995  -2.23334 625.66754, <Table length=1>\n",
      "Species   ChemicalName   QNs     Freq   log10_Aij    EU_K  \n",
      "  str7       str15       str5  float64   float64   float64 \n",
      "------- --------------- ----- --------- --------- ---------\n",
      "NaClv=0 Sodium Chloride 18-17 234.25183  -2.22932 106.84828], ('G11.1-0.12', '2016.1.01036.S'): [<Table length=2>\n",
      "Species     ChemicalName     QNs      Freq    log10_Aij    EU_K   \n",
      "  str8         str18         str5   float64    float64   float64  \n",
      "-------- ------------------ ----- ----------- --------- ----------\n",
      "41KClv=0 Potassium chloride 29-28 217.5430431  -2.20681  156.71091\n",
      " NaClv=2    Sodium Chloride 17-16 217.9802149  -2.31227 1128.38157, <Table length=1>\n",
      "Species   ChemicalName   QNs     Freq    log10_Aij    EU_K  \n",
      "  str7       str15       str5  float64    float64   float64 \n",
      "------- --------------- ----- ---------- --------- ---------\n",
      "NaClv=1 Sodium Chloride 17-16 219.614922  -2.30839 614.50884, <Table length=3>\n",
      "Species     ChemicalName     QNs      Freq    log10_Aij    EU_K  \n",
      "  str8         str18         str5   float64    float64   float64 \n",
      "-------- ------------------ ----- ----------- --------- ---------\n",
      "41KClv=1 Potassium chloride 31-30 231.0880933   -2.1226 572.24213\n",
      "41KClv=0 Potassium chloride 31-30 232.4997148  -2.11976 178.66839\n",
      " NaClv=1    Sodium Chloride 18-17   232.50995  -2.23334 625.66754, <Table length=1>\n",
      "Species   ChemicalName   QNs     Freq   log10_Aij    EU_K  \n",
      "  str7       str15       str5  float64   float64   float64 \n",
      "------- --------------- ----- --------- --------- ---------\n",
      "NaClv=0 Sodium Chloride 18-17 234.25183  -2.22932 106.84828], ('G5.89-0.37', '2016.1.01036.S'): [<Table length=2>\n",
      "Species     ChemicalName     QNs      Freq    log10_Aij    EU_K   \n",
      "  str8         str18         str5   float64    float64   float64  \n",
      "-------- ------------------ ----- ----------- --------- ----------\n",
      "41KClv=0 Potassium chloride 29-28 217.5430431  -2.20681  156.71091\n",
      " NaClv=2    Sodium Chloride 17-16 217.9802149  -2.31227 1128.38157, <Table length=1>\n",
      "Species   ChemicalName   QNs     Freq    log10_Aij    EU_K  \n",
      "  str7       str15       str5  float64    float64   float64 \n",
      "------- --------------- ----- ---------- --------- ---------\n",
      "NaClv=1 Sodium Chloride 17-16 219.614922  -2.30839 614.50884, <Table length=3>\n",
      "Species     ChemicalName     QNs      Freq    log10_Aij    EU_K  \n",
      "  str8         str18         str5   float64    float64   float64 \n",
      "-------- ------------------ ----- ----------- --------- ---------\n",
      "41KClv=1 Potassium chloride 31-30 231.0880933   -2.1226 572.24213\n",
      "41KClv=0 Potassium chloride 31-30 232.4997148  -2.11976 178.66839\n",
      " NaClv=1    Sodium Chloride 18-17   232.50995  -2.23334 625.66754, <Table length=1>\n",
      "Species   ChemicalName   QNs     Freq   log10_Aij    EU_K  \n",
      "  str7       str15       str5  float64   float64   float64 \n",
      "------- --------------- ----- --------- --------- ---------\n",
      "NaClv=0 Sodium Chloride 18-17 234.25183  -2.22932 106.84828], ('G35.20-0.74_N', '2016.1.01036.S'): [<Table length=2>\n",
      "Species     ChemicalName     QNs      Freq    log10_Aij    EU_K   \n",
      "  str8         str18         str5   float64    float64   float64  \n",
      "-------- ------------------ ----- ----------- --------- ----------\n",
      "41KClv=0 Potassium chloride 29-28 217.5430431  -2.20681  156.71091\n",
      " NaClv=2    Sodium Chloride 17-16 217.9802149  -2.31227 1128.38157, <Table length=1>\n",
      "Species   ChemicalName   QNs     Freq    log10_Aij    EU_K  \n",
      "  str7       str15       str5  float64    float64   float64 \n",
      "------- --------------- ----- ---------- --------- ---------\n",
      "NaClv=1 Sodium Chloride 17-16 219.614922  -2.30839 614.50884, <Table length=3>\n",
      "Species     ChemicalName     QNs      Freq    log10_Aij    EU_K  \n",
      "  str8         str18         str5   float64    float64   float64 \n",
      "-------- ------------------ ----- ----------- --------- ---------\n",
      "41KClv=1 Potassium chloride 31-30 231.0880933   -2.1226 572.24213\n",
      "41KClv=0 Potassium chloride 31-30 232.4997148  -2.11976 178.66839\n",
      " NaClv=1    Sodium Chloride 18-17   232.50995  -2.23334 625.66754, <Table length=1>\n",
      "Species   ChemicalName   QNs     Freq   log10_Aij    EU_K  \n",
      "  str7       str15       str5  float64   float64   float64 \n",
      "------- --------------- ----- --------- --------- ---------\n",
      "NaClv=0 Sodium Chloride 18-17 234.25183  -2.22932 106.84828], ('G29.96-0.02', '2016.1.01036.S'): [<Table length=2>\n",
      "Species     ChemicalName     QNs      Freq    log10_Aij    EU_K   \n",
      "  str8         str18         str5   float64    float64   float64  \n",
      "-------- ------------------ ----- ----------- --------- ----------\n",
      "41KClv=0 Potassium chloride 29-28 217.5430431  -2.20681  156.71091\n",
      " NaClv=2    Sodium Chloride 17-16 217.9802149  -2.31227 1128.38157, <Table length=1>\n",
      "Species   ChemicalName   QNs     Freq    log10_Aij    EU_K  \n",
      "  str7       str15       str5  float64    float64   float64 \n",
      "------- --------------- ----- ---------- --------- ---------\n",
      "NaClv=1 Sodium Chloride 17-16 219.614922  -2.30839 614.50884, <Table length=3>\n",
      "Species     ChemicalName     QNs      Freq    log10_Aij    EU_K  \n",
      "  str8         str18         str5   float64    float64   float64 \n",
      "-------- ------------------ ----- ----------- --------- ---------\n",
      "41KClv=1 Potassium chloride 31-30 231.0880933   -2.1226 572.24213\n",
      "41KClv=0 Potassium chloride 31-30 232.4997148  -2.11976 178.66839\n",
      " NaClv=1    Sodium Chloride 18-17   232.50995  -2.23334 625.66754, <Table length=1>\n",
      "Species   ChemicalName   QNs     Freq   log10_Aij    EU_K  \n",
      "  str7       str15       str5  float64   float64   float64 \n",
      "------- --------------- ----- --------- --------- ---------\n",
      "NaClv=0 Sodium Chloride 18-17 234.25183  -2.22932 106.84828], ('G333.23-0.06', '2016.1.01036.S'): [<Table length=2>\n",
      "Species     ChemicalName     QNs      Freq    log10_Aij    EU_K   \n",
      "  str8         str18         str5   float64    float64   float64  \n",
      "-------- ------------------ ----- ----------- --------- ----------\n",
      "41KClv=0 Potassium chloride 29-28 217.5430431  -2.20681  156.71091\n",
      " NaClv=2    Sodium Chloride 17-16 217.9802149  -2.31227 1128.38157, <Table length=1>\n",
      "Species   ChemicalName   QNs     Freq    log10_Aij    EU_K  \n",
      "  str7       str15       str5  float64    float64   float64 \n",
      "------- --------------- ----- ---------- --------- ---------\n",
      "NaClv=1 Sodium Chloride 17-16 219.614922  -2.30839 614.50884, <Table length=3>\n",
      "Species     ChemicalName     QNs      Freq    log10_Aij    EU_K  \n",
      "  str8         str18         str5   float64    float64   float64 \n",
      "-------- ------------------ ----- ----------- --------- ---------\n",
      "41KClv=1 Potassium chloride 31-30 231.0880933   -2.1226 572.24213\n",
      "41KClv=0 Potassium chloride 31-30 232.4997148  -2.11976 178.66839\n",
      " NaClv=1    Sodium Chloride 18-17   232.50995  -2.23334 625.66754, <Table length=1>\n",
      "Species   ChemicalName   QNs     Freq   log10_Aij    EU_K  \n",
      "  str7       str15       str5  float64   float64   float64 \n",
      "------- --------------- ----- --------- --------- ---------\n",
      "NaClv=0 Sodium Chloride 18-17 234.25183  -2.22932 106.84828], ('IRAS_18182-1433', '2016.1.01036.S'): [<Table length=2>\n",
      "Species     ChemicalName     QNs      Freq    log10_Aij    EU_K   \n",
      "  str8         str18         str5   float64    float64   float64  \n",
      "-------- ------------------ ----- ----------- --------- ----------\n",
      "41KClv=0 Potassium chloride 29-28 217.5430431  -2.20681  156.71091\n",
      " NaClv=2    Sodium Chloride 17-16 217.9802149  -2.31227 1128.38157, <Table length=1>\n",
      "Species   ChemicalName   QNs     Freq    log10_Aij    EU_K  \n",
      "  str7       str15       str5  float64    float64   float64 \n",
      "------- --------------- ----- ---------- --------- ---------\n",
      "NaClv=1 Sodium Chloride 17-16 219.614922  -2.30839 614.50884, <Table length=3>\n",
      "Species     ChemicalName     QNs      Freq    log10_Aij    EU_K  \n",
      "  str8         str18         str5   float64    float64   float64 \n",
      "-------- ------------------ ----- ----------- --------- ---------\n",
      "41KClv=1 Potassium chloride 31-30 231.0880933   -2.1226 572.24213\n",
      "41KClv=0 Potassium chloride 31-30 232.4997148  -2.11976 178.66839\n",
      " NaClv=1    Sodium Chloride 18-17   232.50995  -2.23334 625.66754, <Table length=1>\n",
      "Species   ChemicalName   QNs     Freq   log10_Aij    EU_K  \n",
      "  str7       str15       str5  float64   float64   float64 \n",
      "------- --------------- ----- --------- --------- ---------\n",
      "NaClv=0 Sodium Chloride 18-17 234.25183  -2.22932 106.84828], ('IRAS_181511208', '2016.1.01036.S'): [<Table length=2>\n",
      "Species     ChemicalName     QNs      Freq    log10_Aij    EU_K   \n",
      "  str8         str18         str5   float64    float64   float64  \n",
      "-------- ------------------ ----- ----------- --------- ----------\n",
      "41KClv=0 Potassium chloride 29-28 217.5430431  -2.20681  156.71091\n",
      " NaClv=2    Sodium Chloride 17-16 217.9802149  -2.31227 1128.38157, <Table length=1>\n",
      "Species   ChemicalName   QNs     Freq    log10_Aij    EU_K  \n",
      "  str7       str15       str5  float64    float64   float64 \n",
      "------- --------------- ----- ---------- --------- ---------\n",
      "NaClv=1 Sodium Chloride 17-16 219.614922  -2.30839 614.50884, <Table length=3>\n",
      "Species     ChemicalName     QNs      Freq    log10_Aij    EU_K  \n",
      "  str8         str18         str5   float64    float64   float64 \n",
      "-------- ------------------ ----- ----------- --------- ---------\n",
      "41KClv=1 Potassium chloride 31-30 231.0880933   -2.1226 572.24213\n",
      "41KClv=0 Potassium chloride 31-30 232.4997148  -2.11976 178.66839\n",
      " NaClv=1    Sodium Chloride 18-17   232.50995  -2.23334 625.66754, <Table length=1>\n",
      "Species   ChemicalName   QNs     Freq   log10_Aij    EU_K  \n",
      "  str7       str15       str5  float64   float64   float64 \n",
      "------- --------------- ----- --------- --------- ---------\n",
      "NaClv=0 Sodium Chloride 18-17 234.25183  -2.22932 106.84828], ('G335.579-0.272', '2016.1.01036.S'): [<Table length=2>\n",
      "Species     ChemicalName     QNs      Freq    log10_Aij    EU_K   \n",
      "  str8         str18         str5   float64    float64   float64  \n",
      "-------- ------------------ ----- ----------- --------- ----------\n",
      "41KClv=0 Potassium chloride 29-28 217.5430431  -2.20681  156.71091\n",
      " NaClv=2    Sodium Chloride 17-16 217.9802149  -2.31227 1128.38157, <Table length=1>\n",
      "Species   ChemicalName   QNs     Freq    log10_Aij    EU_K  \n",
      "  str7       str15       str5  float64    float64   float64 \n",
      "------- --------------- ----- ---------- --------- ---------\n",
      "NaClv=1 Sodium Chloride 17-16 219.614922  -2.30839 614.50884, <Table length=3>\n",
      "Species     ChemicalName     QNs      Freq    log10_Aij    EU_K  \n",
      "  str8         str18         str5   float64    float64   float64 \n",
      "-------- ------------------ ----- ----------- --------- ---------\n",
      "41KClv=1 Potassium chloride 31-30 231.0880933   -2.1226 572.24213\n",
      "41KClv=0 Potassium chloride 31-30 232.4997148  -2.11976 178.66839\n",
      " NaClv=1    Sodium Chloride 18-17   232.50995  -2.23334 625.66754, <Table length=1>\n",
      "Species   ChemicalName   QNs     Freq   log10_Aij    EU_K  \n",
      "  str7       str15       str5  float64   float64   float64 \n",
      "------- --------------- ----- --------- --------- ---------\n",
      "NaClv=0 Sodium Chloride 18-17 234.25183  -2.22932 106.84828], ('G11.92-0.61', '2016.1.01036.S'): [<Table length=2>\n",
      "Species     ChemicalName     QNs      Freq    log10_Aij    EU_K   \n",
      "  str8         str18         str5   float64    float64   float64  \n",
      "-------- ------------------ ----- ----------- --------- ----------\n",
      "41KClv=0 Potassium chloride 29-28 217.5430431  -2.20681  156.71091\n",
      " NaClv=2    Sodium Chloride 17-16 217.9802149  -2.31227 1128.38157, <Table length=1>\n",
      "Species   ChemicalName   QNs     Freq    log10_Aij    EU_K  \n",
      "  str7       str15       str5  float64    float64   float64 \n",
      "------- --------------- ----- ---------- --------- ---------\n",
      "NaClv=1 Sodium Chloride 17-16 219.614922  -2.30839 614.50884, <Table length=3>\n",
      "Species     ChemicalName     QNs      Freq    log10_Aij    EU_K  \n",
      "  str8         str18         str5   float64    float64   float64 \n",
      "-------- ------------------ ----- ----------- --------- ---------\n",
      "41KClv=1 Potassium chloride 31-30 231.0880933   -2.1226 572.24213\n",
      "41KClv=0 Potassium chloride 31-30 232.4997148  -2.11976 178.66839\n",
      " NaClv=1    Sodium Chloride 18-17   232.50995  -2.23334 625.66754, <Table length=1>\n",
      "Species   ChemicalName   QNs     Freq   log10_Aij    EU_K  \n",
      "  str7       str15       str5  float64   float64   float64 \n",
      "------- --------------- ----- --------- --------- ---------\n",
      "NaClv=0 Sodium Chloride 18-17 234.25183  -2.22932 106.84828], ('W33A', '2016.1.01197.S'): [<Table length=1>\n",
      "Species   ChemicalName   QNs      Freq    log10_Aij    EU_K  \n",
      "  str7       str15       str5   float64    float64   float64 \n",
      "------- --------------- ----- ----------- --------- ---------\n",
      "NaClv=1 Sodium Chloride 26-25 335.5065502  -1.75191 737.19038, <Table length=2>\n",
      "Species     ChemicalName     QNs      Freq    log10_Aij    EU_K  \n",
      "  str8         str18         str5   float64    float64   float64 \n",
      "-------- ------------------ ----- ----------- --------- ---------\n",
      "41KClv=0 Potassium chloride 45-44 336.9035021  -1.63434 372.49288\n",
      "  KClv=0 Potassium chloride 44-43 337.2088966  -1.78413 364.71229], ('G31.41+0.31', '2018.1.00632.S'): [<Table length=5>\n",
      "Species     ChemicalName     QNs     Freq    log10_Aij    EU_K   \n",
      "  str8         str18         str5  float64    float64   float64  \n",
      "-------- ------------------ ----- ---------- --------- ----------\n",
      "41KClv=1 Potassium chloride 12-11 89.5754501  -3.36817  422.60379\n",
      " NaClv=2    Sodium Chloride   7-6 89.8190369  -3.48486 1051.43579\n",
      "41KClv=0 Potassium chloride 12-11 90.1218802  -3.36523   28.11648\n",
      " NaClv=1    Sodium Chloride   7-6 90.4922954  -3.48088   536.9863\n",
      " NaClv=0    Sodium Chloride   7-6 91.1698754  -3.47689   17.50276, <Table length=2>\n",
      "Species    ChemicalName     QNs     Freq    log10_Aij    EU_K  \n",
      "  str6        str18         str5  float64    float64   float64 \n",
      "------- ------------------ ----- ---------- --------- ---------\n",
      " KClv=1 Potassium chloride 12-11 91.6806299  -3.52125 301.20537\n",
      " KClv=0 Potassium chloride 12-11 92.2465046  -3.34542  28.77942, <Table length=3>\n",
      "Species   ChemicalName  QNs      Freq    log10_Aij    EU_K   \n",
      "  str7       str15      str3   float64    float64   float64  \n",
      "------- --------------- ---- ----------- --------- ----------\n",
      "NaClv=3 Sodium Chloride  8-7 101.8813765   -3.3112 1565.79207\n",
      "NaClv=2 Sodium Chloride  8-7 102.6458653  -3.30726 1056.36208\n",
      "NaClv=1 Sodium Chloride  8-7 103.4152933  -3.30333  541.94943, <Table length=3>\n",
      "Species     ChemicalName     QNs      Freq    log10_Aij    EU_K  \n",
      "  str8         str18         str5   float64    float64   float64 \n",
      "-------- ------------------ ----- ----------- --------- ---------\n",
      " NaClv=0    Sodium Chloride   8-7   104.18974  -3.29939  22.50305\n",
      "41KClv=1 Potassium chloride 14-13 104.4956349  -3.16494 432.27574\n",
      "41KClv=0 Potassium chloride 14-13 105.1331371  -3.16201  37.84748], ('G24.78+0.08', '2018.1.00745.S'): [<Table length=2>\n",
      "Species     ChemicalName     QNs      Freq    log10_Aij    EU_K   \n",
      "  str8         str18         str5   float64    float64   float64  \n",
      "-------- ------------------ ----- ----------- --------- ----------\n",
      "41KClv=0 Potassium chloride 29-28 217.5430431  -2.20681  156.71091\n",
      " NaClv=2    Sodium Chloride 17-16 217.9802149  -2.31227 1128.38157, <Table length=1>\n",
      "Species   ChemicalName   QNs     Freq    log10_Aij    EU_K  \n",
      "  str7       str15       str5  float64    float64   float64 \n",
      "------- --------------- ----- ---------- --------- ---------\n",
      "NaClv=1 Sodium Chloride 17-16 219.614922  -2.30839 614.50884, <Table length=2>\n",
      "Species    ChemicalName     QNs      Freq    log10_Aij    EU_K  \n",
      "  str7        str18         str5   float64    float64   float64 \n",
      "------- ------------------ ----- ----------- --------- ---------\n",
      "NaClv=0    Sodium Chloride 17-16   221.26015  -2.30439   95.6061\n",
      " KClv=1 Potassium chloride 29-28 221.2979777  -2.41676 394.75692], ('W33A', '2017.1.00261.S'): [<Table length=1>\n",
      "Species     ChemicalName     QNs      Freq    log10_Aij    EU_K  \n",
      "  str8         str18         str5   float64    float64   float64 \n",
      "-------- ------------------ ----- ----------- --------- ---------\n",
      "41KClv=0 Potassium chloride 30-29 225.0224994  -2.16253 167.51014, <Table length=1>\n",
      "Species    ChemicalName     QNs      Freq    log10_Aij    EU_K  \n",
      "  str6        str18         str5   float64    float64   float64 \n",
      "------- ------------------ ----- ----------- --------- ---------\n",
      " KClv=1 Potassium chloride 31-30 236.5114104  -2.33902 410.63123, <Table length=1>\n",
      "Species     ChemicalName     QNs     Freq    log10_Aij    EU_K  \n",
      "  str8         str18         str5  float64    float64   float64 \n",
      "-------- ------------------ ----- ---------- --------- ---------\n",
      "41KClv=1 Potassium chloride 32-31 238.517456  -2.08112 583.68915], ('IRAS_181622048', '2016.1.01036.S'): [<Table length=2>\n",
      "Species     ChemicalName     QNs      Freq    log10_Aij    EU_K   \n",
      "  str8         str18         str5   float64    float64   float64  \n",
      "-------- ------------------ ----- ----------- --------- ----------\n",
      "41KClv=0 Potassium chloride 29-28 217.5430431  -2.20681  156.71091\n",
      " NaClv=2    Sodium Chloride 17-16 217.9802149  -2.31227 1128.38157, <Table length=1>\n",
      "Species   ChemicalName   QNs     Freq    log10_Aij    EU_K  \n",
      "  str7       str15       str5  float64    float64   float64 \n",
      "------- --------------- ----- ---------- --------- ---------\n",
      "NaClv=1 Sodium Chloride 17-16 219.614922  -2.30839 614.50884, <Table length=3>\n",
      "Species     ChemicalName     QNs      Freq    log10_Aij    EU_K  \n",
      "  str8         str18         str5   float64    float64   float64 \n",
      "-------- ------------------ ----- ----------- --------- ---------\n",
      "41KClv=1 Potassium chloride 31-30 231.0880933   -2.1226 572.24213\n",
      "41KClv=0 Potassium chloride 31-30 232.4997148  -2.11976 178.66839\n",
      " NaClv=1    Sodium Chloride 18-17   232.50995  -2.23334 625.66754, <Table length=1>\n",
      "Species   ChemicalName   QNs     Freq   log10_Aij    EU_K  \n",
      "  str7       str15       str5  float64   float64   float64 \n",
      "------- --------------- ----- --------- --------- ---------\n",
      "NaClv=0 Sodium Chloride 18-17 234.25183  -2.22932 106.84828], ('NGC_6334_I_N', '2016.1.01036.S'): [<Table length=2>\n",
      "Species     ChemicalName     QNs      Freq    log10_Aij    EU_K   \n",
      "  str8         str18         str5   float64    float64   float64  \n",
      "-------- ------------------ ----- ----------- --------- ----------\n",
      "41KClv=0 Potassium chloride 29-28 217.5430431  -2.20681  156.71091\n",
      " NaClv=2    Sodium Chloride 17-16 217.9802149  -2.31227 1128.38157, <Table length=1>\n",
      "Species   ChemicalName   QNs     Freq    log10_Aij    EU_K  \n",
      "  str7       str15       str5  float64    float64   float64 \n",
      "------- --------------- ----- ---------- --------- ---------\n",
      "NaClv=1 Sodium Chloride 17-16 219.614922  -2.30839 614.50884, <Table length=3>\n",
      "Species     ChemicalName     QNs      Freq    log10_Aij    EU_K  \n",
      "  str8         str18         str5   float64    float64   float64 \n",
      "-------- ------------------ ----- ----------- --------- ---------\n",
      "41KClv=1 Potassium chloride 31-30 231.0880933   -2.1226 572.24213\n",
      "41KClv=0 Potassium chloride 31-30 232.4997148  -2.11976 178.66839\n",
      " NaClv=1    Sodium Chloride 18-17   232.50995  -2.23334 625.66754, <Table length=1>\n",
      "Species   ChemicalName   QNs     Freq   log10_Aij    EU_K  \n",
      "  str7       str15       str5  float64   float64   float64 \n",
      "------- --------------- ----- --------- --------- ---------\n",
      "NaClv=0 Sodium Chloride 18-17 234.25183  -2.22932 106.84828], ('Cl_star_NGC6618_B268', '2019.1.00910.S'): [<Table length=2>\n",
      "Species     ChemicalName     QNs      Freq    log10_Aij    EU_K   \n",
      "  str8         str18         str5   float64    float64   float64  \n",
      "-------- ------------------ ----- ----------- --------- ----------\n",
      "41KClv=1 Potassium chloride 29-28 216.2224953  -2.20966  550.41794\n",
      " NaClv=3    Sodium Chloride 17-16 216.3560118  -2.31626 1637.27494, <Table length=1>\n",
      "Species   ChemicalName   QNs     Freq    log10_Aij    EU_K  \n",
      "  str7       str15       str5  float64    float64   float64 \n",
      "------- --------------- ----- ---------- --------- ---------\n",
      "NaClv=1 Sodium Chloride 17-16 219.614922  -2.30839 614.50884, <Table length=1>\n",
      "Species   ChemicalName   QNs     Freq   log10_Aij    EU_K  \n",
      "  str7       str15       str5  float64   float64   float64 \n",
      "------- --------------- ----- --------- --------- ---------\n",
      "NaClv=0 Sodium Chloride 18-17 234.25183  -2.22932 106.84828], ('S255_IR', '2019.1.00315.S'): [<Table length=3>\n",
      "Species     ChemicalName     QNs      Freq    log10_Aij    EU_K  \n",
      "  str8         str18         str5   float64    float64   float64 \n",
      "-------- ------------------ ----- ----------- --------- ---------\n",
      "41KClv=1 Potassium chloride 45-44 334.8543603  -1.63717 764.88875\n",
      "  KClv=1 Potassium chloride 44-43  335.133995  -1.95904 538.71388\n",
      " NaClv=1    Sodium Chloride 26-25 335.5065502  -1.75191 737.19038, <Table length=2>\n",
      "Species     ChemicalName     QNs      Freq    log10_Aij    EU_K  \n",
      "  str8         str18         str5   float64    float64   float64 \n",
      "-------- ------------------ ----- ----------- --------- ---------\n",
      "41KClv=0 Potassium chloride 45-44 336.9035021  -1.63434 372.49288\n",
      "  KClv=0 Potassium chloride 44-43 337.2088966  -1.78413 364.71229, <Table length=1>\n",
      "Species   ChemicalName   QNs      Freq    log10_Aij    EU_K   \n",
      "  str7       str15       str5   float64    float64   float64  \n",
      "------- --------------- ----- ----------- --------- ----------\n",
      "NaClv=2 Sodium Chloride 27-26 345.7620205  -1.70658 1266.74326, <Table length=1>\n",
      "Species   ChemicalName   QNs      Freq    log10_Aij    EU_K  \n",
      "  str7       str15       str5   float64    float64   float64 \n",
      "------- --------------- ----- ----------- --------- ---------\n",
      "NaClv=1 Sodium Chloride 27-26 348.3572992  -1.70262 753.90881], ('c20kms_c4', '2018.1.00641.S'): [<Table length=2>\n",
      "Species     ChemicalName     QNs      Freq    log10_Aij    EU_K   \n",
      "  str8         str18         str5   float64    float64   float64  \n",
      "-------- ------------------ ----- ----------- --------- ----------\n",
      "41KClv=0 Potassium chloride 29-28 217.5430431  -2.20681  156.71091\n",
      " NaClv=2    Sodium Chloride 17-16 217.9802149  -2.31227 1128.38157, <Table length=2>\n",
      "Species     ChemicalName     QNs      Freq    log10_Aij    EU_K  \n",
      "  str8         str18         str5   float64    float64   float64 \n",
      "-------- ------------------ ----- ----------- --------- ---------\n",
      "41KClv=0 Potassium chloride 31-30 232.4997148  -2.11976 178.66839\n",
      " NaClv=1    Sodium Chloride 18-17   232.50995  -2.23334 625.66754, <Table length=1>\n",
      "Species   ChemicalName   QNs     Freq   log10_Aij    EU_K  \n",
      "  str7       str15       str5  float64   float64   float64 \n",
      "------- --------------- ----- --------- --------- ---------\n",
      "NaClv=0 Sodium Chloride 18-17 234.25183  -2.22932 106.84828], ('c20kms_c1', '2018.1.00641.S'): [<Table length=2>\n",
      "Species     ChemicalName     QNs      Freq    log10_Aij    EU_K   \n",
      "  str8         str18         str5   float64    float64   float64  \n",
      "-------- ------------------ ----- ----------- --------- ----------\n",
      "41KClv=0 Potassium chloride 29-28 217.5430431  -2.20681  156.71091\n",
      " NaClv=2    Sodium Chloride 17-16 217.9802149  -2.31227 1128.38157, <Table length=2>\n",
      "Species     ChemicalName     QNs      Freq    log10_Aij    EU_K  \n",
      "  str8         str18         str5   float64    float64   float64 \n",
      "-------- ------------------ ----- ----------- --------- ---------\n",
      "41KClv=0 Potassium chloride 31-30 232.4997148  -2.11976 178.66839\n",
      " NaClv=1    Sodium Chloride 18-17   232.50995  -2.23334 625.66754, <Table length=1>\n",
      "Species   ChemicalName   QNs     Freq   log10_Aij    EU_K  \n",
      "  str7       str15       str5  float64   float64   float64 \n",
      "------- --------------- ----- --------- --------- ---------\n",
      "NaClv=0 Sodium Chloride 18-17 234.25183  -2.22932 106.84828], ('sgrc', '2018.1.00641.S'): [<Table length=2>\n",
      "Species     ChemicalName     QNs      Freq    log10_Aij    EU_K   \n",
      "  str8         str18         str5   float64    float64   float64  \n",
      "-------- ------------------ ----- ----------- --------- ----------\n",
      "41KClv=0 Potassium chloride 29-28 217.5430431  -2.20681  156.71091\n",
      " NaClv=2    Sodium Chloride 17-16 217.9802149  -2.31227 1128.38157, <Table length=2>\n",
      "Species     ChemicalName     QNs      Freq    log10_Aij    EU_K  \n",
      "  str8         str18         str5   float64    float64   float64 \n",
      "-------- ------------------ ----- ----------- --------- ---------\n",
      "41KClv=0 Potassium chloride 31-30 232.4997148  -2.11976 178.66839\n",
      " NaClv=1    Sodium Chloride 18-17   232.50995  -2.23334 625.66754, <Table length=1>\n",
      "Species   ChemicalName   QNs     Freq   log10_Aij    EU_K  \n",
      "  str7       str15       str5  float64   float64   float64 \n",
      "------- --------------- ----- --------- --------- ---------\n",
      "NaClv=0 Sodium Chloride 18-17 234.25183  -2.22932 106.84828], ('G358.93', '2018.A.00031.T'): [], ('G339.88-1.26', '2019.1.00517.S'): [<Table length=1>\n",
      "Species   ChemicalName   QNs      Freq    log10_Aij    EU_K   \n",
      "  str7       str15       str5   float64    float64   float64  \n",
      "------- --------------- ----- ----------- --------- ----------\n",
      "NaClv=2 Sodium Chloride 20-19 256.3647476  -2.09912 1163.45036, <Table length=1>\n",
      "Species   ChemicalName   QNs      Freq    log10_Aij    EU_K  \n",
      "  str7       str15       str5   float64    float64   float64 \n",
      "------- --------------- ----- ----------- --------- ---------\n",
      "NaClv=1 Sodium Chloride 20-19 258.2877419  -2.09516 649.84066, <Table length=2>\n",
      "Species     ChemicalName     QNs      Freq    log10_Aij    EU_K  \n",
      "  str8         str18         str5   float64    float64   float64 \n",
      "-------- ------------------ ----- ----------- --------- ---------\n",
      " NaClv=0    Sodium Chloride 20-19 260.2231114   -2.0912 131.20262\n",
      "41KClv=1 Potassium chloride 35-34 260.7909009  -1.96426 620.16821], ('IRAS_165623959', '2016.1.01036.S'): [<Table length=2>\n",
      "Species     ChemicalName     QNs      Freq    log10_Aij    EU_K   \n",
      "  str8         str18         str5   float64    float64   float64  \n",
      "-------- ------------------ ----- ----------- --------- ----------\n",
      "41KClv=0 Potassium chloride 29-28 217.5430431  -2.20681  156.71091\n",
      " NaClv=2    Sodium Chloride 17-16 217.9802149  -2.31227 1128.38157, <Table length=1>\n",
      "Species   ChemicalName   QNs     Freq    log10_Aij    EU_K  \n",
      "  str7       str15       str5  float64    float64   float64 \n",
      "------- --------------- ----- ---------- --------- ---------\n",
      "NaClv=1 Sodium Chloride 17-16 219.614922  -2.30839 614.50884, <Table length=3>\n",
      "Species     ChemicalName     QNs      Freq    log10_Aij    EU_K  \n",
      "  str8         str18         str5   float64    float64   float64 \n",
      "-------- ------------------ ----- ----------- --------- ---------\n",
      "41KClv=1 Potassium chloride 31-30 231.0880933   -2.1226 572.24213\n",
      "41KClv=0 Potassium chloride 31-30 232.4997148  -2.11976 178.66839\n",
      " NaClv=1    Sodium Chloride 18-17   232.50995  -2.23334 625.66754, <Table length=1>\n",
      "Species   ChemicalName   QNs     Freq   log10_Aij    EU_K  \n",
      "  str7       str15       str5  float64   float64   float64 \n",
      "------- --------------- ----- --------- --------- ---------\n",
      "NaClv=0 Sodium Chloride 18-17 234.25183  -2.22932 106.84828], ('NGC6334I', '2016.1.01036.S'): [<Table length=2>\n",
      "Species     ChemicalName     QNs      Freq    log10_Aij    EU_K   \n",
      "  str8         str18         str5   float64    float64   float64  \n",
      "-------- ------------------ ----- ----------- --------- ----------\n",
      "41KClv=0 Potassium chloride 29-28 217.5430431  -2.20681  156.71091\n",
      " NaClv=2    Sodium Chloride 17-16 217.9802149  -2.31227 1128.38157, <Table length=1>\n",
      "Species   ChemicalName   QNs     Freq    log10_Aij    EU_K  \n",
      "  str7       str15       str5  float64    float64   float64 \n",
      "------- --------------- ----- ---------- --------- ---------\n",
      "NaClv=1 Sodium Chloride 17-16 219.614922  -2.30839 614.50884, <Table length=3>\n",
      "Species     ChemicalName     QNs      Freq    log10_Aij    EU_K  \n",
      "  str8         str18         str5   float64    float64   float64 \n",
      "-------- ------------------ ----- ----------- --------- ---------\n",
      "41KClv=1 Potassium chloride 31-30 231.0880933   -2.1226 572.24213\n",
      "41KClv=0 Potassium chloride 31-30 232.4997148  -2.11976 178.66839\n",
      " NaClv=1    Sodium Chloride 18-17   232.50995  -2.23334 625.66754, <Table length=1>\n",
      "Species   ChemicalName   QNs     Freq   log10_Aij    EU_K  \n",
      "  str7       str15       str5  float64   float64   float64 \n",
      "------- --------------- ----- --------- --------- ---------\n",
      "NaClv=0 Sodium Chloride 18-17 234.25183  -2.22932 106.84828], ('sgr_b2m', '2016.1.00550.S'): [<Table length=1>\n",
      "Species    ChemicalName     QNs     Freq    log10_Aij   EU_K  \n",
      "  str6        str18         str5  float64    float64  float64 \n",
      "------- ------------------ ----- ---------- --------- --------\n",
      " KClv=0 Potassium chloride 11-10 84.5625936  -3.45856 24.35232, <Table length=2>\n",
      "Species     ChemicalName     QNs     Freq    log10_Aij    EU_K  \n",
      "  str8         str18         str5  float64    float64   float64 \n",
      "-------- ------------------ ----- ---------- --------- ---------\n",
      "41KClv=1 Potassium chloride 13-12 97.0360277  -3.26257 427.26073\n",
      "41KClv=0 Potassium chloride 13-12 97.6279938  -3.25969  32.80194, <Table length=2>\n",
      "Species    ChemicalName     QNs    Freq   log10_Aij    EU_K  \n",
      "  str6        str18         str5 float64   float64   float64 \n",
      "------- ------------------ ----- -------- --------- ---------\n",
      " KClv=1 Potassium chloride 13-12 99.31644   -3.4176 304.65588\n",
      " KClv=0 Potassium chloride 13-12 99.92954  -3.24184  33.57524], ('IRAS_165474247', '2016.1.01036.S'): [<Table length=2>\n",
      "Species     ChemicalName     QNs      Freq    log10_Aij    EU_K   \n",
      "  str8         str18         str5   float64    float64   float64  \n",
      "-------- ------------------ ----- ----------- --------- ----------\n",
      "41KClv=0 Potassium chloride 29-28 217.5430431  -2.20681  156.71091\n",
      " NaClv=2    Sodium Chloride 17-16 217.9802149  -2.31227 1128.38157, <Table length=1>\n",
      "Species   ChemicalName   QNs     Freq    log10_Aij    EU_K  \n",
      "  str7       str15       str5  float64    float64   float64 \n",
      "------- --------------- ----- ---------- --------- ---------\n",
      "NaClv=1 Sodium Chloride 17-16 219.614922  -2.30839 614.50884, <Table length=3>\n",
      "Species     ChemicalName     QNs      Freq    log10_Aij    EU_K  \n",
      "  str8         str18         str5   float64    float64   float64 \n",
      "-------- ------------------ ----- ----------- --------- ---------\n",
      "41KClv=1 Potassium chloride 31-30 231.0880933   -2.1226 572.24213\n",
      "41KClv=0 Potassium chloride 31-30 232.4997148  -2.11976 178.66839\n",
      " NaClv=1    Sodium Chloride 18-17   232.50995  -2.23334 625.66754, <Table length=1>\n",
      "Species   ChemicalName   QNs     Freq   log10_Aij    EU_K  \n",
      "  str7       str15       str5  float64   float64   float64 \n",
      "------- --------------- ----- --------- --------- ---------\n",
      "NaClv=0 Sodium Chloride 18-17 234.25183  -2.22932 106.84828], ('Orion_BNKL_source_I', '2016.1.00165.S'): [<Table length=1>\n",
      "Species   ChemicalName   QNs      Freq    log10_Aij    EU_K   \n",
      "  str7       str15       str5   float64    float64   float64  \n",
      "------- --------------- ----- ----------- --------- ----------\n",
      "NaClv=2 Sodium Chloride 26-25 333.0072742  -1.75589 1250.14944, <Table length=3>\n",
      "Species     ChemicalName     QNs      Freq    log10_Aij    EU_K  \n",
      "  str8         str18         str5   float64    float64   float64 \n",
      "-------- ------------------ ----- ----------- --------- ---------\n",
      "41KClv=1 Potassium chloride 45-44 334.8543603  -1.63717 764.88875\n",
      "  KClv=1 Potassium chloride 44-43  335.133995  -1.95904 538.71388\n",
      " NaClv=1    Sodium Chloride 26-25 335.5065502  -1.75191 737.19038, <Table length=3>\n",
      "Species     ChemicalName     QNs      Freq    log10_Aij    EU_K   \n",
      "  str8         str18         str5   float64    float64   float64  \n",
      "-------- ------------------ ----- ----------- --------- ----------\n",
      "41KClv=0 Potassium chloride 46-45 344.3381157  -1.60574  389.01842\n",
      "  KClv=0 Potassium chloride 45-44  344.820476    -1.762  381.26099\n",
      " NaClv=2    Sodium Chloride 27-26 345.7620205  -1.70658 1266.74326], ('G0.38+0.04', '2016.1.00766.S'): [<Table length=1>\n",
      "Species    ChemicalName     QNs     Freq    log10_Aij   EU_K  \n",
      "  str6        str18         str5  float64    float64  float64 \n",
      "------- ------------------ ----- ---------- --------- --------\n",
      " KClv=0 Potassium chloride 11-10 84.5625936  -3.45856 24.35232, <Table length=2>\n",
      "Species     ChemicalName     QNs     Freq    log10_Aij    EU_K  \n",
      "  str8         str18         str5  float64    float64   float64 \n",
      "-------- ------------------ ----- ---------- --------- ---------\n",
      "41KClv=1 Potassium chloride 13-12 97.0360277  -3.26257 427.26073\n",
      "41KClv=0 Potassium chloride 13-12 97.6279938  -3.25969  32.80194, <Table length=1>\n",
      "Species    ChemicalName     QNs    Freq   log10_Aij    EU_K  \n",
      "  str6        str18         str5 float64   float64   float64 \n",
      "------- ------------------ ----- -------- --------- ---------\n",
      " KClv=1 Potassium chloride 13-12 99.31644   -3.4176 304.65588], ('GRB_190829A', '2018.A.00065.T'): [<Table length=2>\n",
      "Species     ChemicalName     QNs      Freq    log10_Aij    EU_K  \n",
      "  str8         str18         str5   float64    float64   float64 \n",
      "-------- ------------------ ----- ----------- --------- ---------\n",
      "41KClv=0 Potassium chloride 31-30 232.4997148  -2.11976 178.66839\n",
      " NaClv=1    Sodium Chloride 18-17   232.50995  -2.23334 625.66754, <Table length=1>\n",
      "Species    ChemicalName     QNs      Freq    log10_Aij    EU_K  \n",
      "  str6        str18         str5   float64    float64   float64 \n",
      "------- ------------------ ----- ----------- --------- ---------\n",
      " KClv=1 Potassium chloride 31-30 236.5114104  -2.33902 410.63123], ('HD100546', '2016.1.00344.S'): [<Table length=2>\n",
      "Species     ChemicalName     QNs      Freq    log10_Aij    EU_K   \n",
      "  str8         str18         str5   float64    float64   float64  \n",
      "-------- ------------------ ----- ----------- --------- ----------\n",
      "41KClv=0 Potassium chloride 29-28 217.5430431  -2.20681  156.71091\n",
      " NaClv=2    Sodium Chloride 17-16 217.9802149  -2.31227 1128.38157, <Table length=3>\n",
      "Species     ChemicalName     QNs      Freq    log10_Aij    EU_K  \n",
      "  str8         str18         str5   float64    float64   float64 \n",
      "-------- ------------------ ----- ----------- --------- ---------\n",
      "41KClv=1 Potassium chloride 31-30 231.0880933   -2.1226 572.24213\n",
      "41KClv=0 Potassium chloride 31-30 232.4997148  -2.11976 178.66839\n",
      " NaClv=1    Sodium Chloride 18-17   232.50995  -2.23334 625.66754], ('hd135344b', '2016.1.00340.S'): [<Table length=2>\n",
      "Species     ChemicalName     QNs      Freq    log10_Aij   EU_K  \n",
      "  str8         str18         str5   float64    float64  float64 \n",
      "-------- ------------------ ----- ----------- --------- --------\n",
      "41KClv=1 Potassium chloride 20-19 149.2287167  -2.69619 469.8806\n",
      "41KClv=0 Potassium chloride 20-19 150.1394359  -2.69324  75.6817, <Table length=1>\n",
      "Species    ChemicalName     QNs      Freq    log10_Aij    EU_K  \n",
      "  str6        str18         str5   float64    float64   float64 \n",
      "------- ------------------ ----- ----------- --------- ---------\n",
      " KClv=1 Potassium chloride 21-20 160.3597954  -2.80812 341.50106, <Table length=1>\n",
      "Species    ChemicalName     QNs      Freq    log10_Aij   EU_K  \n",
      "  str6        str18         str5   float64    float64  float64 \n",
      "------- ------------------ ----- ----------- --------- --------\n",
      " KClv=0 Potassium chloride 21-20 161.3500789  -2.63244 85.20929], ('IRAS13481-6124', '2016.1.01504.S'): [<Table length=2>\n",
      "Species     ChemicalName     QNs      Freq    log10_Aij    EU_K  \n",
      "  str8         str18         str5   float64    float64   float64 \n",
      "-------- ------------------ ----- ----------- --------- ---------\n",
      "41KClv=0 Potassium chloride 46-45 344.3381157  -1.60574 389.01842\n",
      "  KClv=0 Potassium chloride 45-44  344.820476    -1.762 381.26099, <Table length=1>\n",
      "Species   ChemicalName   QNs      Freq    log10_Aij    EU_K   \n",
      "  str7       str15       str5   float64    float64   float64  \n",
      "------- --------------- ----- ----------- --------- ----------\n",
      "NaClv=2 Sodium Chloride 27-26 345.7620205  -1.70658 1266.74326, <Table length=3>\n",
      "Species     ChemicalName     QNs      Freq    log10_Aij    EU_K  \n",
      "  str8         str18         str5   float64    float64   float64 \n",
      "-------- ------------------ ----- ----------- --------- ---------\n",
      "  KClv=1 Potassium chloride 47-46 357.8166035  -1.89478 574.38584\n",
      " NaClv=2    Sodium Chloride 28-27 358.5107404   -1.6592  1283.949\n",
      "41KClv=0 Potassium chloride 48-47 359.1969479  -1.55051 423.13916], ('HD169142', '2016.1.00344.S'): [<Table length=2>\n",
      "Species     ChemicalName     QNs      Freq    log10_Aij    EU_K   \n",
      "  str8         str18         str5   float64    float64   float64  \n",
      "-------- ------------------ ----- ----------- --------- ----------\n",
      "41KClv=0 Potassium chloride 29-28 217.5430431  -2.20681  156.71091\n",
      " NaClv=2    Sodium Chloride 17-16 217.9802149  -2.31227 1128.38157, <Table length=3>\n",
      "Species     ChemicalName     QNs      Freq    log10_Aij    EU_K  \n",
      "  str8         str18         str5   float64    float64   float64 \n",
      "-------- ------------------ ----- ----------- --------- ---------\n",
      "41KClv=1 Potassium chloride 31-30 231.0880933   -2.1226 572.24213\n",
      "41KClv=0 Potassium chloride 31-30 232.4997148  -2.11976 178.66839\n",
      " NaClv=1    Sodium Chloride 18-17   232.50995  -2.23334 625.66754], ('NGC6334I', '2016.1.00383.S'): [<Table length=1>\n",
      "Species     ChemicalName     QNs      Freq    log10_Aij    EU_K  \n",
      "  str8         str18         str5   float64    float64   float64 \n",
      "-------- ------------------ ----- ----------- --------- ---------\n",
      "41KClv=1 Potassium chloride 18-17 134.3228658  -2.83441 455.91461], ('AFGL_4176', '2017.1.00700.S'): [<Table length=2>\n",
      "Species     ChemicalName     QNs      Freq    log10_Aij    EU_K   \n",
      "  str8         str18         str5   float64    float64   float64  \n",
      "-------- ------------------ ----- ----------- --------- ----------\n",
      " NaClv=4    Sodium Chloride 19-18 239.9554804  -2.17429 2163.66672\n",
      "41KClv=0 Potassium chloride 32-31 239.9746144  -2.07828  190.18521, <Table length=4>\n",
      "Species     ChemicalName     QNs      Freq    log10_Aij    EU_K   \n",
      "  str8         str18         str5   float64    float64   float64  \n",
      "-------- ------------------ ----- ----------- --------- ----------\n",
      "  KClv=0 Potassium chloride 33-32 253.2712915  -2.09214  206.82101\n",
      "41KClv=1 Potassium chloride 34-33 253.3689347  -2.00205  607.65226\n",
      " NaClv=3    Sodium Chloride 20-19 254.4541155  -2.10308 1672.08237\n",
      "41KClv=0 Potassium chloride 34-33  254.917167   -1.9992  214.29484, <Table length=1>\n",
      "Species   ChemicalName   QNs      Freq    log10_Aij    EU_K   \n",
      "  str7       str15       str5   float64    float64   float64  \n",
      "------- --------------- ----- ----------- --------- ----------\n",
      "NaClv=2 Sodium Chloride 20-19 256.3647476  -2.09912 1163.45036], ('G353.273+0.641', '2018.1.01538.S'): [<Table length=1>\n",
      "Species   ChemicalName   QNs     Freq    log10_Aij    EU_K  \n",
      "  str7       str15       str5  float64    float64   float64 \n",
      "------- --------------- ----- ---------- --------- ---------\n",
      "NaClv=1 Sodium Chloride 17-16 219.614922  -2.30839 614.50884, <Table length=3>\n",
      "Species     ChemicalName     QNs      Freq    log10_Aij    EU_K  \n",
      "  str8         str18         str5   float64    float64   float64 \n",
      "-------- ------------------ ----- ----------- --------- ---------\n",
      "  KClv=0 Potassium chloride 30-29   230.32056   -2.2017 171.45701\n",
      " NaClv=2    Sodium Chloride 18-17 230.7791504  -2.23734 1139.4571\n",
      "41KClv=1 Potassium chloride 31-30 231.0880933   -2.1226 572.24213, <Table length=2>\n",
      "Species     ChemicalName     QNs      Freq    log10_Aij    EU_K  \n",
      "  str8         str18         str5   float64    float64   float64 \n",
      "-------- ------------------ ----- ----------- --------- ---------\n",
      "41KClv=0 Potassium chloride 31-30 232.4997148  -2.11976 178.66839\n",
      " NaClv=1    Sodium Chloride 18-17   232.50995  -2.23334 625.66754], ('w51n', '2015.1.01596.S'): [<Table length=2>\n",
      "Species     ChemicalName     QNs      Freq    log10_Aij    EU_K   \n",
      "  str8         str18         str5   float64    float64   float64  \n",
      "-------- ------------------ ----- ----------- --------- ----------\n",
      "41KClv=0 Potassium chloride 29-28 217.5430431  -2.20681  156.71091\n",
      " NaClv=2    Sodium Chloride 17-16 217.9802149  -2.31227 1128.38157, <Table length=1>\n",
      "Species   ChemicalName   QNs     Freq    log10_Aij    EU_K  \n",
      "  str7       str15       str5  float64    float64   float64 \n",
      "------- --------------- ----- ---------- --------- ---------\n",
      "NaClv=1 Sodium Chloride 17-16 219.614922  -2.30839 614.50884, <Table length=2>\n",
      "Species    ChemicalName     QNs      Freq    log10_Aij    EU_K  \n",
      "  str7        str18         str5   float64    float64   float64 \n",
      "------- ------------------ ----- ----------- --------- ---------\n",
      "NaClv=0    Sodium Chloride 17-16   221.26015  -2.30439   95.6061\n",
      " KClv=1 Potassium chloride 29-28 221.2979777  -2.41676 394.75692, <Table length=1>\n",
      "Species   ChemicalName   QNs     Freq   log10_Aij    EU_K  \n",
      "  str7       str15       str5  float64   float64   float64 \n",
      "------- --------------- ----- --------- --------- ---------\n",
      "NaClv=0 Sodium Chloride 18-17 234.25183  -2.22932 106.84828], ('w51e2', '2015.1.01596.S'): [<Table length=2>\n",
      "Species     ChemicalName     QNs      Freq    log10_Aij    EU_K   \n",
      "  str8         str18         str5   float64    float64   float64  \n",
      "-------- ------------------ ----- ----------- --------- ----------\n",
      "41KClv=0 Potassium chloride 29-28 217.5430431  -2.20681  156.71091\n",
      " NaClv=2    Sodium Chloride 17-16 217.9802149  -2.31227 1128.38157, <Table length=1>\n",
      "Species   ChemicalName   QNs     Freq    log10_Aij    EU_K  \n",
      "  str7       str15       str5  float64    float64   float64 \n",
      "------- --------------- ----- ---------- --------- ---------\n",
      "NaClv=1 Sodium Chloride 17-16 219.614922  -2.30839 614.50884, <Table length=2>\n",
      "Species    ChemicalName     QNs      Freq    log10_Aij    EU_K  \n",
      "  str7        str18         str5   float64    float64   float64 \n",
      "------- ------------------ ----- ----------- --------- ---------\n",
      "NaClv=0    Sodium Chloride 17-16   221.26015  -2.30439   95.6061\n",
      " KClv=1 Potassium chloride 29-28 221.2979777  -2.41676 394.75692, <Table length=1>\n",
      "Species   ChemicalName   QNs     Freq   log10_Aij    EU_K  \n",
      "  str7       str15       str5  float64   float64   float64 \n",
      "------- --------------- ----- --------- --------- ---------\n",
      "NaClv=0 Sodium Chloride 18-17 234.25183  -2.22932 106.84828], ('IRAS13481-6124', '2017.1.01489.S'): [<Table length=3>\n",
      "Species     ChemicalName     QNs     Freq    log10_Aij    EU_K   \n",
      "  str8         str18         str5  float64    float64   float64  \n",
      "-------- ------------------ ----- ---------- --------- ----------\n",
      " NaClv=4    Sodium Chloride   7-6 88.4854845  -3.49279 2065.43666\n",
      " NaClv=3    Sodium Chloride   7-6 89.1500999  -3.48885 1560.90246\n",
      "41KClv=1 Potassium chloride 12-11 89.5754501  -3.36817  422.60379, <Table length=1>\n",
      "Species    ChemicalName     QNs    Freq   log10_Aij    EU_K  \n",
      "  str6        str18         str5 float64   float64   float64 \n",
      "------- ------------------ ----- -------- --------- ---------\n",
      " KClv=1 Potassium chloride 13-12 99.31644   -3.4176 304.65588, <Table length=2>\n",
      "Species    ChemicalName     QNs      Freq    log10_Aij    EU_K   \n",
      "  str7        str18         str5   float64    float64   float64  \n",
      "------- ------------------ ----- ----------- --------- ----------\n",
      " KClv=0 Potassium chloride 13-12    99.92954  -3.24184   33.57524\n",
      "NaClv=4    Sodium Chloride   8-7 101.1218267  -3.31519 2070.28978], ('G286', '2017.1.01552.S'): [<Table length=1>\n",
      "Species   ChemicalName   QNs     Freq   log10_Aij    EU_K  \n",
      "  str7       str15       str5  float64   float64   float64 \n",
      "------- --------------- ----- --------- --------- ---------\n",
      "NaClv=0 Sodium Chloride 18-17 234.25183  -2.22932 106.84828], ('G17.64+0.16', '2018.1.01524.S'): [<Table length=2>\n",
      "Species     ChemicalName     QNs      Freq    log10_Aij    EU_K   \n",
      "  str8         str18         str5   float64    float64   float64  \n",
      "-------- ------------------ ----- ----------- --------- ----------\n",
      "41KClv=0 Potassium chloride 29-28 217.5430431  -2.20681  156.71091\n",
      " NaClv=2    Sodium Chloride 17-16 217.9802149  -2.31227 1128.38157, <Table length=1>\n",
      "Species   ChemicalName   QNs     Freq    log10_Aij    EU_K  \n",
      "  str7       str15       str5  float64    float64   float64 \n",
      "------- --------------- ----- ---------- --------- ---------\n",
      "NaClv=1 Sodium Chloride 17-16 219.614922  -2.30839 614.50884, <Table length=3>\n",
      "Species     ChemicalName     QNs      Freq    log10_Aij    EU_K  \n",
      "  str8         str18         str5   float64    float64   float64 \n",
      "-------- ------------------ ----- ----------- --------- ---------\n",
      "41KClv=1 Potassium chloride 31-30 231.0880933   -2.1226 572.24213\n",
      "41KClv=0 Potassium chloride 31-30 232.4997148  -2.11976 178.66839\n",
      " NaClv=1    Sodium Chloride 18-17   232.50995  -2.23334 625.66754, <Table length=1>\n",
      "Species   ChemicalName   QNs     Freq   log10_Aij    EU_K  \n",
      "  str7       str15       str5  float64   float64   float64 \n",
      "------- --------------- ----- --------- --------- ---------\n",
      "NaClv=0 Sodium Chloride 18-17 234.25183  -2.22932 106.84828], ('d_sma1', '2016.1.00949.S'): [<Table length=2>\n",
      "Species     ChemicalName     QNs      Freq    log10_Aij    EU_K  \n",
      "  str8         str18         str5   float64    float64   float64 \n",
      "-------- ------------------ ----- ----------- --------- ---------\n",
      "41KClv=0 Potassium chloride 31-30 232.4997148  -2.11976 178.66839\n",
      " NaClv=1    Sodium Chloride 18-17   232.50995  -2.23334 625.66754, <Table length=1>\n",
      "Species   ChemicalName   QNs     Freq   log10_Aij    EU_K  \n",
      "  str7       str15       str5  float64   float64   float64 \n",
      "------- --------------- ----- --------- --------- ---------\n",
      "NaClv=0 Sodium Chloride 18-17 234.25183  -2.22932 106.84828], ('NGC6334I', '2016.1.01137.S'): [<Table length=1>\n",
      "Species   ChemicalName   QNs      Freq    log10_Aij    EU_K   \n",
      "  str7       str15       str5   float64    float64   float64  \n",
      "------- --------------- ----- ----------- --------- ----------\n",
      "NaClv=3 Sodium Chloride 52-51 657.1340543  -0.86046 2382.78022, <Table length=3>\n",
      "Species     ChemicalName     QNs      Freq    log10_Aij    EU_K   \n",
      "  str8         str18         str5   float64    float64   float64  \n",
      "-------- ------------------ ----- ----------- --------- ----------\n",
      " NaClv=0    Sodium Chloride 51-50 659.3735385  -0.87337  825.79643\n",
      "41KClv=0 Potassium chloride 89-88 659.7743719  -0.40112  1434.2708\n",
      "  KClv=0 Potassium chloride 87-86 660.3488162  -1.34911 1403.41289, <Table length=2>\n",
      "Species     ChemicalName     QNs      Freq    log10_Aij    EU_K   \n",
      "  str8         str18         str5   float64    float64   float64  \n",
      "-------- ------------------ ----- ----------- --------- ----------\n",
      " NaClv=2    Sodium Chloride 52-51 662.0910272  -0.85635 1879.49728\n",
      "41KClv=1 Potassium chloride 90-89 662.8880688  -0.39593  1851.9896, <Table length=2>\n",
      "Species     ChemicalName     QNs      Freq    log10_Aij    EU_K   \n",
      "  str8         str18         str5   float64    float64   float64  \n",
      "-------- ------------------ ----- ----------- --------- ----------\n",
      "41KClv=0 Potassium chloride 91-90 674.1913527  -0.38471 1498.63685\n",
      " NaClv=2    Sodium Chloride 53-52 674.6164366  -0.83187 1911.87361], ('IRAS17233', '2016.1.01137.S'): [<Table length=1>\n",
      "Species   ChemicalName   QNs      Freq    log10_Aij    EU_K   \n",
      "  str7       str15       str5   float64    float64   float64  \n",
      "------- --------------- ----- ----------- --------- ----------\n",
      "NaClv=3 Sodium Chloride 52-51 657.1340543  -0.86046 2382.78022, <Table length=3>\n",
      "Species     ChemicalName     QNs      Freq    log10_Aij    EU_K   \n",
      "  str8         str18         str5   float64    float64   float64  \n",
      "-------- ------------------ ----- ----------- --------- ----------\n",
      " NaClv=0    Sodium Chloride 51-50 659.3735385  -0.87337  825.79643\n",
      "41KClv=0 Potassium chloride 89-88 659.7743719  -0.40112  1434.2708\n",
      "  KClv=0 Potassium chloride 87-86 660.3488162  -1.34911 1403.41289, <Table length=2>\n",
      "Species     ChemicalName     QNs      Freq    log10_Aij    EU_K   \n",
      "  str8         str18         str5   float64    float64   float64  \n",
      "-------- ------------------ ----- ----------- --------- ----------\n",
      " NaClv=2    Sodium Chloride 52-51 662.0910272  -0.85635 1879.49728\n",
      "41KClv=1 Potassium chloride 90-89 662.8880688  -0.39593  1851.9896, <Table length=2>\n",
      "Species     ChemicalName     QNs      Freq    log10_Aij    EU_K   \n",
      "  str8         str18         str5   float64    float64   float64  \n",
      "-------- ------------------ ----- ----------- --------- ----------\n",
      "41KClv=0 Potassium chloride 91-90 674.1913527  -0.38471 1498.63685\n",
      " NaClv=2    Sodium Chloride 53-52 674.6164366  -0.83187 1911.87361], ('G11.92-0.61', '2016.1.01147.S'): [<Table length=2>\n",
      "Species    ChemicalName     QNs      Freq    log10_Aij    EU_K  \n",
      "  str7        str18         str5   float64    float64   float64 \n",
      "------- ------------------ ----- ----------- --------- ---------\n",
      "NaClv=0    Sodium Chloride 17-16   221.26015  -2.30439   95.6061\n",
      " KClv=1 Potassium chloride 29-28 221.2979777  -2.41676 394.75692, <Table length=1>\n",
      "Species     ChemicalName     QNs     Freq    log10_Aij    EU_K  \n",
      "  str8         str18         str5  float64    float64   float64 \n",
      "-------- ------------------ ----- ---------- --------- ---------\n",
      "41KClv=1 Potassium chloride 32-31 238.517456  -2.08112 583.68915], ('w51n', '2017.1.00293.S'): [<Table length=1>\n",
      "Species   ChemicalName  QNs     Freq    log10_Aij    EU_K   \n",
      "  str7       str15      str3  float64    float64   float64  \n",
      "------- --------------- ---- ---------- --------- ----------\n",
      "NaClv=4 Sodium Chloride  7-6 88.4854845  -3.49279 2065.43666, <Table length=1>\n",
      "Species     ChemicalName     QNs     Freq    log10_Aij   EU_K  \n",
      "  str8         str18         str5  float64    float64  float64 \n",
      "-------- ------------------ ----- ---------- --------- --------\n",
      "41KClv=0 Potassium chloride 13-12 97.6279938  -3.25969 32.80194, <Table length=2>\n",
      "Species    ChemicalName     QNs    Freq   log10_Aij    EU_K  \n",
      "  str6        str18         str5 float64   float64   float64 \n",
      "------- ------------------ ----- -------- --------- ---------\n",
      " KClv=1 Potassium chloride 13-12 99.31644   -3.4176 304.65588\n",
      " KClv=0 Potassium chloride 13-12 99.92954  -3.24184  33.57524], ('IRAS07299', '2018.1.01561.S'): [<Table length=1>\n",
      "Species   ChemicalName  QNs     Freq    log10_Aij    EU_K   \n",
      "  str7       str15      str3  float64    float64   float64  \n",
      "------- --------------- ---- ---------- --------- ----------\n",
      "NaClv=4 Sodium Chloride  7-6 88.4854845  -3.49279 2065.43666, <Table length=1>\n",
      "Species    ChemicalName     QNs    Freq   log10_Aij    EU_K  \n",
      "  str6        str18         str5 float64   float64   float64 \n",
      "------- ------------------ ----- -------- --------- ---------\n",
      " KClv=1 Potassium chloride 13-12 99.31644   -3.4176 304.65588], ('G19.01-0.03', '2018.1.01441.S'): [<Table length=2>\n",
      "Species    ChemicalName     QNs      Freq    log10_Aij    EU_K  \n",
      "  str7        str18         str5   float64    float64   float64 \n",
      "------- ------------------ ----- ----------- --------- ---------\n",
      "NaClv=0    Sodium Chloride 17-16   221.26015  -2.30439   95.6061\n",
      " KClv=1 Potassium chloride 29-28 221.2979777  -2.41676 394.75692, <Table length=1>\n",
      "Species     ChemicalName     QNs     Freq    log10_Aij    EU_K  \n",
      "  str8         str18         str5  float64    float64   float64 \n",
      "-------- ------------------ ----- ---------- --------- ---------\n",
      "41KClv=1 Potassium chloride 32-31 238.517456  -2.08112 583.68915], ('w51e2', '2017.1.00293.S'): [<Table length=1>\n",
      "Species   ChemicalName  QNs     Freq    log10_Aij    EU_K   \n",
      "  str7       str15      str3  float64    float64   float64  \n",
      "------- --------------- ---- ---------- --------- ----------\n",
      "NaClv=4 Sodium Chloride  7-6 88.4854845  -3.49279 2065.43666, <Table length=1>\n",
      "Species     ChemicalName     QNs     Freq    log10_Aij   EU_K  \n",
      "  str8         str18         str5  float64    float64  float64 \n",
      "-------- ------------------ ----- ---------- --------- --------\n",
      "41KClv=0 Potassium chloride 13-12 97.6279938  -3.25969 32.80194, <Table length=2>\n",
      "Species    ChemicalName     QNs    Freq   log10_Aij    EU_K  \n",
      "  str6        str18         str5 float64   float64   float64 \n",
      "------- ------------------ ----- -------- --------- ---------\n",
      " KClv=1 Potassium chloride 13-12 99.31644   -3.4176 304.65588\n",
      " KClv=0 Potassium chloride 13-12 99.92954  -3.24184  33.57524], ('HD_163296', '2017.1.01682.S'): [<Table length=1>\n",
      "Species     ChemicalName     QNs      Freq    log10_Aij    EU_K  \n",
      "  str8         str18         str5   float64    float64   float64 \n",
      "-------- ------------------ ----- ----------- --------- ---------\n",
      "41KClv=1 Potassium chloride 18-17 134.3228658  -2.83441 455.91461, <Table length=1>\n",
      "Species     ChemicalName     QNs      Freq    log10_Aij   EU_K  \n",
      "  str8         str18         str5   float64    float64  float64 \n",
      "-------- ------------------ ----- ----------- --------- --------\n",
      "41KClv=0 Potassium chloride 18-17 135.1425124  -2.83158 61.63047, <Table length=2>\n",
      "Species    ChemicalName     QNs      Freq    log10_Aij    EU_K  \n",
      "  str6        str18         str5   float64    float64   float64 \n",
      "------- ------------------ ----- ----------- --------- ---------\n",
      " KClv=1 Potassium chloride 19-18 145.1072502  -2.93316 330.75015\n",
      " KClv=0 Potassium chloride 19-18 146.0032203  -2.75757   70.0904], ('G33.92+0.11', '2018.1.00262.S'): [<Table length=3>\n",
      "Species     ChemicalName     QNs      Freq    log10_Aij    EU_K   \n",
      "  str8         str18         str5   float64    float64   float64  \n",
      "-------- ------------------ ----- ----------- --------- ----------\n",
      "41KClv=1 Potassium chloride 29-28 216.2224953  -2.20966  550.41794\n",
      " NaClv=3    Sodium Chloride 17-16 216.3560118  -2.31626 1637.27494\n",
      "41KClv=0 Potassium chloride 29-28 217.5430431  -2.20681  156.71091, <Table length=1>\n",
      "Species   ChemicalName   QNs     Freq    log10_Aij    EU_K  \n",
      "  str7       str15       str5  float64    float64   float64 \n",
      "------- --------------- ----- ---------- --------- ---------\n",
      "NaClv=1 Sodium Chloride 17-16 219.614922  -2.30839 614.50884, <Table length=3>\n",
      "Species     ChemicalName     QNs      Freq    log10_Aij    EU_K  \n",
      "  str8         str18         str5   float64    float64   float64 \n",
      "-------- ------------------ ----- ----------- --------- ---------\n",
      "41KClv=1 Potassium chloride 31-30 231.0880933   -2.1226 572.24213\n",
      "41KClv=0 Potassium chloride 31-30 232.4997148  -2.11976 178.66839\n",
      " NaClv=1    Sodium Chloride 18-17   232.50995  -2.23334 625.66754, <Table length=1>\n",
      "Species   ChemicalName   QNs     Freq   log10_Aij    EU_K  \n",
      "  str7       str15       str5  float64   float64   float64 \n",
      "------- --------------- ----- --------- --------- ---------\n",
      "NaClv=0 Sodium Chloride 18-17 234.25183  -2.22932 106.84828], ('Tr14_proplyds', '2015.1.01323.S'): [<Table length=2>\n",
      "Species     ChemicalName     QNs      Freq    log10_Aij    EU_K  \n",
      "  str8         str18         str5   float64    float64   float64 \n",
      "-------- ------------------ ----- ----------- --------- ---------\n",
      "  KClv=0 Potassium chloride 29-28 222.6655244  -2.24131 160.40346\n",
      "41KClv=1 Potassium chloride 30-29 223.6564148  -2.16538 561.15168, <Table length=1>\n",
      "Species   ChemicalName   QNs     Freq   log10_Aij    EU_K  \n",
      "  str7       str15       str5  float64   float64   float64 \n",
      "------- --------------- ----- --------- --------- ---------\n",
      "NaClv=0 Sodium Chloride 18-17 234.25183  -2.22932 106.84828], ('p105-600', '2015.1.01323.S'): [<Table length=2>\n",
      "Species     ChemicalName     QNs      Freq    log10_Aij    EU_K  \n",
      "  str8         str18         str5   float64    float64   float64 \n",
      "-------- ------------------ ----- ----------- --------- ---------\n",
      "  KClv=0 Potassium chloride 29-28 222.6655244  -2.24131 160.40346\n",
      "41KClv=1 Potassium chloride 30-29 223.6564148  -2.16538 561.15168, <Table length=1>\n",
      "Species   ChemicalName   QNs     Freq   log10_Aij    EU_K  \n",
      "  str7       str15       str5  float64   float64   float64 \n",
      "------- --------------- ----- --------- --------- ---------\n",
      "NaClv=0 Sodium Chloride 18-17 234.25183  -2.22932 106.84828], ('p104-593', '2015.1.01323.S'): [<Table length=2>\n",
      "Species     ChemicalName     QNs      Freq    log10_Aij    EU_K  \n",
      "  str8         str18         str5   float64    float64   float64 \n",
      "-------- ------------------ ----- ----------- --------- ---------\n",
      "  KClv=0 Potassium chloride 29-28 222.6655244  -2.24131 160.40346\n",
      "41KClv=1 Potassium chloride 30-29 223.6564148  -2.16538 561.15168, <Table length=1>\n",
      "Species   ChemicalName   QNs     Freq   log10_Aij    EU_K  \n",
      "  str7       str15       str5  float64   float64   float64 \n",
      "------- --------------- ----- --------- --------- ---------\n",
      "NaClv=0 Sodium Chloride 18-17 234.25183  -2.22932 106.84828], ('I19520', '2016.1.01152.S'): [<Table length=2>\n",
      "Species   ChemicalName  QNs      Freq    log10_Aij    EU_K   \n",
      "  str7       str15      str3   float64    float64   float64  \n",
      "------- --------------- ---- ----------- --------- ----------\n",
      "NaClv=2 Sodium Chloride  8-7 102.6458653  -3.30726 1056.36208\n",
      "NaClv=1 Sodium Chloride  8-7 103.4152933  -3.30333  541.94943, <Table length=3>\n",
      "Species     ChemicalName     QNs      Freq    log10_Aij    EU_K  \n",
      "  str8         str18         str5   float64    float64   float64 \n",
      "-------- ------------------ ----- ----------- --------- ---------\n",
      " NaClv=0    Sodium Chloride   8-7   104.18974  -3.29939  22.50305\n",
      "41KClv=1 Potassium chloride 14-13 104.4956349  -3.16494 432.27574\n",
      "41KClv=0 Potassium chloride 14-13 105.1331371  -3.16201  37.84748], ('p104-598', '2015.1.01323.S'): [<Table length=2>\n",
      "Species     ChemicalName     QNs      Freq    log10_Aij    EU_K  \n",
      "  str8         str18         str5   float64    float64   float64 \n",
      "-------- ------------------ ----- ----------- --------- ---------\n",
      "  KClv=0 Potassium chloride 29-28 222.6655244  -2.24131 160.40346\n",
      "41KClv=1 Potassium chloride 30-29 223.6564148  -2.16538 561.15168, <Table length=1>\n",
      "Species   ChemicalName   QNs     Freq   log10_Aij    EU_K  \n",
      "  str7       str15       str5  float64   float64   float64 \n",
      "------- --------------- ----- --------- --------- ---------\n",
      "NaClv=0 Sodium Chloride 18-17 234.25183  -2.22932 106.84828], ('M17-UC1', '2019.1.01279.S'): [<Table length=2>\n",
      "Species     ChemicalName     QNs      Freq    log10_Aij    EU_K   \n",
      "  str8         str18         str5   float64    float64   float64  \n",
      "-------- ------------------ ----- ----------- --------- ----------\n",
      "41KClv=0 Potassium chloride 29-28 217.5430431  -2.20681  156.71091\n",
      " NaClv=2    Sodium Chloride 17-16 217.9802149  -2.31227 1128.38157, <Table length=3>\n",
      "Species     ChemicalName     QNs      Freq    log10_Aij    EU_K  \n",
      "  str8         str18         str5   float64    float64   float64 \n",
      "-------- ------------------ ----- ----------- --------- ---------\n",
      "41KClv=1 Potassium chloride 31-30 231.0880933   -2.1226 572.24213\n",
      "41KClv=0 Potassium chloride 31-30 232.4997148  -2.11976 178.66839\n",
      " NaClv=1    Sodium Chloride 18-17   232.50995  -2.23334 625.66754, <Table length=1>\n",
      "Species   ChemicalName   QNs     Freq   log10_Aij    EU_K  \n",
      "  str7       str15       str5  float64   float64   float64 \n",
      "------- --------------- ----- --------- --------- ---------\n",
      "NaClv=0 Sodium Chloride 18-17 234.25183  -2.22932 106.84828], ('Cl_star_NGC_6618_B243', '2019.1.00910.S'): [<Table length=2>\n",
      "Species     ChemicalName     QNs      Freq    log10_Aij    EU_K   \n",
      "  str8         str18         str5   float64    float64   float64  \n",
      "-------- ------------------ ----- ----------- --------- ----------\n",
      "41KClv=1 Potassium chloride 29-28 216.2224953  -2.20966  550.41794\n",
      " NaClv=3    Sodium Chloride 17-16 216.3560118  -2.31626 1637.27494, <Table length=1>\n",
      "Species   ChemicalName   QNs     Freq    log10_Aij    EU_K  \n",
      "  str7       str15       str5  float64    float64   float64 \n",
      "------- --------------- ----- ---------- --------- ---------\n",
      "NaClv=1 Sodium Chloride 17-16 219.614922  -2.30839 614.50884, <Table length=1>\n",
      "Species   ChemicalName   QNs     Freq   log10_Aij    EU_K  \n",
      "  str7       str15       str5  float64   float64   float64 \n",
      "------- --------------- ----- --------- --------- ---------\n",
      "NaClv=0 Sodium Chloride 18-17 234.25183  -2.22932 106.84828], ('Cl_star_NGC6618_B331', '2019.1.00910.S'): [<Table length=2>\n",
      "Species     ChemicalName     QNs      Freq    log10_Aij    EU_K   \n",
      "  str8         str18         str5   float64    float64   float64  \n",
      "-------- ------------------ ----- ----------- --------- ----------\n",
      "41KClv=1 Potassium chloride 29-28 216.2224953  -2.20966  550.41794\n",
      " NaClv=3    Sodium Chloride 17-16 216.3560118  -2.31626 1637.27494, <Table length=1>\n",
      "Species   ChemicalName   QNs     Freq    log10_Aij    EU_K  \n",
      "  str7       str15       str5  float64    float64   float64 \n",
      "------- --------------- ----- ---------- --------- ---------\n",
      "NaClv=1 Sodium Chloride 17-16 219.614922  -2.30839 614.50884, <Table length=1>\n",
      "Species   ChemicalName   QNs     Freq   log10_Aij    EU_K  \n",
      "  str7       str15       str5  float64   float64   float64 \n",
      "------- --------------- ----- --------- --------- ---------\n",
      "NaClv=0 Sodium Chloride 18-17 234.25183  -2.22932 106.84828], ('Cl_star_NGC6618_B275', '2019.1.00910.S'): [<Table length=2>\n",
      "Species     ChemicalName     QNs      Freq    log10_Aij    EU_K   \n",
      "  str8         str18         str5   float64    float64   float64  \n",
      "-------- ------------------ ----- ----------- --------- ----------\n",
      "41KClv=1 Potassium chloride 29-28 216.2224953  -2.20966  550.41794\n",
      " NaClv=3    Sodium Chloride 17-16 216.3560118  -2.31626 1637.27494, <Table length=1>\n",
      "Species   ChemicalName   QNs     Freq    log10_Aij    EU_K  \n",
      "  str7       str15       str5  float64    float64   float64 \n",
      "------- --------------- ----- ---------- --------- ---------\n",
      "NaClv=1 Sodium Chloride 17-16 219.614922  -2.30839 614.50884, <Table length=1>\n",
      "Species   ChemicalName   QNs     Freq   log10_Aij    EU_K  \n",
      "  str7       str15       str5  float64   float64   float64 \n",
      "------- --------------- ----- --------- --------- ---------\n",
      "NaClv=0 Sodium Chloride 18-17 234.25183  -2.22932 106.84828], ('NGC_1068', '2019.1.00713.S'): [<Table length=2>\n",
      "Species     ChemicalName     QNs      Freq    log10_Aij    EU_K   \n",
      "  str8         str18         str5   float64    float64   float64  \n",
      "-------- ------------------ ----- ----------- --------- ----------\n",
      "41KClv=0 Potassium chloride 29-28 217.5430431  -2.20681  156.71091\n",
      " NaClv=2    Sodium Chloride 17-16 217.9802149  -2.31227 1128.38157, <Table length=1>\n",
      "Species   ChemicalName   QNs     Freq    log10_Aij    EU_K  \n",
      "  str7       str15       str5  float64    float64   float64 \n",
      "------- --------------- ----- ---------- --------- ---------\n",
      "NaClv=1 Sodium Chloride 17-16 219.614922  -2.30839 614.50884, <Table length=1>\n",
      "Species   ChemicalName   QNs     Freq   log10_Aij    EU_K  \n",
      "  str7       str15       str5  float64   float64   float64 \n",
      "------- --------------- ----- --------- --------- ---------\n",
      "NaClv=0 Sodium Chloride 18-17 234.25183  -2.22932 106.84828, <Table length=1>\n",
      "Species    ChemicalName     QNs      Freq    log10_Aij    EU_K  \n",
      "  str6        str18         str5   float64    float64   float64 \n",
      "------- ------------------ ----- ----------- --------- ---------\n",
      " KClv=1 Potassium chloride 31-30 236.5114104  -2.33902 410.63123], ('NGC6334in', '2016.1.01147.S'): [<Table length=2>\n",
      "Species    ChemicalName     QNs      Freq    log10_Aij    EU_K  \n",
      "  str7        str18         str5   float64    float64   float64 \n",
      "------- ------------------ ----- ----------- --------- ---------\n",
      "NaClv=0    Sodium Chloride 17-16   221.26015  -2.30439   95.6061\n",
      " KClv=1 Potassium chloride 29-28 221.2979777  -2.41676 394.75692, <Table length=1>\n",
      "Species     ChemicalName     QNs     Freq    log10_Aij    EU_K  \n",
      "  str8         str18         str5  float64    float64   float64 \n",
      "-------- ------------------ ----- ---------- --------- ---------\n",
      "41KClv=1 Potassium chloride 32-31 238.517456  -2.08112 583.68915], ('G10p6', '2019.1.00402.S'): [<Table length=3>\n",
      "Species     ChemicalName     QNs      Freq    log10_Aij    EU_K   \n",
      "  str8         str18         str5   float64    float64   float64  \n",
      "-------- ------------------ ----- ----------- --------- ----------\n",
      "41KClv=1 Potassium chloride 29-28 216.2224953  -2.20966  550.41794\n",
      " NaClv=3    Sodium Chloride 17-16 216.3560118  -2.31626 1637.27494\n",
      "41KClv=0 Potassium chloride 29-28 217.5430431  -2.20681  156.71091, <Table length=1>\n",
      "Species   ChemicalName   QNs     Freq    log10_Aij    EU_K  \n",
      "  str7       str15       str5  float64    float64   float64 \n",
      "------- --------------- ----- ---------- --------- ---------\n",
      "NaClv=1 Sodium Chloride 17-16 219.614922  -2.30839 614.50884, <Table length=3>\n",
      "Species     ChemicalName     QNs      Freq    log10_Aij    EU_K  \n",
      "  str8         str18         str5   float64    float64   float64 \n",
      "-------- ------------------ ----- ----------- --------- ---------\n",
      "41KClv=1 Potassium chloride 31-30 231.0880933   -2.1226 572.24213\n",
      "41KClv=0 Potassium chloride 31-30 232.4997148  -2.11976 178.66839\n",
      " NaClv=1    Sodium Chloride 18-17   232.50995  -2.23334 625.66754, <Table length=1>\n",
      "Species   ChemicalName   QNs     Freq   log10_Aij    EU_K  \n",
      "  str7       str15       str5  float64   float64   float64 \n",
      "------- --------------- ----- --------- --------- ---------\n",
      "NaClv=0 Sodium Chloride 18-17 234.25183  -2.22932 106.84828], ('Mon_R2_IRS3_A', '2019.1.00437.S'): [<Table length=1>\n",
      "Species     ChemicalName     QNs      Freq    log10_Aij    EU_K  \n",
      "  str8         str18         str5   float64    float64   float64 \n",
      "-------- ------------------ ----- ----------- --------- ---------\n",
      "41KClv=0 Potassium chloride 29-28 217.5430431  -2.20681 156.71091, <Table length=1>\n",
      "Species   ChemicalName   QNs      Freq    log10_Aij    EU_K   \n",
      "  str7       str15       str5   float64    float64   float64  \n",
      "------- --------------- ----- ----------- --------- ----------\n",
      "NaClv=2 Sodium Chloride 17-16 217.9802149  -2.31227 1128.38157, <Table length=1>\n",
      "Species   ChemicalName   QNs     Freq    log10_Aij    EU_K  \n",
      "  str7       str15       str5  float64    float64   float64 \n",
      "------- --------------- ----- ---------- --------- ---------\n",
      "NaClv=1 Sodium Chloride 17-16 219.614922  -2.30839 614.50884, <Table length=3>\n",
      "Species     ChemicalName     QNs      Freq    log10_Aij    EU_K  \n",
      "  str8         str18         str5   float64    float64   float64 \n",
      "-------- ------------------ ----- ----------- --------- ---------\n",
      "  KClv=0 Potassium chloride 30-29   230.32056   -2.2017 171.45701\n",
      " NaClv=2    Sodium Chloride 18-17 230.7791504  -2.23734 1139.4571\n",
      "41KClv=1 Potassium chloride 31-30 231.0880933   -2.1226 572.24213, <Table length=1>\n",
      "Species   ChemicalName   QNs     Freq   log10_Aij    EU_K  \n",
      "  str7       str15       str5  float64   float64   float64 \n",
      "------- --------------- ----- --------- --------- ---------\n",
      "NaClv=0 Sodium Chloride 18-17 234.25183  -2.22932 106.84828], ('MWC_300', '2019.1.00437.S'): [<Table length=1>\n",
      "Species     ChemicalName     QNs      Freq    log10_Aij    EU_K  \n",
      "  str8         str18         str5   float64    float64   float64 \n",
      "-------- ------------------ ----- ----------- --------- ---------\n",
      "41KClv=0 Potassium chloride 29-28 217.5430431  -2.20681 156.71091, <Table length=1>\n",
      "Species   ChemicalName   QNs      Freq    log10_Aij    EU_K   \n",
      "  str7       str15       str5   float64    float64   float64  \n",
      "------- --------------- ----- ----------- --------- ----------\n",
      "NaClv=2 Sodium Chloride 17-16 217.9802149  -2.31227 1128.38157, <Table length=1>\n",
      "Species   ChemicalName   QNs     Freq    log10_Aij    EU_K  \n",
      "  str7       str15       str5  float64    float64   float64 \n",
      "------- --------------- ----- ---------- --------- ---------\n",
      "NaClv=1 Sodium Chloride 17-16 219.614922  -2.30839 614.50884, <Table length=3>\n",
      "Species     ChemicalName     QNs      Freq    log10_Aij    EU_K  \n",
      "  str8         str18         str5   float64    float64   float64 \n",
      "-------- ------------------ ----- ----------- --------- ---------\n",
      "  KClv=0 Potassium chloride 30-29   230.32056   -2.2017 171.45701\n",
      " NaClv=2    Sodium Chloride 18-17 230.7791504  -2.23734 1139.4571\n",
      "41KClv=1 Potassium chloride 31-30 231.0880933   -2.1226 572.24213, <Table length=1>\n",
      "Species   ChemicalName   QNs     Freq   log10_Aij    EU_K  \n",
      "  str7       str15       str5  float64   float64   float64 \n",
      "------- --------------- ----- --------- --------- ---------\n",
      "NaClv=0 Sodium Chloride 18-17 234.25183  -2.22932 106.84828], ('I18308c1', '2019.1.01463.S'): [<Table length=2>\n",
      "Species     ChemicalName     QNs      Freq    log10_Aij    EU_K   \n",
      "  str8         str18         str5   float64    float64   float64  \n",
      "-------- ------------------ ----- ----------- --------- ----------\n",
      "41KClv=0 Potassium chloride 29-28 217.5430431  -2.20681  156.71091\n",
      " NaClv=2    Sodium Chloride 17-16 217.9802149  -2.31227 1128.38157, <Table length=2>\n",
      "Species     ChemicalName     QNs      Freq    log10_Aij    EU_K  \n",
      "  str8         str18         str5   float64    float64   float64 \n",
      "-------- ------------------ ----- ----------- --------- ---------\n",
      "41KClv=0 Potassium chloride 31-30 232.4997148  -2.11976 178.66839\n",
      " NaClv=1    Sodium Chloride 18-17   232.50995  -2.23334 625.66754, <Table length=1>\n",
      "Species   ChemicalName   QNs     Freq   log10_Aij    EU_K  \n",
      "  str7       str15       str5  float64   float64   float64 \n",
      "------- --------------- ----- --------- --------- ---------\n",
      "NaClv=0 Sodium Chloride 18-17 234.25183  -2.22932 106.84828], ('Per-emb-17', '2019.1.01425.S'): [<Table length=2>\n",
      "Species     ChemicalName     QNs      Freq    log10_Aij    EU_K   \n",
      "  str8         str18         str5   float64    float64   float64  \n",
      "-------- ------------------ ----- ----------- --------- ----------\n",
      "41KClv=0 Potassium chloride 29-28 217.5430431  -2.20681  156.71091\n",
      " NaClv=2    Sodium Chloride 17-16 217.9802149  -2.31227 1128.38157, <Table length=1>\n",
      "Species   ChemicalName   QNs     Freq    log10_Aij    EU_K  \n",
      "  str7       str15       str5  float64    float64   float64 \n",
      "------- --------------- ----- ---------- --------- ---------\n",
      "NaClv=1 Sodium Chloride 17-16 219.614922  -2.30839 614.50884, <Table length=3>\n",
      "Species     ChemicalName     QNs      Freq    log10_Aij    EU_K  \n",
      "  str8         str18         str5   float64    float64   float64 \n",
      "-------- ------------------ ----- ----------- --------- ---------\n",
      "  KClv=0 Potassium chloride 30-29   230.32056   -2.2017 171.45701\n",
      " NaClv=2    Sodium Chloride 18-17 230.7791504  -2.23734 1139.4571\n",
      "41KClv=1 Potassium chloride 31-30 231.0880933   -2.1226 572.24213, <Table length=2>\n",
      "Species     ChemicalName     QNs      Freq    log10_Aij    EU_K  \n",
      "  str8         str18         str5   float64    float64   float64 \n",
      "-------- ------------------ ----- ----------- --------- ---------\n",
      "41KClv=0 Potassium chloride 31-30 232.4997148  -2.11976 178.66839\n",
      " NaClv=1    Sodium Chloride 18-17   232.50995  -2.23334 625.66754], ('L1448IRS1', '2019.1.01425.S'): [<Table length=2>\n",
      "Species     ChemicalName     QNs      Freq    log10_Aij    EU_K   \n",
      "  str8         str18         str5   float64    float64   float64  \n",
      "-------- ------------------ ----- ----------- --------- ----------\n",
      "41KClv=0 Potassium chloride 29-28 217.5430431  -2.20681  156.71091\n",
      " NaClv=2    Sodium Chloride 17-16 217.9802149  -2.31227 1128.38157, <Table length=1>\n",
      "Species   ChemicalName   QNs     Freq    log10_Aij    EU_K  \n",
      "  str7       str15       str5  float64    float64   float64 \n",
      "------- --------------- ----- ---------- --------- ---------\n",
      "NaClv=1 Sodium Chloride 17-16 219.614922  -2.30839 614.50884, <Table length=3>\n",
      "Species     ChemicalName     QNs      Freq    log10_Aij    EU_K  \n",
      "  str8         str18         str5   float64    float64   float64 \n",
      "-------- ------------------ ----- ----------- --------- ---------\n",
      "  KClv=0 Potassium chloride 30-29   230.32056   -2.2017 171.45701\n",
      " NaClv=2    Sodium Chloride 18-17 230.7791504  -2.23734 1139.4571\n",
      "41KClv=1 Potassium chloride 31-30 231.0880933   -2.1226 572.24213, <Table length=2>\n",
      "Species     ChemicalName     QNs      Freq    log10_Aij    EU_K  \n",
      "  str8         str18         str5   float64    float64   float64 \n",
      "-------- ------------------ ----- ----------- --------- ---------\n",
      "41KClv=0 Potassium chloride 31-30 232.4997148  -2.11976 178.66839\n",
      " NaClv=1    Sodium Chloride 18-17   232.50995  -2.23334 625.66754], ('L1448IRS3B', '2019.1.01425.S'): [<Table length=2>\n",
      "Species     ChemicalName     QNs      Freq    log10_Aij    EU_K   \n",
      "  str8         str18         str5   float64    float64   float64  \n",
      "-------- ------------------ ----- ----------- --------- ----------\n",
      "41KClv=0 Potassium chloride 29-28 217.5430431  -2.20681  156.71091\n",
      " NaClv=2    Sodium Chloride 17-16 217.9802149  -2.31227 1128.38157, <Table length=1>\n",
      "Species   ChemicalName   QNs     Freq    log10_Aij    EU_K  \n",
      "  str7       str15       str5  float64    float64   float64 \n",
      "------- --------------- ----- ---------- --------- ---------\n",
      "NaClv=1 Sodium Chloride 17-16 219.614922  -2.30839 614.50884, <Table length=3>\n",
      "Species     ChemicalName     QNs      Freq    log10_Aij    EU_K  \n",
      "  str8         str18         str5   float64    float64   float64 \n",
      "-------- ------------------ ----- ----------- --------- ---------\n",
      "  KClv=0 Potassium chloride 30-29   230.32056   -2.2017 171.45701\n",
      " NaClv=2    Sodium Chloride 18-17 230.7791504  -2.23734 1139.4571\n",
      "41KClv=1 Potassium chloride 31-30 231.0880933   -2.1226 572.24213, <Table length=2>\n",
      "Species     ChemicalName     QNs      Freq    log10_Aij    EU_K  \n",
      "  str8         str18         str5   float64    float64   float64 \n",
      "-------- ------------------ ----- ----------- --------- ---------\n",
      "41KClv=0 Potassium chloride 31-30 232.4997148  -2.11976 178.66839\n",
      " NaClv=1    Sodium Chloride 18-17   232.50995  -2.23334 625.66754], ('L1448IRS3C', '2019.1.01425.S'): [<Table length=2>\n",
      "Species     ChemicalName     QNs      Freq    log10_Aij    EU_K   \n",
      "  str8         str18         str5   float64    float64   float64  \n",
      "-------- ------------------ ----- ----------- --------- ----------\n",
      "41KClv=0 Potassium chloride 29-28 217.5430431  -2.20681  156.71091\n",
      " NaClv=2    Sodium Chloride 17-16 217.9802149  -2.31227 1128.38157, <Table length=1>\n",
      "Species   ChemicalName   QNs     Freq    log10_Aij    EU_K  \n",
      "  str7       str15       str5  float64    float64   float64 \n",
      "------- --------------- ----- ---------- --------- ---------\n",
      "NaClv=1 Sodium Chloride 17-16 219.614922  -2.30839 614.50884, <Table length=3>\n",
      "Species     ChemicalName     QNs      Freq    log10_Aij    EU_K  \n",
      "  str8         str18         str5   float64    float64   float64 \n",
      "-------- ------------------ ----- ----------- --------- ---------\n",
      "  KClv=0 Potassium chloride 30-29   230.32056   -2.2017 171.45701\n",
      " NaClv=2    Sodium Chloride 18-17 230.7791504  -2.23734 1139.4571\n",
      "41KClv=1 Potassium chloride 31-30 231.0880933   -2.1226 572.24213, <Table length=2>\n",
      "Species     ChemicalName     QNs      Freq    log10_Aij    EU_K  \n",
      "  str8         str18         str5   float64    float64   float64 \n",
      "-------- ------------------ ----- ----------- --------- ---------\n",
      "41KClv=0 Potassium chloride 31-30 232.4997148  -2.11976 178.66839\n",
      " NaClv=1    Sodium Chloride 18-17   232.50995  -2.23334 625.66754], ('M8E-IR', '2019.1.00437.S'): [<Table length=1>\n",
      "Species     ChemicalName     QNs      Freq    log10_Aij    EU_K  \n",
      "  str8         str18         str5   float64    float64   float64 \n",
      "-------- ------------------ ----- ----------- --------- ---------\n",
      "41KClv=0 Potassium chloride 29-28 217.5430431  -2.20681 156.71091, <Table length=1>\n",
      "Species   ChemicalName   QNs      Freq    log10_Aij    EU_K   \n",
      "  str7       str15       str5   float64    float64   float64  \n",
      "------- --------------- ----- ----------- --------- ----------\n",
      "NaClv=2 Sodium Chloride 17-16 217.9802149  -2.31227 1128.38157, <Table length=1>\n",
      "Species   ChemicalName   QNs     Freq    log10_Aij    EU_K  \n",
      "  str7       str15       str5  float64    float64   float64 \n",
      "------- --------------- ----- ---------- --------- ---------\n",
      "NaClv=1 Sodium Chloride 17-16 219.614922  -2.30839 614.50884, <Table length=3>\n",
      "Species     ChemicalName     QNs      Freq    log10_Aij    EU_K  \n",
      "  str8         str18         str5   float64    float64   float64 \n",
      "-------- ------------------ ----- ----------- --------- ---------\n",
      "  KClv=0 Potassium chloride 30-29   230.32056   -2.2017 171.45701\n",
      " NaClv=2    Sodium Chloride 18-17 230.7791504  -2.23734 1139.4571\n",
      "41KClv=1 Potassium chloride 31-30 231.0880933   -2.1226 572.24213, <Table length=1>\n",
      "Species   ChemicalName   QNs     Freq   log10_Aij    EU_K  \n",
      "  str7       str15       str5  float64   float64   float64 \n",
      "------- --------------- ----- --------- --------- ---------\n",
      "NaClv=0 Sodium Chloride 18-17 234.25183  -2.22932 106.84828], ('I19368c1', '2019.1.01463.S'): [<Table length=2>\n",
      "Species     ChemicalName     QNs      Freq    log10_Aij    EU_K   \n",
      "  str8         str18         str5   float64    float64   float64  \n",
      "-------- ------------------ ----- ----------- --------- ----------\n",
      "41KClv=0 Potassium chloride 29-28 217.5430431  -2.20681  156.71091\n",
      " NaClv=2    Sodium Chloride 17-16 217.9802149  -2.31227 1128.38157, <Table length=2>\n",
      "Species     ChemicalName     QNs      Freq    log10_Aij    EU_K  \n",
      "  str8         str18         str5   float64    float64   float64 \n",
      "-------- ------------------ ----- ----------- --------- ---------\n",
      "41KClv=0 Potassium chloride 31-30 232.4997148  -2.11976 178.66839\n",
      " NaClv=1    Sodium Chloride 18-17   232.50995  -2.23334 625.66754, <Table length=1>\n",
      "Species   ChemicalName   QNs     Freq   log10_Aij    EU_K  \n",
      "  str7       str15       str5  float64   float64   float64 \n",
      "------- --------------- ----- --------- --------- ---------\n",
      "NaClv=0 Sodium Chloride 18-17 234.25183  -2.22932 106.84828], ('S255_IRS3', '2019.1.00437.S'): [<Table length=1>\n",
      "Species     ChemicalName     QNs      Freq    log10_Aij    EU_K  \n",
      "  str8         str18         str5   float64    float64   float64 \n",
      "-------- ------------------ ----- ----------- --------- ---------\n",
      "41KClv=0 Potassium chloride 29-28 217.5430431  -2.20681 156.71091, <Table length=1>\n",
      "Species   ChemicalName   QNs      Freq    log10_Aij    EU_K   \n",
      "  str7       str15       str5   float64    float64   float64  \n",
      "------- --------------- ----- ----------- --------- ----------\n",
      "NaClv=2 Sodium Chloride 17-16 217.9802149  -2.31227 1128.38157, <Table length=1>\n",
      "Species   ChemicalName   QNs     Freq    log10_Aij    EU_K  \n",
      "  str7       str15       str5  float64    float64   float64 \n",
      "------- --------------- ----- ---------- --------- ---------\n",
      "NaClv=1 Sodium Chloride 17-16 219.614922  -2.30839 614.50884, <Table length=3>\n",
      "Species     ChemicalName     QNs      Freq    log10_Aij    EU_K  \n",
      "  str8         str18         str5   float64    float64   float64 \n",
      "-------- ------------------ ----- ----------- --------- ---------\n",
      "  KClv=0 Potassium chloride 30-29   230.32056   -2.2017 171.45701\n",
      " NaClv=2    Sodium Chloride 18-17 230.7791504  -2.23734 1139.4571\n",
      "41KClv=1 Potassium chloride 31-30 231.0880933   -2.1226 572.24213, <Table length=1>\n",
      "Species   ChemicalName   QNs     Freq   log10_Aij    EU_K  \n",
      "  str7       str15       str5  float64   float64   float64 \n",
      "------- --------------- ----- --------- --------- ---------\n",
      "NaClv=0 Sodium Chloride 18-17 234.25183  -2.22932 106.84828], ('HD_50138', '2019.1.01693.S'): [<Table length=2>\n",
      "Species     ChemicalName     QNs      Freq    log10_Aij    EU_K   \n",
      "  str8         str18         str5   float64    float64   float64  \n",
      "-------- ------------------ ----- ----------- --------- ----------\n",
      "41KClv=1 Potassium chloride 29-28 216.2224953  -2.20966  550.41794\n",
      " NaClv=3    Sodium Chloride 17-16 216.3560118  -2.31626 1637.27494, <Table length=1>\n",
      "Species   ChemicalName   QNs     Freq   log10_Aij    EU_K  \n",
      "  str7       str15       str5  float64   float64   float64 \n",
      "------- --------------- ----- --------- --------- ---------\n",
      "NaClv=0 Sodium Chloride 18-17 234.25183  -2.22932 106.84828], ('IRAS17216-3801', '2019.1.00437.S'): [<Table length=1>\n",
      "Species     ChemicalName     QNs      Freq    log10_Aij    EU_K  \n",
      "  str8         str18         str5   float64    float64   float64 \n",
      "-------- ------------------ ----- ----------- --------- ---------\n",
      "41KClv=0 Potassium chloride 29-28 217.5430431  -2.20681 156.71091, <Table length=1>\n",
      "Species   ChemicalName   QNs      Freq    log10_Aij    EU_K   \n",
      "  str7       str15       str5   float64    float64   float64  \n",
      "------- --------------- ----- ----------- --------- ----------\n",
      "NaClv=2 Sodium Chloride 17-16 217.9802149  -2.31227 1128.38157, <Table length=1>\n",
      "Species   ChemicalName   QNs     Freq    log10_Aij    EU_K  \n",
      "  str7       str15       str5  float64    float64   float64 \n",
      "------- --------------- ----- ---------- --------- ---------\n",
      "NaClv=1 Sodium Chloride 17-16 219.614922  -2.30839 614.50884, <Table length=3>\n",
      "Species     ChemicalName     QNs      Freq    log10_Aij    EU_K  \n",
      "  str8         str18         str5   float64    float64   float64 \n",
      "-------- ------------------ ----- ----------- --------- ---------\n",
      "  KClv=0 Potassium chloride 30-29   230.32056   -2.2017 171.45701\n",
      " NaClv=2    Sodium Chloride 18-17 230.7791504  -2.23734 1139.4571\n",
      "41KClv=1 Potassium chloride 31-30 231.0880933   -2.1226 572.24213, <Table length=1>\n",
      "Species   ChemicalName   QNs     Freq   log10_Aij    EU_K  \n",
      "  str7       str15       str5  float64   float64   float64 \n",
      "------- --------------- ----- --------- --------- ---------\n",
      "NaClv=0 Sodium Chloride 18-17 234.25183  -2.22932 106.84828], ('Per-emb-22', '2019.1.01425.S'): [<Table length=2>\n",
      "Species     ChemicalName     QNs      Freq    log10_Aij    EU_K   \n",
      "  str8         str18         str5   float64    float64   float64  \n",
      "-------- ------------------ ----- ----------- --------- ----------\n",
      "41KClv=0 Potassium chloride 29-28 217.5430431  -2.20681  156.71091\n",
      " NaClv=2    Sodium Chloride 17-16 217.9802149  -2.31227 1128.38157, <Table length=1>\n",
      "Species   ChemicalName   QNs     Freq    log10_Aij    EU_K  \n",
      "  str7       str15       str5  float64    float64   float64 \n",
      "------- --------------- ----- ---------- --------- ---------\n",
      "NaClv=1 Sodium Chloride 17-16 219.614922  -2.30839 614.50884, <Table length=3>\n",
      "Species     ChemicalName     QNs      Freq    log10_Aij    EU_K  \n",
      "  str8         str18         str5   float64    float64   float64 \n",
      "-------- ------------------ ----- ----------- --------- ---------\n",
      "  KClv=0 Potassium chloride 30-29   230.32056   -2.2017 171.45701\n",
      " NaClv=2    Sodium Chloride 18-17 230.7791504  -2.23734 1139.4571\n",
      "41KClv=1 Potassium chloride 31-30 231.0880933   -2.1226 572.24213, <Table length=2>\n",
      "Species     ChemicalName     QNs      Freq    log10_Aij    EU_K  \n",
      "  str8         str18         str5   float64    float64   float64 \n",
      "-------- ------------------ ----- ----------- --------- ---------\n",
      "41KClv=0 Potassium chloride 31-30 232.4997148  -2.11976 178.66839\n",
      " NaClv=1    Sodium Chloride 18-17   232.50995  -2.23334 625.66754], ('R_Mon', '2019.1.00437.S'): [<Table length=1>\n",
      "Species     ChemicalName     QNs      Freq    log10_Aij    EU_K  \n",
      "  str8         str18         str5   float64    float64   float64 \n",
      "-------- ------------------ ----- ----------- --------- ---------\n",
      "41KClv=0 Potassium chloride 29-28 217.5430431  -2.20681 156.71091, <Table length=1>\n",
      "Species   ChemicalName   QNs      Freq    log10_Aij    EU_K   \n",
      "  str7       str15       str5   float64    float64   float64  \n",
      "------- --------------- ----- ----------- --------- ----------\n",
      "NaClv=2 Sodium Chloride 17-16 217.9802149  -2.31227 1128.38157, <Table length=1>\n",
      "Species   ChemicalName   QNs     Freq    log10_Aij    EU_K  \n",
      "  str7       str15       str5  float64    float64   float64 \n",
      "------- --------------- ----- ---------- --------- ---------\n",
      "NaClv=1 Sodium Chloride 17-16 219.614922  -2.30839 614.50884, <Table length=3>\n",
      "Species     ChemicalName     QNs      Freq    log10_Aij    EU_K  \n",
      "  str8         str18         str5   float64    float64   float64 \n",
      "-------- ------------------ ----- ----------- --------- ---------\n",
      "  KClv=0 Potassium chloride 30-29   230.32056   -2.2017 171.45701\n",
      " NaClv=2    Sodium Chloride 18-17 230.7791504  -2.23734 1139.4571\n",
      "41KClv=1 Potassium chloride 31-30 231.0880933   -2.1226 572.24213, <Table length=1>\n",
      "Species   ChemicalName   QNs     Freq   log10_Aij    EU_K  \n",
      "  str7       str15       str5  float64   float64   float64 \n",
      "------- --------------- ----- --------- --------- ---------\n",
      "NaClv=0 Sodium Chloride 18-17 234.25183  -2.22932 106.84828], ('e1', '2019.1.00462.S'): [<Table length=2>\n",
      "Species     ChemicalName     QNs      Freq    log10_Aij    EU_K  \n",
      "  str8         str18         str5   float64    float64   float64 \n",
      "-------- ------------------ ----- ----------- --------- ---------\n",
      "41KClv=0 Potassium chloride 31-30 232.4997148  -2.11976 178.66839\n",
      " NaClv=1    Sodium Chloride 18-17   232.50995  -2.23334 625.66754, <Table length=1>\n",
      "Species   ChemicalName   QNs     Freq   log10_Aij    EU_K  \n",
      "  str7       str15       str5  float64   float64   float64 \n",
      "------- --------------- ----- --------- --------- ---------\n",
      "NaClv=0 Sodium Chloride 18-17 234.25183  -2.22932 106.84828], ('I18337c3', '2019.1.01463.S'): [<Table length=2>\n",
      "Species     ChemicalName     QNs      Freq    log10_Aij    EU_K   \n",
      "  str8         str18         str5   float64    float64   float64  \n",
      "-------- ------------------ ----- ----------- --------- ----------\n",
      "41KClv=0 Potassium chloride 29-28 217.5430431  -2.20681  156.71091\n",
      " NaClv=2    Sodium Chloride 17-16 217.9802149  -2.31227 1128.38157, <Table length=2>\n",
      "Species     ChemicalName     QNs      Freq    log10_Aij    EU_K  \n",
      "  str8         str18         str5   float64    float64   float64 \n",
      "-------- ------------------ ----- ----------- --------- ---------\n",
      "41KClv=0 Potassium chloride 31-30 232.4997148  -2.11976 178.66839\n",
      " NaClv=1    Sodium Chloride 18-17   232.50995  -2.23334 625.66754, <Table length=1>\n",
      "Species   ChemicalName   QNs     Freq   log10_Aij    EU_K  \n",
      "  str7       str15       str5  float64   float64   float64 \n",
      "------- --------------- ----- --------- --------- ---------\n",
      "NaClv=0 Sodium Chloride 18-17 234.25183  -2.22932 106.84828], ('Per-emb-2', '2019.1.01425.S'): [<Table length=2>\n",
      "Species     ChemicalName     QNs      Freq    log10_Aij    EU_K   \n",
      "  str8         str18         str5   float64    float64   float64  \n",
      "-------- ------------------ ----- ----------- --------- ----------\n",
      "41KClv=0 Potassium chloride 29-28 217.5430431  -2.20681  156.71091\n",
      " NaClv=2    Sodium Chloride 17-16 217.9802149  -2.31227 1128.38157, <Table length=1>\n",
      "Species   ChemicalName   QNs     Freq    log10_Aij    EU_K  \n",
      "  str7       str15       str5  float64    float64   float64 \n",
      "------- --------------- ----- ---------- --------- ---------\n",
      "NaClv=1 Sodium Chloride 17-16 219.614922  -2.30839 614.50884, <Table length=3>\n",
      "Species     ChemicalName     QNs      Freq    log10_Aij    EU_K  \n",
      "  str8         str18         str5   float64    float64   float64 \n",
      "-------- ------------------ ----- ----------- --------- ---------\n",
      "  KClv=0 Potassium chloride 30-29   230.32056   -2.2017 171.45701\n",
      " NaClv=2    Sodium Chloride 18-17 230.7791504  -2.23734 1139.4571\n",
      "41KClv=1 Potassium chloride 31-30 231.0880933   -2.1226 572.24213, <Table length=2>\n",
      "Species     ChemicalName     QNs      Freq    log10_Aij    EU_K  \n",
      "  str8         str18         str5   float64    float64   float64 \n",
      "-------- ------------------ ----- ----------- --------- ---------\n",
      "41KClv=0 Potassium chloride 31-30 232.4997148  -2.11976 178.66839\n",
      " NaClv=1    Sodium Chloride 18-17   232.50995  -2.23334 625.66754], ('SVS13A', '2019.1.01425.S'): [<Table length=2>\n",
      "Species     ChemicalName     QNs      Freq    log10_Aij    EU_K   \n",
      "  str8         str18         str5   float64    float64   float64  \n",
      "-------- ------------------ ----- ----------- --------- ----------\n",
      "41KClv=0 Potassium chloride 29-28 217.5430431  -2.20681  156.71091\n",
      " NaClv=2    Sodium Chloride 17-16 217.9802149  -2.31227 1128.38157, <Table length=1>\n",
      "Species   ChemicalName   QNs     Freq    log10_Aij    EU_K  \n",
      "  str7       str15       str5  float64    float64   float64 \n",
      "------- --------------- ----- ---------- --------- ---------\n",
      "NaClv=1 Sodium Chloride 17-16 219.614922  -2.30839 614.50884, <Table length=3>\n",
      "Species     ChemicalName     QNs      Freq    log10_Aij    EU_K  \n",
      "  str8         str18         str5   float64    float64   float64 \n",
      "-------- ------------------ ----- ----------- --------- ---------\n",
      "  KClv=0 Potassium chloride 30-29   230.32056   -2.2017 171.45701\n",
      " NaClv=2    Sodium Chloride 18-17 230.7791504  -2.23734 1139.4571\n",
      "41KClv=1 Potassium chloride 31-30 231.0880933   -2.1226 572.24213, <Table length=2>\n",
      "Species     ChemicalName     QNs      Freq    log10_Aij    EU_K  \n",
      "  str8         str18         str5   float64    float64   float64 \n",
      "-------- ------------------ ----- ----------- --------- ---------\n",
      "41KClv=0 Potassium chloride 31-30 232.4997148  -2.11976 178.66839\n",
      " NaClv=1    Sodium Chloride 18-17   232.50995  -2.23334 625.66754], ('Per-emb-35', '2019.1.01425.S'): [<Table length=2>\n",
      "Species     ChemicalName     QNs      Freq    log10_Aij    EU_K   \n",
      "  str8         str18         str5   float64    float64   float64  \n",
      "-------- ------------------ ----- ----------- --------- ----------\n",
      "41KClv=0 Potassium chloride 29-28 217.5430431  -2.20681  156.71091\n",
      " NaClv=2    Sodium Chloride 17-16 217.9802149  -2.31227 1128.38157, <Table length=1>\n",
      "Species   ChemicalName   QNs     Freq    log10_Aij    EU_K  \n",
      "  str7       str15       str5  float64    float64   float64 \n",
      "------- --------------- ----- ---------- --------- ---------\n",
      "NaClv=1 Sodium Chloride 17-16 219.614922  -2.30839 614.50884, <Table length=3>\n",
      "Species     ChemicalName     QNs      Freq    log10_Aij    EU_K  \n",
      "  str8         str18         str5   float64    float64   float64 \n",
      "-------- ------------------ ----- ----------- --------- ---------\n",
      "  KClv=0 Potassium chloride 30-29   230.32056   -2.2017 171.45701\n",
      " NaClv=2    Sodium Chloride 18-17 230.7791504  -2.23734 1139.4571\n",
      "41KClv=1 Potassium chloride 31-30 231.0880933   -2.1226 572.24213, <Table length=2>\n",
      "Species     ChemicalName     QNs      Freq    log10_Aij    EU_K  \n",
      "  str8         str18         str5   float64    float64   float64 \n",
      "-------- ------------------ ----- ----------- --------- ---------\n",
      "41KClv=0 Potassium chloride 31-30 232.4997148  -2.11976 178.66839\n",
      " NaClv=1    Sodium Chloride 18-17   232.50995  -2.23334 625.66754], ('Per-emb-5', '2019.1.01425.S'): [<Table length=2>\n",
      "Species     ChemicalName     QNs      Freq    log10_Aij    EU_K   \n",
      "  str8         str18         str5   float64    float64   float64  \n",
      "-------- ------------------ ----- ----------- --------- ----------\n",
      "41KClv=0 Potassium chloride 29-28 217.5430431  -2.20681  156.71091\n",
      " NaClv=2    Sodium Chloride 17-16 217.9802149  -2.31227 1128.38157, <Table length=1>\n",
      "Species   ChemicalName   QNs     Freq    log10_Aij    EU_K  \n",
      "  str7       str15       str5  float64    float64   float64 \n",
      "------- --------------- ----- ---------- --------- ---------\n",
      "NaClv=1 Sodium Chloride 17-16 219.614922  -2.30839 614.50884, <Table length=3>\n",
      "Species     ChemicalName     QNs      Freq    log10_Aij    EU_K  \n",
      "  str8         str18         str5   float64    float64   float64 \n",
      "-------- ------------------ ----- ----------- --------- ---------\n",
      "  KClv=0 Potassium chloride 30-29   230.32056   -2.2017 171.45701\n",
      " NaClv=2    Sodium Chloride 18-17 230.7791504  -2.23734 1139.4571\n",
      "41KClv=1 Potassium chloride 31-30 231.0880933   -2.1226 572.24213, <Table length=2>\n",
      "Species     ChemicalName     QNs      Freq    log10_Aij    EU_K  \n",
      "  str8         str18         str5   float64    float64   float64 \n",
      "-------- ------------------ ----- ----------- --------- ---------\n",
      "41KClv=0 Potassium chloride 31-30 232.4997148  -2.11976 178.66839\n",
      " NaClv=1    Sodium Chloride 18-17   232.50995  -2.23334 625.66754], ('Per-emb-18', '2019.1.01425.S'): [<Table length=2>\n",
      "Species     ChemicalName     QNs      Freq    log10_Aij    EU_K   \n",
      "  str8         str18         str5   float64    float64   float64  \n",
      "-------- ------------------ ----- ----------- --------- ----------\n",
      "41KClv=0 Potassium chloride 29-28 217.5430431  -2.20681  156.71091\n",
      " NaClv=2    Sodium Chloride 17-16 217.9802149  -2.31227 1128.38157, <Table length=1>\n",
      "Species   ChemicalName   QNs     Freq    log10_Aij    EU_K  \n",
      "  str7       str15       str5  float64    float64   float64 \n",
      "------- --------------- ----- ---------- --------- ---------\n",
      "NaClv=1 Sodium Chloride 17-16 219.614922  -2.30839 614.50884, <Table length=3>\n",
      "Species     ChemicalName     QNs      Freq    log10_Aij    EU_K  \n",
      "  str8         str18         str5   float64    float64   float64 \n",
      "-------- ------------------ ----- ----------- --------- ---------\n",
      "  KClv=0 Potassium chloride 30-29   230.32056   -2.2017 171.45701\n",
      " NaClv=2    Sodium Chloride 18-17 230.7791504  -2.23734 1139.4571\n",
      "41KClv=1 Potassium chloride 31-30 231.0880933   -2.1226 572.24213, <Table length=2>\n",
      "Species     ChemicalName     QNs      Freq    log10_Aij    EU_K  \n",
      "  str8         str18         str5   float64    float64   float64 \n",
      "-------- ------------------ ----- ----------- --------- ---------\n",
      "41KClv=0 Potassium chloride 31-30 232.4997148  -2.11976 178.66839\n",
      " NaClv=1    Sodium Chloride 18-17   232.50995  -2.23334 625.66754], ('NGC1333IRAS2A', '2019.1.01425.S'): [<Table length=2>\n",
      "Species     ChemicalName     QNs      Freq    log10_Aij    EU_K   \n",
      "  str8         str18         str5   float64    float64   float64  \n",
      "-------- ------------------ ----- ----------- --------- ----------\n",
      "41KClv=0 Potassium chloride 29-28 217.5430431  -2.20681  156.71091\n",
      " NaClv=2    Sodium Chloride 17-16 217.9802149  -2.31227 1128.38157, <Table length=1>\n",
      "Species   ChemicalName   QNs     Freq    log10_Aij    EU_K  \n",
      "  str7       str15       str5  float64    float64   float64 \n",
      "------- --------------- ----- ---------- --------- ---------\n",
      "NaClv=1 Sodium Chloride 17-16 219.614922  -2.30839 614.50884, <Table length=3>\n",
      "Species     ChemicalName     QNs      Freq    log10_Aij    EU_K  \n",
      "  str8         str18         str5   float64    float64   float64 \n",
      "-------- ------------------ ----- ----------- --------- ---------\n",
      "  KClv=0 Potassium chloride 30-29   230.32056   -2.2017 171.45701\n",
      " NaClv=2    Sodium Chloride 18-17 230.7791504  -2.23734 1139.4571\n",
      "41KClv=1 Potassium chloride 31-30 231.0880933   -2.1226 572.24213, <Table length=2>\n",
      "Species     ChemicalName     QNs      Freq    log10_Aij    EU_K  \n",
      "  str8         str18         str5   float64    float64   float64 \n",
      "-------- ------------------ ----- ----------- --------- ---------\n",
      "41KClv=0 Potassium chloride 31-30 232.4997148  -2.11976 178.66839\n",
      " NaClv=1    Sodium Chloride 18-17   232.50995  -2.23334 625.66754], ('NGC1333IRAS2B', '2019.1.01425.S'): [<Table length=2>\n",
      "Species     ChemicalName     QNs      Freq    log10_Aij    EU_K   \n",
      "  str8         str18         str5   float64    float64   float64  \n",
      "-------- ------------------ ----- ----------- --------- ----------\n",
      "41KClv=0 Potassium chloride 29-28 217.5430431  -2.20681  156.71091\n",
      " NaClv=2    Sodium Chloride 17-16 217.9802149  -2.31227 1128.38157, <Table length=1>\n",
      "Species   ChemicalName   QNs     Freq    log10_Aij    EU_K  \n",
      "  str7       str15       str5  float64    float64   float64 \n",
      "------- --------------- ----- ---------- --------- ---------\n",
      "NaClv=1 Sodium Chloride 17-16 219.614922  -2.30839 614.50884, <Table length=3>\n",
      "Species     ChemicalName     QNs      Freq    log10_Aij    EU_K  \n",
      "  str8         str18         str5   float64    float64   float64 \n",
      "-------- ------------------ ----- ----------- --------- ---------\n",
      "  KClv=0 Potassium chloride 30-29   230.32056   -2.2017 171.45701\n",
      " NaClv=2    Sodium Chloride 18-17 230.7791504  -2.23734 1139.4571\n",
      "41KClv=1 Potassium chloride 31-30 231.0880933   -2.1226 572.24213, <Table length=2>\n",
      "Species     ChemicalName     QNs      Freq    log10_Aij    EU_K  \n",
      "  str8         str18         str5   float64    float64   float64 \n",
      "-------- ------------------ ----- ----------- --------- ---------\n",
      "41KClv=0 Potassium chloride 31-30 232.4997148  -2.11976 178.66839\n",
      " NaClv=1    Sodium Chloride 18-17   232.50995  -2.23334 625.66754]}\n"
     ]
    }
   ],
   "source": [
    "%run ../code/find_salt_obs.py"
   ]
  },
  {
   "cell_type": "code",
   "execution_count": 3,
   "metadata": {},
   "outputs": [],
   "source": [
    "import pprint"
   ]
  },
  {
   "cell_type": "code",
   "execution_count": 4,
   "metadata": {},
   "outputs": [
    {
     "data": {
      "text/plain": [
       "['obs_publisher_did',\n",
       " 'obs_collection',\n",
       " 'facility_name',\n",
       " 'instrument_name',\n",
       " 'obs_id',\n",
       " 'dataproduct_type',\n",
       " 'calib_level',\n",
       " 'target_name',\n",
       " 's_ra',\n",
       " 's_dec',\n",
       " 's_fov',\n",
       " 's_region',\n",
       " 's_resolution',\n",
       " 't_min',\n",
       " 't_max',\n",
       " 't_exptime',\n",
       " 't_resolution',\n",
       " 'em_min',\n",
       " 'em_max',\n",
       " 'em_res_power',\n",
       " 'pol_states',\n",
       " 'o_ucd',\n",
       " 'access_url',\n",
       " 'access_format',\n",
       " 'proposal_id',\n",
       " 'data_rights',\n",
       " 'gal_longitude',\n",
       " 'gal_latitude',\n",
       " 'band_list',\n",
       " 'em_resolution',\n",
       " 'bandwidth',\n",
       " 'antenna_arrays',\n",
       " 'is_mosaic',\n",
       " 'obs_release_date',\n",
       " 'spatial_resolution',\n",
       " 'frequency_support',\n",
       " 'frequency',\n",
       " 'velocity_resolution',\n",
       " 'obs_creator_name',\n",
       " 'pub_title',\n",
       " 'first_author',\n",
       " 'authors',\n",
       " 'pub_abstract',\n",
       " 'publication_year',\n",
       " 'proposal_abstract',\n",
       " 'schedblock_name',\n",
       " 'proposal_authors',\n",
       " 'sensitivity_10kms',\n",
       " 'cont_sensitivity_bandwidth',\n",
       " 'pwv',\n",
       " 'group_ous_uid',\n",
       " 'member_ous_uid',\n",
       " 'asdm_uid',\n",
       " 'obs_title',\n",
       " 'type',\n",
       " 'scan_intent',\n",
       " 'science_observation',\n",
       " 'spatial_scale_max',\n",
       " 'qa2_passed',\n",
       " 'bib_reference',\n",
       " 'science_keyword',\n",
       " 'scientific_category',\n",
       " 'lastModified',\n",
       " 'Line sensitivity (K)',\n",
       " 'Has salt']"
      ]
     },
     "execution_count": 4,
     "metadata": {},
     "output_type": "execute_result"
    }
   ],
   "source": [
    "result.colnames"
   ]
  },
  {
   "cell_type": "code",
   "execution_count": 5,
   "metadata": {},
   "outputs": [
    {
     "data": {
      "text/html": [
       "<i>Table length=818</i>\n",
       "<table id=\"table47279514436896-588233\" class=\"table-striped table-bordered table-condensed\">\n",
       "<thead><tr><th>idx</th><th>proposal_id</th><th>obs_creator_name</th><th>target_name</th><th>spatial_resolution</th><th>Line sensitivity (K)</th><th>velocity_resolution</th><th>t_exptime</th><th>Has salt</th></tr></thead>\n",
       "<thead><tr><th></th><th></th><th></th><th></th><th>arcsec</th><th>K</th><th>m / s</th><th>s</th><th></th></tr></thead>\n",
       "<tr><td>0</td><td>2018.1.01309.S</td><td>Perez, Sebastian</td><td>HD100546</td><td>0.019347574811558133</td><td>29.409521160570225</td><td>157.59836371771783</td><td>17741.877</td><td>True</td></tr>\n",
       "<tr><td>1</td><td>2018.1.01309.S</td><td>Perez, Sebastian</td><td>HD100546</td><td>0.019347574811558133</td><td>28.942874199228367</td><td>157.59836371771783</td><td>17741.877</td><td>True</td></tr>\n",
       "<tr><td>2</td><td>2018.1.01309.S</td><td>Perez, Sebastian</td><td>HD100546</td><td>0.019347574811558133</td><td>30.185656954256096</td><td>157.59836371771783</td><td>17741.877</td><td>True</td></tr>\n",
       "<tr><td>3</td><td>2013.1.00048.S</td><td>Hirota, Tomoya</td><td>Orion_Source_I</td><td>0.09556507488725119</td><td>8.917204963516776</td><td>587.1078567513507</td><td>302.4</td><td>True</td></tr>\n",
       "<tr><td>4</td><td>2013.1.00048.S</td><td>Hirota, Tomoya</td><td>Orion_Source_I</td><td>0.09556507488725119</td><td>4.6071123195737425</td><td>587.1078567513507</td><td>302.4</td><td>True</td></tr>\n",
       "<tr><td>5</td><td>2017.1.00237.S</td><td>Sanhueza, Patricio</td><td>IRAS_18337-0743</td><td>0.04280020056848755</td><td>16.653550693433264</td><td>1253.4542298558822</td><td>471.744</td><td>True</td></tr>\n",
       "<tr><td>6</td><td>2017.1.00237.S</td><td>Sanhueza, Patricio</td><td>G351.77-0.54</td><td>0.0444219653697324</td><td>15.170683184742467</td><td>1253.5300015950363</td><td>471.744</td><td>True</td></tr>\n",
       "<tr><td>7</td><td>2017.1.00237.S</td><td>Sanhueza, Patricio</td><td>G351.77-0.54</td><td>0.0444219653697324</td><td>14.970509774244666</td><td>1253.5300015950363</td><td>471.744</td><td>True</td></tr>\n",
       "<tr><td>8</td><td>2015.1.00500.S</td><td>Liu, Sheng-Yuan</td><td>S255_IR</td><td>0.07525673210466478</td><td>1.3860184188405476</td><td>215.22315722627167</td><td>7711.2</td><td>True</td></tr>\n",
       "<tr><td>9</td><td>2015.1.00500.S</td><td>Liu, Sheng-Yuan</td><td>S255_IR</td><td>0.07525673210466478</td><td>1.310204633642742</td><td>215.22315722627167</td><td>7711.2</td><td>True</td></tr>\n",
       "<tr><td>10</td><td>2015.1.00500.S</td><td>Liu, Sheng-Yuan</td><td>S255_IR</td><td>0.07525673210466478</td><td>1.3123825690134754</td><td>215.22315722627167</td><td>7711.2</td><td>True</td></tr>\n",
       "<tr><td>11</td><td>2017.1.00098.S</td><td>Maud, Luke</td><td>G17.64+0.16</td><td>0.019843536271151953</td><td>31.361850296496772</td><td>1339.214427443255</td><td>1814.4</td><td>True</td></tr>\n",
       "<tr><td>12</td><td>2017.1.00098.S</td><td>Maud, Luke</td><td>G17.64+0.16</td><td>0.019843536271151953</td><td>31.242740113499806</td><td>1339.214427443255</td><td>1814.4</td><td>True</td></tr>\n",
       "<tr><td>13</td><td>2017.1.00098.S</td><td>Maud, Luke</td><td>G17.64+0.16</td><td>0.019843536271151953</td><td>31.369909165680742</td><td>1339.214427443255</td><td>1814.4</td><td>True</td></tr>\n",
       "<tr><td>14</td><td>2017.1.00237.S</td><td>Sanhueza, Patricio</td><td>G335.78+0.17</td><td>0.04442133453651622</td><td>13.702958231963711</td><td>1253.542991258406</td><td>489.888</td><td>True</td></tr>\n",
       "<tr><td>15</td><td>2017.1.00237.S</td><td>Sanhueza, Patricio</td><td>G333.46-0.16</td><td>0.044421209295735065</td><td>13.918913064990978</td><td>1253.542991258406</td><td>489.888</td><td>True</td></tr>\n",
       "<tr><td>16</td><td>2017.1.00237.S</td><td>Sanhueza, Patricio</td><td>G343.12-0.06</td><td>0.04442138666744591</td><td>15.171003510652735</td><td>1253.5300015950363</td><td>471.744</td><td>True</td></tr>\n",
       "<tr><td>17</td><td>2017.1.00237.S</td><td>Sanhueza, Patricio</td><td>G343.12-0.06</td><td>0.04442138666744591</td><td>14.970822638105634</td><td>1253.5300015950363</td><td>471.744</td><td>True</td></tr>\n",
       "<tr><td>18</td><td>2017.1.00237.S</td><td>Sanhueza, Patricio</td><td>G351.77-0.54</td><td>0.0444219653697324</td><td>14.6072209862244</td><td>1253.5300015950363</td><td>471.744</td><td>True</td></tr>\n",
       "<tr><td>19</td><td>2017.1.00237.S</td><td>Sanhueza, Patricio</td><td>G351.77-0.54</td><td>0.0444219653697324</td><td>14.911231808332955</td><td>1253.5300015950363</td><td>471.744</td><td>True</td></tr>\n",
       "<tr><td>20</td><td>2017.1.00098.S</td><td>Maud, Luke</td><td>G17.64+0.16</td><td>0.019843536271151953</td><td>31.261995980975982</td><td>1339.214427443255</td><td>1814.4</td><td>True</td></tr>\n",
       "<tr><td>21</td><td>2017.1.00237.S</td><td>Sanhueza, Patricio</td><td>G333.46-0.16</td><td>0.044421209295735065</td><td>13.703020289843792</td><td>1253.542991258406</td><td>489.888</td><td>True</td></tr>\n",
       "<tr><td>22</td><td>2017.1.00237.S</td><td>Sanhueza, Patricio</td><td>G333.12-0.56</td><td>0.044421206081723404</td><td>13.91891469723544</td><td>1253.542991258406</td><td>489.888</td><td>True</td></tr>\n",
       "<tr><td>23</td><td>2017.1.00237.S</td><td>Sanhueza, Patricio</td><td>G333.12-0.56</td><td>0.044421206081723404</td><td>13.423646828466563</td><td>1253.542991258406</td><td>489.888</td><td>True</td></tr>\n",
       "<tr><td>24</td><td>2017.1.00237.S</td><td>Sanhueza, Patricio</td><td>G333.12-0.56</td><td>0.044421206081723404</td><td>13.757496244912456</td><td>1253.542991258406</td><td>489.888</td><td>True</td></tr>\n",
       "<tr><td>25</td><td>2017.1.00237.S</td><td>Sanhueza, Patricio</td><td>G333.12-0.56</td><td>0.044421206081723404</td><td>13.703021882420416</td><td>1253.542991258406</td><td>489.888</td><td>True</td></tr>\n",
       "<tr><td>26</td><td>2017.1.00237.S</td><td>Sanhueza, Patricio</td><td>G34.43+0.24MM2</td><td>0.04235900452476816</td><td>18.601478652721198</td><td>1325.0540847426673</td><td>979.776</td><td>True</td></tr>\n",
       "<tr><td>27</td><td>2017.1.00237.S</td><td>Sanhueza, Patricio</td><td>G34.43+0.24MM2</td><td>0.04235900452476816</td><td>19.064103137041347</td><td>1325.0540847426673</td><td>979.776</td><td>True</td></tr>\n",
       "<tr><td>28</td><td>2017.1.00237.S</td><td>Sanhueza, Patricio</td><td>G34.43+0.24MM2</td><td>0.04235900452476816</td><td>18.988616496936736</td><td>1325.0540847426673</td><td>979.776</td><td>True</td></tr>\n",
       "<tr><td>29</td><td>2015.1.00500.S</td><td>Liu, Sheng-Yuan</td><td>S255_IR</td><td>0.07525673210466478</td><td>1.3879838251279755</td><td>215.22315722627167</td><td>7711.2</td><td>True</td></tr>\n",
       "<tr><td>30</td><td>2017.1.00237.S</td><td>Sanhueza, Patricio</td><td>G335.78+0.17</td><td>0.04442133453651622</td><td>13.757432425578807</td><td>1253.542991258406</td><td>489.888</td><td>True</td></tr>\n",
       "<tr><td>31</td><td>2017.1.00237.S</td><td>Sanhueza, Patricio</td><td>G35.13-0.74</td><td>0.04235908610286712</td><td>19.452876351033762</td><td>1325.0540847426673</td><td>979.776</td><td>True</td></tr>\n",
       "<tr><td>32</td><td>2017.1.00237.S</td><td>Sanhueza, Patricio</td><td>G35.13-0.74</td><td>0.04235908610286712</td><td>18.601408214649574</td><td>1325.0540847426673</td><td>979.776</td><td>True</td></tr>\n",
       "<tr><td>33</td><td>2017.1.00237.S</td><td>Sanhueza, Patricio</td><td>IRAS_18337-0743</td><td>0.04280020056848755</td><td>15.89560503967122</td><td>1253.4542298558822</td><td>471.744</td><td>True</td></tr>\n",
       "<tr><td>34</td><td>2017.1.00237.S</td><td>Sanhueza, Patricio</td><td>G336.01-0.82</td><td>0.04442138654115444</td><td>13.918823050934705</td><td>1253.542991258406</td><td>489.888</td><td>True</td></tr>\n",
       "<tr><td>35</td><td>2017.1.00237.S</td><td>Sanhueza, Patricio</td><td>G336.01-0.82</td><td>0.04442138654115444</td><td>13.423558582838886</td><td>1253.542991258406</td><td>489.888</td><td>True</td></tr>\n",
       "<tr><td>36</td><td>2017.1.00237.S</td><td>Sanhueza, Patricio</td><td>G336.01-0.82</td><td>0.04442138654115444</td><td>13.757406588606486</td><td>1253.542991258406</td><td>489.888</td><td>True</td></tr>\n",
       "<tr><td>37</td><td>2017.1.00237.S</td><td>Sanhueza, Patricio</td><td>G336.01-0.82</td><td>0.04442138654115444</td><td>13.702932463360714</td><td>1253.542991258406</td><td>489.888</td><td>True</td></tr>\n",
       "<tr><td>38</td><td>2017.1.00237.S</td><td>Sanhueza, Patricio</td><td>IRAS_18337-0743</td><td>0.04280020056848755</td><td>16.719754597216983</td><td>1253.4542298558822</td><td>471.744</td><td>True</td></tr>\n",
       "<tr><td>39</td><td>2017.1.00237.S</td><td>Sanhueza, Patricio</td><td>G343.12-0.06</td><td>0.04442138666744591</td><td>14.60752892731514</td><td>1253.5300015950363</td><td>471.744</td><td>True</td></tr>\n",
       "<tr><td>40</td><td>2017.1.00237.S</td><td>Sanhueza, Patricio</td><td>G343.12-0.06</td><td>0.04442138666744591</td><td>14.911543844289207</td><td>1253.5300015950363</td><td>471.744</td><td>True</td></tr>\n",
       "<tr><td>41</td><td>2017.1.00237.S</td><td>Sanhueza, Patricio</td><td>IRAS_18337-0743</td><td>0.04280020056848755</td><td>15.960566059929965</td><td>1253.4542298558822</td><td>471.744</td><td>True</td></tr>\n",
       "<tr><td>42</td><td>2013.1.00048.S</td><td>Hirota, Tomoya</td><td>Orion_Source_I</td><td>0.09759547860353604</td><td>5.336471344613269</td><td>616.517791568312</td><td>393.12</td><td>True</td></tr>\n",
       "<tr><td>43</td><td>2013.1.00048.S</td><td>Hirota, Tomoya</td><td>Orion_Source_I</td><td>0.09759547860353604</td><td>5.334192166036308</td><td>616.517791568312</td><td>393.12</td><td>True</td></tr>\n",
       "<tr><td>44</td><td>2016.1.00223.S</td><td>Beltran, Maite</td><td>G31.41+0.31</td><td>0.09487284788256904</td><td>1.0002589685631844</td><td>663.2810523270957</td><td>7620.48</td><td>True</td></tr>\n",
       "<tr><td>45</td><td>2013.1.00048.S</td><td>Hirota, Tomoya</td><td>Orion_Source_I</td><td>0.09556507488725119</td><td>8.918375289405958</td><td>587.1078567513507</td><td>302.4</td><td>True</td></tr>\n",
       "<tr><td>46</td><td>2016.1.00223.S</td><td>Beltran, Maite</td><td>G31.41+0.31</td><td>0.09487284788256904</td><td>1.0072183025106365</td><td>663.2810523270957</td><td>7620.48</td><td>True</td></tr>\n",
       "<tr><td>47</td><td>2016.1.00223.S</td><td>Beltran, Maite</td><td>G31.41+0.31</td><td>0.09487284788256904</td><td>1.0057827679507962</td><td>663.2810523270957</td><td>7620.48</td><td>True</td></tr>\n",
       "<tr><td>48</td><td>2016.1.00223.S</td><td>Beltran, Maite</td><td>G31.41+0.31</td><td>0.09487284788256904</td><td>1.0054050408904949</td><td>663.2810523270957</td><td>7620.48</td><td>True</td></tr>\n",
       "<tr><td>49</td><td>2016.1.00223.S</td><td>Beltran, Maite</td><td>G31.41+0.31</td><td>0.09487284788256904</td><td>1.0009947345402033</td><td>663.2810523270957</td><td>7620.48</td><td>True</td></tr>\n",
       "<tr><td>50</td><td>2013.1.00048.S</td><td>Hirota, Tomoya</td><td>Orion_Source_I</td><td>0.07480804102837274</td><td>10.269344361965578</td><td>663.1584437215117</td><td>1844.64</td><td>True</td></tr>\n",
       "<tr><td>51</td><td>2013.1.00048.S</td><td>Hirota, Tomoya</td><td>Orion_Source_I</td><td>0.07480804102837274</td><td>10.737884177326153</td><td>663.1584437215117</td><td>1844.64</td><td>True</td></tr>\n",
       "<tr><td>52</td><td>2013.1.00048.S</td><td>Hirota, Tomoya</td><td>Orion_Source_I</td><td>0.07480804102837274</td><td>10.293401959393995</td><td>663.1584437215117</td><td>1844.64</td><td>True</td></tr>\n",
       "<tr><td>53</td><td>2013.1.00048.S</td><td>Hirota, Tomoya</td><td>Orion_Source_I</td><td>0.07480804102837274</td><td>10.28923299791729</td><td>663.1584437215117</td><td>1844.64</td><td>True</td></tr>\n",
       "<tr><td>54</td><td>2016.1.00223.S</td><td>Beltran, Maite</td><td>G31.41+0.31</td><td>0.09487284788256904</td><td>1.0184401885703955</td><td>663.2810523270957</td><td>7620.48</td><td>True</td></tr>\n",
       "<tr><td>55</td><td>2016.1.00223.S</td><td>Beltran, Maite</td><td>G31.41+0.31</td><td>0.09487284788256904</td><td>1.027666652039537</td><td>663.2810523270957</td><td>7620.48</td><td>True</td></tr>\n",
       "<tr><td>56</td><td>2016.1.00223.S</td><td>Beltran, Maite</td><td>G31.41+0.31</td><td>0.07513649191040778</td><td>28.029468475949415</td><td>2977.453636055418</td><td>798.336</td><td>True</td></tr>\n",
       "<tr><td>57</td><td>2016.1.00223.S</td><td>Beltran, Maite</td><td>G31.41+0.31</td><td>0.07513649191040778</td><td>27.71703573510221</td><td>2977.453636055418</td><td>798.336</td><td>True</td></tr>\n",
       "<tr><td>58</td><td>2016.1.00223.S</td><td>Beltran, Maite</td><td>G31.41+0.31</td><td>0.07513649191040778</td><td>26.552684536485074</td><td>2977.453636055418</td><td>798.336</td><td>True</td></tr>\n",
       "<tr><td>59</td><td>2016.1.00223.S</td><td>Beltran, Maite</td><td>G31.41+0.31</td><td>0.07513649191040778</td><td>26.301544392857867</td><td>2977.453636055418</td><td>798.336</td><td>True</td></tr>\n",
       "<tr><td>60</td><td>2013.1.00048.S</td><td>Hirota, Tomoya</td><td>Orion_Source_I</td><td>0.09759547860353604</td><td>4.248238760477091</td><td>616.517791568312</td><td>393.12</td><td>True</td></tr>\n",
       "<tr><td>61</td><td>2018.1.01309.S</td><td>Perez, Sebastian</td><td>HD100546</td><td>0.019347574811558133</td><td>31.31797048693665</td><td>157.59836371771783</td><td>17741.877</td><td>True</td></tr>\n",
       "<tr><td>62</td><td>2013.1.00048.S</td><td>Hirota, Tomoya</td><td>Orion_Source_I</td><td>0.09556507488725119</td><td>4.60683167234226</td><td>587.1078567513507</td><td>302.4</td><td>True</td></tr>\n",
       "<tr><td>63</td><td>2016.1.00223.S</td><td>Beltran, Maite</td><td>G31.41+0.31</td><td>0.09487284788256904</td><td>1.0290837068497187</td><td>663.2810523270957</td><td>7620.48</td><td>True</td></tr>\n",
       "<tr><td>64</td><td>2016.1.00223.S</td><td>Beltran, Maite</td><td>G31.41+0.31</td><td>0.09487284788256904</td><td>1.0272452731205488</td><td>663.2810523270957</td><td>7620.48</td><td>True</td></tr>\n",
       "<tr><td>65</td><td>2016.1.00223.S</td><td>Beltran, Maite</td><td>G31.41+0.31</td><td>0.09487284788256904</td><td>1.0260042772267892</td><td>663.2810523270957</td><td>7620.48</td><td>True</td></tr>\n",
       "<tr><td>66</td><td>2016.1.00223.S</td><td>Beltran, Maite</td><td>G31.41+0.31</td><td>0.09487284788256904</td><td>1.0075995764516497</td><td>663.2810523270957</td><td>7620.48</td><td>True</td></tr>\n",
       "<tr><td>67</td><td>2016.1.00223.S</td><td>Beltran, Maite</td><td>G31.41+0.31</td><td>0.09487284788256904</td><td>1.0019105097600307</td><td>663.2810523270957</td><td>7620.48</td><td>True</td></tr>\n",
       "<tr><td>68</td><td>2016.1.00223.S</td><td>Beltran, Maite</td><td>G31.41+0.31</td><td>0.09487284788256904</td><td>1.0006264642001024</td><td>663.2810523270957</td><td>7620.48</td><td>True</td></tr>\n",
       "<tr><td>69</td><td>2013.1.00048.S</td><td>Hirota, Tomoya</td><td>Orion_Source_I</td><td>0.09759547860353604</td><td>5.335967217691211</td><td>616.517791568312</td><td>393.12</td><td>True</td></tr>\n",
       "<tr><td>70</td><td>2017.1.00237.S</td><td>Sanhueza, Patricio</td><td>G34.43+0.24MM2</td><td>0.04235900452476816</td><td>19.452950013196194</td><td>1325.0540847426673</td><td>979.776</td><td>True</td></tr>\n",
       "<tr><td>71</td><td>2017.1.00237.S</td><td>Sanhueza, Patricio</td><td>G35.13-0.74</td><td>0.04235908610286712</td><td>19.064030938555447</td><td>1325.0540847426673</td><td>979.776</td><td>True</td></tr>\n",
       "<tr><td>72</td><td>2017.1.00237.S</td><td>Sanhueza, Patricio</td><td>G35.13-0.74</td><td>0.04235908610286712</td><td>18.988544586314845</td><td>1325.0540847426673</td><td>979.776</td><td>True</td></tr>\n",
       "<tr><td>73</td><td>2017.1.00237.S</td><td>Sanhueza, Patricio</td><td>G335.78+0.17</td><td>0.04442133453651622</td><td>13.918849461378311</td><td>1253.542991258406</td><td>489.888</td><td>True</td></tr>\n",
       "<tr><td>74</td><td>2017.1.00237.S</td><td>Sanhueza, Patricio</td><td>G335.78+0.17</td><td>0.04442133453651622</td><td>13.423584013283683</td><td>1253.542991258406</td><td>489.888</td><td>True</td></tr>\n",
       "<tr><td>75</td><td>2017.1.00237.S</td><td>Sanhueza, Patricio</td><td>G333.46-0.16</td><td>0.044421209295735065</td><td>13.423645256788989</td><td>1253.542991258406</td><td>489.888</td><td>True</td></tr>\n",
       "<tr><td>76</td><td>2017.1.00237.S</td><td>Sanhueza, Patricio</td><td>G333.46-0.16</td><td>0.044421209295735065</td><td>13.757494648110429</td><td>1253.542991258406</td><td>489.888</td><td>True</td></tr>\n",
       "<tr><td>77</td><td>2017.1.00237.S</td><td>Sanhueza, Patricio</td><td>G24.60+0.08</td><td>0.04280019947982023</td><td>15.895605694984502</td><td>1253.4542298558822</td><td>471.744</td><td>True</td></tr>\n",
       "<tr><td>78</td><td>2017.1.00237.S</td><td>Sanhueza, Patricio</td><td>G24.60+0.08</td><td>0.04280019947982023</td><td>15.960566716881463</td><td>1253.4542298558822</td><td>471.744</td><td>True</td></tr>\n",
       "<tr><td>79</td><td>2017.1.00237.S</td><td>Sanhueza, Patricio</td><td>G24.60+0.08</td><td>0.04280019947982023</td><td>16.719755279451483</td><td>1253.4542298558822</td><td>471.744</td><td>True</td></tr>\n",
       "<tr><td>80</td><td>2017.1.00237.S</td><td>Sanhueza, Patricio</td><td>G24.60+0.08</td><td>0.04280019947982023</td><td>16.653551373862452</td><td>1253.4542298558822</td><td>471.744</td><td>True</td></tr>\n",
       "<tr><td>81</td><td>2015.1.00357.S</td><td>Tan, Jonathan</td><td>G286_2</td><td>0.041157163673916336</td><td>127.41469152764382</td><td>45.72279733202107</td><td>142.431</td><td>True</td></tr>\n",
       "<tr><td>82</td><td>2015.1.00357.S</td><td>Tan, Jonathan</td><td>G286_1</td><td>0.04115716562222184</td><td>115.27423321218542</td><td>45.72294173220015</td><td>142.431</td><td>True</td></tr>\n",
       "<tr><td>83</td><td>2015.1.00357.S</td><td>Tan, Jonathan</td><td>G286_2</td><td>0.041157163673916336</td><td>127.44575134409456</td><td>45.72279733202107</td><td>142.431</td><td>True</td></tr>\n",
       "<tr><td>84</td><td>2015.1.00424.S</td><td>Kraus, Stefan</td><td>IRAS13481-6124</td><td>0.09368888145176038</td><td>1.0749310962300331</td><td>814.7509449145881</td><td>2509.92</td><td>True</td></tr>\n",
       "<tr><td>85</td><td>2015.1.00424.S</td><td>Kraus, Stefan</td><td>IRAS13481-6124</td><td>0.09368888145176038</td><td>1.0762858650874536</td><td>814.7509449145881</td><td>2509.92</td><td>True</td></tr>\n",
       "<tr><td>86</td><td>2015.1.00424.S</td><td>Kraus, Stefan</td><td>IRAS13481-6124</td><td>0.09368888145176038</td><td>1.0678594745498393</td><td>814.7509449145881</td><td>2509.92</td><td>True</td></tr>\n",
       "<tr><td>87</td><td>2015.1.00424.S</td><td>Kraus, Stefan</td><td>IRAS13481-6124</td><td>0.09368888145176038</td><td>1.0681761396366274</td><td>814.7509449145881</td><td>2509.92</td><td>True</td></tr>\n",
       "<tr><td>88</td><td>2015.1.00424.S</td><td>Kraus, Stefan</td><td>IRAS13481-6124</td><td>0.09368888145176038</td><td>1.299172433666538</td><td>814.7509449145881</td><td>2509.92</td><td>True</td></tr>\n",
       "<tr><td>89</td><td>2017.1.01578.S</td><td>de Boer, Jozua</td><td>HD_34282</td><td>0.04511976924847702</td><td>5.144369403829192</td><td>158.78494779570974</td><td>5007.743</td><td>True</td></tr>\n",
       "<tr><td>90</td><td>2015.1.00357.S</td><td>Tan, Jonathan</td><td>G286_1</td><td>0.04115716562222184</td><td>117.34783384104976</td><td>45.72294173220015</td><td>142.431</td><td>True</td></tr>\n",
       "<tr><td>91</td><td>2015.1.00357.S</td><td>Tan, Jonathan</td><td>G286_1</td><td>0.04115716562222184</td><td>114.41899360013099</td><td>45.72294173220015</td><td>142.431</td><td>True</td></tr>\n",
       "<tr><td>92</td><td>2016.1.01068.S</td><td>Motogi, Kazuhito</td><td>G353.273+0.641</td><td>0.05785185157476912</td><td>19.341585475648753</td><td>1882.0805161057258</td><td>308.448</td><td>True</td></tr>\n",
       "<tr><td>93</td><td>2016.1.01068.S</td><td>Motogi, Kazuhito</td><td>G353.273+0.641</td><td>0.05785185157476912</td><td>17.852895683664126</td><td>1882.0805161057258</td><td>308.448</td><td>True</td></tr>\n",
       "<tr><td>94</td><td>2016.1.01068.S</td><td>Motogi, Kazuhito</td><td>G353.273+0.641</td><td>0.05785185157476912</td><td>18.401702994067996</td><td>1882.0805161057258</td><td>308.448</td><td>True</td></tr>\n",
       "<tr><td>95</td><td>2017.1.00237.S</td><td>Sanhueza, Patricio</td><td>G14.22-0.50_S</td><td>0.045944964460255665</td><td>10.134295272112638</td><td>1325.1203009225012</td><td>453.6</td><td>True</td></tr>\n",
       "<tr><td>96</td><td>2017.1.00237.S</td><td>Sanhueza, Patricio</td><td>G14.22-0.50_S</td><td>0.045944964460255665</td><td>10.308824650271383</td><td>1325.1203009225012</td><td>453.6</td><td>True</td></tr>\n",
       "<tr><td>97</td><td>2017.1.00237.S</td><td>Sanhueza, Patricio</td><td>G14.22-0.50_S</td><td>0.045944964460255665</td><td>10.268005603769463</td><td>1325.1203009225012</td><td>453.6</td><td>True</td></tr>\n",
       "<tr><td>98</td><td>2018.1.00252.S</td><td>Beltran, Maite</td><td>G31.41+0.31</td><td>0.04747427482032002</td><td>60.27027216397845</td><td>3441.562700847001</td><td>689.472</td><td>True</td></tr>\n",
       "<tr><td>99</td><td>2016.1.01068.S</td><td>Motogi, Kazuhito</td><td>G353.273+0.641</td><td>0.05785185157476912</td><td>18.511466713691924</td><td>1882.0805161057258</td><td>308.448</td><td>True</td></tr>\n",
       "<tr><td>100</td><td>2017.1.01578.S</td><td>de Boer, Jozua</td><td>HD_34282</td><td>0.04511976924847702</td><td>5.115118387961594</td><td>158.78494779570974</td><td>5007.743</td><td>True</td></tr>\n",
       "<tr><td>101</td><td>2017.1.01578.S</td><td>de Boer, Jozua</td><td>HD_34282</td><td>0.04511976924847702</td><td>5.1227988823403665</td><td>158.78494779570974</td><td>5007.743</td><td>True</td></tr>\n",
       "<tr><td>102</td><td>2015.1.00357.S</td><td>Tan, Jonathan</td><td>G286_2</td><td>0.041157163673916336</td><td>123.16112177083778</td><td>45.72279733202107</td><td>142.431</td><td>True</td></tr>\n",
       "<tr><td>103</td><td>2015.1.00357.S</td><td>Tan, Jonathan</td><td>G286_2</td><td>0.041157163673916336</td><td>125.10679041377585</td><td>45.72279733202107</td><td>142.431</td><td>True</td></tr>\n",
       "<tr><td>104</td><td>2015.1.00357.S</td><td>Tan, Jonathan</td><td>G286_2</td><td>0.041157163673916336</td><td>127.48287098452552</td><td>45.72279733202107</td><td>142.431</td><td>True</td></tr>\n",
       "<tr><td>105</td><td>2017.1.01247.S</td><td>Dipierro, Giovanni</td><td>IRAS_16293-2422B</td><td>0.040729963277683516</td><td>34.89104183156073</td><td>376.91856595322446</td><td>4790.016</td><td>True</td></tr>\n",
       "<tr><td>106</td><td>2017.1.01247.S</td><td>Dipierro, Giovanni</td><td>IRAS_16293-2422B</td><td>0.040729963277683516</td><td>38.46427451827018</td><td>376.91856595322446</td><td>4790.016</td><td>True</td></tr>\n",
       "<tr><td>107</td><td>2015.1.00357.S</td><td>Tan, Jonathan</td><td>G286_1</td><td>0.04115716562222184</td><td>117.52719539535835</td><td>45.72294173220015</td><td>142.431</td><td>True</td></tr>\n",
       "<tr><td>108</td><td>2018.1.00252.S</td><td>Beltran, Maite</td><td>G31.41+0.31</td><td>0.04747427482032002</td><td>60.94965240013216</td><td>3441.562700847001</td><td>689.472</td><td>True</td></tr>\n",
       "<tr><td>109</td><td>2018.1.00252.S</td><td>Beltran, Maite</td><td>G31.41+0.31</td><td>0.04747427482032002</td><td>57.19146118056475</td><td>3441.562700847001</td><td>689.472</td><td>True</td></tr>\n",
       "<tr><td>110</td><td>2018.1.00252.S</td><td>Beltran, Maite</td><td>G31.41+0.31</td><td>0.04747427482032002</td><td>59.30756306683728</td><td>3441.562700847001</td><td>689.472</td><td>True</td></tr>\n",
       "<tr><td>111</td><td>2015.1.00357.S</td><td>Tan, Jonathan</td><td>G286_2</td><td>0.041157163673916336</td><td>123.22675397184308</td><td>45.72279733202107</td><td>142.431</td><td>True</td></tr>\n",
       "<tr><td>112</td><td>2015.1.00357.S</td><td>Tan, Jonathan</td><td>G286_2</td><td>0.041157163673916336</td><td>127.6777232623095</td><td>45.72279733202107</td><td>142.431</td><td>True</td></tr>\n",
       "<tr><td>113</td><td>2017.1.01578.S</td><td>de Boer, Jozua</td><td>HD_34282</td><td>0.04511976924847702</td><td>5.026543848430857</td><td>158.78494779570974</td><td>5007.743</td><td>True</td></tr>\n",
       "<tr><td>114</td><td>2017.1.01578.S</td><td>de Boer, Jozua</td><td>HD_34282</td><td>0.04511976924847702</td><td>5.128039789952603</td><td>158.78494779570974</td><td>5007.743</td><td>True</td></tr>\n",
       "<tr><td>115</td><td>2015.1.00357.S</td><td>Tan, Jonathan</td><td>G286_1</td><td>0.04115716562222184</td><td>117.28507464003648</td><td>45.72294173220015</td><td>142.431</td><td>True</td></tr>\n",
       "<tr><td>116</td><td>2018.1.00385.S</td><td>Guzman-Fernandez, Andres</td><td>G345.49+1.47</td><td>0.021947400145470298</td><td>24.484740289135747</td><td>752.6272481313235</td><td>5189.184</td><td>True</td></tr>\n",
       "<tr><td>117</td><td>2018.1.00385.S</td><td>Guzman-Fernandez, Andres</td><td>G345.49+1.47</td><td>0.021947400145470298</td><td>24.313526208446188</td><td>752.6272481313235</td><td>5189.184</td><td>True</td></tr>\n",
       "<tr><td>118</td><td>2018.1.00385.S</td><td>Guzman-Fernandez, Andres</td><td>G345.49+1.47</td><td>0.021947400145470298</td><td>24.35123883256033</td><td>752.6272481313235</td><td>5189.184</td><td>True</td></tr>\n",
       "<tr><td>119</td><td>2018.1.00385.S</td><td>Guzman-Fernandez, Andres</td><td>G345.49+1.47</td><td>0.021947400145470298</td><td>24.312384927884747</td><td>752.6272481313235</td><td>5189.184</td><td>True</td></tr>\n",
       "<tr><td>120</td><td>2018.1.00385.S</td><td>Guzman-Fernandez, Andres</td><td>G345.49+1.47</td><td>0.021947400145470298</td><td>24.56913799823033</td><td>752.6272481313235</td><td>5189.184</td><td>True</td></tr>\n",
       "<tr><td>121</td><td>2015.1.00357.S</td><td>Tan, Jonathan</td><td>G286_1</td><td>0.04115716562222184</td><td>114.4799669012436</td><td>45.72294173220015</td><td>142.431</td><td>True</td></tr>\n",
       "<tr><td>122</td><td>2017.1.01247.S</td><td>Dipierro, Giovanni</td><td>IRAS_16293-2422B</td><td>0.040729963277683516</td><td>32.49624626208613</td><td>376.91856595322446</td><td>4790.016</td><td>True</td></tr>\n",
       "<tr><td>123</td><td>2017.1.01247.S</td><td>Dipierro, Giovanni</td><td>IRAS_16293-2422B</td><td>0.040729963277683516</td><td>34.50983800462301</td><td>376.91856595322446</td><td>4790.016</td><td>True</td></tr>\n",
       "<tr><td>124</td><td>2017.1.01247.S</td><td>Dipierro, Giovanni</td><td>IRAS_16293-2422B</td><td>0.040729963277683516</td><td>34.82801772089846</td><td>376.91856595322446</td><td>4790.016</td><td>True</td></tr>\n",
       "<tr><td>125</td><td>2015.1.00357.S</td><td>Tan, Jonathan</td><td>G286_1</td><td>0.04115716562222184</td><td>117.31366520604014</td><td>45.72294173220015</td><td>142.431</td><td>True</td></tr>\n",
       "<tr><td>126</td><td>2017.1.00237.S</td><td>Sanhueza, Patricio</td><td>G14.22-0.50_S</td><td>0.045944964460255665</td><td>10.093047727141004</td><td>1325.1203009225012</td><td>453.6</td><td>True</td></tr>\n",
       "<tr><td>127</td><td>2016.1.00826.S</td><td>van der Plas, Gerrit</td><td>HD_97048</td><td>0.03117830477697691</td><td>9.238035900529505</td><td>221.25100120413117</td><td>7977.431</td><td>True</td></tr>\n",
       "<tr><td>128</td><td>2016.1.00826.S</td><td>van der Plas, Gerrit</td><td>HD_97048</td><td>0.03117830477697691</td><td>8.76688975069192</td><td>221.25100120413117</td><td>7977.431</td><td>True</td></tr>\n",
       "<tr><td>129</td><td>2019.1.00571.S</td><td>Baek, Giseon</td><td>S255IR_NIRS3</td><td>0.04040115895604018</td><td>8.25051807445021</td><td>618.2208431906552</td><td>2721.6</td><td>True</td></tr>\n",
       "<tr><td>130</td><td>2019.1.00571.S</td><td>Baek, Giseon</td><td>S255IR_NIRS3</td><td>0.04040115895604018</td><td>8.350647188764247</td><td>618.2208431906552</td><td>2721.6</td><td>True</td></tr>\n",
       "<tr><td>131</td><td>2019.1.00571.S</td><td>Baek, Giseon</td><td>S255IR_NIRS3</td><td>0.04040115895604018</td><td>8.078357417248414</td><td>618.2208431906552</td><td>2721.6</td><td>True</td></tr>\n",
       "<tr><td>132</td><td>2019.1.00571.S</td><td>Baek, Giseon</td><td>S255IR_NIRS3</td><td>0.04040115895604018</td><td>9.630280070552622</td><td>618.2208431906552</td><td>2721.6</td><td>True</td></tr>\n",
       "<tr><td>133</td><td>2019.1.00571.S</td><td>Baek, Giseon</td><td>S255IR_NIRS3</td><td>0.04040115895604018</td><td>8.193951063874612</td><td>618.2208431906552</td><td>2721.6</td><td>True</td></tr>\n",
       "<tr><td>134</td><td>2018.1.00495.S</td><td>Hunter, Todd</td><td>NGC6334I</td><td>0.038859140041629</td><td>5.794364965178103</td><td>567.7493544022118</td><td>3810.24</td><td>True</td></tr>\n",
       "<tr><td>135</td><td>2019.1.00571.S</td><td>Baek, Giseon</td><td>S255IR_NIRS3</td><td>0.04040115895604018</td><td>8.144791229372114</td><td>618.2208431906552</td><td>2721.6</td><td>True</td></tr>\n",
       "<tr><td>136</td><td>2019.1.00571.S</td><td>Baek, Giseon</td><td>S255IR_NIRS3</td><td>0.04040115895604018</td><td>8.122887862200972</td><td>618.2208431906552</td><td>2721.6</td><td>True</td></tr>\n",
       "<tr><td>137</td><td>2019.1.00571.S</td><td>Baek, Giseon</td><td>S255IR_NIRS3</td><td>0.04040115895604018</td><td>8.251444116874602</td><td>618.2208431906552</td><td>2721.6</td><td>True</td></tr>\n",
       "<tr><td>138</td><td>2019.1.00571.S</td><td>Baek, Giseon</td><td>S255IR_NIRS3</td><td>0.04040115895604018</td><td>8.2034622185216</td><td>618.2208431906552</td><td>2721.6</td><td>True</td></tr>\n",
       "<tr><td>139</td><td>2019.1.00571.S</td><td>Baek, Giseon</td><td>S255IR_NIRS3</td><td>0.04040115895604018</td><td>8.210309515838237</td><td>618.2208431906552</td><td>2721.6</td><td>True</td></tr>\n",
       "<tr><td>140</td><td>2019.1.00571.S</td><td>Baek, Giseon</td><td>S255IR_NIRS3</td><td>0.04040115895604018</td><td>8.10117151687796</td><td>618.2208431906552</td><td>2721.6</td><td>True</td></tr>\n",
       "<tr><td>141</td><td>2019.1.00571.S</td><td>Baek, Giseon</td><td>S255IR_NIRS3</td><td>0.04040115895604018</td><td>8.10988924280438</td><td>618.2208431906552</td><td>2721.6</td><td>True</td></tr>\n",
       "<tr><td>142</td><td>2019.1.00571.S</td><td>Baek, Giseon</td><td>S255IR_NIRS3</td><td>0.04040115895604018</td><td>8.162457984754841</td><td>618.2208431906552</td><td>2721.6</td><td>True</td></tr>\n",
       "<tr><td>143</td><td>2019.1.00571.S</td><td>Baek, Giseon</td><td>S255IR_NIRS3</td><td>0.04040115895604018</td><td>8.333907835317909</td><td>618.2208431906552</td><td>2721.6</td><td>True</td></tr>\n",
       "<tr><td>144</td><td>2019.1.00571.S</td><td>Baek, Giseon</td><td>S255IR_NIRS3</td><td>0.04040115895604018</td><td>8.229396980696228</td><td>618.2208431906552</td><td>2721.6</td><td>True</td></tr>\n",
       "<tr><td>145</td><td>2019.1.00571.S</td><td>Baek, Giseon</td><td>S255IR_NIRS3</td><td>0.04040115895604018</td><td>8.291572711710321</td><td>618.2208431906552</td><td>2721.6</td><td>True</td></tr>\n",
       "<tr><td>146</td><td>2018.1.00495.S</td><td>Hunter, Todd</td><td>NGC6334I</td><td>0.06772446745279623</td><td>6.886446907557659</td><td>496.83458589712336</td><td>3519.936</td><td>True</td></tr>\n",
       "<tr><td>147</td><td>2018.1.00495.S</td><td>Hunter, Todd</td><td>NGC6334I</td><td>0.06772446745279623</td><td>6.622245951786153</td><td>496.83458589712336</td><td>3519.936</td><td>True</td></tr>\n",
       "<tr><td>148</td><td>2019.1.00571.S</td><td>Baek, Giseon</td><td>S255IR_NIRS3</td><td>0.04040115895604018</td><td>8.19779572219823</td><td>618.2208431906552</td><td>2721.6</td><td>True</td></tr>\n",
       "<tr><td>149</td><td>2019.1.00571.S</td><td>Baek, Giseon</td><td>S255IR_NIRS3</td><td>0.04040115895604018</td><td>8.603410703389471</td><td>618.2208431906552</td><td>2721.6</td><td>True</td></tr>\n",
       "<tr><td>150</td><td>2019.1.00571.S</td><td>Baek, Giseon</td><td>S255IR_NIRS3</td><td>0.04040115895604018</td><td>8.400487181383179</td><td>618.2208431906552</td><td>2721.6</td><td>True</td></tr>\n",
       "<tr><td>151</td><td>2016.1.00992.S</td><td>Garay, Guido</td><td>iras16547-4247</td><td>0.05903071363743562</td><td>1.7816311903762911</td><td>207.0775118030858</td><td>5951.232</td><td>True</td></tr>\n",
       "<tr><td>152</td><td>2016.1.00992.S</td><td>Garay, Guido</td><td>iras16547-4247</td><td>0.05903071363743562</td><td>1.783969856438288</td><td>207.0775118030858</td><td>5951.232</td><td>True</td></tr>\n",
       "<tr><td>153</td><td>2016.1.00992.S</td><td>Garay, Guido</td><td>iras16547-4247</td><td>0.05903071363743562</td><td>1.774679430075244</td><td>207.0775118030858</td><td>5951.232</td><td>True</td></tr>\n",
       "<tr><td>154</td><td>2016.1.00992.S</td><td>Garay, Guido</td><td>iras16547-4247</td><td>0.05903071363743562</td><td>1.7730785861348688</td><td>207.0775118030858</td><td>5951.232</td><td>True</td></tr>\n",
       "<tr><td>155</td><td>2018.1.00495.S</td><td>Hunter, Todd</td><td>NGC6334I</td><td>0.038859140041629</td><td>5.80392821895418</td><td>567.7493544022118</td><td>3810.24</td><td>True</td></tr>\n",
       "<tr><td>156</td><td>2018.1.00495.S</td><td>Hunter, Todd</td><td>NGC6334I</td><td>0.038859140041629</td><td>6.415034231164568</td><td>567.7493544022118</td><td>3810.24</td><td>True</td></tr>\n",
       "<tr><td>157</td><td>2018.1.00495.S</td><td>Hunter, Todd</td><td>NGC6334I</td><td>0.06772446745279623</td><td>6.979072182824319</td><td>496.83458589712336</td><td>3519.936</td><td>True</td></tr>\n",
       "<tr><td>158</td><td>2018.1.00495.S</td><td>Hunter, Todd</td><td>NGC6334I</td><td>0.030713400369367694</td><td>33.549288584128675</td><td>496.8567585999692</td><td>4390.848</td><td>True</td></tr>\n",
       "<tr><td>159</td><td>2018.1.00495.S</td><td>Hunter, Todd</td><td>NGC6334I</td><td>0.030713400369367694</td><td>32.211667310474354</td><td>496.8567585999692</td><td>4390.848</td><td>True</td></tr>\n",
       "<tr><td>160</td><td>2018.1.00495.S</td><td>Hunter, Todd</td><td>NGC6334I</td><td>0.030713400369367694</td><td>28.120883637257954</td><td>496.8567585999692</td><td>4390.848</td><td>True</td></tr>\n",
       "<tr><td>161</td><td>2018.1.00495.S</td><td>Hunter, Todd</td><td>NGC6334I</td><td>0.030713400369367694</td><td>32.18241432797597</td><td>496.8567585999692</td><td>4390.848</td><td>True</td></tr>\n",
       "<tr><td>162</td><td>2018.1.00495.S</td><td>Hunter, Todd</td><td>NGC6334I</td><td>0.038859140041629</td><td>6.429681791274999</td><td>567.7493544022118</td><td>3810.24</td><td>True</td></tr>\n",
       "<tr><td>163</td><td>2019.1.00571.S</td><td>Baek, Giseon</td><td>S255IR_NIRS3</td><td>0.04040115895604018</td><td>8.268153837309702</td><td>618.2208431906552</td><td>2721.6</td><td>True</td></tr>\n",
       "<tr><td>164</td><td>2018.1.00495.S</td><td>Hunter, Todd</td><td>NGC6334I</td><td>0.06772446745279623</td><td>6.613102833023485</td><td>496.83458589712336</td><td>3519.936</td><td>True</td></tr>\n",
       "<tr><td>165</td><td>2016.1.00826.S</td><td>van der Plas, Gerrit</td><td>HD_97048</td><td>0.03117830477697691</td><td>7.894004036411002</td><td>221.25100120413117</td><td>7977.431</td><td>True</td></tr>\n",
       "<tr><td>166</td><td>2016.1.00826.S</td><td>van der Plas, Gerrit</td><td>HD_97048</td><td>0.03117830477697691</td><td>9.246478112584473</td><td>221.25100120413117</td><td>7977.431</td><td>True</td></tr>\n",
       "<tr><td>167</td><td>2015.1.01163.S</td><td>Hunter, Todd</td><td>M17UC1</td><td>0.04841434525460627</td><td>13.643851209254649</td><td>383.2658695895616</td><td>1233.792</td><td>True</td></tr>\n",
       "<tr><td>168</td><td>2015.1.01163.S</td><td>Hunter, Todd</td><td>M17UC1</td><td>0.04841434525460627</td><td>13.676495593021668</td><td>383.2658695895616</td><td>1233.792</td><td>True</td></tr>\n",
       "<tr><td>169</td><td>2015.1.01163.S</td><td>Hunter, Todd</td><td>M17UC1</td><td>0.04841434525460627</td><td>13.32194586108916</td><td>383.2658695895616</td><td>1233.792</td><td>True</td></tr>\n",
       "<tr><td>170</td><td>2015.1.01163.S</td><td>Hunter, Todd</td><td>M17UC1</td><td>0.04841434525460627</td><td>14.156559644088041</td><td>383.2658695895616</td><td>1233.792</td><td>True</td></tr>\n",
       "<tr><td>171</td><td>2018.1.01014.S</td><td>Cyganowski, Claudia</td><td>G14.33</td><td>0.09038618565375137</td><td>1.5897423700853488</td><td>383.2855225691506</td><td>4245.696</td><td>True</td></tr>\n",
       "<tr><td>172</td><td>2015.1.01163.S</td><td>Hunter, Todd</td><td>M17UC1</td><td>0.03999421221177346</td><td>28.85231860974347</td><td>287.8479675325181</td><td>1759.968</td><td>True</td></tr>\n",
       "<tr><td>173</td><td>2015.1.01163.S</td><td>Hunter, Todd</td><td>M17UC1</td><td>0.03999421221177346</td><td>28.665021849201526</td><td>287.8479675325181</td><td>1759.968</td><td>True</td></tr>\n",
       "<tr><td>174</td><td>2015.1.01163.S</td><td>Hunter, Todd</td><td>M17UC1</td><td>0.03999421221177346</td><td>29.67784639241215</td><td>287.8479675325181</td><td>1759.968</td><td>True</td></tr>\n",
       "<tr><td>175</td><td>2015.1.01163.S</td><td>Hunter, Todd</td><td>M17UC1</td><td>0.03999421221177346</td><td>27.727737088520385</td><td>287.8479675325181</td><td>1759.968</td><td>True</td></tr>\n",
       "<tr><td>176</td><td>2017.1.01678.S</td><td>van der Plas, Gerrit</td><td>HD_100453</td><td>0.01954751256675677</td><td>25.28897888661658</td><td>158.7825317593012</td><td>5624.222</td><td>True</td></tr>\n",
       "<tr><td>177</td><td>2018.1.01014.S</td><td>Cyganowski, Claudia</td><td>G14.33</td><td>0.09038618565375137</td><td>1.5774403602948406</td><td>383.2855225691506</td><td>4245.696</td><td>True</td></tr>\n",
       "<tr><td>178</td><td>2018.1.01010.S</td><td>Ilee, John</td><td>G11.92-0.61_MM1</td><td>0.039884015473703675</td><td>6.946841181237427</td><td>614.1360069548272</td><td>13335.84</td><td>True</td></tr>\n",
       "<tr><td>179</td><td>2018.1.01010.S</td><td>Ilee, John</td><td>G11.92-0.61_MM1</td><td>0.039884015473703675</td><td>6.934877063027136</td><td>614.1360069548272</td><td>13335.84</td><td>True</td></tr>\n",
       "<tr><td>180</td><td>2018.1.01010.S</td><td>Ilee, John</td><td>G11.92-0.61_MM1</td><td>0.039884015473703675</td><td>6.665131557944113</td><td>614.1360069548272</td><td>13335.84</td><td>True</td></tr>\n",
       "<tr><td>181</td><td>2016.1.00362.S</td><td>Chen, Vivien</td><td>G33.92+0.11</td><td>0.0989787625083711</td><td>1.2574481915367917</td><td>158.4097070815919</td><td>4499.712</td><td>True</td></tr>\n",
       "<tr><td>182</td><td>2016.1.00362.S</td><td>Chen, Vivien</td><td>G33.92+0.11</td><td>0.0989787625083711</td><td>1.2560366655926671</td><td>158.4097070815919</td><td>4499.712</td><td>True</td></tr>\n",
       "<tr><td>183</td><td>2017.1.01678.S</td><td>van der Plas, Gerrit</td><td>hd_100453</td><td>0.09201153536762485</td><td>13.293868315686577</td><td>3755.5635586649073</td><td>1360.8</td><td>True</td></tr>\n",
       "<tr><td>184</td><td>2017.1.01678.S</td><td>van der Plas, Gerrit</td><td>hd_100453</td><td>0.09201153536762485</td><td>13.497129190008916</td><td>3755.5635586649073</td><td>1360.8</td><td>True</td></tr>\n",
       "<tr><td>185</td><td>2017.1.01678.S</td><td>van der Plas, Gerrit</td><td>hd_100453</td><td>0.09201153536762485</td><td>13.887461432869213</td><td>3755.5635586649073</td><td>1360.8</td><td>True</td></tr>\n",
       "<tr><td>186</td><td>2017.1.01678.S</td><td>van der Plas, Gerrit</td><td>hd_100453</td><td>0.09201153536762485</td><td>14.058576735280788</td><td>3755.5635586649073</td><td>1360.8</td><td>True</td></tr>\n",
       "<tr><td>187</td><td>2018.1.01010.S</td><td>Ilee, John</td><td>G11.92-0.61_MM1</td><td>0.039884015473703675</td><td>6.6976603540405195</td><td>614.1360069548272</td><td>13335.84</td><td>True</td></tr>\n",
       "<tr><td>188</td><td>2016.1.00362.S</td><td>Chen, Vivien</td><td>G33.92+0.11</td><td>0.0989787625083711</td><td>1.2168164032340762</td><td>158.4097070815919</td><td>4499.712</td><td>True</td></tr>\n",
       "<tr><td>189</td><td>2016.1.00362.S</td><td>Chen, Vivien</td><td>G33.92+0.11</td><td>0.0989787625083711</td><td>1.2247007887386974</td><td>158.4097070815919</td><td>4499.712</td><td>True</td></tr>\n",
       "<tr><td>190</td><td>2017.1.01678.S</td><td>van der Plas, Gerrit</td><td>HD_100453</td><td>0.01954751256675677</td><td>25.487940640333505</td><td>158.7825317593012</td><td>5624.222</td><td>True</td></tr>\n",
       "<tr><td>191</td><td>2017.1.01678.S</td><td>van der Plas, Gerrit</td><td>HD_100453</td><td>0.01954751256675677</td><td>24.901073248450068</td><td>158.7825317593012</td><td>5624.222</td><td>True</td></tr>\n",
       "<tr><td>192</td><td>2017.1.01678.S</td><td>van der Plas, Gerrit</td><td>HD_100453</td><td>0.01954751256675677</td><td>24.78503212117848</td><td>158.7825317593012</td><td>5624.222</td><td>True</td></tr>\n",
       "<tr><td>193</td><td>2017.1.01678.S</td><td>van der Plas, Gerrit</td><td>HD_100453</td><td>0.01954751256675677</td><td>25.326952175748605</td><td>158.7825317593012</td><td>5624.222</td><td>True</td></tr>\n",
       "<tr><td>194</td><td>2018.1.01660.S</td><td>Kraus, Stefan</td><td>IRAS13481-6124</td><td>0.019623931174868554</td><td>23.318653544250605</td><td>1409.665927148391</td><td>2848.608</td><td>True</td></tr>\n",
       "<tr><td>195</td><td>2018.1.01660.S</td><td>Kraus, Stefan</td><td>IRAS13481-6124</td><td>0.019623931174868554</td><td>23.238205951375054</td><td>1409.665927148391</td><td>2848.608</td><td>True</td></tr>\n",
       "<tr><td>196</td><td>2018.1.01660.S</td><td>Kraus, Stefan</td><td>IRAS13481-6124</td><td>0.019623931174868554</td><td>21.533078464341312</td><td>1409.665927148391</td><td>2848.608</td><td>True</td></tr>\n",
       "<tr><td>197</td><td>2018.1.01660.S</td><td>Kraus, Stefan</td><td>IRAS13481-6124</td><td>0.019623931174868554</td><td>21.46616737919316</td><td>1409.665927148391</td><td>2848.608</td><td>True</td></tr>\n",
       "<tr><td>198</td><td>2018.1.01014.S</td><td>Cyganowski, Claudia</td><td>G14.33</td><td>0.09038618565375137</td><td>1.5492636111813707</td><td>383.2855225691506</td><td>4245.696</td><td>True</td></tr>\n",
       "<tr><td>199</td><td>2018.1.00458.S</td><td>Maud, Luke</td><td>W33A</td><td>0.023313807658612747</td><td>21.550814052889596</td><td>613.9705142062724</td><td>4463.424</td><td>True</td></tr>\n",
       "<tr><td>200</td><td>2018.1.00458.S</td><td>Maud, Luke</td><td>W33A</td><td>0.023313807658612747</td><td>21.39652924995854</td><td>613.9705142062724</td><td>4463.424</td><td>True</td></tr>\n",
       "<tr><td>201</td><td>2018.1.00458.S</td><td>Maud, Luke</td><td>W33A</td><td>0.023313807658612747</td><td>21.080362467648655</td><td>613.9705142062724</td><td>4463.424</td><td>True</td></tr>\n",
       "<tr><td>202</td><td>2018.1.00458.S</td><td>Maud, Luke</td><td>W33A</td><td>0.023313807658612747</td><td>21.0146732464862</td><td>613.9705142062724</td><td>4463.424</td><td>True</td></tr>\n",
       "<tr><td>203</td><td>2018.1.01014.S</td><td>Cyganowski, Claudia</td><td>G14.33</td><td>0.09038618565375137</td><td>1.5870045775918817</td><td>383.2855225691506</td><td>4245.696</td><td>True</td></tr>\n",
       "<tr><td>204</td><td>2015.1.01163.S</td><td>Hunter, Todd</td><td>M17-IRS5</td><td>0.07265189612819871</td><td>5.317936139482336</td><td>361.99402980041066</td><td>393.12</td><td>True</td></tr>\n",
       "<tr><td>205</td><td>2015.1.01163.S</td><td>Hunter, Todd</td><td>M17-IRS5</td><td>0.07265189612819871</td><td>5.314562779945627</td><td>361.99402980041066</td><td>393.12</td><td>True</td></tr>\n",
       "<tr><td>206</td><td>2015.1.01163.S</td><td>Hunter, Todd</td><td>M17-IRS5</td><td>0.07265189612819871</td><td>5.297679969047693</td><td>361.99402980041066</td><td>393.12</td><td>True</td></tr>\n",
       "<tr><td>207</td><td>2015.1.01163.S</td><td>Hunter, Todd</td><td>M17-IRS5</td><td>0.07265189612819871</td><td>5.952512301312018</td><td>361.99402980041066</td><td>393.12</td><td>True</td></tr>\n",
       "<tr><td>208</td><td>2015.1.01163.S</td><td>Hunter, Todd</td><td>M17UC1</td><td>0.07265189755681517</td><td>5.317935945152908</td><td>361.99402980041066</td><td>393.12</td><td>True</td></tr>\n",
       "<tr><td>209</td><td>2015.1.01163.S</td><td>Hunter, Todd</td><td>M17UC1</td><td>0.07265189755681517</td><td>5.314562585398516</td><td>361.99402980041066</td><td>393.12</td><td>True</td></tr>\n",
       "<tr><td>210</td><td>2015.1.01163.S</td><td>Hunter, Todd</td><td>M17UC1</td><td>0.07265189755681517</td><td>5.297679773219016</td><td>361.99402980041066</td><td>393.12</td><td>True</td></tr>\n",
       "<tr><td>211</td><td>2015.1.01163.S</td><td>Hunter, Todd</td><td>M17UC1</td><td>0.07265189755681517</td><td>5.952512080871234</td><td>361.99402980041066</td><td>393.12</td><td>True</td></tr>\n",
       "<tr><td>212</td><td>2016.1.01036.S</td><td>Sanhueza, Patricio</td><td>G34.43+0.24</td><td>0.042800198183471985</td><td>15.011189811605123</td><td>1325.0644043158386</td><td>943.488</td><td>True</td></tr>\n",
       "<tr><td>213</td><td>2016.1.01036.S</td><td>Sanhueza, Patricio</td><td>G34.43+0.24</td><td>0.042800198183471985</td><td>15.436443531940432</td><td>1325.0644043158386</td><td>943.488</td><td>True</td></tr>\n",
       "<tr><td>214</td><td>2016.1.01036.S</td><td>Sanhueza, Patricio</td><td>G35.03+0.35_A</td><td>0.042800231196959505</td><td>15.49779012679919</td><td>1325.0644043158386</td><td>943.488</td><td>True</td></tr>\n",
       "<tr><td>215</td><td>2016.1.01036.S</td><td>Sanhueza, Patricio</td><td>G10.62-0.38</td><td>0.03984796715836824</td><td>20.203205833286727</td><td>1325.1195201894923</td><td>689.472</td><td>True</td></tr>\n",
       "<tr><td>216</td><td>2016.1.01036.S</td><td>Sanhueza, Patricio</td><td>G10.62-0.38</td><td>0.03984796715836824</td><td>20.050754443498235</td><td>1325.1195201894923</td><td>689.472</td><td>True</td></tr>\n",
       "<tr><td>217</td><td>2016.1.01036.S</td><td>Sanhueza, Patricio</td><td>IRAS_180891732</td><td>0.039848071999689226</td><td>19.56543289380724</td><td>1325.1195201894923</td><td>544.32</td><td>True</td></tr>\n",
       "<tr><td>218</td><td>2016.1.01036.S</td><td>Sanhueza, Patricio</td><td>IRAS_180891732</td><td>0.039848071999689226</td><td>20.22611279640435</td><td>1325.1195201894923</td><td>544.32</td><td>True</td></tr>\n",
       "<tr><td>219</td><td>2016.1.01036.S</td><td>Sanhueza, Patricio</td><td>IRDC_182231243</td><td>0.0308172682511392</td><td>28.95800666043975</td><td>1325.1297111782144</td><td>1088.64</td><td>True</td></tr>\n",
       "<tr><td>220</td><td>2016.1.00970.S</td><td>Hirota, Tomoya</td><td>Orion_Source_I</td><td>0.047724228394605536</td><td>11.074175018182734</td><td>393.74409525789326</td><td>3326.4</td><td>True</td></tr>\n",
       "<tr><td>221</td><td>2017.1.00114.S</td><td>Ginsburg, Adam</td><td>Sgr_B2_DS</td><td>0.09249346616026326</td><td>2.8240952685105265</td><td>1341.1504344942384</td><td>1395.341</td><td>True</td></tr>\n",
       "<tr><td>222</td><td>2017.1.00114.S</td><td>Ginsburg, Adam</td><td>Sgr_B2_DS</td><td>0.09249346616026326</td><td>2.7757516200372208</td><td>1341.1504344942384</td><td>1395.341</td><td>True</td></tr>\n",
       "<tr><td>223</td><td>2016.1.01036.S</td><td>Sanhueza, Patricio</td><td>IRAS_180891732</td><td>0.039848071999689226</td><td>20.05425556497341</td><td>1325.1195201894923</td><td>544.32</td><td>True</td></tr>\n",
       "<tr><td>224</td><td>2016.1.01036.S</td><td>Sanhueza, Patricio</td><td>W33A</td><td>0.03984811011445398</td><td>19.258234022697565</td><td>1325.1195201894923</td><td>816.48</td><td>True</td></tr>\n",
       "<tr><td>225</td><td>2016.1.01036.S</td><td>Sanhueza, Patricio</td><td>G11.1-0.12</td><td>0.039847988151462024</td><td>20.203188838625422</td><td>1325.1195201894923</td><td>689.472</td><td>True</td></tr>\n",
       "<tr><td>226</td><td>2016.1.01036.S</td><td>Sanhueza, Patricio</td><td>G5.89-0.37</td><td>0.03984767357944569</td><td>20.2264372942354</td><td>1325.1195201894923</td><td>544.32</td><td>True</td></tr>\n",
       "<tr><td>227</td><td>2016.1.01036.S</td><td>Sanhueza, Patricio</td><td>G34.43+0.24</td><td>0.042800198183471985</td><td>15.49780899316091</td><td>1325.0644043158386</td><td>943.488</td><td>True</td></tr>\n",
       "<tr><td>228</td><td>2016.1.01036.S</td><td>Sanhueza, Patricio</td><td>G35.20-0.74_N</td><td>0.0428002816708464</td><td>15.481633631912855</td><td>1325.0644043158386</td><td>925.344</td><td>True</td></tr>\n",
       "<tr><td>229</td><td>2016.1.01036.S</td><td>Sanhueza, Patricio</td><td>G11.1-0.12</td><td>0.039847988151462024</td><td>19.450668882594535</td><td>1325.1195201894923</td><td>689.472</td><td>True</td></tr>\n",
       "<tr><td>230</td><td>2016.1.01036.S</td><td>Sanhueza, Patricio</td><td>G11.1-0.12</td><td>0.039847988151462024</td><td>20.050737554310878</td><td>1325.1195201894923</td><td>689.472</td><td>True</td></tr>\n",
       "<tr><td>231</td><td>2016.1.01036.S</td><td>Sanhueza, Patricio</td><td>G29.96-0.02</td><td>0.042799926010200606</td><td>15.385486893120515</td><td>1325.0644043158386</td><td>907.2</td><td>True</td></tr>\n",
       "<tr><td>232</td><td>2016.1.01036.S</td><td>Sanhueza, Patricio</td><td>G333.23-0.06</td><td>0.03984794048004794</td><td>13.944074161972267</td><td>1253.552879664914</td><td>580.608</td><td>True</td></tr>\n",
       "<tr><td>233</td><td>2016.1.01036.S</td><td>Sanhueza, Patricio</td><td>G333.23-0.06</td><td>0.03984794048004794</td><td>14.001059697935132</td><td>1253.552879664914</td><td>580.608</td><td>True</td></tr>\n",
       "<tr><td>234</td><td>2016.1.01036.S</td><td>Sanhueza, Patricio</td><td>G333.23-0.06</td><td>0.03984794048004794</td><td>14.4236890839112</td><td>1253.552879664914</td><td>580.608</td><td>True</td></tr>\n",
       "<tr><td>235</td><td>2016.1.01036.S</td><td>Sanhueza, Patricio</td><td>G333.23-0.06</td><td>0.03984794048004794</td><td>14.292452145726918</td><td>1253.552879664914</td><td>580.608</td><td>True</td></tr>\n",
       "<tr><td>236</td><td>2016.1.01036.S</td><td>Sanhueza, Patricio</td><td>IRAS_18182-1433</td><td>0.03081720375344174</td><td>30.365628238201175</td><td>1325.1297111782144</td><td>1088.64</td><td>True</td></tr>\n",
       "<tr><td>237</td><td>2016.1.01036.S</td><td>Sanhueza, Patricio</td><td>G29.96-0.02</td><td>0.042799926010200606</td><td>15.44836296672849</td><td>1325.0644043158386</td><td>907.2</td><td>True</td></tr>\n",
       "<tr><td>238</td><td>2016.1.01036.S</td><td>Sanhueza, Patricio</td><td>G29.96-0.02</td><td>0.042799926010200606</td><td>15.946420392339682</td><td>1325.0644043158386</td><td>907.2</td><td>True</td></tr>\n",
       "<tr><td>239</td><td>2016.1.01036.S</td><td>Sanhueza, Patricio</td><td>G29.96-0.02</td><td>0.042799926010200606</td><td>15.883278081370609</td><td>1325.0644043158386</td><td>907.2</td><td>True</td></tr>\n",
       "<tr><td>240</td><td>2016.1.01036.S</td><td>Sanhueza, Patricio</td><td>G35.03+0.35_A</td><td>0.042800231196959505</td><td>14.950074439653534</td><td>1325.0644043158386</td><td>943.488</td><td>True</td></tr>\n",
       "<tr><td>241</td><td>2016.1.01036.S</td><td>Sanhueza, Patricio</td><td>G35.03+0.35_A</td><td>0.042800231196959505</td><td>15.011171364559234</td><td>1325.0644043158386</td><td>943.488</td><td>True</td></tr>\n",
       "<tr><td>242</td><td>2016.1.01036.S</td><td>Sanhueza, Patricio</td><td>G35.03+0.35_A</td><td>0.042800231196959505</td><td>15.436424713444207</td><td>1325.0644043158386</td><td>943.488</td><td>True</td></tr>\n",
       "<tr><td>243</td><td>2016.1.01036.S</td><td>Sanhueza, Patricio</td><td>IRAS_181511208</td><td>0.030817284597929553</td><td>30.486209443107622</td><td>1325.1297111782144</td><td>1088.64</td><td>True</td></tr>\n",
       "<tr><td>244</td><td>2016.1.01036.S</td><td>Sanhueza, Patricio</td><td>IRDC_182231243</td><td>0.0308172682511392</td><td>30.36553229012474</td><td>1325.1297111782144</td><td>1088.64</td><td>True</td></tr>\n",
       "<tr><td>245</td><td>2016.1.01036.S</td><td>Sanhueza, Patricio</td><td>G335.579-0.272</td><td>0.03984805819039371</td><td>13.944007401505617</td><td>1253.552879664914</td><td>580.608</td><td>True</td></tr>\n",
       "<tr><td>246</td><td>2016.1.01036.S</td><td>Sanhueza, Patricio</td><td>G335.579-0.272</td><td>0.03984805819039371</td><td>14.00099277057426</td><td>1253.552879664914</td><td>580.608</td><td>True</td></tr>\n",
       "<tr><td>247</td><td>2016.1.01036.S</td><td>Sanhueza, Patricio</td><td>G335.579-0.272</td><td>0.03984805819039371</td><td>14.423620734007926</td><td>1253.552879664914</td><td>580.608</td><td>True</td></tr>\n",
       "<tr><td>248</td><td>2016.1.01036.S</td><td>Sanhueza, Patricio</td><td>G335.579-0.272</td><td>0.03984805819039371</td><td>14.292384328409304</td><td>1253.552879664914</td><td>580.608</td><td>True</td></tr>\n",
       "<tr><td>249</td><td>2016.1.01036.S</td><td>Sanhueza, Patricio</td><td>G10.62-0.38</td><td>0.03984796715836824</td><td>19.450685390695146</td><td>1325.1195201894923</td><td>689.472</td><td>True</td></tr>\n",
       "<tr><td>250</td><td>2016.1.01036.S</td><td>Sanhueza, Patricio</td><td>G5.89-0.37</td><td>0.03984767357944569</td><td>19.64570945453252</td><td>1325.1195201894923</td><td>544.32</td><td>True</td></tr>\n",
       "<tr><td>251</td><td>2016.1.01036.S</td><td>Sanhueza, Patricio</td><td>G5.89-0.37</td><td>0.03984767357944569</td><td>20.05457772936962</td><td>1325.1195201894923</td><td>544.32</td><td>True</td></tr>\n",
       "<tr><td>252</td><td>2016.1.01036.S</td><td>Sanhueza, Patricio</td><td>IRAS_18182-1433</td><td>0.03081720375344174</td><td>29.076442960753646</td><td>1325.1297111782144</td><td>1088.64</td><td>True</td></tr>\n",
       "<tr><td>253</td><td>2016.1.01036.S</td><td>Sanhueza, Patricio</td><td>G11.92-0.61</td><td>0.039848060613470626</td><td>20.04857866026072</td><td>1325.1195201894923</td><td>816.48</td><td>True</td></tr>\n",
       "<tr><td>254</td><td>2017.1.00114.S</td><td>Ginsburg, Adam</td><td>Sgr_B2_DS</td><td>0.09249346616026326</td><td>2.855422544526388</td><td>1341.1504344942384</td><td>1395.341</td><td>True</td></tr>\n",
       "<tr><td>255</td><td>2017.1.00114.S</td><td>Ginsburg, Adam</td><td>Sgr_B2_DS</td><td>0.09249346616026326</td><td>2.7757641210774273</td><td>1341.1504344942384</td><td>1395.341</td><td>True</td></tr>\n",
       "<tr><td>256</td><td>2016.1.01197.S</td><td>Maud, Luke</td><td>W33A</td><td>0.060098892588140794</td><td>2.000449159467067</td><td>419.9163403275092</td><td>1796.256</td><td>True</td></tr>\n",
       "<tr><td>257</td><td>2016.1.01197.S</td><td>Maud, Luke</td><td>W33A</td><td>0.060098892588140794</td><td>1.8154411683349843</td><td>419.9163403275092</td><td>1796.256</td><td>True</td></tr>\n",
       "<tr><td>258</td><td>2016.1.01197.S</td><td>Maud, Luke</td><td>W33A</td><td>0.060098892588140794</td><td>1.830332628072892</td><td>419.9163403275092</td><td>1796.256</td><td>True</td></tr>\n",
       "<tr><td>259</td><td>2016.1.01197.S</td><td>Maud, Luke</td><td>W33A</td><td>0.060098892588140794</td><td>1.8289910249962658</td><td>419.9163403275092</td><td>1796.256</td><td>True</td></tr>\n",
       "<tr><td>260</td><td>2018.1.00632.S</td><td>Beltran, Maite</td><td>G31.41+0.31</td><td>0.05955497912393269</td><td>21.80255419112956</td><td>6536.190560418308</td><td>10432.8</td><td>True</td></tr>\n",
       "<tr><td>261</td><td>2018.1.00745.S</td><td>Moscadelli, Luca</td><td>G24.78+0.08</td><td>0.04236055238526238</td><td>5.284376327877121</td><td>663.304400777431</td><td>2830.464</td><td>True</td></tr>\n",
       "<tr><td>262</td><td>2018.1.00745.S</td><td>Moscadelli, Luca</td><td>G24.78+0.08</td><td>0.04236055238526238</td><td>5.270438692225602</td><td>663.304400777431</td><td>2830.464</td><td>True</td></tr>\n",
       "<tr><td>263</td><td>2018.1.00745.S</td><td>Moscadelli, Luca</td><td>G24.78+0.08</td><td>0.04236055238526238</td><td>5.2619128881557655</td><td>663.304400777431</td><td>2830.464</td><td>True</td></tr>\n",
       "<tr><td>264</td><td>2018.1.00745.S</td><td>Moscadelli, Luca</td><td>G24.78+0.08</td><td>0.04236055238526238</td><td>5.167520684371397</td><td>663.304400777431</td><td>2830.464</td><td>True</td></tr>\n",
       "<tr><td>265</td><td>2018.1.00745.S</td><td>Moscadelli, Luca</td><td>G24.78+0.08</td><td>0.04236055238526238</td><td>5.1655649183185055</td><td>663.304400777431</td><td>2830.464</td><td>True</td></tr>\n",
       "<tr><td>266</td><td>2018.1.00745.S</td><td>Moscadelli, Luca</td><td>G24.78+0.08</td><td>0.04236055238526238</td><td>5.158202756312588</td><td>663.304400777431</td><td>2830.464</td><td>True</td></tr>\n",
       "<tr><td>267</td><td>2018.1.00745.S</td><td>Moscadelli, Luca</td><td>G24.78+0.08</td><td>0.04236055238526238</td><td>5.1383432844781405</td><td>663.304400777431</td><td>2830.464</td><td>True</td></tr>\n",
       "<tr><td>268</td><td>2018.1.00745.S</td><td>Moscadelli, Luca</td><td>G24.78+0.08</td><td>0.04236055238526238</td><td>5.1336466324699</td><td>663.304400777431</td><td>2830.464</td><td>True</td></tr>\n",
       "<tr><td>269</td><td>2018.1.00745.S</td><td>Moscadelli, Luca</td><td>G24.78+0.08</td><td>0.04236055238526238</td><td>5.129873224620168</td><td>663.304400777431</td><td>2830.464</td><td>True</td></tr>\n",
       "<tr><td>270</td><td>2017.1.00261.S</td><td>Maud, Luke</td><td>W33A</td><td>0.02445720578206058</td><td>24.350860249626866</td><td>614.0035685237506</td><td>2231.712</td><td>True</td></tr>\n",
       "<tr><td>271</td><td>2017.1.00261.S</td><td>Maud, Luke</td><td>W33A</td><td>0.02445720578206058</td><td>24.180795568544582</td><td>614.0035685237506</td><td>2231.712</td><td>True</td></tr>\n",
       "<tr><td>272</td><td>2018.1.00632.S</td><td>Beltran, Maite</td><td>G31.41+0.31</td><td>0.05955497912393269</td><td>21.583633426954936</td><td>6536.190560418308</td><td>10432.8</td><td>True</td></tr>\n",
       "<tr><td>273</td><td>2018.1.00632.S</td><td>Beltran, Maite</td><td>G31.41+0.31</td><td>0.04127100873936248</td><td>7.776871205713091</td><td>2807.871058404125</td><td>3955.392</td><td>True</td></tr>\n",
       "<tr><td>274</td><td>2017.1.00261.S</td><td>Maud, Luke</td><td>W33A</td><td>0.02445720578206058</td><td>24.867718038149714</td><td>614.0035685237506</td><td>2231.712</td><td>True</td></tr>\n",
       "<tr><td>275</td><td>2016.1.00970.S</td><td>Hirota, Tomoya</td><td>Orion_Source_I</td><td>0.047724228394605536</td><td>10.800274893353134</td><td>393.74409525789326</td><td>3326.4</td><td>True</td></tr>\n",
       "<tr><td>276</td><td>2016.1.00970.S</td><td>Hirota, Tomoya</td><td>Orion_Source_I</td><td>0.047724228394605536</td><td>10.964046975852977</td><td>393.74409525789326</td><td>3326.4</td><td>True</td></tr>\n",
       "<tr><td>277</td><td>2016.1.01036.S</td><td>Sanhueza, Patricio</td><td>G34.43+0.24</td><td>0.042800198183471985</td><td>14.950092843091525</td><td>1325.0644043158386</td><td>943.488</td><td>True</td></tr>\n",
       "<tr><td>278</td><td>2016.1.01036.S</td><td>Sanhueza, Patricio</td><td>IRAS_18182-1433</td><td>0.03081720375344174</td><td>28.95809925192604</td><td>1325.1297111782144</td><td>1088.64</td><td>True</td></tr>\n",
       "<tr><td>279</td><td>2016.1.01036.S</td><td>Sanhueza, Patricio</td><td>IRAS_18182-1433</td><td>0.03081720375344174</td><td>30.486337739785814</td><td>1325.1297111782144</td><td>1088.64</td><td>True</td></tr>\n",
       "<tr><td>280</td><td>2016.1.01036.S</td><td>Sanhueza, Patricio</td><td>G35.20-0.74_N</td><td>0.0428002816708464</td><td>14.99185680402725</td><td>1325.0644043158386</td><td>925.344</td><td>True</td></tr>\n",
       "<tr><td>281</td><td>2016.1.01036.S</td><td>Sanhueza, Patricio</td><td>G35.20-0.74_N</td><td>0.0428002816708464</td><td>15.053124491708585</td><td>1325.0644043158386</td><td>925.344</td><td>True</td></tr>\n",
       "<tr><td>282</td><td>2016.1.01036.S</td><td>Sanhueza, Patricio</td><td>G35.20-0.74_N</td><td>0.0428002816708464</td><td>15.543176367883811</td><td>1325.0644043158386</td><td>925.344</td><td>True</td></tr>\n",
       "<tr><td>283</td><td>2016.1.01036.S</td><td>Sanhueza, Patricio</td><td>IRAS_181511208</td><td>0.030817284597929553</td><td>28.95797234579397</td><td>1325.1297111782144</td><td>1088.64</td><td>True</td></tr>\n",
       "<tr><td>284</td><td>2016.1.01036.S</td><td>Sanhueza, Patricio</td><td>IRAS_181511208</td><td>0.030817284597929553</td><td>29.07631571379906</td><td>1325.1297111782144</td><td>1088.64</td><td>True</td></tr>\n",
       "<tr><td>285</td><td>2016.1.01036.S</td><td>Sanhueza, Patricio</td><td>IRAS_181511208</td><td>0.030817284597929553</td><td>30.36549558497102</td><td>1325.1297111782144</td><td>1088.64</td><td>True</td></tr>\n",
       "<tr><td>286</td><td>2016.1.01036.S</td><td>Sanhueza, Patricio</td><td>IRDC_182231243</td><td>0.0308172682511392</td><td>29.076350184735833</td><td>1325.1297111782144</td><td>1088.64</td><td>True</td></tr>\n",
       "<tr><td>287</td><td>2016.1.01036.S</td><td>Sanhueza, Patricio</td><td>IRDC_182231243</td><td>0.0308172682511392</td><td>30.486238260196266</td><td>1325.1297111782144</td><td>1088.64</td><td>True</td></tr>\n",
       "<tr><td>288</td><td>2016.1.01036.S</td><td>Sanhueza, Patricio</td><td>G11.1-0.12</td><td>0.039847988151462024</td><td>19.371502835607384</td><td>1325.1195201894923</td><td>689.472</td><td>True</td></tr>\n",
       "<tr><td>289</td><td>2016.1.01036.S</td><td>Sanhueza, Patricio</td><td>G5.89-0.37</td><td>0.03984767357944569</td><td>19.56575003425593</td><td>1325.1195201894923</td><td>544.32</td><td>True</td></tr>\n",
       "<tr><td>290</td><td>2016.1.01036.S</td><td>Sanhueza, Patricio</td><td>IRAS_181622048</td><td>0.03984805717063567</td><td>19.258270853132082</td><td>1325.1195201894923</td><td>816.48</td><td>True</td></tr>\n",
       "<tr><td>291</td><td>2016.1.01036.S</td><td>Sanhueza, Patricio</td><td>IRAS_181622048</td><td>0.03984805717063567</td><td>19.33697417564501</td><td>1325.1195201894923</td><td>816.48</td><td>True</td></tr>\n",
       "<tr><td>292</td><td>2016.1.01036.S</td><td>Sanhueza, Patricio</td><td>IRAS_181622048</td><td>0.03984805717063567</td><td>20.18969913527132</td><td>1325.1195201894923</td><td>816.48</td><td>True</td></tr>\n",
       "<tr><td>293</td><td>2016.1.01036.S</td><td>Sanhueza, Patricio</td><td>IRAS_181622048</td><td>0.03984805717063567</td><td>20.048575884870875</td><td>1325.1195201894923</td><td>816.48</td><td>True</td></tr>\n",
       "<tr><td>294</td><td>2016.1.01036.S</td><td>Sanhueza, Patricio</td><td>G10.62-0.38</td><td>0.03984796715836824</td><td>19.37151930315057</td><td>1325.1195201894923</td><td>689.472</td><td>True</td></tr>\n",
       "<tr><td>295</td><td>2016.1.01036.S</td><td>Sanhueza, Patricio</td><td>W33A</td><td>0.03984811011445398</td><td>20.18966548595531</td><td>1325.1195201894923</td><td>816.48</td><td>True</td></tr>\n",
       "<tr><td>296</td><td>2016.1.01036.S</td><td>Sanhueza, Patricio</td><td>W33A</td><td>0.03984811011445398</td><td>19.33693729911444</td><td>1325.1195201894923</td><td>816.48</td><td>True</td></tr>\n",
       "<tr><td>297</td><td>2016.1.01036.S</td><td>Sanhueza, Patricio</td><td>W33A</td><td>0.03984811011445398</td><td>20.048538159845226</td><td>1325.1195201894923</td><td>816.48</td><td>True</td></tr>\n",
       "<tr><td>298</td><td>2016.1.01036.S</td><td>Sanhueza, Patricio</td><td>G11.92-0.61</td><td>0.039848060613470626</td><td>19.258273255505888</td><td>1325.1195201894923</td><td>816.48</td><td>True</td></tr>\n",
       "<tr><td>299</td><td>2016.1.01036.S</td><td>Sanhueza, Patricio</td><td>G11.92-0.61</td><td>0.039848060613470626</td><td>19.336976633817166</td><td>1325.1195201894923</td><td>816.48</td><td>True</td></tr>\n",
       "<tr><td>300</td><td>2016.1.01036.S</td><td>Sanhueza, Patricio</td><td>G11.92-0.61</td><td>0.039848060613470626</td><td>20.189706450636432</td><td>1325.1195201894923</td><td>816.48</td><td>True</td></tr>\n",
       "<tr><td>301</td><td>2016.1.01036.S</td><td>Sanhueza, Patricio</td><td>IRAS_180891732</td><td>0.039848071999689226</td><td>19.645391520665754</td><td>1325.1195201894923</td><td>544.32</td><td>True</td></tr>\n",
       "<tr><td>302</td><td>2016.1.01036.S</td><td>Sanhueza, Patricio</td><td>NGC_6334_I_N</td><td>0.038841491110304806</td><td>14.709740954263527</td><td>1253.5315678985153</td><td>544.32</td><td>True</td></tr>\n",
       "<tr><td>303</td><td>2016.1.01036.S</td><td>Sanhueza, Patricio</td><td>NGC_6334_I_N</td><td>0.038841491110304806</td><td>14.76985566811602</td><td>1253.5315678985153</td><td>544.32</td><td>True</td></tr>\n",
       "<tr><td>304</td><td>2016.1.01036.S</td><td>Sanhueza, Patricio</td><td>NGC_6334_I_N</td><td>0.038841491110304806</td><td>15.210549206616603</td><td>1253.5315678985153</td><td>544.32</td><td>True</td></tr>\n",
       "<tr><td>305</td><td>2016.1.01036.S</td><td>Sanhueza, Patricio</td><td>NGC_6334_I_N</td><td>0.038841491110304806</td><td>15.077248958844482</td><td>1253.5315678985153</td><td>544.32</td><td>True</td></tr>\n",
       "<tr><td>306</td><td>2018.1.00632.S</td><td>Beltran, Maite</td><td>G31.41+0.31</td><td>0.05955497912393269</td><td>20.607547662393145</td><td>6536.190560418308</td><td>10432.8</td><td>True</td></tr>\n",
       "<tr><td>307</td><td>2018.1.00632.S</td><td>Beltran, Maite</td><td>G31.41+0.31</td><td>0.04127100873936248</td><td>7.730916198008621</td><td>2807.871058404125</td><td>3955.392</td><td>True</td></tr>\n",
       "<tr><td>308</td><td>2018.1.00632.S</td><td>Beltran, Maite</td><td>G31.41+0.31</td><td>0.04127100873936248</td><td>7.707057825014196</td><td>2807.871058404125</td><td>3955.392</td><td>True</td></tr>\n",
       "<tr><td>309</td><td>2018.1.00632.S</td><td>Beltran, Maite</td><td>G31.41+0.31</td><td>0.04127100873936248</td><td>7.803796278744664</td><td>2807.871058404125</td><td>3955.392</td><td>True</td></tr>\n",
       "<tr><td>310</td><td>2016.1.00970.S</td><td>Hirota, Tomoya</td><td>Orion_Source_I</td><td>0.047724228394605536</td><td>11.04930519613421</td><td>393.74409525789326</td><td>3326.4</td><td>True</td></tr>\n",
       "<tr><td>311</td><td>2019.1.00910.S</td><td>Poorta, Johanna</td><td>Cl_star_NGC6618_B268</td><td>0.03147696144334704</td><td>17.972454490447145</td><td>244.7819920174757</td><td>1124.928</td><td>True</td></tr>\n",
       "<tr><td>312</td><td>2018.1.00745.S</td><td>Moscadelli, Luca</td><td>G24.78+0.08</td><td>0.04236055238526238</td><td>5.277705991124231</td><td>663.304400777431</td><td>2830.464</td><td>True</td></tr>\n",
       "<tr><td>313</td><td>2018.1.00745.S</td><td>Moscadelli, Luca</td><td>G24.78+0.08</td><td>0.04236055238526238</td><td>5.2682772118221095</td><td>663.304400777431</td><td>2830.464</td><td>True</td></tr>\n",
       "<tr><td>314</td><td>2018.1.00745.S</td><td>Moscadelli, Luca</td><td>G24.78+0.08</td><td>0.04236055238526238</td><td>5.1562656974319285</td><td>663.304400777431</td><td>2830.464</td><td>True</td></tr>\n",
       "<tr><td>315</td><td>2018.1.00745.S</td><td>Moscadelli, Luca</td><td>G24.78+0.08</td><td>0.04236055238526238</td><td>5.1317580673243075</td><td>663.304400777431</td><td>2830.464</td><td>True</td></tr>\n",
       "<tr><td>316</td><td>2017.1.00261.S</td><td>Maud, Luke</td><td>W33A</td><td>0.02445720578206058</td><td>23.694610422811213</td><td>614.0035685237506</td><td>2231.712</td><td>True</td></tr>\n",
       "<tr><td>317</td><td>2019.1.00315.S</td><td>Liu, Sheng-Yuan</td><td>S255_IR</td><td>0.07102289692946182</td><td>1.365640741227132</td><td>215.23872257302784</td><td>5503.68</td><td>True</td></tr>\n",
       "<tr><td>318</td><td>2018.1.00641.S</td><td>Lu, Xing</td><td>c20kms_c4</td><td>0.02079366826190652</td><td>45.3078846045331</td><td>662.4681267349767</td><td>3919.104</td><td>True</td></tr>\n",
       "<tr><td>319</td><td>2018.1.00641.S</td><td>Lu, Xing</td><td>c20kms_c4</td><td>0.02079366826190652</td><td>45.94368592888493</td><td>662.4681267349767</td><td>3919.104</td><td>True</td></tr>\n",
       "<tr><td>320</td><td>2018.1.00641.S</td><td>Lu, Xing</td><td>c20kms_c1</td><td>0.02079366875512931</td><td>45.92784340680188</td><td>662.4681267349767</td><td>3846.528</td><td>True</td></tr>\n",
       "<tr><td>321</td><td>2018.1.00641.S</td><td>Lu, Xing</td><td>sgrc</td><td>0.020793652636183747</td><td>45.324558756067475</td><td>662.4681267349767</td><td>3882.816</td><td>True</td></tr>\n",
       "<tr><td>322</td><td>2018.1.00641.S</td><td>Lu, Xing</td><td>sgrc</td><td>0.020793652636183747</td><td>45.935896629258615</td><td>662.4681267349767</td><td>3882.816</td><td>True</td></tr>\n",
       "<tr><td>323</td><td>2018.A.00031.T</td><td>Brogan, Crystal</td><td>G358.93</td><td>0.05136414413980812</td><td>7.179843883160922</td><td>182.21458592421473</td><td>1723.68</td><td>False</td></tr>\n",
       "<tr><td>324</td><td>2018.A.00031.T</td><td>Brogan, Crystal</td><td>G358.93</td><td>0.05136414413980812</td><td>7.1992997502708205</td><td>182.21458592421473</td><td>1723.68</td><td>False</td></tr>\n",
       "<tr><td>325</td><td>2018.A.00031.T</td><td>Brogan, Crystal</td><td>G358.93</td><td>0.05136414413980812</td><td>7.159833726244549</td><td>182.21458592421473</td><td>1723.68</td><td>False</td></tr>\n",
       "<tr><td>326</td><td>2018.A.00031.T</td><td>Brogan, Crystal</td><td>G358.93</td><td>0.05136414413980812</td><td>7.167543014363882</td><td>182.21458592421473</td><td>1723.68</td><td>False</td></tr>\n",
       "<tr><td>327</td><td>2018.A.00031.T</td><td>Brogan, Crystal</td><td>G358.93</td><td>0.05136414413980812</td><td>10.726474045305599</td><td>182.21458592421473</td><td>1723.68</td><td>False</td></tr>\n",
       "<tr><td>328</td><td>2018.A.00031.T</td><td>Brogan, Crystal</td><td>G358.93</td><td>0.05136414413980812</td><td>10.714778533788285</td><td>182.21458592421473</td><td>1723.68</td><td>False</td></tr>\n",
       "<tr><td>329</td><td>2018.1.00641.S</td><td>Lu, Xing</td><td>sgrc</td><td>0.020793652636183747</td><td>45.53672862259662</td><td>662.4681267349767</td><td>3882.816</td><td>True</td></tr>\n",
       "<tr><td>330</td><td>2018.1.00641.S</td><td>Lu, Xing</td><td>c20kms_c1</td><td>0.02079366875512931</td><td>45.34143309628484</td><td>662.4681267349767</td><td>3846.528</td><td>True</td></tr>\n",
       "<tr><td>331</td><td>2019.1.00517.S</td><td>Zhang, Yichen</td><td>G339.88-1.26</td><td>0.04312822637922199</td><td>5.575916107772292</td><td>563.3396301968198</td><td>19813.248</td><td>True</td></tr>\n",
       "<tr><td>332</td><td>2019.1.00517.S</td><td>Zhang, Yichen</td><td>G339.88-1.26</td><td>0.04312822637922199</td><td>5.9063405597045895</td><td>563.3396301968198</td><td>19813.248</td><td>True</td></tr>\n",
       "<tr><td>333</td><td>2016.1.01036.S</td><td>Sanhueza, Patricio</td><td>IRAS_165623959</td><td>0.03884115242552561</td><td>15.077460139323287</td><td>1253.5315678985153</td><td>544.32</td><td>True</td></tr>\n",
       "<tr><td>334</td><td>2019.1.00315.S</td><td>Liu, Sheng-Yuan</td><td>S255_IR</td><td>0.07102289692946182</td><td>1.2513753502732112</td><td>215.23872257302784</td><td>5503.68</td><td>True</td></tr>\n",
       "<tr><td>335</td><td>2016.1.01036.S</td><td>Sanhueza, Patricio</td><td>NGC6334I</td><td>0.038841489777508086</td><td>15.07724978987475</td><td>1253.5315678985153</td><td>544.32</td><td>True</td></tr>\n",
       "<tr><td>336</td><td>2019.1.00315.S</td><td>Liu, Sheng-Yuan</td><td>S255_IR</td><td>0.07102289692946182</td><td>1.2496593503449003</td><td>215.23872257302784</td><td>5503.68</td><td>True</td></tr>\n",
       "<tr><td>337</td><td>2016.1.00550.S</td><td>Ginsburg, Adam</td><td>sgr_b2m</td><td>0.08192415189695122</td><td>16.9973372353492</td><td>3436.50712540598</td><td>2697.21</td><td>True</td></tr>\n",
       "<tr><td>338</td><td>2016.1.00550.S</td><td>Ginsburg, Adam</td><td>sgr_b2m</td><td>0.08192415189695122</td><td>15.347807896292805</td><td>3436.50712540598</td><td>2697.21</td><td>True</td></tr>\n",
       "<tr><td>339</td><td>2016.1.00550.S</td><td>Ginsburg, Adam</td><td>sgr_b2m</td><td>0.03833407373289667</td><td>10.063757455296354</td><td>1454.1646155322778</td><td>2794.163</td><td>True</td></tr>\n",
       "<tr><td>340</td><td>2018.1.00641.S</td><td>Lu, Xing</td><td>c20kms_c4</td><td>0.02079366826190652</td><td>45.51997699542211</td><td>662.4681267349767</td><td>3919.104</td><td>True</td></tr>\n",
       "<tr><td>341</td><td>2018.1.00641.S</td><td>Lu, Xing</td><td>c20kms_c4</td><td>0.02079366826190652</td><td>46.07874966145471</td><td>662.4681267349767</td><td>3919.104</td><td>True</td></tr>\n",
       "<tr><td>342</td><td>2018.1.00641.S</td><td>Lu, Xing</td><td>c20kms_c1</td><td>0.02079366875512931</td><td>45.55368258315032</td><td>662.4681267349767</td><td>3846.528</td><td>True</td></tr>\n",
       "<tr><td>343</td><td>2018.1.00641.S</td><td>Lu, Xing</td><td>c20kms_c1</td><td>0.02079366875512931</td><td>46.06256765802494</td><td>662.4681267349767</td><td>3846.528</td><td>True</td></tr>\n",
       "<tr><td>344</td><td>2019.1.00315.S</td><td>Liu, Sheng-Yuan</td><td>S255_IR</td><td>0.07102289692946182</td><td>1.2414440347642386</td><td>215.23872257302784</td><td>5503.68</td><td>True</td></tr>\n",
       "<tr><td>345</td><td>2016.1.00550.S</td><td>Ginsburg, Adam</td><td>sgr_b2m</td><td>0.08192415189695122</td><td>17.178589892089427</td><td>3436.50712540598</td><td>2697.21</td><td>True</td></tr>\n",
       "<tr><td>346</td><td>2016.1.01036.S</td><td>Sanhueza, Patricio</td><td>IRAS_165474247</td><td>0.03884108298734715</td><td>14.770106806625966</td><td>1253.5315678985153</td><td>544.32</td><td>True</td></tr>\n",
       "<tr><td>347</td><td>2016.1.00550.S</td><td>Ginsburg, Adam</td><td>sgr_b2m</td><td>0.03833407373289667</td><td>10.390070191926194</td><td>1454.1646155322778</td><td>2794.163</td><td>True</td></tr>\n",
       "<tr><td>348</td><td>2016.1.00550.S</td><td>Ginsburg, Adam</td><td>sgr_b2m</td><td>0.03833407373289667</td><td>9.828000079350035</td><td>1454.1646155322778</td><td>2794.163</td><td>True</td></tr>\n",
       "<tr><td>349</td><td>2016.1.00550.S</td><td>Ginsburg, Adam</td><td>sgr_b2m</td><td>0.03833407373289667</td><td>9.858189577349101</td><td>1454.1646155322778</td><td>2794.163</td><td>True</td></tr>\n",
       "<tr><td>350</td><td>2016.1.00550.S</td><td>Ginsburg, Adam</td><td>sgr_b2m</td><td>0.08192415189695122</td><td>15.199265559199088</td><td>3436.50712540598</td><td>2697.21</td><td>True</td></tr>\n",
       "<tr><td>351</td><td>2018.1.00641.S</td><td>Lu, Xing</td><td>sgrc</td><td>0.020793652636183747</td><td>46.070792312251164</td><td>662.4681267349767</td><td>3882.816</td><td>True</td></tr>\n",
       "<tr><td>352</td><td>2019.1.00517.S</td><td>Zhang, Yichen</td><td>G339.88-1.26</td><td>0.04312822637922199</td><td>5.547400547988967</td><td>563.3396301968198</td><td>19813.248</td><td>True</td></tr>\n",
       "<tr><td>353</td><td>2019.1.00517.S</td><td>Zhang, Yichen</td><td>G339.88-1.26</td><td>0.04312822637922199</td><td>5.537268271556287</td><td>563.3396301968198</td><td>19813.248</td><td>True</td></tr>\n",
       "<tr><td>354</td><td>2016.1.01036.S</td><td>Sanhueza, Patricio</td><td>IRAS_165623959</td><td>0.03884115242552561</td><td>14.709948843768382</td><td>1253.5315678985153</td><td>544.32</td><td>True</td></tr>\n",
       "<tr><td>355</td><td>2016.1.01036.S</td><td>Sanhueza, Patricio</td><td>IRAS_165623959</td><td>0.03884115242552561</td><td>14.77006407731972</td><td>1253.5315678985153</td><td>544.32</td><td>True</td></tr>\n",
       "<tr><td>356</td><td>2016.1.01036.S</td><td>Sanhueza, Patricio</td><td>IRAS_165623959</td><td>0.03884115242552561</td><td>15.210761973602759</td><td>1253.5315678985153</td><td>544.32</td><td>True</td></tr>\n",
       "<tr><td>357</td><td>2016.1.01036.S</td><td>Sanhueza, Patricio</td><td>NGC6334I</td><td>0.038841489777508086</td><td>14.709741772343158</td><td>1253.5315678985153</td><td>544.32</td><td>True</td></tr>\n",
       "<tr><td>358</td><td>2016.1.01036.S</td><td>Sanhueza, Patricio</td><td>IRAS_165474247</td><td>0.03884108298734715</td><td>15.210805596360794</td><td>1253.5315678985153</td><td>544.32</td><td>True</td></tr>\n",
       "<tr><td>359</td><td>2016.1.01036.S</td><td>Sanhueza, Patricio</td><td>IRAS_165474247</td><td>0.03884108298734715</td><td>14.709991466524079</td><td>1253.5315678985153</td><td>544.32</td><td>True</td></tr>\n",
       "<tr><td>360</td><td>2016.1.01036.S</td><td>Sanhueza, Patricio</td><td>IRAS_165474247</td><td>0.03884108298734715</td><td>15.077503436807156</td><td>1253.5315678985153</td><td>544.32</td><td>True</td></tr>\n",
       "<tr><td>361</td><td>2016.1.01036.S</td><td>Sanhueza, Patricio</td><td>NGC6334I</td><td>0.038841489777508086</td><td>14.769856488240762</td><td>1253.5315678985153</td><td>544.32</td><td>True</td></tr>\n",
       "<tr><td>362</td><td>2016.1.01036.S</td><td>Sanhueza, Patricio</td><td>NGC6334I</td><td>0.038841489777508086</td><td>15.210550043890052</td><td>1253.5315678985153</td><td>544.32</td><td>True</td></tr>\n",
       "<tr><td>363</td><td>2016.1.00165.S</td><td>Bally, John</td><td>Orion_BNKL_source_I</td><td>0.016740080240211536</td><td>38.787797989261</td><td>978.0028006966232</td><td>2721.6</td><td>True</td></tr>\n",
       "<tr><td>364</td><td>2016.1.00165.S</td><td>Bally, John</td><td>Orion_BNKL_source_I</td><td>0.016740080240211536</td><td>39.0728543709959</td><td>978.0028006966232</td><td>2721.6</td><td>True</td></tr>\n",
       "<tr><td>365</td><td>2016.1.00165.S</td><td>Bally, John</td><td>Orion_BNKL_source_I</td><td>0.06788285515528056</td><td>15.844422983795067</td><td>3406.159460586527</td><td>5334.336</td><td>True</td></tr>\n",
       "<tr><td>366</td><td>2016.1.00766.S</td><td>Walker, Daniel</td><td>G0.38+0.04</td><td>0.0676980490973122</td><td>20.279680948014732</td><td>421.32397041869666</td><td>2776.032</td><td>True</td></tr>\n",
       "<tr><td>367</td><td>2018.A.00065.T</td><td>Arabsalmani, Maryam</td><td>GRB_190829A</td><td>0.09508664437578822</td><td>1.375665985179105</td><td>591.5397173220299</td><td>2449.44</td><td>True</td></tr>\n",
       "<tr><td>368</td><td>2018.A.00065.T</td><td>Arabsalmani, Maryam</td><td>GRB_190829A</td><td>0.09508664437578822</td><td>1.56681051166015</td><td>591.5397173220299</td><td>2449.44</td><td>True</td></tr>\n",
       "<tr><td>369</td><td>2018.A.00065.T</td><td>Arabsalmani, Maryam</td><td>GRB_190829A</td><td>0.09508664437578822</td><td>1.5396446374695372</td><td>591.5397173220299</td><td>2449.44</td><td>True</td></tr>\n",
       "<tr><td>370</td><td>2018.A.00065.T</td><td>Arabsalmani, Maryam</td><td>GRB_190829A</td><td>0.09508664437578822</td><td>1.5352248484280437</td><td>591.5397173220299</td><td>2449.44</td><td>True</td></tr>\n",
       "<tr><td>371</td><td>2016.1.00344.S</td><td>Perez, Sebastian</td><td>HD100546</td><td>0.029809538706468436</td><td>13.88412992585906</td><td>157.6053948294634</td><td>7021.635</td><td>True</td></tr>\n",
       "<tr><td>372</td><td>2016.1.00344.S</td><td>Perez, Sebastian</td><td>HD100546</td><td>0.029809538706468436</td><td>14.412609108459131</td><td>157.6053948294634</td><td>7021.635</td><td>True</td></tr>\n",
       "<tr><td>373</td><td>2016.1.00340.S</td><td>Cazzoletti, Paolo</td><td>hd135344b</td><td>0.04059627849364873</td><td>20.481101213930565</td><td>2101.345460865188</td><td>2685.205</td><td>True</td></tr>\n",
       "<tr><td>374</td><td>2016.1.00340.S</td><td>Cazzoletti, Paolo</td><td>hd135344b</td><td>0.04059627849364873</td><td>19.248464463830462</td><td>2101.345460865188</td><td>2685.205</td><td>True</td></tr>\n",
       "<tr><td>375</td><td>2016.1.00340.S</td><td>Cazzoletti, Paolo</td><td>hd135344b</td><td>0.04059627849364873</td><td>18.69727251822493</td><td>2101.345460865188</td><td>2685.205</td><td>True</td></tr>\n",
       "<tr><td>376</td><td>2016.1.00340.S</td><td>Cazzoletti, Paolo</td><td>hd135344b</td><td>0.04059627849364873</td><td>18.59464171400762</td><td>2101.345460865188</td><td>2685.205</td><td>True</td></tr>\n",
       "<tr><td>377</td><td>2016.1.00344.S</td><td>Perez, Sebastian</td><td>HD100546</td><td>0.029809538706468436</td><td>13.921868429071683</td><td>157.6053948294634</td><td>7021.635</td><td>True</td></tr>\n",
       "<tr><td>378</td><td>2016.1.00165.S</td><td>Bally, John</td><td>Orion_BNKL_source_I</td><td>0.03058641517861413</td><td>11.390280288383266</td><td>1459.7843055846092</td><td>2630.88</td><td>True</td></tr>\n",
       "<tr><td>379</td><td>2016.1.00165.S</td><td>Bally, John</td><td>Orion_BNKL_source_I</td><td>0.03058641517861413</td><td>11.34020402111373</td><td>1459.7843055846092</td><td>2630.88</td><td>True</td></tr>\n",
       "<tr><td>380</td><td>2016.1.00165.S</td><td>Bally, John</td><td>Orion_BNKL_source_I</td><td>0.03058641517861413</td><td>11.9162219686092</td><td>1459.7843055846092</td><td>2630.88</td><td>True</td></tr>\n",
       "<tr><td>381</td><td>2016.1.00165.S</td><td>Bally, John</td><td>Orion_BNKL_source_I</td><td>0.03058641517861413</td><td>11.634578679628184</td><td>1459.7843055846092</td><td>2630.88</td><td>True</td></tr>\n",
       "<tr><td>382</td><td>2016.1.00766.S</td><td>Walker, Daniel</td><td>G0.38+0.04</td><td>0.0676980490973122</td><td>20.345033602964225</td><td>421.32397041869666</td><td>2776.032</td><td>True</td></tr>\n",
       "<tr><td>383</td><td>2016.1.00766.S</td><td>Walker, Daniel</td><td>G0.38+0.04</td><td>0.0676980490973122</td><td>20.20857491836272</td><td>421.32397041869666</td><td>2776.032</td><td>True</td></tr>\n",
       "<tr><td>384</td><td>2016.1.00165.S</td><td>Bally, John</td><td>Orion_BNKL_source_I</td><td>0.06788285515528056</td><td>17.023890652546616</td><td>3406.159460586527</td><td>5334.336</td><td>True</td></tr>\n",
       "<tr><td>385</td><td>2016.1.00766.S</td><td>Walker, Daniel</td><td>G0.38+0.04</td><td>0.0676980490973122</td><td>20.085751107190514</td><td>421.32397041869666</td><td>2776.032</td><td>True</td></tr>\n",
       "<tr><td>386</td><td>2016.1.00766.S</td><td>Walker, Daniel</td><td>G0.38+0.04</td><td>0.0676980490973122</td><td>20.170515778887665</td><td>421.32397041869666</td><td>2776.032</td><td>True</td></tr>\n",
       "<tr><td>387</td><td>2016.1.00165.S</td><td>Bally, John</td><td>Orion_BNKL_source_I</td><td>0.06788285515528056</td><td>15.700480700630932</td><td>3406.159460586527</td><td>5334.336</td><td>True</td></tr>\n",
       "<tr><td>388</td><td>2016.1.01504.S</td><td>Kraus, Stefan</td><td>IRAS13481-6124</td><td>0.028637704147428868</td><td>8.398420325228601</td><td>814.6960438423704</td><td>2032.128</td><td>True</td></tr>\n",
       "<tr><td>389</td><td>2016.1.01504.S</td><td>Kraus, Stefan</td><td>IRAS13481-6124</td><td>0.028637704147428868</td><td>8.386854980145834</td><td>814.6960438423704</td><td>2032.128</td><td>True</td></tr>\n",
       "<tr><td>390</td><td>2016.1.00165.S</td><td>Bally, John</td><td>Orion_BNKL_source_I</td><td>0.016740080240211536</td><td>38.734677884039534</td><td>978.0028006966232</td><td>2721.6</td><td>True</td></tr>\n",
       "<tr><td>391</td><td>2016.1.00766.S</td><td>Walker, Daniel</td><td>G0.38+0.04</td><td>0.0676980490973122</td><td>20.15361241254209</td><td>421.32397041869666</td><td>2776.032</td><td>True</td></tr>\n",
       "<tr><td>392</td><td>2016.1.00766.S</td><td>Walker, Daniel</td><td>G0.38+0.04</td><td>0.0676980490973122</td><td>20.27647886702097</td><td>421.32397041869666</td><td>2776.032</td><td>True</td></tr>\n",
       "<tr><td>393</td><td>2016.1.00766.S</td><td>Walker, Daniel</td><td>G0.38+0.04</td><td>0.0676980490973122</td><td>19.032556438256016</td><td>421.32397041869666</td><td>2776.032</td><td>True</td></tr>\n",
       "<tr><td>394</td><td>2016.1.00344.S</td><td>Perez, Sebastian</td><td>HD169142</td><td>0.026601531253361906</td><td>15.985704999309531</td><td>157.60011681018537</td><td>7890.496</td><td>True</td></tr>\n",
       "<tr><td>395</td><td>2016.1.00344.S</td><td>Perez, Sebastian</td><td>HD169142</td><td>0.026601531253361906</td><td>15.94694256242386</td><td>157.60011681018537</td><td>7890.496</td><td>True</td></tr>\n",
       "<tr><td>396</td><td>2016.1.00344.S</td><td>Perez, Sebastian</td><td>HD169142</td><td>0.026601531253361906</td><td>15.664924295191664</td><td>157.60011681018537</td><td>7890.496</td><td>True</td></tr>\n",
       "<tr><td>397</td><td>2016.1.00165.S</td><td>Bally, John</td><td>Orion_BNKL_source_I</td><td>0.06788285515528056</td><td>16.846296212021304</td><td>3406.159460586527</td><td>5334.336</td><td>True</td></tr>\n",
       "<tr><td>398</td><td>2016.1.00344.S</td><td>Perez, Sebastian</td><td>HD100546</td><td>0.029809538706468436</td><td>13.88810808271242</td><td>157.6053948294634</td><td>7021.635</td><td>True</td></tr>\n",
       "<tr><td>399</td><td>2016.1.00344.S</td><td>Perez, Sebastian</td><td>HD100546</td><td>0.029809538706468436</td><td>13.904978521183732</td><td>157.6053948294634</td><td>7021.635</td><td>True</td></tr>\n",
       "<tr><td>400</td><td>2016.1.00344.S</td><td>Perez, Sebastian</td><td>HD169142</td><td>0.026601531253361906</td><td>15.641435788638507</td><td>157.60011681018537</td><td>7890.496</td><td>True</td></tr>\n",
       "<tr><td>401</td><td>2016.1.00344.S</td><td>Perez, Sebastian</td><td>HD169142</td><td>0.026601531253361906</td><td>15.708973267772613</td><td>157.60011681018537</td><td>7890.496</td><td>True</td></tr>\n",
       "<tr><td>402</td><td>2016.1.00165.S</td><td>Bally, John</td><td>Orion_BNKL_source_I</td><td>0.016740080240211536</td><td>34.298225250399085</td><td>978.0028006966232</td><td>2721.6</td><td>True</td></tr>\n",
       "<tr><td>403</td><td>2016.1.01504.S</td><td>Kraus, Stefan</td><td>IRAS13481-6124</td><td>0.028637704147428868</td><td>8.45152860986207</td><td>814.6960438423704</td><td>2032.128</td><td>True</td></tr>\n",
       "<tr><td>404</td><td>2016.1.01504.S</td><td>Kraus, Stefan</td><td>IRAS13481-6124</td><td>0.028637704147428868</td><td>9.182780182114314</td><td>814.6960438423704</td><td>2032.128</td><td>True</td></tr>\n",
       "<tr><td>405</td><td>2016.1.01504.S</td><td>Kraus, Stefan</td><td>IRAS13481-6124</td><td>0.028637704147428868</td><td>8.395930747872328</td><td>814.6960438423704</td><td>2032.128</td><td>True</td></tr>\n",
       "<tr><td>406</td><td>2016.1.00766.S</td><td>Walker, Daniel</td><td>G0.38+0.04</td><td>0.0676980490973122</td><td>20.22213434605571</td><td>421.32397041869666</td><td>2776.032</td><td>True</td></tr>\n",
       "<tr><td>407</td><td>2016.1.00766.S</td><td>Walker, Daniel</td><td>G0.38+0.04</td><td>0.0676980490973122</td><td>18.87070303521266</td><td>421.32397041869666</td><td>2776.032</td><td>True</td></tr>\n",
       "<tr><td>408</td><td>2016.1.00383.S</td><td>Hunter, Todd</td><td>NGC6334I</td><td>0.08482755720374721</td><td>1.4400162376846175</td><td>567.7680990548307</td><td>4427.136</td><td>True</td></tr>\n",
       "<tr><td>409</td><td>2017.1.00700.S</td><td>Johnston, Katharine</td><td>AFGL_4176</td><td>0.018030410624493082</td><td>27.2672737613064</td><td>353.5748715240327</td><td>7566.048</td><td>True</td></tr>\n",
       "<tr><td>410</td><td>2017.1.00700.S</td><td>Johnston, Katharine</td><td>AFGL_4176</td><td>0.018030410624493082</td><td>27.35531868763488</td><td>353.5748715240327</td><td>7566.048</td><td>True</td></tr>\n",
       "<tr><td>411</td><td>2018.1.01538.S</td><td>Motogi, Kazuhito</td><td>G353.273+0.641</td><td>0.02187671460346394</td><td>53.63412868783195</td><td>728.6199920516242</td><td>526.176</td><td>True</td></tr>\n",
       "<tr><td>412</td><td>2016.1.00383.S</td><td>Hunter, Todd</td><td>NGC6334I</td><td>0.07265807359587775</td><td>6.380472455828913</td><td>496.857497192722</td><td>3338.496</td><td>True</td></tr>\n",
       "<tr><td>413</td><td>2016.1.00383.S</td><td>Hunter, Todd</td><td>NGC6334I</td><td>0.07265807359587775</td><td>6.158992248459886</td><td>496.857497192722</td><td>3338.496</td><td>True</td></tr>\n",
       "<tr><td>414</td><td>2015.1.01596.S</td><td>Goddi, Ciriaco</td><td>w51n</td><td>0.02159656199235678</td><td>32.204164698217554</td><td>725.8529364199687</td><td>2503.872</td><td>True</td></tr>\n",
       "<tr><td>415</td><td>2015.1.01596.S</td><td>Goddi, Ciriaco</td><td>w51e2</td><td>0.02159656157372763</td><td>32.241564428710525</td><td>725.8529364199687</td><td>2522.016</td><td>True</td></tr>\n",
       "<tr><td>416</td><td>2015.1.01596.S</td><td>Goddi, Ciriaco</td><td>w51n</td><td>0.02159656199235678</td><td>35.22427497791756</td><td>725.8529364199687</td><td>2503.872</td><td>True</td></tr>\n",
       "<tr><td>417</td><td>2015.1.01596.S</td><td>Goddi, Ciriaco</td><td>w51e2</td><td>0.02159656157372763</td><td>35.373119792574585</td><td>725.8529364199687</td><td>2522.016</td><td>True</td></tr>\n",
       "<tr><td>418</td><td>2015.1.01596.S</td><td>Goddi, Ciriaco</td><td>w51e2</td><td>0.02159656157372763</td><td>35.26383908505493</td><td>725.8529364199687</td><td>2522.016</td><td>True</td></tr>\n",
       "<tr><td>419</td><td>2015.1.01596.S</td><td>Goddi, Ciriaco</td><td>w51e2</td><td>0.02159656157372763</td><td>32.1907783058656</td><td>725.8529364199687</td><td>2522.016</td><td>True</td></tr>\n",
       "<tr><td>420</td><td>2015.1.01596.S</td><td>Goddi, Ciriaco</td><td>w51e2</td><td>0.02159656157372763</td><td>35.210874868968155</td><td>725.8529364199687</td><td>2522.016</td><td>True</td></tr>\n",
       "<tr><td>421</td><td>2015.1.01596.S</td><td>Goddi, Ciriaco</td><td>w51e2</td><td>0.02159656157372763</td><td>32.22759240785073</td><td>725.8529364199687</td><td>2522.016</td><td>True</td></tr>\n",
       "<tr><td>422</td><td>2015.1.01596.S</td><td>Goddi, Ciriaco</td><td>w51n</td><td>0.02159656199235678</td><td>32.09271319959149</td><td>725.8529364199687</td><td>2503.872</td><td>True</td></tr>\n",
       "<tr><td>423</td><td>2016.1.00383.S</td><td>Hunter, Todd</td><td>NGC6334I</td><td>0.08482755720374721</td><td>1.3776797548643016</td><td>567.7680990548307</td><td>4427.136</td><td>True</td></tr>\n",
       "<tr><td>424</td><td>2016.1.00383.S</td><td>Hunter, Todd</td><td>NGC6334I</td><td>0.08482755720374721</td><td>1.3754096761404682</td><td>567.7680990548307</td><td>4427.136</td><td>True</td></tr>\n",
       "<tr><td>425</td><td>2015.1.01596.S</td><td>Goddi, Ciriaco</td><td>w51n</td><td>0.02159656199235678</td><td>35.38658164831823</td><td>725.8529364199687</td><td>2503.872</td><td>True</td></tr>\n",
       "<tr><td>426</td><td>2015.1.01596.S</td><td>Goddi, Ciriaco</td><td>w51n</td><td>0.02159656199235678</td><td>35.16755716490496</td><td>725.8529364199687</td><td>2503.872</td><td>True</td></tr>\n",
       "<tr><td>427</td><td>2015.1.01596.S</td><td>Goddi, Ciriaco</td><td>w51n</td><td>0.02159656199235678</td><td>35.20857444699967</td><td>725.8529364199687</td><td>2503.872</td><td>True</td></tr>\n",
       "<tr><td>428</td><td>2015.1.01596.S</td><td>Goddi, Ciriaco</td><td>w51n</td><td>0.02159656199235678</td><td>35.277259351001824</td><td>725.8529364199687</td><td>2503.872</td><td>True</td></tr>\n",
       "<tr><td>429</td><td>2015.1.01596.S</td><td>Goddi, Ciriaco</td><td>w51n</td><td>0.02159656199235678</td><td>32.24099410962203</td><td>725.8529364199687</td><td>2503.872</td><td>True</td></tr>\n",
       "<tr><td>430</td><td>2015.1.01596.S</td><td>Goddi, Ciriaco</td><td>w51e2</td><td>0.02159656157372763</td><td>35.15417863328133</td><td>725.8529364199687</td><td>2522.016</td><td>True</td></tr>\n",
       "<tr><td>431</td><td>2015.1.01596.S</td><td>Goddi, Ciriaco</td><td>w51e2</td><td>0.02159656157372763</td><td>32.1679017099681</td><td>725.8529364199687</td><td>2522.016</td><td>True</td></tr>\n",
       "<tr><td>432</td><td>2017.1.01489.S</td><td>Kraus, Stefan</td><td>IRAS13481-6124</td><td>0.056874372393528334</td><td>22.907058454505023</td><td>3395.4845072711228</td><td>6132.672</td><td>True</td></tr>\n",
       "<tr><td>433</td><td>2017.1.01489.S</td><td>Kraus, Stefan</td><td>IRAS13481-6124</td><td>0.056874372393528334</td><td>22.700975075445537</td><td>3395.4845072711228</td><td>6132.672</td><td>True</td></tr>\n",
       "<tr><td>434</td><td>2017.1.01552.S</td><td>Cheng, Yu</td><td>G286</td><td>0.01927625775768028</td><td>28.287207111205838</td><td>192.6446310915769</td><td>10378.368</td><td>True</td></tr>\n",
       "<tr><td>435</td><td>2018.1.01524.S</td><td>Maud, Luke</td><td>G17.64+0.16</td><td>0.019412216455993416</td><td>27.170840479742193</td><td>1256.1597901233827</td><td>8110.368</td><td>True</td></tr>\n",
       "<tr><td>436</td><td>2018.1.01538.S</td><td>Motogi, Kazuhito</td><td>G353.273+0.641</td><td>0.05786087330064912</td><td>2.212070005944357</td><td>413.6179409512394</td><td>5044.032</td><td>True</td></tr>\n",
       "<tr><td>437</td><td>2018.1.01538.S</td><td>Motogi, Kazuhito</td><td>G353.273+0.641</td><td>0.05786087330064912</td><td>2.322217915718051</td><td>413.6179409512394</td><td>5044.032</td><td>True</td></tr>\n",
       "<tr><td>438</td><td>2018.1.01538.S</td><td>Motogi, Kazuhito</td><td>G353.273+0.641</td><td>0.02187671460346394</td><td>53.81131420858933</td><td>728.6199920516242</td><td>526.176</td><td>True</td></tr>\n",
       "<tr><td>439</td><td>2016.1.00949.S</td><td>Walker, Daniel</td><td>d_sma1</td><td>0.09641193730202599</td><td>1.1203016078055907</td><td>765.1424513159687</td><td>8164.8</td><td>True</td></tr>\n",
       "<tr><td>440</td><td>2018.1.01538.S</td><td>Motogi, Kazuhito</td><td>G353.273+0.641</td><td>0.05786087330064912</td><td>2.3323057483753447</td><td>413.6179409512394</td><td>5044.032</td><td>True</td></tr>\n",
       "<tr><td>441</td><td>2018.1.01538.S</td><td>Motogi, Kazuhito</td><td>G353.273+0.641</td><td>0.05786087330064912</td><td>2.3200940191689954</td><td>413.6179409512394</td><td>5044.032</td><td>True</td></tr>\n",
       "<tr><td>442</td><td>2018.1.01524.S</td><td>Maud, Luke</td><td>G17.64+0.16</td><td>0.019412216455993416</td><td>27.274465265122004</td><td>1256.1597901233827</td><td>8110.368</td><td>True</td></tr>\n",
       "<tr><td>443</td><td>2018.1.01524.S</td><td>Maud, Luke</td><td>G17.64+0.16</td><td>0.019412216455993416</td><td>27.18855485343239</td><td>1256.1597901233827</td><td>8110.368</td><td>True</td></tr>\n",
       "<tr><td>444</td><td>2018.1.01524.S</td><td>Maud, Luke</td><td>G17.64+0.16</td><td>0.019412216455993416</td><td>27.094990671571416</td><td>1256.1597901233827</td><td>8110.368</td><td>True</td></tr>\n",
       "<tr><td>445</td><td>2016.1.00949.S</td><td>Walker, Daniel</td><td>d_sma1</td><td>0.09641193730202599</td><td>1.0644518229272246</td><td>765.1424513159687</td><td>8164.8</td><td>True</td></tr>\n",
       "<tr><td>446</td><td>2017.1.00700.S</td><td>Johnston, Katharine</td><td>AFGL_4176</td><td>0.018030410624493082</td><td>29.05642308453842</td><td>353.5748715240327</td><td>7566.048</td><td>True</td></tr>\n",
       "<tr><td>447</td><td>2017.1.00700.S</td><td>Johnston, Katharine</td><td>AFGL_4176</td><td>0.018030410624493082</td><td>29.12339261620786</td><td>353.5748715240327</td><td>7566.048</td><td>True</td></tr>\n",
       "<tr><td>448</td><td>2018.1.01538.S</td><td>Motogi, Kazuhito</td><td>G353.273+0.641</td><td>0.02187671460346394</td><td>49.84525971447956</td><td>728.6199920516242</td><td>526.176</td><td>True</td></tr>\n",
       "<tr><td>449</td><td>2016.1.00383.S</td><td>Hunter, Todd</td><td>NGC6334I</td><td>0.07265807359587775</td><td>6.1675071421383665</td><td>496.857497192722</td><td>3338.496</td><td>True</td></tr>\n",
       "<tr><td>450</td><td>2015.1.01596.S</td><td>Goddi, Ciriaco</td><td>w51e2</td><td>0.02159656157372763</td><td>35.195180311049285</td><td>725.8529364199687</td><td>2522.016</td><td>True</td></tr>\n",
       "<tr><td>451</td><td>2015.1.01596.S</td><td>Goddi, Ciriaco</td><td>w51e2</td><td>0.02159656157372763</td><td>32.07937313591814</td><td>725.8529364199687</td><td>2522.016</td><td>True</td></tr>\n",
       "<tr><td>452</td><td>2015.1.01596.S</td><td>Goddi, Ciriaco</td><td>w51n</td><td>0.02159656199235678</td><td>32.18127858891526</td><td>725.8529364199687</td><td>2503.872</td><td>True</td></tr>\n",
       "<tr><td>453</td><td>2015.1.01596.S</td><td>Goddi, Ciriaco</td><td>w51n</td><td>0.02159656199235678</td><td>32.25497194085028</td><td>725.8529364199687</td><td>2503.872</td><td>True</td></tr>\n",
       "<tr><td>454</td><td>2018.1.01538.S</td><td>Motogi, Kazuhito</td><td>G353.273+0.641</td><td>0.02187671460346394</td><td>49.760518442741706</td><td>728.6199920516242</td><td>526.176</td><td>True</td></tr>\n",
       "<tr><td>455</td><td>2016.1.00383.S</td><td>Hunter, Todd</td><td>NGC6334I</td><td>0.08482755720374721</td><td>1.4101067366260465</td><td>567.7680990548307</td><td>4427.136</td><td>True</td></tr>\n",
       "<tr><td>456</td><td>2016.1.00383.S</td><td>Hunter, Todd</td><td>NGC6334I</td><td>0.07265807359587775</td><td>6.16806189936374</td><td>496.857497192722</td><td>3338.496</td><td>True</td></tr>\n",
       "<tr><td>457</td><td>2016.1.00949.S</td><td>Walker, Daniel</td><td>d_sma1</td><td>0.09641193730202599</td><td>1.1276070428861478</td><td>765.1424513159687</td><td>8164.8</td><td>True</td></tr>\n",
       "<tr><td>458</td><td>2016.1.00949.S</td><td>Walker, Daniel</td><td>d_sma1</td><td>0.09641193730202599</td><td>1.1253174680759257</td><td>765.1424513159687</td><td>8164.8</td><td>True</td></tr>\n",
       "<tr><td>459</td><td>2016.1.00949.S</td><td>Walker, Daniel</td><td>d_sma1</td><td>0.09641193730202599</td><td>1.1242232313877225</td><td>765.1424513159687</td><td>8164.8</td><td>True</td></tr>\n",
       "<tr><td>460</td><td>2016.1.00949.S</td><td>Walker, Daniel</td><td>d_sma1</td><td>0.09641193730202599</td><td>1.0601342816907333</td><td>765.1424513159687</td><td>8164.8</td><td>True</td></tr>\n",
       "<tr><td>461</td><td>2017.1.01489.S</td><td>Kraus, Stefan</td><td>IRAS13481-6124</td><td>0.056874372393528334</td><td>24.74351665191123</td><td>3395.4845072711228</td><td>6132.672</td><td>True</td></tr>\n",
       "<tr><td>462</td><td>2017.1.01552.S</td><td>Cheng, Yu</td><td>G286</td><td>0.01927625775768028</td><td>28.351066406193844</td><td>192.6446310915769</td><td>10378.368</td><td>True</td></tr>\n",
       "<tr><td>463</td><td>2017.1.01552.S</td><td>Cheng, Yu</td><td>G286</td><td>0.01927625775768028</td><td>28.935604650123462</td><td>192.6446310915769</td><td>10378.368</td><td>True</td></tr>\n",
       "<tr><td>464</td><td>2017.1.01552.S</td><td>Cheng, Yu</td><td>G286</td><td>0.01927625775768028</td><td>28.893951291844854</td><td>192.6446310915769</td><td>10378.368</td><td>True</td></tr>\n",
       "<tr><td>465</td><td>2017.1.01552.S</td><td>Cheng, Yu</td><td>G286</td><td>0.01927625775768028</td><td>29.92088903563986</td><td>192.6446310915769</td><td>10378.368</td><td>True</td></tr>\n",
       "<tr><td>466</td><td>2017.1.01552.S</td><td>Cheng, Yu</td><td>G286</td><td>0.01927625775768028</td><td>28.9523435533039</td><td>192.6446310915769</td><td>10378.368</td><td>True</td></tr>\n",
       "<tr><td>467</td><td>2017.1.01552.S</td><td>Cheng, Yu</td><td>G286</td><td>0.01927625775768028</td><td>29.656785662467534</td><td>192.6446310915769</td><td>10378.368</td><td>True</td></tr>\n",
       "<tr><td>468</td><td>2017.1.01552.S</td><td>Cheng, Yu</td><td>G286</td><td>0.01927625775768028</td><td>29.631753653416474</td><td>192.6446310915769</td><td>10378.368</td><td>True</td></tr>\n",
       "<tr><td>469</td><td>2016.1.00949.S</td><td>Walker, Daniel</td><td>d_sma1</td><td>0.09641193730202599</td><td>1.1248012387886086</td><td>765.1424513159687</td><td>8164.8</td><td>True</td></tr>\n",
       "<tr><td>470</td><td>2017.1.01489.S</td><td>Kraus, Stefan</td><td>IRAS13481-6124</td><td>0.056874372393528334</td><td>24.495705178497484</td><td>3395.4845072711228</td><td>6132.672</td><td>True</td></tr>\n",
       "<tr><td>471</td><td>2016.1.01137.S</td><td>Wyrowski, Friedrich</td><td>NGC6334I</td><td>0.09650559278497814</td><td>4.223701943532813</td><td>502.7688747682114</td><td>393.12</td><td>True</td></tr>\n",
       "<tr><td>472</td><td>2016.1.01137.S</td><td>Wyrowski, Friedrich</td><td>IRAS17233</td><td>0.09650571903754435</td><td>3.632594160715972</td><td>502.7688747682114</td><td>393.12</td><td>True</td></tr>\n",
       "<tr><td>473</td><td>2016.1.01137.S</td><td>Wyrowski, Friedrich</td><td>IRAS17233</td><td>0.09650571903754435</td><td>4.260299887527133</td><td>502.7688747682114</td><td>393.12</td><td>True</td></tr>\n",
       "<tr><td>474</td><td>2016.1.01137.S</td><td>Wyrowski, Friedrich</td><td>IRAS17233</td><td>0.09650571903754435</td><td>4.217818286254686</td><td>502.7688747682114</td><td>393.12</td><td>True</td></tr>\n",
       "<tr><td>475</td><td>2016.1.01137.S</td><td>Wyrowski, Friedrich</td><td>IRAS17233</td><td>0.09650571903754435</td><td>4.2236883364302535</td><td>502.7688747682114</td><td>393.12</td><td>True</td></tr>\n",
       "<tr><td>476</td><td>2016.1.01147.S</td><td>Ilee, John</td><td>G11.92-0.61</td><td>0.09247983196197204</td><td>1.0073663392579701</td><td>331.58290476486866</td><td>5951.232</td><td>True</td></tr>\n",
       "<tr><td>477</td><td>2017.1.00293.S</td><td>Ginsburg, Adam</td><td>w51n</td><td>0.048008997337626945</td><td>49.58778947258755</td><td>3368.2509902921493</td><td>6622.56</td><td>True</td></tr>\n",
       "<tr><td>478</td><td>2017.1.00293.S</td><td>Ginsburg, Adam</td><td>w51n</td><td>0.048008997337626945</td><td>46.99152255374415</td><td>3368.2509902921493</td><td>6622.56</td><td>True</td></tr>\n",
       "<tr><td>479</td><td>2018.1.01561.S</td><td>Zhang, Yichen</td><td>IRAS07299</td><td>0.04660704705967469</td><td>35.255321937038225</td><td>425.8156418862699</td><td>3900.96</td><td>True</td></tr>\n",
       "<tr><td>480</td><td>2018.1.01441.S</td><td>Williams, Gwenllian</td><td>G19.01-0.03</td><td>0.09540051800522666</td><td>1.2268677910513488</td><td>383.3278108179169</td><td>7239.456</td><td>True</td></tr>\n",
       "<tr><td>481</td><td>2018.1.01561.S</td><td>Zhang, Yichen</td><td>IRAS07299</td><td>0.04660704705967469</td><td>35.30246193534023</td><td>425.8156418862699</td><td>3900.96</td><td>True</td></tr>\n",
       "<tr><td>482</td><td>2018.1.01561.S</td><td>Zhang, Yichen</td><td>IRAS07299</td><td>0.04660704705967469</td><td>35.530109484961834</td><td>425.8156418862699</td><td>3900.96</td><td>True</td></tr>\n",
       "<tr><td>483</td><td>2016.1.01147.S</td><td>Ilee, John</td><td>G11.92-0.61</td><td>0.09247983196197204</td><td>1.0232851728158994</td><td>331.58290476486866</td><td>5951.232</td><td>True</td></tr>\n",
       "<tr><td>484</td><td>2016.1.01147.S</td><td>Ilee, John</td><td>G11.92-0.61</td><td>0.09247983196197204</td><td>1.0024738552533938</td><td>331.58290476486866</td><td>5951.232</td><td>True</td></tr>\n",
       "<tr><td>485</td><td>2016.1.01137.S</td><td>Wyrowski, Friedrich</td><td>NGC6334I</td><td>0.09650559278497814</td><td>3.632605808479989</td><td>502.7688747682114</td><td>393.12</td><td>True</td></tr>\n",
       "<tr><td>486</td><td>2016.1.01137.S</td><td>Wyrowski, Friedrich</td><td>NGC6334I</td><td>0.09650559278497814</td><td>4.217831842402176</td><td>502.7688747682114</td><td>393.12</td><td>True</td></tr>\n",
       "<tr><td>487</td><td>2016.1.01137.S</td><td>Wyrowski, Friedrich</td><td>NGC6334I</td><td>0.09650559278497814</td><td>4.260313808988476</td><td>502.7688747682114</td><td>393.12</td><td>True</td></tr>\n",
       "<tr><td>488</td><td>2018.1.01441.S</td><td>Williams, Gwenllian</td><td>G19.01-0.03</td><td>0.09540051800522666</td><td>1.275806183921686</td><td>383.3278108179169</td><td>7239.456</td><td>True</td></tr>\n",
       "<tr><td>489</td><td>2018.1.01441.S</td><td>Williams, Gwenllian</td><td>G19.01-0.03</td><td>0.09540051800522666</td><td>1.2209089015450012</td><td>383.3278108179169</td><td>7239.456</td><td>True</td></tr>\n",
       "<tr><td>490</td><td>2017.1.00293.S</td><td>Ginsburg, Adam</td><td>w51n</td><td>0.048008997337626945</td><td>49.213839385969735</td><td>3368.2509902921493</td><td>6622.56</td><td>True</td></tr>\n",
       "<tr><td>491</td><td>2016.1.01147.S</td><td>Ilee, John</td><td>G11.92-0.61</td><td>0.09247983196197204</td><td>1.0319069494622466</td><td>331.58290476486866</td><td>5951.232</td><td>True</td></tr>\n",
       "<tr><td>492</td><td>2017.1.00293.S</td><td>Ginsburg, Adam</td><td>w51e2</td><td>0.04800899683436537</td><td>50.10263367577915</td><td>3368.2509902921493</td><td>6622.56</td><td>True</td></tr>\n",
       "<tr><td>493</td><td>2017.1.00293.S</td><td>Ginsburg, Adam</td><td>w51e2</td><td>0.04800899683436537</td><td>49.58779027858814</td><td>3368.2509902921493</td><td>6622.56</td><td>True</td></tr>\n",
       "<tr><td>494</td><td>2017.1.00293.S</td><td>Ginsburg, Adam</td><td>w51e2</td><td>0.04800899683436537</td><td>46.991523282117704</td><td>3368.2509902921493</td><td>6622.56</td><td>True</td></tr>\n",
       "<tr><td>495</td><td>2017.1.00293.S</td><td>Ginsburg, Adam</td><td>w51e2</td><td>0.04800899683436537</td><td>49.21384015024657</td><td>3368.2509902921493</td><td>6622.56</td><td>True</td></tr>\n",
       "<tr><td>496</td><td>2017.1.00293.S</td><td>Ginsburg, Adam</td><td>w51n</td><td>0.048008997337626945</td><td>50.10263290315075</td><td>3368.2509902921493</td><td>6622.56</td><td>True</td></tr>\n",
       "<tr><td>497</td><td>2018.1.01561.S</td><td>Zhang, Yichen</td><td>IRAS07299</td><td>0.04660704705967469</td><td>37.90746194032694</td><td>425.8156418862699</td><td>3900.96</td><td>True</td></tr>\n",
       "<tr><td>498</td><td>2018.1.01561.S</td><td>Zhang, Yichen</td><td>IRAS07299</td><td>0.04660704705967469</td><td>37.762370856187516</td><td>425.8156418862699</td><td>3900.96</td><td>True</td></tr>\n",
       "<tr><td>499</td><td>2018.1.01561.S</td><td>Zhang, Yichen</td><td>IRAS07299</td><td>0.04660704705967469</td><td>35.23960136954848</td><td>425.8156418862699</td><td>3900.96</td><td>True</td></tr>\n",
       "<tr><td>500</td><td>2018.1.01561.S</td><td>Zhang, Yichen</td><td>IRAS07299</td><td>0.04660704705967469</td><td>35.48167839198071</td><td>425.8156418862699</td><td>3900.96</td><td>True</td></tr>\n",
       "<tr><td>501</td><td>2018.1.01441.S</td><td>Williams, Gwenllian</td><td>G19.01-0.03</td><td>0.09540051800522666</td><td>1.2748419654194327</td><td>383.3278108179169</td><td>7239.456</td><td>True</td></tr>\n",
       "<tr><td>502</td><td>2017.1.01682.S</td><td>Guidi, Greta</td><td>HD_163296</td><td>0.05865960473035144</td><td>8.609813592715392</td><td>71.97802859424694</td><td>5442.95</td><td>True</td></tr>\n",
       "<tr><td>503</td><td>2018.1.00262.S</td><td>Chen, Vivien</td><td>G33.92+0.11</td><td>0.01929435057555484</td><td>26.805001028078593</td><td>1450.6705868161027</td><td>7947.072</td><td>True</td></tr>\n",
       "<tr><td>504</td><td>2015.1.01323.S</td><td>Mesa-Delgado, Adal</td><td>Tr14_proplyds</td><td>0.024004199523892163</td><td>78.53357333786832</td><td>713.9333041258134</td><td>163.296</td><td>True</td></tr>\n",
       "<tr><td>505</td><td>2015.1.01323.S</td><td>Mesa-Delgado, Adal</td><td>p105-600</td><td>0.024004181687079927</td><td>77.28465625522212</td><td>713.9333041258134</td><td>163.296</td><td>True</td></tr>\n",
       "<tr><td>506</td><td>2015.1.01323.S</td><td>Mesa-Delgado, Adal</td><td>p105-600</td><td>0.024004181687079927</td><td>78.53366709851745</td><td>713.9333041258134</td><td>163.296</td><td>True</td></tr>\n",
       "<tr><td>507</td><td>2015.1.01323.S</td><td>Mesa-Delgado, Adal</td><td>p105-600</td><td>0.024004181687079927</td><td>78.00220320814535</td><td>713.9333041258134</td><td>163.296</td><td>True</td></tr>\n",
       "<tr><td>508</td><td>2015.1.01323.S</td><td>Mesa-Delgado, Adal</td><td>p104-593</td><td>0.02400420163601625</td><td>75.24909641442018</td><td>713.9333041258134</td><td>163.296</td><td>True</td></tr>\n",
       "<tr><td>509</td><td>2015.1.01323.S</td><td>Mesa-Delgado, Adal</td><td>p104-593</td><td>0.02400420163601625</td><td>77.28455211803175</td><td>713.9333041258134</td><td>163.296</td><td>True</td></tr>\n",
       "<tr><td>510</td><td>2015.1.01323.S</td><td>Mesa-Delgado, Adal</td><td>p104-593</td><td>0.02400420163601625</td><td>78.00209794077266</td><td>713.9333041258134</td><td>163.296</td><td>True</td></tr>\n",
       "<tr><td>511</td><td>2018.A.00031.T</td><td>Brogan, Crystal</td><td>G358.93</td><td>0.019295260467312052</td><td>30.25859931816484</td><td>156.51251888652092</td><td>2159.136</td><td>False</td></tr>\n",
       "<tr><td>512</td><td>2016.1.01152.S</td><td>Sanchez-Monge, Alvaro</td><td>I19520</td><td>0.0880778830486184</td><td>9.760532128286394</td><td>226.93375804851243</td><td>5842.368</td><td>True</td></tr>\n",
       "<tr><td>513</td><td>2016.1.01152.S</td><td>Sanchez-Monge, Alvaro</td><td>I19520</td><td>0.0880778830486184</td><td>10.08257511949916</td><td>226.93375804851243</td><td>5842.368</td><td>True</td></tr>\n",
       "<tr><td>514</td><td>2018.1.00262.S</td><td>Chen, Vivien</td><td>G33.92+0.11</td><td>0.01929435057555484</td><td>29.540122532182693</td><td>1450.6705868161027</td><td>7947.072</td><td>True</td></tr>\n",
       "<tr><td>515</td><td>2018.A.00031.T</td><td>Brogan, Crystal</td><td>G358.93</td><td>0.04304360834440411</td><td>7.495193365971985</td><td>165.767086680706</td><td>1868.832</td><td>False</td></tr>\n",
       "<tr><td>516</td><td>2018.A.00031.T</td><td>Brogan, Crystal</td><td>G358.93</td><td>0.04304360834440411</td><td>7.540044218748443</td><td>165.767086680706</td><td>1868.832</td><td>False</td></tr>\n",
       "<tr><td>517</td><td>2018.A.00031.T</td><td>Brogan, Crystal</td><td>G358.93</td><td>0.04304360834440411</td><td>7.537372428750255</td><td>165.767086680706</td><td>1868.832</td><td>False</td></tr>\n",
       "<tr><td>518</td><td>2015.1.01323.S</td><td>Mesa-Delgado, Adal</td><td>p104-598</td><td>0.024004202538428703</td><td>78.00209317889102</td><td>713.9333041258134</td><td>163.296</td><td>True</td></tr>\n",
       "<tr><td>519</td><td>2015.1.01323.S</td><td>Mesa-Delgado, Adal</td><td>p104-598</td><td>0.024004202538428703</td><td>75.24909186205907</td><td>713.9333041258134</td><td>163.296</td><td>True</td></tr>\n",
       "<tr><td>520</td><td>2018.A.00031.T</td><td>Brogan, Crystal</td><td>G358.93</td><td>0.019295260467312052</td><td>33.83009965614762</td><td>156.51251888652092</td><td>2159.136</td><td>False</td></tr>\n",
       "<tr><td>521</td><td>2018.A.00031.T</td><td>Brogan, Crystal</td><td>G358.93</td><td>0.019295260467312052</td><td>33.84846348276658</td><td>156.51251888652092</td><td>2159.136</td><td>False</td></tr>\n",
       "<tr><td>522</td><td>2018.A.00031.T</td><td>Brogan, Crystal</td><td>G358.93</td><td>0.019295260467312052</td><td>33.73650666612248</td><td>156.51251888652092</td><td>2159.136</td><td>False</td></tr>\n",
       "<tr><td>523</td><td>2018.A.00031.T</td><td>Brogan, Crystal</td><td>G358.93</td><td>0.019295260467312052</td><td>33.72455279307585</td><td>156.51251888652092</td><td>2159.136</td><td>False</td></tr>\n",
       "<tr><td>524</td><td>2018.A.00031.T</td><td>Brogan, Crystal</td><td>G358.93</td><td>0.019496346553015128</td><td>30.058059216578545</td><td>156.5107776835811</td><td>2159.136</td><td>False</td></tr>\n",
       "<tr><td>525</td><td>2017.1.01682.S</td><td>Guidi, Greta</td><td>HD_163296</td><td>0.05865960473035144</td><td>8.727264843466575</td><td>71.97802859424694</td><td>5442.95</td><td>True</td></tr>\n",
       "<tr><td>526</td><td>2019.1.01279.S</td><td>Liu, Mengyao</td><td>M17-UC1</td><td>0.06397999127066673</td><td>5.175959182745787</td><td>837.9351518326569</td><td>453.6</td><td>True</td></tr>\n",
       "<tr><td>527</td><td>2019.1.00910.S</td><td>Poorta, Johanna</td><td>Cl_star_NGC_6618_B243</td><td>0.031476962120645845</td><td>13.969019889394492</td><td>244.7819920174757</td><td>1233.792</td><td>True</td></tr>\n",
       "<tr><td>528</td><td>2019.1.00910.S</td><td>Poorta, Johanna</td><td>Cl_star_NGC_6618_B243</td><td>0.031476962120645845</td><td>13.919583486676247</td><td>244.7819920174757</td><td>1233.792</td><td>True</td></tr>\n",
       "<tr><td>529</td><td>2019.1.00910.S</td><td>Poorta, Johanna</td><td>Cl_star_NGC_6618_B243</td><td>0.031476962120645845</td><td>14.036088844592808</td><td>244.7819920174757</td><td>1233.792</td><td>True</td></tr>\n",
       "<tr><td>530</td><td>2019.1.00910.S</td><td>Poorta, Johanna</td><td>Cl_star_NGC_6618_B243</td><td>0.031476962120645845</td><td>14.32627457548562</td><td>244.7819920174757</td><td>1233.792</td><td>True</td></tr>\n",
       "<tr><td>531</td><td>2019.1.00910.S</td><td>Poorta, Johanna</td><td>Cl_star_NGC_6618_B243</td><td>0.031476962120645845</td><td>14.056434386257488</td><td>244.7819920174757</td><td>1233.792</td><td>True</td></tr>\n",
       "<tr><td>532</td><td>2019.1.00910.S</td><td>Poorta, Johanna</td><td>Cl_star_NGC6618_B268</td><td>0.03147696144334704</td><td>14.629297471010974</td><td>244.7819920174757</td><td>1124.928</td><td>True</td></tr>\n",
       "<tr><td>533</td><td>2019.1.00910.S</td><td>Poorta, Johanna</td><td>Cl_star_NGC6618_B268</td><td>0.03147696144334704</td><td>14.577524802083962</td><td>244.7819920174757</td><td>1124.928</td><td>True</td></tr>\n",
       "<tr><td>534</td><td>2019.1.00910.S</td><td>Poorta, Johanna</td><td>Cl_star_NGC6618_B268</td><td>0.03147696144334704</td><td>14.699535990560271</td><td>244.7819920174757</td><td>1124.928</td><td>True</td></tr>\n",
       "<tr><td>535</td><td>2019.1.00910.S</td><td>Poorta, Johanna</td><td>Cl_star_NGC6618_B268</td><td>0.03147696144334704</td><td>15.003436891505935</td><td>244.7819920174757</td><td>1124.928</td><td>True</td></tr>\n",
       "<tr><td>536</td><td>2019.1.00910.S</td><td>Poorta, Johanna</td><td>Cl_star_NGC6618_B268</td><td>0.03147696144334704</td><td>14.72084396814226</td><td>244.7819920174757</td><td>1124.928</td><td>True</td></tr>\n",
       "<tr><td>537</td><td>2019.1.00910.S</td><td>Poorta, Johanna</td><td>Cl_star_NGC6618_B331</td><td>0.03147696097054411</td><td>14.398759211340362</td><td>244.7819920174757</td><td>1161.205</td><td>True</td></tr>\n",
       "<tr><td>538</td><td>2019.1.00910.S</td><td>Poorta, Johanna</td><td>Cl_star_NGC6618_B331</td><td>0.03147696097054411</td><td>14.34780417533664</td><td>244.7819920174757</td><td>1161.205</td><td>True</td></tr>\n",
       "<tr><td>539</td><td>2019.1.00910.S</td><td>Poorta, Johanna</td><td>Cl_star_NGC6618_B331</td><td>0.03147696097054411</td><td>14.467888543766225</td><td>244.7819920174757</td><td>1161.205</td><td>True</td></tr>\n",
       "<tr><td>540</td><td>2019.1.00910.S</td><td>Poorta, Johanna</td><td>Cl_star_NGC6618_B331</td><td>0.03147696097054411</td><td>14.766991238035295</td><td>244.7819920174757</td><td>1161.205</td><td>True</td></tr>\n",
       "<tr><td>541</td><td>2019.1.00910.S</td><td>Poorta, Johanna</td><td>Cl_star_NGC6618_B331</td><td>0.03147696097054411</td><td>14.488859976500553</td><td>244.7819920174757</td><td>1161.205</td><td>True</td></tr>\n",
       "<tr><td>542</td><td>2019.1.00910.S</td><td>Poorta, Johanna</td><td>Cl_star_NGC6618_B275</td><td>0.03147696203518337</td><td>14.629278556006836</td><td>244.7819920174757</td><td>1124.928</td><td>True</td></tr>\n",
       "<tr><td>543</td><td>2019.1.00910.S</td><td>Poorta, Johanna</td><td>Cl_star_NGC6618_B275</td><td>0.03147696203518337</td><td>14.577506184427088</td><td>244.7819920174757</td><td>1124.928</td><td>True</td></tr>\n",
       "<tr><td>544</td><td>2019.1.00910.S</td><td>Poorta, Johanna</td><td>Cl_star_NGC6618_B275</td><td>0.03147696203518337</td><td>14.699516681682903</td><td>244.7819920174757</td><td>1124.928</td><td>True</td></tr>\n",
       "<tr><td>545</td><td>2016.1.01152.S</td><td>Sanchez-Monge, Alvaro</td><td>I19520</td><td>0.0880778830486184</td><td>9.534745091978241</td><td>226.93375804851243</td><td>5842.368</td><td>True</td></tr>\n",
       "<tr><td>546</td><td>2016.1.01152.S</td><td>Sanchez-Monge, Alvaro</td><td>I19520</td><td>0.0880778830486184</td><td>10.099465692684136</td><td>226.93375804851243</td><td>5842.368</td><td>True</td></tr>\n",
       "<tr><td>547</td><td>2016.1.01152.S</td><td>Sanchez-Monge, Alvaro</td><td>I19520</td><td>0.0880778830486184</td><td>10.028528323883277</td><td>226.93375804851243</td><td>5842.368</td><td>True</td></tr>\n",
       "<tr><td>548</td><td>2019.1.00910.S</td><td>Poorta, Johanna</td><td>Cl_star_NGC6618_B275</td><td>0.03147696203518337</td><td>15.003416636204886</td><td>244.7819920174757</td><td>1124.928</td><td>True</td></tr>\n",
       "<tr><td>549</td><td>2019.1.00910.S</td><td>Poorta, Johanna</td><td>Cl_star_NGC6618_B275</td><td>0.03147696203518337</td><td>14.72082501856318</td><td>244.7819920174757</td><td>1124.928</td><td>True</td></tr>\n",
       "<tr><td>550</td><td>2018.A.00031.T</td><td>Brogan, Crystal</td><td>G358.93</td><td>0.019496346553015128</td><td>30.157808569137842</td><td>156.5107776835811</td><td>2159.136</td><td>False</td></tr>\n",
       "<tr><td>551</td><td>2015.1.01323.S</td><td>Mesa-Delgado, Adal</td><td>Tr14_proplyds</td><td>0.024004199523892163</td><td>77.2845631437044</td><td>713.9333041258134</td><td>163.296</td><td>True</td></tr>\n",
       "<tr><td>552</td><td>2015.1.01323.S</td><td>Mesa-Delgado, Adal</td><td>p105-600</td><td>0.024004181687079927</td><td>75.24919705007672</td><td>713.9333041258134</td><td>163.296</td><td>True</td></tr>\n",
       "<tr><td>553</td><td>2019.1.00910.S</td><td>Poorta, Johanna</td><td>Cl_star_NGC6618_B268</td><td>0.03147696144334704</td><td>17.826496328977065</td><td>244.7819920174757</td><td>1124.928</td><td>True</td></tr>\n",
       "<tr><td>554</td><td>2019.1.00910.S</td><td>Poorta, Johanna</td><td>Cl_star_NGC6618_B268</td><td>0.03147696144334704</td><td>17.720387876606157</td><td>244.7819920174757</td><td>1124.928</td><td>True</td></tr>\n",
       "<tr><td>555</td><td>2019.1.00910.S</td><td>Poorta, Johanna</td><td>Cl_star_NGC6618_B268</td><td>0.03147696144334704</td><td>18.541191332163745</td><td>244.7819920174757</td><td>1124.928</td><td>True</td></tr>\n",
       "<tr><td>556</td><td>2019.1.00910.S</td><td>Poorta, Johanna</td><td>Cl_star_NGC6618_B268</td><td>0.03147696144334704</td><td>17.982998988883573</td><td>244.7819920174757</td><td>1124.928</td><td>True</td></tr>\n",
       "<tr><td>557</td><td>2019.1.00910.S</td><td>Poorta, Johanna</td><td>Cl_star_NGC6618_B331</td><td>0.03147696097054411</td><td>17.54548261159282</td><td>244.7819920174757</td><td>1161.205</td><td>True</td></tr>\n",
       "<tr><td>558</td><td>2019.1.00910.S</td><td>Poorta, Johanna</td><td>Cl_star_NGC6618_B331</td><td>0.03147696097054411</td><td>17.441049832038107</td><td>244.7819920174757</td><td>1161.205</td><td>True</td></tr>\n",
       "<tr><td>559</td><td>2019.1.00910.S</td><td>Poorta, Johanna</td><td>Cl_star_NGC6618_B331</td><td>0.03147696097054411</td><td>17.689135872262348</td><td>244.7819920174757</td><td>1161.205</td><td>True</td></tr>\n",
       "<tr><td>560</td><td>2019.1.00910.S</td><td>Poorta, Johanna</td><td>Cl_star_NGC6618_B331</td><td>0.03147696097054411</td><td>18.248897582291754</td><td>244.7819920174757</td><td>1161.205</td><td>True</td></tr>\n",
       "<tr><td>561</td><td>2019.1.00910.S</td><td>Poorta, Johanna</td><td>Cl_star_NGC_6618_B243</td><td>0.031476962120645845</td><td>17.021939422056718</td><td>244.7819920174757</td><td>1233.792</td><td>True</td></tr>\n",
       "<tr><td>562</td><td>2019.1.00910.S</td><td>Poorta, Johanna</td><td>Cl_star_NGC_6618_B243</td><td>0.031476962120645845</td><td>16.920619182427085</td><td>244.7819920174757</td><td>1233.792</td><td>True</td></tr>\n",
       "<tr><td>563</td><td>2019.1.00910.S</td><td>Poorta, Johanna</td><td>Cl_star_NGC_6618_B243</td><td>0.031476962120645845</td><td>17.161311108175685</td><td>244.7819920174757</td><td>1233.792</td><td>True</td></tr>\n",
       "<tr><td>564</td><td>2019.1.00910.S</td><td>Poorta, Johanna</td><td>Cl_star_NGC_6618_B243</td><td>0.031476962120645845</td><td>17.7043817571509</td><td>244.7819920174757</td><td>1233.792</td><td>True</td></tr>\n",
       "<tr><td>565</td><td>2019.1.00910.S</td><td>Poorta, Johanna</td><td>Cl_star_NGC_6618_B243</td><td>0.031476962120645845</td><td>17.1713788148304</td><td>244.7819920174757</td><td>1233.792</td><td>True</td></tr>\n",
       "<tr><td>566</td><td>2015.1.01323.S</td><td>Mesa-Delgado, Adal</td><td>p104-598</td><td>0.024004202538428703</td><td>77.2845474072751</td><td>713.9333041258134</td><td>163.296</td><td>True</td></tr>\n",
       "<tr><td>567</td><td>2015.1.01323.S</td><td>Mesa-Delgado, Adal</td><td>p104-598</td><td>0.024004202538428703</td><td>78.53355749173156</td><td>713.9333041258134</td><td>163.296</td><td>True</td></tr>\n",
       "<tr><td>568</td><td>2019.1.00910.S</td><td>Poorta, Johanna</td><td>Cl_star_NGC6618_B331</td><td>0.03147696097054411</td><td>17.699517760473363</td><td>244.7819920174757</td><td>1161.205</td><td>True</td></tr>\n",
       "<tr><td>569</td><td>2019.1.00910.S</td><td>Poorta, Johanna</td><td>Cl_star_NGC6618_B275</td><td>0.03147696203518337</td><td>17.826461322796252</td><td>244.7819920174757</td><td>1124.928</td><td>True</td></tr>\n",
       "<tr><td>570</td><td>2019.1.00910.S</td><td>Poorta, Johanna</td><td>Cl_star_NGC6618_B275</td><td>0.03147696203518337</td><td>17.720353471545597</td><td>244.7819920174757</td><td>1124.928</td><td>True</td></tr>\n",
       "<tr><td>571</td><td>2019.1.00910.S</td><td>Poorta, Johanna</td><td>Cl_star_NGC6618_B275</td><td>0.03147696203518337</td><td>17.972418670137273</td><td>244.7819920174757</td><td>1124.928</td><td>True</td></tr>\n",
       "<tr><td>572</td><td>2019.1.00910.S</td><td>Poorta, Johanna</td><td>Cl_star_NGC6618_B275</td><td>0.03147696203518337</td><td>18.541153143444383</td><td>244.7819920174757</td><td>1124.928</td><td>True</td></tr>\n",
       "<tr><td>573</td><td>2019.1.00910.S</td><td>Poorta, Johanna</td><td>Cl_star_NGC6618_B275</td><td>0.03147696203518337</td><td>17.982963625077875</td><td>244.7819920174757</td><td>1124.928</td><td>True</td></tr>\n",
       "<tr><td>574</td><td>2019.1.00571.S</td><td>Baek, Giseon</td><td>S255IR_NIRS3</td><td>0.041092839500992316</td><td>8.732862567501332</td><td>661.9961592617822</td><td>4626.72</td><td>True</td></tr>\n",
       "<tr><td>575</td><td>2019.1.00571.S</td><td>Baek, Giseon</td><td>S255IR_NIRS3</td><td>0.041092839500992316</td><td>9.527144864304685</td><td>661.9961592617822</td><td>4626.72</td><td>True</td></tr>\n",
       "<tr><td>576</td><td>2019.1.00571.S</td><td>Baek, Giseon</td><td>S255IR_NIRS3</td><td>0.041092839500992316</td><td>8.714638297320585</td><td>661.9961592617822</td><td>4626.72</td><td>True</td></tr>\n",
       "<tr><td>577</td><td>2019.1.00571.S</td><td>Baek, Giseon</td><td>S255IR_NIRS3</td><td>0.041092839500992316</td><td>8.732539644304559</td><td>661.9961592617822</td><td>4626.72</td><td>True</td></tr>\n",
       "<tr><td>578</td><td>2019.1.00571.S</td><td>Baek, Giseon</td><td>S255IR_NIRS3</td><td>0.041092839500992316</td><td>8.77218791494719</td><td>661.9961592617822</td><td>4626.72</td><td>True</td></tr>\n",
       "<tr><td>579</td><td>2019.1.00571.S</td><td>Baek, Giseon</td><td>S255IR_NIRS3</td><td>0.041092839500992316</td><td>8.742856950192293</td><td>661.9961592617822</td><td>4626.72</td><td>True</td></tr>\n",
       "<tr><td>580</td><td>2019.1.00571.S</td><td>Baek, Giseon</td><td>S255IR_NIRS3</td><td>0.041092839500992316</td><td>8.944834898866748</td><td>661.9961592617822</td><td>4626.72</td><td>True</td></tr>\n",
       "<tr><td>581</td><td>2019.1.00713.S</td><td>Rico Villas, Fernando</td><td>NGC_1068</td><td>0.02705263418110272</td><td>15.124059463777634</td><td>1439.0813506395791</td><td>11757.312</td><td>True</td></tr>\n",
       "<tr><td>582</td><td>2019.1.00713.S</td><td>Rico Villas, Fernando</td><td>NGC_1068</td><td>0.02705263418110272</td><td>14.545923566536452</td><td>1439.0813506395791</td><td>11757.312</td><td>True</td></tr>\n",
       "<tr><td>583</td><td>2019.1.00713.S</td><td>Rico Villas, Fernando</td><td>NGC_1068</td><td>0.02705263418110272</td><td>14.49019881095849</td><td>1439.0813506395791</td><td>11757.312</td><td>True</td></tr>\n",
       "<tr><td>584</td><td>2019.1.00571.S</td><td>Baek, Giseon</td><td>S255IR_NIRS3</td><td>0.041092839500992316</td><td>8.712962372061424</td><td>661.9961592617822</td><td>4626.72</td><td>True</td></tr>\n",
       "<tr><td>585</td><td>2019.1.00571.S</td><td>Baek, Giseon</td><td>S255IR_NIRS3</td><td>0.041092839500992316</td><td>8.752751173294739</td><td>661.9961592617822</td><td>4626.72</td><td>True</td></tr>\n",
       "<tr><td>586</td><td>2019.1.00571.S</td><td>Baek, Giseon</td><td>S255IR_NIRS3</td><td>0.041092839500992316</td><td>8.874900301296648</td><td>661.9961592617822</td><td>4626.72</td><td>True</td></tr>\n",
       "<tr><td>587</td><td>2019.1.00571.S</td><td>Baek, Giseon</td><td>S255IR_NIRS3</td><td>0.041092839500992316</td><td>9.242197458367764</td><td>661.9961592617822</td><td>4626.72</td><td>True</td></tr>\n",
       "<tr><td>588</td><td>2019.1.00571.S</td><td>Baek, Giseon</td><td>S255IR_NIRS3</td><td>0.041092839500992316</td><td>8.856279597659833</td><td>661.9961592617822</td><td>4626.72</td><td>True</td></tr>\n",
       "<tr><td>589</td><td>2019.1.00571.S</td><td>Baek, Giseon</td><td>S255IR_NIRS3</td><td>0.041092839500992316</td><td>8.726262249560433</td><td>661.9961592617822</td><td>4626.72</td><td>True</td></tr>\n",
       "<tr><td>590</td><td>2018.1.00262.S</td><td>Chen, Vivien</td><td>G33.92+0.11</td><td>0.01929435057555484</td><td>29.370242356714837</td><td>1450.6705868161027</td><td>7947.072</td><td>True</td></tr>\n",
       "<tr><td>591</td><td>2019.1.00571.S</td><td>Baek, Giseon</td><td>S255IR_NIRS3</td><td>0.041092839500992316</td><td>11.140200000401583</td><td>661.9961592617822</td><td>4626.72</td><td>True</td></tr>\n",
       "<tr><td>592</td><td>2019.1.00571.S</td><td>Baek, Giseon</td><td>S255IR_NIRS3</td><td>0.041092839500992316</td><td>8.844331481913931</td><td>661.9961592617822</td><td>4626.72</td><td>True</td></tr>\n",
       "<tr><td>593</td><td>2019.1.00571.S</td><td>Baek, Giseon</td><td>S255IR_NIRS3</td><td>0.041092839500992316</td><td>8.744575926423323</td><td>661.9961592617822</td><td>4626.72</td><td>True</td></tr>\n",
       "<tr><td>594</td><td>2019.1.00571.S</td><td>Baek, Giseon</td><td>S255IR_NIRS3</td><td>0.041092839500992316</td><td>8.911702682086005</td><td>661.9961592617822</td><td>4626.72</td><td>True</td></tr>\n",
       "<tr><td>595</td><td>2019.1.00571.S</td><td>Baek, Giseon</td><td>S255IR_NIRS3</td><td>0.041092839500992316</td><td>10.72084496568471</td><td>661.9961592617822</td><td>4626.72</td><td>True</td></tr>\n",
       "<tr><td>596</td><td>2019.1.00571.S</td><td>Baek, Giseon</td><td>S255IR_NIRS3</td><td>0.041092839500992316</td><td>9.235694767785485</td><td>661.9961592617822</td><td>4626.72</td><td>True</td></tr>\n",
       "<tr><td>597</td><td>2019.1.00571.S</td><td>Baek, Giseon</td><td>S255IR_NIRS3</td><td>0.041092839500992316</td><td>8.821794883194809</td><td>661.9961592617822</td><td>4626.72</td><td>True</td></tr>\n",
       "<tr><td>598</td><td>2016.1.01147.S</td><td>Ilee, John</td><td>NGC6334in</td><td>0.09957501546862108</td><td>1.093193281618447</td><td>331.54725459891876</td><td>2576.448</td><td>True</td></tr>\n",
       "<tr><td>599</td><td>2016.1.01147.S</td><td>Ilee, John</td><td>NGC6334in</td><td>0.09957501546862108</td><td>1.0391548983446848</td><td>331.54725459891876</td><td>2576.448</td><td>True</td></tr>\n",
       "<tr><td>600</td><td>2018.A.00031.T</td><td>Brogan, Crystal</td><td>G358.93</td><td>0.019496346553015128</td><td>30.047408849079417</td><td>156.5107776835811</td><td>2159.136</td><td>False</td></tr>\n",
       "<tr><td>601</td><td>2018.A.00031.T</td><td>Brogan, Crystal</td><td>G358.93</td><td>0.019496346553015128</td><td>29.408988030484046</td><td>156.5107776835811</td><td>2159.136</td><td>False</td></tr>\n",
       "<tr><td>602</td><td>2018.A.00031.T</td><td>Brogan, Crystal</td><td>G358.93</td><td>0.04304360834440411</td><td>7.5089634792878766</td><td>165.767086680706</td><td>1868.832</td><td>False</td></tr>\n",
       "<tr><td>603</td><td>2015.1.01323.S</td><td>Mesa-Delgado, Adal</td><td>Tr14_proplyds</td><td>0.024004199523892163</td><td>75.24910706936308</td><td>713.9333041258134</td><td>163.296</td><td>True</td></tr>\n",
       "<tr><td>604</td><td>2016.1.01152.S</td><td>Sanchez-Monge, Alvaro</td><td>I19520</td><td>0.0880778830486184</td><td>9.967557828290875</td><td>226.93375804851243</td><td>5842.368</td><td>True</td></tr>\n",
       "<tr><td>605</td><td>2018.1.00262.S</td><td>Chen, Vivien</td><td>G33.92+0.11</td><td>0.01929435057555484</td><td>26.909991423563746</td><td>1450.6705868161027</td><td>7947.072</td><td>True</td></tr>\n",
       "<tr><td>606</td><td>2015.1.01323.S</td><td>Mesa-Delgado, Adal</td><td>Tr14_proplyds</td><td>0.024004199523892163</td><td>78.00210908610495</td><td>713.9333041258134</td><td>163.296</td><td>True</td></tr>\n",
       "<tr><td>607</td><td>2015.1.01323.S</td><td>Mesa-Delgado, Adal</td><td>p104-593</td><td>0.02400420163601625</td><td>78.53356223532954</td><td>713.9333041258134</td><td>163.296</td><td>True</td></tr>\n",
       "<tr><td>608</td><td>2018.A.00031.T</td><td>Brogan, Crystal</td><td>G358.93</td><td>0.04304360834440411</td><td>7.492120079548625</td><td>165.767086680706</td><td>1868.832</td><td>False</td></tr>\n",
       "<tr><td>609</td><td>2016.1.01152.S</td><td>Sanchez-Monge, Alvaro</td><td>I19520</td><td>0.0880778830486184</td><td>10.002701186858685</td><td>226.93375804851243</td><td>5842.368</td><td>True</td></tr>\n",
       "<tr><td>610</td><td>2018.A.00031.T</td><td>Brogan, Crystal</td><td>G358.93</td><td>0.019496346553015128</td><td>30.14144721969375</td><td>156.5107776835811</td><td>2159.136</td><td>False</td></tr>\n",
       "<tr><td>611</td><td>2018.A.00031.T</td><td>Brogan, Crystal</td><td>G358.93</td><td>0.019496346553015128</td><td>29.26921603019127</td><td>156.5107776835811</td><td>2159.136</td><td>False</td></tr>\n",
       "<tr><td>612</td><td>2018.A.00031.T</td><td>Brogan, Crystal</td><td>G358.93</td><td>0.019295260467312052</td><td>30.47525000030459</td><td>156.51251888652092</td><td>2159.136</td><td>False</td></tr>\n",
       "<tr><td>613</td><td>2017.1.01682.S</td><td>Guidi, Greta</td><td>HD_163296</td><td>0.05865960473035144</td><td>8.27707786035292</td><td>71.97802859424694</td><td>5442.95</td><td>True</td></tr>\n",
       "<tr><td>614</td><td>2017.1.01682.S</td><td>Guidi, Greta</td><td>HD_163296</td><td>0.05865960473035144</td><td>8.302614310642506</td><td>71.97802859424694</td><td>5442.95</td><td>True</td></tr>\n",
       "<tr><td>615</td><td>2016.1.01147.S</td><td>Ilee, John</td><td>NGC6334in</td><td>0.09957501546862108</td><td>1.044226035602962</td><td>331.54725459891876</td><td>2576.448</td><td>True</td></tr>\n",
       "<tr><td>616</td><td>2016.1.01147.S</td><td>Ilee, John</td><td>NGC6334in</td><td>0.09957501546862108</td><td>1.0913106816356075</td><td>331.54725459891876</td><td>2576.448</td><td>True</td></tr>\n",
       "<tr><td>617</td><td>2019.1.01279.S</td><td>Liu, Mengyao</td><td>M17-UC1</td><td>0.04961347611894105</td><td>16.61925820657484</td><td>662.7631433731659</td><td>616.896</td><td>True</td></tr>\n",
       "<tr><td>618</td><td>2019.1.01279.S</td><td>Liu, Mengyao</td><td>M17-UC1</td><td>0.06397999127066673</td><td>6.479775581290246</td><td>837.9351518326569</td><td>453.6</td><td>True</td></tr>\n",
       "<tr><td>619</td><td>2019.1.01279.S</td><td>Liu, Mengyao</td><td>M17-UC1</td><td>0.06397999127066673</td><td>4.961532975487392</td><td>837.9351518326569</td><td>453.6</td><td>True</td></tr>\n",
       "<tr><td>620</td><td>2019.1.01279.S</td><td>Liu, Mengyao</td><td>M17-UC1</td><td>0.06397999127066673</td><td>6.37692044645337</td><td>837.9351518326569</td><td>453.6</td><td>True</td></tr>\n",
       "<tr><td>621</td><td>2019.1.01279.S</td><td>Liu, Mengyao</td><td>M17-UC1</td><td>0.04961347611894105</td><td>15.156055709982866</td><td>662.7631433731659</td><td>616.896</td><td>True</td></tr>\n",
       "<tr><td>622</td><td>2019.1.01279.S</td><td>Liu, Mengyao</td><td>M17-UC1</td><td>0.04961347611894105</td><td>15.093883204781601</td><td>662.7631433731659</td><td>616.896</td><td>True</td></tr>\n",
       "<tr><td>623</td><td>2019.1.01279.S</td><td>Liu, Mengyao</td><td>M17-UC1</td><td>0.04961347611894105</td><td>15.035257495099541</td><td>662.7631433731659</td><td>616.896</td><td>True</td></tr>\n",
       "<tr><td>624</td><td>2019.1.00910.S</td><td>Poorta, Johanna</td><td>Cl_star_NGC_6618_B243</td><td>0.027892142723193115</td><td>28.346847628260292</td><td>365.07066829350754</td><td>707.616</td><td>True</td></tr>\n",
       "<tr><td>625</td><td>2019.1.00910.S</td><td>Poorta, Johanna</td><td>Cl_star_NGC_6618_B243</td><td>0.027892142723193115</td><td>27.312064632598734</td><td>365.07066829350754</td><td>707.616</td><td>True</td></tr>\n",
       "<tr><td>626</td><td>2019.1.00402.S</td><td>Zhang, Qizhou</td><td>G10p6</td><td>0.019334875332016544</td><td>29.490158900936827</td><td>1452.844204537984</td><td>11902.464</td><td>True</td></tr>\n",
       "<tr><td>627</td><td>2019.1.00402.S</td><td>Zhang, Qizhou</td><td>G10p6</td><td>0.019334875332016544</td><td>26.761402419451812</td><td>1452.844204537984</td><td>11902.464</td><td>True</td></tr>\n",
       "<tr><td>628</td><td>2019.1.00402.S</td><td>Zhang, Qizhou</td><td>G10p6</td><td>0.019334875332016544</td><td>26.644472191446194</td><td>1452.844204537984</td><td>11902.464</td><td>True</td></tr>\n",
       "<tr><td>629</td><td>2019.1.00437.S</td><td>Ahmadi, Aida</td><td>Mon_R2_IRS3_A</td><td>0.03204071690247246</td><td>12.339203127235692</td><td>766.5541776482949</td><td>1868.832</td><td>True</td></tr>\n",
       "<tr><td>630</td><td>2019.1.00910.S</td><td>Poorta, Johanna</td><td>Cl_star_NGC6618_B275</td><td>0.02789214257894002</td><td>27.230824067591122</td><td>365.07066829350754</td><td>707.616</td><td>True</td></tr>\n",
       "<tr><td>631</td><td>2019.1.00910.S</td><td>Poorta, Johanna</td><td>Cl_star_NGC6618_B275</td><td>0.02789214257894002</td><td>27.63239384179858</td><td>365.07066829350754</td><td>707.616</td><td>True</td></tr>\n",
       "<tr><td>632</td><td>2019.1.00910.S</td><td>Poorta, Johanna</td><td>Cl_star_NGC6618_B275</td><td>0.02789214257894002</td><td>27.391575816903305</td><td>365.07066829350754</td><td>707.616</td><td>True</td></tr>\n",
       "<tr><td>633</td><td>2019.1.00910.S</td><td>Poorta, Johanna</td><td>Cl_star_NGC6618_B275</td><td>0.02789214257894002</td><td>28.346778759218516</td><td>365.07066829350754</td><td>707.616</td><td>True</td></tr>\n",
       "<tr><td>634</td><td>2019.1.00910.S</td><td>Poorta, Johanna</td><td>Cl_star_NGC6618_B268</td><td>0.027892142291488425</td><td>27.439144109173583</td><td>365.07066829350754</td><td>707.616</td><td>True</td></tr>\n",
       "<tr><td>635</td><td>2019.1.00910.S</td><td>Poorta, Johanna</td><td>Cl_star_NGC6618_B331</td><td>0.027892141760277954</td><td>27.311914277830265</td><td>365.07066829350754</td><td>707.616</td><td>True</td></tr>\n",
       "<tr><td>636</td><td>2019.1.00437.S</td><td>Ahmadi, Aida</td><td>MWC_300</td><td>0.019114738764323846</td><td>39.1043653996251</td><td>766.5876695919678</td><td>1868.832</td><td>True</td></tr>\n",
       "<tr><td>637</td><td>2019.1.00437.S</td><td>Ahmadi, Aida</td><td>MWC_300</td><td>0.019114738764323846</td><td>39.1037777879556</td><td>766.5876695919678</td><td>1868.832</td><td>True</td></tr>\n",
       "<tr><td>638</td><td>2019.1.00437.S</td><td>Ahmadi, Aida</td><td>MWC_300</td><td>0.019114738764323846</td><td>39.50023231852134</td><td>766.5876695919678</td><td>1868.832</td><td>True</td></tr>\n",
       "<tr><td>639</td><td>2019.1.01463.S</td><td>Cheng, Yu</td><td>I18308c1</td><td>0.019468386564158256</td><td>34.321483566371946</td><td>662.6576069106526</td><td>10305.792</td><td>True</td></tr>\n",
       "<tr><td>640</td><td>2019.1.01463.S</td><td>Cheng, Yu</td><td>I18308c1</td><td>0.019468386564158256</td><td>34.253537872451034</td><td>662.6576069106526</td><td>10305.792</td><td>True</td></tr>\n",
       "<tr><td>641</td><td>2019.1.01463.S</td><td>Cheng, Yu</td><td>I18308c1</td><td>0.019468386564158256</td><td>34.755875088348674</td><td>662.6576069106526</td><td>10305.792</td><td>True</td></tr>\n",
       "<tr><td>642</td><td>2019.1.01463.S</td><td>Cheng, Yu</td><td>I18308c1</td><td>0.019468386564158256</td><td>37.505826256846646</td><td>662.6576069106526</td><td>10305.792</td><td>True</td></tr>\n",
       "<tr><td>643</td><td>2019.1.00713.S</td><td>Rico Villas, Fernando</td><td>NGC_1068</td><td>0.02705263418110272</td><td>14.679435172123394</td><td>1439.0813506395791</td><td>11757.312</td><td>True</td></tr>\n",
       "<tr><td>644</td><td>2019.1.00437.S</td><td>Ahmadi, Aida</td><td>Mon_R2_IRS3_A</td><td>0.03204071690247246</td><td>12.37763445607325</td><td>766.5541776482949</td><td>1868.832</td><td>True</td></tr>\n",
       "<tr><td>645</td><td>2019.1.01425.S</td><td>Reynolds, Nickalas</td><td>Per-emb-17</td><td>0.01961370263973616</td><td>60.01741100723401</td><td>331.9762748670829</td><td>580.608</td><td>True</td></tr>\n",
       "<tr><td>646</td><td>2019.1.01425.S</td><td>Reynolds, Nickalas</td><td>Per-emb-17</td><td>0.01961370263973616</td><td>59.96133993643616</td><td>331.9762748670829</td><td>580.608</td><td>True</td></tr>\n",
       "<tr><td>647</td><td>2019.1.01425.S</td><td>Reynolds, Nickalas</td><td>Per-emb-17</td><td>0.01961370263973616</td><td>60.1280513175071</td><td>331.9762748670829</td><td>580.608</td><td>True</td></tr>\n",
       "<tr><td>648</td><td>2019.1.01425.S</td><td>Reynolds, Nickalas</td><td>L1448IRS1</td><td>0.019613710250318227</td><td>62.07312184214511</td><td>331.9762748670829</td><td>580.608</td><td>True</td></tr>\n",
       "<tr><td>649</td><td>2019.1.01425.S</td><td>Reynolds, Nickalas</td><td>L1448IRS3B</td><td>0.019613710221678852</td><td>60.28040497222476</td><td>331.9762748670829</td><td>580.608</td><td>True</td></tr>\n",
       "<tr><td>650</td><td>2019.1.01425.S</td><td>Reynolds, Nickalas</td><td>L1448IRS3B</td><td>0.019613710221678852</td><td>62.32983050932606</td><td>331.9762748670829</td><td>580.608</td><td>True</td></tr>\n",
       "<tr><td>651</td><td>2019.1.01425.S</td><td>Reynolds, Nickalas</td><td>L1448IRS3C</td><td>0.019613709979769144</td><td>60.066321703076554</td><td>331.9762748670829</td><td>580.608</td><td>True</td></tr>\n",
       "<tr><td>652</td><td>2019.1.01425.S</td><td>Reynolds, Nickalas</td><td>L1448IRS3C</td><td>0.019613709979769144</td><td>60.11579856978667</td><td>331.9762748670829</td><td>580.608</td><td>True</td></tr>\n",
       "<tr><td>653</td><td>2019.1.01425.S</td><td>Reynolds, Nickalas</td><td>L1448IRS3C</td><td>0.019613709979769144</td><td>60.121195634689904</td><td>331.9762748670829</td><td>580.608</td><td>True</td></tr>\n",
       "<tr><td>654</td><td>2018.1.00632.S</td><td>Beltran, Maite</td><td>G31.41+0.31</td><td>0.05955497912393269</td><td>20.73496105194436</td><td>6536.190560418308</td><td>10432.8</td><td>True</td></tr>\n",
       "<tr><td>655</td><td>2019.1.00437.S</td><td>Ahmadi, Aida</td><td>Mon_R2_IRS3_A</td><td>0.03204071690247246</td><td>12.351493152067922</td><td>766.5541776482949</td><td>1868.832</td><td>True</td></tr>\n",
       "<tr><td>656</td><td>2019.1.00437.S</td><td>Ahmadi, Aida</td><td>Mon_R2_IRS3_A</td><td>0.03204071690247246</td><td>13.700906727493932</td><td>766.5541776482949</td><td>1868.832</td><td>True</td></tr>\n",
       "<tr><td>657</td><td>2019.1.00315.S</td><td>Liu, Sheng-Yuan</td><td>S255_IR</td><td>0.012744529853840496</td><td>69.17472267062367</td><td>973.4151873280903</td><td>1106.784</td><td>True</td></tr>\n",
       "<tr><td>658</td><td>2019.1.00437.S</td><td>Ahmadi, Aida</td><td>M8E-IR</td><td>0.02800541835807258</td><td>16.27156869867676</td><td>766.5997688909962</td><td>1832.544</td><td>True</td></tr>\n",
       "<tr><td>659</td><td>2019.1.00437.S</td><td>Ahmadi, Aida</td><td>M8E-IR</td><td>0.02800541835807258</td><td>16.29294237520878</td><td>766.5997688909962</td><td>1832.544</td><td>True</td></tr>\n",
       "<tr><td>660</td><td>2019.1.00437.S</td><td>Ahmadi, Aida</td><td>M8E-IR</td><td>0.02800541835807258</td><td>16.25168081756678</td><td>766.5997688909962</td><td>1832.544</td><td>True</td></tr>\n",
       "<tr><td>661</td><td>2019.1.00437.S</td><td>Ahmadi, Aida</td><td>M8E-IR</td><td>0.02800541835807258</td><td>16.23695267004799</td><td>766.5997688909962</td><td>1832.544</td><td>True</td></tr>\n",
       "<tr><td>662</td><td>2019.1.00437.S</td><td>Ahmadi, Aida</td><td>M8E-IR</td><td>0.02800541835807258</td><td>16.220564963903186</td><td>766.5997688909962</td><td>1832.544</td><td>True</td></tr>\n",
       "<tr><td>663</td><td>2019.1.00437.S</td><td>Ahmadi, Aida</td><td>Mon_R2_IRS3_A</td><td>0.03204071690247246</td><td>12.39373772073607</td><td>766.5541776482949</td><td>1868.832</td><td>True</td></tr>\n",
       "<tr><td>664</td><td>2019.1.00437.S</td><td>Ahmadi, Aida</td><td>Mon_R2_IRS3_A</td><td>0.03204071690247246</td><td>12.3376803470529</td><td>766.5541776482949</td><td>1868.832</td><td>True</td></tr>\n",
       "<tr><td>665</td><td>2019.1.00437.S</td><td>Ahmadi, Aida</td><td>MWC_300</td><td>0.019114738764323846</td><td>39.188900725003506</td><td>766.5876695919678</td><td>1868.832</td><td>True</td></tr>\n",
       "<tr><td>666</td><td>2019.1.01463.S</td><td>Cheng, Yu</td><td>I19368c1</td><td>0.019071975407213667</td><td>33.83515539324227</td><td>662.5370965175579</td><td>14805.504</td><td>True</td></tr>\n",
       "<tr><td>667</td><td>2019.1.01463.S</td><td>Cheng, Yu</td><td>I19368c1</td><td>0.019071975407213667</td><td>34.3800546636462</td><td>662.5370965175579</td><td>14805.504</td><td>True</td></tr>\n",
       "<tr><td>668</td><td>2019.1.00437.S</td><td>Ahmadi, Aida</td><td>S255_IRS3</td><td>0.02779929262586751</td><td>14.944613236896103</td><td>766.5216569046664</td><td>2213.568</td><td>True</td></tr>\n",
       "<tr><td>669</td><td>2019.1.00437.S</td><td>Ahmadi, Aida</td><td>S255_IRS3</td><td>0.02779929262586751</td><td>14.95674883129525</td><td>766.5216569046664</td><td>2213.568</td><td>True</td></tr>\n",
       "<tr><td>670</td><td>2019.1.00437.S</td><td>Ahmadi, Aida</td><td>MWC_300</td><td>0.019114738764323846</td><td>39.22849508047743</td><td>766.5876695919678</td><td>1868.832</td><td>True</td></tr>\n",
       "<tr><td>671</td><td>2019.1.00437.S</td><td>Ahmadi, Aida</td><td>S255_IRS3</td><td>0.02779929262586751</td><td>14.931073331723692</td><td>766.5216569046664</td><td>2213.568</td><td>True</td></tr>\n",
       "<tr><td>672</td><td>2019.1.00910.S</td><td>Poorta, Johanna</td><td>Cl_star_NGC_6618_B243</td><td>0.027892142723193115</td><td>27.63245097747494</td><td>365.07066829350754</td><td>707.616</td><td>True</td></tr>\n",
       "<tr><td>673</td><td>2019.1.00910.S</td><td>Poorta, Johanna</td><td>Cl_star_NGC_6618_B243</td><td>0.027892142723193115</td><td>27.391636547481774</td><td>365.07066829350754</td><td>707.616</td><td>True</td></tr>\n",
       "<tr><td>674</td><td>2019.1.00910.S</td><td>Poorta, Johanna</td><td>Cl_star_NGC_6618_B243</td><td>0.027892142723193115</td><td>27.28093405432004</td><td>365.07066829350754</td><td>707.616</td><td>True</td></tr>\n",
       "<tr><td>675</td><td>2019.1.00910.S</td><td>Poorta, Johanna</td><td>Cl_star_NGC6618_B275</td><td>0.02789214257894002</td><td>27.280887740290012</td><td>365.07066829350754</td><td>707.616</td><td>True</td></tr>\n",
       "<tr><td>676</td><td>2019.1.00910.S</td><td>Poorta, Johanna</td><td>Cl_star_NGC6618_B268</td><td>0.027892142291488425</td><td>27.230846960203397</td><td>365.07066829350754</td><td>707.616</td><td>True</td></tr>\n",
       "<tr><td>677</td><td>2019.1.00910.S</td><td>Poorta, Johanna</td><td>Cl_star_NGC6618_B268</td><td>0.027892142291488425</td><td>27.632450062037595</td><td>365.07066829350754</td><td>707.616</td><td>True</td></tr>\n",
       "<tr><td>678</td><td>2019.1.00910.S</td><td>Poorta, Johanna</td><td>Cl_star_NGC6618_B268</td><td>0.027892142291488425</td><td>27.391594468877933</td><td>365.07066829350754</td><td>707.616</td><td>True</td></tr>\n",
       "<tr><td>679</td><td>2019.1.00910.S</td><td>Poorta, Johanna</td><td>Cl_star_NGC6618_B268</td><td>0.027892142291488425</td><td>28.34680229002486</td><td>365.07066829350754</td><td>707.616</td><td>True</td></tr>\n",
       "<tr><td>680</td><td>2019.1.00910.S</td><td>Poorta, Johanna</td><td>Cl_star_NGC6618_B268</td><td>0.027892142291488425</td><td>27.312034341358288</td><td>365.07066829350754</td><td>707.616</td><td>True</td></tr>\n",
       "<tr><td>681</td><td>2019.1.00910.S</td><td>Poorta, Johanna</td><td>Cl_star_NGC6618_B268</td><td>0.027892142291488425</td><td>27.28090371598999</td><td>365.07066829350754</td><td>707.616</td><td>True</td></tr>\n",
       "<tr><td>682</td><td>2019.1.00910.S</td><td>Poorta, Johanna</td><td>Cl_star_NGC6618_B331</td><td>0.027892141760277954</td><td>27.23071343159034</td><td>365.07066829350754</td><td>707.616</td><td>True</td></tr>\n",
       "<tr><td>683</td><td>2019.1.00910.S</td><td>Poorta, Johanna</td><td>Cl_star_NGC6618_B331</td><td>0.027892141760277954</td><td>27.632301510877618</td><td>365.07066829350754</td><td>707.616</td><td>True</td></tr>\n",
       "<tr><td>684</td><td>2019.1.00910.S</td><td>Poorta, Johanna</td><td>Cl_star_NGC6618_B331</td><td>0.027892141760277954</td><td>27.391453265128593</td><td>365.07066829350754</td><td>707.616</td><td>True</td></tr>\n",
       "<tr><td>685</td><td>2019.1.00910.S</td><td>Poorta, Johanna</td><td>Cl_star_NGC6618_B331</td><td>0.027892141760277954</td><td>27.439024188507865</td><td>365.07066829350754</td><td>707.616</td><td>True</td></tr>\n",
       "<tr><td>686</td><td>2019.1.00437.S</td><td>Ahmadi, Aida</td><td>M8E-IR</td><td>0.02800541835807258</td><td>16.21835327337483</td><td>766.5997688909962</td><td>1832.544</td><td>True</td></tr>\n",
       "<tr><td>687</td><td>2019.1.00437.S</td><td>Ahmadi, Aida</td><td>M8E-IR</td><td>0.02800541835807258</td><td>16.276232640405826</td><td>766.5997688909962</td><td>1832.544</td><td>True</td></tr>\n",
       "<tr><td>688</td><td>2019.1.00437.S</td><td>Ahmadi, Aida</td><td>M8E-IR</td><td>0.02800541835807258</td><td>17.92796250217258</td><td>766.5997688909962</td><td>1832.544</td><td>True</td></tr>\n",
       "<tr><td>689</td><td>2019.1.01693.S</td><td>Varga, Jozsef</td><td>HD_50138</td><td>0.021949618250126954</td><td>31.590664376372395</td><td>183.60535770187562</td><td>1596.672</td><td>True</td></tr>\n",
       "<tr><td>690</td><td>2019.1.01693.S</td><td>Varga, Jozsef</td><td>HD_50138</td><td>0.021949618250126954</td><td>31.815591927024943</td><td>183.60535770187562</td><td>1596.672</td><td>True</td></tr>\n",
       "<tr><td>691</td><td>2019.1.00437.S</td><td>Ahmadi, Aida</td><td>IRAS17216-3801</td><td>0.028504379609404672</td><td>14.63247679902126</td><td>766.5311842714914</td><td>1868.832</td><td>True</td></tr>\n",
       "<tr><td>692</td><td>2019.1.00437.S</td><td>Ahmadi, Aida</td><td>IRAS17216-3801</td><td>0.028504379609404672</td><td>14.652477998238114</td><td>766.5311842714914</td><td>1868.832</td><td>True</td></tr>\n",
       "<tr><td>693</td><td>2019.1.00437.S</td><td>Ahmadi, Aida</td><td>IRAS17216-3801</td><td>0.028504379609404672</td><td>14.615380042555826</td><td>766.5311842714914</td><td>1868.832</td><td>True</td></tr>\n",
       "<tr><td>694</td><td>2019.1.00437.S</td><td>Ahmadi, Aida</td><td>IRAS17216-3801</td><td>0.028504379609404672</td><td>14.602180771019153</td><td>766.5311842714914</td><td>1868.832</td><td>True</td></tr>\n",
       "<tr><td>695</td><td>2019.1.00437.S</td><td>Ahmadi, Aida</td><td>S255_IRS3</td><td>0.02779929262586751</td><td>14.974775973127139</td><td>766.5216569046664</td><td>2213.568</td><td>True</td></tr>\n",
       "<tr><td>696</td><td>2019.1.00437.S</td><td>Ahmadi, Aida</td><td>S255_IRS3</td><td>0.02779929262586751</td><td>14.993075839259797</td><td>766.5216569046664</td><td>2213.568</td><td>True</td></tr>\n",
       "<tr><td>697</td><td>2019.1.00437.S</td><td>Ahmadi, Aida</td><td>S255_IRS3</td><td>0.02779929262586751</td><td>14.930439243689046</td><td>766.5216569046664</td><td>2213.568</td><td>True</td></tr>\n",
       "<tr><td>698</td><td>2019.1.00437.S</td><td>Ahmadi, Aida</td><td>S255_IRS3</td><td>0.02779929262586751</td><td>15.075706391874535</td><td>766.5216569046664</td><td>2213.568</td><td>True</td></tr>\n",
       "<tr><td>699</td><td>2019.1.00437.S</td><td>Ahmadi, Aida</td><td>S255_IRS3</td><td>0.02779929262586751</td><td>17.060279437801995</td><td>766.5216569046664</td><td>2213.568</td><td>True</td></tr>\n",
       "<tr><td>700</td><td>2019.1.00437.S</td><td>Ahmadi, Aida</td><td>IRAS17216-3801</td><td>0.028504379609404672</td><td>14.587693354431707</td><td>766.5311842714914</td><td>1868.832</td><td>True</td></tr>\n",
       "<tr><td>701</td><td>2019.1.00437.S</td><td>Ahmadi, Aida</td><td>IRAS17216-3801</td><td>0.028504379609404672</td><td>14.586858516097385</td><td>766.5311842714914</td><td>1868.832</td><td>True</td></tr>\n",
       "<tr><td>702</td><td>2019.1.00437.S</td><td>Ahmadi, Aida</td><td>IRAS17216-3801</td><td>0.028504379609404672</td><td>14.6680489322674</td><td>766.5311842714914</td><td>1868.832</td><td>True</td></tr>\n",
       "<tr><td>703</td><td>2019.1.00437.S</td><td>Ahmadi, Aida</td><td>IRAS17216-3801</td><td>0.028504379609404672</td><td>16.087980244318132</td><td>766.5311842714914</td><td>1868.832</td><td>True</td></tr>\n",
       "<tr><td>704</td><td>2019.1.00437.S</td><td>Ahmadi, Aida</td><td>MWC_300</td><td>0.019114738764323846</td><td>39.15200570846871</td><td>766.5876695919678</td><td>1868.832</td><td>True</td></tr>\n",
       "<tr><td>705</td><td>2019.1.00437.S</td><td>Ahmadi, Aida</td><td>MWC_300</td><td>0.019114738764323846</td><td>39.12857722414903</td><td>766.5876695919678</td><td>1868.832</td><td>True</td></tr>\n",
       "<tr><td>706</td><td>2019.1.00437.S</td><td>Ahmadi, Aida</td><td>MWC_300</td><td>0.019114738764323846</td><td>43.365869742699466</td><td>766.5876695919678</td><td>1868.832</td><td>True</td></tr>\n",
       "<tr><td>707</td><td>2019.1.01425.S</td><td>Reynolds, Nickalas</td><td>Per-emb-17</td><td>0.01961370263973616</td><td>59.91199909154695</td><td>331.9762748670829</td><td>580.608</td><td>True</td></tr>\n",
       "<tr><td>708</td><td>2019.1.01425.S</td><td>Reynolds, Nickalas</td><td>Per-emb-17</td><td>0.01961370263973616</td><td>62.13662976893999</td><td>331.9762748670829</td><td>580.608</td><td>True</td></tr>\n",
       "<tr><td>709</td><td>2019.1.01425.S</td><td>Reynolds, Nickalas</td><td>Per-emb-22</td><td>0.019613709493585638</td><td>60.06464030594029</td><td>331.9762748670829</td><td>580.608</td><td>True</td></tr>\n",
       "<tr><td>710</td><td>2019.1.01425.S</td><td>Reynolds, Nickalas</td><td>Per-emb-22</td><td>0.019613709493585638</td><td>60.11411569857483</td><td>331.9762748670829</td><td>580.608</td><td>True</td></tr>\n",
       "<tr><td>711</td><td>2019.1.01425.S</td><td>Reynolds, Nickalas</td><td>Per-emb-22</td><td>0.019613709493585638</td><td>62.06617364650649</td><td>331.9762748670829</td><td>580.608</td><td>True</td></tr>\n",
       "<tr><td>712</td><td>2019.1.01425.S</td><td>Reynolds, Nickalas</td><td>L1448IRS1</td><td>0.019613710250318227</td><td>60.175041092180116</td><td>331.9762748670829</td><td>580.608</td><td>True</td></tr>\n",
       "<tr><td>713</td><td>2019.1.01425.S</td><td>Reynolds, Nickalas</td><td>L1448IRS1</td><td>0.019613710250318227</td><td>60.070162114607186</td><td>331.9762748670829</td><td>580.608</td><td>True</td></tr>\n",
       "<tr><td>714</td><td>2019.1.01425.S</td><td>Reynolds, Nickalas</td><td>L1448IRS1</td><td>0.019613710250318227</td><td>60.12502938124786</td><td>331.9762748670829</td><td>580.608</td><td>True</td></tr>\n",
       "<tr><td>715</td><td>2019.1.01425.S</td><td>Reynolds, Nickalas</td><td>L1448IRS1</td><td>0.019613710250318227</td><td>62.33672703478284</td><td>331.9762748670829</td><td>580.608</td><td>True</td></tr>\n",
       "<tr><td>716</td><td>2019.1.01425.S</td><td>Reynolds, Nickalas</td><td>L1448IRS3B</td><td>0.019613710221678852</td><td>60.11963114681767</td><td>331.9762748670829</td><td>580.608</td><td>True</td></tr>\n",
       "<tr><td>717</td><td>2019.1.00402.S</td><td>Zhang, Qizhou</td><td>G10p6</td><td>0.019334875332016544</td><td>26.748646687851103</td><td>1452.844204537984</td><td>11902.464</td><td>True</td></tr>\n",
       "<tr><td>718</td><td>2018.1.00495.S</td><td>Hunter, Todd</td><td>NGC6334I</td><td>0.030713400369367694</td><td>34.0217848071493</td><td>496.8567585999692</td><td>4390.848</td><td>True</td></tr>\n",
       "<tr><td>719</td><td>2019.1.00437.S</td><td>Ahmadi, Aida</td><td>R_Mon</td><td>0.02325841435836297</td><td>26.47423178359893</td><td>766.5400221614296</td><td>2032.128</td><td>True</td></tr>\n",
       "<tr><td>720</td><td>2019.1.00437.S</td><td>Ahmadi, Aida</td><td>R_Mon</td><td>0.02325841435836297</td><td>26.507356575080607</td><td>766.5400221614296</td><td>2032.128</td><td>True</td></tr>\n",
       "<tr><td>721</td><td>2019.1.00437.S</td><td>Ahmadi, Aida</td><td>R_Mon</td><td>0.02325841435836297</td><td>26.441846473120115</td><td>766.5400221614296</td><td>2032.128</td><td>True</td></tr>\n",
       "<tr><td>722</td><td>2019.1.00437.S</td><td>Ahmadi, Aida</td><td>R_Mon</td><td>0.02325841435836297</td><td>26.41927884288783</td><td>766.5400221614296</td><td>2032.128</td><td>True</td></tr>\n",
       "<tr><td>723</td><td>2019.1.00910.S</td><td>Poorta, Johanna</td><td>Cl_star_NGC_6618_B243</td><td>0.027892142723193115</td><td>27.23087543368361</td><td>365.07066829350754</td><td>707.616</td><td>True</td></tr>\n",
       "<tr><td>724</td><td>2019.1.00910.S</td><td>Poorta, Johanna</td><td>Cl_star_NGC_6618_B243</td><td>0.027892142723193115</td><td>27.439174538511146</td><td>365.07066829350754</td><td>707.616</td><td>True</td></tr>\n",
       "<tr><td>725</td><td>2019.1.00910.S</td><td>Poorta, Johanna</td><td>Cl_star_NGC6618_B275</td><td>0.02789214257894002</td><td>27.439128397730997</td><td>365.07066829350754</td><td>707.616</td><td>True</td></tr>\n",
       "<tr><td>726</td><td>2019.1.00910.S</td><td>Poorta, Johanna</td><td>Cl_star_NGC6618_B275</td><td>0.02789214257894002</td><td>27.312018388705617</td><td>365.07066829350754</td><td>707.616</td><td>True</td></tr>\n",
       "<tr><td>727</td><td>2019.1.00910.S</td><td>Poorta, Johanna</td><td>Cl_star_NGC6618_B331</td><td>0.027892141760277954</td><td>28.346589942204155</td><td>365.07066829350754</td><td>707.616</td><td>True</td></tr>\n",
       "<tr><td>728</td><td>2019.1.00910.S</td><td>Poorta, Johanna</td><td>Cl_star_NGC6618_B331</td><td>0.027892141760277954</td><td>27.28078367254714</td><td>365.07066829350754</td><td>707.616</td><td>True</td></tr>\n",
       "<tr><td>729</td><td>2019.1.00462.S</td><td>Walker, Daniel</td><td>e1</td><td>0.02314206113425365</td><td>25.48898474559261</td><td>765.6008090038739</td><td>2957.472</td><td>True</td></tr>\n",
       "<tr><td>730</td><td>2019.1.00462.S</td><td>Walker, Daniel</td><td>e1</td><td>0.02314206113425365</td><td>25.859347249018505</td><td>765.6008090038739</td><td>2957.472</td><td>True</td></tr>\n",
       "<tr><td>731</td><td>2019.1.01463.S</td><td>Cheng, Yu</td><td>I18337c3</td><td>0.019279803405638285</td><td>28.255743585728965</td><td>662.6136438310068</td><td>7729.344</td><td>True</td></tr>\n",
       "<tr><td>732</td><td>2019.1.01463.S</td><td>Cheng, Yu</td><td>I18337c3</td><td>0.019279803405638285</td><td>30.649583219763677</td><td>662.6136438310068</td><td>7729.344</td><td>True</td></tr>\n",
       "<tr><td>733</td><td>2019.1.01425.S</td><td>Reynolds, Nickalas</td><td>Per-emb-2</td><td>0.019453867211399193</td><td>91.00837282681701</td><td>331.97637996924493</td><td>870.912</td><td>True</td></tr>\n",
       "<tr><td>734</td><td>2019.1.01425.S</td><td>Reynolds, Nickalas</td><td>Per-emb-2</td><td>0.019453867211399193</td><td>94.21473560108998</td><td>331.97637996924493</td><td>870.912</td><td>True</td></tr>\n",
       "<tr><td>735</td><td>2019.1.01425.S</td><td>Reynolds, Nickalas</td><td>SVS13A</td><td>0.01945386981038714</td><td>91.68394072289469</td><td>331.97637996924493</td><td>925.344</td><td>True</td></tr>\n",
       "<tr><td>736</td><td>2019.1.01425.S</td><td>Reynolds, Nickalas</td><td>Per-emb-35</td><td>0.019453868908533588</td><td>88.4987532605255</td><td>331.97637996924493</td><td>925.344</td><td>True</td></tr>\n",
       "<tr><td>737</td><td>2019.1.01425.S</td><td>Reynolds, Nickalas</td><td>Per-emb-35</td><td>0.019453868908533588</td><td>91.97612419571895</td><td>331.97637996924493</td><td>925.344</td><td>True</td></tr>\n",
       "<tr><td>738</td><td>2019.1.01425.S</td><td>Reynolds, Nickalas</td><td>Per-emb-5</td><td>0.019453864478227997</td><td>91.03995482132234</td><td>331.97637996924493</td><td>870.912</td><td>True</td></tr>\n",
       "<tr><td>739</td><td>2019.1.01693.S</td><td>Varga, Jozsef</td><td>HD_50138</td><td>0.021949618250126954</td><td>34.1218175780476</td><td>183.60535770187562</td><td>1596.672</td><td>True</td></tr>\n",
       "<tr><td>740</td><td>2019.1.01425.S</td><td>Reynolds, Nickalas</td><td>Per-emb-18</td><td>0.019453871080753315</td><td>88.67300207678988</td><td>331.97637996924493</td><td>925.344</td><td>True</td></tr>\n",
       "<tr><td>741</td><td>2019.1.01425.S</td><td>Reynolds, Nickalas</td><td>Per-emb-18</td><td>0.019453871080753315</td><td>91.71065675405544</td><td>331.97637996924493</td><td>925.344</td><td>True</td></tr>\n",
       "<tr><td>742</td><td>2019.1.01425.S</td><td>Reynolds, Nickalas</td><td>NGC1333IRAS2A</td><td>0.01945386965930874</td><td>88.5085382301435</td><td>331.97637996924493</td><td>925.344</td><td>True</td></tr>\n",
       "<tr><td>743</td><td>2019.1.01425.S</td><td>Reynolds, Nickalas</td><td>NGC1333IRAS2A</td><td>0.01945386965930874</td><td>88.57576224443761</td><td>331.97637996924493</td><td>925.344</td><td>True</td></tr>\n",
       "<tr><td>744</td><td>2019.1.01425.S</td><td>Reynolds, Nickalas</td><td>NGC1333IRAS2A</td><td>0.01945386965930874</td><td>91.66818737002379</td><td>331.97637996924493</td><td>925.344</td><td>True</td></tr>\n",
       "<tr><td>745</td><td>2019.1.01425.S</td><td>Reynolds, Nickalas</td><td>NGC1333IRAS2A</td><td>0.01945386965930874</td><td>91.98778308025837</td><td>331.97637996924493</td><td>925.344</td><td>True</td></tr>\n",
       "<tr><td>746</td><td>2019.1.00315.S</td><td>Liu, Sheng-Yuan</td><td>S255_IR</td><td>0.012744529853840496</td><td>71.26777551401594</td><td>973.4151873280903</td><td>1106.784</td><td>True</td></tr>\n",
       "<tr><td>747</td><td>2019.1.00315.S</td><td>Liu, Sheng-Yuan</td><td>S255_IR</td><td>0.012744529853840496</td><td>69.52700865288024</td><td>973.4151873280903</td><td>1106.784</td><td>True</td></tr>\n",
       "<tr><td>748</td><td>2019.1.00315.S</td><td>Liu, Sheng-Yuan</td><td>S255_IR</td><td>0.012744529853840496</td><td>68.69328053195773</td><td>973.4151873280903</td><td>1106.784</td><td>True</td></tr>\n",
       "<tr><td>749</td><td>2019.1.01425.S</td><td>Reynolds, Nickalas</td><td>SVS13A</td><td>0.01945386981038714</td><td>88.58858553761081</td><td>331.97637996924493</td><td>925.344</td><td>True</td></tr>\n",
       "<tr><td>750</td><td>2019.1.01425.S</td><td>Reynolds, Nickalas</td><td>Per-emb-17</td><td>0.01961370263973616</td><td>59.967119703596666</td><td>331.9762748670829</td><td>580.608</td><td>True</td></tr>\n",
       "<tr><td>751</td><td>2019.1.01425.S</td><td>Reynolds, Nickalas</td><td>Per-emb-17</td><td>0.01961370263973616</td><td>61.8731777128773</td><td>331.9762748670829</td><td>580.608</td><td>True</td></tr>\n",
       "<tr><td>752</td><td>2019.1.01425.S</td><td>Reynolds, Nickalas</td><td>Per-emb-22</td><td>0.019613709493585638</td><td>60.28029049187589</td><td>331.9762748670829</td><td>580.608</td><td>True</td></tr>\n",
       "<tr><td>753</td><td>2019.1.01425.S</td><td>Reynolds, Nickalas</td><td>L1448IRS1</td><td>0.019613710250318227</td><td>60.11964234720676</td><td>331.9762748670829</td><td>580.608</td><td>True</td></tr>\n",
       "<tr><td>754</td><td>2019.1.01425.S</td><td>Reynolds, Nickalas</td><td>L1448IRS1</td><td>0.019613710250318227</td><td>60.285797437797356</td><td>331.9762748670829</td><td>580.608</td><td>True</td></tr>\n",
       "<tr><td>755</td><td>2019.1.01425.S</td><td>Reynolds, Nickalas</td><td>L1448IRS3B</td><td>0.019613710221678852</td><td>60.16965258360405</td><td>331.9762748670829</td><td>580.608</td><td>True</td></tr>\n",
       "<tr><td>756</td><td>2019.1.01425.S</td><td>Reynolds, Nickalas</td><td>L1448IRS3B</td><td>0.019613710221678852</td><td>60.06475511214576</td><td>331.9762748670829</td><td>580.608</td><td>True</td></tr>\n",
       "<tr><td>757</td><td>2019.1.01425.S</td><td>Reynolds, Nickalas</td><td>L1448IRS3B</td><td>0.019613710221678852</td><td>62.066277873048115</td><td>331.9762748670829</td><td>580.608</td><td>True</td></tr>\n",
       "<tr><td>758</td><td>2019.1.01425.S</td><td>Reynolds, Nickalas</td><td>L1448IRS3C</td><td>0.019613709979769144</td><td>62.0682605319217</td><td>331.9762748670829</td><td>580.608</td><td>True</td></tr>\n",
       "<tr><td>759</td><td>2019.1.01425.S</td><td>Reynolds, Nickalas</td><td>L1448IRS3C</td><td>0.019613709979769144</td><td>62.331828387834435</td><td>331.9762748670829</td><td>580.608</td><td>True</td></tr>\n",
       "<tr><td>760</td><td>2019.1.01463.S</td><td>Cheng, Yu</td><td>I18337c3</td><td>0.019279803405638285</td><td>28.20022373697978</td><td>662.6136438310068</td><td>7729.344</td><td>True</td></tr>\n",
       "<tr><td>761</td><td>2019.1.01463.S</td><td>Cheng, Yu</td><td>I18337c3</td><td>0.019279803405638285</td><td>28.101677605873412</td><td>662.6136438310068</td><td>7729.344</td><td>True</td></tr>\n",
       "<tr><td>762</td><td>2019.1.01425.S</td><td>Reynolds, Nickalas</td><td>Per-emb-2</td><td>0.019453867211399193</td><td>91.14305468838029</td><td>331.97637996924493</td><td>870.912</td><td>True</td></tr>\n",
       "<tr><td>763</td><td>2019.1.01425.S</td><td>Reynolds, Nickalas</td><td>Per-emb-2</td><td>0.019453867211399193</td><td>91.07470589238491</td><td>331.97637996924493</td><td>870.912</td><td>True</td></tr>\n",
       "<tr><td>764</td><td>2019.1.01425.S</td><td>Reynolds, Nickalas</td><td>Per-emb-2</td><td>0.019453867211399193</td><td>91.29689224670598</td><td>331.97637996924493</td><td>870.912</td><td>True</td></tr>\n",
       "<tr><td>765</td><td>2019.1.01425.S</td><td>Reynolds, Nickalas</td><td>SVS13A</td><td>0.01945386981038714</td><td>88.58584197520469</td><td>331.97637996924493</td><td>925.344</td><td>True</td></tr>\n",
       "<tr><td>766</td><td>2019.1.01425.S</td><td>Reynolds, Nickalas</td><td>SVS13A</td><td>0.01945386981038714</td><td>88.8005554506411</td><td>331.97637996924493</td><td>925.344</td><td>True</td></tr>\n",
       "<tr><td>767</td><td>2019.1.01425.S</td><td>Reynolds, Nickalas</td><td>Per-emb-35</td><td>0.019453868908533588</td><td>88.56599232911107</td><td>331.97637996924493</td><td>925.344</td><td>True</td></tr>\n",
       "<tr><td>768</td><td>2019.1.01425.S</td><td>Reynolds, Nickalas</td><td>Per-emb-35</td><td>0.019453868908533588</td><td>88.77799526688501</td><td>331.97637996924493</td><td>925.344</td><td>True</td></tr>\n",
       "<tr><td>769</td><td>2019.1.01425.S</td><td>Reynolds, Nickalas</td><td>Per-emb-5</td><td>0.019453864478227997</td><td>91.03652565967714</td><td>331.97637996924493</td><td>870.912</td><td>True</td></tr>\n",
       "<tr><td>770</td><td>2019.1.01425.S</td><td>Reynolds, Nickalas</td><td>Per-emb-5</td><td>0.019453864478227997</td><td>94.16805878270767</td><td>331.97637996924493</td><td>870.912</td><td>True</td></tr>\n",
       "<tr><td>771</td><td>2019.1.01425.S</td><td>Reynolds, Nickalas</td><td>Per-emb-18</td><td>0.019453871080753315</td><td>88.61038270847926</td><td>331.97637996924493</td><td>925.344</td><td>True</td></tr>\n",
       "<tr><td>772</td><td>2019.1.01425.S</td><td>Reynolds, Nickalas</td><td>Per-emb-18</td><td>0.019453871080753315</td><td>88.82232185070852</td><td>331.97637996924493</td><td>925.344</td><td>True</td></tr>\n",
       "<tr><td>773</td><td>2019.1.01425.S</td><td>Reynolds, Nickalas</td><td>NGC1333IRAS2A</td><td>0.01945386965930874</td><td>88.63844162195073</td><td>331.97637996924493</td><td>925.344</td><td>True</td></tr>\n",
       "<tr><td>774</td><td>2019.1.01425.S</td><td>Reynolds, Nickalas</td><td>NGC1333IRAS2B</td><td>0.019453869979836454</td><td>88.63530727667339</td><td>331.97637996924493</td><td>925.344</td><td>True</td></tr>\n",
       "<tr><td>775</td><td>2019.1.01425.S</td><td>Reynolds, Nickalas</td><td>NGC1333IRAS2B</td><td>0.019453869979836454</td><td>88.50539290300992</td><td>331.97637996924493</td><td>925.344</td><td>True</td></tr>\n",
       "<tr><td>776</td><td>2019.1.01425.S</td><td>Reynolds, Nickalas</td><td>NGC1333IRAS2B</td><td>0.019453869979836454</td><td>88.56984375032975</td><td>331.97637996924493</td><td>925.344</td><td>True</td></tr>\n",
       "<tr><td>777</td><td>2019.1.01425.S</td><td>Reynolds, Nickalas</td><td>NGC1333IRAS2B</td><td>0.019453869979836454</td><td>88.57262237856963</td><td>331.97637996924493</td><td>925.344</td><td>True</td></tr>\n",
       "<tr><td>778</td><td>2019.1.01425.S</td><td>Reynolds, Nickalas</td><td>NGC1333IRAS2B</td><td>0.019453869979836454</td><td>88.78461618314056</td><td>331.97637996924493</td><td>925.344</td><td>True</td></tr>\n",
       "<tr><td>779</td><td>2019.1.01425.S</td><td>Reynolds, Nickalas</td><td>NGC1333IRAS2B</td><td>0.019453869979836454</td><td>91.66433052587963</td><td>331.97637996924493</td><td>925.344</td><td>True</td></tr>\n",
       "<tr><td>780</td><td>2019.1.01425.S</td><td>Reynolds, Nickalas</td><td>Per-emb-2</td><td>0.019453867211399193</td><td>91.07805293694791</td><td>331.97637996924493</td><td>870.912</td><td>True</td></tr>\n",
       "<tr><td>781</td><td>2019.1.01425.S</td><td>Reynolds, Nickalas</td><td>Per-emb-2</td><td>0.019453867211399193</td><td>94.54400835397118</td><td>331.97637996924493</td><td>870.912</td><td>True</td></tr>\n",
       "<tr><td>782</td><td>2019.1.01425.S</td><td>Reynolds, Nickalas</td><td>SVS13A</td><td>0.01945386981038714</td><td>88.65124231708236</td><td>331.97637996924493</td><td>925.344</td><td>True</td></tr>\n",
       "<tr><td>783</td><td>2019.1.01425.S</td><td>Reynolds, Nickalas</td><td>Per-emb-22</td><td>0.019613709493585638</td><td>60.16953780680703</td><td>331.9762748670829</td><td>580.608</td><td>True</td></tr>\n",
       "<tr><td>784</td><td>2019.1.01425.S</td><td>Reynolds, Nickalas</td><td>Per-emb-22</td><td>0.019613709493585638</td><td>60.11951696885057</td><td>331.9762748670829</td><td>580.608</td><td>True</td></tr>\n",
       "<tr><td>785</td><td>2019.1.01425.S</td><td>Reynolds, Nickalas</td><td>Per-emb-22</td><td>0.019613709493585638</td><td>62.32995877554416</td><td>331.9762748670829</td><td>580.608</td><td>True</td></tr>\n",
       "<tr><td>786</td><td>2019.1.01425.S</td><td>Reynolds, Nickalas</td><td>L1448IRS3B</td><td>0.019613710221678852</td><td>60.11423060625242</td><td>331.9762748670829</td><td>580.608</td><td>True</td></tr>\n",
       "<tr><td>787</td><td>2019.1.01425.S</td><td>Reynolds, Nickalas</td><td>L1448IRS3C</td><td>0.019613709979769144</td><td>60.171213821522954</td><td>331.9762748670829</td><td>580.608</td><td>True</td></tr>\n",
       "<tr><td>788</td><td>2019.1.01425.S</td><td>Reynolds, Nickalas</td><td>L1448IRS3C</td><td>0.019613709979769144</td><td>60.28196735734755</td><td>331.9762748670829</td><td>580.608</td><td>True</td></tr>\n",
       "<tr><td>789</td><td>2019.1.01425.S</td><td>Reynolds, Nickalas</td><td>SVS13A</td><td>0.01945386981038714</td><td>88.52138383252439</td><td>331.97637996924493</td><td>925.344</td><td>True</td></tr>\n",
       "<tr><td>790</td><td>2019.1.01425.S</td><td>Reynolds, Nickalas</td><td>SVS13A</td><td>0.01945386981038714</td><td>92.00360447035222</td><td>331.97637996924493</td><td>925.344</td><td>True</td></tr>\n",
       "<tr><td>791</td><td>2019.1.01425.S</td><td>Reynolds, Nickalas</td><td>Per-emb-35</td><td>0.019453868908533588</td><td>88.62868857930029</td><td>331.97637996924493</td><td>925.344</td><td>True</td></tr>\n",
       "<tr><td>792</td><td>2019.1.01425.S</td><td>Reynolds, Nickalas</td><td>Per-emb-35</td><td>0.019453868908533588</td><td>88.56320080136439</td><td>331.97637996924493</td><td>925.344</td><td>True</td></tr>\n",
       "<tr><td>793</td><td>2019.1.01425.S</td><td>Reynolds, Nickalas</td><td>Per-emb-35</td><td>0.019453868908533588</td><td>91.65624483079813</td><td>331.97637996924493</td><td>925.344</td><td>True</td></tr>\n",
       "<tr><td>794</td><td>2019.1.01425.S</td><td>Reynolds, Nickalas</td><td>Per-emb-5</td><td>0.019453864478227997</td><td>91.10502186100555</td><td>331.97637996924493</td><td>870.912</td><td>True</td></tr>\n",
       "<tr><td>795</td><td>2019.1.01425.S</td><td>Reynolds, Nickalas</td><td>Per-emb-5</td><td>0.019453864478227997</td><td>90.97021045125483</td><td>331.97637996924493</td><td>870.912</td><td>True</td></tr>\n",
       "<tr><td>796</td><td>2019.1.01425.S</td><td>Reynolds, Nickalas</td><td>Per-emb-5</td><td>0.019453864478227997</td><td>91.25884729315058</td><td>331.97637996924493</td><td>870.912</td><td>True</td></tr>\n",
       "<tr><td>797</td><td>2019.1.01425.S</td><td>Reynolds, Nickalas</td><td>Per-emb-5</td><td>0.019453864478227997</td><td>94.49781122272918</td><td>331.97637996924493</td><td>870.912</td><td>True</td></tr>\n",
       "<tr><td>798</td><td>2019.1.01425.S</td><td>Reynolds, Nickalas</td><td>Per-emb-18</td><td>0.019453871080753315</td><td>88.54321787193275</td><td>331.97637996924493</td><td>925.344</td><td>True</td></tr>\n",
       "<tr><td>799</td><td>2019.1.01425.S</td><td>Reynolds, Nickalas</td><td>Per-emb-18</td><td>0.019453871080753315</td><td>92.0303152050707</td><td>331.97637996924493</td><td>925.344</td><td>True</td></tr>\n",
       "<tr><td>800</td><td>2019.1.01425.S</td><td>Reynolds, Nickalas</td><td>NGC1333IRAS2A</td><td>0.01945386965930874</td><td>88.5729905125461</td><td>331.97637996924493</td><td>925.344</td><td>True</td></tr>\n",
       "<tr><td>801</td><td>2019.1.01425.S</td><td>Reynolds, Nickalas</td><td>NGC1333IRAS2A</td><td>0.01945386965930874</td><td>88.78775093636906</td><td>331.97637996924493</td><td>925.344</td><td>True</td></tr>\n",
       "<tr><td>802</td><td>2019.1.01425.S</td><td>Reynolds, Nickalas</td><td>NGC1333IRAS2B</td><td>0.019453869979836454</td><td>91.98390958471114</td><td>331.97637996924493</td><td>925.344</td><td>True</td></tr>\n",
       "<tr><td>803</td><td>2019.1.01425.S</td><td>Reynolds, Nickalas</td><td>Per-emb-18</td><td>0.019453871080753315</td><td>88.60768625350721</td><td>331.97637996924493</td><td>925.344</td><td>True</td></tr>\n",
       "<tr><td>804</td><td>2019.1.00437.S</td><td>Ahmadi, Aida</td><td>R_Mon</td><td>0.02325841435836297</td><td>26.39409810411748</td><td>766.5400221614296</td><td>2032.128</td><td>True</td></tr>\n",
       "<tr><td>805</td><td>2019.1.00437.S</td><td>Ahmadi, Aida</td><td>R_Mon</td><td>0.02325841435836297</td><td>26.391689353126402</td><td>766.5400221614296</td><td>2032.128</td><td>True</td></tr>\n",
       "<tr><td>806</td><td>2019.1.00437.S</td><td>Ahmadi, Aida</td><td>R_Mon</td><td>0.02325841435836297</td><td>26.573379123573613</td><td>766.5400221614296</td><td>2032.128</td><td>True</td></tr>\n",
       "<tr><td>807</td><td>2019.1.00437.S</td><td>Ahmadi, Aida</td><td>R_Mon</td><td>0.02325841435836297</td><td>29.713827124574358</td><td>766.5400221614296</td><td>2032.128</td><td>True</td></tr>\n",
       "<tr><td>808</td><td>2019.1.00437.S</td><td>Ahmadi, Aida</td><td>Mon_R2_IRS3_A</td><td>0.03204071690247246</td><td>12.362535351145723</td><td>766.5541776482949</td><td>1868.832</td><td>True</td></tr>\n",
       "<tr><td>809</td><td>2019.1.00437.S</td><td>Ahmadi, Aida</td><td>Mon_R2_IRS3_A</td><td>0.03204071690247246</td><td>12.39215710126052</td><td>766.5541776482949</td><td>1868.832</td><td>True</td></tr>\n",
       "<tr><td>810</td><td>2019.1.01693.S</td><td>Varga, Jozsef</td><td>HD_50138</td><td>0.021949618250126954</td><td>31.633241484956322</td><td>183.60535770187562</td><td>1596.672</td><td>True</td></tr>\n",
       "<tr><td>811</td><td>2019.1.00462.S</td><td>Walker, Daniel</td><td>e1</td><td>0.02314206113425365</td><td>25.11945066055064</td><td>765.6008090038739</td><td>2957.472</td><td>True</td></tr>\n",
       "<tr><td>812</td><td>2019.1.00462.S</td><td>Walker, Daniel</td><td>e1</td><td>0.02314206113425365</td><td>25.188640441867946</td><td>765.6008090038739</td><td>2957.472</td><td>True</td></tr>\n",
       "<tr><td>813</td><td>2019.1.00462.S</td><td>Walker, Daniel</td><td>e1</td><td>0.02314206113425365</td><td>25.173307633402985</td><td>765.6008090038739</td><td>2957.472</td><td>True</td></tr>\n",
       "<tr><td>814</td><td>2019.1.00462.S</td><td>Walker, Daniel</td><td>e1</td><td>0.02314206113425365</td><td>25.154465921266</td><td>765.6008090038739</td><td>2957.472</td><td>True</td></tr>\n",
       "<tr><td>815</td><td>2019.1.00462.S</td><td>Walker, Daniel</td><td>e1</td><td>0.02314206113425365</td><td>25.14676793048987</td><td>765.6008090038739</td><td>2957.472</td><td>True</td></tr>\n",
       "<tr><td>816</td><td>2019.1.01463.S</td><td>Cheng, Yu</td><td>I19368c1</td><td>0.019071975407213667</td><td>33.92520624284543</td><td>662.5370965175579</td><td>14805.504</td><td>True</td></tr>\n",
       "<tr><td>817</td><td>2019.1.01463.S</td><td>Cheng, Yu</td><td>I19368c1</td><td>0.019071975407213667</td><td>37.883915353191014</td><td>662.5370965175579</td><td>14805.504</td><td>True</td></tr>\n",
       "</table><style>table.dataTable {clear: both; width: auto !important; margin: 0 !important;}\n",
       ".dataTables_info, .dataTables_length, .dataTables_filter, .dataTables_paginate{\n",
       "display: inline-block; margin-right: 1em; }\n",
       ".paginate_button { margin-right: 5px; }\n",
       "</style>\n",
       "<script>\n",
       "\n",
       "var astropy_sort_num = function(a, b) {\n",
       "    var a_num = parseFloat(a);\n",
       "    var b_num = parseFloat(b);\n",
       "\n",
       "    if (isNaN(a_num) && isNaN(b_num))\n",
       "        return ((a < b) ? -1 : ((a > b) ? 1 : 0));\n",
       "    else if (!isNaN(a_num) && !isNaN(b_num))\n",
       "        return ((a_num < b_num) ? -1 : ((a_num > b_num) ? 1 : 0));\n",
       "    else\n",
       "        return isNaN(a_num) ? -1 : 1;\n",
       "}\n",
       "\n",
       "require.config({paths: {\n",
       "    datatables: 'https://cdn.datatables.net/1.10.12/js/jquery.dataTables.min'\n",
       "}});\n",
       "require([\"datatables\"], function(){\n",
       "    console.log(\"$('#table47279514436896-588233').dataTable()\");\n",
       "    \n",
       "jQuery.extend( jQuery.fn.dataTableExt.oSort, {\n",
       "    \"optionalnum-asc\": astropy_sort_num,\n",
       "    \"optionalnum-desc\": function (a,b) { return -astropy_sort_num(a, b); }\n",
       "});\n",
       "\n",
       "    $('#table47279514436896-588233').dataTable({\n",
       "        order: [],\n",
       "        pageLength: 50,\n",
       "        lengthMenu: [[10, 25, 50, 100, 500, 1000, -1], [10, 25, 50, 100, 500, 1000, 'All']],\n",
       "        pagingType: \"full_numbers\",\n",
       "        columnDefs: [{targets: [0, 4, 5, 6, 7], type: \"optionalnum\"}]\n",
       "    });\n",
       "});\n",
       "</script>\n"
      ],
      "text/plain": [
       "<IPython.core.display.HTML object>"
      ]
     },
     "execution_count": 5,
     "metadata": {},
     "output_type": "execute_result"
    }
   ],
   "source": [
    "result['proposal_id', 'obs_creator_name',\n",
    "       'target_name', 'spatial_resolution',\n",
    "       'Line sensitivity (K)', 'velocity_resolution',\n",
    "       't_exptime', 'Has salt'].show_in_notebook()"
   ]
  },
  {
   "cell_type": "code",
   "execution_count": 6,
   "metadata": {},
   "outputs": [
    {
     "data": {
      "text/html": [
       "<i>Table length=131</i>\n",
       "<table id=\"table47279543167824-421417\" class=\"table-striped table-bordered table-condensed\">\n",
       "<thead><tr><th>idx</th><th>proposal_id</th><th>obs_creator_name</th><th>target_name</th><th>spatial_resolution</th><th>Line sensitivity (K)</th><th>velocity_resolution</th><th>t_exptime</th><th>Has salt</th></tr></thead>\n",
       "<thead><tr><th></th><th></th><th></th><th></th><th>arcsec</th><th>K</th><th>m / s</th><th>s</th><th></th></tr></thead>\n",
       "<tr><td>0</td><td>2019.1.00517.S</td><td>Zhang, Yichen</td><td>G339.88-1.26</td><td>0.04312822637922199</td><td>5.575916107772292</td><td>563.3396301968198</td><td>19813.248</td><td>True</td></tr>\n",
       "<tr><td>1</td><td>2018.1.01309.S</td><td>Perez, Sebastian</td><td>HD100546</td><td>0.019347574811558133</td><td>29.409521160570225</td><td>157.59836371771783</td><td>17741.877</td><td>True</td></tr>\n",
       "<tr><td>2</td><td>2019.1.01463.S</td><td>Cheng, Yu</td><td>I19368c1</td><td>0.019071975407213667</td><td>33.83515539324227</td><td>662.5370965175579</td><td>14805.504</td><td>True</td></tr>\n",
       "<tr><td>3</td><td>2018.1.01010.S</td><td>Ilee, John</td><td>G11.92-0.61_MM1</td><td>0.039884015473703675</td><td>6.946841181237427</td><td>614.1360069548272</td><td>13335.84</td><td>True</td></tr>\n",
       "<tr><td>4</td><td>2019.1.00402.S</td><td>Zhang, Qizhou</td><td>G10p6</td><td>0.019334875332016544</td><td>29.490158900936827</td><td>1452.844204537984</td><td>11902.464</td><td>True</td></tr>\n",
       "<tr><td>5</td><td>2019.1.00713.S</td><td>Rico Villas, Fernando</td><td>NGC_1068</td><td>0.02705263418110272</td><td>15.124059463777634</td><td>1439.0813506395791</td><td>11757.312</td><td>True</td></tr>\n",
       "<tr><td>6</td><td>2018.1.00632.S</td><td>Beltran, Maite</td><td>G31.41+0.31</td><td>0.05955497912393269</td><td>21.80255419112956</td><td>6536.190560418308</td><td>10432.8</td><td>True</td></tr>\n",
       "<tr><td>7</td><td>2017.1.01552.S</td><td>Cheng, Yu</td><td>G286</td><td>0.01927625775768028</td><td>28.287207111205838</td><td>192.6446310915769</td><td>10378.368</td><td>True</td></tr>\n",
       "<tr><td>8</td><td>2019.1.01463.S</td><td>Cheng, Yu</td><td>I18308c1</td><td>0.019468386564158256</td><td>34.321483566371946</td><td>662.6576069106526</td><td>10305.792</td><td>True</td></tr>\n",
       "<tr><td>9</td><td>2016.1.00949.S</td><td>Walker, Daniel</td><td>d_sma1</td><td>0.09641193730202599</td><td>1.1203016078055907</td><td>765.1424513159687</td><td>8164.8</td><td>True</td></tr>\n",
       "<tr><td>10</td><td>2018.1.01524.S</td><td>Maud, Luke</td><td>G17.64+0.16</td><td>0.019412216455993416</td><td>27.170840479742193</td><td>1256.1597901233827</td><td>8110.368</td><td>True</td></tr>\n",
       "<tr><td>11</td><td>2016.1.00826.S</td><td>van der Plas, Gerrit</td><td>HD_97048</td><td>0.03117830477697691</td><td>9.238035900529505</td><td>221.25100120413117</td><td>7977.431</td><td>True</td></tr>\n",
       "<tr><td>12</td><td>2018.1.00262.S</td><td>Chen, Vivien</td><td>G33.92+0.11</td><td>0.01929435057555484</td><td>26.805001028078593</td><td>1450.6705868161027</td><td>7947.072</td><td>True</td></tr>\n",
       "<tr><td>13</td><td>2016.1.00344.S</td><td>Perez, Sebastian</td><td>HD169142</td><td>0.026601531253361906</td><td>15.985704999309531</td><td>157.60011681018537</td><td>7890.496</td><td>True</td></tr>\n",
       "<tr><td>14</td><td>2019.1.01463.S</td><td>Cheng, Yu</td><td>I18337c3</td><td>0.019279803405638285</td><td>28.255743585728965</td><td>662.6136438310068</td><td>7729.344</td><td>True</td></tr>\n",
       "<tr><td>15</td><td>2015.1.00500.S</td><td>Liu, Sheng-Yuan</td><td>S255_IR</td><td>0.07525673210466478</td><td>1.3860184188405476</td><td>215.22315722627167</td><td>7711.2</td><td>True</td></tr>\n",
       "<tr><td>16</td><td>2016.1.00223.S</td><td>Beltran, Maite</td><td>G31.41+0.31</td><td>0.09487284788256904</td><td>1.0002589685631844</td><td>663.2810523270957</td><td>7620.48</td><td>True</td></tr>\n",
       "<tr><td>17</td><td>2017.1.00700.S</td><td>Johnston, Katharine</td><td>AFGL_4176</td><td>0.018030410624493082</td><td>27.2672737613064</td><td>353.5748715240327</td><td>7566.048</td><td>True</td></tr>\n",
       "<tr><td>18</td><td>2018.1.01441.S</td><td>Williams, Gwenllian</td><td>G19.01-0.03</td><td>0.09540051800522666</td><td>1.2268677910513488</td><td>383.3278108179169</td><td>7239.456</td><td>True</td></tr>\n",
       "<tr><td>19</td><td>2016.1.00344.S</td><td>Perez, Sebastian</td><td>HD100546</td><td>0.029809538706468436</td><td>13.88412992585906</td><td>157.6053948294634</td><td>7021.635</td><td>True</td></tr>\n",
       "<tr><td>20</td><td>2017.1.00293.S</td><td>Ginsburg, Adam</td><td>w51n</td><td>0.048008997337626945</td><td>49.58778947258755</td><td>3368.2509902921493</td><td>6622.56</td><td>True</td></tr>\n",
       "<tr><td>21</td><td>2017.1.00293.S</td><td>Ginsburg, Adam</td><td>w51e2</td><td>0.04800899683436537</td><td>50.10263367577915</td><td>3368.2509902921493</td><td>6622.56</td><td>True</td></tr>\n",
       "<tr><td>22</td><td>2017.1.01489.S</td><td>Kraus, Stefan</td><td>IRAS13481-6124</td><td>0.056874372393528334</td><td>22.907058454505023</td><td>3395.4845072711228</td><td>6132.672</td><td>True</td></tr>\n",
       "<tr><td>23</td><td>2016.1.01147.S</td><td>Ilee, John</td><td>G11.92-0.61</td><td>0.09247983196197204</td><td>1.0073663392579701</td><td>331.58290476486866</td><td>5951.232</td><td>True</td></tr>\n",
       "<tr><td>24</td><td>2016.1.00992.S</td><td>Garay, Guido</td><td>iras16547-4247</td><td>0.05903071363743562</td><td>1.7816311903762911</td><td>207.0775118030858</td><td>5951.232</td><td>True</td></tr>\n",
       "<tr><td>25</td><td>2016.1.01152.S</td><td>Sanchez-Monge, Alvaro</td><td>I19520</td><td>0.0880778830486184</td><td>9.760532128286394</td><td>226.93375804851243</td><td>5842.368</td><td>True</td></tr>\n",
       "<tr><td>26</td><td>2017.1.01678.S</td><td>van der Plas, Gerrit</td><td>HD_100453</td><td>0.01954751256675677</td><td>25.28897888661658</td><td>158.7825317593012</td><td>5624.222</td><td>True</td></tr>\n",
       "<tr><td>27</td><td>2019.1.00315.S</td><td>Liu, Sheng-Yuan</td><td>S255_IR</td><td>0.07102289692946182</td><td>1.365640741227132</td><td>215.23872257302784</td><td>5503.68</td><td>True</td></tr>\n",
       "<tr><td>28</td><td>2017.1.01682.S</td><td>Guidi, Greta</td><td>HD_163296</td><td>0.05865960473035144</td><td>8.609813592715392</td><td>71.97802859424694</td><td>5442.95</td><td>True</td></tr>\n",
       "<tr><td>29</td><td>2018.1.00385.S</td><td>Guzman-Fernandez, Andres</td><td>G345.49+1.47</td><td>0.021947400145470298</td><td>24.484740289135747</td><td>752.6272481313235</td><td>5189.184</td><td>True</td></tr>\n",
       "<tr><td>30</td><td>2017.1.01578.S</td><td>de Boer, Jozua</td><td>HD_34282</td><td>0.04511976924847702</td><td>5.144369403829192</td><td>158.78494779570974</td><td>5007.743</td><td>True</td></tr>\n",
       "<tr><td>31</td><td>2017.1.01247.S</td><td>Dipierro, Giovanni</td><td>IRAS_16293-2422B</td><td>0.040729963277683516</td><td>34.89104183156073</td><td>376.91856595322446</td><td>4790.016</td><td>True</td></tr>\n",
       "<tr><td>32</td><td>2016.1.00362.S</td><td>Chen, Vivien</td><td>G33.92+0.11</td><td>0.0989787625083711</td><td>1.2574481915367917</td><td>158.4097070815919</td><td>4499.712</td><td>True</td></tr>\n",
       "<tr><td>33</td><td>2018.1.00458.S</td><td>Maud, Luke</td><td>W33A</td><td>0.023313807658612747</td><td>21.550814052889596</td><td>613.9705142062724</td><td>4463.424</td><td>True</td></tr>\n",
       "<tr><td>34</td><td>2016.1.00383.S</td><td>Hunter, Todd</td><td>NGC6334I</td><td>0.08482755720374721</td><td>1.4400162376846175</td><td>567.7680990548307</td><td>4427.136</td><td>True</td></tr>\n",
       "<tr><td>35</td><td>2018.1.01014.S</td><td>Cyganowski, Claudia</td><td>G14.33</td><td>0.09038618565375137</td><td>1.5897423700853488</td><td>383.2855225691506</td><td>4245.696</td><td>True</td></tr>\n",
       "<tr><td>36</td><td>2018.1.00641.S</td><td>Lu, Xing</td><td>c20kms_c4</td><td>0.02079366826190652</td><td>45.3078846045331</td><td>662.4681267349767</td><td>3919.104</td><td>True</td></tr>\n",
       "<tr><td>37</td><td>2018.1.01561.S</td><td>Zhang, Yichen</td><td>IRAS07299</td><td>0.04660704705967469</td><td>35.255321937038225</td><td>425.8156418862699</td><td>3900.96</td><td>True</td></tr>\n",
       "<tr><td>38</td><td>2018.1.00641.S</td><td>Lu, Xing</td><td>sgrc</td><td>0.020793652636183747</td><td>45.324558756067475</td><td>662.4681267349767</td><td>3882.816</td><td>True</td></tr>\n",
       "<tr><td>39</td><td>2018.1.00641.S</td><td>Lu, Xing</td><td>c20kms_c1</td><td>0.02079366875512931</td><td>45.92784340680188</td><td>662.4681267349767</td><td>3846.528</td><td>True</td></tr>\n",
       "<tr><td>40</td><td>2018.1.00495.S</td><td>Hunter, Todd</td><td>NGC6334I</td><td>0.038859140041629</td><td>5.794364965178103</td><td>567.7493544022118</td><td>3810.24</td><td>True</td></tr>\n",
       "<tr><td>41</td><td>2016.1.00970.S</td><td>Hirota, Tomoya</td><td>Orion_Source_I</td><td>0.047724228394605536</td><td>11.074175018182734</td><td>393.74409525789326</td><td>3326.4</td><td>True</td></tr>\n",
       "<tr><td>42</td><td>2019.1.00462.S</td><td>Walker, Daniel</td><td>e1</td><td>0.02314206113425365</td><td>25.48898474559261</td><td>765.6008090038739</td><td>2957.472</td><td>True</td></tr>\n",
       "<tr><td>43</td><td>2018.1.01660.S</td><td>Kraus, Stefan</td><td>IRAS13481-6124</td><td>0.019623931174868554</td><td>23.318653544250605</td><td>1409.665927148391</td><td>2848.608</td><td>True</td></tr>\n",
       "<tr><td>44</td><td>2018.1.00745.S</td><td>Moscadelli, Luca</td><td>G24.78+0.08</td><td>0.04236055238526238</td><td>5.284376327877121</td><td>663.304400777431</td><td>2830.464</td><td>True</td></tr>\n",
       "<tr><td>45</td><td>2016.1.00766.S</td><td>Walker, Daniel</td><td>G0.38+0.04</td><td>0.0676980490973122</td><td>20.279680948014732</td><td>421.32397041869666</td><td>2776.032</td><td>True</td></tr>\n",
       "<tr><td>46</td><td>2019.1.00571.S</td><td>Baek, Giseon</td><td>S255IR_NIRS3</td><td>0.04040115895604018</td><td>8.25051807445021</td><td>618.2208431906552</td><td>2721.6</td><td>True</td></tr>\n",
       "<tr><td>47</td><td>2016.1.00165.S</td><td>Bally, John</td><td>Orion_BNKL_source_I</td><td>0.016740080240211536</td><td>38.787797989261</td><td>978.0028006966232</td><td>2721.6</td><td>True</td></tr>\n",
       "<tr><td>48</td><td>2016.1.00550.S</td><td>Ginsburg, Adam</td><td>sgr_b2m</td><td>0.08192415189695122</td><td>16.9973372353492</td><td>3436.50712540598</td><td>2697.21</td><td>True</td></tr>\n",
       "<tr><td>49</td><td>2016.1.00340.S</td><td>Cazzoletti, Paolo</td><td>hd135344b</td><td>0.04059627849364873</td><td>20.481101213930565</td><td>2101.345460865188</td><td>2685.205</td><td>True</td></tr>\n",
       "<tr><td>50</td><td>2016.1.01147.S</td><td>Ilee, John</td><td>NGC6334in</td><td>0.09957501546862108</td><td>1.093193281618447</td><td>331.54725459891876</td><td>2576.448</td><td>True</td></tr>\n",
       "<tr><td>51</td><td>2015.1.01596.S</td><td>Goddi, Ciriaco</td><td>w51e2</td><td>0.02159656157372763</td><td>32.241564428710525</td><td>725.8529364199687</td><td>2522.016</td><td>True</td></tr>\n",
       "<tr><td>52</td><td>2015.1.00424.S</td><td>Kraus, Stefan</td><td>IRAS13481-6124</td><td>0.09368888145176038</td><td>1.0749310962300331</td><td>814.7509449145881</td><td>2509.92</td><td>True</td></tr>\n",
       "<tr><td>53</td><td>2015.1.01596.S</td><td>Goddi, Ciriaco</td><td>w51n</td><td>0.02159656199235678</td><td>32.204164698217554</td><td>725.8529364199687</td><td>2503.872</td><td>True</td></tr>\n",
       "<tr><td>54</td><td>2018.A.00065.T</td><td>Arabsalmani, Maryam</td><td>GRB_190829A</td><td>0.09508664437578822</td><td>1.375665985179105</td><td>591.5397173220299</td><td>2449.44</td><td>True</td></tr>\n",
       "<tr><td>55</td><td>2017.1.00261.S</td><td>Maud, Luke</td><td>W33A</td><td>0.02445720578206058</td><td>24.350860249626866</td><td>614.0035685237506</td><td>2231.712</td><td>True</td></tr>\n",
       "<tr><td>56</td><td>2019.1.00437.S</td><td>Ahmadi, Aida</td><td>S255_IRS3</td><td>0.02779929262586751</td><td>14.944613236896103</td><td>766.5216569046664</td><td>2213.568</td><td>True</td></tr>\n",
       "<tr><td>57</td><td>2016.1.01504.S</td><td>Kraus, Stefan</td><td>IRAS13481-6124</td><td>0.028637704147428868</td><td>8.398420325228601</td><td>814.6960438423704</td><td>2032.128</td><td>True</td></tr>\n",
       "<tr><td>58</td><td>2019.1.00437.S</td><td>Ahmadi, Aida</td><td>R_Mon</td><td>0.02325841435836297</td><td>26.47423178359893</td><td>766.5400221614296</td><td>2032.128</td><td>True</td></tr>\n",
       "<tr><td>59</td><td>2019.1.00437.S</td><td>Ahmadi, Aida</td><td>MWC_300</td><td>0.019114738764323846</td><td>39.1043653996251</td><td>766.5876695919678</td><td>1868.832</td><td>True</td></tr>\n",
       "<tr><td>60</td><td>2019.1.00437.S</td><td>Ahmadi, Aida</td><td>Mon_R2_IRS3_A</td><td>0.03204071690247246</td><td>12.339203127235692</td><td>766.5541776482949</td><td>1868.832</td><td>True</td></tr>\n",
       "<tr><td>61</td><td>2019.1.00437.S</td><td>Ahmadi, Aida</td><td>IRAS17216-3801</td><td>0.028504379609404672</td><td>14.63247679902126</td><td>766.5311842714914</td><td>1868.832</td><td>True</td></tr>\n",
       "<tr><td>62</td><td>2019.1.00437.S</td><td>Ahmadi, Aida</td><td>M8E-IR</td><td>0.02800541835807258</td><td>16.27156869867676</td><td>766.5997688909962</td><td>1832.544</td><td>True</td></tr>\n",
       "<tr><td>63</td><td>2017.1.00098.S</td><td>Maud, Luke</td><td>G17.64+0.16</td><td>0.019843536271151953</td><td>31.361850296496772</td><td>1339.214427443255</td><td>1814.4</td><td>True</td></tr>\n",
       "<tr><td>64</td><td>2016.1.01197.S</td><td>Maud, Luke</td><td>W33A</td><td>0.060098892588140794</td><td>2.000449159467067</td><td>419.9163403275092</td><td>1796.256</td><td>True</td></tr>\n",
       "<tr><td>65</td><td>2018.A.00031.T</td><td>Brogan, Crystal</td><td>G358.93</td><td>0.05136414413980812</td><td>7.179843883160922</td><td>182.21458592421473</td><td>1723.68</td><td>False</td></tr>\n",
       "<tr><td>66</td><td>2019.1.01693.S</td><td>Varga, Jozsef</td><td>HD_50138</td><td>0.021949618250126954</td><td>31.590664376372395</td><td>183.60535770187562</td><td>1596.672</td><td>True</td></tr>\n",
       "<tr><td>67</td><td>2017.1.00114.S</td><td>Ginsburg, Adam</td><td>Sgr_B2_DS</td><td>0.09249346616026326</td><td>2.8240952685105265</td><td>1341.1504344942384</td><td>1395.341</td><td>True</td></tr>\n",
       "<tr><td>68</td><td>2017.1.01678.S</td><td>van der Plas, Gerrit</td><td>hd_100453</td><td>0.09201153536762485</td><td>13.293868315686577</td><td>3755.5635586649073</td><td>1360.8</td><td>True</td></tr>\n",
       "<tr><td>69</td><td>2015.1.01163.S</td><td>Hunter, Todd</td><td>M17UC1</td><td>0.04841434525460627</td><td>13.643851209254649</td><td>383.2658695895616</td><td>1233.792</td><td>True</td></tr>\n",
       "<tr><td>70</td><td>2019.1.00910.S</td><td>Poorta, Johanna</td><td>Cl_star_NGC_6618_B243</td><td>0.031476962120645845</td><td>13.969019889394492</td><td>244.7819920174757</td><td>1233.792</td><td>True</td></tr>\n",
       "<tr><td>71</td><td>2019.1.00910.S</td><td>Poorta, Johanna</td><td>Cl_star_NGC6618_B331</td><td>0.03147696097054411</td><td>14.398759211340362</td><td>244.7819920174757</td><td>1161.205</td><td>True</td></tr>\n",
       "<tr><td>72</td><td>2019.1.00910.S</td><td>Poorta, Johanna</td><td>Cl_star_NGC6618_B268</td><td>0.03147696144334704</td><td>17.972454490447145</td><td>244.7819920174757</td><td>1124.928</td><td>True</td></tr>\n",
       "<tr><td>73</td><td>2019.1.00910.S</td><td>Poorta, Johanna</td><td>Cl_star_NGC6618_B275</td><td>0.03147696203518337</td><td>14.629278556006836</td><td>244.7819920174757</td><td>1124.928</td><td>True</td></tr>\n",
       "<tr><td>74</td><td>2016.1.01036.S</td><td>Sanhueza, Patricio</td><td>IRDC_182231243</td><td>0.0308172682511392</td><td>28.95800666043975</td><td>1325.1297111782144</td><td>1088.64</td><td>True</td></tr>\n",
       "<tr><td>75</td><td>2016.1.01036.S</td><td>Sanhueza, Patricio</td><td>IRAS_18182-1433</td><td>0.03081720375344174</td><td>30.365628238201175</td><td>1325.1297111782144</td><td>1088.64</td><td>True</td></tr>\n",
       "<tr><td>76</td><td>2016.1.01036.S</td><td>Sanhueza, Patricio</td><td>IRAS_181511208</td><td>0.030817284597929553</td><td>30.486209443107622</td><td>1325.1297111782144</td><td>1088.64</td><td>True</td></tr>\n",
       "<tr><td>77</td><td>2017.1.00237.S</td><td>Sanhueza, Patricio</td><td>G34.43+0.24MM2</td><td>0.04235900452476816</td><td>18.601478652721198</td><td>1325.0540847426673</td><td>979.776</td><td>True</td></tr>\n",
       "<tr><td>78</td><td>2017.1.00237.S</td><td>Sanhueza, Patricio</td><td>G35.13-0.74</td><td>0.04235908610286712</td><td>19.452876351033762</td><td>1325.0540847426673</td><td>979.776</td><td>True</td></tr>\n",
       "<tr><td>79</td><td>2016.1.01036.S</td><td>Sanhueza, Patricio</td><td>G34.43+0.24</td><td>0.042800198183471985</td><td>15.011189811605123</td><td>1325.0644043158386</td><td>943.488</td><td>True</td></tr>\n",
       "<tr><td>80</td><td>2016.1.01036.S</td><td>Sanhueza, Patricio</td><td>G35.03+0.35_A</td><td>0.042800231196959505</td><td>15.49779012679919</td><td>1325.0644043158386</td><td>943.488</td><td>True</td></tr>\n",
       "<tr><td>81</td><td>2019.1.01425.S</td><td>Reynolds, Nickalas</td><td>NGC1333IRAS2B</td><td>0.019453869979836454</td><td>88.63530727667339</td><td>331.97637996924493</td><td>925.344</td><td>True</td></tr>\n",
       "<tr><td>82</td><td>2016.1.01036.S</td><td>Sanhueza, Patricio</td><td>G35.20-0.74_N</td><td>0.0428002816708464</td><td>15.481633631912855</td><td>1325.0644043158386</td><td>925.344</td><td>True</td></tr>\n",
       "<tr><td>83</td><td>2019.1.01425.S</td><td>Reynolds, Nickalas</td><td>Per-emb-18</td><td>0.019453871080753315</td><td>88.67300207678988</td><td>331.97637996924493</td><td>925.344</td><td>True</td></tr>\n",
       "<tr><td>84</td><td>2019.1.01425.S</td><td>Reynolds, Nickalas</td><td>NGC1333IRAS2A</td><td>0.01945386965930874</td><td>88.5085382301435</td><td>331.97637996924493</td><td>925.344</td><td>True</td></tr>\n",
       "<tr><td>85</td><td>2019.1.01425.S</td><td>Reynolds, Nickalas</td><td>Per-emb-35</td><td>0.019453868908533588</td><td>88.4987532605255</td><td>331.97637996924493</td><td>925.344</td><td>True</td></tr>\n",
       "<tr><td>86</td><td>2019.1.01425.S</td><td>Reynolds, Nickalas</td><td>SVS13A</td><td>0.01945386981038714</td><td>91.68394072289469</td><td>331.97637996924493</td><td>925.344</td><td>True</td></tr>\n",
       "<tr><td>87</td><td>2016.1.01036.S</td><td>Sanhueza, Patricio</td><td>G29.96-0.02</td><td>0.042799926010200606</td><td>15.385486893120515</td><td>1325.0644043158386</td><td>907.2</td><td>True</td></tr>\n",
       "<tr><td>88</td><td>2019.1.01425.S</td><td>Reynolds, Nickalas</td><td>Per-emb-2</td><td>0.019453867211399193</td><td>91.00837282681701</td><td>331.97637996924493</td><td>870.912</td><td>True</td></tr>\n",
       "<tr><td>89</td><td>2019.1.01425.S</td><td>Reynolds, Nickalas</td><td>Per-emb-5</td><td>0.019453864478227997</td><td>91.03995482132234</td><td>331.97637996924493</td><td>870.912</td><td>True</td></tr>\n",
       "<tr><td>90</td><td>2016.1.01036.S</td><td>Sanhueza, Patricio</td><td>G11.92-0.61</td><td>0.039848060613470626</td><td>20.04857866026072</td><td>1325.1195201894923</td><td>816.48</td><td>True</td></tr>\n",
       "<tr><td>91</td><td>2016.1.01036.S</td><td>Sanhueza, Patricio</td><td>IRAS_181622048</td><td>0.03984805717063567</td><td>19.258270853132082</td><td>1325.1195201894923</td><td>816.48</td><td>True</td></tr>\n",
       "<tr><td>92</td><td>2016.1.01036.S</td><td>Sanhueza, Patricio</td><td>W33A</td><td>0.03984811011445398</td><td>19.258234022697565</td><td>1325.1195201894923</td><td>816.48</td><td>True</td></tr>\n",
       "<tr><td>93</td><td>2016.1.01036.S</td><td>Sanhueza, Patricio</td><td>G11.1-0.12</td><td>0.039847988151462024</td><td>20.203188838625422</td><td>1325.1195201894923</td><td>689.472</td><td>True</td></tr>\n",
       "<tr><td>94</td><td>2016.1.01036.S</td><td>Sanhueza, Patricio</td><td>G10.62-0.38</td><td>0.03984796715836824</td><td>20.203205833286727</td><td>1325.1195201894923</td><td>689.472</td><td>True</td></tr>\n",
       "<tr><td>95</td><td>2018.1.00252.S</td><td>Beltran, Maite</td><td>G31.41+0.31</td><td>0.04747427482032002</td><td>60.27027216397845</td><td>3441.562700847001</td><td>689.472</td><td>True</td></tr>\n",
       "<tr><td>96</td><td>2019.1.01425.S</td><td>Reynolds, Nickalas</td><td>Per-emb-22</td><td>0.019613709493585638</td><td>60.06464030594029</td><td>331.9762748670829</td><td>580.608</td><td>True</td></tr>\n",
       "<tr><td>97</td><td>2016.1.01036.S</td><td>Sanhueza, Patricio</td><td>G333.23-0.06</td><td>0.03984794048004794</td><td>13.944074161972267</td><td>1253.552879664914</td><td>580.608</td><td>True</td></tr>\n",
       "<tr><td>98</td><td>2019.1.01425.S</td><td>Reynolds, Nickalas</td><td>Per-emb-17</td><td>0.01961370263973616</td><td>60.01741100723401</td><td>331.9762748670829</td><td>580.608</td><td>True</td></tr>\n",
       "<tr><td>99</td><td>2016.1.01036.S</td><td>Sanhueza, Patricio</td><td>G335.579-0.272</td><td>0.03984805819039371</td><td>13.944007401505617</td><td>1253.552879664914</td><td>580.608</td><td>True</td></tr>\n",
       "<tr><td>100</td><td>2019.1.01425.S</td><td>Reynolds, Nickalas</td><td>L1448IRS1</td><td>0.019613710250318227</td><td>62.07312184214511</td><td>331.9762748670829</td><td>580.608</td><td>True</td></tr>\n",
       "<tr><td>101</td><td>2019.1.01425.S</td><td>Reynolds, Nickalas</td><td>L1448IRS3B</td><td>0.019613710221678852</td><td>60.28040497222476</td><td>331.9762748670829</td><td>580.608</td><td>True</td></tr>\n",
       "<tr><td>102</td><td>2019.1.01425.S</td><td>Reynolds, Nickalas</td><td>L1448IRS3C</td><td>0.019613709979769144</td><td>60.066321703076554</td><td>331.9762748670829</td><td>580.608</td><td>True</td></tr>\n",
       "<tr><td>103</td><td>2016.1.01036.S</td><td>Sanhueza, Patricio</td><td>NGC6334I</td><td>0.038841489777508086</td><td>15.07724978987475</td><td>1253.5315678985153</td><td>544.32</td><td>True</td></tr>\n",
       "<tr><td>104</td><td>2016.1.01036.S</td><td>Sanhueza, Patricio</td><td>NGC_6334_I_N</td><td>0.038841491110304806</td><td>14.709740954263527</td><td>1253.5315678985153</td><td>544.32</td><td>True</td></tr>\n",
       "<tr><td>105</td><td>2016.1.01036.S</td><td>Sanhueza, Patricio</td><td>IRAS_165623959</td><td>0.03884115242552561</td><td>15.077460139323287</td><td>1253.5315678985153</td><td>544.32</td><td>True</td></tr>\n",
       "<tr><td>106</td><td>2016.1.01036.S</td><td>Sanhueza, Patricio</td><td>IRAS_180891732</td><td>0.039848071999689226</td><td>19.56543289380724</td><td>1325.1195201894923</td><td>544.32</td><td>True</td></tr>\n",
       "<tr><td>107</td><td>2016.1.01036.S</td><td>Sanhueza, Patricio</td><td>G5.89-0.37</td><td>0.03984767357944569</td><td>20.2264372942354</td><td>1325.1195201894923</td><td>544.32</td><td>True</td></tr>\n",
       "<tr><td>108</td><td>2016.1.01036.S</td><td>Sanhueza, Patricio</td><td>IRAS_165474247</td><td>0.03884108298734715</td><td>14.770106806625966</td><td>1253.5315678985153</td><td>544.32</td><td>True</td></tr>\n",
       "<tr><td>109</td><td>2018.1.01538.S</td><td>Motogi, Kazuhito</td><td>G353.273+0.641</td><td>0.02187671460346394</td><td>53.63412868783195</td><td>728.6199920516242</td><td>526.176</td><td>True</td></tr>\n",
       "<tr><td>110</td><td>2017.1.00237.S</td><td>Sanhueza, Patricio</td><td>G333.46-0.16</td><td>0.044421209295735065</td><td>13.918913064990978</td><td>1253.542991258406</td><td>489.888</td><td>True</td></tr>\n",
       "<tr><td>111</td><td>2017.1.00237.S</td><td>Sanhueza, Patricio</td><td>G333.12-0.56</td><td>0.044421206081723404</td><td>13.91891469723544</td><td>1253.542991258406</td><td>489.888</td><td>True</td></tr>\n",
       "<tr><td>112</td><td>2017.1.00237.S</td><td>Sanhueza, Patricio</td><td>G335.78+0.17</td><td>0.04442133453651622</td><td>13.702958231963711</td><td>1253.542991258406</td><td>489.888</td><td>True</td></tr>\n",
       "<tr><td>113</td><td>2017.1.00237.S</td><td>Sanhueza, Patricio</td><td>G336.01-0.82</td><td>0.04442138654115444</td><td>13.918823050934705</td><td>1253.542991258406</td><td>489.888</td><td>True</td></tr>\n",
       "<tr><td>114</td><td>2017.1.00237.S</td><td>Sanhueza, Patricio</td><td>G24.60+0.08</td><td>0.04280019947982023</td><td>15.895605694984502</td><td>1253.4542298558822</td><td>471.744</td><td>True</td></tr>\n",
       "<tr><td>115</td><td>2017.1.00237.S</td><td>Sanhueza, Patricio</td><td>G351.77-0.54</td><td>0.0444219653697324</td><td>15.170683184742467</td><td>1253.5300015950363</td><td>471.744</td><td>True</td></tr>\n",
       "<tr><td>116</td><td>2017.1.00237.S</td><td>Sanhueza, Patricio</td><td>IRAS_18337-0743</td><td>0.04280020056848755</td><td>16.653550693433264</td><td>1253.4542298558822</td><td>471.744</td><td>True</td></tr>\n",
       "<tr><td>117</td><td>2017.1.00237.S</td><td>Sanhueza, Patricio</td><td>G343.12-0.06</td><td>0.04442138666744591</td><td>15.171003510652735</td><td>1253.5300015950363</td><td>471.744</td><td>True</td></tr>\n",
       "<tr><td>118</td><td>2019.1.01279.S</td><td>Liu, Mengyao</td><td>M17-UC1</td><td>0.06397999127066673</td><td>5.175959182745787</td><td>837.9351518326569</td><td>453.6</td><td>True</td></tr>\n",
       "<tr><td>119</td><td>2017.1.00237.S</td><td>Sanhueza, Patricio</td><td>G14.22-0.50_S</td><td>0.045944964460255665</td><td>10.134295272112638</td><td>1325.1203009225012</td><td>453.6</td><td>True</td></tr>\n",
       "<tr><td>120</td><td>2015.1.01163.S</td><td>Hunter, Todd</td><td>M17-IRS5</td><td>0.07265189612819871</td><td>5.317936139482336</td><td>361.99402980041066</td><td>393.12</td><td>True</td></tr>\n",
       "<tr><td>121</td><td>2016.1.01137.S</td><td>Wyrowski, Friedrich</td><td>NGC6334I</td><td>0.09650559278497814</td><td>4.223701943532813</td><td>502.7688747682114</td><td>393.12</td><td>True</td></tr>\n",
       "<tr><td>122</td><td>2016.1.01137.S</td><td>Wyrowski, Friedrich</td><td>IRAS17233</td><td>0.09650571903754435</td><td>3.632594160715972</td><td>502.7688747682114</td><td>393.12</td><td>True</td></tr>\n",
       "<tr><td>123</td><td>2016.1.01068.S</td><td>Motogi, Kazuhito</td><td>G353.273+0.641</td><td>0.05785185157476912</td><td>19.341585475648753</td><td>1882.0805161057258</td><td>308.448</td><td>True</td></tr>\n",
       "<tr><td>124</td><td>2013.1.00048.S</td><td>Hirota, Tomoya</td><td>Orion_Source_I</td><td>0.09556507488725119</td><td>8.917204963516776</td><td>587.1078567513507</td><td>302.4</td><td>True</td></tr>\n",
       "<tr><td>125</td><td>2015.1.01323.S</td><td>Mesa-Delgado, Adal</td><td>p104-593</td><td>0.02400420163601625</td><td>75.24909641442018</td><td>713.9333041258134</td><td>163.296</td><td>True</td></tr>\n",
       "<tr><td>126</td><td>2015.1.01323.S</td><td>Mesa-Delgado, Adal</td><td>Tr14_proplyds</td><td>0.024004199523892163</td><td>78.53357333786832</td><td>713.9333041258134</td><td>163.296</td><td>True</td></tr>\n",
       "<tr><td>127</td><td>2015.1.01323.S</td><td>Mesa-Delgado, Adal</td><td>p104-598</td><td>0.024004202538428703</td><td>78.00209317889102</td><td>713.9333041258134</td><td>163.296</td><td>True</td></tr>\n",
       "<tr><td>128</td><td>2015.1.01323.S</td><td>Mesa-Delgado, Adal</td><td>p105-600</td><td>0.024004181687079927</td><td>77.28465625522212</td><td>713.9333041258134</td><td>163.296</td><td>True</td></tr>\n",
       "<tr><td>129</td><td>2015.1.00357.S</td><td>Tan, Jonathan</td><td>G286_1</td><td>0.04115716562222184</td><td>115.27423321218542</td><td>45.72294173220015</td><td>142.431</td><td>True</td></tr>\n",
       "<tr><td>130</td><td>2015.1.00357.S</td><td>Tan, Jonathan</td><td>G286_2</td><td>0.041157163673916336</td><td>127.41469152764382</td><td>45.72279733202107</td><td>142.431</td><td>True</td></tr>\n",
       "</table><style>table.dataTable {clear: both; width: auto !important; margin: 0 !important;}\n",
       ".dataTables_info, .dataTables_length, .dataTables_filter, .dataTables_paginate{\n",
       "display: inline-block; margin-right: 1em; }\n",
       ".paginate_button { margin-right: 5px; }\n",
       "</style>\n",
       "<script>\n",
       "\n",
       "var astropy_sort_num = function(a, b) {\n",
       "    var a_num = parseFloat(a);\n",
       "    var b_num = parseFloat(b);\n",
       "\n",
       "    if (isNaN(a_num) && isNaN(b_num))\n",
       "        return ((a < b) ? -1 : ((a > b) ? 1 : 0));\n",
       "    else if (!isNaN(a_num) && !isNaN(b_num))\n",
       "        return ((a_num < b_num) ? -1 : ((a_num > b_num) ? 1 : 0));\n",
       "    else\n",
       "        return isNaN(a_num) ? -1 : 1;\n",
       "}\n",
       "\n",
       "require.config({paths: {\n",
       "    datatables: 'https://cdn.datatables.net/1.10.12/js/jquery.dataTables.min'\n",
       "}});\n",
       "require([\"datatables\"], function(){\n",
       "    console.log(\"$('#table47279543167824-421417').dataTable()\");\n",
       "    \n",
       "jQuery.extend( jQuery.fn.dataTableExt.oSort, {\n",
       "    \"optionalnum-asc\": astropy_sort_num,\n",
       "    \"optionalnum-desc\": function (a,b) { return -astropy_sort_num(a, b); }\n",
       "});\n",
       "\n",
       "    $('#table47279543167824-421417').dataTable({\n",
       "        order: [],\n",
       "        pageLength: 50,\n",
       "        lengthMenu: [[10, 25, 50, 100, 500, 1000, -1], [10, 25, 50, 100, 500, 1000, 'All']],\n",
       "        pagingType: \"full_numbers\",\n",
       "        columnDefs: [{targets: [0, 4, 5, 6, 7], type: \"optionalnum\"}]\n",
       "    });\n",
       "});\n",
       "</script>\n"
      ],
      "text/plain": [
       "<IPython.core.display.HTML object>"
      ]
     },
     "execution_count": 6,
     "metadata": {},
     "output_type": "execute_result"
    }
   ],
   "source": [
    "uniq, ind  = np.unique(result['target_name','proposal_id'], return_index=True)\n",
    "tb = result['proposal_id', 'obs_creator_name', 'target_name', 'spatial_resolution', 'Line sensitivity (K)', 'velocity_resolution', 't_exptime', 'Has salt'][ind]\n",
    "tb.sort('t_exptime')\n",
    "tb.write('lb_salts.txt', format='ascii.fixed_width')\n",
    "tb[::-1].show_in_notebook()"
   ]
  },
  {
   "cell_type": "code",
   "execution_count": 7,
   "metadata": {},
   "outputs": [
    {
     "data": {
      "text/plain": [
       "{'Ahmadi, Aida',\n",
       " 'Arabsalmani, Maryam',\n",
       " 'Baek, Giseon',\n",
       " 'Bally, John',\n",
       " 'Beltran, Maite',\n",
       " 'Brogan, Crystal',\n",
       " 'Cazzoletti, Paolo',\n",
       " 'Chen, Vivien',\n",
       " 'Cheng, Yu',\n",
       " 'Cyganowski, Claudia',\n",
       " 'Dipierro, Giovanni',\n",
       " 'Garay, Guido',\n",
       " 'Ginsburg, Adam',\n",
       " 'Goddi, Ciriaco',\n",
       " 'Guidi, Greta',\n",
       " 'Guzman-Fernandez, Andres',\n",
       " 'Hirota, Tomoya',\n",
       " 'Hunter, Todd',\n",
       " 'Ilee, John',\n",
       " 'Johnston, Katharine',\n",
       " 'Kraus, Stefan',\n",
       " 'Liu, Mengyao',\n",
       " 'Liu, Sheng-Yuan',\n",
       " 'Lu, Xing',\n",
       " 'Maud, Luke',\n",
       " 'Mesa-Delgado, Adal',\n",
       " 'Moscadelli, Luca',\n",
       " 'Motogi, Kazuhito',\n",
       " 'Perez, Sebastian',\n",
       " 'Poorta, Johanna',\n",
       " 'Reynolds, Nickalas',\n",
       " 'Rico Villas, Fernando',\n",
       " 'Sanchez-Monge, Alvaro',\n",
       " 'Sanhueza, Patricio',\n",
       " 'Tan, Jonathan',\n",
       " 'Varga, Jozsef',\n",
       " 'Walker, Daniel',\n",
       " 'Williams, Gwenllian',\n",
       " 'Wyrowski, Friedrich',\n",
       " 'Zhang, Qizhou',\n",
       " 'Zhang, Yichen',\n",
       " 'de Boer, Jozua',\n",
       " 'van der Plas, Gerrit'}"
      ]
     },
     "execution_count": 7,
     "metadata": {},
     "output_type": "execute_result"
    }
   ],
   "source": [
    "set(result['obs_creator_name'])"
   ]
  },
  {
   "cell_type": "code",
   "execution_count": 8,
   "metadata": {},
   "outputs": [
    {
     "data": {
      "text/html": [
       "<i>Table length=131</i>\n",
       "<table id=\"table47279541938448-640121\" class=\"table-striped table-bordered table-condensed\">\n",
       "<thead><tr><th>idx</th><th>proposal_id</th><th>obs_creator_name</th><th>target_name</th><th>spatial_resolution</th><th>Line sensitivity (K)</th><th>velocity_resolution</th><th>t_exptime</th><th>Has salt</th></tr></thead>\n",
       "<thead><tr><th></th><th></th><th></th><th></th><th>arcsec</th><th>K</th><th>m / s</th><th>s</th><th></th></tr></thead>\n",
       "<tr><td>0</td><td>2017.1.00700.S</td><td>Johnston, Katharine</td><td>AFGL_4176</td><td>0.018030410624493082</td><td>27.2672737613064</td><td>353.5748715240327</td><td>7566.048</td><td>True</td></tr>\n",
       "<tr><td>1</td><td>2019.1.00910.S</td><td>Poorta, Johanna</td><td>Cl_star_NGC6618_B268</td><td>0.03147696144334704</td><td>17.972454490447145</td><td>244.7819920174757</td><td>1124.928</td><td>True</td></tr>\n",
       "<tr><td>2</td><td>2019.1.00910.S</td><td>Poorta, Johanna</td><td>Cl_star_NGC6618_B275</td><td>0.03147696203518337</td><td>14.629278556006836</td><td>244.7819920174757</td><td>1124.928</td><td>True</td></tr>\n",
       "<tr><td>3</td><td>2019.1.00910.S</td><td>Poorta, Johanna</td><td>Cl_star_NGC6618_B331</td><td>0.03147696097054411</td><td>14.398759211340362</td><td>244.7819920174757</td><td>1161.205</td><td>True</td></tr>\n",
       "<tr><td>4</td><td>2019.1.00910.S</td><td>Poorta, Johanna</td><td>Cl_star_NGC_6618_B243</td><td>0.031476962120645845</td><td>13.969019889394492</td><td>244.7819920174757</td><td>1233.792</td><td>True</td></tr>\n",
       "<tr><td>5</td><td>2016.1.00766.S</td><td>Walker, Daniel</td><td>G0.38+0.04</td><td>0.0676980490973122</td><td>20.279680948014732</td><td>421.32397041869666</td><td>2776.032</td><td>True</td></tr>\n",
       "<tr><td>6</td><td>2016.1.01036.S</td><td>Sanhueza, Patricio</td><td>G10.62-0.38</td><td>0.03984796715836824</td><td>20.203205833286727</td><td>1325.1195201894923</td><td>689.472</td><td>True</td></tr>\n",
       "<tr><td>7</td><td>2019.1.00402.S</td><td>Zhang, Qizhou</td><td>G10p6</td><td>0.019334875332016544</td><td>29.490158900936827</td><td>1452.844204537984</td><td>11902.464</td><td>True</td></tr>\n",
       "<tr><td>8</td><td>2016.1.01036.S</td><td>Sanhueza, Patricio</td><td>G11.1-0.12</td><td>0.039847988151462024</td><td>20.203188838625422</td><td>1325.1195201894923</td><td>689.472</td><td>True</td></tr>\n",
       "<tr><td>9</td><td>2016.1.01036.S</td><td>Sanhueza, Patricio</td><td>G11.92-0.61</td><td>0.039848060613470626</td><td>20.04857866026072</td><td>1325.1195201894923</td><td>816.48</td><td>True</td></tr>\n",
       "<tr><td>10</td><td>2016.1.01147.S</td><td>Ilee, John</td><td>G11.92-0.61</td><td>0.09247983196197204</td><td>1.0073663392579701</td><td>331.58290476486866</td><td>5951.232</td><td>True</td></tr>\n",
       "<tr><td>11</td><td>2018.1.01010.S</td><td>Ilee, John</td><td>G11.92-0.61_MM1</td><td>0.039884015473703675</td><td>6.946841181237427</td><td>614.1360069548272</td><td>13335.84</td><td>True</td></tr>\n",
       "<tr><td>12</td><td>2017.1.00237.S</td><td>Sanhueza, Patricio</td><td>G14.22-0.50_S</td><td>0.045944964460255665</td><td>10.134295272112638</td><td>1325.1203009225012</td><td>453.6</td><td>True</td></tr>\n",
       "<tr><td>13</td><td>2018.1.01014.S</td><td>Cyganowski, Claudia</td><td>G14.33</td><td>0.09038618565375137</td><td>1.5897423700853488</td><td>383.2855225691506</td><td>4245.696</td><td>True</td></tr>\n",
       "<tr><td>14</td><td>2017.1.00098.S</td><td>Maud, Luke</td><td>G17.64+0.16</td><td>0.019843536271151953</td><td>31.361850296496772</td><td>1339.214427443255</td><td>1814.4</td><td>True</td></tr>\n",
       "<tr><td>15</td><td>2018.1.01524.S</td><td>Maud, Luke</td><td>G17.64+0.16</td><td>0.019412216455993416</td><td>27.170840479742193</td><td>1256.1597901233827</td><td>8110.368</td><td>True</td></tr>\n",
       "<tr><td>16</td><td>2018.1.01441.S</td><td>Williams, Gwenllian</td><td>G19.01-0.03</td><td>0.09540051800522666</td><td>1.2268677910513488</td><td>383.3278108179169</td><td>7239.456</td><td>True</td></tr>\n",
       "<tr><td>17</td><td>2017.1.00237.S</td><td>Sanhueza, Patricio</td><td>G24.60+0.08</td><td>0.04280019947982023</td><td>15.895605694984502</td><td>1253.4542298558822</td><td>471.744</td><td>True</td></tr>\n",
       "<tr><td>18</td><td>2018.1.00745.S</td><td>Moscadelli, Luca</td><td>G24.78+0.08</td><td>0.04236055238526238</td><td>5.284376327877121</td><td>663.304400777431</td><td>2830.464</td><td>True</td></tr>\n",
       "<tr><td>19</td><td>2017.1.01552.S</td><td>Cheng, Yu</td><td>G286</td><td>0.01927625775768028</td><td>28.287207111205838</td><td>192.6446310915769</td><td>10378.368</td><td>True</td></tr>\n",
       "<tr><td>20</td><td>2015.1.00357.S</td><td>Tan, Jonathan</td><td>G286_1</td><td>0.04115716562222184</td><td>115.27423321218542</td><td>45.72294173220015</td><td>142.431</td><td>True</td></tr>\n",
       "<tr><td>21</td><td>2015.1.00357.S</td><td>Tan, Jonathan</td><td>G286_2</td><td>0.041157163673916336</td><td>127.41469152764382</td><td>45.72279733202107</td><td>142.431</td><td>True</td></tr>\n",
       "<tr><td>22</td><td>2016.1.01036.S</td><td>Sanhueza, Patricio</td><td>G29.96-0.02</td><td>0.042799926010200606</td><td>15.385486893120515</td><td>1325.0644043158386</td><td>907.2</td><td>True</td></tr>\n",
       "<tr><td>23</td><td>2016.1.00223.S</td><td>Beltran, Maite</td><td>G31.41+0.31</td><td>0.09487284788256904</td><td>1.0002589685631844</td><td>663.2810523270957</td><td>7620.48</td><td>True</td></tr>\n",
       "<tr><td>24</td><td>2018.1.00252.S</td><td>Beltran, Maite</td><td>G31.41+0.31</td><td>0.04747427482032002</td><td>60.27027216397845</td><td>3441.562700847001</td><td>689.472</td><td>True</td></tr>\n",
       "<tr><td>25</td><td>2018.1.00632.S</td><td>Beltran, Maite</td><td>G31.41+0.31</td><td>0.05955497912393269</td><td>21.80255419112956</td><td>6536.190560418308</td><td>10432.8</td><td>True</td></tr>\n",
       "<tr><td>26</td><td>2016.1.00362.S</td><td>Chen, Vivien</td><td>G33.92+0.11</td><td>0.0989787625083711</td><td>1.2574481915367917</td><td>158.4097070815919</td><td>4499.712</td><td>True</td></tr>\n",
       "<tr><td>27</td><td>2018.1.00262.S</td><td>Chen, Vivien</td><td>G33.92+0.11</td><td>0.01929435057555484</td><td>26.805001028078593</td><td>1450.6705868161027</td><td>7947.072</td><td>True</td></tr>\n",
       "<tr><td>28</td><td>2017.1.00237.S</td><td>Sanhueza, Patricio</td><td>G333.12-0.56</td><td>0.044421206081723404</td><td>13.91891469723544</td><td>1253.542991258406</td><td>489.888</td><td>True</td></tr>\n",
       "<tr><td>29</td><td>2016.1.01036.S</td><td>Sanhueza, Patricio</td><td>G333.23-0.06</td><td>0.03984794048004794</td><td>13.944074161972267</td><td>1253.552879664914</td><td>580.608</td><td>True</td></tr>\n",
       "<tr><td>30</td><td>2017.1.00237.S</td><td>Sanhueza, Patricio</td><td>G333.46-0.16</td><td>0.044421209295735065</td><td>13.918913064990978</td><td>1253.542991258406</td><td>489.888</td><td>True</td></tr>\n",
       "<tr><td>31</td><td>2016.1.01036.S</td><td>Sanhueza, Patricio</td><td>G335.579-0.272</td><td>0.03984805819039371</td><td>13.944007401505617</td><td>1253.552879664914</td><td>580.608</td><td>True</td></tr>\n",
       "<tr><td>32</td><td>2017.1.00237.S</td><td>Sanhueza, Patricio</td><td>G335.78+0.17</td><td>0.04442133453651622</td><td>13.702958231963711</td><td>1253.542991258406</td><td>489.888</td><td>True</td></tr>\n",
       "<tr><td>33</td><td>2017.1.00237.S</td><td>Sanhueza, Patricio</td><td>G336.01-0.82</td><td>0.04442138654115444</td><td>13.918823050934705</td><td>1253.542991258406</td><td>489.888</td><td>True</td></tr>\n",
       "<tr><td>34</td><td>2019.1.00517.S</td><td>Zhang, Yichen</td><td>G339.88-1.26</td><td>0.04312822637922199</td><td>5.575916107772292</td><td>563.3396301968198</td><td>19813.248</td><td>True</td></tr>\n",
       "<tr><td>35</td><td>2016.1.01036.S</td><td>Sanhueza, Patricio</td><td>G34.43+0.24</td><td>0.042800198183471985</td><td>15.011189811605123</td><td>1325.0644043158386</td><td>943.488</td><td>True</td></tr>\n",
       "<tr><td>36</td><td>2017.1.00237.S</td><td>Sanhueza, Patricio</td><td>G34.43+0.24MM2</td><td>0.04235900452476816</td><td>18.601478652721198</td><td>1325.0540847426673</td><td>979.776</td><td>True</td></tr>\n",
       "<tr><td>37</td><td>2017.1.00237.S</td><td>Sanhueza, Patricio</td><td>G343.12-0.06</td><td>0.04442138666744591</td><td>15.171003510652735</td><td>1253.5300015950363</td><td>471.744</td><td>True</td></tr>\n",
       "<tr><td>38</td><td>2018.1.00385.S</td><td>Guzman-Fernandez, Andres</td><td>G345.49+1.47</td><td>0.021947400145470298</td><td>24.484740289135747</td><td>752.6272481313235</td><td>5189.184</td><td>True</td></tr>\n",
       "<tr><td>39</td><td>2016.1.01036.S</td><td>Sanhueza, Patricio</td><td>G35.03+0.35_A</td><td>0.042800231196959505</td><td>15.49779012679919</td><td>1325.0644043158386</td><td>943.488</td><td>True</td></tr>\n",
       "<tr><td>40</td><td>2017.1.00237.S</td><td>Sanhueza, Patricio</td><td>G35.13-0.74</td><td>0.04235908610286712</td><td>19.452876351033762</td><td>1325.0540847426673</td><td>979.776</td><td>True</td></tr>\n",
       "<tr><td>41</td><td>2016.1.01036.S</td><td>Sanhueza, Patricio</td><td>G35.20-0.74_N</td><td>0.0428002816708464</td><td>15.481633631912855</td><td>1325.0644043158386</td><td>925.344</td><td>True</td></tr>\n",
       "<tr><td>42</td><td>2017.1.00237.S</td><td>Sanhueza, Patricio</td><td>G351.77-0.54</td><td>0.0444219653697324</td><td>15.170683184742467</td><td>1253.5300015950363</td><td>471.744</td><td>True</td></tr>\n",
       "<tr><td>43</td><td>2016.1.01068.S</td><td>Motogi, Kazuhito</td><td>G353.273+0.641</td><td>0.05785185157476912</td><td>19.341585475648753</td><td>1882.0805161057258</td><td>308.448</td><td>True</td></tr>\n",
       "<tr><td>44</td><td>2018.1.01538.S</td><td>Motogi, Kazuhito</td><td>G353.273+0.641</td><td>0.02187671460346394</td><td>53.63412868783195</td><td>728.6199920516242</td><td>526.176</td><td>True</td></tr>\n",
       "<tr><td>45</td><td>2018.A.00031.T</td><td>Brogan, Crystal</td><td>G358.93</td><td>0.05136414413980812</td><td>7.179843883160922</td><td>182.21458592421473</td><td>1723.68</td><td>False</td></tr>\n",
       "<tr><td>46</td><td>2016.1.01036.S</td><td>Sanhueza, Patricio</td><td>G5.89-0.37</td><td>0.03984767357944569</td><td>20.2264372942354</td><td>1325.1195201894923</td><td>544.32</td><td>True</td></tr>\n",
       "<tr><td>47</td><td>2018.A.00065.T</td><td>Arabsalmani, Maryam</td><td>GRB_190829A</td><td>0.09508664437578822</td><td>1.375665985179105</td><td>591.5397173220299</td><td>2449.44</td><td>True</td></tr>\n",
       "<tr><td>48</td><td>2016.1.00344.S</td><td>Perez, Sebastian</td><td>HD100546</td><td>0.029809538706468436</td><td>13.88412992585906</td><td>157.6053948294634</td><td>7021.635</td><td>True</td></tr>\n",
       "<tr><td>49</td><td>2018.1.01309.S</td><td>Perez, Sebastian</td><td>HD100546</td><td>0.019347574811558133</td><td>29.409521160570225</td><td>157.59836371771783</td><td>17741.877</td><td>True</td></tr>\n",
       "<tr><td>50</td><td>2016.1.00344.S</td><td>Perez, Sebastian</td><td>HD169142</td><td>0.026601531253361906</td><td>15.985704999309531</td><td>157.60011681018537</td><td>7890.496</td><td>True</td></tr>\n",
       "<tr><td>51</td><td>2017.1.01678.S</td><td>van der Plas, Gerrit</td><td>HD_100453</td><td>0.01954751256675677</td><td>25.28897888661658</td><td>158.7825317593012</td><td>5624.222</td><td>True</td></tr>\n",
       "<tr><td>52</td><td>2017.1.01682.S</td><td>Guidi, Greta</td><td>HD_163296</td><td>0.05865960473035144</td><td>8.609813592715392</td><td>71.97802859424694</td><td>5442.95</td><td>True</td></tr>\n",
       "<tr><td>53</td><td>2017.1.01578.S</td><td>de Boer, Jozua</td><td>HD_34282</td><td>0.04511976924847702</td><td>5.144369403829192</td><td>158.78494779570974</td><td>5007.743</td><td>True</td></tr>\n",
       "<tr><td>54</td><td>2019.1.01693.S</td><td>Varga, Jozsef</td><td>HD_50138</td><td>0.021949618250126954</td><td>31.590664376372395</td><td>183.60535770187562</td><td>1596.672</td><td>True</td></tr>\n",
       "<tr><td>55</td><td>2016.1.00826.S</td><td>van der Plas, Gerrit</td><td>HD_97048</td><td>0.03117830477697691</td><td>9.238035900529505</td><td>221.25100120413117</td><td>7977.431</td><td>True</td></tr>\n",
       "<tr><td>56</td><td>2019.1.01463.S</td><td>Cheng, Yu</td><td>I18308c1</td><td>0.019468386564158256</td><td>34.321483566371946</td><td>662.6576069106526</td><td>10305.792</td><td>True</td></tr>\n",
       "<tr><td>57</td><td>2019.1.01463.S</td><td>Cheng, Yu</td><td>I18337c3</td><td>0.019279803405638285</td><td>28.255743585728965</td><td>662.6136438310068</td><td>7729.344</td><td>True</td></tr>\n",
       "<tr><td>58</td><td>2019.1.01463.S</td><td>Cheng, Yu</td><td>I19368c1</td><td>0.019071975407213667</td><td>33.83515539324227</td><td>662.5370965175579</td><td>14805.504</td><td>True</td></tr>\n",
       "<tr><td>59</td><td>2016.1.01152.S</td><td>Sanchez-Monge, Alvaro</td><td>I19520</td><td>0.0880778830486184</td><td>9.760532128286394</td><td>226.93375804851243</td><td>5842.368</td><td>True</td></tr>\n",
       "<tr><td>60</td><td>2018.1.01561.S</td><td>Zhang, Yichen</td><td>IRAS07299</td><td>0.04660704705967469</td><td>35.255321937038225</td><td>425.8156418862699</td><td>3900.96</td><td>True</td></tr>\n",
       "<tr><td>61</td><td>2015.1.00424.S</td><td>Kraus, Stefan</td><td>IRAS13481-6124</td><td>0.09368888145176038</td><td>1.0749310962300331</td><td>814.7509449145881</td><td>2509.92</td><td>True</td></tr>\n",
       "<tr><td>62</td><td>2016.1.01504.S</td><td>Kraus, Stefan</td><td>IRAS13481-6124</td><td>0.028637704147428868</td><td>8.398420325228601</td><td>814.6960438423704</td><td>2032.128</td><td>True</td></tr>\n",
       "<tr><td>63</td><td>2017.1.01489.S</td><td>Kraus, Stefan</td><td>IRAS13481-6124</td><td>0.056874372393528334</td><td>22.907058454505023</td><td>3395.4845072711228</td><td>6132.672</td><td>True</td></tr>\n",
       "<tr><td>64</td><td>2018.1.01660.S</td><td>Kraus, Stefan</td><td>IRAS13481-6124</td><td>0.019623931174868554</td><td>23.318653544250605</td><td>1409.665927148391</td><td>2848.608</td><td>True</td></tr>\n",
       "<tr><td>65</td><td>2019.1.00437.S</td><td>Ahmadi, Aida</td><td>IRAS17216-3801</td><td>0.028504379609404672</td><td>14.63247679902126</td><td>766.5311842714914</td><td>1868.832</td><td>True</td></tr>\n",
       "<tr><td>66</td><td>2016.1.01137.S</td><td>Wyrowski, Friedrich</td><td>IRAS17233</td><td>0.09650571903754435</td><td>3.632594160715972</td><td>502.7688747682114</td><td>393.12</td><td>True</td></tr>\n",
       "<tr><td>67</td><td>2017.1.01247.S</td><td>Dipierro, Giovanni</td><td>IRAS_16293-2422B</td><td>0.040729963277683516</td><td>34.89104183156073</td><td>376.91856595322446</td><td>4790.016</td><td>True</td></tr>\n",
       "<tr><td>68</td><td>2016.1.01036.S</td><td>Sanhueza, Patricio</td><td>IRAS_165474247</td><td>0.03884108298734715</td><td>14.770106806625966</td><td>1253.5315678985153</td><td>544.32</td><td>True</td></tr>\n",
       "<tr><td>69</td><td>2016.1.01036.S</td><td>Sanhueza, Patricio</td><td>IRAS_165623959</td><td>0.03884115242552561</td><td>15.077460139323287</td><td>1253.5315678985153</td><td>544.32</td><td>True</td></tr>\n",
       "<tr><td>70</td><td>2016.1.01036.S</td><td>Sanhueza, Patricio</td><td>IRAS_180891732</td><td>0.039848071999689226</td><td>19.56543289380724</td><td>1325.1195201894923</td><td>544.32</td><td>True</td></tr>\n",
       "<tr><td>71</td><td>2016.1.01036.S</td><td>Sanhueza, Patricio</td><td>IRAS_181511208</td><td>0.030817284597929553</td><td>30.486209443107622</td><td>1325.1297111782144</td><td>1088.64</td><td>True</td></tr>\n",
       "<tr><td>72</td><td>2016.1.01036.S</td><td>Sanhueza, Patricio</td><td>IRAS_181622048</td><td>0.03984805717063567</td><td>19.258270853132082</td><td>1325.1195201894923</td><td>816.48</td><td>True</td></tr>\n",
       "<tr><td>73</td><td>2016.1.01036.S</td><td>Sanhueza, Patricio</td><td>IRAS_18182-1433</td><td>0.03081720375344174</td><td>30.365628238201175</td><td>1325.1297111782144</td><td>1088.64</td><td>True</td></tr>\n",
       "<tr><td>74</td><td>2017.1.00237.S</td><td>Sanhueza, Patricio</td><td>IRAS_18337-0743</td><td>0.04280020056848755</td><td>16.653550693433264</td><td>1253.4542298558822</td><td>471.744</td><td>True</td></tr>\n",
       "<tr><td>75</td><td>2016.1.01036.S</td><td>Sanhueza, Patricio</td><td>IRDC_182231243</td><td>0.0308172682511392</td><td>28.95800666043975</td><td>1325.1297111782144</td><td>1088.64</td><td>True</td></tr>\n",
       "<tr><td>76</td><td>2019.1.01425.S</td><td>Reynolds, Nickalas</td><td>L1448IRS1</td><td>0.019613710250318227</td><td>62.07312184214511</td><td>331.9762748670829</td><td>580.608</td><td>True</td></tr>\n",
       "<tr><td>77</td><td>2019.1.01425.S</td><td>Reynolds, Nickalas</td><td>L1448IRS3B</td><td>0.019613710221678852</td><td>60.28040497222476</td><td>331.9762748670829</td><td>580.608</td><td>True</td></tr>\n",
       "<tr><td>78</td><td>2019.1.01425.S</td><td>Reynolds, Nickalas</td><td>L1448IRS3C</td><td>0.019613709979769144</td><td>60.066321703076554</td><td>331.9762748670829</td><td>580.608</td><td>True</td></tr>\n",
       "<tr><td>79</td><td>2015.1.01163.S</td><td>Hunter, Todd</td><td>M17-IRS5</td><td>0.07265189612819871</td><td>5.317936139482336</td><td>361.99402980041066</td><td>393.12</td><td>True</td></tr>\n",
       "<tr><td>80</td><td>2019.1.01279.S</td><td>Liu, Mengyao</td><td>M17-UC1</td><td>0.06397999127066673</td><td>5.175959182745787</td><td>837.9351518326569</td><td>453.6</td><td>True</td></tr>\n",
       "<tr><td>81</td><td>2015.1.01163.S</td><td>Hunter, Todd</td><td>M17UC1</td><td>0.04841434525460627</td><td>13.643851209254649</td><td>383.2658695895616</td><td>1233.792</td><td>True</td></tr>\n",
       "<tr><td>82</td><td>2019.1.00437.S</td><td>Ahmadi, Aida</td><td>M8E-IR</td><td>0.02800541835807258</td><td>16.27156869867676</td><td>766.5997688909962</td><td>1832.544</td><td>True</td></tr>\n",
       "<tr><td>83</td><td>2019.1.00437.S</td><td>Ahmadi, Aida</td><td>MWC_300</td><td>0.019114738764323846</td><td>39.1043653996251</td><td>766.5876695919678</td><td>1868.832</td><td>True</td></tr>\n",
       "<tr><td>84</td><td>2019.1.00437.S</td><td>Ahmadi, Aida</td><td>Mon_R2_IRS3_A</td><td>0.03204071690247246</td><td>12.339203127235692</td><td>766.5541776482949</td><td>1868.832</td><td>True</td></tr>\n",
       "<tr><td>85</td><td>2019.1.01425.S</td><td>Reynolds, Nickalas</td><td>NGC1333IRAS2A</td><td>0.01945386965930874</td><td>88.5085382301435</td><td>331.97637996924493</td><td>925.344</td><td>True</td></tr>\n",
       "<tr><td>86</td><td>2019.1.01425.S</td><td>Reynolds, Nickalas</td><td>NGC1333IRAS2B</td><td>0.019453869979836454</td><td>88.63530727667339</td><td>331.97637996924493</td><td>925.344</td><td>True</td></tr>\n",
       "<tr><td>87</td><td>2016.1.00383.S</td><td>Hunter, Todd</td><td>NGC6334I</td><td>0.08482755720374721</td><td>1.4400162376846175</td><td>567.7680990548307</td><td>4427.136</td><td>True</td></tr>\n",
       "<tr><td>88</td><td>2016.1.01036.S</td><td>Sanhueza, Patricio</td><td>NGC6334I</td><td>0.038841489777508086</td><td>15.07724978987475</td><td>1253.5315678985153</td><td>544.32</td><td>True</td></tr>\n",
       "<tr><td>89</td><td>2016.1.01137.S</td><td>Wyrowski, Friedrich</td><td>NGC6334I</td><td>0.09650559278497814</td><td>4.223701943532813</td><td>502.7688747682114</td><td>393.12</td><td>True</td></tr>\n",
       "<tr><td>90</td><td>2018.1.00495.S</td><td>Hunter, Todd</td><td>NGC6334I</td><td>0.038859140041629</td><td>5.794364965178103</td><td>567.7493544022118</td><td>3810.24</td><td>True</td></tr>\n",
       "<tr><td>91</td><td>2016.1.01147.S</td><td>Ilee, John</td><td>NGC6334in</td><td>0.09957501546862108</td><td>1.093193281618447</td><td>331.54725459891876</td><td>2576.448</td><td>True</td></tr>\n",
       "<tr><td>92</td><td>2019.1.00713.S</td><td>Rico Villas, Fernando</td><td>NGC_1068</td><td>0.02705263418110272</td><td>15.124059463777634</td><td>1439.0813506395791</td><td>11757.312</td><td>True</td></tr>\n",
       "<tr><td>93</td><td>2016.1.01036.S</td><td>Sanhueza, Patricio</td><td>NGC_6334_I_N</td><td>0.038841491110304806</td><td>14.709740954263527</td><td>1253.5315678985153</td><td>544.32</td><td>True</td></tr>\n",
       "<tr><td>94</td><td>2016.1.00165.S</td><td>Bally, John</td><td>Orion_BNKL_source_I</td><td>0.016740080240211536</td><td>38.787797989261</td><td>978.0028006966232</td><td>2721.6</td><td>True</td></tr>\n",
       "<tr><td>95</td><td>2013.1.00048.S</td><td>Hirota, Tomoya</td><td>Orion_Source_I</td><td>0.09556507488725119</td><td>8.917204963516776</td><td>587.1078567513507</td><td>302.4</td><td>True</td></tr>\n",
       "<tr><td>96</td><td>2016.1.00970.S</td><td>Hirota, Tomoya</td><td>Orion_Source_I</td><td>0.047724228394605536</td><td>11.074175018182734</td><td>393.74409525789326</td><td>3326.4</td><td>True</td></tr>\n",
       "<tr><td>97</td><td>2019.1.01425.S</td><td>Reynolds, Nickalas</td><td>Per-emb-17</td><td>0.01961370263973616</td><td>60.01741100723401</td><td>331.9762748670829</td><td>580.608</td><td>True</td></tr>\n",
       "<tr><td>98</td><td>2019.1.01425.S</td><td>Reynolds, Nickalas</td><td>Per-emb-18</td><td>0.019453871080753315</td><td>88.67300207678988</td><td>331.97637996924493</td><td>925.344</td><td>True</td></tr>\n",
       "<tr><td>99</td><td>2019.1.01425.S</td><td>Reynolds, Nickalas</td><td>Per-emb-2</td><td>0.019453867211399193</td><td>91.00837282681701</td><td>331.97637996924493</td><td>870.912</td><td>True</td></tr>\n",
       "<tr><td>100</td><td>2019.1.01425.S</td><td>Reynolds, Nickalas</td><td>Per-emb-22</td><td>0.019613709493585638</td><td>60.06464030594029</td><td>331.9762748670829</td><td>580.608</td><td>True</td></tr>\n",
       "<tr><td>101</td><td>2019.1.01425.S</td><td>Reynolds, Nickalas</td><td>Per-emb-35</td><td>0.019453868908533588</td><td>88.4987532605255</td><td>331.97637996924493</td><td>925.344</td><td>True</td></tr>\n",
       "<tr><td>102</td><td>2019.1.01425.S</td><td>Reynolds, Nickalas</td><td>Per-emb-5</td><td>0.019453864478227997</td><td>91.03995482132234</td><td>331.97637996924493</td><td>870.912</td><td>True</td></tr>\n",
       "<tr><td>103</td><td>2019.1.00437.S</td><td>Ahmadi, Aida</td><td>R_Mon</td><td>0.02325841435836297</td><td>26.47423178359893</td><td>766.5400221614296</td><td>2032.128</td><td>True</td></tr>\n",
       "<tr><td>104</td><td>2019.1.00571.S</td><td>Baek, Giseon</td><td>S255IR_NIRS3</td><td>0.04040115895604018</td><td>8.25051807445021</td><td>618.2208431906552</td><td>2721.6</td><td>True</td></tr>\n",
       "<tr><td>105</td><td>2015.1.00500.S</td><td>Liu, Sheng-Yuan</td><td>S255_IR</td><td>0.07525673210466478</td><td>1.3860184188405476</td><td>215.22315722627167</td><td>7711.2</td><td>True</td></tr>\n",
       "<tr><td>106</td><td>2019.1.00315.S</td><td>Liu, Sheng-Yuan</td><td>S255_IR</td><td>0.07102289692946182</td><td>1.365640741227132</td><td>215.23872257302784</td><td>5503.68</td><td>True</td></tr>\n",
       "<tr><td>107</td><td>2019.1.00437.S</td><td>Ahmadi, Aida</td><td>S255_IRS3</td><td>0.02779929262586751</td><td>14.944613236896103</td><td>766.5216569046664</td><td>2213.568</td><td>True</td></tr>\n",
       "<tr><td>108</td><td>2019.1.01425.S</td><td>Reynolds, Nickalas</td><td>SVS13A</td><td>0.01945386981038714</td><td>91.68394072289469</td><td>331.97637996924493</td><td>925.344</td><td>True</td></tr>\n",
       "<tr><td>109</td><td>2017.1.00114.S</td><td>Ginsburg, Adam</td><td>Sgr_B2_DS</td><td>0.09249346616026326</td><td>2.8240952685105265</td><td>1341.1504344942384</td><td>1395.341</td><td>True</td></tr>\n",
       "<tr><td>110</td><td>2015.1.01323.S</td><td>Mesa-Delgado, Adal</td><td>Tr14_proplyds</td><td>0.024004199523892163</td><td>78.53357333786832</td><td>713.9333041258134</td><td>163.296</td><td>True</td></tr>\n",
       "<tr><td>111</td><td>2016.1.01036.S</td><td>Sanhueza, Patricio</td><td>W33A</td><td>0.03984811011445398</td><td>19.258234022697565</td><td>1325.1195201894923</td><td>816.48</td><td>True</td></tr>\n",
       "<tr><td>112</td><td>2016.1.01197.S</td><td>Maud, Luke</td><td>W33A</td><td>0.060098892588140794</td><td>2.000449159467067</td><td>419.9163403275092</td><td>1796.256</td><td>True</td></tr>\n",
       "<tr><td>113</td><td>2017.1.00261.S</td><td>Maud, Luke</td><td>W33A</td><td>0.02445720578206058</td><td>24.350860249626866</td><td>614.0035685237506</td><td>2231.712</td><td>True</td></tr>\n",
       "<tr><td>114</td><td>2018.1.00458.S</td><td>Maud, Luke</td><td>W33A</td><td>0.023313807658612747</td><td>21.550814052889596</td><td>613.9705142062724</td><td>4463.424</td><td>True</td></tr>\n",
       "<tr><td>115</td><td>2018.1.00641.S</td><td>Lu, Xing</td><td>c20kms_c1</td><td>0.02079366875512931</td><td>45.92784340680188</td><td>662.4681267349767</td><td>3846.528</td><td>True</td></tr>\n",
       "<tr><td>116</td><td>2018.1.00641.S</td><td>Lu, Xing</td><td>c20kms_c4</td><td>0.02079366826190652</td><td>45.3078846045331</td><td>662.4681267349767</td><td>3919.104</td><td>True</td></tr>\n",
       "<tr><td>117</td><td>2016.1.00949.S</td><td>Walker, Daniel</td><td>d_sma1</td><td>0.09641193730202599</td><td>1.1203016078055907</td><td>765.1424513159687</td><td>8164.8</td><td>True</td></tr>\n",
       "<tr><td>118</td><td>2019.1.00462.S</td><td>Walker, Daniel</td><td>e1</td><td>0.02314206113425365</td><td>25.48898474559261</td><td>765.6008090038739</td><td>2957.472</td><td>True</td></tr>\n",
       "<tr><td>119</td><td>2016.1.00340.S</td><td>Cazzoletti, Paolo</td><td>hd135344b</td><td>0.04059627849364873</td><td>20.481101213930565</td><td>2101.345460865188</td><td>2685.205</td><td>True</td></tr>\n",
       "<tr><td>120</td><td>2017.1.01678.S</td><td>van der Plas, Gerrit</td><td>hd_100453</td><td>0.09201153536762485</td><td>13.293868315686577</td><td>3755.5635586649073</td><td>1360.8</td><td>True</td></tr>\n",
       "<tr><td>121</td><td>2016.1.00992.S</td><td>Garay, Guido</td><td>iras16547-4247</td><td>0.05903071363743562</td><td>1.7816311903762911</td><td>207.0775118030858</td><td>5951.232</td><td>True</td></tr>\n",
       "<tr><td>122</td><td>2015.1.01323.S</td><td>Mesa-Delgado, Adal</td><td>p104-593</td><td>0.02400420163601625</td><td>75.24909641442018</td><td>713.9333041258134</td><td>163.296</td><td>True</td></tr>\n",
       "<tr><td>123</td><td>2015.1.01323.S</td><td>Mesa-Delgado, Adal</td><td>p104-598</td><td>0.024004202538428703</td><td>78.00209317889102</td><td>713.9333041258134</td><td>163.296</td><td>True</td></tr>\n",
       "<tr><td>124</td><td>2015.1.01323.S</td><td>Mesa-Delgado, Adal</td><td>p105-600</td><td>0.024004181687079927</td><td>77.28465625522212</td><td>713.9333041258134</td><td>163.296</td><td>True</td></tr>\n",
       "<tr><td>125</td><td>2016.1.00550.S</td><td>Ginsburg, Adam</td><td>sgr_b2m</td><td>0.08192415189695122</td><td>16.9973372353492</td><td>3436.50712540598</td><td>2697.21</td><td>True</td></tr>\n",
       "<tr><td>126</td><td>2018.1.00641.S</td><td>Lu, Xing</td><td>sgrc</td><td>0.020793652636183747</td><td>45.324558756067475</td><td>662.4681267349767</td><td>3882.816</td><td>True</td></tr>\n",
       "<tr><td>127</td><td>2015.1.01596.S</td><td>Goddi, Ciriaco</td><td>w51e2</td><td>0.02159656157372763</td><td>32.241564428710525</td><td>725.8529364199687</td><td>2522.016</td><td>True</td></tr>\n",
       "<tr><td>128</td><td>2017.1.00293.S</td><td>Ginsburg, Adam</td><td>w51e2</td><td>0.04800899683436537</td><td>50.10263367577915</td><td>3368.2509902921493</td><td>6622.56</td><td>True</td></tr>\n",
       "<tr><td>129</td><td>2015.1.01596.S</td><td>Goddi, Ciriaco</td><td>w51n</td><td>0.02159656199235678</td><td>32.204164698217554</td><td>725.8529364199687</td><td>2503.872</td><td>True</td></tr>\n",
       "<tr><td>130</td><td>2017.1.00293.S</td><td>Ginsburg, Adam</td><td>w51n</td><td>0.048008997337626945</td><td>49.58778947258755</td><td>3368.2509902921493</td><td>6622.56</td><td>True</td></tr>\n",
       "</table><style>table.dataTable {clear: both; width: auto !important; margin: 0 !important;}\n",
       ".dataTables_info, .dataTables_length, .dataTables_filter, .dataTables_paginate{\n",
       "display: inline-block; margin-right: 1em; }\n",
       ".paginate_button { margin-right: 5px; }\n",
       "</style>\n",
       "<script>\n",
       "\n",
       "var astropy_sort_num = function(a, b) {\n",
       "    var a_num = parseFloat(a);\n",
       "    var b_num = parseFloat(b);\n",
       "\n",
       "    if (isNaN(a_num) && isNaN(b_num))\n",
       "        return ((a < b) ? -1 : ((a > b) ? 1 : 0));\n",
       "    else if (!isNaN(a_num) && !isNaN(b_num))\n",
       "        return ((a_num < b_num) ? -1 : ((a_num > b_num) ? 1 : 0));\n",
       "    else\n",
       "        return isNaN(a_num) ? -1 : 1;\n",
       "}\n",
       "\n",
       "require.config({paths: {\n",
       "    datatables: 'https://cdn.datatables.net/1.10.12/js/jquery.dataTables.min'\n",
       "}});\n",
       "require([\"datatables\"], function(){\n",
       "    console.log(\"$('#table47279541938448-640121').dataTable()\");\n",
       "    \n",
       "jQuery.extend( jQuery.fn.dataTableExt.oSort, {\n",
       "    \"optionalnum-asc\": astropy_sort_num,\n",
       "    \"optionalnum-desc\": function (a,b) { return -astropy_sort_num(a, b); }\n",
       "});\n",
       "\n",
       "    $('#table47279541938448-640121').dataTable({\n",
       "        order: [],\n",
       "        pageLength: 50,\n",
       "        lengthMenu: [[10, 25, 50, 100, 500, 1000, -1], [10, 25, 50, 100, 500, 1000, 'All']],\n",
       "        pagingType: \"full_numbers\",\n",
       "        columnDefs: [{targets: [0, 4, 5, 6, 7], type: \"optionalnum\"}]\n",
       "    });\n",
       "});\n",
       "</script>\n"
      ],
      "text/plain": [
       "<IPython.core.display.HTML object>"
      ]
     },
     "execution_count": 8,
     "metadata": {},
     "output_type": "execute_result"
    }
   ],
   "source": [
    "result['proposal_id', 'obs_creator_name', 'target_name', 'spatial_resolution', 'Line sensitivity (K)', 'velocity_resolution', 't_exptime', 'Has salt'][ind].show_in_notebook()"
   ]
  },
  {
   "cell_type": "code",
   "execution_count": 9,
   "metadata": {},
   "outputs": [
    {
     "data": {
      "text/plain": [
       "['obs_publisher_did',\n",
       " 'obs_collection',\n",
       " 'facility_name',\n",
       " 'instrument_name',\n",
       " 'obs_id',\n",
       " 'dataproduct_type',\n",
       " 'calib_level',\n",
       " 'target_name',\n",
       " 's_ra',\n",
       " 's_dec',\n",
       " 's_fov',\n",
       " 's_region',\n",
       " 's_resolution',\n",
       " 't_min',\n",
       " 't_max',\n",
       " 't_exptime',\n",
       " 't_resolution',\n",
       " 'em_min',\n",
       " 'em_max',\n",
       " 'em_res_power',\n",
       " 'pol_states',\n",
       " 'o_ucd',\n",
       " 'access_url',\n",
       " 'access_format',\n",
       " 'proposal_id',\n",
       " 'data_rights',\n",
       " 'gal_longitude',\n",
       " 'gal_latitude',\n",
       " 'band_list',\n",
       " 'em_resolution',\n",
       " 'bandwidth',\n",
       " 'antenna_arrays',\n",
       " 'is_mosaic',\n",
       " 'obs_release_date',\n",
       " 'spatial_resolution',\n",
       " 'frequency_support',\n",
       " 'frequency',\n",
       " 'velocity_resolution',\n",
       " 'obs_creator_name',\n",
       " 'pub_title',\n",
       " 'first_author',\n",
       " 'authors',\n",
       " 'pub_abstract',\n",
       " 'publication_year',\n",
       " 'proposal_abstract',\n",
       " 'schedblock_name',\n",
       " 'proposal_authors',\n",
       " 'sensitivity_10kms',\n",
       " 'cont_sensitivity_bandwidth',\n",
       " 'pwv',\n",
       " 'group_ous_uid',\n",
       " 'member_ous_uid',\n",
       " 'asdm_uid',\n",
       " 'obs_title',\n",
       " 'type',\n",
       " 'scan_intent',\n",
       " 'science_observation',\n",
       " 'spatial_scale_max',\n",
       " 'qa2_passed',\n",
       " 'bib_reference',\n",
       " 'science_keyword',\n",
       " 'scientific_category',\n",
       " 'lastModified',\n",
       " 'Line sensitivity (K)',\n",
       " 'Has salt']"
      ]
     },
     "execution_count": 9,
     "metadata": {},
     "output_type": "execute_result"
    }
   ],
   "source": [
    "result.colnames"
   ]
  },
  {
   "cell_type": "code",
   "execution_count": 10,
   "metadata": {},
   "outputs": [
    {
     "name": "stdout",
     "output_type": "stream",
     "text": [
      "[('HD100546', '2018.1.01309.S'),\n",
      " ('Orion_Source_I', '2013.1.00048.S'),\n",
      " ('IRAS_18337-0743', '2017.1.00237.S'),\n",
      " ('G351.77-0.54', '2017.1.00237.S'),\n",
      " ('S255_IR', '2015.1.00500.S'),\n",
      " ('G17.64+0.16', '2017.1.00098.S'),\n",
      " ('G335.78+0.17', '2017.1.00237.S'),\n",
      " ('G333.46-0.16', '2017.1.00237.S'),\n",
      " ('G343.12-0.06', '2017.1.00237.S'),\n",
      " ('G333.12-0.56', '2017.1.00237.S'),\n",
      " ('G34.43+0.24MM2', '2017.1.00237.S'),\n",
      " ('G35.13-0.74', '2017.1.00237.S'),\n",
      " ('G336.01-0.82', '2017.1.00237.S'),\n",
      " ('G31.41+0.31', '2016.1.00223.S'),\n",
      " ('G24.60+0.08', '2017.1.00237.S'),\n",
      " ('G286_2', '2015.1.00357.S'),\n",
      " ('G286_1', '2015.1.00357.S'),\n",
      " ('IRAS13481-6124', '2015.1.00424.S'),\n",
      " ('HD_34282', '2017.1.01578.S'),\n",
      " ('G353.273+0.641', '2016.1.01068.S'),\n",
      " ('G14.22-0.50_S', '2017.1.00237.S'),\n",
      " ('G31.41+0.31', '2018.1.00252.S'),\n",
      " ('IRAS_16293-2422B', '2017.1.01247.S'),\n",
      " ('G345.49+1.47', '2018.1.00385.S'),\n",
      " ('HD_97048', '2016.1.00826.S'),\n",
      " ('S255IR_NIRS3', '2019.1.00571.S'),\n",
      " ('NGC6334I', '2018.1.00495.S'),\n",
      " ('iras16547-4247', '2016.1.00992.S'),\n",
      " ('M17UC1', '2015.1.01163.S'),\n",
      " ('G14.33', '2018.1.01014.S'),\n",
      " ('HD_100453', '2017.1.01678.S'),\n",
      " ('G11.92-0.61_MM1', '2018.1.01010.S'),\n",
      " ('G33.92+0.11', '2016.1.00362.S'),\n",
      " ('hd_100453', '2017.1.01678.S'),\n",
      " ('IRAS13481-6124', '2018.1.01660.S'),\n",
      " ('W33A', '2018.1.00458.S'),\n",
      " ('M17-IRS5', '2015.1.01163.S'),\n",
      " ('G34.43+0.24', '2016.1.01036.S'),\n",
      " ('G35.03+0.35_A', '2016.1.01036.S'),\n",
      " ('G10.62-0.38', '2016.1.01036.S'),\n",
      " ('IRAS_180891732', '2016.1.01036.S'),\n",
      " ('IRDC_182231243', '2016.1.01036.S'),\n",
      " ('Orion_Source_I', '2016.1.00970.S'),\n",
      " ('Sgr_B2_DS', '2017.1.00114.S'),\n",
      " ('W33A', '2016.1.01036.S'),\n",
      " ('G11.1-0.12', '2016.1.01036.S'),\n",
      " ('G5.89-0.37', '2016.1.01036.S'),\n",
      " ('G35.20-0.74_N', '2016.1.01036.S'),\n",
      " ('G29.96-0.02', '2016.1.01036.S'),\n",
      " ('G333.23-0.06', '2016.1.01036.S'),\n",
      " ('IRAS_18182-1433', '2016.1.01036.S'),\n",
      " ('IRAS_181511208', '2016.1.01036.S'),\n",
      " ('G335.579-0.272', '2016.1.01036.S'),\n",
      " ('G11.92-0.61', '2016.1.01036.S'),\n",
      " ('W33A', '2016.1.01197.S'),\n",
      " ('G31.41+0.31', '2018.1.00632.S'),\n",
      " ('G24.78+0.08', '2018.1.00745.S'),\n",
      " ('W33A', '2017.1.00261.S'),\n",
      " ('IRAS_181622048', '2016.1.01036.S'),\n",
      " ('NGC_6334_I_N', '2016.1.01036.S'),\n",
      " ('Cl_star_NGC6618_B268', '2019.1.00910.S'),\n",
      " ('S255_IR', '2019.1.00315.S'),\n",
      " ('c20kms_c4', '2018.1.00641.S'),\n",
      " ('c20kms_c1', '2018.1.00641.S'),\n",
      " ('sgrc', '2018.1.00641.S'),\n",
      " ('G358.93', '2018.A.00031.T'),\n",
      " ('G339.88-1.26', '2019.1.00517.S'),\n",
      " ('IRAS_165623959', '2016.1.01036.S'),\n",
      " ('NGC6334I', '2016.1.01036.S'),\n",
      " ('sgr_b2m', '2016.1.00550.S'),\n",
      " ('IRAS_165474247', '2016.1.01036.S'),\n",
      " ('Orion_BNKL_source_I', '2016.1.00165.S'),\n",
      " ('G0.38+0.04', '2016.1.00766.S'),\n",
      " ('GRB_190829A', '2018.A.00065.T'),\n",
      " ('HD100546', '2016.1.00344.S'),\n",
      " ('hd135344b', '2016.1.00340.S'),\n",
      " ('IRAS13481-6124', '2016.1.01504.S'),\n",
      " ('HD169142', '2016.1.00344.S'),\n",
      " ('NGC6334I', '2016.1.00383.S'),\n",
      " ('AFGL_4176', '2017.1.00700.S'),\n",
      " ('G353.273+0.641', '2018.1.01538.S'),\n",
      " ('w51n', '2015.1.01596.S'),\n",
      " ('w51e2', '2015.1.01596.S'),\n",
      " ('IRAS13481-6124', '2017.1.01489.S'),\n",
      " ('G286', '2017.1.01552.S'),\n",
      " ('G17.64+0.16', '2018.1.01524.S'),\n",
      " ('d_sma1', '2016.1.00949.S'),\n",
      " ('NGC6334I', '2016.1.01137.S'),\n",
      " ('IRAS17233', '2016.1.01137.S'),\n",
      " ('G11.92-0.61', '2016.1.01147.S'),\n",
      " ('w51n', '2017.1.00293.S'),\n",
      " ('IRAS07299', '2018.1.01561.S'),\n",
      " ('G19.01-0.03', '2018.1.01441.S'),\n",
      " ('w51e2', '2017.1.00293.S'),\n",
      " ('HD_163296', '2017.1.01682.S'),\n",
      " ('G33.92+0.11', '2018.1.00262.S'),\n",
      " ('Tr14_proplyds', '2015.1.01323.S'),\n",
      " ('p105-600', '2015.1.01323.S'),\n",
      " ('p104-593', '2015.1.01323.S'),\n",
      " ('I19520', '2016.1.01152.S'),\n",
      " ('p104-598', '2015.1.01323.S'),\n",
      " ('M17-UC1', '2019.1.01279.S'),\n",
      " ('Cl_star_NGC_6618_B243', '2019.1.00910.S'),\n",
      " ('Cl_star_NGC6618_B331', '2019.1.00910.S'),\n",
      " ('Cl_star_NGC6618_B275', '2019.1.00910.S'),\n",
      " ('NGC_1068', '2019.1.00713.S'),\n",
      " ('NGC6334in', '2016.1.01147.S'),\n",
      " ('G10p6', '2019.1.00402.S'),\n",
      " ('Mon_R2_IRS3_A', '2019.1.00437.S'),\n",
      " ('MWC_300', '2019.1.00437.S'),\n",
      " ('I18308c1', '2019.1.01463.S'),\n",
      " ('Per-emb-17', '2019.1.01425.S'),\n",
      " ('L1448IRS1', '2019.1.01425.S'),\n",
      " ('L1448IRS3B', '2019.1.01425.S'),\n",
      " ('L1448IRS3C', '2019.1.01425.S'),\n",
      " ('M8E-IR', '2019.1.00437.S'),\n",
      " ('I19368c1', '2019.1.01463.S'),\n",
      " ('S255_IRS3', '2019.1.00437.S'),\n",
      " ('HD_50138', '2019.1.01693.S'),\n",
      " ('IRAS17216-3801', '2019.1.00437.S'),\n",
      " ('Per-emb-22', '2019.1.01425.S'),\n",
      " ('R_Mon', '2019.1.00437.S'),\n",
      " ('e1', '2019.1.00462.S'),\n",
      " ('I18337c3', '2019.1.01463.S'),\n",
      " ('Per-emb-2', '2019.1.01425.S'),\n",
      " ('SVS13A', '2019.1.01425.S'),\n",
      " ('Per-emb-35', '2019.1.01425.S'),\n",
      " ('Per-emb-5', '2019.1.01425.S'),\n",
      " ('Per-emb-18', '2019.1.01425.S'),\n",
      " ('NGC1333IRAS2A', '2019.1.01425.S'),\n",
      " ('NGC1333IRAS2B', '2019.1.01425.S')]\n"
     ]
    }
   ],
   "source": [
    "pprint.pprint(list(salts.keys()))"
   ]
  },
  {
   "cell_type": "code",
   "execution_count": 11,
   "metadata": {},
   "outputs": [],
   "source": [
    "AA = Alma()"
   ]
  },
  {
   "cell_type": "code",
   "execution_count": 12,
   "metadata": {},
   "outputs": [],
   "source": [
    "from astroquery import log\n",
    "log.setLevel('INFO')"
   ]
  },
  {
   "cell_type": "code",
   "execution_count": 13,
   "metadata": {},
   "outputs": [
    {
     "data": {
      "text/plain": [
       "<Table length=403>\n",
       "     obs_publisher_did      obs_collection ...       lastModified     \n",
       "                                           ...                        \n",
       "           str33                 str4      ...          object        \n",
       "--------------------------- -------------- ... -----------------------\n",
       "ADS/JAO.ALMA#2013.1.00048.S           ALMA ... 2021-08-09T17:58:23.481\n",
       "ADS/JAO.ALMA#2013.1.00048.S           ALMA ... 2021-08-09T17:58:23.481\n",
       "ADS/JAO.ALMA#2017.1.00237.S           ALMA ... 2021-08-09T17:58:23.481\n",
       "ADS/JAO.ALMA#2017.1.00237.S           ALMA ... 2021-08-09T17:58:23.481\n",
       "ADS/JAO.ALMA#2017.1.00237.S           ALMA ... 2021-08-09T17:58:23.481\n",
       "ADS/JAO.ALMA#2015.1.00500.S           ALMA ... 2021-08-09T17:58:23.481\n",
       "ADS/JAO.ALMA#2015.1.00500.S           ALMA ... 2021-08-09T17:58:23.481\n",
       "ADS/JAO.ALMA#2015.1.00500.S           ALMA ... 2021-08-09T17:58:23.481\n",
       "ADS/JAO.ALMA#2017.1.00098.S           ALMA ... 2021-08-09T17:58:23.481\n",
       "                        ...            ... ...                     ...\n",
       "ADS/JAO.ALMA#2015.1.01323.S           ALMA ... 2021-08-09T17:58:23.481\n",
       "ADS/JAO.ALMA#2015.1.00480.S           ALMA ... 2021-08-09T17:58:23.481\n",
       "ADS/JAO.ALMA#2015.1.00480.S           ALMA ... 2021-08-09T17:58:23.481\n",
       "ADS/JAO.ALMA#2018.A.00031.T           ALMA ... 2021-08-09T17:58:23.481\n",
       "ADS/JAO.ALMA#2016.1.01152.S           ALMA ... 2021-08-09T17:58:23.481\n",
       "ADS/JAO.ALMA#2018.A.00031.T           ALMA ... 2021-08-09T17:58:23.481\n",
       "ADS/JAO.ALMA#2018.A.00031.T           ALMA ... 2021-08-09T17:58:23.481\n",
       "ADS/JAO.ALMA#2018.A.00031.T           ALMA ... 2021-08-09T17:58:23.481\n",
       "ADS/JAO.ALMA#2017.1.01682.S           ALMA ... 2021-08-09T17:58:23.481\n",
       "ADS/JAO.ALMA#2017.1.01682.S           ALMA ... 2021-08-09T17:58:23.481"
      ]
     },
     "execution_count": 13,
     "metadata": {},
     "output_type": "execute_result"
    }
   ],
   "source": [
    "AA.query_tap(\"select * from ivoa.obscore WHERE spatial_resolution<=0.1 AND science_keyword in ('High-mass star formation', 'Disks around high-mass stars') AND science_observation='T' AND data_rights='Public'\")"
   ]
  },
  {
   "cell_type": "code",
   "execution_count": null,
   "metadata": {},
   "outputs": [
    {
     "name": "stderr",
     "output_type": "stream",
     "text": [
      "WARNING: AstropyDeprecationWarning: Using the table property is deprecated. Please use se to_table() instead. [pyvo.dal.query]\n",
      "WARNING: AstropyDeprecationWarning: Using the table property is deprecated. Please use se to_table() instead. [pyvo.dal.query]\n",
      "WARNING: AstropyDeprecationWarning: Using the table property is deprecated. Please use se to_table() instead. [pyvo.dal.query]\n"
     ]
    },
    {
     "name": "stdout",
     "output_type": "stream",
     "text": [
      "Downloading URL https://almascience.nrao.edu/dataPortal/member.uid___A001_X13c4_X9e.HD100546_sci.spw19.cube.I.pbcor.fits to ./member.uid___A001_X13c4_X9e.HD100546_sci.spw19.cube.I.pbcor.fits ... [Done]\n",
      "Downloading URL https://almascience.nrao.edu/dataPortal/member.uid___A001_X13c4_X9e.HD100546_sci.spw21.cube.I.pbcor.fits to ./member.uid___A001_X13c4_X9e.HD100546_sci.spw21.cube.I.pbcor.fits ... [Done]\n",
      "Downloading URL https://almascience.nrao.edu/dataPortal/member.uid___A001_X13c4_X9e.HD100546_sci.spw23.cube.I.pbcor.fits to ./member.uid___A001_X13c4_X9e.HD100546_sci.spw23.cube.I.pbcor.fits ... [Done]\n",
      "Downloading URL https://almascience.nrao.edu/dataPortal/member.uid___A001_X13c4_X9e.HD100546_sci.spw25.cube.I.pbcor.fits to ./member.uid___A001_X13c4_X9e.HD100546_sci.spw25.cube.I.pbcor.fits ... [Done]\n",
      "./member.uid___A001_X13c4_X9e.HD100546_sci.spw19.cube.I.pbcor.fits\n"
     ]
    },
    {
     "name": "stderr",
     "output_type": "stream",
     "text": [
      "WARNING: StokesWarning: Cube is a Stokes cube, returning spectral cube for I component [spectral_cube.io.core]\n",
      "WARNING: ExperimentalImplementationWarning: The line-finding routine is experimental.  Please report bugs on the Issues page: https://github.com/radio-astro-tools/spectral-cube/issues [spectral_cube.spectral_cube]\n"
     ]
    },
    {
     "name": "stdout",
     "output_type": "stream",
     "text": [
      "Species     ChemicalName     QNs      Freq    log10_Aij    EU_K  \n",
      "-------- ------------------ ----- ----------- --------- ---------\n",
      "41KClv=0 Potassium chloride 31-30 232.4997148  -2.11976 178.66839\n",
      "Species   ChemicalName   QNs     Freq   log10_Aij    EU_K  \n",
      "------- --------------- ----- --------- --------- ---------\n",
      "NaClv=1 Sodium Chloride 18-17 232.50995  -2.23334 625.66754\n",
      "./member.uid___A001_X13c4_X9e.HD100546_sci.spw21.cube.I.pbcor.fits\n"
     ]
    },
    {
     "name": "stderr",
     "output_type": "stream",
     "text": [
      "WARNING: StokesWarning: Cube is a Stokes cube, returning spectral cube for I component [spectral_cube.io.core]\n",
      "WARNING: ExperimentalImplementationWarning: The line-finding routine is experimental.  Please report bugs on the Issues page: https://github.com/radio-astro-tools/spectral-cube/issues [spectral_cube.spectral_cube]\n"
     ]
    },
    {
     "name": "stdout",
     "output_type": "stream",
     "text": [
      "Species     ChemicalName     QNs      Freq    log10_Aij    EU_K  \n",
      "-------- ------------------ ----- ----------- --------- ---------\n",
      "41KClv=1 Potassium chloride 29-28 216.2224953  -2.20966 550.41794\n",
      "Species   ChemicalName   QNs      Freq    log10_Aij    EU_K   \n",
      "------- --------------- ----- ----------- --------- ----------\n",
      "NaClv=3 Sodium Chloride 17-16 216.3560118  -2.31626 1637.27494\n",
      "Species     ChemicalName     QNs      Freq    log10_Aij    EU_K  \n",
      "-------- ------------------ ----- ----------- --------- ---------\n",
      "41KClv=0 Potassium chloride 29-28 217.5430431  -2.20681 156.71091\n",
      "./member.uid___A001_X13c4_X9e.HD100546_sci.spw23.cube.I.pbcor.fits\n"
     ]
    },
    {
     "name": "stderr",
     "output_type": "stream",
     "text": [
      "WARNING: StokesWarning: Cube is a Stokes cube, returning spectral cube for I component [spectral_cube.io.core]\n",
      "WARNING: ExperimentalImplementationWarning: The line-finding routine is experimental.  Please report bugs on the Issues page: https://github.com/radio-astro-tools/spectral-cube/issues [spectral_cube.spectral_cube]\n"
     ]
    },
    {
     "name": "stdout",
     "output_type": "stream",
     "text": [
      "Species   ChemicalName   QNs     Freq    log10_Aij    EU_K  \n",
      "------- --------------- ----- ---------- --------- ---------\n",
      "NaClv=1 Sodium Chloride 17-16 219.614922  -2.30839 614.50884\n",
      "./member.uid___A001_X13c4_X9e.HD100546_sci.spw25.cube.I.pbcor.fits\n"
     ]
    },
    {
     "name": "stderr",
     "output_type": "stream",
     "text": [
      "WARNING: StokesWarning: Cube is a Stokes cube, returning spectral cube for I component [spectral_cube.io.core]\n",
      "WARNING: ExperimentalImplementationWarning: The line-finding routine is experimental.  Please report bugs on the Issues page: https://github.com/radio-astro-tools/spectral-cube/issues [spectral_cube.spectral_cube]\n",
      "WARNING: AstropyDeprecationWarning: Using the table property is deprecated. Please use se to_table() instead. [pyvo.dal.query]\n",
      "WARNING: AstropyDeprecationWarning: Using the table property is deprecated. Please use se to_table() instead. [pyvo.dal.query]\n"
     ]
    },
    {
     "name": "stdout",
     "output_type": "stream",
     "text": [
      "SKIP\n",
      "[] ['https://almascience.nrao.edu/dataPortal/2013.1.00048.S_uid___A001_X137_X15_001_of_001.tar']\n"
     ]
    },
    {
     "name": "stderr",
     "output_type": "stream",
     "text": [
      "WARNING: AstropyDeprecationWarning: Using the table property is deprecated. Please use se to_table() instead. [pyvo.dal.query]\n",
      "WARNING: AstropyDeprecationWarning: Using the table property is deprecated. Please use se to_table() instead. [pyvo.dal.query]\n"
     ]
    },
    {
     "name": "stdout",
     "output_type": "stream",
     "text": [
      "SKIP\n",
      "[] ['https://almascience.nrao.edu/dataPortal/2013.1.00048.S_uid___A001_X137_X15_001_of_001.tar']\n"
     ]
    },
    {
     "name": "stderr",
     "output_type": "stream",
     "text": [
      "WARNING: AstropyDeprecationWarning: Using the table property is deprecated. Please use se to_table() instead. [pyvo.dal.query]\n",
      "WARNING: AstropyDeprecationWarning: Using the table property is deprecated. Please use se to_table() instead. [pyvo.dal.query]\n",
      "WARNING: AstropyDeprecationWarning: Using the table property is deprecated. Please use se to_table() instead. [pyvo.dal.query]\n"
     ]
    },
    {
     "name": "stdout",
     "output_type": "stream",
     "text": [
      "Downloading URL https://almascience.nrao.edu/dataPortal/member.uid___A001_X1296_Xe81.IRAS_18337-0743_sci.spw25.cube.I.pbcor.fits to ./member.uid___A001_X1296_Xe81.IRAS_18337-0743_sci.spw25.cube.I.pbcor.fits ... [Done]\n",
      "Downloading URL https://almascience.nrao.edu/dataPortal/member.uid___A001_X1296_Xe81.IRAS_18337-0743_sci.spw27.cube.I.pbcor.fits to ./member.uid___A001_X1296_Xe81.IRAS_18337-0743_sci.spw27.cube.I.pbcor.fits ... [Done]\n",
      "Downloading URL https://almascience.nrao.edu/dataPortal/member.uid___A001_X1296_Xe81.IRAS_18337-0743_sci.spw29.cube.I.pbcor.fits to ./member.uid___A001_X1296_Xe81.IRAS_18337-0743_sci.spw29.cube.I.pbcor.fits ... [Done]\n",
      "Downloading URL https://almascience.nrao.edu/dataPortal/member.uid___A001_X1296_Xe81.IRAS_18337-0743_sci.spw31.cube.I.pbcor.fits to ./member.uid___A001_X1296_Xe81.IRAS_18337-0743_sci.spw31.cube.I.pbcor.fits ... [Done]\n",
      "Downloading URL https://almascience.nrao.edu/dataPortal/member.uid___A001_X1296_Xe81._G24.60p0.08__sci.spw25.cube.I.pbcor.fits to ./member.uid___A001_X1296_Xe81._G24.60p0.08__sci.spw25.cube.I.pbcor.fits ... [Done]\n",
      "Downloading URL https://almascience.nrao.edu/dataPortal/member.uid___A001_X1296_Xe81._G24.60p0.08__sci.spw27.cube.I.pbcor.fits to ./member.uid___A001_X1296_Xe81._G24.60p0.08__sci.spw27.cube.I.pbcor.fits ... [Done]\n",
      "Downloading URL https://almascience.nrao.edu/dataPortal/member.uid___A001_X1296_Xe81._G24.60p0.08__sci.spw29.cube.I.pbcor.fits to ./member.uid___A001_X1296_Xe81._G24.60p0.08__sci.spw29.cube.I.pbcor.fits ... [Done]\n",
      "Downloading URL https://almascience.nrao.edu/dataPortal/member.uid___A001_X1296_Xe81._G24.60p0.08__sci.spw31.cube.I.pbcor.fits to ./member.uid___A001_X1296_Xe81._G24.60p0.08__sci.spw31.cube.I.pbcor.fits ... [Done]\n",
      "./member.uid___A001_X1296_Xe81.IRAS_18337-0743_sci.spw25.cube.I.pbcor.fits\n"
     ]
    },
    {
     "name": "stderr",
     "output_type": "stream",
     "text": [
      "WARNING: StokesWarning: Cube is a Stokes cube, returning spectral cube for I component [spectral_cube.io.core]\n",
      "WARNING: ExperimentalImplementationWarning: The line-finding routine is experimental.  Please report bugs on the Issues page: https://github.com/radio-astro-tools/spectral-cube/issues [spectral_cube.spectral_cube]\n"
     ]
    },
    {
     "name": "stdout",
     "output_type": "stream",
     "text": [
      "Species   ChemicalName   QNs     Freq   log10_Aij    EU_K  \n",
      "------- --------------- ----- --------- --------- ---------\n",
      "NaClv=0 Sodium Chloride 18-17 234.25183  -2.22932 106.84828\n",
      "./member.uid___A001_X1296_Xe81.IRAS_18337-0743_sci.spw27.cube.I.pbcor.fits\n"
     ]
    },
    {
     "name": "stderr",
     "output_type": "stream",
     "text": [
      "WARNING: StokesWarning: Cube is a Stokes cube, returning spectral cube for I component [spectral_cube.io.core]\n",
      "WARNING: ExperimentalImplementationWarning: The line-finding routine is experimental.  Please report bugs on the Issues page: https://github.com/radio-astro-tools/spectral-cube/issues [spectral_cube.spectral_cube]\n"
     ]
    },
    {
     "name": "stdout",
     "output_type": "stream",
     "text": [
      "Species     ChemicalName     QNs      Freq    log10_Aij    EU_K  \n",
      "-------- ------------------ ----- ----------- --------- ---------\n",
      "41KClv=1 Potassium chloride 31-30 231.0880933   -2.1226 572.24213\n",
      "Species     ChemicalName     QNs      Freq    log10_Aij    EU_K  \n",
      "-------- ------------------ ----- ----------- --------- ---------\n",
      "41KClv=0 Potassium chloride 31-30 232.4997148  -2.11976 178.66839\n",
      "Species   ChemicalName   QNs     Freq   log10_Aij    EU_K  \n",
      "------- --------------- ----- --------- --------- ---------\n",
      "NaClv=1 Sodium Chloride 18-17 232.50995  -2.23334 625.66754\n",
      "./member.uid___A001_X1296_Xe81.IRAS_18337-0743_sci.spw29.cube.I.pbcor.fits\n"
     ]
    },
    {
     "name": "stderr",
     "output_type": "stream",
     "text": [
      "WARNING: StokesWarning: Cube is a Stokes cube, returning spectral cube for I component [spectral_cube.io.core]\n",
      "WARNING: ExperimentalImplementationWarning: The line-finding routine is experimental.  Please report bugs on the Issues page: https://github.com/radio-astro-tools/spectral-cube/issues [spectral_cube.spectral_cube]\n"
     ]
    },
    {
     "name": "stdout",
     "output_type": "stream",
     "text": [
      "Species     ChemicalName     QNs      Freq    log10_Aij    EU_K  \n",
      "-------- ------------------ ----- ----------- --------- ---------\n",
      "41KClv=0 Potassium chloride 29-28 217.5430431  -2.20681 156.71091\n",
      "Species   ChemicalName   QNs      Freq    log10_Aij    EU_K   \n",
      "------- --------------- ----- ----------- --------- ----------\n",
      "NaClv=2 Sodium Chloride 17-16 217.9802149  -2.31227 1128.38157\n",
      "./member.uid___A001_X1296_Xe81.IRAS_18337-0743_sci.spw31.cube.I.pbcor.fits\n"
     ]
    },
    {
     "name": "stderr",
     "output_type": "stream",
     "text": [
      "WARNING: StokesWarning: Cube is a Stokes cube, returning spectral cube for I component [spectral_cube.io.core]\n",
      "WARNING: ExperimentalImplementationWarning: The line-finding routine is experimental.  Please report bugs on the Issues page: https://github.com/radio-astro-tools/spectral-cube/issues [spectral_cube.spectral_cube]\n"
     ]
    },
    {
     "name": "stdout",
     "output_type": "stream",
     "text": [
      "Species   ChemicalName   QNs     Freq    log10_Aij    EU_K  \n",
      "------- --------------- ----- ---------- --------- ---------\n",
      "NaClv=1 Sodium Chloride 17-16 219.614922  -2.30839 614.50884\n",
      "./member.uid___A001_X1296_Xe81._G24.60p0.08__sci.spw25.cube.I.pbcor.fits\n"
     ]
    },
    {
     "name": "stderr",
     "output_type": "stream",
     "text": [
      "WARNING: StokesWarning: Cube is a Stokes cube, returning spectral cube for I component [spectral_cube.io.core]\n",
      "WARNING: ExperimentalImplementationWarning: The line-finding routine is experimental.  Please report bugs on the Issues page: https://github.com/radio-astro-tools/spectral-cube/issues [spectral_cube.spectral_cube]\n"
     ]
    },
    {
     "name": "stdout",
     "output_type": "stream",
     "text": [
      "Species   ChemicalName   QNs     Freq   log10_Aij    EU_K  \n",
      "------- --------------- ----- --------- --------- ---------\n",
      "NaClv=0 Sodium Chloride 18-17 234.25183  -2.22932 106.84828\n",
      "./member.uid___A001_X1296_Xe81._G24.60p0.08__sci.spw27.cube.I.pbcor.fits\n"
     ]
    },
    {
     "name": "stderr",
     "output_type": "stream",
     "text": [
      "WARNING: StokesWarning: Cube is a Stokes cube, returning spectral cube for I component [spectral_cube.io.core]\n",
      "WARNING: ExperimentalImplementationWarning: The line-finding routine is experimental.  Please report bugs on the Issues page: https://github.com/radio-astro-tools/spectral-cube/issues [spectral_cube.spectral_cube]\n"
     ]
    },
    {
     "name": "stdout",
     "output_type": "stream",
     "text": [
      "Species     ChemicalName     QNs      Freq    log10_Aij    EU_K  \n",
      "-------- ------------------ ----- ----------- --------- ---------\n",
      "41KClv=1 Potassium chloride 31-30 231.0880933   -2.1226 572.24213\n",
      "Species     ChemicalName     QNs      Freq    log10_Aij    EU_K  \n",
      "-------- ------------------ ----- ----------- --------- ---------\n",
      "41KClv=0 Potassium chloride 31-30 232.4997148  -2.11976 178.66839\n",
      "Species   ChemicalName   QNs     Freq   log10_Aij    EU_K  \n",
      "------- --------------- ----- --------- --------- ---------\n",
      "NaClv=1 Sodium Chloride 18-17 232.50995  -2.23334 625.66754\n",
      "./member.uid___A001_X1296_Xe81._G24.60p0.08__sci.spw29.cube.I.pbcor.fits\n"
     ]
    },
    {
     "name": "stderr",
     "output_type": "stream",
     "text": [
      "WARNING: StokesWarning: Cube is a Stokes cube, returning spectral cube for I component [spectral_cube.io.core]\n",
      "WARNING: ExperimentalImplementationWarning: The line-finding routine is experimental.  Please report bugs on the Issues page: https://github.com/radio-astro-tools/spectral-cube/issues [spectral_cube.spectral_cube]\n"
     ]
    },
    {
     "name": "stdout",
     "output_type": "stream",
     "text": [
      "Species     ChemicalName     QNs      Freq    log10_Aij    EU_K  \n",
      "-------- ------------------ ----- ----------- --------- ---------\n",
      "41KClv=0 Potassium chloride 29-28 217.5430431  -2.20681 156.71091\n",
      "Species   ChemicalName   QNs      Freq    log10_Aij    EU_K   \n",
      "------- --------------- ----- ----------- --------- ----------\n",
      "NaClv=2 Sodium Chloride 17-16 217.9802149  -2.31227 1128.38157\n",
      "./member.uid___A001_X1296_Xe81._G24.60p0.08__sci.spw31.cube.I.pbcor.fits\n"
     ]
    },
    {
     "name": "stderr",
     "output_type": "stream",
     "text": [
      "WARNING: StokesWarning: Cube is a Stokes cube, returning spectral cube for I component [spectral_cube.io.core]\n",
      "WARNING: ExperimentalImplementationWarning: The line-finding routine is experimental.  Please report bugs on the Issues page: https://github.com/radio-astro-tools/spectral-cube/issues [spectral_cube.spectral_cube]\n"
     ]
    },
    {
     "name": "stdout",
     "output_type": "stream",
     "text": [
      "Species   ChemicalName   QNs     Freq    log10_Aij    EU_K  \n",
      "------- --------------- ----- ---------- --------- ---------\n",
      "NaClv=1 Sodium Chloride 17-16 219.614922  -2.30839 614.50884\n"
     ]
    },
    {
     "name": "stderr",
     "output_type": "stream",
     "text": [
      "WARNING: AstropyDeprecationWarning: Using the table property is deprecated. Please use se to_table() instead. [pyvo.dal.query]\n",
      "WARNING: AstropyDeprecationWarning: Using the table property is deprecated. Please use se to_table() instead. [pyvo.dal.query]\n",
      "WARNING: AstropyDeprecationWarning: Using the table property is deprecated. Please use se to_table() instead. [pyvo.dal.query]\n"
     ]
    },
    {
     "name": "stdout",
     "output_type": "stream",
     "text": [
      "Downloading URL https://almascience.nrao.edu/dataPortal/member.uid___A001_X1296_Xe72._G343.12-0.06__sci.spw25.cube.I.pbcor.fits to ./member.uid___A001_X1296_Xe72._G343.12-0.06__sci.spw25.cube.I.pbcor.fits ... [Done]\n",
      "Downloading URL https://almascience.nrao.edu/dataPortal/member.uid___A001_X1296_Xe72._G343.12-0.06__sci.spw27.cube.I.pbcor.fits to ./member.uid___A001_X1296_Xe72._G343.12-0.06__sci.spw27.cube.I.pbcor.fits ... [Done]\n",
      "Downloading URL https://almascience.nrao.edu/dataPortal/member.uid___A001_X1296_Xe72._G343.12-0.06__sci.spw29.cube.I.pbcor.fits to ./member.uid___A001_X1296_Xe72._G343.12-0.06__sci.spw29.cube.I.pbcor.fits ... [Done]\n",
      "Downloading URL https://almascience.nrao.edu/dataPortal/member.uid___A001_X1296_Xe72._G343.12-0.06__sci.spw31.cube.I.pbcor.fits to ./member.uid___A001_X1296_Xe72._G343.12-0.06__sci.spw31.cube.I.pbcor.fits ... [Done]\n",
      "Downloading URL https://almascience.nrao.edu/dataPortal/member.uid___A001_X1296_Xe72._G351.77-0.54__sci.spw25.cube.I.pbcor.fits to ./member.uid___A001_X1296_Xe72._G351.77-0.54__sci.spw25.cube.I.pbcor.fits ... [Done]\n",
      "Downloading URL https://almascience.nrao.edu/dataPortal/member.uid___A001_X1296_Xe72._G351.77-0.54__sci.spw27.cube.I.pbcor.fits to ./member.uid___A001_X1296_Xe72._G351.77-0.54__sci.spw27.cube.I.pbcor.fits ... [Done]\n",
      "Downloading URL https://almascience.nrao.edu/dataPortal/member.uid___A001_X1296_Xe72._G351.77-0.54__sci.spw29.cube.I.pbcor.fits to ./member.uid___A001_X1296_Xe72._G351.77-0.54__sci.spw29.cube.I.pbcor.fits ... [Done]\n",
      "Downloading URL https://almascience.nrao.edu/dataPortal/member.uid___A001_X1296_Xe72._G351.77-0.54__sci.spw31.cube.I.pbcor.fits to ./member.uid___A001_X1296_Xe72._G351.77-0.54__sci.spw31.cube.I.pbcor.fits ... [Done]\n",
      "./member.uid___A001_X1296_Xe72._G343.12-0.06__sci.spw25.cube.I.pbcor.fits\n"
     ]
    },
    {
     "name": "stderr",
     "output_type": "stream",
     "text": [
      "WARNING: StokesWarning: Cube is a Stokes cube, returning spectral cube for I component [spectral_cube.io.core]\n",
      "WARNING: ExperimentalImplementationWarning: The line-finding routine is experimental.  Please report bugs on the Issues page: https://github.com/radio-astro-tools/spectral-cube/issues [spectral_cube.spectral_cube]\n"
     ]
    },
    {
     "name": "stdout",
     "output_type": "stream",
     "text": [
      "Species   ChemicalName   QNs     Freq   log10_Aij    EU_K  \n",
      "------- --------------- ----- --------- --------- ---------\n",
      "NaClv=0 Sodium Chloride 18-17 234.25183  -2.22932 106.84828\n",
      "./member.uid___A001_X1296_Xe72._G343.12-0.06__sci.spw27.cube.I.pbcor.fits\n"
     ]
    },
    {
     "name": "stderr",
     "output_type": "stream",
     "text": [
      "WARNING: StokesWarning: Cube is a Stokes cube, returning spectral cube for I component [spectral_cube.io.core]\n",
      "WARNING: ExperimentalImplementationWarning: The line-finding routine is experimental.  Please report bugs on the Issues page: https://github.com/radio-astro-tools/spectral-cube/issues [spectral_cube.spectral_cube]\n"
     ]
    },
    {
     "name": "stdout",
     "output_type": "stream",
     "text": [
      "Species     ChemicalName     QNs      Freq    log10_Aij    EU_K  \n",
      "-------- ------------------ ----- ----------- --------- ---------\n",
      "41KClv=1 Potassium chloride 31-30 231.0880933   -2.1226 572.24213\n",
      "Species     ChemicalName     QNs      Freq    log10_Aij    EU_K  \n",
      "-------- ------------------ ----- ----------- --------- ---------\n",
      "41KClv=0 Potassium chloride 31-30 232.4997148  -2.11976 178.66839\n",
      "Species   ChemicalName   QNs     Freq   log10_Aij    EU_K  \n",
      "------- --------------- ----- --------- --------- ---------\n",
      "NaClv=1 Sodium Chloride 18-17 232.50995  -2.23334 625.66754\n",
      "./member.uid___A001_X1296_Xe72._G343.12-0.06__sci.spw29.cube.I.pbcor.fits\n"
     ]
    },
    {
     "name": "stderr",
     "output_type": "stream",
     "text": [
      "WARNING: StokesWarning: Cube is a Stokes cube, returning spectral cube for I component [spectral_cube.io.core]\n",
      "WARNING: ExperimentalImplementationWarning: The line-finding routine is experimental.  Please report bugs on the Issues page: https://github.com/radio-astro-tools/spectral-cube/issues [spectral_cube.spectral_cube]\n"
     ]
    },
    {
     "name": "stdout",
     "output_type": "stream",
     "text": [
      "Species     ChemicalName     QNs      Freq    log10_Aij    EU_K  \n",
      "-------- ------------------ ----- ----------- --------- ---------\n",
      "41KClv=0 Potassium chloride 29-28 217.5430431  -2.20681 156.71091\n",
      "Species   ChemicalName   QNs      Freq    log10_Aij    EU_K   \n",
      "------- --------------- ----- ----------- --------- ----------\n",
      "NaClv=2 Sodium Chloride 17-16 217.9802149  -2.31227 1128.38157\n",
      "./member.uid___A001_X1296_Xe72._G343.12-0.06__sci.spw31.cube.I.pbcor.fits\n"
     ]
    },
    {
     "name": "stderr",
     "output_type": "stream",
     "text": [
      "WARNING: StokesWarning: Cube is a Stokes cube, returning spectral cube for I component [spectral_cube.io.core]\n",
      "WARNING: ExperimentalImplementationWarning: The line-finding routine is experimental.  Please report bugs on the Issues page: https://github.com/radio-astro-tools/spectral-cube/issues [spectral_cube.spectral_cube]\n"
     ]
    },
    {
     "name": "stdout",
     "output_type": "stream",
     "text": [
      "Species   ChemicalName   QNs     Freq    log10_Aij    EU_K  \n",
      "------- --------------- ----- ---------- --------- ---------\n",
      "NaClv=1 Sodium Chloride 17-16 219.614922  -2.30839 614.50884\n",
      "./member.uid___A001_X1296_Xe72._G351.77-0.54__sci.spw25.cube.I.pbcor.fits\n"
     ]
    },
    {
     "name": "stderr",
     "output_type": "stream",
     "text": [
      "WARNING: StokesWarning: Cube is a Stokes cube, returning spectral cube for I component [spectral_cube.io.core]\n",
      "WARNING: ExperimentalImplementationWarning: The line-finding routine is experimental.  Please report bugs on the Issues page: https://github.com/radio-astro-tools/spectral-cube/issues [spectral_cube.spectral_cube]\n"
     ]
    },
    {
     "name": "stdout",
     "output_type": "stream",
     "text": [
      "Species   ChemicalName   QNs     Freq   log10_Aij    EU_K  \n",
      "------- --------------- ----- --------- --------- ---------\n",
      "NaClv=0 Sodium Chloride 18-17 234.25183  -2.22932 106.84828\n",
      "./member.uid___A001_X1296_Xe72._G351.77-0.54__sci.spw27.cube.I.pbcor.fits\n"
     ]
    },
    {
     "name": "stderr",
     "output_type": "stream",
     "text": [
      "WARNING: StokesWarning: Cube is a Stokes cube, returning spectral cube for I component [spectral_cube.io.core]\n",
      "WARNING: ExperimentalImplementationWarning: The line-finding routine is experimental.  Please report bugs on the Issues page: https://github.com/radio-astro-tools/spectral-cube/issues [spectral_cube.spectral_cube]\n"
     ]
    },
    {
     "name": "stdout",
     "output_type": "stream",
     "text": [
      "Species     ChemicalName     QNs      Freq    log10_Aij    EU_K  \n",
      "-------- ------------------ ----- ----------- --------- ---------\n",
      "41KClv=1 Potassium chloride 31-30 231.0880933   -2.1226 572.24213\n",
      "Species     ChemicalName     QNs      Freq    log10_Aij    EU_K  \n",
      "-------- ------------------ ----- ----------- --------- ---------\n",
      "41KClv=0 Potassium chloride 31-30 232.4997148  -2.11976 178.66839\n",
      "Species   ChemicalName   QNs     Freq   log10_Aij    EU_K  \n",
      "------- --------------- ----- --------- --------- ---------\n",
      "NaClv=1 Sodium Chloride 18-17 232.50995  -2.23334 625.66754\n",
      "./member.uid___A001_X1296_Xe72._G351.77-0.54__sci.spw29.cube.I.pbcor.fits\n"
     ]
    },
    {
     "name": "stderr",
     "output_type": "stream",
     "text": [
      "WARNING: StokesWarning: Cube is a Stokes cube, returning spectral cube for I component [spectral_cube.io.core]\n",
      "WARNING: ExperimentalImplementationWarning: The line-finding routine is experimental.  Please report bugs on the Issues page: https://github.com/radio-astro-tools/spectral-cube/issues [spectral_cube.spectral_cube]\n"
     ]
    },
    {
     "name": "stdout",
     "output_type": "stream",
     "text": [
      "Species     ChemicalName     QNs      Freq    log10_Aij    EU_K  \n",
      "-------- ------------------ ----- ----------- --------- ---------\n",
      "41KClv=0 Potassium chloride 29-28 217.5430431  -2.20681 156.71091\n",
      "Species   ChemicalName   QNs      Freq    log10_Aij    EU_K   \n",
      "------- --------------- ----- ----------- --------- ----------\n",
      "NaClv=2 Sodium Chloride 17-16 217.9802149  -2.31227 1128.38157\n",
      "./member.uid___A001_X1296_Xe72._G351.77-0.54__sci.spw31.cube.I.pbcor.fits\n"
     ]
    },
    {
     "name": "stderr",
     "output_type": "stream",
     "text": [
      "WARNING: StokesWarning: Cube is a Stokes cube, returning spectral cube for I component [spectral_cube.io.core]\n",
      "WARNING: ExperimentalImplementationWarning: The line-finding routine is experimental.  Please report bugs on the Issues page: https://github.com/radio-astro-tools/spectral-cube/issues [spectral_cube.spectral_cube]\n"
     ]
    },
    {
     "name": "stdout",
     "output_type": "stream",
     "text": [
      "Species   ChemicalName   QNs     Freq    log10_Aij    EU_K  \n",
      "------- --------------- ----- ---------- --------- ---------\n",
      "NaClv=1 Sodium Chloride 17-16 219.614922  -2.30839 614.50884\n"
     ]
    },
    {
     "name": "stderr",
     "output_type": "stream",
     "text": [
      "WARNING: AstropyDeprecationWarning: Using the table property is deprecated. Please use se to_table() instead. [pyvo.dal.query]\n",
      "WARNING: AstropyDeprecationWarning: Using the table property is deprecated. Please use se to_table() instead. [pyvo.dal.query]\n"
     ]
    },
    {
     "name": "stdout",
     "output_type": "stream",
     "text": [
      "Downloading URL https://almascience.nrao.edu/dataPortal/member.uid___A001_X340_X84.S255_IR_sci.spw25.cube.I.pbcor.fits to ./member.uid___A001_X340_X84.S255_IR_sci.spw25.cube.I.pbcor.fits ... [Done]\n",
      "Downloading URL https://almascience.nrao.edu/dataPortal/member.uid___A001_X340_X84.S255_IR_sci.spw27.cube.I.pbcor.fits to ./member.uid___A001_X340_X84.S255_IR_sci.spw27.cube.I.pbcor.fits ... [Done]\n",
      "Downloading URL https://almascience.nrao.edu/dataPortal/member.uid___A001_X340_X84.S255_IR_sci.spw29.cube.I.pbcor.fits to ./member.uid___A001_X340_X84.S255_IR_sci.spw29.cube.I.pbcor.fits ... [Done]\n",
      "Downloading URL https://almascience.nrao.edu/dataPortal/member.uid___A001_X340_X84.S255_IR_sci.spw31.cube.I.pbcor.fits to ./member.uid___A001_X340_X84.S255_IR_sci.spw31.cube.I.pbcor.fits ... [Done]\n",
      "./member.uid___A001_X340_X84.S255_IR_sci.spw25.cube.I.pbcor.fits\n"
     ]
    },
    {
     "name": "stderr",
     "output_type": "stream",
     "text": [
      "WARNING: StokesWarning: Cube is a Stokes cube, returning spectral cube for I component [spectral_cube.io.core]\n",
      "WARNING: ExperimentalImplementationWarning: The line-finding routine is experimental.  Please report bugs on the Issues page: https://github.com/radio-astro-tools/spectral-cube/issues [spectral_cube.spectral_cube]\n"
     ]
    },
    {
     "name": "stdout",
     "output_type": "stream",
     "text": [
      "Species     ChemicalName     QNs      Freq    log10_Aij    EU_K  \n",
      "-------- ------------------ ----- ----------- --------- ---------\n",
      "41KClv=1 Potassium chloride 45-44 334.8543603  -1.63717 764.88875\n"
     ]
    },
    {
     "name": "stderr",
     "output_type": "stream",
     "text": [
      "/blue/adamginsburg/adamginsburg/repos/spectral-cube/spectral_cube/spectral_cube.py:539: RuntimeWarning: All-NaN slice encountered\n",
      "  result = function(np.dstack((result, plane)), axis=2, **kwargs)\n"
     ]
    },
    {
     "name": "stdout",
     "output_type": "stream",
     "text": [
      "Species    ChemicalName     QNs     Freq    log10_Aij    EU_K  \n",
      "------- ------------------ ----- ---------- --------- ---------\n",
      " KClv=1 Potassium chloride 44-43 335.133995  -1.95904 538.71388\n"
     ]
    },
    {
     "name": "stderr",
     "output_type": "stream",
     "text": [
      "/blue/adamginsburg/adamginsburg/repos/spectral-cube/spectral_cube/spectral_cube.py:539: RuntimeWarning: All-NaN slice encountered\n",
      "  result = function(np.dstack((result, plane)), axis=2, **kwargs)\n"
     ]
    },
    {
     "name": "stdout",
     "output_type": "stream",
     "text": [
      "Species   ChemicalName   QNs      Freq    log10_Aij    EU_K  \n",
      "------- --------------- ----- ----------- --------- ---------\n",
      "NaClv=1 Sodium Chloride 26-25 335.5065502  -1.75191 737.19038\n"
     ]
    },
    {
     "name": "stderr",
     "output_type": "stream",
     "text": [
      "/blue/adamginsburg/adamginsburg/repos/spectral-cube/spectral_cube/spectral_cube.py:539: RuntimeWarning: All-NaN slice encountered\n",
      "  result = function(np.dstack((result, plane)), axis=2, **kwargs)\n"
     ]
    },
    {
     "name": "stdout",
     "output_type": "stream",
     "text": [
      "./member.uid___A001_X340_X84.S255_IR_sci.spw27.cube.I.pbcor.fits\n"
     ]
    },
    {
     "name": "stderr",
     "output_type": "stream",
     "text": [
      "WARNING: StokesWarning: Cube is a Stokes cube, returning spectral cube for I component [spectral_cube.io.core]\n",
      "WARNING: ExperimentalImplementationWarning: The line-finding routine is experimental.  Please report bugs on the Issues page: https://github.com/radio-astro-tools/spectral-cube/issues [spectral_cube.spectral_cube]\n"
     ]
    },
    {
     "name": "stdout",
     "output_type": "stream",
     "text": [
      "./member.uid___A001_X340_X84.S255_IR_sci.spw29.cube.I.pbcor.fits\n"
     ]
    },
    {
     "name": "stderr",
     "output_type": "stream",
     "text": [
      "WARNING: StokesWarning: Cube is a Stokes cube, returning spectral cube for I component [spectral_cube.io.core]\n",
      "WARNING: ExperimentalImplementationWarning: The line-finding routine is experimental.  Please report bugs on the Issues page: https://github.com/radio-astro-tools/spectral-cube/issues [spectral_cube.spectral_cube]\n"
     ]
    },
    {
     "name": "stdout",
     "output_type": "stream",
     "text": [
      "./member.uid___A001_X340_X84.S255_IR_sci.spw31.cube.I.pbcor.fits\n"
     ]
    },
    {
     "name": "stderr",
     "output_type": "stream",
     "text": [
      "WARNING: StokesWarning: Cube is a Stokes cube, returning spectral cube for I component [spectral_cube.io.core]\n",
      "WARNING: ExperimentalImplementationWarning: The line-finding routine is experimental.  Please report bugs on the Issues page: https://github.com/radio-astro-tools/spectral-cube/issues [spectral_cube.spectral_cube]\n"
     ]
    },
    {
     "name": "stdout",
     "output_type": "stream",
     "text": [
      "Species   ChemicalName   QNs      Freq    log10_Aij    EU_K   \n",
      "------- --------------- ----- ----------- --------- ----------\n",
      "NaClv=2 Sodium Chloride 27-26 345.7620205  -1.70658 1266.74326\n"
     ]
    },
    {
     "name": "stderr",
     "output_type": "stream",
     "text": [
      "/blue/adamginsburg/adamginsburg/repos/spectral-cube/spectral_cube/spectral_cube.py:539: RuntimeWarning: All-NaN slice encountered\n",
      "  result = function(np.dstack((result, plane)), axis=2, **kwargs)\n",
      "WARNING: AstropyDeprecationWarning: Using the table property is deprecated. Please use se to_table() instead. [pyvo.dal.query]\n",
      "WARNING: AstropyDeprecationWarning: Using the table property is deprecated. Please use se to_table() instead. [pyvo.dal.query]\n",
      "WARNING: AstropyDeprecationWarning: Using the table property is deprecated. Please use se to_table() instead. [pyvo.dal.query]\n"
     ]
    },
    {
     "name": "stdout",
     "output_type": "stream",
     "text": [
      "SKIP\n",
      "[] ['https://almascience.nrao.edu/dataPortal/2017.1.00098.S_uid___A001_X1288_X59f_001_of_001.tar']\n"
     ]
    },
    {
     "name": "stderr",
     "output_type": "stream",
     "text": [
      "WARNING: AstropyDeprecationWarning: Using the table property is deprecated. Please use se to_table() instead. [pyvo.dal.query]\n",
      "WARNING: AstropyDeprecationWarning: Using the table property is deprecated. Please use se to_table() instead. [pyvo.dal.query]\n",
      "WARNING: AstropyDeprecationWarning: Using the table property is deprecated. Please use se to_table() instead. [pyvo.dal.query]\n"
     ]
    },
    {
     "name": "stdout",
     "output_type": "stream",
     "text": [
      "SKIP\n",
      "[] ['https://almascience.nrao.edu/dataPortal/2017.1.00098.S_uid___A001_X1288_X59f_001_of_001.tar']\n"
     ]
    },
    {
     "name": "stderr",
     "output_type": "stream",
     "text": [
      "WARNING: AstropyDeprecationWarning: Using the table property is deprecated. Please use se to_table() instead. [pyvo.dal.query]\n",
      "WARNING: AstropyDeprecationWarning: Using the table property is deprecated. Please use se to_table() instead. [pyvo.dal.query]\n",
      "WARNING: AstropyDeprecationWarning: Using the table property is deprecated. Please use se to_table() instead. [pyvo.dal.query]\n"
     ]
    },
    {
     "name": "stdout",
     "output_type": "stream",
     "text": [
      "SKIP\n",
      "[] ['https://almascience.nrao.edu/dataPortal/2017.1.00098.S_uid___A001_X1288_X59f_001_of_001.tar']\n"
     ]
    },
    {
     "name": "stderr",
     "output_type": "stream",
     "text": [
      "WARNING: AstropyDeprecationWarning: Using the table property is deprecated. Please use se to_table() instead. [pyvo.dal.query]\n",
      "WARNING: AstropyDeprecationWarning: Using the table property is deprecated. Please use se to_table() instead. [pyvo.dal.query]\n",
      "WARNING: AstropyDeprecationWarning: Using the table property is deprecated. Please use se to_table() instead. [pyvo.dal.query]\n"
     ]
    },
    {
     "name": "stdout",
     "output_type": "stream",
     "text": [
      "Downloading URL https://almascience.nrao.edu/dataPortal/member.uid___A001_X1296_Xe6d._G336.01-0.82__sci.spw25.cube.I.pbcor.fits to ./member.uid___A001_X1296_Xe6d._G336.01-0.82__sci.spw25.cube.I.pbcor.fits ... [Done]\n",
      "Downloading URL https://almascience.nrao.edu/dataPortal/member.uid___A001_X1296_Xe6d._G336.01-0.82__sci.spw27.cube.I.pbcor.fits to ./member.uid___A001_X1296_Xe6d._G336.01-0.82__sci.spw27.cube.I.pbcor.fits ... [Done]\n",
      "Downloading URL https://almascience.nrao.edu/dataPortal/member.uid___A001_X1296_Xe6d._G336.01-0.82__sci.spw29.cube.I.pbcor.fits to ./member.uid___A001_X1296_Xe6d._G336.01-0.82__sci.spw29.cube.I.pbcor.fits ... [Done]\n",
      "Downloading URL https://almascience.nrao.edu/dataPortal/member.uid___A001_X1296_Xe6d._G336.01-0.82__sci.spw31.cube.I.pbcor.fits to ./member.uid___A001_X1296_Xe6d._G336.01-0.82__sci.spw31.cube.I.pbcor.fits ... [Done]\n",
      "./member.uid___A001_X1296_Xe6d._G336.01-0.82__sci.spw25.cube.I.pbcor.fits\n"
     ]
    },
    {
     "name": "stderr",
     "output_type": "stream",
     "text": [
      "WARNING: StokesWarning: Cube is a Stokes cube, returning spectral cube for I component [spectral_cube.io.core]\n",
      "WARNING: ExperimentalImplementationWarning: The line-finding routine is experimental.  Please report bugs on the Issues page: https://github.com/radio-astro-tools/spectral-cube/issues [spectral_cube.spectral_cube]\n"
     ]
    },
    {
     "name": "stdout",
     "output_type": "stream",
     "text": [
      "Species   ChemicalName   QNs     Freq   log10_Aij    EU_K  \n",
      "------- --------------- ----- --------- --------- ---------\n",
      "NaClv=0 Sodium Chloride 18-17 234.25183  -2.22932 106.84828\n",
      "./member.uid___A001_X1296_Xe6d._G336.01-0.82__sci.spw27.cube.I.pbcor.fits\n"
     ]
    },
    {
     "name": "stderr",
     "output_type": "stream",
     "text": [
      "WARNING: StokesWarning: Cube is a Stokes cube, returning spectral cube for I component [spectral_cube.io.core]\n",
      "WARNING: ExperimentalImplementationWarning: The line-finding routine is experimental.  Please report bugs on the Issues page: https://github.com/radio-astro-tools/spectral-cube/issues [spectral_cube.spectral_cube]\n"
     ]
    },
    {
     "name": "stdout",
     "output_type": "stream",
     "text": [
      "Species     ChemicalName     QNs      Freq    log10_Aij    EU_K  \n",
      "-------- ------------------ ----- ----------- --------- ---------\n",
      "41KClv=1 Potassium chloride 31-30 231.0880933   -2.1226 572.24213\n",
      "Species     ChemicalName     QNs      Freq    log10_Aij    EU_K  \n",
      "-------- ------------------ ----- ----------- --------- ---------\n",
      "41KClv=0 Potassium chloride 31-30 232.4997148  -2.11976 178.66839\n",
      "Species   ChemicalName   QNs     Freq   log10_Aij    EU_K  \n",
      "------- --------------- ----- --------- --------- ---------\n",
      "NaClv=1 Sodium Chloride 18-17 232.50995  -2.23334 625.66754\n",
      "./member.uid___A001_X1296_Xe6d._G336.01-0.82__sci.spw29.cube.I.pbcor.fits\n"
     ]
    },
    {
     "name": "stderr",
     "output_type": "stream",
     "text": [
      "WARNING: StokesWarning: Cube is a Stokes cube, returning spectral cube for I component [spectral_cube.io.core]\n",
      "WARNING: ExperimentalImplementationWarning: The line-finding routine is experimental.  Please report bugs on the Issues page: https://github.com/radio-astro-tools/spectral-cube/issues [spectral_cube.spectral_cube]\n"
     ]
    },
    {
     "name": "stdout",
     "output_type": "stream",
     "text": [
      "Species     ChemicalName     QNs      Freq    log10_Aij    EU_K  \n",
      "-------- ------------------ ----- ----------- --------- ---------\n",
      "41KClv=0 Potassium chloride 29-28 217.5430431  -2.20681 156.71091\n",
      "Species   ChemicalName   QNs      Freq    log10_Aij    EU_K   \n",
      "------- --------------- ----- ----------- --------- ----------\n",
      "NaClv=2 Sodium Chloride 17-16 217.9802149  -2.31227 1128.38157\n",
      "./member.uid___A001_X1296_Xe6d._G336.01-0.82__sci.spw31.cube.I.pbcor.fits\n"
     ]
    },
    {
     "name": "stderr",
     "output_type": "stream",
     "text": [
      "WARNING: StokesWarning: Cube is a Stokes cube, returning spectral cube for I component [spectral_cube.io.core]\n",
      "WARNING: ExperimentalImplementationWarning: The line-finding routine is experimental.  Please report bugs on the Issues page: https://github.com/radio-astro-tools/spectral-cube/issues [spectral_cube.spectral_cube]\n"
     ]
    },
    {
     "name": "stdout",
     "output_type": "stream",
     "text": [
      "Species   ChemicalName   QNs     Freq    log10_Aij    EU_K  \n",
      "------- --------------- ----- ---------- --------- ---------\n",
      "NaClv=1 Sodium Chloride 17-16 219.614922  -2.30839 614.50884\n"
     ]
    },
    {
     "name": "stderr",
     "output_type": "stream",
     "text": [
      "WARNING: AstropyDeprecationWarning: Using the table property is deprecated. Please use se to_table() instead. [pyvo.dal.query]\n",
      "WARNING: AstropyDeprecationWarning: Using the table property is deprecated. Please use se to_table() instead. [pyvo.dal.query]\n",
      "WARNING: AstropyDeprecationWarning: Using the table property is deprecated. Please use se to_table() instead. [pyvo.dal.query]\n"
     ]
    },
    {
     "name": "stdout",
     "output_type": "stream",
     "text": [
      "SKIP\n",
      "[] ['https://almascience.nrao.edu/dataPortal/2017.1.00098.S_uid___A001_X1288_X59f_001_of_001.tar']\n"
     ]
    },
    {
     "name": "stderr",
     "output_type": "stream",
     "text": [
      "WARNING: AstropyDeprecationWarning: Using the table property is deprecated. Please use se to_table() instead. [pyvo.dal.query]\n",
      "WARNING: AstropyDeprecationWarning: Using the table property is deprecated. Please use se to_table() instead. [pyvo.dal.query]\n",
      "WARNING: AstropyDeprecationWarning: Using the table property is deprecated. Please use se to_table() instead. [pyvo.dal.query]\n"
     ]
    },
    {
     "name": "stdout",
     "output_type": "stream",
     "text": [
      "SKIP\n",
      "[] ['https://almascience.nrao.edu/dataPortal/2017.1.00237.S_uid___A001_X1296_Xe77_001_of_001.tar']\n"
     ]
    },
    {
     "name": "stderr",
     "output_type": "stream",
     "text": [
      "WARNING: AstropyDeprecationWarning: Using the table property is deprecated. Please use se to_table() instead. [pyvo.dal.query]\n",
      "WARNING: AstropyDeprecationWarning: Using the table property is deprecated. Please use se to_table() instead. [pyvo.dal.query]\n",
      "WARNING: AstropyDeprecationWarning: Using the table property is deprecated. Please use se to_table() instead. [pyvo.dal.query]\n"
     ]
    },
    {
     "name": "stdout",
     "output_type": "stream",
     "text": [
      "SKIP\n",
      "[] ['https://almascience.nrao.edu/dataPortal/2017.1.00237.S_uid___A001_X1296_Xe77_001_of_001.tar']\n"
     ]
    },
    {
     "name": "stderr",
     "output_type": "stream",
     "text": [
      "WARNING: AstropyDeprecationWarning: Using the table property is deprecated. Please use se to_table() instead. [pyvo.dal.query]\n",
      "WARNING: AstropyDeprecationWarning: Using the table property is deprecated. Please use se to_table() instead. [pyvo.dal.query]\n",
      "WARNING: AstropyDeprecationWarning: Using the table property is deprecated. Please use se to_table() instead. [pyvo.dal.query]\n"
     ]
    },
    {
     "name": "stdout",
     "output_type": "stream",
     "text": [
      "SKIP\n",
      "[] ['https://almascience.nrao.edu/dataPortal/2017.1.00237.S_uid___A001_X1296_Xe77_001_of_001.tar']\n"
     ]
    },
    {
     "name": "stderr",
     "output_type": "stream",
     "text": [
      "WARNING: AstropyDeprecationWarning: Using the table property is deprecated. Please use se to_table() instead. [pyvo.dal.query]\n",
      "WARNING: AstropyDeprecationWarning: Using the table property is deprecated. Please use se to_table() instead. [pyvo.dal.query]\n",
      "WARNING: AstropyDeprecationWarning: Using the table property is deprecated. Please use se to_table() instead. [pyvo.dal.query]\n"
     ]
    },
    {
     "name": "stdout",
     "output_type": "stream",
     "text": [
      "SKIP\n",
      "[] ['https://almascience.nrao.edu/dataPortal/2017.1.00237.S_uid___A001_X1296_Xe77_001_of_001.tar']\n"
     ]
    },
    {
     "name": "stderr",
     "output_type": "stream",
     "text": [
      "WARNING: AstropyDeprecationWarning: Using the table property is deprecated. Please use se to_table() instead. [pyvo.dal.query]\n",
      "WARNING: AstropyDeprecationWarning: Using the table property is deprecated. Please use se to_table() instead. [pyvo.dal.query]\n",
      "WARNING: AstropyDeprecationWarning: Using the table property is deprecated. Please use se to_table() instead. [pyvo.dal.query]\n"
     ]
    },
    {
     "name": "stdout",
     "output_type": "stream",
     "text": [
      "SKIP\n",
      "[] ['https://almascience.nrao.edu/dataPortal/2017.1.00237.S_uid___A001_X1296_Xe77_001_of_001.tar']\n"
     ]
    },
    {
     "name": "stderr",
     "output_type": "stream",
     "text": [
      "WARNING: AstropyDeprecationWarning: Using the table property is deprecated. Please use se to_table() instead. [pyvo.dal.query]\n",
      "WARNING: AstropyDeprecationWarning: Using the table property is deprecated. Please use se to_table() instead. [pyvo.dal.query]\n"
     ]
    },
    {
     "name": "stdout",
     "output_type": "stream",
     "text": [
      "SKIP\n",
      "[] ['https://almascience.nrao.edu/dataPortal/2013.1.00048.S_uid___A001_X137_X11_001_of_001.tar']\n"
     ]
    },
    {
     "name": "stderr",
     "output_type": "stream",
     "text": [
      "WARNING: AstropyDeprecationWarning: Using the table property is deprecated. Please use se to_table() instead. [pyvo.dal.query]\n",
      "WARNING: AstropyDeprecationWarning: Using the table property is deprecated. Please use se to_table() instead. [pyvo.dal.query]\n"
     ]
    },
    {
     "name": "stdout",
     "output_type": "stream",
     "text": [
      "SKIP\n",
      "[] ['https://almascience.nrao.edu/dataPortal/2013.1.00048.S_uid___A001_X137_X11_001_of_001.tar']\n"
     ]
    },
    {
     "name": "stderr",
     "output_type": "stream",
     "text": [
      "WARNING: AstropyDeprecationWarning: Using the table property is deprecated. Please use se to_table() instead. [pyvo.dal.query]\n",
      "WARNING: AstropyDeprecationWarning: Using the table property is deprecated. Please use se to_table() instead. [pyvo.dal.query]\n",
      "WARNING: AstropyDeprecationWarning: Using the table property is deprecated. Please use se to_table() instead. [pyvo.dal.query]\n"
     ]
    },
    {
     "name": "stdout",
     "output_type": "stream",
     "text": [
      "SKIP\n",
      "[] ['https://almascience.nrao.edu/dataPortal/2016.1.00223.S_uid___A001_X87a_X696_001_of_001.tar']\n"
     ]
    },
    {
     "name": "stderr",
     "output_type": "stream",
     "text": [
      "WARNING: AstropyDeprecationWarning: Using the table property is deprecated. Please use se to_table() instead. [pyvo.dal.query]\n",
      "WARNING: AstropyDeprecationWarning: Using the table property is deprecated. Please use se to_table() instead. [pyvo.dal.query]\n"
     ]
    },
    {
     "name": "stdout",
     "output_type": "stream",
     "text": [
      "SKIP\n",
      "[] ['https://almascience.nrao.edu/dataPortal/2013.1.00048.S_uid___A001_X137_X15_001_of_001.tar']\n"
     ]
    },
    {
     "name": "stderr",
     "output_type": "stream",
     "text": [
      "WARNING: AstropyDeprecationWarning: Using the table property is deprecated. Please use se to_table() instead. [pyvo.dal.query]\n",
      "WARNING: AstropyDeprecationWarning: Using the table property is deprecated. Please use se to_table() instead. [pyvo.dal.query]\n",
      "WARNING: AstropyDeprecationWarning: Using the table property is deprecated. Please use se to_table() instead. [pyvo.dal.query]\n"
     ]
    },
    {
     "name": "stdout",
     "output_type": "stream",
     "text": [
      "SKIP\n",
      "[] ['https://almascience.nrao.edu/dataPortal/2016.1.00223.S_uid___A001_X87a_X696_001_of_001.tar']\n"
     ]
    },
    {
     "name": "stderr",
     "output_type": "stream",
     "text": [
      "WARNING: AstropyDeprecationWarning: Using the table property is deprecated. Please use se to_table() instead. [pyvo.dal.query]\n",
      "WARNING: AstropyDeprecationWarning: Using the table property is deprecated. Please use se to_table() instead. [pyvo.dal.query]\n",
      "WARNING: AstropyDeprecationWarning: Using the table property is deprecated. Please use se to_table() instead. [pyvo.dal.query]\n"
     ]
    },
    {
     "name": "stdout",
     "output_type": "stream",
     "text": [
      "SKIP\n",
      "[] ['https://almascience.nrao.edu/dataPortal/2016.1.00223.S_uid___A001_X87a_X696_001_of_001.tar']\n"
     ]
    },
    {
     "name": "stderr",
     "output_type": "stream",
     "text": [
      "WARNING: AstropyDeprecationWarning: Using the table property is deprecated. Please use se to_table() instead. [pyvo.dal.query]\n",
      "WARNING: AstropyDeprecationWarning: Using the table property is deprecated. Please use se to_table() instead. [pyvo.dal.query]\n",
      "WARNING: AstropyDeprecationWarning: Using the table property is deprecated. Please use se to_table() instead. [pyvo.dal.query]\n"
     ]
    },
    {
     "name": "stdout",
     "output_type": "stream",
     "text": [
      "SKIP\n",
      "[] ['https://almascience.nrao.edu/dataPortal/2016.1.00223.S_uid___A001_X87a_X696_001_of_001.tar']\n"
     ]
    },
    {
     "name": "stderr",
     "output_type": "stream",
     "text": [
      "WARNING: AstropyDeprecationWarning: Using the table property is deprecated. Please use se to_table() instead. [pyvo.dal.query]\n",
      "WARNING: AstropyDeprecationWarning: Using the table property is deprecated. Please use se to_table() instead. [pyvo.dal.query]\n",
      "WARNING: AstropyDeprecationWarning: Using the table property is deprecated. Please use se to_table() instead. [pyvo.dal.query]\n"
     ]
    },
    {
     "name": "stdout",
     "output_type": "stream",
     "text": [
      "SKIP\n",
      "[] ['https://almascience.nrao.edu/dataPortal/2016.1.00223.S_uid___A001_X87a_X696_001_of_001.tar']\n"
     ]
    },
    {
     "name": "stderr",
     "output_type": "stream",
     "text": [
      "WARNING: AstropyDeprecationWarning: Using the table property is deprecated. Please use se to_table() instead. [pyvo.dal.query]\n",
      "WARNING: AstropyDeprecationWarning: Using the table property is deprecated. Please use se to_table() instead. [pyvo.dal.query]\n"
     ]
    },
    {
     "name": "stdout",
     "output_type": "stream",
     "text": [
      "SKIP\n",
      "[] ['https://almascience.nrao.edu/dataPortal/2013.1.00048.S_uid___A001_X137_Xd_001_of_001.tar']\n"
     ]
    },
    {
     "name": "stderr",
     "output_type": "stream",
     "text": [
      "WARNING: AstropyDeprecationWarning: Using the table property is deprecated. Please use se to_table() instead. [pyvo.dal.query]\n",
      "WARNING: AstropyDeprecationWarning: Using the table property is deprecated. Please use se to_table() instead. [pyvo.dal.query]\n"
     ]
    },
    {
     "name": "stdout",
     "output_type": "stream",
     "text": [
      "SKIP\n",
      "[] ['https://almascience.nrao.edu/dataPortal/2013.1.00048.S_uid___A001_X137_Xd_001_of_001.tar']\n"
     ]
    },
    {
     "name": "stderr",
     "output_type": "stream",
     "text": [
      "WARNING: AstropyDeprecationWarning: Using the table property is deprecated. Please use se to_table() instead. [pyvo.dal.query]\n",
      "WARNING: AstropyDeprecationWarning: Using the table property is deprecated. Please use se to_table() instead. [pyvo.dal.query]\n"
     ]
    },
    {
     "name": "stdout",
     "output_type": "stream",
     "text": [
      "SKIP\n",
      "[] ['https://almascience.nrao.edu/dataPortal/2013.1.00048.S_uid___A001_X137_Xd_001_of_001.tar']\n"
     ]
    },
    {
     "name": "stderr",
     "output_type": "stream",
     "text": [
      "WARNING: AstropyDeprecationWarning: Using the table property is deprecated. Please use se to_table() instead. [pyvo.dal.query]\n",
      "WARNING: AstropyDeprecationWarning: Using the table property is deprecated. Please use se to_table() instead. [pyvo.dal.query]\n"
     ]
    },
    {
     "name": "stdout",
     "output_type": "stream",
     "text": [
      "SKIP\n",
      "[] ['https://almascience.nrao.edu/dataPortal/2013.1.00048.S_uid___A001_X137_Xd_001_of_001.tar']\n"
     ]
    },
    {
     "name": "stderr",
     "output_type": "stream",
     "text": [
      "WARNING: AstropyDeprecationWarning: Using the table property is deprecated. Please use se to_table() instead. [pyvo.dal.query]\n",
      "WARNING: AstropyDeprecationWarning: Using the table property is deprecated. Please use se to_table() instead. [pyvo.dal.query]\n",
      "WARNING: AstropyDeprecationWarning: Using the table property is deprecated. Please use se to_table() instead. [pyvo.dal.query]\n"
     ]
    },
    {
     "name": "stdout",
     "output_type": "stream",
     "text": [
      "SKIP\n",
      "[] ['https://almascience.nrao.edu/dataPortal/2016.1.00223.S_uid___A001_X87a_X696_001_of_001.tar']\n"
     ]
    },
    {
     "name": "stderr",
     "output_type": "stream",
     "text": [
      "WARNING: AstropyDeprecationWarning: Using the table property is deprecated. Please use se to_table() instead. [pyvo.dal.query]\n",
      "WARNING: AstropyDeprecationWarning: Using the table property is deprecated. Please use se to_table() instead. [pyvo.dal.query]\n",
      "WARNING: AstropyDeprecationWarning: Using the table property is deprecated. Please use se to_table() instead. [pyvo.dal.query]\n"
     ]
    },
    {
     "name": "stdout",
     "output_type": "stream",
     "text": [
      "SKIP\n",
      "[] ['https://almascience.nrao.edu/dataPortal/2016.1.00223.S_uid___A001_X87a_X696_001_of_001.tar']\n"
     ]
    },
    {
     "name": "stderr",
     "output_type": "stream",
     "text": [
      "WARNING: AstropyDeprecationWarning: Using the table property is deprecated. Please use se to_table() instead. [pyvo.dal.query]\n",
      "WARNING: AstropyDeprecationWarning: Using the table property is deprecated. Please use se to_table() instead. [pyvo.dal.query]\n",
      "WARNING: AstropyDeprecationWarning: Using the table property is deprecated. Please use se to_table() instead. [pyvo.dal.query]\n"
     ]
    },
    {
     "name": "stdout",
     "output_type": "stream",
     "text": [
      "SKIP\n",
      "[] ['https://almascience.nrao.edu/dataPortal/2016.1.00223.S_uid___A001_X87a_X69a_001_of_001.tar']\n"
     ]
    },
    {
     "name": "stderr",
     "output_type": "stream",
     "text": [
      "WARNING: AstropyDeprecationWarning: Using the table property is deprecated. Please use se to_table() instead. [pyvo.dal.query]\n",
      "WARNING: AstropyDeprecationWarning: Using the table property is deprecated. Please use se to_table() instead. [pyvo.dal.query]\n",
      "WARNING: AstropyDeprecationWarning: Using the table property is deprecated. Please use se to_table() instead. [pyvo.dal.query]\n"
     ]
    },
    {
     "name": "stdout",
     "output_type": "stream",
     "text": [
      "SKIP\n",
      "[] ['https://almascience.nrao.edu/dataPortal/2016.1.00223.S_uid___A001_X87a_X69a_001_of_001.tar']\n"
     ]
    },
    {
     "name": "stderr",
     "output_type": "stream",
     "text": [
      "WARNING: AstropyDeprecationWarning: Using the table property is deprecated. Please use se to_table() instead. [pyvo.dal.query]\n",
      "WARNING: AstropyDeprecationWarning: Using the table property is deprecated. Please use se to_table() instead. [pyvo.dal.query]\n",
      "WARNING: AstropyDeprecationWarning: Using the table property is deprecated. Please use se to_table() instead. [pyvo.dal.query]\n"
     ]
    },
    {
     "name": "stdout",
     "output_type": "stream",
     "text": [
      "SKIP\n",
      "[] ['https://almascience.nrao.edu/dataPortal/2016.1.00223.S_uid___A001_X87a_X69a_001_of_001.tar']\n"
     ]
    },
    {
     "name": "stderr",
     "output_type": "stream",
     "text": [
      "WARNING: AstropyDeprecationWarning: Using the table property is deprecated. Please use se to_table() instead. [pyvo.dal.query]\n",
      "WARNING: AstropyDeprecationWarning: Using the table property is deprecated. Please use se to_table() instead. [pyvo.dal.query]\n",
      "WARNING: AstropyDeprecationWarning: Using the table property is deprecated. Please use se to_table() instead. [pyvo.dal.query]\n"
     ]
    },
    {
     "name": "stdout",
     "output_type": "stream",
     "text": [
      "SKIP\n",
      "[] ['https://almascience.nrao.edu/dataPortal/2016.1.00223.S_uid___A001_X87a_X69a_001_of_001.tar']\n"
     ]
    },
    {
     "name": "stderr",
     "output_type": "stream",
     "text": [
      "WARNING: AstropyDeprecationWarning: Using the table property is deprecated. Please use se to_table() instead. [pyvo.dal.query]\n",
      "WARNING: AstropyDeprecationWarning: Using the table property is deprecated. Please use se to_table() instead. [pyvo.dal.query]\n"
     ]
    },
    {
     "name": "stdout",
     "output_type": "stream",
     "text": [
      "SKIP\n",
      "[] ['https://almascience.nrao.edu/dataPortal/2013.1.00048.S_uid___A001_X137_X11_001_of_001.tar']\n"
     ]
    },
    {
     "name": "stderr",
     "output_type": "stream",
     "text": [
      "WARNING: AstropyDeprecationWarning: Using the table property is deprecated. Please use se to_table() instead. [pyvo.dal.query]\n",
      "WARNING: AstropyDeprecationWarning: Using the table property is deprecated. Please use se to_table() instead. [pyvo.dal.query]\n"
     ]
    },
    {
     "name": "stdout",
     "output_type": "stream",
     "text": [
      "SKIP\n",
      "[] ['https://almascience.nrao.edu/dataPortal/2013.1.00048.S_uid___A001_X137_X15_001_of_001.tar']\n"
     ]
    },
    {
     "name": "stderr",
     "output_type": "stream",
     "text": [
      "WARNING: AstropyDeprecationWarning: Using the table property is deprecated. Please use se to_table() instead. [pyvo.dal.query]\n",
      "WARNING: AstropyDeprecationWarning: Using the table property is deprecated. Please use se to_table() instead. [pyvo.dal.query]\n",
      "WARNING: AstropyDeprecationWarning: Using the table property is deprecated. Please use se to_table() instead. [pyvo.dal.query]\n"
     ]
    },
    {
     "name": "stdout",
     "output_type": "stream",
     "text": [
      "SKIP\n",
      "[] ['https://almascience.nrao.edu/dataPortal/2016.1.00223.S_uid___A001_X87a_X696_001_of_001.tar']\n"
     ]
    },
    {
     "name": "stderr",
     "output_type": "stream",
     "text": [
      "WARNING: AstropyDeprecationWarning: Using the table property is deprecated. Please use se to_table() instead. [pyvo.dal.query]\n",
      "WARNING: AstropyDeprecationWarning: Using the table property is deprecated. Please use se to_table() instead. [pyvo.dal.query]\n",
      "WARNING: AstropyDeprecationWarning: Using the table property is deprecated. Please use se to_table() instead. [pyvo.dal.query]\n"
     ]
    },
    {
     "name": "stdout",
     "output_type": "stream",
     "text": [
      "SKIP\n",
      "[] ['https://almascience.nrao.edu/dataPortal/2016.1.00223.S_uid___A001_X87a_X696_001_of_001.tar']\n"
     ]
    },
    {
     "name": "stderr",
     "output_type": "stream",
     "text": [
      "WARNING: AstropyDeprecationWarning: Using the table property is deprecated. Please use se to_table() instead. [pyvo.dal.query]\n",
      "WARNING: AstropyDeprecationWarning: Using the table property is deprecated. Please use se to_table() instead. [pyvo.dal.query]\n",
      "WARNING: AstropyDeprecationWarning: Using the table property is deprecated. Please use se to_table() instead. [pyvo.dal.query]\n"
     ]
    },
    {
     "name": "stdout",
     "output_type": "stream",
     "text": [
      "SKIP\n",
      "[] ['https://almascience.nrao.edu/dataPortal/2016.1.00223.S_uid___A001_X87a_X696_001_of_001.tar']\n"
     ]
    },
    {
     "name": "stderr",
     "output_type": "stream",
     "text": [
      "WARNING: AstropyDeprecationWarning: Using the table property is deprecated. Please use se to_table() instead. [pyvo.dal.query]\n",
      "WARNING: AstropyDeprecationWarning: Using the table property is deprecated. Please use se to_table() instead. [pyvo.dal.query]\n",
      "WARNING: AstropyDeprecationWarning: Using the table property is deprecated. Please use se to_table() instead. [pyvo.dal.query]\n"
     ]
    },
    {
     "name": "stdout",
     "output_type": "stream",
     "text": [
      "SKIP\n",
      "[] ['https://almascience.nrao.edu/dataPortal/2016.1.00223.S_uid___A001_X87a_X696_001_of_001.tar']\n"
     ]
    },
    {
     "name": "stderr",
     "output_type": "stream",
     "text": [
      "WARNING: AstropyDeprecationWarning: Using the table property is deprecated. Please use se to_table() instead. [pyvo.dal.query]\n",
      "WARNING: AstropyDeprecationWarning: Using the table property is deprecated. Please use se to_table() instead. [pyvo.dal.query]\n",
      "WARNING: AstropyDeprecationWarning: Using the table property is deprecated. Please use se to_table() instead. [pyvo.dal.query]\n"
     ]
    },
    {
     "name": "stdout",
     "output_type": "stream",
     "text": [
      "SKIP\n",
      "[] ['https://almascience.nrao.edu/dataPortal/2016.1.00223.S_uid___A001_X87a_X696_001_of_001.tar']\n"
     ]
    },
    {
     "name": "stderr",
     "output_type": "stream",
     "text": [
      "WARNING: AstropyDeprecationWarning: Using the table property is deprecated. Please use se to_table() instead. [pyvo.dal.query]\n",
      "WARNING: AstropyDeprecationWarning: Using the table property is deprecated. Please use se to_table() instead. [pyvo.dal.query]\n",
      "WARNING: AstropyDeprecationWarning: Using the table property is deprecated. Please use se to_table() instead. [pyvo.dal.query]\n"
     ]
    },
    {
     "name": "stdout",
     "output_type": "stream",
     "text": [
      "SKIP\n",
      "[] ['https://almascience.nrao.edu/dataPortal/2016.1.00223.S_uid___A001_X87a_X696_001_of_001.tar']\n"
     ]
    },
    {
     "name": "stderr",
     "output_type": "stream",
     "text": [
      "WARNING: AstropyDeprecationWarning: Using the table property is deprecated. Please use se to_table() instead. [pyvo.dal.query]\n",
      "WARNING: AstropyDeprecationWarning: Using the table property is deprecated. Please use se to_table() instead. [pyvo.dal.query]\n"
     ]
    },
    {
     "name": "stdout",
     "output_type": "stream",
     "text": [
      "SKIP\n",
      "[] ['https://almascience.nrao.edu/dataPortal/2013.1.00048.S_uid___A001_X137_X11_001_of_001.tar']\n"
     ]
    },
    {
     "name": "stderr",
     "output_type": "stream",
     "text": [
      "WARNING: AstropyDeprecationWarning: Using the table property is deprecated. Please use se to_table() instead. [pyvo.dal.query]\n",
      "WARNING: AstropyDeprecationWarning: Using the table property is deprecated. Please use se to_table() instead. [pyvo.dal.query]\n",
      "WARNING: AstropyDeprecationWarning: Using the table property is deprecated. Please use se to_table() instead. [pyvo.dal.query]\n"
     ]
    },
    {
     "name": "stdout",
     "output_type": "stream",
     "text": [
      "SKIP\n",
      "[] ['https://almascience.nrao.edu/dataPortal/2017.1.00237.S_uid___A001_X1296_Xe77_001_of_001.tar']\n"
     ]
    },
    {
     "name": "stderr",
     "output_type": "stream",
     "text": [
      "WARNING: AstropyDeprecationWarning: Using the table property is deprecated. Please use se to_table() instead. [pyvo.dal.query]\n",
      "WARNING: AstropyDeprecationWarning: Using the table property is deprecated. Please use se to_table() instead. [pyvo.dal.query]\n",
      "WARNING: AstropyDeprecationWarning: Using the table property is deprecated. Please use se to_table() instead. [pyvo.dal.query]\n"
     ]
    },
    {
     "name": "stdout",
     "output_type": "stream",
     "text": [
      "SKIP\n",
      "[] ['https://almascience.nrao.edu/dataPortal/2017.1.00237.S_uid___A001_X1296_Xe77_001_of_001.tar']\n"
     ]
    },
    {
     "name": "stderr",
     "output_type": "stream",
     "text": [
      "WARNING: AstropyDeprecationWarning: Using the table property is deprecated. Please use se to_table() instead. [pyvo.dal.query]\n",
      "WARNING: AstropyDeprecationWarning: Using the table property is deprecated. Please use se to_table() instead. [pyvo.dal.query]\n",
      "WARNING: AstropyDeprecationWarning: Using the table property is deprecated. Please use se to_table() instead. [pyvo.dal.query]\n"
     ]
    },
    {
     "name": "stdout",
     "output_type": "stream",
     "text": [
      "SKIP\n",
      "[] ['https://almascience.nrao.edu/dataPortal/2017.1.00237.S_uid___A001_X1296_Xe77_001_of_001.tar']\n"
     ]
    },
    {
     "name": "stderr",
     "output_type": "stream",
     "text": [
      "WARNING: AstropyDeprecationWarning: Using the table property is deprecated. Please use se to_table() instead. [pyvo.dal.query]\n",
      "WARNING: AstropyDeprecationWarning: Using the table property is deprecated. Please use se to_table() instead. [pyvo.dal.query]\n"
     ]
    },
    {
     "name": "stdout",
     "output_type": "stream",
     "text": [
      "SKIP\n",
      "[] ['https://almascience.nrao.edu/dataPortal/2015.1.00357.S_uid___A001_X2d8_Xbe_001_of_001.tar']\n"
     ]
    },
    {
     "name": "stderr",
     "output_type": "stream",
     "text": [
      "WARNING: AstropyDeprecationWarning: Using the table property is deprecated. Please use se to_table() instead. [pyvo.dal.query]\n",
      "WARNING: AstropyDeprecationWarning: Using the table property is deprecated. Please use se to_table() instead. [pyvo.dal.query]\n"
     ]
    },
    {
     "name": "stdout",
     "output_type": "stream",
     "text": [
      "SKIP\n",
      "[] ['https://almascience.nrao.edu/dataPortal/2015.1.00357.S_uid___A001_X2d8_Xb4_001_of_001.tar']\n"
     ]
    },
    {
     "name": "stderr",
     "output_type": "stream",
     "text": [
      "WARNING: AstropyDeprecationWarning: Using the table property is deprecated. Please use se to_table() instead. [pyvo.dal.query]\n",
      "WARNING: AstropyDeprecationWarning: Using the table property is deprecated. Please use se to_table() instead. [pyvo.dal.query]\n"
     ]
    },
    {
     "name": "stdout",
     "output_type": "stream",
     "text": [
      "SKIP\n",
      "[] ['https://almascience.nrao.edu/dataPortal/2015.1.00357.S_uid___A001_X2d8_Xbe_001_of_001.tar']\n"
     ]
    },
    {
     "name": "stderr",
     "output_type": "stream",
     "text": [
      "WARNING: AstropyDeprecationWarning: Using the table property is deprecated. Please use se to_table() instead. [pyvo.dal.query]\n",
      "WARNING: AstropyDeprecationWarning: Using the table property is deprecated. Please use se to_table() instead. [pyvo.dal.query]\n"
     ]
    },
    {
     "name": "stdout",
     "output_type": "stream",
     "text": [
      "SKIP\n",
      "[] ['https://almascience.nrao.edu/dataPortal/2015.1.00424.S_uid___A001_X33e_Xa0_001_of_001.tar', 'https://almascience.nrao.edu/dataPortal/2015.1.00424.S_uid___A001_X33e_Xa0_external_ari_l_001_of_001.tar']\n"
     ]
    },
    {
     "name": "stderr",
     "output_type": "stream",
     "text": [
      "WARNING: AstropyDeprecationWarning: Using the table property is deprecated. Please use se to_table() instead. [pyvo.dal.query]\n",
      "WARNING: AstropyDeprecationWarning: Using the table property is deprecated. Please use se to_table() instead. [pyvo.dal.query]\n"
     ]
    },
    {
     "name": "stdout",
     "output_type": "stream",
     "text": [
      "SKIP\n",
      "[] ['https://almascience.nrao.edu/dataPortal/2015.1.00424.S_uid___A001_X33e_Xa0_001_of_001.tar', 'https://almascience.nrao.edu/dataPortal/2015.1.00424.S_uid___A001_X33e_Xa0_external_ari_l_001_of_001.tar']\n"
     ]
    },
    {
     "name": "stderr",
     "output_type": "stream",
     "text": [
      "WARNING: AstropyDeprecationWarning: Using the table property is deprecated. Please use se to_table() instead. [pyvo.dal.query]\n",
      "WARNING: AstropyDeprecationWarning: Using the table property is deprecated. Please use se to_table() instead. [pyvo.dal.query]\n"
     ]
    },
    {
     "name": "stdout",
     "output_type": "stream",
     "text": [
      "SKIP\n",
      "[] ['https://almascience.nrao.edu/dataPortal/2015.1.00424.S_uid___A001_X33e_Xa0_001_of_001.tar', 'https://almascience.nrao.edu/dataPortal/2015.1.00424.S_uid___A001_X33e_Xa0_external_ari_l_001_of_001.tar']\n"
     ]
    },
    {
     "name": "stderr",
     "output_type": "stream",
     "text": [
      "WARNING: AstropyDeprecationWarning: Using the table property is deprecated. Please use se to_table() instead. [pyvo.dal.query]\n",
      "WARNING: AstropyDeprecationWarning: Using the table property is deprecated. Please use se to_table() instead. [pyvo.dal.query]\n"
     ]
    },
    {
     "name": "stdout",
     "output_type": "stream",
     "text": [
      "SKIP\n",
      "[] ['https://almascience.nrao.edu/dataPortal/2015.1.00424.S_uid___A001_X33e_Xa0_001_of_001.tar', 'https://almascience.nrao.edu/dataPortal/2015.1.00424.S_uid___A001_X33e_Xa0_external_ari_l_001_of_001.tar']\n"
     ]
    },
    {
     "name": "stderr",
     "output_type": "stream",
     "text": [
      "WARNING: AstropyDeprecationWarning: Using the table property is deprecated. Please use se to_table() instead. [pyvo.dal.query]\n",
      "WARNING: AstropyDeprecationWarning: Using the table property is deprecated. Please use se to_table() instead. [pyvo.dal.query]\n"
     ]
    },
    {
     "name": "stdout",
     "output_type": "stream",
     "text": [
      "SKIP\n",
      "[] ['https://almascience.nrao.edu/dataPortal/2015.1.00424.S_uid___A001_X33e_Xa0_001_of_001.tar', 'https://almascience.nrao.edu/dataPortal/2015.1.00424.S_uid___A001_X33e_Xa0_external_ari_l_001_of_001.tar']\n"
     ]
    },
    {
     "name": "stderr",
     "output_type": "stream",
     "text": [
      "WARNING: AstropyDeprecationWarning: Using the table property is deprecated. Please use se to_table() instead. [pyvo.dal.query]\n",
      "WARNING: AstropyDeprecationWarning: Using the table property is deprecated. Please use se to_table() instead. [pyvo.dal.query]\n",
      "WARNING: AstropyDeprecationWarning: Using the table property is deprecated. Please use se to_table() instead. [pyvo.dal.query]\n"
     ]
    },
    {
     "name": "stdout",
     "output_type": "stream",
     "text": [
      "Downloading URL https://almascience.nrao.edu/dataPortal/member.uid___A001_X1273_X39d.HD_34282_sci.spw25.cube.I.pbcor.fits to ./member.uid___A001_X1273_X39d.HD_34282_sci.spw25.cube.I.pbcor.fits ... [Done]\n",
      "Downloading URL https://almascience.nrao.edu/dataPortal/member.uid___A001_X1273_X39d.HD_34282_sci.spw27.cube.I.pbcor.fits to ./member.uid___A001_X1273_X39d.HD_34282_sci.spw27.cube.I.pbcor.fits ... [Done]\n",
      "Downloading URL https://almascience.nrao.edu/dataPortal/member.uid___A001_X1273_X39d.HD_34282_sci.spw29.cube.I.pbcor.fits to ./member.uid___A001_X1273_X39d.HD_34282_sci.spw29.cube.I.pbcor.fits ... [Done]\n",
      "Downloading URL https://almascience.nrao.edu/dataPortal/member.uid___A001_X1273_X39d.HD_34282_sci.spw31.cube.I.pbcor.fits to ./member.uid___A001_X1273_X39d.HD_34282_sci.spw31.cube.I.pbcor.fits ... [Done]\n",
      "Downloading URL https://almascience.nrao.edu/dataPortal/member.uid___A001_X1273_X39d.HD_34282_sci.spw33.cube.I.pbcor.fits to ./member.uid___A001_X1273_X39d.HD_34282_sci.spw33.cube.I.pbcor.fits ... [Done]\n",
      "./member.uid___A001_X1273_X39d.HD_34282_sci.spw25.cube.I.pbcor.fits\n"
     ]
    },
    {
     "name": "stderr",
     "output_type": "stream",
     "text": [
      "WARNING: StokesWarning: Cube is a Stokes cube, returning spectral cube for I component [spectral_cube.io.core]\n",
      "WARNING: ExperimentalImplementationWarning: The line-finding routine is experimental.  Please report bugs on the Issues page: https://github.com/radio-astro-tools/spectral-cube/issues [spectral_cube.spectral_cube]\n"
     ]
    },
    {
     "name": "stdout",
     "output_type": "stream",
     "text": [
      "./member.uid___A001_X1273_X39d.HD_34282_sci.spw27.cube.I.pbcor.fits\n"
     ]
    },
    {
     "name": "stderr",
     "output_type": "stream",
     "text": [
      "WARNING: StokesWarning: Cube is a Stokes cube, returning spectral cube for I component [spectral_cube.io.core]\n",
      "WARNING: ExperimentalImplementationWarning: The line-finding routine is experimental.  Please report bugs on the Issues page: https://github.com/radio-astro-tools/spectral-cube/issues [spectral_cube.spectral_cube]\n"
     ]
    },
    {
     "name": "stdout",
     "output_type": "stream",
     "text": [
      "Species   ChemicalName   QNs     Freq   log10_Aij    EU_K  \n",
      "------- --------------- ----- --------- --------- ---------\n",
      "NaClv=0 Sodium Chloride 18-17 234.25183  -2.22932 106.84828\n",
      "./member.uid___A001_X1273_X39d.HD_34282_sci.spw29.cube.I.pbcor.fits\n"
     ]
    },
    {
     "name": "stderr",
     "output_type": "stream",
     "text": [
      "WARNING: StokesWarning: Cube is a Stokes cube, returning spectral cube for I component [spectral_cube.io.core]\n",
      "WARNING: ExperimentalImplementationWarning: The line-finding routine is experimental.  Please report bugs on the Issues page: https://github.com/radio-astro-tools/spectral-cube/issues [spectral_cube.spectral_cube]\n"
     ]
    },
    {
     "name": "stdout",
     "output_type": "stream",
     "text": [
      "Species   ChemicalName   QNs      Freq    log10_Aij    EU_K   \n",
      "------- --------------- ----- ----------- --------- ----------\n",
      "NaClv=3 Sodium Chloride 17-16 216.3560118  -2.31626 1637.27494\n",
      "Species     ChemicalName     QNs      Freq    log10_Aij    EU_K  \n",
      "-------- ------------------ ----- ----------- --------- ---------\n",
      "41KClv=0 Potassium chloride 29-28 217.5430431  -2.20681 156.71091\n",
      "Species   ChemicalName   QNs      Freq    log10_Aij    EU_K   \n",
      "------- --------------- ----- ----------- --------- ----------\n",
      "NaClv=2 Sodium Chloride 17-16 217.9802149  -2.31227 1128.38157\n",
      "./member.uid___A001_X1273_X39d.HD_34282_sci.spw31.cube.I.pbcor.fits\n"
     ]
    },
    {
     "name": "stderr",
     "output_type": "stream",
     "text": [
      "WARNING: StokesWarning: Cube is a Stokes cube, returning spectral cube for I component [spectral_cube.io.core]\n",
      "WARNING: ExperimentalImplementationWarning: The line-finding routine is experimental.  Please report bugs on the Issues page: https://github.com/radio-astro-tools/spectral-cube/issues [spectral_cube.spectral_cube]\n"
     ]
    },
    {
     "name": "stdout",
     "output_type": "stream",
     "text": [
      "./member.uid___A001_X1273_X39d.HD_34282_sci.spw33.cube.I.pbcor.fits\n"
     ]
    },
    {
     "name": "stderr",
     "output_type": "stream",
     "text": [
      "WARNING: StokesWarning: Cube is a Stokes cube, returning spectral cube for I component [spectral_cube.io.core]\n",
      "WARNING: ExperimentalImplementationWarning: The line-finding routine is experimental.  Please report bugs on the Issues page: https://github.com/radio-astro-tools/spectral-cube/issues [spectral_cube.spectral_cube]\n"
     ]
    },
    {
     "name": "stdout",
     "output_type": "stream",
     "text": [
      "Species   ChemicalName   QNs     Freq    log10_Aij    EU_K  \n",
      "------- --------------- ----- ---------- --------- ---------\n",
      "NaClv=1 Sodium Chloride 17-16 219.614922  -2.30839 614.50884\n"
     ]
    },
    {
     "name": "stderr",
     "output_type": "stream",
     "text": [
      "WARNING: AstropyDeprecationWarning: Using the table property is deprecated. Please use se to_table() instead. [pyvo.dal.query]\n",
      "WARNING: AstropyDeprecationWarning: Using the table property is deprecated. Please use se to_table() instead. [pyvo.dal.query]\n"
     ]
    },
    {
     "name": "stdout",
     "output_type": "stream",
     "text": [
      "SKIP\n",
      "[] ['https://almascience.nrao.edu/dataPortal/2015.1.00357.S_uid___A001_X2d8_Xb4_001_of_001.tar']\n"
     ]
    },
    {
     "name": "stderr",
     "output_type": "stream",
     "text": [
      "WARNING: AstropyDeprecationWarning: Using the table property is deprecated. Please use se to_table() instead. [pyvo.dal.query]\n",
      "WARNING: AstropyDeprecationWarning: Using the table property is deprecated. Please use se to_table() instead. [pyvo.dal.query]\n"
     ]
    },
    {
     "name": "stdout",
     "output_type": "stream",
     "text": [
      "SKIP\n",
      "[] ['https://almascience.nrao.edu/dataPortal/2015.1.00357.S_uid___A001_X2d8_Xb4_001_of_001.tar']\n"
     ]
    },
    {
     "name": "stderr",
     "output_type": "stream",
     "text": [
      "WARNING: AstropyDeprecationWarning: Using the table property is deprecated. Please use se to_table() instead. [pyvo.dal.query]\n",
      "WARNING: AstropyDeprecationWarning: Using the table property is deprecated. Please use se to_table() instead. [pyvo.dal.query]\n",
      "WARNING: AstropyDeprecationWarning: Using the table property is deprecated. Please use se to_table() instead. [pyvo.dal.query]\n"
     ]
    },
    {
     "name": "stdout",
     "output_type": "stream",
     "text": [
      "SKIP\n",
      "[] ['https://almascience.nrao.edu/dataPortal/2016.1.01068.S_uid___A001_X8c4_X5c_001_of_001.tar']\n"
     ]
    },
    {
     "name": "stderr",
     "output_type": "stream",
     "text": [
      "WARNING: AstropyDeprecationWarning: Using the table property is deprecated. Please use se to_table() instead. [pyvo.dal.query]\n",
      "WARNING: AstropyDeprecationWarning: Using the table property is deprecated. Please use se to_table() instead. [pyvo.dal.query]\n",
      "WARNING: AstropyDeprecationWarning: Using the table property is deprecated. Please use se to_table() instead. [pyvo.dal.query]\n"
     ]
    },
    {
     "name": "stdout",
     "output_type": "stream",
     "text": [
      "SKIP\n",
      "[] ['https://almascience.nrao.edu/dataPortal/2016.1.01068.S_uid___A001_X8c4_X5c_001_of_001.tar']\n"
     ]
    },
    {
     "name": "stderr",
     "output_type": "stream",
     "text": [
      "WARNING: AstropyDeprecationWarning: Using the table property is deprecated. Please use se to_table() instead. [pyvo.dal.query]\n",
      "WARNING: AstropyDeprecationWarning: Using the table property is deprecated. Please use se to_table() instead. [pyvo.dal.query]\n",
      "WARNING: AstropyDeprecationWarning: Using the table property is deprecated. Please use se to_table() instead. [pyvo.dal.query]\n"
     ]
    },
    {
     "name": "stdout",
     "output_type": "stream",
     "text": [
      "SKIP\n",
      "[] ['https://almascience.nrao.edu/dataPortal/2016.1.01068.S_uid___A001_X8c4_X5c_001_of_001.tar']\n"
     ]
    },
    {
     "name": "stderr",
     "output_type": "stream",
     "text": [
      "WARNING: AstropyDeprecationWarning: Using the table property is deprecated. Please use se to_table() instead. [pyvo.dal.query]\n",
      "WARNING: AstropyDeprecationWarning: Using the table property is deprecated. Please use se to_table() instead. [pyvo.dal.query]\n",
      "WARNING: AstropyDeprecationWarning: Using the table property is deprecated. Please use se to_table() instead. [pyvo.dal.query]\n"
     ]
    },
    {
     "name": "stdout",
     "output_type": "stream",
     "text": [
      "Downloading URL https://almascience.nrao.edu/dataPortal/member.uid___A001_X1296_Xe7c._G14.22-0.50_S__sci.spw25.cube.I.pbcor.fits to ./member.uid___A001_X1296_Xe7c._G14.22-0.50_S__sci.spw25.cube.I.pbcor.fits ... [Done]\n",
      "Downloading URL https://almascience.nrao.edu/dataPortal/member.uid___A001_X1296_Xe7c._G14.22-0.50_S__sci.spw27.cube.I.pbcor.fits to ./member.uid___A001_X1296_Xe7c._G14.22-0.50_S__sci.spw27.cube.I.pbcor.fits ... [Done]\n",
      "Downloading URL https://almascience.nrao.edu/dataPortal/member.uid___A001_X1296_Xe7c._G14.22-0.50_S__sci.spw29.cube.I.pbcor.fits to ./member.uid___A001_X1296_Xe7c._G14.22-0.50_S__sci.spw29.cube.I.pbcor.fits ... [Done]\n",
      "Downloading URL https://almascience.nrao.edu/dataPortal/member.uid___A001_X1296_Xe7c._G14.22-0.50_S__sci.spw31.cube.I.pbcor.fits to ./member.uid___A001_X1296_Xe7c._G14.22-0.50_S__sci.spw31.cube.I.pbcor.fits ... [Done]\n",
      "./member.uid___A001_X1296_Xe7c._G14.22-0.50_S__sci.spw25.cube.I.pbcor.fits\n"
     ]
    },
    {
     "name": "stderr",
     "output_type": "stream",
     "text": [
      "WARNING: StokesWarning: Cube is a Stokes cube, returning spectral cube for I component [spectral_cube.io.core]\n",
      "WARNING: ExperimentalImplementationWarning: The line-finding routine is experimental.  Please report bugs on the Issues page: https://github.com/radio-astro-tools/spectral-cube/issues [spectral_cube.spectral_cube]\n"
     ]
    },
    {
     "name": "stdout",
     "output_type": "stream",
     "text": [
      "Species   ChemicalName   QNs     Freq   log10_Aij    EU_K  \n",
      "------- --------------- ----- --------- --------- ---------\n",
      "NaClv=0 Sodium Chloride 18-17 234.25183  -2.22932 106.84828\n",
      "./member.uid___A001_X1296_Xe7c._G14.22-0.50_S__sci.spw27.cube.I.pbcor.fits\n"
     ]
    },
    {
     "name": "stderr",
     "output_type": "stream",
     "text": [
      "WARNING: StokesWarning: Cube is a Stokes cube, returning spectral cube for I component [spectral_cube.io.core]\n",
      "WARNING: ExperimentalImplementationWarning: The line-finding routine is experimental.  Please report bugs on the Issues page: https://github.com/radio-astro-tools/spectral-cube/issues [spectral_cube.spectral_cube]\n"
     ]
    },
    {
     "name": "stdout",
     "output_type": "stream",
     "text": [
      "Species     ChemicalName     QNs      Freq    log10_Aij    EU_K  \n",
      "-------- ------------------ ----- ----------- --------- ---------\n",
      "41KClv=1 Potassium chloride 31-30 231.0880933   -2.1226 572.24213\n",
      "Species     ChemicalName     QNs      Freq    log10_Aij    EU_K  \n",
      "-------- ------------------ ----- ----------- --------- ---------\n",
      "41KClv=0 Potassium chloride 31-30 232.4997148  -2.11976 178.66839\n",
      "Species   ChemicalName   QNs     Freq   log10_Aij    EU_K  \n",
      "------- --------------- ----- --------- --------- ---------\n",
      "NaClv=1 Sodium Chloride 18-17 232.50995  -2.23334 625.66754\n",
      "./member.uid___A001_X1296_Xe7c._G14.22-0.50_S__sci.spw29.cube.I.pbcor.fits\n"
     ]
    },
    {
     "name": "stderr",
     "output_type": "stream",
     "text": [
      "WARNING: StokesWarning: Cube is a Stokes cube, returning spectral cube for I component [spectral_cube.io.core]\n",
      "WARNING: ExperimentalImplementationWarning: The line-finding routine is experimental.  Please report bugs on the Issues page: https://github.com/radio-astro-tools/spectral-cube/issues [spectral_cube.spectral_cube]\n"
     ]
    },
    {
     "name": "stdout",
     "output_type": "stream",
     "text": [
      "Species     ChemicalName     QNs      Freq    log10_Aij    EU_K  \n",
      "-------- ------------------ ----- ----------- --------- ---------\n",
      "41KClv=0 Potassium chloride 29-28 217.5430431  -2.20681 156.71091\n",
      "Species   ChemicalName   QNs      Freq    log10_Aij    EU_K   \n",
      "------- --------------- ----- ----------- --------- ----------\n",
      "NaClv=2 Sodium Chloride 17-16 217.9802149  -2.31227 1128.38157\n",
      "./member.uid___A001_X1296_Xe7c._G14.22-0.50_S__sci.spw31.cube.I.pbcor.fits\n"
     ]
    },
    {
     "name": "stderr",
     "output_type": "stream",
     "text": [
      "WARNING: StokesWarning: Cube is a Stokes cube, returning spectral cube for I component [spectral_cube.io.core]\n",
      "WARNING: ExperimentalImplementationWarning: The line-finding routine is experimental.  Please report bugs on the Issues page: https://github.com/radio-astro-tools/spectral-cube/issues [spectral_cube.spectral_cube]\n"
     ]
    },
    {
     "name": "stdout",
     "output_type": "stream",
     "text": [
      "Species   ChemicalName   QNs     Freq    log10_Aij    EU_K  \n",
      "------- --------------- ----- ---------- --------- ---------\n",
      "NaClv=1 Sodium Chloride 17-16 219.614922  -2.30839 614.50884\n"
     ]
    },
    {
     "name": "stderr",
     "output_type": "stream",
     "text": [
      "WARNING: AstropyDeprecationWarning: Using the table property is deprecated. Please use se to_table() instead. [pyvo.dal.query]\n",
      "WARNING: AstropyDeprecationWarning: Using the table property is deprecated. Please use se to_table() instead. [pyvo.dal.query]\n",
      "WARNING: AstropyDeprecationWarning: Using the table property is deprecated. Please use se to_table() instead. [pyvo.dal.query]\n"
     ]
    },
    {
     "name": "stdout",
     "output_type": "stream",
     "text": [
      "Downloading URL https://almascience.nrao.edu/dataPortal/member.uid___A001_X133d_X325._G31.41p0.31__sci.spw25.cube.I.pbcor.fits to ./member.uid___A001_X133d_X325._G31.41p0.31__sci.spw25.cube.I.pbcor.fits ... [Done]\n",
      "Downloading URL https://almascience.nrao.edu/dataPortal/member.uid___A001_X133d_X325._G31.41p0.31__sci.spw27.cube.I.pbcor.fits to ./member.uid___A001_X133d_X325._G31.41p0.31__sci.spw27.cube.I.pbcor.fits ... [Done]\n",
      "Downloading URL https://almascience.nrao.edu/dataPortal/member.uid___A001_X133d_X325._G31.41p0.31__sci.spw29.cube.I.pbcor.fits to ./member.uid___A001_X133d_X325._G31.41p0.31__sci.spw29.cube.I.pbcor.fits ... [Done]\n",
      "Downloading URL https://almascience.nrao.edu/dataPortal/member.uid___A001_X133d_X325._G31.41p0.31__sci.spw31.cube.I.pbcor.fits to ./member.uid___A001_X133d_X325._G31.41p0.31__sci.spw31.cube.I.pbcor.fits ... [Done]\n",
      "./member.uid___A001_X133d_X325._G31.41p0.31__sci.spw25.cube.I.pbcor.fits\n"
     ]
    },
    {
     "name": "stderr",
     "output_type": "stream",
     "text": [
      "WARNING: StokesWarning: Cube is a Stokes cube, returning spectral cube for I component [spectral_cube.io.core]\n",
      "WARNING: ExperimentalImplementationWarning: The line-finding routine is experimental.  Please report bugs on the Issues page: https://github.com/radio-astro-tools/spectral-cube/issues [spectral_cube.spectral_cube]\n"
     ]
    },
    {
     "name": "stdout",
     "output_type": "stream",
     "text": [
      "Species    ChemicalName     QNs     Freq    log10_Aij   EU_K  \n",
      "------- ------------------ ----- ---------- --------- --------\n",
      " KClv=0 Potassium chloride 11-10 84.5625936  -3.45856 24.35232\n",
      "./member.uid___A001_X133d_X325._G31.41p0.31__sci.spw27.cube.I.pbcor.fits\n"
     ]
    },
    {
     "name": "stderr",
     "output_type": "stream",
     "text": [
      "WARNING: StokesWarning: Cube is a Stokes cube, returning spectral cube for I component [spectral_cube.io.core]\n",
      "WARNING: ExperimentalImplementationWarning: The line-finding routine is experimental.  Please report bugs on the Issues page: https://github.com/radio-astro-tools/spectral-cube/issues [spectral_cube.spectral_cube]\n"
     ]
    },
    {
     "name": "stdout",
     "output_type": "stream",
     "text": [
      "./member.uid___A001_X133d_X325._G31.41p0.31__sci.spw29.cube.I.pbcor.fits\n",
      "Species     ChemicalName     QNs     Freq    log10_Aij    EU_K  \n",
      "-------- ------------------ ----- ---------- --------- ---------\n",
      "41KClv=1 Potassium chloride 13-12 97.0360277  -3.26257 427.26073\n"
     ]
    },
    {
     "name": "stderr",
     "output_type": "stream",
     "text": [
      "WARNING: StokesWarning: Cube is a Stokes cube, returning spectral cube for I component [spectral_cube.io.core]\n",
      "WARNING: ExperimentalImplementationWarning: The line-finding routine is experimental.  Please report bugs on the Issues page: https://github.com/radio-astro-tools/spectral-cube/issues [spectral_cube.spectral_cube]\n"
     ]
    },
    {
     "name": "stdout",
     "output_type": "stream",
     "text": [
      "Species     ChemicalName     QNs     Freq    log10_Aij   EU_K  \n",
      "-------- ------------------ ----- ---------- --------- --------\n",
      "41KClv=0 Potassium chloride 13-12 97.6279938  -3.25969 32.80194\n",
      "./member.uid___A001_X133d_X325._G31.41p0.31__sci.spw31.cube.I.pbcor.fits\n"
     ]
    },
    {
     "name": "stderr",
     "output_type": "stream",
     "text": [
      "WARNING: StokesWarning: Cube is a Stokes cube, returning spectral cube for I component [spectral_cube.io.core]\n",
      "WARNING: ExperimentalImplementationWarning: The line-finding routine is experimental.  Please report bugs on the Issues page: https://github.com/radio-astro-tools/spectral-cube/issues [spectral_cube.spectral_cube]\n"
     ]
    },
    {
     "name": "stdout",
     "output_type": "stream",
     "text": [
      "Species    ChemicalName     QNs    Freq   log10_Aij    EU_K  \n",
      "------- ------------------ ----- -------- --------- ---------\n",
      " KClv=1 Potassium chloride 13-12 99.31644   -3.4176 304.65588\n",
      "Species    ChemicalName     QNs    Freq   log10_Aij   EU_K  \n",
      "------- ------------------ ----- -------- --------- --------\n",
      " KClv=0 Potassium chloride 13-12 99.92954  -3.24184 33.57524\n"
     ]
    },
    {
     "name": "stderr",
     "output_type": "stream",
     "text": [
      "WARNING: AstropyDeprecationWarning: Using the table property is deprecated. Please use se to_table() instead. [pyvo.dal.query]\n",
      "WARNING: AstropyDeprecationWarning: Using the table property is deprecated. Please use se to_table() instead. [pyvo.dal.query]\n",
      "WARNING: AstropyDeprecationWarning: Using the table property is deprecated. Please use se to_table() instead. [pyvo.dal.query]\n"
     ]
    },
    {
     "name": "stdout",
     "output_type": "stream",
     "text": [
      "SKIP\n",
      "[] ['https://almascience.nrao.edu/dataPortal/2016.1.01068.S_uid___A001_X8c4_X5c_001_of_001.tar']\n"
     ]
    },
    {
     "name": "stderr",
     "output_type": "stream",
     "text": [
      "WARNING: AstropyDeprecationWarning: Using the table property is deprecated. Please use se to_table() instead. [pyvo.dal.query]\n",
      "WARNING: AstropyDeprecationWarning: Using the table property is deprecated. Please use se to_table() instead. [pyvo.dal.query]\n"
     ]
    },
    {
     "name": "stdout",
     "output_type": "stream",
     "text": [
      "SKIP\n",
      "[] ['https://almascience.nrao.edu/dataPortal/2015.1.00357.S_uid___A001_X2d8_Xbe_001_of_001.tar']\n"
     ]
    },
    {
     "name": "stderr",
     "output_type": "stream",
     "text": [
      "WARNING: AstropyDeprecationWarning: Using the table property is deprecated. Please use se to_table() instead. [pyvo.dal.query]\n",
      "WARNING: AstropyDeprecationWarning: Using the table property is deprecated. Please use se to_table() instead. [pyvo.dal.query]\n"
     ]
    },
    {
     "name": "stdout",
     "output_type": "stream",
     "text": [
      "SKIP\n",
      "[] ['https://almascience.nrao.edu/dataPortal/2015.1.00357.S_uid___A001_X2d8_Xbe_001_of_001.tar']\n"
     ]
    },
    {
     "name": "stderr",
     "output_type": "stream",
     "text": [
      "WARNING: AstropyDeprecationWarning: Using the table property is deprecated. Please use se to_table() instead. [pyvo.dal.query]\n",
      "WARNING: AstropyDeprecationWarning: Using the table property is deprecated. Please use se to_table() instead. [pyvo.dal.query]\n"
     ]
    },
    {
     "name": "stdout",
     "output_type": "stream",
     "text": [
      "SKIP\n",
      "[] ['https://almascience.nrao.edu/dataPortal/2015.1.00357.S_uid___A001_X2d8_Xbe_001_of_001.tar']\n"
     ]
    },
    {
     "name": "stderr",
     "output_type": "stream",
     "text": [
      "WARNING: AstropyDeprecationWarning: Using the table property is deprecated. Please use se to_table() instead. [pyvo.dal.query]\n",
      "WARNING: AstropyDeprecationWarning: Using the table property is deprecated. Please use se to_table() instead. [pyvo.dal.query]\n",
      "WARNING: AstropyDeprecationWarning: Using the table property is deprecated. Please use se to_table() instead. [pyvo.dal.query]\n"
     ]
    },
    {
     "name": "stdout",
     "output_type": "stream",
     "text": [
      "SKIP\n",
      "[] ['https://almascience.nrao.edu/dataPortal/2017.1.01247.S_uid___A001_X1289_X1d2_001_of_001.tar']\n"
     ]
    },
    {
     "name": "stderr",
     "output_type": "stream",
     "text": [
      "WARNING: AstropyDeprecationWarning: Using the table property is deprecated. Please use se to_table() instead. [pyvo.dal.query]\n",
      "WARNING: AstropyDeprecationWarning: Using the table property is deprecated. Please use se to_table() instead. [pyvo.dal.query]\n",
      "WARNING: AstropyDeprecationWarning: Using the table property is deprecated. Please use se to_table() instead. [pyvo.dal.query]\n"
     ]
    },
    {
     "name": "stdout",
     "output_type": "stream",
     "text": [
      "SKIP\n",
      "[] ['https://almascience.nrao.edu/dataPortal/2017.1.01247.S_uid___A001_X1289_X1d2_001_of_001.tar']\n"
     ]
    },
    {
     "name": "stderr",
     "output_type": "stream",
     "text": [
      "WARNING: AstropyDeprecationWarning: Using the table property is deprecated. Please use se to_table() instead. [pyvo.dal.query]\n",
      "WARNING: AstropyDeprecationWarning: Using the table property is deprecated. Please use se to_table() instead. [pyvo.dal.query]\n"
     ]
    },
    {
     "name": "stdout",
     "output_type": "stream",
     "text": [
      "SKIP\n",
      "[] ['https://almascience.nrao.edu/dataPortal/2015.1.00357.S_uid___A001_X2d8_Xb4_001_of_001.tar']\n"
     ]
    },
    {
     "name": "stderr",
     "output_type": "stream",
     "text": [
      "WARNING: AstropyDeprecationWarning: Using the table property is deprecated. Please use se to_table() instead. [pyvo.dal.query]\n",
      "WARNING: AstropyDeprecationWarning: Using the table property is deprecated. Please use se to_table() instead. [pyvo.dal.query]\n"
     ]
    },
    {
     "name": "stdout",
     "output_type": "stream",
     "text": [
      "SKIP\n",
      "[] ['https://almascience.nrao.edu/dataPortal/2015.1.00357.S_uid___A001_X2d8_Xbe_001_of_001.tar']\n"
     ]
    },
    {
     "name": "stderr",
     "output_type": "stream",
     "text": [
      "WARNING: AstropyDeprecationWarning: Using the table property is deprecated. Please use se to_table() instead. [pyvo.dal.query]\n",
      "WARNING: AstropyDeprecationWarning: Using the table property is deprecated. Please use se to_table() instead. [pyvo.dal.query]\n"
     ]
    },
    {
     "name": "stdout",
     "output_type": "stream",
     "text": [
      "SKIP\n",
      "[] ['https://almascience.nrao.edu/dataPortal/2015.1.00357.S_uid___A001_X2d8_Xbe_001_of_001.tar']\n"
     ]
    },
    {
     "name": "stderr",
     "output_type": "stream",
     "text": [
      "WARNING: AstropyDeprecationWarning: Using the table property is deprecated. Please use se to_table() instead. [pyvo.dal.query]\n",
      "WARNING: AstropyDeprecationWarning: Using the table property is deprecated. Please use se to_table() instead. [pyvo.dal.query]\n"
     ]
    },
    {
     "name": "stdout",
     "output_type": "stream",
     "text": [
      "SKIP\n",
      "[] ['https://almascience.nrao.edu/dataPortal/2015.1.00357.S_uid___A001_X2d8_Xb4_001_of_001.tar']\n"
     ]
    },
    {
     "name": "stderr",
     "output_type": "stream",
     "text": [
      "WARNING: AstropyDeprecationWarning: Using the table property is deprecated. Please use se to_table() instead. [pyvo.dal.query]\n",
      "WARNING: AstropyDeprecationWarning: Using the table property is deprecated. Please use se to_table() instead. [pyvo.dal.query]\n",
      "WARNING: AstropyDeprecationWarning: Using the table property is deprecated. Please use se to_table() instead. [pyvo.dal.query]\n"
     ]
    },
    {
     "name": "stdout",
     "output_type": "stream",
     "text": [
      "Downloading URL https://almascience.nrao.edu/dataPortal/member.uid___A001_X133d_X29bd._G345.49p1.47__sci.spw25.cube.I.pbcor.fits to ./member.uid___A001_X133d_X29bd._G345.49p1.47__sci.spw25.cube.I.pbcor.fits ... [Done]\n",
      "Downloading URL https://almascience.nrao.edu/dataPortal/member.uid___A001_X133d_X29bd._G345.49p1.47__sci.spw27.cube.I.pbcor.fits to ./member.uid___A001_X133d_X29bd._G345.49p1.47__sci.spw27.cube.I.pbcor.fits ... [Done]\n",
      "Downloading URL https://almascience.nrao.edu/dataPortal/member.uid___A001_X133d_X29bd._G345.49p1.47__sci.spw29.cube.I.pbcor.fits to ./member.uid___A001_X133d_X29bd._G345.49p1.47__sci.spw29.cube.I.pbcor.fits ... [Done]\n",
      "./member.uid___A001_X133d_X29bd._G345.49p1.47__sci.spw25.cube.I.pbcor.fits\n"
     ]
    },
    {
     "name": "stderr",
     "output_type": "stream",
     "text": [
      "WARNING: StokesWarning: Cube is a Stokes cube, returning spectral cube for I component [spectral_cube.io.core]\n",
      "WARNING: ExperimentalImplementationWarning: The line-finding routine is experimental.  Please report bugs on the Issues page: https://github.com/radio-astro-tools/spectral-cube/issues [spectral_cube.spectral_cube]\n"
     ]
    },
    {
     "name": "stdout",
     "output_type": "stream",
     "text": [
      "./member.uid___A001_X133d_X29bd._G345.49p1.47__sci.spw27.cube.I.pbcor.fits\n"
     ]
    },
    {
     "name": "stderr",
     "output_type": "stream",
     "text": [
      "WARNING: StokesWarning: Cube is a Stokes cube, returning spectral cube for I component [spectral_cube.io.core]\n",
      "WARNING: ExperimentalImplementationWarning: The line-finding routine is experimental.  Please report bugs on the Issues page: https://github.com/radio-astro-tools/spectral-cube/issues [spectral_cube.spectral_cube]\n"
     ]
    },
    {
     "name": "stdout",
     "output_type": "stream",
     "text": [
      "./member.uid___A001_X133d_X29bd._G345.49p1.47__sci.spw29.cube.I.pbcor.fits\n"
     ]
    },
    {
     "name": "stderr",
     "output_type": "stream",
     "text": [
      "WARNING: StokesWarning: Cube is a Stokes cube, returning spectral cube for I component [spectral_cube.io.core]\n",
      "WARNING: ExperimentalImplementationWarning: The line-finding routine is experimental.  Please report bugs on the Issues page: https://github.com/radio-astro-tools/spectral-cube/issues [spectral_cube.spectral_cube]\n"
     ]
    },
    {
     "name": "stdout",
     "output_type": "stream",
     "text": [
      "Species   ChemicalName   QNs     Freq    log10_Aij    EU_K  \n",
      "------- --------------- ----- ---------- --------- ---------\n",
      "NaClv=1 Sodium Chloride 17-16 219.614922  -2.30839 614.50884\n"
     ]
    },
    {
     "name": "stderr",
     "output_type": "stream",
     "text": [
      "WARNING: AstropyDeprecationWarning: Using the table property is deprecated. Please use se to_table() instead. [pyvo.dal.query]\n",
      "WARNING: AstropyDeprecationWarning: Using the table property is deprecated. Please use se to_table() instead. [pyvo.dal.query]\n"
     ]
    },
    {
     "name": "stdout",
     "output_type": "stream",
     "text": [
      "SKIP\n",
      "[] ['https://almascience.nrao.edu/dataPortal/2015.1.00357.S_uid___A001_X2d8_Xb4_001_of_001.tar']\n"
     ]
    },
    {
     "name": "stderr",
     "output_type": "stream",
     "text": [
      "WARNING: AstropyDeprecationWarning: Using the table property is deprecated. Please use se to_table() instead. [pyvo.dal.query]\n",
      "WARNING: AstropyDeprecationWarning: Using the table property is deprecated. Please use se to_table() instead. [pyvo.dal.query]\n",
      "WARNING: AstropyDeprecationWarning: Using the table property is deprecated. Please use se to_table() instead. [pyvo.dal.query]\n"
     ]
    },
    {
     "name": "stdout",
     "output_type": "stream",
     "text": [
      "SKIP\n",
      "[] ['https://almascience.nrao.edu/dataPortal/2017.1.01247.S_uid___A001_X1289_X1d2_001_of_001.tar']\n"
     ]
    },
    {
     "name": "stderr",
     "output_type": "stream",
     "text": [
      "WARNING: AstropyDeprecationWarning: Using the table property is deprecated. Please use se to_table() instead. [pyvo.dal.query]\n",
      "WARNING: AstropyDeprecationWarning: Using the table property is deprecated. Please use se to_table() instead. [pyvo.dal.query]\n",
      "WARNING: AstropyDeprecationWarning: Using the table property is deprecated. Please use se to_table() instead. [pyvo.dal.query]\n"
     ]
    },
    {
     "name": "stdout",
     "output_type": "stream",
     "text": [
      "SKIP\n",
      "[] ['https://almascience.nrao.edu/dataPortal/2017.1.01247.S_uid___A001_X1289_X1d2_001_of_001.tar']\n"
     ]
    },
    {
     "name": "stderr",
     "output_type": "stream",
     "text": [
      "WARNING: AstropyDeprecationWarning: Using the table property is deprecated. Please use se to_table() instead. [pyvo.dal.query]\n",
      "WARNING: AstropyDeprecationWarning: Using the table property is deprecated. Please use se to_table() instead. [pyvo.dal.query]\n",
      "WARNING: AstropyDeprecationWarning: Using the table property is deprecated. Please use se to_table() instead. [pyvo.dal.query]\n"
     ]
    },
    {
     "name": "stdout",
     "output_type": "stream",
     "text": [
      "SKIP\n",
      "[] ['https://almascience.nrao.edu/dataPortal/2017.1.01247.S_uid___A001_X1289_X1d2_001_of_001.tar']\n"
     ]
    },
    {
     "name": "stderr",
     "output_type": "stream",
     "text": [
      "WARNING: AstropyDeprecationWarning: Using the table property is deprecated. Please use se to_table() instead. [pyvo.dal.query]\n",
      "WARNING: AstropyDeprecationWarning: Using the table property is deprecated. Please use se to_table() instead. [pyvo.dal.query]\n"
     ]
    },
    {
     "name": "stdout",
     "output_type": "stream",
     "text": [
      "SKIP\n",
      "[] ['https://almascience.nrao.edu/dataPortal/2015.1.00357.S_uid___A001_X2d8_Xb4_001_of_001.tar']\n"
     ]
    },
    {
     "name": "stderr",
     "output_type": "stream",
     "text": [
      "WARNING: AstropyDeprecationWarning: Using the table property is deprecated. Please use se to_table() instead. [pyvo.dal.query]\n",
      "WARNING: AstropyDeprecationWarning: Using the table property is deprecated. Please use se to_table() instead. [pyvo.dal.query]\n",
      "WARNING: AstropyDeprecationWarning: Using the table property is deprecated. Please use se to_table() instead. [pyvo.dal.query]\n"
     ]
    },
    {
     "name": "stdout",
     "output_type": "stream",
     "text": [
      "Downloading URL https://almascience.nrao.edu/dataPortal/member.uid___A001_X898_X12b.HD_97048_sci.spw19.cube.I.pbcor.fits to ./member.uid___A001_X898_X12b.HD_97048_sci.spw19.cube.I.pbcor.fits ... [Done]\n",
      "Downloading URL https://almascience.nrao.edu/dataPortal/member.uid___A001_X898_X12b.HD_97048_sci.spw21.cube.I.pbcor.fits to ./member.uid___A001_X898_X12b.HD_97048_sci.spw21.cube.I.pbcor.fits ... [Done]\n",
      "Downloading URL https://almascience.nrao.edu/dataPortal/member.uid___A001_X898_X12b.HD_97048_sci.spw23.cube.I.pbcor.fits to ./member.uid___A001_X898_X12b.HD_97048_sci.spw23.cube.I.pbcor.fits ... [Done]\n",
      "Downloading URL https://almascience.nrao.edu/dataPortal/member.uid___A001_X898_X12b.HD_97048_sci.spw25.cube.I.pbcor.fits to ./member.uid___A001_X898_X12b.HD_97048_sci.spw25.cube.I.pbcor.fits ... [Done]\n",
      "./member.uid___A001_X898_X12b.HD_97048_sci.spw19.cube.I.pbcor.fits\n"
     ]
    },
    {
     "name": "stderr",
     "output_type": "stream",
     "text": [
      "WARNING: StokesWarning: Cube is a Stokes cube, returning spectral cube for I component [spectral_cube.io.core]\n",
      "WARNING: ExperimentalImplementationWarning: The line-finding routine is experimental.  Please report bugs on the Issues page: https://github.com/radio-astro-tools/spectral-cube/issues [spectral_cube.spectral_cube]\n"
     ]
    },
    {
     "name": "stdout",
     "output_type": "stream",
     "text": [
      "Species   ChemicalName   QNs      Freq    log10_Aij    EU_K   \n",
      "------- --------------- ----- ----------- --------- ----------\n",
      "NaClv=2 Sodium Chloride 26-25 333.0072742  -1.75589 1250.14944\n"
     ]
    },
    {
     "name": "stderr",
     "output_type": "stream",
     "text": [
      "/blue/adamginsburg/adamginsburg/repos/spectral-cube/spectral_cube/spectral_cube.py:539: RuntimeWarning: All-NaN slice encountered\n",
      "  result = function(np.dstack((result, plane)), axis=2, **kwargs)\n"
     ]
    },
    {
     "name": "stdout",
     "output_type": "stream",
     "text": [
      "./member.uid___A001_X898_X12b.HD_97048_sci.spw21.cube.I.pbcor.fits\n"
     ]
    },
    {
     "name": "stderr",
     "output_type": "stream",
     "text": [
      "WARNING: StokesWarning: Cube is a Stokes cube, returning spectral cube for I component [spectral_cube.io.core]\n",
      "WARNING: ExperimentalImplementationWarning: The line-finding routine is experimental.  Please report bugs on the Issues page: https://github.com/radio-astro-tools/spectral-cube/issues [spectral_cube.spectral_cube]\n"
     ]
    },
    {
     "name": "stdout",
     "output_type": "stream",
     "text": [
      "Species     ChemicalName     QNs      Freq    log10_Aij   EU_K  \n",
      "-------- ------------------ ----- ----------- --------- --------\n",
      "41KClv=1 Potassium chloride 46-45 342.2434366  -1.60871 781.3137\n"
     ]
    },
    {
     "name": "stderr",
     "output_type": "stream",
     "text": [
      "/blue/adamginsburg/adamginsburg/repos/spectral-cube/spectral_cube/spectral_cube.py:539: RuntimeWarning: All-NaN slice encountered\n",
      "  result = function(np.dstack((result, plane)), axis=2, **kwargs)\n"
     ]
    },
    {
     "name": "stdout",
     "output_type": "stream",
     "text": [
      "Species    ChemicalName     QNs      Freq    log10_Aij    EU_K  \n",
      "------- ------------------ ----- ----------- --------- ---------\n",
      " KClv=1 Potassium chloride 45-44 342.6984166  -1.93682 550.35024\n"
     ]
    },
    {
     "name": "stderr",
     "output_type": "stream",
     "text": [
      "/blue/adamginsburg/adamginsburg/repos/spectral-cube/spectral_cube/spectral_cube.py:539: RuntimeWarning: All-NaN slice encountered\n",
      "  result = function(np.dstack((result, plane)), axis=2, **kwargs)\n"
     ]
    },
    {
     "name": "stdout",
     "output_type": "stream",
     "text": [
      "Species   ChemicalName   QNs      Freq    log10_Aij    EU_K   \n",
      "------- --------------- ----- ----------- --------- ----------\n",
      "NaClv=3 Sodium Chloride 27-26 343.1834501  -1.71063 1774.60528\n"
     ]
    },
    {
     "name": "stderr",
     "output_type": "stream",
     "text": [
      "/blue/adamginsburg/adamginsburg/repos/spectral-cube/spectral_cube/spectral_cube.py:539: RuntimeWarning: All-NaN slice encountered\n",
      "  result = function(np.dstack((result, plane)), axis=2, **kwargs)\n"
     ]
    },
    {
     "name": "stdout",
     "output_type": "stream",
     "text": [
      "./member.uid___A001_X898_X12b.HD_97048_sci.spw23.cube.I.pbcor.fits\n"
     ]
    },
    {
     "name": "stderr",
     "output_type": "stream",
     "text": [
      "WARNING: StokesWarning: Cube is a Stokes cube, returning spectral cube for I component [spectral_cube.io.core]\n",
      "WARNING: ExperimentalImplementationWarning: The line-finding routine is experimental.  Please report bugs on the Issues page: https://github.com/radio-astro-tools/spectral-cube/issues [spectral_cube.spectral_cube]\n"
     ]
    },
    {
     "name": "stdout",
     "output_type": "stream",
     "text": [
      "Species     ChemicalName     QNs      Freq    log10_Aij    EU_K  \n",
      "-------- ------------------ ----- ----------- --------- ---------\n",
      "41KClv=0 Potassium chloride 46-45 344.3381157  -1.60574 389.01842\n"
     ]
    },
    {
     "name": "stderr",
     "output_type": "stream",
     "text": [
      "/blue/adamginsburg/adamginsburg/repos/spectral-cube/spectral_cube/spectral_cube.py:539: RuntimeWarning: All-NaN slice encountered\n",
      "  result = function(np.dstack((result, plane)), axis=2, **kwargs)\n"
     ]
    },
    {
     "name": "stdout",
     "output_type": "stream",
     "text": [
      "Species    ChemicalName     QNs     Freq    log10_Aij    EU_K  \n",
      "------- ------------------ ----- ---------- --------- ---------\n",
      " KClv=0 Potassium chloride 45-44 344.820476    -1.762 381.26099\n"
     ]
    },
    {
     "name": "stderr",
     "output_type": "stream",
     "text": [
      "/blue/adamginsburg/adamginsburg/repos/spectral-cube/spectral_cube/spectral_cube.py:539: RuntimeWarning: All-NaN slice encountered\n",
      "  result = function(np.dstack((result, plane)), axis=2, **kwargs)\n"
     ]
    },
    {
     "name": "stdout",
     "output_type": "stream",
     "text": [
      "./member.uid___A001_X898_X12b.HD_97048_sci.spw25.cube.I.pbcor.fits\n"
     ]
    },
    {
     "name": "stderr",
     "output_type": "stream",
     "text": [
      "WARNING: StokesWarning: Cube is a Stokes cube, returning spectral cube for I component [spectral_cube.io.core]\n",
      "WARNING: ExperimentalImplementationWarning: The line-finding routine is experimental.  Please report bugs on the Issues page: https://github.com/radio-astro-tools/spectral-cube/issues [spectral_cube.spectral_cube]\n"
     ]
    },
    {
     "name": "stdout",
     "output_type": "stream",
     "text": [
      "Species   ChemicalName   QNs      Freq    log10_Aij    EU_K   \n",
      "------- --------------- ----- ----------- --------- ----------\n",
      "NaClv=3 Sodium Chloride 26-25 330.5240848  -1.75987 1758.13516\n"
     ]
    }
   ],
   "source": [
    "%run ../code/mine_the_archive_for_salt.py"
   ]
  },
  {
   "cell_type": "code",
   "execution_count": 2,
   "metadata": {},
   "outputs": [
    {
     "name": "stdout",
     "output_type": "stream",
     "text": [
      "\u001b[0m\u001b[01;34mcandidates\u001b[0m/\n",
      "lb_salts.txt\n",
      "member.uid___A001_X1273_X39d.HD_34282_sci.spw25.cube.I.pbcor.fits\n",
      "member.uid___A001_X1273_X39d.HD_34282_sci.spw27.cube.I.pbcor.fits\n",
      "member.uid___A001_X1273_X39d.HD_34282_sci.spw29.cube.I.pbcor.fits\n",
      "member.uid___A001_X1273_X39d.HD_34282_sci.spw31.cube.I.pbcor.fits\n",
      "member.uid___A001_X1273_X39d.HD_34282_sci.spw33.cube.I.pbcor.fits\n",
      "member.uid___A001_X1296_Xe6d._G336.01-0.82__sci.spw25.cube.I.pbcor.fits\n",
      "member.uid___A001_X1296_Xe6d._G336.01-0.82__sci.spw27.cube.I.pbcor.fits\n",
      "member.uid___A001_X1296_Xe6d._G336.01-0.82__sci.spw29.cube.I.pbcor.fits\n",
      "member.uid___A001_X1296_Xe6d._G336.01-0.82__sci.spw31.cube.I.pbcor.fits\n",
      "member.uid___A001_X1296_Xe72._G343.12-0.06__sci.spw25.cube.I.pbcor.fits\n",
      "member.uid___A001_X1296_Xe72._G343.12-0.06__sci.spw27.cube.I.pbcor.fits\n",
      "member.uid___A001_X1296_Xe72._G343.12-0.06__sci.spw29.cube.I.pbcor.fits\n",
      "member.uid___A001_X1296_Xe72._G343.12-0.06__sci.spw31.cube.I.pbcor.fits\n",
      "member.uid___A001_X1296_Xe72._G351.77-0.54__sci.spw25.cube.I.pbcor.fits\n",
      "member.uid___A001_X1296_Xe72._G351.77-0.54__sci.spw27.cube.I.pbcor.fits\n",
      "member.uid___A001_X1296_Xe72._G351.77-0.54__sci.spw29.cube.I.pbcor.fits\n",
      "member.uid___A001_X1296_Xe72._G351.77-0.54__sci.spw31.cube.I.pbcor.fits\n",
      "member.uid___A001_X1296_Xe7c._G14.22-0.50_S__sci.spw25.cube.I.pbcor.fits\n",
      "member.uid___A001_X1296_Xe7c._G14.22-0.50_S__sci.spw27.cube.I.pbcor.fits\n",
      "member.uid___A001_X1296_Xe7c._G14.22-0.50_S__sci.spw29.cube.I.pbcor.fits\n",
      "member.uid___A001_X1296_Xe7c._G14.22-0.50_S__sci.spw31.cube.I.pbcor.fits\n",
      "member.uid___A001_X1296_Xe81._G24.60p0.08__sci.spw25.cube.I.pbcor.fits\n",
      "member.uid___A001_X1296_Xe81._G24.60p0.08__sci.spw27.cube.I.pbcor.fits\n",
      "member.uid___A001_X1296_Xe81._G24.60p0.08__sci.spw29.cube.I.pbcor.fits\n",
      "member.uid___A001_X1296_Xe81._G24.60p0.08__sci.spw31.cube.I.pbcor.fits\n",
      "member.uid___A001_X1296_Xe81.IRAS_18337-0743_sci.spw25.cube.I.pbcor.fits\n",
      "member.uid___A001_X1296_Xe81.IRAS_18337-0743_sci.spw27.cube.I.pbcor.fits\n",
      "member.uid___A001_X1296_Xe81.IRAS_18337-0743_sci.spw29.cube.I.pbcor.fits\n",
      "member.uid___A001_X1296_Xe81.IRAS_18337-0743_sci.spw31.cube.I.pbcor.fits\n",
      "member.uid___A001_X133d_X29bd._G345.49p1.47__sci.spw25.cube.I.pbcor.fits\n",
      "member.uid___A001_X133d_X29bd._G345.49p1.47__sci.spw27.cube.I.pbcor.fits\n",
      "member.uid___A001_X133d_X29bd._G345.49p1.47__sci.spw29.cube.I.pbcor.fits\n",
      "member.uid___A001_X133d_X325._G31.41p0.31__sci.spw25.cube.I.pbcor.fits\n",
      "member.uid___A001_X133d_X325._G31.41p0.31__sci.spw27.cube.I.pbcor.fits\n",
      "member.uid___A001_X133d_X325._G31.41p0.31__sci.spw29.cube.I.pbcor.fits\n",
      "member.uid___A001_X133d_X325._G31.41p0.31__sci.spw31.cube.I.pbcor.fits\n",
      "member.uid___A001_X13c4_X9e.HD100546_sci.spw19.cube.I.pbcor.fits\n",
      "member.uid___A001_X13c4_X9e.HD100546_sci.spw21.cube.I.pbcor.fits\n",
      "member.uid___A001_X13c4_X9e.HD100546_sci.spw23.cube.I.pbcor.fits\n",
      "member.uid___A001_X13c4_X9e.HD100546_sci.spw25.cube.I.pbcor.fits\n",
      "member.uid___A001_X340_X84.S255_IR_sci.spw25.cube.I.pbcor.fits\n",
      "member.uid___A001_X340_X84.S255_IR_sci.spw27.cube.I.pbcor.fits\n",
      "member.uid___A001_X340_X84.S255_IR_sci.spw29.cube.I.pbcor.fits\n",
      "member.uid___A001_X340_X84.S255_IR_sci.spw31.cube.I.pbcor.fits\n",
      "member.uid___A001_X898_X12b.HD_97048_sci.spw19.cube.I.pbcor.fits\n",
      "member.uid___A001_X898_X12b.HD_97048_sci.spw21.cube.I.pbcor.fits\n",
      "member.uid___A001_X898_X12b.HD_97048_sci.spw23.cube.I.pbcor.fits\n",
      "member.uid___A001_X898_X12b.HD_97048_sci.spw25.cube.I.pbcor.fits\n",
      "\u001b[01;34mregions\u001b[0m/\n",
      "uid___A001_X1273_X39d\n",
      "uid___A001_X1296_Xe6d\n",
      "uid___A001_X1296_Xe72\n",
      "uid___A001_X1296_Xe7c\n",
      "uid___A001_X1296_Xe81\n",
      "uid___A001_X133d_X29bd\n",
      "uid___A001_X133d_X325\n",
      "uid___A001_X13c4_X9e\n",
      "uid___A001_X340_X84\n"
     ]
    }
   ],
   "source": [
    "ls ../archive"
   ]
  },
  {
   "cell_type": "code",
   "execution_count": 20,
   "metadata": {},
   "outputs": [
    {
     "name": "stdout",
     "output_type": "stream",
     "text": [
      "band3\n",
      "Species   ChemicalName  QNs ... kcl_neighbor8_16GHz ttl_neighbor\n",
      "------- --------------- --- ... ------------------- ------------\n",
      "NaClv=0 Sodium Chloride 7-6 ...                   1            4\n",
      "NaClv=0 Sodium Chloride 8-7 ...                   2            6\n",
      "Species    ChemicalName     QNs  ... kcl_neighbor8_16GHz ttl_neighbor\n",
      "------- ------------------ ----- ... ------------------- ------------\n",
      " KClv=0 Potassium chloride 11-10 ...                   1            2\n",
      " KClv=0 Potassium chloride 12-11 ...                   1            4\n",
      " KClv=0 Potassium chloride 13-12 ...                   2            4\n",
      " KClv=0 Potassium chloride 14-13 ...                   2            5\n",
      "band4\n",
      "Species   ChemicalName   QNs  ... kcl_neighbor8_16GHz ttl_neighbor\n",
      "------- --------------- ----- ... ------------------- ------------\n",
      "NaClv=0 Sodium Chloride  10-9 ...                   3            7\n",
      "NaClv=0 Sodium Chloride 11-10 ...                   2            6\n",
      "NaClv=0 Sodium Chloride 12-11 ...                   2            6\n",
      "Species    ChemicalName     QNs  ... kcl_neighbor8_16GHz ttl_neighbor\n",
      "------- ------------------ ----- ... ------------------- ------------\n",
      " KClv=0 Potassium chloride 17-16 ...                   2            6\n",
      " KClv=0 Potassium chloride 18-17 ...                   2            4\n",
      " KClv=0 Potassium chloride 19-18 ...                   2            6\n",
      " KClv=0 Potassium chloride 20-19 ...                   2            6\n",
      " KClv=0 Potassium chloride 21-20 ...                   2            3\n",
      "band5\n",
      "Species   ChemicalName   QNs  ... kcl_neighbor8_16GHz ttl_neighbor\n",
      "------- --------------- ----- ... ------------------- ------------\n",
      "NaClv=0 Sodium Chloride 12-11 ...                   2            6\n",
      "NaClv=0 Sodium Chloride 13-12 ...                   2            6\n",
      "NaClv=0 Sodium Chloride 14-13 ...                   2            6\n",
      "NaClv=0 Sodium Chloride 15-14 ...                   2            6\n",
      "NaClv=0 Sodium Chloride 16-15 ...                   2            6\n",
      "Species    ChemicalName     QNs  ... kcl_neighbor8_16GHz ttl_neighbor\n",
      "------- ------------------ ----- ... ------------------- ------------\n",
      " KClv=0 Potassium chloride 21-20 ...                   2            3\n",
      " KClv=0 Potassium chloride 22-21 ...                   2            6\n",
      " KClv=0 Potassium chloride 23-22 ...                   2            3\n",
      " KClv=0 Potassium chloride 24-23 ...                   2            6\n",
      " KClv=0 Potassium chloride 25-24 ...                   2            5\n",
      " KClv=0 Potassium chloride 26-25 ...                   2            4\n",
      " KClv=0 Potassium chloride 27-26 ...                   2            6\n",
      "band6\n",
      "Species   ChemicalName   QNs  ... kcl_neighbor8_16GHz ttl_neighbor\n",
      "------- --------------- ----- ... ------------------- ------------\n",
      "NaClv=0 Sodium Chloride 17-16 ...                   2            6\n",
      "NaClv=0 Sodium Chloride 18-17 ...                   2            7\n",
      "NaClv=0 Sodium Chloride 19-18 ...                   2            6\n",
      "NaClv=0 Sodium Chloride 20-19 ...                   3            7\n",
      "NaClv=0 Sodium Chloride 21-20 ...                   2            6\n",
      "Species    ChemicalName     QNs  ... kcl_neighbor8_16GHz ttl_neighbor\n",
      "------- ------------------ ----- ... ------------------- ------------\n",
      " KClv=0 Potassium chloride 28-27 ...                   2            3\n",
      " KClv=0 Potassium chloride 29-28 ...                   2            6\n",
      " KClv=0 Potassium chloride 30-29 ...                   2            5\n",
      " KClv=0 Potassium chloride 31-30 ...                   2            5\n",
      " KClv=0 Potassium chloride 32-31 ...                   2            6\n",
      " KClv=0 Potassium chloride 33-32 ...                   2            3\n",
      " KClv=0 Potassium chloride 34-33 ...                   2            6\n",
      " KClv=0 Potassium chloride 35-34 ...                   2            4\n"
     ]
    }
   ],
   "source": [
    "%run ../code/salt_observing_optimization.py"
   ]
  },
  {
   "cell_type": "code",
   "execution_count": 13,
   "metadata": {},
   "outputs": [
    {
     "data": {
      "text/plain": [
       "{'label': 'A',\n",
       " 'select': '1',\n",
       " 'highlite': '1',\n",
       " 'fixed': '0',\n",
       " 'edit': '1',\n",
       " 'move': '1',\n",
       " 'delete': '1',\n",
       " 'include': True,\n",
       " 'source': '1',\n",
       " 'text': 'A'}"
      ]
     },
     "execution_count": 13,
     "metadata": {},
     "output_type": "execute_result"
    }
   ],
   "source": [
    "import regions\n",
    "regions.Regions.read('../archive/regions/G14.22-0.50_candidates.reg')[0].meta"
   ]
  },
  {
   "cell_type": "code",
   "execution_count": 17,
   "metadata": {},
   "outputs": [
    {
     "name": "stdout",
     "output_type": "stream",
     "text": [
      "SourceA_member.uid___A001_X1296_Xe7c._G14.22-0.50_S__sci.spw25.cube.I.pbcor.fits\n",
      "SourceA_member.uid___A001_X1296_Xe7c._G14.22-0.50_S__sci.spw27.cube.I.pbcor.fits\n",
      "SourceA_member.uid___A001_X1296_Xe7c._G14.22-0.50_S__sci.spw29.cube.I.pbcor.fits\n",
      "SourceA_member.uid___A001_X1296_Xe7c._G14.22-0.50_S__sci.spw31.cube.I.pbcor.fits\n",
      "SourceB_member.uid___A001_X1296_Xe7c._G14.22-0.50_S__sci.spw25.cube.I.pbcor.fits\n",
      "SourceB_member.uid___A001_X1296_Xe7c._G14.22-0.50_S__sci.spw27.cube.I.pbcor.fits\n",
      "SourceB_member.uid___A001_X1296_Xe7c._G14.22-0.50_S__sci.spw29.cube.I.pbcor.fits\n",
      "SourceB_member.uid___A001_X1296_Xe7c._G14.22-0.50_S__sci.spw31.cube.I.pbcor.fits\n"
     ]
    }
   ],
   "source": [
    "ls ../archive/G14.22-0.50/spectra"
   ]
  },
  {
   "cell_type": "code",
   "execution_count": 16,
   "metadata": {},
   "outputs": [
    {
     "name": "stderr",
     "output_type": "stream",
     "text": [
      "WARNING: StokesWarning: Cube is a Stokes cube, returning spectral cube for I component [spectral_cube.io.core]\n",
      "WARNING: PossiblySlowWarning: This function (<function BaseSpectralCube.mean at 0x2b74eb0e68b0>) requires loading the entire cube into memory and may therefore be slow. [spectral_cube.utils]\n",
      "WARNING: PossiblySlowWarning: This function (<function BaseSpectralCube.mean at 0x2b74eb0e68b0>) requires loading the entire cube into memory and may therefore be slow. [spectral_cube.utils]\n",
      "WARNING: StokesWarning: Cube is a Stokes cube, returning spectral cube for I component [spectral_cube.io.core]\n",
      "WARNING: PossiblySlowWarning: This function (<function BaseSpectralCube.mean at 0x2b74eb0e68b0>) requires loading the entire cube into memory and may therefore be slow. [spectral_cube.utils]\n",
      "WARNING: PossiblySlowWarning: This function (<function BaseSpectralCube.mean at 0x2b74eb0e68b0>) requires loading the entire cube into memory and may therefore be slow. [spectral_cube.utils]\n",
      "WARNING: StokesWarning: Cube is a Stokes cube, returning spectral cube for I component [spectral_cube.io.core]\n",
      "WARNING: PossiblySlowWarning: This function (<function BaseSpectralCube.mean at 0x2b74eb0e68b0>) requires loading the entire cube into memory and may therefore be slow. [spectral_cube.utils]\n",
      "WARNING: PossiblySlowWarning: This function (<function BaseSpectralCube.mean at 0x2b74eb0e68b0>) requires loading the entire cube into memory and may therefore be slow. [spectral_cube.utils]\n",
      "WARNING: StokesWarning: Cube is a Stokes cube, returning spectral cube for I component [spectral_cube.io.core]\n",
      "WARNING: PossiblySlowWarning: This function (<function BaseSpectralCube.mean at 0x2b74eb0e68b0>) requires loading the entire cube into memory and may therefore be slow. [spectral_cube.utils]\n",
      "WARNING: PossiblySlowWarning: This function (<function BaseSpectralCube.mean at 0x2b74eb0e68b0>) requires loading the entire cube into memory and may therefore be slow. [spectral_cube.utils]\n"
     ]
    }
   ],
   "source": [
    "%run ../code/extract_spectra.py"
   ]
  },
  {
   "cell_type": "code",
   "execution_count": 22,
   "metadata": {},
   "outputs": [],
   "source": [
    "import sys\n",
    "sys.path.append('/orange/adamginsburg/repos/pyspeckit')"
   ]
  },
  {
   "cell_type": "code",
   "execution_count": 27,
   "metadata": {},
   "outputs": [
    {
     "data": {
      "text/plain": [
       "'/orange/adamginsburg/salt/Orion_ALMA_2016.1.00165.S/analysis/paths.py'"
      ]
     },
     "execution_count": 27,
     "metadata": {},
     "output_type": "execute_result"
    }
   ],
   "source": [
    "import paths\n",
    "import imp\n",
    "imp.reload(paths)\n",
    "paths.__file__"
   ]
  },
  {
   "cell_type": "code",
   "execution_count": 35,
   "metadata": {},
   "outputs": [
    {
     "name": "stdout",
     "output_type": "stream",
     "text": [
      "SourceA_member.uid___A001_X1296_Xe7c._G14.22-0.50_S__sci.spw25.cube.I.pbcor.fits\n",
      "SourceB_member.uid___A001_X1296_Xe7c._G14.22-0.50_S__sci.spw25.cube.I.pbcor.fits\n",
      "SourceA_member.uid___A001_X1296_Xe7c._G14.22-0.50_S__sci.spw27.cube.I.pbcor.fits\n",
      "SourceB_member.uid___A001_X1296_Xe7c._G14.22-0.50_S__sci.spw27.cube.I.pbcor.fits\n",
      "SourceA_member.uid___A001_X1296_Xe7c._G14.22-0.50_S__sci.spw29.cube.I.pbcor.fits\n",
      "SourceB_member.uid___A001_X1296_Xe7c._G14.22-0.50_S__sci.spw29.cube.I.pbcor.fits\n",
      "SourceA_member.uid___A001_X1296_Xe7c._G14.22-0.50_S__sci.spw31.cube.I.pbcor.fits\n",
      "SourceB_member.uid___A001_X1296_Xe7c._G14.22-0.50_S__sci.spw31.cube.I.pbcor.fits\n"
     ]
    },
    {
     "data": {
      "image/png": "[encoded data removed]",
      "text/plain": [
       "<Figure size 1152x432 with 1 Axes>"
      ]
     },
     "metadata": {
      "needs_background": "light"
     },
     "output_type": "display_data"
    }
   ],
   "source": [
    "%run ../code/overplot_saltlines.py"
   ]
  },
  {
   "cell_type": "code",
   "execution_count": 33,
   "metadata": {},
   "outputs": [
    {
     "name": "stdout",
     "output_type": "stream",
     "text": [
      "Collecting lineid_plot\n",
      "  Using cached lineid_plot-0.6-py2.py3-none-any.whl (9.6 kB)\n",
      "Installing collected packages: lineid-plot\n",
      "Successfully installed lineid-plot-0.6\n",
      "Note: you may need to restart the kernel to use updated packages.\n"
     ]
    }
   ],
   "source": [
    "%pip install lineid_plot"
   ]
  },
  {
   "cell_type": "code",
   "execution_count": null,
   "metadata": {},
   "outputs": [],
   "source": []
  }
 ],
 "metadata": {
  "kernelspec": {
   "display_name": "Python 3",
   "language": "python",
   "name": "python3"
  },
  "language_info": {
   "codemirror_mode": {
    "name": "ipython",
    "version": 3
   },
   "file_extension": ".py",
   "mimetype": "text/x-python",
   "name": "python",
   "nbconvert_exporter": "python",
   "pygments_lexer": "ipython3",
   "version": "3.8.8"
  }
 },
 "nbformat": 4,
 "nbformat_minor": 4
}
