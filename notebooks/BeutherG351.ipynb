{
 "cells": [
  {
   "cell_type": "markdown",
   "id": "14516faa-b79d-45ed-9fe5-4e531840ae23",
   "metadata": {},
   "source": [
    "https://ui.adsabs.harvard.edu/abs/2019A%26A...621A.122B/abstract"
   ]
  },
  {
   "cell_type": "code",
   "execution_count": 1,
   "id": "73ec7e07-bc48-49b3-a405-3e5d0f70a4f7",
   "metadata": {},
   "outputs": [],
   "source": [
    "from astropy import units as u\n",
    "distance = 2.2*u.kpc"
   ]
  },
  {
   "cell_type": "code",
   "execution_count": 2,
   "id": "c0e2c1b0-521b-4e4b-a8c7-712f20b75049",
   "metadata": {},
   "outputs": [
    {
     "name": "stdout",
     "output_type": "stream",
     "text": [
      "/orange/adamginsburg/salt/beuther\n"
     ]
    }
   ],
   "source": [
    "cd /orange/adamginsburg/salt/beuther/"
   ]
  },
  {
   "cell_type": "code",
   "execution_count": 3,
   "id": "4f95af6c-6e6a-4ac4-822d-eb310b7bbe8e",
   "metadata": {},
   "outputs": [
    {
     "name": "stdout",
     "output_type": "stream",
     "text": [
      "core.python-8-1653072238-3663-3389-c0711a-s14.ufhpc.56877\n",
      "core.python-8-1653072280-3663-3389-c0711a-s14.ufhpc.21418\n",
      "disk1.reg\n",
      "disk2.reg\n",
      "G351_spw0_selfcal2_disk1.fits\n",
      "G351_spw0_selfcal2_disk2.fits\n",
      "G351_spw0_selfcal2.fits\n",
      "G351_spw1_selfcal2_disk1.fits\n",
      "G351_spw1_selfcal2_disk2.fits\n",
      "G351_spw1_selfcal2.fits\n",
      "G351_spw2_selfcal2_disk1.fits\n",
      "G351_spw2_selfcal2_disk2.fits\n",
      "G351_spw2_selfcal2.fits\n",
      "G351_spw3_selfcal2_disk1.fits\n",
      "G351_spw3_selfcal2_disk2.fits\n",
      "G351_spw3_selfcal2.fits\n",
      "NaCl_v_le_3_stackcube_disk1.fits\n",
      "NaCl_v_le_3_stackcube_disk2.fits\n",
      "\u001b[0m\u001b[01;34mspectra\u001b[0m/\n",
      "water_masked_moment0.fits\n"
     ]
    }
   ],
   "source": [
    "ls"
   ]
  },
  {
   "cell_type": "markdown",
   "id": "cff248a3-a01c-4c1e-8f8c-3ef45220f927",
   "metadata": {},
   "source": [
    "for fn in glob.glob(\"*.fits\"):\n",
    "    print('app"
   ]
  },
  {
   "cell_type": "code",
   "execution_count": null,
   "id": "1cc8c304-72ae-4dc0-ac2c-618b523efb11",
   "metadata": {},
   "outputs": [],
   "source": [
    "%matplotlib inline\n",
    "import pylab as pl\n",
    "pl.rcParams['figure.facecolor'] = 'w'\n",
    "from spectral_cube import SpectralCube\n",
    "from astropy import units as u\n",
    "from astropy.visualization import quantity_support\n",
    "quantity_support()"
   ]
  },
  {
   "cell_type": "code",
   "execution_count": null,
   "id": "3cab6600-992d-4538-9832-29d0b8308312",
   "metadata": {},
   "outputs": [],
   "source": [
    "from astropy.table import Table\n",
    "from astropy import table"
   ]
  },
  {
   "cell_type": "code",
   "execution_count": null,
   "id": "dd92b4e3-c4c8-4a29-96a2-12a8645831cf",
   "metadata": {},
   "outputs": [],
   "source": [
    "import pprint"
   ]
  },
  {
   "cell_type": "code",
   "execution_count": null,
   "id": "ca9d1b23-c8a6-4b66-a8cd-8f4261906378",
   "metadata": {},
   "outputs": [],
   "source": [
    "import scipy, scipy.ndimage"
   ]
  },
  {
   "cell_type": "code",
   "execution_count": null,
   "id": "e7640afd-ae30-4c07-b340-f820a5f472b1",
   "metadata": {},
   "outputs": [],
   "source": [
    "import numpy as np\n",
    "import os\n",
    "import glob\n",
    "from astropy import constants, units as u, table, stats, coordinates, wcs, log, coordinates as coord, visualization\n",
    "import radio_beam\n",
    "import pyspeckit\n",
    "import pylab as pl\n",
    "from astroquery.splatalogue.utils import minimize_table as mt\n",
    "import sys\n",
    "sys.path.append('/orange/adamginsburg/salt/Orion_ALMA_2016.1.00165.S/analysis')\n",
    "import lines\n",
    "import paths\n",
    "from salt_tables import (salt_tables, salt_table_names, SO, SO2, HCl, sis_tables, AlCl, AlF, Al37Cl,\n",
    "                         NaF, AlO, AlOH, NaCN, CaS, CaO)"
   ]
  },
  {
   "cell_type": "code",
   "execution_count": null,
   "id": "745d3a13-47ad-469e-9fb5-087a015cef9d",
   "metadata": {},
   "outputs": [],
   "source": [
    "import regions\n",
    "from astropy import units as u, coordinates\n",
    "reg = regions.Regions.read('../sanhueza/G351.77/cutout.reg')\n",
    "disk1 = regions.Regions.read('disk1.reg')\n",
    "disk2 = regions.Regions.read('disk2.reg')\n",
    "#regvsm = regions.Regions.read('verysmall.reg')\n",
    "#regvvsm = regions.Regions.read('innerdiskbox.reg')"
   ]
  },
  {
   "cell_type": "code",
   "execution_count": null,
   "id": "51556375-4d7e-4b64-bf9b-44aa45ac8676",
   "metadata": {},
   "outputs": [],
   "source": [
    "cont = SpectralCube.read('../sanhueza/G351.77/G351.77-0.54.config8.cont_avg.selfcal_0.5_hogbom.image.fits')\n",
    "pl.figure(figsize=(10,10))\n",
    "ax = pl.subplot(projection=cont[0].wcs)\n",
    "ax.imshow(cont[0].value, cmap='gray_r', norm=visualization.simple_norm(cont[0].value, stretch='log'))\n",
    "reg[0].to_pixel(cont[0].wcs).plot(ax=ax)\n",
    "disk1[0].to_pixel(cont[0].wcs).plot(ax=ax)\n",
    "disk2[0].to_pixel(cont[0].wcs).plot(ax=ax)\n",
    "pp = reg[0].to_pixel(cont.wcs.celestial)\n",
    "bb = pp.bounding_box\n",
    "ax.axis([bb.ixmin-20, bb.ixmax+20, bb.iymin-20, bb.iymax+20])"
   ]
  },
  {
   "cell_type": "code",
   "execution_count": null,
   "id": "acbf23b0-4819-4e15-85d0-ee85fd55fbb2",
   "metadata": {},
   "outputs": [],
   "source": []
  },
  {
   "cell_type": "markdown",
   "id": "14025cf5-5f1f-4fb4-af84-1774c61ef9b1",
   "metadata": {},
   "source": [
    "# NaCl Stackl"
   ]
  },
  {
   "cell_type": "code",
   "execution_count": null,
   "id": "informed-concrete",
   "metadata": {},
   "outputs": [],
   "source": [
    "from spectral_cube.analysis_utilities import stack_cube"
   ]
  },
  {
   "cell_type": "code",
   "execution_count": null,
   "id": "controlling-melbourne",
   "metadata": {},
   "outputs": [],
   "source": [
    "nacltables = salt_tables[3:5]\n",
    "#nacltables[0]"
   ]
  },
  {
   "cell_type": "code",
   "execution_count": null,
   "id": "leading-atlas",
   "metadata": {},
   "outputs": [],
   "source": [
    "import spectral_cube.analysis_utilities\n",
    "import imp\n",
    "imp.reload(spectral_cube.analysis_utilities)\n",
    "from spectral_cube.analysis_utilities import stack_cube"
   ]
  },
  {
   "cell_type": "code",
   "execution_count": null,
   "id": "black-salvation",
   "metadata": {},
   "outputs": [],
   "source": [
    "flist = (glob.glob('G351_spw[0123]_selfcal2.fits'))"
   ]
  },
  {
   "cell_type": "code",
   "execution_count": null,
   "id": "2937665b-e9bf-41e1-9522-7cf6104b7e15",
   "metadata": {},
   "outputs": [],
   "source": [
    "flist"
   ]
  },
  {
   "cell_type": "code",
   "execution_count": null,
   "id": "d03eea2b-e4e1-4c41-ba87-9ac214afe384",
   "metadata": {},
   "outputs": [],
   "source": [
    "#from dask.diagnostics import ProgressBar\n",
    "#pbar = ProgressBar()\n",
    "#pbar.register()\n",
    "\n",
    "import dask\n",
    "dask.config.set(scheduler='threads', num_workers=8)"
   ]
  },
  {
   "cell_type": "code",
   "execution_count": null,
   "id": "tired-immune",
   "metadata": {},
   "outputs": [],
   "source": [
    "for fn in flist:\n",
    "    for rr,regn in ((disk1, 'disk1'), (disk2, 'disk2')):\n",
    "        outfile = fn.replace(\".fits\",f\"_{regn}.fits\")\n",
    "        if not os.path.exists(outfile) or (os.path.exists(outfile) and (SpectralCube.read(outfile).unit != u.K) or hasattr(SpectralCube.read(outfile), 'beams')):\n",
    "            cube = SpectralCube.read(fn, use_dask=True).subcube_from_regions(rr)\n",
    "            cube.allow_huge_operations=True\n",
    "            if hasattr(cube, 'beams'):\n",
    "                with cube.use_dask_scheduler('threads', num_workers=8):\n",
    "                    cb = cube.beams.common_beam(max_iter=20, max_epsilon=0.01)\n",
    "                    scube = cube.convolve_to(cb, save_to_tmp_dir=True)\n",
    "            else:\n",
    "                scube = cube\n",
    "            assert not hasattr(scube, 'beams')\n",
    "            scube.allow_huge_operations = True\n",
    "            scube.to(u.K).write(outfile, overwrite=True)            "
   ]
  },
  {
   "cell_type": "code",
   "execution_count": null,
   "id": "fifty-poster",
   "metadata": {},
   "outputs": [],
   "source": [
    "regn = \"disk1\"\n",
    "cubes = [SpectralCube.read(fn, use_dask=True)#.subcube_from_regions(reg3)\n",
    "         for fn in (glob.glob(f'G351_spw[0123]_selfcal2_{regn}.fits'))]\n",
    "cubes"
   ]
  },
  {
   "cell_type": "code",
   "execution_count": null,
   "id": "d0388fe1-e6cf-4561-b616-ab2e6b05811a",
   "metadata": {},
   "outputs": [],
   "source": [
    "regn = \"disk2\"\n",
    "cubesd2 = [SpectralCube.read(fn, use_dask=True)#.subcube_from_regions(reg3)\n",
    "         for fn in (glob.glob(f'G351_spw[0123]_selfcal2_{regn}.fits'))]\n",
    "cubesd2"
   ]
  },
  {
   "cell_type": "code",
   "execution_count": null,
   "id": "earlier-school",
   "metadata": {},
   "outputs": [],
   "source": [
    "# only needed for VRSCs\n",
    "if hasattr(cubes[0], 'beams'):\n",
    "    beams = radio_beam.Beams(beams=[cube.beams.common_beam(max_iter=20, max_epsilon=0.01)\n",
    "                                    if hasattr(cube, 'beams')\n",
    "                                    else cube.beam\n",
    "                                    for cube in cubes])\n",
    "    cb=beams.common_beam()\n",
    "else:\n",
    "    beams = radio_beam.Beams(beams=[cube.beam for cube in cubes])\n",
    "    cb=beams.common_beam()"
   ]
  },
  {
   "cell_type": "code",
   "execution_count": null,
   "id": "33e2245f-ff59-4a1d-ab52-6eb43e4a7ca2",
   "metadata": {},
   "outputs": [],
   "source": [
    "cb"
   ]
  },
  {
   "cell_type": "code",
   "execution_count": null,
   "id": "830ed31c-de45-4e87-baf6-a8fe15e1ae60",
   "metadata": {},
   "outputs": [],
   "source": [
    "(cb.major*distance).to(u.au, u.dimensionless_angles())"
   ]
  },
  {
   "cell_type": "code",
   "execution_count": null,
   "id": "0c2e5ff5-8f63-4fd4-b790-508bbe2d5799",
   "metadata": {},
   "outputs": [],
   "source": [
    "(cb.minor*distance).to(u.au, u.dimensionless_angles())"
   ]
  },
  {
   "cell_type": "code",
   "execution_count": null,
   "id": "necessary-emission",
   "metadata": {},
   "outputs": [],
   "source": [
    "linelist = np.concatenate([data['Freq'][(data['vu'] <= 3) &\n",
    "                                          np.any([((data['Freq'].quantity > cube.with_spectral_unit(u.GHz).spectral_extrema[0]) &\n",
    "                                                   (data['Freq'].quantity < cube.with_spectral_unit(u.GHz).spectral_extrema[1]))\n",
    "                                                 for cube in cubes],\n",
    "                                                 axis=0)].quantity\n",
    "                             for data in nacltables])\n",
    "linenames = np.concatenate( [data['Species'][(data['vu'] <= 3) &\n",
    "                                          np.any([((data['Freq'].quantity > cube.with_spectral_unit(u.GHz).spectral_extrema[0]) &\n",
    "                                                   (data['Freq'].quantity < cube.with_spectral_unit(u.GHz).spectral_extrema[1]))\n",
    "                                                 for cube in cubes],\n",
    "                                                 axis=0)]\n",
    "                             for data in nacltables] )\n",
    "(linelist, linenames)"
   ]
  },
  {
   "cell_type": "code",
   "execution_count": null,
   "id": "underlying-hawaii",
   "metadata": {},
   "outputs": [],
   "source": [
    "from astropy import log\n",
    "log.setLevel('INFO')"
   ]
  },
  {
   "cell_type": "code",
   "execution_count": null,
   "id": "cheap-bradford",
   "metadata": {},
   "outputs": [],
   "source": [
    "#log.setLevel('DEBUG')\n",
    "vcen = -3.6 * u.km/u.s # from Patricio\n",
    "stack, cutouts = stack_cube(cubes,\n",
    "                   linelist=linelist,\n",
    "                   vmin=vcen-25*u.km/u.s,\n",
    "                   vmax=vcen+25*u.km/u.s,\n",
    "                   average=np.nanmean,\n",
    "                   convolve_beam=cb,\n",
    "                   return_cutouts=True)\n",
    "#log.setLevel('INFO')\n",
    "stack.to(u.K).write('NaCl_v_le_3_stackcube_disk1.fits', overwrite=True)"
   ]
  },
  {
   "cell_type": "code",
   "execution_count": null,
   "id": "studied-hawaiian",
   "metadata": {},
   "outputs": [],
   "source": [
    "stackc = SpectralCube.read('NaCl_v_le_3_stackcube_disk1.fits')\n",
    "stackc"
   ]
  },
  {
   "cell_type": "code",
   "execution_count": null,
   "id": "d132a047-5c8f-4035-8ac1-54ab751fab63",
   "metadata": {},
   "outputs": [],
   "source": []
  },
  {
   "cell_type": "code",
   "execution_count": null,
   "id": "e082df0b-ba29-4e6e-bf5b-59974b27901f",
   "metadata": {},
   "outputs": [],
   "source": [
    "#log.setLevel('DEBUG')\n",
    "vcen = -3.6 * u.km/u.s # from Patricio\n",
    "stack2, cutouts2 = stack_cube(cubesd2,\n",
    "                   linelist=linelist,\n",
    "                   vmin=vcen-25*u.km/u.s,\n",
    "                   vmax=vcen+25*u.km/u.s,\n",
    "                   average=np.nanmean,\n",
    "                   convolve_beam=cb,\n",
    "                   return_cutouts=True)\n",
    "#log.setLevel('INFO')\n",
    "stack2.to(u.K).write('NaCl_v_le_3_stackcube_disk2.fits', overwrite=True)"
   ]
  },
  {
   "cell_type": "code",
   "execution_count": null,
   "id": "e2d28dc6-a950-47f4-bf25-b70bbb74f906",
   "metadata": {},
   "outputs": [],
   "source": [
    "# try creating a vmap based on another line (water)\n",
    "restval = 232.6867*u.GHz # 'H2Ov2=1_5(5,0)-6(4,3)': \n",
    "cube = [c for c in cubes if (c.with_spectral_unit(u.GHz).spectral_extrema[0] < restval) & (c.with_spectral_unit(u.GHz).spectral_extrema[1] > restval)][0]\n",
    "print(cube)\n",
    "scube = (cube.subcube_from_regions(disk1)\n",
    "         .with_spectral_unit(u.GHz)\n",
    "         .with_spectral_unit(u.km/u.s,\n",
    "                             velocity_convention='radio',\n",
    "                             rest_value=restval)\n",
    "         .spectral_slab(-20*u.km/u.s+vcen, 20*u.km/u.s+vcen))\n",
    "print(scube)\n",
    "pl.figure(figsize=(14,5))\n",
    "pl.subplot(1,3,1)\n",
    "m0 = scube.moment0()\n",
    "m0.quicklook()\n",
    "pl.title(\"m0\")\n",
    "\n",
    "pl.subplot(1,3,2)\n",
    "mx = scube.max(axis=0)\n",
    "mx.quicklook()\n",
    "pl.title(\"mx\")\n",
    "pl.colorbar()\n",
    "pl.subplot(1,3,3)\n",
    "msk = mx > 150*u.K\n",
    "msk = scipy.ndimage.binary_erosion(msk, iterations=1)\n",
    "msk = scipy.ndimage.binary_dilation(msk, iterations=7)\n",
    "pl.imshow(msk, interpolation='none', origin='lower')\n",
    "pl.title('mask')\n",
    "pl.tight_layout()\n",
    "pl.figure()\n",
    "\n",
    "from dask_image.ndmorph import binary_dilation, binary_erosion\n",
    "m3d = (scube > 40*u.K).include()\n",
    "m3d = binary_erosion(m3d, iterations=1)\n",
    "m3d = binary_dilation(m3d, iterations=2)\n",
    "m3d = m3d.compute()\n",
    "\n",
    "m1 = scube.with_mask(msk).with_mask(m3d).moment1()\n",
    "m0m = scube.with_mask(msk).with_mask(m3d).moment0()\n",
    "pl.figure(figsize=(14,6))\n",
    "ax1 = pl.subplot(1,2,1)\n",
    "im = ax1.imshow(m1.value, vmin=vcen.value-10, vmax=vcen.value+10)\n",
    "pl.colorbar(mappable=im)\n",
    "mxv = scube.with_mask(msk).argmax_world(axis=0)\n",
    "pl.subplot(1,2,2)\n",
    "pl.imshow(mxv.value, vmin=vcen.value-10, vmax=vcen.value+10)\n",
    "pl.colorbar()\n",
    "\n",
    "pl.figure()\n",
    "pl.imshow(m0m.value)\n",
    "m0m.hdu.writeto('water_masked_moment0.fits', overwrite=True)\n",
    "\n",
    "vmap = m1.hdu"
   ]
  },
  {
   "cell_type": "code",
   "execution_count": null,
   "id": "760bf369-60b8-4a2f-91ae-56cce744fe4c",
   "metadata": {},
   "outputs": [],
   "source": [
    "# try creating a vmap based on another line (water)\n",
    "restval = 232.6867*u.GHz # 'H2Ov2=1_5(5,0)-6(4,3)': \n",
    "vcen2 = -6*u.km/u.s\n",
    "cube = [c for c in cubesd2 if (c.with_spectral_unit(u.GHz).spectral_extrema[0] < restval) & (c.with_spectral_unit(u.GHz).spectral_extrema[1] > restval)][0]\n",
    "print(cube)\n",
    "scube = (cube.subcube_from_regions(disk2)\n",
    "         .with_spectral_unit(u.GHz)\n",
    "         .with_spectral_unit(u.km/u.s,\n",
    "                             velocity_convention='radio',\n",
    "                             rest_value=restval)\n",
    "         .spectral_slab(-20*u.km/u.s+vcen2, 20*u.km/u.s+vcen2))\n",
    "print(scube)\n",
    "pl.figure(figsize=(14,5))\n",
    "pl.subplot(1,3,1)\n",
    "m0 = scube.moment0()\n",
    "m0.quicklook()\n",
    "pl.title(\"m0\")\n",
    "\n",
    "pl.subplot(1,3,2)\n",
    "mx = scube.max(axis=0)\n",
    "mx.quicklook()\n",
    "pl.title(\"mx\")\n",
    "pl.colorbar()\n",
    "pl.subplot(1,3,3)\n",
    "msk = mx > 50*u.K\n",
    "msk = scipy.ndimage.binary_erosion(msk, iterations=2)\n",
    "msk = scipy.ndimage.binary_dilation(msk, iterations=7)\n",
    "pl.imshow(msk, interpolation='none', origin='lower')\n",
    "pl.title('mask')\n",
    "pl.tight_layout()\n",
    "pl.figure()\n",
    "\n",
    "from dask_image.ndmorph import binary_dilation, binary_erosion\n",
    "m3d = (scube > 25*u.K).include()\n",
    "m3d = binary_erosion(m3d, iterations=1)\n",
    "m3d = binary_dilation(m3d, iterations=2)\n",
    "m3d = m3d.compute()\n",
    "\n",
    "m1 = scube.with_mask(msk).with_mask(m3d).moment1()\n",
    "m0m = scube.with_mask(msk).with_mask(m3d).moment0()\n",
    "pl.figure(figsize=(14,6))\n",
    "ax1 = pl.subplot(1,2,1)\n",
    "im = ax1.imshow(m1.value, vmin=vcen2.value-15, vmax=vcen2.value+15)\n",
    "pl.colorbar(mappable=im)\n",
    "mxv = scube.with_mask(msk).argmax_world(axis=0)\n",
    "pl.subplot(1,2,2)\n",
    "pl.imshow(mxv.value, vmin=vcen2.value-15, vmax=vcen2.value+15)\n",
    "pl.colorbar()\n",
    "\n",
    "\n",
    "pl.figure()\n",
    "pl.imshow(m0m.value)\n",
    "\n",
    "vmap2 = m1.hdu"
   ]
  },
  {
   "cell_type": "code",
   "execution_count": null,
   "id": "8afa7b4d-2f93-4732-9381-7c734f4d39c0",
   "metadata": {},
   "outputs": [],
   "source": []
  },
  {
   "cell_type": "code",
   "execution_count": null,
   "id": "1155d562-2222-4024-aafc-ed5823067d77",
   "metadata": {},
   "outputs": [],
   "source": []
  },
  {
   "cell_type": "code",
   "execution_count": null,
   "id": "da5ded38-b63d-41fa-8666-4711d96be6f6",
   "metadata": {},
   "outputs": [],
   "source": [
    "import sys\n",
    "sys.path.append('/orange/adamginsburg/salt/code/')\n",
    "import imp, overplot_saltlines; imp.reload(overplot_saltlines)\n",
    "from overplot_saltlines import overplot_saltlines"
   ]
  },
  {
   "cell_type": "code",
   "execution_count": null,
   "id": "fb353780-a90a-4dd5-b1a0-205e53a21075",
   "metadata": {},
   "outputs": [],
   "source": [
    "import imp\n",
    "import overplot_saltlines\n",
    "imp.reload(overplot_saltlines)\n",
    "import lines\n",
    "imp.reload(lines)\n",
    "from overplot_saltlines import overplot_saltlines, all_lines\n",
    "'SO65-54' in all_lines"
   ]
  },
  {
   "cell_type": "code",
   "execution_count": null,
   "id": "8778424f-ee51-44f1-aef0-9352586bc7d2",
   "metadata": {},
   "outputs": [],
   "source": [
    "spectra = []\n",
    "for ii,cube in enumerate(cubes):\n",
    "    cube.allow_huge_operations=True\n",
    "    sp = cube.subcube_from_regions(disk1).with_spectral_unit(u.GHz).mean(axis=(1,2))\n",
    "    pysp = pyspeckit.Spectrum(data=sp, xarr=sp.spectral_axis, header=sp.header)\n",
    "    spectra.append(pysp)\n",
    "    pysp.specname = f'disk1_spw{ii+1}'"
   ]
  },
  {
   "cell_type": "code",
   "execution_count": null,
   "id": "19433f28-f9c6-410d-a2c9-e6bedd8905df",
   "metadata": {},
   "outputs": [],
   "source": [
    "spectra2 = []\n",
    "for ii,cube in enumerate(cubesd2):\n",
    "    cube.allow_huge_operations=True\n",
    "    sp = cube.subcube_from_regions(disk2).with_spectral_unit(u.GHz).mean(axis=(1,2))\n",
    "    pysp = pyspeckit.Spectrum(data=sp, xarr=sp.spectral_axis, header=sp.header)\n",
    "    spectra2.append(pysp)\n",
    "    pysp.specname = f'disk2_spw{ii+1}'"
   ]
  },
  {
   "cell_type": "code",
   "execution_count": null,
   "id": "be99697b-b81a-4412-a9bc-20b752310c50",
   "metadata": {},
   "outputs": [],
   "source": [
    "mkdir -p spectra/figures/disk1"
   ]
  },
  {
   "cell_type": "code",
   "execution_count": null,
   "id": "d4a72c73-4aad-4a82-8dbb-b07095e6a278",
   "metadata": {},
   "outputs": [],
   "source": [
    "mkdir -p spectra/figures/disk2"
   ]
  },
  {
   "cell_type": "code",
   "execution_count": null,
   "id": "2a4f4888-76c4-484d-93da-1e14a7a4b8c1",
   "metadata": {},
   "outputs": [],
   "source": [
    "overplot_saltlines(spectra, vcen=vcen, savepath='spectra/figures/disk1', ymax=180, ymin=-25)"
   ]
  },
  {
   "cell_type": "code",
   "execution_count": null,
   "id": "94ba9fb2-d2fe-4528-9499-2031158153e0",
   "metadata": {},
   "outputs": [],
   "source": [
    "overplot_saltlines(spectra2, vcen=vcen, savepath='spectra/figures/disk2', ymax=180, ymin=-25)"
   ]
  },
  {
   "cell_type": "code",
   "execution_count": null,
   "id": "2cd6bb75-18af-4bca-b93a-6195984344e4",
   "metadata": {},
   "outputs": [],
   "source": []
  },
  {
   "cell_type": "code",
   "execution_count": null,
   "id": "01e2d407-9c85-4a3b-b21e-35ce80d6def8",
   "metadata": {},
   "outputs": [],
   "source": [
    "from IPython.display import Image,display"
   ]
  },
  {
   "cell_type": "code",
   "execution_count": null,
   "id": "5830c4bd-3c72-46c3-adfa-12b783323370",
   "metadata": {},
   "outputs": [],
   "source": [
    "for fn in glob.glob('spectra/figures/disk1/color*png'):\n",
    "    display(Image(fn))"
   ]
  },
  {
   "cell_type": "code",
   "execution_count": null,
   "id": "224a907a-02f8-4eaa-82fa-21bf98c7cc75",
   "metadata": {},
   "outputs": [],
   "source": [
    "for fn in glob.glob('spectra/figures/disk2/color*png'):\n",
    "    display(Image(fn))"
   ]
  },
  {
   "cell_type": "code",
   "execution_count": null,
   "id": "b5c79d13-2361-43a4-8621-eca3a2ac0f1e",
   "metadata": {},
   "outputs": [],
   "source": []
  },
  {
   "cell_type": "code",
   "execution_count": null,
   "id": "f1782c19-747c-47c3-9212-875a82e9daa4",
   "metadata": {},
   "outputs": [],
   "source": []
  },
  {
   "cell_type": "code",
   "execution_count": null,
   "id": "2887161e-eef8-4401-8a66-96ea4f0c82dd",
   "metadata": {},
   "outputs": [],
   "source": []
  },
  {
   "cell_type": "code",
   "execution_count": null,
   "id": "1effb221-f4ea-4425-ad6f-779d10cc8a17",
   "metadata": {},
   "outputs": [],
   "source": []
  },
  {
   "cell_type": "code",
   "execution_count": null,
   "id": "3d092f60-1670-400f-ae74-bf888f42fd15",
   "metadata": {
    "tags": []
   },
   "outputs": [],
   "source": [
    "import glob\n",
    "import spectral_cube.analysis_utilities\n",
    "import reproject\n",
    "from tqdm.notebook import tqdm\n",
    "\n",
    "for reg, cubelist, basename, vm in zip((disk1, disk2), (cubes, cubesd2), ('disk1', 'disk2'), (vmap, vmap2)):\n",
    "    print(basename)\n",
    "    for spwn,cube in enumerate(cubelist):\n",
    "        print(cube)\n",
    "        scube = cube.subcube_from_regions(reg).to(u.K)\n",
    "        # continuum subtract before stacking\n",
    "        #scube = scube - scube.percentile(25, axis=0)\n",
    "        #mx = scube.max(axis=0)\n",
    "        #msk = mx > 0.003*mx.unit\n",
    "        print(\"Mean spectrum\")\n",
    "        sp = scube.mean(axis=(1,2))\n",
    "\n",
    "        #sp.write(f'spectra/{fn.split(\"/\")[-1].replace(\".fits\",\"_meanspec.fits\")}', overwrite=True)\n",
    "\n",
    "\n",
    "        # reproject the velocity map into the cube's coordinate system\n",
    "        vmap_proj,_ = reproject.reproject_interp(vm,\n",
    "                                                 scube.wcs.celestial,\n",
    "                                                 shape_out=scube.shape[1:])\n",
    "        vmap_proj = u.Quantity(vmap_proj, u.km/u.s)\n",
    "\n",
    "        # convert to km/s with arbitrary rest value so 0 km/s can be interpreted\n",
    "        if scube.spectral_axis.unit.is_equivalent(u.Hz):\n",
    "            scube = scube.with_spectral_unit(u.km/u.s, velocity_convention='radio', rest_value=scube.spectral_axis.mean())\n",
    "\n",
    "        print(\"Stacking\")\n",
    "        # perform the stacking!\n",
    "        stack = spectral_cube.analysis_utilities.stack_spectra(scube, vmap_proj,\n",
    "                                                               v0=0.0*u.km/u.s,\n",
    "                                                               #progressbar=tqdm,\n",
    "                                                               #num_cores=8\n",
    "                                                              )\n",
    "        fstack = stack.with_spectral_unit(u.GHz)\n",
    "\n",
    "        pl.suptitle(f\"{fn}\")\n",
    "        fstack.write(f'spectra/{basename}_{spwn}_stack.fits', overwrite=True)\n",
    "\n",
    "        pl.clf()\n",
    "        fstack.quicklook(filename=f'spectra/figures/{basename}_{spwn}_stack.pdf')\n",
    "        fstack.quicklook(filename=f'spectra/figures/{basename}_{spwn}_stack.png')\n",
    "\n",
    "\n",
    "        fig = pl.figure()\n",
    "        mappable = pl.subplot(1,2,1).imshow(mx.value, origin='lower', interpolation='none')\n",
    "        pl.colorbar(mappable)\n",
    "        pl.subplot(1,2,2)\n",
    "        pl.suptitle(fn)\n",
    "        sp.quicklook()"
   ]
  },
  {
   "cell_type": "code",
   "execution_count": null,
   "id": "413409a9-873b-45a8-aaab-6e84bd797c5f",
   "metadata": {},
   "outputs": [],
   "source": [
    "ls spectra"
   ]
  },
  {
   "cell_type": "code",
   "execution_count": null,
   "id": "20303a6c-1c16-4c92-a6d3-65fa40699f4b",
   "metadata": {},
   "outputs": [],
   "source": [
    "stackspectra = []\n",
    "for ii,fn in enumerate(glob.glob('spectra/*_stack.fits')):\n",
    "    pysp = pyspeckit.Spectrum(fn)\n",
    "    basename = os.path.basename(fn)\n",
    "    spl = basename.split(\"_\")\n",
    "    name = 'mm1' if spl[0] == disk1 else 'mm2'\n",
    "    pysp.specname = f'{name}_{spl[1]}_stack'\n",
    "    stackspectra.append(pysp)"
   ]
  },
  {
   "cell_type": "code",
   "execution_count": null,
   "id": "5171521e-436c-472a-9dea-668eb08d2027",
   "metadata": {},
   "outputs": [],
   "source": [
    "# changed from vcen=vcen to vcen=0 b/c these are stacked - TODO check this?\n",
    "overplot_saltlines(stackspectra, vcen=0*u.km/u.s, savepath='spectra/figures', ymax=200, ymin=-25)"
   ]
  },
  {
   "cell_type": "markdown",
   "id": "2b0e4f80-312a-4bca-9d0a-05fc7f1df790",
   "metadata": {},
   "source": [
    "rm spectra/figures/color_labels_G351_image_co1_smaller_stack_stack.png"
   ]
  },
  {
   "cell_type": "markdown",
   "id": "018ff935-5499-41a1-bbe8-62a6a271f28c",
   "metadata": {},
   "source": [
    "rm spectra/figures/color_labels_G351_54_stack.png"
   ]
  },
  {
   "cell_type": "code",
   "execution_count": null,
   "id": "0d407b60-5036-46b3-852e-3c7dae524ceb",
   "metadata": {},
   "outputs": [],
   "source": [
    "ls spectra/figures/"
   ]
  },
  {
   "cell_type": "code",
   "execution_count": null,
   "id": "93e71623-0c23-4a43-bf35-94221f0adb83",
   "metadata": {},
   "outputs": [],
   "source": [
    "for fn in glob.glob('spectra/figures/color*stack.png'):\n",
    "    display(Image(fn))"
   ]
  },
  {
   "cell_type": "code",
   "execution_count": null,
   "id": "4f1083b7-363a-480e-a469-e9da44e145db",
   "metadata": {},
   "outputs": [],
   "source": []
  },
  {
   "cell_type": "markdown",
   "id": "61d8ca6b-47ff-4674-81c7-0e028b81f670",
   "metadata": {},
   "source": [
    "# Try to ID the lines from Beuther+ that were only tentative"
   ]
  },
  {
   "cell_type": "code",
   "execution_count": null,
   "id": "19e34346-a0ac-4c4d-8ea1-4684180aa840",
   "metadata": {},
   "outputs": [],
   "source": [
    "from astroquery.splatalogue import Splatalogue"
   ]
  },
  {
   "cell_type": "code",
   "execution_count": null,
   "id": "acb6dcf6-6dd9-429a-be2b-e2805a603a3c",
   "metadata": {},
   "outputs": [],
   "source": [
    "sp = stackspectra[6]\n",
    "lx,ux = 234.75,234.9\n",
    "sp.plotter(xmin=lx, xmax=ux)\n",
    "sp.baseline()\n",
    "sp.plotter(xmin=lx, xmax=ux)\n",
    "sp.specfit() #guesses=[5,216.935,0.01], limited=[(True,True),(True,True),(True,True)], limits=[(0,20),(216.93,216.94),(0.0001,0.05)])\n",
    "sp.baseline(excludefit=True)\n",
    "sp.plotter(xmin=lx, xmax=ux, ymax=150)\n",
    "sp.specfit()\n",
    "cen = sp.specfit.parinfo['SHIFT0']*sp.xarr.unit #* (1 + vcen/constants.c)\n",
    "dx = (5*u.km/u.s / constants.c)*cen\n",
    "Splatalogue.query_lines(cen-dx, cen+dx, line_lists=['CDMS'], energy_max=10000, energy_type='eu_k', chemical_name=\"monosulfide\")\n"
   ]
  },
  {
   "cell_type": "code",
   "execution_count": null,
   "id": "03b1d834-8439-4669-b180-85f31a19eb5c",
   "metadata": {},
   "outputs": [],
   "source": [
    "sp = stackspectra[6]\n",
    "lx,ux = 234.9,235\n",
    "sp.plotter(xmin=lx, xmax=ux)\n",
    "sp.baseline()\n",
    "sp.plotter(xmin=lx, xmax=ux)\n",
    "sp.specfit() #guesses=[5,216.935,0.01], limited=[(True,True),(True,True),(True,True)], limits=[(0,20),(216.93,216.94),(0.0001,0.05)])\n",
    "sp.baseline(excludefit=True)\n",
    "sp.plotter(xmin=lx, xmax=ux, ymax=150)\n",
    "sp.specfit()\n",
    "cen = sp.specfit.parinfo['SHIFT0']*sp.xarr.unit #* (1 + vcen/constants.c)\n",
    "dx = (5*u.km/u.s / constants.c)*cen\n",
    "tbl = Splatalogue.query_lines(cen-dx, cen+dx, energy_max=10000, energy_type='eu_k', chemical_name='PN')\n",
    "tbl.show_in_notebook(display_length=150)\n",
    "#cen"
   ]
  },
  {
   "cell_type": "code",
   "execution_count": null,
   "id": "f86dbf5e-6bd1-49c7-9fcf-ec5a5dcfbc2d",
   "metadata": {},
   "outputs": [],
   "source": [
    "sp = stackspectra[6]\n",
    "lx,ux = 235.9,236.05\n",
    "sp.plotter(xmin=lx, xmax=ux)\n",
    "sp.baseline()\n",
    "sp.plotter(xmin=lx, xmax=ux)\n",
    "sp.specfit() #guesses=[5,216.935,0.01], limited=[(True,True),(True,True),(True,True)], limits=[(0,20),(216.93,216.94),(0.0001,0.05)])\n",
    "sp.baseline(excludefit=True)\n",
    "sp.plotter(xmin=lx, xmax=ux, ymax=150)\n",
    "sp.specfit()\n",
    "cen = sp.specfit.parinfo['SHIFT0']*sp.xarr.unit #* (1 + vcen/constants.c)\n",
    "dx = (5*u.km/u.s / constants.c)*cen\n",
    "tbl = Splatalogue.query_lines(cen-dx, cen+dx, energy_max=10000, energy_type='eu_k', chemical_name='SiS')\n",
    "tbl.show_in_notebook(display_length=150)"
   ]
  },
  {
   "cell_type": "code",
   "execution_count": null,
   "id": "05bf8905-91f4-4bd4-bfca-1e9ba9dadb02",
   "metadata": {},
   "outputs": [],
   "source": [
    "Splatalogue.query_lines(215*u.GHz, 236*u.GHz, energy_max=10000, energy_type='eu_k', chemical_name='Silicon monosulfide')"
   ]
  },
  {
   "cell_type": "code",
   "execution_count": null,
   "id": "42cff3b5-78f5-4b84-8bbe-d9959e0633a7",
   "metadata": {},
   "outputs": [],
   "source": [
    "Splatalogue.query_lines(215*u.GHz, 236*u.GHz, energy_max=10000, energy_type='eu_k', chemical_name='PN')"
   ]
  },
  {
   "cell_type": "code",
   "execution_count": null,
   "id": "c7701b68-cb60-434f-afe1-dddc93f2abde",
   "metadata": {},
   "outputs": [],
   "source": []
  },
  {
   "cell_type": "code",
   "execution_count": null,
   "id": "7562982a-a6f5-4d5a-a7bc-10b064d77e55",
   "metadata": {},
   "outputs": [],
   "source": []
  },
  {
   "cell_type": "code",
   "execution_count": null,
   "id": "f893ed75-f6ba-4faf-964f-907548c19a3c",
   "metadata": {},
   "outputs": [],
   "source": []
  },
  {
   "cell_type": "code",
   "execution_count": null,
   "id": "705eba25-2a2d-44a9-9767-cb9d06c1b00d",
   "metadata": {},
   "outputs": [],
   "source": []
  }
 ],
 "metadata": {
  "kernelspec": {
   "display_name": "Py 3.9",
   "language": "python",
   "name": "python39"
  },
  "language_info": {
   "codemirror_mode": {
    "name": "ipython",
    "version": 3
   },
   "file_extension": ".py",
   "mimetype": "text/x-python",
   "name": "python",
   "nbconvert_exporter": "python",
   "pygments_lexer": "ipython3",
   "version": "3.9.7"
  }
 },
 "nbformat": 4,
 "nbformat_minor": 5
}
