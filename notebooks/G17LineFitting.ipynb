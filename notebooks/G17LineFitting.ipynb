{
 "cells": [
  {
   "cell_type": "code",
   "execution_count": 1,
   "id": "21644719-0638-422b-ab2c-f3ced7196e16",
   "metadata": {
    "execution": {
     "iopub.execute_input": "2022-10-13T20:14:20.268831Z",
     "iopub.status.busy": "2022-10-13T20:14:20.268509Z",
     "iopub.status.idle": "2022-10-13T20:14:20.270489Z",
     "shell.execute_reply": "2022-10-13T20:14:20.270219Z"
    }
   },
   "outputs": [],
   "source": [
    "import socket\n",
    "import os\n",
    "import sys"
   ]
  },
  {
   "cell_type": "code",
   "execution_count": 2,
   "id": "ad93404d-76b1-43b3-8c9e-2e58ab9c3984",
   "metadata": {
    "execution": {
     "iopub.execute_input": "2022-10-13T20:14:20.272451Z",
     "iopub.status.busy": "2022-10-13T20:14:20.271576Z",
     "iopub.status.idle": "2022-10-13T20:14:20.292709Z",
     "shell.execute_reply": "2022-10-13T20:14:20.292915Z"
    }
   },
   "outputs": [
    {
     "data": {
      "text/plain": [
       "'c0710a-s22.ufhpc'"
      ]
     },
     "execution_count": 2,
     "metadata": {},
     "output_type": "execute_result"
    }
   ],
   "source": [
    "if 'ufhpc' in socket.gethostname():\n",
    "    root = '/orange/adamginsburg/salt'\n",
    "    os.chdir(f'{root}/maud/')\n",
    "    sys.path.append(f'{root}/Orion_ALMA_2016.1.00165.S/analysis/')\n",
    "elif 'MacBook' in socket.gethostname():\n",
    "    root = '/Users/adam/work/salt/saltmining'\n",
    "    os.chdir(f'{root}/maud/')\n",
    "    sys.path.append(os.path.expanduser('~/work/orion/alma_lb/analysis/'))\n",
    "socket.gethostname()"
   ]
  },
  {
   "cell_type": "code",
   "execution_count": 3,
   "id": "c7446f39-48a4-4031-8a5a-e1a0a2f5eb14",
   "metadata": {
    "execution": {
     "iopub.execute_input": "2022-10-13T20:14:20.294439Z",
     "iopub.status.busy": "2022-10-13T20:14:20.293995Z",
     "iopub.status.idle": "2022-10-13T20:14:20.726709Z",
     "shell.execute_reply": "2022-10-13T20:14:20.726439Z"
    }
   },
   "outputs": [
    {
     "name": "stdout",
     "output_type": "stream",
     "text": [
      "\u001b[0m\u001b[01;34mfigures\u001b[0m/\r\n",
      "G17_SPW0_2017.image_maxspec.fits\r\n",
      "G17_SPW0_2017.image_meanspec.fits\r\n",
      "G17_SPW0_2017.image_moment_stack.fits\r\n",
      "G17_SPW0_2017.image_stack.fits\r\n",
      "G17_SPW1_2017.image_maxspec.fits\r\n",
      "G17_SPW1_2017.image_meanspec.fits\r\n",
      "G17_SPW1_2017.image_moment_stack.fits\r\n",
      "G17_SPW1_2017.image_stack.fits\r\n",
      "G17_SPW2_2017.image_maxspec.fits\r\n",
      "G17_SPW2_2017.image_meanspec.fits\r\n",
      "G17_SPW2_2017.image_moment_stack.fits\r\n",
      "G17_SPW2_2017.image_stack.fits\r\n",
      "G17_SPW3_2017.image_maxspec.fits\r\n",
      "G17_SPW3_2017.image_meanspec.fits\r\n",
      "G17_SPW3_2017.image_moment_stack.fits\r\n",
      "G17_SPW3_2017.image_stack.fits\r\n",
      "member.uid___A001_X1528_X2a2.AFGL_2136_IRS_1_sci.spw19.cube.I.pbcor_meanspec.fits\r\n",
      "member.uid___A001_X1528_X2a2.AFGL_2136_IRS_1_sci.spw19.cube.I.pbcor_stack.fits\r\n",
      "member.uid___A001_X1528_X2a2.AFGL_2136_IRS_1_sci.spw25.cube.I.pbcor_meanspec.fits\r\n",
      "member.uid___A001_X1528_X2a2.AFGL_2136_IRS_1_sci.spw25.cube.I.pbcor_stack.fits\r\n",
      "NaCl_v_le_3_stackcube_meanspec.fits\r\n"
     ]
    }
   ],
   "source": [
    "ls spectra"
   ]
  },
  {
   "cell_type": "code",
   "execution_count": 4,
   "id": "d92eb19a-a326-4f6c-be56-82925457215f",
   "metadata": {
    "execution": {
     "iopub.execute_input": "2022-10-13T20:14:20.729994Z",
     "iopub.status.busy": "2022-10-13T20:14:20.729098Z",
     "iopub.status.idle": "2022-10-13T20:14:22.527642Z",
     "shell.execute_reply": "2022-10-13T20:14:22.527866Z"
    }
   },
   "outputs": [
    {
     "data": {
      "text/plain": [
       "<astropy.visualization.units.quantity_support.<locals>.MplQuantityConverter at 0x2b0e7a42dd90>"
      ]
     },
     "execution_count": 4,
     "metadata": {},
     "output_type": "execute_result"
    }
   ],
   "source": [
    "%matplotlib inline\n",
    "import pylab as pl\n",
    "pl.rcParams['figure.facecolor'] = 'w'\n",
    "from spectral_cube import SpectralCube\n",
    "from astropy import units as u\n",
    "from astropy.visualization import quantity_support\n",
    "quantity_support()"
   ]
  },
  {
   "cell_type": "code",
   "execution_count": 5,
   "id": "8fb9a017-1428-4562-a5c1-0ed5d3273e8e",
   "metadata": {
    "execution": {
     "iopub.execute_input": "2022-10-13T20:14:22.530368Z",
     "iopub.status.busy": "2022-10-13T20:14:22.530103Z",
     "iopub.status.idle": "2022-10-13T20:14:22.531723Z",
     "shell.execute_reply": "2022-10-13T20:14:22.531454Z"
    }
   },
   "outputs": [],
   "source": [
    "doplot=True"
   ]
  },
  {
   "cell_type": "markdown",
   "id": "78c319bc-182c-4d12-a74a-5ebef82663b8",
   "metadata": {
    "jupyter": {
     "outputs_hidden": true
    },
    "tags": []
   },
   "source": [
    "import warnings\n",
    "with warnings.catch_warnings():\n",
    "    warnings.simplefilter('error')\n",
    "    %run -i /orange/adamginsburg/salt/code/line_fitting_G17.py"
   ]
  },
  {
   "cell_type": "code",
   "execution_count": 6,
   "id": "2c1d9f22-fa60-41c9-8e57-a6b6757fa8ed",
   "metadata": {
    "execution": {
     "iopub.execute_input": "2022-10-13T20:14:22.533412Z",
     "iopub.status.busy": "2022-10-13T20:14:22.533138Z",
     "iopub.status.idle": "2022-10-13T20:14:22.537328Z",
     "shell.execute_reply": "2022-10-13T20:14:22.537050Z"
    }
   },
   "outputs": [],
   "source": [
    "import warnings\n",
    "warnings.simplefilter('ignore')"
   ]
  },
  {
   "cell_type": "code",
   "execution_count": null,
   "id": "c8df1e4a-5f39-4009-bc49-5d8d7159f2a7",
   "metadata": {},
   "outputs": [],
   "source": []
  },
  {
   "cell_type": "code",
   "execution_count": null,
   "id": "de46c0c8-6ff4-4986-8381-e153a723828f",
   "metadata": {},
   "outputs": [],
   "source": []
  },
  {
   "cell_type": "code",
   "execution_count": 7,
   "id": "0f62d03c-635f-4dbf-bf09-aaed69313b8a",
   "metadata": {
    "execution": {
     "iopub.execute_input": "2022-10-13T20:14:22.539052Z",
     "iopub.status.busy": "2022-10-13T20:14:22.538794Z",
     "iopub.status.idle": "2022-10-13T20:14:22.669014Z",
     "shell.execute_reply": "2022-10-13T20:14:22.668724Z"
    }
   },
   "outputs": [
    {
     "name": "stdout",
     "output_type": "stream",
     "text": [
      "spectra/member.uid___A001_X1528_X2a2.AFGL_2136_IRS_1_sci.spw19.cube.I.pbcor_stack.fits\r\n",
      "spectra/member.uid___A001_X1528_X2a2.AFGL_2136_IRS_1_sci.spw25.cube.I.pbcor_stack.fits\r\n"
     ]
    }
   ],
   "source": [
    "ls spectra/*AFGL_2136*stack.fits"
   ]
  },
  {
   "cell_type": "code",
   "execution_count": 8,
   "id": "621c6c6b-4824-4e4d-ae13-eb6ee601253c",
   "metadata": {
    "execution": {
     "iopub.execute_input": "2022-10-13T20:14:22.673332Z",
     "iopub.status.busy": "2022-10-13T20:14:22.671388Z",
     "iopub.status.idle": "2022-10-13T20:14:22.790492Z",
     "shell.execute_reply": "2022-10-13T20:14:22.790145Z"
    }
   },
   "outputs": [
    {
     "name": "stdout",
     "output_type": "stream",
     "text": [
      "mkdir: cannot create directory ‘/Users/adam/work/salt/saltmining/figures/spectral_fits/’: No such file or directory\r\n"
     ]
    }
   ],
   "source": [
    "mkdir /Users/adam/work/salt/saltmining/figures/spectral_fits/"
   ]
  },
  {
   "cell_type": "code",
   "execution_count": 9,
   "id": "7547a5c0-b06b-4f3f-b97c-69fef9df625f",
   "metadata": {
    "execution": {
     "iopub.execute_input": "2022-10-13T20:14:22.793371Z",
     "iopub.status.busy": "2022-10-13T20:14:22.793053Z",
     "iopub.status.idle": "2022-10-13T20:18:20.138664Z",
     "shell.execute_reply": "2022-10-13T20:18:20.138346Z"
    }
   },
   "outputs": [
    {
     "name": "stdout",
     "output_type": "stream",
     "text": [
      "spw 0: rms=0.00020649570972150282\n"
     ]
    },
    {
     "name": "stdout",
     "output_type": "stream",
     "text": [
      "Line 39K-35Clv=4-4 J=29-28 with frequency 217.22891175712175 GHz has SNR=5.5\n"
     ]
    },
    {
     "name": "stdout",
     "output_type": "stream",
     "text": [
      "Line 39K-35Clv=3-3 J=29-28 with frequency 218.57970759934983 GHz has SNR=11.2\n"
     ]
    },
    {
     "name": "stdout",
     "output_type": "stream",
     "text": [
      "Line 39K-37Clv=4-4 J=30-29 with frequency 218.3965682524781 GHz has SNR=2.5\n"
     ]
    },
    {
     "name": "stdout",
     "output_type": "stream",
     "text": [
      "Line 41K-35Clv=0-0 J=29-28 with frequency 217.54316883063962 GHz has SNR=2.5\n"
     ]
    },
    {
     "name": "stdout",
     "output_type": "stream",
     "text": [
      "Line 23Na-35Clv=2-2 J=17-16 with frequency 217.980231 GHz has SNR=19.6\n"
     ]
    },
    {
     "name": "stdout",
     "output_type": "stream",
     "text": [
      "Line 41K-37Clv=1-1 J=30-29 with frequency 217.17723397093303 GHz has SNR=1.6\n"
     ]
    },
    {
     "name": "stdout",
     "output_type": "stream",
     "text": [
      "Line 41K-37Clv=0-0 J=30-29 with frequency 218.48413771123413 GHz has SNR=3.8\n"
     ]
    },
    {
     "name": "stdout",
     "output_type": "stream",
     "text": [
      "spw 1: rms=0.00020844134767156173\n"
     ]
    },
    {
     "name": "stdout",
     "output_type": "stream",
     "text": [
      "Line 39K-35Clv=2-2 J=29-28 with frequency 219.93611261476423 GHz has SNR=24.3\n"
     ]
    },
    {
     "name": "stdout",
     "output_type": "stream",
     "text": [
      "Line 39K-37Clv=3-3 J=30-29 with frequency 219.7347580948684 GHz has SNR=7.0\n"
     ]
    },
    {
     "name": "stdout",
     "output_type": "stream",
     "text": [
      "Line 41K-35Clv=4-4 J=30-29 with frequency 219.59177027727014 GHz has SNR=2.3\n"
     ]
    },
    {
     "name": "stdout",
     "output_type": "stream",
     "text": [
      "Line 23Na-35Clv=1-1 J=17-16 with frequency 219.614936 GHz has SNR=13.4\n"
     ]
    },
    {
     "name": "stdout",
     "output_type": "stream",
     "text": [
      "Line 41K-37Clv=4-4 J=31-30 with frequency 220.37552136846418 GHz has SNR=3.0\n"
     ]
    },
    {
     "name": "stdout",
     "output_type": "stream",
     "text": [
      "spw 2: rms=0.00022356111872558782\n"
     ]
    },
    {
     "name": "stdout",
     "output_type": "stream",
     "text": [
      "Line 39K-35Clv=4-4 J=31-30 with frequency 232.16184645668199 GHz has SNR=3.6\n"
     ]
    },
    {
     "name": "stdout",
     "output_type": "stream",
     "text": [
      "Line 39K-37Clv=0-0 J=31-30 with frequency 231.21883930648752 GHz has SNR=5.3\n"
     ]
    },
    {
     "name": "stderr",
     "output_type": "stream",
     "text": [
      "WARNING: gnorm=0.   wa2=[0. 0. 0.] [pyspeckit.mpfit.mpfit]\n"
     ]
    },
    {
     "name": "stdout",
     "output_type": "stream",
     "text": [
      "Line 41K-35Clv=0-0 J=31-30 with frequency 232.49980161177257 GHz has SNR=11.2\n"
     ]
    },
    {
     "name": "stdout",
     "output_type": "stream",
     "text": [
      "Line 23Na-35Clv=1-1 J=18-17 with frequency 232.50997700000002 GHz has SNR=17.3\n"
     ]
    },
    {
     "name": "stdout",
     "output_type": "stream",
     "text": [
      "Line 41K-37Clv=1-1 J=32-31 with frequency 231.60913136874447 GHz has SNR=1.5\n"
     ]
    },
    {
     "name": "stdout",
     "output_type": "stream",
     "text": [
      "spw 3: rms=0.0001664776873584926\n"
     ]
    },
    {
     "name": "stdout",
     "output_type": "stream",
     "text": [
      "Line 39K-35Clv=3-3 J=31-30 with frequency 233.60569798423805 GHz has SNR=6.3\n"
     ]
    },
    {
     "name": "stdout",
     "output_type": "stream",
     "text": [
      "3 234.33493147880353 GHz: result=upper_state lower_state    Aij    Frequency_cm        Freq               E_U                E_L              QNs       vu  vl  Ju  Jl  gu   gl         Species       \n",
      "                          1 / s      1 / cm           GHz                 K                  K                                                                       \n",
      "----------- ----------- --------- ------------ ------------------ ------------------ ------------------ ------------- --- --- --- --- ---- ---- ---------------------\n",
      "       1538        1537 0.0081735     7.816059 234.33493147880353 1356.5702932951817 1345.3247246098006 v=3-3 J=32-31   3   3  32  31 1040 1008 39K-37Clv=3-3 J=32-31\n",
      "       4049        4048 0.0086569      7.81611 234.33346713692097  3248.842260814649  3237.596618751622 v=8-8 J=33-32   8   8  33  32 1072 1040 39K-37Clv=8-8 J=33-32\n",
      "Line 39K-37Clv=3-3 J=32-31 with frequency 234.33493147880353 GHz has SNR=3.1\n"
     ]
    },
    {
     "name": "stdout",
     "output_type": "stream",
     "text": [
      "Line 41K-35Clv=4-4 J=32-31 with frequency 234.1819235089029 GHz has SNR=5.4\n"
     ]
    },
    {
     "name": "stdout",
     "output_type": "stream",
     "text": [
      "Line 23Na-35Clv=0-0 J=18-17 with frequency 234.251912 GHz has SNR=22.1\n"
     ]
    },
    {
     "name": "stdout",
     "output_type": "stream",
     "text": [
      "Line 23Na-37Clv=4-4 J=19-18 with frequency 234.904242 GHz has SNR=10.4\n"
     ]
    },
    {
     "name": "stdout",
     "output_type": "stream",
     "text": [
      "Line 41K-37Clv=4-4 J=33-32 with frequency 234.54382952328362 GHz has SNR=1.3\n"
     ]
    },
    {
     "name": "stdout",
     "output_type": "stream",
     "text": [
      "spw B7spw25: rms=0.0012880778928673622\n"
     ]
    },
    {
     "name": "stdout",
     "output_type": "stream",
     "text": [
      "Line 23Na-35Clv=1-1 J=25-24 with frequency 322.64999800000004 GHz has SNR=19.7\n"
     ]
    },
    {
     "name": "stdout",
     "output_type": "stream",
     "text": [
      "1 matches for NaCl\n",
      "0 matches for Na37Cl\n",
      "0 matches for KCl\n",
      "0 matches for K37Cl\n",
      "0 matches for 41KCl\n"
     ]
    },
    {
     "name": "stdout",
     "output_type": "stream",
     "text": [
      "0 matches for 41K37Cl\n",
      "{}\n",
      "Measured 35/37Cl abundance = nan +/- nan\n"
     ]
    }
   ],
   "source": [
    "%run -i {root}/code/line_fitting_G17.py"
   ]
  },
  {
   "cell_type": "code",
   "execution_count": 10,
   "id": "e4bd7c5c-8a69-48c2-9484-c9de7b9b514c",
   "metadata": {
    "execution": {
     "iopub.execute_input": "2022-10-13T20:18:20.143447Z",
     "iopub.status.busy": "2022-10-13T20:18:20.143092Z",
     "iopub.status.idle": "2022-10-13T20:18:20.321233Z",
     "shell.execute_reply": "2022-10-13T20:18:20.320888Z"
    }
   },
   "outputs": [],
   "source": [
    "import kcl_rotation_diagram\n",
    "import imp\n",
    "imp.reload(kcl_rotation_diagram)\n",
    "from kcl_rotation_diagram import nupper_of_kkms, fit_tex\n",
    "import dust_emissivity\n",
    "from pyspeckit.spectrum.models.lte_molecule import get_molecular_parameters"
   ]
  },
  {
   "cell_type": "code",
   "execution_count": 11,
   "id": "de159802-43c8-40a8-b76d-15884cb9492a",
   "metadata": {
    "execution": {
     "iopub.execute_input": "2022-10-13T20:18:20.323974Z",
     "iopub.status.busy": "2022-10-13T20:18:20.323727Z",
     "iopub.status.idle": "2022-10-13T20:18:20.328231Z",
     "shell.execute_reply": "2022-10-13T20:18:20.327949Z"
    }
   },
   "outputs": [],
   "source": [
    "tbl = table.Table.read(paths.tpath('G17_fitted_stacked_lines.txt'), format='ascii.fixed_width')"
   ]
  },
  {
   "cell_type": "code",
   "execution_count": 12,
   "id": "94b084c0-ca58-4f3b-a29a-3769cce30595",
   "metadata": {
    "execution": {
     "iopub.execute_input": "2022-10-13T20:18:20.330109Z",
     "iopub.status.busy": "2022-10-13T20:18:20.329845Z",
     "iopub.status.idle": "2022-10-13T20:18:20.428342Z",
     "shell.execute_reply": "2022-10-13T20:18:20.428104Z"
    }
   },
   "outputs": [],
   "source": [
    "from astroquery.linelists.cdms import CDMS"
   ]
  },
  {
   "cell_type": "code",
   "execution_count": 13,
   "id": "debda2ce-9591-4d50-82bb-e62b2519c9f1",
   "metadata": {
    "execution": {
     "iopub.execute_input": "2022-10-13T20:18:20.430502Z",
     "iopub.status.busy": "2022-10-13T20:18:20.430249Z",
     "iopub.status.idle": "2022-10-13T20:18:20.497562Z",
     "shell.execute_reply": "2022-10-13T20:18:20.497825Z"
    }
   },
   "outputs": [],
   "source": [
    "frqs, einsteinAij, degeneracies, EU, partfunc = get_molecular_parameters('K-41-Cl, v=0-15', catalog='CDMS', fmin=85*u.GHz, fmax=360*u.GHz)"
   ]
  },
  {
   "cell_type": "code",
   "execution_count": 14,
   "id": "a8f270b6-6167-46de-bc16-45370f06bcf1",
   "metadata": {
    "execution": {
     "iopub.execute_input": "2022-10-13T20:18:20.507513Z",
     "iopub.status.busy": "2022-10-13T20:18:20.505625Z",
     "iopub.status.idle": "2022-10-13T20:18:21.098717Z",
     "shell.execute_reply": "2022-10-13T20:18:21.098928Z"
    }
   },
   "outputs": [
    {
     "name": "stdout",
     "output_type": "stream",
     "text": [
      "KCl: 5 in-band, 5 detected\n",
      "KCl\n",
      "Tex=37.00493307435343 K, Ntot=7.922349362330157e+30 1 / cm2, log(Ntot)=30.8988539901494, Q_rot=201.00789711345132, nuplim=2\n",
      "Tex=60.3158169662432 K, Ntot=2.833664489224828e+27 1 / cm2, log(Ntot)=27.452348427737792, Q_rot=327.4356454679352, nuplim=2\n",
      "Tex=916.190989691518 K, Ntot=2.016987071836987e+16 1 / cm2, log(Ntot)=16.304703114549973, Q_rot=1627.0466311748905, nuplim=2\n"
     ]
    },
    {
     "data": {
      "image/png": "[encoded data removed]",
      "text/plain": [
       "<Figure size 432x288 with 1 Axes>"
      ]
     },
     "metadata": {},
     "output_type": "display_data"
    },
    {
     "data": {
      "image/png": "[encoded data removed]",
      "text/plain": [
       "<Figure size 432x288 with 1 Axes>"
      ]
     },
     "metadata": {},
     "output_type": "display_data"
    },
    {
     "data": {
      "image/png": "[encoded data removed]",
      "text/plain": [
       "<Figure size 432x288 with 1 Axes>"
      ]
     },
     "metadata": {},
     "output_type": "display_data"
    }
   ],
   "source": [
    "frqs, einsteinAij, degeneracies, EU, partfunc = get_molecular_parameters('KCl', fmin=85*u.GHz, fmax=360*u.GHz)\n",
    "\n",
    "kcl35mask = np.array([(not hasattr(row['Species'], 'mask')) and\n",
    "                     ('KCl' == row['Species'][:3] or\n",
    "                      '39K-35Cl' in row['Species']) for row in tbl])\n",
    "\n",
    "bad = ((tbl['Line Name'] == 'KClv=4_13-12') |\n",
    "       (tbl['Line Name'] == 'KClv=6_31-30') |\n",
    "       (tbl['Line Name'] == 'KClv=8_27-26'))\n",
    "\n",
    "print(\"KCl: {0} in-band, {1} detected\".format(kcl35mask.sum(),\n",
    "                                              (kcl35mask & (~bad)).sum()))\n",
    "\n",
    "kcl35tbl = tbl[kcl35mask]\n",
    "kcl35freqs = u.Quantity(kcl35tbl['Frequency'], u.GHz)\n",
    "kkms_kcl35 = (2*np.pi*kcl35tbl['Fitted Width']**2)**0.5 * kcl35tbl['Fitted Amplitude K']\n",
    "ekkms_kcl35 = (2*np.pi)**0.5 * (kcl35tbl['Fitted Width error']**2 *\n",
    "                                kcl35tbl['Fitted Amplitude K']**2 +\n",
    "                                kcl35tbl['Fitted Width']**2 *\n",
    "                                kcl35tbl['Fitted Amplitude error K']**2)**0.5\n",
    "#kkms_kcl35 = (2*np.pi*(4)**2)**0.5 * kcl35tbl['Fitted Amplitude K']\n",
    "#Aul = u.Quantity(list(map(get_Aul_(frqs), kcl35freqs)), u.Hz)\n",
    "#deg = u.Quantity(list(map(get_deg_(frqs), kcl35freqs)))\n",
    "#kcl35tbl.add_column(table.Column(name='Aul', data=Aul))\n",
    "#kcl35tbl.add_column(table.Column(name='Degeneracy', data=deg))\n",
    "Aul = kcl35tbl['Aij']\n",
    "deg = kcl35tbl['deg']\n",
    "kcl35_nug = nupper_of_kkms(kkms=kkms_kcl35,\n",
    "                           freq=kcl35freqs,\n",
    "                           Aul=Aul,\n",
    "                           #degeneracies=deg,\n",
    "                           )\n",
    "kcl35_nu = kcl35_nug / deg\n",
    "ekcl35_nug = nupper_of_kkms(kkms=ekkms_kcl35,\n",
    "                            freq=kcl35freqs,\n",
    "                            Aul=Aul,\n",
    "                            #degeneracies=deg\n",
    "                           )\n",
    "ekcl35_nu = ekcl35_nug / deg\n",
    "\n",
    "kcl35tbl.add_column(table.Column(name='N_U', data=kcl35_nu,\n",
    "                                 ))\n",
    "\n",
    "v0 = np.array(['v=0' in row['Species'] for row in kcl35tbl])\n",
    "v1 = np.array(['v=1' in row['Species'] for row in kcl35tbl])\n",
    "v2 = np.array(['v=2' in row['Species'] for row in kcl35tbl])\n",
    "v3 = np.array(['v=3' in row['Species'] for row in kcl35tbl])\n",
    "v4 = np.array(['v=4' in row['Species'] for row in kcl35tbl])\n",
    "v5 = np.array(['v=5' in row['Species'] for row in kcl35tbl])\n",
    "v6 = np.array(['v=6' in row['Species'] for row in kcl35tbl])\n",
    "v7 = np.array(['v=7' in row['Species'] for row in kcl35tbl])\n",
    "v8 = np.array(['v=8' in row['Species'] for row in kcl35tbl])\n",
    "j13 = np.array(['J=13' in row['Species'] for row in kcl35tbl])\n",
    "j29 = np.array(['J=29' in row['Species'] for row in kcl35tbl])\n",
    "j31 = np.array(['J=31' in row['Species'] for row in kcl35tbl])\n",
    "\n",
    "\n",
    "pl.close(1)\n",
    "pl.figure(1).clf()\n",
    "print(\"KCl\")\n",
    "\n",
    "optdepth = (dust_emissivity.dust.kappa(kcl35freqs, beta=2) * 120*u.g/u.cm**2).decompose().value\n",
    "kcl35_nug_dustcorr = nupper_of_kkms(kkms=kkms_kcl35 * np.exp(optdepth),\n",
    "                                    freq=kcl35freqs,\n",
    "                                    Aul=Aul,\n",
    "                                    #degeneracies=deg,\n",
    "                                    )\n",
    "kcl35_nu_dustcorr = kcl35_nug_dustcorr / deg\n",
    "\n",
    "\n",
    "#tex0 = fit_tex(u.Quantity(kcl35tbl['EU_K'][v0], u.K), kcl35_nu[v0],\n",
    "#               errors=ekcl35_nu[v0], plot=True, verbose=True,\n",
    "#               partition_func=partfunc, marker='o', color='r', label='v=0 ')\n",
    "#tex0_dustc = fit_tex(u.Quantity(kcl35tbl['EU_K'][v0], u.K), kcl35_nu_dustcorr[v0],\n",
    "#                     errors=ekcl35_nu[v0], plot=True, verbose=True,\n",
    "#                     molecule=kcl35, marker='o', color='b', label='v=0 ')\n",
    "#tex0_dustc_nob3 = fit_tex(u.Quantity(kcl35tbl['EU_K'][v0][1:], u.K), kcl35_nu_dustcorr[v0][1:],\n",
    "#                          errors=ekcl35_nu[v0][1:], plot=True, verbose=True,\n",
    "#                     molecule=kcl35, marker='o', color='g', label='v=0 no b3')\n",
    "#tex1 = fit_tex(u.Quantity(kcl35tbl['EU_K'][v1], u.K), kcl35_nu[v1],\n",
    "#               errors=ekcl35_nu[v1], plot=True, verbose=True,\n",
    "#               molecule=kcl35, marker='s', color='b', label='v=1 ')\n",
    "#tex2 = fit_tex(u.Quantity(kcl35tbl['EU_K'][v2], u.K), kcl35_nu[v2],\n",
    "#               errors=ekcl35_nu[v2], plot=True, verbose=True,\n",
    "#               molecule=kcl35, marker='^', color='g', label='v=2 ')\n",
    "tex3 = fit_tex(u.Quantity(kcl35tbl['EU_K'][v3], u.K), kcl35_nu[v3],\n",
    "               errors=ekcl35_nu[v3], plot=True, verbose=True,\n",
    "               partition_func=partfunc, marker='v', color='orange', label='v=3 ')\n",
    "tex4 = fit_tex(u.Quantity(kcl35tbl['EU_K'][v4], u.K), kcl35_nu[v4],\n",
    "               errors=ekcl35_nu[v4], plot=True, verbose=True,\n",
    "               partition_func=partfunc, marker='d', color='m', label='v=4 ')\n",
    "#texJ13 = fit_tex(u.Quantity(kcl35tbl['EU_K'][j13], u.K), kcl35_nu[j13],\n",
    "#                 errors=ekcl35_nu[j13], plot=True, verbose=True,\n",
    "#                 partition_func=partfunc, marker='h', color='k', label='J=13 ')\n",
    "##texJ13_dustc = fit_tex(u.Quantity(kcl35tbl['EU_K'][j13], u.K), kcl35_nu_dustcorr[j13],\n",
    "##                 errors=ekcl35_nu[j13], plot=True, verbose=True,\n",
    "##                 molecule=kcl35, marker='h', color='k', label='J=13 dust')\n",
    "#texJ29 = fit_tex(u.Quantity(kcl35tbl['EU_K'][j29], u.K), kcl35_nu[j29],\n",
    "#                 errors=ekcl35_nu[j29], plot=True, verbose=True,\n",
    "#                 partition_func=partfunc, marker='o', color='b', label='J=29 ')\n",
    "texJ31 = fit_tex(u.Quantity(kcl35tbl['EU_K'][j31], u.K), kcl35_nu[j31],\n",
    "                 errors=ekcl35_nu[j31], plot=True, verbose=True,\n",
    "                 partition_func=partfunc, marker='P', color='navy', label='J=31 ')\n",
    "\n",
    "pl.legend(loc='best')\n",
    "pl.title(\"KCl\")\n",
    "pl.axis((1200, 2200, 11, 15))\n",
    "pl.savefig(paths.fpath(\"G17_KCl_rotational_diagrams.pdf\"))\n",
    "pl.show()"
   ]
  },
  {
   "cell_type": "code",
   "execution_count": 15,
   "id": "51f1ff89-558f-4580-8e50-87d7d827ef55",
   "metadata": {
    "execution": {
     "iopub.execute_input": "2022-10-13T20:18:21.101389Z",
     "iopub.status.busy": "2022-10-13T20:18:21.101119Z",
     "iopub.status.idle": "2022-10-13T20:18:21.102806Z",
     "shell.execute_reply": "2022-10-13T20:18:21.103016Z"
    }
   },
   "outputs": [
    {
     "data": {
      "text/plain": [
       "'/orange/adamginsburg/salt/figures/'"
      ]
     },
     "execution_count": 15,
     "metadata": {},
     "output_type": "execute_result"
    }
   ],
   "source": [
    "paths.fpath('')"
   ]
  },
  {
   "cell_type": "code",
   "execution_count": null,
   "id": "aa49228c-a516-4ca1-aff9-56145bca9a4c",
   "metadata": {},
   "outputs": [],
   "source": []
  },
  {
   "cell_type": "code",
   "execution_count": null,
   "id": "25b6bb1d-bb63-49e3-b86b-eb72c94482ce",
   "metadata": {},
   "outputs": [],
   "source": []
  },
  {
   "cell_type": "code",
   "execution_count": 16,
   "id": "419cd325-ad08-41d6-af2c-e40886e6d1ee",
   "metadata": {
    "execution": {
     "iopub.execute_input": "2022-10-13T20:18:21.109293Z",
     "iopub.status.busy": "2022-10-13T20:18:21.108945Z",
     "iopub.status.idle": "2022-10-13T20:18:21.400123Z",
     "shell.execute_reply": "2022-10-13T20:18:21.400345Z"
    }
   },
   "outputs": [
    {
     "name": "stdout",
     "output_type": "stream",
     "text": [
      "NaCl: 5 in-band, 5 detected\n",
      "NaCl\n",
      "Tex=33.99931775808523 K, Ntot=2.550931892331824e+23 1 / cm2, log(Ntot)=23.406698863478734, Q_rot=109.13283033195415, nuplim=3\n"
     ]
    },
    {
     "data": {
      "image/png": "[encoded data removed]",
      "text/plain": [
       "<Figure size 432x288 with 1 Axes>"
      ]
     },
     "metadata": {},
     "output_type": "display_data"
    }
   ],
   "source": [
    "    frqs, einsteinAij, degeneracies, EU, partfunc = get_molecular_parameters('NaCl, v=0-15', catalog='CDMS', fmin=85*u.GHz, fmax=360*u.GHz)\n",
    "\n",
    "    tbl = table.Table.read(paths.tpath('G17_fitted_stacked_lines.txt'), format='ascii.fixed_width')\n",
    "\n",
    "    naclmask = np.array([(not hasattr(row['Species'], 'mask')) and\n",
    "                         ('NaCl' == row['Species'][:4] or\n",
    "                         '23Na-35Cl' in row['Species'])\n",
    "                         for row in tbl])\n",
    "\n",
    "    # mask out a bad fit\n",
    "    # on edge of absorption feature\n",
    "    bad = (tbl['Line Name'] == 'NaClv=4_17-16')\n",
    "\n",
    "    print(\"NaCl: {0} in-band, {1} detected\".format(naclmask.sum(),\n",
    "                                                   (naclmask & (~bad)).sum()))\n",
    "\n",
    "    nacltbl = tbl[naclmask & (~bad)]\n",
    "    naclfreqs = u.Quantity(nacltbl['Frequency'], u.GHz)\n",
    "    kkms_nacl = (2*np.pi*nacltbl['Fitted Width']**2)**0.5 * nacltbl['Fitted Amplitude K']\n",
    "    ekkms_nacl = (2*np.pi)**0.5 * (nacltbl['Fitted Width error']**2 *\n",
    "                                   nacltbl['Fitted Amplitude K']**2 +\n",
    "                                   nacltbl['Fitted Width']**2 *\n",
    "                                   nacltbl['Fitted Amplitude error K']**2)**0.5\n",
    "    #Aul = u.Quantity(list(map(get_Aul_(frqs), naclfreqs)), u.Hz)\n",
    "    #deg = u.Quantity(list(map(get_deg_(frqs), naclfreqs)))\n",
    "    Aul = nacltbl['Aij']\n",
    "    deg = nacltbl['deg']\n",
    "    nacl_nu = nupper_of_kkms(kkms=kkms_nacl,\n",
    "                             freq=naclfreqs,\n",
    "                             Aul=Aul,)/deg\n",
    "    enacl_nu = nupper_of_kkms(kkms=ekkms_nacl,\n",
    "                              freq=naclfreqs,\n",
    "                              Aul=Aul)/deg\n",
    "\n",
    "\n",
    "    v0 = np.array(['v=0' in row['Species'] for row in nacltbl])\n",
    "    v1 = np.array(['v=1' in row['Species'] for row in nacltbl])\n",
    "    v2 = np.array(['v=2' in row['Species'] for row in nacltbl])\n",
    "    v3 = np.array(['v=3' in row['Species'] for row in nacltbl])\n",
    "    v4 = np.array(['v=4' in row['Species'] for row in nacltbl])\n",
    "    v5 = np.array(['v=5' in row['Species'] for row in nacltbl])\n",
    "    v6 = np.array(['v=6' in row['Species'] for row in nacltbl])\n",
    "    v7 = np.array(['v=7' in row['Species'] for row in nacltbl])\n",
    "    v8 = np.array(['v=8' in row['Species'] for row in nacltbl])\n",
    "    j17 = np.array(['J=17' in row['Species'] for row in nacltbl])\n",
    "    j18 = np.array(['J=18' in row['Species'] for row in nacltbl])\n",
    "\n",
    "    pl.figure(3).clf()\n",
    "    print(\"NaCl\")\n",
    "    #tex0 = fit_tex(u.Quantity(nacltbl['EU_K'][v0], u.K), nacl_nu[v0], plot=True,\n",
    "    #               verbose=True, partition_func=partfunc, marker='o', color='r')\n",
    "    tex1 = fit_tex(u.Quantity(nacltbl['EU_K'][v1], u.K), nacl_nu[v1],\n",
    "                   errors=enacl_nu[v1], plot=True,\n",
    "                   verbose=True, partition_func=partfunc, marker='s', color='b', label='v=1 ')\n",
    "    #tex2 = fit_tex(u.Quantity(nacltbl['EU_K'][v2], u.K), nacl_nu[v2],\n",
    "    #               errors=enacl_nu[v2], plot=True,\n",
    "    #               verbose=True, partition_func=partfunc, marker='^', color='g', label='v=2 ')\n",
    "    #tex3 = fit_tex(u.Quantity(nacltbl['EU_K'][v3], u.K), nacl_nu[v3],\n",
    "    #               errors=enacl_nu[v3], plot=True,\n",
    "    #               verbose=True, partition_func=partfunc, marker='o', color='r', label='v=3 ')\n",
    "    #tex4 = fit_tex(u.Quantity(nacltbl['EU_K'][v4], u.K), nacl_nu[v4],\n",
    "    #               errors=enacl_nu[v4], plot=True,\n",
    "    #               verbose=True, partition_func=partfunc, marker='d', color='orange', label='v=4 ')\n",
    "    #tex5 = fit_tex(u.Quantity(nacltbl['EU_K'][v5], u.K), nacl_nu[v5],\n",
    "    #               errors=enacl_nu[v5], plot=True,\n",
    "    #               verbose=True, partition_func=partfunc, marker='v', color='m', label='v=5 ')\n",
    "    #tex6 = fit_tex(u.Quantity(nacltbl['EU_K'][v6], u.K), nacl_nu[v6],\n",
    "    #               errors=enacl_nu[v6], plot=True,\n",
    "    #               verbose=True, partition_func=partfunc, marker='v', color='m', label='v=6 ')\n",
    "    #texJ18 = fit_tex(u.Quantity(nacltbl['EU_K'][j18], u.K), nacl_nu[j18],\n",
    "    #                errors=enacl_nu[j18], plot=True, verbose=True,\n",
    "    #                partition_func=partfunc, marker='h', color='k', label='J=18 ')\n",
    "    #texJ17 = fit_tex(u.Quantity(nacltbl['EU_K'][j17], u.K), nacl_nu[j17],\n",
    "    #                errors=enacl_nu[j17], plot=True, verbose=True,\n",
    "    #                partition_func=partfunc, marker='>', color='c', label='J=17 ')\n",
    "    pl.legend(loc='upper right')\n",
    "    pl.axis([550,750,12.,14.5])\n",
    "    pl.title(\"NaCl\")\n",
    "    pl.savefig(paths.fpath(\"G17_NaCl_rotational_diagrams.pdf\"))\n",
    "\n"
   ]
  },
  {
   "cell_type": "code",
   "execution_count": 17,
   "id": "398c51bc-6101-463a-b682-78e173a8f2c1",
   "metadata": {
    "execution": {
     "iopub.execute_input": "2022-10-13T20:18:21.402539Z",
     "iopub.status.busy": "2022-10-13T20:18:21.402278Z",
     "iopub.status.idle": "2022-10-13T20:18:21.405319Z",
     "shell.execute_reply": "2022-10-13T20:18:21.405091Z"
    }
   },
   "outputs": [
    {
     "data": {
      "text/plain": [
       "(array([ True, False, False, False, False]),\n",
       " array([False,  True,  True,  True, False]),\n",
       " array([False, False, False, False,  True]),\n",
       " array([False, False, False, False, False]),\n",
       " array([False, False, False, False, False]),\n",
       " array([False, False, False, False, False]))"
      ]
     },
     "execution_count": 17,
     "metadata": {},
     "output_type": "execute_result"
    }
   ],
   "source": [
    "v0,v1,v2,v3,v4,v5"
   ]
  },
  {
   "cell_type": "code",
   "execution_count": 18,
   "id": "1052b9fd-eadf-4e30-a5aa-c41646a48976",
   "metadata": {
    "execution": {
     "iopub.execute_input": "2022-10-13T20:18:21.406686Z",
     "iopub.status.busy": "2022-10-13T20:18:21.406428Z",
     "iopub.status.idle": "2022-10-13T20:18:21.420627Z",
     "shell.execute_reply": "2022-10-13T20:18:21.420415Z"
    },
    "tags": []
   },
   "outputs": [
    {
     "data": {
      "text/html": [
       "<div><i>Table length=5</i>\n",
       "<table id=\"table47342516457280\" class=\"table-striped table-bordered table-condensed\">\n",
       "<thead><tr><th>Line Name</th><th>Species</th><th>QNs</th><th>v</th><th>J$_u$</th><th>J$_l$</th><th>Frequency</th><th>Fitted Velocity</th><th>Fitted Velocity error</th><th>Fitted Width</th><th>Fitted Width error</th><th>Fitted Amplitude K</th><th>Fitted Amplitude error K</th><th>Integrated Intensity</th><th>Integrated Intensity error</th><th>Jy/K</th><th>EU_K</th><th>deg</th><th>Aij</th><th>Flag</th></tr></thead>\n",
       "<thead><tr><th>str22</th><th>str22</th><th>str13</th><th>int64</th><th>int64</th><th>int64</th><th>float64</th><th>float64</th><th>float64</th><th>float64</th><th>float64</th><th>float64</th><th>float64</th><th>float64</th><th>float64</th><th>float64</th><th>float64</th><th>int64</th><th>float64</th><th>str5</th></tr></thead>\n",
       "<tr><td>23Na-35Clv=0-0 J=18-17</td><td>23Na-35Clv=0-0 J=18-17</td><td>v=0-0 J=18-17</td><td>0</td><td>18</td><td>17</td><td>234.251912</td><td>-300852.37010469293</td><td>372.3308660546672</td><td>7146.555936124988</td><td>377.89368531473525</td><td>46.754439983147215</td><td>2.1118898383877456</td><td>837547.7782538895</td><td>23236.960368867905</td><td>29023.19783120873</td><td>106.9</td><td>592</td><td>0.005900000222027302</td><td>True</td></tr>\n",
       "<tr><td>23Na-35Clv=1-1 J=17-16</td><td>23Na-35Clv=1-1 J=17-16</td><td>v=1-1 J=17-16</td><td>1</td><td>17</td><td>16</td><td>219.614936</td><td>-299904.8651427915</td><td>483.91502805648014</td><td>5597.471494765791</td><td>483.95933874396746</td><td>45.66360657041842</td><td>3.4189175176797053</td><td>640696.0321902223</td><td>29233.821712080062</td><td>31268.729045585962</td><td>614.5</td><td>560</td><td>0.004900000058114529</td><td>True</td></tr>\n",
       "<tr><td>23Na-35Clv=1-1 J=18-17</td><td>23Na-35Clv=1-1 J=18-17</td><td>v=1-1 J=18-17</td><td>1</td><td>18</td><td>17</td><td>232.50997700000002</td><td>-299566.4630997842</td><td>824.5838430272279</td><td>12076.400418172454</td><td>1020.9343159698004</td><td>38.97120546066512</td><td>2.251437519105209</td><td>1179699.1821681347</td><td>48189.880102308234</td><td>28051.61843519821</td><td>625.7</td><td>592</td><td>0.005799999926239252</td><td>True</td></tr>\n",
       "<tr><td>23Na-35Clv=1-1 J=25-24</td><td>23Na-35Clv=1-1 J=25-24</td><td>v=1-1 J=25-24</td><td>1</td><td>25</td><td>24</td><td>322.64999800000004</td><td>-300443.1377707277</td><td>395.815093294069</td><td>6734.712071727014</td><td>425.0530994102737</td><td>5.300939805375923</td><td>0.2696227787937445</td><td>89487.38966158289</td><td>2893.798404533859</td><td>890.9197408767873</td><td>721.1</td><td>816</td><td>0.01600000075995922</td><td>True</td></tr>\n",
       "<tr><td>23Na-35Clv=2-2 J=17-16</td><td>23Na-35Clv=2-2 J=17-16</td><td>v=2-2 J=17-16</td><td>2</td><td>17</td><td>16</td><td>217.980231</td><td>-299248.91049247514</td><td>463.0149991441825</td><td>7885.58271654781</td><td>467.34940612394973</td><td>39.79108292357208</td><td>2.0258519037054152</td><td>786519.48211432</td><td>24515.814800560165</td><td>31075.307300628723</td><td>1128.4</td><td>560</td><td>0.004900000058114529</td><td>True</td></tr>\n",
       "</table></div>"
      ],
      "text/plain": [
       "<Table length=5>\n",
       "      Line Name               Species              QNs        v   J$_u$ J$_l$     Frequency        Fitted Velocity   Fitted Velocity error    Fitted Width    ... Fitted Amplitude K Fitted Amplitude error K Integrated Intensity Integrated Intensity error        Jy/K          EU_K   deg          Aij          Flag\n",
       "        str22                  str22              str13     int64 int64 int64      float64             float64              float64             float64       ...      float64               float64                float64                 float64                float64       float64 int64       float64        str5\n",
       "---------------------- ---------------------- ------------- ----- ----- ----- ------------------ ------------------- --------------------- ------------------ ... ------------------ ------------------------ -------------------- -------------------------- ------------------ ------- ----- -------------------- ----\n",
       "23Na-35Clv=0-0 J=18-17 23Na-35Clv=0-0 J=18-17 v=0-0 J=18-17     0    18    17         234.251912 -300852.37010469293     372.3308660546672  7146.555936124988 ... 46.754439983147215       2.1118898383877456    837547.7782538895         23236.960368867905  29023.19783120873   106.9   592 0.005900000222027302 True\n",
       "23Na-35Clv=1-1 J=17-16 23Na-35Clv=1-1 J=17-16 v=1-1 J=17-16     1    17    16         219.614936  -299904.8651427915    483.91502805648014  5597.471494765791 ...  45.66360657041842       3.4189175176797053    640696.0321902223         29233.821712080062 31268.729045585962   614.5   560 0.004900000058114529 True\n",
       "23Na-35Clv=1-1 J=18-17 23Na-35Clv=1-1 J=18-17 v=1-1 J=18-17     1    18    17 232.50997700000002  -299566.4630997842     824.5838430272279 12076.400418172454 ...  38.97120546066512        2.251437519105209   1179699.1821681347         48189.880102308234  28051.61843519821   625.7   592 0.005799999926239252 True\n",
       "23Na-35Clv=1-1 J=25-24 23Na-35Clv=1-1 J=25-24 v=1-1 J=25-24     1    25    24 322.64999800000004  -300443.1377707277      395.815093294069  6734.712071727014 ...  5.300939805375923       0.2696227787937445    89487.38966158289          2893.798404533859  890.9197408767873   721.1   816  0.01600000075995922 True\n",
       "23Na-35Clv=2-2 J=17-16 23Na-35Clv=2-2 J=17-16 v=2-2 J=17-16     2    17    16         217.980231 -299248.91049247514     463.0149991441825   7885.58271654781 ...  39.79108292357208       2.0258519037054152      786519.48211432         24515.814800560165 31075.307300628723  1128.4   560 0.004900000058114529 True"
      ]
     },
     "execution_count": 18,
     "metadata": {},
     "output_type": "execute_result"
    }
   ],
   "source": [
    "nacltbl"
   ]
  },
  {
   "cell_type": "code",
   "execution_count": null,
   "id": "b6feffb5-0ed9-4638-b4fc-10466b545151",
   "metadata": {},
   "outputs": [],
   "source": []
  },
  {
   "cell_type": "code",
   "execution_count": 19,
   "id": "fd62c714-b6ca-480b-94c6-a618c91df8ee",
   "metadata": {
    "execution": {
     "iopub.execute_input": "2022-10-13T20:18:21.424838Z",
     "iopub.status.busy": "2022-10-13T20:18:21.424514Z",
     "iopub.status.idle": "2022-10-13T20:18:21.788892Z",
     "shell.execute_reply": "2022-10-13T20:18:21.788657Z"
    },
    "tags": []
   },
   "outputs": [
    {
     "data": {
      "image/png": "[encoded data removed]",
      "text/plain": [
       "<Figure size 432x288 with 1 Axes>"
      ]
     },
     "metadata": {},
     "output_type": "display_data"
    },
    {
     "data": {
      "image/png": "[encoded data removed]",
      "text/plain": [
       "<Figure size 432x288 with 1 Axes>"
      ]
     },
     "metadata": {},
     "output_type": "display_data"
    }
   ],
   "source": [
    "# plot some things....\n",
    "\n",
    "pl.figure(1).clf()\n",
    "\n",
    "kclmask = np.array(['K-35Cl' in row['Species'] for row in tbl1])\n",
    "k41clmask = np.array(['41K-35Cl' in row['Species'] for row in tbl1])\n",
    "k37clmask = np.array(['K-37Cl' in row['Species'] for row in tbl1])\n",
    "pl.plot(tbl1['EU_K'][kclmask], tbl1['Fitted Amplitude K'][kclmask], 'o', label='KCl')\n",
    "pl.plot(tbl1['EU_K'][k37clmask], tbl1['Fitted Amplitude K'][k37clmask], 's', label='K$^{37}$Cl')\n",
    "pl.plot(tbl1['EU_K'][k41clmask], tbl1['Fitted Amplitude K'][k41clmask], 'd', label='$^{41}$KCl')\n",
    "pl.xlabel(\"E$_U$ [K]\")\n",
    "pl.ylabel(\"Fitted amplitude [K]\")\n",
    "pl.legend(loc='best')\n",
    "pl.savefig(paths.fpath('corners_KCl_amp_vs_eu.pdf'))\n",
    "\n",
    "pl.figure(2).clf()\n",
    "naclmask = np.array(['Na-35Cl' in row['Species'] for row in tbl1])\n",
    "na37clmask = np.array(['Na-37Cl' in row['Species'] for row in tbl1])\n",
    "pl.plot(tbl1['EU_K'][naclmask], tbl1['Fitted Amplitude K'][naclmask], 'o', label='NaCl')\n",
    "pl.plot(tbl1['EU_K'][na37clmask], tbl1['Fitted Amplitude K'][na37clmask], 's', label='Na$^{37}$Cl')\n",
    "pl.xlabel(\"E$_U$ [K]\")\n",
    "pl.ylabel(\"Fitted amplitude [K]\")\n",
    "pl.legend(loc='best')\n",
    "pl.savefig(paths.fpath('corners_NaCl_amp_vs_eu.pdf'))\n"
   ]
  }
 ],
 "metadata": {
  "kernelspec": {
   "display_name": "python39",
   "language": "python",
   "name": "python39"
  },
  "language_info": {
   "codemirror_mode": {
    "name": "ipython",
    "version": 3
   },
   "file_extension": ".py",
   "mimetype": "text/x-python",
   "name": "python",
   "nbconvert_exporter": "python",
   "pygments_lexer": "ipython3",
   "version": "3.9.13"
  }
 },
 "nbformat": 4,
 "nbformat_minor": 5
}
