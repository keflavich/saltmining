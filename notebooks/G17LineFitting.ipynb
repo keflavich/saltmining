{
 "cells": [
  {
   "cell_type": "code",
   "execution_count": 20,
   "id": "ad93404d-76b1-43b3-8c9e-2e58ab9c3984",
   "metadata": {},
   "outputs": [
    {
     "name": "stdout",
     "output_type": "stream",
     "text": [
      "/orange/adamginsburg/salt/maud\n"
     ]
    }
   ],
   "source": [
    "cd /orange/adamginsburg/salt/maud/"
   ]
  },
  {
   "cell_type": "code",
   "execution_count": 21,
   "id": "c7446f39-48a4-4031-8a5a-e1a0a2f5eb14",
   "metadata": {},
   "outputs": [
    {
     "name": "stdout",
     "output_type": "stream",
     "text": [
      "figures/                           G17_SPW2_2017.image_meanspec.fits\n",
      "G17_SPW0_2017.image_meanspec.fits  G17_SPW2_2017.image_stack.fits\n",
      "G17_SPW0_2017.image_stack.fits     G17_SPW3_2017.image_meanspec.fits\n",
      "G17_SPW1_2017.image_meanspec.fits  G17_SPW3_2017.image_stack.fits\n",
      "G17_SPW1_2017.image_stack.fits     NaCl_v_le_3_stackcube_meanspec.fits\n"
     ]
    }
   ],
   "source": [
    "ls spectra"
   ]
  },
  {
   "cell_type": "code",
   "execution_count": 22,
   "id": "47d463be-71f0-48c6-8ca7-27e3a29c55b7",
   "metadata": {},
   "outputs": [
    {
     "data": {
      "text/plain": [
       "'c23b-s27.ufhpc'"
      ]
     },
     "execution_count": 22,
     "metadata": {},
     "output_type": "execute_result"
    }
   ],
   "source": [
    "import socket\n",
    "socket.gethostname()"
   ]
  },
  {
   "cell_type": "code",
   "execution_count": 23,
   "id": "4f1c2586-b98e-41ea-909f-19985d282e2f",
   "metadata": {},
   "outputs": [],
   "source": [
    "import sys\n",
    "sys.path.append('/orange/adamginsburg/salt/Orion_ALMA_2016.1.00165.S/analysis/')"
   ]
  },
  {
   "cell_type": "code",
   "execution_count": 24,
   "id": "d92eb19a-a326-4f6c-be56-82925457215f",
   "metadata": {},
   "outputs": [
    {
     "data": {
      "text/plain": [
       "<astropy.visualization.units.quantity_support.<locals>.MplQuantityConverter at 0x2b7cae9d8850>"
      ]
     },
     "execution_count": 24,
     "metadata": {},
     "output_type": "execute_result"
    }
   ],
   "source": [
    "%matplotlib inline\n",
    "import pylab as pl\n",
    "pl.rcParams['figure.facecolor'] = 'w'\n",
    "from spectral_cube import SpectralCube\n",
    "from astropy import units as u\n",
    "from astropy.visualization import quantity_support\n",
    "quantity_support()"
   ]
  },
  {
   "cell_type": "code",
   "execution_count": 25,
   "id": "8fb9a017-1428-4562-a5c1-0ed5d3273e8e",
   "metadata": {},
   "outputs": [],
   "source": [
    "doplot=True"
   ]
  },
  {
   "cell_type": "code",
   "execution_count": 77,
   "id": "c66aaa7f-ba1a-4c94-9bfe-d39e8ce6f2ae",
   "metadata": {},
   "outputs": [
    {
     "name": "stderr",
     "output_type": "stream",
     "text": [
      "Exception ignored in: <_io.FileIO name='spectra/G17_SPW0_2017.image_stack.fits' mode='rb' closefd=True>\n",
      "Traceback (most recent call last):\n",
      "  File \"/blue/adamginsburg/adamginsburg/repos/pyspeckit/pyspeckit/spectrum/readers/__init__.py\", line 76, in reader\n",
      "    returns = func(*args,**kwargs)\n",
      "ResourceWarning: unclosed file <_io.FileIO name='spectra/G17_SPW0_2017.image_stack.fits' mode='rb' closefd=True>\n"
     ]
    },
    {
     "ename": "UserWarning",
     "evalue": "Warning: 'partition' will ignore the 'mask' of the MaskedArray.",
     "output_type": "error",
     "traceback": [
      "\u001b[0;31m---------------------------------------------------------------------------\u001b[0m",
      "\u001b[0;31mUserWarning\u001b[0m                               Traceback (most recent call last)",
      "\u001b[0;32m/orange/adamginsburg/salt/code/line_fitting_G17.py\u001b[0m in \u001b[0;36m<module>\u001b[0;34m\u001b[0m\n\u001b[1;32m     63\u001b[0m         \u001b[0msp\u001b[0m \u001b[0;34m=\u001b[0m \u001b[0mpyspeckit\u001b[0m\u001b[0;34m.\u001b[0m\u001b[0mSpectrum\u001b[0m\u001b[0;34m(\u001b[0m\u001b[0mfn\u001b[0m\u001b[0;34m)\u001b[0m\u001b[0;34m\u001b[0m\u001b[0;34m\u001b[0m\u001b[0m\n\u001b[1;32m     64\u001b[0m \u001b[0;34m\u001b[0m\u001b[0m\n\u001b[0;32m---> 65\u001b[0;31m         \u001b[0msp\u001b[0m\u001b[0;34m.\u001b[0m\u001b[0mdata\u001b[0m \u001b[0;34m-=\u001b[0m \u001b[0mnp\u001b[0m\u001b[0;34m.\u001b[0m\u001b[0mnanmedian\u001b[0m\u001b[0;34m(\u001b[0m\u001b[0msp\u001b[0m\u001b[0;34m.\u001b[0m\u001b[0mdata\u001b[0m\u001b[0;34m)\u001b[0m\u001b[0;34m\u001b[0m\u001b[0;34m\u001b[0m\u001b[0m\n\u001b[0m\u001b[1;32m     66\u001b[0m \u001b[0;34m\u001b[0m\u001b[0m\n\u001b[1;32m     67\u001b[0m         \u001b[0mrms\u001b[0m \u001b[0;34m=\u001b[0m \u001b[0mstats\u001b[0m\u001b[0;34m.\u001b[0m\u001b[0mmad_std\u001b[0m\u001b[0;34m(\u001b[0m\u001b[0msp\u001b[0m\u001b[0;34m.\u001b[0m\u001b[0mdata\u001b[0m\u001b[0;34m)\u001b[0m\u001b[0;34m\u001b[0m\u001b[0;34m\u001b[0m\u001b[0m\n",
      "\u001b[0;32m<__array_function__ internals>\u001b[0m in \u001b[0;36mnanmedian\u001b[0;34m(*args, **kwargs)\u001b[0m\n",
      "\u001b[0;32m~/.local/lib/python3.9/site-packages/numpy/lib/nanfunctions.py\u001b[0m in \u001b[0;36mnanmedian\u001b[0;34m(a, axis, out, overwrite_input, keepdims)\u001b[0m\n\u001b[1;32m   1117\u001b[0m         \u001b[0;32mreturn\u001b[0m \u001b[0mnp\u001b[0m\u001b[0;34m.\u001b[0m\u001b[0mnanmean\u001b[0m\u001b[0;34m(\u001b[0m\u001b[0ma\u001b[0m\u001b[0;34m,\u001b[0m \u001b[0maxis\u001b[0m\u001b[0;34m,\u001b[0m \u001b[0mout\u001b[0m\u001b[0;34m=\u001b[0m\u001b[0mout\u001b[0m\u001b[0;34m,\u001b[0m \u001b[0mkeepdims\u001b[0m\u001b[0;34m=\u001b[0m\u001b[0mkeepdims\u001b[0m\u001b[0;34m)\u001b[0m\u001b[0;34m\u001b[0m\u001b[0;34m\u001b[0m\u001b[0m\n\u001b[1;32m   1118\u001b[0m \u001b[0;34m\u001b[0m\u001b[0m\n\u001b[0;32m-> 1119\u001b[0;31m     r, k = function_base._ureduce(a, func=_nanmedian, axis=axis, out=out,\n\u001b[0m\u001b[1;32m   1120\u001b[0m                                   overwrite_input=overwrite_input)\n\u001b[1;32m   1121\u001b[0m     \u001b[0;32mif\u001b[0m \u001b[0mkeepdims\u001b[0m \u001b[0;32mand\u001b[0m \u001b[0mkeepdims\u001b[0m \u001b[0;32mis\u001b[0m \u001b[0;32mnot\u001b[0m \u001b[0mnp\u001b[0m\u001b[0;34m.\u001b[0m\u001b[0m_NoValue\u001b[0m\u001b[0;34m:\u001b[0m\u001b[0;34m\u001b[0m\u001b[0;34m\u001b[0m\u001b[0m\n",
      "\u001b[0;32m~/.local/lib/python3.9/site-packages/numpy/lib/function_base.py\u001b[0m in \u001b[0;36m_ureduce\u001b[0;34m(a, func, **kwargs)\u001b[0m\n\u001b[1;32m   3562\u001b[0m         \u001b[0mkeepdim\u001b[0m \u001b[0;34m=\u001b[0m \u001b[0;34m(\u001b[0m\u001b[0;36m1\u001b[0m\u001b[0;34m,\u001b[0m\u001b[0;34m)\u001b[0m \u001b[0;34m*\u001b[0m \u001b[0ma\u001b[0m\u001b[0;34m.\u001b[0m\u001b[0mndim\u001b[0m\u001b[0;34m\u001b[0m\u001b[0;34m\u001b[0m\u001b[0m\n\u001b[1;32m   3563\u001b[0m \u001b[0;34m\u001b[0m\u001b[0m\n\u001b[0;32m-> 3564\u001b[0;31m     \u001b[0mr\u001b[0m \u001b[0;34m=\u001b[0m \u001b[0mfunc\u001b[0m\u001b[0;34m(\u001b[0m\u001b[0ma\u001b[0m\u001b[0;34m,\u001b[0m \u001b[0;34m**\u001b[0m\u001b[0mkwargs\u001b[0m\u001b[0;34m)\u001b[0m\u001b[0;34m\u001b[0m\u001b[0;34m\u001b[0m\u001b[0m\n\u001b[0m\u001b[1;32m   3565\u001b[0m     \u001b[0;32mreturn\u001b[0m \u001b[0mr\u001b[0m\u001b[0;34m,\u001b[0m \u001b[0mkeepdim\u001b[0m\u001b[0;34m\u001b[0m\u001b[0;34m\u001b[0m\u001b[0m\n\u001b[1;32m   3566\u001b[0m \u001b[0;34m\u001b[0m\u001b[0m\n",
      "\u001b[0;32m~/.local/lib/python3.9/site-packages/numpy/lib/nanfunctions.py\u001b[0m in \u001b[0;36m_nanmedian\u001b[0;34m(a, axis, out, overwrite_input)\u001b[0m\n\u001b[1;32m    985\u001b[0m         \u001b[0mpart\u001b[0m \u001b[0;34m=\u001b[0m \u001b[0ma\u001b[0m\u001b[0;34m.\u001b[0m\u001b[0mravel\u001b[0m\u001b[0;34m(\u001b[0m\u001b[0;34m)\u001b[0m\u001b[0;34m\u001b[0m\u001b[0;34m\u001b[0m\u001b[0m\n\u001b[1;32m    986\u001b[0m         \u001b[0;32mif\u001b[0m \u001b[0mout\u001b[0m \u001b[0;32mis\u001b[0m \u001b[0;32mNone\u001b[0m\u001b[0;34m:\u001b[0m\u001b[0;34m\u001b[0m\u001b[0;34m\u001b[0m\u001b[0m\n\u001b[0;32m--> 987\u001b[0;31m             \u001b[0;32mreturn\u001b[0m \u001b[0m_nanmedian1d\u001b[0m\u001b[0;34m(\u001b[0m\u001b[0mpart\u001b[0m\u001b[0;34m,\u001b[0m \u001b[0moverwrite_input\u001b[0m\u001b[0;34m)\u001b[0m\u001b[0;34m\u001b[0m\u001b[0;34m\u001b[0m\u001b[0m\n\u001b[0m\u001b[1;32m    988\u001b[0m         \u001b[0;32melse\u001b[0m\u001b[0;34m:\u001b[0m\u001b[0;34m\u001b[0m\u001b[0;34m\u001b[0m\u001b[0m\n\u001b[1;32m    989\u001b[0m             \u001b[0mout\u001b[0m\u001b[0;34m[\u001b[0m\u001b[0;34m...\u001b[0m\u001b[0;34m]\u001b[0m \u001b[0;34m=\u001b[0m \u001b[0m_nanmedian1d\u001b[0m\u001b[0;34m(\u001b[0m\u001b[0mpart\u001b[0m\u001b[0;34m,\u001b[0m \u001b[0moverwrite_input\u001b[0m\u001b[0;34m)\u001b[0m\u001b[0;34m\u001b[0m\u001b[0;34m\u001b[0m\u001b[0m\n",
      "\u001b[0;32m~/.local/lib/python3.9/site-packages/numpy/lib/nanfunctions.py\u001b[0m in \u001b[0;36m_nanmedian1d\u001b[0;34m(arr1d, overwrite_input)\u001b[0m\n\u001b[1;32m    972\u001b[0m         \u001b[0;32mreturn\u001b[0m \u001b[0marr1d\u001b[0m\u001b[0;34m[\u001b[0m\u001b[0;34m-\u001b[0m\u001b[0;36m1\u001b[0m\u001b[0;34m]\u001b[0m\u001b[0;34m\u001b[0m\u001b[0;34m\u001b[0m\u001b[0m\n\u001b[1;32m    973\u001b[0m \u001b[0;34m\u001b[0m\u001b[0m\n\u001b[0;32m--> 974\u001b[0;31m     \u001b[0;32mreturn\u001b[0m \u001b[0mnp\u001b[0m\u001b[0;34m.\u001b[0m\u001b[0mmedian\u001b[0m\u001b[0;34m(\u001b[0m\u001b[0marr1d_parsed\u001b[0m\u001b[0;34m,\u001b[0m \u001b[0moverwrite_input\u001b[0m\u001b[0;34m=\u001b[0m\u001b[0moverwrite_input\u001b[0m\u001b[0;34m)\u001b[0m\u001b[0;34m\u001b[0m\u001b[0;34m\u001b[0m\u001b[0m\n\u001b[0m\u001b[1;32m    975\u001b[0m \u001b[0;34m\u001b[0m\u001b[0m\n\u001b[1;32m    976\u001b[0m \u001b[0;34m\u001b[0m\u001b[0m\n",
      "\u001b[0;32m<__array_function__ internals>\u001b[0m in \u001b[0;36mmedian\u001b[0;34m(*args, **kwargs)\u001b[0m\n",
      "\u001b[0;32m~/.local/lib/python3.9/site-packages/numpy/lib/function_base.py\u001b[0m in \u001b[0;36mmedian\u001b[0;34m(a, axis, out, overwrite_input, keepdims)\u001b[0m\n\u001b[1;32m   3653\u001b[0m \u001b[0;34m\u001b[0m\u001b[0m\n\u001b[1;32m   3654\u001b[0m     \"\"\"\n\u001b[0;32m-> 3655\u001b[0;31m     r, k = _ureduce(a, func=_median, axis=axis, out=out,\n\u001b[0m\u001b[1;32m   3656\u001b[0m                     overwrite_input=overwrite_input)\n\u001b[1;32m   3657\u001b[0m     \u001b[0;32mif\u001b[0m \u001b[0mkeepdims\u001b[0m\u001b[0;34m:\u001b[0m\u001b[0;34m\u001b[0m\u001b[0;34m\u001b[0m\u001b[0m\n",
      "\u001b[0;32m~/.local/lib/python3.9/site-packages/numpy/lib/function_base.py\u001b[0m in \u001b[0;36m_ureduce\u001b[0;34m(a, func, **kwargs)\u001b[0m\n\u001b[1;32m   3562\u001b[0m         \u001b[0mkeepdim\u001b[0m \u001b[0;34m=\u001b[0m \u001b[0;34m(\u001b[0m\u001b[0;36m1\u001b[0m\u001b[0;34m,\u001b[0m\u001b[0;34m)\u001b[0m \u001b[0;34m*\u001b[0m \u001b[0ma\u001b[0m\u001b[0;34m.\u001b[0m\u001b[0mndim\u001b[0m\u001b[0;34m\u001b[0m\u001b[0;34m\u001b[0m\u001b[0m\n\u001b[1;32m   3563\u001b[0m \u001b[0;34m\u001b[0m\u001b[0m\n\u001b[0;32m-> 3564\u001b[0;31m     \u001b[0mr\u001b[0m \u001b[0;34m=\u001b[0m \u001b[0mfunc\u001b[0m\u001b[0;34m(\u001b[0m\u001b[0ma\u001b[0m\u001b[0;34m,\u001b[0m \u001b[0;34m**\u001b[0m\u001b[0mkwargs\u001b[0m\u001b[0;34m)\u001b[0m\u001b[0;34m\u001b[0m\u001b[0;34m\u001b[0m\u001b[0m\n\u001b[0m\u001b[1;32m   3565\u001b[0m     \u001b[0;32mreturn\u001b[0m \u001b[0mr\u001b[0m\u001b[0;34m,\u001b[0m \u001b[0mkeepdim\u001b[0m\u001b[0;34m\u001b[0m\u001b[0;34m\u001b[0m\u001b[0m\n\u001b[1;32m   3566\u001b[0m \u001b[0;34m\u001b[0m\u001b[0m\n",
      "\u001b[0;32m~/.local/lib/python3.9/site-packages/numpy/lib/function_base.py\u001b[0m in \u001b[0;36m_median\u001b[0;34m(a, axis, out, overwrite_input)\u001b[0m\n\u001b[1;32m   3688\u001b[0m             \u001b[0mpart\u001b[0m \u001b[0;34m=\u001b[0m \u001b[0ma\u001b[0m\u001b[0;34m\u001b[0m\u001b[0;34m\u001b[0m\u001b[0m\n\u001b[1;32m   3689\u001b[0m     \u001b[0;32melse\u001b[0m\u001b[0;34m:\u001b[0m\u001b[0;34m\u001b[0m\u001b[0;34m\u001b[0m\u001b[0m\n\u001b[0;32m-> 3690\u001b[0;31m         \u001b[0mpart\u001b[0m \u001b[0;34m=\u001b[0m \u001b[0mpartition\u001b[0m\u001b[0;34m(\u001b[0m\u001b[0ma\u001b[0m\u001b[0;34m,\u001b[0m \u001b[0mkth\u001b[0m\u001b[0;34m,\u001b[0m \u001b[0maxis\u001b[0m\u001b[0;34m=\u001b[0m\u001b[0maxis\u001b[0m\u001b[0;34m)\u001b[0m\u001b[0;34m\u001b[0m\u001b[0;34m\u001b[0m\u001b[0m\n\u001b[0m\u001b[1;32m   3691\u001b[0m \u001b[0;34m\u001b[0m\u001b[0m\n\u001b[1;32m   3692\u001b[0m     \u001b[0;32mif\u001b[0m \u001b[0mpart\u001b[0m\u001b[0;34m.\u001b[0m\u001b[0mshape\u001b[0m \u001b[0;34m==\u001b[0m \u001b[0;34m(\u001b[0m\u001b[0;34m)\u001b[0m\u001b[0;34m:\u001b[0m\u001b[0;34m\u001b[0m\u001b[0;34m\u001b[0m\u001b[0m\n",
      "\u001b[0;32m<__array_function__ internals>\u001b[0m in \u001b[0;36mpartition\u001b[0;34m(*args, **kwargs)\u001b[0m\n",
      "\u001b[0;32m~/.local/lib/python3.9/site-packages/numpy/core/fromnumeric.py\u001b[0m in \u001b[0;36mpartition\u001b[0;34m(a, kth, axis, kind, order)\u001b[0m\n\u001b[1;32m    753\u001b[0m     \u001b[0;32melse\u001b[0m\u001b[0;34m:\u001b[0m\u001b[0;34m\u001b[0m\u001b[0;34m\u001b[0m\u001b[0m\n\u001b[1;32m    754\u001b[0m         \u001b[0ma\u001b[0m \u001b[0;34m=\u001b[0m \u001b[0masanyarray\u001b[0m\u001b[0;34m(\u001b[0m\u001b[0ma\u001b[0m\u001b[0;34m)\u001b[0m\u001b[0;34m.\u001b[0m\u001b[0mcopy\u001b[0m\u001b[0;34m(\u001b[0m\u001b[0morder\u001b[0m\u001b[0;34m=\u001b[0m\u001b[0;34m\"K\"\u001b[0m\u001b[0;34m)\u001b[0m\u001b[0;34m\u001b[0m\u001b[0;34m\u001b[0m\u001b[0m\n\u001b[0;32m--> 755\u001b[0;31m     \u001b[0ma\u001b[0m\u001b[0;34m.\u001b[0m\u001b[0mpartition\u001b[0m\u001b[0;34m(\u001b[0m\u001b[0mkth\u001b[0m\u001b[0;34m,\u001b[0m \u001b[0maxis\u001b[0m\u001b[0;34m=\u001b[0m\u001b[0maxis\u001b[0m\u001b[0;34m,\u001b[0m \u001b[0mkind\u001b[0m\u001b[0;34m=\u001b[0m\u001b[0mkind\u001b[0m\u001b[0;34m,\u001b[0m \u001b[0morder\u001b[0m\u001b[0;34m=\u001b[0m\u001b[0morder\u001b[0m\u001b[0;34m)\u001b[0m\u001b[0;34m\u001b[0m\u001b[0;34m\u001b[0m\u001b[0m\n\u001b[0m\u001b[1;32m    756\u001b[0m     \u001b[0;32mreturn\u001b[0m \u001b[0ma\u001b[0m\u001b[0;34m\u001b[0m\u001b[0;34m\u001b[0m\u001b[0m\n\u001b[1;32m    757\u001b[0m \u001b[0;34m\u001b[0m\u001b[0m\n",
      "\u001b[0;32m~/.local/lib/python3.9/site-packages/numpy/ma/core.py\u001b[0m in \u001b[0;36mpartition\u001b[0;34m(self, *args, **kwargs)\u001b[0m\n\u001b[1;32m   5948\u001b[0m \u001b[0;34m\u001b[0m\u001b[0m\n\u001b[1;32m   5949\u001b[0m     \u001b[0;32mdef\u001b[0m \u001b[0mpartition\u001b[0m\u001b[0;34m(\u001b[0m\u001b[0mself\u001b[0m\u001b[0;34m,\u001b[0m \u001b[0;34m*\u001b[0m\u001b[0margs\u001b[0m\u001b[0;34m,\u001b[0m \u001b[0;34m**\u001b[0m\u001b[0mkwargs\u001b[0m\u001b[0;34m)\u001b[0m\u001b[0;34m:\u001b[0m\u001b[0;34m\u001b[0m\u001b[0;34m\u001b[0m\u001b[0m\n\u001b[0;32m-> 5950\u001b[0;31m         warnings.warn(\"Warning: 'partition' will ignore the 'mask' \"\n\u001b[0m\u001b[1;32m   5951\u001b[0m                       \u001b[0;34mf\"of the {self.__class__.__name__}.\"\u001b[0m\u001b[0;34m,\u001b[0m\u001b[0;34m\u001b[0m\u001b[0;34m\u001b[0m\u001b[0m\n\u001b[1;32m   5952\u001b[0m                       stacklevel=2)\n",
      "\u001b[0;31mUserWarning\u001b[0m: Warning: 'partition' will ignore the 'mask' of the MaskedArray."
     ]
    },
    {
     "data": {
      "text/plain": [
       "<Figure size 432x288 with 0 Axes>"
      ]
     },
     "metadata": {},
     "output_type": "display_data"
    }
   ],
   "source": [
    "import warnings\n",
    "with warnings.catch_warnings():\n",
    "    warnings.simplefilter('error')\n",
    "    %run -i /orange/adamginsburg/salt/code/line_fitting_G17.py"
   ]
  },
  {
   "cell_type": "code",
   "execution_count": 78,
   "id": "2c1d9f22-fa60-41c9-8e57-a6b6757fa8ed",
   "metadata": {},
   "outputs": [],
   "source": [
    "warnings.simplefilter('ignore')"
   ]
  },
  {
   "cell_type": "code",
   "execution_count": null,
   "id": "c8df1e4a-5f39-4009-bc49-5d8d7159f2a7",
   "metadata": {},
   "outputs": [],
   "source": []
  },
  {
   "cell_type": "code",
   "execution_count": null,
   "id": "de46c0c8-6ff4-4986-8381-e153a723828f",
   "metadata": {},
   "outputs": [],
   "source": []
  },
  {
   "cell_type": "code",
   "execution_count": null,
   "id": "0f62d03c-635f-4dbf-bf09-aaed69313b8a",
   "metadata": {},
   "outputs": [],
   "source": []
  },
  {
   "cell_type": "code",
   "execution_count": null,
   "id": "621c6c6b-4824-4e4d-ae13-eb6ee601253c",
   "metadata": {},
   "outputs": [],
   "source": []
  },
  {
   "cell_type": "code",
   "execution_count": 94,
   "id": "7547a5c0-b06b-4f3f-b97c-69fef9df625f",
   "metadata": {},
   "outputs": [
    {
     "name": "stdout",
     "output_type": "stream",
     "text": [
      "spw 0: rms=0.00020649570972150282\n",
      "Line 39K-35Clv=4-4 J=29-28 with frequency 217.22891175712175 GHz has SNR=5.5\n",
      "Line 39K-35Clv=3-3 J=29-28 with frequency 218.57970759934983 GHz has SNR=11.2\n",
      "Line 39K-37Clv=4-4 J=30-29 with frequency 218.3965682524781 GHz has SNR=2.5\n",
      "Line 41K-35Clv=0-0 J=29-28 with frequency 217.54316883063962 GHz has SNR=2.5\n",
      "Line 23Na-35Clv=2-2 J=17-16 with frequency 217.980231 GHz has SNR=19.6\n",
      "Line 41K-37Clv=1-1 J=30-29 with frequency 217.17723397093303 GHz has SNR=1.6\n",
      "Line 41K-37Clv=0-0 J=30-29 with frequency 218.48413771123413 GHz has SNR=3.8\n",
      "spw 1: rms=0.00020844134767156173\n",
      "Line 39K-35Clv=2-2 J=29-28 with frequency 219.93611261476423 GHz has SNR=24.3\n",
      "Line 39K-37Clv=3-3 J=30-29 with frequency 219.7347580948684 GHz has SNR=7.0\n",
      "Line 41K-35Clv=4-4 J=30-29 with frequency 219.59177027727014 GHz has SNR=2.3\n",
      "Line 23Na-35Clv=1-1 J=17-16 with frequency 219.614936 GHz has SNR=13.4\n",
      "Line 41K-37Clv=4-4 J=31-30 with frequency 220.37552136846418 GHz has SNR=3.0\n",
      "spw 2: rms=0.00022356111872558782\n",
      "Line 39K-35Clv=4-4 J=31-30 with frequency 232.16184645668199 GHz has SNR=3.6\n",
      "Line 39K-37Clv=0-0 J=31-30 with frequency 231.21883930648752 GHz has SNR=5.3\n"
     ]
    },
    {
     "name": "stderr",
     "output_type": "stream",
     "text": [
      "WARNING: gnorm=0.   wa2=[0. 0. 0.] [pyspeckit.mpfit.mpfit]\n"
     ]
    },
    {
     "name": "stdout",
     "output_type": "stream",
     "text": [
      "Line 41K-35Clv=0-0 J=31-30 with frequency 232.49980161177257 GHz has SNR=11.2\n",
      "Line 23Na-35Clv=1-1 J=18-17 with frequency 232.50997700000002 GHz has SNR=17.3\n",
      "Line 41K-37Clv=1-1 J=32-31 with frequency 231.60913136874447 GHz has SNR=1.5\n",
      "spw 3: rms=0.0001664776873584926\n",
      "Line 39K-35Clv=3-3 J=31-30 with frequency 233.60569798423805 GHz has SNR=6.3\n",
      "3 234.33493147880353 GHz: result=upper_state lower_state    Aij    Frequency_cm        Freq               E_U                E_L              QNs       vu  vl  Ju  Jl  gu   gl         Species       \n",
      "                          1 / s      1 / cm           GHz                 K                  K                                                                       \n",
      "----------- ----------- --------- ------------ ------------------ ------------------ ------------------ ------------- --- --- --- --- ---- ---- ---------------------\n",
      "       1538        1537 0.0081735     7.816059 234.33493147880353 1356.5702932951817 1345.3247246098006 v=3-3 J=32-31   3   3  32  31 1040 1008 39K-37Clv=3-3 J=32-31\n",
      "       4049        4048 0.0086569      7.81611 234.33346713692097  3248.842260814649  3237.596618751622 v=8-8 J=33-32   8   8  33  32 1072 1040 39K-37Clv=8-8 J=33-32\n",
      "Line 39K-37Clv=3-3 J=32-31 with frequency 234.33493147880353 GHz has SNR=3.1\n",
      "Line 41K-35Clv=4-4 J=32-31 with frequency 234.1819235089029 GHz has SNR=5.4\n",
      "Line 23Na-35Clv=0-0 J=18-17 with frequency 234.251912 GHz has SNR=22.1\n",
      "Line 23Na-37Clv=4-4 J=19-18 with frequency 234.904242 GHz has SNR=10.4\n",
      "Line 41K-37Clv=4-4 J=33-32 with frequency 234.54382952328362 GHz has SNR=1.3\n",
      "0 matches for NaCl\n",
      "0 matches for Na37Cl\n",
      "0 matches for KCl\n",
      "1 matches for K37Cl\n",
      "0 matches for 41KCl\n",
      "0 matches for 41K37Cl\n",
      "{}\n",
      "Measured 35/37Cl abundance = nan +/- nan\n"
     ]
    },
    {
     "data": {
      "image/png": "[encoded data removed]",
      "text/plain": [
       "<Figure size 432x288 with 1 Axes>"
      ]
     },
     "metadata": {},
     "output_type": "display_data"
    },
    {
     "data": {
      "image/png": "[encoded data removed]",
      "text/plain": [
       "<Figure size 1152x432 with 1 Axes>"
      ]
     },
     "metadata": {},
     "output_type": "display_data"
    },
    {
     "data": {
      "image/png": "[encoded data removed]",
      "text/plain": [
       "<Figure size 432x288 with 1 Axes>"
      ]
     },
     "metadata": {},
     "output_type": "display_data"
    }
   ],
   "source": [
    "%run -i /orange/adamginsburg/salt/code/line_fitting_G17.py"
   ]
  },
  {
   "cell_type": "code",
   "execution_count": null,
   "id": "0d7005dc-d333-415e-8f11-68bc0fbb90b2",
   "metadata": {},
   "outputs": [],
   "source": []
  },
  {
   "cell_type": "code",
   "execution_count": null,
   "id": "7e279d4a-111e-41fe-ae1a-2115bfc4c6fd",
   "metadata": {},
   "outputs": [],
   "source": []
  },
  {
   "cell_type": "code",
   "execution_count": null,
   "id": "e4bd7c5c-8a69-48c2-9484-c9de7b9b514c",
   "metadata": {},
   "outputs": [],
   "source": []
  },
  {
   "cell_type": "code",
   "execution_count": null,
   "id": "de159802-43c8-40a8-b76d-15884cb9492a",
   "metadata": {},
   "outputs": [],
   "source": []
  },
  {
   "cell_type": "code",
   "execution_count": 76,
   "id": "1bb811f2-6404-4ff7-8ffb-8bcd95d8b705",
   "metadata": {},
   "outputs": [
    {
     "name": "stdout",
     "output_type": "stream",
     "text": [
      "23Na-35Clv=0-0 J=18-17_3_234.251912 GHz.png\n",
      "23Na-35Clv=1-1 J=17-16_1_219.614936 GHz.png\n",
      "23Na-35Clv=1-1 J=18-17_2_232.50997700000002 GHz.png\n",
      "23Na-35Clv=2-2 J=17-16_0_217.980231 GHz.png\n",
      "23Na-37Clv=4-4 J=19-18_3_234.904242 GHz.png\n",
      "23Na-37Clv=5-5 J=19-18_3_233.16920199999998 GHz.png\n",
      "39K-35Clv=2-2 J=29-28_1_219.93611261476423 GHz.png\n",
      "39K-35Clv=3-3 J=29-28_0_218.57970759934983 GHz.png\n",
      "39K-35Clv=3-3 J=31-30_3_233.60569798423805 GHz.png\n",
      "39K-35Clv=4-4 J=29-28_0_217.22891175712175 GHz.png\n",
      "39K-35Clv=4-4 J=31-30_2_232.16184645668199 GHz.png\n",
      "39K-37Clv=0-0 J=31-30_2_231.21883930648752 GHz.png\n",
      "39K-37Clv=3-3 J=30-29_1_219.7347580948684 GHz.png\n",
      "39K-37Clv=3-3 J=32-31_3_234.33493147880353 GHz.png\n",
      "39K-37Clv=4-4 J=30-29_0_218.3965682524781 GHz.png\n",
      "41K-35Clv=0-0 J=29-28_0_217.54316883063962 GHz.png\n",
      "41K-35Clv=0-0 J=31-30_2_232.49980161177257 GHz.png\n",
      "41K-35Clv=1-1 J=31-30_2_231.08814961918307 GHz.png\n",
      "41K-35Clv=4-4 J=30-29_1_219.59177027727014 GHz.png\n",
      "41K-35Clv=4-4 J=32-31_3_234.1819235089029 GHz.png\n",
      "41K-37Clv=0-0 J=30-29_0_218.48413771123413 GHz.png\n",
      "41K-37Clv=1-1 J=30-29_0_217.17723397093303 GHz.png\n",
      "41K-37Clv=1-1 J=32-31_2_231.60913136874447 GHz.png\n",
      "41K-37Clv=4-4 J=31-30_1_220.37552136846418 GHz.png\n",
      "41K-37Clv=4-4 J=33-32_3_234.54382952328362 GHz.png\n",
      "G17_0_fits.png\n",
      "G17_1_fits.png\n",
      "G17_2_fits.png\n",
      "G17_3_fits.png\n",
      "gallery.html\n",
      "style.css\n"
     ]
    }
   ],
   "source": [
    "ls /orange/adamginsburg/salt/figures/spectral_fits"
   ]
  },
  {
   "cell_type": "code",
   "execution_count": 92,
   "id": "4a03e44d-d62b-47a8-8fdf-7ba306cc8f89",
   "metadata": {},
   "outputs": [],
   "source": [
    "pl.show()"
   ]
  },
  {
   "cell_type": "code",
   "execution_count": null,
   "id": "a8f270b6-6167-46de-bc16-45370f06bcf1",
   "metadata": {},
   "outputs": [],
   "source": []
  },
  {
   "cell_type": "code",
   "execution_count": null,
   "id": "3dc0081f-04e2-4df8-b8be-1bc33eb47394",
   "metadata": {},
   "outputs": [],
   "source": []
  },
  {
   "cell_type": "code",
   "execution_count": null,
   "id": "f65dbcfc-0b9a-450f-8e59-58c913778e44",
   "metadata": {},
   "outputs": [],
   "source": []
  }
 ],
 "metadata": {
  "kernelspec": {
   "display_name": "Py 3.9",
   "language": "python",
   "name": "python39"
  },
  "language_info": {
   "codemirror_mode": {
    "name": "ipython",
    "version": 3
   },
   "file_extension": ".py",
   "mimetype": "text/x-python",
   "name": "python",
   "nbconvert_exporter": "python",
   "pygments_lexer": "ipython3",
   "version": "3.9.7"
  }
 },
 "nbformat": 4,
 "nbformat_minor": 5
}
