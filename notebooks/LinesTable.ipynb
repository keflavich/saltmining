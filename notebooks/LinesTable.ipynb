{
 "cells": [
  {
   "cell_type": "markdown",
   "id": "cc3d606d-a07a-47b9-96a3-39045a2b642e",
   "metadata": {},
   "source": [
    "# Create linelist.tex\n",
    "\n",
    "TODO Sep 20, 2022:\n",
    " * Figure out why NaCl lines that should be included are excluded (v=0,1 17-16 and 18-17 are all included somewhere)"
   ]
  },
  {
   "cell_type": "code",
   "execution_count": 1,
   "id": "9a7ff7eb-4ff2-4dfa-9ab2-eff7bdbe26aa",
   "metadata": {},
   "outputs": [],
   "source": [
    "%run ../Orion_ALMA_2016.1.00165.S/analysis/lines.py"
   ]
  },
  {
   "cell_type": "code",
   "execution_count": 2,
   "id": "d50d285f-6747-442a-ac01-83be5e081ba7",
   "metadata": {},
   "outputs": [
    {
     "name": "stdout",
     "output_type": "stream",
     "text": [
      "/orange/adamginsburg/salt/sanhueza\n"
     ]
    }
   ],
   "source": [
    "cd /orange/adamginsburg/salt/sanhueza"
   ]
  },
  {
   "cell_type": "code",
   "execution_count": 2,
   "id": "8bf46f4c-2e08-40a2-9329-84baf93dbdfb",
   "metadata": {},
   "outputs": [],
   "source": [
    "import json"
   ]
  },
  {
   "cell_type": "code",
   "execution_count": 3,
   "id": "8ded2f07-d529-4dbe-9863-4ecf2c85b597",
   "metadata": {},
   "outputs": [
    {
     "ename": "FileNotFoundError",
     "evalue": "[Errno 2] No such file or directory: 'freqcov.json'",
     "output_type": "error",
     "traceback": [
      "\u001b[0;31m---------------------------------------------------------------------------\u001b[0m",
      "\u001b[0;31mFileNotFoundError\u001b[0m                         Traceback (most recent call last)",
      "\u001b[0;32m/var/folders/k_/7qh4l0nn72b7qgq15pkd4hw40000gt/T/ipykernel_90034/2974867024.py\u001b[0m in \u001b[0;36m<cell line: 1>\u001b[0;34m()\u001b[0m\n\u001b[0;32m----> 1\u001b[0;31m \u001b[0;32mwith\u001b[0m \u001b[0mopen\u001b[0m\u001b[0;34m(\u001b[0m\u001b[0;34m'freqcov.json'\u001b[0m\u001b[0;34m,\u001b[0m \u001b[0;34m'r'\u001b[0m\u001b[0;34m)\u001b[0m \u001b[0;32mas\u001b[0m \u001b[0mfh\u001b[0m\u001b[0;34m:\u001b[0m\u001b[0;34m\u001b[0m\u001b[0;34m\u001b[0m\u001b[0m\n\u001b[0m\u001b[1;32m      2\u001b[0m     \u001b[0mfreqcov\u001b[0m \u001b[0;34m=\u001b[0m \u001b[0mjson\u001b[0m\u001b[0;34m.\u001b[0m\u001b[0mload\u001b[0m\u001b[0;34m(\u001b[0m\u001b[0mfh\u001b[0m\u001b[0;34m)\u001b[0m\u001b[0;34m\u001b[0m\u001b[0;34m\u001b[0m\u001b[0m\n",
      "\u001b[0;31mFileNotFoundError\u001b[0m: [Errno 2] No such file or directory: 'freqcov.json'"
     ]
    }
   ],
   "source": [
    "with open('freqcov.json', 'r') as fh:\n",
    "    freqcov = json.load(fh)"
   ]
  },
  {
   "cell_type": "code",
   "execution_count": 9,
   "id": "20f1a935-a867-41c8-94ce-20417dae1abd",
   "metadata": {},
   "outputs": [],
   "source": [
    "freqcov = {'fake': [(215, 236)]}"
   ]
  },
  {
   "cell_type": "code",
   "execution_count": 10,
   "id": "81db3e6d-8ce6-4bd3-812a-5b618515697e",
   "metadata": {},
   "outputs": [],
   "source": [
    "covered_lines = {line: freq\n",
    "                 for line,freq in (disk_lines | outflow_lines).items()\n",
    "                 if any((freq > fmin*u.GHz) and (freq < fmax*u.GHz)\n",
    "                        for fcov in freqcov.values()\n",
    "                        for fmin,fmax in fcov)}"
   ]
  },
  {
   "cell_type": "code",
   "execution_count": 11,
   "id": "dd452f6d-5c5c-4655-a1c2-c6d62a5e5b92",
   "metadata": {},
   "outputs": [
    {
     "data": {
      "text/plain": [
       "{'Si34S_13-12': <Quantity 229.499086 GHz>,\n",
       " 'KCl_30-29': <Quantity 230.32056 GHz>,\n",
       " 'NaClv=2_18-17': <Quantity 230.7791504 GHz>,\n",
       " 'Na37Cl_18-17': <Quantity 229.245887 GHz>,\n",
       " 'U232.634': <Quantity 232.634 GHz>,\n",
       " 'KClv=4_29-28': <Quantity 217.22891176 GHz>,\n",
       " 'KClv=3_29-28': <Quantity 218.5797076 GHz>,\n",
       " '41KClv=2_31-30': <Quantity 229.682294 GHz>,\n",
       " 'K37Clv=1_31-30': <Quantity 229.818833 GHz>,\n",
       " 'KClv=5 31-30': <Quantity 230.72399383 GHz>,\n",
       " 'U230.966': <Quantity 230.966 GHz>,\n",
       " 'U229.550': <Quantity 229.55 GHz>,\n",
       " 'H2Ov2=1_5(5,0)-6(4,3)': <Quantity 232.6867 GHz>,\n",
       " 'NaClv=1_18-17': <Quantity 232.50995 GHz>,\n",
       " 'NaClv=2_17-16': <Quantity 217.979967 GHz>,\n",
       " 'SiS_12-11': <Quantity 217.817644 GHz>,\n",
       " 'Na37Clv=7_18-17': <Quantity 217.65559504 GHz>,\n",
       " '41KCl_29-28': <Quantity 217.543178 GHz>,\n",
       " 'HC3N_24-23': <Quantity 218.324788 GHz>,\n",
       " 'KCl_28-27': <Quantity 215.008301 GHz>,\n",
       " 'KClv=5_29-28': <Quantity 215.88372509 GHz>,\n",
       " 'Na37Clv=5_19-18': <Quantity 233.1645843 GHz>,\n",
       " 'KClv=3_31-30': <Quantity 233.60569798 GHz>,\n",
       " 'KClv=4_31-30': <Quantity 232.16300228 GHz>,\n",
       " 'KClv=6_31-30': <Quantity 229.29217009 GHz>,\n",
       " 'SiOv=0_5-4': <Quantity 217.10498 GHz>,\n",
       " 'SiOv=1_5-4': <Quantity 215.59595 GHz>,\n",
       " 'H30a': <Quantity 231.900928 GHz>,\n",
       " '41KClv=0 31-30': <Quantity 232.49984 GHz>,\n",
       " 'K37Clv=1 29-28': <Quantity 215.034661 GHz>,\n",
       " 'K37Clv=6_32-31': <Quantity 230.07071997 GHz>,\n",
       " '41K37Clv=2_32-31': <Quantity 230.22069809 GHz>,\n",
       " '41K37Clv=1_30-29': <Quantity 217.17723397 GHz>,\n",
       " 'K37Clv=6_30-29': <Quantity 215.73679433 GHz>,\n",
       " 'K37Clv=4_J=32-31': <Quantity 232.90755269 GHz>,\n",
       " 'AlO_N=6-5': <Quantity 229.6938725 GHz>,\n",
       " 'SOv=0 5(5)-4(4)': <Quantity 215.22065 GHz>,\n",
       " '34SO 6(5)-5(4)': <Quantity 215.83992 GHz>}"
      ]
     },
     "execution_count": 11,
     "metadata": {},
     "output_type": "execute_result"
    }
   ],
   "source": [
    "covered_lines"
   ]
  },
  {
   "cell_type": "code",
   "execution_count": 12,
   "id": "d5d8bfd8-76af-4346-a38a-6110deb8156f",
   "metadata": {},
   "outputs": [
    {
     "data": {
      "text/latex": [
       "$13.035579 \\; \\mathrm{\\frac{km}{s}}$"
      ],
      "text/plain": [
       "<Quantity 13.03557869 km / s>"
      ]
     },
     "execution_count": 12,
     "metadata": {},
     "output_type": "execute_result"
    }
   ],
   "source": [
    "(232.49984*u.GHz).to(u.km/u.s, u.doppler_radio(232.50995*u.GHz))"
   ]
  },
  {
   "cell_type": "code",
   "execution_count": 6,
   "id": "9f6c58b0-1ca5-4cbb-a94a-075c57ef631b",
   "metadata": {},
   "outputs": [],
   "source": [
    "from astropy.table import Table, Column\n",
    "from astropy import units as u"
   ]
  },
  {
   "cell_type": "code",
   "execution_count": 7,
   "id": "111f5db5-5250-4834-a11e-76bb99d300a5",
   "metadata": {},
   "outputs": [
    {
     "data": {
      "text/html": [
       "<div><i>Table length=24</i>\n",
       "<table id=\"table47996089925488\" class=\"table-striped table-bordered table-condensed\">\n",
       "<thead><tr><th>Line Name</th><th>Frequency</th></tr></thead>\n",
       "<thead><tr><th></th><th>GHz</th></tr></thead>\n",
       "<thead><tr><th>str32</th><th>float64</th></tr></thead>\n",
       "<tr><td>KCl v=4 29-28</td><td>217.22891175712175</td></tr>\n",
       "<tr><td>KCl v=3 29-28</td><td>218.57970759934983</td></tr>\n",
       "<tr><td>H$_2$O v$_2$=1 $5_{5,0}-6_{4,3}$</td><td>232.6867</td></tr>\n",
       "<tr><td>NaCl v=1 18-17</td><td>232.50995</td></tr>\n",
       "<tr><td>NaCl v=2 17-16</td><td>217.979967</td></tr>\n",
       "<tr><td>SiS v=0 12-11</td><td>217.817644</td></tr>\n",
       "<tr><td>SiS v=1 12-11</td><td>216.7576028</td></tr>\n",
       "<tr><td>Si$^{33}$S 13-12</td><td>232.628545</td></tr>\n",
       "<tr><td>SO $6_5-5_4$</td><td>219.94944</td></tr>\n",
       "<tr><td>H$_2$CO $3_{0,3}-2_{0,2}$</td><td>218.222192</td></tr>\n",
       "<tr><td>CH$_3$OH $4_{2,2}-3_{1,2}$</td><td>218.440063</td></tr>\n",
       "<tr><td>C$^{18}$O 2-1</td><td>219.5603541</td></tr>\n",
       "<tr><td>HNCO $10_{10}-9_9$</td><td>219.798274</td></tr>\n",
       "<tr><td>$^{41}$KCl 29-28</td><td>217.543178</td></tr>\n",
       "<tr><td>HC$_3$N 24-23</td><td>218.324788</td></tr>\n",
       "<tr><td>KCl v=3 31-30</td><td>233.60569798423805</td></tr>\n",
       "<tr><td>KCl v=4 31-30</td><td>232.16300227817646</td></tr>\n",
       "<tr><td>SiO v=0 5-4</td><td>217.10498</td></tr>\n",
       "<tr><td>H30$\\alpha$</td><td>231.900928</td></tr>\n",
       "<tr><td>$^{41}$KCl 31-30</td><td>232.49984</td></tr>\n",
       "<tr><td>K$^{37}$Cl v=4 32-31</td><td>232.90755269258102</td></tr>\n",
       "<tr><td>PN 5-4</td><td>234.935663</td></tr>\n",
       "<tr><td>SiS v=1 13-12</td><td>234.8129678</td></tr>\n",
       "<tr><td>SiS v=0 13-12</td><td>235.9613634</td></tr>\n",
       "</table></div>"
      ],
      "text/plain": [
       "<Table length=24>\n",
       "           Line Name                 Frequency     \n",
       "                                        GHz        \n",
       "             str32                    float64      \n",
       "-------------------------------- ------------------\n",
       "                   KCl v=4 29-28 217.22891175712175\n",
       "                   KCl v=3 29-28 218.57970759934983\n",
       "H$_2$O v$_2$=1 $5_{5,0}-6_{4,3}$           232.6867\n",
       "                  NaCl v=1 18-17          232.50995\n",
       "                  NaCl v=2 17-16         217.979967\n",
       "                   SiS v=0 12-11         217.817644\n",
       "                   SiS v=1 12-11        216.7576028\n",
       "                Si$^{33}$S 13-12         232.628545\n",
       "                    SO $6_5-5_4$          219.94944\n",
       "       H$_2$CO $3_{0,3}-2_{0,2}$         218.222192\n",
       "      CH$_3$OH $4_{2,2}-3_{1,2}$         218.440063\n",
       "                   C$^{18}$O 2-1        219.5603541\n",
       "              HNCO $10_{10}-9_9$         219.798274\n",
       "                $^{41}$KCl 29-28         217.543178\n",
       "                   HC$_3$N 24-23         218.324788\n",
       "                   KCl v=3 31-30 233.60569798423805\n",
       "                   KCl v=4 31-30 232.16300227817646\n",
       "                     SiO v=0 5-4          217.10498\n",
       "                     H30$\\alpha$         231.900928\n",
       "                $^{41}$KCl 31-30          232.49984\n",
       "            K$^{37}$Cl v=4 32-31 232.90755269258102\n",
       "                          PN 5-4         234.935663\n",
       "                   SiS v=1 13-12        234.8129678\n",
       "                   SiS v=0 13-12        235.9613634"
      ]
     },
     "execution_count": 7,
     "metadata": {},
     "output_type": "execute_result"
    }
   ],
   "source": [
    "tbl = Table([\n",
    "    Column(data=[texnames[x] for x in covered_lines], name='Line Name'),\n",
    "    Column(data=u.Quantity(list(covered_lines.values())), name='Frequency'),\n",
    "    \n",
    "])\n",
    "tbl"
   ]
  },
  {
   "cell_type": "code",
   "execution_count": 8,
   "id": "d796a71f-f22a-402a-bd84-eda684fba5a2",
   "metadata": {},
   "outputs": [],
   "source": [
    "from astroquery.splatalogue import Splatalogue"
   ]
  },
  {
   "cell_type": "code",
   "execution_count": 9,
   "id": "792ee71c-2e04-426b-8de6-dce50bf5e1cb",
   "metadata": {},
   "outputs": [
    {
     "data": {
      "text/html": [
       "<div><i>Table length=5</i>\n",
       "<table id=\"table47995385591792\" class=\"table-striped table-bordered table-condensed\">\n",
       "<thead><tr><th>Species</th><th>Chemical Name</th><th>Freq-GHz(rest frame,redshifted)</th><th>Freq Err(rest frame,redshifted)</th><th>Meas Freq-GHz(rest frame,redshifted)</th><th>Meas Freq Err(rest frame,redshifted)</th><th>Resolved QNs</th><th>CDMS/JPL Intensity</th><th>S&lt;sub&gt;ij&lt;/sub&gt;&amp;#956;&lt;sup&gt;2&lt;/sup&gt; (D&lt;sup&gt;2&lt;/sup&gt;)</th><th>S&lt;sub&gt;ij&lt;/sub&gt;</th><th>Log&lt;sub&gt;10&lt;/sub&gt; (A&lt;sub&gt;ij&lt;/sub&gt;)</th><th>Lovas/AST Intensity</th><th>E_L (cm^-1)</th><th>E_L (K)</th><th>E_U (cm^-1)</th><th>E_U (K)</th><th>Linelist</th></tr></thead>\n",
       "<thead><tr><th>str11</th><th>str8</th><th>float64</th><th>float64</th><th>float64</th><th>float64</th><th>str21</th><th>float64</th><th>float64</th><th>float64</th><th>float64</th><th>float64</th><th>float64</th><th>float64</th><th>float64</th><th>float64</th><th>str5</th></tr></thead>\n",
       "<tr><td>CH3OHvt=0-2</td><td>Methanol</td><td>218.44005</td><td>1.5e-05</td><td>218.44005</td><td>5e-05</td><td>4(2,2)-3(1,2)</td><td>-3.82059</td><td>3.4766</td><td>0.0</td><td>-4.32915</td><td>--</td><td>24.31</td><td>34.97647</td><td>31.59638</td><td>45.45988</td><td>SLAIM</td></tr>\n",
       "<tr><td>CH3OHvt=0-2</td><td>Methanol</td><td>218.44005</td><td>1.5e-05</td><td>--</td><td>--</td><td>4(2,2)-3(1,2)</td><td>0.0</td><td>0.0</td><td>0.0</td><td>0.0</td><td>1.7</td><td>0.0</td><td>0.0</td><td>0.0</td><td>0.0</td><td>Lovas</td></tr>\n",
       "<tr><td>CH3OH(OSU)</td><td>Methanol</td><td>--</td><td>--</td><td>218.44005098</td><td>1.3e-08</td><td>--</td><td>-0.0275</td><td>3.41722</td><td>0.0</td><td>0.0</td><td>--</td><td>26.725</td><td>38.45156</td><td>34.01138</td><td>48.9351</td><td>OSU</td></tr>\n",
       "<tr><td>CH3OHvt=0-2</td><td>Methanol</td><td>218.440063</td><td>1.3e-05</td><td>--</td><td>--</td><td>4(-2,3)-3(-1,2)E,vt=0</td><td>-3.9815</td><td>13.90508</td><td>0.0</td><td>-4.3292</td><td>--</td><td>24.3097</td><td>34.97603</td><td>31.59608</td><td>45.45944</td><td>CDMS</td></tr>\n",
       "<tr><td>CH3OHvt=0-2</td><td>Methanol</td><td>218.440063</td><td>1.3e-05</td><td>--</td><td>--</td><td>4(2)-3(1)E1vt=0</td><td>-3.9915</td><td>3.47652</td><td>0.0</td><td>-4.32917</td><td>--</td><td>24.31</td><td>34.97647</td><td>31.59638</td><td>45.45988</td><td>JPL</td></tr>\n",
       "</table></div>"
      ],
      "text/plain": [
       "<Table length=5>\n",
       "  Species   Chemical Name Freq-GHz(rest frame,redshifted) Freq Err(rest frame,redshifted) Meas Freq-GHz(rest frame,redshifted) Meas Freq Err(rest frame,redshifted) ... Lovas/AST Intensity E_L (cm^-1) E_L (K)  E_U (cm^-1) E_U (K)  Linelist\n",
       "   str11         str8                 float64                         float64                           float64                              float64                ...       float64         float64   float64    float64   float64    str5  \n",
       "----------- ------------- ------------------------------- ------------------------------- ------------------------------------ ------------------------------------ ... ------------------- ----------- -------- ----------- -------- --------\n",
       "CH3OHvt=0-2      Methanol                       218.44005                         1.5e-05                            218.44005                                5e-05 ...                  --       24.31 34.97647    31.59638 45.45988    SLAIM\n",
       "CH3OHvt=0-2      Methanol                       218.44005                         1.5e-05                                   --                                   -- ...                 1.7         0.0      0.0         0.0      0.0    Lovas\n",
       " CH3OH(OSU)      Methanol                              --                              --                         218.44005098                              1.3e-08 ...                  --      26.725 38.45156    34.01138  48.9351      OSU\n",
       "CH3OHvt=0-2      Methanol                      218.440063                         1.3e-05                                   --                                   -- ...                  --     24.3097 34.97603    31.59608 45.45944     CDMS\n",
       "CH3OHvt=0-2      Methanol                      218.440063                         1.3e-05                                   --                                   -- ...                  --       24.31 34.97647    31.59638 45.45988      JPL"
      ]
     },
     "execution_count": 9,
     "metadata": {},
     "output_type": "execute_result"
    }
   ],
   "source": [
    "Splatalogue.query_lines(218.44*u.GHz, 218.441*u.GHz, chemical_name='Methanol')"
   ]
  },
  {
   "cell_type": "code",
   "execution_count": 33,
   "id": "b355e7bc-3142-4655-8afa-e3ceaa6c085e",
   "metadata": {},
   "outputs": [],
   "source": [
    "with open('/orange/adamginsburg/salt/Orion_ALMA_2016.1.00165.S/analysis/salts_in_band.json', 'r') as fh:\n",
    "    saltdata = json.load(fh)"
   ]
  },
  {
   "cell_type": "code",
   "execution_count": 37,
   "id": "60356ddc-aefd-4413-b44a-656a8c03548d",
   "metadata": {},
   "outputs": [],
   "source": [
    "import numpy as np"
   ]
  },
  {
   "cell_type": "code",
   "execution_count": 41,
   "id": "0a3f76bf-d2fd-44d6-a908-6a21ba9b1950",
   "metadata": {},
   "outputs": [
    {
     "name": "stdout",
     "output_type": "stream",
     "text": [
      "Found match: KClv=4_29-28->39K-35Clv=4-4 J=29-28\n",
      "Found match: KClv=3_29-28->39K-35Clv=3-3 J=29-28\n",
      "Found match: KClv=3_31-30->39K-35Clv=3-3 J=31-30\n",
      "Found match: KClv=4_31-30->39K-35Clv=4-4 J=31-30\n",
      "Found match: K37Clv=4_J=32-31->39K-37Clv=4-4 J=32-31\n"
     ]
    },
    {
     "data": {
      "text/plain": [
       "{'KClv=4_29-28': 1733.213093745079,\n",
       " 'KClv=3_29-28': 1345.0583565643997,\n",
       " 'H2Ov2=1_5(5,0)-6(4,3)': 3461.9077,\n",
       " 'NaClv=1_18-17': 625.66682,\n",
       " 'NaClv=2_17-16': 1128.38157,\n",
       " 'SiSv=0_12-11': 67.95393,\n",
       " 'SiSv=1_12-11': 1138.75281,\n",
       " 'Si33S_13-12': 78.15831,\n",
       " 'SO65-54': 34.9847,\n",
       " 'H2CO303-202': 20.95582,\n",
       " 'CH3OH4-3': 1422.49402,\n",
       " 'C18O2-1': 15.80595,\n",
       " 'HNCO1010-99': 58.01936,\n",
       " '41KCl_29-28': 156.71134,\n",
       " 'HC3N_24-23': 1084.9938,\n",
       " 'KClv=3_31-30': 1367.1190419652214,\n",
       " 'KClv=4_31-30': 1755.1374506752938,\n",
       " 'SiOv=0_5-4': 31.25846,\n",
       " 'H30a': 0.0,\n",
       " '41KClv=0 31-30': 178.66825,\n",
       " 'K37Clv=4_J=32-31': 1739.1761050492405,\n",
       " 'PN5-4': 33.82614,\n",
       " 'SiSv=1_13-12': 865.39847,\n",
       " 'SiSv=0_13-12': 79.2782}"
      ]
     },
     "execution_count": 41,
     "metadata": {},
     "output_type": "execute_result"
    }
   ],
   "source": [
    "eu = {}\n",
    "namemap = {'H2O': 'Water',\n",
    "           'CH3OH': 'Methanol',\n",
    "           'H2CO': 'Formaldehyde',\n",
    "           'C18O': 'Carbon Monoxide',\n",
    "           'Si33S': 'Silicon monosulfide',\n",
    "           '41KCl': 'Potassium chloride',\n",
    "           'K37Cl': 'Potassium chloride',\n",
    "           'HC3N': 'HC3N',\n",
    "           'H30a': 'Hydrogen Recombination Line',\n",
    "          }\n",
    "for linename,freq in covered_lines.items():\n",
    "    #print(linename)\n",
    "    cname = texnames[linename].split()[0]\n",
    "    chemname = cname\n",
    "    for key in namemap:\n",
    "        if key in linename:\n",
    "            chemname = namemap[key]\n",
    "\n",
    "    #print(linename, cname, chemname)\n",
    "    qq = Splatalogue.query_lines(freq*0.9999, freq*1.0001, chemical_name=chemname)\n",
    "    #print(qq)\n",
    "    if len(qq) == 1:\n",
    "        eu[linename] = qq['E_U (K)'][0]\n",
    "    elif len(qq) > 1:\n",
    "        qq=qq[qq['E_U (K)'] > 0]\n",
    "        if len(qq) == 1:\n",
    "            eu[linename] = qq['E_U (K)'][0]\n",
    "        else:\n",
    "            for row in qq:\n",
    "                if chemname in row['Species'] or cname in row['Species'] or chemname in row['Chemical Name']:\n",
    "                    eu[linename] = row['E_U (K)']\n",
    "    if linename not in eu:\n",
    "        for key in saltdata:\n",
    "            sfrq,eu_,_,_,AA = saltdata[key]\n",
    "            if np.abs((freq - sfrq*u.GHz)/freq) < 1e-5:\n",
    "                print(f\"Found match: {linename}->{key}\")\n",
    "                eu[linename] = eu_\n",
    "\n",
    "eu"
   ]
  },
  {
   "cell_type": "code",
   "execution_count": 46,
   "id": "f2eeba67-5de7-4261-a4a9-6071c42f17d6",
   "metadata": {},
   "outputs": [
    {
     "data": {
      "text/html": [
       "<div><i>Table length=24</i>\n",
       "<table id=\"table47996167007344\" class=\"table-striped table-bordered table-condensed\">\n",
       "<thead><tr><th>Line Name</th><th>Frequency</th><th>E$_U$</th></tr></thead>\n",
       "<thead><tr><th></th><th>GHz</th><th>K</th></tr></thead>\n",
       "<thead><tr><th>str32</th><th>float64</th><th>float64</th></tr></thead>\n",
       "<tr><td>SiS v=1 12-11</td><td>216.7576028</td><td>1138.75281</td></tr>\n",
       "<tr><td>SiO v=0 5-4</td><td>217.10498</td><td>31.25846</td></tr>\n",
       "<tr><td>KCl v=4 29-28</td><td>217.22891175712175</td><td>1733.213093745079</td></tr>\n",
       "<tr><td>$^{41}$KCl 29-28</td><td>217.543178</td><td>156.71134</td></tr>\n",
       "<tr><td>SiS v=0 12-11</td><td>217.817644</td><td>67.95393</td></tr>\n",
       "<tr><td>NaCl v=2 17-16</td><td>217.979967</td><td>1128.38157</td></tr>\n",
       "<tr><td>H$_2$CO $3_{0,3}-2_{0,2}$</td><td>218.222192</td><td>20.95582</td></tr>\n",
       "<tr><td>HC$_3$N 24-23</td><td>218.324788</td><td>1084.9938</td></tr>\n",
       "<tr><td>CH$_3$OH $4_{2,2}-3_{1,2}$</td><td>218.440063</td><td>1422.49402</td></tr>\n",
       "<tr><td>KCl v=3 29-28</td><td>218.57970759934983</td><td>1345.0583565643997</td></tr>\n",
       "<tr><td>C$^{18}$O 2-1</td><td>219.5603541</td><td>15.80595</td></tr>\n",
       "<tr><td>HNCO $10_{10}-9_9$</td><td>219.798274</td><td>58.01936</td></tr>\n",
       "<tr><td>SO $6_5-5_4$</td><td>219.94944</td><td>34.9847</td></tr>\n",
       "<tr><td>H30$\\alpha$</td><td>231.900928</td><td>0.0</td></tr>\n",
       "<tr><td>KCl v=4 31-30</td><td>232.16300227817646</td><td>1755.1374506752938</td></tr>\n",
       "<tr><td>$^{41}$KCl 31-30</td><td>232.49984</td><td>178.66825</td></tr>\n",
       "<tr><td>NaCl v=1 18-17</td><td>232.50995</td><td>625.66682</td></tr>\n",
       "<tr><td>Si$^{33}$S 13-12</td><td>232.628545</td><td>78.15831</td></tr>\n",
       "<tr><td>H$_2$O v$_2$=1 $5_{5,0}-6_{4,3}$</td><td>232.6867</td><td>3461.9077</td></tr>\n",
       "<tr><td>K$^{37}$Cl v=4 32-31</td><td>232.90755269258102</td><td>1739.1761050492405</td></tr>\n",
       "<tr><td>KCl v=3 31-30</td><td>233.60569798423805</td><td>1367.1190419652214</td></tr>\n",
       "<tr><td>SiS v=1 13-12</td><td>234.8129678</td><td>865.39847</td></tr>\n",
       "<tr><td>PN 5-4</td><td>234.935663</td><td>33.82614</td></tr>\n",
       "<tr><td>SiS v=0 13-12</td><td>235.9613634</td><td>79.2782</td></tr>\n",
       "</table></div>"
      ],
      "text/plain": [
       "<Table length=24>\n",
       "           Line Name                 Frequency            E$_U$       \n",
       "                                        GHz                 K         \n",
       "             str32                    float64            float64      \n",
       "-------------------------------- ------------------ ------------------\n",
       "                   SiS v=1 12-11        216.7576028         1138.75281\n",
       "                     SiO v=0 5-4          217.10498           31.25846\n",
       "                   KCl v=4 29-28 217.22891175712175  1733.213093745079\n",
       "                $^{41}$KCl 29-28         217.543178          156.71134\n",
       "                   SiS v=0 12-11         217.817644           67.95393\n",
       "                  NaCl v=2 17-16         217.979967         1128.38157\n",
       "       H$_2$CO $3_{0,3}-2_{0,2}$         218.222192           20.95582\n",
       "                   HC$_3$N 24-23         218.324788          1084.9938\n",
       "      CH$_3$OH $4_{2,2}-3_{1,2}$         218.440063         1422.49402\n",
       "                   KCl v=3 29-28 218.57970759934983 1345.0583565643997\n",
       "                   C$^{18}$O 2-1        219.5603541           15.80595\n",
       "              HNCO $10_{10}-9_9$         219.798274           58.01936\n",
       "                    SO $6_5-5_4$          219.94944            34.9847\n",
       "                     H30$\\alpha$         231.900928                0.0\n",
       "                   KCl v=4 31-30 232.16300227817646 1755.1374506752938\n",
       "                $^{41}$KCl 31-30          232.49984          178.66825\n",
       "                  NaCl v=1 18-17          232.50995          625.66682\n",
       "                Si$^{33}$S 13-12         232.628545           78.15831\n",
       "H$_2$O v$_2$=1 $5_{5,0}-6_{4,3}$           232.6867          3461.9077\n",
       "            K$^{37}$Cl v=4 32-31 232.90755269258102 1739.1761050492405\n",
       "                   KCl v=3 31-30 233.60569798423805 1367.1190419652214\n",
       "                   SiS v=1 13-12        234.8129678          865.39847\n",
       "                          PN 5-4         234.935663           33.82614\n",
       "                   SiS v=0 13-12        235.9613634            79.2782"
      ]
     },
     "execution_count": 46,
     "metadata": {},
     "output_type": "execute_result"
    }
   ],
   "source": [
    "tbl = Table([\n",
    "    Column(data=[texnames[x] for x in covered_lines], name='Line Name'),\n",
    "    Column(data=u.Quantity(list(covered_lines.values())), name='Frequency'),\n",
    "    Column(data=u.Quantity([eu[ln] for ln in covered_lines], u.K), name='E$_U$'),\n",
    "])\n",
    "tbl.sort('Frequency')\n",
    "tbl"
   ]
  },
  {
   "cell_type": "code",
   "execution_count": 47,
   "id": "2f63edc6-5227-4736-857f-f76fe35979ae",
   "metadata": {},
   "outputs": [],
   "source": [
    "%run /orange/adamginsburg/salt/Orion_ALMA_2016.1.00165.S/analysis/latex_info.py"
   ]
  },
  {
   "cell_type": "code",
   "execution_count": 55,
   "id": "1f985db5-1ad6-4358-9501-70d763df4103",
   "metadata": {},
   "outputs": [
    {
     "name": "stderr",
     "output_type": "stream",
     "text": [
      "/scratch/local/42000842/ipykernel_14996/4202628191.py:16: UserWarning: Warning: converting a masked element to nan.\n",
      "  \"Frequency\": lambda x: f\"{float(x):0.6f}\",\n"
     ]
    },
    {
     "data": {
      "text/html": [
       "<div><i>Table length=24</i>\n",
       "<table id=\"table47996159220608\" class=\"table-striped table-bordered table-condensed\">\n",
       "<thead><tr><th>Line Name</th><th>Frequency</th><th>E$_U$</th></tr></thead>\n",
       "<thead><tr><th></th><th>GHz</th><th>K</th></tr></thead>\n",
       "<thead><tr><th>str32</th><th>float64</th><th>float64</th></tr></thead>\n",
       "<tr><td>SiS v=1 12-11</td><td>216.7576028</td><td>1138.75281</td></tr>\n",
       "<tr><td>SiO v=0 5-4</td><td>217.10498</td><td>31.25846</td></tr>\n",
       "<tr><td>KCl v=4 29-28</td><td>217.22891175712175</td><td>1733.213093745079</td></tr>\n",
       "<tr><td>$^{41}$KCl 29-28</td><td>217.543178</td><td>156.71134</td></tr>\n",
       "<tr><td>SiS v=0 12-11</td><td>217.817644</td><td>67.95393</td></tr>\n",
       "<tr><td>NaCl v=2 17-16</td><td>217.979967</td><td>1128.38157</td></tr>\n",
       "<tr><td>H$_2$CO $3_{0,3}-2_{0,2}$</td><td>218.222192</td><td>20.95582</td></tr>\n",
       "<tr><td>HC$_3$N 24-23</td><td>218.324788</td><td>1084.9938</td></tr>\n",
       "<tr><td>CH$_3$OH $4_{2,2}-3_{1,2}$</td><td>218.440063</td><td>1422.49402</td></tr>\n",
       "<tr><td>KCl v=3 29-28</td><td>218.57970759934983</td><td>1345.0583565643997</td></tr>\n",
       "<tr><td>C$^{18}$O 2-1</td><td>219.5603541</td><td>15.80595</td></tr>\n",
       "<tr><td>HNCO $10_{10}-9_9$</td><td>219.798274</td><td>58.01936</td></tr>\n",
       "<tr><td>SO $6_5-5_4$</td><td>219.94944</td><td>34.9847</td></tr>\n",
       "<tr><td>H30$\\alpha$</td><td>231.900928</td><td>0.0</td></tr>\n",
       "<tr><td>KCl v=4 31-30</td><td>232.16300227817646</td><td>1755.1374506752938</td></tr>\n",
       "<tr><td>$^{41}$KCl 31-30</td><td>232.49984</td><td>178.66825</td></tr>\n",
       "<tr><td>NaCl v=1 18-17</td><td>232.50995</td><td>625.66682</td></tr>\n",
       "<tr><td>Si$^{33}$S 13-12</td><td>232.628545</td><td>78.15831</td></tr>\n",
       "<tr><td>H$_2$O v$_2$=1 $5_{5,0}-6_{4,3}$</td><td>232.6867</td><td>3461.9077</td></tr>\n",
       "<tr><td>K$^{37}$Cl v=4 32-31</td><td>232.90755269258102</td><td>1739.1761050492405</td></tr>\n",
       "<tr><td>KCl v=3 31-30</td><td>233.60569798423805</td><td>1367.1190419652214</td></tr>\n",
       "<tr><td>SiS v=1 13-12</td><td>234.8129678</td><td>865.39847</td></tr>\n",
       "<tr><td>PN 5-4</td><td>234.935663</td><td>33.82614</td></tr>\n",
       "<tr><td>SiS v=0 13-12</td><td>235.9613634</td><td>79.2782</td></tr>\n",
       "</table></div>"
      ],
      "text/plain": [
       "<Table length=24>\n",
       "           Line Name                 Frequency            E$_U$       \n",
       "                                        GHz                 K         \n",
       "             str32                    float64            float64      \n",
       "-------------------------------- ------------------ ------------------\n",
       "                   SiS v=1 12-11        216.7576028         1138.75281\n",
       "                     SiO v=0 5-4          217.10498           31.25846\n",
       "                   KCl v=4 29-28 217.22891175712175  1733.213093745079\n",
       "                $^{41}$KCl 29-28         217.543178          156.71134\n",
       "                   SiS v=0 12-11         217.817644           67.95393\n",
       "                  NaCl v=2 17-16         217.979967         1128.38157\n",
       "       H$_2$CO $3_{0,3}-2_{0,2}$         218.222192           20.95582\n",
       "                   HC$_3$N 24-23         218.324788          1084.9938\n",
       "      CH$_3$OH $4_{2,2}-3_{1,2}$         218.440063         1422.49402\n",
       "                   KCl v=3 29-28 218.57970759934983 1345.0583565643997\n",
       "                   C$^{18}$O 2-1        219.5603541           15.80595\n",
       "              HNCO $10_{10}-9_9$         219.798274           58.01936\n",
       "                    SO $6_5-5_4$          219.94944            34.9847\n",
       "                     H30$\\alpha$         231.900928                0.0\n",
       "                   KCl v=4 31-30 232.16300227817646 1755.1374506752938\n",
       "                $^{41}$KCl 31-30          232.49984          178.66825\n",
       "                  NaCl v=1 18-17          232.50995          625.66682\n",
       "                Si$^{33}$S 13-12         232.628545           78.15831\n",
       "H$_2$O v$_2$=1 $5_{5,0}-6_{4,3}$           232.6867          3461.9077\n",
       "            K$^{37}$Cl v=4 32-31 232.90755269258102 1739.1761050492405\n",
       "                   KCl v=3 31-30 233.60569798423805 1367.1190419652214\n",
       "                   SiS v=1 13-12        234.8129678          865.39847\n",
       "                          PN 5-4         234.935663           33.82614\n",
       "                   SiS v=0 13-12        235.9613634            79.2782"
      ]
     },
     "execution_count": 55,
     "metadata": {},
     "output_type": "execute_result"
    }
   ],
   "source": [
    "latexdict = latexdict.copy()\n",
    "latexdict['preamble'] = '\\centering'\n",
    "latexdict['tablefoot'] = (r'''\n",
    "\\par\n",
    "Lines covered by one or more observations in this work.\n",
    "The frequency and upper state energy levels are pulled from Splatalogue and refer\n",
    "either to CDMS, SLAIM, or JPL values.\n",
    "For KCl v=3 and v=4 values, E$_U$ is drawn from the modified \n",
    "version of the \\citet{Barton2014} line list used in \\citet{Ginsburg2019}.\n",
    "\\caption{Lines}\n",
    "\\label{tab:lines}\n",
    "\n",
    "''')\n",
    "\n",
    "textbl=tbl.copy()\n",
    "\n",
    "formats = {\"E$_U$\": lambda x: f\"{float(x):0.2f}\" if x > 0 else '-',\n",
    "           \"Frequency\": lambda x: f\"{float(x):0.6f}\",\n",
    "          }\n",
    "\n",
    "textbl.write('linelist.tex', format='ascii.latex', formats=formats, latexdict=latexdict, overwrite=True)\n",
    "textbl"
   ]
  },
  {
   "cell_type": "code",
   "execution_count": 56,
   "id": "1fea1a3c-861b-4633-86de-76325ff2e59e",
   "metadata": {},
   "outputs": [
    {
     "name": "stdout",
     "output_type": "stream",
     "text": [
      "\\begin{table*}[htp]\n",
      "\\centering\n",
      "\\begin{tabular}{ccc}\n",
      "\\hline \\hline\n",
      "Line Name & Frequency & E$_U$ \\\\\n",
      " & $\\mathrm{GHz}$ & $\\mathrm{K}$ \\\\\n",
      "\\hline\n",
      "SiS v=1 12-11 & 216.757603 & 1138.75 \\\\\n",
      "SiO v=0 5-4 & 217.104980 & 31.26 \\\\\n",
      "KCl v=4 29-28 & 217.228912 & 1733.21 \\\\\n",
      "$^{41}$KCl 29-28 & 217.543178 & 156.71 \\\\\n",
      "SiS v=0 12-11 & 217.817644 & 67.95 \\\\\n",
      "NaCl v=2 17-16 & 217.979967 & 1128.38 \\\\\n",
      "H$_2$CO $3_{0,3}-2_{0,2}$ & 218.222192 & 20.96 \\\\\n",
      "HC$_3$N 24-23 & 218.324788 & 1084.99 \\\\\n",
      "CH$_3$OH $4_{2,2}-3_{1,2}$ & 218.440063 & 1422.49 \\\\\n",
      "KCl v=3 29-28 & 218.579708 & 1345.06 \\\\\n",
      "C$^{18}$O 2-1 & 219.560354 & 15.81 \\\\\n",
      "HNCO $10_{10}-9_9$ & 219.798274 & 58.02 \\\\\n",
      "SO $6_5-5_4$ & 219.949440 & 34.98 \\\\\n",
      "H30$\\alpha$ & 231.900928 & - \\\\\n",
      "KCl v=4 31-30 & 232.163002 & 1755.14 \\\\\n",
      "$^{41}$KCl 31-30 & 232.499840 & 178.67 \\\\\n",
      "NaCl v=1 18-17 & 232.509950 & 625.67 \\\\\n",
      "Si$^{33}$S 13-12 & 232.628545 & 78.16 \\\\\n",
      "H$_2$O v$_2$=1 $5_{5,0}-6_{4,3}$ & 232.686700 & 3461.91 \\\\\n",
      "K$^{37}$Cl v=4 32-31 & 232.907553 & 1739.18 \\\\\n",
      "KCl v=3 31-30 & 233.605698 & 1367.12 \\\\\n",
      "SiS v=1 13-12 & 234.812968 & 865.40 \\\\\n",
      "PN 5-4 & 234.935663 & 33.83 \\\\\n",
      "SiS v=0 13-12 & 235.961363 & 79.28 \\\\\n",
      "\\hline\n",
      "\\end{tabular}\n",
      "\n",
      "\\par\n",
      "\\label{tab:lines}\n",
      "Lines covered by one or more observations in this work.\n",
      "The frequency and upper state energy levels are pulled from Splatalogue and refer\n",
      "either to CDMS, SLAIM, or JPL values.\n",
      "For KCl v=3 and v=4 values, E$_U$ is drawn from the modified \n",
      "version of the \\citet{Barton2014} line list used in \\citet{Ginsburg2019}.\n",
      "\n",
      "\\end{table*}\n"
     ]
    }
   ],
   "source": [
    "cat linelist.tex"
   ]
  },
  {
   "cell_type": "code",
   "execution_count": null,
   "id": "bdebd18f-7ab8-4e49-9c8f-f34495e7253a",
   "metadata": {},
   "outputs": [],
   "source": []
  },
  {
   "cell_type": "code",
   "execution_count": null,
   "id": "1dbca7b0-9bb4-4ed8-a3f8-7c1cc5f8827c",
   "metadata": {},
   "outputs": [],
   "source": []
  },
  {
   "cell_type": "code",
   "execution_count": null,
   "id": "2be869c6-9e92-4819-86ca-f50755f4b2a5",
   "metadata": {},
   "outputs": [],
   "source": []
  }
 ],
 "metadata": {
  "kernelspec": {
   "display_name": "python39",
   "language": "python",
   "name": "python39"
  },
  "language_info": {
   "codemirror_mode": {
    "name": "ipython",
    "version": 3
   },
   "file_extension": ".py",
   "mimetype": "text/x-python",
   "name": "python",
   "nbconvert_exporter": "python",
   "pygments_lexer": "ipython3",
   "version": "3.9.13"
  }
 },
 "nbformat": 4,
 "nbformat_minor": 5
}
