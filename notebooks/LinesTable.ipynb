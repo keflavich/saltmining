{
 "cells": [
  {
   "cell_type": "markdown",
   "id": "cc3d606d-a07a-47b9-96a3-39045a2b642e",
   "metadata": {},
   "source": [
    "# Create linelist.tex\n",
    "\n"
   ]
  },
  {
   "cell_type": "code",
   "execution_count": 1,
   "id": "9a7ff7eb-4ff2-4dfa-9ab2-eff7bdbe26aa",
   "metadata": {},
   "outputs": [],
   "source": [
    "run ../Orion_ALMA_2016.1.00165.S/analysis/lines.py"
   ]
  },
  {
   "cell_type": "code",
   "execution_count": 2,
   "id": "bb76599e-b928-40b7-b905-e2163d37ae13",
   "metadata": {},
   "outputs": [],
   "source": [
    "assert 'K37Clv=1 29-28' in texnames"
   ]
  },
  {
   "cell_type": "code",
   "execution_count": 3,
   "id": "52b7c881-b74f-4157-ba28-d14c68b700d2",
   "metadata": {},
   "outputs": [
    {
     "name": "stderr",
     "output_type": "stream",
     "text": [
      "WARNING: Model is linear in parameters; consider using linear fitting methods. [astropy.modeling.fitting]\n",
      "WARNING: Model is linear in parameters; consider using linear fitting methods. [astropy.modeling.fitting]\n"
     ]
    },
    {
     "name": "stdout",
     "output_type": "stream",
     "text": [
      "bad lines: []  [] GHz\n"
     ]
    }
   ],
   "source": [
    "import sys\n",
    "sys.path.append('../code')\n",
    "from overplot_saltlines import all_lines, lines, salt_tables"
   ]
  },
  {
   "cell_type": "code",
   "execution_count": 4,
   "id": "d50d285f-6747-442a-ac01-83be5e081ba7",
   "metadata": {},
   "outputs": [
    {
     "name": "stdout",
     "output_type": "stream",
     "text": [
      "/orange/adamginsburg/salt/sanhueza\n"
     ]
    }
   ],
   "source": [
    "cd /orange/adamginsburg/salt/sanhueza"
   ]
  },
  {
   "cell_type": "code",
   "execution_count": 5,
   "id": "8bf46f4c-2e08-40a2-9329-84baf93dbdfb",
   "metadata": {},
   "outputs": [],
   "source": [
    "import json"
   ]
  },
  {
   "cell_type": "code",
   "execution_count": 6,
   "id": "8ded2f07-d529-4dbe-9863-4ecf2c85b597",
   "metadata": {},
   "outputs": [],
   "source": [
    "with open('freqcov.json', 'r') as fh:\n",
    "    freqcov = json.load(fh)"
   ]
  },
  {
   "cell_type": "raw",
   "id": "2e935b91-f2b2-4357-876a-b8f66f1728b5",
   "metadata": {},
   "source": [
    "freqcov = {'fake': [(215, 236)]}"
   ]
  },
  {
   "cell_type": "code",
   "execution_count": 7,
   "id": "81db3e6d-8ce6-4bd3-812a-5b618515697e",
   "metadata": {},
   "outputs": [],
   "source": [
    "covered_lines = {line: freq\n",
    "                 for line,freq in all_lines.items()\n",
    "                 if any((freq > fmin*u.GHz) and (freq < fmax*u.GHz)\n",
    "                        for fcov in freqcov.values()\n",
    "                        for fmin,fmax in fcov)}"
   ]
  },
  {
   "cell_type": "code",
   "execution_count": 8,
   "id": "dd452f6d-5c5c-4655-a1c2-c6d62a5e5b92",
   "metadata": {},
   "outputs": [
    {
     "data": {
      "text/plain": [
       "{'KClv=4_29-28': <Quantity 217.22891176 GHz>,\n",
       " 'KClv=3_29-28': <Quantity 218.5797076 GHz>,\n",
       " 'H2Ov2=1_5(5,0)-6(4,3)': <Quantity 232.6867 GHz>,\n",
       " 'NaClv=0_18-17': <Quantity 234.251912 GHz>,\n",
       " 'NaClv=1_18-17': <Quantity 232.50995 GHz>,\n",
       " 'NaClv=1_17-16': <Quantity 219.614936 GHz>,\n",
       " 'NaClv=2_17-16': <Quantity 217.979967 GHz>,\n",
       " 'SiSv=0_12-11': <Quantity 217.817644 GHz>,\n",
       " 'SiSv=1_12-11': <Quantity 216.7576028 GHz>,\n",
       " 'Si33S_13-12': <Quantity 232.628545 GHz>,\n",
       " 'SO65-54': <Quantity 219.94944 GHz>,\n",
       " 'H2CO303-202': <Quantity 218.222192 GHz>,\n",
       " 'CH3OH4-3': <Quantity 218.440063 GHz>,\n",
       " 'C18O2-1': <Quantity 219.5603541 GHz>,\n",
       " 'HNCO1010-99': <Quantity 219.798274 GHz>,\n",
       " '41KCl_29-28': <Quantity 217.543178 GHz>,\n",
       " 'HC3N_24-23': <Quantity 218.324788 GHz>,\n",
       " 'KClv=3_31-30': <Quantity 233.60569798 GHz>,\n",
       " 'KClv=4_31-30': <Quantity 232.16300228 GHz>,\n",
       " 'SiOv=0_5-4': <Quantity 217.10498 GHz>,\n",
       " 'H30a': <Quantity 231.900928 GHz>,\n",
       " 'C30a': <Quantity 232.01663203 GHz>,\n",
       " '41KClv=0 31-30': <Quantity 232.49984 GHz>,\n",
       " 'K37Clv=0 31-30': <Quantity 231.21883931 GHz>,\n",
       " 'KClv=2 31-30': <Quantity 235.05557839 GHz>,\n",
       " 'K37Clv=2 31-30': <Quantity 235.76823525 GHz>,\n",
       " 'K37Clv=2 30-29': <Quantity 221.07854315 GHz>,\n",
       " 'KClv=2 29-28': <Quantity 219.93611261 GHz>,\n",
       " '41KClv=1 31-30': <Quantity 231.08814962 GHz>,\n",
       " 'K37Clv=4_J=32-31': <Quantity 232.90755269 GHz>,\n",
       " 'PN5-4': <Quantity 234.935663 GHz>,\n",
       " 'PN5-4v=1': <Quantity 233.2718 GHz>,\n",
       " 'SiSv=1_13-12': <Quantity 234.8129678 GHz>,\n",
       " 'SiSv=0_13-12': <Quantity 235.9613634 GHz>}"
      ]
     },
     "execution_count": 8,
     "metadata": {},
     "output_type": "execute_result"
    }
   ],
   "source": [
    "covered_lines"
   ]
  },
  {
   "cell_type": "code",
   "execution_count": 9,
   "id": "d5d8bfd8-76af-4346-a38a-6110deb8156f",
   "metadata": {},
   "outputs": [
    {
     "data": {
      "text/latex": [
       "$13.035579 \\; \\mathrm{\\frac{km}{s}}$"
      ],
      "text/plain": [
       "<Quantity 13.03557869 km / s>"
      ]
     },
     "execution_count": 9,
     "metadata": {},
     "output_type": "execute_result"
    }
   ],
   "source": [
    "(232.49984*u.GHz).to(u.km/u.s, u.doppler_radio(232.50995*u.GHz))"
   ]
  },
  {
   "cell_type": "code",
   "execution_count": 10,
   "id": "9f6c58b0-1ca5-4cbb-a94a-075c57ef631b",
   "metadata": {},
   "outputs": [],
   "source": [
    "from astropy.table import Table, Column\n",
    "from astropy import units as u"
   ]
  },
  {
   "cell_type": "code",
   "execution_count": 11,
   "id": "111f5db5-5250-4834-a11e-76bb99d300a5",
   "metadata": {},
   "outputs": [
    {
     "data": {
      "text/html": [
       "<div><i>Table length=34</i>\n",
       "<table id=\"table46991384410864\" class=\"table-striped table-bordered table-condensed\">\n",
       "<thead><tr><th>Line Name</th><th>Frequency</th></tr></thead>\n",
       "<thead><tr><th></th><th>GHz</th></tr></thead>\n",
       "<thead><tr><th>str32</th><th>float64</th></tr></thead>\n",
       "<tr><td>KCl v=4 29-28</td><td>217.22891175712175</td></tr>\n",
       "<tr><td>KCl v=3 29-28</td><td>218.57970759934983</td></tr>\n",
       "<tr><td>H$_2$O v$_2$=1 $5_{5,0}-6_{4,3}$</td><td>232.6867</td></tr>\n",
       "<tr><td>NaCl v=0 18-17</td><td>234.251912</td></tr>\n",
       "<tr><td>NaCl v=1 18-17</td><td>232.50995</td></tr>\n",
       "<tr><td>NaCl v=1 17-16</td><td>219.614936</td></tr>\n",
       "<tr><td>NaCl v=2 17-16</td><td>217.979967</td></tr>\n",
       "<tr><td>SiS v=0 12-11</td><td>217.817644</td></tr>\n",
       "<tr><td>SiS v=1 12-11</td><td>216.7576028</td></tr>\n",
       "<tr><td>Si$^{33}$S 13-12</td><td>232.628545</td></tr>\n",
       "<tr><td>SO $6_5-5_4$</td><td>219.94944</td></tr>\n",
       "<tr><td>H$_2$CO $3_{0,3}-2_{0,2}$</td><td>218.222192</td></tr>\n",
       "<tr><td>CH$_3$OH $4_{2,2}-3_{1,2}$</td><td>218.440063</td></tr>\n",
       "<tr><td>C$^{18}$O 2-1</td><td>219.5603541</td></tr>\n",
       "<tr><td>HNCO $10_{10}-9_9$</td><td>219.798274</td></tr>\n",
       "<tr><td>$^{41}$KCl 29-28</td><td>217.543178</td></tr>\n",
       "<tr><td>HC$_3$N 24-23</td><td>218.324788</td></tr>\n",
       "<tr><td>KCl v=3 31-30</td><td>233.60569798423805</td></tr>\n",
       "<tr><td>KCl v=4 31-30</td><td>232.16300227817646</td></tr>\n",
       "<tr><td>SiO v=0 5-4</td><td>217.10498</td></tr>\n",
       "<tr><td>H30$\\alpha$</td><td>231.900928</td></tr>\n",
       "<tr><td>C30$\\alpha$</td><td>232.01663202617374</td></tr>\n",
       "<tr><td>$^{41}$KCl 31-30</td><td>232.49984</td></tr>\n",
       "<tr><td>K$^{37}$Cl 31-30</td><td>231.21883930648752</td></tr>\n",
       "<tr><td>KCl v=2 31-30</td><td>235.05557839444083</td></tr>\n",
       "<tr><td>K$^{37}$Cl v=2 31-30</td><td>235.76823524825613</td></tr>\n",
       "<tr><td>K$^{37}$Cl v=2 30-29</td><td>221.07854314878762</td></tr>\n",
       "<tr><td>KCl v=2 29-28</td><td>219.93611261476423</td></tr>\n",
       "<tr><td>$^{41}$KCl v=1 31-30</td><td>231.08814961918307</td></tr>\n",
       "<tr><td>K$^{37}$Cl v=4 32-31</td><td>232.90755269258102</td></tr>\n",
       "<tr><td>PN J=5-4</td><td>234.935663</td></tr>\n",
       "<tr><td>PN v=1 J=5-4</td><td>233.2718</td></tr>\n",
       "<tr><td>SiS v=1 13-12</td><td>234.8129678</td></tr>\n",
       "<tr><td>SiS v=0 13-12</td><td>235.9613634</td></tr>\n",
       "</table></div>"
      ],
      "text/plain": [
       "<Table length=34>\n",
       "           Line Name                 Frequency     \n",
       "                                        GHz        \n",
       "             str32                    float64      \n",
       "-------------------------------- ------------------\n",
       "                   KCl v=4 29-28 217.22891175712175\n",
       "                   KCl v=3 29-28 218.57970759934983\n",
       "H$_2$O v$_2$=1 $5_{5,0}-6_{4,3}$           232.6867\n",
       "                  NaCl v=0 18-17         234.251912\n",
       "                  NaCl v=1 18-17          232.50995\n",
       "                  NaCl v=1 17-16         219.614936\n",
       "                  NaCl v=2 17-16         217.979967\n",
       "                   SiS v=0 12-11         217.817644\n",
       "                   SiS v=1 12-11        216.7576028\n",
       "                Si$^{33}$S 13-12         232.628545\n",
       "                    SO $6_5-5_4$          219.94944\n",
       "       H$_2$CO $3_{0,3}-2_{0,2}$         218.222192\n",
       "      CH$_3$OH $4_{2,2}-3_{1,2}$         218.440063\n",
       "                   C$^{18}$O 2-1        219.5603541\n",
       "              HNCO $10_{10}-9_9$         219.798274\n",
       "                $^{41}$KCl 29-28         217.543178\n",
       "                   HC$_3$N 24-23         218.324788\n",
       "                   KCl v=3 31-30 233.60569798423805\n",
       "                   KCl v=4 31-30 232.16300227817646\n",
       "                     SiO v=0 5-4          217.10498\n",
       "                     H30$\\alpha$         231.900928\n",
       "                     C30$\\alpha$ 232.01663202617374\n",
       "                $^{41}$KCl 31-30          232.49984\n",
       "                K$^{37}$Cl 31-30 231.21883930648752\n",
       "                   KCl v=2 31-30 235.05557839444083\n",
       "            K$^{37}$Cl v=2 31-30 235.76823524825613\n",
       "            K$^{37}$Cl v=2 30-29 221.07854314878762\n",
       "                   KCl v=2 29-28 219.93611261476423\n",
       "            $^{41}$KCl v=1 31-30 231.08814961918307\n",
       "            K$^{37}$Cl v=4 32-31 232.90755269258102\n",
       "                        PN J=5-4         234.935663\n",
       "                    PN v=1 J=5-4           233.2718\n",
       "                   SiS v=1 13-12        234.8129678\n",
       "                   SiS v=0 13-12        235.9613634"
      ]
     },
     "execution_count": 11,
     "metadata": {},
     "output_type": "execute_result"
    }
   ],
   "source": [
    "tbl = Table([\n",
    "    Column(data=[texnames[x] for x in covered_lines], name='Line Name'),\n",
    "    Column(data=u.Quantity(list(covered_lines.values())), name='Frequency'),\n",
    "    \n",
    "])\n",
    "tbl"
   ]
  },
  {
   "cell_type": "code",
   "execution_count": 12,
   "id": "d796a71f-f22a-402a-bd84-eda684fba5a2",
   "metadata": {},
   "outputs": [],
   "source": [
    "from astroquery.splatalogue import Splatalogue"
   ]
  },
  {
   "cell_type": "code",
   "execution_count": 13,
   "id": "792ee71c-2e04-426b-8de6-dce50bf5e1cb",
   "metadata": {},
   "outputs": [
    {
     "data": {
      "text/html": [
       "<div><i>Table length=5</i>\n",
       "<table id=\"table46991191652816\" class=\"table-striped table-bordered table-condensed\">\n",
       "<thead><tr><th>Species</th><th>Chemical Name</th><th>Freq-GHz(rest frame,redshifted)</th><th>Freq Err(rest frame,redshifted)</th><th>Meas Freq-GHz(rest frame,redshifted)</th><th>Meas Freq Err(rest frame,redshifted)</th><th>Resolved QNs</th><th>CDMS/JPL Intensity</th><th>S&lt;sub&gt;ij&lt;/sub&gt;&amp;#956;&lt;sup&gt;2&lt;/sup&gt; (D&lt;sup&gt;2&lt;/sup&gt;)</th><th>S&lt;sub&gt;ij&lt;/sub&gt;</th><th>Log&lt;sub&gt;10&lt;/sub&gt; (A&lt;sub&gt;ij&lt;/sub&gt;)</th><th>Lovas/AST Intensity</th><th>E_L (cm^-1)</th><th>E_L (K)</th><th>E_U (cm^-1)</th><th>E_U (K)</th><th>Upper State Degeneracy</th><th>Linelist</th></tr></thead>\n",
       "<thead><tr><th>str11</th><th>str8</th><th>float64</th><th>float64</th><th>float64</th><th>float64</th><th>str21</th><th>float64</th><th>float64</th><th>float64</th><th>float64</th><th>float64</th><th>float64</th><th>float64</th><th>float64</th><th>float64</th><th>float64</th><th>str5</th></tr></thead>\n",
       "<tr><td>CH3OHvt=0-2</td><td>Methanol</td><td>218.44005</td><td>1.5e-05</td><td>218.44005</td><td>5e-05</td><td>4(2,2)-3(1,2)</td><td>-3.82059</td><td>3.4766</td><td>0.0</td><td>-4.32915</td><td>--</td><td>24.31</td><td>34.97647</td><td>31.59638</td><td>45.45988</td><td>9.0</td><td>SLAIM</td></tr>\n",
       "<tr><td>CH3OHvt=0-2</td><td>Methanol</td><td>218.44005</td><td>1.5e-05</td><td>--</td><td>--</td><td>4(2,2)-3(1,2)</td><td>0.0</td><td>0.0</td><td>0.0</td><td>0.0</td><td>1.7</td><td>0.0</td><td>0.0</td><td>0.0</td><td>0.0</td><td>0.0</td><td>Lovas</td></tr>\n",
       "<tr><td>CH3OH(OSU)</td><td>Methanol</td><td>--</td><td>--</td><td>218.44005098</td><td>1.3e-08</td><td>--</td><td>-0.0275</td><td>3.41722</td><td>0.0</td><td>0.0</td><td>--</td><td>26.725</td><td>38.45156</td><td>34.01138</td><td>48.9351</td><td>0.0</td><td>OSU</td></tr>\n",
       "<tr><td>CH3OHvt=0-2</td><td>Methanol</td><td>218.440063</td><td>1.3e-05</td><td>--</td><td>--</td><td>4(-2,3)-3(-1,2)E,vt=0</td><td>-3.9815</td><td>13.90508</td><td>0.0</td><td>-4.3292</td><td>--</td><td>24.3097</td><td>34.97603</td><td>31.59608</td><td>45.45944</td><td>36.0</td><td>CDMS</td></tr>\n",
       "<tr><td>CH3OHvt=0-2</td><td>Methanol</td><td>218.440063</td><td>1.3e-05</td><td>--</td><td>--</td><td>4(2)-3(1)E1vt=0</td><td>-3.9915</td><td>3.47652</td><td>0.0</td><td>-4.32917</td><td>--</td><td>24.31</td><td>34.97647</td><td>31.59638</td><td>45.45988</td><td>9.0</td><td>JPL</td></tr>\n",
       "</table></div>"
      ],
      "text/plain": [
       "<Table length=5>\n",
       "  Species   Chemical Name Freq-GHz(rest frame,redshifted) Freq Err(rest frame,redshifted) Meas Freq-GHz(rest frame,redshifted) Meas Freq Err(rest frame,redshifted)      Resolved QNs     CDMS/JPL Intensity ... Lovas/AST Intensity E_L (cm^-1) E_L (K)  E_U (cm^-1) E_U (K)  Upper State Degeneracy Linelist\n",
       "   str11         str8                 float64                         float64                           float64                              float64                        str21              float64       ...       float64         float64   float64    float64   float64         float64           str5  \n",
       "----------- ------------- ------------------------------- ------------------------------- ------------------------------------ ------------------------------------ --------------------- ------------------ ... ------------------- ----------- -------- ----------- -------- ---------------------- --------\n",
       "CH3OHvt=0-2      Methanol                       218.44005                         1.5e-05                            218.44005                                5e-05         4(2,2)-3(1,2)           -3.82059 ...                  --       24.31 34.97647    31.59638 45.45988                    9.0    SLAIM\n",
       "CH3OHvt=0-2      Methanol                       218.44005                         1.5e-05                                   --                                   --         4(2,2)-3(1,2)                0.0 ...                 1.7         0.0      0.0         0.0      0.0                    0.0    Lovas\n",
       " CH3OH(OSU)      Methanol                              --                              --                         218.44005098                              1.3e-08                    --            -0.0275 ...                  --      26.725 38.45156    34.01138  48.9351                    0.0      OSU\n",
       "CH3OHvt=0-2      Methanol                      218.440063                         1.3e-05                                   --                                   -- 4(-2,3)-3(-1,2)E,vt=0            -3.9815 ...                  --     24.3097 34.97603    31.59608 45.45944                   36.0     CDMS\n",
       "CH3OHvt=0-2      Methanol                      218.440063                         1.3e-05                                   --                                   --       4(2)-3(1)E1vt=0            -3.9915 ...                  --       24.31 34.97647    31.59638 45.45988                    9.0      JPL"
      ]
     },
     "execution_count": 13,
     "metadata": {},
     "output_type": "execute_result"
    }
   ],
   "source": [
    "Splatalogue.query_lines(218.44*u.GHz, 218.441*u.GHz, chemical_name='Methanol')"
   ]
  },
  {
   "cell_type": "code",
   "execution_count": 14,
   "id": "b355e7bc-3142-4655-8afa-e3ceaa6c085e",
   "metadata": {},
   "outputs": [],
   "source": [
    "with open('/orange/adamginsburg/salt/Orion_ALMA_2016.1.00165.S/analysis/salts_in_band.json', 'r') as fh:\n",
    "    saltdata = json.load(fh)"
   ]
  },
  {
   "cell_type": "code",
   "execution_count": 15,
   "id": "60356ddc-aefd-4413-b44a-656a8c03548d",
   "metadata": {},
   "outputs": [],
   "source": [
    "import numpy as np"
   ]
  },
  {
   "cell_type": "code",
   "execution_count": 16,
   "id": "0a3f76bf-d2fd-44d6-a908-6a21ba9b1950",
   "metadata": {},
   "outputs": [
    {
     "name": "stdout",
     "output_type": "stream",
     "text": [
      "Found match: KClv=4_29-28->39K-35Clv=4-4 J=29-28\n",
      "Found match: KClv=3_29-28->39K-35Clv=3-3 J=29-28\n",
      "Found match: KClv=3_31-30->39K-35Clv=3-3 J=31-30\n",
      "Found match: KClv=4_31-30->39K-35Clv=4-4 J=31-30\n",
      "Found match: K37Clv=4_J=32-31->39K-37Clv=4-4 J=32-31\n"
     ]
    },
    {
     "data": {
      "text/plain": [
       "{'KClv=4_29-28': 1733.213093745079,\n",
       " 'KClv=3_29-28': 1345.0583565643997,\n",
       " 'H2Ov2=1_5(5,0)-6(4,3)': 3461.9077,\n",
       " 'NaClv=0_18-17': 106.84843,\n",
       " 'NaClv=1_18-17': 625.66682,\n",
       " 'NaClv=1_17-16': 614.50754,\n",
       " 'NaClv=2_17-16': 1128.38157,\n",
       " 'SiSv=0_12-11': 67.95393,\n",
       " 'SiSv=1_12-11': 1138.75281,\n",
       " 'Si33S_13-12': 78.15831,\n",
       " 'SO65-54': 34.9847,\n",
       " 'H2CO303-202': 20.95582,\n",
       " 'CH3OH4-3': 1422.49402,\n",
       " 'C18O2-1': 15.80595,\n",
       " 'HNCO1010-99': 58.01936,\n",
       " '41KCl_29-28': 156.71134,\n",
       " 'HC3N_24-23': 1084.9938,\n",
       " 'KClv=3_31-30': 1367.1190419652214,\n",
       " 'KClv=4_31-30': 1755.1374506752938,\n",
       " 'SiOv=0_5-4': 31.25846,\n",
       " 'H30a': 0.0,\n",
       " 'C30a': 0.0,\n",
       " '41KClv=0 31-30': 178.66825,\n",
       " 'K37Clv=0 31-30': 177.68338,\n",
       " 'KClv=2 31-30': 687.15682,\n",
       " 'K37Clv=2 31-30': 970.52627,\n",
       " 'K37Clv=2 30-29': 948.24838,\n",
       " 'KClv=2 29-28': 671.38001,\n",
       " '41KClv=1 31-30': 572.24905,\n",
       " 'K37Clv=4_J=32-31': 1739.1761050492405,\n",
       " 'PN5-4': 33.82614,\n",
       " 'PN5-4v=1': 1937.30025,\n",
       " 'SiSv=1_13-12': 865.39847,\n",
       " 'SiSv=0_13-12': 79.2782}"
      ]
     },
     "execution_count": 16,
     "metadata": {},
     "output_type": "execute_result"
    }
   ],
   "source": [
    "eu = {}\n",
    "namemap = {'H2O': 'Water',\n",
    "           'CH3OH': 'Methanol',\n",
    "           'H2CO': 'Formaldehyde',\n",
    "           'C18O': 'Carbon Monoxide',\n",
    "           'Si33S': 'Silicon monosulfide',\n",
    "           '41KCl': 'Potassium chloride',\n",
    "           'K37Cl': 'Potassium chloride',\n",
    "           'HC3N': 'HC3N',\n",
    "           'H30a': 'Hydrogen Recombination Line',\n",
    "           'C30a': 'Carbon Recombination Line',\n",
    "          }\n",
    "for linename,freq in covered_lines.items():\n",
    "    #print(linename)\n",
    "    cname = texnames[linename].split()[0]\n",
    "    chemname = cname\n",
    "    for key in namemap:\n",
    "        if key in linename:\n",
    "            chemname = namemap[key]\n",
    "\n",
    "    #print(linename, cname, chemname)\n",
    "    qq = Splatalogue.query_lines(freq*0.9999, freq*1.0001, chemical_name=chemname)\n",
    "    #print(qq)\n",
    "    if len(qq) == 1:\n",
    "        eu[linename] = qq['E_U (K)'][0]\n",
    "    elif len(qq) > 1:\n",
    "        qq=qq[qq['E_U (K)'] > 0]\n",
    "        if len(qq) == 1:\n",
    "            eu[linename] = qq['E_U (K)'][0]\n",
    "        else:\n",
    "            for row in qq:\n",
    "                if chemname in row['Species'] or cname in row['Species'] or chemname in row['Chemical Name']:\n",
    "                    eu[linename] = row['E_U (K)']\n",
    "    if linename not in eu:\n",
    "        for key in saltdata:\n",
    "            sfrq,eu_,_,_,AA = saltdata[key]\n",
    "            if np.abs((freq - sfrq*u.GHz)/freq) < 1e-5:\n",
    "                print(f\"Found match: {linename}->{key}\")\n",
    "                eu[linename] = eu_\n",
    "\n",
    "eu"
   ]
  },
  {
   "cell_type": "code",
   "execution_count": 17,
   "id": "f2eeba67-5de7-4261-a4a9-6071c42f17d6",
   "metadata": {},
   "outputs": [
    {
     "data": {
      "text/html": [
       "<div><i>Table length=34</i>\n",
       "<table id=\"table46991191850528\" class=\"table-striped table-bordered table-condensed\">\n",
       "<thead><tr><th>Line Name</th><th>Frequency</th><th>E$_U$</th></tr></thead>\n",
       "<thead><tr><th></th><th>GHz</th><th>K</th></tr></thead>\n",
       "<thead><tr><th>str32</th><th>float64</th><th>float64</th></tr></thead>\n",
       "<tr><td>SiS v=1 12-11</td><td>216.7576028</td><td>1138.75281</td></tr>\n",
       "<tr><td>SiO v=0 5-4</td><td>217.10498</td><td>31.25846</td></tr>\n",
       "<tr><td>KCl v=4 29-28</td><td>217.22891175712175</td><td>1733.213093745079</td></tr>\n",
       "<tr><td>$^{41}$KCl 29-28</td><td>217.543178</td><td>156.71134</td></tr>\n",
       "<tr><td>SiS v=0 12-11</td><td>217.817644</td><td>67.95393</td></tr>\n",
       "<tr><td>NaCl v=2 17-16</td><td>217.979967</td><td>1128.38157</td></tr>\n",
       "<tr><td>H$_2$CO $3_{0,3}-2_{0,2}$</td><td>218.222192</td><td>20.95582</td></tr>\n",
       "<tr><td>HC$_3$N 24-23</td><td>218.324788</td><td>1084.9938</td></tr>\n",
       "<tr><td>CH$_3$OH $4_{2,2}-3_{1,2}$</td><td>218.440063</td><td>1422.49402</td></tr>\n",
       "<tr><td>KCl v=3 29-28</td><td>218.57970759934983</td><td>1345.0583565643997</td></tr>\n",
       "<tr><td>C$^{18}$O 2-1</td><td>219.5603541</td><td>15.80595</td></tr>\n",
       "<tr><td>NaCl v=1 17-16</td><td>219.614936</td><td>614.50754</td></tr>\n",
       "<tr><td>HNCO $10_{10}-9_9$</td><td>219.798274</td><td>58.01936</td></tr>\n",
       "<tr><td>KCl v=2 29-28</td><td>219.93611261476423</td><td>671.38001</td></tr>\n",
       "<tr><td>SO $6_5-5_4$</td><td>219.94944</td><td>34.9847</td></tr>\n",
       "<tr><td>K$^{37}$Cl v=2 30-29</td><td>221.07854314878762</td><td>948.24838</td></tr>\n",
       "<tr><td>$^{41}$KCl v=1 31-30</td><td>231.08814961918307</td><td>572.24905</td></tr>\n",
       "<tr><td>K$^{37}$Cl 31-30</td><td>231.21883930648752</td><td>177.68338</td></tr>\n",
       "<tr><td>H30$\\alpha$</td><td>231.900928</td><td>0.0</td></tr>\n",
       "<tr><td>C30$\\alpha$</td><td>232.01663202617374</td><td>0.0</td></tr>\n",
       "<tr><td>KCl v=4 31-30</td><td>232.16300227817646</td><td>1755.1374506752938</td></tr>\n",
       "<tr><td>$^{41}$KCl 31-30</td><td>232.49984</td><td>178.66825</td></tr>\n",
       "<tr><td>NaCl v=1 18-17</td><td>232.50995</td><td>625.66682</td></tr>\n",
       "<tr><td>Si$^{33}$S 13-12</td><td>232.628545</td><td>78.15831</td></tr>\n",
       "<tr><td>H$_2$O v$_2$=1 $5_{5,0}-6_{4,3}$</td><td>232.6867</td><td>3461.9077</td></tr>\n",
       "<tr><td>K$^{37}$Cl v=4 32-31</td><td>232.90755269258102</td><td>1739.1761050492405</td></tr>\n",
       "<tr><td>PN v=1 J=5-4</td><td>233.2718</td><td>1937.30025</td></tr>\n",
       "<tr><td>KCl v=3 31-30</td><td>233.60569798423805</td><td>1367.1190419652214</td></tr>\n",
       "<tr><td>NaCl v=0 18-17</td><td>234.251912</td><td>106.84843</td></tr>\n",
       "<tr><td>SiS v=1 13-12</td><td>234.8129678</td><td>865.39847</td></tr>\n",
       "<tr><td>PN J=5-4</td><td>234.935663</td><td>33.82614</td></tr>\n",
       "<tr><td>KCl v=2 31-30</td><td>235.05557839444083</td><td>687.15682</td></tr>\n",
       "<tr><td>K$^{37}$Cl v=2 31-30</td><td>235.76823524825613</td><td>970.52627</td></tr>\n",
       "<tr><td>SiS v=0 13-12</td><td>235.9613634</td><td>79.2782</td></tr>\n",
       "</table></div>"
      ],
      "text/plain": [
       "<Table length=34>\n",
       "           Line Name                 Frequency            E$_U$       \n",
       "                                        GHz                 K         \n",
       "             str32                    float64            float64      \n",
       "-------------------------------- ------------------ ------------------\n",
       "                   SiS v=1 12-11        216.7576028         1138.75281\n",
       "                     SiO v=0 5-4          217.10498           31.25846\n",
       "                   KCl v=4 29-28 217.22891175712175  1733.213093745079\n",
       "                $^{41}$KCl 29-28         217.543178          156.71134\n",
       "                   SiS v=0 12-11         217.817644           67.95393\n",
       "                  NaCl v=2 17-16         217.979967         1128.38157\n",
       "       H$_2$CO $3_{0,3}-2_{0,2}$         218.222192           20.95582\n",
       "                   HC$_3$N 24-23         218.324788          1084.9938\n",
       "      CH$_3$OH $4_{2,2}-3_{1,2}$         218.440063         1422.49402\n",
       "                   KCl v=3 29-28 218.57970759934983 1345.0583565643997\n",
       "                   C$^{18}$O 2-1        219.5603541           15.80595\n",
       "                  NaCl v=1 17-16         219.614936          614.50754\n",
       "              HNCO $10_{10}-9_9$         219.798274           58.01936\n",
       "                   KCl v=2 29-28 219.93611261476423          671.38001\n",
       "                    SO $6_5-5_4$          219.94944            34.9847\n",
       "            K$^{37}$Cl v=2 30-29 221.07854314878762          948.24838\n",
       "            $^{41}$KCl v=1 31-30 231.08814961918307          572.24905\n",
       "                K$^{37}$Cl 31-30 231.21883930648752          177.68338\n",
       "                     H30$\\alpha$         231.900928                0.0\n",
       "                     C30$\\alpha$ 232.01663202617374                0.0\n",
       "                   KCl v=4 31-30 232.16300227817646 1755.1374506752938\n",
       "                $^{41}$KCl 31-30          232.49984          178.66825\n",
       "                  NaCl v=1 18-17          232.50995          625.66682\n",
       "                Si$^{33}$S 13-12         232.628545           78.15831\n",
       "H$_2$O v$_2$=1 $5_{5,0}-6_{4,3}$           232.6867          3461.9077\n",
       "            K$^{37}$Cl v=4 32-31 232.90755269258102 1739.1761050492405\n",
       "                    PN v=1 J=5-4           233.2718         1937.30025\n",
       "                   KCl v=3 31-30 233.60569798423805 1367.1190419652214\n",
       "                  NaCl v=0 18-17         234.251912          106.84843\n",
       "                   SiS v=1 13-12        234.8129678          865.39847\n",
       "                        PN J=5-4         234.935663           33.82614\n",
       "                   KCl v=2 31-30 235.05557839444083          687.15682\n",
       "            K$^{37}$Cl v=2 31-30 235.76823524825613          970.52627\n",
       "                   SiS v=0 13-12        235.9613634            79.2782"
      ]
     },
     "execution_count": 17,
     "metadata": {},
     "output_type": "execute_result"
    }
   ],
   "source": [
    "tbl = Table([\n",
    "    Column(data=[texnames[x] for x in covered_lines], name='Line Name'),\n",
    "    Column(data=u.Quantity(list(covered_lines.values())), name='Frequency'),\n",
    "    Column(data=u.Quantity([eu[ln] for ln in covered_lines], u.K), name='E$_U$'),\n",
    "])\n",
    "tbl.sort('Frequency')\n",
    "tbl"
   ]
  },
  {
   "cell_type": "code",
   "execution_count": 18,
   "id": "2f63edc6-5227-4736-857f-f76fe35979ae",
   "metadata": {
    "tags": []
   },
   "outputs": [],
   "source": [
    "%run /orange/adamginsburg/salt/Orion_ALMA_2016.1.00165.S/analysis/latex_info.py"
   ]
  },
  {
   "cell_type": "code",
   "execution_count": 19,
   "id": "f0667aad-170a-4a9b-a476-eda310c9acf2",
   "metadata": {},
   "outputs": [
    {
     "data": {
      "text/plain": [
       "{'tabletype': 'table*',\n",
       " 'header_start': '\\\\hline \\\\hline',\n",
       " 'header_end': '\\\\hline',\n",
       " 'data_end': '\\\\hline',\n",
       " 'tablealign': 'htp'}"
      ]
     },
     "execution_count": 19,
     "metadata": {},
     "output_type": "execute_result"
    }
   ],
   "source": [
    "latexdict"
   ]
  },
  {
   "cell_type": "code",
   "execution_count": 20,
   "id": "1f985db5-1ad6-4358-9501-70d763df4103",
   "metadata": {},
   "outputs": [
    {
     "name": "stderr",
     "output_type": "stream",
     "text": [
      "Warning: converting a masked element to nan.\n"
     ]
    },
    {
     "data": {
      "text/html": [
       "<div><i>Table length=34</i>\n",
       "<table id=\"table46991191652240\" class=\"table-striped table-bordered table-condensed\">\n",
       "<thead><tr><th>Line Name</th><th>Frequency</th><th>E$_U$</th></tr></thead>\n",
       "<thead><tr><th></th><th>GHz</th><th>K</th></tr></thead>\n",
       "<thead><tr><th>str32</th><th>float64</th><th>float64</th></tr></thead>\n",
       "<tr><td>SiS v=1 12-11</td><td>216.7576028</td><td>1138.75281</td></tr>\n",
       "<tr><td>SiO v=0 5-4</td><td>217.10498</td><td>31.25846</td></tr>\n",
       "<tr><td>KCl v=4 29-28</td><td>217.22891175712175</td><td>1733.213093745079</td></tr>\n",
       "<tr><td>$^{41}$KCl 29-28</td><td>217.543178</td><td>156.71134</td></tr>\n",
       "<tr><td>SiS v=0 12-11</td><td>217.817644</td><td>67.95393</td></tr>\n",
       "<tr><td>NaCl v=2 17-16</td><td>217.979967</td><td>1128.38157</td></tr>\n",
       "<tr><td>H$_2$CO $3_{0,3}-2_{0,2}$</td><td>218.222192</td><td>20.95582</td></tr>\n",
       "<tr><td>HC$_3$N 24-23</td><td>218.324788</td><td>1084.9938</td></tr>\n",
       "<tr><td>CH$_3$OH $4_{2,2}-3_{1,2}$</td><td>218.440063</td><td>1422.49402</td></tr>\n",
       "<tr><td>KCl v=3 29-28</td><td>218.57970759934983</td><td>1345.0583565643997</td></tr>\n",
       "<tr><td>C$^{18}$O 2-1</td><td>219.5603541</td><td>15.80595</td></tr>\n",
       "<tr><td>NaCl v=1 17-16</td><td>219.614936</td><td>614.50754</td></tr>\n",
       "<tr><td>HNCO $10_{10}-9_9$</td><td>219.798274</td><td>58.01936</td></tr>\n",
       "<tr><td>KCl v=2 29-28</td><td>219.93611261476423</td><td>671.38001</td></tr>\n",
       "<tr><td>SO $6_5-5_4$</td><td>219.94944</td><td>34.9847</td></tr>\n",
       "<tr><td>K$^{37}$Cl v=2 30-29</td><td>221.07854314878762</td><td>948.24838</td></tr>\n",
       "<tr><td>$^{41}$KCl v=1 31-30</td><td>231.08814961918307</td><td>572.24905</td></tr>\n",
       "<tr><td>K$^{37}$Cl 31-30</td><td>231.21883930648752</td><td>177.68338</td></tr>\n",
       "<tr><td>H30$\\alpha$</td><td>231.900928</td><td>0.0</td></tr>\n",
       "<tr><td>C30$\\alpha$</td><td>232.01663202617374</td><td>0.0</td></tr>\n",
       "<tr><td>KCl v=4 31-30</td><td>232.16300227817646</td><td>1755.1374506752938</td></tr>\n",
       "<tr><td>$^{41}$KCl 31-30</td><td>232.49984</td><td>178.66825</td></tr>\n",
       "<tr><td>NaCl v=1 18-17</td><td>232.50995</td><td>625.66682</td></tr>\n",
       "<tr><td>Si$^{33}$S 13-12</td><td>232.628545</td><td>78.15831</td></tr>\n",
       "<tr><td>H$_2$O v$_2$=1 $5_{5,0}-6_{4,3}$</td><td>232.6867</td><td>3461.9077</td></tr>\n",
       "<tr><td>K$^{37}$Cl v=4 32-31</td><td>232.90755269258102</td><td>1739.1761050492405</td></tr>\n",
       "<tr><td>PN v=1 J=5-4</td><td>233.2718</td><td>1937.30025</td></tr>\n",
       "<tr><td>KCl v=3 31-30</td><td>233.60569798423805</td><td>1367.1190419652214</td></tr>\n",
       "<tr><td>NaCl v=0 18-17</td><td>234.251912</td><td>106.84843</td></tr>\n",
       "<tr><td>SiS v=1 13-12</td><td>234.8129678</td><td>865.39847</td></tr>\n",
       "<tr><td>PN J=5-4</td><td>234.935663</td><td>33.82614</td></tr>\n",
       "<tr><td>KCl v=2 31-30</td><td>235.05557839444083</td><td>687.15682</td></tr>\n",
       "<tr><td>K$^{37}$Cl v=2 31-30</td><td>235.76823524825613</td><td>970.52627</td></tr>\n",
       "<tr><td>SiS v=0 13-12</td><td>235.9613634</td><td>79.2782</td></tr>\n",
       "</table></div>"
      ],
      "text/plain": [
       "<Table length=34>\n",
       "           Line Name                 Frequency            E$_U$       \n",
       "                                        GHz                 K         \n",
       "             str32                    float64            float64      \n",
       "-------------------------------- ------------------ ------------------\n",
       "                   SiS v=1 12-11        216.7576028         1138.75281\n",
       "                     SiO v=0 5-4          217.10498           31.25846\n",
       "                   KCl v=4 29-28 217.22891175712175  1733.213093745079\n",
       "                $^{41}$KCl 29-28         217.543178          156.71134\n",
       "                   SiS v=0 12-11         217.817644           67.95393\n",
       "                  NaCl v=2 17-16         217.979967         1128.38157\n",
       "       H$_2$CO $3_{0,3}-2_{0,2}$         218.222192           20.95582\n",
       "                   HC$_3$N 24-23         218.324788          1084.9938\n",
       "      CH$_3$OH $4_{2,2}-3_{1,2}$         218.440063         1422.49402\n",
       "                   KCl v=3 29-28 218.57970759934983 1345.0583565643997\n",
       "                   C$^{18}$O 2-1        219.5603541           15.80595\n",
       "                  NaCl v=1 17-16         219.614936          614.50754\n",
       "              HNCO $10_{10}-9_9$         219.798274           58.01936\n",
       "                   KCl v=2 29-28 219.93611261476423          671.38001\n",
       "                    SO $6_5-5_4$          219.94944            34.9847\n",
       "            K$^{37}$Cl v=2 30-29 221.07854314878762          948.24838\n",
       "            $^{41}$KCl v=1 31-30 231.08814961918307          572.24905\n",
       "                K$^{37}$Cl 31-30 231.21883930648752          177.68338\n",
       "                     H30$\\alpha$         231.900928                0.0\n",
       "                     C30$\\alpha$ 232.01663202617374                0.0\n",
       "                   KCl v=4 31-30 232.16300227817646 1755.1374506752938\n",
       "                $^{41}$KCl 31-30          232.49984          178.66825\n",
       "                  NaCl v=1 18-17          232.50995          625.66682\n",
       "                Si$^{33}$S 13-12         232.628545           78.15831\n",
       "H$_2$O v$_2$=1 $5_{5,0}-6_{4,3}$           232.6867          3461.9077\n",
       "            K$^{37}$Cl v=4 32-31 232.90755269258102 1739.1761050492405\n",
       "                    PN v=1 J=5-4           233.2718         1937.30025\n",
       "                   KCl v=3 31-30 233.60569798423805 1367.1190419652214\n",
       "                  NaCl v=0 18-17         234.251912          106.84843\n",
       "                   SiS v=1 13-12        234.8129678          865.39847\n",
       "                        PN J=5-4         234.935663           33.82614\n",
       "                   KCl v=2 31-30 235.05557839444083          687.15682\n",
       "            K$^{37}$Cl v=2 31-30 235.76823524825613          970.52627\n",
       "                   SiS v=0 13-12        235.9613634            79.2782"
      ]
     },
     "execution_count": 20,
     "metadata": {},
     "output_type": "execute_result"
    }
   ],
   "source": [
    "latexdict = latexdict.copy()\n",
    "latexdict['tabletype'] = 'table'\n",
    "latexdict['preamble'] = r'''\\centering\n",
    "\\caption{Summary of spectroscopic lines used in this analysis}'''\n",
    "latexdict['tablefoot'] = (r'''\n",
    "\\par\n",
    "Lines covered by one or more observations in this work.\n",
    "The frequency and upper state energy levels are pulled from Splatalogue and refer\n",
    "either to CDMS, SLAIM, or JPL values.\n",
    "For KCl v=3 and v=4 values, E$_U$ is drawn from the modified \n",
    "version of the \\citet{Barton2014} line list used in \\citet{Ginsburg2019}.\n",
    "\\label{tab:lines}\n",
    "\n",
    "''')\n",
    "\n",
    "textbl=tbl.copy()\n",
    "\n",
    "formats = {\"E$_U$\": lambda x: f\"{float(x):0.2f}\" if x > 0 else '-',\n",
    "           \"Frequency\": lambda x: f\"{float(x):0.6f}\",\n",
    "          }\n",
    "\n",
    "textbl.write('linelist.tex', format='ascii.latex', formats=formats, latexdict=latexdict, overwrite=True)\n",
    "textbl"
   ]
  },
  {
   "cell_type": "code",
   "execution_count": 21,
   "id": "1fea1a3c-861b-4633-86de-76325ff2e59e",
   "metadata": {},
   "outputs": [
    {
     "name": "stdout",
     "output_type": "stream",
     "text": [
      "\\begin{table}[htp]\n",
      "\\centering\n",
      "\\caption{Summary of spectroscopic lines used in this analysis}\n",
      "\\begin{tabular}{ccc}\n",
      "\\hline \\hline\n",
      "Line Name & Frequency & E$_U$ \\\\\n",
      " & $\\mathrm{GHz}$ & $\\mathrm{K}$ \\\\\n",
      "\\hline\n",
      "SiS v=1 12-11 & 216.757603 & 1138.75 \\\\\n",
      "SiO v=0 5-4 & 217.104980 & 31.26 \\\\\n",
      "KCl v=4 29-28 & 217.228912 & 1733.21 \\\\\n",
      "$^{41}$KCl 29-28 & 217.543178 & 156.71 \\\\\n",
      "SiS v=0 12-11 & 217.817644 & 67.95 \\\\\n",
      "NaCl v=2 17-16 & 217.979967 & 1128.38 \\\\\n",
      "H$_2$CO $3_{0,3}-2_{0,2}$ & 218.222192 & 20.96 \\\\\n",
      "HC$_3$N 24-23 & 218.324788 & 1084.99 \\\\\n",
      "CH$_3$OH $4_{2,2}-3_{1,2}$ & 218.440063 & 1422.49 \\\\\n",
      "KCl v=3 29-28 & 218.579708 & 1345.06 \\\\\n",
      "C$^{18}$O 2-1 & 219.560354 & 15.81 \\\\\n",
      "NaCl v=1 17-16 & 219.614936 & 614.51 \\\\\n",
      "HNCO $10_{10}-9_9$ & 219.798274 & 58.02 \\\\\n",
      "KCl v=2 29-28 & 219.936113 & 671.38 \\\\\n",
      "SO $6_5-5_4$ & 219.949440 & 34.98 \\\\\n",
      "K$^{37}$Cl v=2 30-29 & 221.078543 & 948.25 \\\\\n",
      "$^{41}$KCl v=1 31-30 & 231.088150 & 572.25 \\\\\n",
      "K$^{37}$Cl 31-30 & 231.218839 & 177.68 \\\\\n",
      "H30$\\alpha$ & 231.900928 & - \\\\\n",
      "C30$\\alpha$ & 232.016632 & - \\\\\n",
      "KCl v=4 31-30 & 232.163002 & 1755.14 \\\\\n",
      "$^{41}$KCl 31-30 & 232.499840 & 178.67 \\\\\n",
      "NaCl v=1 18-17 & 232.509950 & 625.67 \\\\\n",
      "Si$^{33}$S 13-12 & 232.628545 & 78.16 \\\\\n",
      "H$_2$O v$_2$=1 $5_{5,0}-6_{4,3}$ & 232.686700 & 3461.91 \\\\\n",
      "K$^{37}$Cl v=4 32-31 & 232.907553 & 1739.18 \\\\\n",
      "PN v=1 J=5-4 & 233.271800 & 1937.30 \\\\\n",
      "KCl v=3 31-30 & 233.605698 & 1367.12 \\\\\n",
      "NaCl v=0 18-17 & 234.251912 & 106.85 \\\\\n",
      "SiS v=1 13-12 & 234.812968 & 865.40 \\\\\n",
      "PN J=5-4 & 234.935663 & 33.83 \\\\\n",
      "KCl v=2 31-30 & 235.055578 & 687.16 \\\\\n",
      "K$^{37}$Cl v=2 31-30 & 235.768235 & 970.53 \\\\\n",
      "SiS v=0 13-12 & 235.961363 & 79.28 \\\\\n",
      "\\hline\n",
      "\\end{tabular}\n",
      "\n",
      "\\par\n",
      "Lines covered by one or more observations in this work.\n",
      "The frequency and upper state energy levels are pulled from Splatalogue and refer\n",
      "either to CDMS, SLAIM, or JPL values.\n",
      "For KCl v=3 and v=4 values, E$_U$ is drawn from the modified \n",
      "version of the \\citet{Barton2014} line list used in \\citet{Ginsburg2019}.\n",
      "\\label{tab:lines}\n",
      "\n",
      "\n",
      "\\end{table}\n"
     ]
    }
   ],
   "source": [
    "cat linelist.tex"
   ]
  },
  {
   "cell_type": "code",
   "execution_count": null,
   "id": "bdebd18f-7ab8-4e49-9c8f-f34495e7253a",
   "metadata": {},
   "outputs": [],
   "source": []
  },
  {
   "cell_type": "code",
   "execution_count": null,
   "id": "1dbca7b0-9bb4-4ed8-a3f8-7c1cc5f8827c",
   "metadata": {},
   "outputs": [],
   "source": []
  },
  {
   "cell_type": "code",
   "execution_count": 22,
   "id": "70643e0d-045d-4898-81fa-af406501a2cb",
   "metadata": {},
   "outputs": [
    {
     "data": {
      "text/html": [
       "<div><i>Table length=588</i>\n",
       "<table id=\"table46991183059072\" class=\"table-striped table-bordered table-condensed\">\n",
       "<thead><tr><th>Iso</th><th>Ju</th><th>Jl</th><th>vu</th><th>vl</th><th>nuCalc</th><th>e_nuCalc</th><th>x_nuCalc</th><th>E_U</th><th>Aij</th><th>Freq</th><th>gu</th><th>gl</th><th>E_L</th><th>QNs</th><th>Species</th></tr></thead>\n",
       "<thead><tr><th></th><th></th><th></th><th></th><th></th><th></th><th></th><th></th><th>K</th><th>1 / s</th><th>GHz</th><th></th><th></th><th></th><th></th><th></th></tr></thead>\n",
       "<thead><tr><th>str2</th><th>int16</th><th>int16</th><th>uint8</th><th>uint8</th><th>float64</th><th>float64</th><th>str9</th><th>float64</th><th>float32</th><th>float64</th><th>int16</th><th>int16</th><th>float64</th><th>str15</th><th>str24</th></tr></thead>\n",
       "<tr><td>35</td><td>16</td><td>15</td><td>1</td><td>1</td><td>206716.09300</td><td>0.004000</td><td>MHz</td><td>604.00</td><td>0.004</td><td>206.71609</td><td>528</td><td>496</td><td>594.0791922251642</td><td>v=1-1 J=16-15</td><td>23Na-35Clv=1-1 J=16-15</td></tr>\n",
       "<tr><td>35</td><td>17</td><td>16</td><td>1</td><td>1</td><td>219614.93600</td><td>0.004000</td><td>MHz</td><td>614.50</td><td>0.005</td><td>219.61494</td><td>560</td><td>528</td><td>603.9601453959424</td><td>v=1-1 J=17-16</td><td>23Na-35Clv=1-1 J=17-16</td></tr>\n",
       "<tr><td>35</td><td>18</td><td>17</td><td>1</td><td>1</td><td>232509.97700</td><td>0.004000</td><td>MHz</td><td>625.70</td><td>0.006</td><td>232.50998</td><td>592</td><td>560</td><td>614.5412810339421</td><td>v=1-1 J=18-17</td><td>23Na-35Clv=1-1 J=18-17</td></tr>\n",
       "<tr><td>35</td><td>19</td><td>18</td><td>1</td><td>1</td><td>245400.99200</td><td>0.004000</td><td>MHz</td><td>637.50</td><td>0.007</td><td>245.40099</td><td>624</td><td>592</td><td>625.722609889468</td><td>v=1-1 J=19-18</td><td>23Na-35Clv=1-1 J=19-18</td></tr>\n",
       "<tr><td>35</td><td>20</td><td>19</td><td>1</td><td>1</td><td>258287.75600</td><td>0.004000</td><td>MHz</td><td>649.90</td><td>0.008</td><td>258.28776</td><td>656</td><td>624</td><td>637.5041427608169</td><td>v=1-1 J=20-19</td><td>23Na-35Clv=1-1 J=20-19</td></tr>\n",
       "<tr><td>35</td><td>21</td><td>20</td><td>1</td><td>1</td><td>271170.04700</td><td>0.004000</td><td>MHz</td><td>662.90</td><td>0.009</td><td>271.17005</td><td>688</td><td>656</td><td>649.8858903023086</td><td>v=1-1 J=21-20</td><td>23Na-35Clv=1-1 J=21-20</td></tr>\n",
       "<tr><td>35</td><td>22</td><td>21</td><td>1</td><td>1</td><td>284047.64100</td><td>0.004000</td><td>MHz</td><td>676.50</td><td>0.01</td><td>284.04764</td><td>720</td><td>688</td><td>662.8678632642474</td><td>v=1-1 J=22-21</td><td>23Na-35Clv=1-1 J=22-21</td></tr>\n",
       "<tr><td>35</td><td>23</td><td>22</td><td>1</td><td>1</td><td>296920.31300</td><td>0.004000</td><td>MHz</td><td>690.80</td><td>0.01</td><td>296.92031</td><td>752</td><td>720</td><td>676.5500724449302</td><td>v=1-1 J=23-22</td><td>23Na-35Clv=1-1 J=23-22</td></tr>\n",
       "<tr><td>35</td><td>24</td><td>23</td><td>1</td><td>1</td><td>309787.84000</td><td>0.004000</td><td>MHz</td><td>705.60</td><td>0.01</td><td>309.78784</td><td>784</td><td>752</td><td>690.7325285466692</td><td>v=1-1 J=24-23</td><td>23Na-35Clv=1-1 J=24-23</td></tr>\n",
       "<tr><td>35</td><td>25</td><td>24</td><td>1</td><td>1</td><td>322649.99800</td><td>0.004000</td><td>MHz</td><td>721.10</td><td>0.02</td><td>322.65000</td><td>816</td><td>784</td><td>705.6152423197688</td><td>v=1-1 J=25-24</td><td>23Na-35Clv=1-1 J=25-24</td></tr>\n",
       "<tr><td>35</td><td>26</td><td>25</td><td>1</td><td>1</td><td>335506.56300</td><td>0.004000</td><td>MHz</td><td>737.20</td><td>0.02</td><td>335.50656</td><td>848</td><td>816</td><td>721.0982245145335</td><td>v=1-1 J=26-25</td><td>23Na-35Clv=1-1 J=26-25</td></tr>\n",
       "<tr><td>35</td><td>27</td><td>26</td><td>1</td><td>1</td><td>348357.31100</td><td>0.004000</td><td>MHz</td><td>753.90</td><td>0.02</td><td>348.35731</td><td>880</td><td>848</td><td>737.1814858812677</td><td>v=1-1 J=27-26</td><td>23Na-35Clv=1-1 J=27-26</td></tr>\n",
       "<tr><td>35</td><td>28</td><td>27</td><td>1</td><td>1</td><td>361202.01900</td><td>0.004000</td><td>MHz</td><td>771.30</td><td>0.02</td><td>361.20202</td><td>912</td><td>880</td><td>753.9650371222835</td><td>v=1-1 J=28-27</td><td>23Na-35Clv=1-1 J=28-27</td></tr>\n",
       "<tr><td>35</td><td>29</td><td>28</td><td>1</td><td>1</td><td>374040.46300</td><td>0.004000</td><td>MHz</td><td>789.20</td><td>0.03</td><td>374.04046</td><td>944</td><td>912</td><td>771.2488889878856</td><td>v=1-1 J=29-28</td><td>23Na-35Clv=1-1 J=29-28</td></tr>\n",
       "<tr><td>35</td><td>30</td><td>29</td><td>1</td><td>1</td><td>386872.41800</td><td>0.004000</td><td>MHz</td><td>807.80</td><td>0.03</td><td>386.87242</td><td>976</td><td>944</td><td>789.2330522763706</td><td>v=1-1 J=30-29</td><td>23Na-35Clv=1-1 J=30-29</td></tr>\n",
       "<tr><td>35</td><td>31</td><td>30</td><td>1</td><td>1</td><td>399697.66100</td><td>0.004000</td><td>MHz</td><td>827.00</td><td>0.03</td><td>399.69766</td><td>1008</td><td>976</td><td>807.8175376900507</td><td>v=1-1 J=31-30</td><td>23Na-35Clv=1-1 J=31-30</td></tr>\n",
       "<tr><td>35</td><td>32</td><td>31</td><td>1</td><td>1</td><td>412515.96800</td><td>0.004000</td><td>MHz</td><td>846.80</td><td>0.03</td><td>412.51597</td><td>1040</td><td>1008</td><td>827.0023559792303</td><td>v=1-1 J=32-31</td><td>23Na-35Clv=1-1 J=32-31</td></tr>\n",
       "<tr><td>35</td><td>33</td><td>32</td><td>1</td><td>1</td><td>425327.11400</td><td>0.004000</td><td>MHz</td><td>867.20</td><td>0.04</td><td>425.32711</td><td>1072</td><td>1040</td><td>846.7875179422066</td><td>v=1-1 J=33-32</td><td>23Na-35Clv=1-1 J=33-32</td></tr>\n",
       "<tr><td>35</td><td>34</td><td>33</td><td>1</td><td>1</td><td>438130.87600</td><td>0.004000</td><td>MHz</td><td>888.20</td><td>0.04</td><td>438.13088</td><td>1104</td><td>1072</td><td>867.1730342812913</td><td>v=1-1 J=34-33</td><td>23Na-35Clv=1-1 J=34-33</td></tr>\n",
       "<tr><td>35</td><td>35</td><td>34</td><td>1</td><td>1</td><td>450927.03000</td><td>0.004000</td><td>MHz</td><td>909.90</td><td>0.04</td><td>450.92703</td><td>1136</td><td>1104</td><td>888.258915746789</td><td>v=1-1 J=35-34</td><td>23Na-35Clv=1-1 J=35-34</td></tr>\n",
       "<tr><td>35</td><td>36</td><td>35</td><td>1</td><td>1</td><td>463715.35200</td><td>0.004000</td><td>MHz</td><td>932.10</td><td>0.05</td><td>463.71535</td><td>1168</td><td>1136</td><td>909.8451730890042</td><td>v=1-1 J=36-35</td><td>23Na-35Clv=1-1 J=36-35</td></tr>\n",
       "<tr><td>35</td><td>37</td><td>36</td><td>1</td><td>1</td><td>476495.61700</td><td>0.004000</td><td>MHz</td><td>955.00</td><td>0.05</td><td>476.49562</td><td>1200</td><td>1168</td><td>932.1318171062338</td><td>v=1-1 J=37-36</td><td>23Na-35Clv=1-1 J=37-36</td></tr>\n",
       "<tr><td>35</td><td>38</td><td>37</td><td>1</td><td>1</td><td>489267.60200</td><td>0.004000</td><td>MHz</td><td>978.50</td><td>0.05</td><td>489.26760</td><td>1232</td><td>1200</td><td>955.01885850079</td><td>v=1-1 J=38-37</td><td>23Na-35Clv=1-1 J=38-37</td></tr>\n",
       "<tr><td>35</td><td>39</td><td>38</td><td>1</td><td>1</td><td>502031.08200</td><td>0.004000</td><td>MHz</td><td>1002.60</td><td>0.06</td><td>502.03108</td><td>1264</td><td>1232</td><td>978.5063080709696</td><td>v=1-1 J=39-38</td><td>23Na-35Clv=1-1 J=39-38</td></tr>\n",
       "<tr><td>35</td><td>40</td><td>39</td><td>1</td><td>1</td><td>514785.83400</td><td>0.004000</td><td>MHz</td><td>1027.30</td><td>0.06</td><td>514.78583</td><td>1296</td><td>1264</td><td>1002.5941765190844</td><td>v=1-1 J=40-39</td><td>23Na-35Clv=1-1 J=40-39</td></tr>\n",
       "<tr><td>35</td><td>41</td><td>40</td><td>1</td><td>1</td><td>527531.63300</td><td>0.004000</td><td>MHz</td><td>1052.60</td><td>0.07</td><td>527.53163</td><td>1328</td><td>1296</td><td>1027.2824746434317</td><td>v=1-1 J=41-40</td><td>23Na-35Clv=1-1 J=41-40</td></tr>\n",
       "<tr><td>35</td><td>42</td><td>41</td><td>1</td><td>1</td><td>540268.25400</td><td>0.004000</td><td>MHz</td><td>1078.50</td><td>0.08</td><td>540.26825</td><td>1360</td><td>1328</td><td>1052.5712132423084</td><td>v=1-1 J=42-41</td><td>23Na-35Clv=1-1 J=42-41</td></tr>\n",
       "<tr><td>35</td><td>43</td><td>42</td><td>1</td><td>1</td><td>552995.47500</td><td>0.004000</td><td>MHz</td><td>1105.10</td><td>0.08</td><td>552.99547</td><td>1392</td><td>1360</td><td>1078.5604029700337</td><td>v=1-1 J=43-42</td><td>23Na-35Clv=1-1 J=43-42</td></tr>\n",
       "<tr><td>35</td><td>44</td><td>43</td><td>1</td><td>1</td><td>565713.06900</td><td>0.004000</td><td>MHz</td><td>1132.20</td><td>0.09</td><td>565.71307</td><td>1424</td><td>1392</td><td>1105.05005472089</td><td>v=1-1 J=44-43</td><td>23Na-35Clv=1-1 J=44-43</td></tr>\n",
       "<tr><td>35</td><td>45</td><td>44</td><td>1</td><td>1</td><td>578420.81400</td><td>0.004000</td><td>MHz</td><td>1160.00</td><td>0.09</td><td>578.42081</td><td>1456</td><td>1424</td><td>1132.2401791491966</td><td>v=1-1 J=45-44</td><td>23Na-35Clv=1-1 J=45-44</td></tr>\n",
       "<tr><td>35</td><td>46</td><td>45</td><td>1</td><td>1</td><td>591118.48500</td><td>0.004000</td><td>MHz</td><td>1188.30</td><td>0.1</td><td>591.11848</td><td>1488</td><td>1456</td><td>1159.93078705325</td><td>v=1-1 J=46-45</td><td>23Na-35Clv=1-1 J=46-45</td></tr>\n",
       "<tr><td>35</td><td>47</td><td>46</td><td>1</td><td>1</td><td>603805.85800</td><td>0.004000</td><td>MHz</td><td>1217.30</td><td>0.1</td><td>603.80586</td><td>1520</td><td>1488</td><td>1188.3218891833556</td><td>v=1-1 J=47-46</td><td>23Na-35Clv=1-1 J=47-46</td></tr>\n",
       "<tr><td>...</td><td>...</td><td>...</td><td>...</td><td>...</td><td>...</td><td>...</td><td>...</td><td>...</td><td>...</td><td>...</td><td>...</td><td>...</td><td>...</td><td>...</td><td>...</td></tr>\n",
       "<tr><td>35</td><td>103</td><td>102</td><td>1</td><td>0</td><td>11611853.48111</td><td>0.000140</td><td>MHz</td><td>3791.80</td><td>0.6</td><td>11611.85348</td><td>3312</td><td>3280</td><td>3234.5189261183896</td><td>v=1-0 J=103-102</td><td>23Na-35Clv=1-0 J=103-102</td></tr>\n",
       "<tr><td>35</td><td>135</td><td>134</td><td>1</td><td>0</td><td>11612228.22168</td><td>0.000240</td><td>MHz</td><td>6065.10</td><td>0.6</td><td>11612.22822</td><td>4336</td><td>4304</td><td>5507.800941407421</td><td>v=1-0 J=135-134</td><td>23Na-35Clv=1-0 J=135-134</td></tr>\n",
       "<tr><td>35</td><td>104</td><td>103</td><td>1</td><td>0</td><td>11613707.39767</td><td>0.000140</td><td>MHz</td><td>3854.40</td><td>0.6</td><td>11613.70740</td><td>3344</td><td>3312</td><td>3297.0299521562847</td><td>v=1-0 J=104-103</td><td>23Na-35Clv=1-0 J=104-103</td></tr>\n",
       "<tr><td>35</td><td>134</td><td>133</td><td>1</td><td>0</td><td>11614082.73783</td><td>0.000230</td><td>MHz</td><td>5985.70</td><td>0.6</td><td>11614.08274</td><td>4304</td><td>4272</td><td>5428.311938669778</td><td>v=1-0 J=134-133</td><td>23Na-35Clv=1-0 J=134-133</td></tr>\n",
       "<tr><td>35</td><td>105</td><td>104</td><td>1</td><td>0</td><td>11615444.09538</td><td>0.000140</td><td>MHz</td><td>3917.40</td><td>0.6</td><td>11615.44410</td><td>3376</td><td>3344</td><td>3359.9466038117707</td><td>v=1-0 J=105-104</td><td>23Na-35Clv=1-0 J=105-104</td></tr>\n",
       "<tr><td>35</td><td>133</td><td>132</td><td>1</td><td>0</td><td>11615814.93865</td><td>0.000220</td><td>MHz</td><td>5906.90</td><td>0.6</td><td>11615.81494</td><td>4272</td><td>4240</td><td>5349.428806141796</td><td>v=1-0 J=133-132</td><td>23Na-35Clv=1-0 J=133-132</td></tr>\n",
       "<tr><td>35</td><td>106</td><td>105</td><td>1</td><td>0</td><td>11617063.27445</td><td>0.000140</td><td>MHz</td><td>3981.10</td><td>0.6</td><td>11617.06327</td><td>3408</td><td>3376</td><td>3423.568895472617</td><td>v=1-0 J=106-105</td><td>23Na-35Clv=1-0 J=106-105</td></tr>\n",
       "<tr><td>35</td><td>132</td><td>131</td><td>1</td><td>0</td><td>11617425.72353</td><td>0.000210</td><td>MHz</td><td>5828.60</td><td>0.6</td><td>11617.42572</td><td>4240</td><td>4208</td><td>5271.051500660168</td><td>v=1-0 J=132-131</td><td>23Na-35Clv=1-0 J=132-131</td></tr>\n",
       "<tr><td>35</td><td>107</td><td>106</td><td>1</td><td>0</td><td>11618564.93487</td><td>0.000150</td><td>MHz</td><td>4045.30</td><td>0.6</td><td>11618.56493</td><td>3440</td><td>3408</td><td>3487.6968271388228</td><td>v=1-0 J=107-106</td><td>23Na-35Clv=1-0 J=107-106</td></tr>\n",
       "<tr><td>35</td><td>131</td><td>130</td><td>1</td><td>0</td><td>11618914.79267</td><td>0.000210</td><td>MHz</td><td>5750.80</td><td>0.6</td><td>11618.91479</td><td>4208</td><td>4176</td><td>5193.180036612663</td><td>v=1-0 J=131-130</td><td>23Na-35Clv=1-0 J=131-130</td></tr>\n",
       "<tr><td>35</td><td>108</td><td>107</td><td>1</td><td>0</td><td>11619948.77685</td><td>0.000150</td><td>MHz</td><td>4110.00</td><td>0.6</td><td>11619.94878</td><td>3472</td><td>3440</td><td>3552.330413198157</td><td>v=1-0 J=108-107</td><td>23Na-35Clv=1-0 J=108-107</td></tr>\n",
       "<tr><td>35</td><td>130</td><td>129</td><td>1</td><td>0</td><td>11620282.44586</td><td>0.000200</td><td>MHz</td><td>5673.50</td><td>0.6</td><td>11620.28245</td><td>4176</td><td>4144</td><td>5115.81439961151</td><td>v=1-0 J=130-129</td><td>23Na-35Clv=1-0 J=130-129</td></tr>\n",
       "<tr><td>35</td><td>109</td><td>108</td><td>1</td><td>0</td><td>11621214.50061</td><td>0.000150</td><td>MHz</td><td>4175.40</td><td>0.6</td><td>11621.21450</td><td>3504</td><td>3472</td><td>3617.6696680383884</td><td>v=1-0 J=109-108</td><td>23Na-35Clv=1-0 J=109-108</td></tr>\n",
       "<tr><td>35</td><td>129</td><td>128</td><td>1</td><td>0</td><td>11621528.68311</td><td>0.000200</td><td>MHz</td><td>5596.80</td><td>0.6</td><td>11621.52868</td><td>4144</td><td>4112</td><td>5039.054589656713</td><td>v=1-0 J=129-128</td><td>23Na-35Clv=1-0 J=129-128</td></tr>\n",
       "<tr><td>35</td><td>110</td><td>109</td><td>1</td><td>0</td><td>11622362.40593</td><td>0.000150</td><td>MHz</td><td>4241.20</td><td>0.6</td><td>11622.36241</td><td>3536</td><td>3504</td><td>3683.4145772717493</td><td>v=1-0 J=110-109</td><td>23Na-35Clv=1-0 J=110-109</td></tr>\n",
       "<tr><td>35</td><td>128</td><td>127</td><td>1</td><td>0</td><td>11622654.10399</td><td>0.000190</td><td>MHz</td><td>5520.60</td><td>0.6</td><td>11622.65410</td><td>4112</td><td>4080</td><td>4962.800577972732</td><td>v=1-0 J=128-127</td><td>23Na-35Clv=1-0 J=128-127</td></tr>\n",
       "<tr><td>35</td><td>111</td><td>110</td><td>1</td><td>0</td><td>11623392.19303</td><td>0.000150</td><td>MHz</td><td>4307.70</td><td>0.6</td><td>11623.39219</td><td>3568</td><td>3536</td><td>3749.865155286007</td><td>v=1-0 J=111-110</td><td>23Na-35Clv=1-0 J=111-110</td></tr>\n",
       "<tr><td>35</td><td>127</td><td>126</td><td>1</td><td>0</td><td>11623658.40873</td><td>0.000190</td><td>MHz</td><td>5444.90</td><td>0.6</td><td>11623.65841</td><td>4080</td><td>4048</td><td>4887.052378947335</td><td>v=1-0 J=127-126</td><td>23Na-35Clv=1-0 J=127-126</td></tr>\n",
       "<tr><td>35</td><td>112</td><td>111</td><td>1</td><td>0</td><td>11624303.26231</td><td>0.000150</td><td>MHz</td><td>4374.60</td><td>0.6</td><td>11624.30326</td><td>3600</td><td>3568</td><td>3816.7214308567</td><td>v=1-0 J=112-111</td><td>23Na-35Clv=1-0 J=112-111</td></tr>\n",
       "<tr><td>35</td><td>126</td><td>125</td><td>1</td><td>0</td><td>11624541.59731</td><td>0.000180</td><td>MHz</td><td>5369.80</td><td>0.6</td><td>11624.54160</td><td>4048</td><td>4016</td><td>4811.909992580524</td><td>v=1-0 J=126-125</td><td>23Na-35Clv=1-0 J=126-125</td></tr>\n",
       "<tr><td>35</td><td>113</td><td>112</td><td>1</td><td>0</td><td>11625096.21336</td><td>0.000150</td><td>MHz</td><td>4442.20</td><td>0.6</td><td>11625.09621</td><td>3632</td><td>3600</td><td>3884.2833752082893</td><td>v=1-0 J=113-112</td><td>23Na-35Clv=1-0 J=113-112</td></tr>\n",
       "<tr><td>35</td><td>125</td><td>124</td><td>1</td><td>0</td><td>11625304.26932</td><td>0.000180</td><td>MHz</td><td>5295.20</td><td>0.6</td><td>11625.30427</td><td>4016</td><td>3984</td><td>4737.27339009676</td><td>v=1-0 J=125-124</td><td>23Na-35Clv=1-0 J=125-124</td></tr>\n",
       "<tr><td>35</td><td>114</td><td>113</td><td>1</td><td>0</td><td>11625770.14680</td><td>0.000150</td><td>MHz</td><td>4510.30</td><td>0.6</td><td>11625.77015</td><td>3664</td><td>3632</td><td>3952.3510315040835</td><td>v=1-0 J=114-113</td><td>23Na-35Clv=1-0 J=114-113</td></tr>\n",
       "<tr><td>35</td><td>124</td><td>123</td><td>1</td><td>0</td><td>11625946.42477</td><td>0.000170</td><td>MHz</td><td>5221.20</td><td>0.6</td><td>11625.94642</td><td>3984</td><td>3952</td><td>4663.242571496044</td><td>v=1-0 J=124-123</td><td>23Na-35Clv=1-0 J=124-123</td></tr>\n",
       "<tr><td>35</td><td>115</td><td>114</td><td>1</td><td>0</td><td>11626325.06264</td><td>0.000150</td><td>MHz</td><td>4578.90</td><td>0.6</td><td>11626.32506</td><td>3696</td><td>3664</td><td>4020.9243997440803</td><td>v=1-0 J=115-114</td><td>23Na-35Clv=1-0 J=115-114</td></tr>\n",
       "<tr><td>35</td><td>123</td><td>122</td><td>1</td><td>0</td><td>11626468.06365</td><td>0.000170</td><td>MHz</td><td>5147.60</td><td>0.6</td><td>11626.46806</td><td>3952</td><td>3920</td><td>4589.617536778375</td><td>v=1-0 J=123-122</td><td>23Na-35Clv=1-0 J=123-122</td></tr>\n",
       "<tr><td>35</td><td>116</td><td>115</td><td>1</td><td>0</td><td>11626761.26067</td><td>0.000150</td><td>MHz</td><td>4648.10</td><td>0.6</td><td>11626.76126</td><td>3728</td><td>3696</td><td>4090.1034655405138</td><td>v=1-0 J=116-115</td><td>23Na-35Clv=1-0 J=116-115</td></tr>\n",
       "<tr><td>35</td><td>122</td><td>121</td><td>1</td><td>0</td><td>11626869.48575</td><td>0.000170</td><td>MHz</td><td>5074.60</td><td>0.6</td><td>11626.86949</td><td>3920</td><td>3888</td><td>4516.598271555986</td><td>v=1-0 J=122-121</td><td>23Na-35Clv=1-0 J=122-121</td></tr>\n",
       "<tr><td>35</td><td>117</td><td>116</td><td>1</td><td>0</td><td>11627078.14130</td><td>0.000160</td><td>MHz</td><td>4717.80</td><td>0.6</td><td>11627.07814</td><td>3760</td><td>3728</td><td>4159.788257668918</td><td>v=1-0 J=117-116</td><td>23Na-35Clv=1-0 J=117-116</td></tr>\n",
       "<tr><td>35</td><td>121</td><td>120</td><td>1</td><td>0</td><td>11627150.99086</td><td>0.000160</td><td>MHz</td><td>5002.20</td><td>0.6</td><td>11627.15099</td><td>3888</td><td>3856</td><td>4444.184761441105</td><td>v=1-0 J=121-120</td><td>23Na-35Clv=1-0 J=121-120</td></tr>\n",
       "<tr><td>35</td><td>118</td><td>117</td><td>1</td><td>0</td><td>11627275.70453</td><td>0.000160</td><td>MHz</td><td>4788.10</td><td>0.6</td><td>11627.27570</td><td>3792</td><td>3760</td><td>4230.078776129296</td><td>v=1-0 J=118-117</td><td>23Na-35Clv=1-0 J=118-117</td></tr>\n",
       "<tr><td>35</td><td>120</td><td>119</td><td>1</td><td>0</td><td>11627312.27921</td><td>0.000160</td><td>MHz</td><td>4930.30</td><td>0.6</td><td>11627.31228</td><td>3856</td><td>3824</td><td>4372.277020821505</td><td>v=1-0 J=120-119</td><td>23Na-35Clv=1-0 J=120-119</td></tr>\n",
       "<tr><td>35</td><td>119</td><td>118</td><td>1</td><td>0</td><td>11627353.95036</td><td>0.000160</td><td>MHz</td><td>4858.90</td><td>0.6</td><td>11627.35395</td><td>3824</td><td>3792</td><td>4300.875020921644</td><td>v=1-0 J=119-118</td><td>23Na-35Clv=1-0 J=119-118</td></tr>\n",
       "</table></div>"
      ],
      "text/plain": [
       "<Table length=588>\n",
       "Iso    Ju    Jl    vu    vl      nuCalc      e_nuCalc x_nuCalc   E_U      Aij         Freq       gu    gl         E_L               QNs               Species         \n",
       "                                                                  K      1 / s        GHz                                                                             \n",
       "str2 int16 int16 uint8 uint8    float64      float64    str9   float64  float32     float64    int16 int16      float64            str15               str24          \n",
       "---- ----- ----- ----- ----- -------------- --------- -------- -------- -------- ------------- ----- ----- ------------------ --------------- ------------------------\n",
       "  35    16    15     1     1   206716.09300  0.004000      MHz   604.00    0.004     206.71609   528   496  594.0791922251642   v=1-1 J=16-15   23Na-35Clv=1-1 J=16-15\n",
       "  35    17    16     1     1   219614.93600  0.004000      MHz   614.50    0.005     219.61494   560   528  603.9601453959424   v=1-1 J=17-16   23Na-35Clv=1-1 J=17-16\n",
       "  35    18    17     1     1   232509.97700  0.004000      MHz   625.70    0.006     232.50998   592   560  614.5412810339421   v=1-1 J=18-17   23Na-35Clv=1-1 J=18-17\n",
       "  35    19    18     1     1   245400.99200  0.004000      MHz   637.50    0.007     245.40099   624   592   625.722609889468   v=1-1 J=19-18   23Na-35Clv=1-1 J=19-18\n",
       "  35    20    19     1     1   258287.75600  0.004000      MHz   649.90    0.008     258.28776   656   624  637.5041427608169   v=1-1 J=20-19   23Na-35Clv=1-1 J=20-19\n",
       "  35    21    20     1     1   271170.04700  0.004000      MHz   662.90    0.009     271.17005   688   656  649.8858903023086   v=1-1 J=21-20   23Na-35Clv=1-1 J=21-20\n",
       "  35    22    21     1     1   284047.64100  0.004000      MHz   676.50     0.01     284.04764   720   688  662.8678632642474   v=1-1 J=22-21   23Na-35Clv=1-1 J=22-21\n",
       "  35    23    22     1     1   296920.31300  0.004000      MHz   690.80     0.01     296.92031   752   720  676.5500724449302   v=1-1 J=23-22   23Na-35Clv=1-1 J=23-22\n",
       "  35    24    23     1     1   309787.84000  0.004000      MHz   705.60     0.01     309.78784   784   752  690.7325285466692   v=1-1 J=24-23   23Na-35Clv=1-1 J=24-23\n",
       "  35    25    24     1     1   322649.99800  0.004000      MHz   721.10     0.02     322.65000   816   784  705.6152423197688   v=1-1 J=25-24   23Na-35Clv=1-1 J=25-24\n",
       "  35    26    25     1     1   335506.56300  0.004000      MHz   737.20     0.02     335.50656   848   816  721.0982245145335   v=1-1 J=26-25   23Na-35Clv=1-1 J=26-25\n",
       "  35    27    26     1     1   348357.31100  0.004000      MHz   753.90     0.02     348.35731   880   848  737.1814858812677   v=1-1 J=27-26   23Na-35Clv=1-1 J=27-26\n",
       "  35    28    27     1     1   361202.01900  0.004000      MHz   771.30     0.02     361.20202   912   880  753.9650371222835   v=1-1 J=28-27   23Na-35Clv=1-1 J=28-27\n",
       "  35    29    28     1     1   374040.46300  0.004000      MHz   789.20     0.03     374.04046   944   912  771.2488889878856   v=1-1 J=29-28   23Na-35Clv=1-1 J=29-28\n",
       "  35    30    29     1     1   386872.41800  0.004000      MHz   807.80     0.03     386.87242   976   944  789.2330522763706   v=1-1 J=30-29   23Na-35Clv=1-1 J=30-29\n",
       "  35    31    30     1     1   399697.66100  0.004000      MHz   827.00     0.03     399.69766  1008   976  807.8175376900507   v=1-1 J=31-30   23Na-35Clv=1-1 J=31-30\n",
       "  35    32    31     1     1   412515.96800  0.004000      MHz   846.80     0.03     412.51597  1040  1008  827.0023559792303   v=1-1 J=32-31   23Na-35Clv=1-1 J=32-31\n",
       "  35    33    32     1     1   425327.11400  0.004000      MHz   867.20     0.04     425.32711  1072  1040  846.7875179422066   v=1-1 J=33-32   23Na-35Clv=1-1 J=33-32\n",
       "  35    34    33     1     1   438130.87600  0.004000      MHz   888.20     0.04     438.13088  1104  1072  867.1730342812913   v=1-1 J=34-33   23Na-35Clv=1-1 J=34-33\n",
       "  35    35    34     1     1   450927.03000  0.004000      MHz   909.90     0.04     450.92703  1136  1104   888.258915746789   v=1-1 J=35-34   23Na-35Clv=1-1 J=35-34\n",
       "  35    36    35     1     1   463715.35200  0.004000      MHz   932.10     0.05     463.71535  1168  1136  909.8451730890042   v=1-1 J=36-35   23Na-35Clv=1-1 J=36-35\n",
       "  35    37    36     1     1   476495.61700  0.004000      MHz   955.00     0.05     476.49562  1200  1168  932.1318171062338   v=1-1 J=37-36   23Na-35Clv=1-1 J=37-36\n",
       "  35    38    37     1     1   489267.60200  0.004000      MHz   978.50     0.05     489.26760  1232  1200    955.01885850079   v=1-1 J=38-37   23Na-35Clv=1-1 J=38-37\n",
       "  35    39    38     1     1   502031.08200  0.004000      MHz  1002.60     0.06     502.03108  1264  1232  978.5063080709696   v=1-1 J=39-38   23Na-35Clv=1-1 J=39-38\n",
       "  35    40    39     1     1   514785.83400  0.004000      MHz  1027.30     0.06     514.78583  1296  1264 1002.5941765190844   v=1-1 J=40-39   23Na-35Clv=1-1 J=40-39\n",
       "  35    41    40     1     1   527531.63300  0.004000      MHz  1052.60     0.07     527.53163  1328  1296 1027.2824746434317   v=1-1 J=41-40   23Na-35Clv=1-1 J=41-40\n",
       "  35    42    41     1     1   540268.25400  0.004000      MHz  1078.50     0.08     540.26825  1360  1328 1052.5712132423084   v=1-1 J=42-41   23Na-35Clv=1-1 J=42-41\n",
       "  35    43    42     1     1   552995.47500  0.004000      MHz  1105.10     0.08     552.99547  1392  1360 1078.5604029700337   v=1-1 J=43-42   23Na-35Clv=1-1 J=43-42\n",
       "  35    44    43     1     1   565713.06900  0.004000      MHz  1132.20     0.09     565.71307  1424  1392   1105.05005472089   v=1-1 J=44-43   23Na-35Clv=1-1 J=44-43\n",
       "  35    45    44     1     1   578420.81400  0.004000      MHz  1160.00     0.09     578.42081  1456  1424 1132.2401791491966   v=1-1 J=45-44   23Na-35Clv=1-1 J=45-44\n",
       "  35    46    45     1     1   591118.48500  0.004000      MHz  1188.30      0.1     591.11848  1488  1456   1159.93078705325   v=1-1 J=46-45   23Na-35Clv=1-1 J=46-45\n",
       "  35    47    46     1     1   603805.85800  0.004000      MHz  1217.30      0.1     603.80586  1520  1488 1188.3218891833556   v=1-1 J=47-46   23Na-35Clv=1-1 J=47-46\n",
       " ...   ...   ...   ...   ...            ...       ...      ...      ...      ...           ...   ...   ...                ...             ...                      ...\n",
       "  35   103   102     1     0 11611853.48111  0.000140      MHz  3791.80      0.6   11611.85348  3312  3280 3234.5189261183896 v=1-0 J=103-102 23Na-35Clv=1-0 J=103-102\n",
       "  35   135   134     1     0 11612228.22168  0.000240      MHz  6065.10      0.6   11612.22822  4336  4304  5507.800941407421 v=1-0 J=135-134 23Na-35Clv=1-0 J=135-134\n",
       "  35   104   103     1     0 11613707.39767  0.000140      MHz  3854.40      0.6   11613.70740  3344  3312 3297.0299521562847 v=1-0 J=104-103 23Na-35Clv=1-0 J=104-103\n",
       "  35   134   133     1     0 11614082.73783  0.000230      MHz  5985.70      0.6   11614.08274  4304  4272  5428.311938669778 v=1-0 J=134-133 23Na-35Clv=1-0 J=134-133\n",
       "  35   105   104     1     0 11615444.09538  0.000140      MHz  3917.40      0.6   11615.44410  3376  3344 3359.9466038117707 v=1-0 J=105-104 23Na-35Clv=1-0 J=105-104\n",
       "  35   133   132     1     0 11615814.93865  0.000220      MHz  5906.90      0.6   11615.81494  4272  4240  5349.428806141796 v=1-0 J=133-132 23Na-35Clv=1-0 J=133-132\n",
       "  35   106   105     1     0 11617063.27445  0.000140      MHz  3981.10      0.6   11617.06327  3408  3376  3423.568895472617 v=1-0 J=106-105 23Na-35Clv=1-0 J=106-105\n",
       "  35   132   131     1     0 11617425.72353  0.000210      MHz  5828.60      0.6   11617.42572  4240  4208  5271.051500660168 v=1-0 J=132-131 23Na-35Clv=1-0 J=132-131\n",
       "  35   107   106     1     0 11618564.93487  0.000150      MHz  4045.30      0.6   11618.56493  3440  3408 3487.6968271388228 v=1-0 J=107-106 23Na-35Clv=1-0 J=107-106\n",
       "  35   131   130     1     0 11618914.79267  0.000210      MHz  5750.80      0.6   11618.91479  4208  4176  5193.180036612663 v=1-0 J=131-130 23Na-35Clv=1-0 J=131-130\n",
       "  35   108   107     1     0 11619948.77685  0.000150      MHz  4110.00      0.6   11619.94878  3472  3440  3552.330413198157 v=1-0 J=108-107 23Na-35Clv=1-0 J=108-107\n",
       "  35   130   129     1     0 11620282.44586  0.000200      MHz  5673.50      0.6   11620.28245  4176  4144   5115.81439961151 v=1-0 J=130-129 23Na-35Clv=1-0 J=130-129\n",
       "  35   109   108     1     0 11621214.50061  0.000150      MHz  4175.40      0.6   11621.21450  3504  3472 3617.6696680383884 v=1-0 J=109-108 23Na-35Clv=1-0 J=109-108\n",
       "  35   129   128     1     0 11621528.68311  0.000200      MHz  5596.80      0.6   11621.52868  4144  4112  5039.054589656713 v=1-0 J=129-128 23Na-35Clv=1-0 J=129-128\n",
       "  35   110   109     1     0 11622362.40593  0.000150      MHz  4241.20      0.6   11622.36241  3536  3504 3683.4145772717493 v=1-0 J=110-109 23Na-35Clv=1-0 J=110-109\n",
       "  35   128   127     1     0 11622654.10399  0.000190      MHz  5520.60      0.6   11622.65410  4112  4080  4962.800577972732 v=1-0 J=128-127 23Na-35Clv=1-0 J=128-127\n",
       "  35   111   110     1     0 11623392.19303  0.000150      MHz  4307.70      0.6   11623.39219  3568  3536  3749.865155286007 v=1-0 J=111-110 23Na-35Clv=1-0 J=111-110\n",
       "  35   127   126     1     0 11623658.40873  0.000190      MHz  5444.90      0.6   11623.65841  4080  4048  4887.052378947335 v=1-0 J=127-126 23Na-35Clv=1-0 J=127-126\n",
       "  35   112   111     1     0 11624303.26231  0.000150      MHz  4374.60      0.6   11624.30326  3600  3568    3816.7214308567 v=1-0 J=112-111 23Na-35Clv=1-0 J=112-111\n",
       "  35   126   125     1     0 11624541.59731  0.000180      MHz  5369.80      0.6   11624.54160  4048  4016  4811.909992580524 v=1-0 J=126-125 23Na-35Clv=1-0 J=126-125\n",
       "  35   113   112     1     0 11625096.21336  0.000150      MHz  4442.20      0.6   11625.09621  3632  3600 3884.2833752082893 v=1-0 J=113-112 23Na-35Clv=1-0 J=113-112\n",
       "  35   125   124     1     0 11625304.26932  0.000180      MHz  5295.20      0.6   11625.30427  4016  3984   4737.27339009676 v=1-0 J=125-124 23Na-35Clv=1-0 J=125-124\n",
       "  35   114   113     1     0 11625770.14680  0.000150      MHz  4510.30      0.6   11625.77015  3664  3632 3952.3510315040835 v=1-0 J=114-113 23Na-35Clv=1-0 J=114-113\n",
       "  35   124   123     1     0 11625946.42477  0.000170      MHz  5221.20      0.6   11625.94642  3984  3952  4663.242571496044 v=1-0 J=124-123 23Na-35Clv=1-0 J=124-123\n",
       "  35   115   114     1     0 11626325.06264  0.000150      MHz  4578.90      0.6   11626.32506  3696  3664 4020.9243997440803 v=1-0 J=115-114 23Na-35Clv=1-0 J=115-114\n",
       "  35   123   122     1     0 11626468.06365  0.000170      MHz  5147.60      0.6   11626.46806  3952  3920  4589.617536778375 v=1-0 J=123-122 23Na-35Clv=1-0 J=123-122\n",
       "  35   116   115     1     0 11626761.26067  0.000150      MHz  4648.10      0.6   11626.76126  3728  3696 4090.1034655405138 v=1-0 J=116-115 23Na-35Clv=1-0 J=116-115\n",
       "  35   122   121     1     0 11626869.48575  0.000170      MHz  5074.60      0.6   11626.86949  3920  3888  4516.598271555986 v=1-0 J=122-121 23Na-35Clv=1-0 J=122-121\n",
       "  35   117   116     1     0 11627078.14130  0.000160      MHz  4717.80      0.6   11627.07814  3760  3728  4159.788257668918 v=1-0 J=117-116 23Na-35Clv=1-0 J=117-116\n",
       "  35   121   120     1     0 11627150.99086  0.000160      MHz  5002.20      0.6   11627.15099  3888  3856  4444.184761441105 v=1-0 J=121-120 23Na-35Clv=1-0 J=121-120\n",
       "  35   118   117     1     0 11627275.70453  0.000160      MHz  4788.10      0.6   11627.27570  3792  3760  4230.078776129296 v=1-0 J=118-117 23Na-35Clv=1-0 J=118-117\n",
       "  35   120   119     1     0 11627312.27921  0.000160      MHz  4930.30      0.6   11627.31228  3856  3824  4372.277020821505 v=1-0 J=120-119 23Na-35Clv=1-0 J=120-119\n",
       "  35   119   118     1     0 11627353.95036  0.000160      MHz  4858.90      0.6   11627.35395  3824  3792  4300.875020921644 v=1-0 J=119-118 23Na-35Clv=1-0 J=119-118"
      ]
     },
     "execution_count": 22,
     "metadata": {},
     "output_type": "execute_result"
    }
   ],
   "source": [
    "nacltbl = salt_tables[3]\n",
    "nacltbl[(nacltbl['vu']==1) & (nacltbl['nuCalc'] > 200e3)]"
   ]
  },
  {
   "cell_type": "code",
   "execution_count": 23,
   "id": "2be869c6-9e92-4819-86ca-f50755f4b2a5",
   "metadata": {},
   "outputs": [
    {
     "data": {
      "text/html": [
       "<div><i>Table length=12</i>\n",
       "<table id=\"table46991180426352\" class=\"table-striped table-bordered table-condensed\">\n",
       "<thead><tr><th>upper_state</th><th>lower_state</th><th>Aij</th><th>Frequency_cm</th><th>Freq</th><th>E_U</th><th>E_L</th><th>QNs</th><th>vu</th><th>vl</th><th>Ju</th><th>Jl</th><th>gu</th><th>gl</th><th>Species</th></tr></thead>\n",
       "<thead><tr><th></th><th></th><th>1 / s</th><th>1 / cm</th><th>GHz</th><th>K</th><th>K</th><th></th><th></th><th></th><th></th><th></th><th></th><th></th><th></th></tr></thead>\n",
       "<thead><tr><th>int64</th><th>int64</th><th>float64</th><th>float64</th><th>float64</th><th>float64</th><th>float64</th><th>str17</th><th>int64</th><th>int64</th><th>int64</th><th>int64</th><th>int64</th><th>int64</th><th>str25</th></tr></thead>\n",
       "<tr><td>1032</td><td>1031</td><td>0.0060021</td><td>7.083546</td><td>212.37289678267567</td><td>943.0012778144056</td><td>932.8096322448085</td><td>v=2-2 J=28-27</td><td>2</td><td>2</td><td>28</td><td>27</td><td>912</td><td>880</td><td>39K-35Clv=2-2 J=28-27</td></tr>\n",
       "<tr><td>530</td><td>529</td><td>0.0060445</td><td>7.12743</td><td>213.68790346069923</td><td>548.0576826386862</td><td>537.8028977636939</td><td>v=1-1 J=28-27</td><td>1</td><td>1</td><td>28</td><td>27</td><td>912</td><td>880</td><td>39K-35Clv=1-1 J=28-27</td></tr>\n",
       "<tr><td>29</td><td>28</td><td>0.0060872</td><td>7.171509</td><td>215.00827947796256</td><td>149.70982801917683</td><td>139.39162327720513</td><td>v=0-0 J=28-27</td><td>0</td><td>0</td><td>28</td><td>27</td><td>912</td><td>880</td><td>39K-35Clv=0-0 J=28-27</td></tr>\n",
       "<tr><td>1033</td><td>1032</td><td>0.0066713</td><td>7.335813</td><td>219.93611261476423</td><td>953.5558794307203</td><td>943.0012778144056</td><td>v=2-2 J=29-28</td><td>2</td><td>2</td><td>29</td><td>28</td><td>944</td><td>912</td><td>39K-35Clv=2-2 J=29-28</td></tr>\n",
       "<tr><td>531</td><td>530</td><td>0.0067185</td><td>7.381264</td><td>221.29806684490674</td><td>558.6776781245101</td><td>548.0576826386862</td><td>v=1-1 J=29-28</td><td>1</td><td>1</td><td>29</td><td>28</td><td>944</td><td>912</td><td>39K-35Clv=1-1 J=29-28</td></tr>\n",
       "<tr><td>30</td><td>29</td><td>0.0067659</td><td>7.426916</td><td>222.6655702897546</td><td>160.39550656875758</td><td>149.70982801917683</td><td>v=0-0 J=29-28</td><td>0</td><td>0</td><td>29</td><td>28</td><td>944</td><td>912</td><td>39K-35Clv=0-0 J=29-28</td></tr>\n",
       "<tr><td>1034</td><td>1033</td><td>0.0073884</td><td>7.588003</td><td>227.49701647844506</td><td>964.4733263078973</td><td>953.5558794307203</td><td>v=2-2 J=30-29</td><td>2</td><td>2</td><td>30</td><td>29</td><td>976</td><td>944</td><td>39K-35Clv=2-2 J=30-29</td></tr>\n",
       "<tr><td>532</td><td>531</td><td>0.0074407</td><td>7.635022</td><td>228.90594823993106</td><td>569.6627748740864</td><td>558.6776781245101</td><td>v=1-1 J=30-29</td><td>1</td><td>1</td><td>30</td><td>29</td><td>976</td><td>944</td><td>39K-35Clv=1-1 J=30-29</td></tr>\n",
       "<tr><td>31</td><td>30</td><td>0.0074932</td><td>7.682249</td><td>230.32063907085856</td><td>171.44855245642327</td><td>160.39550656875758</td><td>v=0-0 J=30-29</td><td>0</td><td>0</td><td>30</td><td>29</td><td>976</td><td>944</td><td>39K-35Clv=0-0 J=30-29</td></tr>\n",
       "<tr><td>1035</td><td>1034</td><td>0.008155</td><td>7.840115</td><td>235.05557839444083</td><td>975.7535062213024</td><td>964.4733263078973</td><td>v=2-2 J=31-30</td><td>2</td><td>2</td><td>31</td><td>30</td><td>1008</td><td>976</td><td>39K-35Clv=2-2 J=31-30</td></tr>\n",
       "<tr><td>533</td><td>532</td><td>0.0082127</td><td>7.8887</td><td>236.51142772880118</td><td>581.0128577852272</td><td>569.6627748740864</td><td>v=1-1 J=31-30</td><td>1</td><td>1</td><td>31</td><td>30</td><td>1008</td><td>976</td><td>39K-35Clv=1-1 J=31-30</td></tr>\n",
       "<tr><td>32</td><td>31</td><td>0.0082707</td><td>7.937502</td><td>237.97330594579785</td><td>182.86885057998546</td><td>171.44855245642327</td><td>v=0-0 J=31-30</td><td>0</td><td>0</td><td>31</td><td>30</td><td>1008</td><td>976</td><td>39K-35Clv=0-0 J=31-30</td></tr>\n",
       "</table></div>"
      ],
      "text/plain": [
       "<Table length=12>\n",
       "upper_state lower_state    Aij    Frequency_cm        Freq               E_U                E_L              QNs        vu    vl    Ju    Jl    gu    gl         Species       \n",
       "                          1 / s      1 / cm           GHz                 K                  K                                                                                 \n",
       "   int64       int64     float64    float64         float64            float64            float64           str17     int64 int64 int64 int64 int64 int64         str25        \n",
       "----------- ----------- --------- ------------ ------------------ ------------------ ------------------ ------------- ----- ----- ----- ----- ----- ----- ---------------------\n",
       "       1032        1031 0.0060021     7.083546 212.37289678267567  943.0012778144056  932.8096322448085 v=2-2 J=28-27     2     2    28    27   912   880 39K-35Clv=2-2 J=28-27\n",
       "        530         529 0.0060445      7.12743 213.68790346069923  548.0576826386862  537.8028977636939 v=1-1 J=28-27     1     1    28    27   912   880 39K-35Clv=1-1 J=28-27\n",
       "         29          28 0.0060872     7.171509 215.00827947796256 149.70982801917683 139.39162327720513 v=0-0 J=28-27     0     0    28    27   912   880 39K-35Clv=0-0 J=28-27\n",
       "       1033        1032 0.0066713     7.335813 219.93611261476423  953.5558794307203  943.0012778144056 v=2-2 J=29-28     2     2    29    28   944   912 39K-35Clv=2-2 J=29-28\n",
       "        531         530 0.0067185     7.381264 221.29806684490674  558.6776781245101  548.0576826386862 v=1-1 J=29-28     1     1    29    28   944   912 39K-35Clv=1-1 J=29-28\n",
       "         30          29 0.0067659     7.426916  222.6655702897546 160.39550656875758 149.70982801917683 v=0-0 J=29-28     0     0    29    28   944   912 39K-35Clv=0-0 J=29-28\n",
       "       1034        1033 0.0073884     7.588003 227.49701647844506  964.4733263078973  953.5558794307203 v=2-2 J=30-29     2     2    30    29   976   944 39K-35Clv=2-2 J=30-29\n",
       "        532         531 0.0074407     7.635022 228.90594823993106  569.6627748740864  558.6776781245101 v=1-1 J=30-29     1     1    30    29   976   944 39K-35Clv=1-1 J=30-29\n",
       "         31          30 0.0074932     7.682249 230.32063907085856 171.44855245642327 160.39550656875758 v=0-0 J=30-29     0     0    30    29   976   944 39K-35Clv=0-0 J=30-29\n",
       "       1035        1034  0.008155     7.840115 235.05557839444083  975.7535062213024  964.4733263078973 v=2-2 J=31-30     2     2    31    30  1008   976 39K-35Clv=2-2 J=31-30\n",
       "        533         532 0.0082127       7.8887 236.51142772880118  581.0128577852272  569.6627748740864 v=1-1 J=31-30     1     1    31    30  1008   976 39K-35Clv=1-1 J=31-30\n",
       "         32          31 0.0082707     7.937502 237.97330594579785 182.86885057998546 171.44855245642327 v=0-0 J=31-30     0     0    31    30  1008   976 39K-35Clv=0-0 J=31-30"
      ]
     },
     "execution_count": 23,
     "metadata": {},
     "output_type": "execute_result"
    }
   ],
   "source": [
    "kcltbl = salt_tables[0]\n",
    "kcltbl[(kcltbl['vu']<=2) & (kcltbl['Freq'] > 210) & (kcltbl['Freq'] < 240)]"
   ]
  },
  {
   "cell_type": "code",
   "execution_count": 24,
   "id": "58ba4198-e69f-4f36-a865-5ef7ae6fbb59",
   "metadata": {},
   "outputs": [
    {
     "data": {
      "text/html": [
       "<div><i>Table length=12</i>\n",
       "<table id=\"table46991191652048\" class=\"table-striped table-bordered table-condensed\">\n",
       "<thead><tr><th>upper_state</th><th>lower_state</th><th>Aij</th><th>Frequency_cm</th><th>Freq</th><th>E_U</th><th>E_L</th><th>QNs</th><th>vu</th><th>vl</th><th>Ju</th><th>Jl</th><th>gu</th><th>gl</th><th>Species</th></tr></thead>\n",
       "<thead><tr><th></th><th></th><th>1 / s</th><th>1 / cm</th><th>GHz</th><th>K</th><th>K</th><th></th><th></th><th></th><th></th><th></th><th></th><th></th><th></th></tr></thead>\n",
       "<thead><tr><th>int64</th><th>int64</th><th>float64</th><th>float64</th><th>float64</th><th>float64</th><th>float64</th><th>str17</th><th>int64</th><th>int64</th><th>int64</th><th>int64</th><th>int64</th><th>int64</th><th>str25</th></tr></thead>\n",
       "<tr><td>1033</td><td>1032</td><td>0.0061195</td><td>7.128818</td><td>213.73028923583587</td><td>937.8257064784391</td><td>927.5689245804796</td><td>v=2-2 J=29-28</td><td>2</td><td>2</td><td>29</td><td>28</td><td>944</td><td>912</td><td>39K-37Clv=2-2 J=29-28</td></tr>\n",
       "<tr><td>531</td><td>530</td><td>0.0061622</td><td>7.172349</td><td>215.03464033029795</td><td>548.4861922591994</td><td>538.1667789442505</td><td>v=1-1 J=29-28</td><td>1</td><td>1</td><td>29</td><td>28</td><td>944</td><td>912</td><td>39K-37Clv=1-1 J=29-28</td></tr>\n",
       "<tr><td>30</td><td>29</td><td>0.0062051</td><td>7.21607</td><td>216.34431682307863</td><td>155.8389116381814</td><td>145.45659353854577</td><td>v=0-0 J=29-28</td><td>0</td><td>0</td><td>29</td><td>28</td><td>944</td><td>912</td><td>39K-37Clv=0-0 J=29-28</td></tr>\n",
       "<tr><td>1034</td><td>1033</td><td>0.0067773</td><td>7.373915</td><td>221.07854314878762</td><td>948.4351283894896</td><td>937.8257064784391</td><td>v=2-2 J=30-29</td><td>2</td><td>2</td><td>30</td><td>29</td><td>976</td><td>944</td><td>39K-37Clv=2-2 J=30-29</td></tr>\n",
       "<tr><td>532</td><td>531</td><td>0.0068246</td><td>7.418946</td><td>222.42783347649473</td><td>559.16040375327</td><td>548.4861922591994</td><td>v=1-1 J=30-29</td><td>1</td><td>1</td><td>30</td><td>29</td><td>976</td><td>944</td><td>39K-37Clv=1-1 J=30-29</td></tr>\n",
       "<tr><td>31</td><td>30</td><td>0.0068721</td><td>7.464174</td><td>223.78265905723748</td><td>166.57819615441105</td><td>155.8389116381814</td><td>v=0-0 J=30-29</td><td>0</td><td>0</td><td>30</td><td>29</td><td>976</td><td>944</td><td>39K-37Clv=0-0 J=30-29</td></tr>\n",
       "<tr><td>1035</td><td>1034</td><td>0.0074806</td><td>7.618937</td><td>228.42454513909317</td><td>959.3970824053298</td><td>948.4351283894896</td><td>v=2-2 J=31-30</td><td>2</td><td>2</td><td>31</td><td>30</td><td>1008</td><td>976</td><td>39K-37Clv=2-2 J=31-30</td></tr>\n",
       "<tr><td>533</td><td>532</td><td>0.0075327</td><td>7.665469</td><td>229.81880467929173</td><td>570.1893069569386</td><td>559.16040375327</td><td>v=1-1 J=31-30</td><td>1</td><td>1</td><td>31</td><td>30</td><td>1008</td><td>976</td><td>39K-37Clv=1-1 J=31-30</td></tr>\n",
       "<tr><td>32</td><td>31</td><td>0.0075851</td><td>7.712206</td><td>231.21883930648752</td><td>177.67434349526533</td><td>166.57819615441105</td><td>v=0-0 J=31-30</td><td>0</td><td>0</td><td>31</td><td>30</td><td>1008</td><td>976</td><td>39K-37Clv=0-0 J=31-30</td></tr>\n",
       "<tr><td>1036</td><td>1035</td><td>0.0082307</td><td>7.863882</td><td>235.76823524825613</td><td>970.711457740103</td><td>959.3970824053298</td><td>v=2-2 J=32-31</td><td>2</td><td>2</td><td>32</td><td>31</td><td>1040</td><td>1008</td><td>39K-37Clv=2-2 J=32-31</td></tr>\n",
       "<tr><td>534</td><td>533</td><td>0.0082881</td><td>7.911916</td><td>237.20749398019072</td><td>581.5727925231257</td><td>570.1893069569386</td><td>v=1-1 J=32-31</td><td>1</td><td>1</td><td>32</td><td>31</td><td>1040</td><td>1008</td><td>39K-37Clv=1-1 J=32-31</td></tr>\n",
       "<tr><td>33</td><td>32</td><td>0.0083458</td><td>7.960159</td><td>238.65264771610674</td><td>189.12723999733328</td><td>177.67434349526533</td><td>v=0-0 J=32-31</td><td>0</td><td>0</td><td>32</td><td>31</td><td>1040</td><td>1008</td><td>39K-37Clv=0-0 J=32-31</td></tr>\n",
       "</table></div>"
      ],
      "text/plain": [
       "<Table length=12>\n",
       "upper_state lower_state    Aij    Frequency_cm        Freq               E_U                E_L              QNs        vu    vl    Ju    Jl    gu    gl         Species       \n",
       "                          1 / s      1 / cm           GHz                 K                  K                                                                                 \n",
       "   int64       int64     float64    float64         float64            float64            float64           str17     int64 int64 int64 int64 int64 int64         str25        \n",
       "----------- ----------- --------- ------------ ------------------ ------------------ ------------------ ------------- ----- ----- ----- ----- ----- ----- ---------------------\n",
       "       1033        1032 0.0061195     7.128818 213.73028923583587  937.8257064784391  927.5689245804796 v=2-2 J=29-28     2     2    29    28   944   912 39K-37Clv=2-2 J=29-28\n",
       "        531         530 0.0061622     7.172349 215.03464033029795  548.4861922591994  538.1667789442505 v=1-1 J=29-28     1     1    29    28   944   912 39K-37Clv=1-1 J=29-28\n",
       "         30          29 0.0062051      7.21607 216.34431682307863  155.8389116381814 145.45659353854577 v=0-0 J=29-28     0     0    29    28   944   912 39K-37Clv=0-0 J=29-28\n",
       "       1034        1033 0.0067773     7.373915 221.07854314878762  948.4351283894896  937.8257064784391 v=2-2 J=30-29     2     2    30    29   976   944 39K-37Clv=2-2 J=30-29\n",
       "        532         531 0.0068246     7.418946 222.42783347649473    559.16040375327  548.4861922591994 v=1-1 J=30-29     1     1    30    29   976   944 39K-37Clv=1-1 J=30-29\n",
       "         31          30 0.0068721     7.464174 223.78265905723748 166.57819615441105  155.8389116381814 v=0-0 J=30-29     0     0    30    29   976   944 39K-37Clv=0-0 J=30-29\n",
       "       1035        1034 0.0074806     7.618937 228.42454513909317  959.3970824053298  948.4351283894896 v=2-2 J=31-30     2     2    31    30  1008   976 39K-37Clv=2-2 J=31-30\n",
       "        533         532 0.0075327     7.665469 229.81880467929173  570.1893069569386    559.16040375327 v=1-1 J=31-30     1     1    31    30  1008   976 39K-37Clv=1-1 J=31-30\n",
       "         32          31 0.0075851     7.712206 231.21883930648752 177.67434349526533 166.57819615441105 v=0-0 J=31-30     0     0    31    30  1008   976 39K-37Clv=0-0 J=31-30\n",
       "       1036        1035 0.0082307     7.863882 235.76823524825613   970.711457740103  959.3970824053298 v=2-2 J=32-31     2     2    32    31  1040  1008 39K-37Clv=2-2 J=32-31\n",
       "        534         533 0.0082881     7.911916 237.20749398019072  581.5727925231257  570.1893069569386 v=1-1 J=32-31     1     1    32    31  1040  1008 39K-37Clv=1-1 J=32-31\n",
       "         33          32 0.0083458     7.960159 238.65264771610674 189.12723999733328 177.67434349526533 v=0-0 J=32-31     0     0    32    31  1040  1008 39K-37Clv=0-0 J=32-31"
      ]
     },
     "execution_count": 24,
     "metadata": {},
     "output_type": "execute_result"
    }
   ],
   "source": [
    "kcltbl = salt_tables[1]\n",
    "kcltbl[(kcltbl['vu']<=2) & (kcltbl['Freq'] > 210) & (kcltbl['Freq'] < 240)]"
   ]
  },
  {
   "cell_type": "code",
   "execution_count": 25,
   "id": "7f5f3986-c65f-41f2-8820-a7a15e540372",
   "metadata": {},
   "outputs": [
    {
     "data": {
      "text/html": [
       "<div><i>Table length=13</i>\n",
       "<table id=\"table46991180755248\" class=\"table-striped table-bordered table-condensed\">\n",
       "<thead><tr><th>upper_state</th><th>lower_state</th><th>Aij</th><th>Frequency_cm</th><th>Freq</th><th>E_U</th><th>E_L</th><th>QNs</th><th>vu</th><th>vl</th><th>Ju</th><th>Jl</th><th>gu</th><th>gl</th><th>Species</th></tr></thead>\n",
       "<thead><tr><th></th><th></th><th>1 / s</th><th>1 / cm</th><th>GHz</th><th>K</th><th>K</th><th></th><th></th><th></th><th></th><th></th><th></th><th></th><th></th></tr></thead>\n",
       "<thead><tr><th>int64</th><th>int64</th><th>float64</th><th>float64</th><th>float64</th><th>float64</th><th>float64</th><th>str17</th><th>int64</th><th>int64</th><th>int64</th><th>int64</th><th>int64</th><th>int64</th><th>str25</th></tr></thead>\n",
       "<tr><td>29</td><td>28</td><td>0.005676</td><td>7.006512</td><td>210.06156438078966</td><td>146.26324406196932</td><td>136.18243326704712</td><td>v=0-0 J=28-27</td><td>0</td><td>0</td><td>28</td><td>27</td><td>912</td><td>880</td><td>41K-35Clv=0-0 J=28-27</td></tr>\n",
       "<tr><td>1033</td><td>1032</td><td>0.0062217</td><td>7.168083</td><td>214.90740364166288</td><td>940.8218955728044</td><td>930.5086200820471</td><td>v=2-2 J=29-28</td><td>2</td><td>2</td><td>29</td><td>28</td><td>944</td><td>912</td><td>41K-35Clv=2-2 J=29-28</td></tr>\n",
       "<tr><td>531</td><td>530</td><td>0.0062653</td><td>7.211975</td><td>216.22259532171446</td><td>550.4255029890955</td><td>540.0490766827238</td><td>v=1-1 J=29-28</td><td>1</td><td>1</td><td>29</td><td>28</td><td>944</td><td>912</td><td>41K-35Clv=1-1 J=29-28</td></tr>\n",
       "<tr><td>30</td><td>29</td><td>0.006309</td><td>7.256059</td><td>217.54316883063962</td><td>156.7030974292071</td><td>146.26324406196932</td><td>v=0-0 J=29-28</td><td>0</td><td>0</td><td>29</td><td>28</td><td>944</td><td>912</td><td>41K-35Clv=0-0 J=29-28</td></tr>\n",
       "<tr><td>1034</td><td>1033</td><td>0.0068905</td><td>7.414526</td><td>222.29600738154608</td><td>951.4897476709713</td><td>940.8218955728044</td><td>v=2-2 J=30-29</td><td>2</td><td>2</td><td>30</td><td>29</td><td>976</td><td>944</td><td>41K-35Clv=2-2 J=30-29</td></tr>\n",
       "<tr><td>532</td><td>531</td><td>0.0069387</td><td>7.459931</td><td>223.65652844870036</td><td>561.1586827730129</td><td>550.4255029890955</td><td>v=1-1 J=30-29</td><td>1</td><td>1</td><td>30</td><td>29</td><td>976</td><td>944</td><td>41K-35Clv=1-1 J=30-29</td></tr>\n",
       "<tr><td>31</td><td>30</td><td>0.0069871</td><td>7.505536</td><td>225.02267117870613</td><td>167.50189265434582</td><td>156.7030974292071</td><td>v=0-0 J=30-29</td><td>0</td><td>0</td><td>30</td><td>29</td><td>976</td><td>944</td><td>41K-35Clv=0-0 J=30-29</td></tr>\n",
       "<tr><td>1035</td><td>1034</td><td>0.0076055</td><td>7.660891</td><td>229.682269185667</td><td>962.5120641519137</td><td>951.4897476709713</td><td>v=2-2 J=31-30</td><td>2</td><td>2</td><td>31</td><td>30</td><td>1008</td><td>976</td><td>41K-35Clv=2-2 J=31-30</td></tr>\n",
       "<tr><td>533</td><td>532</td><td>0.0076587</td><td>7.70781</td><td>231.08814961918307</td><td>572.2485052486196</td><td>561.1586827730129</td><td>v=1-1 J=31-30</td><td>1</td><td>1</td><td>31</td><td>30</td><td>1008</td><td>976</td><td>41K-35Clv=1-1 J=31-30</td></tr>\n",
       "<tr><td>32</td><td>31</td><td>0.0077121</td><td>7.754934</td><td>232.49980161177257</td><td>178.65951607397443</td><td>167.50189265434582</td><td>v=0-0 J=31-30</td><td>0</td><td>0</td><td>31</td><td>30</td><td>1008</td><td>976</td><td>41K-35Clv=0-0 J=31-30</td></tr>\n",
       "<tr><td>1036</td><td>1035</td><td>0.0083681</td><td>7.907182</td><td>237.06630897102573</td><td>973.888738546108</td><td>962.5120641519137</td><td>v=2-2 J=32-31</td><td>2</td><td>2</td><td>32</td><td>31</td><td>1040</td><td>1008</td><td>41K-35Clv=2-2 J=32-31</td></tr>\n",
       "<tr><td>534</td><td>533</td><td>0.0084267</td><td>7.955615</td><td>238.5175487708963</td><td>583.6948639463918</td><td>572.2485052486196</td><td>v=1-1 J=32-31</td><td>1</td><td>1</td><td>32</td><td>31</td><td>1040</td><td>1008</td><td>41K-35Clv=1-1 J=32-31</td></tr>\n",
       "<tr><td>33</td><td>32</td><td>0.0084855</td><td>8.00426</td><td>239.97476998456145</td><td>190.1758640961235</td><td>178.65951607397443</td><td>v=0-0 J=32-31</td><td>0</td><td>0</td><td>32</td><td>31</td><td>1040</td><td>1008</td><td>41K-35Clv=0-0 J=32-31</td></tr>\n",
       "</table></div>"
      ],
      "text/plain": [
       "<Table length=13>\n",
       "upper_state lower_state    Aij    Frequency_cm        Freq               E_U                E_L              QNs        vu    vl    Ju    Jl    gu    gl         Species       \n",
       "                          1 / s      1 / cm           GHz                 K                  K                                                                                 \n",
       "   int64       int64     float64    float64         float64            float64            float64           str17     int64 int64 int64 int64 int64 int64         str25        \n",
       "----------- ----------- --------- ------------ ------------------ ------------------ ------------------ ------------- ----- ----- ----- ----- ----- ----- ---------------------\n",
       "         29          28  0.005676     7.006512 210.06156438078966 146.26324406196932 136.18243326704712 v=0-0 J=28-27     0     0    28    27   912   880 41K-35Clv=0-0 J=28-27\n",
       "       1033        1032 0.0062217     7.168083 214.90740364166288  940.8218955728044  930.5086200820471 v=2-2 J=29-28     2     2    29    28   944   912 41K-35Clv=2-2 J=29-28\n",
       "        531         530 0.0062653     7.211975 216.22259532171446  550.4255029890955  540.0490766827238 v=1-1 J=29-28     1     1    29    28   944   912 41K-35Clv=1-1 J=29-28\n",
       "         30          29  0.006309     7.256059 217.54316883063962  156.7030974292071 146.26324406196932 v=0-0 J=29-28     0     0    29    28   944   912 41K-35Clv=0-0 J=29-28\n",
       "       1034        1033 0.0068905     7.414526 222.29600738154608  951.4897476709713  940.8218955728044 v=2-2 J=30-29     2     2    30    29   976   944 41K-35Clv=2-2 J=30-29\n",
       "        532         531 0.0069387     7.459931 223.65652844870036  561.1586827730129  550.4255029890955 v=1-1 J=30-29     1     1    30    29   976   944 41K-35Clv=1-1 J=30-29\n",
       "         31          30 0.0069871     7.505536 225.02267117870613 167.50189265434582  156.7030974292071 v=0-0 J=30-29     0     0    30    29   976   944 41K-35Clv=0-0 J=30-29\n",
       "       1035        1034 0.0076055     7.660891   229.682269185667  962.5120641519137  951.4897476709713 v=2-2 J=31-30     2     2    31    30  1008   976 41K-35Clv=2-2 J=31-30\n",
       "        533         532 0.0076587      7.70781 231.08814961918307  572.2485052486196  561.1586827730129 v=1-1 J=31-30     1     1    31    30  1008   976 41K-35Clv=1-1 J=31-30\n",
       "         32          31 0.0077121     7.754934 232.49980161177257 178.65951607397443 167.50189265434582 v=0-0 J=31-30     0     0    31    30  1008   976 41K-35Clv=0-0 J=31-30\n",
       "       1036        1035 0.0083681     7.907182 237.06630897102573   973.888738546108  962.5120641519137 v=2-2 J=32-31     2     2    32    31  1040  1008 41K-35Clv=2-2 J=32-31\n",
       "        534         533 0.0084267     7.955615  238.5175487708963  583.6948639463918  572.2485052486196 v=1-1 J=32-31     1     1    32    31  1040  1008 41K-35Clv=1-1 J=32-31\n",
       "         33          32 0.0084855      8.00426 239.97476998456145  190.1758640961235 178.65951607397443 v=0-0 J=32-31     0     0    32    31  1040  1008 41K-35Clv=0-0 J=32-31"
      ]
     },
     "execution_count": 25,
     "metadata": {},
     "output_type": "execute_result"
    }
   ],
   "source": [
    "kcltbl = salt_tables[2]\n",
    "kcltbl[(kcltbl['vu']<=2) & (kcltbl['Freq'] > 210) & (kcltbl['Freq'] < 240)]"
   ]
  },
  {
   "cell_type": "code",
   "execution_count": null,
   "id": "c8b89527-0867-41c5-be67-e59bbd79a522",
   "metadata": {},
   "outputs": [],
   "source": []
  }
 ],
 "metadata": {
  "kernelspec": {
   "display_name": "python39",
   "language": "python",
   "name": "python39"
  },
  "language_info": {
   "codemirror_mode": {
    "name": "ipython",
    "version": 3
   },
   "file_extension": ".py",
   "mimetype": "text/x-python",
   "name": "python",
   "nbconvert_exporter": "python",
   "pygments_lexer": "ipython3",
   "version": "3.9.13"
  }
 },
 "nbformat": 4,
 "nbformat_minor": 5
}
