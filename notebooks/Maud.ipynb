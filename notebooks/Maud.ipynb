{
 "cells": [
  {
   "cell_type": "code",
   "execution_count": 1,
   "id": "serious-ballot",
   "metadata": {},
   "outputs": [
    {
     "name": "stdout",
     "output_type": "stream",
     "text": [
      "/orange/adamginsburg/salt/maud\n"
     ]
    }
   ],
   "source": [
    "cd /orange/adamginsburg/salt/maud/"
   ]
  },
  {
   "cell_type": "code",
   "execution_count": 2,
   "id": "radio-excess",
   "metadata": {},
   "outputs": [
    {
     "name": "stdout",
     "output_type": "stream",
     "text": [
      "diskmask.reg                    G17_SPW1_2017.image.fits    \u001b[0m\u001b[01;34mspectra\u001b[0m/\n",
      "endpts.reg                      G17_SPW2_2017.image.fits    SrcI_NaCl_mom0.png\n",
      "G17_KClstack.png                G17_SPW3_2017.image.fits    SrcI.png\n",
      "G17_NaCl_mom0.png               KCl_v_le_3_stackcube.fits   SrcI_withKepler.png\n",
      "G17_naclPV_withcolorcurves.png  KCl_v_le_4_stackcube.fits\n",
      "G17_SPW0_2017.image.fits        NaCl_v_le_3_stackcube.fits\n"
     ]
    }
   ],
   "source": [
    "ls"
   ]
  },
  {
   "cell_type": "code",
   "execution_count": 3,
   "id": "available-salon",
   "metadata": {},
   "outputs": [
    {
     "data": {
      "text/plain": [
       "<astropy.visualization.units.quantity_support.<locals>.MplQuantityConverter at 0x2ac2c7bb6400>"
      ]
     },
     "execution_count": 3,
     "metadata": {},
     "output_type": "execute_result"
    }
   ],
   "source": [
    "%matplotlib inline\n",
    "import pylab as pl\n",
    "from spectral_cube import SpectralCube\n",
    "from astropy import units as u\n",
    "from astropy.visualization import quantity_support\n",
    "quantity_support()"
   ]
  },
  {
   "cell_type": "code",
   "execution_count": 4,
   "id": "christian-pixel",
   "metadata": {},
   "outputs": [],
   "source": [
    "from astropy.table import Table\n",
    "from astropy import table"
   ]
  },
  {
   "cell_type": "code",
   "execution_count": 5,
   "id": "understood-steal",
   "metadata": {},
   "outputs": [],
   "source": [
    "import pprint"
   ]
  },
  {
   "cell_type": "code",
   "execution_count": 6,
   "id": "detailed-convert",
   "metadata": {},
   "outputs": [],
   "source": [
    "import scipy, scipy.ndimage"
   ]
  },
  {
   "cell_type": "code",
   "execution_count": 7,
   "id": "coral-width",
   "metadata": {},
   "outputs": [
    {
     "name": "stderr",
     "output_type": "stream",
     "text": [
      "WARNING: Model is linear in parameters; consider using linear fitting methods. [astropy.modeling.fitting]\n",
      "WARNING: Model is linear in parameters; consider using linear fitting methods. [astropy.modeling.fitting]\n",
      "WARNING: Model is linear in parameters; consider using linear fitting methods. [astropy.modeling.fitting]\n"
     ]
    }
   ],
   "source": [
    "import numpy as np\n",
    "import os\n",
    "import glob\n",
    "from astropy import constants, units as u, table, stats, coordinates, wcs, log, coordinates as coord\n",
    "import radio_beam\n",
    "import pyspeckit\n",
    "import pylab as pl\n",
    "from astroquery.splatalogue.utils import minimize_table as mt\n",
    "import sys\n",
    "sys.path.append('/orange/adamginsburg/salt/Orion_ALMA_2016.1.00165.S/analysis')\n",
    "import lines\n",
    "import paths\n",
    "import salt_tables\n",
    "import imp\n",
    "imp.reload(salt_tables)\n",
    "from salt_tables import (salt_tables, salt_table_names, SO, SO2, HCl, sis_tables, AlCl, AlF, Al37Cl,\n",
    "                         NaF, AlO, AlOH, NaCN, CaS, CaO)"
   ]
  },
  {
   "cell_type": "code",
   "execution_count": 8,
   "id": "genetic-invitation",
   "metadata": {},
   "outputs": [],
   "source": [
    "import regions\n",
    "from astropy import units as u, coordinates\n",
    "reg = regions.CircleSkyRegion(coordinates.SkyCoord('18h22m26.385s −13:30:11.9700', frame='icrs', unit=(u.h, u.deg)), radius=0.4*u.arcsec)\n",
    "regsm = regions.CircleSkyRegion(coordinates.SkyCoord('18h22m26.385s −13:30:11.9700', frame='icrs', unit=(u.h, u.deg)), radius=0.3*u.arcsec)\n",
    "regvsm = regions.CircleSkyRegion(coordinates.SkyCoord('18h22m26.385s −13:30:11.9700', frame='icrs', unit=(u.h, u.deg)), radius=0.15*u.arcsec)"
   ]
  },
  {
   "cell_type": "markdown",
   "id": "abandoned-registration",
   "metadata": {},
   "source": [
    "# NaCl Stackl"
   ]
  },
  {
   "cell_type": "code",
   "execution_count": 9,
   "id": "forty-temperature",
   "metadata": {},
   "outputs": [],
   "source": [
    "from spectral_cube.analysis_utilities import stack_cube"
   ]
  },
  {
   "cell_type": "code",
   "execution_count": 10,
   "id": "voluntary-importance",
   "metadata": {},
   "outputs": [
    {
     "data": {
      "text/html": [
       "<div><i>Table length=16281</i>\n",
       "<table id=\"table47016286894544\" class=\"table-striped table-bordered table-condensed\">\n",
       "<thead><tr><th>Iso</th><th>Ju</th><th>Jl</th><th>vu</th><th>vl</th><th>nuCalc</th><th>e_nuCalc</th><th>x_nuCalc</th><th>E_U</th><th>Aij</th><th>Freq</th><th>gu</th><th>gl</th><th>E_L</th><th>QNs</th><th>Species</th></tr></thead>\n",
       "<thead><tr><th></th><th></th><th></th><th></th><th></th><th></th><th></th><th></th><th>K</th><th>1 / s</th><th>GHz</th><th></th><th></th><th></th><th></th><th></th></tr></thead>\n",
       "<thead><tr><th>str2</th><th>int16</th><th>int16</th><th>uint8</th><th>uint8</th><th>float64</th><th>float64</th><th>str9</th><th>float64</th><th>float32</th><th>float64</th><th>int16</th><th>int16</th><th>float64</th><th>str15</th><th>str24</th></tr></thead>\n",
       "<tr><td>35</td><td>1</td><td>0</td><td>8</td><td>8</td><td>12268.92600</td><td>0.002000</td><td>MHz</td><td>4019.50</td><td>7e-07</td><td>12.268926</td><td>48</td><td>16</td><td>4018.9111844187687</td><td>v=8-8 J=1-0</td><td>23Na-35Clv=8-8 J=1-0</td></tr>\n",
       "<tr><td>35</td><td>1</td><td>0</td><td>7</td><td>7</td><td>12361.41100</td><td>0.001000</td><td>MHz</td><td>3534.10</td><td>7e-07</td><td>12.361411</td><td>48</td><td>16</td><td>3533.506745838812</td><td>v=7-7 J=1-0</td><td>23Na-35Clv=7-7 J=1-0</td></tr>\n",
       "<tr><td>35</td><td>1</td><td>0</td><td>6</td><td>6</td><td>12454.51100</td><td>0.001000</td><td>MHz</td><td>3043.90</td><td>7e-07</td><td>12.454511</td><td>48</td><td>16</td><td>3043.302277743511</td><td>v=6-6 J=1-0</td><td>23Na-35Clv=6-6 J=1-0</td></tr>\n",
       "<tr><td>35</td><td>1</td><td>0</td><td>5</td><td>5</td><td>12548.22800</td><td>0.000000</td><td>MHz</td><td>2548.90</td><td>7e-07</td><td>12.548228</td><td>48</td><td>16</td><td>2548.29778003688</td><td>v=5-5 J=1-0</td><td>23Na-35Clv=5-5 J=1-0</td></tr>\n",
       "<tr><td>35</td><td>1</td><td>0</td><td>4</td><td>4</td><td>12642.56100</td><td>0.000000</td><td>MHz</td><td>2049.20</td><td>7e-07</td><td>12.642561</td><td>48</td><td>16</td><td>2048.593252766911</td><td>v=4-4 J=1-0</td><td>23Na-35Clv=4-4 J=1-0</td></tr>\n",
       "<tr><td>35</td><td>1</td><td>0</td><td>3</td><td>3</td><td>12737.51100</td><td>0.000000</td><td>MHz</td><td>1544.50</td><td>7e-07</td><td>12.737511000000001</td><td>48</td><td>16</td><td>1543.8886958856133</td><td>v=3-3 J=1-0</td><td>23Na-35Clv=3-3 J=1-0</td></tr>\n",
       "<tr><td>35</td><td>1</td><td>0</td><td>2</td><td>2</td><td>12833.07700</td><td>0.000000</td><td>MHz</td><td>1034.90</td><td>7e-07</td><td>12.833077</td><td>48</td><td>16</td><td>1034.2841094409778</td><td>v=2-2 J=1-0</td><td>23Na-35Clv=2-2 J=1-0</td></tr>\n",
       "<tr><td>35</td><td>1</td><td>0</td><td>1</td><td>1</td><td>12929.26100</td><td>0.000000</td><td>MHz</td><td>520.30</td><td>7e-07</td><td>12.929261</td><td>48</td><td>16</td><td>519.6794933370201</td><td>v=1-1 J=1-0</td><td>23Na-35Clv=1-1 J=1-0</td></tr>\n",
       "<tr><td>35</td><td>1</td><td>0</td><td>0</td><td>0</td><td>13026.06200</td><td>0.000000</td><td>MHz</td><td>0.60</td><td>7e-07</td><td>13.026062</td><td>48</td><td>16</td><td>-0.025152378267389364</td><td>v=0-0 J=1-0</td><td>23Na-35Clv=0-0 J=1-0</td></tr>\n",
       "<tr><td>...</td><td>...</td><td>...</td><td>...</td><td>...</td><td>...</td><td>...</td><td>...</td><td>...</td><td>...</td><td>...</td><td>...</td><td>...</td><td>...</td><td>...</td><td>...</td></tr>\n",
       "<tr><td>35</td><td>12</td><td>11</td><td>8</td><td>0</td><td>83834557.74336</td><td>0.000660</td><td>MHz</td><td>4064.80</td><td>3e-11</td><td>83834.55774335668</td><td>400</td><td>368</td><td>41.37579441475009</td><td>v=8-0 J=12-11</td><td>23Na-35Clv=8-0 J=12-11</td></tr>\n",
       "<tr><td>35</td><td>21</td><td>20</td><td>8</td><td>0</td><td>83835703.84992</td><td>0.000650</td><td>MHz</td><td>4154.90</td><td>3e-11</td><td>83835.70384992361</td><td>688</td><td>656</td><td>131.42078997472254</td><td>v=8-0 J=21-20</td><td>23Na-35Clv=8-0 J=21-20</td></tr>\n",
       "<tr><td>35</td><td>13</td><td>12</td><td>8</td><td>0</td><td>83837725.05068</td><td>0.000660</td><td>MHz</td><td>4072.50</td><td>3e-11</td><td>83837.72505067544</td><td>432</td><td>400</td><td>48.92378763764191</td><td>v=8-0 J=13-12</td><td>23Na-35Clv=8-0 J=13-12</td></tr>\n",
       "<tr><td>35</td><td>20</td><td>19</td><td>8</td><td>0</td><td>83838617.83262</td><td>0.000650</td><td>MHz</td><td>4142.50</td><td>3e-11</td><td>83838.61783261536</td><td>656</td><td>624</td><td>118.88094086223009</td><td>v=8-0 J=20-19</td><td>23Na-35Clv=8-0 J=20-19</td></tr>\n",
       "<tr><td>35</td><td>14</td><td>13</td><td>8</td><td>0</td><td>83840132.98370</td><td>0.000660</td><td>MHz</td><td>4080.70</td><td>3e-11</td><td>83840.13298369809</td><td>464</td><td>432</td><td>57.008225078841406</td><td>v=8-0 J=14-13</td><td>23Na-35Clv=8-0 J=14-13</td></tr>\n",
       "<tr><td>35</td><td>19</td><td>18</td><td>8</td><td>0</td><td>83840771.24184</td><td>0.000650</td><td>MHz</td><td>4130.70</td><td>3e-11</td><td>83840.77124184118</td><td>624</td><td>592</td><td>106.97759351911918</td><td>v=8-0 J=19-18</td><td>23Na-35Clv=8-0 J=19-18</td></tr>\n",
       "<tr><td>35</td><td>15</td><td>14</td><td>8</td><td>0</td><td>83841780.94284</td><td>0.000660</td><td>MHz</td><td>4089.60</td><td>3e-11</td><td>83841.78094283973</td><td>496</td><td>464</td><td>65.82913551388401</td><td>v=8-0 J=15-14</td><td>23Na-35Clv=8-0 J=15-14</td></tr>\n",
       "<tr><td>35</td><td>18</td><td>17</td><td>8</td><td>0</td><td>83842164.37739</td><td>0.000660</td><td>MHz</td><td>4119.60</td><td>3e-11</td><td>83842.1643773935</td><td>592</td><td>560</td><td>95.81073355762146</td><td>v=8-0 J=18-17</td><td>23Na-35Clv=8-0 J=18-17</td></tr>\n",
       "<tr><td>35</td><td>16</td><td>15</td><td>8</td><td>0</td><td>83842668.92810</td><td>0.000660</td><td>MHz</td><td>4099.00</td><td>3e-11</td><td>83842.6689281003</td><td>528</td><td>496</td><td>75.18651894277355</td><td>v=8-0 J=16-15</td><td>23Na-35Clv=8-0 J=16-15</td></tr>\n",
       "<tr><td>35</td><td>17</td><td>16</td><td>8</td><td>0</td><td>83842796.63969</td><td>0.000660</td><td>MHz</td><td>4109.00</td><td>3e-11</td><td>83842.79663968744</td><td>560</td><td>528</td><td>85.18038975327363</td><td>v=8-0 J=17-16</td><td>23Na-35Clv=8-0 J=17-16</td></tr>\n",
       "</table></div>"
      ],
      "text/plain": [
       "<Table length=16281>\n",
       "Iso    Ju    Jl  ...          E_L               QNs             Species        \n",
       "                 ...                                                           \n",
       "str2 int16 int16 ...        float64            str15             str24         \n",
       "---- ----- ----- ... --------------------- ------------- ----------------------\n",
       "  35     1     0 ...    4018.9111844187687   v=8-8 J=1-0   23Na-35Clv=8-8 J=1-0\n",
       "  35     1     0 ...     3533.506745838812   v=7-7 J=1-0   23Na-35Clv=7-7 J=1-0\n",
       "  35     1     0 ...     3043.302277743511   v=6-6 J=1-0   23Na-35Clv=6-6 J=1-0\n",
       "  35     1     0 ...      2548.29778003688   v=5-5 J=1-0   23Na-35Clv=5-5 J=1-0\n",
       "  35     1     0 ...     2048.593252766911   v=4-4 J=1-0   23Na-35Clv=4-4 J=1-0\n",
       "  35     1     0 ...    1543.8886958856133   v=3-3 J=1-0   23Na-35Clv=3-3 J=1-0\n",
       "  35     1     0 ...    1034.2841094409778   v=2-2 J=1-0   23Na-35Clv=2-2 J=1-0\n",
       "  35     1     0 ...     519.6794933370201   v=1-1 J=1-0   23Na-35Clv=1-1 J=1-0\n",
       "  35     1     0 ... -0.025152378267389364   v=0-0 J=1-0   23Na-35Clv=0-0 J=1-0\n",
       " ...   ...   ... ...                   ...           ...                    ...\n",
       "  35    12    11 ...     41.37579441475009 v=8-0 J=12-11 23Na-35Clv=8-0 J=12-11\n",
       "  35    21    20 ...    131.42078997472254 v=8-0 J=21-20 23Na-35Clv=8-0 J=21-20\n",
       "  35    13    12 ...     48.92378763764191 v=8-0 J=13-12 23Na-35Clv=8-0 J=13-12\n",
       "  35    20    19 ...    118.88094086223009 v=8-0 J=20-19 23Na-35Clv=8-0 J=20-19\n",
       "  35    14    13 ...    57.008225078841406 v=8-0 J=14-13 23Na-35Clv=8-0 J=14-13\n",
       "  35    19    18 ...    106.97759351911918 v=8-0 J=19-18 23Na-35Clv=8-0 J=19-18\n",
       "  35    15    14 ...     65.82913551388401 v=8-0 J=15-14 23Na-35Clv=8-0 J=15-14\n",
       "  35    18    17 ...     95.81073355762146 v=8-0 J=18-17 23Na-35Clv=8-0 J=18-17\n",
       "  35    16    15 ...     75.18651894277355 v=8-0 J=16-15 23Na-35Clv=8-0 J=16-15\n",
       "  35    17    16 ...     85.18038975327363 v=8-0 J=17-16 23Na-35Clv=8-0 J=17-16"
      ]
     },
     "execution_count": 10,
     "metadata": {},
     "output_type": "execute_result"
    }
   ],
   "source": [
    "nacltables = salt_tables[3:5]\n",
    "nacltables[0]"
   ]
  },
  {
   "cell_type": "code",
   "execution_count": 11,
   "id": "missing-british",
   "metadata": {},
   "outputs": [],
   "source": [
    "import spectral_cube.analysis_utilities\n",
    "import imp\n",
    "imp.reload(spectral_cube.analysis_utilities)\n",
    "from spectral_cube.analysis_utilities import stack_cube"
   ]
  },
  {
   "cell_type": "code",
   "execution_count": 12,
   "id": "numerous-walter",
   "metadata": {},
   "outputs": [
    {
     "name": "stderr",
     "output_type": "stream",
     "text": [
      "WARNING: StokesWarning: Cube is a Stokes cube, returning spectral cube for I component [spectral_cube.io.core]\n",
      "WARNING: StokesWarning: Cube is a Stokes cube, returning spectral cube for I component [spectral_cube.io.core]\n",
      "WARNING: StokesWarning: Cube is a Stokes cube, returning spectral cube for I component [spectral_cube.io.core]\n",
      "WARNING: StokesWarning: Cube is a Stokes cube, returning spectral cube for I component [spectral_cube.io.core]\n"
     ]
    },
    {
     "data": {
      "text/plain": [
       "(<Quantity [217.980231, 219.614936, 232.509977, 234.251912] GHz>,\n",
       " array(['23Na-35Clv=2-2 J=17-16', '23Na-35Clv=1-1 J=17-16',\n",
       "        '23Na-35Clv=1-1 J=18-17', '23Na-35Clv=0-0 J=18-17'], dtype='<U24'))"
      ]
     },
     "execution_count": 12,
     "metadata": {},
     "output_type": "execute_result"
    }
   ],
   "source": [
    "cubes = [SpectralCube.read(fn).subcube_from_regions([reg]) for fn in (glob.glob('G17_SPW[0-3]_2017.image.fits'))]\n",
    "\n",
    "beams = radio_beam.Beams(beams=[cube.beams.common_beam() for cube in cubes])\n",
    "cb=beams.common_beam()\n",
    "\n",
    "linelist = np.concatenate([data['Freq'][(data['vu'] <= 3) &\n",
    "                                          np.any([((data['Freq'].quantity > cube.spectral_extrema[0]) &\n",
    "                                                   (data['Freq'].quantity < cube.spectral_extrema[1]))\n",
    "                                                 for cube in cubes],\n",
    "                                                 axis=0)].quantity\n",
    "                             for data in nacltables])\n",
    "linenames = np.concatenate( [data['Species'][(data['vu'] <= 3) &\n",
    "                                          np.any([((data['Freq'].quantity > cube.spectral_extrema[0]) &\n",
    "                                                   (data['Freq'].quantity < cube.spectral_extrema[1]))\n",
    "                                                 for cube in cubes],\n",
    "                                                 axis=0)]\n",
    "                             for data in nacltables] )\n",
    "(linelist, linenames)"
   ]
  },
  {
   "cell_type": "code",
   "execution_count": 13,
   "id": "literary-clark",
   "metadata": {},
   "outputs": [
    {
     "data": {
      "text/plain": [
       "[<Column name='Species' dtype='str24' length=4>\n",
       " 23Na-35Clv=2-2 J=17-16\n",
       " 23Na-35Clv=1-1 J=17-16\n",
       " 23Na-35Clv=1-1 J=18-17\n",
       " 23Na-35Clv=0-0 J=18-17,\n",
       " <Column name='Species' dtype='str24' length=0>]"
      ]
     },
     "execution_count": 13,
     "metadata": {},
     "output_type": "execute_result"
    }
   ],
   "source": [
    "[data['Species'][(data['vu'] <= 3) &\n",
    "                                          np.any([((data['Freq'].quantity > cube.spectral_extrema[0]) &\n",
    "                                                   (data['Freq'].quantity < cube.spectral_extrema[1]))\n",
    "                                                 for cube in cubes],\n",
    "                                                 axis=0)]\n",
    "                             for data in nacltables]"
   ]
  },
  {
   "cell_type": "code",
   "execution_count": 14,
   "id": "conventional-supervision",
   "metadata": {},
   "outputs": [],
   "source": [
    "from astropy import log\n",
    "log.setLevel('INFO')"
   ]
  },
  {
   "cell_type": "code",
   "execution_count": 15,
   "id": "neither-blake",
   "metadata": {},
   "outputs": [
    {
     "name": "stderr",
     "output_type": "stream",
     "text": [
      "WARNING: PossiblySlowWarning: This function (<function VaryingResolutionSpectralCube.convolve_to at 0x2ac2c778a1f0>) requires loading the entire cube into memory and may therefore be slow. [spectral_cube.utils]\n",
      "WARNING: PossiblySlowWarning: This function (<function VaryingResolutionSpectralCube.convolve_to at 0x2ac2c778a1f0>) requires loading the entire cube into memory and may therefore be slow. [spectral_cube.utils]\n",
      "WARNING: PossiblySlowWarning: This function (<function VaryingResolutionSpectralCube.convolve_to at 0x2ac2c778a1f0>) requires loading the entire cube into memory and may therefore be slow. [spectral_cube.utils]\n",
      "WARNING: PossiblySlowWarning: This function (<function VaryingResolutionSpectralCube.convolve_to at 0x2ac2c778a1f0>) requires loading the entire cube into memory and may therefore be slow. [spectral_cube.utils]\n",
      "Mean of empty slice\n"
     ]
    }
   ],
   "source": [
    "#log.setLevel('DEBUG')\n",
    "stack, cutouts = stack_cube(cubes,\n",
    "                   linelist=linelist,\n",
    "                   vmin=-10*u.km/u.s,\n",
    "                   vmax=50*u.km/u.s,\n",
    "                   average=np.nanmean,\n",
    "                   convolve_beam=cb,\n",
    "                   return_cutouts=True)\n",
    "#log.setLevel('INFO')\n",
    "stack.writeto('NaCl_v_le_3_stackcube.fits', overwrite=True)"
   ]
  },
  {
   "cell_type": "code",
   "execution_count": 16,
   "id": "funky-allowance",
   "metadata": {},
   "outputs": [
    {
     "data": {
      "text/plain": [
       "SpectralCube with shape=(91, 159, 160) and unit=Jy / beam:\n",
       " n_x:    160  type_x: RA---SIN  unit_x: deg    range:   275.609824 deg:  275.610051 deg\n",
       " n_y:    159  type_y: DEC--SIN  unit_y: deg    range:   -13.503435 deg:  -13.503215 deg\n",
       " n_s:     91  type_s: VRAD      unit_s: km / s  range:      -10.197 km / s:      50.245 km / s"
      ]
     },
     "execution_count": 16,
     "metadata": {},
     "output_type": "execute_result"
    }
   ],
   "source": [
    "stackc = SpectralCube.read('NaCl_v_le_3_stackcube.fits')\n",
    "stackc"
   ]
  },
  {
   "cell_type": "code",
   "execution_count": 17,
   "id": "passive-capture",
   "metadata": {},
   "outputs": [],
   "source": [
    "from astropy.visualization import simple_norm"
   ]
  },
  {
   "cell_type": "code",
   "execution_count": 18,
   "id": "ambient-curtis",
   "metadata": {},
   "outputs": [
    {
     "ename": "NameError",
     "evalue": "name 'm0' is not defined",
     "output_type": "error",
     "traceback": [
      "\u001b[0;31m---------------------------------------------------------------------------\u001b[0m",
      "\u001b[0;31mNameError\u001b[0m                                 Traceback (most recent call last)",
      "\u001b[0;32m<ipython-input-18-05f64c3645fa>\u001b[0m in \u001b[0;36m<module>\u001b[0;34m\u001b[0m\n\u001b[0;32m----> 1\u001b[0;31m \u001b[0mpixscale\u001b[0m \u001b[0;34m=\u001b[0m \u001b[0;34m(\u001b[0m\u001b[0mm0\u001b[0m\u001b[0;34m.\u001b[0m\u001b[0mwcs\u001b[0m\u001b[0;34m.\u001b[0m\u001b[0mproj_plane_pixel_scales\u001b[0m\u001b[0;34m(\u001b[0m\u001b[0;34m)\u001b[0m\u001b[0;34m)\u001b[0m\u001b[0;34m[\u001b[0m\u001b[0;36m0\u001b[0m\u001b[0;34m]\u001b[0m\u001b[0;34m\u001b[0m\u001b[0;34m\u001b[0m\u001b[0m\n\u001b[0m\u001b[1;32m      2\u001b[0m \u001b[0mpixscale_au\u001b[0m \u001b[0;34m=\u001b[0m \u001b[0;34m(\u001b[0m\u001b[0mpixscale\u001b[0m \u001b[0;34m*\u001b[0m \u001b[0;36m2.4\u001b[0m\u001b[0;34m*\u001b[0m\u001b[0mu\u001b[0m\u001b[0;34m.\u001b[0m\u001b[0mkpc\u001b[0m\u001b[0;34m)\u001b[0m\u001b[0;34m.\u001b[0m\u001b[0mto\u001b[0m\u001b[0;34m(\u001b[0m\u001b[0mu\u001b[0m\u001b[0;34m.\u001b[0m\u001b[0mau\u001b[0m\u001b[0;34m,\u001b[0m \u001b[0mu\u001b[0m\u001b[0;34m.\u001b[0m\u001b[0mdimensionless_angles\u001b[0m\u001b[0;34m(\u001b[0m\u001b[0;34m)\u001b[0m\u001b[0;34m)\u001b[0m\u001b[0;34m\u001b[0m\u001b[0;34m\u001b[0m\u001b[0m\n\u001b[1;32m      3\u001b[0m \u001b[0mpixscale_au\u001b[0m\u001b[0;34m\u001b[0m\u001b[0;34m\u001b[0m\u001b[0m\n",
      "\u001b[0;31mNameError\u001b[0m: name 'm0' is not defined"
     ]
    }
   ],
   "source": [
    "pixscale = (m0.wcs.proj_plane_pixel_scales())[0]\n",
    "pixscale_au = (pixscale * 2.4*u.kpc).to(u.au, u.dimensionless_angles())\n",
    "pixscale_au"
   ]
  },
  {
   "cell_type": "code",
   "execution_count": null,
   "id": "corrected-integration",
   "metadata": {},
   "outputs": [],
   "source": [
    "m0 = stackc[:,18:-20,18:-20].moment0()\n",
    "\n",
    "pl.imshow(m0.value, cmap='Blues', origin='lower',)# vmax=m0.value.max()*2,)\n",
    "          #norm=simple_norm(m0.value, stretch='log', max_cut=m0.value.max()*10))\n",
    "pl.title(\"G17\")\n",
    "pl.plot([15,20], [16,16], color='r')\n",
    "pl.text(17.5, 17, '60 AU', horizontalalignment='center', color='r')\n",
    "pl.gca().set_xticklabels([])\n",
    "pl.gca().set_yticklabels([])\n",
    "pl.gca().set_xticks([])\n",
    "pl.gca().set_yticks([])\n",
    "pl.savefig(\"G17_NaCl_mom0.png\")"
   ]
  },
  {
   "cell_type": "code",
   "execution_count": null,
   "id": "urban-tracy",
   "metadata": {},
   "outputs": [],
   "source": [
    "stackc = stackc.subcube_from_regions([regvsm])\n",
    "pl.figure(figsize=(14,5))\n",
    "pl.subplot(1,3,1)\n",
    "m0 = stackc.moment0()\n",
    "m0.quicklook()\n",
    "pl.title(\"m0\")\n",
    "\n",
    "pl.subplot(1,3,2)\n",
    "mx = stackc.max(axis=0)\n",
    "mx.quicklook()\n",
    "pl.title(\"mx\")\n",
    "pl.colorbar()\n",
    "pl.subplot(1,3,3)\n",
    "msk = mx > 0.0016*mx.unit\n",
    "msk = scipy.ndimage.binary_erosion(msk, iterations=1)\n",
    "msk = scipy.ndimage.binary_dilation(msk, iterations=5)\n",
    "pl.imshow(msk, interpolation='none', origin='lower')\n",
    "pl.tight_layout()\n",
    "pl.figure()\n",
    "\n",
    "\n",
    "m1 = stackc.with_mask(msk).with_mask(stackc > 0.0005*stackc.unit).moment1()\n",
    "pl.figure(figsize=(14,6))\n",
    "ax1 = pl.subplot(1,2,1)\n",
    "im = ax1.imshow(m1.value, vmin=-10, vmax=50)\n",
    "pl.colorbar(mappable=im)\n",
    "mxv = stackc.with_mask(msk).argmax_world(axis=0)\n",
    "pl.subplot(1,2,2)\n",
    "pl.imshow(mxv.value, vmin=-10, vmax=50)\n",
    "pl.colorbar()\n",
    "\n",
    "\n",
    "vmap = mxv.hdu"
   ]
  },
  {
   "cell_type": "code",
   "execution_count": null,
   "id": "hungry-validity",
   "metadata": {},
   "outputs": [],
   "source": [
    "stackc.mean(axis=(1,2)).quicklook()\n",
    "stackc.with_mask(msk).mean(axis=(1,2)).quicklook()"
   ]
  },
  {
   "cell_type": "code",
   "execution_count": null,
   "id": "absolute-mainstream",
   "metadata": {},
   "outputs": [],
   "source": [
    "for cutout, linef in zip(cutouts, linenames):\n",
    "    cutout = SpectralCube(data=cutout, header=stack.header, wcs=wcs.WCS(stack.header)).subcube_from_regions([regvsm])\n",
    "    sp = cutout.with_mask(msk).mean(axis=(1,2))\n",
    "    pl.plot(sp.spectral_axis, sp.value, label=str(linef))\n",
    "    pl.legend(loc='upper left', bbox_to_anchor=(1.01,0.5,0,0))"
   ]
  },
  {
   "cell_type": "markdown",
   "id": "filled-truth",
   "metadata": {},
   "source": [
    "# Past exploration of vmap"
   ]
  },
  {
   "cell_type": "code",
   "execution_count": null,
   "id": "dressed-while",
   "metadata": {},
   "outputs": [],
   "source": [
    "cubespw2 = SpectralCube.read('G17_SPW2_2017.image.fits', use_dask=True).subcube_from_regions([reg])\n",
    "cubespw2"
   ]
  },
  {
   "cell_type": "code",
   "execution_count": null,
   "id": "pointed-recovery",
   "metadata": {},
   "outputs": [],
   "source": [
    "m0 = cubespw2.spectral_slab(231.8187*u.GHz, 231.9154*u.GHz).moment0()\n",
    "m0.quicklook()"
   ]
  },
  {
   "cell_type": "markdown",
   "id": "beginning-tuesday",
   "metadata": {},
   "source": [
    "naclv1 = cubespw2.subcube_from_regions([regvsm]).with_spectral_unit(u.km/u.s, velocity_convention='radio', rest_value=232509.97700*u.MHz).spectral_slab(0*u.km/u.s, 40*u.km/u.s)\n",
    "m0 = naclv1.moment0()\n",
    "m0.quicklook()\n",
    "\n",
    "mx = naclv1.max(axis=0)\n",
    "mx.quicklook()\n",
    "pl.colorbar()\n",
    "msk = mx > 0.00245*mx.unit\n",
    "msk = scipy.ndimage.binary_dilation(scipy.ndimage.binary_erosion(msk, iterations=1), iterations=7)\n",
    "pl.imshow(msk)\n",
    "pl.figure()\n",
    "\n",
    "\n",
    "m1 = naclv1.with_mask(msk).with_mask(naclv1 > 0.0005*naclv1.unit).moment1()\n",
    "pl.imshow(m1.value, vmin=0, vmax=40)\n",
    "pl.colorbar()\n",
    "vmap = m1.hdu"
   ]
  },
  {
   "cell_type": "markdown",
   "id": "statistical-marriage",
   "metadata": {},
   "source": [
    "cubespw3 = SpectralCube.read('G17_SPW3_2017.image.fits', use_dask=True).subcube_from_regions([reg])\n",
    "\n",
    "naclv0 = cubespw3.subcube_from_regions([regvsm]).with_spectral_unit(u.km/u.s, velocity_convention='radio', rest_value=234251.91200*u.MHz).spectral_slab(0*u.km/u.s, 40*u.km/u.s)\n",
    "m0 = naclv0.moment0()\n",
    "m0.quicklook()\n",
    "\n",
    "mx = naclv0.max(axis=0)\n",
    "mx.quicklook()\n",
    "pl.colorbar()\n",
    "msk = mx > 0.004*mx.unit\n",
    "msk = scipy.ndimage.binary_dilation(scipy.ndimage.binary_erosion(msk, iterations=1), iterations=7)\n",
    "pl.imshow(msk)\n",
    "pl.figure()\n",
    "\n",
    "\n",
    "m1 = naclv0.with_mask(msk).with_mask(naclv0 > 0.0005*naclv1.unit).moment1()\n",
    "pl.imshow(m1.value, vmin=0, vmax=40)\n",
    "pl.colorbar()\n",
    "vmap = m1.hdu\n",
    "\n"
   ]
  },
  {
   "cell_type": "code",
   "execution_count": null,
   "id": "communist-swaziland",
   "metadata": {},
   "outputs": [],
   "source": [
    "cubespw1 = SpectralCube.read('G17_SPW1_2017.image.fits', use_dask=True).subcube_from_regions([reg])\n",
    "cubespw1"
   ]
  },
  {
   "cell_type": "code",
   "execution_count": null,
   "id": "inclusive-syndrome",
   "metadata": {},
   "outputs": [],
   "source": [
    "m0 = cubespw1.spectral_slab(219.9246*u.GHz, 219.9422*u.GHz).moment0()\n",
    "m0.quicklook()"
   ]
  },
  {
   "cell_type": "code",
   "execution_count": null,
   "id": "exceptional-union",
   "metadata": {},
   "outputs": [],
   "source": [
    "m1 = cubespw1.spectral_slab(219.9246*u.GHz, 219.9422*u.GHz).with_spectral_unit(u.km/u.s, velocity_convention='radio', rest_value=219.9320*u.GHz).moment1()\n",
    "m1.quicklook()\n",
    "pl.imshow(m1.value, vmin=-20, vmax=20)\n",
    "pl.colorbar()"
   ]
  },
  {
   "cell_type": "code",
   "execution_count": null,
   "id": "seven-frost",
   "metadata": {},
   "outputs": [],
   "source": [
    "import glob\n",
    "import pyspeckit"
   ]
  },
  {
   "cell_type": "code",
   "execution_count": null,
   "id": "advance-escape",
   "metadata": {},
   "outputs": [],
   "source": [
    "spectra = []\n",
    "for fn in glob.glob(\"*.fits\"):\n",
    "    cube = SpectralCube.read(fn).subcube_from_regions([regvsm])\n",
    "    sp = pyspeckit.Spectrum(xarr=cube.spectral_axis, data=cube.mean(axis=(1,2)))\n",
    "    pl.figure()\n",
    "    sp.plotter()\n",
    "    pl.title(fn)\n",
    "    \n",
    "    sp.specname = fn\n",
    "    \n",
    "    spectra.append(sp)"
   ]
  },
  {
   "cell_type": "markdown",
   "id": "affected-sacrifice",
   "metadata": {},
   "source": [
    "sp.plotter(xmin=219.8e9, xmax=220.0e9)\n",
    "sp.specfit(gueses=[0.002, 219.98e9, 0.01e9])"
   ]
  },
  {
   "cell_type": "code",
   "execution_count": null,
   "id": "jewish-sunday",
   "metadata": {},
   "outputs": [],
   "source": [
    "from astroquery.splatalogue import Splatalogue\n",
    "from astropy import constants"
   ]
  },
  {
   "cell_type": "markdown",
   "id": "automated-balloon",
   "metadata": {},
   "source": [
    "frq = sp.specfit.parinfo[1].value*u.Hz\n",
    "vel = 0*u.km/u.s # 22*u.km/u.s\n",
    "width = 5*u.km/u.s\n",
    "fmin = frq * (1-(vel+width)/constants.c)\n",
    "fmax = frq * (1-(vel-width)/constants.c)\n",
    "Splatalogue.query_lines(fmin, fmax, line_lists=['JPL']).pprint(max_lines=1000, max_width=250)"
   ]
  },
  {
   "cell_type": "code",
   "execution_count": null,
   "id": "approved-homeless",
   "metadata": {},
   "outputs": [],
   "source": [
    "import glob\n",
    "import spectral_cube.analysis_utilities\n",
    "import reproject\n",
    "\n",
    "flist = [x for x in glob.glob('*.fits') if 'spectra' not in x]\n",
    "flist = glob.glob('G17_SPW[0-3]_2017.image.fits')\n",
    "for fn in flist:\n",
    "    basename = os.path.split(fn)[-1].split(\".fits\")[0]\n",
    "    try:\n",
    "        cube = SpectralCube.read(fn, use_dask=True)\n",
    "    except Exception as ex:\n",
    "        print(ex)\n",
    "        continue\n",
    "    print(cube)\n",
    "    scube = cube.subcube_from_regions([regvsm])\n",
    "    mx = scube.max(axis=0)\n",
    "    #msk = mx > 0.003*mx.unit\n",
    "    sp = scube.mean(axis=(1,2))\n",
    "    \n",
    "    sp.write(f'spectra/{fn.split(\"/\")[-1].replace(\".fits\",\"_meanspec.fits\")}', overwrite=True)\n",
    "\n",
    "    # convert the cube to velocity units with an arbitrary reference point\n",
    "    # (this step assumes the cube is in frequency or wavelength; if the\n",
    "    # cube is not, it should be skipped)\n",
    "    if not cube.spectral_axis.unit.is_equivalent(u.km/u.s):\n",
    "        fullcube = cube.with_spectral_unit(u.km/u.s,\n",
    "                                           velocity_convention='radio',\n",
    "                                           rest_value=cube.spectral_axis.mean())\n",
    "    else:\n",
    "        fullcube = cube\n",
    "\n",
    "    # force the fullcube to be a regular cube, not varying res\n",
    "    # (resolution variation is negligible and I don't want to spend time smoothing)\n",
    "    commonbeam = fullcube.beams.common_beam()\n",
    "    fullcube = SpectralCube(data=fullcube._data, wcs=fullcube.wcs, beam=commonbeam, mask=fullcube.mask,)\n",
    "\n",
    "    scube = fullcube.subcube_from_regions([regvsm])#.convolve_to(fullcube.beams.common_beam())\n",
    "\n",
    "    # reproject the velocity map into the cube's coordinate system\n",
    "    vmap_proj,_ = reproject.reproject_interp(vmap,\n",
    "                                             scube.wcs.celestial,\n",
    "                                             shape_out=scube.shape[1:])\n",
    "    vmap_proj = u.Quantity(vmap_proj, u.km/u.s)\n",
    "\n",
    "\n",
    "    # perform the stacking!\n",
    "    stack = spectral_cube.analysis_utilities.stack_spectra(scube, vmap_proj,\n",
    "                                                           v0=0.0*u.km/u.s)\n",
    "    fstack = stack.with_spectral_unit(u.GHz)\n",
    "\n",
    "    pl.suptitle(f\"{fn}\")\n",
    "    fstack.write(f'spectra/{basename}_stack.fits', overwrite=True)\n",
    "\n",
    "    pl.clf()\n",
    "    fstack.quicklook(filename=f'spectra/figures/{basename}_stack.pdf')\n",
    "    fstack.quicklook(filename=f'spectra/figures/{basename}_stack.png')\n",
    "    \n",
    "    \n",
    "    fig = pl.figure()\n",
    "    mappable = pl.subplot(1,2,1).imshow(mx.value, origin='lower', interpolation='none')\n",
    "    pl.colorbar(mappable)\n",
    "    pl.subplot(1,2,2)\n",
    "    pl.suptitle(fn)\n",
    "    sp.quicklook()"
   ]
  },
  {
   "cell_type": "code",
   "execution_count": null,
   "id": "minimal-sudan",
   "metadata": {},
   "outputs": [],
   "source": [
    "spectra = []\n",
    "for fn in glob.glob(\"spectra/*stack.fits\"):\n",
    "\n",
    "    sp = pyspeckit.Spectrum(fn)\n",
    "    pl.figure()\n",
    "    sp.plotter()\n",
    "    pl.title(fn)\n",
    "    \n",
    "    sp.specname = fn\n",
    "    \n",
    "    spectra.append(sp)"
   ]
  },
  {
   "cell_type": "code",
   "execution_count": null,
   "id": "green-perry",
   "metadata": {},
   "outputs": [],
   "source": [
    "if not os.path.exists('spectra'):\n",
    "    os.mkdir('spectra')\n",
    "if not os.path.exists('spectra/figures'):\n",
    "    os.mkdir('spectra/figures')   "
   ]
  },
  {
   "cell_type": "code",
   "execution_count": null,
   "id": "absent-defendant",
   "metadata": {},
   "outputs": [],
   "source": []
  },
  {
   "cell_type": "code",
   "execution_count": null,
   "id": "composite-logan",
   "metadata": {},
   "outputs": [],
   "source": [
    "# (vcen in the stacked centroid is defined to be zero)\n",
    "vcen = 0*u.km/u.s\n",
    "\n",
    "pl.matplotlib.rcParams['font.size']=16\n",
    "\n",
    "all_lines = {**lines.disk_lines, **lines.absorbers}\n",
    "\n",
    "ided_linenames = sorted(all_lines.keys())\n",
    "ided_linefreqs = u.Quantity([all_lines[x] for x in ided_linenames\n",
    "                             #if 'U' not in x\n",
    "                            ])\n",
    "ided_linetexnames = [lines.texnames[x] if x in lines.texnames else x\n",
    "                     for x in ided_linenames\n",
    "                     #if 'U' not in x\n",
    "                    ]\n",
    "\n",
    "#salt_tables = [KCl, K37Cl, K41Cl, NaCl, Na37Cl, K41Cl37]\n",
    "salt_colors = ['b', 'm', 'darkgreen', 'orange', 'c', 'y']\n",
    "\n",
    "# table5 is 41K-37Cl\n",
    "tables = salt_tables[:5]\n",
    "\n",
    "def linename(row):\n",
    "    return row['Species'] #\"{0} {1}\".format(row['Species'], row['QNs'])\n",
    "def freq(row):\n",
    "    return u.Quantity(row['Freq'], u.GHz)\n",
    "\n",
    "#linenames = [linename(row) for tbl in tables for row in tbl if row['vu'] <=4]\n",
    "rows = [row for tbl in tables for row in tbl if row['vu'] <=4]\n",
    "linetexnames = [linename(row) for row in rows] + ided_linetexnames\n",
    "linetexnames = np.array(linetexnames)\n",
    "linefreqs = np.hstack([u.Quantity([freq(row) for row in rows], u.GHz).value,\n",
    "                       ided_linefreqs.value])\n",
    "linefreqs = u.Quantity(linefreqs, u.GHz)\n",
    "\n",
    "#detection_table = table.Table.read(paths.tpath('salts_in_band.ipac'), format='ascii.ipac')\n",
    "#nondetections = (detection_table['Flag'] == '-n') | (detection_table['Flag'] == 'cn')\n",
    "#detection_table = detection_table[~nondetections]\n",
    "\n",
    "paths.fpath = lambda x: f\"spectra/figures/{x}\"\n",
    "\n",
    "for sp_st in spectra:\n",
    "    \n",
    "    sp_st.xarr.convert_to_unit(u.GHz)\n",
    "    \n",
    "    basefn = os.path.basename(sp_st.specname)\n",
    "    print(basefn)\n",
    "    \n",
    "    pl.figure(0, figsize=(16,6)).clf()\n",
    "    sp_st.plotter(figure=pl.figure(0, figsize=(16,6)), clear=True)\n",
    "\n",
    "    lines_to_plot = ((linefreqs > sp_st.xarr.as_unit(linefreqs.unit).min()*(1-vcen/constants.c)) &\n",
    "                     (linefreqs < sp_st.xarr.as_unit(linefreqs.unit).max()*(1+vcen/constants.c)))\n",
    "    print(list(zip(linetexnames[lines_to_plot], linefreqs[lines_to_plot])))\n",
    "    \n",
    "    ymax = sp_st.data.max()\n",
    "    ymin = sp_st.data.min()\n",
    "    if ymax < 0.004:\n",
    "        ymax = 0.004\n",
    "    if ymin < -0.001:\n",
    "        ymin = -0.001\n",
    "    sp_st.plotter(ymax=ymax, ymin=ymin)\n",
    "    \n",
    "    sp_st.plotter.line_ids(linetexnames[lines_to_plot], linefreqs[lines_to_plot], velocity_offset=vcen,\n",
    "                           label1_size=16,\n",
    "                           auto_yloc_fraction=0.75)\n",
    "    for txt in sp_st.plotter.axis.texts:\n",
    "        txt.set_backgroundcolor((1,1,1,0.9))\n",
    "\n",
    "\n",
    "    sp_st.plotter.savefig(paths.fpath('{0}'\n",
    "                                      .format(basefn.replace(\"fits\",\"png\")))\n",
    "                          )\n",
    "\n",
    "    for obj in sp_st.plotter.axis.texts+sp_st.plotter.axis.lines:\n",
    "        if 'Na' in obj.get_label():\n",
    "            obj.set_color('r')\n",
    "            obj.set_zorder(5)\n",
    "        elif 'K' in obj.get_label():\n",
    "            obj.set_color('b')\n",
    "            obj.set_zorder(10)\n",
    "    for txt in sp_st.plotter.axis.texts:\n",
    "        txt.set_backgroundcolor((1,1,1,0.9))\n",
    "\n",
    "    sp_st.plotter.savefig(paths.fpath('color_labels_{0}'\n",
    "                                      .format(basefn.replace(\"fits\",\"png\")))\n",
    "                          )"
   ]
  },
  {
   "cell_type": "code",
   "execution_count": null,
   "id": "enormous-tourism",
   "metadata": {},
   "outputs": [],
   "source": [
    "from IPython.display import Image"
   ]
  },
  {
   "cell_type": "code",
   "execution_count": null,
   "id": "collective-turner",
   "metadata": {},
   "outputs": [],
   "source": [
    "ls spectra/figures/color_labels*"
   ]
  },
  {
   "cell_type": "code",
   "execution_count": null,
   "id": "disabled-integral",
   "metadata": {},
   "outputs": [],
   "source": [
    "Image('spectra/figures/color_labels_G17_SPW0_2017.image_stack.png')"
   ]
  },
  {
   "cell_type": "code",
   "execution_count": null,
   "id": "colonial-alarm",
   "metadata": {},
   "outputs": [],
   "source": [
    "Image('spectra/figures/color_labels_G17_SPW1_2017.image_stack.png')"
   ]
  },
  {
   "cell_type": "code",
   "execution_count": null,
   "id": "identified-anime",
   "metadata": {},
   "outputs": [],
   "source": [
    "Image('spectra/figures/color_labels_G17_SPW2_2017.image_stack.png')"
   ]
  },
  {
   "cell_type": "code",
   "execution_count": null,
   "id": "working-space",
   "metadata": {},
   "outputs": [],
   "source": [
    "Image('spectra/figures/color_labels_G17_SPW3_2017.image_stack.png')"
   ]
  },
  {
   "cell_type": "markdown",
   "id": "optical-pressure",
   "metadata": {},
   "source": [
    "# Stack the KCl cubes to see if we come up with anything "
   ]
  },
  {
   "cell_type": "code",
   "execution_count": null,
   "id": "known-philippines",
   "metadata": {},
   "outputs": [],
   "source": []
  },
  {
   "cell_type": "markdown",
   "id": "yellow-cambodia",
   "metadata": {},
   "source": [
    "# KCl Stackl"
   ]
  },
  {
   "cell_type": "code",
   "execution_count": null,
   "id": "intensive-vulnerability",
   "metadata": {},
   "outputs": [],
   "source": [
    "# table 5 is double-rare, not detected\n",
    "kcltables = salt_tables[:3]#  + salt_tables[5:]"
   ]
  },
  {
   "cell_type": "code",
   "execution_count": null,
   "id": "decimal-delivery",
   "metadata": {},
   "outputs": [],
   "source": [
    "# cubes are already loaded\n",
    "# cubes = [SpectralCube.read(fn).subcube_from_regions([reg]) for fn in (glob.glob('G17_SPW[0-3]_2017.image.fits'))]\n",
    "# beams = radio_beam.Beams(beams=[cube.beams.common_beam() for cube in cubes])\n",
    "# cb=beams.common_beam()\n",
    "linelistK = np.concatenate([data['Freq'][(data['vu'] <= 4) &\n",
    "                                          np.any([((data['Freq'].quantity > cube.spectral_extrema[0]) &\n",
    "                                                   (data['Freq'].quantity < cube.spectral_extrema[1]))\n",
    "                                                 for cube in cubes],\n",
    "                                                 axis=0)].quantity\n",
    "                             for data in kcltables])\n",
    "linenamesK = np.concatenate( [data['Species'][(data['vu'] <= 4) &\n",
    "                                          np.any([((data['Freq'].quantity > cube.spectral_extrema[0]) &\n",
    "                                                   (data['Freq'].quantity < cube.spectral_extrema[1]))\n",
    "                                                 for cube in cubes],\n",
    "                                                 axis=0)]\n",
    "                             for data in kcltables] )\n",
    "(linelistK, linenamesK)"
   ]
  },
  {
   "cell_type": "code",
   "execution_count": null,
   "id": "coupled-abuse",
   "metadata": {},
   "outputs": [],
   "source": [
    "rows = [data[(data['vu'] <= 4) &\n",
    "             np.any([((data['Freq'].quantity > cube.spectral_extrema[0]) &\n",
    "                      (data['Freq'].quantity < cube.spectral_extrema[1]))\n",
    "                     for cube in cubes],\n",
    "                    axis=0)]\n",
    "        for data in kcltables]\n",
    "KCl_inband = table.vstack(rows)\n",
    "KCl_inband"
   ]
  },
  {
   "cell_type": "code",
   "execution_count": null,
   "id": "manufactured-mailman",
   "metadata": {},
   "outputs": [],
   "source": [
    "# exclude lines with contaminants\n",
    "# 41KCl v=4 J=30-20 is the worst, apparently, b/c of NaCl v=1 17-16\n",
    "# 41KCl v=0 J=31-30 is on top of NaCl v=1 18-17\n",
    "# KCl v=2 29-28 is double-peaked; not clear what's up there\n",
    "# 41KCl v=0 J=29-28 just looks like a nondetection?\n",
    "# 39K-37Cl v=4 J=30-29 nondetection\n",
    "# 39K-37Cl v=3 J=32-31 nondetection\n",
    "# 41K-35Cl v=1 J=31-30 nondetection\n",
    "exclude = ('41K-35Clv=0-0 J=31-30',\n",
    "           '41K-35Clv=4-4 J=30-29',\n",
    "           '39K-35Clv=2-2 J=29-28',\n",
    "           '41K-35Clv=0-0 J=29-28',\n",
    "           '39K-37Clv=4-4 J=30-29',\n",
    "           '39K-37Clv=3-3 J=32-31',\n",
    "           '41K-35Clv=1-1 J=31-30',           \n",
    "          )\n",
    "incl = np.all([linenamesK != ex for ex in exclude], axis=0)\n",
    "linelistK = linelistK[incl]\n",
    "linenamesK = linenamesK[incl]\n",
    "linelistK, linenamesK\n",
    "pprint.pprint(dict(zip(linelistK, linenamesK)))"
   ]
  },
  {
   "cell_type": "code",
   "execution_count": null,
   "id": "beginning-pharmaceutical",
   "metadata": {},
   "outputs": [],
   "source": [
    "stackK, cutoutsK = stack_cube(cubes,\n",
    "                   linelist=linelistK,\n",
    "                   vmin=-10*u.km/u.s,\n",
    "                   vmax=50*u.km/u.s,\n",
    "                   average=np.nanmean,\n",
    "                   convolve_beam=cb,\n",
    "                   return_cutouts=True)\n",
    "stackK.writeto('KCl_v_le_4_stackcube.fits', overwrite=True)"
   ]
  },
  {
   "cell_type": "code",
   "execution_count": null,
   "id": "abroad-output",
   "metadata": {},
   "outputs": [],
   "source": [
    "stackKc = SpectralCube.read('KCl_v_le_4_stackcube.fits')\n",
    "stackKc"
   ]
  },
  {
   "cell_type": "code",
   "execution_count": null,
   "id": "crazy-barcelona",
   "metadata": {},
   "outputs": [],
   "source": [
    "regdisk = regions.Regions.read('diskmask.reg')"
   ]
  },
  {
   "cell_type": "code",
   "execution_count": null,
   "id": "turned-thesis",
   "metadata": {},
   "outputs": [],
   "source": [
    "stackKc = stackKc.subcube_from_regions(regdisk)\n",
    "pl.figure(figsize=(14,5))\n",
    "pl.subplot(1,3,1)\n",
    "m0 = stackKc.moment0()\n",
    "m0.quicklook()\n",
    "pl.title(\"m0\")\n",
    "\n",
    "pl.subplot(1,3,2)\n",
    "mx = stackKc.max(axis=0)\n",
    "mx.quicklook()\n",
    "pl.title(\"mx\")\n",
    "pl.colorbar()\n",
    "pl.subplot(1,3,3)\n",
    "mskK = (mx) > 0.0001*mx.unit\n",
    "mskK = scipy.ndimage.binary_erosion(mskK, iterations=1)\n",
    "mskK = scipy.ndimage.binary_dilation(mskK, iterations=7)\n",
    "pl.imshow(mskK, interpolation='none', origin='lower')\n",
    "pl.tight_layout()\n",
    "pl.figure()\n",
    "\n",
    "\n",
    "m1 = stackKc.with_mask(mskK).with_mask(stackKc > 0.0005*stackKc.unit).moment1()\n",
    "pl.imshow(m1.value, vmin=0, vmax=40)\n",
    "pl.colorbar()\n",
    "vmapK = m1.hdu"
   ]
  },
  {
   "cell_type": "code",
   "execution_count": null,
   "id": "ongoing-going",
   "metadata": {},
   "outputs": [],
   "source": [
    "stackKc.mean(axis=(1,2)).quicklook()\n",
    "stackc.with_mask(msk).mean(axis=(1,2)).quicklook()"
   ]
  },
  {
   "cell_type": "code",
   "execution_count": null,
   "id": "juvenile-formation",
   "metadata": {},
   "outputs": [],
   "source": [
    "stackKc.with_mask(mskK).mean(axis=(1,2)).quicklook()"
   ]
  },
  {
   "cell_type": "code",
   "execution_count": null,
   "id": "crucial-appeal",
   "metadata": {},
   "outputs": [],
   "source": [
    "ii = 0\n",
    "for cutout, linef in zip(cutoutsK, linenamesK):\n",
    "    if ii == 5:\n",
    "        pl.figure()\n",
    "    cutout = SpectralCube(data=cutout, header=stackK.header, wcs=wcs.WCS(stackK.header)).subcube_from_regions([regvsm])\n",
    "    sp = cutout.max(axis=(1,2))\n",
    "    pl.plot(sp.spectral_axis, sp.value, label=str(linef))\n",
    "    pl.legend(loc='upper left', bbox_to_anchor=(1.01,1,0,0))\n",
    "    ii+=1"
   ]
  },
  {
   "cell_type": "code",
   "execution_count": null,
   "id": "latin-coffee",
   "metadata": {},
   "outputs": [],
   "source": []
  },
  {
   "cell_type": "code",
   "execution_count": null,
   "id": "afraid-allergy",
   "metadata": {},
   "outputs": [],
   "source": []
  },
  {
   "cell_type": "code",
   "execution_count": null,
   "id": "amino-memphis",
   "metadata": {},
   "outputs": [],
   "source": []
  },
  {
   "cell_type": "code",
   "execution_count": null,
   "id": "scientific-chicken",
   "metadata": {},
   "outputs": [],
   "source": []
  },
  {
   "cell_type": "code",
   "execution_count": null,
   "id": "difficult-bosnia",
   "metadata": {},
   "outputs": [],
   "source": []
  },
  {
   "cell_type": "code",
   "execution_count": null,
   "id": "several-interim",
   "metadata": {},
   "outputs": [],
   "source": []
  },
  {
   "cell_type": "code",
   "execution_count": null,
   "id": "satellite-decline",
   "metadata": {},
   "outputs": [],
   "source": []
  },
  {
   "cell_type": "code",
   "execution_count": null,
   "id": "grand-europe",
   "metadata": {},
   "outputs": [],
   "source": []
  },
  {
   "cell_type": "code",
   "execution_count": null,
   "id": "diverse-preserve",
   "metadata": {},
   "outputs": [],
   "source": []
  },
  {
   "cell_type": "code",
   "execution_count": null,
   "id": "three-introduction",
   "metadata": {},
   "outputs": [],
   "source": []
  },
  {
   "cell_type": "code",
   "execution_count": null,
   "id": "excess-warren",
   "metadata": {},
   "outputs": [],
   "source": []
  },
  {
   "cell_type": "code",
   "execution_count": null,
   "id": "existing-slide",
   "metadata": {},
   "outputs": [],
   "source": []
  },
  {
   "cell_type": "code",
   "execution_count": null,
   "id": "sapphire-concentration",
   "metadata": {},
   "outputs": [],
   "source": []
  },
  {
   "cell_type": "code",
   "execution_count": null,
   "id": "concrete-nickel",
   "metadata": {},
   "outputs": [],
   "source": [
    "cubes[0].with_spectral_unit(u.km/u.s, velocity_convention='radio').spectral_axis.diff()"
   ]
  },
  {
   "cell_type": "code",
   "execution_count": null,
   "id": "adjacent-degree",
   "metadata": {},
   "outputs": [],
   "source": [
    "cubes[1].with_spectral_unit(u.km/u.s, velocity_convention='radio').spectral_axis.diff()"
   ]
  },
  {
   "cell_type": "code",
   "execution_count": null,
   "id": "derived-threshold",
   "metadata": {},
   "outputs": [],
   "source": [
    "cubes[2].with_spectral_unit(u.km/u.s, velocity_convention='radio').spectral_axis.diff()"
   ]
  },
  {
   "cell_type": "code",
   "execution_count": null,
   "id": "friendly-cricket",
   "metadata": {},
   "outputs": [],
   "source": [
    "cubes[3].with_spectral_unit(u.km/u.s, velocity_convention='radio').spectral_axis.diff()"
   ]
  },
  {
   "cell_type": "code",
   "execution_count": null,
   "id": "introductory-mauritius",
   "metadata": {},
   "outputs": [],
   "source": []
  },
  {
   "cell_type": "code",
   "execution_count": null,
   "id": "danish-special",
   "metadata": {},
   "outputs": [],
   "source": [
    "import sys\n",
    "sys.path.append('/blue/adamginsburg/adamginsburg/repos/pvextractor',)"
   ]
  },
  {
   "cell_type": "code",
   "execution_count": null,
   "id": "prescription-italic",
   "metadata": {},
   "outputs": [],
   "source": [
    "import show_pv"
   ]
  },
  {
   "cell_type": "code",
   "execution_count": null,
   "id": "statutory-moscow",
   "metadata": {},
   "outputs": [],
   "source": [
    "import pvextractor"
   ]
  },
  {
   "cell_type": "code",
   "execution_count": null,
   "id": "still-bottom",
   "metadata": {},
   "outputs": [],
   "source": [
    "endpts = regions.Regions.read('endpts.reg')"
   ]
  },
  {
   "cell_type": "code",
   "execution_count": null,
   "id": "entertaining-serial",
   "metadata": {},
   "outputs": [],
   "source": [
    "#crds = coordinates.SkyCoord(['18:22:26.38475', '18:22:26.3863'], ['-13:30:12.0346', '-13:30:11.9204'], unit=(u.hour, u.deg), frame='icrs')\n",
    "crds = coordinates.SkyCoord([x.center for x in endpts])\n",
    "path = pvextractor.Path(crds, width=0.02*u.arcsec)\n",
    "crds, path"
   ]
  },
  {
   "cell_type": "code",
   "execution_count": null,
   "id": "animal-netherlands",
   "metadata": {},
   "outputs": [],
   "source": [
    "rslt = pvextractor.extract_pv_slice(cube=stackc, path=path)"
   ]
  },
  {
   "cell_type": "code",
   "execution_count": null,
   "id": "charitable-mustang",
   "metadata": {},
   "outputs": [],
   "source": [
    "ww = wcs.WCS(rslt.header)\n",
    "ax = pl.subplot(projection=ww)\n",
    "im = ax.imshow(rslt.data)\n",
    "pl.colorbar(im)\n",
    "ax.set_xlim(0,47)"
   ]
  },
  {
   "cell_type": "code",
   "execution_count": null,
   "id": "square-minutes",
   "metadata": {},
   "outputs": [],
   "source": []
  },
  {
   "cell_type": "code",
   "execution_count": null,
   "id": "green-niger",
   "metadata": {},
   "outputs": [],
   "source": [
    "from show_pv import show_pv\n",
    "import imp\n",
    "import show_pv\n",
    "imp.reload(show_pv)\n",
    "from show_pv import show_keplercurves, show_pv"
   ]
  },
  {
   "cell_type": "code",
   "execution_count": null,
   "id": "plain-exhaust",
   "metadata": {},
   "outputs": [],
   "source": [
    "fig,ax,cb,con = show_pv(rslt.data, wcs.WCS(rslt.header), origin=0.105*u.arcsec, #coordinates.SkyCoord('18:22:26.3857', '-13:30:11.979', unit=(u.hour, u.deg), frame='icrs'),\n",
    "                vrange=np.array([-10,50]), vcen=30*u.km/u.s, imvmin=np.nanpercentile(rslt.data, 3), imvmax=np.nanmax(rslt.data),\n",
    "                        distance=2.2*u.kpc,\n",
    "                        xoffset_label=0.105*u.arcsec\n",
    "                    )\n",
    "cb.set_label(\"Jy beam$^{-1}$\")\n",
    "kc = show_keplercurves(ax, 0.105*u.arcsec, 300*u.au, \n",
    "                       vcen=u.Quantity(23,u.km/u.s),\n",
    "                               masses=[15,30,40,],\n",
    "                               linestyles=['-']*4,\n",
    "                               colors=['r','g','b','c'],\n",
    "                       radii={},\n",
    "                       distance=2.2*u.kpc,\n",
    "                              )\n",
    "pl.title(\"G17\")\n",
    "pl.savefig(\"G17_naclPV_withcolorcurves.png\")\n",
    "#pl.legend(loc='best')"
   ]
  },
  {
   "cell_type": "code",
   "execution_count": null,
   "id": "scientific-acrylic",
   "metadata": {},
   "outputs": [],
   "source": [
    "stackKc2 = SpectralCube.read('KCl_v_le_4_stackcube.fits').subcube_from_regions([regvsm])\n",
    "rsltK = pvextractor.extract_pv_slice(cube=stackKc2, path=path)"
   ]
  },
  {
   "cell_type": "code",
   "execution_count": null,
   "id": "close-conversion",
   "metadata": {},
   "outputs": [],
   "source": [
    "fig,ax,cb,con = show_pv(rsltK.data, wcs.WCS(rsltK.header), origin=0.11*u.arcsec, #coordinates.SkyCoord('18:22:26.3857', '-13:30:11.979', unit=(u.hour, u.deg), frame='icrs'),\n",
    "                vrange=np.array([-10,50]), vcen=30*u.km/u.s, imvmin=np.nanmin(rsltK.data), imvmax=np.nanmax(rsltK.data),\n",
    "                        distance=2.2*u.kpc,\n",
    "                    )\n",
    "cb.set_label(\"Jy beam$^{-1}$\")\n",
    "pl.title(\"G17\")\n",
    "ax.contour(rslt.data, levels=[0.0015, ], colors=['r','r'], linewidths=[0.5,0.5], transform=ax.get_transform(wcs.WCS(rslt.header)))\n",
    "pl.savefig(\"G17_KClstack.png\")"
   ]
  },
  {
   "cell_type": "code",
   "execution_count": null,
   "id": "ordinary-privilege",
   "metadata": {},
   "outputs": [],
   "source": []
  },
  {
   "cell_type": "markdown",
   "id": "statewide-fiction",
   "metadata": {},
   "source": [
    "# Comparison to Orion Source I"
   ]
  },
  {
   "cell_type": "code",
   "execution_count": null,
   "id": "coral-andorra",
   "metadata": {},
   "outputs": [],
   "source": [
    "from astropy.io import fits\n",
    "orinacl = fits.open('/orange/adamginsburg/orion/2016.1.00165.S/FITS/pv/sourceI_NaClv=1_18-17_B6_robust0.5_diskpv_0.01.fits')[0]"
   ]
  },
  {
   "cell_type": "code",
   "execution_count": null,
   "id": "individual-fisher",
   "metadata": {},
   "outputs": [],
   "source": [
    "fig,ax,cb,con = show_pv(orinacl.data, wcs.WCS(orinacl.header), origin=0*u.arcsec, # coordinates.SkyCoord(\"5:35:14.519\", \"-5:22:30.633\", frame='fk5',                             unit=(u.hour, u.deg)),\n",
    "                        distance=400*u.pc,\n",
    "                        xoffset_label=0.4*u.arcsec,\n",
    "                vrange=np.array([-20,30]), vcen=5*u.km/u.s, imvmin=np.nanmin(orinacl.data), imvmax=np.nanmax(orinacl.data),\n",
    "                    )\n",
    "cb.set_label(\"Jy beam$^{-1}$\")\n",
    "pl.title('SrcI')\n",
    "pl.savefig(\"SrcI\")\n",
    "#ax.contour(rslt.data, levels=[0.0015, ], colors=['r','r'], linewidths=[0.5,0.5], transform=ax.get_transform(wcs.WCS(orinacl.header)))"
   ]
  },
  {
   "cell_type": "code",
   "execution_count": null,
   "id": "declared-semiconductor",
   "metadata": {},
   "outputs": [],
   "source": [
    "import imp\n",
    "import show_pv\n",
    "imp.reload(show_pv)\n",
    "from show_pv import show_keplercurves, show_pv"
   ]
  },
  {
   "cell_type": "code",
   "execution_count": null,
   "id": "instant-career",
   "metadata": {},
   "outputs": [],
   "source": [
    "ori_origin = coordinates.SkyCoord(\"5:35:14.519\", \"-5:22:30.633\", frame='fk5',\n",
    "                             unit=(u.hour, u.deg))\n",
    "fig,ax,cb,con = show_pv(orinacl.data, wcs.WCS(orinacl.header), origin=0.4*u.arcsec, #ori_origin,\n",
    "                        distance=400*u.pc,\n",
    "                        xoffset_label=0.4*u.arcsec,\n",
    "                vrange=np.array([-20,30]), vcen=5*u.km/u.s, imvmin=np.nanmin(orinacl.data), imvmax=np.nanmax(orinacl.data),\n",
    "                    )\n",
    "cb.set_label(\"Jy beam$^{-1}$\")\n",
    "kc = show_keplercurves(ax, 0.4*u.arcsec, 150*u.au, u.Quantity(5,u.km/u.s),\n",
    "                               masses=[15,],\n",
    "                               linestyles='-',\n",
    "                               colors=['r'],\n",
    "                       radii={}\n",
    "                              )\n",
    "pl.savefig(\"SrcI_withKepler.png\")"
   ]
  },
  {
   "cell_type": "code",
   "execution_count": null,
   "id": "distinct-oasis",
   "metadata": {},
   "outputs": [],
   "source": [
    "from wand.image import Image as WImage\n",
    "img = WImage(filename='/orange/adamginsburg/salt/Orion_ALMA_2016.1.00165.S/paper_sourceImass/figures/Unknown_4_pp_pv_plots_fittedmodel_15msun_withavgs_comparepv.pdf')\n",
    "img"
   ]
  },
  {
   "cell_type": "code",
   "execution_count": null,
   "id": "treated-sample",
   "metadata": {},
   "outputs": [],
   "source": [
    "WImage(filename='/orange/adamginsburg/salt/Orion_ALMA_2016.1.00165.S/paper_sourceImass/figures/Unknown_4_pp_pv_plots.pdf')"
   ]
  },
  {
   "cell_type": "code",
   "execution_count": null,
   "id": "transsexual-lawyer",
   "metadata": {},
   "outputs": [],
   "source": [
    "WImage(filename='/orange/adamginsburg/salt/Orion_ALMA_2016.1.00165.S/paper_sourceImass/figures/Unknown_1_pp_pv_plots_fittedmodel_withavgs.pdf')"
   ]
  },
  {
   "cell_type": "code",
   "execution_count": null,
   "id": "bound-rider",
   "metadata": {},
   "outputs": [],
   "source": [
    "print(\"TEST\")"
   ]
  },
  {
   "cell_type": "code",
   "execution_count": null,
   "id": "square-cabin",
   "metadata": {},
   "outputs": [],
   "source": []
  },
  {
   "cell_type": "code",
   "execution_count": null,
   "id": "alike-convention",
   "metadata": {},
   "outputs": [],
   "source": [
    "m0 = stackc[:,18:-20,18:-20].moment0()\n",
    "\n",
    "pl.imshow(m0.value, cmap='Blues', origin='lower',)# vmax=m0.value.max()*2,)\n",
    "          #norm=simple_norm(m0.value, stretch='log', max_cut=m0.value.max()*10))\n",
    "pl.title(\"G17\")\n",
    "pl.plot([15,20], [16,16], color='r')\n",
    "pl.text(17.5, 17, '60 AU', horizontalalignment='center', color='r')\n",
    "pl.gca().set_xticklabels([])\n",
    "pl.gca().set_yticklabels([])\n",
    "pl.gca().set_xticks([])\n",
    "pl.gca().set_yticks([])\n",
    "pl.savefig(\"G17_NaCl_mom0.png\")"
   ]
  },
  {
   "cell_type": "code",
   "execution_count": null,
   "id": "helpful-thunder",
   "metadata": {},
   "outputs": [],
   "source": [
    "naclv1ori = SpectralCube.read('https://zenodo.org/record/2365835/files/OrionSourceI_U232.511_robust0.5maskedclarkclean10000_medsub_K.fits')\n",
    "naclv1ori.beam_threshold=1"
   ]
  },
  {
   "cell_type": "code",
   "execution_count": null,
   "id": "other-pierre",
   "metadata": {},
   "outputs": [],
   "source": [
    "oripxscale = naclv1ori.wcs.proj_plane_pixel_scales()[0]\n",
    "oripxscale_au = (oripxscale * 400*u.pc).to(u.au, u.dimensionless_angles())\n",
    "oripxscale_au"
   ]
  },
  {
   "cell_type": "code",
   "execution_count": null,
   "id": "sixth-intro",
   "metadata": {},
   "outputs": [],
   "source": [
    "m0 = naclv1ori[:,28:100,30:102].moment0()\n",
    "pl.imshow(m0.value, cmap='Blues', origin='lower',)# vmax=m0.value.max()*2,)\n",
    "          #norm=simple_norm(m0.value, stretch='log', max_cut=m0.value.max()*10))\n",
    "pl.title(\"SrcI\")\n",
    "pl.plot([10,29], [57, 57], color='r')\n",
    "pl.text(39/2, 60, f'{int(19*oripxscale_au.value):d} AU', horizontalalignment='center', color='r')\n",
    "pl.gca().set_xticklabels([])\n",
    "pl.gca().set_yticklabels([])\n",
    "pl.gca().set_xticks([])\n",
    "pl.gca().set_yticks([])\n",
    "pl.savefig(\"SrcI_NaCl_mom0.png\")"
   ]
  },
  {
   "cell_type": "code",
   "execution_count": null,
   "id": "exciting-producer",
   "metadata": {},
   "outputs": [],
   "source": []
  }
 ],
 "metadata": {
  "kernelspec": {
   "display_name": "Py 3.9",
   "language": "python",
   "name": "python39"
  },
  "language_info": {
   "codemirror_mode": {
    "name": "ipython",
    "version": 3
   },
   "file_extension": ".py",
   "mimetype": "text/x-python",
   "name": "python",
   "nbconvert_exporter": "python",
   "pygments_lexer": "ipython3",
   "version": "3.9.2"
  }
 },
 "nbformat": 4,
 "nbformat_minor": 5
}
