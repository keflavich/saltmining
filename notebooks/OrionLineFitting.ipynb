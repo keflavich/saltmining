{
 "cells": [
  {
   "cell_type": "code",
   "execution_count": 1,
   "id": "ca60b949-aa4f-44a8-b304-c00eca1f7547",
   "metadata": {},
   "outputs": [],
   "source": [
    "from spectral_cube import SpectralCube"
   ]
  },
  {
   "cell_type": "code",
   "execution_count": 2,
   "id": "1054ab5c-89a7-4ccc-ab08-b1b5e753cf81",
   "metadata": {},
   "outputs": [],
   "source": [
    "from astropy import units as u"
   ]
  },
  {
   "cell_type": "code",
   "execution_count": 3,
   "id": "f78b7d89-8bcc-4a13-9255-d019f1d4ef45",
   "metadata": {},
   "outputs": [
    {
     "data": {
      "text/plain": [
       "VaryingResolutionSpectralCube with shape=(1920, 1250, 1250) and unit=Jy / beam:\n",
       " n_x:   1250  type_x: RA---SIN  unit_x: deg    range:    83.809793 deg:   83.811187 deg\n",
       " n_y:   1250  type_y: DEC--SIN  unit_y: deg    range:    -5.375852 deg:   -5.374464 deg\n",
       " n_s:   1920  type_s: FREQ      unit_s: Hz     range: 231834857246.900 Hz:233708832546.243 Hz"
      ]
     },
     "execution_count": 3,
     "metadata": {},
     "output_type": "execute_result"
    }
   ],
   "source": [
    "cube = SpectralCube.read('/orange/adamginsburg/orion/2016.1.00165.S/external/full_OrionSourceI_B6_spw1_lines_cutout.fits')\n",
    "cube"
   ]
  },
  {
   "cell_type": "code",
   "execution_count": 4,
   "id": "a93dc44c-6f70-4d26-9b84-5842dd030d7d",
   "metadata": {},
   "outputs": [
    {
     "data": {
      "image/png": "[encoded data removed]",
      "text/plain": [
       "<Figure size 432x288 with 1 Axes>"
      ]
     },
     "metadata": {
      "needs_background": "light"
     },
     "output_type": "display_data"
    }
   ],
   "source": [
    "cube.spectral_slab(232.48*u.GHz, 232.52*u.GHz)[:, 640, 650].to(u.K).quicklook()"
   ]
  },
  {
   "cell_type": "code",
   "execution_count": 5,
   "id": "c8fb6da2-0e5d-4197-ab5f-2d5513205686",
   "metadata": {},
   "outputs": [
    {
     "data": {
      "image/png": "[encoded data removed]",
      "text/plain": [
       "<Figure size 432x288 with 1 Axes>"
      ]
     },
     "metadata": {
      "needs_background": "light"
     },
     "output_type": "display_data"
    }
   ],
   "source": [
    "cube.spectral_slab(232.48*u.GHz, 232.52*u.GHz)[:, 660, 640].to(u.K).quicklook()"
   ]
  },
  {
   "cell_type": "code",
   "execution_count": null,
   "id": "41ff7e64-6d4b-465f-a4fd-ac12ab49c688",
   "metadata": {},
   "outputs": [],
   "source": []
  },
  {
   "cell_type": "code",
   "execution_count": 6,
   "id": "ecd4374d-b0e0-4c4d-8a21-39b7213cf3bf",
   "metadata": {},
   "outputs": [
    {
     "data": {
      "text/plain": [
       "<astropy.visualization.units.quantity_support.<locals>.MplQuantityConverter at 0x2aefcaa79550>"
      ]
     },
     "execution_count": 6,
     "metadata": {},
     "output_type": "execute_result"
    }
   ],
   "source": [
    "%matplotlib inline\n",
    "import pylab as pl\n",
    "pl.rcParams['figure.facecolor'] = 'w'\n",
    "from spectral_cube import SpectralCube\n",
    "from astropy import units as u\n",
    "from astropy.visualization import quantity_support\n",
    "quantity_support()"
   ]
  },
  {
   "cell_type": "code",
   "execution_count": 7,
   "id": "3a5d1f74-28bb-4985-8a32-6a2d2b522539",
   "metadata": {},
   "outputs": [],
   "source": [
    "from astropy.table import Table\n",
    "from astropy import table"
   ]
  },
  {
   "cell_type": "code",
   "execution_count": 8,
   "id": "a35722f4-7929-4bd2-a032-5d606bc7be3b",
   "metadata": {},
   "outputs": [],
   "source": [
    "import pprint"
   ]
  },
  {
   "cell_type": "code",
   "execution_count": 9,
   "id": "dad31fa0-f1ca-4e24-867e-9c10da167e39",
   "metadata": {},
   "outputs": [],
   "source": [
    "import scipy, scipy.ndimage"
   ]
  },
  {
   "cell_type": "code",
   "execution_count": 10,
   "id": "c473cd1a-caf0-4f37-955a-cddbdcc3aa38",
   "metadata": {},
   "outputs": [
    {
     "name": "stderr",
     "output_type": "stream",
     "text": [
      "WARNING: Model is linear in parameters; consider using linear fitting methods. [astropy.modeling.fitting]\n",
      "WARNING: Model is linear in parameters; consider using linear fitting methods. [astropy.modeling.fitting]\n"
     ]
    }
   ],
   "source": [
    "import numpy as np\n",
    "import os\n",
    "import glob\n",
    "from astropy import constants, units as u, table, stats, coordinates, wcs, log, coordinates as coord\n",
    "import radio_beam\n",
    "import pyspeckit\n",
    "import pylab as pl\n",
    "from astroquery.splatalogue.utils import minimize_table as mt\n",
    "import sys\n",
    "sys.path.append('/orange/adamginsburg/salt/Orion_ALMA_2016.1.00165.S/analysis')\n",
    "import lines\n",
    "import paths\n",
    "from salt_tables import (salt_tables, salt_table_names, SO, SO2, HCl, sis_tables, AlCl, AlF, Al37Cl,\n",
    "                         NaF, AlO, AlOH, NaCN, CaS, CaO)"
   ]
  },
  {
   "cell_type": "code",
   "execution_count": 11,
   "id": "6c1cd476-b0ef-4933-93ef-6f1ebb78cb62",
   "metadata": {},
   "outputs": [],
   "source": [
    "import regions\n",
    "from astropy import units as u, coordinates\n",
    "cen = coordinates.SkyCoord(83.810486281, -5.37517214, unit=(u.deg, u.deg), frame='icrs')\n",
    "reg = regions.Regions([regions.RectangleSkyRegion(cen, 0.53*u.arcsec, 0.34*u.arcsec, 52*u.deg)])\n",
    "#    box(83.810486281, -5.375172145, 0.3368\", 0.5281\", 322.67123) # color=#2EE6D6 width=2\n",
    "\n",
    "#reg2 = regions.Regions.read('cutout2.reg')\n",
    "#reg3 = regions.Regions.read('cutout3.reg')\n",
    "#regvsm = regions.Regions.read('verysmall.reg')\n",
    "#regvvsm = regions.Regions.read('innerdiskbox.reg')"
   ]
  },
  {
   "cell_type": "code",
   "execution_count": 12,
   "id": "5a8c5996-32c9-47c4-9c4b-fd2bdf913293",
   "metadata": {},
   "outputs": [
    {
     "name": "stderr",
     "output_type": "stream",
     "text": [
      "WARNING: PossiblySlowWarning: This function (<function BaseSpectralCube._apply_everywhere at 0x2aecfd760670>) requires loading the entire cube into memory and may therefore be slow. [spectral_cube.utils]\n",
      "WARNING: PossiblySlowWarning: This function (<function BaseSpectralCube._apply_everywhere at 0x2aecfd760670>) requires loading the entire cube into memory and may therefore be slow. [spectral_cube.utils]\n",
      "WARNING: PossiblySlowWarning: This function (<function BaseSpectralCube._apply_everywhere at 0x2aecfd760670>) requires loading the entire cube into memory and may therefore be slow. [spectral_cube.utils]\n",
      "WARNING: PossiblySlowWarning: This function (<function BaseSpectralCube._apply_everywhere at 0x2aecfd760670>) requires loading the entire cube into memory and may therefore be slow. [spectral_cube.utils]\n"
     ]
    },
    {
     "data": {
      "text/plain": [
       "[DaskSpectralCube with shape=(1920, 156, 148) and unit=Jy / beam and chunk size (640, 156, 148):\n",
       "  n_x:    148  type_x: RA---SIN  unit_x: deg    range:    83.810404 deg:   83.810569 deg\n",
       "  n_y:    156  type_y: DEC--SIN  unit_y: deg    range:    -5.375258 deg:   -5.375086 deg\n",
       "  n_s:   1920  type_s: FREQ      unit_s: Hz     range: 231834857246.900 Hz:233708832546.243 Hz,\n",
       " DaskSpectralCube with shape=(1920, 156, 148) and unit=Jy / beam and chunk size (640, 156, 148):\n",
       "  n_x:    148  type_x: RA---SIN  unit_x: deg    range:    83.810404 deg:   83.810569 deg\n",
       "  n_y:    156  type_y: DEC--SIN  unit_y: deg    range:    -5.375258 deg:   -5.375086 deg\n",
       "  n_s:   1920  type_s: FREQ      unit_s: Hz     range: 214277229834.040 Hz:216151205133.500 Hz,\n",
       " DaskSpectralCube with shape=(1920, 156, 148) and unit=Jy / beam and chunk size (640, 156, 148):\n",
       "  n_x:    148  type_x: RA---SIN  unit_x: deg    range:    83.810404 deg:   83.810569 deg\n",
       "  n_y:    156  type_y: DEC--SIN  unit_y: deg    range:    -5.375258 deg:   -5.375086 deg\n",
       "  n_s:   1920  type_s: FREQ      unit_s: Hz     range: 229167925754.100 Hz:231041901053.560 Hz,\n",
       " DaskSpectralCube with shape=(1920, 156, 148) and unit=Jy / beam and chunk size (640, 156, 148):\n",
       "  n_x:    148  type_x: RA---SIN  unit_x: deg    range:    83.810404 deg:   83.810569 deg\n",
       "  n_y:    156  type_y: DEC--SIN  unit_y: deg    range:    -5.375258 deg:   -5.375086 deg\n",
       "  n_s:   1920  type_s: FREQ      unit_s: Hz     range: 216976156185.440 Hz:218850131484.900 Hz]"
      ]
     },
     "execution_count": 12,
     "metadata": {},
     "output_type": "execute_result"
    }
   ],
   "source": [
    "regn = \"co1\"\n",
    "cbflist = (glob.glob('/orange/adamginsburg/orion/2016.1.00165.S/external/full_OrionSourceI_B6_spw*_lines_cutout_smaller.fits'))\n",
    "# don't need to subcube b/c reg = cutout = co1\n",
    "cubes = [SpectralCube.read(fn, use_dask=True)#.subcube_from_regions(reg3)\n",
    "         for fn in cbflist]\n",
    "for ii,cube in enumerate(cubes):\n",
    "    # continuum subtract\n",
    "    with cube.use_dask_scheduler('threads', num_workers=8):\n",
    "        cube.allow_huge_operations = True\n",
    "        cubes[ii] = cube - cube.percentile(25, axis=0)\n",
    "cubes"
   ]
  },
  {
   "cell_type": "code",
   "execution_count": 32,
   "id": "6c25e84d-d080-4df7-905d-eb4b1d17381f",
   "metadata": {},
   "outputs": [],
   "source": [
    "topright = coordinates.SkyCoord('5:35:14.5134090216', '-5:22:30.5431496522', frame='icrs', unit=(u.h, u.deg))\n",
    "trv = 19.0*u.km/u.s\n",
    "bottomleft = coordinates.SkyCoord('5:35:14.5211504272', '-5:22:30.7054489346', frame='icrs', unit=(u.h, u.deg))\n",
    "blv = -7.6*u.km/u.s"
   ]
  },
  {
   "cell_type": "code",
   "execution_count": 63,
   "id": "db5b91bc-05f0-447f-9310-24aa0df4dd03",
   "metadata": {},
   "outputs": [],
   "source": [
    "import warnings\n",
    "warnings.simplefilter('ignore')"
   ]
  },
  {
   "cell_type": "code",
   "execution_count": 160,
   "id": "90a99c9b-2a64-40ac-8533-11834c6e60e1",
   "metadata": {},
   "outputs": [
    {
     "data": {
      "text/plain": [
       "'/orange/adamginsburg/orion/2016.1.00165.S/figures/'"
      ]
     },
     "execution_count": 160,
     "metadata": {},
     "output_type": "execute_result"
    }
   ],
   "source": [
    "paths.fpath(\"\")"
   ]
  },
  {
   "cell_type": "code",
   "execution_count": 147,
   "id": "8bb44dd3-831f-4179-9223-d7621f4e8dde",
   "metadata": {},
   "outputs": [],
   "source": [
    "doplot = True"
   ]
  },
  {
   "cell_type": "code",
   "execution_count": null,
   "id": "5d040fa5-90ec-4227-8565-aaad026afdf2",
   "metadata": {},
   "outputs": [
    {
     "name": "stdout",
     "output_type": "stream",
     "text": [
      "RMS=16.858215399752773\n",
      "topright vel=19.0 km / s xmin/xmax: 859.5640041873293 GHz,859.449316694157 GHz, -0.7432977881196273 km / s, 8.45288333700922 km / s\n",
      "23Na-37Clv=5-5 J=71-70: guesses=[25.0, 19.0, 2]\n",
      "Line 23Na-37Clv=5-5 J=71-70 with frequency 859.561137 GHz has SNR=0.0\n",
      "topright vel=19.0 km / s xmin/xmax: 859.5844228133564 GHz,859.469732595825 GHz, -0.7744053955777861 km / s, 15.573972699401175 km / s\n",
      "41K-37Clv=9-9 J=128-127: guesses=[25.0, 19.0, 2]\n",
      "Line 41K-37Clv=9-9 J=128-127 with frequency 859.5815555579181 GHz has SNR=0.0\n",
      "topright vel=19.0 km / s xmin/xmax: 859.6791717515741 GHz,859.5644688921474 GHz, -0.766610326014054 km / s, 39.07816933193933 km / s\n",
      "39K-35Clv=6-6 J=119-118: guesses=[25.0, 19.0, 2]\n"
     ]
    },
    {
     "name": "stderr",
     "output_type": "stream",
     "text": [
      "WARNING: gnorm=0.   wa2=[0. 0. 0.] [pyspeckit.mpfit.mpfit]\n"
     ]
    },
    {
     "name": "stdout",
     "output_type": "stream",
     "text": [
      "topright vel=19.0 km / s xmin/xmax: 859.8136298245539 GHz,859.6989090250328 GHz, -0.533357312873152 km / s, 38.964690982746106 km / s\n",
      "39K-37Clv=9-9 J=125-124: guesses=[132.09076819175874, 19.0, 2]\n",
      "Line 39K-37Clv=9-9 J=125-124 with frequency 859.8107618045659 GHz has SNR=3.5\n",
      "topright vel=19.0 km / s xmin/xmax: 860.1771582325841 GHz,860.0623889292151 GHz, -0.7877053998417988 km / s, 39.03400672903506 km / s\n",
      "23Na-35Clv=4-4 J=69-68: guesses=[133.31390257347633, 19.0, 2]\n"
     ]
    },
    {
     "name": "stderr",
     "output_type": "stream",
     "text": [
      "WARNING: gnorm=0.   wa2=[0. 0. 0.] [pyspeckit.mpfit.mpfit]\n"
     ]
    },
    {
     "name": "stdout",
     "output_type": "stream",
     "text": [
      "topright vel=19.0 km / s xmin/xmax: 860.3517883240536 GHz,860.236995720631 GHz, -0.5082686474100343 km / s, 38.96507323079671 km / s\n",
      "39K-37Clv=4-4 J=121-120: guesses=[43.26598022897334, 19.0, 2]\n"
     ]
    },
    {
     "name": "stderr",
     "output_type": "stream",
     "text": [
      "WARNING: gnorm=0.   wa2=[0. 0. 0.] [pyspeckit.mpfit.mpfit]\n"
     ]
    },
    {
     "name": "stdout",
     "output_type": "stream",
     "text": [
      "topright vel=19.0 km / s xmin/xmax: 860.4791826089922 GHz,860.3643730079624 GHz, -0.6948544426794191 km / s, 39.1128804418709 km / s\n",
      "41K-37Clv=4-4 J=124-123: guesses=[25.0, 19.0, 2]\n"
     ]
    },
    {
     "name": "stderr",
     "output_type": "stream",
     "text": [
      "WARNING: gnorm=0.   wa2=[0. 0. 0.] [pyspeckit.mpfit.mpfit]\n"
     ]
    },
    {
     "name": "stdout",
     "output_type": "stream",
     "text": [
      "topright vel=19.0 km / s xmin/xmax: 860.516717221697 GHz,860.4019026126043 GHz, -0.5467135385198899 km / s, 38.919062775146415 km / s\n",
      "41K-37Clv=10-10 J=129-128: guesses=[37.8727482950638, 19.0, 2]\n",
      "Line 41K-37Clv=10-10 J=129-128 with frequency 860.5138468564697 GHz has SNR=inf\n",
      "topright vel=19.0 km / s xmin/xmax: 860.5330298545803 GHz,860.4182130689712 GHz, -0.6473767925410289 km / s, 39.157867151159536 km / s\n",
      "41K-35Clv=1-1 J=118-117: guesses=[75.9359897923891, 19.0, 2]\n"
     ]
    },
    {
     "name": "stderr",
     "output_type": "stream",
     "text": [
      "WARNING: gnorm=0.   wa2=[0. 0. 0.] [pyspeckit.mpfit.mpfit]\n"
     ]
    },
    {
     "name": "stdout",
     "output_type": "stream",
     "text": [
      "topright vel=19.0 km / s xmin/xmax: 860.576612565016 GHz,860.4617899643754 GHz, -0.7737041271000621 km / s, 39.0295239351609 km / s\n",
      "23Na-37Clv=3-3 J=70-69: guesses=[81.64719946271154, 19.0, 2]\n",
      "Line 23Na-37Clv=3-3 J=70-69 with frequency 860.573742 GHz has SNR=11.8\n",
      "topright vel=19.0 km / s xmin/xmax: 860.6102049833107 GHz,860.4953779005953 GHz, -0.6380967673769357 km / s, 39.16357764530051 km / s\n",
      "39K-35Clv=2-2 J=116-115: guesses=[81.64719946271154, 19.0, 2]\n",
      "Line 39K-35Clv=2-2 J=116-115 with frequency 860.6073343062428 GHz has SNR=11.7\n",
      "topright vel=19.0 km / s xmin/xmax: 860.8379578418868 GHz,860.7231003712022 GHz, -0.5636958121132831 km / s, 38.887352978976 km / s\n",
      "41K-35Clv=6-6 J=122-121: guesses=[25.0, 19.0, 2]\n"
     ]
    },
    {
     "name": "stderr",
     "output_type": "stream",
     "text": [
      "WARNING: gnorm=0.   wa2=[0. 0. 0.] [pyspeckit.mpfit.mpfit]\n"
     ]
    },
    {
     "name": "stdout",
     "output_type": "stream",
     "text": [
      "topright vel=19.0 km / s xmin/xmax: 860.8434099510188 GHz,860.7285517528856 GHz, -0.7055301119101899 km / s, 39.08536191213671 km / s\n",
      "39K-37Clv=10-10 J=126-125: guesses=[25.0, 19.0, 2]\n"
     ]
    },
    {
     "name": "stderr",
     "output_type": "stream",
     "text": [
      "WARNING: gnorm=0.   wa2=[0. 0. 0.] [pyspeckit.mpfit.mpfit]\n"
     ]
    },
    {
     "name": "stdout",
     "output_type": "stream",
     "text": [
      "topright vel=19.0 km / s xmin/xmax: 860.9539448236568 GHz,860.8390718773868 GHz, -0.641717674992897 km / s, 39.14406573527916 km / s\n",
      "23Na-35Clv=2-2 J=68-67: guesses=[32.54439859288229, 19.0, 2]\n",
      "Line 23Na-35Clv=2-2 J=68-67 with frequency 860.951073 GHz has SNR=0.4\n",
      "topright vel=19.0 km / s xmin/xmax: 861.0239353752396 GHz,860.9090530904667 GHz, -0.7538310659613171 km / s, 39.028718254279525 km / s\n",
      "39K-35Clv=7-7 J=120-119: guesses=[32.54439859288229, 19.0, 2]\n"
     ]
    },
    {
     "name": "stderr",
     "output_type": "stream",
     "text": [
      "WARNING: gnorm=0.   wa2=[0. 0. 0.] [pyspeckit.mpfit.mpfit]\n"
     ]
    },
    {
     "name": "stdout",
     "output_type": "stream",
     "text": [
      "topright vel=19.0 km / s xmin/xmax: 861.2397462746642 GHz,861.1248351952805 GHz, -0.7571309335795321 km / s, 39.01544960876021 km / s\n",
      "39K-37Clv=0-0 J=118-117: guesses=[25.0, 19.0, 2]\n"
     ]
    },
    {
     "name": "stderr",
     "output_type": "stream",
     "text": [
      "WARNING: gnorm=0.   wa2=[0. 0. 0.] [pyspeckit.mpfit.mpfit]\n"
     ]
    },
    {
     "name": "stdout",
     "output_type": "stream",
     "text": [
      "topright vel=19.0 km / s xmin/xmax: 861.3786882404436 GHz,861.2637586227012 GHz, -0.6631432479903792 km / s, 39.103021903998865 km / s\n",
      "23Na-37Clv=1-1 J=69-68: guesses=[38.099906343341985, 19.0, 2]\n",
      "Line 23Na-37Clv=1-1 J=69-68 with frequency 861.375815 GHz has SNR=4.2\n"
     ]
    },
    {
     "name": "stderr",
     "output_type": "stream",
     "text": [
      "WARNING: Skipped 2 out-of-bounds lines when plotting line IDs. [pyspeckit.spectrum.plotters]\n"
     ]
    },
    {
     "name": "stdout",
     "output_type": "stream",
     "text": [
      "RMS=18.167749558388728\n",
      "bottomleft vel=-7.6 km / s xmin/xmax: 859.6402713702889 GHz,859.5255838771167 GHz, -27.310043260714075 km / s, 8.45288333700922 km / s\n",
      "23Na-37Clv=5-5 J=71-70: guesses=[25.0, -7.6, 2]\n",
      "Line 23Na-37Clv=5-5 J=71-70 with frequency 859.561137 GHz has SNR=0.0\n",
      "bottomleft vel=-7.6 km / s xmin/xmax: 859.6606918080148 GHz,859.5460015904833 GHz, -27.340519799918596 km / s, 12.508651806592617 km / s\n",
      "41K-37Clv=9-9 J=128-127: guesses=[25.0, -7.6, 2]\n"
     ]
    },
    {
     "name": "stderr",
     "output_type": "stream",
     "text": [
      "WARNING: gnorm=0.   wa2=[0. 0. 0.] [pyspeckit.mpfit.mpfit]\n"
     ]
    },
    {
     "name": "stdout",
     "output_type": "stream",
     "text": [
      "bottomleft vel=-7.6 km / s xmin/xmax: 859.755449153093 GHz,859.6407462936662 GHz, -27.32979676464964 km / s, 12.514982893303738 km / s\n",
      "39K-35Clv=6-6 J=119-118: guesses=[26.707473528789407, -7.6, 2]\n"
     ]
    },
    {
     "name": "stderr",
     "output_type": "stream",
     "text": [
      "WARNING: gnorm=0.   wa2=[0. 0. 0.] [pyspeckit.mpfit.mpfit]\n"
     ]
    },
    {
     "name": "stdout",
     "output_type": "stream",
     "text": [
      "bottomleft vel=-7.6 km / s xmin/xmax: 859.8899191562356 GHz,859.7751983567144 GHz, -27.09238978751369 km / s, 12.40565850810557 km / s\n",
      "39K-37Clv=9-9 J=125-124: guesses=[51.23545998814404, -7.6, 2]\n",
      "Line 39K-37Clv=9-9 J=125-124 with frequency 859.8107618045659 GHz has SNR=6.4\n",
      "bottomleft vel=-7.6 km / s xmin/xmax: 860.2534798193248 GHz,860.1387105159556 GHz, -27.335513485759705 km / s, 12.486198643117156 km / s\n",
      "23Na-35Clv=4-4 J=69-68: guesses=[133.1097044473179, -7.6, 2]\n",
      "Line 23Na-35Clv=4-4 J=69-68 with frequency 860.174289 GHz has SNR=17.0\n",
      "bottomleft vel=-7.6 km / s xmin/xmax: 860.4281254053299 GHz,860.3133328019071 GHz, -27.390975616188765 km / s, 12.42265369200252 km / s\n",
      "39K-37Clv=4-4 J=121-120: guesses=[54.70635699404949, -7.6, 2]\n"
     ]
    },
    {
     "name": "stderr",
     "output_type": "stream",
     "text": [
      "WARNING: gnorm=0.   wa2=[0. 0. 0.] [pyspeckit.mpfit.mpfit]\n"
     ]
    },
    {
     "name": "stdout",
     "output_type": "stream",
     "text": [
      "bottomleft vel=-7.6 km / s xmin/xmax: 860.5555309936772 GHz,860.4407213926472 GHz, -27.23334436571297 km / s, 12.234153468542052 km / s\n",
      "41K-37Clv=4-4 J=124-123: guesses=[50.22683808635169, -7.6, 2]\n"
     ]
    },
    {
     "name": "stderr",
     "output_type": "stream",
     "text": [
      "WARNING: gnorm=0.   wa2=[0. 0. 0.] [pyspeckit.mpfit.mpfit]\n"
     ]
    },
    {
     "name": "stdout",
     "output_type": "stream",
     "text": [
      "bottomleft vel=-7.6 km / s xmin/xmax: 860.5930689367439 GHz,860.4782543276509 GHz, -27.424268096965044 km / s, 12.38173042630183 km / s\n",
      "41K-37Clv=10-10 J=129-128: guesses=[60.363213016794546, -7.6, 2]\n",
      "Line 41K-37Clv=10-10 J=129-128 with frequency 860.5138468564697 GHz has SNR=3.0\n",
      "bottomleft vel=-7.6 km / s xmin/xmax: 860.6093830170103 GHz,860.4945662314013 GHz, -27.184206088341405 km / s, 12.28082209515659 km / s\n",
      "41K-35Clv=1-1 J=118-117: guesses=[73.76342685403387, -7.6, 2]\n",
      "Line 41K-35Clv=1-1 J=118-117 with frequency 860.5301594349401 GHz has SNR=2.8\n",
      "bottomleft vel=-7.6 km / s xmin/xmax: 860.652969594442 GHz,860.5381469938014 GHz, -27.309189501940708 km / s, 12.494038560320261 km / s\n",
      "23Na-37Clv=3-3 J=70-69: guesses=[73.76342685403387, -7.6, 2]\n",
      "Line 23Na-37Clv=3-3 J=70-69 with frequency 860.573742 GHz has SNR=9.7\n",
      "bottomleft vel=-7.6 km / s xmin/xmax: 860.6865649933164 GHz,860.571737910601 GHz, -27.172546375828567 km / s, 12.288942785458476 km / s\n",
      "39K-35Clv=2-2 J=116-115: guesses=[73.76342685403387, -7.6, 2]\n",
      "Line 39K-35Clv=2-2 J=116-115 with frequency 860.6073343062428 GHz has SNR=9.5\n",
      "bottomleft vel=-7.6 km / s xmin/xmax: 860.914338059892 GHz,860.7994805892074 GHz, -27.091125171638836 km / s, 12.359923619450448 km / s\n",
      "41K-35Clv=6-6 J=122-121: guesses=[25.0, -7.6, 2]\n"
     ]
    },
    {
     "name": "stderr",
     "output_type": "stream",
     "text": [
      "WARNING: gnorm=0.   wa2=[0. 0. 0.] [pyspeckit.mpfit.mpfit]\n"
     ]
    },
    {
     "name": "stdout",
     "output_type": "stream",
     "text": [
      "bottomleft vel=-7.6 km / s xmin/xmax: 860.9197906527774 GHz,860.8049324546441 GHz, -27.23279146127479 km / s, 12.558100562772111 km / s\n",
      "39K-37Clv=10-10 J=126-125: guesses=[25.0, -7.6, 2]\n",
      "Line 39K-37Clv=10-10 J=126-125 with frequency 860.8405384960654 GHz has SNR=0.0\n",
      "bottomleft vel=-7.6 km / s xmin/xmax: 861.0303353329264 GHz,860.9154623866563 GHz, -27.16557328184094 km / s, 12.280160697574097 km / s\n",
      "23Na-35Clv=2-2 J=68-67: guesses=[25.0, -7.6, 2]\n"
     ]
    },
    {
     "name": "stderr",
     "output_type": "stream",
     "text": [
      "WARNING: gnorm=0.   wa2=[0. 0. 0.] [pyspeckit.mpfit.mpfit]\n"
     ]
    },
    {
     "name": "stdout",
     "output_type": "stream",
     "text": [
      "bottomleft vel=-7.6 km / s xmin/xmax: 861.1003320946135 GHz,860.9854498098406 GHz, -27.275530612788543 km / s, 12.507018707452296 km / s\n",
      "39K-35Clv=7-7 J=120-119: guesses=[45.799241634567245, -7.6, 2]\n"
     ]
    },
    {
     "name": "stderr",
     "output_type": "stream",
     "text": [
      "WARNING: gnorm=0.   wa2=[0. 0. 0.] [pyspeckit.mpfit.mpfit]\n"
     ]
    },
    {
     "name": "stdout",
     "output_type": "stream",
     "text": [
      "bottomleft vel=-7.6 km / s xmin/xmax: 861.3161621424546 GHz,861.2012510630707 GHz, -27.272184628472694 km / s, 12.50039591386705 km / s\n",
      "39K-37Clv=0-0 J=118-117: guesses=[25.0, -7.6, 2]\n"
     ]
    },
    {
     "name": "stderr",
     "output_type": "stream",
     "text": [
      "WARNING: gnorm=0.   wa2=[0. 0. 0.] [pyspeckit.mpfit.mpfit]\n"
     ]
    },
    {
     "name": "stdout",
     "output_type": "stream",
     "text": [
      "bottomleft vel=-7.6 km / s xmin/xmax: 861.4551164362423 GHz,861.3401868184999 GHz, -4.741724289220045 km / s, 12.252363382570229 km / s\n",
      "23Na-37Clv=1-1 J=69-68: guesses=[25.0, -7.6, 2]\n",
      "Line 23Na-37Clv=1-1 J=69-68 with frequency 861.375815 GHz has SNR=0.0\n"
     ]
    },
    {
     "name": "stderr",
     "output_type": "stream",
     "text": [
      "WARNING: Skipped 2 out-of-bounds lines when plotting line IDs. [pyspeckit.spectrum.plotters]\n"
     ]
    },
    {
     "name": "stdout",
     "output_type": "stream",
     "text": [
      "RMS=18.59363171075338\n",
      "topright vel=19.0 km / s xmin/xmax: 85.98195580397623 GHz,85.97048364492679 GHz, 1.3795518754484508 km / s, 38.83338773475346 km / s\n",
      "23Na-37Clv=5-5 J=7-6: guesses=[89.12217024102766, 19.0, 2]\n",
      "Line 23Na-37Clv=5-5 J=7-6 with frequency 85.981669 GHz has SNR=5.0\n",
      "topright vel=19.0 km / s xmin/xmax: 86.62137393683845 GHz,86.60981646330121 GHz, 4.002054923265986 km / s, 37.79965552147739 km / s\n",
      "23Na-37Clv=4-4 J=7-6: guesses=[137.32126289143224, 19.0, 2]\n",
      "Line 23Na-37Clv=4-4 J=7-6 with frequency 86.62108500000001 GHz has SNR=8.8\n",
      "topright vel=19.0 km / s xmin/xmax: 87.16949576516994 GHz,87.15786515837196 GHz, 1.5904324908814953 km / s, 38.534021888480034 km / s\n",
      "23Na-35Clv=6-6 J=7-6: guesses=[54.578034270796394, 19.0, 2]\n",
      "Line 23Na-35Clv=6-6 J=7-6 with frequency 87.169205 GHz has SNR=0.7\n",
      "topright vel=19.0 km / s xmin/xmax: 87.2649270834935 GHz,87.25328374375346 GHz, 4.017181752310406 km / s, 37.565534996042736 km / s\n",
      "23Na-37Clv=3-3 J=7-6: guesses=[98.73677973296566, 19.0, 2]\n",
      "Line 23Na-37Clv=3-3 J=7-6 with frequency 87.264636 GHz has SNR=5.3\n",
      "RMS=28.733005835106532\n",
      "bottomleft vel=-7.6 km / s xmin/xmax: 85.98958478974411 GHz,85.97811263069468 GHz, -25.85960147677337 km / s, 11.594234382531635 km / s\n",
      "23Na-37Clv=5-5 J=7-6: guesses=[64.35969184595226, -7.6, 2]\n",
      "Line 23Na-37Clv=5-5 J=7-6 with frequency 85.981669 GHz has SNR=4.2\n",
      "bottomleft vel=-7.6 km / s xmin/xmax: 86.62905965674071 GHz,86.61750218320348 GHz, -23.03602555530314 km / s, 10.761575042908268 km / s\n",
      "23Na-37Clv=4-4 J=7-6: guesses=[52.35297639101131, -7.6, 2]\n",
      "Line 23Na-37Clv=4-4 J=7-6 with frequency 86.62108500000001 GHz has SNR=2.0\n",
      "bottomleft vel=-7.6 km / s xmin/xmax: 87.1772301186906 GHz,87.16559951189262 GHz, -25.27763252555381 km / s, 11.665956872044733 km / s\n",
      "23Na-35Clv=6-6 J=7-6: guesses=[40.756916663162045, -7.6, 2]\n",
      "Line 23Na-35Clv=6-6 J=7-6 with frequency 87.169205 GHz has SNR=0.0\n",
      "bottomleft vel=-7.6 km / s xmin/xmax: 87.27266990442062 GHz,87.26102656468059 GHz, -22.821500842675462 km / s, 10.726852401056874 km / s\n",
      "23Na-37Clv=3-3 J=7-6: guesses=[52.739921524047425, -7.6, 2]\n",
      "Line 23Na-37Clv=3-3 J=7-6 with frequency 87.264636 GHz has SNR=0.2\n",
      "RMS=18.70078929387851\n",
      "topright vel=19.0 km / s xmin/xmax: 229.2468106824991 GHz,229.21622338253445 GHz, -0.0035994128585343996 km / s, 39.58493557132419 km / s\n",
      "23Na-37Clv=0-0 J=18-17: guesses=[125.79217561106465, 19.0, 2]\n",
      "Line 23Na-37Clv=0-0 J=18-17 with frequency 229.246046 GHz has SNR=11.2\n",
      "topright vel=19.0 km / s xmin/xmax: 229.29293492734436 GHz,229.26234147324342 GHz, 0.2929778028824799 km / s, 38.59675658682179 km / s\n",
      "39K-35Clv=6-6 J=31-30: guesses=[42.378212438935904, 19.0, 2]\n",
      "Line 39K-35Clv=6-6 J=31-30 with frequency 229.29217009099185 GHz has SNR=2.8\n",
      "topright vel=19.0 km / s xmin/xmax: 229.68303532325 GHz,229.65238981992846 GHz, 0.8937639132801588 km / s, 39.13248643719892 km / s\n",
      "41K-35Clv=2-2 J=31-30: guesses=[42.4516092773647, 19.0, 2]\n",
      "Line 41K-35Clv=2-2 J=31-30 with frequency 229.682269185667 GHz has SNR=3.0\n",
      "topright vel=19.0 km / s xmin/xmax: 229.81957127230814 GHz,229.7889075516512 GHz, 0.6587610690692415 km / s, 38.874765944348816 km / s\n",
      "39K-37Clv=1-1 J=31-30: guesses=[75.7834009270256, 19.0, 2]\n",
      "Line 39K-37Clv=1-1 J=31-30 with frequency 229.81880467929173 GHz has SNR=5.9\n",
      "topright vel=19.0 km / s xmin/xmax: 230.07148739934638 GHz,230.0407900667316 GHz, 0.6171679923815065 km / s, 38.791328360773775 km / s\n",
      "39K-37Clv=6-6 J=32-31: guesses=[30.489542893604884, 19.0, 2]\n",
      "Line 39K-37Clv=6-6 J=32-31 with frequency 230.07071996603105 GHz has SNR=1.2\n",
      "topright vel=19.0 km / s xmin/xmax: 230.32140733781432 GHz,230.29067665958348 GHz, 0.5195613808781359 km / s, 38.65229926961206 km / s\n",
      "39K-35Clv=0-0 J=30-29: guesses=[113.67346044030957, 19.0, 2]\n",
      "Line 39K-35Clv=0-0 J=30-29 with frequency 230.32063907085856 GHz has SNR=9.7\n",
      "topright vel=19.0 km / s xmin/xmax: 230.72476344491233 GHz,230.69397894881507 GHz, 0.5768761704556943 km / s, 38.64294989848949 km / s\n",
      "39K-35Clv=5-5 J=31-30: guesses=[60.76032498478991, 19.0, 2]\n",
      "Line 39K-35Clv=5-5 J=31-30 with frequency 230.7239938325099 GHz has SNR=4.6\n",
      "topright vel=19.0 km / s xmin/xmax: 230.7799367964403 GHz,230.74914493882795 GHz, -0.05909889003261134 km / s, 39.266440022483536 km / s\n",
      "23Na-35Clv=2-2 J=18-17: guesses=[116.74223756050685, 19.0, 2]\n",
      "Line 23Na-35Clv=2-2 J=18-17 with frequency 230.779167 GHz has SNR=12.0\n",
      "RMS=15.97482503438239\n",
      "bottomleft vel=-7.6 km / s xmin/xmax: 229.26715123697562 GHz,229.23656393701097 GHz, -26.82163924085328 km / s, 12.76689574332944 km / s\n",
      "23Na-37Clv=0-0 J=18-17: guesses=[171.03684788569322, -7.6, 2]\n",
      "Line 23Na-37Clv=0-0 J=18-17 with frequency 229.246046 GHz has SNR=15.4\n",
      "bottomleft vel=-7.6 km / s xmin/xmax: 229.3132795743215 GHz,229.28268612022057 GHz, -26.519667345875035 km / s, 11.784111438064272 km / s\n",
      "39K-35Clv=6-6 J=31-30: guesses=[70.20671074100436, -7.6, 2]\n",
      "Line 39K-35Clv=6-6 J=31-30 with frequency 229.29217009099185 GHz has SNR=5.0\n",
      "bottomleft vel=-7.6 km / s xmin/xmax: 229.70341458295889 GHz,229.6727690796373 GHz, -25.873341853462975 km / s, 12.365380670455787 km / s\n",
      "41K-35Clv=2-2 J=31-30: guesses=[43.95406691263309, -7.6, 2]\n",
      "Line 41K-35Clv=2-2 J=31-30 with frequency 229.682269185667 GHz has SNR=3.7\n",
      "bottomleft vel=-7.6 km / s xmin/xmax: 229.839962646545 GHz,229.80929892588807 GHz, -26.092442343626463 km / s, 12.123562531653116 km / s\n",
      "39K-37Clv=1-1 J=31-30: guesses=[83.26952744820538, -7.6, 2]\n",
      "Line 39K-37Clv=1-1 J=31-30 with frequency 229.81880467929173 GHz has SNR=6.2\n",
      "bottomleft vel=-7.6 km / s xmin/xmax: 230.09190112553526 GHz,230.06120379292045 GHz, -26.10474426549308 km / s, 12.069416102899186 km / s\n",
      "39K-37Clv=6-6 J=32-31: guesses=[27.383726453045007, -7.6, 2]\n",
      "Line 39K-37Clv=6-6 J=32-31 with frequency 230.07071996603105 GHz has SNR=2.4\n",
      "bottomleft vel=-7.6 km / s xmin/xmax: 230.34184323883784 GHz,230.311112560607 GHz, -26.173355141235607 km / s, 11.95938274749831 km / s\n",
      "39K-35Clv=0-0 J=30-29: guesses=[130.54977031683455, -7.6, 2]\n",
      "Line 39K-35Clv=0-0 J=30-29 with frequency 230.32063907085856 GHz has SNR=11.5\n",
      "bottomleft vel=-7.6 km / s xmin/xmax: 230.74523513481702 GHz,230.71445063871977 GHz, -26.069375439167963 km / s, 11.996698288865833 km / s\n",
      "39K-35Clv=5-5 J=31-30: guesses=[55.15024922210272, -7.6, 2]\n",
      "Line 39K-35Clv=5-5 J=31-30 with frequency 230.7239938325099 GHz has SNR=4.2\n",
      "bottomleft vel=-7.6 km / s xmin/xmax: 230.80041338175252 GHz,230.76962152414018 GHz, -26.698980088833874 km / s, 12.626558823682274 km / s\n",
      "23Na-35Clv=2-2 J=18-17: guesses=[160.50544816815793, -7.6, 2]\n",
      "Line 23Na-35Clv=2-2 J=18-17 with frequency 230.779167 GHz has SNR=15.9\n",
      "RMS=76.39570991558568\n",
      "topright vel=19.0 km / s xmin/xmax: 344.7159065803974 GHz,344.66991279402464 GHz, -0.03988043402685726 km / s, 39.02789086305718 km / s\n",
      "39K-35Clv=7-7 J=47-46: guesses=[134.4431141965546, 19.0, 2]\n",
      "Line 39K-35Clv=7-7 J=47-46 with frequency 344.7147567357381 GHz has SNR=2.6\n",
      "topright vel=19.0 km / s xmin/xmax: 344.82175843736854 GHz,344.77575052769134 GHz, -0.5561206789290732 km / s, 39.34869642852553 km / s\n",
      "39K-35Clv=0-0 J=45-44: guesses=[171.49266101759787, 19.0, 2]\n",
      "Line 39K-35Clv=0-0 J=45-44 with frequency 344.82060823962667 GHz has SNR=3.1\n",
      "topright vel=19.0 km / s xmin/xmax: 345.76319033801025 GHz,345.7170568176 GHz, -0.5349649402800714 km / s, 39.26120072924239 km / s\n",
      "23Na-35Clv=2-2 J=27-26: guesses=[180.5041405103073, 19.0, 2]\n",
      "Line 23Na-35Clv=2-2 J=27-26 with frequency 345.762037 GHz has SNR=1.5\n",
      "RMS=74.93640822069803\n",
      "bottomleft vel=-7.6 km / s xmin/xmax: 344.74649244833535 GHz,344.70049866196257 GHz, -26.368161090757408 km / s, 12.699610206326634 km / s\n",
      "39K-35Clv=7-7 J=47-46: guesses=[138.66658219309534, -7.6, 2]\n",
      "Line 39K-35Clv=7-7 J=47-46 with frequency 344.7147567357381 GHz has SNR=1.7\n",
      "bottomleft vel=-7.6 km / s xmin/xmax: 344.8523536973039 GHz,344.80634578762675 GHz, -26.8763191966119 km / s, 12.17945924898197 km / s\n",
      "39K-35Clv=0-0 J=45-44: guesses=[156.33786757332513, -7.6, 2]\n",
      "Line 39K-35Clv=0-0 J=45-44 with frequency 344.82060823962667 GHz has SNR=1.8\n",
      "bottomleft vel=-7.6 km / s xmin/xmax: 345.7938691290831 GHz,345.7477356086728 GHz, -26.78349974358212 km / s, 12.165938996801565 km / s\n",
      "23Na-35Clv=2-2 J=27-26: guesses=[25.0, -7.6, 2]\n"
     ]
    },
    {
     "name": "stderr",
     "output_type": "stream",
     "text": [
      "WARNING: gnorm=0.   wa2=[0. 0. 0.] [pyspeckit.mpfit.mpfit]\n"
     ]
    },
    {
     "name": "stdout",
     "output_type": "stream",
     "text": [
      "RMS=9.335812958073154\n",
      "topright vel=19.0 km / s xmin/xmax: 497.99375925025805 GHz,497.927314336807 GHz, -0.7954766441433438 km / s, 38.88740992413112 km / s\n",
      "39K-37Clv=2-2 J=68-67: guesses=[25.0, 19.0, 2]\n",
      "Line 39K-37Clv=2-2 J=68-67 with frequency 497.99209812742174 GHz has SNR=4.4\n",
      "topright vel=19.0 km / s xmin/xmax: 498.28668709993514 GHz,498.2202031025292 GHz, -0.8206867194650903 km / s, 39.13264597100857 km / s\n",
      "23Na-35Clv=2-2 J=39-38: guesses=[44.73116981751447, 19.0, 2]\n",
      "Line 23Na-35Clv=2-2 J=39-38 with frequency 498.285025 GHz has SNR=11.0\n",
      "topright vel=19.0 km / s xmin/xmax: 498.29360825189383 GHz,498.2271233310319 GHz, -0.7694320191863863 km / s, 38.88957530656425 km / s\n",
      "41K-37Clv=5-5 J=71-70: guesses=[44.73116981751447, 19.0, 2]\n",
      "Line 41K-37Clv=5-5 J=71-70 with frequency 498.2919461288723 GHz has SNR=11.0\n",
      "RMS=9.355073258222829\n",
      "bottomleft vel=-7.6 km / s xmin/xmax: 498.037945117703 GHz,497.9715002042519 GHz, -27.25073435635082 km / s, 12.43215221192365 km / s\n",
      "39K-37Clv=2-2 J=68-67: guesses=[25.0, -7.6, 2]\n",
      "Line 39K-37Clv=2-2 J=68-67 with frequency 497.99209812742174 GHz has SNR=0.9\n",
      "bottomleft vel=-7.6 km / s xmin/xmax: 498.3308989582101 GHz,498.2644149608042 GHz, -27.26039217640483 km / s, 12.399166009004782 km / s\n",
      "23Na-35Clv=2-2 J=39-38: guesses=[43.45857914226915, -7.6, 2]\n",
      "Line 23Na-35Clv=2-2 J=39-38 with frequency 498.285025 GHz has SNR=11.1\n",
      "bottomleft vel=-7.6 km / s xmin/xmax: 498.33782072426703 GHz,498.2713358034051 GHz, -27.208770236377955 km / s, 12.450237089409397 km / s\n",
      "41K-37Clv=5-5 J=71-70: guesses=[43.45857914226915, -7.6, 2]\n",
      "Line 41K-37Clv=5-5 J=71-70 with frequency 498.2919461288723 GHz has SNR=11.1\n",
      "RMS=14.263015203330449\n",
      "topright vel=19.0 km / s xmin/xmax: 839.6618887705563 GHz,839.5498567209751 GHz, -0.542523354318716 km / s, 29.44330027877 km / s\n",
      "41K-35Clv=1-1 J=115-114: guesses=[141.70371115366095, 19.0, 2]\n"
     ]
    },
    {
     "name": "stderr",
     "output_type": "stream",
     "text": [
      "WARNING: gnorm=0.   wa2=[0. 0. 0.] [pyspeckit.mpfit.mpfit]\n"
     ]
    },
    {
     "name": "stdout",
     "output_type": "stream",
     "text": [
      "topright vel=19.0 km / s xmin/xmax: 840.0684615664069 GHz,839.9563752697719 GHz, -0.7759786786475893 km / s, 38.9534338694044 km / s\n",
      "39K-37Clv=4-4 J=118-117: guesses=[26.10779918133379, 19.0, 2]\n"
     ]
    },
    {
     "name": "stderr",
     "output_type": "stream",
     "text": [
      "WARNING: gnorm=0.   wa2=[0. 0. 0.] [pyspeckit.mpfit.mpfit]\n"
     ]
    },
    {
     "name": "stdout",
     "output_type": "stream",
     "text": [
      "topright vel=19.0 km / s xmin/xmax: 840.2952729825332 GHz,840.1831564235412 GHz, -0.6871915652311557 km / s, 39.03149727103569 km / s\n",
      "39K-37Clv=9-9 J=122-121: guesses=[47.84926625084043, 19.0, 2]\n",
      "Line 39K-37Clv=9-9 J=122-121 with frequency 840.2924700685585 GHz has SNR=9.0\n",
      "topright vel=19.0 km / s xmin/xmax: 840.3397389147624 GHz,840.2276164228947 GHz, -0.501467604193082 km / s, 38.866728432771204 km / s\n",
      "39K-37Clv=0-0 J=115-114: guesses=[38.76131836347461, 19.0, 2]\n"
     ]
    },
    {
     "name": "stderr",
     "output_type": "stream",
     "text": [
      "WARNING: gnorm=0.   wa2=[0. 0. 0.] [pyspeckit.mpfit.mpfit]\n"
     ]
    },
    {
     "name": "stdout",
     "output_type": "stream",
     "text": [
      "topright vel=19.0 km / s xmin/xmax: 840.4577124558127 GHz,840.3455742233027 GHz, -0.5694754997603855 km / s, 39.14153670650081 km / s\n",
      "23Na-37Clv=8-8 J=71-70: guesses=[28.753825843463083, 19.0, 2]\n",
      "Line 23Na-37Clv=8-8 J=71-70 with frequency 840.454909 GHz has SNR=2.8\n",
      "topright vel=19.0 km / s xmin/xmax: 840.5557275236802 GHz,840.4435762134907 GHz, -0.7898331177289399 km / s, 38.91654848828884 km / s\n",
      "41K-37Clv=9-9 J=125-124: guesses=[33.38648239462853, 19.0, 2]\n"
     ]
    },
    {
     "name": "stderr",
     "output_type": "stream",
     "text": [
      "WARNING: gnorm=0.   wa2=[0. 0. 0.] [pyspeckit.mpfit.mpfit]\n"
     ]
    },
    {
     "name": "stdout",
     "output_type": "stream",
     "text": [
      "topright vel=19.0 km / s xmin/xmax: 840.588153766466 GHz,840.4759981297989 GHz, -0.7186199144627912 km / s, 38.98622999167992 km / s\n",
      "39K-35Clv=7-7 J=117-116: guesses=[25.0, 19.0, 2]\n",
      "Line 39K-35Clv=7-7 J=117-116 with frequency 840.5853498755494 GHz has SNR=0.0\n",
      "topright vel=19.0 km / s xmin/xmax: 840.7110525467991 GHz,840.5988805123384 GHz, -0.7714484177105885 km / s, 38.927597261626744 km / s\n",
      "41K-37Clv=4-4 J=121-120: guesses=[199.34080168478468, 19.0, 2]\n",
      "Line 41K-37Clv=4-4 J=121-120 with frequency 840.7082482459376 GHz has SNR=43.6\n",
      "topright vel=19.0 km / s xmin/xmax: 840.7463039363881 GHz,840.6341271985041 GHz, -0.7375266915392141 km / s, 38.95985445889207 km / s\n",
      "41K-35Clv=6-6 J=119-118: guesses=[199.34080168478468, 19.0, 2]\n",
      "Line 41K-35Clv=6-6 J=119-118 with frequency 840.743499517941 GHz has SNR=47.1\n",
      "topright vel=19.0 km / s xmin/xmax: 840.8725498395567 GHz,840.7603562572887 GHz, -0.6415159810918685 km / s, 39.049905132068936 km / s\n",
      "23Na-35Clv=7-7 J=69-68: guesses=[169.40647936212287, 19.0, 2]\n",
      "Line 23Na-35Clv=7-7 J=69-68 with frequency 840.869745 GHz has SNR=18.2\n",
      "topright vel=19.0 km / s xmin/xmax: 841.1331090803486 GHz,841.0208807329135 GHz, -0.7067846164090668 km / s, 38.97234121739636 km / s\n",
      "39K-35Clv=3-3 J=114-113: guesses=[122.28778815271662, 19.0, 2]\n",
      "Line 39K-35Clv=3-3 J=114-113 with frequency 841.1303033716628 GHz has SNR=9.4\n",
      "topright vel=19.0 km / s xmin/xmax: 841.2899733875106 GHz,841.177724110425 GHz, -0.4879025868847045 km / s, 38.835827192085794 km / s\n",
      "41K-37Clv=0-0 J=118-117: guesses=[32.78725421556414, 19.0, 2]\n",
      "Line 41K-37Clv=0-0 J=118-117 with frequency 841.2871671555833 GHz has SNR=2.3\n",
      "topright vel=19.0 km / s xmin/xmax: 841.3693270775773 GHz,841.2570672127104 GHz, -0.7460641242765883 km / s, 38.92192162712436 km / s\n",
      "41K-35Clv=2-2 J=116-115: guesses=[39.73994648925821, 19.0, 2]\n",
      "Line 41K-35Clv=2-2 J=116-115 with frequency 841.3665205809557 GHz has SNR=2.5\n",
      "RMS=16.511802237246886\n",
      "bottomleft vel=-7.6 km / s xmin/xmax: 839.7363900835279 GHz,839.6243580339466 GHz, -27.390295676967913 km / s, 12.358354255265963 km / s\n",
      "41K-35Clv=1-1 J=115-114: guesses=[115.3590326106682, -7.6, 2]\n"
     ]
    },
    {
     "name": "stderr",
     "output_type": "stream",
     "text": [
      "WARNING: gnorm=0.   wa2=[0. 0. 0.] [pyspeckit.mpfit.mpfit]\n"
     ]
    },
    {
     "name": "stdout",
     "output_type": "stream",
     "text": [
      "bottomleft vel=-7.6 km / s xmin/xmax: 840.1429989536692 GHz,840.0309126570343 GHz, -27.262253710682252 km / s, 12.467158837369743 km / s\n",
      "39K-37Clv=4-4 J=118-117: guesses=[41.615793285014625, -7.6, 2]\n",
      "Line 39K-37Clv=4-4 J=118-117 with frequency 840.0656594089911 GHz has SNR=3.7\n",
      "bottomleft vel=-7.6 km / s xmin/xmax: 840.3698304942629 GHz,840.2577139352709 GHz, -27.166317456075713 km / s, 12.552371380191126 km / s\n",
      "39K-37Clv=9-9 J=122-121: guesses=[25.84172679982629, -7.6, 2]\n"
     ]
    },
    {
     "name": "stderr",
     "output_type": "stream",
     "text": [
      "WARNING: gnorm=0.   wa2=[0. 0. 0.] [pyspeckit.mpfit.mpfit]\n"
     ]
    },
    {
     "name": "stdout",
     "output_type": "stream",
     "text": [
      "bottomleft vel=-7.6 km / s xmin/xmax: 840.4143003718544 GHz,840.3021778799867 GHz, -27.32758348778821 km / s, 12.389003664547435 km / s\n",
      "39K-37Clv=0-0 J=115-114: guesses=[26.469605901263485, -7.6, 2]\n"
     ]
    },
    {
     "name": "stderr",
     "output_type": "stream",
     "text": [
      "WARNING: gnorm=0.   wa2=[0. 0. 0.] [pyspeckit.mpfit.mpfit]\n"
     ]
    },
    {
     "name": "stdout",
     "output_type": "stream",
     "text": [
      "bottomleft vel=-7.6 km / s xmin/xmax: 840.532284380432 GHz,840.420146147922 GHz, -27.391825849603475 km / s, 12.319186356657722 km / s\n",
      "23Na-37Clv=8-8 J=71-70: guesses=[32.06246522778848, -7.6, 2]\n",
      "Line 23Na-37Clv=8-8 J=71-70 with frequency 840.454909 GHz has SNR=3.5\n",
      "bottomleft vel=-7.6 km / s xmin/xmax: 840.6303081449561 GHz,840.5181568347666 GHz, -27.260754188407457 km / s, 12.44562741761032 km / s\n",
      "41K-37Clv=9-9 J=125-124: guesses=[25.0, -7.6, 2]\n"
     ]
    },
    {
     "name": "stderr",
     "output_type": "stream",
     "text": [
      "WARNING: gnorm=0.   wa2=[0. 0. 0.] [pyspeckit.mpfit.mpfit]\n"
     ]
    },
    {
     "name": "stdout",
     "output_type": "stream",
     "text": [
      "bottomleft vel=-7.6 km / s xmin/xmax: 840.6627372648496 GHz,840.5505816281825 GHz, -27.188519851891268 km / s, 12.516330054251446 km / s\n",
      "39K-35Clv=7-7 J=117-116: guesses=[33.9087480705178, -7.6, 2]\n"
     ]
    },
    {
     "name": "stderr",
     "output_type": "stream",
     "text": [
      "WARNING: gnorm=0.   wa2=[0. 0. 0.] [pyspeckit.mpfit.mpfit]\n"
     ]
    },
    {
     "name": "stdout",
     "output_type": "stream",
     "text": [
      "bottomleft vel=-7.6 km / s xmin/xmax: 840.7856469497156 GHz,840.6734749152548 GHz, -27.23747887060214 km / s, 12.461566808735189 km / s\n",
      "41K-37Clv=4-4 J=121-120: guesses=[179.04125494718218, -7.6, 2]\n",
      "Line 41K-37Clv=4-4 J=121-120 with frequency 840.7082482459376 GHz has SNR=21.6\n",
      "bottomleft vel=-7.6 km / s xmin/xmax: 840.8209014670811 GHz,840.708724729197 GHz, -27.2024474584934 km / s, 12.494933691937877 km / s\n",
      "41K-35Clv=6-6 J=119-118: guesses=[181.26709595427297, -7.6, 2]\n"
     ]
    },
    {
     "name": "stderr",
     "output_type": "stream",
     "text": [
      "WARNING: gnorm=0.   wa2=[0. 0. 0.] [pyspeckit.mpfit.mpfit]\n"
     ]
    },
    {
     "name": "stdout",
     "output_type": "stream",
     "text": [
      "bottomleft vel=-7.6 km / s xmin/xmax: 840.947158571765 GHz,840.8349649894968 GHz, -27.10246338986574 km / s, 12.240787362653306 km / s\n",
      "23Na-35Clv=7-7 J=69-68: guesses=[129.92399503027468, -7.6, 2]\n",
      "Line 23Na-35Clv=7-7 J=69-68 with frequency 840.869745 GHz has SNR=6.3\n",
      "bottomleft vel=-7.6 km / s xmin/xmax: 841.207740931393 GHz,841.0955125839578 GHz, -27.159535172279355 km / s, 12.519590661526077 km / s\n",
      "39K-35Clv=3-3 J=114-113: guesses=[40.669446566507425, -7.6, 2]\n",
      "Line 39K-35Clv=3-3 J=114-113 with frequency 841.1303033716628 GHz has SNR=1.7\n",
      "bottomleft vel=-7.6 km / s xmin/xmax: 841.3646191567724 GHz,841.2523698796869 GHz, -27.283718453970796 km / s, 12.388008933663157 km / s\n",
      "41K-37Clv=0-0 J=118-117: guesses=[28.108402304075934, -7.6, 2]\n",
      "Line 41K-37Clv=0-0 J=118-117 with frequency 841.2871671555833 GHz has SNR=1.8\n",
      "bottomleft vel=-7.6 km / s xmin/xmax: 841.4439798877139 GHz,841.331720022847 GHz, -22.31988093644202 km / s, 12.47659779285706 km / s\n",
      "41K-35Clv=2-2 J=116-115: guesses=[30.98986845258036, -7.6, 2]\n"
     ]
    },
    {
     "name": "stderr",
     "output_type": "stream",
     "text": [
      "WARNING: gnorm=0.   wa2=[0. 0. 0.] [pyspeckit.mpfit.mpfit]\n"
     ]
    },
    {
     "name": "stdout",
     "output_type": "stream",
     "text": [
      "RMS=27.70456711850454\n",
      "topright vel=19.0 km / s xmin/xmax: 87.82548295330038 GHz,87.8137648212852 GHz, 0.7587061113404567 km / s, 37.426355992144515 km / s\n",
      "23Na-35Clv=5-5 J=7-6: guesses=[109.98655439642611, 19.0, 2]\n",
      "Line 23Na-35Clv=5-5 J=7-6 with frequency 87.82519 GHz has SNR=5.8\n",
      "topright vel=19.0 km / s xmin/xmax: 87.91261524394145 GHz,87.90088548628357 GHz, 1.5088321104351463 km / s, 38.14013980851976 km / s\n",
      "23Na-37Clv=2-2 J=7-6: guesses=[155.5912189512353, 19.0, 2]\n",
      "Line 23Na-37Clv=2-2 J=7-6 with frequency 87.912322 GHz has SNR=6.3\n",
      "topright vel=19.0 km / s xmin/xmax: 88.00552155018985 GHz,87.99377939649015 GHz, 1.9669969746492568 km / s, 38.55963346857157 km / s\n",
      "39K-37Clv=3-3 J=12-11: guesses=[65.49220459795552, 19.0, 2]\n",
      "Line 39K-37Clv=3-3 J=12-11 with frequency 88.00522799634737 GHz has SNR=4.2\n",
      "topright vel=19.0 km / s xmin/xmax: 88.48578515582412 GHz,88.47397892286011 GHz, 1.2980516121253631 km / s, 37.69207867390796 km / s\n",
      "23Na-35Clv=4-4 J=7-6: guesses=[87.48338838938776, 19.0, 2]\n",
      "Line 23Na-35Clv=4-4 J=7-6 with frequency 88.48549000000001 GHz has SNR=3.5\n",
      "topright vel=19.0 km / s xmin/xmax: 88.54337014513831 GHz,88.531556228886 GHz, 1.1925959985115249 km / s, 37.562953872459744 km / s\n",
      "39K-37Clv=2-2 J=12-11: guesses=[31.114138743574987, 19.0, 2]\n",
      "Line 39K-37Clv=2-2 J=12-11 with frequency 88.54307479723201 GHz has SNR=0.0\n",
      "topright vel=19.0 km / s xmin/xmax: 88.56444141819226 GHz,88.55262469050129 GHz, 3.10120571458375 km / s, 39.46291034430031 km / s\n",
      "23Na-37Clv=1-1 J=7-6: guesses=[107.8790485556886, 19.0, 2]\n",
      "Line 23Na-37Clv=1-1 J=7-6 with frequency 88.564146 GHz has SNR=4.3\n",
      "topright vel=19.0 km / s xmin/xmax: 89.03158962440875 GHz,89.0197105673782 GHz, 1.0151927423083371 km / s, 40.47437272913351 km / s\n",
      "41K-35Clv=2-2 J=12-11: guesses=[25.0, 19.0, 2]\n",
      "Line 41K-35Clv=2-2 J=12-11 with frequency 89.03129264798301 GHz has SNR=inf\n",
      "topright vel=19.0 km / s xmin/xmax: 89.08321644877591 GHz,89.07133050342634 GHz, 3.8640823183501776 km / s, 40.0140350021522 km / s\n",
      "39K-37Clv=1-1 J=12-11: guesses=[57.607268538832265, 19.0, 2]\n",
      "Line 39K-37Clv=1-1 J=12-11 with frequency 89.08291930014218 GHz has SNR=1.9\n",
      "topright vel=19.0 km / s xmin/xmax: 89.15040537275111 GHz,89.13851046270638 GHz, 3.2142850287419855 km / s, 39.33699300835648 km / s\n",
      "23Na-35Clv=3-3 J=7-6: guesses=[111.66828923519311, 19.0, 2]\n",
      "Line 23Na-35Clv=3-3 J=7-6 with frequency 89.15010799999999 GHz has SNR=4.5\n",
      "topright vel=19.0 km / s xmin/xmax: 89.22040560624598 GHz,89.20850135640659 GHz, 2.1678421541577793 km / s, 38.26220910600112 km / s\n",
      "23Na-37Clv=0-0 J=7-6: guesses=[119.2583446648329, 19.0, 2]\n",
      "Line 23Na-37Clv=0-0 J=7-6 with frequency 89.220108 GHz has SNR=5.1\n",
      "RMS=14.869109495583636\n",
      "bottomleft vel=-7.6 km / s xmin/xmax: 87.83327551109048 GHz,87.82155737907529 GHz, -25.9086756201534 km / s, 10.758974260650653 km / s\n",
      "23Na-35Clv=5-5 J=7-6: guesses=[66.61497081791208, -7.6, 2]\n",
      "Line 23Na-35Clv=5-5 J=7-6 with frequency 87.82519 GHz has SNR=4.5\n",
      "bottomleft vel=-7.6 km / s xmin/xmax: 87.92041553278393 GHz,87.90868577512606 GHz, -25.1321189427173 km / s, 11.499188755367314 km / s\n",
      "23Na-37Clv=2-2 J=7-6: guesses=[86.06280919514228, -7.6, 2]\n",
      "Line 23Na-37Clv=2-2 J=7-6 with frequency 87.912322 GHz has SNR=6.1\n",
      "bottomleft vel=-7.6 km / s xmin/xmax: 88.01333008240017 GHz,88.00158792870046 GHz, -24.645829566385146 km / s, 11.946806927537159 km / s\n",
      "39K-37Clv=3-3 J=12-11: guesses=[39.43040764536733, -7.6, 2]\n",
      "Line 39K-37Clv=3-3 J=12-11 with frequency 88.00522799634737 GHz has SNR=3.3\n",
      "bottomleft vel=-7.6 km / s xmin/xmax: 88.49363630074518 GHz,88.48183006778117 GHz, -25.170331705534707 km / s, 11.223695356247887 km / s\n",
      "23Na-35Clv=4-4 J=7-6: guesses=[101.22727829470752, -7.6, 2]\n",
      "Line 23Na-35Clv=4-4 J=7-6 with frequency 88.48549000000001 GHz has SNR=7.5\n",
      "bottomleft vel=-7.6 km / s xmin/xmax: 88.55122639944611 GHz,88.53941248319379 GHz, -25.25857336435991 km / s, 11.111784509588313 km / s\n",
      "39K-37Clv=2-2 J=12-11: guesses=[39.1813582636949, -7.6, 2]\n",
      "Line 39K-37Clv=2-2 J=12-11 with frequency 88.54307479723201 GHz has SNR=2.6\n",
      "bottomleft vel=-7.6 km / s xmin/xmax: 88.57229954210679 GHz,88.56048281441579 GHz, -23.34367037975557 km / s, 13.018034249960994 km / s\n",
      "23Na-37Clv=1-1 J=7-6: guesses=[89.55712844174602, -7.6, 2]\n",
      "Line 23Na-37Clv=1-1 J=7-6 with frequency 88.564146 GHz has SNR=7.3\n",
      "bottomleft vel=-7.6 km / s xmin/xmax: 89.03948919733409 GHz,89.02761014030354 GHz, -25.290927248908446 km / s, 10.879987739014629 km / s\n",
      "41K-35Clv=2-2 J=12-11: guesses=[25.0, -7.6, 2]\n"
     ]
    },
    {
     "name": "stderr",
     "output_type": "stream",
     "text": [
      "WARNING: gnorm=0.   wa2=[0. 0. 0.] [pyspeckit.mpfit.mpfit]\n"
     ]
    },
    {
     "name": "stdout",
     "output_type": "stream",
     "text": [
      "bottomleft vel=-7.6 km / s xmin/xmax: 89.09112060243339 GHz,89.07923465708382 GHz, -25.71315169566966 km / s, 13.723160323023455 km / s\n",
      "39K-37Clv=1-1 J=12-11: guesses=[36.77643135896177, -7.6, 2]\n",
      "Line 39K-37Clv=1-1 J=12-11 with frequency 89.08291930014218 GHz has SNR=0.0\n",
      "bottomleft vel=-7.6 km / s xmin/xmax: 89.15831548793085 GHz,89.14642057788613 GHz, -23.056775320068557 km / s, 13.06593265954594 km / s\n",
      "23Na-35Clv=3-3 J=7-6: guesses=[92.81727448754364, -7.6, 2]\n",
      "Line 23Na-35Clv=3-3 J=7-6 with frequency 89.15010799999999 GHz has SNR=5.9\n",
      "bottomleft vel=-7.6 km / s xmin/xmax: 89.22832193238918 GHz,89.21641768254979 GHz, -24.082606538091923 km / s, 12.011760413751418 km / s\n",
      "23Na-37Clv=0-0 J=7-6: guesses=[137.07809384583032, -7.6, 2]\n",
      "Line 23Na-37Clv=0-0 J=7-6 with frequency 89.220108 GHz has SNR=9.2\n",
      "RMS=21.614886957293976\n",
      "topright vel=19.0 km / s xmin/xmax: 232.1626208652445 GHz,232.1316445227434 GHz, -0.19476718602376641 km / s, 38.896561775084926 km / s\n",
      "39K-35Clv=4-4 J=31-30: guesses=[56.43038834931919, 19.0, 2]\n",
      "Line 39K-35Clv=4-4 J=31-30 with frequency 232.16184645668199 GHz has SNR=4.2\n",
      "topright vel=19.0 km / s xmin/xmax: 232.51075256980104 GHz,232.47972977776004 GHz, 0.4285805938079791 km / s, 39.461379225311696 km / s\n",
      "23Na-35Clv=1-1 J=18-17: guesses=[155.9887343873388, 19.0, 2]\n",
      "Line 23Na-35Clv=1-1 J=18-17 with frequency 232.50997700000002 GHz has SNR=13.3\n",
      "topright vel=19.0 km / s xmin/xmax: 232.9083295885518 GHz,232.87725374972035 GHz, 0.5887001842132582 km / s, 39.55486940945733 km / s\n",
      "39K-37Clv=4-4 J=32-31: guesses=[45.72860671401427, 19.0, 2]\n",
      "Line 39K-37Clv=4-4 J=32-31 with frequency 232.90755269258102 GHz has SNR=2.8\n",
      "topright vel=19.0 km / s xmin/xmax: 233.1699797687389 GHz,233.1388690191816 GHz, 0.507398862260728 km / s, 39.42984245348837 km / s\n",
      "23Na-37Clv=5-5 J=19-18: guesses=[63.2082096335444, 19.0, 2]\n",
      "Line 23Na-37Clv=5-5 J=19-18 with frequency 233.16920199999998 GHz has SNR=3.3\n",
      "topright vel=19.0 km / s xmin/xmax: 233.60647720897083 GHz,233.57530821965838 GHz, 0.4856091517966922 km / s, 39.33532553443779 km / s\n",
      "39K-35Clv=3-3 J=31-30: guesses=[52.488339792298476, 19.0, 2]\n",
      "Line 39K-35Clv=3-3 J=31-30 with frequency 233.60569798423805 GHz has SNR=3.4\n",
      "RMS=17.801370916580023\n",
      "bottomleft vel=-7.6 km / s xmin/xmax: 232.18322013300778 GHz,232.15224379050665 GHz, -26.675990030645785 km / s, 12.415338930462909 km / s\n",
      "39K-35Clv=4-4 J=31-30: guesses=[71.95065043055476, -7.6, 2]\n",
      "Line 39K-35Clv=4-4 J=31-30 with frequency 232.16184645668199 GHz has SNR=4.9\n",
      "bottomleft vel=-7.6 km / s xmin/xmax: 232.53138272650833 GHz,232.50035993446733 GHz, -26.012992672694537 km / s, 13.01980595880918 km / s\n",
      "23Na-35Clv=1-1 J=18-17: guesses=[171.2158175860623, -7.6, 2]\n",
      "Line 23Na-35Clv=1-1 J=18-17 with frequency 232.50997700000002 GHz has SNR=15.7\n",
      "bottomleft vel=-7.6 km / s xmin/xmax: 232.92899502137473 GHz,232.8979191825433 GHz, -25.807737032887562 km / s, 11.901458991542182 km / s\n",
      "39K-37Clv=4-4 J=32-31: guesses=[39.9531120899242, -7.6, 2]\n",
      "Line 39K-37Clv=4-4 J=32-31 with frequency 232.90755269258102 GHz has SNR=3.6\n",
      "bottomleft vel=-7.6 km / s xmin/xmax: 233.19066841719447 GHz,233.15955766763722 GHz, -25.859417764054772 km / s, 11.807463130681656 km / s\n",
      "23Na-37Clv=5-5 J=19-18: guesses=[112.80572192202787, -7.6, 2]\n",
      "Line 23Na-37Clv=5-5 J=19-18 with frequency 233.16920199999998 GHz has SNR=7.6\n",
      "bottomleft vel=-7.6 km / s xmin/xmax: 233.62720458686366 GHz,233.59603559755115 GHz, -25.831940655798896 km / s, 13.017775726842208 km / s\n",
      "39K-35Clv=3-3 J=31-30: guesses=[62.21113220886428, -7.6, 2]\n",
      "Line 39K-35Clv=3-3 J=31-30 with frequency 233.60569798423805 GHz has SNR=5.3\n",
      "RMS=81.75648416134824\n",
      "topright vel=19.0 km / s xmin/xmax: 346.8760511216011 GHz,346.829769117526 GHz, -0.004377184705357166 km / s, 38.820102507356935 km / s\n",
      "39K-35Clv=6-6 J=47-46: guesses=[130.25244945842297, 19.0, 2]\n",
      "Line 39K-35Clv=6-6 J=47-46 with frequency 346.8748940714992 GHz has SNR=1.4\n",
      "topright vel=19.0 km / s xmin/xmax: 347.71381066304497 GHz,347.6674168807413 GHz, -0.11968455862389932 km / s, 38.611253901234825 km / s\n",
      "39K-37Clv=1-1 J=47-46: guesses=[184.94375673571318, 19.0, 2]\n",
      "Line 39K-37Clv=1-1 J=47-46 with frequency 347.71265081848736 GHz has SNR=3.2\n",
      "RMS=77.41951165705336\n",
      "bottomleft vel=-7.6 km / s xmin/xmax: 346.9068286543111 GHz,346.8605466502359 GHz, -27.012710883531305 km / s, 12.655779236619304 km / s\n",
      "39K-35Clv=6-6 J=47-46: guesses=[101.25028916952348, -7.6, 2]\n",
      "Line 39K-35Clv=6-6 J=47-46 with frequency 346.8748940714992 GHz has SNR=1.7\n",
      "bottomleft vel=-7.6 km / s xmin/xmax: 347.7446625282769 GHz,347.6982687459732 GHz, -27.062946095916928 km / s, 12.509969286982209 km / s\n",
      "39K-37Clv=1-1 J=47-46: guesses=[153.33286566099633, -7.6, 2]\n",
      "Line 39K-37Clv=1-1 J=47-46 with frequency 347.71265081848736 GHz has SNR=1.5\n",
      "RMS=7.1094172750694975\n",
      "topright vel=19.0 km / s xmin/xmax: 495.82646989356124 GHz,495.76031415111095 GHz, -0.18822257945475732 km / s, 38.19195959107081 km / s\n",
      "23Na-35Clv=6-6 J=40-39: guesses=[44.25132293276309, 19.0, 2]\n",
      "Line 23Na-35Clv=6-6 J=40-39 with frequency 495.824816 GHz has SNR=2.3\n",
      "topright vel=19.0 km / s xmin/xmax: 495.97221819933003 GHz,495.90604301038394 GHz, -0.6336249603500375 km / s, 38.91586031198357 km / s\n",
      "39K-37Clv=5-5 J=69-68: guesses=[25.0, 19.0, 2]\n",
      "Line 39K-37Clv=5-5 J=69-68 with frequency 495.9705638196064 GHz has SNR=2.0\n",
      "topright vel=19.0 km / s xmin/xmax: 496.02091882371707 GHz,495.9547371368808 GHz, -0.12056976987730547 km / s, 38.834799562417786 km / s\n",
      "41K-37Clv=8-8 J=72-71: guesses=[28.617413141794646, 19.0, 2]\n",
      "Line 41K-37Clv=8-8 J=72-71 with frequency 496.0192642815462 GHz has SNR=8.0\n",
      "topright vel=19.0 km / s xmin/xmax: 496.2095554946207 GHz,496.1433486389002 GHz, -0.6144919099957478 km / s, 38.916076822418916 km / s\n",
      "39K-35Clv=0-0 J=65-64: guesses=[63.80699923747163, 19.0, 2]\n",
      "Line 39K-35Clv=0-0 J=65-64 with frequency 496.2079003232277 GHz has SNR=4.3\n",
      "topright vel=19.0 km / s xmin/xmax: 496.38108930216123 GHz,496.3148595595093 GHz, -0.2311705441747916 km / s, 39.28573765782272 km / s\n",
      "41K-37Clv=1-1 J=69-68: guesses=[39.387572069354334, 19.0, 2]\n",
      "Line 41K-37Clv=1-1 J=69-68 with frequency 496.37943355859494 GHz has SNR=7.9\n",
      "topright vel=19.0 km / s xmin/xmax: 496.4496703590622 GHz,496.3834314659696 GHz, -0.6872446993523219 km / s, 38.8242045175924 km / s\n",
      "41K-35Clv=8-8 J=70-69: guesses=[44.196021257748704, 19.0, 2]\n",
      "Line 41K-35Clv=8-8 J=70-69 with frequency 496.44801438673494 GHz has SNR=9.3\n",
      "topright vel=19.0 km / s xmin/xmax: 496.4519389798946 GHz,496.3856997841107 GHz, -0.4967302354222276 km / s, 39.01453842729403 km / s\n",
      "23Na-37Clv=3-3 J=40-39: guesses=[44.196021257748704, 19.0, 2]\n",
      "Line 23Na-37Clv=3-3 J=40-39 with frequency 496.450283 GHz has SNR=9.3\n",
      "topright vel=19.0 km / s xmin/xmax: 496.5061179924882 GHz,496.43987156785914 GHz, -0.2142472535777342 km / s, 39.29270991841385 km / s\n",
      "41K-35Clv=1-1 J=67-66: guesses=[25.0, 19.0, 2]\n",
      "Line 41K-35Clv=1-1 J=67-66 with frequency 496.5044618318725 GHz has SNR=inf\n",
      "topright vel=19.0 km / s xmin/xmax: 496.6006733230659 GHz,496.5344142823736 GHz, -0.3179245298488505 km / s, 39.181510313647856 km / s\n",
      "39K-35Clv=7-7 J=68-67: guesses=[25.0, 19.0, 2]\n",
      "Line 39K-35Clv=7-7 J=68-67 with frequency 496.5990168470486 GHz has SNR=1.0\n",
      "topright vel=19.0 km / s xmin/xmax: 496.6557440651395 GHz,496.5894776766228 GHz, -0.6762346962596024 km / s, 38.81882032637665 km / s\n",
      "41K-37Clv=10-10 J=73-72: guesses=[25.0, 19.0, 2]\n",
      "Line 41K-37Clv=10-10 J=73-72 with frequency 496.6540874054266 GHz has SNR=1.9\n",
      "topright vel=19.0 km / s xmin/xmax: 496.82104187635133 GHz,496.75475343294227 GHz, -0.5204798546732636 km / s, 38.96143472986021 km / s\n",
      "39K-37Clv=0-0 J=67-66: guesses=[27.690196677764135, 19.0, 2]\n",
      "Line 39K-37Clv=0-0 J=67-66 with frequency 496.8193846652661 GHz has SNR=6.7\n",
      "topright vel=19.0 km / s xmin/xmax: 496.86720770379293 GHz,496.8009131006995 GHz, -0.3592658138413386 km / s, 39.118980355414344 km / s\n",
      "39K-37Clv=7-7 J=70-69: guesses=[25.0, 19.0, 2]\n",
      "Line 39K-37Clv=7-7 J=70-69 with frequency 496.86555033871565 GHz has SNR=0.0\n",
      "topright vel=19.0 km / s xmin/xmax: 497.1884741507187 GHz,497.1221366825875 GHz, -0.3738465619547828 km / s, 39.078890094234815 km / s\n",
      "41K-35Clv=10-10 J=71-70: guesses=[25.0, 19.0, 2]\n"
     ]
    },
    {
     "name": "stderr",
     "output_type": "stream",
     "text": [
      "WARNING: gnorm=0.   wa2=[0. 0. 0.] [pyspeckit.mpfit.mpfit]\n"
     ]
    },
    {
     "name": "stdout",
     "output_type": "stream",
     "text": [
      "topright vel=19.0 km / s xmin/xmax: 497.4000527824657 GHz,497.33368708441475 GHz, -0.5766335232343016 km / s, 38.85932115636784 km / s\n",
      "41K-37Clv=3-3 J=70-69: guesses=[78.86719865135856, 19.0, 2]\n",
      "Line 41K-37Clv=3-3 J=70-69 with frequency 497.3983936400145 GHz has SNR=51.4\n",
      "topright vel=19.0 km / s xmin/xmax: 497.48444445543885 GHz,497.4180674974126 GHz, -0.33139841348010834 km / s, 39.09786647666672 km / s\n",
      "39K-35Clv=9-9 J=69-68: guesses=[25.0, 19.0, 2]\n",
      "Line 39K-35Clv=9-9 J=69-68 with frequency 497.4827850314882 GHz has SNR=2.9\n",
      "topright vel=19.0 km / s xmin/xmax: 497.5187621340789 GHz,497.45238059720975 GHz, -0.24835056890563728 km / s, 39.178194582922764 km / s\n",
      "39K-35Clv=2-2 J=66-65: guesses=[25.0, 19.0, 2]\n",
      "Line 39K-35Clv=2-2 J=66-65 with frequency 497.51710259565715 GHz has SNR=4.7\n",
      "topright vel=19.0 km / s xmin/xmax: 497.5273225669762 GHz,497.4609398879296 GHz, -0.38614260490937324 km / s, 39.03972417554355 km / s\n",
      "23Na-37Clv=6-6 J=41-40: guesses=[25.0, 19.0, 2]\n",
      "Line 23Na-37Clv=6-6 J=41-40 with frequency 497.525663 GHz has SNR=4.7\n",
      "RMS=7.183670822523076\n",
      "bottomleft vel=-7.6 km / s xmin/xmax: 495.87046346229073 GHz,495.80430771984044 GHz, -26.75911792829434 km / s, 12.211528583317369 km / s\n",
      "23Na-35Clv=6-6 J=40-39: guesses=[25.0, -7.6, 2]\n",
      "Line 23Na-35Clv=6-6 J=40-39 with frequency 495.824816 GHz has SNR=1.9\n",
      "bottomleft vel=-7.6 km / s xmin/xmax: 496.0162246999792 GHz,495.9500495110331 GHz, -27.19671208357184 km / s, 12.352773188761766 km / s\n",
      "39K-37Clv=5-5 J=69-68: guesses=[36.412335291154584, -7.6, 2]\n",
      "Line 39K-37Clv=5-5 J=69-68 with frequency 495.9705638196064 GHz has SNR=1.9\n",
      "bottomleft vel=-7.6 km / s xmin/xmax: 496.0649296454633 GHz,495.998747958627 GHz, -27.271281728727285 km / s, 12.274320472240062 km / s\n",
      "41K-37Clv=8-8 J=72-71: guesses=[41.151798895594325, -7.6, 2]\n",
      "Line 41K-37Clv=8-8 J=72-71 with frequency 496.0192642815462 GHz has SNR=10.6\n",
      "bottomleft vel=-7.6 km / s xmin/xmax: 496.2535830536749 GHz,496.1873761979544 GHz, -27.164873894429142 km / s, 12.365694837985522 km / s\n",
      "39K-35Clv=0-0 J=65-64: guesses=[25.0, -7.6, 2]\n",
      "Line 39K-35Clv=0-0 J=65-64 with frequency 496.2079003232277 GHz has SNR=2.1\n",
      "bottomleft vel=-7.6 km / s xmin/xmax: 496.42513208102474 GHz,496.35890233837284 GHz, -26.772377545529057 km / s, 12.15472605643754 km / s\n",
      "41K-37Clv=1-1 J=69-68: guesses=[25.0, -7.6, 2]\n",
      "Line 41K-37Clv=1-1 J=69-68 with frequency 496.37943355859494 GHz has SNR=1.4\n",
      "bottomleft vel=-7.6 km / s xmin/xmax: 496.4937192229689 GHz,496.4274803298762 GHz, -27.224785218208442 km / s, 12.286663998736275 km / s\n",
      "41K-35Clv=8-8 J=70-69: guesses=[26.725419936965878, -7.6, 2]\n",
      "Line 41K-35Clv=8-8 J=70-69 with frequency 496.44801438673494 GHz has SNR=4.5\n",
      "bottomleft vel=-7.6 km / s xmin/xmax: 496.4959880450908 GHz,496.42974884930703 GHz, -27.034149486512966 km / s, 12.477119176203294 km / s\n",
      "23Na-37Clv=3-3 J=40-39: guesses=[26.725419936965878, -7.6, 2]\n",
      "Line 23Na-37Clv=3-3 J=40-39 with frequency 496.450283 GHz has SNR=4.5\n",
      "bottomleft vel=-7.6 km / s xmin/xmax: 496.55017186486657 GHz,496.4839254402375 GHz, -26.748770727316078 km / s, 12.168530367480503 km / s\n",
      "41K-35Clv=1-1 J=67-66: guesses=[25.0, -7.6, 2]\n",
      "Line 41K-35Clv=1-1 J=67-66 with frequency 496.5044618318725 GHz has SNR=0.0\n",
      "bottomleft vel=-7.6 km / s xmin/xmax: 496.64473558512634 GHz,496.578476544434 GHz, -26.84739569340406 km / s, 12.652039150092643 km / s\n",
      "39K-35Clv=7-7 J=68-67: guesses=[25.0, -7.6, 2]\n",
      "Line 39K-35Clv=7-7 J=68-67 with frequency 496.5990168470486 GHz has SNR=2.3\n",
      "bottomleft vel=-7.6 km / s xmin/xmax: 496.6998112135031 GHz,496.6335448249864 GHz, -27.20276418908764 km / s, 12.29229083354861 km / s\n",
      "41K-37Clv=10-10 J=73-72: guesses=[25.0, -7.6, 2]\n"
     ]
    },
    {
     "name": "stderr",
     "output_type": "stream",
     "text": [
      "WARNING: gnorm=0.   wa2=[0. 0. 0.] [pyspeckit.mpfit.mpfit]\n"
     ]
    },
    {
     "name": "stdout",
     "output_type": "stream",
     "text": [
      "bottomleft vel=-7.6 km / s xmin/xmax: 496.86512369121834 GHz,496.7988352478093 GHz, -27.03818368011884 km / s, 12.443730904414638 km / s\n",
      "39K-37Clv=0-0 J=67-66: guesses=[25.0, -7.6, 2]\n",
      "Line 39K-37Clv=0-0 J=67-66 with frequency 496.8193846652661 GHz has SNR=5.7\n",
      "bottomleft vel=-7.6 km / s xmin/xmax: 496.9112936148502 GHz,496.84499901175667 GHz, -26.87450577824261 km / s, 12.603740391013071 km / s\n",
      "39K-37Clv=7-7 J=70-69: guesses=[25.0, -7.6, 2]\n"
     ]
    },
    {
     "name": "stderr",
     "output_type": "stream",
     "text": [
      "WARNING: gnorm=0.   wa2=[0. 0. 0.] [pyspeckit.mpfit.mpfit]\n"
     ]
    },
    {
     "name": "stdout",
     "output_type": "stream",
     "text": [
      "bottomleft vel=-7.6 km / s xmin/xmax: 497.23258856702597 GHz,497.1662510988948 GHz, -26.871953271348488 km / s, 12.580783384841107 km / s\n",
      "41K-35Clv=10-10 J=71-70: guesses=[25.0, -7.6, 2]\n",
      "Line 41K-35Clv=10-10 J=71-70 with frequency 497.18681571401544 GHz has SNR=1.6\n",
      "bottomleft vel=-7.6 km / s xmin/xmax: 497.44418597166964 GHz,497.3778202736187 GHz, -27.063468755778747 km / s, 12.372485923823396 km / s\n",
      "41K-37Clv=3-3 J=70-69: guesses=[109.86484695749756, -7.6, 2]\n",
      "Line 41K-37Clv=3-3 J=70-69 with frequency 497.3983936400145 GHz has SNR=68.8\n",
      "bottomleft vel=-7.6 km / s xmin/xmax: 497.52858513252636 GHz,497.4622081745001 GHz, -26.813740503853072 km / s, 12.615524386256967 km / s\n",
      "39K-35Clv=9-9 J=69-68: guesses=[25.0, -7.6, 2]\n",
      "Line 39K-35Clv=9-9 J=69-68 with frequency 497.4827850314882 GHz has SNR=2.2\n",
      "bottomleft vel=-7.6 km / s xmin/xmax: 497.5629058560969 GHz,497.4965243192278 GHz, -26.72886596936324 km / s, 12.109223284675572 km / s\n",
      "39K-35Clv=2-2 J=66-65: guesses=[25.663769579575117, -7.6, 2]\n",
      "Line 39K-35Clv=2-2 J=66-65 with frequency 497.51710259565715 GHz has SNR=8.8\n",
      "bottomleft vel=-7.6 km / s xmin/xmax: 497.57146704854216 GHz,497.5050843694956 GHz, -26.866202382801365 km / s, 12.559664397651561 km / s\n",
      "23Na-37Clv=6-6 J=41-40: guesses=[25.663769579575117, -7.6, 2]\n",
      "Line 23Na-37Clv=6-6 J=41-40 with frequency 497.525663 GHz has SNR=8.9\n",
      "RMS=23.526186635549813\n",
      "topright vel=19.0 km / s xmin/xmax: 97.49165518368912 GHz,97.47864734077834 GHz, 1.812354089826278 km / s, 37.8473717832223 km / s\n",
      "39K-35Clv=4-4 J=13-12: guesses=[102.92894057523645, 19.0, 2]\n",
      "Line 39K-35Clv=4-4 J=13-12 with frequency 97.49132998761637 GHz has SNR=4.4\n",
      "topright vel=19.0 km / s xmin/xmax: 97.62841141317512 GHz,97.61538532353802 GHz, 1.9343876181047925 km / s, 37.91892806744986 km / s\n",
      "41K-35Clv=0-0 J=13-12: guesses=[82.73161478382194, 19.0, 2]\n",
      "Line 41K-35Clv=0-0 J=13-12 with frequency 97.62808576093418 GHz has SNR=7.4\n",
      "topright vel=19.0 km / s xmin/xmax: 98.09785766904666 GHz,98.08476894345227 GHz, 1.1009200338152867 km / s, 39.89761824817545 km / s\n",
      "39K-35Clv=3-3 J=13-12: guesses=[63.57206247002496, 19.0, 2]\n",
      "Line 39K-35Clv=3-3 J=13-12 with frequency 98.09753045090682 GHz has SNR=3.2\n",
      "topright vel=19.0 km / s xmin/xmax: 98.70628168025118 GHz,98.69311177556565 GHz, 1.2135414868296104 km / s, 39.771097446540395 km / s\n",
      "39K-35Clv=2-2 J=13-12: guesses=[121.99251050873124, 19.0, 2]\n",
      "Line 39K-35Clv=2-2 J=13-12 with frequency 98.70595243263405 GHz has SNR=6.3\n",
      "topright vel=19.0 km / s xmin/xmax: 98.99160219934076 GHz,98.9783942257099 GHz, 1.7270313019975811 km / s, 40.173453977300085 km / s\n",
      "23Na-37Clv=4-4 J=8-7: guesses=[72.17454170171425, 19.0, 2]\n",
      "Line 23Na-37Clv=4-4 J=8-7 with frequency 98.991272 GHz has SNR=3.3\n",
      "topright vel=19.0 km / s xmin/xmax: 99.31695719663273 GHz,99.30370581244854 GHz, 2.225559425251026 km / s, 37.59830561749756 km / s\n",
      "39K-35Clv=1-1 J=13-12: guesses=[74.20619834473497, 19.0, 2]\n",
      "Line 39K-35Clv=1-1 J=13-12 with frequency 99.31662591202812 GHz has SNR=3.1\n",
      "RMS=14.387908052318437\n",
      "bottomleft vel=-7.6 km / s xmin/xmax: 97.50030539922481 GHz,97.48729755631402 GHz, -25.21390918022074 km / s, 13.82402665429162 km / s\n",
      "39K-35Clv=4-4 J=13-12: guesses=[39.34780410082584, -7.6, 2]\n",
      "Line 39K-35Clv=4-4 J=13-12 with frequency 97.49132998761637 GHz has SNR=2.6\n",
      "bottomleft vel=-7.6 km / s xmin/xmax: 97.63707376278379 GHz,97.62404767314669 GHz, -25.05401771890401 km / s, 10.930522730441059 km / s\n",
      "41K-35Clv=0-0 J=13-12: guesses=[32.93303064669, -7.6, 2]\n",
      "Line 41K-35Clv=0-0 J=13-12 with frequency 97.62808576093418 GHz has SNR=2.3\n",
      "bottomleft vel=-7.6 km / s xmin/xmax: 98.10656167156696 GHz,98.09347294597255 GHz, -25.758332576126364 km / s, 13.038365638233799 km / s\n",
      "39K-35Clv=3-3 J=13-12: guesses=[64.89775473458727, -7.6, 2]\n",
      "Line 39K-35Clv=3-3 J=13-12 with frequency 98.09753045090682 GHz has SNR=5.1\n",
      "bottomleft vel=-7.6 km / s xmin/xmax: 98.71503966686707 GHz,98.70186976218154 GHz, -25.480151100662468 km / s, 13.077404859048313 km / s\n",
      "39K-35Clv=2-2 J=13-12: guesses=[56.635572708293076, -7.6, 2]\n",
      "Line 39K-35Clv=2-2 J=13-12 with frequency 98.70595243263405 GHz has SNR=6.0\n",
      "bottomleft vel=-7.6 km / s xmin/xmax: 99.0003855018053 GHz,98.98717752817443 GHz, -24.88972285782723 km / s, 13.556699817475275 km / s\n",
      "23Na-37Clv=4-4 J=8-7: guesses=[66.06284977039188, -7.6, 2]\n",
      "Line 23Na-37Clv=4-4 J=8-7 with frequency 98.991272 GHz has SNR=5.0\n",
      "bottomleft vel=-7.6 km / s xmin/xmax: 99.32576936711521 GHz,99.31251798293103 GHz, -24.304000218933872 km / s, 11.068745973312659 km / s\n",
      "39K-35Clv=1-1 J=13-12: guesses=[77.42707472677722, -7.6, 2]\n",
      "Line 39K-35Clv=1-1 J=13-12 with frequency 99.31662591202812 GHz has SNR=5.2\n",
      "RMS=25.441892537421623\n",
      "topright vel=19.0 km / s xmin/xmax: 214.54483325516838 GHz,214.51620756937973 GHz, 0.40950631623305017 km / s, 38.61721644714685 km / s\n",
      "39K-35Clv=6-6 J=29-28: guesses=[59.75888742748847, 19.0, 2]\n",
      "Line 39K-35Clv=6-6 J=29-28 with frequency 214.54411761302367 GHz has SNR=3.4\n",
      "topright vel=19.0 km / s xmin/xmax: 214.93942795836657 GHz,214.91074962370348 GHz, 0.5095571393452387 km / s, 38.64712397369314 km / s\n",
      "23Na-37Clv=1-1 J=17-16: guesses=[168.0545104984056, 19.0, 2]\n",
      "Line 23Na-37Clv=1-1 J=17-16 with frequency 214.938711 GHz has SNR=10.6\n",
      "topright vel=19.0 km / s xmin/xmax: 215.00899666838458 GHz,214.98030905150296 GHz, 0.8361137102804809 km / s, 38.96134068272026 km / s\n",
      "39K-35Clv=0-0 J=28-27: guesses=[58.9658256088259, 19.0, 2]\n",
      "Line 39K-35Clv=0-0 J=28-27 with frequency 215.00827947796256 GHz has SNR=3.0\n",
      "topright vel=19.0 km / s xmin/xmax: 215.73751394727364 GHz,215.7087291278334 GHz, 0.8582161252514989 km / s, 38.85469920840285 km / s\n",
      "39K-37Clv=6-6 J=30-29: guesses=[42.83957303076644, 19.0, 2]\n",
      "Line 39K-37Clv=6-6 J=30-29 with frequency 215.73679432678762 GHz has SNR=2.0\n",
      "topright vel=19.0 km / s xmin/xmax: 215.88444519868884 GHz,215.85564077491804 GHz, 0.12664934068197473 km / s, 39.45336563014957 km / s\n",
      "39K-35Clv=5-5 J=29-28: guesses=[52.57836533708545, 19.0, 2]\n",
      "Line 39K-35Clv=5-5 J=29-28 with frequency 215.88372508809456 GHz has SNR=3.2\n",
      "RMS=22.405120835116342\n",
      "bottomleft vel=-7.6 km / s xmin/xmax: 214.56386933621783 GHz,214.5352436504292 GHz, -26.881715205848238 km / s, 12.690556001169632 km / s\n",
      "39K-35Clv=6-6 J=29-28: guesses=[44.80461744283112, -7.6, 2]\n",
      "Line 39K-35Clv=6-6 J=29-28 with frequency 214.54411761302367 GHz has SNR=2.2\n",
      "bottomleft vel=-7.6 km / s xmin/xmax: 214.95849905091754 GHz,214.92982071625443 GHz, -26.731562028046117 km / s, 12.768060764671349 km / s\n",
      "23Na-37Clv=1-1 J=17-16: guesses=[173.76307227341786, -7.6, 2]\n",
      "Line 23Na-37Clv=1-1 J=17-16 with frequency 214.938711 GHz has SNR=10.4\n",
      "bottomleft vel=-7.6 km / s xmin/xmax: 215.02807393361093 GHz,214.99938631672927 GHz, -26.396191270033647 km / s, 11.729035702406131 km / s\n",
      "39K-35Clv=0-0 J=28-27: guesses=[118.8802987818061, -7.6, 2]\n",
      "Line 39K-35Clv=0-0 J=28-27 with frequency 215.00827947796256 GHz has SNR=7.9\n",
      "bottomleft vel=-7.6 km / s xmin/xmax: 215.75665585220136 GHz,215.7278710327612 GHz, -26.28212893414232 km / s, 13.071371401978718 km / s\n",
      "39K-37Clv=6-6 J=30-29: guesses=[33.760255303844595, -7.6, 2]\n",
      "Line 39K-37Clv=6-6 J=30-29 with frequency 215.73679432678762 GHz has SNR=1.4\n",
      "bottomleft vel=-7.6 km / s xmin/xmax: 215.90360014049642 GHz,215.87479571672563 GHz, -25.63913029724507 km / s, 12.33149232706847 km / s\n",
      "39K-35Clv=5-5 J=29-28: guesses=[48.53397615291427, -7.6, 2]\n",
      "Line 39K-35Clv=5-5 J=29-28 with frequency 215.88372508809456 GHz has SNR=2.5\n",
      "RMS=63.63658996199253\n",
      "topright vel=19.0 km / s xmin/xmax: 334.30041266057015 GHz,334.25580856348404 GHz, -0.5516779290628713 km / s, 38.85753216787261 km / s\n",
      "39K-35Clv=5-5 J=45-44: guesses=[182.70822203051858, 19.0, 2]\n",
      "Line 39K-35Clv=5-5 J=45-44 with frequency 334.299297558143 GHz has SNR=3.5\n",
      "topright vel=19.0 km / s xmin/xmax: 334.3290235216556 GHz,334.2844156071598 GHz, -0.29117698378000734 km / s, 39.11466059280503 km / s\n",
      "41K-37Clv=7-7 J=48-47: guesses=[171.83137191059663, 19.0, 2]\n"
     ]
    },
    {
     "name": "stderr",
     "output_type": "stream",
     "text": [
      "WARNING: gnorm=0.   wa2=[0. 0. 0.] [pyspeckit.mpfit.mpfit]\n"
     ]
    },
    {
     "name": "stdout",
     "output_type": "stream",
     "text": [
      "topright vel=19.0 km / s xmin/xmax: 334.855510854465 GHz,334.81083269329525 GHz, -0.18465480735198903 km / s, 39.15922567535134 km / s\n",
      "41K-35Clv=1-1 J=45-44: guesses=[132.7340269350618, 19.0, 2]\n",
      "Line 41K-35Clv=1-1 J=45-44 with frequency 334.8543939004358 GHz has SNR=1.8\n",
      "topright vel=19.0 km / s xmin/xmax: 335.0518349677618 GHz,335.0071306120093 GHz, -0.15374359759244982 km / s, 39.167083280733024 km / s\n",
      "39K-37Clv=0-0 J=45-44: guesses=[159.4698220765405, 19.0, 2]\n",
      "Line 39K-37Clv=0-0 J=45-44 with frequency 335.050717358868 GHz has SNR=2.5\n",
      "topright vel=19.0 km / s xmin/xmax: 335.1350763677073 GHz,335.090360905455 GHz, 0.0550119930626019 km / s, 39.36607229991534 km / s\n",
      "39K-35Clv=1-1 J=44-43: guesses=[159.68842403179647, 19.0, 2]\n"
     ]
    },
    {
     "name": "stderr",
     "output_type": "stream",
     "text": [
      "WARNING: gnorm=0.   wa2=[0. 0. 0.] [pyspeckit.mpfit.mpfit]\n"
     ]
    },
    {
     "name": "stdout",
     "output_type": "stream",
     "text": [
      "topright vel=19.0 km / s xmin/xmax: 335.50768212943115 GHz,335.4629169521832 GHz, -0.34026660638210643 km / s, 38.927135899621355 km / s\n",
      "23Na-35Clv=1-1 J=26-25: guesses=[152.24192506825628, 19.0, 2]\n",
      "Line 23Na-35Clv=1-1 J=26-25 with frequency 335.506563 GHz has SNR=2.2\n",
      "RMS=61.566793046109495\n",
      "bottomleft vel=-7.6 km / s xmin/xmax: 334.33007438513243 GHz,334.2854702880463 GHz, -26.824484660353193 km / s, 12.58472543658229 km / s\n",
      "39K-35Clv=5-5 J=45-44: guesses=[223.05806390411968, -7.6, 2]\n",
      "Line 39K-35Clv=5-5 J=45-44 with frequency 334.299297558143 GHz has SNR=3.8\n",
      "bottomleft vel=-7.6 km / s xmin/xmax: 334.35868778479534 GHz,334.3140798702995 GHz, -26.561735368170034 km / s, 11.968416928935339 km / s\n",
      "41K-37Clv=7-7 J=48-47: guesses=[132.57232017578352, -7.6, 2]\n",
      "Line 41K-37Clv=7-7 J=48-47 with frequency 334.3279083237932 GHz has SNR=1.9\n",
      "bottomleft vel=-7.6 km / s xmin/xmax: 334.885221831643 GHz,334.84054367047315 GHz, -26.41390846248754 km / s, 12.055663565044602 km / s\n",
      "41K-35Clv=1-1 J=45-44: guesses=[176.48053395433388, -7.6, 2]\n",
      "Line 41K-35Clv=1-1 J=45-44 with frequency 334.8543939004358 GHz has SNR=2.1\n",
      "bottomleft vel=-7.6 km / s xmin/xmax: 335.08156336433717 GHz,335.0368590085847 GHz, -26.367628183142767 km / s, 12.079402542331032 km / s\n",
      "39K-37Clv=0-0 J=45-44: guesses=[122.1801262980474, -7.6, 2]\n",
      "Line 39K-37Clv=0-0 J=45-44 with frequency 335.050717358868 GHz has SNR=3.1\n",
      "bottomleft vel=-7.6 km / s xmin/xmax: 335.16481215010515 GHz,335.1200966878528 GHz, -27.025940662769287 km / s, 12.285119644083455 km / s\n",
      "39K-35Clv=1-1 J=44-43: guesses=[123.21272282327038, -7.6, 2]\n",
      "Line 39K-35Clv=1-1 J=44-43 with frequency 335.133958481151 GHz has SNR=2.6\n",
      "bottomleft vel=-7.6 km / s xmin/xmax: 335.53745097230114 GHz,335.49268579505315 GHz, -26.518534943717746 km / s, 12.748867562285714 km / s\n",
      "23Na-35Clv=1-1 J=26-25: guesses=[179.02701424251933, -7.6, 2]\n",
      "Line 23Na-35Clv=1-1 J=26-25 with frequency 335.506563 GHz has SNR=0.0\n",
      "RMS=10.763567335354935\n",
      "topright vel=19.0 km / s xmin/xmax: 483.23226944462095 GHz,483.16779408579646 GHz, -0.1866800185920041 km / s, 39.19378242778134 km / s\n",
      "41K-35Clv=3-3 J=66-65: guesses=[25.0, 19.0, 2]\n",
      "Line 41K-35Clv=3-3 J=66-65 with frequency 483.23065756065034 GHz has SNR=0.0\n",
      "topright vel=19.0 km / s xmin/xmax: 483.28801084233305 GHz,483.2235280462018 GHz, -0.13889568143030093 km / s, 39.23702470726717 km / s\n",
      "41K-37Clv=10-10 J=71-70: guesses=[25.0, 19.0, 2]\n",
      "Line 41K-37Clv=10-10 J=71-70 with frequency 483.2863987724297 GHz has SNR=1.4\n",
      "topright vel=19.0 km / s xmin/xmax: 483.30169484626254 GHz,483.23721022434046 GHz, -0.13141965517888385 km / s, 39.243385860062155 km / s\n",
      "39K-35Clv=9-9 J=67-66: guesses=[25.0, 19.0, 2]\n"
     ]
    },
    {
     "name": "stderr",
     "output_type": "stream",
     "text": [
      "WARNING: gnorm=0.   wa2=[0. 0. 0.] [pyspeckit.mpfit.mpfit]\n"
     ]
    },
    {
     "name": "stdout",
     "output_type": "stream",
     "text": [
      "topright vel=19.0 km / s xmin/xmax: 483.40904686779123 GHz,483.34454792240496 GHz, -0.1751155049965469 km / s, 39.19094593519037 km / s\n",
      "41K-37Clv=3-3 J=68-67: guesses=[29.072747877864472, 19.0, 2]\n",
      "Line 41K-37Clv=3-3 J=68-67 with frequency 483.40743439415655 GHz has SNR=2.9\n",
      "topright vel=19.0 km / s xmin/xmax: 483.4229307701501 GHz,483.35842997230156 GHz, -0.6492885053783152 km / s, 38.71564234186709 km / s\n",
      "41K-35Clv=10-10 J=69-68: guesses=[30.062614520331316, 19.0, 2]\n",
      "Line 41K-35Clv=10-10 J=69-68 with frequency 483.4213182502039 GHz has SNR=2.9\n",
      "topright vel=19.0 km / s xmin/xmax: 483.54429592477544 GHz,483.47977893375764 GHz, -0.48131332314627423 km / s, 38.873737289876416 km / s\n",
      "23Na-35Clv=6-6 J=39-38: guesses=[30.52562553544432, 19.0, 2]\n"
     ]
    },
    {
     "name": "stderr",
     "output_type": "stream",
     "text": [
      "WARNING: gnorm=0.   wa2=[0. 0. 0.] [pyspeckit.mpfit.mpfit]\n"
     ]
    },
    {
     "name": "stdout",
     "output_type": "stream",
     "text": [
      "topright vel=19.0 km / s xmin/xmax: 483.56490908773014 GHz,483.5003893463971 GHz, -0.4160565945055834 km / s, 38.93731641111398 km / s\n",
      "39K-37Clv=2-2 J=66-65: guesses=[30.52562553544432, 19.0, 2]\n"
     ]
    },
    {
     "name": "stderr",
     "output_type": "stream",
     "text": [
      "WARNING: gnorm=0.   wa2=[0. 0. 0.] [pyspeckit.mpfit.mpfit]\n"
     ]
    },
    {
     "name": "stdout",
     "output_type": "stream",
     "text": [
      "topright vel=19.0 km / s xmin/xmax: 483.85580428845964 GHz,483.79124573437826 GHz, -0.49151497837877034 km / s, 38.838198690602304 km / s\n",
      "39K-37Clv=9-9 J=69-68: guesses=[30.541489562918052, 19.0, 2]\n",
      "Line 39K-37Clv=9-9 J=69-68 with frequency 483.8541903246076 GHz has SNR=3.4\n",
      "topright vel=19.0 km / s xmin/xmax: 484.0270386937538 GHz,483.9624572926889 GHz, -0.28389496718854773 km / s, 39.031905016039815 km / s\n",
      "39K-35Clv=4-4 J=65-64: guesses=[112.6209865391048, 19.0, 2]\n",
      "Line 39K-35Clv=4-4 J=65-64 with frequency 484.02542415872716 GHz has SNR=0.0\n",
      "topright vel=19.0 km / s xmin/xmax: 484.15015294569014 GHz,484.0855551180824 GHz, -0.2425646606033025 km / s, 39.063237731396256 km / s\n",
      "23Na-37Clv=3-3 J=39-38: guesses=[60.18459729949413, 19.0, 2]\n",
      "Line 23Na-37Clv=3-3 J=39-38 with frequency 484.14853800000003 GHz has SNR=7.3\n",
      "topright vel=19.0 km / s xmin/xmax: 484.43241406226616 GHz,484.36777857391445 GHz, -0.22209988985657192 km / s, 39.06080044326125 km / s\n",
      "41K-35Clv=5-5 J=67-66: guesses=[25.0, 19.0, 2]\n",
      "Line 41K-35Clv=5-5 J=67-66 with frequency 484.43079817505736 GHz has SNR=1.1\n",
      "topright vel=19.0 km / s xmin/xmax: 484.4839575789979 GHz,484.41931521344253 GHz, -0.35487419095247524 km / s, 38.92384689371156 km / s\n",
      "41K-37Clv=5-5 J=69-68: guesses=[25.0, 19.0, 2]\n"
     ]
    },
    {
     "name": "stderr",
     "output_type": "stream",
     "text": [
      "WARNING: gnorm=0.   wa2=[0. 0. 0.] [pyspeckit.mpfit.mpfit]\n"
     ]
    },
    {
     "name": "stdout",
     "output_type": "stream",
     "text": [
      "topright vel=19.0 km / s xmin/xmax: 484.79466698536146 GHz,484.7299831633436 GHz, -0.25530488115844724 km / s, 38.99824210621853 km / s\n",
      "39K-37Clv=4-4 J=67-66: guesses=[38.264756640718105, 19.0, 2]\n",
      "Line 39K-37Clv=4-4 J=67-66 with frequency 484.793049889811 GHz has SNR=7.5\n",
      "topright vel=19.0 km / s xmin/xmax: 484.8591281299033 GHz,484.79443570714477 GHz, -0.25055435627027955 km / s, 38.997773942998485 km / s\n",
      "41K-35Clv=0-0 J=65-64: guesses=[41.271773453156996, 19.0, 2]\n",
      "Line 41K-35Clv=0-0 J=65-64 with frequency 484.8575108193344 GHz has SNR=6.7\n",
      "RMS=10.08957711461371\n",
      "bottomleft vel=-7.6 km / s xmin/xmax: 483.2751455582392 GHz,483.2106701994148 GHz, -26.844223828477936 km / s, 12.536238617933279 km / s\n",
      "41K-35Clv=3-3 J=66-65: guesses=[25.0, -7.6, 2]\n"
     ]
    },
    {
     "name": "stderr",
     "output_type": "stream",
     "text": [
      "WARNING: gnorm=0.   wa2=[0. 0. 0.] [pyspeckit.mpfit.mpfit]\n"
     ]
    },
    {
     "name": "stdout",
     "output_type": "stream",
     "text": [
      "bottomleft vel=-7.6 km / s xmin/xmax: 483.3308919017603 GHz,483.2664091056291 GHz, -26.79336486762085 km / s, 12.582555521076618 km / s\n",
      "41K-37Clv=10-10 J=71-70: guesses=[38.07133218254151, -7.6, 2]\n",
      "Line 41K-37Clv=10-10 J=71-70 with frequency 483.2863987724297 GHz has SNR=2.6\n",
      "bottomleft vel=-7.6 km / s xmin/xmax: 483.3445771198407 GHz,483.28009249791864 GHz, -26.7851341577733 km / s, 12.58967135742988 km / s\n",
      "39K-35Clv=9-9 J=67-66: guesses=[38.07133218254151, -7.6, 2]\n",
      "Line 39K-35Clv=9-9 J=67-66 with frequency 483.30008273071445 GHz has SNR=1.9\n",
      "bottomleft vel=-7.6 km / s xmin/xmax: 483.4519386664731 GHz,483.3874397210868 GHz, -26.82291094146396 km / s, 12.543150498760806 km / s\n",
      "41K-37Clv=3-3 J=68-67: guesses=[25.0, -7.6, 2]\n",
      "Line 41K-37Clv=3-3 J=68-67 with frequency 483.40743439415655 GHz has SNR=3.0\n",
      "bottomleft vel=-7.6 km / s xmin/xmax: 483.4658238007195 GHz,483.40132300287087 GHz, -27.296318617393013 km / s, 12.674226550610108 km / s\n",
      "41K-35Clv=10-10 J=69-68: guesses=[25.0, -7.6, 2]\n",
      "Line 41K-35Clv=10-10 J=69-68 with frequency 483.4213182502039 GHz has SNR=3.0\n",
      "bottomleft vel=-7.6 km / s xmin/xmax: 483.58719972380226 GHz,483.5226827327845 GHz, -27.121655276546747 km / s, 12.233395336438106 km / s\n",
      "23Na-35Clv=6-6 J=39-38: guesses=[46.41953695512937, -7.6, 2]\n",
      "Line 23Na-35Clv=6-6 J=39-38 with frequency 483.542683 GHz has SNR=inf\n",
      "bottomleft vel=-7.6 km / s xmin/xmax: 483.60781471571664 GHz,483.5432949743836 GHz, -27.055262936740867 km / s, 12.298110068840863 km / s\n",
      "39K-37Clv=2-2 J=66-65: guesses=[46.41953695512937, -7.6, 2]\n",
      "Line 39K-37Clv=2-2 J=66-65 with frequency 483.56329609419686 GHz has SNR=7.4\n",
      "bottomleft vel=-7.6 km / s xmin/xmax: 483.89873572692375 GHz,483.8341771728424 GHz, -27.114705769684385 km / s, 12.215007899296694 km / s\n",
      "39K-37Clv=9-9 J=69-68: guesses=[25.0, -7.6, 2]\n"
     ]
    },
    {
     "name": "stderr",
     "output_type": "stream",
     "text": [
      "WARNING: gnorm=0.   wa2=[0. 0. 0.] [pyspeckit.mpfit.mpfit]\n"
     ]
    },
    {
     "name": "stdout",
     "output_type": "stream",
     "text": [
      "bottomleft vel=-7.6 km / s xmin/xmax: 484.069985325462 GHz,484.00540392439706 GHz, -26.897667263497503 km / s, 12.418132719693055 km / s\n",
      "39K-35Clv=4-4 J=65-64: guesses=[206.59033712073276, -7.6, 2]\n",
      "Line 39K-35Clv=4-4 J=65-64 with frequency 484.02542415872716 GHz has SNR=56.2\n",
      "bottomleft vel=-7.6 km / s xmin/xmax: 484.1931105010493 GHz,484.1285126734416 GHz, -26.849569356759226 km / s, 12.456233035240336 km / s\n",
      "23Na-37Clv=3-3 J=39-38: guesses=[54.58617524646233, -7.6, 2]\n",
      "Line 23Na-37Clv=3-3 J=39-38 with frequency 484.14853800000003 GHz has SNR=4.7\n",
      "bottomleft vel=-7.6 km / s xmin/xmax: 484.47539666202005 GHz,484.4107611736684 GHz, -26.813601653808597 km / s, 12.469298679309217 km / s\n",
      "41K-35Clv=5-5 J=67-66: guesses=[25.0, -7.6, 2]\n",
      "Line 41K-35Clv=5-5 J=67-66 with frequency 484.43079817505736 GHz has SNR=1.5\n",
      "bottomleft vel=-7.6 km / s xmin/xmax: 484.5269447520923 GHz,484.46230238653686 GHz, -26.943546925181945 km / s, 12.335174159482095 km / s\n",
      "41K-37Clv=5-5 J=69-68: guesses=[25.0, -7.6, 2]\n"
     ]
    },
    {
     "name": "stderr",
     "output_type": "stream",
     "text": [
      "WARNING: gnorm=0.   wa2=[0. 0. 0.] [pyspeckit.mpfit.mpfit]\n"
     ]
    },
    {
     "name": "stdout",
     "output_type": "stream",
     "text": [
      "bottomleft vel=-7.6 km / s xmin/xmax: 484.83768172700337 GHz,484.7729979049855 GHz, -26.826936687993605 km / s, 12.426610299383377 km / s\n",
      "39K-37Clv=4-4 J=67-66: guesses=[48.72295115570447, -7.6, 2]\n",
      "Line 39K-37Clv=4-4 J=67-66 with frequency 484.793049889811 GHz has SNR=12.1\n",
      "bottomleft vel=-7.6 km / s xmin/xmax: 484.90214859103776 GHz,484.83745616827923 GHz, -26.81865351273146 km / s, 12.429674786575042 km / s\n",
      "41K-35Clv=0-0 J=65-64: guesses=[25.0, -7.6, 2]\n",
      "Line 41K-35Clv=0-0 J=65-64 with frequency 484.8575108193344 GHz has SNR=1.9\n",
      "RMS=14.277786064301877\n",
      "topright vel=19.0 km / s xmin/xmax: 853.5847503432486 GHz,853.4708606331745 GHz, -0.6605371116299902 km / s, 1.0543886693991744 km / s\n",
      "41K-35Clv=1-1 J=117-116: guesses=[25.0, 19.0, 2]\n"
     ]
    },
    {
     "name": "stderr",
     "output_type": "stream",
     "text": [
      "WARNING: gnorm=0.   wa2=[0. 0. 0.] [pyspeckit.mpfit.mpfit]\n"
     ]
    },
    {
     "name": "stdout",
     "output_type": "stream",
     "text": [
      "topright vel=19.0 km / s xmin/xmax: 853.599606735979 GHz,853.485715043688 GHz, -0.5875042488938278 km / s, 6.2720794861757625 km / s\n",
      "39K-37Clv=4-4 J=120-119: guesses=[25.0, 19.0, 2]\n",
      "Line 39K-37Clv=4-4 J=120-119 with frequency 853.5967594436718 GHz has SNR=0.7\n",
      "topright vel=19.0 km / s xmin/xmax: 853.6991046241953 GHz,853.5851996563794 GHz, -0.626685221667673 km / s, 39.15426346632679 km / s\n",
      "23Na-35Clv=5-5 J=69-68: guesses=[39.31077291605957, 19.0, 2]\n",
      "Line 23Na-35Clv=5-5 J=69-68 with frequency 853.696257 GHz has SNR=5.8\n",
      "topright vel=19.0 km / s xmin/xmax: 853.8985634451753 GHz,853.7846318645277 GHz, -0.5424505943505824 km / s, 38.886346710649455 km / s\n",
      "41K-37Clv=4-4 J=123-122: guesses=[40.22131047401767, 19.0, 2]\n",
      "Line 41K-37Clv=4-4 J=123-122 with frequency 853.8957151556592 GHz has SNR=7.4\n",
      "topright vel=19.0 km / s xmin/xmax: 854.1498271697632 GHz,854.0358620642044 GHz, -0.784508859977129 km / s, 38.97544799510066 km / s\n",
      "41K-35Clv=6-6 J=121-120: guesses=[75.6383539487811, 19.0, 2]\n",
      "Line 41K-35Clv=6-6 J=121-120 with frequency 854.1469780421241 GHz has SNR=3.5\n",
      "topright vel=19.0 km / s xmin/xmax: 854.170707197287 GHz,854.0567393058066 GHz, -0.6538718847638677 km / s, 39.105113046333756 km / s\n",
      "23Na-37Clv=4-4 J=70-69: guesses=[39.97201266443444, 19.0, 2]\n",
      "Line 23Na-37Clv=4-4 J=70-69 with frequency 854.167858 GHz has SNR=6.6\n",
      "topright vel=19.0 km / s xmin/xmax: 854.2213852809315 GHz,854.107410627718 GHz, -0.6900900660303292 km / s, 39.06653609812623 km / s\n",
      "39K-35Clv=7-7 J=119-118: guesses=[39.97201266443444, 19.0, 2]\n",
      "Line 39K-35Clv=7-7 J=119-118 with frequency 854.218535914601 GHz has SNR=6.6\n",
      "topright vel=19.0 km / s xmin/xmax: 854.2334555872277 GHz,854.1194793235314 GHz, -0.5667135638157941 km / s, 38.846626146657066 km / s\n",
      "41K-37Clv=10-10 J=128-127: guesses=[39.97201266443444, 19.0, 2]\n",
      "Line 41K-37Clv=10-10 J=128-127 with frequency 854.2306061806354 GHz has SNR=6.3\n",
      "topright vel=19.0 km / s xmin/xmax: 854.2818046235408 GHz,854.1678219088649 GHz, -0.7348560988828664 km / s, 39.0189582656963 km / s\n",
      "39K-37Clv=0-0 J=117-116: guesses=[29.170774383209935, 19.0, 2]\n",
      "Line 39K-37Clv=0-0 J=117-116 with frequency 854.2789550556739 GHz has SNR=4.7\n",
      "topright vel=19.0 km / s xmin/xmax: 854.3989258477353 GHz,854.2849275061374 GHz, -0.758126398866405 km / s, 38.990238502629516 km / s\n",
      "39K-37Clv=10-10 J=125-124: guesses=[35.39022355021407, 19.0, 2]\n",
      "Line 39K-37Clv=10-10 J=125-124 with frequency 854.3960758891953 GHz has SNR=5.5\n",
      "topright vel=19.0 km / s xmin/xmax: 854.4836502411491 GHz,854.3696405951828 GHz, -0.4985016795999345 km / s, 38.90329772008293 km / s\n",
      "23Na-35Clv=3-3 J=68-67: guesses=[51.03868344637257, 19.0, 2]\n",
      "Line 23Na-35Clv=3-3 J=68-67 with frequency 854.4808 GHz has SNR=4.7\n",
      "topright vel=19.0 km / s xmin/xmax: 854.8745582089199 GHz,854.7604964059824 GHz, -0.7418953932703206 km / s, 38.984354440617395 km / s\n",
      "41K-37Clv=0-0 J=120-119: guesses=[30.487391912975422, 19.0, 2]\n",
      "Line 41K-37Clv=0-0 J=120-119 with frequency 854.8717066638465 GHz has SNR=2.7\n",
      "topright vel=19.0 km / s xmin/xmax: 854.9805338985693 GHz,854.8664579558049 GHz, -0.5641533038471336 km / s, 39.15717242176395 km / s\n",
      "23Na-37Clv=2-2 J=69-68: guesses=[97.69573882044138, 19.0, 2]\n",
      "Line 23Na-37Clv=2-2 J=69-68 with frequency 854.9776820000001 GHz has SNR=16.0\n",
      "topright vel=19.0 km / s xmin/xmax: 854.9863063869038 GHz,854.8722296739442 GHz, -0.5946212425971492 km / s, 39.12643630223995 km / s\n",
      "39K-37Clv=5-5 J=121-120: guesses=[97.69573882044138, 19.0, 2]\n",
      "Line 39K-37Clv=5-5 J=121-120 with frequency 854.9834544690798 GHz has SNR=16.0\n",
      "topright vel=19.0 km / s xmin/xmax: 855.0476581224706 GHz,854.9335732236439 GHz, -0.6548407438063353 km / s, 39.063366719171846 km / s\n",
      "23Na-35Clv=1-1 J=67-66: guesses=[44.44477222542405, 19.0, 2]\n",
      "Line 23Na-35Clv=1-1 J=67-66 with frequency 855.044806 GHz has SNR=5.7\n",
      "topright vel=19.0 km / s xmin/xmax: 855.1741590288817 GHz,855.0600572516471 GHz, -0.8134006692710585 km / s, 38.89893151182209 km / s\n",
      "41K-37Clv=5-5 J=124-123: guesses=[28.50658329821526, 19.0, 2]\n",
      "Line 41K-37Clv=5-5 J=124-123 with frequency 855.171306484451 GHz has SNR=2.4\n",
      "topright vel=19.0 km / s xmin/xmax: 855.1840744851988 GHz,855.0699713849924 GHz, -0.7608761909507278 km / s, 38.9509955443662 km / s\n",
      "41K-35Clv=2-2 J=118-117: guesses=[28.50658329821526, 19.0, 2]\n",
      "Line 41K-35Clv=2-2 J=118-117 with frequency 855.1812219076936 GHz has SNR=2.1\n",
      "topright vel=19.0 km / s xmin/xmax: 855.1899106168569 GHz,855.0758067379634 GHz, -0.7690249049813568 km / s, 38.94257582186253 km / s\n",
      "39K-35Clv=3-3 J=116-115: guesses=[26.862002980554283, 19.0, 2]\n"
     ]
    },
    {
     "name": "stderr",
     "output_type": "stream",
     "text": [
      "WARNING: gnorm=0.   wa2=[0. 0. 0.] [pyspeckit.mpfit.mpfit]\n"
     ]
    },
    {
     "name": "stdout",
     "output_type": "stream",
     "text": [
      "topright vel=19.0 km / s xmin/xmax: 855.4338551673321 GHz,855.3197187400899 GHz, -0.15327528982247035 km / s, 38.86251333786815 km / s\n",
      "41K-35Clv=7-7 J=122-121: guesses=[169.92423482688076, 19.0, 2]\n",
      "Line 41K-35Clv=7-7 J=122-121 with frequency 855.431001756651 GHz has SNR=65.7\n"
     ]
    },
    {
     "name": "stderr",
     "output_type": "stream",
     "text": [
      "WARNING: Skipped 1 out-of-bounds lines when plotting line IDs. [pyspeckit.spectrum.plotters]\n"
     ]
    },
    {
     "name": "stdout",
     "output_type": "stream",
     "text": [
      "RMS=15.162621861179568\n",
      "bottomleft vel=-7.6 km / s xmin/xmax: 853.6604870004478 GHz,853.5465972903738 GHz, -27.413379295684955 km / s, 1.0543886693991744 km / s\n",
      "41K-35Clv=1-1 J=117-116: guesses=[33.38481623651459, -7.6, 2]\n",
      "Line 41K-35Clv=1-1 J=117-116 with frequency 853.5819031004967 GHz has SNR=4.5\n",
      "bottomleft vel=-7.6 km / s xmin/xmax: 853.6753447113526 GHz,853.5614530190616 GHz, -27.33988081566523 km / s, 6.2720794861757625 km / s\n",
      "39K-37Clv=4-4 J=120-119: guesses=[33.38481623651459, -7.6, 2]\n",
      "Line 39K-37Clv=4-4 J=120-119 with frequency 853.5967594436718 GHz has SNR=4.7\n",
      "bottomleft vel=-7.6 km / s xmin/xmax: 853.774851427793 GHz,853.6609464599771 GHz, -27.375943822215675 km / s, 12.405004865778789 km / s\n",
      "23Na-35Clv=5-5 J=69-68: guesses=[66.16572502459745, -7.6, 2]\n",
      "Line 23Na-35Clv=5-5 J=69-68 with frequency 853.696257 GHz has SNR=9.0\n",
      "bottomleft vel=-7.6 km / s xmin/xmax: 853.9743279463061 GHz,853.8603963656584 GHz, -27.285460940350614 km / s, 12.486195471649431 km / s\n",
      "41K-37Clv=4-4 J=123-122: guesses=[36.61950935482483, -7.6, 2]\n",
      "Line 41K-37Clv=4-4 J=123-122 with frequency 853.8957151556592 GHz has SNR=3.2\n",
      "bottomleft vel=-7.6 km / s xmin/xmax: 854.2256139649596 GHz,854.1116488594009 GHz, -27.176894013778767 km / s, 12.240304592548355 km / s\n",
      "41K-35Clv=6-6 J=121-120: guesses=[33.06777931677619, -7.6, 2]\n",
      "Line 41K-35Clv=6-6 J=121-120 with frequency 854.1469780421241 GHz has SNR=6.9\n",
      "bottomleft vel=-7.6 km / s xmin/xmax: 854.2464958451216 GHz,854.1325279536412 GHz, -27.388361752226064 km / s, 12.37062317887156 km / s\n",
      "23Na-37Clv=4-4 J=70-69: guesses=[34.70297497201645, -7.6, 2]\n",
      "Line 23Na-37Clv=4-4 J=70-69 with frequency 854.167858 GHz has SNR=6.5\n",
      "bottomleft vel=-7.6 km / s xmin/xmax: 854.2971784253184 GHz,854.1832037721049 GHz, -27.422993866066633 km / s, 12.333632298089922 km / s\n",
      "39K-35Clv=7-7 J=119-118: guesses=[37.6666365001453, -7.6, 2]\n",
      "Line 39K-35Clv=7-7 J=119-118 with frequency 854.218535914601 GHz has SNR=3.3\n",
      "bottomleft vel=-7.6 km / s xmin/xmax: 854.3092498025859 GHz,854.1952735388894 GHz, -27.299239628310428 km / s, 12.456824775296976 km / s\n",
      "41K-37Clv=10-10 J=128-127: guesses=[37.6666365001453, -7.6, 2]\n",
      "Line 41K-37Clv=10-10 J=128-127 with frequency 854.2306061806354 GHz has SNR=2.3\n",
      "bottomleft vel=-7.6 km / s xmin/xmax: 854.3576031288003 GHz,854.2436204141244 GHz, -27.123163909853524 km / s, 12.287945158479276 km / s\n",
      "39K-37Clv=0-0 J=117-116: guesses=[37.6666365001453, -7.6, 2]\n",
      "Line 39K-37Clv=0-0 J=117-116 with frequency 854.2789550556739 GHz has SNR=5.1\n",
      "bottomleft vel=-7.6 km / s xmin/xmax: 854.4747347448979 GHz,854.3607364032999 GHz, -27.1428168938249 km / s, 12.262889689554672 km / s\n",
      "39K-37Clv=10-10 J=125-124: guesses=[25.0, -7.6, 2]\n",
      "Line 39K-37Clv=10-10 J=125-124 with frequency 854.3960758891953 GHz has SNR=1.6\n",
      "bottomleft vel=-7.6 km / s xmin/xmax: 854.5594666557168 GHz,854.4454570097504 GHz, -27.223200402863096 km / s, 12.521223339425708 km / s\n",
      "23Na-35Clv=3-3 J=68-67: guesses=[37.91110720560809, -7.6, 2]\n",
      "Line 23Na-35Clv=3-3 J=68-67 with frequency 854.4808 GHz has SNR=2.1\n",
      "bottomleft vel=-7.6 km / s xmin/xmax: 854.9504093078733 GHz,854.8363475049358 GHz, -27.1119060588682 km / s, 12.271876104037723 km / s\n",
      "41K-37Clv=0-0 J=120-119: guesses=[32.02599713087873, -7.6, 2]\n",
      "Line 41K-37Clv=0-0 J=120-119 with frequency 854.8717066638465 GHz has SNR=1.5\n",
      "bottomleft vel=-7.6 km / s xmin/xmax: 855.0563944005075 GHz,854.9423184577432 GHz, -27.27332060210286 km / s, 12.44800512350822 km / s\n",
      "23Na-37Clv=2-2 J=69-68: guesses=[35.251265159100804, -7.6, 2]\n",
      "Line 23Na-37Clv=2-2 J=69-68 with frequency 854.9776820000001 GHz has SNR=2.7\n",
      "bottomleft vel=-7.6 km / s xmin/xmax: 855.0621674010221 GHz,854.9480906880623 GHz, -27.30360821240141 km / s, 12.417449332435696 km / s\n",
      "39K-37Clv=5-5 J=121-120: guesses=[35.251265159100804, -7.6, 2]\n",
      "Line 39K-37Clv=5-5 J=121-120 with frequency 854.9834544690798 GHz has SNR=2.7\n",
      "bottomleft vel=-7.6 km / s xmin/xmax: 855.1235245801905 GHz,855.0094396813637 GHz, -27.361911279257185 km / s, 12.356296183721001 km / s\n",
      "23Na-35Clv=1-1 J=67-66: guesses=[38.94902017318825, -7.6, 2]\n",
      "Line 23Na-35Clv=1-1 J=67-66 with frequency 855.044806 GHz has SNR=7.5\n",
      "bottomleft vel=-7.6 km / s xmin/xmax: 855.2500367107428 GHz,855.1359349335082 GHz, -27.174172892927718 km / s, 12.538159288165431 km / s\n",
      "41K-37Clv=5-5 J=124-123: guesses=[85.34573357452715, -7.6, 2]\n",
      "Line 41K-37Clv=5-5 J=124-123 with frequency 855.171306484451 GHz has SNR=17.3\n",
      "bottomleft vel=-7.6 km / s xmin/xmax: 855.259953046836 GHz,855.1458499466297 GHz, -27.121342773876624 km / s, 12.24818523958413 km / s\n",
      "41K-35Clv=2-2 J=118-117: guesses=[85.34573357452715, -7.6, 2]\n",
      "Line 41K-35Clv=2-2 J=118-117 with frequency 855.1812219076936 GHz has SNR=17.3\n",
      "bottomleft vel=-7.6 km / s xmin/xmax: 855.265789696321 GHz,855.1516858174276 GHz, -27.129311594351872 km / s, 12.23994774691578 km / s\n",
      "39K-35Clv=3-3 J=116-115: guesses=[85.34573357452715, -7.6, 2]\n",
      "Line 39K-35Clv=3-3 J=116-115 with frequency 855.1870580198845 GHz has SNR=17.3\n",
      "bottomleft vel=-7.6 km / s xmin/xmax: 855.5097558914481 GHz,855.395619464206 GHz, -0.15327528982247035 km / s, 12.509743826182381 km / s\n",
      "41K-35Clv=7-7 J=122-121: guesses=[149.39001925516902, -7.6, 2]\n",
      "Line 41K-35Clv=7-7 J=122-121 with frequency 855.431001756651 GHz has SNR=34.8\n"
     ]
    },
    {
     "name": "stderr",
     "output_type": "stream",
     "text": [
      "WARNING: Skipped 2 out-of-bounds lines when plotting line IDs. [pyspeckit.spectrum.plotters]\n"
     ]
    },
    {
     "name": "stdout",
     "output_type": "stream",
     "text": [
      "RMS=15.513595430195688\n",
      "topright vel=19.0 km / s xmin/xmax: 99.6178622883126 GHz,99.60457075580848 GHz, 2.635483785038334 km / s, 37.90138328140675 km / s\n",
      "23Na-35Clv=6-6 J=8-7: guesses=[90.54970456145864, 19.0, 2]\n",
      "Line 23Na-35Clv=6-6 J=8-7 with frequency 99.61753 GHz has SNR=6.4\n",
      "topright vel=19.0 km / s xmin/xmax: 99.72708065262465 GHz,99.71377454763919 GHz, 2.1691564601651487 km / s, 40.33204014787787 km / s\n",
      "23Na-37Clv=3-3 J=8-7: guesses=[95.48074007359686, 19.0, 2]\n",
      "Line 23Na-37Clv=3-3 J=8-7 with frequency 99.72674800000001 GHz has SNR=8.1\n",
      "topright vel=19.0 km / s xmin/xmax: 99.92985423885268 GHz,99.91652107876234 GHz, 1.1242666519001494 km / s, 39.2097117718785 km / s\n",
      "39K-35Clv=0-0 J=13-12: guesses=[118.73350522071227, 19.0, 2]\n",
      "Line 39K-35Clv=0-0 J=13-12 with frequency 99.92952090985044 GHz has SNR=9.1\n",
      "topright vel=19.0 km / s xmin/xmax: 100.36754978899259 GHz,100.35415822928898 GHz, 1.7329761829231007 km / s, 39.652333459876914 km / s\n",
      "23Na-35Clv=5-5 J=8-7: guesses=[81.34124855638454, 19.0, 2]\n",
      "Line 23Na-35Clv=5-5 J=8-7 with frequency 100.367215 GHz has SNR=7.0\n",
      "topright vel=19.0 km / s xmin/xmax: 100.4672861216761 GHz,100.45388125463305 GHz, 2.1168082950375977 km / s, 39.998522098394055 km / s\n",
      "23Na-37Clv=2-2 J=8-7: guesses=[100.59901039092234, 19.0, 2]\n",
      "Line 23Na-37Clv=2-2 J=8-7 with frequency 100.46695100000001 GHz has SNR=8.1\n",
      "topright vel=19.0 km / s xmin/xmax: 101.1221703061273 GHz,101.10867806103553 GHz, 0.9929742815657644 km / s, 38.62935973432786 km / s\n",
      "23Na-35Clv=4-4 J=8-7: guesses=[116.38567462935522, 19.0, 2]\n",
      "Line 23Na-35Clv=4-4 J=8-7 with frequency 101.121833 GHz has SNR=8.2\n",
      "topright vel=19.0 km / s xmin/xmax: 101.21222060650176 GHz,101.1987163464313 GHz, 1.6099072833922978 km / s, 39.212806979249535 km / s\n",
      "23Na-37Clv=1-1 J=8-7: guesses=[139.76809495122498, 19.0, 2]\n",
      "Line 23Na-37Clv=1-1 J=8-7 with frequency 101.211883 GHz has SNR=11.0\n",
      "RMS=17.893581290858407\n",
      "bottomleft vel=-7.6 km / s xmin/xmax: 99.62670115742785 GHz,99.61340962492373 GHz, -23.81394083723798 km / s, 11.45195865913044 km / s\n",
      "23Na-35Clv=6-6 J=8-7: guesses=[53.264408543984985, -7.6, 2]\n",
      "Line 23Na-35Clv=6-6 J=8-7 with frequency 99.61753 GHz has SNR=2.6\n",
      "bottomleft vel=-7.6 km / s xmin/xmax: 99.73592921243998 GHz,99.72262310745452 GHz, -24.251301477482123 km / s, 10.975975772714238 km / s\n",
      "23Na-37Clv=3-3 J=8-7: guesses=[108.2272118320055, -7.6, 2]\n",
      "Line 23Na-37Clv=3-3 J=8-7 with frequency 99.72674800000001 GHz has SNR=7.0\n",
      "bottomleft vel=-7.6 km / s xmin/xmax: 99.93872079031277 GHz,99.92538763022243 GHz, -25.242579969623325 km / s, 12.842865150355028 km / s\n",
      "39K-35Clv=0-0 J=13-12: guesses=[100.54876834407153, -7.6, 2]\n",
      "Line 39K-35Clv=0-0 J=13-12 with frequency 99.92952090985044 GHz has SNR=6.2\n",
      "bottomleft vel=-7.6 km / s xmin/xmax: 100.37645517619549 GHz,100.36306361649189 GHz, -24.51888654727569 km / s, 13.400470729678121 km / s\n",
      "23Na-35Clv=5-5 J=8-7: guesses=[79.7417137788658, -7.6, 2]\n",
      "Line 23Na-35Clv=5-5 J=8-7 with frequency 100.367215 GHz has SNR=5.2\n",
      "bottomleft vel=-7.6 km / s xmin/xmax: 100.47620035825972 GHz,100.46279549121668 GHz, -24.10899356882457 km / s, 13.772720234531894 km / s\n",
      "23Na-37Clv=2-2 J=8-7: guesses=[129.19116097122227, -7.6, 2]\n",
      "Line 23Na-37Clv=2-2 J=8-7 with frequency 100.46695100000001 GHz has SNR=8.8\n",
      "bottomleft vel=-7.6 km / s xmin/xmax: 101.13114264911331 GHz,101.11765040402155 GHz, -25.062984878038762 km / s, 12.573400574723332 km / s\n",
      "23Na-35Clv=4-4 J=8-7: guesses=[117.73729782408049, -7.6, 2]\n",
      "Line 23Na-35Clv=4-4 J=8-7 with frequency 101.121833 GHz has SNR=7.0\n",
      "bottomleft vel=-7.6 km / s xmin/xmax: 101.22120093944864 GHz,101.20769667937816 GHz, -24.422869429124248 km / s, 13.180030266732985 km / s\n",
      "23Na-37Clv=1-1 J=8-7: guesses=[174.58360273359057, -7.6, 2]\n",
      "Line 23Na-37Clv=1-1 J=8-7 with frequency 101.211883 GHz has SNR=9.5\n",
      "RMS=16.478816770581382\n",
      "topright vel=19.0 km / s xmin/xmax: 217.22963635477578 GHz,217.20065244861533 GHz, -0.2313335026547377 km / s, 38.85185270330817 km / s\n",
      "39K-35Clv=4-4 J=29-28: guesses=[89.59792231355975, 19.0, 2]\n",
      "Line 39K-35Clv=4-4 J=29-28 with frequency 217.22891175712175 GHz has SNR=7.8\n",
      "topright vel=19.0 km / s xmin/xmax: 217.5438944765424 GHz,217.51486864043142 GHz, 0.8557060332332875 km / s, 38.5366844781157 km / s\n",
      "41K-35Clv=0-0 J=29-28: guesses=[56.83817651533106, 19.0, 2]\n",
      "Line 41K-35Clv=0-0 J=29-28 with frequency 217.54316883063962 GHz has SNR=4.9\n",
      "topright vel=19.0 km / s xmin/xmax: 217.98095810378524 GHz,217.95187395237542 GHz, 0.2672892148149953 km / s, 39.21576618712481 km / s\n",
      "23Na-35Clv=2-2 J=17-16: guesses=[131.56226959650556, 19.0, 2]\n",
      "Line 23Na-35Clv=2-2 J=17-16 with frequency 217.980231 GHz has SNR=14.6\n",
      "topright vel=19.0 km / s xmin/xmax: 218.58043670277377 GHz,218.55127256581613 GHz, 0.10557283524949566 km / s, 38.947229733629975 km / s\n",
      "39K-35Clv=3-3 J=29-28: guesses=[96.22270110536849, 19.0, 2]\n",
      "Line 39K-35Clv=3-3 J=29-28 with frequency 218.57970759934983 GHz has SNR=6.9\n",
      "RMS=15.154746363188735\n",
      "bottomleft vel=-7.6 km / s xmin/xmax: 217.24891065237247 GHz,217.21992674621205 GHz, -25.837558947940778 km / s, 11.897931181954439 km / s\n",
      "39K-35Clv=4-4 J=29-28: guesses=[46.65728200072049, -7.6, 2]\n"
     ]
    },
    {
     "name": "stderr",
     "output_type": "stream",
     "text": [
      "WARNING: gnorm=0.   wa2=[0. 0. 0.] [pyspeckit.mpfit.mpfit]\n"
     ]
    },
    {
     "name": "stdout",
     "output_type": "stream",
     "text": [
      "bottomleft vel=-7.6 km / s xmin/xmax: 217.5631966575562 GHz,217.5341708214452 GHz, -26.05927857025415 km / s, 12.967449104802636 km / s\n",
      "41K-35Clv=0-0 J=29-28: guesses=[55.342838432649536, -7.6, 2]\n",
      "Line 41K-35Clv=0-0 J=29-28 with frequency 217.54316883063962 GHz has SNR=5.0\n",
      "bottomleft vel=-7.6 km / s xmin/xmax: 218.00029906447278 GHz,217.97121491306297 GHz, -26.59372938677798 km / s, 12.354747585531834 km / s\n",
      "23Na-35Clv=2-2 J=17-16: guesses=[164.58591703677573, -7.6, 2]\n",
      "Line 23Na-35Clv=2-2 J=17-16 with frequency 217.980231 GHz has SNR=15.9\n",
      "bottomleft vel=-7.6 km / s xmin/xmax: 218.59983085385056 GHz,218.57066671689296 GHz, -26.68177674984049 km / s, 12.15988014853999 km / s\n",
      "39K-35Clv=3-3 J=29-28: guesses=[104.52411166202226, -7.6, 2]\n",
      "Line 39K-35Clv=3-3 J=29-28 with frequency 218.57970759934983 GHz has SNR=6.9\n",
      "RMS=74.80426655426176\n",
      "topright vel=19.0 km / s xmin/xmax: 333.0084017927572 GHz,332.9639700824705 GHz, 0.12439251239909402 km / s, 38.807345027359005 km / s\n",
      "23Na-35Clv=2-2 J=26-25: guesses=[187.744155554114, 19.0, 2]\n",
      "Line 23Na-35Clv=2-2 J=26-25 with frequency 333.007291 GHz has SNR=3.8\n",
      "topright vel=19.0 km / s xmin/xmax: 333.06881202589415 GHz,333.02437225536045 GHz, 0.0012062353962438723 km / s, 38.67714264408777 km / s\n",
      "39K-35Clv=2-2 J=44-43: guesses=[160.9758541156115, 19.0, 2]\n",
      "Line 39K-35Clv=2-2 J=44-43 with frequency 333.0677010316308 GHz has SNR=inf\n",
      "topright vel=19.0 km / s xmin/xmax: 333.46017329969965 GHz,333.4156813117125 GHz, -0.21594412428919424 km / s, 39.29256769487775 km / s\n",
      "23Na-37Clv=4-4 J=27-26: guesses=[138.21113724253811, 19.0, 2]\n",
      "Line 23Na-37Clv=4-4 J=27-26 with frequency 333.459061 GHz has SNR=1.8\n",
      "RMS=62.58735711928755\n",
      "bottomleft vel=-7.6 km / s xmin/xmax: 333.0379488800978 GHz,332.9935171698111 GHz, -27.129505850413565 km / s, 12.432604676249973 km / s\n",
      "23Na-35Clv=2-2 J=26-25: guesses=[114.57562149963556, -7.6, 2]\n",
      "Line 23Na-35Clv=2-2 J=26-25 with frequency 333.007291 GHz has SNR=1.9\n",
      "bottomleft vel=-7.6 km / s xmin/xmax: 333.0983644732991 GHz,333.05392470276536 GHz, -26.368750406893433 km / s, 12.307186001798094 km / s\n",
      "39K-35Clv=2-2 J=44-43: guesses=[196.8468691803671, -7.6, 2]\n",
      "Line 39K-35Clv=2-2 J=44-43 with frequency 333.0677010316308 GHz has SNR=3.9\n",
      "bottomleft vel=-7.6 km / s xmin/xmax: 333.4897604717112 GHz,333.44526848372396 GHz, -26.55495200373382 km / s, 12.075592886118297 km / s\n",
      "23Na-37Clv=4-4 J=27-26: guesses=[170.04631875250493, -7.6, 2]\n",
      "Line 23Na-37Clv=4-4 J=27-26 with frequency 333.459061 GHz has SNR=3.9\n",
      "17 matches for NaCl\n",
      "15 matches for Na37Cl\n",
      "19 matches for KCl\n",
      "10 matches for K37Cl\n",
      "7 matches for 41KCl\n",
      "7 matches for 41K37Cl\n"
     ]
    },
    {
     "ename": "ZeroDivisionError",
     "evalue": "float division by zero",
     "output_type": "error",
     "traceback": [
      "\u001b[0;31m---------------------------------------------------------------------------\u001b[0m",
      "\u001b[0;31mZeroDivisionError\u001b[0m                         Traceback (most recent call last)",
      "\u001b[0;32m/orange/adamginsburg/salt/Orion_ALMA_2016.1.00165.S/analysis/line_fits.py\u001b[0m in \u001b[0;36m<module>\u001b[0;34m\u001b[0m\n\u001b[1;32m    515\u001b[0m             \u001b[0;32mif\u001b[0m \u001b[0mmatch\u001b[0m\u001b[0;34m.\u001b[0m\u001b[0msum\u001b[0m\u001b[0;34m(\u001b[0m\u001b[0;34m)\u001b[0m \u001b[0;34m>\u001b[0m \u001b[0;36m1\u001b[0m\u001b[0;34m:\u001b[0m\u001b[0;34m\u001b[0m\u001b[0;34m\u001b[0m\u001b[0m\n\u001b[1;32m    516\u001b[0m                 \u001b[0;32mraise\u001b[0m \u001b[0mValueError\u001b[0m\u001b[0;34m\u001b[0m\u001b[0;34m\u001b[0m\u001b[0m\n\u001b[0;32m--> 517\u001b[0;31m             \u001b[0mabund\u001b[0m\u001b[0;34m[\u001b[0m\u001b[0;34m(\u001b[0m\u001b[0mrow\u001b[0m\u001b[0;34m[\u001b[0m\u001b[0;34m'Line Name'\u001b[0m\u001b[0;34m]\u001b[0m\u001b[0;34m,\u001b[0m \u001b[0mcname\u001b[0m\u001b[0;34m)\u001b[0m\u001b[0;34m]\u001b[0m \u001b[0;34m=\u001b[0m \u001b[0mget_meas\u001b[0m\u001b[0;34m(\u001b[0m\u001b[0mrow\u001b[0m\u001b[0;34m[\u001b[0m\u001b[0;34m'Amplitude'\u001b[0m\u001b[0;34m]\u001b[0m\u001b[0;34m)\u001b[0m \u001b[0;34m/\u001b[0m \u001b[0mget_meas\u001b[0m\u001b[0;34m(\u001b[0m\u001b[0mNa37Cltbl\u001b[0m\u001b[0;34m[\u001b[0m\u001b[0mmatch\u001b[0m\u001b[0;34m]\u001b[0m\u001b[0;34m[\u001b[0m\u001b[0;34m'Amplitude'\u001b[0m\u001b[0;34m]\u001b[0m\u001b[0;34m[\u001b[0m\u001b[0;36m0\u001b[0m\u001b[0;34m]\u001b[0m\u001b[0;34m)\u001b[0m\u001b[0;34m\u001b[0m\u001b[0;34m\u001b[0m\u001b[0m\n\u001b[0m\u001b[1;32m    518\u001b[0m \u001b[0;34m\u001b[0m\u001b[0m\n\u001b[1;32m    519\u001b[0m \u001b[0;34m\u001b[0m\u001b[0m\n",
      "\u001b[0;31mZeroDivisionError\u001b[0m: float division by zero"
     ]
    },
    {
     "data": {
      "image/png": "[encoded data removed]",
      "text/plain": [
       "<Figure size 1152x432 with 1 Axes>"
      ]
     },
     "metadata": {},
     "output_type": "display_data"
    }
   ],
   "source": [
    "%run -i /orange/adamginsburg/salt/Orion_ALMA_2016.1.00165.S/analysis/line_fits.py"
   ]
  },
  {
   "cell_type": "code",
   "execution_count": null,
   "id": "e0c3d9b7-a6af-4b59-9ebb-27abe90502a2",
   "metadata": {},
   "outputs": [],
   "source": []
  },
  {
   "cell_type": "code",
   "execution_count": 195,
   "id": "1030c0f5-51da-4c99-8a50-60d00a39887b",
   "metadata": {},
   "outputs": [
    {
     "data": {
      "image/png": "[encoded data removed]",
      "text/plain": [
       "<Figure size 432x288 with 1 Axes>"
      ]
     },
     "metadata": {},
     "output_type": "display_data"
    },
    {
     "data": {
      "image/png": "[encoded data removed]",
      "text/plain": [
       "<Figure size 432x288 with 1 Axes>"
      ]
     },
     "metadata": {},
     "output_type": "display_data"
    }
   ],
   "source": [
    "# plot some things....\n",
    "\n",
    "pl.figure(1).clf()\n",
    "\n",
    "kclmask = np.array(['K-35Cl' in row['Species'] for row in tbl1])\n",
    "k41clmask = np.array(['41K-35Cl' in row['Species'] for row in tbl1])\n",
    "k37clmask = np.array(['K-37Cl' in row['Species'] for row in tbl1])\n",
    "pl.plot(tbl1['EU_K'][kclmask], tbl1['Fitted Amplitude K'][kclmask], 'o', label='KCl')\n",
    "pl.plot(tbl1['EU_K'][k37clmask], tbl1['Fitted Amplitude K'][k37clmask], 's', label='K$^{37}$Cl')\n",
    "pl.plot(tbl1['EU_K'][k41clmask], tbl1['Fitted Amplitude K'][k41clmask], 'd', label='$^{41}$KCl')\n",
    "pl.xlabel(\"E$_U$ [K]\")\n",
    "pl.ylabel(\"Fitted amplitude [K]\")\n",
    "pl.legend(loc='best')\n",
    "pl.savefig(paths.fpath('corners_KCl_amp_vs_eu.pdf'))\n",
    "\n",
    "pl.figure(2).clf()\n",
    "naclmask = np.array(['Na-35Cl' in row['Species'] for row in tbl1])\n",
    "na37clmask = np.array(['Na-37Cl' in row['Species'] for row in tbl1])\n",
    "pl.plot(tbl1['EU_K'][naclmask], tbl1['Fitted Amplitude K'][naclmask], 'o', label='NaCl')\n",
    "pl.plot(tbl1['EU_K'][na37clmask], tbl1['Fitted Amplitude K'][na37clmask], 's', label='Na$^{37}$Cl')\n",
    "pl.xlabel(\"E$_U$ [K]\")\n",
    "pl.ylabel(\"Fitted amplitude [K]\")\n",
    "pl.legend(loc='best')\n",
    "pl.savefig(paths.fpath('corners_NaCl_amp_vs_eu.pdf'))\n"
   ]
  },
  {
   "cell_type": "code",
   "execution_count": 190,
   "id": "04c9ac4a-13d9-4f10-af9f-cd35ea3190e0",
   "metadata": {},
   "outputs": [
    {
     "data": {
      "text/html": [
       "<div><i>Table length=292</i>\n",
       "<table id=\"table47212315690128\" class=\"table-striped table-bordered table-condensed\">\n",
       "<thead><tr><th>Line Name</th><th>Species</th><th>QNs</th><th>v</th><th>J$_u$</th><th>J$_l$</th><th>Frequency</th><th>Fitted Velocity</th><th>Fitted Velocity error</th><th>Fitted Width</th><th>Fitted Width error</th><th>Fitted Amplitude K</th><th>Fitted Amplitude error K</th><th>Integrated Intensity</th><th>Integrated Intensity error</th><th>Jy/K</th><th>EU_K</th><th>deg</th><th>Aij</th><th>Flag</th><th>Corner</th></tr></thead>\n",
       "<thead><tr><th></th><th></th><th></th><th></th><th></th><th></th><th>GHz</th><th>km / s</th><th>km / s</th><th>km / s</th><th>km / s</th><th>K</th><th>K</th><th>K km / s</th><th>K km / s</th><th>K</th><th>K</th><th></th><th></th><th></th><th></th></tr></thead>\n",
       "<thead><tr><th>str25</th><th>str23</th><th>str15</th><th>str21</th><th>str21</th><th>str21</th><th>float64</th><th>float64</th><th>float64</th><th>float64</th><th>float64</th><th>float64</th><th>float64</th><th>float64</th><th>float64</th><th>float64</th><th>float64</th><th>int64</th><th>float64</th><th>str2</th><th>str10</th></tr></thead>\n",
       "<tr><td>23Na-37Clv=5-5 J=71-70</td><td>23Na-35Clv=1-1 J=18-17</td><td>v=1-1 J=18-17</td><td>1</td><td>18</td><td>17</td><td>232.50997700000002</td><td>18.584482828137993</td><td>0.39242962477471394</td><td>4.5179862095166365</td><td>505.9890492124883</td><td>139.54807998340146</td><td>10.497198360899494</td><td>1580.369722394729</td><td>70609.81623750836</td><td>15424.753223047466</td><td>625.7</td><td>592</td><td>0.005799999926239252</td><td>-d</td><td>topright</td></tr>\n",
       "<tr><td>23Na-37Clv=5-5 J=71-70</td><td>23Na-35Clv=1-1 J=18-17</td><td>v=1-1 J=18-17</td><td>1</td><td>18</td><td>17</td><td>232.50997700000002</td><td>-7.85715892197685</td><td>0.2007623281166518</td><td>2.7314730414439135</td><td>258.85784378722855</td><td>174.67497791557702</td><td>11.118530861316987</td><td>1195.9624653248363</td><td>45215.99834601906</td><td>15424.753223047466</td><td>625.7</td><td>592</td><td>0.005799999926239252</td><td>-d</td><td>bottomleft</td></tr>\n",
       "<tr><td>41K-37Clv=9-9 J=128-127</td><td>23Na-35Clv=1-1 J=26-25</td><td>v=1-1 J=26-25</td><td>1</td><td>26</td><td>25</td><td>335.506563</td><td>17.757342301222224</td><td>0.31638893729432815</td><td>0.6105186118501016</td><td>287.89929655607176</td><td>161.51242968973813</td><td>72.1036358757138</td><td>247.16945085763822</td><td>46499.33572975234</td><td>18346.11307871118</td><td>737.2</td><td>848</td><td>0.017999999225139618</td><td>-d</td><td>topright</td></tr>\n",
       "<tr><td>41K-37Clv=9-9 J=128-127</td><td>23Na-35Clv=1-1 J=26-25</td><td>v=1-1 J=26-25</td><td>1</td><td>26</td><td>25</td><td>335.506563</td><td>-5.107847127855931</td><td>134363.32084312206</td><td>0.20058038479531734</td><td>378796589.6176161</td><td>445.3234750710014</td><td>4409553235.621097</td><td>223.89994336586386</td><td>168689332370.44424</td><td>18346.11307871118</td><td>737.2</td><td>848</td><td>0.017999999225139618</td><td>-d</td><td>bottomleft</td></tr>\n",
       "<tr><td>39K-35Clv=6-6 J=119-118</td><td>23Na-35Clv=1-1 J=67-66</td><td>v=1-1 J=67-66</td><td>1</td><td>67</td><td>66</td><td>855.044806</td><td>11.641996108924817</td><td>0.5717922641497329</td><td>2.8468310521818707</td><td>200.4795825559673</td><td>26.18801540291387</td><td>4.555116657382651</td><td>186.87629541048915</td><td>5250.178410652555</td><td>204.5534199551512</td><td>1923.9</td><td>2160</td><td>0.30000001192092896</td><td>--</td><td>topright</td></tr>\n",
       "<tr><td>39K-35Clv=6-6 J=119-118</td><td>23Na-35Clv=1-1 J=67-66</td><td>v=1-1 J=67-66</td><td>1</td><td>67</td><td>66</td><td>855.044806</td><td>-2.5898751328522893</td><td>1.9825989840926088</td><td>10.0</td><td>0.0</td><td>15.913244984694524</td><td>2.126906514455866</td><td>398.8858981976525</td><td>21.26906514455866</td><td>204.5534199551512</td><td>1923.9</td><td>2160</td><td>0.30000001192092896</td><td>--</td><td>bottomleft</td></tr>\n",
       "<tr><td>39K-37Clv=9-9 J=125-124</td><td>23Na-35Clv=2-2 J=17-16</td><td>v=2-2 J=17-16</td><td>2</td><td>17</td><td>16</td><td>217.980231</td><td>18.181899611723537</td><td>0.3111819086578002</td><td>3.9467980082288</td><td>427.9745424916523</td><td>129.5111242766477</td><td>8.843178589430416</td><td>1281.2736890765266</td><td>55427.47514871008</td><td>2195.913917800106</td><td>1128.4</td><td>560</td><td>0.004900000058114529</td><td>-d</td><td>topright</td></tr>\n",
       "<tr><td>39K-37Clv=9-9 J=125-124</td><td>23Na-35Clv=2-2 J=17-16</td><td>v=2-2 J=17-16</td><td>2</td><td>17</td><td>16</td><td>217.980231</td><td>-7.897521899244419</td><td>0.1713828331807574</td><td>2.363821254360092</td><td>235.70614898674367</td><td>167.36452120139467</td><td>10.508610159124967</td><td>991.6718078704704</td><td>39448.85459026836</td><td>2195.913917800106</td><td>1128.4</td><td>560</td><td>0.004900000058114529</td><td>-d</td><td>bottomleft</td></tr>\n",
       "<tr><td>23Na-35Clv=4-4 J=69-68</td><td>23Na-35Clv=2-2 J=18-17</td><td>v=2-2 J=18-17</td><td>2</td><td>18</td><td>17</td><td>230.779167</td><td>18.721215885706656</td><td>0.35832759333379016</td><td>3.7194490176737918</td><td>465.48356383030955</td><td>120.42159022842617</td><td>10.046958670753423</td><td>1122.7237309395673</td><td>56054.283437901984</td><td>15293.376564054412</td><td>1139.5</td><td>592</td><td>0.005799999926239252</td><td>-d</td><td>topright</td></tr>\n",
       "<tr><td>23Na-35Clv=4-4 J=69-68</td><td>23Na-35Clv=2-2 J=18-17</td><td>v=2-2 J=18-17</td><td>2</td><td>18</td><td>17</td><td>230.779167</td><td>-7.835659447465632</td><td>0.1785323819714216</td><td>2.45207348483414</td><td>231.92154768620927</td><td>167.63721261050134</td><td>10.570213146206614</td><td>1030.3715206623092</td><td>38878.690438014484</td><td>15293.376564054412</td><td>1139.5</td><td>592</td><td>0.005799999926239252</td><td>-d</td><td>bottomleft</td></tr>\n",
       "<tr><td>39K-37Clv=4-4 J=121-120</td><td>23Na-35Clv=2-2 J=26-25</td><td>v=2-2 J=26-25</td><td>2</td><td>26</td><td>25</td><td>333.007291</td><td>17.1918081442434</td><td>2.6869431640740102</td><td>8.811988778477046</td><td>2539.5028679187517</td><td>83.52556231777649</td><td>22.04183217284454</td><td>1844.9443792210006</td><td>212113.49397985614</td><td>17167.047557388316</td><td>1250.2</td><td>848</td><td>0.017999999225139618</td><td>-d</td><td>topright</td></tr>\n",
       "<tr><td>39K-37Clv=4-4 J=121-120</td><td>23Na-35Clv=2-2 J=26-25</td><td>v=2-2 J=26-25</td><td>2</td><td>26</td><td>25</td><td>333.007291</td><td>-10.450485582019358</td><td>1.7383979981111641</td><td>2.8251456986497123</td><td>1565.0065954163351</td><td>60.27255274817712</td><td>32.118726342350335</td><td>426.82551213125055</td><td>94326.98621827303</td><td>17167.047557388316</td><td>1250.2</td><td>848</td><td>0.017999999225139618</td><td>-d</td><td>bottomleft</td></tr>\n",
       "<tr><td>41K-37Clv=4-4 J=124-123</td><td>23Na-35Clv=2-2 J=27-26</td><td>v=2-2 J=27-26</td><td>2</td><td>27</td><td>26</td><td>345.762037</td><td>19.77522186379421</td><td>0.6708358136346106</td><td>0.8945887801503749</td><td>579.5546910341212</td><td>105.317919702792</td><td>68.28372406575001</td><td>236.16506432983599</td><td>61037.52498082572</td><td>19170.84069612643</td><td>1266.8</td><td>880</td><td>0.019999999552965164</td><td>cd</td><td>topright</td></tr>\n",
       "<tr><td>41K-37Clv=4-4 J=124-123</td><td>23Na-35Clv=2-2 J=27-26</td><td>v=2-2 J=27-26</td><td>2</td><td>27</td><td>26</td><td>345.762037</td><td>-7.689057542223591</td><td>nan</td><td>0.05398339522395955</td><td>nan</td><td>12.639602808605623</td><td>nan</td><td>1.710344346566221</td><td>nan</td><td>19170.84069612643</td><td>1266.8</td><td>880</td><td>0.019999999552965164</td><td>cd</td><td>bottomleft</td></tr>\n",
       "<tr><td>41K-37Clv=10-10 J=129-128</td><td>23Na-35Clv=2-2 J=39-38</td><td>v=2-2 J=39-38</td><td>2</td><td>39</td><td>38</td><td>498.285025</td><td>10.478606069722336</td><td>0.4793108986492735</td><td>4.576653054321219</td><td>290.6552206159123</td><td>24.026416893492396</td><td>2.1809036202733356</td><td>275.63028453477</td><td>6983.410635777247</td><td>369.20371608085946</td><td>1513.6</td><td>1264</td><td>0.05900000035762787</td><td>--</td><td>topright</td></tr>\n",
       "<tr><td>41K-37Clv=10-10 J=129-128</td><td>23Na-35Clv=2-2 J=39-38</td><td>v=2-2 J=39-38</td><td>2</td><td>39</td><td>38</td><td>498.285025</td><td>-5.3281677446826</td><td>0.5474356248326241</td><td>5.265005964606556</td><td>329.3982042513375</td><td>22.576230107943523</td><td>2.0329531723586522</td><td>297.94782858574615</td><td>7436.577359139183</td><td>369.20371608085946</td><td>1513.6</td><td>1264</td><td>0.05900000035762787</td><td>--</td><td>bottomleft</td></tr>\n",
       "<tr><td>41K-35Clv=1-1 J=118-117</td><td>23Na-35Clv=2-2 J=68-67</td><td>v=2-2 J=68-67</td><td>2</td><td>68</td><td>67</td><td>860.951073</td><td>17.475525182674808</td><td>8.902216434968224</td><td>3.170682878256732</td><td>3099.847866523379</td><td>2.088690890929221</td><td>5.078922465755471</td><td>16.60033737004802</td><td>6474.644028504853</td><td>210.59265927705974</td><td>2469.4</td><td>2192</td><td>0.3100000023841858</td><td>--</td><td>topright</td></tr>\n",
       "<tr><td>41K-35Clv=1-1 J=118-117</td><td>23Na-35Clv=2-2 J=68-67</td><td>v=2-2 J=68-67</td><td>2</td><td>68</td><td>67</td><td>860.951073</td><td>-6.766295048970615</td><td>nan</td><td>1.9200396170891338</td><td>nan</td><td>0.0</td><td>nan</td><td>0.0</td><td>nan</td><td>210.59265927705974</td><td>2469.4</td><td>2192</td><td>0.3100000023841858</td><td>--</td><td>bottomleft</td></tr>\n",
       "<tr><td>23Na-37Clv=3-3 J=70-69</td><td>23Na-35Clv=3-3 J=68-67</td><td>v=3-3 J=68-67</td><td>3</td><td>68</td><td>67</td><td>854.4808</td><td>15.815966440235137</td><td>0.16164347643739252</td><td>0.6641998386744649</td><td>56.712211082695326</td><td>44.75985872225025</td><td>9.433628174397127</td><td>74.52078258663227</td><td>2538.4382890852844</td><td>204.5534199551512</td><td>2968.2</td><td>2192</td><td>0.30000001192092896</td><td>--</td><td>topright</td></tr>\n",
       "<tr><td>23Na-37Clv=3-3 J=70-69</td><td>23Na-35Clv=3-3 J=68-67</td><td>v=3-3 J=68-67</td><td>3</td><td>68</td><td>67</td><td>854.4808</td><td>-8.575938356410374</td><td>0.384437111510976</td><td>0.6930389342415714</td><td>134.87880252035046</td><td>20.419235113399623</td><td>9.806753961634495</td><td>35.47211122064796</td><td>2754.1303664216084</td><td>204.5534199551512</td><td>2968.2</td><td>2192</td><td>0.30000001192092896</td><td>--</td><td>bottomleft</td></tr>\n",
       "<tr><td>39K-35Clv=2-2 J=116-115</td><td>23Na-35Clv=3-3 J=7-6</td><td>v=3-3 J=7-6</td><td>3</td><td>7</td><td>6</td><td>89.15010799999999</td><td>19.422351565942456</td><td>0.8395732691889323</td><td>3.240693181966287</td><td>2794.9130947890008</td><td>114.47833745646425</td><td>25.558517552895783</td><td>929.9319372834947</td><td>319957.0151475049</td><td>19695.147978700974</td><td>1561.0</td><td>240</td><td>0.00033000000985339284</td><td>-d</td><td>topright</td></tr>\n",
       "<tr><td>39K-35Clv=2-2 J=116-115</td><td>23Na-35Clv=3-3 J=7-6</td><td>v=3-3 J=7-6</td><td>3</td><td>7</td><td>6</td><td>89.15010799999999</td><td>-7.910414723721954</td><td>0.419540416919975</td><td>2.415189175060138</td><td>1709.4447072542516</td><td>103.5425520634387</td><td>17.604982064183282</td><td>626.8446920443778</td><td>177000.27270748658</td><td>19695.147978700974</td><td>1561.0</td><td>240</td><td>0.00033000000985339284</td><td>-d</td><td>bottomleft</td></tr>\n",
       "<tr><td>41K-35Clv=6-6 J=122-121</td><td>23Na-35Clv=4-4 J=69-68</td><td>v=4-4 J=69-68</td><td>4</td><td>69</td><td>68</td><td>860.174289</td><td>19.35918806348324</td><td>nan</td><td>0.7205186764415528</td><td>nan</td><td>0.0</td><td>nan</td><td>0.0</td><td>nan</td><td>210.59265927705974</td><td>3503.5</td><td>2224</td><td>0.3100000023841858</td><td>--</td><td>topright</td></tr>\n",
       "<tr><td>41K-35Clv=6-6 J=122-121</td><td>23Na-35Clv=4-4 J=69-68</td><td>v=4-4 J=69-68</td><td>4</td><td>69</td><td>68</td><td>860.174289</td><td>-3.886625926003485</td><td>0.10608487305530939</td><td>1.5587862945878466</td><td>36.973257050294826</td><td>132.5059310469849</td><td>7.809752617330289</td><td>517.7401328828934</td><td>4899.190974241258</td><td>210.59265927705974</td><td>3503.5</td><td>2224</td><td>0.3100000023841858</td><td>--</td><td>bottomleft</td></tr>\n",
       "<tr><td>39K-37Clv=10-10 J=126-125</td><td>23Na-35Clv=4-4 J=7-6</td><td>v=4-4 J=7-6</td><td>4</td><td>7</td><td>6</td><td>88.48549000000001</td><td>19.81846173153781</td><td>0.8266709717170311</td><td>2.6424272520231926</td><td>3121.4446059421234</td><td>103.66431513744354</td><td>29.93680461985312</td><td>686.6291813087993</td><td>323582.4269839137</td><td>19695.147978700974</td><td>2065.5</td><td>240</td><td>0.00031999999191612005</td><td>-d</td><td>topright</td></tr>\n",
       "<tr><td>39K-37Clv=10-10 J=126-125</td><td>23Na-35Clv=4-4 J=7-6</td><td>v=4-4 J=7-6</td><td>4</td><td>7</td><td>6</td><td>88.48549000000001</td><td>-7.929853407710313</td><td>0.5619002892975187</td><td>3.627696651893257</td><td>1902.9023749381668</td><td>97.38802388554853</td><td>13.06097334155151</td><td>885.5772514976484</td><td>185319.9079993923</td><td>19695.147978700974</td><td>2065.5</td><td>240</td><td>0.00031999999191612005</td><td>-d</td><td>bottomleft</td></tr>\n",
       "<tr><td>23Na-35Clv=2-2 J=68-67</td><td>23Na-35Clv=4-4 J=8-7</td><td>v=4-4 J=8-7</td><td>4</td><td>8</td><td>7</td><td>101.121833</td><td>19.89874147091607</td><td>0.48315687314840455</td><td>3.4294031754179586</td><td>1432.8831993542028</td><td>107.4689148480463</td><td>13.114343874916882</td><td>923.8284733013437</td><td>153990.40910619104</td><td>25535.581162507588</td><td>2070.4</td><td>272</td><td>0.0004799999878741801</td><td>-d</td><td>topright</td></tr>\n",
       "<tr><td>23Na-35Clv=2-2 J=68-67</td><td>23Na-35Clv=4-4 J=8-7</td><td>v=4-4 J=8-7</td><td>4</td><td>8</td><td>7</td><td>101.121833</td><td>-7.710492790826752</td><td>0.4879521618317128</td><td>2.9603309421843456</td><td>1437.5181828243217</td><td>114.11165307450396</td><td>16.240404807120463</td><td>846.7597295537149</td><td>164037.58321206292</td><td>25535.581162507588</td><td>2070.4</td><td>272</td><td>0.0004799999878741801</td><td>-d</td><td>bottomleft</td></tr>\n",
       "<tr><td>39K-35Clv=7-7 J=120-119</td><td>23Na-35Clv=5-5 J=69-68</td><td>v=5-5 J=69-68</td><td>5</td><td>69</td><td>68</td><td>853.696257</td><td>16.305692938098662</td><td>2.497847999645575</td><td>10.0</td><td>0.0</td><td>11.640720093389346</td><td>1.9947565973081083</td><td>291.7895812315495</td><td>19.947565973081083</td><td>204.5534199551512</td><td>3992.4</td><td>2224</td><td>0.3100000023841858</td><td>--</td><td>topright</td></tr>\n",
       "<tr><td>39K-35Clv=7-7 J=120-119</td><td>23Na-35Clv=5-5 J=69-68</td><td>v=5-5 J=69-68</td><td>5</td><td>69</td><td>68</td><td>853.696257</td><td>-26.273327643407477</td><td>1.6747204561715945</td><td>10.0</td><td>0.0</td><td>37.04690884448392</td><td>4.106586689987749</td><td>928.6282919726068</td><td>41.065866899877484</td><td>204.5534199551512</td><td>3992.4</td><td>2224</td><td>0.3100000023841858</td><td>--</td><td>bottomleft</td></tr>\n",
       "<tr><td>39K-37Clv=0-0 J=118-117</td><td>23Na-35Clv=5-5 J=7-6</td><td>v=5-5 J=7-6</td><td>5</td><td>7</td><td>6</td><td>87.82519</td><td>18.121090379890596</td><td>1.425839624551865</td><td>7.145402632030613</td><td>4889.650026329469</td><td>100.79859396610664</td><td>17.4316350300606</td><td>1805.3903384360783</td><td>492869.8633789943</td><td>19695.147978700974</td><td>2565.2</td><td>240</td><td>0.00031999999191612005</td><td>-d</td><td>topright</td></tr>\n",
       "<tr><td>39K-37Clv=0-0 J=118-117</td><td>23Na-35Clv=5-5 J=7-6</td><td>v=5-5 J=7-6</td><td>5</td><td>7</td><td>6</td><td>87.82519</td><td>-8.005670789851164</td><td>0.7359382293817014</td><td>2.9276155021739174</td><td>2601.944450186565</td><td>66.74835583213871</td><td>14.806103405520698</td><td>489.8290576826219</td><td>173675.51942581098</td><td>19695.147978700974</td><td>2565.2</td><td>240</td><td>0.00031999999191612005</td><td>-d</td><td>bottomleft</td></tr>\n",
       "<tr><td>...</td><td>...</td><td>...</td><td>...</td><td>...</td><td>...</td><td>...</td><td>...</td><td>...</td><td>...</td><td>...</td><td>...</td><td>...</td><td>...</td><td>...</td><td>...</td><td>...</td><td>...</td><td>...</td><td>...</td><td>...</td></tr>\n",
       "<tr><td>41K-35Clv=2-2 J=118-117</td><td>41K-37Clv=1-1 J=69-68</td><td>v=1-1 J=69-68</td><td>1</td><td>69</td><td>68</td><td>496.37943355859494</td><td>-9.199295924491137</td><td>1.2163620340834884</td><td>1.5237328066692337</td><td>734.6318912954903</td><td>5.947322484921969</td><td>4.111524223696804</td><td>22.715392244207585</td><td>4369.097256850541</td><td>368.7767356214201</td><td>1225.859223845165</td><td>2224</td><td>0.077157</td><td>--</td><td>bottomleft</td></tr>\n",
       "<tr><td>39K-35Clv=3-3 J=116-115</td><td>39K-35Clv=7-7 J=119-118</td><td>v=7-7 J=119-118</td><td>7</td><td>119</td><td>118</td><td>854.2306061806354</td><td>31.06694175252407</td><td>2.647421656235124</td><td>10.0</td><td>0.0</td><td>13.93275469629178</td><td>2.2219443648788912</td><td>349.2423686522283</td><td>22.21944364878891</td><td>204.5534199551512</td><td>5215.328056246716</td><td>3824</td><td>0.43244</td><td>--</td><td>topright</td></tr>\n",
       "<tr><td>39K-35Clv=3-3 J=116-115</td><td>39K-35Clv=7-7 J=119-118</td><td>v=7-7 J=119-118</td><td>7</td><td>119</td><td>118</td><td>854.2306061806354</td><td>0.9533961816564076</td><td>3.668494928615661</td><td>7.033301082143092</td><td>1392.8450505225505</td><td>7.1340168920948575</td><td>3.1512058788777564</td><td>125.7718000626781</td><td>9936.604835996146</td><td>204.5534199551512</td><td>5215.328056246716</td><td>3824</td><td>0.43244</td><td>--</td><td>bottomleft</td></tr>\n",
       "<tr><td>41K-35Clv=7-7 J=122-121</td><td></td><td></td><td>????</td><td>?</td><td>?</td><td>860.5138468564697</td><td>18.838923006655776</td><td>0.14580174379391955</td><td>0.02030836438669023</td><td>0.0</td><td>7.18781282775074</td><td>nan</td><td>0.36589935241359817</td><td>nan</td><td>210.59265927705974</td><td>nan</td><td>0</td><td>0.0</td><td>--</td><td>topright</td></tr>\n",
       "<tr><td>41K-35Clv=7-7 J=122-121</td><td></td><td></td><td>????</td><td>?</td><td>?</td><td>860.5138468564697</td><td>-5.648785583977781</td><td>1.2607954222930282</td><td>3.327756876284312</td><td>439.2456414189824</td><td>16.287002599855096</td><td>5.343980089812994</td><td>135.8572093215859</td><td>7154.017006884323</td><td>210.59265927705974</td><td>nan</td><td>0</td><td>0.0</td><td>--</td><td>bottomleft</td></tr>\n",
       "<tr><td>23Na-35Clv=6-6 J=8-7</td><td></td><td></td><td>????</td><td>?</td><td>?</td><td>483.2863987724297</td><td>22.751179018193852</td><td>2.4752902141720705</td><td>2.989253172146879</td><td>1535.473238123091</td><td>6.215738853479471</td><td>4.457531391901314</td><td>46.574198819698196</td><td>9544.109966094162</td><td>363.52721709872577</td><td>nan</td><td>0</td><td>0.0</td><td>--</td><td>topright</td></tr>\n",
       "<tr><td>23Na-35Clv=6-6 J=8-7</td><td></td><td></td><td>????</td><td>?</td><td>?</td><td>483.2863987724297</td><td>-7.203214107512045</td><td>0.4105451197627802</td><td>0.9132541894591177</td><td>254.66957651987798</td><td>19.417535823021986</td><td>7.559515832659396</td><td>44.45040500972592</td><td>4945.060444252749</td><td>363.52721709872577</td><td>nan</td><td>0</td><td>0.0</td><td>--</td><td>bottomleft</td></tr>\n",
       "<tr><td>23Na-37Clv=3-3 J=8-7</td><td></td><td></td><td>????</td><td>?</td><td>?</td><td>496.6540874054266</td><td>17.934122806680357</td><td>0.8402374663516808</td><td>1.3765348584920305</td><td>507.1877190260284</td><td>8.096308707142681</td><td>4.2798891307306866</td><td>27.93599903544949</td><td>4106.352571939473</td><td>368.7767356214201</td><td>nan</td><td>0</td><td>0.0</td><td>--</td><td>topright</td></tr>\n",
       "<tr><td>23Na-37Clv=3-3 J=8-7</td><td></td><td></td><td>????</td><td>?</td><td>?</td><td>496.6540874054266</td><td>-8.208822776704816</td><td>nan</td><td>1.5902018368035735</td><td>nan</td><td>0.0</td><td>nan</td><td>0.0</td><td>nan</td><td>368.7767356214201</td><td>nan</td><td>0</td><td>0.0</td><td>--</td><td>bottomleft</td></tr>\n",
       "<tr><td>39K-35Clv=0-0 J=13-12</td><td>41K-37Clv=3-3 J=68-67</td><td>v=3-3 J=68-67</td><td>3</td><td>68</td><td>67</td><td>483.40743439415655</td><td>18.734675980772543</td><td>0.30265050435723645</td><td>0.7490382494512937</td><td>187.6895970131424</td><td>25.445209383077895</td><td>8.903489011931924</td><td>47.77491890316534</td><td>4775.805751443428</td><td>363.52721709872577</td><td>1960.4659092591098</td><td>2192</td><td>0.072853</td><td>--</td><td>topright</td></tr>\n",
       "<tr><td>39K-35Clv=0-0 J=13-12</td><td>41K-37Clv=3-3 J=68-67</td><td>v=3-3 J=68-67</td><td>3</td><td>68</td><td>67</td><td>483.40743439415655</td><td>-12.574943648898172</td><td>0.34190740234851247</td><td>0.8816052122356443</td><td>212.03920963694722</td><td>22.90551302105419</td><td>7.692989246684207</td><td>50.617898027687396</td><td>4856.871612663761</td><td>363.52721709872577</td><td>1960.4659092591098</td><td>2192</td><td>0.072853</td><td>--</td><td>bottomleft</td></tr>\n",
       "<tr><td>23Na-35Clv=5-5 J=8-7</td><td>41K-37Clv=3-3 J=70-69</td><td>v=3-3 J=70-69</td><td>3</td><td>70</td><td>69</td><td>497.3983936400145</td><td>18.994098298943126</td><td>0.2809359522944617</td><td>10.0</td><td>0.0</td><td>66.76386588560524</td><td>1.2985762542687844</td><td>1673.5219395253016</td><td>12.985762542687844</td><td>368.7767356214201</td><td>2007.8701800735255</td><td>2256</td><td>0.079427</td><td>--</td><td>topright</td></tr>\n",
       "<tr><td>23Na-35Clv=5-5 J=8-7</td><td>41K-37Clv=3-3 J=70-69</td><td>v=3-3 J=70-69</td><td>3</td><td>70</td><td>69</td><td>497.3983936400145</td><td>2.0161652765907894</td><td>0.23091671530805655</td><td>10.0</td><td>0.0</td><td>94.29892420570546</td><td>1.3709082381093551</td><td>2363.7234968130697</td><td>13.709082381093552</td><td>368.7767356214201</td><td>2007.8701800735255</td><td>2256</td><td>0.079427</td><td>--</td><td>bottomleft</td></tr>\n",
       "<tr><td>23Na-37Clv=2-2 J=8-7</td><td>41K-37Clv=4-4 J=121-120</td><td>v=4-4 J=121-120</td><td>4</td><td>121</td><td>120</td><td>840.7082482459376</td><td>2.572030526417282</td><td>0.4711995254337321</td><td>7.171506836911766</td><td>143.01091653915353</td><td>138.20476907226958</td><td>3.1699932041217944</td><td>2484.4106403018236</td><td>19764.803769307717</td><td>210.5920756176534</td><td>4027.748829014081</td><td>3888</td><td>0.39724</td><td>--</td><td>topright</td></tr>\n",
       "<tr><td>23Na-37Clv=2-2 J=8-7</td><td>41K-37Clv=4-4 J=121-120</td><td>v=4-4 J=121-120</td><td>4</td><td>121</td><td>120</td><td>840.7082482459376</td><td>-3.6092907533459844</td><td>0.1285643304395929</td><td>2.4091274316203037</td><td>45.84541241157407</td><td>124.95942279397188</td><td>5.775111305021459</td><td>754.6033300593626</td><td>5728.8331671781525</td><td>210.5920756176534</td><td>4027.748829014081</td><td>3888</td><td>0.39724</td><td>--</td><td>bottomleft</td></tr>\n",
       "<tr><td>23Na-35Clv=4-4 J=8-7</td><td>41K-37Clv=4-4 J=123-122</td><td>v=4-4 J=123-122</td><td>4</td><td>123</td><td>122</td><td>853.8957151556592</td><td>16.75948955008383</td><td>1.9697769325862142</td><td>10.0</td><td>0.0</td><td>14.72878432862135</td><td>1.9935823391921794</td><td>369.1958724906425</td><td>19.935823391921794</td><td>204.5534199551512</td><td>4109.389450096305</td><td>3952</td><td>0.4167</td><td>--</td><td>topright</td></tr>\n",
       "<tr><td>23Na-35Clv=4-4 J=8-7</td><td>41K-37Clv=4-4 J=123-122</td><td>v=4-4 J=123-122</td><td>4</td><td>123</td><td>122</td><td>853.8957151556592</td><td>-7.483901983106129</td><td>1.2157621697088468</td><td>3.3439562647167502</td><td>426.8393911745428</td><td>14.18516048847658</td><td>4.466461146524786</td><td>118.90079996966755</td><td>6054.803687856039</td><td>204.5534199551512</td><td>4109.389450096305</td><td>3952</td><td>0.4167</td><td>--</td><td>bottomleft</td></tr>\n",
       "<tr><td>23Na-37Clv=1-1 J=8-7</td><td>41K-37Clv=4-4 J=124-123</td><td>v=4-4 J=124-123</td><td>4</td><td>124</td><td>123</td><td>860.4763123689665</td><td>19.480928922808964</td><td>nan</td><td>1.1613884025952141</td><td>nan</td><td>0.0</td><td>nan</td><td>0.0</td><td>nan</td><td>210.59265927705974</td><td>4150.683689581435</td><td>3984</td><td>0.42665</td><td>--</td><td>topright</td></tr>\n",
       "<tr><td>23Na-37Clv=1-1 J=8-7</td><td>41K-37Clv=4-4 J=124-123</td><td>v=4-4 J=124-123</td><td>4</td><td>124</td><td>123</td><td>860.4763123689665</td><td>-7.417748527722665</td><td>nan</td><td>1.8370171340614427</td><td>nan</td><td>0.0</td><td>nan</td><td>0.0</td><td>nan</td><td>210.59265927705974</td><td>4150.683689581435</td><td>3984</td><td>0.42665</td><td>--</td><td>bottomleft</td></tr>\n",
       "<tr><td>39K-35Clv=4-4 J=29-28</td><td>41K-35Clv=2-2 J=118-117</td><td>v=2-2 J=118-117</td><td>2</td><td>118</td><td>117</td><td>855.171306484451</td><td>25.393079705166237</td><td>1.8061444478114579</td><td>3.7219454110897234</td><td>633.1810744551711</td><td>9.477816022188085</td><td>3.9837458712874954</td><td>88.42360307220251</td><td>6001.192049503846</td><td>204.5534199551512</td><td>3256.960485778421</td><td>3792</td><td>0.40858</td><td>--</td><td>topright</td></tr>\n",
       "<tr><td>39K-35Clv=4-4 J=29-28</td><td>41K-35Clv=2-2 J=118-117</td><td>v=2-2 J=118-117</td><td>2</td><td>118</td><td>117</td><td>855.171306484451</td><td>-10.142608079960697</td><td>0.25528431103783256</td><td>3.8266479183492668</td><td>89.49354799545345</td><td>72.21387754501072</td><td>4.17212121449905</td><td>692.6743485435586</td><td>6462.6958360524595</td><td>204.5534199551512</td><td>3256.960485778421</td><td>3792</td><td>0.40858</td><td>--</td><td>bottomleft</td></tr>\n",
       "<tr><td>41K-35Clv=0-0 J=29-28</td><td>41K-37Clv=5-5 J=69-68</td><td>v=5-5 J=69-68</td><td>5</td><td>69</td><td>68</td><td>484.482341519859</td><td>19.467702137859376</td><td>nan</td><td>1.9374973043626158</td><td>nan</td><td>0.0</td><td>nan</td><td>0.0</td><td>nan</td><td>363.52721709872577</td><td>2729.501755494049</td><td>2224</td><td>0.075039</td><td>--</td><td>topright</td></tr>\n",
       "<tr><td>41K-35Clv=0-0 J=29-28</td><td>41K-37Clv=5-5 J=69-68</td><td>v=5-5 J=69-68</td><td>5</td><td>69</td><td>68</td><td>484.482341519859</td><td>-7.387562038781616</td><td>nan</td><td>2.0784375116715355</td><td>nan</td><td>0.0</td><td>nan</td><td>0.0</td><td>nan</td><td>363.52721709872577</td><td>2729.501755494049</td><td>2224</td><td>0.075039</td><td>--</td><td>bottomleft</td></tr>\n",
       "<tr><td>23Na-35Clv=2-2 J=17-16</td><td>23Na-35Clv=2-2 J=39-38</td><td>v=2-2 J=39-38</td><td>2</td><td>39</td><td>38</td><td>498.2919461288723</td><td>14.635991439750223</td><td>0.4768815532919973</td><td>4.560460635345354</td><td>286.9382891685126</td><td>24.07041916945136</td><td>2.179824264867434</td><td>275.15809802883683</td><td>6906.732050200814</td><td>369.20371608085946</td><td>1513.6</td><td>1264</td><td>0.05900000035762787</td><td>--</td><td>topright</td></tr>\n",
       "<tr><td>23Na-35Clv=2-2 J=17-16</td><td>23Na-35Clv=2-2 J=39-38</td><td>v=2-2 J=39-38</td><td>2</td><td>39</td><td>38</td><td>498.2919461288723</td><td>-1.202879497284767</td><td>0.538020949499629</td><td>5.1650674887739525</td><td>324.9877749953806</td><td>22.766529933681547</td><td>2.05485228960517</td><td>294.7560821939776</td><td>7398.851519869664</td><td>369.20371608085946</td><td>1513.6</td><td>1264</td><td>0.05900000035762787</td><td>--</td><td>bottomleft</td></tr>\n",
       "<tr><td>39K-35Clv=3-3 J=29-28</td><td>41K-37Clv=7-7 J=48-47</td><td>v=7-7 J=48-47</td><td>7</td><td>48</td><td>47</td><td>334.3279083237932</td><td>18.82600780983552</td><td>nan</td><td>1.2526913876188774</td><td>nan</td><td>0.0</td><td>nan</td><td>0.0</td><td>nan</td><td>18346.11307871118</td><td>3049.3241362373146</td><td>1552</td><td>0.02501</td><td>cd</td><td>topright</td></tr>\n",
       "<tr><td>39K-35Clv=3-3 J=29-28</td><td>41K-37Clv=7-7 J=48-47</td><td>v=7-7 J=48-47</td><td>7</td><td>48</td><td>47</td><td>334.3279083237932</td><td>-5.59165412786988</td><td>0.44413522405218536</td><td>0.5434609502286809</td><td>269.516814860194</td><td>120.96910373975447</td><td>62.18484908787475</td><td>164.79071609197817</td><td>32603.225051643734</td><td>18346.11307871118</td><td>3049.3241362373146</td><td>1552</td><td>0.02501</td><td>cd</td><td>bottomleft</td></tr>\n",
       "<tr><td>23Na-35Clv=2-2 J=26-25</td><td>41K-37Clv=8-8 J=72-71</td><td>v=8-8 J=72-71</td><td>8</td><td>72</td><td>71</td><td>496.0192642815462</td><td>17.467040255239716</td><td>0.5282582453604494</td><td>3.6708181197705336</td><td>319.2775962334705</td><td>21.042879041659496</td><td>2.622551569497179</td><td>193.62345249677847</td><td>6718.5267354077005</td><td>368.7767356214201</td><td>3894.936465524565</td><td>2320</td><td>0.083404</td><td>--</td><td>topright</td></tr>\n",
       "<tr><td>23Na-35Clv=2-2 J=26-25</td><td>41K-37Clv=8-8 J=72-71</td><td>v=8-8 J=72-71</td><td>8</td><td>72</td><td>71</td><td>496.0192642815462</td><td>3.3183394767677323</td><td>0.44603521208586255</td><td>4.087573556932444</td><td>274.4691142506195</td><td>26.68797579409548</td><td>2.5241949440745</td><td>273.4457326363798</td><td>7325.032344053868</td><td>368.7767356214201</td><td>3894.936465524565</td><td>2320</td><td>0.083404</td><td>--</td><td>bottomleft</td></tr>\n",
       "<tr><td>39K-35Clv=2-2 J=44-43</td><td></td><td></td><td>????</td><td>?</td><td>?</td><td>840.5529237409254</td><td>18.859291401763034</td><td>nan</td><td>2.435777732959913</td><td>nan</td><td>0.0</td><td>nan</td><td>0.0</td><td>nan</td><td>210.5920756176534</td><td>nan</td><td>0</td><td>0.0</td><td>--</td><td>topright</td></tr>\n",
       "<tr><td>39K-35Clv=2-2 J=44-43</td><td></td><td></td><td>????</td><td>?</td><td>?</td><td>840.5529237409254</td><td>-8.053643738383021</td><td>nan</td><td>1.7441348110299866</td><td>nan</td><td>0.0</td><td>nan</td><td>0.0</td><td>nan</td><td>210.5920756176534</td><td>nan</td><td>0</td><td>0.0</td><td>--</td><td>bottomleft</td></tr>\n",
       "<tr><td>23Na-37Clv=4-4 J=27-26</td><td></td><td></td><td>????</td><td>?</td><td>?</td><td>859.5815555579181</td><td>15.390999016379936</td><td>13034.201339404855</td><td>0.08344084957123417</td><td>14959376.994564071</td><td>54.34407532444324</td><td>115714811.29238111</td><td>11.366345551722079</td><td>813010845.7933921</td><td>210.59265927705974</td><td>nan</td><td>0</td><td>0.0</td><td>--</td><td>topright</td></tr>\n",
       "<tr><td>23Na-37Clv=4-4 J=27-26</td><td></td><td></td><td>????</td><td>?</td><td>?</td><td>859.5815555579181</td><td>-7.661345134490568</td><td>nan</td><td>1.7857889278591985</td><td>nan</td><td>0.0</td><td>nan</td><td>0.0</td><td>nan</td><td>210.59265927705974</td><td>nan</td><td>0</td><td>0.0</td><td>--</td><td>bottomleft</td></tr>\n",
       "</table></div>"
      ],
      "text/plain": [
       "<Table length=292>\n",
       "        Line Name                 Species               QNs         v   J$_u$ J$_l$     Frequency        Fitted Velocity   Fitted Velocity error ... Fitted Amplitude error K Integrated Intensity Integrated Intensity error        Jy/K               EU_K         deg           Aij           Flag   Corner  \n",
       "                                                                                           GHz                km / s               km / s        ...            K                   K km / s                K km / s                  K                  K                                                      \n",
       "          str25                    str23               str15      str21 str21 str21      float64             float64              float64        ...         float64                float64                 float64                float64            float64       int64        float64         str2   str10   \n",
       "------------------------- ----------------------- --------------- ----- ----- ----- ------------------ ------------------- --------------------- ... ------------------------ -------------------- -------------------------- ------------------ ------------------ ----- ---------------------- ---- ----------\n",
       "   23Na-37Clv=5-5 J=71-70  23Na-35Clv=1-1 J=18-17   v=1-1 J=18-17     1    18    17 232.50997700000002  18.584482828137993   0.39242962477471394 ...       10.497198360899494    1580.369722394729          70609.81623750836 15424.753223047466              625.7   592   0.005799999926239252   -d   topright\n",
       "   23Na-37Clv=5-5 J=71-70  23Na-35Clv=1-1 J=18-17   v=1-1 J=18-17     1    18    17 232.50997700000002   -7.85715892197685    0.2007623281166518 ...       11.118530861316987   1195.9624653248363          45215.99834601906 15424.753223047466              625.7   592   0.005799999926239252   -d bottomleft\n",
       "  41K-37Clv=9-9 J=128-127  23Na-35Clv=1-1 J=26-25   v=1-1 J=26-25     1    26    25         335.506563  17.757342301222224   0.31638893729432815 ...         72.1036358757138   247.16945085763822          46499.33572975234  18346.11307871118              737.2   848   0.017999999225139618   -d   topright\n",
       "  41K-37Clv=9-9 J=128-127  23Na-35Clv=1-1 J=26-25   v=1-1 J=26-25     1    26    25         335.506563  -5.107847127855931    134363.32084312206 ...        4409553235.621097   223.89994336586386         168689332370.44424  18346.11307871118              737.2   848   0.017999999225139618   -d bottomleft\n",
       "  39K-35Clv=6-6 J=119-118  23Na-35Clv=1-1 J=67-66   v=1-1 J=67-66     1    67    66         855.044806  11.641996108924817    0.5717922641497329 ...        4.555116657382651   186.87629541048915          5250.178410652555  204.5534199551512             1923.9  2160    0.30000001192092896   --   topright\n",
       "  39K-35Clv=6-6 J=119-118  23Na-35Clv=1-1 J=67-66   v=1-1 J=67-66     1    67    66         855.044806 -2.5898751328522893    1.9825989840926088 ...        2.126906514455866    398.8858981976525          21.26906514455866  204.5534199551512             1923.9  2160    0.30000001192092896   -- bottomleft\n",
       "  39K-37Clv=9-9 J=125-124  23Na-35Clv=2-2 J=17-16   v=2-2 J=17-16     2    17    16         217.980231  18.181899611723537    0.3111819086578002 ...        8.843178589430416   1281.2736890765266          55427.47514871008  2195.913917800106             1128.4   560   0.004900000058114529   -d   topright\n",
       "  39K-37Clv=9-9 J=125-124  23Na-35Clv=2-2 J=17-16   v=2-2 J=17-16     2    17    16         217.980231  -7.897521899244419    0.1713828331807574 ...       10.508610159124967    991.6718078704704          39448.85459026836  2195.913917800106             1128.4   560   0.004900000058114529   -d bottomleft\n",
       "   23Na-35Clv=4-4 J=69-68  23Na-35Clv=2-2 J=18-17   v=2-2 J=18-17     2    18    17         230.779167  18.721215885706656   0.35832759333379016 ...       10.046958670753423   1122.7237309395673         56054.283437901984 15293.376564054412             1139.5   592   0.005799999926239252   -d   topright\n",
       "   23Na-35Clv=4-4 J=69-68  23Na-35Clv=2-2 J=18-17   v=2-2 J=18-17     2    18    17         230.779167  -7.835659447465632    0.1785323819714216 ...       10.570213146206614   1030.3715206623092         38878.690438014484 15293.376564054412             1139.5   592   0.005799999926239252   -d bottomleft\n",
       "  39K-37Clv=4-4 J=121-120  23Na-35Clv=2-2 J=26-25   v=2-2 J=26-25     2    26    25         333.007291    17.1918081442434    2.6869431640740102 ...        22.04183217284454   1844.9443792210006         212113.49397985614 17167.047557388316             1250.2   848   0.017999999225139618   -d   topright\n",
       "  39K-37Clv=4-4 J=121-120  23Na-35Clv=2-2 J=26-25   v=2-2 J=26-25     2    26    25         333.007291 -10.450485582019358    1.7383979981111641 ...       32.118726342350335   426.82551213125055          94326.98621827303 17167.047557388316             1250.2   848   0.017999999225139618   -d bottomleft\n",
       "  41K-37Clv=4-4 J=124-123  23Na-35Clv=2-2 J=27-26   v=2-2 J=27-26     2    27    26         345.762037   19.77522186379421    0.6708358136346106 ...        68.28372406575001   236.16506432983599          61037.52498082572  19170.84069612643             1266.8   880   0.019999999552965164   cd   topright\n",
       "  41K-37Clv=4-4 J=124-123  23Na-35Clv=2-2 J=27-26   v=2-2 J=27-26     2    27    26         345.762037  -7.689057542223591                   nan ...                      nan    1.710344346566221                        nan  19170.84069612643             1266.8   880   0.019999999552965164   cd bottomleft\n",
       "41K-37Clv=10-10 J=129-128  23Na-35Clv=2-2 J=39-38   v=2-2 J=39-38     2    39    38         498.285025  10.478606069722336    0.4793108986492735 ...       2.1809036202733356      275.63028453477          6983.410635777247 369.20371608085946             1513.6  1264    0.05900000035762787   --   topright\n",
       "41K-37Clv=10-10 J=129-128  23Na-35Clv=2-2 J=39-38   v=2-2 J=39-38     2    39    38         498.285025    -5.3281677446826    0.5474356248326241 ...       2.0329531723586522   297.94782858574615          7436.577359139183 369.20371608085946             1513.6  1264    0.05900000035762787   -- bottomleft\n",
       "  41K-35Clv=1-1 J=118-117  23Na-35Clv=2-2 J=68-67   v=2-2 J=68-67     2    68    67         860.951073  17.475525182674808     8.902216434968224 ...        5.078922465755471    16.60033737004802          6474.644028504853 210.59265927705974             2469.4  2192     0.3100000023841858   --   topright\n",
       "  41K-35Clv=1-1 J=118-117  23Na-35Clv=2-2 J=68-67   v=2-2 J=68-67     2    68    67         860.951073  -6.766295048970615                   nan ...                      nan                  0.0                        nan 210.59265927705974             2469.4  2192     0.3100000023841858   -- bottomleft\n",
       "   23Na-37Clv=3-3 J=70-69  23Na-35Clv=3-3 J=68-67   v=3-3 J=68-67     3    68    67           854.4808  15.815966440235137   0.16164347643739252 ...        9.433628174397127    74.52078258663227         2538.4382890852844  204.5534199551512             2968.2  2192    0.30000001192092896   --   topright\n",
       "   23Na-37Clv=3-3 J=70-69  23Na-35Clv=3-3 J=68-67   v=3-3 J=68-67     3    68    67           854.4808  -8.575938356410374     0.384437111510976 ...        9.806753961634495    35.47211122064796         2754.1303664216084  204.5534199551512             2968.2  2192    0.30000001192092896   -- bottomleft\n",
       "  39K-35Clv=2-2 J=116-115    23Na-35Clv=3-3 J=7-6     v=3-3 J=7-6     3     7     6  89.15010799999999  19.422351565942456    0.8395732691889323 ...       25.558517552895783    929.9319372834947          319957.0151475049 19695.147978700974             1561.0   240 0.00033000000985339284   -d   topright\n",
       "  39K-35Clv=2-2 J=116-115    23Na-35Clv=3-3 J=7-6     v=3-3 J=7-6     3     7     6  89.15010799999999  -7.910414723721954     0.419540416919975 ...       17.604982064183282    626.8446920443778         177000.27270748658 19695.147978700974             1561.0   240 0.00033000000985339284   -d bottomleft\n",
       "  41K-35Clv=6-6 J=122-121  23Na-35Clv=4-4 J=69-68   v=4-4 J=69-68     4    69    68         860.174289   19.35918806348324                   nan ...                      nan                  0.0                        nan 210.59265927705974             3503.5  2224     0.3100000023841858   --   topright\n",
       "  41K-35Clv=6-6 J=122-121  23Na-35Clv=4-4 J=69-68   v=4-4 J=69-68     4    69    68         860.174289  -3.886625926003485   0.10608487305530939 ...        7.809752617330289    517.7401328828934          4899.190974241258 210.59265927705974             3503.5  2224     0.3100000023841858   -- bottomleft\n",
       "39K-37Clv=10-10 J=126-125    23Na-35Clv=4-4 J=7-6     v=4-4 J=7-6     4     7     6  88.48549000000001   19.81846173153781    0.8266709717170311 ...        29.93680461985312    686.6291813087993          323582.4269839137 19695.147978700974             2065.5   240 0.00031999999191612005   -d   topright\n",
       "39K-37Clv=10-10 J=126-125    23Na-35Clv=4-4 J=7-6     v=4-4 J=7-6     4     7     6  88.48549000000001  -7.929853407710313    0.5619002892975187 ...        13.06097334155151    885.5772514976484          185319.9079993923 19695.147978700974             2065.5   240 0.00031999999191612005   -d bottomleft\n",
       "   23Na-35Clv=2-2 J=68-67    23Na-35Clv=4-4 J=8-7     v=4-4 J=8-7     4     8     7         101.121833   19.89874147091607   0.48315687314840455 ...       13.114343874916882    923.8284733013437         153990.40910619104 25535.581162507588             2070.4   272  0.0004799999878741801   -d   topright\n",
       "   23Na-35Clv=2-2 J=68-67    23Na-35Clv=4-4 J=8-7     v=4-4 J=8-7     4     8     7         101.121833  -7.710492790826752    0.4879521618317128 ...       16.240404807120463    846.7597295537149         164037.58321206292 25535.581162507588             2070.4   272  0.0004799999878741801   -d bottomleft\n",
       "  39K-35Clv=7-7 J=120-119  23Na-35Clv=5-5 J=69-68   v=5-5 J=69-68     5    69    68         853.696257  16.305692938098662     2.497847999645575 ...       1.9947565973081083    291.7895812315495         19.947565973081083  204.5534199551512             3992.4  2224     0.3100000023841858   --   topright\n",
       "  39K-35Clv=7-7 J=120-119  23Na-35Clv=5-5 J=69-68   v=5-5 J=69-68     5    69    68         853.696257 -26.273327643407477    1.6747204561715945 ...        4.106586689987749    928.6282919726068         41.065866899877484  204.5534199551512             3992.4  2224     0.3100000023841858   -- bottomleft\n",
       "  39K-37Clv=0-0 J=118-117    23Na-35Clv=5-5 J=7-6     v=5-5 J=7-6     5     7     6           87.82519  18.121090379890596     1.425839624551865 ...         17.4316350300606   1805.3903384360783          492869.8633789943 19695.147978700974             2565.2   240 0.00031999999191612005   -d   topright\n",
       "  39K-37Clv=0-0 J=118-117    23Na-35Clv=5-5 J=7-6     v=5-5 J=7-6     5     7     6           87.82519  -8.005670789851164    0.7359382293817014 ...       14.806103405520698    489.8290576826219         173675.51942581098 19695.147978700974             2565.2   240 0.00031999999191612005   -d bottomleft\n",
       "                      ...                     ...             ...   ...   ...   ...                ...                 ...                   ... ...                      ...                  ...                        ...                ...                ...   ...                    ...  ...        ...\n",
       "  41K-35Clv=2-2 J=118-117   41K-37Clv=1-1 J=69-68   v=1-1 J=69-68     1    69    68 496.37943355859494  -9.199295924491137    1.2163620340834884 ...        4.111524223696804   22.715392244207585          4369.097256850541  368.7767356214201  1225.859223845165  2224               0.077157   -- bottomleft\n",
       "  39K-35Clv=3-3 J=116-115 39K-35Clv=7-7 J=119-118 v=7-7 J=119-118     7   119   118  854.2306061806354   31.06694175252407     2.647421656235124 ...       2.2219443648788912    349.2423686522283          22.21944364878891  204.5534199551512  5215.328056246716  3824                0.43244   --   topright\n",
       "  39K-35Clv=3-3 J=116-115 39K-35Clv=7-7 J=119-118 v=7-7 J=119-118     7   119   118  854.2306061806354  0.9533961816564076     3.668494928615661 ...       3.1512058788777564    125.7718000626781          9936.604835996146  204.5534199551512  5215.328056246716  3824                0.43244   -- bottomleft\n",
       "  41K-35Clv=7-7 J=122-121                                          ????     ?     ?  860.5138468564697  18.838923006655776   0.14580174379391955 ...                      nan  0.36589935241359817                        nan 210.59265927705974                nan     0                    0.0   --   topright\n",
       "  41K-35Clv=7-7 J=122-121                                          ????     ?     ?  860.5138468564697  -5.648785583977781    1.2607954222930282 ...        5.343980089812994    135.8572093215859          7154.017006884323 210.59265927705974                nan     0                    0.0   -- bottomleft\n",
       "     23Na-35Clv=6-6 J=8-7                                          ????     ?     ?  483.2863987724297  22.751179018193852    2.4752902141720705 ...        4.457531391901314   46.574198819698196          9544.109966094162 363.52721709872577                nan     0                    0.0   --   topright\n",
       "     23Na-35Clv=6-6 J=8-7                                          ????     ?     ?  483.2863987724297  -7.203214107512045    0.4105451197627802 ...        7.559515832659396    44.45040500972592          4945.060444252749 363.52721709872577                nan     0                    0.0   -- bottomleft\n",
       "     23Na-37Clv=3-3 J=8-7                                          ????     ?     ?  496.6540874054266  17.934122806680357    0.8402374663516808 ...       4.2798891307306866    27.93599903544949          4106.352571939473  368.7767356214201                nan     0                    0.0   --   topright\n",
       "     23Na-37Clv=3-3 J=8-7                                          ????     ?     ?  496.6540874054266  -8.208822776704816                   nan ...                      nan                  0.0                        nan  368.7767356214201                nan     0                    0.0   -- bottomleft\n",
       "    39K-35Clv=0-0 J=13-12   41K-37Clv=3-3 J=68-67   v=3-3 J=68-67     3    68    67 483.40743439415655  18.734675980772543   0.30265050435723645 ...        8.903489011931924    47.77491890316534          4775.805751443428 363.52721709872577 1960.4659092591098  2192               0.072853   --   topright\n",
       "    39K-35Clv=0-0 J=13-12   41K-37Clv=3-3 J=68-67   v=3-3 J=68-67     3    68    67 483.40743439415655 -12.574943648898172   0.34190740234851247 ...        7.692989246684207   50.617898027687396          4856.871612663761 363.52721709872577 1960.4659092591098  2192               0.072853   -- bottomleft\n",
       "     23Na-35Clv=5-5 J=8-7   41K-37Clv=3-3 J=70-69   v=3-3 J=70-69     3    70    69  497.3983936400145  18.994098298943126    0.2809359522944617 ...       1.2985762542687844   1673.5219395253016         12.985762542687844  368.7767356214201 2007.8701800735255  2256               0.079427   --   topright\n",
       "     23Na-35Clv=5-5 J=8-7   41K-37Clv=3-3 J=70-69   v=3-3 J=70-69     3    70    69  497.3983936400145  2.0161652765907894   0.23091671530805655 ...       1.3709082381093551   2363.7234968130697         13.709082381093552  368.7767356214201 2007.8701800735255  2256               0.079427   -- bottomleft\n",
       "     23Na-37Clv=2-2 J=8-7 41K-37Clv=4-4 J=121-120 v=4-4 J=121-120     4   121   120  840.7082482459376   2.572030526417282    0.4711995254337321 ...       3.1699932041217944   2484.4106403018236         19764.803769307717  210.5920756176534  4027.748829014081  3888                0.39724   --   topright\n",
       "     23Na-37Clv=2-2 J=8-7 41K-37Clv=4-4 J=121-120 v=4-4 J=121-120     4   121   120  840.7082482459376 -3.6092907533459844    0.1285643304395929 ...        5.775111305021459    754.6033300593626         5728.8331671781525  210.5920756176534  4027.748829014081  3888                0.39724   -- bottomleft\n",
       "     23Na-35Clv=4-4 J=8-7 41K-37Clv=4-4 J=123-122 v=4-4 J=123-122     4   123   122  853.8957151556592   16.75948955008383    1.9697769325862142 ...       1.9935823391921794    369.1958724906425         19.935823391921794  204.5534199551512  4109.389450096305  3952                 0.4167   --   topright\n",
       "     23Na-35Clv=4-4 J=8-7 41K-37Clv=4-4 J=123-122 v=4-4 J=123-122     4   123   122  853.8957151556592  -7.483901983106129    1.2157621697088468 ...        4.466461146524786   118.90079996966755          6054.803687856039  204.5534199551512  4109.389450096305  3952                 0.4167   -- bottomleft\n",
       "     23Na-37Clv=1-1 J=8-7 41K-37Clv=4-4 J=124-123 v=4-4 J=124-123     4   124   123  860.4763123689665  19.480928922808964                   nan ...                      nan                  0.0                        nan 210.59265927705974  4150.683689581435  3984                0.42665   --   topright\n",
       "     23Na-37Clv=1-1 J=8-7 41K-37Clv=4-4 J=124-123 v=4-4 J=124-123     4   124   123  860.4763123689665  -7.417748527722665                   nan ...                      nan                  0.0                        nan 210.59265927705974  4150.683689581435  3984                0.42665   -- bottomleft\n",
       "    39K-35Clv=4-4 J=29-28 41K-35Clv=2-2 J=118-117 v=2-2 J=118-117     2   118   117   855.171306484451  25.393079705166237    1.8061444478114579 ...       3.9837458712874954    88.42360307220251          6001.192049503846  204.5534199551512  3256.960485778421  3792                0.40858   --   topright\n",
       "    39K-35Clv=4-4 J=29-28 41K-35Clv=2-2 J=118-117 v=2-2 J=118-117     2   118   117   855.171306484451 -10.142608079960697   0.25528431103783256 ...         4.17212121449905    692.6743485435586         6462.6958360524595  204.5534199551512  3256.960485778421  3792                0.40858   -- bottomleft\n",
       "    41K-35Clv=0-0 J=29-28   41K-37Clv=5-5 J=69-68   v=5-5 J=69-68     5    69    68   484.482341519859  19.467702137859376                   nan ...                      nan                  0.0                        nan 363.52721709872577  2729.501755494049  2224               0.075039   --   topright\n",
       "    41K-35Clv=0-0 J=29-28   41K-37Clv=5-5 J=69-68   v=5-5 J=69-68     5    69    68   484.482341519859  -7.387562038781616                   nan ...                      nan                  0.0                        nan 363.52721709872577  2729.501755494049  2224               0.075039   -- bottomleft\n",
       "   23Na-35Clv=2-2 J=17-16  23Na-35Clv=2-2 J=39-38   v=2-2 J=39-38     2    39    38  498.2919461288723  14.635991439750223    0.4768815532919973 ...        2.179824264867434   275.15809802883683          6906.732050200814 369.20371608085946             1513.6  1264    0.05900000035762787   --   topright\n",
       "   23Na-35Clv=2-2 J=17-16  23Na-35Clv=2-2 J=39-38   v=2-2 J=39-38     2    39    38  498.2919461288723  -1.202879497284767     0.538020949499629 ...         2.05485228960517    294.7560821939776          7398.851519869664 369.20371608085946             1513.6  1264    0.05900000035762787   -- bottomleft\n",
       "    39K-35Clv=3-3 J=29-28   41K-37Clv=7-7 J=48-47   v=7-7 J=48-47     7    48    47  334.3279083237932   18.82600780983552                   nan ...                      nan                  0.0                        nan  18346.11307871118 3049.3241362373146  1552                0.02501   cd   topright\n",
       "    39K-35Clv=3-3 J=29-28   41K-37Clv=7-7 J=48-47   v=7-7 J=48-47     7    48    47  334.3279083237932   -5.59165412786988   0.44413522405218536 ...        62.18484908787475   164.79071609197817         32603.225051643734  18346.11307871118 3049.3241362373146  1552                0.02501   cd bottomleft\n",
       "   23Na-35Clv=2-2 J=26-25   41K-37Clv=8-8 J=72-71   v=8-8 J=72-71     8    72    71  496.0192642815462  17.467040255239716    0.5282582453604494 ...        2.622551569497179   193.62345249677847         6718.5267354077005  368.7767356214201  3894.936465524565  2320               0.083404   --   topright\n",
       "   23Na-35Clv=2-2 J=26-25   41K-37Clv=8-8 J=72-71   v=8-8 J=72-71     8    72    71  496.0192642815462  3.3183394767677323   0.44603521208586255 ...          2.5241949440745    273.4457326363798          7325.032344053868  368.7767356214201  3894.936465524565  2320               0.083404   -- bottomleft\n",
       "    39K-35Clv=2-2 J=44-43                                          ????     ?     ?  840.5529237409254  18.859291401763034                   nan ...                      nan                  0.0                        nan  210.5920756176534                nan     0                    0.0   --   topright\n",
       "    39K-35Clv=2-2 J=44-43                                          ????     ?     ?  840.5529237409254  -8.053643738383021                   nan ...                      nan                  0.0                        nan  210.5920756176534                nan     0                    0.0   -- bottomleft\n",
       "   23Na-37Clv=4-4 J=27-26                                          ????     ?     ?  859.5815555579181  15.390999016379936    13034.201339404855 ...       115714811.29238111   11.366345551722079          813010845.7933921 210.59265927705974                nan     0                    0.0   --   topright\n",
       "   23Na-37Clv=4-4 J=27-26                                          ????     ?     ?  859.5815555579181  -7.661345134490568                   nan ...                      nan                  0.0                        nan 210.59265927705974                nan     0                    0.0   -- bottomleft"
      ]
     },
     "execution_count": 190,
     "metadata": {},
     "output_type": "execute_result"
    }
   ],
   "source": [
    "tbl1"
   ]
  },
  {
   "cell_type": "code",
   "execution_count": 164,
   "id": "a4d33ee5-60ca-45e6-8e51-58c2e5b3cf05",
   "metadata": {},
   "outputs": [
    {
     "data": {
      "text/html": [
       "<div><i>Table length=13</i>\n",
       "<table id=\"table47211786778800\" class=\"table-striped table-bordered table-condensed\">\n",
       "<thead><tr><th>Line Name</th><th>Species</th><th>QNs</th><th>v</th><th>J$_u$</th><th>J$_l$</th><th>Frequency</th><th>Fitted Velocity</th><th>Fitted Velocity error</th><th>Fitted Width</th><th>Fitted Width error</th><th>Fitted Amplitude K</th><th>Fitted Amplitude error K</th><th>Integrated Intensity</th><th>Integrated Intensity error</th><th>Jy/K</th><th>EU_K</th><th>deg</th><th>Aij</th><th>Flag</th><th>Corner</th></tr></thead>\n",
       "<thead><tr><th></th><th></th><th></th><th></th><th></th><th></th><th>GHz</th><th>km / s</th><th>km / s</th><th>km / s</th><th>km / s</th><th>K</th><th>K</th><th>K km / s</th><th>K km / s</th><th>Jy / K</th><th>K</th><th></th><th></th><th></th><th></th></tr></thead>\n",
       "<thead><tr><th>str22</th><th>str22</th><th>str13</th><th>int64</th><th>int64</th><th>int64</th><th>float64</th><th>float64</th><th>float64</th><th>float64</th><th>float64</th><th>float64</th><th>float64</th><th>float64</th><th>float64</th><th>float64</th><th>float64</th><th>int64</th><th>float64</th><th>str2</th><th>str10</th></tr></thead>\n",
       "<tr><td>23Na-35Clv=1-1 J=18-17</td><td>23Na-35Clv=1-1 J=18-17</td><td>v=1-1 J=18-17</td><td>1</td><td>18</td><td>17</td><td>232.50997700000002</td><td>-7.85715892197685</td><td>0.2007623281166518</td><td>2.7314730414439135</td><td>258.85784378722855</td><td>174.67497791557702</td><td>11.118530861316987</td><td>1195.9624653248363</td><td>45215.99834601906</td><td>15424.753223047466</td><td>625.7</td><td>592</td><td>0.005799999926239252</td><td>-d</td><td>bottomleft</td></tr>\n",
       "<tr><td>23Na-35Clv=1-1 J=26-25</td><td>23Na-35Clv=1-1 J=26-25</td><td>v=1-1 J=26-25</td><td>1</td><td>26</td><td>25</td><td>335.506563</td><td>-5.107847127855931</td><td>134363.32084312206</td><td>0.20058038479531734</td><td>378796589.6176161</td><td>445.3234750710014</td><td>4409553235.621097</td><td>223.89994336586386</td><td>168689332370.44424</td><td>18346.11307871118</td><td>737.2</td><td>848</td><td>0.017999999225139618</td><td>-d</td><td>bottomleft</td></tr>\n",
       "<tr><td>23Na-35Clv=2-2 J=17-16</td><td>23Na-35Clv=2-2 J=17-16</td><td>v=2-2 J=17-16</td><td>2</td><td>17</td><td>16</td><td>217.980231</td><td>-7.897521899244419</td><td>0.1713828331807574</td><td>2.363821254360092</td><td>235.70614898674367</td><td>167.36452120139467</td><td>10.508610159124967</td><td>991.6718078704704</td><td>39448.85459026836</td><td>2195.913917800106</td><td>1128.4</td><td>560</td><td>0.004900000058114529</td><td>-d</td><td>bottomleft</td></tr>\n",
       "<tr><td>23Na-35Clv=2-2 J=18-17</td><td>23Na-35Clv=2-2 J=18-17</td><td>v=2-2 J=18-17</td><td>2</td><td>18</td><td>17</td><td>230.779167</td><td>-7.835659447465632</td><td>0.1785323819714216</td><td>2.45207348483414</td><td>231.92154768620927</td><td>167.63721261050134</td><td>10.570213146206614</td><td>1030.3715206623092</td><td>38878.690438014484</td><td>15293.376564054412</td><td>1139.5</td><td>592</td><td>0.005799999926239252</td><td>-d</td><td>bottomleft</td></tr>\n",
       "<tr><td>23Na-35Clv=2-2 J=26-25</td><td>23Na-35Clv=2-2 J=26-25</td><td>v=2-2 J=26-25</td><td>2</td><td>26</td><td>25</td><td>333.007291</td><td>-10.450485582019358</td><td>1.7383979981111641</td><td>2.8251456986497123</td><td>1565.0065954163351</td><td>60.27255274817712</td><td>32.118726342350335</td><td>426.82551213125055</td><td>94326.98621827303</td><td>17167.047557388316</td><td>1250.2</td><td>848</td><td>0.017999999225139618</td><td>-d</td><td>bottomleft</td></tr>\n",
       "<tr><td>23Na-35Clv=2-2 J=27-26</td><td>23Na-35Clv=2-2 J=27-26</td><td>v=2-2 J=27-26</td><td>2</td><td>27</td><td>26</td><td>345.762037</td><td>-7.704230099177396</td><td>516003916.171508</td><td>0.05398340412384403</td><td>0.0</td><td>12.639602862182542</td><td>nan</td><td>1.7103446357891863</td><td>nan</td><td>19170.840696126437</td><td>1266.8</td><td>880</td><td>0.019999999552965164</td><td>cd</td><td>bottomleft</td></tr>\n",
       "<tr><td>23Na-35Clv=3-3 J=7-6</td><td>23Na-35Clv=3-3 J=7-6</td><td>v=3-3 J=7-6</td><td>3</td><td>7</td><td>6</td><td>89.15010799999999</td><td>-7.910414723721954</td><td>0.419540416919975</td><td>2.415189175060138</td><td>1709.4447072542516</td><td>103.5425520634387</td><td>17.604982064183282</td><td>626.8446920443778</td><td>177000.27270748658</td><td>19695.147978700974</td><td>1561.0</td><td>240</td><td>0.00033000000985339284</td><td>-d</td><td>bottomleft</td></tr>\n",
       "<tr><td>23Na-35Clv=4-4 J=7-6</td><td>23Na-35Clv=4-4 J=7-6</td><td>v=4-4 J=7-6</td><td>4</td><td>7</td><td>6</td><td>88.48549000000001</td><td>-7.929853407710313</td><td>0.5619002892975187</td><td>3.627696651893257</td><td>1902.9023749381668</td><td>97.38802388554853</td><td>13.06097334155151</td><td>885.5772514976484</td><td>185319.9079993923</td><td>19695.147978700974</td><td>2065.5</td><td>240</td><td>0.00031999999191612005</td><td>-d</td><td>bottomleft</td></tr>\n",
       "<tr><td>23Na-35Clv=4-4 J=8-7</td><td>23Na-35Clv=4-4 J=8-7</td><td>v=4-4 J=8-7</td><td>4</td><td>8</td><td>7</td><td>101.121833</td><td>-7.710492790826752</td><td>0.4879521618317128</td><td>2.9603309421843456</td><td>1437.5181828243217</td><td>114.11165307450396</td><td>16.240404807120463</td><td>846.7597295537149</td><td>164037.58321206292</td><td>25535.581162507588</td><td>2070.4</td><td>272</td><td>0.0004799999878741801</td><td>-d</td><td>bottomleft</td></tr>\n",
       "<tr><td>23Na-35Clv=5-5 J=7-6</td><td>23Na-35Clv=5-5 J=7-6</td><td>v=5-5 J=7-6</td><td>5</td><td>7</td><td>6</td><td>87.82519</td><td>-8.005670789851164</td><td>0.7359382293817014</td><td>2.9276155021739174</td><td>2601.944450186565</td><td>66.74835583213871</td><td>14.806103405520698</td><td>489.8290576826219</td><td>173675.51942581098</td><td>19695.147978700974</td><td>2565.2</td><td>240</td><td>0.00031999999191612005</td><td>-d</td><td>bottomleft</td></tr>\n",
       "<tr><td>23Na-35Clv=5-5 J=8-7</td><td>23Na-35Clv=5-5 J=8-7</td><td>v=5-5 J=8-7</td><td>5</td><td>8</td><td>7</td><td>100.367215</td><td>-9.477315256865255</td><td>0.8184047761818612</td><td>3.7054513101538307</td><td>2444.461339764095</td><td>76.3549943171081</td><td>14.604559819933108</td><td>709.1996201666581</td><td>186646.83955135956</td><td>25535.581162507588</td><td>2570.0</td><td>272</td><td>0.0004799999878741801</td><td>-d</td><td>bottomleft</td></tr>\n",
       "<tr><td>23Na-35Clv=6-6 J=7-6</td><td>23Na-35Clv=6-6 J=7-6</td><td>v=6-6 J=7-6</td><td>6</td><td>7</td><td>6</td><td>87.169205</td><td>-10.196390094375769</td><td>59358.00885421362</td><td>0.7917637792278122</td><td>2521248409.407417</td><td>354.8589663717887</td><td>1473885087.9429615</td><td>704.273500479027</td><td>894688365585.3496</td><td>21850.542570673464</td><td>3060.0</td><td>240</td><td>0.00031999999191612005</td><td>-d</td><td>bottomleft</td></tr>\n",
       "<tr><td>23Na-35Clv=6-6 J=8-7</td><td>23Na-35Clv=6-6 J=8-7</td><td>v=6-6 J=8-7</td><td>6</td><td>8</td><td>7</td><td>99.61753</td><td>-9.810341606933845</td><td>0.8869221229680755</td><td>1.8497102487860388</td><td>2542.8718250504958</td><td>57.13556619739875</td><td>21.809630120699936</td><td>264.91111009637194</td><td>145288.42709238164</td><td>25535.581162507588</td><td>3064.8</td><td>272</td><td>0.0004799999878741801</td><td>-d</td><td>bottomleft</td></tr>\n",
       "</table></div>"
      ],
      "text/plain": [
       "<Table length=13>\n",
       "      Line Name               Species              QNs        v   J$_u$ J$_l$     Frequency        Fitted Velocity   Fitted Velocity error     Fitted Width    ... Fitted Amplitude error K Integrated Intensity Integrated Intensity error        Jy/K          EU_K   deg           Aij           Flag   Corner  \n",
       "                                                                                     GHz                km / s               km / s               km / s       ...            K                   K km / s                K km / s                Jy / K          K                                                \n",
       "        str22                  str22              str13     int64 int64 int64      float64             float64              float64              float64       ...         float64                float64                 float64                float64       float64 int64        float64         str2   str10   \n",
       "---------------------- ---------------------- ------------- ----- ----- ----- ------------------ ------------------- --------------------- ------------------- ... ------------------------ -------------------- -------------------------- ------------------ ------- ----- ---------------------- ---- ----------\n",
       "23Na-35Clv=1-1 J=18-17 23Na-35Clv=1-1 J=18-17 v=1-1 J=18-17     1    18    17 232.50997700000002   -7.85715892197685    0.2007623281166518  2.7314730414439135 ...       11.118530861316987   1195.9624653248363          45215.99834601906 15424.753223047466   625.7   592   0.005799999926239252   -d bottomleft\n",
       "23Na-35Clv=1-1 J=26-25 23Na-35Clv=1-1 J=26-25 v=1-1 J=26-25     1    26    25         335.506563  -5.107847127855931    134363.32084312206 0.20058038479531734 ...        4409553235.621097   223.89994336586386         168689332370.44424  18346.11307871118   737.2   848   0.017999999225139618   -d bottomleft\n",
       "23Na-35Clv=2-2 J=17-16 23Na-35Clv=2-2 J=17-16 v=2-2 J=17-16     2    17    16         217.980231  -7.897521899244419    0.1713828331807574   2.363821254360092 ...       10.508610159124967    991.6718078704704          39448.85459026836  2195.913917800106  1128.4   560   0.004900000058114529   -d bottomleft\n",
       "23Na-35Clv=2-2 J=18-17 23Na-35Clv=2-2 J=18-17 v=2-2 J=18-17     2    18    17         230.779167  -7.835659447465632    0.1785323819714216    2.45207348483414 ...       10.570213146206614   1030.3715206623092         38878.690438014484 15293.376564054412  1139.5   592   0.005799999926239252   -d bottomleft\n",
       "23Na-35Clv=2-2 J=26-25 23Na-35Clv=2-2 J=26-25 v=2-2 J=26-25     2    26    25         333.007291 -10.450485582019358    1.7383979981111641  2.8251456986497123 ...       32.118726342350335   426.82551213125055          94326.98621827303 17167.047557388316  1250.2   848   0.017999999225139618   -d bottomleft\n",
       "23Na-35Clv=2-2 J=27-26 23Na-35Clv=2-2 J=27-26 v=2-2 J=27-26     2    27    26         345.762037  -7.704230099177396      516003916.171508 0.05398340412384403 ...                      nan   1.7103446357891863                        nan 19170.840696126437  1266.8   880   0.019999999552965164   cd bottomleft\n",
       "  23Na-35Clv=3-3 J=7-6   23Na-35Clv=3-3 J=7-6   v=3-3 J=7-6     3     7     6  89.15010799999999  -7.910414723721954     0.419540416919975   2.415189175060138 ...       17.604982064183282    626.8446920443778         177000.27270748658 19695.147978700974  1561.0   240 0.00033000000985339284   -d bottomleft\n",
       "  23Na-35Clv=4-4 J=7-6   23Na-35Clv=4-4 J=7-6   v=4-4 J=7-6     4     7     6  88.48549000000001  -7.929853407710313    0.5619002892975187   3.627696651893257 ...        13.06097334155151    885.5772514976484          185319.9079993923 19695.147978700974  2065.5   240 0.00031999999191612005   -d bottomleft\n",
       "  23Na-35Clv=4-4 J=8-7   23Na-35Clv=4-4 J=8-7   v=4-4 J=8-7     4     8     7         101.121833  -7.710492790826752    0.4879521618317128  2.9603309421843456 ...       16.240404807120463    846.7597295537149         164037.58321206292 25535.581162507588  2070.4   272  0.0004799999878741801   -d bottomleft\n",
       "  23Na-35Clv=5-5 J=7-6   23Na-35Clv=5-5 J=7-6   v=5-5 J=7-6     5     7     6           87.82519  -8.005670789851164    0.7359382293817014  2.9276155021739174 ...       14.806103405520698    489.8290576826219         173675.51942581098 19695.147978700974  2565.2   240 0.00031999999191612005   -d bottomleft\n",
       "  23Na-35Clv=5-5 J=8-7   23Na-35Clv=5-5 J=8-7   v=5-5 J=8-7     5     8     7         100.367215  -9.477315256865255    0.8184047761818612  3.7054513101538307 ...       14.604559819933108    709.1996201666581         186646.83955135956 25535.581162507588  2570.0   272  0.0004799999878741801   -d bottomleft\n",
       "  23Na-35Clv=6-6 J=7-6   23Na-35Clv=6-6 J=7-6   v=6-6 J=7-6     6     7     6          87.169205 -10.196390094375769     59358.00885421362  0.7917637792278122 ...       1473885087.9429615     704.273500479027          894688365585.3496 21850.542570673464  3060.0   240 0.00031999999191612005   -d bottomleft\n",
       "  23Na-35Clv=6-6 J=8-7   23Na-35Clv=6-6 J=8-7   v=6-6 J=8-7     6     8     7           99.61753  -9.810341606933845    0.8869221229680755  1.8497102487860388 ...       21.809630120699936   264.91111009637194         145288.42709238164 25535.581162507588  3064.8   272  0.0004799999878741801   -d bottomleft"
      ]
     },
     "execution_count": 164,
     "metadata": {},
     "output_type": "execute_result"
    }
   ],
   "source": [
    "tbl1[naclmask]"
   ]
  },
  {
   "cell_type": "code",
   "execution_count": 143,
   "id": "65f0d9e7-da26-45ab-a5e3-26c8c86413d7",
   "metadata": {},
   "outputs": [
    {
     "data": {
      "text/html": [
       "<div><i>Table length=63</i>\n",
       "<table id=\"table47212304304544\" class=\"table-striped table-bordered table-condensed\">\n",
       "<thead><tr><th>Line Name</th><th>v</th><th>J$_u$</th><th>J$_l$</th><th>Frequency</th><th>Fitted Velocity</th><th>Fitted Velocity error</th><th>Fitted Width</th><th>Fitted Width error</th><th>Fitted Amplitude K</th><th>Fitted Amplitude error K</th><th>Integrated Intensity</th><th>Integrated Intensity error</th><th>EU_K</th><th>Flag</th><th>Corner</th></tr></thead>\n",
       "<thead><tr><th>str22</th><th>int64</th><th>int64</th><th>int64</th><th>float64</th><th>float64</th><th>float64</th><th>float64</th><th>float64</th><th>float64</th><th>float64</th><th>float64</th><th>float64</th><th>float64</th><th>str2</th><th>str10</th></tr></thead>\n",
       "<tr><td>23Na-37Clv=5-5 J=7-6</td><td>5</td><td>7</td><td>6</td><td>85.981669</td><td>-9.513139906523481</td><td>3.4133269397470984</td><td>10.0</td><td>0.0</td><td>53.536137306195215</td><td>12.629558446750943</td><td>1341.9519548623643</td><td>126.29558446750943</td><td>2538.2</td><td>-d</td><td>bottomleft</td></tr>\n",
       "<tr><td>23Na-37Clv=4-4 J=7-6</td><td>4</td><td>7</td><td>6</td><td>86.62108500000001</td><td>-8.871477212601047</td><td>1.702912927744132</td><td>2.8336779009247963</td><td>5728.642849022033</td><td>55.80678723742968</td><td>28.565291004537055</td><td>396.3943344315142</td><td>319697.16288189683</td><td>2043.6</td><td>-d</td><td>bottomleft</td></tr>\n",
       "<tr><td>23Na-35Clv=6-6 J=7-6</td><td>6</td><td>7</td><td>6</td><td>87.169205</td><td>-10.196390094375769</td><td>59358.00885421362</td><td>0.7917637792278122</td><td>2521248409.407417</td><td>354.8589663717887</td><td>1473885087.9429615</td><td>704.273500479027</td><td>894688365585.3496</td><td>3060.0</td><td>-d</td><td>bottomleft</td></tr>\n",
       "<tr><td>23Na-37Clv=3-3 J=7-6</td><td>3</td><td>7</td><td>6</td><td>87.264636</td><td>-8.230176438800711</td><td>3.7751653596416364</td><td>1.5078851722276325</td><td>19013.62710180957</td><td>71.28788440574445</td><td>296.7372071414251</td><td>269.4473590182884</td><td>1355441.3248210198</td><td>1544.3</td><td>-d</td><td>bottomleft</td></tr>\n",
       "<tr><td>23Na-35Clv=5-5 J=7-6</td><td>5</td><td>7</td><td>6</td><td>87.82519</td><td>-8.005670789851164</td><td>0.7359382293817014</td><td>2.9276155021739174</td><td>2601.944450186565</td><td>66.74835583213871</td><td>14.806103405520698</td><td>489.8290576826219</td><td>173675.51942581098</td><td>2565.2</td><td>-d</td><td>bottomleft</td></tr>\n",
       "<tr><td>23Na-37Clv=2-2 J=7-6</td><td>2</td><td>7</td><td>6</td><td>87.912322</td><td>-7.603871970924776</td><td>0.5546519766521513</td><td>2.9171578041854067</td><td>1899.6940634180742</td><td>88.76414186789776</td><td>14.644525403494526</td><td>649.0638418199321</td><td>168624.71876236456</td><td>1040.1</td><td>-d</td><td>bottomleft</td></tr>\n",
       "<tr><td>39K-37Clv=3-3 J=12-11</td><td>3</td><td>12</td><td>11</td><td>88.00522799634737</td><td>-10.010842579260963</td><td>4.420129497943736</td><td>10.0</td><td>0.0</td><td>21.473802567534293</td><td>6.477650144496755</td><td>538.2684067962523</td><td>64.77650144496755</td><td>1198.3185577897405</td><td>-d</td><td>bottomleft</td></tr>\n",
       "<tr><td>23Na-35Clv=4-4 J=7-6</td><td>4</td><td>7</td><td>6</td><td>88.48549000000001</td><td>-7.929853407710313</td><td>0.5619002892975187</td><td>3.627696651893257</td><td>1902.9023749381668</td><td>97.38802388554853</td><td>13.06097334155151</td><td>885.5772514976484</td><td>185319.9079993923</td><td>2065.5</td><td>-d</td><td>bottomleft</td></tr>\n",
       "<tr><td>39K-37Clv=2-2 J=12-11</td><td>2</td><td>12</td><td>11</td><td>88.54307479723201</td><td>-8.298867972486493</td><td>1.2104385462525635</td><td>2.5050475326821604</td><td>3645.823234082513</td><td>38.729181940814215</td><td>15.04379171425613</td><td>243.18916903470608</td><td>141199.75638584085</td><td>811.492120004998</td><td>-d</td><td>bottomleft</td></tr>\n",
       "<tr><td>23Na-37Clv=1-1 J=7-6</td><td>1</td><td>7</td><td>6</td><td>88.564146</td><td>-7.661137938361862</td><td>0.6348560676708368</td><td>4.035779043941522</td><td>2149.020981785653</td><td>90.87127449892031</td><td>12.379585001231064</td><td>919.2717927765752</td><td>195284.28193079564</td><td>531.1</td><td>-d</td><td>bottomleft</td></tr>\n",
       "<tr><td>41K-35Clv=2-2 J=12-11</td><td>2</td><td>12</td><td>11</td><td>89.03129264798301</td><td>-7.940859846405194</td><td>nan</td><td>0.11709807490052701</td><td>nan</td><td>14.85366526961448</td><td>nan</td><td>4.359867814808898</td><td>nan</td><td>813.7920991256196</td><td>-d</td><td>bottomleft</td></tr>\n",
       "<tr><td>39K-37Clv=1-1 J=12-11</td><td>1</td><td>12</td><td>11</td><td>89.08291930014218</td><td>-7.669455222414991</td><td>115416.86329707631</td><td>0.7488859255287725</td><td>4649607130.92669</td><td>372.88165980567595</td><td>3310752468.304612</td><td>699.9654853210582</td><td>1733754997254.9385</td><td>421.3815995324984</td><td>-d</td><td>bottomleft</td></tr>\n",
       "<tr><td>23Na-35Clv=3-3 J=7-6</td><td>3</td><td>7</td><td>6</td><td>89.15010799999999</td><td>-7.910414723721954</td><td>0.419540416919975</td><td>2.415189175060138</td><td>1709.4447072542516</td><td>103.5425520634387</td><td>17.604982064183282</td><td>626.8446920443778</td><td>177000.27270748658</td><td>1561.0</td><td>-d</td><td>bottomleft</td></tr>\n",
       "<tr><td>23Na-37Clv=0-0 J=7-6</td><td>0</td><td>7</td><td>6</td><td>89.220108</td><td>-8.510614658659334</td><td>0.4213161799639524</td><td>3.349151544538417</td><td>1415.9349487735174</td><td>124.27672132564753</td><td>13.540353763315949</td><td>1043.3127638392775</td><td>175967.7588873837</td><td>17.1</td><td>-d</td><td>bottomleft</td></tr>\n",
       "<tr><td>39K-35Clv=4-4 J=13-12</td><td>4</td><td>13</td><td>12</td><td>97.49132998761637</td><td>-13.505140250194922</td><td>1.1785573141434158</td><td>1.6986450999331946</td><td>2345.208223103541</td><td>39.9328555778318</td><td>15.36595216235742</td><td>170.02898109813964</td><td>93650.86491046533</td><td>1609.487088357844</td><td>-d</td><td>bottomleft</td></tr>\n",
       "<tr><td>41K-35Clv=0-0 J=13-12</td><td>0</td><td>13</td><td>12</td><td>97.62808576093418</td><td>-8.561446137685943</td><td>1.2470609191474433</td><td>2.5539957561142717</td><td>4116.501697168863</td><td>33.57098753868061</td><td>14.780652482361655</td><td>214.9187085813015</td><td>138195.03233452118</td><td>32.80022745819785</td><td>-d</td><td>bottomleft</td></tr>\n",
       "<tr><td>39K-35Clv=3-3 J=13-12</td><td>3</td><td>13</td><td>12</td><td>98.09753045090682</td><td>-9.955145548965238</td><td>0.5876498570913152</td><td>2.62395768043239</td><td>1821.118726487236</td><td>72.68184784551886</td><td>14.197943365803194</td><td>478.0493375892946</td><td>132362.27943005506</td><td>1220.5635304267048</td><td>-d</td><td>bottomleft</td></tr>\n",
       "<tr><td>39K-35Clv=2-2 J=13-12</td><td>2</td><td>13</td><td>12</td><td>98.70595243263405</td><td>-3.655890914742557</td><td>2.399509837204032</td><td>10.0</td><td>0.0</td><td>35.53298886103247</td><td>5.901393609491618</td><td>890.6799456121237</td><td>59.013936094916176</td><td>828.2887852320268</td><td>-d</td><td>bottomleft</td></tr>\n",
       "<tr><td>23Na-37Clv=4-4 J=8-7</td><td>4</td><td>8</td><td>7</td><td>98.991272</td><td>-7.670472775266358</td><td>0.7012610711045355</td><td>3.026187176795386</td><td>2117.919635009358</td><td>65.2187714767181</td><td>13.071339439645255</td><td>494.7187090087236</td><td>138128.12234568282</td><td>2048.4</td><td>-d</td><td>bottomleft</td></tr>\n",
       "<tr><td>39K-35Clv=1-1 J=13-12</td><td>1</td><td>13</td><td>12</td><td>99.31662591202812</td><td>-8.30821201642243</td><td>0.43479486397372163</td><td>2.216622010025612</td><td>1598.0268617836455</td><td>87.23242763274806</td><td>16.799931197491677</td><td>484.6849496226555</td><td>139399.76754973474</td><td>432.6348728706095</td><td>-d</td><td>bottomleft</td></tr>\n",
       "<tr><td>23Na-35Clv=6-6 J=8-7</td><td>6</td><td>8</td><td>7</td><td>99.61753</td><td>-9.810341606933845</td><td>0.8869221229680755</td><td>1.8497102487860388</td><td>2542.8718250504958</td><td>57.13556619739875</td><td>21.809630120699936</td><td>264.91111009637194</td><td>145288.42709238164</td><td>3064.8</td><td>-d</td><td>bottomleft</td></tr>\n",
       "<tr><td>23Na-37Clv=3-3 J=8-7</td><td>3</td><td>8</td><td>7</td><td>99.72674800000001</td><td>-8.412773192188734</td><td>0.622348149450587</td><td>3.748586492511998</td><td>1870.938744399731</td><td>101.31504259476337</td><td>14.56720471123802</td><td>951.9878408897863</td><td>189554.2464465098</td><td>1549.1</td><td>-d</td><td>bottomleft</td></tr>\n",
       "<tr><td>39K-35Clv=0-0 J=13-12</td><td>0</td><td>13</td><td>12</td><td>99.92952090985044</td><td>-8.283382331227749</td><td>0.5227066742654309</td><td>2.803656315470302</td><td>1561.642625833353</td><td>104.27397307144042</td><td>16.800648605471984</td><td>732.8087232236974</td><td>162838.687925979</td><td>33.573554459329365</td><td>-d</td><td>bottomleft</td></tr>\n",
       "<tr><td>23Na-35Clv=5-5 J=8-7</td><td>5</td><td>8</td><td>7</td><td>100.367215</td><td>-9.477315256865255</td><td>0.8184047761818612</td><td>3.7054513101538307</td><td>2444.461339764095</td><td>76.3549943171081</td><td>14.604559819933108</td><td>709.1996201666581</td><td>186646.83955135956</td><td>2570.0</td><td>-d</td><td>bottomleft</td></tr>\n",
       "<tr><td>23Na-37Clv=2-2 J=8-7</td><td>2</td><td>8</td><td>7</td><td>100.46695100000001</td><td>-8.018429662212155</td><td>0.3907735007406947</td><td>2.9879375688925474</td><td>1173.1208993642285</td><td>143.43736482654774</td><td>16.29286577124673</td><td>1074.2954863468747</td><td>168269.37746986654</td><td>1045.0</td><td>-d</td><td>bottomleft</td></tr>\n",
       "<tr><td>23Na-35Clv=4-4 J=8-7</td><td>4</td><td>8</td><td>7</td><td>101.121833</td><td>-7.710492790826752</td><td>0.4879521618317128</td><td>2.9603309421843456</td><td>1437.5181828243217</td><td>114.11165307450396</td><td>16.240404807120463</td><td>846.7597295537149</td><td>164037.58321206292</td><td>2070.4</td><td>-d</td><td>bottomleft</td></tr>\n",
       "<tr><td>23Na-37Clv=1-1 J=8-7</td><td>1</td><td>8</td><td>7</td><td>101.211883</td><td>-7.915272671169562</td><td>0.25714656777101774</td><td>2.1826796136222093</td><td>802.1326928604249</td><td>186.3189909155259</td><td>19.515004162055774</td><td>1019.3822091074593</td><td>149452.55998404135</td><td>536.0</td><td>-d</td><td>bottomleft</td></tr>\n",
       "<tr><td>39K-35Clv=6-6 J=29-28</td><td>6</td><td>29</td><td>28</td><td>214.54411761302367</td><td>-11.495249518165954</td><td>0.6478059733272339</td><td>1.2491032151807904</td><td>909.7277305673736</td><td>47.9457256451525</td><td>21.586587648847843</td><td>150.11986194412142</td><td>43617.564515950115</td><td>2499.5899628891784</td><td>-d</td><td>bottomleft</td></tr>\n",
       "<tr><td>23Na-37Clv=1-1 J=17-16</td><td>1</td><td>17</td><td>16</td><td>214.938711</td><td>-7.786873634636924</td><td>0.23909875343435874</td><td>2.15678614799403</td><td>333.4904238148796</td><td>170.60729806530426</td><td>16.37946988831414</td><td>922.3476058834284</td><td>56895.911105088635</td><td>607.0</td><td>-d</td><td>bottomleft</td></tr>\n",
       "<tr><td>39K-35Clv=0-0 J=28-27</td><td>0</td><td>28</td><td>27</td><td>215.00827947796256</td><td>-8.126381119394978</td><td>0.3335808855534417</td><td>2.2784894506441726</td><td>465.1217746185996</td><td>125.66823041722272</td><td>15.933404650204348</td><td>717.7322418637651</td><td>58451.04161912266</td><td>149.70982801917683</td><td>-d</td><td>bottomleft</td></tr>\n",
       "<tr><td>39K-37Clv=6-6 J=30-29</td><td>6</td><td>30</td><td>29</td><td>215.73679432678762</td><td>-10.489700019007397</td><td>2.032101213973472</td><td>2.4779128236895374</td><td>2823.851242984215</td><td>21.476996371668257</td><td>15.25284816117105</td><td>133.39805615524153</td><td>60647.85467653662</td><td>2472.996595037401</td><td>-d</td><td>bottomleft</td></tr>\n",
       "<tr><td>39K-35Clv=5-5 J=29-28</td><td>5</td><td>29</td><td>28</td><td>215.88372508809456</td><td>-10.335717574278018</td><td>0.7207287577367215</td><td>1.5308576328218324</td><td>1001.0773170565732</td><td>47.578703851377924</td><td>19.400594691978984</td><td>182.57333335880193</td><td>47629.97046010699</td><td>2118.0478104572576</td><td>-d</td><td>bottomleft</td></tr>\n",
       "<tr><td>39K-35Clv=4-4 J=29-28</td><td>4</td><td>29</td><td>28</td><td>217.22891175712175</td><td>-6.7753637569007905</td><td>nan</td><td>1.7127882033346573</td><td>nan</td><td>0.0</td><td>nan</td><td>0.0</td><td>nan</td><td>1733.213093745079</td><td>cd</td><td>bottomleft</td></tr>\n",
       "<tr><td>41K-35Clv=0-0 J=29-28</td><td>0</td><td>29</td><td>28</td><td>217.54316883063962</td><td>-8.915415002385792</td><td>0.3690666718344994</td><td>1.6137345287383946</td><td>508.61316004909094</td><td>64.2796788882026</td><td>12.731313008032219</td><td>260.0133964585831</td><td>32693.49706161139</td><td>156.7030974292071</td><td>-d</td><td>bottomleft</td></tr>\n",
       "<tr><td>23Na-35Clv=2-2 J=17-16</td><td>2</td><td>17</td><td>16</td><td>217.980231</td><td>-7.897521899244419</td><td>0.1713828331807574</td><td>2.363821254360092</td><td>235.70614898674367</td><td>167.36452120139467</td><td>10.508610159124967</td><td>991.6718078704704</td><td>39448.85459026836</td><td>1128.4</td><td>-d</td><td>bottomleft</td></tr>\n",
       "<tr><td>39K-35Clv=3-3 J=29-28</td><td>3</td><td>29</td><td>28</td><td>218.57970759934983</td><td>-9.232057533092899</td><td>0.18489202863434112</td><td>0.9548747887484749</td><td>201.32990954762843</td><td>104.91256395516298</td><td>15.125635569794026</td><td>251.109915557066</td><td>21122.041949538987</td><td>1345.0583565643997</td><td>-d</td><td>bottomleft</td></tr>\n",
       "<tr><td>23Na-37Clv=0-0 J=18-17</td><td>0</td><td>18</td><td>17</td><td>229.246046</td><td>-7.867504015911406</td><td>0.18964883559424905</td><td>2.533266238000112</td><td>248.00990825347762</td><td>160.9378842181988</td><td>10.434158906187648</td><td>1021.9486089438564</td><td>39914.19865170393</td><td>104.6</td><td>-d</td><td>bottomleft</td></tr>\n",
       "<tr><td>39K-35Clv=6-6 J=31-30</td><td>6</td><td>31</td><td>30</td><td>229.29217009099185</td><td>-10.90302182532946</td><td>0.3282900619634675</td><td>1.4335012237298814</td><td>429.17209078807826</td><td>69.93160244819784</td><td>13.868599679264355</td><td>251.28205911394082</td><td>30012.698619407784</td><td>2521.2435001968593</td><td>cd</td><td>bottomleft</td></tr>\n",
       "<tr><td>41K-35Clv=2-2 J=31-30</td><td>2</td><td>31</td><td>30</td><td>229.682269185667</td><td>-9.094098775530211</td><td>1.390958826955197</td><td>4.410794430552358</td><td>1815.5514295984024</td><td>28.926521319648867</td><td>7.900027386394007</td><td>319.8180423583478</td><td>52517.598695148896</td><td>962.5120641519137</td><td>cd</td><td>bottomleft</td></tr>\n",
       "<tr><td>39K-37Clv=1-1 J=31-30</td><td>1</td><td>31</td><td>30</td><td>229.81880467929173</td><td>-8.361730936984033</td><td>0.4032405092201541</td><td>2.1510307164233073</td><td>526.0164141696897</td><td>69.66051021154784</td><td>11.309204484325132</td><td>375.59793621268113</td><td>36642.57986568743</td><td>570.1893069569386</td><td>-d</td><td>bottomleft</td></tr>\n",
       "<tr><td>39K-37Clv=6-6 J=32-31</td><td>6</td><td>32</td><td>31</td><td>230.07071996603105</td><td>-10.328671355673192</td><td>1.544481413127885</td><td>3.241354695409504</td><td>2012.5284890719915</td><td>22.313376016897973</td><td>9.207816219321328</td><td>181.2933090221297</td><td>44906.31483949552</td><td>2494.7346547595102</td><td>-d</td><td>bottomleft</td></tr>\n",
       "<tr><td>39K-35Clv=0-0 J=30-29</td><td>0</td><td>30</td><td>29</td><td>230.32063907085856</td><td>-7.679302322205343</td><td>0.23326710042762874</td><td>2.314362055343971</td><td>303.627664702862</td><td>124.7709345334668</td><td>10.890989877732949</td><td>723.8268057311311</td><td>37883.9158603723</td><td>171.44855245642327</td><td>-d</td><td>bottomleft</td></tr>\n",
       "<tr><td>39K-35Clv=5-5 J=31-30</td><td>5</td><td>31</td><td>30</td><td>230.7239938325099</td><td>-9.540492964510001</td><td>0.3344448898358996</td><td>1.197854586812788</td><td>425.8914757506278</td><td>62.70887706355221</td><td>15.010226218324751</td><td>188.28818030736227</td><td>26707.182247619643</td><td>2139.8364503972402</td><td>-d</td><td>bottomleft</td></tr>\n",
       "<tr><td>23Na-35Clv=2-2 J=18-17</td><td>2</td><td>18</td><td>17</td><td>230.779167</td><td>-7.835659447465632</td><td>0.1785323819714216</td><td>2.45207348483414</td><td>231.92154768620927</td><td>167.63721261050134</td><td>10.570213146206614</td><td>1030.3715206623092</td><td>38878.690438014484</td><td>1139.5</td><td>-d</td><td>bottomleft</td></tr>\n",
       "<tr><td>39K-35Clv=4-4 J=31-30</td><td>4</td><td>31</td><td>30</td><td>232.16184645668199</td><td>-9.212987928427385</td><td>0.3869928455220271</td><td>1.6581898674551943</td><td>499.7208168282403</td><td>70.6575129331661</td><td>14.280723364576994</td><td>293.68552234540147</td><td>35309.03801860961</td><td>1755.1374506752938</td><td>-d</td><td>bottomleft</td></tr>\n",
       "<tr><td>23Na-35Clv=1-1 J=18-17</td><td>1</td><td>18</td><td>17</td><td>232.50997700000002</td><td>-7.85715892197685</td><td>0.2007623281166518</td><td>2.7314730414439135</td><td>258.85784378722855</td><td>174.67497791557702</td><td>11.118530861316987</td><td>1195.9624653248363</td><td>45215.99834601906</td><td>625.7</td><td>-d</td><td>bottomleft</td></tr>\n",
       "<tr><td>39K-37Clv=4-4 J=32-31</td><td>4</td><td>32</td><td>31</td><td>232.90755269258102</td><td>-10.533416196290258</td><td>1.2989149329523413</td><td>4.087962694964166</td><td>1671.935047907437</td><td>33.000379847386704</td><td>9.080726577185489</td><td>338.15498723278375</td><td>55174.504148924985</td><td>1739.1761050492405</td><td>-d</td><td>bottomleft</td></tr>\n",
       "<tr><td>23Na-37Clv=5-5 J=19-18</td><td>5</td><td>19</td><td>18</td><td>233.16920199999998</td><td>-8.408837887175482</td><td>0.22133711928424787</td><td>1.459500835333865</td><td>284.4580991777012</td><td>115.65399997985257</td><td>15.186658366252875</td><td>423.1116075499614</td><td>32898.72446318824</td><td>2633.6</td><td>cd</td><td>bottomleft</td></tr>\n",
       "<tr><td>39K-35Clv=3-3 J=31-30</td><td>3</td><td>31</td><td>30</td><td>233.60569798423805</td><td>-8.00230279245508</td><td>0.5489644172507718</td><td>2.533705339325826</td><td>704.5007610381525</td><td>61.38015833270783</td><td>11.517208933527991</td><td>389.8289114399114</td><td>43242.37810420174</td><td>1367.1190419652214</td><td>-d</td><td>bottomleft</td></tr>\n",
       "<tr><td>23Na-35Clv=2-2 J=26-25</td><td>2</td><td>26</td><td>25</td><td>333.007291</td><td>-10.450485582019358</td><td>1.7383979981111641</td><td>2.8251456986497123</td><td>1565.0065954163351</td><td>60.27255274817712</td><td>32.118726342350335</td><td>426.82551213125055</td><td>94326.98621827303</td><td>1250.2</td><td>-d</td><td>bottomleft</td></tr>\n",
       "<tr><td>39K-35Clv=2-2 J=44-43</td><td>2</td><td>44</td><td>43</td><td>333.0677010316308</td><td>1.1398085742109267</td><td>2.4101179429111435</td><td>7.807628681223071</td><td>2395.8883009203564</td><td>78.4449593595131</td><td>19.922172740338212</td><td>1535.2323999763078</td><td>187945.42476066755</td><td>1155.3465513996475</td><td>-d</td><td>bottomleft</td></tr>\n",
       "<tr><td>23Na-37Clv=4-4 J=27-26</td><td>4</td><td>27</td><td>26</td><td>333.459061</td><td>-12.582126808358094</td><td>3.8409264588618517</td><td>10.0</td><td>0.0</td><td>54.91608309351048</td><td>14.097337691161204</td><td>1376.542066141788</td><td>140.97337691161204</td><td>2251.3</td><td>-d</td><td>bottomleft</td></tr>\n",
       "<tr><td>39K-35Clv=5-5 J=45-44</td><td>5</td><td>45</td><td>44</td><td>334.299297558143</td><td>-9.106308419807954</td><td>0.23199204737673695</td><td>0.7669560209555047</td><td>206.83300914114156</td><td>231.38563215399267</td><td>60.4016469670712</td><td>444.83278023209243</td><td>47858.208991289444</td><td>2332.1602752763347</td><td>-d</td><td>bottomleft</td></tr>\n",
       "<tr><td>41K-37Clv=7-7 J=48-47</td><td>7</td><td>48</td><td>47</td><td>334.3279083237932</td><td>-5.59165412786988</td><td>0.44413522405218536</td><td>0.5434609502286809</td><td>269.516814860194</td><td>120.96910373975447</td><td>62.18484908787475</td><td>164.79071609197817</td><td>32603.225051643734</td><td>3049.3241362373146</td><td>cd</td><td>bottomleft</td></tr>\n",
       "<tr><td>41K-35Clv=1-1 J=45-44</td><td>1</td><td>45</td><td>44</td><td>334.8543939004358</td><td>-2.4882237415643758</td><td>5.72167687296961</td><td>9.933579505588764</td><td>5720.888547673071</td><td>36.37635976406208</td><td>17.38074468070218</td><td>905.7637648148187</td><td>208105.1716004551</td><td>764.8850987427759</td><td>-d</td><td>bottomleft</td></tr>\n",
       "<tr><td>39K-37Clv=0-0 J=45-44</td><td>0</td><td>45</td><td>44</td><td>335.050717358868</td><td>-7.821671520337598</td><td>1.3639371222867285</td><td>3.656520226605249</td><td>1220.40646121681</td><td>85.70742233955005</td><td>27.68699196076071</td><td>785.5545494937663</td><td>104597.9409904752</td><td>370.42287962265874</td><td>-d</td><td>bottomleft</td></tr>\n",
       "<tr><td>39K-35Clv=1-1 J=44-43</td><td>1</td><td>44</td><td>43</td><td>335.133958481151</td><td>-13.072008712598636</td><td>1.840832705362711</td><td>4.1705157345078305</td><td>1646.8239723684426</td><td>67.81371379120063</td><td>25.92183107869804</td><td>708.9199973916758</td><td>111677.30185250538</td><td>761.7198518705585</td><td>-d</td><td>bottomleft</td></tr>\n",
       "<tr><td>23Na-35Clv=1-1 J=26-25</td><td>1</td><td>26</td><td>25</td><td>335.506563</td><td>-5.107847127855931</td><td>134363.32084312206</td><td>0.20058038479531734</td><td>378796589.6176161</td><td>445.3234750710014</td><td>4409553235.621097</td><td>223.89994336586386</td><td>168689332370.44424</td><td>737.2</td><td>-d</td><td>bottomleft</td></tr>\n",
       "<tr><td>39K-35Clv=7-7 J=47-46</td><td>7</td><td>47</td><td>46</td><td>344.7147567357381</td><td>-7.827789477689762</td><td>0.5396301802393517</td><td>0.7891077246026869</td><td>463.6031934698833</td><td>120.95768407679269</td><td>71.1883765022592</td><td>239.2542669556208</td><td>56076.39674991604</td><td>3122.063782801743</td><td>-d</td><td>bottomleft</td></tr>\n",
       "<tr><td>39K-35Clv=0-0 J=45-44</td><td>0</td><td>45</td><td>44</td><td>344.82060823962667</td><td>-4.750406824398226</td><td>2.723220633553499</td><td>4.324742066811964</td><td>2367.6147376910576</td><td>56.010056653373624</td><td>30.545174309289692</td><td>607.1781810883144</td><td>132610.30138728622</td><td>381.2426781196086</td><td>-d</td><td>bottomleft</td></tr>\n",
       "<tr><td>23Na-35Clv=2-2 J=27-26</td><td>2</td><td>27</td><td>26</td><td>345.762037</td><td>-7.704230099177396</td><td>516003916.171508</td><td>0.05398340412384403</td><td>0.0</td><td>12.639602862182542</td><td>nan</td><td>1.7103446357891863</td><td>nan</td><td>1266.8</td><td>cd</td><td>bottomleft</td></tr>\n",
       "<tr><td>39K-35Clv=6-6 J=47-46</td><td>6</td><td>47</td><td>46</td><td>346.8748940714992</td><td>-11.431164122481952</td><td>0.6725633437570049</td><td>0.9650510724385958</td><td>581.7063858359842</td><td>110.3463387372809</td><td>66.62420420387348</td><td>266.9304753332509</td><td>64189.20209835212</td><td>2745.314802021911</td><td>-d</td><td>bottomleft</td></tr>\n",
       "<tr><td>39K-37Clv=1-1 J=47-46</td><td>1</td><td>47</td><td>46</td><td>347.71265081848736</td><td>-9.63183195909996</td><td>0.5865289659437399</td><td>0.7888114421417732</td><td>509.13225553655064</td><td>114.18509293968516</td><td>73.77872021598355</td><td>225.7732816441834</td><td>58135.34304690026</td><td>794.7894371534984</td><td>-d</td><td>bottomleft</td></tr>\n",
       "</table></div>"
      ],
      "text/plain": [
       "<Table length=63>\n",
       "      Line Name          v   J$_u$ J$_l$     Frequency        Fitted Velocity   Fitted Velocity error     Fitted Width    Fitted Width error Fitted Amplitude K Fitted Amplitude error K Integrated Intensity Integrated Intensity error        EU_K        Flag   Corner  \n",
       "        str22          int64 int64 int64      float64             float64              float64              float64            float64            float64               float64                float64                 float64                float64       str2   str10   \n",
       "---------------------- ----- ----- ----- ------------------ ------------------- --------------------- ------------------- ------------------ ------------------ ------------------------ -------------------- -------------------------- ------------------ ---- ----------\n",
       "  23Na-37Clv=5-5 J=7-6     5     7     6          85.981669  -9.513139906523481    3.4133269397470984                10.0                0.0 53.536137306195215       12.629558446750943   1341.9519548623643         126.29558446750943             2538.2   -d bottomleft\n",
       "  23Na-37Clv=4-4 J=7-6     4     7     6  86.62108500000001  -8.871477212601047     1.702912927744132  2.8336779009247963  5728.642849022033  55.80678723742968       28.565291004537055    396.3943344315142         319697.16288189683             2043.6   -d bottomleft\n",
       "  23Na-35Clv=6-6 J=7-6     6     7     6          87.169205 -10.196390094375769     59358.00885421362  0.7917637792278122  2521248409.407417  354.8589663717887       1473885087.9429615     704.273500479027          894688365585.3496             3060.0   -d bottomleft\n",
       "  23Na-37Clv=3-3 J=7-6     3     7     6          87.264636  -8.230176438800711    3.7751653596416364  1.5078851722276325  19013.62710180957  71.28788440574445        296.7372071414251    269.4473590182884         1355441.3248210198             1544.3   -d bottomleft\n",
       "  23Na-35Clv=5-5 J=7-6     5     7     6           87.82519  -8.005670789851164    0.7359382293817014  2.9276155021739174  2601.944450186565  66.74835583213871       14.806103405520698    489.8290576826219         173675.51942581098             2565.2   -d bottomleft\n",
       "  23Na-37Clv=2-2 J=7-6     2     7     6          87.912322  -7.603871970924776    0.5546519766521513  2.9171578041854067 1899.6940634180742  88.76414186789776       14.644525403494526    649.0638418199321         168624.71876236456             1040.1   -d bottomleft\n",
       " 39K-37Clv=3-3 J=12-11     3    12    11  88.00522799634737 -10.010842579260963     4.420129497943736                10.0                0.0 21.473802567534293        6.477650144496755    538.2684067962523          64.77650144496755 1198.3185577897405   -d bottomleft\n",
       "  23Na-35Clv=4-4 J=7-6     4     7     6  88.48549000000001  -7.929853407710313    0.5619002892975187   3.627696651893257 1902.9023749381668  97.38802388554853        13.06097334155151    885.5772514976484          185319.9079993923             2065.5   -d bottomleft\n",
       " 39K-37Clv=2-2 J=12-11     2    12    11  88.54307479723201  -8.298867972486493    1.2104385462525635  2.5050475326821604  3645.823234082513 38.729181940814215        15.04379171425613   243.18916903470608         141199.75638584085   811.492120004998   -d bottomleft\n",
       "  23Na-37Clv=1-1 J=7-6     1     7     6          88.564146  -7.661137938361862    0.6348560676708368   4.035779043941522  2149.020981785653  90.87127449892031       12.379585001231064    919.2717927765752         195284.28193079564              531.1   -d bottomleft\n",
       " 41K-35Clv=2-2 J=12-11     2    12    11  89.03129264798301  -7.940859846405194                   nan 0.11709807490052701                nan  14.85366526961448                      nan    4.359867814808898                        nan  813.7920991256196   -d bottomleft\n",
       " 39K-37Clv=1-1 J=12-11     1    12    11  89.08291930014218  -7.669455222414991    115416.86329707631  0.7488859255287725   4649607130.92669 372.88165980567595        3310752468.304612    699.9654853210582         1733754997254.9385  421.3815995324984   -d bottomleft\n",
       "  23Na-35Clv=3-3 J=7-6     3     7     6  89.15010799999999  -7.910414723721954     0.419540416919975   2.415189175060138 1709.4447072542516  103.5425520634387       17.604982064183282    626.8446920443778         177000.27270748658             1561.0   -d bottomleft\n",
       "  23Na-37Clv=0-0 J=7-6     0     7     6          89.220108  -8.510614658659334    0.4213161799639524   3.349151544538417 1415.9349487735174 124.27672132564753       13.540353763315949   1043.3127638392775          175967.7588873837               17.1   -d bottomleft\n",
       " 39K-35Clv=4-4 J=13-12     4    13    12  97.49132998761637 -13.505140250194922    1.1785573141434158  1.6986450999331946  2345.208223103541   39.9328555778318        15.36595216235742   170.02898109813964          93650.86491046533  1609.487088357844   -d bottomleft\n",
       " 41K-35Clv=0-0 J=13-12     0    13    12  97.62808576093418  -8.561446137685943    1.2470609191474433  2.5539957561142717  4116.501697168863  33.57098753868061       14.780652482361655    214.9187085813015         138195.03233452118  32.80022745819785   -d bottomleft\n",
       " 39K-35Clv=3-3 J=13-12     3    13    12  98.09753045090682  -9.955145548965238    0.5876498570913152    2.62395768043239  1821.118726487236  72.68184784551886       14.197943365803194    478.0493375892946         132362.27943005506 1220.5635304267048   -d bottomleft\n",
       " 39K-35Clv=2-2 J=13-12     2    13    12  98.70595243263405  -3.655890914742557     2.399509837204032                10.0                0.0  35.53298886103247        5.901393609491618    890.6799456121237         59.013936094916176  828.2887852320268   -d bottomleft\n",
       "  23Na-37Clv=4-4 J=8-7     4     8     7          98.991272  -7.670472775266358    0.7012610711045355   3.026187176795386  2117.919635009358   65.2187714767181       13.071339439645255    494.7187090087236         138128.12234568282             2048.4   -d bottomleft\n",
       " 39K-35Clv=1-1 J=13-12     1    13    12  99.31662591202812   -8.30821201642243   0.43479486397372163   2.216622010025612 1598.0268617836455  87.23242763274806       16.799931197491677    484.6849496226555         139399.76754973474  432.6348728706095   -d bottomleft\n",
       "  23Na-35Clv=6-6 J=8-7     6     8     7           99.61753  -9.810341606933845    0.8869221229680755  1.8497102487860388 2542.8718250504958  57.13556619739875       21.809630120699936   264.91111009637194         145288.42709238164             3064.8   -d bottomleft\n",
       "  23Na-37Clv=3-3 J=8-7     3     8     7  99.72674800000001  -8.412773192188734     0.622348149450587   3.748586492511998  1870.938744399731 101.31504259476337        14.56720471123802    951.9878408897863          189554.2464465098             1549.1   -d bottomleft\n",
       " 39K-35Clv=0-0 J=13-12     0    13    12  99.92952090985044  -8.283382331227749    0.5227066742654309   2.803656315470302  1561.642625833353 104.27397307144042       16.800648605471984    732.8087232236974           162838.687925979 33.573554459329365   -d bottomleft\n",
       "  23Na-35Clv=5-5 J=8-7     5     8     7         100.367215  -9.477315256865255    0.8184047761818612  3.7054513101538307  2444.461339764095   76.3549943171081       14.604559819933108    709.1996201666581         186646.83955135956             2570.0   -d bottomleft\n",
       "  23Na-37Clv=2-2 J=8-7     2     8     7 100.46695100000001  -8.018429662212155    0.3907735007406947  2.9879375688925474 1173.1208993642285 143.43736482654774        16.29286577124673   1074.2954863468747         168269.37746986654             1045.0   -d bottomleft\n",
       "  23Na-35Clv=4-4 J=8-7     4     8     7         101.121833  -7.710492790826752    0.4879521618317128  2.9603309421843456 1437.5181828243217 114.11165307450396       16.240404807120463    846.7597295537149         164037.58321206292             2070.4   -d bottomleft\n",
       "  23Na-37Clv=1-1 J=8-7     1     8     7         101.211883  -7.915272671169562   0.25714656777101774  2.1826796136222093  802.1326928604249  186.3189909155259       19.515004162055774   1019.3822091074593         149452.55998404135              536.0   -d bottomleft\n",
       " 39K-35Clv=6-6 J=29-28     6    29    28 214.54411761302367 -11.495249518165954    0.6478059733272339  1.2491032151807904  909.7277305673736   47.9457256451525       21.586587648847843   150.11986194412142         43617.564515950115 2499.5899628891784   -d bottomleft\n",
       "23Na-37Clv=1-1 J=17-16     1    17    16         214.938711  -7.786873634636924   0.23909875343435874    2.15678614799403  333.4904238148796 170.60729806530426        16.37946988831414    922.3476058834284         56895.911105088635              607.0   -d bottomleft\n",
       " 39K-35Clv=0-0 J=28-27     0    28    27 215.00827947796256  -8.126381119394978    0.3335808855534417  2.2784894506441726  465.1217746185996 125.66823041722272       15.933404650204348    717.7322418637651          58451.04161912266 149.70982801917683   -d bottomleft\n",
       " 39K-37Clv=6-6 J=30-29     6    30    29 215.73679432678762 -10.489700019007397     2.032101213973472  2.4779128236895374  2823.851242984215 21.476996371668257        15.25284816117105   133.39805615524153          60647.85467653662  2472.996595037401   -d bottomleft\n",
       " 39K-35Clv=5-5 J=29-28     5    29    28 215.88372508809456 -10.335717574278018    0.7207287577367215  1.5308576328218324 1001.0773170565732 47.578703851377924       19.400594691978984   182.57333335880193          47629.97046010699 2118.0478104572576   -d bottomleft\n",
       " 39K-35Clv=4-4 J=29-28     4    29    28 217.22891175712175 -6.7753637569007905                   nan  1.7127882033346573                nan                0.0                      nan                  0.0                        nan  1733.213093745079   cd bottomleft\n",
       " 41K-35Clv=0-0 J=29-28     0    29    28 217.54316883063962  -8.915415002385792    0.3690666718344994  1.6137345287383946 508.61316004909094   64.2796788882026       12.731313008032219    260.0133964585831          32693.49706161139  156.7030974292071   -d bottomleft\n",
       "23Na-35Clv=2-2 J=17-16     2    17    16         217.980231  -7.897521899244419    0.1713828331807574   2.363821254360092 235.70614898674367 167.36452120139467       10.508610159124967    991.6718078704704          39448.85459026836             1128.4   -d bottomleft\n",
       " 39K-35Clv=3-3 J=29-28     3    29    28 218.57970759934983  -9.232057533092899   0.18489202863434112  0.9548747887484749 201.32990954762843 104.91256395516298       15.125635569794026     251.109915557066         21122.041949538987 1345.0583565643997   -d bottomleft\n",
       "23Na-37Clv=0-0 J=18-17     0    18    17         229.246046  -7.867504015911406   0.18964883559424905   2.533266238000112 248.00990825347762  160.9378842181988       10.434158906187648   1021.9486089438564          39914.19865170393              104.6   -d bottomleft\n",
       " 39K-35Clv=6-6 J=31-30     6    31    30 229.29217009099185  -10.90302182532946    0.3282900619634675  1.4335012237298814 429.17209078807826  69.93160244819784       13.868599679264355   251.28205911394082         30012.698619407784 2521.2435001968593   cd bottomleft\n",
       " 41K-35Clv=2-2 J=31-30     2    31    30   229.682269185667  -9.094098775530211     1.390958826955197   4.410794430552358 1815.5514295984024 28.926521319648867        7.900027386394007    319.8180423583478         52517.598695148896  962.5120641519137   cd bottomleft\n",
       " 39K-37Clv=1-1 J=31-30     1    31    30 229.81880467929173  -8.361730936984033    0.4032405092201541  2.1510307164233073  526.0164141696897  69.66051021154784       11.309204484325132   375.59793621268113          36642.57986568743  570.1893069569386   -d bottomleft\n",
       " 39K-37Clv=6-6 J=32-31     6    32    31 230.07071996603105 -10.328671355673192     1.544481413127885   3.241354695409504 2012.5284890719915 22.313376016897973        9.207816219321328    181.2933090221297          44906.31483949552 2494.7346547595102   -d bottomleft\n",
       " 39K-35Clv=0-0 J=30-29     0    30    29 230.32063907085856  -7.679302322205343   0.23326710042762874   2.314362055343971   303.627664702862  124.7709345334668       10.890989877732949    723.8268057311311           37883.9158603723 171.44855245642327   -d bottomleft\n",
       " 39K-35Clv=5-5 J=31-30     5    31    30  230.7239938325099  -9.540492964510001    0.3344448898358996   1.197854586812788  425.8914757506278  62.70887706355221       15.010226218324751   188.28818030736227         26707.182247619643 2139.8364503972402   -d bottomleft\n",
       "23Na-35Clv=2-2 J=18-17     2    18    17         230.779167  -7.835659447465632    0.1785323819714216    2.45207348483414 231.92154768620927 167.63721261050134       10.570213146206614   1030.3715206623092         38878.690438014484             1139.5   -d bottomleft\n",
       " 39K-35Clv=4-4 J=31-30     4    31    30 232.16184645668199  -9.212987928427385    0.3869928455220271  1.6581898674551943  499.7208168282403   70.6575129331661       14.280723364576994   293.68552234540147          35309.03801860961 1755.1374506752938   -d bottomleft\n",
       "23Na-35Clv=1-1 J=18-17     1    18    17 232.50997700000002   -7.85715892197685    0.2007623281166518  2.7314730414439135 258.85784378722855 174.67497791557702       11.118530861316987   1195.9624653248363          45215.99834601906              625.7   -d bottomleft\n",
       " 39K-37Clv=4-4 J=32-31     4    32    31 232.90755269258102 -10.533416196290258    1.2989149329523413   4.087962694964166  1671.935047907437 33.000379847386704        9.080726577185489   338.15498723278375         55174.504148924985 1739.1761050492405   -d bottomleft\n",
       "23Na-37Clv=5-5 J=19-18     5    19    18 233.16920199999998  -8.408837887175482   0.22133711928424787   1.459500835333865  284.4580991777012 115.65399997985257       15.186658366252875    423.1116075499614          32898.72446318824             2633.6   cd bottomleft\n",
       " 39K-35Clv=3-3 J=31-30     3    31    30 233.60569798423805   -8.00230279245508    0.5489644172507718   2.533705339325826  704.5007610381525  61.38015833270783       11.517208933527991    389.8289114399114          43242.37810420174 1367.1190419652214   -d bottomleft\n",
       "23Na-35Clv=2-2 J=26-25     2    26    25         333.007291 -10.450485582019358    1.7383979981111641  2.8251456986497123 1565.0065954163351  60.27255274817712       32.118726342350335   426.82551213125055          94326.98621827303             1250.2   -d bottomleft\n",
       " 39K-35Clv=2-2 J=44-43     2    44    43  333.0677010316308  1.1398085742109267    2.4101179429111435   7.807628681223071 2395.8883009203564   78.4449593595131       19.922172740338212   1535.2323999763078         187945.42476066755 1155.3465513996475   -d bottomleft\n",
       "23Na-37Clv=4-4 J=27-26     4    27    26         333.459061 -12.582126808358094    3.8409264588618517                10.0                0.0  54.91608309351048       14.097337691161204    1376.542066141788         140.97337691161204             2251.3   -d bottomleft\n",
       " 39K-35Clv=5-5 J=45-44     5    45    44   334.299297558143  -9.106308419807954   0.23199204737673695  0.7669560209555047 206.83300914114156 231.38563215399267         60.4016469670712   444.83278023209243         47858.208991289444 2332.1602752763347   -d bottomleft\n",
       " 41K-37Clv=7-7 J=48-47     7    48    47  334.3279083237932   -5.59165412786988   0.44413522405218536  0.5434609502286809   269.516814860194 120.96910373975447        62.18484908787475   164.79071609197817         32603.225051643734 3049.3241362373146   cd bottomleft\n",
       " 41K-35Clv=1-1 J=45-44     1    45    44  334.8543939004358 -2.4882237415643758      5.72167687296961   9.933579505588764  5720.888547673071  36.37635976406208        17.38074468070218    905.7637648148187          208105.1716004551  764.8850987427759   -d bottomleft\n",
       " 39K-37Clv=0-0 J=45-44     0    45    44   335.050717358868  -7.821671520337598    1.3639371222867285   3.656520226605249   1220.40646121681  85.70742233955005        27.68699196076071    785.5545494937663          104597.9409904752 370.42287962265874   -d bottomleft\n",
       " 39K-35Clv=1-1 J=44-43     1    44    43   335.133958481151 -13.072008712598636     1.840832705362711  4.1705157345078305 1646.8239723684426  67.81371379120063        25.92183107869804    708.9199973916758         111677.30185250538  761.7198518705585   -d bottomleft\n",
       "23Na-35Clv=1-1 J=26-25     1    26    25         335.506563  -5.107847127855931    134363.32084312206 0.20058038479531734  378796589.6176161  445.3234750710014        4409553235.621097   223.89994336586386         168689332370.44424              737.2   -d bottomleft\n",
       " 39K-35Clv=7-7 J=47-46     7    47    46  344.7147567357381  -7.827789477689762    0.5396301802393517  0.7891077246026869  463.6031934698833 120.95768407679269         71.1883765022592    239.2542669556208          56076.39674991604  3122.063782801743   -d bottomleft\n",
       " 39K-35Clv=0-0 J=45-44     0    45    44 344.82060823962667  -4.750406824398226     2.723220633553499   4.324742066811964 2367.6147376910576 56.010056653373624       30.545174309289692    607.1781810883144         132610.30138728622  381.2426781196086   -d bottomleft\n",
       "23Na-35Clv=2-2 J=27-26     2    27    26         345.762037  -7.704230099177396      516003916.171508 0.05398340412384403                0.0 12.639602862182542                      nan   1.7103446357891863                        nan             1266.8   cd bottomleft\n",
       " 39K-35Clv=6-6 J=47-46     6    47    46  346.8748940714992 -11.431164122481952    0.6725633437570049  0.9650510724385958  581.7063858359842  110.3463387372809        66.62420420387348    266.9304753332509          64189.20209835212  2745.314802021911   -d bottomleft\n",
       " 39K-37Clv=1-1 J=47-46     1    47    46 347.71265081848736   -9.63183195909996    0.5865289659437399  0.7888114421417732 509.13225553655064 114.18509293968516        73.77872021598355    225.7732816441834          58135.34304690026  794.7894371534984   -d bottomleft"
      ]
     },
     "execution_count": 143,
     "metadata": {},
     "output_type": "execute_result"
    }
   ],
   "source": [
    "cornertbl = Table.read(paths.tpath('corner_line_fits.txt'), format='ascii.fixed_width')\n",
    "cornertbl"
   ]
  },
  {
   "cell_type": "code",
   "execution_count": 128,
   "id": "2c69f47f-a3f1-4459-a15f-e4b8f51bd821",
   "metadata": {},
   "outputs": [
    {
     "data": {
      "text/plain": [
       "'/orange/adamginsburg/orion/2016.1.00165.S/figures/spectral_fits'"
      ]
     },
     "execution_count": 128,
     "metadata": {},
     "output_type": "execute_result"
    }
   ],
   "source": [
    "paths.fpath('spectral_fits')"
   ]
  },
  {
   "cell_type": "code",
   "execution_count": 107,
   "id": "7eab1dd6-b8b4-48e7-b581-64251fbee81a",
   "metadata": {},
   "outputs": [
    {
     "data": {
      "text/latex": [
       "$1798.0765 \\; \\mathrm{\\frac{km}{s}}$"
      ],
      "text/plain": [
       "<Quantity 1798.07654409 km / s>"
      ]
     },
     "execution_count": 107,
     "metadata": {},
     "output_type": "execute_result"
    }
   ],
   "source": [
    "vwidth"
   ]
  },
  {
   "cell_type": "code",
   "execution_count": 90,
   "id": "4ca0f680-eb35-4e13-ba15-0d21b188be58",
   "metadata": {},
   "outputs": [
    {
     "data": {
      "text/plain": [
       "347.91891499999997"
      ]
     },
     "execution_count": 90,
     "metadata": {},
     "output_type": "execute_result"
    }
   ],
   "source": [
    "row['Frequency']"
   ]
  },
  {
   "cell_type": "code",
   "execution_count": 82,
   "id": "f94a3a4b-a550-47d8-882e-2c47e92715ab",
   "metadata": {},
   "outputs": [
    {
     "data": {
      "text/plain": [
       "'/orange/adamginsburg/orion/2016.1.00165.S/figures/spectral_fits'"
      ]
     },
     "execution_count": 82,
     "metadata": {},
     "output_type": "execute_result"
    }
   ],
   "source": [
    "paths.fpath('spectral_fits')"
   ]
  },
  {
   "cell_type": "code",
   "execution_count": 84,
   "id": "43685f06-6a75-41cc-b1d0-5987a32bf204",
   "metadata": {},
   "outputs": [],
   "source": [
    "mkdir /orange/adamginsburg/orion/2016.1.00165.S/figures/spectral_fits"
   ]
  },
  {
   "cell_type": "code",
   "execution_count": null,
   "id": "5479cf59-461a-4d03-be96-d2134d117d8a",
   "metadata": {},
   "outputs": [],
   "source": []
  },
  {
   "cell_type": "code",
   "execution_count": null,
   "id": "a5bc76e1-db93-41b5-a7a3-e88ec06f87e6",
   "metadata": {},
   "outputs": [],
   "source": []
  },
  {
   "cell_type": "code",
   "execution_count": null,
   "id": "eb42b144-b69a-4fca-a16f-aeb3a35cd238",
   "metadata": {},
   "outputs": [],
   "source": []
  },
  {
   "cell_type": "code",
   "execution_count": 38,
   "id": "5ccb3428-0486-48fa-9f54-5fa0be087d7f",
   "metadata": {},
   "outputs": [
    {
     "data": {
      "text/plain": [
       "(array(73.40966848), array(73.52534677))"
      ]
     },
     "execution_count": 38,
     "metadata": {},
     "output_type": "execute_result"
    }
   ],
   "source": [
    "xx,yy"
   ]
  },
  {
   "cell_type": "code",
   "execution_count": 18,
   "id": "084a6188-194b-4733-ba39-e7cb77d898c0",
   "metadata": {},
   "outputs": [
    {
     "data": {
      "text/plain": [
       "'/orange/adamginsburg/orion/2016.1.00165.S/FITS/'"
      ]
     },
     "execution_count": 18,
     "metadata": {},
     "output_type": "execute_result"
    }
   ],
   "source": [
    "paths.dpath('')"
   ]
  },
  {
   "cell_type": "code",
   "execution_count": 151,
   "id": "abd5db2e-d14e-4033-92a6-ebdcf5bd2fff",
   "metadata": {},
   "outputs": [],
   "source": [
    "spwband = {spw: {band: f'{epath}/OrionSourceI_only.{band}.robust0.5.spw{spw}.*clarkclean10000_medsub.image.pbcor.fits'\n",
    "    for band in ('B3', 'B6', 'B7.lb')}\n",
    "    for spw in (0,1,2,3)}\n"
   ]
  },
  {
   "cell_type": "code",
   "execution_count": 152,
   "id": "2f3856af-24cf-4eb8-bfee-14cf021e6ff7",
   "metadata": {},
   "outputs": [
    {
     "data": {
      "text/plain": [
       "{0: {'B3': '/orange/adamginsburg/orion/2016.1.00165.S/external//OrionSourceI_only.B3.robust0.5.spw0.*clarkclean10000_medsub.image.pbcor.fits',\n",
       "  'B6': '/orange/adamginsburg/orion/2016.1.00165.S/external//OrionSourceI_only.B6.robust0.5.spw0.*clarkclean10000_medsub.image.pbcor.fits',\n",
       "  'B7.lb': '/orange/adamginsburg/orion/2016.1.00165.S/external//OrionSourceI_only.B7.lb.robust0.5.spw0.*clarkclean10000_medsub.image.pbcor.fits'},\n",
       " 1: {'B3': '/orange/adamginsburg/orion/2016.1.00165.S/external//OrionSourceI_only.B3.robust0.5.spw1.*clarkclean10000_medsub.image.pbcor.fits',\n",
       "  'B6': '/orange/adamginsburg/orion/2016.1.00165.S/external//OrionSourceI_only.B6.robust0.5.spw1.*clarkclean10000_medsub.image.pbcor.fits',\n",
       "  'B7.lb': '/orange/adamginsburg/orion/2016.1.00165.S/external//OrionSourceI_only.B7.lb.robust0.5.spw1.*clarkclean10000_medsub.image.pbcor.fits'},\n",
       " 2: {'B3': '/orange/adamginsburg/orion/2016.1.00165.S/external//OrionSourceI_only.B3.robust0.5.spw2.*clarkclean10000_medsub.image.pbcor.fits',\n",
       "  'B6': '/orange/adamginsburg/orion/2016.1.00165.S/external//OrionSourceI_only.B6.robust0.5.spw2.*clarkclean10000_medsub.image.pbcor.fits',\n",
       "  'B7.lb': '/orange/adamginsburg/orion/2016.1.00165.S/external//OrionSourceI_only.B7.lb.robust0.5.spw2.*clarkclean10000_medsub.image.pbcor.fits'},\n",
       " 3: {'B3': '/orange/adamginsburg/orion/2016.1.00165.S/external//OrionSourceI_only.B3.robust0.5.spw3.*clarkclean10000_medsub.image.pbcor.fits',\n",
       "  'B6': '/orange/adamginsburg/orion/2016.1.00165.S/external//OrionSourceI_only.B6.robust0.5.spw3.*clarkclean10000_medsub.image.pbcor.fits',\n",
       "  'B7.lb': '/orange/adamginsburg/orion/2016.1.00165.S/external//OrionSourceI_only.B7.lb.robust0.5.spw3.*clarkclean10000_medsub.image.pbcor.fits'}}"
      ]
     },
     "execution_count": 152,
     "metadata": {},
     "output_type": "execute_result"
    }
   ],
   "source": [
    "spwband"
   ]
  },
  {
   "cell_type": "code",
   "execution_count": null,
   "id": "c00c8538-f953-41a1-90e7-81663fbfb340",
   "metadata": {},
   "outputs": [],
   "source": []
  },
  {
   "cell_type": "code",
   "execution_count": null,
   "id": "827a753c-066c-451c-8449-975d22793160",
   "metadata": {},
   "outputs": [],
   "source": []
  }
 ],
 "metadata": {
  "kernelspec": {
   "display_name": "Py 3.9",
   "language": "python",
   "name": "python39"
  },
  "language_info": {
   "codemirror_mode": {
    "name": "ipython",
    "version": 3
   },
   "file_extension": ".py",
   "mimetype": "text/x-python",
   "name": "python",
   "nbconvert_exporter": "python",
   "pygments_lexer": "ipython3",
   "version": "3.9.7"
  }
 },
 "nbformat": 4,
 "nbformat_minor": 5
}
