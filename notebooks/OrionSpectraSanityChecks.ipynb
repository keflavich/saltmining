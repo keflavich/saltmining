{
 "cells": [
  {
   "cell_type": "code",
   "execution_count": 1,
   "id": "ca60b949-aa4f-44a8-b304-c00eca1f7547",
   "metadata": {},
   "outputs": [],
   "source": [
    "from spectral_cube import SpectralCube"
   ]
  },
  {
   "cell_type": "code",
   "execution_count": 2,
   "id": "1054ab5c-89a7-4ccc-ab08-b1b5e753cf81",
   "metadata": {},
   "outputs": [],
   "source": [
    "from astropy import units as u"
   ]
  },
  {
   "cell_type": "code",
   "execution_count": 3,
   "id": "f78b7d89-8bcc-4a13-9255-d019f1d4ef45",
   "metadata": {},
   "outputs": [
    {
     "data": {
      "text/plain": [
       "VaryingResolutionSpectralCube with shape=(1920, 1250, 1250) and unit=Jy / beam:\n",
       " n_x:   1250  type_x: RA---SIN  unit_x: deg    range:    83.809793 deg:   83.811187 deg\n",
       " n_y:   1250  type_y: DEC--SIN  unit_y: deg    range:    -5.375852 deg:   -5.374464 deg\n",
       " n_s:   1920  type_s: FREQ      unit_s: Hz     range: 231834857246.900 Hz:233708832546.243 Hz"
      ]
     },
     "execution_count": 3,
     "metadata": {},
     "output_type": "execute_result"
    }
   ],
   "source": [
    "cube = SpectralCube.read('/orange/adamginsburg/orion/2016.1.00165.S/external/full_OrionSourceI_B6_spw1_lines_cutout.fits')\n",
    "cube"
   ]
  },
  {
   "cell_type": "code",
   "execution_count": 4,
   "id": "a93dc44c-6f70-4d26-9b84-5842dd030d7d",
   "metadata": {},
   "outputs": [
    {
     "data": {
      "image/png": "[encoded data removed]",
      "text/plain": [
       "<Figure size 432x288 with 1 Axes>"
      ]
     },
     "metadata": {
      "needs_background": "light"
     },
     "output_type": "display_data"
    }
   ],
   "source": [
    "cube.spectral_slab(232.48*u.GHz, 232.52*u.GHz)[:, 640, 650].to(u.K).quicklook()"
   ]
  },
  {
   "cell_type": "code",
   "execution_count": 5,
   "id": "c8fb6da2-0e5d-4197-ab5f-2d5513205686",
   "metadata": {},
   "outputs": [
    {
     "data": {
      "image/png": "[encoded data removed]",
      "text/plain": [
       "<Figure size 432x288 with 1 Axes>"
      ]
     },
     "metadata": {
      "needs_background": "light"
     },
     "output_type": "display_data"
    }
   ],
   "source": [
    "cube.spectral_slab(232.48*u.GHz, 232.52*u.GHz)[:, 660, 640].to(u.K).quicklook()"
   ]
  },
  {
   "cell_type": "code",
   "execution_count": null,
   "id": "41ff7e64-6d4b-465f-a4fd-ac12ab49c688",
   "metadata": {},
   "outputs": [],
   "source": []
  },
  {
   "cell_type": "code",
   "execution_count": 6,
   "id": "ecd4374d-b0e0-4c4d-8a21-39b7213cf3bf",
   "metadata": {},
   "outputs": [
    {
     "data": {
      "text/plain": [
       "<astropy.visualization.units.quantity_support.<locals>.MplQuantityConverter at 0x2ae58f27f1f0>"
      ]
     },
     "execution_count": 6,
     "metadata": {},
     "output_type": "execute_result"
    }
   ],
   "source": [
    "%matplotlib inline\n",
    "import pylab as pl\n",
    "pl.rcParams['figure.facecolor'] = 'w'\n",
    "from spectral_cube import SpectralCube\n",
    "from astropy import units as u\n",
    "from astropy.visualization import quantity_support\n",
    "quantity_support()"
   ]
  },
  {
   "cell_type": "code",
   "execution_count": 7,
   "id": "3a5d1f74-28bb-4985-8a32-6a2d2b522539",
   "metadata": {},
   "outputs": [],
   "source": [
    "from astropy.table import Table\n",
    "from astropy import table"
   ]
  },
  {
   "cell_type": "code",
   "execution_count": 8,
   "id": "a35722f4-7929-4bd2-a032-5d606bc7be3b",
   "metadata": {},
   "outputs": [],
   "source": [
    "import pprint"
   ]
  },
  {
   "cell_type": "code",
   "execution_count": 9,
   "id": "dad31fa0-f1ca-4e24-867e-9c10da167e39",
   "metadata": {},
   "outputs": [],
   "source": [
    "import scipy, scipy.ndimage"
   ]
  },
  {
   "cell_type": "code",
   "execution_count": 10,
   "id": "c473cd1a-caf0-4f37-955a-cddbdcc3aa38",
   "metadata": {},
   "outputs": [
    {
     "name": "stderr",
     "output_type": "stream",
     "text": [
      "WARNING: Model is linear in parameters; consider using linear fitting methods. [astropy.modeling.fitting]\n",
      "WARNING: Model is linear in parameters; consider using linear fitting methods. [astropy.modeling.fitting]\n"
     ]
    }
   ],
   "source": [
    "import numpy as np\n",
    "import os\n",
    "import glob\n",
    "from astropy import constants, units as u, table, stats, coordinates, wcs, log, coordinates as coord\n",
    "import radio_beam\n",
    "import pyspeckit\n",
    "import pylab as pl\n",
    "from astroquery.splatalogue.utils import minimize_table as mt\n",
    "import sys\n",
    "sys.path.append('/orange/adamginsburg/salt/Orion_ALMA_2016.1.00165.S/analysis')\n",
    "import lines\n",
    "import paths\n",
    "from salt_tables import (salt_tables, salt_table_names, SO, SO2, HCl, sis_tables, AlCl, AlF, Al37Cl,\n",
    "                         NaF, AlO, AlOH, NaCN, CaS, CaO)"
   ]
  },
  {
   "cell_type": "code",
   "execution_count": 11,
   "id": "6c1cd476-b0ef-4933-93ef-6f1ebb78cb62",
   "metadata": {},
   "outputs": [],
   "source": [
    "import regions\n",
    "from astropy import units as u, coordinates\n",
    "cen = coordinates.SkyCoord(83.810486281, -5.37517214, unit=(u.deg, u.deg), frame='icrs')\n",
    "reg = regions.Regions([regions.RectangleSkyRegion(cen, 0.53*u.arcsec, 0.34*u.arcsec, 52*u.deg)])\n",
    "#    box(83.810486281, -5.375172145, 0.3368\", 0.5281\", 322.67123) # color=#2EE6D6 width=2\n",
    "\n",
    "#reg2 = regions.Regions.read('cutout2.reg')\n",
    "#reg3 = regions.Regions.read('cutout3.reg')\n",
    "#regvsm = regions.Regions.read('verysmall.reg')\n",
    "#regvvsm = regions.Regions.read('innerdiskbox.reg')"
   ]
  },
  {
   "cell_type": "markdown",
   "id": "c9cd1958-5195-4e06-87e9-a4b2be46f2ea",
   "metadata": {},
   "source": [
    "# NaCl Stackl"
   ]
  },
  {
   "cell_type": "code",
   "execution_count": 12,
   "id": "fe1553ed-d9a1-48d4-a506-115d7755dce4",
   "metadata": {},
   "outputs": [],
   "source": [
    "from spectral_cube.analysis_utilities import stack_cube"
   ]
  },
  {
   "cell_type": "code",
   "execution_count": 13,
   "id": "3c6cd450-719f-44f1-9898-afe9fcc3a2e7",
   "metadata": {},
   "outputs": [],
   "source": [
    "nacltables = salt_tables[3:5]\n",
    "#nacltables[0]"
   ]
  },
  {
   "cell_type": "code",
   "execution_count": 14,
   "id": "efe1758d-4ba9-43be-99f9-2388c632c385",
   "metadata": {},
   "outputs": [],
   "source": [
    "import spectral_cube.analysis_utilities\n",
    "import imp\n",
    "imp.reload(spectral_cube.analysis_utilities)\n",
    "from spectral_cube.analysis_utilities import stack_cube"
   ]
  },
  {
   "cell_type": "code",
   "execution_count": 15,
   "id": "cd49a6e4-f804-4679-b55b-15767e358d85",
   "metadata": {},
   "outputs": [],
   "source": [
    "flist = (glob.glob('/orange/adamginsburg/orion/2016.1.00165.S/external/full_OrionSourceI_B6_spw*_lines_cutout.fits'))"
   ]
  },
  {
   "cell_type": "code",
   "execution_count": 16,
   "id": "fcf8835b-cc33-4cf1-b494-1100983ffbbb",
   "metadata": {},
   "outputs": [
    {
     "data": {
      "text/plain": [
       "['/orange/adamginsburg/orion/2016.1.00165.S/external/full_OrionSourceI_B6_spw1_lines_cutout.fits',\n",
       " '/orange/adamginsburg/orion/2016.1.00165.S/external/full_OrionSourceI_B6_spw0_lines_cutout.fits',\n",
       " '/orange/adamginsburg/orion/2016.1.00165.S/external/full_OrionSourceI_B6_spw2_lines_cutout.fits',\n",
       " '/orange/adamginsburg/orion/2016.1.00165.S/external/full_OrionSourceI_B6_spw3_lines_cutout.fits']"
      ]
     },
     "execution_count": 16,
     "metadata": {},
     "output_type": "execute_result"
    }
   ],
   "source": [
    "flist"
   ]
  },
  {
   "cell_type": "code",
   "execution_count": 17,
   "id": "7b0a2687-a7b5-4563-bf10-4c0a2c2e7320",
   "metadata": {},
   "outputs": [
    {
     "name": "stderr",
     "output_type": "stream",
     "text": [
      "WARNING: PossiblySlowWarning: This function (<function BaseSpectralCube._apply_everywhere at 0x2ae2c304c160>) requires loading the entire cube into memory and may therefore be slow. [spectral_cube.utils]\n",
      "WARNING: PossiblySlowWarning: This function (<function BaseSpectralCube._apply_everywhere at 0x2ae2c304c160>) requires loading the entire cube into memory and may therefore be slow. [spectral_cube.utils]\n",
      "WARNING: PossiblySlowWarning: This function (<function BaseSpectralCube._apply_everywhere at 0x2ae2c304c160>) requires loading the entire cube into memory and may therefore be slow. [spectral_cube.utils]\n",
      "WARNING: PossiblySlowWarning: This function (<function BaseSpectralCube._apply_everywhere at 0x2ae2c304c160>) requires loading the entire cube into memory and may therefore be slow. [spectral_cube.utils]\n"
     ]
    },
    {
     "data": {
      "text/plain": [
       "[DaskSpectralCube with shape=(1920, 156, 148) and unit=Jy / beam and chunk size (640, 156, 148):\n",
       "  n_x:    148  type_x: RA---SIN  unit_x: deg    range:    83.810404 deg:   83.810569 deg\n",
       "  n_y:    156  type_y: DEC--SIN  unit_y: deg    range:    -5.375258 deg:   -5.375086 deg\n",
       "  n_s:   1920  type_s: FREQ      unit_s: Hz     range: 231834857246.900 Hz:233708832546.243 Hz,\n",
       " DaskSpectralCube with shape=(1920, 156, 148) and unit=Jy / beam and chunk size (640, 156, 148):\n",
       "  n_x:    148  type_x: RA---SIN  unit_x: deg    range:    83.810404 deg:   83.810569 deg\n",
       "  n_y:    156  type_y: DEC--SIN  unit_y: deg    range:    -5.375258 deg:   -5.375086 deg\n",
       "  n_s:   1920  type_s: FREQ      unit_s: Hz     range: 214277229834.040 Hz:216151205133.500 Hz,\n",
       " DaskSpectralCube with shape=(1920, 156, 148) and unit=Jy / beam and chunk size (640, 156, 148):\n",
       "  n_x:    148  type_x: RA---SIN  unit_x: deg    range:    83.810404 deg:   83.810569 deg\n",
       "  n_y:    156  type_y: DEC--SIN  unit_y: deg    range:    -5.375258 deg:   -5.375086 deg\n",
       "  n_s:   1920  type_s: FREQ      unit_s: Hz     range: 229167925754.100 Hz:231041901053.560 Hz,\n",
       " DaskSpectralCube with shape=(1920, 156, 148) and unit=Jy / beam and chunk size (640, 156, 148):\n",
       "  n_x:    148  type_x: RA---SIN  unit_x: deg    range:    83.810404 deg:   83.810569 deg\n",
       "  n_y:    156  type_y: DEC--SIN  unit_y: deg    range:    -5.375258 deg:   -5.375086 deg\n",
       "  n_s:   1920  type_s: FREQ      unit_s: Hz     range: 216976156185.440 Hz:218850131484.900 Hz]"
      ]
     },
     "execution_count": 17,
     "metadata": {},
     "output_type": "execute_result"
    }
   ],
   "source": [
    "regn = \"co1\"\n",
    "# don't need to subcube b/c reg = cutout = co1\n",
    "cubes = [SpectralCube.read(fn, use_dask=True)#.subcube_from_regions(reg3)\n",
    "         for fn in (glob.glob('/orange/adamginsburg/orion/2016.1.00165.S/external/full_OrionSourceI_B6_spw*_lines_cutout_smaller.fits'))]\n",
    "for ii,cube in enumerate(cubes):\n",
    "    # continuum subtract\n",
    "    with cube.use_dask_scheduler('threads', num_workers=8):\n",
    "        cube.allow_huge_operations = True\n",
    "        cubes[ii] = cube - cube.percentile(25, axis=0)\n",
    "cubes"
   ]
  },
  {
   "cell_type": "code",
   "execution_count": 18,
   "id": "3ea4bc75-36a1-4ec4-a933-e8d6ec5041ef",
   "metadata": {},
   "outputs": [
    {
     "data": {
      "text/plain": [
       "(<Quantity [217.980231, 230.779167, 232.509977, 214.938711, 229.246046] GHz>,\n",
       " array(['23Na-35Clv=2-2 J=17-16', '23Na-35Clv=2-2 J=18-17',\n",
       "        '23Na-35Clv=1-1 J=18-17', '23Na-37Clv=1-1 J=17-16',\n",
       "        '23Na-37Clv=0-0 J=18-17'], dtype='<U24'))"
      ]
     },
     "execution_count": 18,
     "metadata": {},
     "output_type": "execute_result"
    }
   ],
   "source": [
    "linelist = np.concatenate([data['Freq'][(data['vu'] <= 3) &\n",
    "                                          np.any([((data['Freq'].quantity > cube.spectral_extrema[0]) &\n",
    "                                                   (data['Freq'].quantity < cube.spectral_extrema[1]))\n",
    "                                                 for cube in cubes],\n",
    "                                                 axis=0)].quantity\n",
    "                             for data in nacltables])\n",
    "linenames = np.concatenate( [data['Species'][(data['vu'] <= 3) &\n",
    "                                          np.any([((data['Freq'].quantity > cube.spectral_extrema[0]) &\n",
    "                                                   (data['Freq'].quantity < cube.spectral_extrema[1]))\n",
    "                                                 for cube in cubes],\n",
    "                                                 axis=0)]\n",
    "                             for data in nacltables] )\n",
    "(linelist, linenames)"
   ]
  }
 ],
 "metadata": {
  "kernelspec": {
   "display_name": "Py 3.9",
   "language": "python",
   "name": "python39"
  },
  "language_info": {
   "codemirror_mode": {
    "name": "ipython",
    "version": 3
   },
   "file_extension": ".py",
   "mimetype": "text/x-python",
   "name": "python",
   "nbconvert_exporter": "python",
   "pygments_lexer": "ipython3",
   "version": "3.9.7"
  }
 },
 "nbformat": 4,
 "nbformat_minor": 5
}
