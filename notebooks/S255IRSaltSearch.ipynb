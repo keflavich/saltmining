{
 "cells": [
  {
   "cell_type": "code",
   "execution_count": 2,
   "id": "determined-guest",
   "metadata": {},
   "outputs": [],
   "source": [
    "from astroquery.alma import Alma"
   ]
  },
  {
   "cell_type": "code",
   "execution_count": 3,
   "id": "atomic-residence",
   "metadata": {},
   "outputs": [],
   "source": [
    "alma = Alma()"
   ]
  },
  {
   "cell_type": "code",
   "execution_count": 4,
   "id": "looking-blast",
   "metadata": {},
   "outputs": [
    {
     "name": "stdout",
     "output_type": "stream",
     "text": [
      "INFO: Authenticating keflavich on asa.alma.cl ... [astroquery.alma.core]\n",
      "INFO: Authentication successful! [astroquery.alma.core]\n"
     ]
    }
   ],
   "source": [
    "alma.login('keflavich')"
   ]
  },
  {
   "cell_type": "code",
   "execution_count": 5,
   "id": "intelligent-spirit",
   "metadata": {},
   "outputs": [],
   "source": [
    "#uid://A001/X1465/X2dfe"
   ]
  },
  {
   "cell_type": "code",
   "execution_count": 6,
   "id": "selective-control",
   "metadata": {},
   "outputs": [],
   "source": [
    "import os, shutil"
   ]
  },
  {
   "cell_type": "code",
   "execution_count": 7,
   "id": "federal-generic",
   "metadata": {},
   "outputs": [],
   "source": [
    "tgtdir = '/orange/adamginsburg/salt/s255ir'\n",
    "if not os.path.exists(tgtdir):\n",
    "    os.mkdir(tgtdir)\n",
    "alma.cache_location = tgtdir\n",
    "os.chdir(tgtdir)"
   ]
  },
  {
   "cell_type": "code",
   "execution_count": 8,
   "id": "decreased-parallel",
   "metadata": {
    "tags": []
   },
   "outputs": [
    {
     "data": {
      "text/html": [
       "<div><i>Table length=4</i>\n",
       "<table id=\"table48002704631456\" class=\"table-striped table-bordered table-condensed\">\n",
       "<thead><tr><th>obs_publisher_did</th><th>obs_collection</th><th>facility_name</th><th>instrument_name</th><th>obs_id</th><th>dataproduct_type</th><th>calib_level</th><th>target_name</th><th>s_ra</th><th>s_dec</th><th>s_fov</th><th>s_region</th><th>s_resolution</th><th>t_min</th><th>t_max</th><th>t_exptime</th><th>t_resolution</th><th>em_min</th><th>em_max</th><th>em_res_power</th><th>pol_states</th><th>o_ucd</th><th>access_url</th><th>access_format</th><th>proposal_id</th><th>data_rights</th><th>gal_longitude</th><th>gal_latitude</th><th>band_list</th><th>em_resolution</th><th>bandwidth</th><th>antenna_arrays</th><th>is_mosaic</th><th>obs_release_date</th><th>spatial_resolution</th><th>frequency_support</th><th>frequency</th><th>velocity_resolution</th><th>obs_creator_name</th><th>pub_title</th><th>first_author</th><th>authors</th><th>pub_abstract</th><th>publication_year</th><th>proposal_abstract</th><th>schedblock_name</th><th>proposal_authors</th><th>sensitivity_10kms</th><th>cont_sensitivity_bandwidth</th><th>pwv</th><th>group_ous_uid</th><th>member_ous_uid</th><th>asdm_uid</th><th>obs_title</th><th>type</th><th>scan_intent</th><th>science_observation</th><th>spatial_scale_max</th><th>qa2_passed</th><th>bib_reference</th><th>science_keyword</th><th>scientific_category</th><th>lastModified</th></tr></thead>\n",
       "<thead><tr><th></th><th></th><th></th><th></th><th></th><th></th><th></th><th></th><th>deg</th><th>deg</th><th>deg</th><th>deg</th><th>deg</th><th>d</th><th>d</th><th>s</th><th>s</th><th>m</th><th>m</th><th></th><th></th><th></th><th></th><th></th><th></th><th></th><th>deg</th><th>deg</th><th></th><th>m</th><th>GHz</th><th></th><th></th><th></th><th>arcsec</th><th>GHz</th><th>GHz</th><th>m / s</th><th></th><th></th><th></th><th></th><th></th><th></th><th></th><th></th><th></th><th>mJy / beam</th><th>mJy / beam</th><th>mm</th><th></th><th></th><th></th><th></th><th></th><th></th><th></th><th>arcsec</th><th></th><th></th><th></th><th></th><th></th></tr></thead>\n",
       "<thead><tr><th>str33</th><th>str4</th><th>str3</th><th>str4</th><th>str64</th><th>str5</th><th>int32</th><th>str256</th><th>float64</th><th>float64</th><th>float64</th><th>object</th><th>float64</th><th>float64</th><th>float64</th><th>float64</th><th>float64</th><th>float64</th><th>float64</th><th>float64</th><th>str64</th><th>str35</th><th>str72</th><th>str9</th><th>str64</th><th>str11</th><th>float64</th><th>float64</th><th>str30</th><th>float64</th><th>float64</th><th>str660</th><th>str1</th><th>object</th><th>float64</th><th>str4000</th><th>float64</th><th>float64</th><th>str256</th><th>str256</th><th>str256</th><th>str4000</th><th>str4000</th><th>int32</th><th>str4000</th><th>str128</th><th>str2000</th><th>float64</th><th>float64</th><th>float32</th><th>str64</th><th>str64</th><th>str32</th><th>str256</th><th>str16</th><th>str256</th><th>str1</th><th>float64</th><th>str1</th><th>str4000</th><th>str200</th><th>str200</th><th>object</th></tr></thead>\n",
       "<tr><td>ADS/JAO.ALMA#2019.1.00492.S</td><td>ALMA</td><td>JAO</td><td>ALMA</td><td>uid://A001/X1465/X2dfe</td><td>cube</td><td>2</td><td>S255IR-SMA1</td><td>93.2250416666483</td><td>17.989738888889704</td><td>0.007152270575276689</td><td>Circle ICRS 93.225042 17.989739 0.003576</td><td>0.02207331938769823</td><td>59482.406104</td><td>59482.449689</td><td>2086.56</td><td>2086.56</td><td>0.001273344904877368</td><td>0.0012835611994048905</td><td>206904.4306406033</td><td>/XX/YY/</td><td>phot.flux.density;phys.polarization</td><td>http://almascience.org/aq?member_ous_id=uid://A001/X1465/X2dfe</td><td>text/html</td><td>2019.1.00492.S</td><td>Proprietary</td><td>192.6003204662394</td><td>-0.048035311474175675</td><td>6</td><td>265.57449915523875</td><td>1875000000.0</td><td>A027:DV03 A035:DA43 A089:DA52 A091:DA61 A094:DV14 A096:DA44 A101:DV08 A104:DA45 A108:DA50 A111:DV19 A115:DA64 A118:DA58 A120:DV12 A122:DA55 A123:DA63 A125:DA49 A127:DV01 A128:DV24 A129:DV02 A130:DV06 A131:DA65 A132:DA46 A133:DV25 A135:DV10 P401:DA47 P404:DV20 P408:DV17 P409:DA59 P410:DV21 P411:DA56 P412:DV22 S301:DA54 S303:DA60 S306:DA48 S307:DA53 S309:DV11 W202:DV23 W203:DA42 W207:DA51 W210:DA62</td><td>F</td><td>2022-12-04T18:25:24.000</td><td>0.02207331938769823</td><td>[216.86..218.74GHz,1128.91kHz,540.4uJy/beam@10km/s,33.6uJy/beam@native, XX YY] U [219.56..221.44GHz,1128.91kHz,538.5uJy/beam@10km/s,33.7uJy/beam@native, XX YY] U [231.56..233.44GHz,1128.91kHz,544.3uJy/beam@10km/s,35uJy/beam@native, XX YY] U [233.56..235.44GHz,1128.91kHz,563.3uJy/beam@10km/s,36.4uJy/beam@native, XX YY]</td><td>226.1500025701628</td><td>1448.941702561918</td><td>Ginsburg, Adam</td><td></td><td></td><td></td><td></td><td>--</td><td>Stars&apos; masses decide their fates. The masses of forming high-mass stars are challenging to measure. The most direct and accurate method to measure a protostar&apos;s mass is by measuring the rotation curve of its orbiting disk. However, most high-mass stars are surrounded by a dust and molecule-rich medium that obscures the disk&apos;s kinematics. We recently discovered that several molecules, NaCl and KCl, uniquely trace the disk around high-mass protostars and are not present in the obscuring gas cores. We propose to observe a sample of high-mass protostars in these lines to kinematically measure their masses and demonstrate the viability of these lines as kinematic mass tracers.</td><td>S255IR-S_a_06_TM1</td><td>Goddi, Ciriaco; Bally, John; McGuire, Brett; Maud, Luke; Plambeck, Richard; wright, melvyn;</td><td>0.5632974347742552</td><td>0.01731824203981878</td><td>0.44342768</td><td>uid://A001/X1465/X2dfd</td><td>uid://A001/X1465/X2dfe</td><td>uid://A002/Xf0fd41/X5465</td><td>Weighing massive protostars with salts</td><td>S</td><td>TARGET</td><td>T</td><td>0.4151830629854785</td><td>T</td><td></td><td>High-mass star formation</td><td>ISM and star formation</td><td>2021-09-30T16:34:41.133</td></tr>\n",
       "<tr><td>ADS/JAO.ALMA#2019.1.00492.S</td><td>ALMA</td><td>JAO</td><td>ALMA</td><td>uid://A001/X1465/X2dfe</td><td>cube</td><td>2</td><td>S255IR-SMA1</td><td>93.2250416666483</td><td>17.989738888889704</td><td>0.007152270575276689</td><td>Circle ICRS 93.225042 17.989739 0.003576</td><td>0.02207331938769823</td><td>59482.406104</td><td>59482.449689</td><td>2086.56</td><td>2086.56</td><td>0.0012842544446514676</td><td>0.0012946472622278073</td><td>205132.7082700832</td><td>/XX/YY/</td><td>phot.flux.density;phys.polarization</td><td>http://almascience.org/aq?member_ous_id=uid://A001/X1465/X2dfe</td><td>text/html</td><td>2019.1.00492.S</td><td>Proprietary</td><td>192.6003204662394</td><td>-0.048035311474175675</td><td>6</td><td>265.57449915523875</td><td>1875000000.0</td><td>A027:DV03 A035:DA43 A089:DA52 A091:DA61 A094:DV14 A096:DA44 A101:DV08 A104:DA45 A108:DA50 A111:DV19 A115:DA64 A118:DA58 A120:DV12 A122:DA55 A123:DA63 A125:DA49 A127:DV01 A128:DV24 A129:DV02 A130:DV06 A131:DA65 A132:DA46 A133:DV25 A135:DV10 P401:DA47 P404:DV20 P408:DV17 P409:DA59 P410:DV21 P411:DA56 P412:DV22 S301:DA54 S303:DA60 S306:DA48 S307:DA53 S309:DV11 W202:DV23 W203:DA42 W207:DA51 W210:DA62</td><td>F</td><td>2022-12-04T18:25:24.000</td><td>0.02207331938769823</td><td>[216.86..218.74GHz,1128.91kHz,540.4uJy/beam@10km/s,33.6uJy/beam@native, XX YY] U [219.56..221.44GHz,1128.91kHz,538.5uJy/beam@10km/s,33.7uJy/beam@native, XX YY] U [231.56..233.44GHz,1128.91kHz,544.3uJy/beam@10km/s,35uJy/beam@native, XX YY] U [233.56..235.44GHz,1128.91kHz,563.3uJy/beam@10km/s,36.4uJy/beam@native, XX YY]</td><td>226.1500025701628</td><td>1448.941702561918</td><td>Ginsburg, Adam</td><td></td><td></td><td></td><td></td><td>--</td><td>Stars&apos; masses decide their fates. The masses of forming high-mass stars are challenging to measure. The most direct and accurate method to measure a protostar&apos;s mass is by measuring the rotation curve of its orbiting disk. However, most high-mass stars are surrounded by a dust and molecule-rich medium that obscures the disk&apos;s kinematics. We recently discovered that several molecules, NaCl and KCl, uniquely trace the disk around high-mass protostars and are not present in the obscuring gas cores. We propose to observe a sample of high-mass protostars in these lines to kinematically measure their masses and demonstrate the viability of these lines as kinematic mass tracers.</td><td>S255IR-S_a_06_TM1</td><td>Goddi, Ciriaco; Bally, John; McGuire, Brett; Maud, Luke; Plambeck, Richard; wright, melvyn;</td><td>0.5443159142274666</td><td>0.01731824203981878</td><td>0.44342768</td><td>uid://A001/X1465/X2dfd</td><td>uid://A001/X1465/X2dfe</td><td>uid://A002/Xf0fd41/X5465</td><td>Weighing massive protostars with salts</td><td>S</td><td>TARGET</td><td>T</td><td>0.4151830629854785</td><td>T</td><td></td><td>High-mass star formation</td><td>ISM and star formation</td><td>2021-09-30T16:34:41.133</td></tr>\n",
       "<tr><td>ADS/JAO.ALMA#2019.1.00492.S</td><td>ALMA</td><td>JAO</td><td>ALMA</td><td>uid://A001/X1465/X2dfe</td><td>cube</td><td>2</td><td>S255IR-SMA1</td><td>93.2250416666483</td><td>17.989738888889704</td><td>0.007152270575276689</td><td>Circle ICRS 93.225042 17.989739 0.003576</td><td>0.02207331938769823</td><td>59482.406104</td><td>59482.449689</td><td>2086.56</td><td>2086.56</td><td>0.0013705614878606136</td><td>0.001382404562110204</td><td>193770.5834488235</td><td>/XX/YY/</td><td>phot.flux.density;phys.polarization</td><td>http://almascience.org/aq?member_ous_id=uid://A001/X1465/X2dfe</td><td>text/html</td><td>2019.1.00492.S</td><td>Proprietary</td><td>192.6003204662394</td><td>-0.048035311474175675</td><td>6</td><td>265.57449915523875</td><td>1875000000.0</td><td>A027:DV03 A035:DA43 A089:DA52 A091:DA61 A094:DV14 A096:DA44 A101:DV08 A104:DA45 A108:DA50 A111:DV19 A115:DA64 A118:DA58 A120:DV12 A122:DA55 A123:DA63 A125:DA49 A127:DV01 A128:DV24 A129:DV02 A130:DV06 A131:DA65 A132:DA46 A133:DV25 A135:DV10 P401:DA47 P404:DV20 P408:DV17 P409:DA59 P410:DV21 P411:DA56 P412:DV22 S301:DA54 S303:DA60 S306:DA48 S307:DA53 S309:DV11 W202:DV23 W203:DA42 W207:DA51 W210:DA62</td><td>F</td><td>2022-12-04T18:25:24.000</td><td>0.02207331938769823</td><td>[216.86..218.74GHz,1128.91kHz,540.4uJy/beam@10km/s,33.6uJy/beam@native, XX YY] U [219.56..221.44GHz,1128.91kHz,538.5uJy/beam@10km/s,33.7uJy/beam@native, XX YY] U [231.56..233.44GHz,1128.91kHz,544.3uJy/beam@10km/s,35uJy/beam@native, XX YY] U [233.56..235.44GHz,1128.91kHz,563.3uJy/beam@10km/s,36.4uJy/beam@native, XX YY]</td><td>226.1500025701628</td><td>1448.941702561918</td><td>Ginsburg, Adam</td><td></td><td></td><td></td><td></td><td>--</td><td>Stars&apos; masses decide their fates. The masses of forming high-mass stars are challenging to measure. The most direct and accurate method to measure a protostar&apos;s mass is by measuring the rotation curve of its orbiting disk. However, most high-mass stars are surrounded by a dust and molecule-rich medium that obscures the disk&apos;s kinematics. We recently discovered that several molecules, NaCl and KCl, uniquely trace the disk around high-mass protostars and are not present in the obscuring gas cores. We propose to observe a sample of high-mass protostars in these lines to kinematically measure their masses and demonstrate the viability of these lines as kinematic mass tracers.</td><td>S255IR-S_a_06_TM1</td><td>Goddi, Ciriaco; Bally, John; McGuire, Brett; Maud, Luke; Plambeck, Richard; wright, melvyn;</td><td>0.540442338423673</td><td>0.01731824203981878</td><td>0.44342768</td><td>uid://A001/X1465/X2dfd</td><td>uid://A001/X1465/X2dfe</td><td>uid://A002/Xf0fd41/X5465</td><td>Weighing massive protostars with salts</td><td>S</td><td>TARGET</td><td>T</td><td>0.4151830629854785</td><td>T</td><td></td><td>High-mass star formation</td><td>ISM and star formation</td><td>2021-09-30T16:34:41.133</td></tr>\n",
       "<tr><td>ADS/JAO.ALMA#2019.1.00492.S</td><td>ALMA</td><td>JAO</td><td>ALMA</td><td>uid://A001/X1465/X2dfe</td><td>cube</td><td>2</td><td>S255IR-SMA1</td><td>93.2250416666483</td><td>17.989738888889704</td><td>0.007152270575276689</td><td>Circle ICRS 93.225042 17.989739 0.003576</td><td>0.02207331938769823</td><td>59482.406104</td><td>59482.449689</td><td>2086.56</td><td>2086.56</td><td>0.0013538501132013903</td><td>0.0013654049234958776</td><td>196162.40864895028</td><td>/XX/YY/</td><td>phot.flux.density;phys.polarization</td><td>http://almascience.org/aq?member_ous_id=uid://A001/X1465/X2dfe</td><td>text/html</td><td>2019.1.00492.S</td><td>Proprietary</td><td>192.6003204662394</td><td>-0.048035311474175675</td><td>6</td><td>265.57449915523875</td><td>1875000000.0</td><td>A027:DV03 A035:DA43 A089:DA52 A091:DA61 A094:DV14 A096:DA44 A101:DV08 A104:DA45 A108:DA50 A111:DV19 A115:DA64 A118:DA58 A120:DV12 A122:DA55 A123:DA63 A125:DA49 A127:DV01 A128:DV24 A129:DV02 A130:DV06 A131:DA65 A132:DA46 A133:DV25 A135:DV10 P401:DA47 P404:DV20 P408:DV17 P409:DA59 P410:DV21 P411:DA56 P412:DV22 S301:DA54 S303:DA60 S306:DA48 S307:DA53 S309:DV11 W202:DV23 W203:DA42 W207:DA51 W210:DA62</td><td>F</td><td>2022-12-04T18:25:24.000</td><td>0.02207331938769823</td><td>[216.86..218.74GHz,1128.91kHz,540.4uJy/beam@10km/s,33.6uJy/beam@native, XX YY] U [219.56..221.44GHz,1128.91kHz,538.5uJy/beam@10km/s,33.7uJy/beam@native, XX YY] U [231.56..233.44GHz,1128.91kHz,544.3uJy/beam@10km/s,35uJy/beam@native, XX YY] U [233.56..235.44GHz,1128.91kHz,563.3uJy/beam@10km/s,36.4uJy/beam@native, XX YY]</td><td>226.1500025701628</td><td>1448.941702561918</td><td>Ginsburg, Adam</td><td></td><td></td><td></td><td></td><td>--</td><td>Stars&apos; masses decide their fates. The masses of forming high-mass stars are challenging to measure. The most direct and accurate method to measure a protostar&apos;s mass is by measuring the rotation curve of its orbiting disk. However, most high-mass stars are surrounded by a dust and molecule-rich medium that obscures the disk&apos;s kinematics. We recently discovered that several molecules, NaCl and KCl, uniquely trace the disk around high-mass protostars and are not present in the obscuring gas cores. We propose to observe a sample of high-mass protostars in these lines to kinematically measure their masses and demonstrate the viability of these lines as kinematic mass tracers.</td><td>S255IR-S_a_06_TM1</td><td>Goddi, Ciriaco; Bally, John; McGuire, Brett; Maud, Luke; Plambeck, Richard; wright, melvyn;</td><td>0.5384940028704416</td><td>0.01731824203981878</td><td>0.44342768</td><td>uid://A001/X1465/X2dfd</td><td>uid://A001/X1465/X2dfe</td><td>uid://A002/Xf0fd41/X5465</td><td>Weighing massive protostars with salts</td><td>S</td><td>TARGET</td><td>T</td><td>0.4151830629854785</td><td>T</td><td></td><td>High-mass star formation</td><td>ISM and star formation</td><td>2021-09-30T16:34:41.133</td></tr>\n",
       "</table></div>"
      ],
      "text/plain": [
       "<Table length=4>\n",
       "     obs_publisher_did      obs_collection facility_name instrument_name         obs_id         ... qa2_passed bib_reference     science_keyword       scientific_category         lastModified     \n",
       "                                                                                                ...                                                                                                 \n",
       "           str33                 str4           str3           str4              str64          ...    str1       str4000             str200                  str200                  object        \n",
       "--------------------------- -------------- ------------- --------------- ---------------------- ... ---------- ------------- ------------------------ ---------------------- -----------------------\n",
       "ADS/JAO.ALMA#2019.1.00492.S           ALMA           JAO            ALMA uid://A001/X1465/X2dfe ...          T               High-mass star formation ISM and star formation 2021-09-30T16:34:41.133\n",
       "ADS/JAO.ALMA#2019.1.00492.S           ALMA           JAO            ALMA uid://A001/X1465/X2dfe ...          T               High-mass star formation ISM and star formation 2021-09-30T16:34:41.133\n",
       "ADS/JAO.ALMA#2019.1.00492.S           ALMA           JAO            ALMA uid://A001/X1465/X2dfe ...          T               High-mass star formation ISM and star formation 2021-09-30T16:34:41.133\n",
       "ADS/JAO.ALMA#2019.1.00492.S           ALMA           JAO            ALMA uid://A001/X1465/X2dfe ...          T               High-mass star formation ISM and star formation 2021-09-30T16:34:41.133"
      ]
     },
     "execution_count": 8,
     "metadata": {},
     "output_type": "execute_result"
    }
   ],
   "source": [
    "alma.query({'project_code': '2019.1.00492.S'}, public=False)"
   ]
  },
  {
   "cell_type": "code",
   "execution_count": 9,
   "id": "accessible-beijing",
   "metadata": {},
   "outputs": [
    {
     "name": "stdout",
     "output_type": "stream",
     "text": [
      "INFO: Downloading files of size 91.225313762 Gbyte... [astroquery.alma.core]\n",
      "INFO: Found cached file /orange/adamginsburg/salt/s255ir/member.uid___A001_X1465_X2dfe.README.txt with expected size 3554. [astroquery.query]\n",
      "INFO: Found cached file /orange/adamginsburg/salt/s255ir/2019.1.00492.S_uid___A001_X1465_X2dfe_001_of_001.tar with expected size 8389576704. [astroquery.query]\n",
      "INFO: Found cached file /orange/adamginsburg/salt/s255ir/2019.1.00492.S_uid___A001_X1465_X2dfe_auxiliary.tar with expected size 198432768. [astroquery.query]\n",
      "INFO: Found cached file /orange/adamginsburg/salt/s255ir/2019.1.00492.S_uid___A002_Xf0fd41_X5465.asdm.sdm.tar with expected size 82637300736. [astroquery.query]\n"
     ]
    },
    {
     "data": {
      "text/plain": [
       "['/orange/adamginsburg/salt/s255ir/member.uid___A001_X1465_X2dfe.README.txt',\n",
       " '/orange/adamginsburg/salt/s255ir/2019.1.00492.S_uid___A001_X1465_X2dfe_001_of_001.tar',\n",
       " '/orange/adamginsburg/salt/s255ir/2019.1.00492.S_uid___A001_X1465_X2dfe_auxiliary.tar',\n",
       " '/orange/adamginsburg/salt/s255ir/2019.1.00492.S_uid___A002_Xf0fd41_X5465.asdm.sdm.tar']"
      ]
     },
     "execution_count": 9,
     "metadata": {},
     "output_type": "execute_result"
    }
   ],
   "source": [
    "alma.retrieve_data_from_uid('uid://A001/X1465/X2dfe')"
   ]
  },
  {
   "cell_type": "code",
   "execution_count": 10,
   "id": "revised-ballot",
   "metadata": {},
   "outputs": [
    {
     "name": "stdout",
     "output_type": "stream",
     "text": [
      "015eef9855870df77fcf847bc7d258d86f5bdb1a1eb3420f4008372a.pickle\n",
      "0269becc8ca5945ca05513fea2afad6a6ee9058a8886bab0215a8b7e.pickle\n",
      "0450dbf0fe4f43007dd5952ad480245e73a707637b4ab9930a423a79.pickle\n",
      "0b6ea584d0b533f96ec15b197c95bddcef83e18d5e7af38ad1b3622a.pickle\n",
      "0caa81c319484000884e292c6957dd90fe21464b3a0e1ccf0a445162.pickle\n",
      "0da80578b6903373fadd779464bbdd064d688be631c265765b52d4f2.pickle\n",
      "0e1ba0dbebd3aa9450efa1b376aad1bccb974cbf4984f93aab554f31.pickle\n",
      "0fbbee9884224582c13597a9411529f55fac2e00273657eb5d1e4c4e.pickle\n",
      "10bc994f46efb88bf448523d4b986c62be06c9a61659743c7823449f.pickle\n",
      "144ac106b8958d89b2a9fea5299b30ad1590ddb96ca8d7321dd0f8f4.pickle\n",
      "1533c97bdd94e358ff6a57cca297be99a997685affd92df1005dde91.pickle\n",
      "17f2f4ab393f6a0ce2931887f6e80585bc2bacbc9b16cd4561159f2b.pickle\n",
      "196c4ca22c3a97513840db2ce7190babbdd703af2508a696ff419402.pickle\n",
      "2013.1.01365.S_uid___A001_X12f_X9f_auxiliary.tar\n",
      "2019.1.00492.S_uid___A001_X1465_X2dfe_001_of_001.tar\n",
      "2019.1.00492.S_uid___A001_X1465_X2dfe_auxiliary.tar\n",
      "2019.1.00492.S_uid___A002_Xf0fd41_X5465.asdm.sdm.tar\n",
      "34a99dde92d9cfe0713317486f16ce16539108d468817bbf41b69182.pickle\n",
      "35d945bee939e278dd48c2064cff2c0ecf17432571c859c45af85161.pickle\n",
      "3cae1e32eca69fdbed351d168751a371897ac5cea2737e12dd70ac06.pickle\n",
      "42dd1186694ed517dda00902c206a119246a3df628fe9d19456703ea.pickle\n",
      "4b57012a15fd76bbae7c64096bbe0812bce50845a432203f25693df6.pickle\n",
      "4dfb69dba42380a01ca15b36d89631e7f8d3bde73de870c3e02279bc.pickle\n",
      "53fca97d55a85ec4524fefac3326c5292ab1500e1f2ba186abee3b61.pickle\n",
      "5ee52ccca968f6e65f06684d28ab0c55bfcd9ca00956e5cae7b58add.pickle\n",
      "61130d15bfb4c4cac0e40fafa41fefb9c3db6f9eb6cb6b886ff8dca8.pickle\n",
      "65fb9a35c7f96ac23ccff01a137d50365c3ca1d95bea6a203438125f.pickle\n",
      "67dd5bb3bf4405f5a5998c73eb6bf027071090f1180818a2c178c455.pickle\n",
      "6d2abf73fe221169a831774d2830e272d2a420e04c3e3b8fda6576d7.pickle\n",
      "7210807c0bb3e7d35365a825abaf8e97a59f5241ddbf0df4913bd94a.pickle\n",
      "828c326c0982d658929a3647da09df6dc2b311c7a4e4682adff803be.pickle\n",
      "88580e5d4f03d791c25a1e43a5d30ab96d97e09c5a7f799d5adc82d5.pickle\n",
      "8ca24af81b6f4386c1be44389812dc5a3e8bf603c0317289f21386a8.pickle\n",
      "90066251a4674b6cb242dd0db5daf8975f37a2a2d526566b7e2f0ef9.pickle\n",
      "939bc6c4d9fe219599c6bfec9e22d827d2d11273837b99a2ab67fa04.pickle\n",
      "93d94a548c1df2e3ebb3cb7aacc6478cd585fa92c9da741d40520244.pickle\n",
      "9412bf29f41d8524203d1c4577af99a8333ac61ff3d619e94543d8c0.pickle\n",
      "944e7f481387f6c64bbe475442d5f9b6d2e98b39302d31e975654415.pickle\n",
      "94f6c6f3f1f77dc0bbe9d3fd03e3de0e4d92c0021b003ae3c6e26d16.pickle\n",
      "96ed38f46e00db2716edc6e593c7aa978509593318bf309f014d18a5.pickle\n",
      "9bd7299c0ad8e8611920880a0386c30415c8ded452947ec5d7f4b604.pickle\n",
      "9c53fdc8db4ecfeac472747e37e37ebead45748064775c295261f989.pickle\n",
      "9d828a6dace266e3b5d25099155a276d44f0100b46ede24872e646f8.pickle\n",
      "a3c9afc59ef479542eb4efd830246f126d093fd68671fc87932d5db8.pickle\n",
      "aa7680ef4aa908a75f53c74f4ed84c7fd902fc123f42c491481d6ff1.pickle\n",
      "ab225fd363f3687d69dfcc37457a28230ac734083f2b2d71c9d90592.pickle\n",
      "abbdcc5924d5fdfd23306f039a8721269f413a774d57c9eb1911a522.pickle\n",
      "ac6c2f8d1be226e804cfcc556e66a46cb3c4e4687df006656b2c620c.pickle\n",
      "add5053c0c1af8089700023fc6b344b27386882f460780c9886cffd6.pickle\n",
      "b245ce384d504e7986ae2dca1b43041aac660dd4397b07e9f6f33712.pickle\n",
      "b9562e8cef7a019e2e4bb198d600e2f209b06771c7c90d80cad6e298.pickle\n",
      "bae04b26518c3116947544961d0ad602c2eba089f9e39b5cfc1794ab.pickle\n",
      "bd3a21f0ea9cbbe3697d9280fed543900fe91f5abb8b7b90c96fdaea.pickle\n",
      "bed5247311e2574441e4dbeae5d1d78993ad220387fe138431ad60c9.pickle\n",
      "c381a2b2fa620ddcb1cfe03555954187e1323c50b59cfdb1fd096b63.pickle\n",
      "c6592eab1ddb00232c5a22e9275ff282b5176115499aa7ad0b68513b.pickle\n",
      "cb4a147ad188b032d450d4e86ceb25f6e0cfb24b6ee008f027b1bd06.pickle\n",
      "ce85e912c50e877b3ef37a3ea6b77e09f93bf15f7234dcb9852ce51a.pickle\n",
      "d29f45d6ac91e278118f07b7ff8d06a7b2d0d35279f0f142b719321b.pickle\n",
      "d49cd5a462c3d0bd712bccdc17c85123da920c231807a2f6259fe39f.pickle\n",
      "d95787e65f09a71417ad206044d8e9fdb3d667efcebd3aab6ffc68ba.pickle\n",
      "d9aca6afa5b8a89b210d7c3fc7537e96a3dbb18ba23e45ec4284d32c.pickle\n",
      "e33e8fa7f96813c593f9efae3a7b9e4cebed1b971f1bac9e62b2751c.pickle\n",
      "e5eee65e40cfcad5f83fc4a6cc27bf0d7d465c9a85d9c4c300fb16f1.pickle\n",
      "e99abc19e9351dfb969c2c1fd6ea3b3924303bfe0baee11032a1e6ab.pickle\n",
      "eb3186c7e5bdf1fe7722bf92d173be09db2aa4d4945ef2902e556a76.pickle\n",
      "ecd032ce2eaf9b9bcb2c50af5081edbf089e3e57937e566ed8e71c6a.pickle\n",
      "ed0363c7628071305877a13218823a1734d5a89072e012fbfd778e50.pickle\n",
      "ee1ac1ab2e45b28cfdef71a7a09e235f09db6c1589f1032c14d80a71.pickle\n",
      "f18cdf99a83b1cdc39bd548d1ba9c83579c9557693bf7a65cb98e98e.pickle\n",
      "fad86595cbc26c2997c73d56e8f75798d907f5879588c2102f26a4eb.pickle\n",
      "fd175c66ede845fd70a5a9f4586b749a09681d03d15828a0d00d8dde.pickle\n",
      "fe5ea548afec16fb648299354724929fc5923aa8e1c164f9045c1dc5.pickle\n",
      "fe93c87650bed9497b5a4a0b2344215f7303af0f2c4d8e6bd2480029.pickle\n",
      "ff43d8e81723a0e58cab939fb45b7d05c5c0a5dfd03d803a2c943de4.pickle\n",
      "ipython_log_2021-12-04.py\n",
      "member.uid___A001_X12f_X9f.README.txt\n",
      "member.uid___A001_X1465_X2dfe.README.txt\n"
     ]
    }
   ],
   "source": [
    "ls"
   ]
  },
  {
   "cell_type": "code",
   "execution_count": 11,
   "id": "manufactured-ordinance",
   "metadata": {},
   "outputs": [],
   "source": [
    "import glob, tarfile"
   ]
  },
  {
   "cell_type": "code",
   "execution_count": 12,
   "id": "7894e3cb-2a49-4f77-a338-876ad40d1228",
   "metadata": {},
   "outputs": [
    {
     "ename": "NameError",
     "evalue": "name 'tarfile' is not defined",
     "output_type": "error",
     "traceback": [
      "\u001b[0;31m---------------------------------------------------------------------------\u001b[0m",
      "\u001b[0;31mNameError\u001b[0m                                 Traceback (most recent call last)",
      "\u001b[0;32m/scratch/local/12031989/ipykernel_47344/3993237859.py\u001b[0m in \u001b[0;36m<module>\u001b[0;34m\u001b[0m\n\u001b[1;32m      1\u001b[0m \u001b[0;32mfor\u001b[0m \u001b[0mfn\u001b[0m \u001b[0;32min\u001b[0m \u001b[0mglob\u001b[0m\u001b[0;34m.\u001b[0m\u001b[0mglob\u001b[0m\u001b[0;34m(\u001b[0m\u001b[0;34m\"*.tar\"\u001b[0m\u001b[0;34m)\u001b[0m\u001b[0;34m:\u001b[0m\u001b[0;34m\u001b[0m\u001b[0;34m\u001b[0m\u001b[0m\n\u001b[0;32m----> 2\u001b[0;31m     \u001b[0;32mwith\u001b[0m \u001b[0mtarfile\u001b[0m\u001b[0;34m.\u001b[0m\u001b[0mTarfile\u001b[0m\u001b[0;34m.\u001b[0m\u001b[0mopen\u001b[0m\u001b[0;34m(\u001b[0m\u001b[0mfn\u001b[0m\u001b[0;34m)\u001b[0m \u001b[0;32mas\u001b[0m \u001b[0mtf\u001b[0m\u001b[0;34m:\u001b[0m\u001b[0;34m\u001b[0m\u001b[0;34m\u001b[0m\u001b[0m\n\u001b[0m\u001b[1;32m      3\u001b[0m         \u001b[0mtf\u001b[0m\u001b[0;34m.\u001b[0m\u001b[0mextractall\u001b[0m\u001b[0;34m(\u001b[0m\u001b[0;34m)\u001b[0m\u001b[0;34m\u001b[0m\u001b[0;34m\u001b[0m\u001b[0m\n",
      "\u001b[0;31mNameError\u001b[0m: name 'tarfile' is not defined"
     ]
    }
   ],
   "source": [
    "for fn in glob.glob(\"*.tar\"):\n",
    "    with tarfile.Tarfile.open(fn) as tf:\n",
    "        tf.extractall()"
   ]
  },
  {
   "cell_type": "code",
   "execution_count": null,
   "id": "e452ea76-e2f3-44c9-8bb5-49a972a654a1",
   "metadata": {},
   "outputs": [],
   "source": []
  }
 ],
 "metadata": {
  "kernelspec": {
   "display_name": "Py 3.9",
   "language": "python",
   "name": "python39"
  },
  "language_info": {
   "codemirror_mode": {
    "name": "ipython",
    "version": 3
   },
   "file_extension": ".py",
   "mimetype": "text/x-python",
   "name": "python",
   "nbconvert_exporter": "python",
   "pygments_lexer": "ipython3",
   "version": "3.9.7"
  }
 },
 "nbformat": 4,
 "nbformat_minor": 5
}
