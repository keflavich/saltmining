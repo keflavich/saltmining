{
 "cells": [
  {
   "cell_type": "markdown",
   "id": "249ad670-5c6c-400b-91a2-0e62a4c62b95",
   "metadata": {},
   "source": [
    "# The Salt Search Process"
   ]
  },
  {
   "cell_type": "markdown",
   "id": "b5b25432-dce0-440d-9a67-3491e8769765",
   "metadata": {},
   "source": [
    "1. Identify the salt lines in band and \"blindly\" stack them"
   ]
  },
  {
   "cell_type": "markdown",
   "id": "675fe6f9-f95f-4448-98eb-2b5403276d85",
   "metadata": {},
   "source": [
    "For a typical observation in ALMA's Band 6 (a favorite target because of the many convenient lines near CO)\n",
    "\n",
    " * [217.980231, 219.614936, 232.509977, 234.251912] GHz\n",
    " * ['23Na-35Clv=2-2 J=17-16',\n",
    " '23Na-35Clv=1-1 J=17-16',\n",
    " '23Na-35Clv=1-1 J=18-17',\n",
    " '23Na-35Clv=0-0 J=18-17']"
   ]
  },
  {
   "cell_type": "markdown",
   "id": "5fe1570b-4dd5-4a7e-aa8d-03ad67a45d18",
   "metadata": {},
   "source": [
    "This works well enough if the line is clearly detected and bright.  You can then make an image out of the lines:"
   ]
  },
  {
   "cell_type": "markdown",
   "id": "4e3cdffe-73af-4f8a-a2c2-34fbd137b53d",
   "metadata": {},
   "source": [
    "<img src=\"../maud/G17_NaCl_mom0.png\">"
   ]
  },
  {
   "cell_type": "markdown",
   "id": "27ece73f-a7d2-40a1-80f1-b4e0ac733862",
   "metadata": {},
   "source": [
    "With a map of this quality, we can obtain the velocity-at-peak-intensity:"
   ]
  },
  {
   "cell_type": "code",
   "execution_count": 1,
   "id": "30a59549-58d0-4163-a56f-e91a08736a97",
   "metadata": {
    "execution": {
     "iopub.execute_input": "2022-09-23T19:31:41.449611Z",
     "iopub.status.busy": "2022-09-23T19:31:41.449335Z",
     "iopub.status.idle": "2022-09-23T19:31:42.303078Z",
     "shell.execute_reply": "2022-09-23T19:31:42.302789Z"
    }
   },
   "outputs": [
    {
     "data": {
      "image/png": "[encoded data removed]",
      "text/plain": [
       "<Figure size 432x288 with 2 Axes>"
      ]
     },
     "metadata": {
      "needs_background": "light"
     },
     "output_type": "display_data"
    }
   ],
   "source": [
    "from astropy.io import fits\n",
    "import pylab as pl; pl.rcParams['figure.facecolor'] = 'w'\n",
    "data = fits.getdata('../maud/G17_naclstack_vmax.fits')\n",
    "pl.imshow(data, origin='lower')\n",
    "cb=pl.colorbar()\n",
    "cb.set_label('$v_{LSR}$ [km/s]')"
   ]
  },
  {
   "cell_type": "markdown",
   "id": "c29c9b90-b8b8-4c72-9d45-08cff7dfb68c",
   "metadata": {},
   "source": [
    "We can also look at the spectrum averaged over the whole object:\n",
    "\n",
    "<img src=\"../maud/NaCl_stack_spectrum_velocity.png\">"
   ]
  },
  {
   "cell_type": "markdown",
   "id": "dcb79865-53f2-46c1-ba52-ddf3c15e6b53",
   "metadata": {},
   "source": [
    "This isn't optimal for searching for faint lines, because the spectrum at each position doesn't look like that."
   ]
  },
  {
   "cell_type": "code",
   "execution_count": 2,
   "id": "2a58bd1f-5504-48d7-bf16-503534573808",
   "metadata": {
    "execution": {
     "iopub.execute_input": "2022-09-23T19:31:42.305515Z",
     "iopub.status.busy": "2022-09-23T19:31:42.305248Z",
     "iopub.status.idle": "2022-09-23T19:31:42.983666Z",
     "shell.execute_reply": "2022-09-23T19:31:42.983395Z"
    }
   },
   "outputs": [],
   "source": [
    "import regions\n",
    "from astropy import units as u, coordinates\n",
    "regvsm = regions.CircleSkyRegion(coordinates.SkyCoord('18h22m26.385s −13:30:11.9700', frame='icrs', unit=(u.h, u.deg)), radius=0.15*u.arcsec)"
   ]
  },
  {
   "cell_type": "code",
   "execution_count": 3,
   "id": "28d0819c-4584-4d15-91f7-502d57cdf483",
   "metadata": {
    "execution": {
     "iopub.execute_input": "2022-09-23T19:31:42.986890Z",
     "iopub.status.busy": "2022-09-23T19:31:42.986618Z",
     "iopub.status.idle": "2022-09-23T19:31:44.042132Z",
     "shell.execute_reply": "2022-09-23T19:31:44.041888Z"
    }
   },
   "outputs": [
    {
     "data": {
      "image/png": "[encoded data removed]",
      "text/plain": [
       "<Figure size 432x288 with 1 Axes>"
      ]
     },
     "metadata": {
      "needs_background": "light"
     },
     "output_type": "display_data"
    }
   ],
   "source": [
    "from spectral_cube import SpectralCube\n",
    "cube = SpectralCube.read('../maud/NaCl_v_le_3_stackcube.fits').subcube_from_regions([regvsm])\n",
    "cube[:,35,25].quicklook()\n",
    "cube[:,25,30].quicklook()"
   ]
  },
  {
   "cell_type": "markdown",
   "id": "a0f27d2f-cf32-4af4-a81f-8c2b2ab5c2d0",
   "metadata": {},
   "source": [
    "This is nicely illustrated with a position-velocity diagram:\n",
    "\n",
    "<img src=\"../maud/NaCl_stack_PV_diagram.png\">"
   ]
  },
  {
   "cell_type": "markdown",
   "id": "993e8b63-e257-46d3-8167-10d068c0e864",
   "metadata": {},
   "source": [
    "We can then shift each spectrum to the location of the peak, then average the spectra.\n",
    "\n",
    "When we do that for this well-behaved source, we come up with a nice average spectrum:"
   ]
  },
  {
   "cell_type": "markdown",
   "id": "70d4bc12-6c9a-4cb7-8bcf-3633ce8a2392",
   "metadata": {},
   "source": [
    "<img src=\"../maud/spectra/figures/color_labels_G17_SPW2_2017.image_stack.png\">"
   ]
  },
  {
   "cell_type": "markdown",
   "id": "02adbe28-27d7-4c56-95e3-bbc5a754c2b8",
   "metadata": {},
   "source": [
    "From here, the key thing is to start making rotational diagrams to measure the gas temperature in the disk and star inferring its physical properties.\n",
    "\n",
    "Questions include:\n",
    "\n",
    " * What radii exhibit NaCl and KCl emission?\n",
    " * What is the gas temperature at that radius?  \n",
    " * Is it consistent with the inferred central stellar mass & luminosity? (~30 Msun)\n",
    " * What are the isotope ratios (and how do they compare to Orion?)\n",
    " * Is the H-alpha co-spatial with the water and salt?  How is that possible?\n",
    " "
   ]
  },
  {
   "cell_type": "markdown",
   "id": "21a387e2-de0a-4106-b6ec-425fa8a431fd",
   "metadata": {},
   "source": [
    "# What do we do when salt is weak?"
   ]
  },
  {
   "cell_type": "markdown",
   "id": "2cad37ba-4c4b-4d8f-97a5-997d231dcc63",
   "metadata": {},
   "source": [
    "G17 and Orion are standouts that have bright NaCl.  There are some that don't have such bright salt or water lines"
   ]
  },
  {
   "cell_type": "markdown",
   "id": "0e97bebb-9a0c-4cea-b9f5-23c1f6d263c3",
   "metadata": {},
   "source": [
    "For these other fields, the process is:\n",
    "\n",
    "1. Make the salt stack.  See if a line turns up at the right location.  (stacking only 4 lines, though, this doesn't help so much)\n",
    "2. Check for water; the 232.6 GHz line of water is brighter than the salt lines, so it makes for a nice template if we can find it\n",
    "3. If we get to this step, we probably have a nondetection.  Then the goal is to get a decent upper limit on the salt / water lines.  I search for a reasonably isolated line of some other species that is compact and use that as the template.\n",
    "\n",
    "Then, with whichever template we pick, we go through the same process as above: Take each spectrum, shift it to the same velocity, and average."
   ]
  },
  {
   "cell_type": "code",
   "execution_count": null,
   "id": "d594c825-1264-43e3-960f-916cb415e6fd",
   "metadata": {},
   "outputs": [],
   "source": []
  }
 ],
 "metadata": {
  "kernelspec": {
   "display_name": "python39",
   "language": "python",
   "name": "python39"
  },
  "language_info": {
   "codemirror_mode": {
    "name": "ipython",
    "version": 3
   },
   "file_extension": ".py",
   "mimetype": "text/x-python",
   "name": "python",
   "nbconvert_exporter": "python",
   "pygments_lexer": "ipython3",
   "version": "3.9.13"
  }
 },
 "nbformat": 4,
 "nbformat_minor": 5
}
