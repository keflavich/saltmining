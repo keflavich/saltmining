{
 "cells": [
  {
   "cell_type": "code",
   "execution_count": 1,
   "id": "f8d98202-72cc-426c-83f0-12b3eb1862a2",
   "metadata": {
    "execution": {
     "iopub.execute_input": "2022-10-13T13:58:33.739636Z",
     "iopub.status.busy": "2022-10-13T13:58:33.736084Z",
     "iopub.status.idle": "2022-10-13T13:58:33.741317Z",
     "shell.execute_reply": "2022-10-13T13:58:33.741558Z"
    }
   },
   "outputs": [],
   "source": [
    "rawdata = r\"\"\" Source         & $v$ line                               & RMS    & Beam Size        & Beam Size      & Disk Radius & Distance & Luminosity\\\\\n",
    "                &                                        & K      & Arcsec           & AU             & au          & kpc      & \\lsun     \\\\\n",
    " \\hline      \n",
    " SrcI           & NaCl J=18-17 v=0                       &        & $0.04\\times0.02$ & $16\\times8$    & 50$^n$      & 0.4      & $10^4$    \\\\\n",
    " G17            & \\water                                 &        & $0.04\\times0.02$ & $80\\times50$   &             & 2.2$^c$  & 1.7\\ee{4} \\\\\n",
    " GGD27          & SO $6_5-5_4$                           & 0.3    & $0.10\\times0.07$ & $130\\times90$  &             & 1.3$^a$  & 1.2\\ee{4} \\\\\n",
    " G5.89 mm15     & \\water                                 & 1.5    & $0.06\\times0.04$ & $170\\times120$ &             & 3.0$^b$  & -         \\\\\n",
    " G351.77mm1     & \\water                                 &        & $0.05\\times0.04$ & $115\\times83$  &             & 2.2$^c$  & 1.7\\ee{4} \\\\\n",
    " G351.77mm2     & \\water                                 &        & $0.05\\times0.04$ & $115\\times83$  &             & 2.2$^c$  & 1.7\\ee{4} \\\\\n",
    " I16547a        & \\water                                 &        & $0.06\\times0.06$ & $180\\times180$ &             & 2.9$^c$  & $<1\\ee{5}$\\\\\n",
    " I16547b        & \\water                                 &        & $0.06\\times0.06$ & $180\\times180$ &             & 2.9$^c$  & $<1\\ee{5}$\\\\\n",
    " NGC6334IN SMA6 & \\water                                 & 5-10   & $0.08\\times0.05$ & $110\\times67$  &             & 1.3$^d$  &           \\\\\n",
    " NGC6334IN SMA1bd & \\water                               & 5-10   & $0.08\\times0.05$ & $110\\times67$  &             & 1.3$^d$  &           \\\\\n",
    " NGC6334Imm2b   & \\water                                 &        & $0.09\\times0.05$ & $110\\times67$  &             & 1.3$^d$  &           \\\\\n",
    " NGC6334Imm1b   & \\water                                 &        & $0.09\\times0.05$ & $110\\times67$  &             & 1.3$^d$  &           \\\\\n",
    " NGC6334Imm1d   & \\water                                 &        & $0.09\\times0.05$ & $110\\times67$  &             & 1.3$^d$  &           \\\\\n",
    " G11.92mm1      & CH$_3$OH 10(2,8)-9(3,7)A,vt=0\t         & 10     & $0.10\\times0.07$ & $347\\times234$ & 850$^m$     & 3.3$^e$  & $10^4$    \\\\\n",
    " IRAS18089      & CH$_3$OH 10(2,8)-9(3,7)A,vt=0          &        & $0.06\\times0.05$ & $150\\times100$ &             & 2.3$^f$  & 1.3\\ee{4} \\\\\n",
    " IRAS16562      & H30$\\alpha$                            &        & $0.11\\times0.05$ & $240\\times120$ &             & 2.3$^g$  &           \\\\\n",
    " G333.60mm1     & SO 6(5)-5(4)                           &        & $0.07\\times0.06$ & $400\\times300$ &             & 5.3$^h$  &           \\\\\n",
    " G333.60mm2     & SO 6(5)-5(4)                           &        & $0.07\\times0.06$ & $400\\times300$ &             & 5.3$^h$  &           \\\\\n",
    " G335           &                                        &        & $0.07\\times0.06$ & $240\\times210$ &             & 3.3$^i$  &           \\\\\n",
    " G29.96         & -                                      &        & $0.10\\times0.07$ & $610\\times430$ &             & 7.4$^j$  &           \\\\\n",
    " W33A MM1-Main  & \\water                                 &        & $0.10\\times0.07$ & $240\\times160$ &             & 2.6$^k$  &           \\\\\n",
    " S255IR         &                                        &        & $0.03\\times0.02$ & $70\\times50$   &             & 1.6$^k$  &           \\\\\n",
    " G34.43         & no clear disk                          &        & $0.11\\times0.08$ & $420\\times300$ &             & 1.6$^l$  &           \\\\\n",
    "\"\"\""
   ]
  },
  {
   "cell_type": "code",
   "execution_count": 2,
   "id": "384ebd6c-fa32-4a2e-8a81-ae7d4c534f4a",
   "metadata": {
    "execution": {
     "iopub.execute_input": "2022-10-13T13:58:33.742998Z",
     "iopub.status.busy": "2022-10-13T13:58:33.742673Z",
     "iopub.status.idle": "2022-10-13T13:58:38.273726Z",
     "shell.execute_reply": "2022-10-13T13:58:38.273494Z"
    }
   },
   "outputs": [],
   "source": [
    "from astropy.table import Table\n",
    "from astropy.io import ascii"
   ]
  },
  {
   "cell_type": "code",
   "execution_count": 3,
   "id": "7562deac-a003-4de2-8ea2-edb72ce77f07",
   "metadata": {
    "execution": {
     "iopub.execute_input": "2022-10-13T13:58:38.276718Z",
     "iopub.status.busy": "2022-10-13T13:58:38.276478Z",
     "iopub.status.idle": "2022-10-13T13:58:38.287303Z",
     "shell.execute_reply": "2022-10-13T13:58:38.287055Z"
    }
   },
   "outputs": [
    {
     "data": {
      "text/html": [
       "<div><i>Table length=24</i>\n",
       "<table id=\"table47218311444416\" class=\"table-striped table-bordered table-condensed\">\n",
       "<thead><tr><th>Source</th><th>$v$ line</th><th>Beam Size</th><th>Beam Size_1</th><th>Distance</th></tr></thead>\n",
       "<thead><tr><th>str17</th><th>str16</th><th>str16</th><th>str14</th><th>str7</th></tr></thead>\n",
       "<tr><td>Orion SrcI</td><td>NaCl J=18-17 v=0</td><td>$0.04\\times0.02$</td><td>$16\\times8$</td><td>0.4</td></tr>\n",
       "<tr><td>G17</td><td>\\water</td><td>$0.04\\times0.02$</td><td>$80\\times50$</td><td>2.2$^c$</td></tr>\n",
       "<tr><td>IRAS18162 GGD27</td><td>SO $6_5-5_4$</td><td>$0.10\\times0.07$</td><td>$130\\times90$</td><td>1.3$^a$</td></tr>\n",
       "<tr><td>G5.89 mm15</td><td>\\water</td><td>$0.06\\times0.04$</td><td>$170\\times120$</td><td>3.0$^b$</td></tr>\n",
       "<tr><td>G351.77mm1</td><td>\\water</td><td>$0.05\\times0.04$</td><td>$115\\times83$</td><td>2.2$^c$</td></tr>\n",
       "<tr><td>G351.77mm2</td><td>\\water</td><td>$0.05\\times0.04$</td><td>$115\\times83$</td><td>2.2$^c$</td></tr>\n",
       "<tr><td>G351.77mm12</td><td>\\water</td><td>$0.05\\times0.04$</td><td>$115\\times83$</td><td>2.2$^c$</td></tr>\n",
       "<tr><td>I16547A</td><td>\\water</td><td>$0.06\\times0.06$</td><td>$180\\times180$</td><td>2.9$^c$</td></tr>\n",
       "<tr><td>I16547B</td><td>\\water</td><td>$0.06\\times0.06$</td><td>$180\\times180$</td><td>2.9$^c$</td></tr>\n",
       "<tr><td>NGC6334IN SMA6</td><td>\\water</td><td>$0.08\\times0.05$</td><td>$110\\times67$</td><td>1.3$^d$</td></tr>\n",
       "<tr><td>NGC6334IN SMA1b/d</td><td>\\water</td><td>$0.08\\times0.05$</td><td>$110\\times67$</td><td>1.3$^d$</td></tr>\n",
       "<tr><td>NGC6334Imm2b</td><td>\\water</td><td>$0.09\\times0.05$</td><td>$110\\times67$</td><td>1.3$^d$</td></tr>\n",
       "<tr><td>NGC6334Imm1b</td><td>\\water</td><td>$0.09\\times0.05$</td><td>$110\\times67$</td><td>1.3$^d$</td></tr>\n",
       "<tr><td>NGC6334Imm1d</td><td>\\water</td><td>$0.09\\times0.05$</td><td>$110\\times67$</td><td>1.3$^d$</td></tr>\n",
       "<tr><td>G11.92mm1</td><td>SO $6_5-5_4$</td><td>$0.10\\times0.07$</td><td>$347\\times234$</td><td>3.3$^e$</td></tr>\n",
       "<tr><td>IRAS18089</td><td>CH$_3$OH</td><td>$0.06\\times0.05$</td><td>$150\\times100$</td><td>2.3$^f$</td></tr>\n",
       "<tr><td>IRAS16562</td><td>H30$\\alpha$</td><td>$0.11\\times0.05$</td><td>$240\\times120$</td><td>2.3$^g$</td></tr>\n",
       "<tr><td>G333.23mm1</td><td>SO $6_5-5_4$</td><td>$0.07\\times0.06$</td><td>$400\\times300$</td><td>5.3$^h$</td></tr>\n",
       "<tr><td>G333.23mm2</td><td>SO $6_5-5_4$</td><td>$0.07\\times0.06$</td><td>$400\\times300$</td><td>5.3$^h$</td></tr>\n",
       "<tr><td>G335 ALMA1</td><td>no clear disk</td><td>$0.07\\times0.06$</td><td>$240\\times210$</td><td>3.3$^i$</td></tr>\n",
       "<tr><td>G29.96 submm1</td><td>no clear disk</td><td>$0.10\\times0.07$</td><td>$610\\times430$</td><td>7.4$^j$</td></tr>\n",
       "<tr><td>W33A mm1-main</td><td>\\water</td><td>$0.10\\times0.07$</td><td>$240\\times160$</td><td>2.6$^k$</td></tr>\n",
       "<tr><td>S255IR SMA1</td><td>no clear disk</td><td>$0.03\\times0.02$</td><td>$70\\times50$</td><td>1.6$^k$</td></tr>\n",
       "<tr><td>G34.43mm1</td><td>no clear disk</td><td>$0.11\\times0.08$</td><td>$420\\times300$</td><td>1.6$^l$</td></tr>\n",
       "</table></div>"
      ],
      "text/plain": [
       "<Table length=24>\n",
       "      Source          $v$ line        Beam Size      Beam Size_1   Distance\n",
       "      str17            str16            str16           str14        str7  \n",
       "----------------- ---------------- ---------------- -------------- --------\n",
       "       Orion SrcI NaCl J=18-17 v=0 $0.04\\times0.02$    $16\\times8$      0.4\n",
       "              G17           \\water $0.04\\times0.02$   $80\\times50$  2.2$^c$\n",
       "  IRAS18162 GGD27     SO $6_5-5_4$ $0.10\\times0.07$  $130\\times90$  1.3$^a$\n",
       "       G5.89 mm15           \\water $0.06\\times0.04$ $170\\times120$  3.0$^b$\n",
       "       G351.77mm1           \\water $0.05\\times0.04$  $115\\times83$  2.2$^c$\n",
       "       G351.77mm2           \\water $0.05\\times0.04$  $115\\times83$  2.2$^c$\n",
       "      G351.77mm12           \\water $0.05\\times0.04$  $115\\times83$  2.2$^c$\n",
       "          I16547A           \\water $0.06\\times0.06$ $180\\times180$  2.9$^c$\n",
       "          I16547B           \\water $0.06\\times0.06$ $180\\times180$  2.9$^c$\n",
       "   NGC6334IN SMA6           \\water $0.08\\times0.05$  $110\\times67$  1.3$^d$\n",
       "NGC6334IN SMA1b/d           \\water $0.08\\times0.05$  $110\\times67$  1.3$^d$\n",
       "     NGC6334Imm2b           \\water $0.09\\times0.05$  $110\\times67$  1.3$^d$\n",
       "     NGC6334Imm1b           \\water $0.09\\times0.05$  $110\\times67$  1.3$^d$\n",
       "     NGC6334Imm1d           \\water $0.09\\times0.05$  $110\\times67$  1.3$^d$\n",
       "        G11.92mm1     SO $6_5-5_4$ $0.10\\times0.07$ $347\\times234$  3.3$^e$\n",
       "        IRAS18089         CH$_3$OH $0.06\\times0.05$ $150\\times100$  2.3$^f$\n",
       "        IRAS16562      H30$\\alpha$ $0.11\\times0.05$ $240\\times120$  2.3$^g$\n",
       "       G333.23mm1     SO $6_5-5_4$ $0.07\\times0.06$ $400\\times300$  5.3$^h$\n",
       "       G333.23mm2     SO $6_5-5_4$ $0.07\\times0.06$ $400\\times300$  5.3$^h$\n",
       "       G335 ALMA1    no clear disk $0.07\\times0.06$ $240\\times210$  3.3$^i$\n",
       "    G29.96 submm1    no clear disk $0.10\\times0.07$ $610\\times430$  7.4$^j$\n",
       "    W33A mm1-main           \\water $0.10\\times0.07$ $240\\times160$  2.6$^k$\n",
       "      S255IR SMA1    no clear disk $0.03\\times0.02$   $70\\times50$  1.6$^k$\n",
       "        G34.43mm1    no clear disk $0.11\\times0.08$ $420\\times300$  1.6$^l$"
      ]
     },
     "execution_count": 3,
     "metadata": {},
     "output_type": "execute_result"
    }
   ],
   "source": [
    "# first row is junk\n",
    "tbl = Table.read('/orange/adamginsburg/salt/2022_dihca_disks/observations.tex', format='latex', )[1:]\n",
    "tbl"
   ]
  },
  {
   "cell_type": "code",
   "execution_count": 4,
   "id": "5c025b44-0c3f-4874-97c4-351020eb7419",
   "metadata": {
    "execution": {
     "iopub.execute_input": "2022-10-13T13:58:38.288980Z",
     "iopub.status.busy": "2022-10-13T13:58:38.288750Z",
     "iopub.status.idle": "2022-10-13T13:58:39.680392Z",
     "shell.execute_reply": "2022-10-13T13:58:39.680597Z"
    }
   },
   "outputs": [],
   "source": [
    "nuline = tbl.colnames[1]"
   ]
  },
  {
   "cell_type": "code",
   "execution_count": 5,
   "id": "f58af163-2a5e-4f0e-8aea-b7c405902ae5",
   "metadata": {
    "execution": {
     "iopub.execute_input": "2022-10-13T13:58:39.682320Z",
     "iopub.status.busy": "2022-10-13T13:58:39.682066Z",
     "iopub.status.idle": "2022-10-13T13:58:40.269572Z",
     "shell.execute_reply": "2022-10-13T13:58:40.269781Z"
    }
   },
   "outputs": [
    {
     "data": {
      "text/plain": [
       "'/orange/adamginsburg/salt/notebooks'"
      ]
     },
     "execution_count": 5,
     "metadata": {},
     "output_type": "execute_result"
    }
   ],
   "source": [
    "pwd"
   ]
  },
  {
   "cell_type": "code",
   "execution_count": 6,
   "id": "b87c80ca-8b9e-49a1-900a-3d36d7b99ad6",
   "metadata": {
    "execution": {
     "iopub.execute_input": "2022-10-13T13:58:40.272129Z",
     "iopub.status.busy": "2022-10-13T13:58:40.271846Z",
     "iopub.status.idle": "2022-10-13T13:58:40.620153Z",
     "shell.execute_reply": "2022-10-13T13:58:40.619789Z"
    }
   },
   "outputs": [],
   "source": [
    "import json\n",
    "distance_dict = {k:v for k, v in zip(tbl['Source'],tbl['Distance'])}\n",
    "nuline_dict = {k:v for k, v in zip(tbl['Source'],tbl[nuline])}\n",
    "with open('distance_map.json', 'w') as fh:\n",
    "    json.dump(distance_dict, fh)\n",
    "with open('nuline_map.json', 'w') as fh:\n",
    "    json.dump(nuline_dict, fh)"
   ]
  },
  {
   "cell_type": "code",
   "execution_count": 7,
   "id": "66cb6bae-5723-4760-9194-33ce86d0e89e",
   "metadata": {
    "execution": {
     "iopub.execute_input": "2022-10-13T13:58:40.622193Z",
     "iopub.status.busy": "2022-10-13T13:58:40.621933Z",
     "iopub.status.idle": "2022-10-13T13:58:40.630658Z",
     "shell.execute_reply": "2022-10-13T13:58:40.630869Z"
    }
   },
   "outputs": [
    {
     "data": {
      "text/html": [
       "<div><i>Table length=24</i>\n",
       "<table id=\"table47221262380240\" class=\"table-striped table-bordered table-condensed\">\n",
       "<thead><tr><th>Source</th><th>disk</th><th>H$_2$O</th><th>NaCl</th><th>KCl</th><th>SiO</th><th>RRL</th><th>COMs</th><th>SiS</th><th>SO</th><th>PN</th></tr></thead>\n",
       "<thead><tr><th>str17</th><th>str5</th><th>str4</th><th>str4</th><th>str3</th><th>str3</th><th>str4</th><th>str4</th><th>str4</th><th>str4</th><th>str4</th></tr></thead>\n",
       "<tr><td>Orion SrcI</td><td>yes</td><td>yes</td><td>yes</td><td>yes</td><td>yes</td><td>no</td><td>no</td><td>yes</td><td>yes</td><td>?</td></tr>\n",
       "<tr><td>G17</td><td>yes</td><td>yes</td><td>yes</td><td>yes</td><td>yes</td><td>yes</td><td>no</td><td>yes</td><td>yes*</td><td>no</td></tr>\n",
       "<tr><td>I16547A</td><td>yes-c</td><td>yes</td><td>yes*</td><td>no</td><td>yes</td><td>no</td><td>yes</td><td>yes</td><td>yes</td><td>yes</td></tr>\n",
       "<tr><td>I16547B</td><td>yes-c</td><td>yes</td><td>yes*</td><td>no</td><td>yes</td><td>no</td><td>yes</td><td>yes</td><td>yes</td><td>yes</td></tr>\n",
       "<tr><td>G351.77mm1</td><td>yes-c</td><td>yes</td><td>yes</td><td>no</td><td>yes</td><td>no*</td><td>no</td><td>yes</td><td>no</td><td>yes</td></tr>\n",
       "<tr><td>G351.77mm2</td><td>unres</td><td>yes</td><td>yes*</td><td>no</td><td>no</td><td>yes</td><td>no</td><td>no</td><td>no</td><td>no*</td></tr>\n",
       "<tr><td>G351.77mm12</td><td>unres</td><td>yes</td><td>yes*</td><td>no</td><td>yes</td><td>no</td><td>no</td><td>yes</td><td>no</td><td>yes</td></tr>\n",
       "<tr><td>W33A mm1-main</td><td>unres</td><td>yes*</td><td>yes*</td><td>no</td><td>yes</td><td>yes*</td><td>yes</td><td>yes*</td><td>yes</td><td>yes</td></tr>\n",
       "<tr><td>NGC6334Imm1b</td><td>yes-c</td><td>yes</td><td>yes</td><td>yes</td><td>yes</td><td>no</td><td>yes*</td><td>yes</td><td>no*</td><td>yes*</td></tr>\n",
       "<tr><td>G5.89 mm15</td><td>cont</td><td>no</td><td>no</td><td>no</td><td>?</td><td>no</td><td>no</td><td>no</td><td>no</td><td>no</td></tr>\n",
       "<tr><td>IRAS18162 GGD27</td><td>yes</td><td>no</td><td>no</td><td>no</td><td>?</td><td>no</td><td>yes</td><td>no</td><td>yes</td><td>no</td></tr>\n",
       "<tr><td>NGC6334IN SMA6</td><td>no</td><td>yes*</td><td>no</td><td>no</td><td>no</td><td>no</td><td>yes</td><td>no</td><td>no</td><td>yes*</td></tr>\n",
       "<tr><td>NGC6334IN SMA1b/d</td><td>no</td><td>no*</td><td>no</td><td>no</td><td>no</td><td>no</td><td>yes</td><td>no</td><td>no</td><td>no*</td></tr>\n",
       "<tr><td>G11.92mm1</td><td>yes</td><td>no</td><td>no</td><td>no</td><td>yes</td><td>no</td><td>yes</td><td>yes*</td><td>yes</td><td>yes*</td></tr>\n",
       "<tr><td>IRAS18089</td><td>yes-c</td><td>no</td><td>no</td><td>no</td><td>yes</td><td>no</td><td>yes</td><td>yes*</td><td>yes</td><td>no*</td></tr>\n",
       "<tr><td>IRAS16562</td><td>no</td><td>no</td><td>no</td><td>no</td><td>yes</td><td>yes</td><td>ext</td><td>no</td><td>ext</td><td>no</td></tr>\n",
       "<tr><td>G333.23mm1</td><td>no</td><td>no</td><td>no</td><td>no</td><td>no*</td><td>no</td><td>yes</td><td>no</td><td>yes</td><td>yes*</td></tr>\n",
       "<tr><td>G333.23mm2</td><td>yes*</td><td>no</td><td>no</td><td>no</td><td>no*</td><td>no</td><td>yes</td><td>no</td><td>yes</td><td>yes*</td></tr>\n",
       "<tr><td>G335 ALMA1</td><td>no</td><td>no</td><td>no</td><td>no</td><td>yes</td><td>no</td><td>yes</td><td>no</td><td>no*</td><td>no</td></tr>\n",
       "<tr><td>G29.96 submm1</td><td>no</td><td>no</td><td>no</td><td>no</td><td>yes</td><td>no</td><td>yes</td><td>no*</td><td>no*</td><td>no*</td></tr>\n",
       "<tr><td>G34.43mm1</td><td>no</td><td>no</td><td>no</td><td>no</td><td>no*</td><td>no*</td><td>yes</td><td>no</td><td>yes</td><td>no*</td></tr>\n",
       "<tr><td>S255IR SMA1</td><td>no*</td><td>no*</td><td>no</td><td>no</td><td>yes</td><td>yes</td><td>yes</td><td>no</td><td>yes</td><td>no</td></tr>\n",
       "<tr><td>NGC6334Imm1d</td><td>yes*</td><td>yes*</td><td>no</td><td>no</td><td>no</td><td>no</td><td>no</td><td>no</td><td>no</td><td>yes*</td></tr>\n",
       "<tr><td>NGC6334Imm2b</td><td>unres</td><td>yes</td><td>no*</td><td>no</td><td>yes</td><td>no</td><td>yes</td><td>yes</td><td>yes</td><td>yes*</td></tr>\n",
       "</table></div>"
      ],
      "text/plain": [
       "<Table length=24>\n",
       "      Source       disk H$_2$O NaCl KCl  SiO  RRL  COMs SiS   SO   PN \n",
       "      str17        str5  str4  str4 str3 str3 str4 str4 str4 str4 str4\n",
       "----------------- ----- ------ ---- ---- ---- ---- ---- ---- ---- ----\n",
       "       Orion SrcI   yes    yes  yes  yes  yes   no   no  yes  yes    ?\n",
       "              G17   yes    yes  yes  yes  yes  yes   no  yes yes*   no\n",
       "          I16547A yes-c    yes yes*   no  yes   no  yes  yes  yes  yes\n",
       "          I16547B yes-c    yes yes*   no  yes   no  yes  yes  yes  yes\n",
       "       G351.77mm1 yes-c    yes  yes   no  yes  no*   no  yes   no  yes\n",
       "       G351.77mm2 unres    yes yes*   no   no  yes   no   no   no  no*\n",
       "      G351.77mm12 unres    yes yes*   no  yes   no   no  yes   no  yes\n",
       "    W33A mm1-main unres   yes* yes*   no  yes yes*  yes yes*  yes  yes\n",
       "     NGC6334Imm1b yes-c    yes  yes  yes  yes   no yes*  yes  no* yes*\n",
       "       G5.89 mm15  cont     no   no   no    ?   no   no   no   no   no\n",
       "  IRAS18162 GGD27   yes     no   no   no    ?   no  yes   no  yes   no\n",
       "   NGC6334IN SMA6    no   yes*   no   no   no   no  yes   no   no yes*\n",
       "NGC6334IN SMA1b/d    no    no*   no   no   no   no  yes   no   no  no*\n",
       "        G11.92mm1   yes     no   no   no  yes   no  yes yes*  yes yes*\n",
       "        IRAS18089 yes-c     no   no   no  yes   no  yes yes*  yes  no*\n",
       "        IRAS16562    no     no   no   no  yes  yes  ext   no  ext   no\n",
       "       G333.23mm1    no     no   no   no  no*   no  yes   no  yes yes*\n",
       "       G333.23mm2  yes*     no   no   no  no*   no  yes   no  yes yes*\n",
       "       G335 ALMA1    no     no   no   no  yes   no  yes   no  no*   no\n",
       "    G29.96 submm1    no     no   no   no  yes   no  yes  no*  no*  no*\n",
       "        G34.43mm1    no     no   no   no  no*  no*  yes   no  yes  no*\n",
       "      S255IR SMA1   no*    no*   no   no  yes  yes  yes   no  yes   no\n",
       "     NGC6334Imm1d  yes*   yes*   no   no   no   no   no   no   no yes*\n",
       "     NGC6334Imm2b unres    yes  no*   no  yes   no  yes  yes  yes yes*"
      ]
     },
     "execution_count": 7,
     "metadata": {},
     "output_type": "execute_result"
    }
   ],
   "source": [
    "from astropy.table import Table\n",
    "dtbl = Table.read('/orange/adamginsburg/salt/2022_dihca_disks/detections.tex', format='latex', )\n",
    "dtbl"
   ]
  },
  {
   "cell_type": "code",
   "execution_count": 8,
   "id": "2f61fb66-c0f0-459b-acaf-8cb9c16741b4",
   "metadata": {
    "execution": {
     "iopub.execute_input": "2022-10-13T13:58:40.632504Z",
     "iopub.status.busy": "2022-10-13T13:58:40.632256Z",
     "iopub.status.idle": "2022-10-13T13:58:40.649778Z",
     "shell.execute_reply": "2022-10-13T13:58:40.649321Z"
    }
   },
   "outputs": [],
   "source": [
    "assert 'W33A mm1-main' in dtbl['Source']\n",
    "assert 'W33A mm1-main' in tbl['Source']"
   ]
  },
  {
   "cell_type": "markdown",
   "id": "c74b0f9f-06dc-4b67-9b7a-063aa3671aed",
   "metadata": {},
   "source": [
    "# old, non-automatic version\n",
    "\n",
    "dtbl = Table.read(r\"\"\"    Source         & disk  & H$_2$O &  NaCl & KCl & SiO & RRL & COMs & SiS & SO \\\\\n",
    "    \\hline  &\n",
    "    SrcI           & yes   & yes    &  yes  & yes & yes & No  & No   & Yes & yes     \\\\\n",
    "    G17            & yes   & yes    &  yes  & yes & yes & Yes & No   & Yes & yes*    \\\\\n",
    "    I16547-Ea      & yes   & yes    &  yes* & no  & yes & No  & Yes  & Yes & yes     \\\\\n",
    "    I16547-Eb      & yes   & yes    &  yes* & no  & yes & No  & Yes  & Yes & yes     \\\\\n",
    "    G351.77mm1     & yes   & yes    &  yes  & no  & yes & no* & no   & yes & no      \\\\\n",
    "    G351.77mm2     & unres & yes    &  yes* & no  & no  & yes & no   & no  & no      \\\\\n",
    "    W33A MM1-Main  & unres & yes*   &  yes* & no  & yes & yes*& yes  & yes*& yes     \\\\\n",
    "    NGC6334Imm2b   & unres & yes    &  yes* & no  & yes & no  & yes  & yes & yes     \\\\\n",
    "    NGC6334Imm1b   & yes   & yes    &  yes  & yes & yes & no  & yes* & yes & no*     \\\\\n",
    "    \\hline KCl &\n",
    "    G5.89 mm15     & cont  & no     &  no   & no  & ?   & no  & no   & no  & no      \\\\\n",
    "    GGD27          & yes   & no     &  no   & no  & ?   & no  & yes  & no  & YES     \\\\\n",
    "    NGC6334IN SMA6 & no    & yes*   &  no   & no  & no  & no  & yes  & no  & no      \\\\\n",
    "  NGC6334IN SMA1bd & no    & no*    &  no   & no  & no  & no  & yes  & no  & no      \\\\\n",
    "    G11.92mm1      & yes   & no     &  no   & no  & yes & no  & yes  & yes*& yes     \\\\\n",
    "    IRAS18089      & yes   & no     &  no   & no  & yes & no  & yes  & yes*& yes     \\\\\n",
    "    IRAS16562      & no    & no     &  no   & no  & yes & yes & ext  & no  & ext     \\\\\n",
    "    G333.60mm1     & no    & no     &  no   & no  & no* & no  & yes  & no  & yes     \\\\\n",
    "    G333.60mm2     & yes*  & no     &  no   & no  & no* & no  & yes  & no  & yes     \\\\\n",
    "    G335           & no    & no     &  no   & no  & yes & no  & yes  & no  & no*     \\\\\n",
    "    G29.96         & no    & no     &  no   & no  & yes & no  & yes  & no* & no*     \\\\\n",
    "    G34.43         & no    & no     &  no   & no  & no* & no* & yes  & no  & yes     \\\\\n",
    "    S255IR         & no*   & no*    &  no   & no  & yes & yes & yes  & no  & yes     \\\\   \"\"\",\n",
    "                  format='latex',\n",
    "                  data_start=1,\n",
    "                  header_start=0)\n",
    "dtbl"
   ]
  },
  {
   "cell_type": "code",
   "execution_count": null,
   "id": "a6a9ef48-ea6b-4876-b14c-ce8e952346cb",
   "metadata": {},
   "outputs": [],
   "source": []
  },
  {
   "cell_type": "code",
   "execution_count": 9,
   "id": "f949e096-5f2c-4aea-845f-f4322bab762a",
   "metadata": {
    "execution": {
     "iopub.execute_input": "2022-10-13T13:58:40.651699Z",
     "iopub.status.busy": "2022-10-13T13:58:40.651453Z",
     "iopub.status.idle": "2022-10-13T13:58:40.671743Z",
     "shell.execute_reply": "2022-10-13T13:58:40.672184Z"
    }
   },
   "outputs": [],
   "source": [
    "from astropy import table"
   ]
  },
  {
   "cell_type": "code",
   "execution_count": 10,
   "id": "7ecc1b64-1159-4f77-a8db-b294919d19dd",
   "metadata": {
    "execution": {
     "iopub.execute_input": "2022-10-13T13:58:40.673667Z",
     "iopub.status.busy": "2022-10-13T13:58:40.673187Z",
     "iopub.status.idle": "2022-10-13T13:58:40.699727Z",
     "shell.execute_reply": "2022-10-13T13:58:40.699472Z"
    }
   },
   "outputs": [],
   "source": [
    "mtbl = table.join(tbl, dtbl, keys=['Source'])"
   ]
  },
  {
   "cell_type": "code",
   "execution_count": 11,
   "id": "f0348aef-c9ea-4991-929f-9c6535cd95a1",
   "metadata": {
    "execution": {
     "iopub.execute_input": "2022-10-13T13:58:40.701661Z",
     "iopub.status.busy": "2022-10-13T13:58:40.700893Z",
     "iopub.status.idle": "2022-10-13T13:58:40.712562Z",
     "shell.execute_reply": "2022-10-13T13:58:40.712342Z"
    }
   },
   "outputs": [],
   "source": [
    "for row in tbl:\n",
    "    any_bad = False\n",
    "    if row['Source'] not in dtbl['Source']:\n",
    "        print(row)\n",
    "        any_bad = True\n",
    "if any_bad:\n",
    "    raise ValueError(\"There is a mismatch between the tables\")"
   ]
  },
  {
   "cell_type": "code",
   "execution_count": 12,
   "id": "3369523b-156f-4f26-b975-572952f32145",
   "metadata": {
    "execution": {
     "iopub.execute_input": "2022-10-13T13:58:40.714145Z",
     "iopub.status.busy": "2022-10-13T13:58:40.713902Z",
     "iopub.status.idle": "2022-10-13T13:58:40.729060Z",
     "shell.execute_reply": "2022-10-13T13:58:40.728814Z"
    }
   },
   "outputs": [
    {
     "data": {
      "text/html": [
       "<div><i>Table length=24</i>\n",
       "<table id=\"table47218294612944\" class=\"table-striped table-bordered table-condensed\">\n",
       "<thead><tr><th>Source</th><th>$v$ line</th><th>Beam Size</th><th>Beam Size_1</th><th>Distance</th><th>disk</th><th>H$_2$O</th><th>NaCl</th><th>KCl</th><th>SiO</th><th>RRL</th><th>COMs</th><th>SiS</th><th>SO</th><th>PN</th></tr></thead>\n",
       "<thead><tr><th>str17</th><th>str16</th><th>str16</th><th>str14</th><th>str7</th><th>str5</th><th>str4</th><th>str4</th><th>str3</th><th>str3</th><th>str4</th><th>str4</th><th>str4</th><th>str4</th><th>str4</th></tr></thead>\n",
       "<tr><td>G11.92mm1</td><td>SO $6_5-5_4$</td><td>$0.10\\times0.07$</td><td>$347\\times234$</td><td>3.3$^e$</td><td>yes</td><td>no</td><td>no</td><td>no</td><td>yes</td><td>no</td><td>yes</td><td>yes*</td><td>yes</td><td>yes*</td></tr>\n",
       "<tr><td>G17</td><td>\\water</td><td>$0.04\\times0.02$</td><td>$80\\times50$</td><td>2.2$^c$</td><td>yes</td><td>yes</td><td>yes</td><td>yes</td><td>yes</td><td>yes</td><td>no</td><td>yes</td><td>yes*</td><td>no</td></tr>\n",
       "<tr><td>G29.96 submm1</td><td>no clear disk</td><td>$0.10\\times0.07$</td><td>$610\\times430$</td><td>7.4$^j$</td><td>no</td><td>no</td><td>no</td><td>no</td><td>yes</td><td>no</td><td>yes</td><td>no*</td><td>no*</td><td>no*</td></tr>\n",
       "<tr><td>G333.23mm1</td><td>SO $6_5-5_4$</td><td>$0.07\\times0.06$</td><td>$400\\times300$</td><td>5.3$^h$</td><td>no</td><td>no</td><td>no</td><td>no</td><td>no*</td><td>no</td><td>yes</td><td>no</td><td>yes</td><td>yes*</td></tr>\n",
       "<tr><td>G333.23mm2</td><td>SO $6_5-5_4$</td><td>$0.07\\times0.06$</td><td>$400\\times300$</td><td>5.3$^h$</td><td>yes*</td><td>no</td><td>no</td><td>no</td><td>no*</td><td>no</td><td>yes</td><td>no</td><td>yes</td><td>yes*</td></tr>\n",
       "<tr><td>G335 ALMA1</td><td>no clear disk</td><td>$0.07\\times0.06$</td><td>$240\\times210$</td><td>3.3$^i$</td><td>no</td><td>no</td><td>no</td><td>no</td><td>yes</td><td>no</td><td>yes</td><td>no</td><td>no*</td><td>no</td></tr>\n",
       "<tr><td>G34.43mm1</td><td>no clear disk</td><td>$0.11\\times0.08$</td><td>$420\\times300$</td><td>1.6$^l$</td><td>no</td><td>no</td><td>no</td><td>no</td><td>no*</td><td>no*</td><td>yes</td><td>no</td><td>yes</td><td>no*</td></tr>\n",
       "<tr><td>G351.77mm1</td><td>\\water</td><td>$0.05\\times0.04$</td><td>$115\\times83$</td><td>2.2$^c$</td><td>yes-c</td><td>yes</td><td>yes</td><td>no</td><td>yes</td><td>no*</td><td>no</td><td>yes</td><td>no</td><td>yes</td></tr>\n",
       "<tr><td>G351.77mm12</td><td>\\water</td><td>$0.05\\times0.04$</td><td>$115\\times83$</td><td>2.2$^c$</td><td>unres</td><td>yes</td><td>yes*</td><td>no</td><td>yes</td><td>no</td><td>no</td><td>yes</td><td>no</td><td>yes</td></tr>\n",
       "<tr><td>G351.77mm2</td><td>\\water</td><td>$0.05\\times0.04$</td><td>$115\\times83$</td><td>2.2$^c$</td><td>unres</td><td>yes</td><td>yes*</td><td>no</td><td>no</td><td>yes</td><td>no</td><td>no</td><td>no</td><td>no*</td></tr>\n",
       "<tr><td>G5.89 mm15</td><td>\\water</td><td>$0.06\\times0.04$</td><td>$170\\times120$</td><td>3.0$^b$</td><td>cont</td><td>no</td><td>no</td><td>no</td><td>?</td><td>no</td><td>no</td><td>no</td><td>no</td><td>no</td></tr>\n",
       "<tr><td>I16547A</td><td>\\water</td><td>$0.06\\times0.06$</td><td>$180\\times180$</td><td>2.9$^c$</td><td>yes-c</td><td>yes</td><td>yes*</td><td>no</td><td>yes</td><td>no</td><td>yes</td><td>yes</td><td>yes</td><td>yes</td></tr>\n",
       "<tr><td>I16547B</td><td>\\water</td><td>$0.06\\times0.06$</td><td>$180\\times180$</td><td>2.9$^c$</td><td>yes-c</td><td>yes</td><td>yes*</td><td>no</td><td>yes</td><td>no</td><td>yes</td><td>yes</td><td>yes</td><td>yes</td></tr>\n",
       "<tr><td>IRAS16562</td><td>H30$\\alpha$</td><td>$0.11\\times0.05$</td><td>$240\\times120$</td><td>2.3$^g$</td><td>no</td><td>no</td><td>no</td><td>no</td><td>yes</td><td>yes</td><td>ext</td><td>no</td><td>ext</td><td>no</td></tr>\n",
       "<tr><td>IRAS18089</td><td>CH$_3$OH</td><td>$0.06\\times0.05$</td><td>$150\\times100$</td><td>2.3$^f$</td><td>yes-c</td><td>no</td><td>no</td><td>no</td><td>yes</td><td>no</td><td>yes</td><td>yes*</td><td>yes</td><td>no*</td></tr>\n",
       "<tr><td>IRAS18162 GGD27</td><td>SO $6_5-5_4$</td><td>$0.10\\times0.07$</td><td>$130\\times90$</td><td>1.3$^a$</td><td>yes</td><td>no</td><td>no</td><td>no</td><td>?</td><td>no</td><td>yes</td><td>no</td><td>yes</td><td>no</td></tr>\n",
       "<tr><td>NGC6334IN SMA1b/d</td><td>\\water</td><td>$0.08\\times0.05$</td><td>$110\\times67$</td><td>1.3$^d$</td><td>no</td><td>no*</td><td>no</td><td>no</td><td>no</td><td>no</td><td>yes</td><td>no</td><td>no</td><td>no*</td></tr>\n",
       "<tr><td>NGC6334IN SMA6</td><td>\\water</td><td>$0.08\\times0.05$</td><td>$110\\times67$</td><td>1.3$^d$</td><td>no</td><td>yes*</td><td>no</td><td>no</td><td>no</td><td>no</td><td>yes</td><td>no</td><td>no</td><td>yes*</td></tr>\n",
       "<tr><td>NGC6334Imm1b</td><td>\\water</td><td>$0.09\\times0.05$</td><td>$110\\times67$</td><td>1.3$^d$</td><td>yes-c</td><td>yes</td><td>yes</td><td>yes</td><td>yes</td><td>no</td><td>yes*</td><td>yes</td><td>no*</td><td>yes*</td></tr>\n",
       "<tr><td>NGC6334Imm1d</td><td>\\water</td><td>$0.09\\times0.05$</td><td>$110\\times67$</td><td>1.3$^d$</td><td>yes*</td><td>yes*</td><td>no</td><td>no</td><td>no</td><td>no</td><td>no</td><td>no</td><td>no</td><td>yes*</td></tr>\n",
       "<tr><td>NGC6334Imm2b</td><td>\\water</td><td>$0.09\\times0.05$</td><td>$110\\times67$</td><td>1.3$^d$</td><td>unres</td><td>yes</td><td>no*</td><td>no</td><td>yes</td><td>no</td><td>yes</td><td>yes</td><td>yes</td><td>yes*</td></tr>\n",
       "<tr><td>Orion SrcI</td><td>NaCl J=18-17 v=0</td><td>$0.04\\times0.02$</td><td>$16\\times8$</td><td>0.4</td><td>yes</td><td>yes</td><td>yes</td><td>yes</td><td>yes</td><td>no</td><td>no</td><td>yes</td><td>yes</td><td>?</td></tr>\n",
       "<tr><td>S255IR SMA1</td><td>no clear disk</td><td>$0.03\\times0.02$</td><td>$70\\times50$</td><td>1.6$^k$</td><td>no*</td><td>no*</td><td>no</td><td>no</td><td>yes</td><td>yes</td><td>yes</td><td>no</td><td>yes</td><td>no</td></tr>\n",
       "<tr><td>W33A mm1-main</td><td>\\water</td><td>$0.10\\times0.07$</td><td>$240\\times160$</td><td>2.6$^k$</td><td>unres</td><td>yes*</td><td>yes*</td><td>no</td><td>yes</td><td>yes*</td><td>yes</td><td>yes*</td><td>yes</td><td>yes</td></tr>\n",
       "</table></div>"
      ],
      "text/plain": [
       "<Table length=24>\n",
       "      Source          $v$ line        Beam Size      Beam Size_1   Distance  disk H$_2$O NaCl KCl  SiO  RRL  COMs SiS   SO   PN \n",
       "      str17            str16            str16           str14        str7    str5  str4  str4 str3 str3 str4 str4 str4 str4 str4\n",
       "----------------- ---------------- ---------------- -------------- -------- ----- ------ ---- ---- ---- ---- ---- ---- ---- ----\n",
       "        G11.92mm1     SO $6_5-5_4$ $0.10\\times0.07$ $347\\times234$  3.3$^e$   yes     no   no   no  yes   no  yes yes*  yes yes*\n",
       "              G17           \\water $0.04\\times0.02$   $80\\times50$  2.2$^c$   yes    yes  yes  yes  yes  yes   no  yes yes*   no\n",
       "    G29.96 submm1    no clear disk $0.10\\times0.07$ $610\\times430$  7.4$^j$    no     no   no   no  yes   no  yes  no*  no*  no*\n",
       "       G333.23mm1     SO $6_5-5_4$ $0.07\\times0.06$ $400\\times300$  5.3$^h$    no     no   no   no  no*   no  yes   no  yes yes*\n",
       "       G333.23mm2     SO $6_5-5_4$ $0.07\\times0.06$ $400\\times300$  5.3$^h$  yes*     no   no   no  no*   no  yes   no  yes yes*\n",
       "       G335 ALMA1    no clear disk $0.07\\times0.06$ $240\\times210$  3.3$^i$    no     no   no   no  yes   no  yes   no  no*   no\n",
       "        G34.43mm1    no clear disk $0.11\\times0.08$ $420\\times300$  1.6$^l$    no     no   no   no  no*  no*  yes   no  yes  no*\n",
       "       G351.77mm1           \\water $0.05\\times0.04$  $115\\times83$  2.2$^c$ yes-c    yes  yes   no  yes  no*   no  yes   no  yes\n",
       "      G351.77mm12           \\water $0.05\\times0.04$  $115\\times83$  2.2$^c$ unres    yes yes*   no  yes   no   no  yes   no  yes\n",
       "       G351.77mm2           \\water $0.05\\times0.04$  $115\\times83$  2.2$^c$ unres    yes yes*   no   no  yes   no   no   no  no*\n",
       "       G5.89 mm15           \\water $0.06\\times0.04$ $170\\times120$  3.0$^b$  cont     no   no   no    ?   no   no   no   no   no\n",
       "          I16547A           \\water $0.06\\times0.06$ $180\\times180$  2.9$^c$ yes-c    yes yes*   no  yes   no  yes  yes  yes  yes\n",
       "          I16547B           \\water $0.06\\times0.06$ $180\\times180$  2.9$^c$ yes-c    yes yes*   no  yes   no  yes  yes  yes  yes\n",
       "        IRAS16562      H30$\\alpha$ $0.11\\times0.05$ $240\\times120$  2.3$^g$    no     no   no   no  yes  yes  ext   no  ext   no\n",
       "        IRAS18089         CH$_3$OH $0.06\\times0.05$ $150\\times100$  2.3$^f$ yes-c     no   no   no  yes   no  yes yes*  yes  no*\n",
       "  IRAS18162 GGD27     SO $6_5-5_4$ $0.10\\times0.07$  $130\\times90$  1.3$^a$   yes     no   no   no    ?   no  yes   no  yes   no\n",
       "NGC6334IN SMA1b/d           \\water $0.08\\times0.05$  $110\\times67$  1.3$^d$    no    no*   no   no   no   no  yes   no   no  no*\n",
       "   NGC6334IN SMA6           \\water $0.08\\times0.05$  $110\\times67$  1.3$^d$    no   yes*   no   no   no   no  yes   no   no yes*\n",
       "     NGC6334Imm1b           \\water $0.09\\times0.05$  $110\\times67$  1.3$^d$ yes-c    yes  yes  yes  yes   no yes*  yes  no* yes*\n",
       "     NGC6334Imm1d           \\water $0.09\\times0.05$  $110\\times67$  1.3$^d$  yes*   yes*   no   no   no   no   no   no   no yes*\n",
       "     NGC6334Imm2b           \\water $0.09\\times0.05$  $110\\times67$  1.3$^d$ unres    yes  no*   no  yes   no  yes  yes  yes yes*\n",
       "       Orion SrcI NaCl J=18-17 v=0 $0.04\\times0.02$    $16\\times8$      0.4   yes    yes  yes  yes  yes   no   no  yes  yes    ?\n",
       "      S255IR SMA1    no clear disk $0.03\\times0.02$   $70\\times50$  1.6$^k$   no*    no*   no   no  yes  yes  yes   no  yes   no\n",
       "    W33A mm1-main           \\water $0.10\\times0.07$ $240\\times160$  2.6$^k$ unres   yes* yes*   no  yes yes*  yes yes*  yes  yes"
      ]
     },
     "execution_count": 12,
     "metadata": {},
     "output_type": "execute_result"
    }
   ],
   "source": [
    "mtbl"
   ]
  },
  {
   "cell_type": "code",
   "execution_count": 13,
   "id": "daa0ab4b-ae6f-4877-b73b-d2ab85688105",
   "metadata": {
    "execution": {
     "iopub.execute_input": "2022-10-13T13:58:40.730965Z",
     "iopub.status.busy": "2022-10-13T13:58:40.730716Z",
     "iopub.status.idle": "2022-10-13T13:58:40.777466Z",
     "shell.execute_reply": "2022-10-13T13:58:40.777664Z"
    }
   },
   "outputs": [],
   "source": [
    "def get_bmaj(x):\n",
    "    return int(x.split('\\\\')[0].strip(\"$\"))\n",
    "bmaj = list(map(get_bmaj, mtbl['Beam Size_1']))"
   ]
  },
  {
   "cell_type": "code",
   "execution_count": 14,
   "id": "fcf629cc-fd3d-4eae-9823-35c2d143b965",
   "metadata": {
    "execution": {
     "iopub.execute_input": "2022-10-13T13:58:40.779418Z",
     "iopub.status.busy": "2022-10-13T13:58:40.779163Z",
     "iopub.status.idle": "2022-10-13T13:58:41.217861Z",
     "shell.execute_reply": "2022-10-13T13:58:41.218241Z"
    }
   },
   "outputs": [],
   "source": [
    "%matplotlib inline\n",
    "import pylab as pl"
   ]
  },
  {
   "cell_type": "code",
   "execution_count": 15,
   "id": "7098293f-93a1-408e-8967-bcbc72b0ca70",
   "metadata": {
    "execution": {
     "iopub.execute_input": "2022-10-13T13:58:41.222536Z",
     "iopub.status.busy": "2022-10-13T13:58:41.219946Z",
     "iopub.status.idle": "2022-10-13T13:58:41.331725Z",
     "shell.execute_reply": "2022-10-13T13:58:41.331919Z"
    }
   },
   "outputs": [
    {
     "data": {
      "text/plain": [
       "[<matplotlib.lines.Line2D at 0x2af28fe21be0>]"
      ]
     },
     "execution_count": 15,
     "metadata": {},
     "output_type": "execute_result"
    },
    {
     "data": {
      "image/png": "[encoded data removed]",
      "text/plain": [
       "<Figure size 432x288 with 1 Axes>"
      ]
     },
     "metadata": {
      "needs_background": "light"
     },
     "output_type": "display_data"
    }
   ],
   "source": [
    "pl.plot(bmaj, ['yes' in key for key in mtbl['NaCl']], 'o')"
   ]
  },
  {
   "cell_type": "code",
   "execution_count": 16,
   "id": "f89a3a65-6287-4042-a09b-c05cf11c82eb",
   "metadata": {
    "execution": {
     "iopub.execute_input": "2022-10-13T13:58:41.333517Z",
     "iopub.status.busy": "2022-10-13T13:58:41.333012Z",
     "iopub.status.idle": "2022-10-13T13:58:41.861115Z",
     "shell.execute_reply": "2022-10-13T13:58:41.861523Z"
    }
   },
   "outputs": [],
   "source": [
    "import sklearn.linear_model"
   ]
  },
  {
   "cell_type": "code",
   "execution_count": 17,
   "id": "4883ff1c-c404-4a89-b023-5895a77497d0",
   "metadata": {
    "execution": {
     "iopub.execute_input": "2022-10-13T13:58:41.863660Z",
     "iopub.status.busy": "2022-10-13T13:58:41.863386Z",
     "iopub.status.idle": "2022-10-13T13:58:41.864674Z",
     "shell.execute_reply": "2022-10-13T13:58:41.864870Z"
    }
   },
   "outputs": [],
   "source": [
    "import numpy as np"
   ]
  },
  {
   "cell_type": "code",
   "execution_count": 18,
   "id": "38a98555-abd9-4980-8f1b-827e511b2dcb",
   "metadata": {
    "execution": {
     "iopub.execute_input": "2022-10-13T13:58:41.866883Z",
     "iopub.status.busy": "2022-10-13T13:58:41.866637Z",
     "iopub.status.idle": "2022-10-13T13:58:42.214135Z",
     "shell.execute_reply": "2022-10-13T13:58:42.213757Z"
    }
   },
   "outputs": [
    {
     "name": "stderr",
     "output_type": "stream",
     "text": [
      "/orange/adamginsburg/miniconda3/envs/python39/lib/python3.9/site-packages/sklearn/utils/validation.py:985: DataConversionWarning: A column-vector y was passed when a 1d array was expected. Please change the shape of y to (n_samples, ), for example using ravel().\n",
      "  y = column_or_1d(y, warn=True)\n"
     ]
    }
   ],
   "source": [
    "from sklearn.linear_model import LogisticRegression\n",
    "logisticfit = LogisticRegression(random_state=0).fit(np.array(bmaj).reshape(-1,1), \n",
    "                                                     np.array(['yes' in key for key in mtbl['NaCl']]).reshape(-1,1))"
   ]
  },
  {
   "cell_type": "markdown",
   "id": "4601fd29-096a-436a-9760-2e100ed529c2",
   "metadata": {},
   "source": [
    "We need to treat each _observation_ independently, not each source.\n",
    "\n",
    "So, we need to filter bmaj & \"yes\" by region name.  Or distance.\n",
    "\n",
    "This isn't really automatable."
   ]
  },
  {
   "cell_type": "code",
   "execution_count": 19,
   "id": "c25f9f8a-ba3b-4477-b407-646bc30d1889",
   "metadata": {
    "execution": {
     "iopub.execute_input": "2022-10-13T13:58:42.225501Z",
     "iopub.status.busy": "2022-10-13T13:58:42.217966Z",
     "iopub.status.idle": "2022-10-13T13:58:42.230357Z",
     "shell.execute_reply": "2022-10-13T13:58:42.230560Z"
    }
   },
   "outputs": [
    {
     "name": "stdout",
     "output_type": "stream",
     "text": [
      "{'G11.92': 347, 'G17': 80, 'G29.96': 610, 'G333.23': 400, 'G335': 240, 'G34.43': 420, 'G351.77': 115, 'G5.89': 170, 'I16547': 180, 'IRAS16562': 240, 'IRAS18089': 150, 'GGD27': 130, 'NGC6334IN': 110, 'NGC6334Imm': 110, 'SrcI': 16, 'S255IR': 70, 'W33A': 240}\n",
      "{'G11.92': False, 'W33A': True, 'S255IR': False, 'NGC6334Imm': True, 'NGC6334IN': False, 'IRAS18089': False, 'IRAS16562': False, 'I16547': True, 'G351.77': True, 'GGD27': False, 'G333.23': False, 'G335': False, 'G34.43': False, 'G29.96': False, 'G17': True, 'SrcI': True, 'G5.89': False}\n",
      "17 17 17\n"
     ]
    },
    {
     "name": "stderr",
     "output_type": "stream",
     "text": [
      "/orange/adamginsburg/miniconda3/envs/python39/lib/python3.9/site-packages/sklearn/utils/validation.py:985: DataConversionWarning: A column-vector y was passed when a 1d array was expected. Please change the shape of y to (n_samples, ), for example using ravel().\n",
      "  y = column_or_1d(y, warn=True)\n"
     ]
    }
   ],
   "source": [
    "region_names = ['G11.92', 'W33A', 'S255IR', 'NGC6334Imm', 'NGC6334IN', 'IRAS18089', 'IRAS16562', 'I16547', 'G351.77', 'GGD27', 'G333.23', 'G335', 'G34.43', 'G29.96', 'G17', 'SrcI', 'G5.89']\n",
    "for rn in region_names:\n",
    "    if not any(rn in src for src in mtbl['Source']):\n",
    "        raise ValueError(f\"No matches for region {rn}\")\n",
    "bmaj_reg = {regname:bmaj[ii]\n",
    "            for ii,srcnm in enumerate(mtbl['Source'])\n",
    "            for regname in region_names\n",
    "            if regname in srcnm}\n",
    "assert len(bmaj_reg) == len(region_names)\n",
    "nacldet = {regname: False for regname in region_names}\n",
    "for regname in region_names:\n",
    "    for row in mtbl:\n",
    "        if regname in row['Source']:\n",
    "            if 'yes' in row['NaCl']:\n",
    "                nacldet[regname] = True\n",
    "\n",
    "print(bmaj_reg)\n",
    "print(nacldet)\n",
    "bmaj_reg_arr = [bmaj_reg[regname] for regname in region_names]\n",
    "nacldet_arr = [nacldet[regname] for regname in region_names]\n",
    "print(len(nacldet_arr), len(bmaj_reg), len(region_names))\n",
    "\n",
    "logisticfit2 = LogisticRegression(random_state=0).fit(np.array(bmaj_reg_arr).reshape(-1,1), \n",
    "                                                      np.array(nacldet_arr).reshape(-1,1))"
   ]
  },
  {
   "cell_type": "code",
   "execution_count": 20,
   "id": "ad9bfcbb-a905-4dcc-a9e6-d25c4f8e0f4e",
   "metadata": {
    "execution": {
     "iopub.execute_input": "2022-10-13T13:58:42.232907Z",
     "iopub.status.busy": "2022-10-13T13:58:42.232659Z",
     "iopub.status.idle": "2022-10-13T13:58:42.459881Z",
     "shell.execute_reply": "2022-10-13T13:58:42.460076Z"
    }
   },
   "outputs": [
    {
     "data": {
      "image/png": "[encoded data removed]",
      "text/plain": [
       "<Figure size 576x432 with 1 Axes>"
      ]
     },
     "metadata": {
      "needs_background": "light"
     },
     "output_type": "display_data"
    }
   ],
   "source": [
    "# pl.rcParams['font.size'] = 16\n",
    "pl.figure(figsize=(8,6))\n",
    "pl.scatter(bmaj, ['yes' in key for key in mtbl['NaCl']], marker='o', )\n",
    "pl.plot(np.arange(600), logisticfit.predict_proba(np.arange(600).reshape(-1,1))[:,1], color='orange')\n",
    "pl.xlabel(\"Beam size (AU)\")\n",
    "pl.ylabel(\"Probability of Salt\")\n",
    "pl.savefig('../figures/logistic_P_of_salt.pdf', bbox_inches='tight', dpi=300)"
   ]
  },
  {
   "cell_type": "code",
   "execution_count": 21,
   "id": "e960a364-7e5e-4b49-b27f-e4f1266f384a",
   "metadata": {
    "execution": {
     "iopub.execute_input": "2022-10-13T13:58:42.471409Z",
     "iopub.status.busy": "2022-10-13T13:58:42.462579Z",
     "iopub.status.idle": "2022-10-13T13:58:42.592819Z",
     "shell.execute_reply": "2022-10-13T13:58:42.592612Z"
    }
   },
   "outputs": [
    {
     "name": "stdout",
     "output_type": "stream",
     "text": [
      "122\n"
     ]
    },
    {
     "data": {
      "image/png": "[encoded data removed]",
      "text/plain": [
       "<Figure size 576x432 with 1 Axes>"
      ]
     },
     "metadata": {
      "needs_background": "light"
     },
     "output_type": "display_data"
    }
   ],
   "source": [
    "# pl.rcParams['font.size'] = 16\n",
    "pl.figure(figsize=(8,6))\n",
    "pl.scatter(bmaj_reg_arr, nacldet_arr, marker='o', )\n",
    "pl.plot(np.arange(600), logisticfit2.predict_proba(np.arange(600).reshape(-1,1))[:,1], color='orange')\n",
    "pl.xlabel(\"Beam size (AU)\")\n",
    "pl.ylabel(\"Probability of Salt\")\n",
    "pl.savefig('../figures/logistic_P_of_salt.pdf', bbox_inches='tight', dpi=300)\n",
    "print(np.arange(600)[np.argmin(np.abs(logisticfit2.predict_proba(np.arange(600).reshape(-1,1))[:,1]-0.5))])"
   ]
  },
  {
   "cell_type": "code",
   "execution_count": 22,
   "id": "a3c9e744-fca8-4aa0-9c1a-fe54a0a9e616",
   "metadata": {
    "execution": {
     "iopub.execute_input": "2022-10-13T13:58:42.595192Z",
     "iopub.status.busy": "2022-10-13T13:58:42.594317Z",
     "iopub.status.idle": "2022-10-13T13:58:42.596765Z",
     "shell.execute_reply": "2022-10-13T13:58:42.596959Z"
    }
   },
   "outputs": [
    {
     "data": {
      "text/plain": [
       "array([[0.20244883, 0.79755117]])"
      ]
     },
     "execution_count": 22,
     "metadata": {},
     "output_type": "execute_result"
    }
   ],
   "source": [
    "logisticfit2.predict_proba([[1]])"
   ]
  },
  {
   "cell_type": "code",
   "execution_count": 23,
   "id": "7c1186a4-703e-4b56-8cb4-3fc1c849158d",
   "metadata": {
    "execution": {
     "iopub.execute_input": "2022-10-13T13:58:42.599120Z",
     "iopub.status.busy": "2022-10-13T13:58:42.598819Z",
     "iopub.status.idle": "2022-10-13T13:58:42.614068Z",
     "shell.execute_reply": "2022-10-13T13:58:42.613800Z"
    }
   },
   "outputs": [],
   "source": [
    "boolcols = [ 'H$_2$O', 'NaCl', 'SiS', 'PN', 'KCl', 'SiO', 'RRL',  'SO', 'COMs',    ]\n",
    "for boolcol in boolcols:\n",
    "    try:\n",
    "        mtbl.add_column(['yes' in str(row).lower() for row in mtbl[boolcol]], name='bool '+boolcol)\n",
    "    except:\n",
    "        pass"
   ]
  },
  {
   "cell_type": "code",
   "execution_count": 24,
   "id": "11701256-2356-4e54-b891-f17aa8501ec6",
   "metadata": {
    "execution": {
     "iopub.execute_input": "2022-10-13T13:58:42.615813Z",
     "iopub.status.busy": "2022-10-13T13:58:42.615566Z",
     "iopub.status.idle": "2022-10-13T13:58:42.627004Z",
     "shell.execute_reply": "2022-10-13T13:58:42.626707Z"
    }
   },
   "outputs": [],
   "source": [
    "btbl = np.array([mtbl['bool '+bc] for bc in boolcols])"
   ]
  },
  {
   "cell_type": "code",
   "execution_count": 25,
   "id": "9ab255ef-191b-46f6-bb6d-1f2fcfd59e3c",
   "metadata": {
    "execution": {
     "iopub.execute_input": "2022-10-13T13:58:42.628731Z",
     "iopub.status.busy": "2022-10-13T13:58:42.628484Z",
     "iopub.status.idle": "2022-10-13T13:58:42.687898Z",
     "shell.execute_reply": "2022-10-13T13:58:42.687645Z"
    }
   },
   "outputs": [],
   "source": [
    "ccs = np.corrcoef(btbl)\n",
    "ccs[np.triu_indices(ccs.shape[0], 0)] = np.nan"
   ]
  },
  {
   "cell_type": "code",
   "execution_count": 26,
   "id": "a1565e08-d00e-46bc-b7d0-8d7f95e1687e",
   "metadata": {
    "execution": {
     "iopub.execute_input": "2022-10-13T13:58:42.701982Z",
     "iopub.status.busy": "2022-10-13T13:58:42.690790Z",
     "iopub.status.idle": "2022-10-13T13:58:43.151383Z",
     "shell.execute_reply": "2022-10-13T13:58:43.151578Z"
    },
    "tags": []
   },
   "outputs": [
    {
     "data": {
      "image/png": "[encoded data removed]",
      "text/plain": [
       "<Figure size 432x288 with 2 Axes>"
      ]
     },
     "metadata": {
      "needs_background": "light"
     },
     "output_type": "display_data"
    }
   ],
   "source": [
    "fig = pl.figure()\n",
    "ax = pl.gca()\n",
    "ax.xaxis.tick_top()\n",
    "\n",
    "im = ax.imshow(np.corrcoef(btbl), cmap='PuOr', vmin=-1, vmax=1)\n",
    "cb = pl.colorbar(mappable=im)\n",
    "cb.set_label(\"Correlation Coefficient\")\n",
    "xloc,xlab = pl.xticks()\n",
    "pl.xticks(ticks=[0,1,2,3,4,5,6,7,8], labels=boolcols, rotation=50)\n",
    "pl.yticks(ticks=[0,1,2,3,4,5,6,7,8], labels=boolcols)\n",
    "pl.axis([-0.5,8.5,8.5,-0.5])\n",
    "fig.savefig(\"../figures/salt_water_so_sis_cross_correlation_redundant.png\", bbox_inches='tight', dpi=300)"
   ]
  },
  {
   "cell_type": "code",
   "execution_count": 27,
   "id": "44c0f046-cdf8-4a40-a096-ff458bae3438",
   "metadata": {
    "execution": {
     "iopub.execute_input": "2022-10-13T13:58:43.155332Z",
     "iopub.status.busy": "2022-10-13T13:58:43.155017Z",
     "iopub.status.idle": "2022-10-13T13:58:43.462564Z",
     "shell.execute_reply": "2022-10-13T13:58:43.462336Z"
    }
   },
   "outputs": [
    {
     "data": {
      "image/png": "[encoded data removed]",
      "text/plain": [
       "<Figure size 432x288 with 2 Axes>"
      ]
     },
     "metadata": {
      "needs_background": "light"
     },
     "output_type": "display_data"
    }
   ],
   "source": [
    "fig = pl.figure()\n",
    "ax = pl.gca()\n",
    "im = ax.imshow(ccs[1:,:-1], cmap='inferno')\n",
    "cb = pl.colorbar(mappable=im)\n",
    "cb.set_label(\"Correlation Coefficient\")\n",
    "xloc,xlab = pl.xticks()\n",
    "pl.xticks(ticks=[0,1,2,3,4,5,6,7], labels=boolcols[:-1], rotation=50)\n",
    "pl.yticks(ticks=[0,1,2,3,4,5,6,7], labels=boolcols[1:])\n",
    "pl.axis([-0.5,7.5,7.5,-0.5])\n",
    "fig.savefig(\"../figures/salt_water_so_sis_cross_correlation.png\", bbox_inches='tight', dpi=300)"
   ]
  },
  {
   "cell_type": "code",
   "execution_count": 28,
   "id": "f4f9bc44-9a88-4ccc-8a47-09fc4debf946",
   "metadata": {
    "execution": {
     "iopub.execute_input": "2022-10-13T13:58:43.466971Z",
     "iopub.status.busy": "2022-10-13T13:58:43.466665Z",
     "iopub.status.idle": "2022-10-13T13:58:43.783187Z",
     "shell.execute_reply": "2022-10-13T13:58:43.782967Z"
    }
   },
   "outputs": [
    {
     "data": {
      "image/png": "[encoded data removed]",
      "text/plain": [
       "<Figure size 432x288 with 2 Axes>"
      ]
     },
     "metadata": {
      "needs_background": "light"
     },
     "output_type": "display_data"
    }
   ],
   "source": [
    "fig = pl.figure()\n",
    "ax = pl.gca()\n",
    "ccs2 = np.corrcoef(btbl)\n",
    "ccs2[np.triu_indices(ccs.shape[0], 1)] = np.nan\n",
    "im = ax.imshow(ccs2, cmap='inferno')\n",
    "cb = pl.colorbar(mappable=im)\n",
    "cb.set_label(\"Correlation Coefficient\")\n",
    "xloc,xlab = pl.xticks()\n",
    "pl.xticks(ticks=[0,1,2,3,4,5,6,7,8], labels=boolcols, rotation=50)\n",
    "pl.yticks(ticks=[0,1,2,3,4,5,6,7,8], labels=boolcols)\n",
    "pl.axis([-0.5,8.5,8.5,-0.5])\n",
    "fig.savefig(\"../figures/salt_water_so_sis_cross_correlation_bigger.png\", bbox_inches='tight', dpi=300)"
   ]
  },
  {
   "cell_type": "code",
   "execution_count": 29,
   "id": "a89b2722-c224-43a4-9d75-959fee841b21",
   "metadata": {
    "execution": {
     "iopub.execute_input": "2022-10-13T13:58:43.785834Z",
     "iopub.status.busy": "2022-10-13T13:58:43.785521Z",
     "iopub.status.idle": "2022-10-13T13:58:43.787560Z",
     "shell.execute_reply": "2022-10-13T13:58:43.787354Z"
    }
   },
   "outputs": [
    {
     "data": {
      "text/plain": [
       "array([nan, nan, nan, nan, nan, nan, nan, nan, nan])"
      ]
     },
     "execution_count": 29,
     "metadata": {},
     "output_type": "execute_result"
    }
   ],
   "source": [
    "ccs.diagonal()"
   ]
  },
  {
   "cell_type": "code",
   "execution_count": 30,
   "id": "8333f26c-48a3-4eb6-a868-583f77de4df3",
   "metadata": {
    "execution": {
     "iopub.execute_input": "2022-10-13T13:58:43.789183Z",
     "iopub.status.busy": "2022-10-13T13:58:43.788927Z",
     "iopub.status.idle": "2022-10-13T13:58:43.829545Z",
     "shell.execute_reply": "2022-10-13T13:58:43.829325Z"
    }
   },
   "outputs": [
    {
     "data": {
      "text/plain": [
       "array([1., 1., 1., 1., 1., 1., 1., 1., 1.])"
      ]
     },
     "execution_count": 30,
     "metadata": {},
     "output_type": "execute_result"
    }
   ],
   "source": [
    "np.corrcoef(btbl).diagonal()"
   ]
  },
  {
   "cell_type": "code",
   "execution_count": null,
   "id": "236fb17a-0faa-4f59-b6e1-aadf3c0ac4a6",
   "metadata": {},
   "outputs": [],
   "source": []
  },
  {
   "cell_type": "code",
   "execution_count": 31,
   "id": "4cf868df-2893-4a8d-9d15-2f2dc9107ee5",
   "metadata": {
    "execution": {
     "iopub.execute_input": "2022-10-13T13:58:43.833203Z",
     "iopub.status.busy": "2022-10-13T13:58:43.832747Z",
     "iopub.status.idle": "2022-10-13T13:58:44.192876Z",
     "shell.execute_reply": "2022-10-13T13:58:44.192665Z"
    }
   },
   "outputs": [
    {
     "data": {
      "image/png": "[encoded data removed]",
      "text/plain": [
       "<Figure size 432x288 with 2 Axes>"
      ]
     },
     "metadata": {
      "needs_background": "light"
     },
     "output_type": "display_data"
    }
   ],
   "source": [
    "boolcols2 = [ 'NaCl', 'H$_2$O', 'SiS', 'SiO', 'KCl', 'PN',  'RRL',  'SO', 'COMs',    ]\n",
    "\n",
    "btbl2 = np.array([mtbl['bool '+bc] for bc in boolcols2])\n",
    "\n",
    "#ccs2 = np.corrcoef(btbl2)\n",
    "#ccs2[np.triu_indices(ccs.shape[0], 0)] = np.nan\n",
    "\n",
    "fig = pl.figure()\n",
    "ax = pl.gca()\n",
    "ax.xaxis.tick_top()\n",
    "im = ax.imshow(np.corrcoef(btbl2), cmap='PuOr', vmin=-1, vmax=1)\n",
    "cb = pl.colorbar(mappable=im)\n",
    "cb.set_label(\"Correlation Coefficient\")\n",
    "xloc,xlab = pl.xticks()\n",
    "pl.xticks(ticks=[0,1,2,3,4,5,6,7,8], labels=boolcols2, rotation=50)\n",
    "pl.yticks(ticks=[0,1,2,3,4,5,6,7,8], labels=boolcols2)\n",
    "pl.axis([-0.5,8.5,8.5,-0.5])\n",
    "fig.savefig(\"../figures/salt_water_so_sis_cross_correlation_redundant_saltfirst.png\", bbox_inches='tight', dpi=300)"
   ]
  },
  {
   "cell_type": "code",
   "execution_count": null,
   "id": "90c64da2-6d6b-4709-959e-7711cfd4efd6",
   "metadata": {},
   "outputs": [],
   "source": []
  },
  {
   "cell_type": "code",
   "execution_count": null,
   "id": "846e2bc2-e2f6-450d-836a-01c48918714b",
   "metadata": {},
   "outputs": [],
   "source": []
  }
 ],
 "metadata": {
  "kernelspec": {
   "display_name": "python39",
   "language": "python",
   "name": "python39"
  },
  "language_info": {
   "codemirror_mode": {
    "name": "ipython",
    "version": 3
   },
   "file_extension": ".py",
   "mimetype": "text/x-python",
   "name": "python",
   "nbconvert_exporter": "python",
   "pygments_lexer": "ipython3",
   "version": "3.9.13"
  }
 },
 "nbformat": 4,
 "nbformat_minor": 5
}
