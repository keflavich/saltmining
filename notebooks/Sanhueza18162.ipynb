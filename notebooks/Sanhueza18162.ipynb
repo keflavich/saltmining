{
 "cells": [
  {
   "cell_type": "markdown",
   "id": "a2fa02c9-c51d-44e9-90d9-f07492299f0b",
   "metadata": {},
   "source": [
    "# GGD27 / HH80/81 / IRAS18162"
   ]
  },
  {
   "cell_type": "markdown",
   "id": "b8dd05b4-4840-4b0a-94ca-7ce913818ee5",
   "metadata": {},
   "source": [
    "# Conclusion:\n",
    "There are no lines coincident with NaCl.  This is a line-poor source with nothing to stack up on.  CH3CN and other common species are prominently detected.  There's something fairly unique and interesting going on here, but not salt."
   ]
  },
  {
   "cell_type": "markdown",
   "id": "6edc6378-83ea-4943-b409-ab0a494f550b",
   "metadata": {},
   "source": [
    "References:\n",
    " * https://ui.adsabs.harvard.edu/abs/2020ApJ...888...41A/abstract - modeling accretion disk"
   ]
  },
  {
   "cell_type": "code",
   "execution_count": 1,
   "id": "c0c85771-e8e9-45ad-83d8-d9889f7f5351",
   "metadata": {},
   "outputs": [],
   "source": [
    "from astropy import units as u\n",
    "distance = 1.3*u.kpc"
   ]
  },
  {
   "cell_type": "code",
   "execution_count": 2,
   "id": "adverse-conviction",
   "metadata": {},
   "outputs": [
    {
     "name": "stdout",
     "output_type": "stream",
     "text": [
      "/orange/adamginsburg/salt/sanhueza/IRAS18162\n"
     ]
    }
   ],
   "source": [
    "cd /orange/adamginsburg/salt/sanhueza/IRAS18162"
   ]
  },
  {
   "cell_type": "code",
   "execution_count": 3,
   "id": "cultural-collect",
   "metadata": {},
   "outputs": [
    {
     "name": "stdout",
     "output_type": "stream",
     "text": [
      "cutout2.reg\n",
      "cutout.reg\n",
      "GGD27_cutout.reg\n",
      "GGD27.reg\n",
      "I18192_Sanhueza_NaCl_PV_withcolorcurves.png\n",
      "I18192_Sanhueza_SO_PV_withcolorcurves.png\n",
      "I18192_Sanhueza_Water_PV_withcolorcurves.png\n",
      "IRAS_181622048.config8.cont_avg.selfcal_0.5_hogbom.image.fits\n",
      "IRAS_181622048.config8.spw0.robust0.5.image_co1_smaller.fits\n",
      "IRAS_181622048.config8.spw0.robust0.5.image_co3_smaller.fits\n",
      "IRAS_181622048.config8.spw0.robust0.5.image_small.fits\n",
      "IRAS_181622048.config8.spw1.robust0.5.image_co1_smaller.fits\n",
      "IRAS_181622048.config8.spw1.robust0.5.image_co3_smaller.fits\n",
      "IRAS_181622048.config8.spw1.robust0.5.image_small.fits\n",
      "IRAS_181622048.config8.spw2.robust0.5.image_co1_smaller.fits\n",
      "IRAS_181622048.config8.spw2.robust0.5.image_co3_smaller.fits\n",
      "IRAS_181622048.config8.spw2.robust0.5.image_small.fits\n",
      "IRAS_181622048.config8.spw3.robust0.5.image_co1_smaller.fits\n",
      "IRAS_181622048.config8.spw3.robust0.5.image_co3_smaller.fits\n",
      "IRAS_181622048.config8.spw3.robust0.5.image_small.fits\n",
      "NaCl_v_le_3_stackcube.fits\n",
      "\u001b[0m\u001b[01;34mspectra\u001b[0m/\n",
      "vmap_GGD27.fits\n"
     ]
    }
   ],
   "source": [
    "ls"
   ]
  },
  {
   "cell_type": "code",
   "execution_count": 4,
   "id": "ac217334-8011-4258-ae9b-7f9192535364",
   "metadata": {},
   "outputs": [],
   "source": [
    "targetname = 'IRAS_181622048'"
   ]
  },
  {
   "cell_type": "markdown",
   "id": "b3066d98-0f24-4019-91e1-5f6c83362391",
   "metadata": {},
   "source": [
    "for fn in glob.glob(\"*.fits\"):\n",
    "    print('app"
   ]
  },
  {
   "cell_type": "code",
   "execution_count": 5,
   "id": "boxed-values",
   "metadata": {},
   "outputs": [
    {
     "data": {
      "text/plain": [
       "<astropy.visualization.units.quantity_support.<locals>.MplQuantityConverter at 0x2ad09a997730>"
      ]
     },
     "execution_count": 5,
     "metadata": {},
     "output_type": "execute_result"
    }
   ],
   "source": [
    "%matplotlib inline\n",
    "import pylab as pl\n",
    "pl.rcParams['figure.facecolor'] = 'w'\n",
    "pl.rcParams['image.origin'] = 'lower'\n",
    "pl.rcParams['font.size'] = 16\n",
    "from spectral_cube import SpectralCube\n",
    "from astropy import units as u\n",
    "from astropy.visualization import quantity_support\n",
    "quantity_support()"
   ]
  },
  {
   "cell_type": "code",
   "execution_count": null,
   "id": "071b4fd3-415d-4c5b-99b5-293a39e13d16",
   "metadata": {},
   "outputs": [],
   "source": []
  },
  {
   "cell_type": "code",
   "execution_count": 6,
   "id": "executive-senator",
   "metadata": {},
   "outputs": [],
   "source": [
    "from astropy.table import Table\n",
    "from astropy import table"
   ]
  },
  {
   "cell_type": "code",
   "execution_count": 7,
   "id": "robust-anchor",
   "metadata": {},
   "outputs": [],
   "source": [
    "import pprint"
   ]
  },
  {
   "cell_type": "code",
   "execution_count": 8,
   "id": "sustainable-tiffany",
   "metadata": {},
   "outputs": [],
   "source": [
    "import scipy, scipy.ndimage"
   ]
  },
  {
   "cell_type": "code",
   "execution_count": 9,
   "id": "visible-princess",
   "metadata": {},
   "outputs": [
    {
     "name": "stderr",
     "output_type": "stream",
     "text": [
      "urllib3 (1.26.7) or chardet (5.0.0)/charset_normalizer (2.0.7) doesn't match a supported version!\n",
      "WARNING: Model is linear in parameters; consider using linear fitting methods. [astropy.modeling.fitting]\n",
      "WARNING: Model is linear in parameters; consider using linear fitting methods. [astropy.modeling.fitting]\n"
     ]
    }
   ],
   "source": [
    "import numpy as np\n",
    "import os\n",
    "import glob\n",
    "from astropy import constants, units as u, table, stats, coordinates, wcs, log, coordinates as coord, visualization\n",
    "import radio_beam\n",
    "import pyspeckit\n",
    "import pylab as pl\n",
    "from astroquery.splatalogue.utils import minimize_table as mt\n",
    "import sys\n",
    "sys.path.append('/orange/adamginsburg/salt/Orion_ALMA_2016.1.00165.S/analysis')\n",
    "import lines\n",
    "import paths\n",
    "from salt_tables import (salt_tables, salt_table_names, SO, SO2, HCl, sis_tables, AlCl, AlF, Al37Cl,\n",
    "                         NaF, AlO, AlOH, NaCN, CaS, CaO)"
   ]
  },
  {
   "cell_type": "code",
   "execution_count": 10,
   "id": "0d6cf461-687f-4bf1-a7a9-4894adb4d3fc",
   "metadata": {},
   "outputs": [],
   "source": [
    "import sys\n",
    "import imp\n",
    "\n",
    "sys.path.insert(0,'/orange/adamginsburg/salt/Orion_ALMA_2016.1.00165.S/analysis')\n",
    "import paths\n",
    "imp.reload(paths) # we need orion's paths loaded\n",
    "\n",
    "from show_pv import show_pv\n",
    "import show_pv\n",
    "imp.reload(show_pv)\n",
    "\n",
    "from show_pv import show_keplercurves, show_pv"
   ]
  },
  {
   "cell_type": "code",
   "execution_count": 11,
   "id": "7a4d378c-b4ec-4d8b-ac98-71f88c6b11f4",
   "metadata": {},
   "outputs": [
    {
     "name": "stdout",
     "output_type": "stream",
     "text": [
      "ln: failed to create hard link ‘GGD27_cutout.reg’: File exists\n"
     ]
    }
   ],
   "source": [
    "!ln cutout.reg GGD27_cutout.reg"
   ]
  },
  {
   "cell_type": "code",
   "execution_count": 12,
   "id": "3bbe2025-52a4-4497-86b2-f6d6571e2b07",
   "metadata": {},
   "outputs": [
    {
     "name": "stdout",
     "output_type": "stream",
     "text": [
      "ln: failed to create hard link ‘GGD27.reg’: File exists\n"
     ]
    }
   ],
   "source": [
    "!ln cutout.reg GGD27.reg"
   ]
  },
  {
   "cell_type": "code",
   "execution_count": 13,
   "id": "dental-prayer",
   "metadata": {},
   "outputs": [],
   "source": [
    "import regions\n",
    "from astropy import units as u, coordinates\n",
    "reg = regions.Regions.read('GGD27_cutout.reg')\n",
    "#reg2 = regions.Regions.read('cutout2.reg')\n",
    "#reg3 = regions.Regions.read('cutout3.reg')\n",
    "#regvsm = regions.Regions.read('verysmall.reg')\n",
    "#regvvsm = regions.Regions.read('innerdiskbox.reg')"
   ]
  },
  {
   "cell_type": "code",
   "execution_count": 14,
   "id": "668be547-d815-46ff-bc9a-66d724a8b0d8",
   "metadata": {},
   "outputs": [
    {
     "data": {
      "text/plain": [
       "<SkyCoord (Galactic): (l, b) in deg\n",
       "    (10.8413657, -2.59164061)>"
      ]
     },
     "execution_count": 14,
     "metadata": {},
     "output_type": "execute_result"
    }
   ],
   "source": [
    "reg[0].center.galactic"
   ]
  },
  {
   "cell_type": "code",
   "execution_count": 15,
   "id": "256b99ed-ed9d-407c-8f82-a6d4a71ebc39",
   "metadata": {},
   "outputs": [
    {
     "name": "stderr",
     "output_type": "stream",
     "text": [
      "WARNING: StokesWarning: Cube is a Stokes cube, returning spectral cube for I component [spectral_cube.io.core]\n",
      "WARNING: WCSWarning: WCS1 is missing card PV2_1 [spectral_cube.wcs_utils]\n",
      "WARNING: WCSWarning: WCS1 is missing card PV2_2 [spectral_cube.wcs_utils]\n",
      "WARNING: WCSWarning: WCS1 is missing card PV2_1 [spectral_cube.wcs_utils]\n",
      "WARNING: WCSWarning: WCS1 is missing card PV2_2 [spectral_cube.wcs_utils]\n",
      "WARNING: WCSWarning: WCS1 is missing card PV2_1 [spectral_cube.wcs_utils]\n",
      "WARNING: WCSWarning: WCS1 is missing card PV2_2 [spectral_cube.wcs_utils]\n",
      "WARNING: WCSWarning: WCS1 is missing card PV2_1 [spectral_cube.wcs_utils]\n",
      "WARNING: WCSWarning: WCS1 is missing card PV2_2 [spectral_cube.wcs_utils]\n"
     ]
    },
    {
     "data": {
      "text/plain": [
       "(2603.0, 2818.0, 2269.0, 2469.0)"
      ]
     },
     "execution_count": 15,
     "metadata": {},
     "output_type": "execute_result"
    },
    {
     "data": {
      "image/png": "[encoded data removed]",
      "text/plain": [
       "<Figure size 720x720 with 1 Axes>"
      ]
     },
     "metadata": {},
     "output_type": "display_data"
    }
   ],
   "source": [
    "cont = SpectralCube.read('IRAS_181622048.config8.cont_avg.selfcal_0.5_hogbom.image.fits')\n",
    "pl.figure(figsize=(10,10))\n",
    "ax = pl.subplot(projection=cont[0].wcs)\n",
    "ax.imshow(cont[0].value, cmap='gray_r', norm=visualization.simple_norm(cont[0].value, stretch='log'))\n",
    "reg[0].to_pixel(cont[0].wcs).plot(ax=ax)\n",
    "#reg2[0].to_pixel(cont[0].wcs).plot(ax=ax)\n",
    "#reg3[0].to_pixel(cont[0].wcs).plot(ax=ax)\n",
    "pp = reg[0].to_pixel(cont.wcs.celestial)\n",
    "bb = pp.bounding_box\n",
    "ax.axis([bb.ixmin-20, bb.ixmax+20, bb.iymin-20, bb.iymax+20])"
   ]
  },
  {
   "cell_type": "markdown",
   "id": "chicken-cutting",
   "metadata": {},
   "source": [
    "# NaCl Stackl"
   ]
  },
  {
   "cell_type": "code",
   "execution_count": 16,
   "id": "informed-concrete",
   "metadata": {},
   "outputs": [],
   "source": [
    "from spectral_cube.analysis_utilities import stack_cube"
   ]
  },
  {
   "cell_type": "code",
   "execution_count": 17,
   "id": "controlling-melbourne",
   "metadata": {},
   "outputs": [],
   "source": [
    "nacltables = salt_tables[3:5]\n",
    "#nacltables[0]"
   ]
  },
  {
   "cell_type": "code",
   "execution_count": 18,
   "id": "leading-atlas",
   "metadata": {},
   "outputs": [],
   "source": [
    "import spectral_cube.analysis_utilities\n",
    "import imp\n",
    "imp.reload(spectral_cube.analysis_utilities)\n",
    "from spectral_cube.analysis_utilities import stack_cube"
   ]
  },
  {
   "cell_type": "code",
   "execution_count": 19,
   "id": "black-salvation",
   "metadata": {},
   "outputs": [],
   "source": [
    "flist = (glob.glob(f'{targetname}.config8.spw[0-3].robust0.5.image_small.fits'))"
   ]
  },
  {
   "cell_type": "code",
   "execution_count": 20,
   "id": "2937665b-e9bf-41e1-9522-7cf6104b7e15",
   "metadata": {},
   "outputs": [
    {
     "data": {
      "text/plain": [
       "['IRAS_181622048.config8.spw3.robust0.5.image_small.fits',\n",
       " 'IRAS_181622048.config8.spw1.robust0.5.image_small.fits',\n",
       " 'IRAS_181622048.config8.spw2.robust0.5.image_small.fits',\n",
       " 'IRAS_181622048.config8.spw0.robust0.5.image_small.fits']"
      ]
     },
     "execution_count": 20,
     "metadata": {},
     "output_type": "execute_result"
    }
   ],
   "source": [
    "flist"
   ]
  },
  {
   "cell_type": "code",
   "execution_count": 21,
   "id": "d03eea2b-e4e1-4c41-ba87-9ac214afe384",
   "metadata": {},
   "outputs": [
    {
     "data": {
      "text/plain": [
       "<dask.config.set at 0x2ad0a9104850>"
      ]
     },
     "execution_count": 21,
     "metadata": {},
     "output_type": "execute_result"
    }
   ],
   "source": [
    "#from dask.diagnostics import ProgressBar\n",
    "#pbar = ProgressBar()\n",
    "#pbar.register()\n",
    "\n",
    "import dask\n",
    "dask.config.set(scheduler='threads', num_workers=8)"
   ]
  },
  {
   "cell_type": "code",
   "execution_count": 22,
   "id": "tired-immune",
   "metadata": {},
   "outputs": [],
   "source": [
    "for fn in flist:\n",
    "    for rr,regn in ( (reg, 'co1'), ):\n",
    "        outfile = fn.replace(\"_small\",f\"_{regn}_smaller\")\n",
    "        if not os.path.exists(outfile) or (os.path.exists(outfile) and SpectralCube.read(outfile).unit != u.K):\n",
    "            cube = SpectralCube.read(fn, use_dask=False).subcube_from_regions(rr)\n",
    "            cube.allow_huge_operations=True\n",
    "            #with cube.use_dask_scheduler('threads', num_workers=8):\n",
    "            cb = cube.beams.common_beam(max_iter=20, max_epsilon=0.01)\n",
    "            scube = cube.convolve_to(cb).to(u.K)\n",
    "            scube.write(outfile, overwrite=True)"
   ]
  },
  {
   "cell_type": "code",
   "execution_count": 23,
   "id": "fifty-poster",
   "metadata": {},
   "outputs": [
    {
     "name": "stderr",
     "output_type": "stream",
     "text": [
      "WARNING: PossiblySlowWarning: This function (<function BaseSpectralCube._apply_everywhere at 0x2ad09a14e550>) requires loading the entire cube into memory and may therefore be slow. [spectral_cube.utils]\n",
      "WARNING: PossiblySlowWarning: This function (<function BaseSpectralCube._apply_everywhere at 0x2ad09a14e550>) requires loading the entire cube into memory and may therefore be slow. [spectral_cube.utils]\n"
     ]
    },
    {
     "data": {
      "text/plain": [
       "[DaskSpectralCube with shape=(3860, 159, 173) and unit=K and chunk size (386, 159, 173):\n",
       "  n_x:    173  type_x: RA---SIN  unit_x: deg    range:   274.800125 deg:  274.800636 deg\n",
       "  n_y:    159  type_y: DEC--SIN  unit_y: deg    range:   -20.792144 deg:  -20.791706 deg\n",
       "  n_s:   3860  type_s: FREQ      unit_s: Hz     range: 216862707361.400 Hz:218747086033.577 Hz,\n",
       " DaskSpectralCube with shape=(1930, 159, 173) and unit=K and chunk size (386, 159, 173):\n",
       "  n_x:    173  type_x: RA---SIN  unit_x: deg    range:   274.800125 deg:  274.800636 deg\n",
       "  n_y:    159  type_y: DEC--SIN  unit_y: deg    range:   -20.792144 deg:  -20.791706 deg\n",
       "  n_s:   1930  type_s: FREQ      unit_s: Hz     range: 231062952403.500 Hz:232946842768.170 Hz,\n",
       " DaskSpectralCube with shape=(1931, 159, 173) and unit=K and chunk size (609, 159, 173):\n",
       "  n_x:    173  type_x: RA---SIN  unit_x: deg    range:   274.800125 deg:  274.800636 deg\n",
       "  n_y:    159  type_y: DEC--SIN  unit_y: deg    range:   -20.792144 deg:  -20.791706 deg\n",
       "  n_s:   1931  type_s: FREQ      unit_s: Hz     range: 233562952559.900 Hz:235447819539.467 Hz,\n",
       " DaskSpectralCube with shape=(3860, 159, 173) and unit=K and chunk size (386, 159, 173):\n",
       "  n_x:    173  type_x: RA---SIN  unit_x: deg    range:   274.800125 deg:  274.800636 deg\n",
       "  n_y:    159  type_y: DEC--SIN  unit_y: deg    range:   -20.792144 deg:  -20.791706 deg\n",
       "  n_s:   3860  type_s: FREQ      unit_s: Hz     range: 219062707499.000 Hz:220947086171.413 Hz]"
      ]
     },
     "execution_count": 23,
     "metadata": {},
     "output_type": "execute_result"
    }
   ],
   "source": [
    "regn = \"co1\"\n",
    "# don't need to subcube b/c reg = cutout = co1\n",
    "cubes = [SpectralCube.read(fn, use_dask=True)#.subcube_from_regions(reg3)\n",
    "         for fn in (glob.glob(f'{targetname}.config8.spw[0-3].robust0.5.image_{regn}_smaller.fits'))]\n",
    "for ii,cube in enumerate(cubes):\n",
    "    # continuum subtract\n",
    "    with cube.use_dask_scheduler('threads', num_workers=8):\n",
    "        cube.allow_huge_operations = True\n",
    "        cubes[ii] = cube - cube.percentile(25, axis=0)\n",
    "cubes"
   ]
  },
  {
   "cell_type": "code",
   "execution_count": 24,
   "id": "earlier-school",
   "metadata": {},
   "outputs": [],
   "source": [
    "# only needed for VRSCs\n",
    "if hasattr(cubes[0], 'beams'):\n",
    "    beams = radio_beam.Beams(beams=[cube.beams.common_beam(max_iter=20, max_epsilon=0.01) for cube in cubes])\n",
    "    cb=beams.common_beam()\n",
    "else:\n",
    "    beams = radio_beam.Beams(beams=[cube.beam for cube in cubes])\n",
    "    cb=beams.common_beam()\n",
    "jtok = cb.jtok(217*u.GHz)"
   ]
  },
  {
   "cell_type": "code",
   "execution_count": 25,
   "id": "b2fa74a0-df7c-425c-b079-198ca37c0f3b",
   "metadata": {},
   "outputs": [
    {
     "data": {
      "text/latex": [
       "Beam: BMAJ=$0.10128964265536967^{''}$ BMIN=$0.07010411928578207^{''}$ BPA=$94.61941528320312^\\circ$"
      ],
      "text/plain": [
       "Beam: BMAJ=0.10128964265536967 arcsec BMIN=0.07010411928578207 arcsec BPA=94.61941528320312 deg"
      ]
     },
     "execution_count": 25,
     "metadata": {},
     "output_type": "execute_result"
    }
   ],
   "source": [
    "cb"
   ]
  },
  {
   "cell_type": "code",
   "execution_count": 26,
   "id": "b44ee89a-5366-43e7-b1d4-69ece51e5ab1",
   "metadata": {},
   "outputs": [
    {
     "data": {
      "text/latex": [
       "$131.67654 \\; \\mathrm{AU}$"
      ],
      "text/plain": [
       "<Quantity 131.67653545 AU>"
      ]
     },
     "execution_count": 26,
     "metadata": {},
     "output_type": "execute_result"
    }
   ],
   "source": [
    "(cb.major*distance).to(u.au, u.dimensionless_angles())"
   ]
  },
  {
   "cell_type": "code",
   "execution_count": 27,
   "id": "cb1d3925-d7bb-4cec-8e9b-ad1deff31dc7",
   "metadata": {},
   "outputs": [
    {
     "data": {
      "text/latex": [
       "$91.135355 \\; \\mathrm{AU}$"
      ],
      "text/plain": [
       "<Quantity 91.13535507 AU>"
      ]
     },
     "execution_count": 27,
     "metadata": {},
     "output_type": "execute_result"
    }
   ],
   "source": [
    "(cb.minor*distance).to(u.au, u.dimensionless_angles())"
   ]
  },
  {
   "cell_type": "code",
   "execution_count": 28,
   "id": "necessary-emission",
   "metadata": {},
   "outputs": [
    {
     "data": {
      "text/plain": [
       "(<Quantity [217.980231, 219.614936, 232.509977, 234.251912] GHz>,\n",
       " array(['23Na-35Clv=2-2 J=17-16', '23Na-35Clv=1-1 J=17-16',\n",
       "        '23Na-35Clv=1-1 J=18-17', '23Na-35Clv=0-0 J=18-17'], dtype='<U24'))"
      ]
     },
     "execution_count": 28,
     "metadata": {},
     "output_type": "execute_result"
    }
   ],
   "source": [
    "linelist = np.concatenate([data['Freq'][(data['vu'] <= 3) &\n",
    "                                          np.any([((data['Freq'].quantity > cube.spectral_extrema[0]) &\n",
    "                                                   (data['Freq'].quantity < cube.spectral_extrema[1]))\n",
    "                                                 for cube in cubes],\n",
    "                                                 axis=0)].quantity\n",
    "                             for data in nacltables])\n",
    "linenames = np.concatenate( [data['Species'][(data['vu'] <= 3) &\n",
    "                                          np.any([((data['Freq'].quantity > cube.spectral_extrema[0]) &\n",
    "                                                   (data['Freq'].quantity < cube.spectral_extrema[1]))\n",
    "                                                 for cube in cubes],\n",
    "                                                 axis=0)]\n",
    "                             for data in nacltables] )\n",
    "(linelist, linenames)"
   ]
  },
  {
   "cell_type": "code",
   "execution_count": 29,
   "id": "underlying-hawaii",
   "metadata": {},
   "outputs": [],
   "source": [
    "from astropy import log\n",
    "log.setLevel('INFO')"
   ]
  },
  {
   "cell_type": "code",
   "execution_count": 30,
   "id": "d1e2d29a-3fa8-4fda-8d44-9e271948acf6",
   "metadata": {},
   "outputs": [],
   "source": [
    "vcen = 14.5 * u.km/u.s # from Patricio\n",
    "vcen = 11.8*u.km/u.s # Manuel Fernandez+ : https://arxiv.org/pdf/1107.3176.pdf\n",
    "vcen = 12.5*u.km/u.s # Anez-Lopez"
   ]
  },
  {
   "cell_type": "code",
   "execution_count": 31,
   "id": "cheap-bradford",
   "metadata": {},
   "outputs": [
    {
     "name": "stderr",
     "output_type": "stream",
     "text": [
      "WARNING: SliceWarning: The maxmimum and minimum spectral channel in the spectralslab are identical; this indicates that one or both are likely incorrect and/or out of range. [spectral_cube.spectral_cube]\n",
      "WARNING: SliceWarning: The maxmimum and minimum spectral channel in the spectralslab are identical; this indicates that one or both are likely incorrect and/or out of range. [spectral_cube.spectral_cube]\n",
      "WARNING: SliceWarning: The maxmimum and minimum spectral channel in the spectralslab are identical; this indicates that one or both are likely incorrect and/or out of range. [spectral_cube.spectral_cube]\n",
      "WARNING: SliceWarning: The maxmimum and minimum spectral channel in the spectralslab are identical; this indicates that one or both are likely incorrect and/or out of range. [spectral_cube.spectral_cube]\n",
      "WARNING: SliceWarning: The maxmimum and minimum spectral channel in the spectralslab are identical; this indicates that one or both are likely incorrect and/or out of range. [spectral_cube.spectral_cube]\n",
      "WARNING: SliceWarning: The maxmimum and minimum spectral channel in the spectralslab are identical; this indicates that one or both are likely incorrect and/or out of range. [spectral_cube.spectral_cube]\n",
      "WARNING: SliceWarning: The maxmimum and minimum spectral channel in the spectralslab are identical; this indicates that one or both are likely incorrect and/or out of range. [spectral_cube.spectral_cube]\n",
      "WARNING: SliceWarning: The maxmimum and minimum spectral channel in the spectralslab are identical; this indicates that one or both are likely incorrect and/or out of range. [spectral_cube.spectral_cube]\n",
      "WARNING: SliceWarning: The maxmimum and minimum spectral channel in the spectralslab are identical; this indicates that one or both are likely incorrect and/or out of range. [spectral_cube.spectral_cube]\n",
      "WARNING: SliceWarning: The maxmimum and minimum spectral channel in the spectralslab are identical; this indicates that one or both are likely incorrect and/or out of range. [spectral_cube.spectral_cube]\n",
      "WARNING: SliceWarning: The maxmimum and minimum spectral channel in the spectralslab are identical; this indicates that one or both are likely incorrect and/or out of range. [spectral_cube.spectral_cube]\n",
      "WARNING: SliceWarning: The maxmimum and minimum spectral channel in the spectralslab are identical; this indicates that one or both are likely incorrect and/or out of range. [spectral_cube.spectral_cube]\n"
     ]
    }
   ],
   "source": [
    "#log.setLevel('DEBUG')\n",
    "stack, cutouts = stack_cube(cubes,\n",
    "                   linelist=linelist,\n",
    "                   vmin=vcen-25*u.km/u.s,\n",
    "                   vmax=vcen+25*u.km/u.s,\n",
    "                   average=np.nanmean,\n",
    "                   convolve_beam=cb,\n",
    "                   return_cutouts=True)\n",
    "#log.setLevel('INFO')\n",
    "stack.write('NaCl_v_le_3_stackcube.fits', overwrite=True)"
   ]
  },
  {
   "cell_type": "code",
   "execution_count": 32,
   "id": "studied-hawaiian",
   "metadata": {},
   "outputs": [
    {
     "data": {
      "text/plain": [
       "SpectralCube with shape=(75, 159, 173) and unit=K:\n",
       " n_x:    173  type_x: RA---SIN  unit_x: deg    range:   274.800125 deg:  274.800636 deg\n",
       " n_y:    159  type_y: DEC--SIN  unit_y: deg    range:   -20.792144 deg:  -20.791706 deg\n",
       " n_s:     75  type_s: VRAD      unit_s: km / s  range:      -12.380 km / s:      37.317 km / s"
      ]
     },
     "execution_count": 32,
     "metadata": {},
     "output_type": "execute_result"
    }
   ],
   "source": [
    "stackc = SpectralCube.read('NaCl_v_le_3_stackcube.fits')\n",
    "stackc"
   ]
  },
  {
   "cell_type": "code",
   "execution_count": 33,
   "id": "cad0b204-9170-4d8c-897f-9e12a00be920",
   "metadata": {},
   "outputs": [
    {
     "name": "stderr",
     "output_type": "stream",
     "text": [
      "Clipping input data to the valid range for imshow with RGB data ([0..1] for floats or [0..255] for integers).\n"
     ]
    },
    {
     "data": {
      "text/plain": [
       "<matplotlib.image.AxesImage at 0x2ad0a958e370>"
      ]
     },
     "execution_count": 33,
     "metadata": {},
     "output_type": "execute_result"
    },
    {
     "data": {
      "image/png": "[encoded data removed]",
      "text/plain": [
       "<Figure size 432x288 with 1 Axes>"
      ]
     },
     "metadata": {},
     "output_type": "display_data"
    }
   ],
   "source": [
    "m0b = stackc.spectral_slab(vcen-15*u.km/u.s, vcen-5*u.km/u.s).moment0()\n",
    "m0g = stackc.spectral_slab(vcen-5*u.km/u.s, vcen+5*u.km/u.s).moment0()\n",
    "m0r = stackc.spectral_slab(vcen+5*u.km/u.s, vcen+15*u.km/u.s).moment0()\n",
    "ax = pl.subplot(projection=m0b.wcs.celestial)\n",
    "rgb = np.array([m0r.value, m0g.value, m0b.value]).swapaxes(0,2).swapaxes(0,1)\n",
    "rgb /= rgb.max()\n",
    "ax.imshow(rgb, origin='lower')"
   ]
  },
  {
   "cell_type": "code",
   "execution_count": 34,
   "id": "67f316bc-e4a0-480e-89c2-e89b4dbb0d3b",
   "metadata": {},
   "outputs": [
    {
     "name": "stdout",
     "output_type": "stream",
     "text": [
      "INFO: Auto-setting vmin to -2.411e+01 [aplpy.core]\n",
      "INFO: Auto-setting vmax to  2.803e+02 [aplpy.core]\n"
     ]
    },
    {
     "ename": "RuntimeError",
     "evalue": "No mappable was found to use for colorbar creation. First define a mappable such as an image (with imshow) or a contour set (with contourf).",
     "output_type": "error",
     "traceback": [
      "\u001b[0;31m---------------------------------------------------------------------------\u001b[0m",
      "\u001b[0;31mRuntimeError\u001b[0m                              Traceback (most recent call last)",
      "\u001b[0;32m/scratch/local/42000842/ipykernel_40228/4284661756.py\u001b[0m in \u001b[0;36m<module>\u001b[0;34m\u001b[0m\n\u001b[1;32m      1\u001b[0m \u001b[0mm0r\u001b[0m\u001b[0;34m.\u001b[0m\u001b[0mquicklook\u001b[0m\u001b[0;34m(\u001b[0m\u001b[0;34m)\u001b[0m\u001b[0;34m\u001b[0m\u001b[0;34m\u001b[0m\u001b[0m\n\u001b[0;32m----> 2\u001b[0;31m \u001b[0mpl\u001b[0m\u001b[0;34m.\u001b[0m\u001b[0mcolorbar\u001b[0m\u001b[0;34m(\u001b[0m\u001b[0;34m)\u001b[0m\u001b[0;34m\u001b[0m\u001b[0;34m\u001b[0m\u001b[0m\n\u001b[0m",
      "\u001b[0;32m/orange/adamginsburg/miniconda3/envs/python39/lib/python3.9/site-packages/matplotlib/pyplot.py\u001b[0m in \u001b[0;36mcolorbar\u001b[0;34m(mappable, cax, ax, **kw)\u001b[0m\n\u001b[1;32m   2103\u001b[0m         \u001b[0mmappable\u001b[0m \u001b[0;34m=\u001b[0m \u001b[0mgci\u001b[0m\u001b[0;34m(\u001b[0m\u001b[0;34m)\u001b[0m\u001b[0;34m\u001b[0m\u001b[0;34m\u001b[0m\u001b[0m\n\u001b[1;32m   2104\u001b[0m         \u001b[0;32mif\u001b[0m \u001b[0mmappable\u001b[0m \u001b[0;32mis\u001b[0m \u001b[0;32mNone\u001b[0m\u001b[0;34m:\u001b[0m\u001b[0;34m\u001b[0m\u001b[0;34m\u001b[0m\u001b[0m\n\u001b[0;32m-> 2105\u001b[0;31m             raise RuntimeError('No mappable was found to use for colorbar '\n\u001b[0m\u001b[1;32m   2106\u001b[0m                                \u001b[0;34m'creation. First define a mappable such as '\u001b[0m\u001b[0;34m\u001b[0m\u001b[0;34m\u001b[0m\u001b[0m\n\u001b[1;32m   2107\u001b[0m                                \u001b[0;34m'an image (with imshow) or a contour set ('\u001b[0m\u001b[0;34m\u001b[0m\u001b[0;34m\u001b[0m\u001b[0m\n",
      "\u001b[0;31mRuntimeError\u001b[0m: No mappable was found to use for colorbar creation. First define a mappable such as an image (with imshow) or a contour set (with contourf)."
     ]
    },
    {
     "data": {
      "image/png": "[encoded data removed]",
      "text/plain": [
       "<Figure size 720x648 with 2 Axes>"
      ]
     },
     "metadata": {},
     "output_type": "display_data"
    }
   ],
   "source": [
    "m0r.quicklook()\n",
    "pl.colorbar()"
   ]
  },
  {
   "cell_type": "code",
   "execution_count": null,
   "id": "e1705101-eec6-4967-86ef-c1c367a5564a",
   "metadata": {},
   "outputs": [],
   "source": [
    "cont = SpectralCube.read('IRAS_181622048.config8.cont_avg.selfcal_0.5_hogbom.image.fits').to(u.K)\n",
    "cont"
   ]
  },
  {
   "cell_type": "code",
   "execution_count": null,
   "id": "02cf292d-a115-4333-9fa2-27fd62364486",
   "metadata": {},
   "outputs": [],
   "source": [
    "yc,xc = np.unravel_index(np.nanargmax(cont[0]), cont[0].shape)"
   ]
  },
  {
   "cell_type": "code",
   "execution_count": null,
   "id": "b4748b77-92fb-4634-ade6-f19da6aaae1b",
   "metadata": {},
   "outputs": [],
   "source": [
    "fig = pl.figure()\n",
    "fig.add_subplot(projection=cont.wcs.celestial)\n",
    "ax = fig.gca()\n",
    "ax.imshow(cont[0].value, cmap='gray_r')\n",
    "#ax.axis((2460,2550,2530,2610))\n",
    "ax.axis((xc-50,xc+50,yc-50,yc+50))\n",
    "ax.contour(m0r, colors=['r']*5, levels=[100,200,300], linewidths=[0.75]*5, transform=ax.get_transform(m0r.wcs.celestial))\n",
    "ax.contour(m0b, colors=['b']*5, levels=[100,200,300], linewidths=[0.75]*5, transform=ax.get_transform(m0b.wcs.celestial))"
   ]
  },
  {
   "cell_type": "code",
   "execution_count": null,
   "id": "5e13a272-552b-41ee-a896-f2c897cb5bbb",
   "metadata": {
    "jp-MarkdownHeadingCollapsed": true,
    "tags": []
   },
   "outputs": [],
   "source": [
    "# try creating a vmap based on another line (water)\n",
    "restval = 232.6867*u.GHz # 'H2Ov2=1_5(5,0)-6(4,3)': \n",
    "cube = [c for c in cubes if (c.spectral_extrema[0] < restval) & (c.spectral_extrema[1] > restval)][0]\n",
    "print(cube)\n",
    "watercube = scube = (cube.subcube_from_regions(reg)\n",
    "         .with_spectral_unit(u.km/u.s,\n",
    "                                                          velocity_convention='radio',\n",
    "                                                          rest_value=restval)\n",
    "         .spectral_slab(-20*u.km/u.s+vcen, 20*u.km/u.s+vcen))\n",
    "print(scube)\n",
    "pl.figure(figsize=(14,5))\n",
    "pl.subplot(1,3,1)\n",
    "m0 = scube.moment0()\n",
    "m0.quicklook()\n",
    "pl.title(\"m0\")\n",
    "\n",
    "pl.subplot(1,3,2)\n",
    "mx = scube.max(axis=0)\n",
    "mx.quicklook()\n",
    "pl.title(\"mx\")\n",
    "pl.colorbar()\n",
    "pl.subplot(1,3,3)\n",
    "msk = mx > 0.04*jtok\n",
    "#msk = scipy.ndimage.binary_erosion(msk, iterations=1)\n",
    "msk = scipy.ndimage.binary_dilation(msk, iterations=14)\n",
    "pl.imshow(msk, interpolation='none', origin='lower')\n",
    "pl.title('mask')\n",
    "pl.tight_layout()\n",
    "pl.figure()\n",
    "\n",
    "\n",
    "m1 = scube.with_mask(msk).with_mask(scube > 20*u.K).moment1()\n",
    "pl.figure(figsize=(14,6))\n",
    "ax1 = pl.subplot(1,2,1)\n",
    "im = ax1.imshow(m1.value, vmin=vcen.value-5, vmax=vcen.value+5)\n",
    "pl.colorbar(mappable=im)\n",
    "mxv = scube.with_mask(msk).argmax_world(axis=0)\n",
    "pl.subplot(1,2,2)\n",
    "pl.imshow(mxv.value, vmin=vcen.value-5, vmax=vcen.value+5)\n",
    "pl.colorbar()\n",
    "\n",
    "\n",
    "#vmap = m1.hdu\n",
    "# the rest value selected above was just the line center; we need to assume it's really 32 km/s off\n",
    "#vmap.data = vmap.data"
   ]
  },
  {
   "cell_type": "code",
   "execution_count": null,
   "id": "5213ad6c-bd0d-406c-b48b-1ad5d99d972f",
   "metadata": {},
   "outputs": [],
   "source": [
    "import pvextractor\n",
    "center = coordinates.SkyCoord('18h19m12.0955s', '-20:47:30.948', unit=u.deg, frame='icrs')\n",
    "PA = 113*u.deg\n",
    "path = pvextractor.Path(coordinates.SkyCoord([center.directional_offset_by(PA, 1.5*u.arcsec), center.directional_offset_by(180*u.deg+PA, 1.5*u.arcsec)]))"
   ]
  },
  {
   "cell_type": "code",
   "execution_count": null,
   "id": "a5edb684-a6ae-482a-b2fc-a9a184e53186",
   "metadata": {},
   "outputs": [],
   "source": [
    "pvd_water = pvextractor.extract_pv_slice(watercube, path)"
   ]
  },
  {
   "cell_type": "code",
   "execution_count": null,
   "id": "4babb355-8fbe-4994-92f3-bde721627fa3",
   "metadata": {},
   "outputs": [],
   "source": [
    "fig,ax,cb,con = show_pv(pvd_water.data, wcs.WCS(pvd_water.header), origin=1.5*u.arcsec, #coordinates.SkyCoord('18:22:26.3857', '-13:30:11.979', unit=(u.hour, u.deg), frame='icrs'),\n",
    "                vrange=np.array([vcen.value-20, vcen.value+20]), vcen=vcen,\n",
    "                        imvmin=np.nanpercentile(pvd_water.data, 3), imvmax=np.nanmax(pvd_water.data),\n",
    "                        distance=1.4*u.kpc,\n",
    "                        xoffset_label=1.705*u.arcsec\n",
    "                    )\n",
    "cb.set_label(\"K\")\n",
    "kc = show_keplercurves(ax, 1.5*u.arcsec, 1500*u.au, \n",
    "                       vcen=vcen,\n",
    "                               masses=[10,20,30,],\n",
    "                               linestyles=['-']*4,\n",
    "                               colors=['r','g','b','c'],\n",
    "                       radii={},\n",
    "                       distance=1.4*u.kpc,\n",
    "                              )\n",
    "pl.legend(loc='upper left')\n",
    "\n",
    "pl.title(\"I18192 / GGD27\")\n",
    "pl.savefig(\"I18192_Sanhueza_Water_PV_withcolorcurves.png\")\n",
    "#pl.legend(loc='best')"
   ]
  },
  {
   "cell_type": "code",
   "execution_count": null,
   "id": "59d9704a-6783-43b5-840d-9e31162445ce",
   "metadata": {
    "jp-MarkdownHeadingCollapsed": true,
    "tags": []
   },
   "outputs": [],
   "source": [
    "# try creating a vmap based on another line (SO 65-54)\n",
    "restval = 219.94944000*u.GHz # '': \n",
    "cube = [c for c in cubes if (c.spectral_extrema[0] < restval) & (c.spectral_extrema[1] > restval)][0]\n",
    "print(cube)\n",
    "socube = scube = (cube.subcube_from_regions(reg)\n",
    "         .with_spectral_unit(u.km/u.s,\n",
    "                             velocity_convention='radio',\n",
    "                             rest_value=restval)\n",
    "         .spectral_slab(-20*u.km/u.s+vcen, 20*u.km/u.s+vcen))\n",
    "print(scube)\n",
    "pl.figure(figsize=(14,5))\n",
    "pl.subplot(1,3,1)\n",
    "m0 = scube.moment0()\n",
    "m0.quicklook()\n",
    "pl.title(\"m0\")\n",
    "\n",
    "pl.subplot(1,3,2)\n",
    "mx = scube.max(axis=0)\n",
    "mx.quicklook()\n",
    "pl.title(\"mx\")\n",
    "pl.colorbar()\n",
    "pl.subplot(1,3,3)\n",
    "msk = mx > 130*u.K\n",
    "#msk = scipy.ndimage.binary_erosion(msk, iterations=1)\n",
    "msk = scipy.ndimage.binary_dilation(msk, iterations=14)\n",
    "pl.imshow(msk, interpolation='none', origin='lower')\n",
    "pl.title('mask')\n",
    "pl.tight_layout()\n",
    "pl.figure()\n",
    "\n",
    "\n",
    "m1 = scube.with_mask(msk).with_mask(scube > 0.0001*jtok).moment1()\n",
    "pl.figure(figsize=(14,6))\n",
    "ax1 = pl.subplot(1,2,1, projection=scube.wcs.celestial)\n",
    "im = ax1.imshow(m1.value, vmin=vcen.value-5, vmax=vcen.value+5)\n",
    "pl.colorbar(mappable=im)\n",
    "mxv = scube.with_mask(msk).argmax_world(axis=0)\n",
    "ax2 = pl.subplot(1,2,2, projection=scube.wcs.celestial)\n",
    "pl.imshow(mxv.value, vmin=vcen.value-5, vmax=vcen.value+5)\n",
    "pl.colorbar()\n",
    "path.show_on_axis(ax1, spacing=1, color='w')\n",
    "path.show_on_axis(ax2, spacing=1, color='w')\n",
    "\n",
    "\n",
    "vmap = m1.hdu"
   ]
  },
  {
   "cell_type": "code",
   "execution_count": null,
   "id": "3351aa58-72ff-449e-ade8-1ed66eab62ac",
   "metadata": {},
   "outputs": [],
   "source": [
    "pvd_SO = pvextractor.extract_pv_slice(socube, path)"
   ]
  },
  {
   "cell_type": "code",
   "execution_count": null,
   "id": "00b12a06-edb4-45e9-b4c6-a2a0dc6c94a9",
   "metadata": {},
   "outputs": [],
   "source": [
    "fig,ax,cb,con = show_pv(pvd_SO.data, wcs.WCS(pvd_SO.header), origin=1.5*u.arcsec, #coordinates.SkyCoord('18:22:26.3857', '-13:30:11.979', unit=(u.hour, u.deg), frame='icrs'),\n",
    "                vrange=np.array([vcen.value-20, vcen.value+20]), vcen=vcen, imvmin=np.nanpercentile(pvd_SO.data, 3), imvmax=np.nanmax(pvd_SO.data),\n",
    "                        distance=1.4*u.kpc,\n",
    "                        xoffset_label=1.705*u.arcsec\n",
    "                    )\n",
    "cb.set_label(\"K\")\n",
    "kc = show_keplercurves(ax, 1.5*u.arcsec, 1500*u.au, \n",
    "                       vcen=vcen,\n",
    "                               masses=[10,20,30,],\n",
    "                               linestyles=['-']*4,\n",
    "                               colors=['r','g','b','c'],\n",
    "                       radii={},\n",
    "                       distance=1.4*u.kpc,\n",
    "                              )\n",
    "pl.legend(loc='upper left')\n",
    "\n",
    "pl.title(\"I18192 / GGD27\")\n",
    "pl.savefig(\"I18192_Sanhueza_SO_PV_withcolorcurves.png\")\n",
    "#pl.legend(loc='best')"
   ]
  },
  {
   "cell_type": "code",
   "execution_count": null,
   "id": "primary-profit",
   "metadata": {},
   "outputs": [],
   "source": [
    "stackc = stackc.subcube_from_regions(reg)\n",
    "pl.figure(figsize=(14,5))\n",
    "pl.subplot(1,3,1)\n",
    "m0 = stackc.moment0()\n",
    "m0.quicklook()\n",
    "pl.title(\"m0\")\n",
    "\n",
    "pl.subplot(1,3,2)\n",
    "mx = stackc.max(axis=0)\n",
    "mx.quicklook()\n",
    "pl.title(\"mx\")\n",
    "pl.colorbar()\n",
    "pl.subplot(1,3,3)\n",
    "msk = mx > 25*u.K\n",
    "msk = scipy.ndimage.binary_erosion(msk, iterations=1)\n",
    "msk = scipy.ndimage.binary_dilation(msk, iterations=15)\n",
    "pl.imshow(msk, interpolation='none', origin='lower')\n",
    "pl.title('mask')\n",
    "pl.tight_layout()\n",
    "pl.figure()\n",
    "\n",
    "\n",
    "m1 = stackc.with_mask(msk).with_mask(stackc > 0.0001*stackc.unit).moment1()\n",
    "pl.figure(figsize=(14,6))\n",
    "ax1 = pl.subplot(1,2,1)\n",
    "im = ax1.imshow(m1.value, vmin=vcen.value-5, vmax=vcen.value+5)\n",
    "pl.colorbar(mappable=im)\n",
    "mxv = stackc.with_mask(msk).argmax_world(axis=0)\n",
    "pl.subplot(1,2,2)\n",
    "pl.imshow(mxv.value, vmin=vcen.value-5, vmax=vcen.value+5)\n",
    "pl.colorbar()\n",
    "\n",
    "\n",
    "#vmap = m1.hdu"
   ]
  },
  {
   "cell_type": "code",
   "execution_count": null,
   "id": "6860a085-33ff-4fee-94e5-d5030af574b3",
   "metadata": {},
   "outputs": [],
   "source": [
    "pvd_nacl = pvextractor.extract_pv_slice(stackc, path)\n",
    "\n",
    "fig,ax,cb,con = show_pv(pvd_nacl.data, wcs.WCS(pvd_nacl.header), origin=1.5*u.arcsec, #coordinates.SkyCoord('18:22:26.3857', '-13:30:11.979', unit=(u.hour, u.deg), frame='icrs'),\n",
    "                vrange=np.array([vcen.value-20, vcen.value+20]), vcen=vcen, imvmin=np.nanpercentile(pvd_nacl.data, 3), imvmax=np.nanmax(pvd_nacl.data),\n",
    "                        distance=1.4*u.kpc,\n",
    "                        xoffset_label=1.705*u.arcsec\n",
    "                    )\n",
    "cb.set_label(\"K\")\n",
    "kc = show_keplercurves(ax, 1.5*u.arcsec, 1500*u.au, \n",
    "                       vcen=vcen,\n",
    "                               masses=[10,20,30,],\n",
    "                               linestyles=['-']*4,\n",
    "                               colors=['r','g','b','c'],\n",
    "                       radii={},\n",
    "                       distance=1.4*u.kpc,\n",
    "                              )\n",
    "pl.legend(loc='upper left')\n",
    "\n",
    "pl.title(\"I18192 / GGD27\")\n",
    "pl.savefig(\"I18192_Sanhueza_NaCl_PV_withcolorcurves.png\")\n",
    "#pl.legend(loc='best')"
   ]
  },
  {
   "cell_type": "code",
   "execution_count": null,
   "id": "hindu-hepatitis",
   "metadata": {},
   "outputs": [],
   "source": [
    "import sys\n",
    "sys.path.append('/orange/adamginsburg/salt/code/')\n",
    "from overplot_saltlines import overplot_saltlines, all_lines\n",
    "'SO65-54' in all_lines"
   ]
  },
  {
   "cell_type": "code",
   "execution_count": null,
   "id": "baking-nature",
   "metadata": {},
   "outputs": [],
   "source": [
    "spectra = []\n",
    "for ii,cube in enumerate(cubes):\n",
    "    cube.allow_huge_operations=True\n",
    "    sp = cube.subcube_from_regions(reg).mean(axis=(1,2))\n",
    "    pysp = pyspeckit.Spectrum(data=sp, xarr=sp.spectral_axis, header=sp.header)\n",
    "    spectra.append(pysp)\n",
    "    pysp.specname = f'GGD27 spw{ii} average'"
   ]
  },
  {
   "cell_type": "code",
   "execution_count": null,
   "id": "judicial-meter",
   "metadata": {},
   "outputs": [],
   "source": [
    "mkdir -p spectra/figures"
   ]
  },
  {
   "cell_type": "code",
   "execution_count": null,
   "id": "11b3749b-2cdd-4fc5-b592-7a5cd76a6eaf",
   "metadata": {},
   "outputs": [],
   "source": [
    "vcen"
   ]
  },
  {
   "cell_type": "code",
   "execution_count": null,
   "id": "physical-sister",
   "metadata": {},
   "outputs": [],
   "source": [
    "overplot_saltlines(spectra, vcen=vcen, savepath='spectra/figures', ymin=0, ymax=75, yfrac=0.55)"
   ]
  },
  {
   "cell_type": "code",
   "execution_count": null,
   "id": "alleged-service",
   "metadata": {},
   "outputs": [],
   "source": [
    "ls -lhrt spectra/figures"
   ]
  },
  {
   "cell_type": "code",
   "execution_count": null,
   "id": "palestinian-shame",
   "metadata": {},
   "outputs": [],
   "source": [
    "from IPython.display import Image,display"
   ]
  },
  {
   "cell_type": "code",
   "execution_count": null,
   "id": "graphic-actress",
   "metadata": {},
   "outputs": [],
   "source": [
    "for fn in glob.glob('spectra/figures/color*spw[01234].png'):\n",
    "    display(Image(fn))"
   ]
  },
  {
   "cell_type": "markdown",
   "id": "4bc36ea3-dafe-48db-a148-a2c53419ee6c",
   "metadata": {},
   "source": [
    "# Attempt to ID lines"
   ]
  },
  {
   "cell_type": "code",
   "execution_count": null,
   "id": "a9657ef5-a66e-42d9-8222-e9009f7b2d2a",
   "metadata": {},
   "outputs": [],
   "source": [
    "# verify velo w/SO\n",
    "sp = spectra[3]\n",
    "lx,ux = 219.93, 219.95\n",
    "sp.plotter(xmin=lx, xmax=ux)\n",
    "sp.baseline()\n",
    "sp.plotter(xmin=lx, xmax=ux)\n",
    "sp.specfit() #guesses=[5,216.935,0.01], limited=[(True,True),(True,True),(True,True)], limits=[(0,20),(216.93,216.94),(0.0001,0.05)])\n",
    "sp.baseline(excludefit=True)\n",
    "sp.plotter(xmin=lx, xmax=ux, ymax=25, ymin=-2)\n",
    "sp.specfit()\n",
    "cen = sp.specfit.parinfo['SHIFT0']*sp.xarr.unit\n",
    "((cen - 219.94944000*u.GHz) / (219.94944000*u.GHz) * constants.c).to(u.km/u.s)\n",
    "#dx = (10*u.km/u.s / constants.c)*cen\n",
    "#Splatalogue.query_lines(cen-dx, cen+dx, line_lists=['CDMS'], energy_max=1000, energy_type='eu_k')"
   ]
  },
  {
   "cell_type": "code",
   "execution_count": null,
   "id": "d28558a1-9d08-4e8f-9da8-3c57be66c258",
   "metadata": {},
   "outputs": [],
   "source": [
    "sp = spectra[0]\n",
    "sp.plotter(xmax=216.95, xmin=216.92)\n",
    "sp.baseline()\n",
    "sp.plotter(xmax=216.95, xmin=216.92, ymin=-1, ymax=10)\n",
    "sp.specfit(guesses=[5,216.935,0.01], limited=[(True,True),(True,True),(True,True)], limits=[(0,20),(216.93,216.94),(0.0001,0.05)])\n",
    "sp.baseline(excludefit=True)\n",
    "sp.specfit(guesses=[5,216.935,0.01], limited=[(True,True),(True,True),(True,True)], limits=[(0,20),(216.93,216.94),(0.0001,0.05)])\n",
    "# CH3OHvt=0-2\tMethanol\t216.945521"
   ]
  },
  {
   "cell_type": "code",
   "execution_count": null,
   "id": "c63a4eee-15a6-4f77-a6e0-7bcdb8671289",
   "metadata": {},
   "outputs": [],
   "source": [
    "from astroquery.splatalogue import Splatalogue"
   ]
  },
  {
   "cell_type": "code",
   "execution_count": null,
   "id": "4763bda9-6d31-439d-ac6a-9a740c85a671",
   "metadata": {
    "tags": []
   },
   "outputs": [],
   "source": [
    "cen = sp.specfit.parinfo['SHIFT0']*sp.xarr.unit * (1 + vcen/constants.c)\n",
    "dx = (5*u.km/u.s / constants.c)*cen\n",
    "Splatalogue.query_lines(cen-dx, cen+dx, line_lists=['CDMS'], energy_max=1000, energy_type='eu_k')"
   ]
  },
  {
   "cell_type": "code",
   "execution_count": null,
   "id": "eb06c39c-a1f0-46d5-a9f3-11fcfe89045e",
   "metadata": {},
   "outputs": [],
   "source": [
    "sp = spectra[0]\n",
    "lx,ux = 217.2, 217.25\n",
    "sp.plotter(xmin=lx, xmax=ux)\n",
    "sp.baseline()\n",
    "sp.plotter(xmin=lx, xmax=ux)\n",
    "sp.specfit() #guesses=[5,216.935,0.01], limited=[(True,True),(True,True),(True,True)], limits=[(0,20),(216.93,216.94),(0.0001,0.05)])\n",
    "sp.baseline(excludefit=True)\n",
    "sp.plotter(xmin=lx, xmax=ux)\n",
    "sp.specfit()\n",
    "cen = sp.specfit.parinfo['SHIFT0']*sp.xarr.unit * (1 + vcen/constants.c)\n",
    "dx = (5*u.km/u.s / constants.c)*cen\n",
    "Splatalogue.query_lines(cen-dx, cen+dx, line_lists=['CDMS'], energy_max=1000, energy_type='eu_k', chemical_name='DCN')\n",
    "# DCN 217.238555"
   ]
  },
  {
   "cell_type": "code",
   "execution_count": null,
   "id": "84e7e1c2-f0fa-44c1-9af4-90c2bc326397",
   "metadata": {},
   "outputs": [],
   "source": [
    "sp = spectra[0]\n",
    "lx,ux = 217.25, 217.4\n",
    "sp.plotter(xmin=lx, xmax=ux)\n",
    "sp.baseline()\n",
    "sp.plotter(xmin=lx, xmax=ux)\n",
    "sp.specfit() #guesses=[5,216.935,0.01], limited=[(True,True),(True,True),(True,True)], limits=[(0,20),(216.93,216.94),(0.0001,0.05)])\n",
    "sp.baseline(excludefit=True)\n",
    "sp.plotter(xmin=lx, xmax=ux)\n",
    "sp.specfit()\n",
    "cen = sp.specfit.parinfo['SHIFT0']*sp.xarr.unit * (1 + vcen/constants.c)\n",
    "dx = (5*u.km/u.s / constants.c)*cen\n",
    "Splatalogue.query_lines(cen-dx, cen+dx, line_lists=['CDMS'], energy_max=1000, energy_type='eu_k',)\n"
   ]
  },
  {
   "cell_type": "code",
   "execution_count": null,
   "id": "cdb43504-3788-4509-a369-760a1aec5867",
   "metadata": {},
   "outputs": [],
   "source": []
  },
  {
   "cell_type": "code",
   "execution_count": null,
   "id": "c8d9d7fd-65cd-44fe-b514-d3439d8f4ca0",
   "metadata": {},
   "outputs": [],
   "source": []
  },
  {
   "cell_type": "code",
   "execution_count": null,
   "id": "latter-cattle",
   "metadata": {
    "tags": []
   },
   "outputs": [],
   "source": [
    "import glob\n",
    "import spectral_cube.analysis_utilities\n",
    "import reproject\n",
    "from tqdm.notebook import tqdm\n",
    "from astropy import stats\n",
    "from astropy.io import fits\n",
    "\n",
    "cbflist = (glob.glob(f'{targetname}.config8.spw[0-3].robust0.5.image_co1_smaller.fits'))\n",
    "for fn in cbflist:\n",
    "    basename = os.path.split(fn)[-1].split(\".fits\")[0]\n",
    "    print(basename)\n",
    "    try:\n",
    "        cube = SpectralCube.read(fn, use_dask=True)\n",
    "    except Exception as ex:\n",
    "        print(ex)\n",
    "        continue\n",
    "    print(cube)\n",
    "    scube = cube.subcube_from_regions(reg)\n",
    "    scube.allow_huge_operations=True\n",
    "    # continuum subtract before stacking\n",
    "    scube = scube - scube.percentile(25, axis=0)\n",
    "    #mx = scube.max(axis=0)\n",
    "    #msk = mx > 0.003*mx.unit\n",
    "    print(\"Mean spectrum\")\n",
    "    sp = scube.mean(axis=(1,2))\n",
    "    rms = stats.mad_std(sp)\n",
    "    print(f\"rms={rms}\")\n",
    "    \n",
    "    sp.write(f'spectra/{fn.split(\"/\")[-1].replace(\".fits\",\"_meanspec.fits\")}', overwrite=True)\n",
    "\n",
    "\n",
    "    # reproject the velocity map into the cube's coordinate system\n",
    "    vmap_proj,_ = reproject.reproject_interp(vmap,\n",
    "                                             scube.wcs.celestial,\n",
    "                                             shape_out=scube.shape[1:])\n",
    "    fits.PrimaryHDU(data=vmap_proj, header=scube.wcs.celestial.to_header()).writeto('vmap_GGD27.fits', overwrite=True)\n",
    "    \n",
    "    vmap_proj = u.Quantity(vmap_proj, u.km/u.s)\n",
    "    # convert to km/s with arbitrary rest value so 0 km/s can be interpreted\n",
    "    if scube.spectral_axis.unit.is_equivalent(u.Hz):\n",
    "        scube = scube.with_spectral_unit(u.km/u.s, velocity_convention='radio', rest_value=scube.spectral_axis.mean())\n",
    "\n",
    "    print(\"Stacking\")\n",
    "    # perform the stacking!\n",
    "    stack = spectral_cube.analysis_utilities.stack_spectra(scube, vmap_proj,\n",
    "                                                           v0=0.0*u.km/u.s,\n",
    "                                                           #progressbar=tqdm,\n",
    "                                                           #num_cores=8\n",
    "                                                          )\n",
    "    fstack = stack.with_spectral_unit(u.GHz)\n",
    "\n",
    "    pl.suptitle(f\"{fn}\")\n",
    "    fstack.write(f'spectra/{basename}_stack.fits', overwrite=True)\n",
    "\n",
    "    pl.clf()\n",
    "    fstack.quicklook(filename=f'spectra/figures/{basename}_stack.pdf')\n",
    "    fstack.quicklook(filename=f'spectra/figures/{basename}_stack.png')\n",
    "    \n",
    "    \n",
    "    fig = pl.figure()\n",
    "    mappable = pl.subplot(1,2,1).imshow(mx.value, origin='lower', interpolation='none')\n",
    "    pl.colorbar(mappable)\n",
    "    pl.subplot(1,2,2)\n",
    "    pl.suptitle(fn)\n",
    "    sp.quicklook()"
   ]
  },
  {
   "cell_type": "code",
   "execution_count": null,
   "id": "naval-terror",
   "metadata": {},
   "outputs": [],
   "source": [
    "ls spectra"
   ]
  },
  {
   "cell_type": "code",
   "execution_count": null,
   "id": "070a08af-97f0-4e0b-b832-f69eb448442f",
   "metadata": {},
   "outputs": [],
   "source": [
    "from astropy.stats import mad_std"
   ]
  },
  {
   "cell_type": "code",
   "execution_count": null,
   "id": "technological-fishing",
   "metadata": {},
   "outputs": [],
   "source": [
    "stackspectra = []\n",
    "for ii,fn in enumerate(glob.glob('spectra/*_stack.fits')):\n",
    "    pysp = pyspeckit.Spectrum(fn)\n",
    "    basename = os.path.basename(fn)\n",
    "    spl = basename.split(\".\")\n",
    "    pysp.specname = f'GGD27 {spl[2]} stack'\n",
    "    stackspectra.append(pysp)\n",
    "    print(pysp.specname, mad_std(pysp.data))"
   ]
  },
  {
   "cell_type": "code",
   "execution_count": null,
   "id": "certain-paintball",
   "metadata": {},
   "outputs": [],
   "source": [
    "overplot_saltlines(stackspectra, vcen=vcen, savepath='spectra/figures', ymin=0, ymax=45, yfrac=0.55)"
   ]
  },
  {
   "cell_type": "code",
   "execution_count": null,
   "id": "4ff945e7-71f5-477f-9ef9-f6f3e1f90379",
   "metadata": {},
   "outputs": [],
   "source": [
    "pwd"
   ]
  },
  {
   "cell_type": "code",
   "execution_count": null,
   "id": "decent-function",
   "metadata": {},
   "outputs": [],
   "source": [
    "ls spectra/figures/"
   ]
  },
  {
   "cell_type": "code",
   "execution_count": null,
   "id": "aware-pastor",
   "metadata": {},
   "outputs": [],
   "source": [
    "for fn in glob.glob('spectra/figures/color*GGD*stack.png'):\n",
    "    display(Image(fn))"
   ]
  },
  {
   "cell_type": "code",
   "execution_count": null,
   "id": "pacific-baltimore",
   "metadata": {},
   "outputs": [],
   "source": []
  },
  {
   "cell_type": "code",
   "execution_count": null,
   "id": "automated-nitrogen",
   "metadata": {},
   "outputs": [],
   "source": []
  },
  {
   "cell_type": "code",
   "execution_count": null,
   "id": "d7cc98e2-d3b3-4afb-b54d-508f426eefa3",
   "metadata": {},
   "outputs": [],
   "source": [
    "stackspectra"
   ]
  },
  {
   "cell_type": "markdown",
   "id": "ead359f7-75d7-4055-adb1-e2319bfaf2ea",
   "metadata": {},
   "source": [
    "# Attempt to ID lines from stacked spectra"
   ]
  },
  {
   "cell_type": "code",
   "execution_count": null,
   "id": "20d28c83-09e0-4406-808c-446897f26456",
   "metadata": {},
   "outputs": [],
   "source": [
    "# verify velo w/SO\n",
    "sp = stackspectra[1]\n",
    "lx,ux = 219.935, 219.96\n",
    "sp.plotter()#xmin=lx, xmax=ux)\n",
    "sp.baseline()\n",
    "sp.plotter(xmin=lx, xmax=ux)\n",
    "sp.specfit() #guesses=[5,216.935,0.01], limited=[(True,True),(True,True),(True,True)], limits=[(0,20),(216.93,216.94),(0.0001,0.05)])\n",
    "sp.plotter(xmin=lx, xmax=ux)\n",
    "sp.baseline(excludefit=True)\n",
    "sp.plotter(xmin=lx, xmax=ux, ymax=75, ymin=-2)\n",
    "sp.specfit()\n",
    "cen = sp.specfit.parinfo['SHIFT0']*sp.xarr.unit\n",
    "((cen - 219.94944000*u.GHz) / (219.94944000*u.GHz) * constants.c).to(u.km/u.s)\n",
    "#dx = (10*u.km/u.s / constants.c)*cen\n",
    "#Splatalogue.query_lines(cen-dx, cen+dx, line_lists=['CDMS'], energy_max=1000, energy_type='eu_k')"
   ]
  },
  {
   "cell_type": "code",
   "execution_count": null,
   "id": "7f762114-84f8-4996-85f2-6284d5473075",
   "metadata": {},
   "outputs": [],
   "source": [
    "sp = stackspectra[2]\n",
    "sp.plotter(xmax=216.97, xmin=216.92)\n",
    "sp.baseline()\n",
    "sp.plotter(xmax=216.97, xmin=216.92, ymin=-1, ymax=15)\n",
    "sp.specfit()#guesses=[5,216.935,0.01], limited=[(True,True),(True,True),(True,True)], limits=[(0,20),(216.93,216.94),(0.0001,0.05)])\n",
    "sp.plotter(xmax=216.97, xmin=216.92, ymin=-1, ymax=15)\n",
    "sp.baseline(excludefit=True)\n",
    "sp.plotter(xmax=216.97, xmin=216.92, ymin=-1, ymax=15)\n",
    "sp.specfit()#guesses=[5,216.935,0.01], limited=[(True,True),(True,True),(True,True)], limits=[(0,20),(216.93,216.94),(0.0001,0.05)])\n",
    "# CH3OHvt=0-2\tMethanol\t216.945521\n",
    "cen = sp.specfit.parinfo['SHIFT0']*sp.xarr.unit# * (1 + vcen/constants.c)\n",
    "dx = (5*u.km/u.s / constants.c)*cen\n",
    "Splatalogue.query_lines(cen-dx, cen+dx, line_lists=['CDMS'], energy_max=1000, energy_type='eu_k', chemical_name='Methanol')\n"
   ]
  },
  {
   "cell_type": "code",
   "execution_count": null,
   "id": "9b812092-670e-4f90-8c7f-c4afd0481fec",
   "metadata": {},
   "outputs": [],
   "source": [
    "sp = stackspectra[2]\n",
    "lx,ux = 217.2, 217.27\n",
    "sp.plotter(xmin=lx, xmax=ux)\n",
    "sp.baseline()\n",
    "sp.plotter(xmin=lx, xmax=ux)\n",
    "sp.specfit() #guesses=[5,216.935,0.01], limited=[(True,True),(True,True),(True,True)], limits=[(0,20),(216.93,216.94),(0.0001,0.05)])\n",
    "sp.baseline(excludefit=True)\n",
    "sp.plotter(xmin=lx, xmax=ux)\n",
    "sp.specfit()\n",
    "cen = sp.specfit.parinfo['SHIFT0']*sp.xarr.unit# * (1 + vcen/constants.c)\n",
    "dx = (5*u.km/u.s / constants.c)*cen\n",
    "Splatalogue.query_lines(cen-dx, cen+dx, line_lists=['CDMS'], energy_max=1000, energy_type='eu_k', chemical_name='DCN')\n",
    "# DCN 217.238555"
   ]
  },
  {
   "cell_type": "code",
   "execution_count": null,
   "id": "c82ff055-2174-4dab-899d-27f6dcbe8d8d",
   "metadata": {},
   "outputs": [],
   "source": [
    "sp = stackspectra[2]\n",
    "lx,ux = 217.27, 217.32\n",
    "sp.plotter(xmin=lx, xmax=ux)\n",
    "sp.baseline()\n",
    "sp.plotter(xmin=lx, xmax=ux)\n",
    "sp.specfit() #guesses=[5,216.935,0.01], limited=[(True,True),(True,True),(True,True)], limits=[(0,20),(216.93,216.94),(0.0001,0.05)])\n",
    "sp.baseline(excludefit=True)\n",
    "sp.plotter(xmin=lx, xmax=ux)\n",
    "sp.specfit()\n",
    "cen = sp.specfit.parinfo['SHIFT0']*sp.xarr.unit# * (1 + vcen/constants.c)\n",
    "dx = (5*u.km/u.s / constants.c)*cen\n",
    "Splatalogue.query_lines(cen-dx, cen+dx, line_lists=['CDMS'], energy_max=2000, energy_type='eu_k')\n",
    "# 13CN or CaCl?"
   ]
  },
  {
   "cell_type": "code",
   "execution_count": null,
   "id": "6ff1ce33-0043-4ef0-abc5-9eeba01c1e18",
   "metadata": {},
   "outputs": [],
   "source": [
    "sp = stackspectra[2]\n",
    "lx,ux = 217.8, 217.85\n",
    "sp.plotter(xmin=lx, xmax=ux)\n",
    "sp.baseline()\n",
    "sp.plotter(xmin=lx, xmax=ux)\n",
    "sp.specfit() #guesses=[5,216.935,0.01], limited=[(True,True),(True,True),(True,True)], limits=[(0,20),(216.93,216.94),(0.0001,0.05)])\n",
    "sp.baseline(excludefit=True)\n",
    "sp.plotter(xmin=lx, xmax=ux)\n",
    "sp.specfit()\n",
    "cen = sp.specfit.parinfo['SHIFT0']*sp.xarr.unit# * (1 + vcen/constants.c)\n",
    "dx = (5*u.km/u.s / constants.c)*cen\n",
    "Splatalogue.query_lines(cen-dx, cen+dx, line_lists=['CDMS'], energy_max=1000, energy_type='eu_k', chemical_name='Sulfur')\n",
    "# 33SO 65-54"
   ]
  },
  {
   "cell_type": "code",
   "execution_count": null,
   "id": "4a0cb5f3-ed82-4ddb-9a0f-f6c9067d58d6",
   "metadata": {},
   "outputs": [],
   "source": [
    "sp = stackspectra[2]\n",
    "lx,ux = 217.85, 217.92\n",
    "sp.plotter(xmin=lx, xmax=ux)\n",
    "sp.baseline()\n",
    "sp.plotter(xmin=lx, xmax=ux)\n",
    "sp.specfit() #guesses=[5,216.935,0.01], limited=[(True,True),(True,True),(True,True)], limits=[(0,20),(216.93,216.94),(0.0001,0.05)])\n",
    "sp.baseline(excludefit=True)\n",
    "sp.plotter(xmin=lx, xmax=ux)\n",
    "sp.specfit()\n",
    "cen = sp.specfit.parinfo['SHIFT0']*sp.xarr.unit# * (1 + vcen/constants.c)\n",
    "dx = (5*u.km/u.s / constants.c)*cen\n",
    "Splatalogue.query_lines(cen-dx, cen+dx, line_lists=['CDMS'], energy_max=1000, energy_type='eu_k', chemical_name='Methanol')\n",
    "# CH3OHvt=0-2\tMethanol\t217.886504\t2.2e-05\t--\t--\t20(-1,19)-20(-0,20)E,vt=0 ?"
   ]
  },
  {
   "cell_type": "code",
   "execution_count": null,
   "id": "3baded7b-eb69-4744-a028-abc292fa566d",
   "metadata": {},
   "outputs": [],
   "source": [
    "sp = stackspectra[2]\n",
    "lx,ux = 218.2, 218.25\n",
    "sp.plotter(xmin=lx, xmax=ux)\n",
    "sp.baseline()\n",
    "sp.plotter(xmin=lx, xmax=ux)\n",
    "sp.specfit() #guesses=[5,216.935,0.01], limited=[(True,True),(True,True),(True,True)], limits=[(0,20),(216.93,216.94),(0.0001,0.05)])\n",
    "sp.baseline(excludefit=True)\n",
    "sp.plotter(xmin=lx, xmax=ux, ymax=50)\n",
    "sp.specfit()\n",
    "cen = sp.specfit.parinfo['SHIFT0']*sp.xarr.unit# * (1 + vcen/constants.c)\n",
    "dx = (5*u.km/u.s / constants.c)*cen\n",
    "Splatalogue.query_lines(cen-dx, cen+dx, line_lists=['CDMS'], energy_max=1000, energy_type='eu_k', chemical_name='Formaldehyde')\n",
    "# H2CO"
   ]
  },
  {
   "cell_type": "code",
   "execution_count": null,
   "id": "c5c8f36d-1f5b-4a3b-b2ab-a06e1f5208ab",
   "metadata": {},
   "outputs": [],
   "source": [
    "sp = stackspectra[2]\n",
    "lx,ux = 218.3, 218.35\n",
    "sp.plotter(xmin=lx, xmax=ux)\n",
    "sp.baseline()\n",
    "sp.plotter(xmin=lx, xmax=ux)\n",
    "sp.specfit() #guesses=[5,216.935,0.01], limited=[(True,True),(True,True),(True,True)], limits=[(0,20),(216.93,216.94),(0.0001,0.05)])\n",
    "sp.baseline(excludefit=True)\n",
    "sp.plotter(xmin=lx, xmax=ux, ymax=10)\n",
    "sp.specfit()\n",
    "cen = sp.specfit.parinfo['SHIFT0']*sp.xarr.unit# * (1 + vcen/constants.c)\n",
    "dx = (5*u.km/u.s / constants.c)*cen\n",
    "Splatalogue.query_lines(cen-dx, cen+dx, line_lists=['CDMS'], energy_max=1000, energy_type='eu_k', chemical_name='HC3N')\n",
    "# HC3Nv=0\tCyanoacetylene\t--\t--\t218.324723\t1e-05\tJ=24-23\t"
   ]
  },
  {
   "cell_type": "code",
   "execution_count": null,
   "id": "0b6bc8cd-8b5a-4668-9be9-f259b8d44fcd",
   "metadata": {},
   "outputs": [],
   "source": [
    "sp = stackspectra[2]\n",
    "lx,ux = 218.42, 218.46\n",
    "sp.plotter(xmin=lx, xmax=ux)\n",
    "sp.baseline()\n",
    "sp.plotter(xmin=lx, xmax=ux)\n",
    "sp.specfit() #guesses=[5,216.935,0.01], limited=[(True,True),(True,True),(True,True)], limits=[(0,20),(216.93,216.94),(0.0001,0.05)])\n",
    "sp.baseline(excludefit=True)\n",
    "sp.plotter(xmin=lx, xmax=ux, ymax=50)\n",
    "sp.specfit()\n",
    "cen = sp.specfit.parinfo['SHIFT0']*sp.xarr.unit# * (1 + vcen/constants.c)\n",
    "dx = (5*u.km/u.s / constants.c)*cen\n",
    "Splatalogue.query_lines(cen-dx, cen+dx, line_lists=['CDMS'], energy_max=1000, energy_type='eu_k', chemical_name='Methanol')\n",
    "# CH3OHvt=0-2\tMethanol\t218.440063\t1.3e-05\t--\t--\t4(-2,3)-3(-1,2)E,vt=0\t"
   ]
  },
  {
   "cell_type": "code",
   "execution_count": null,
   "id": "b983fe20-9cf4-4f95-b75c-3cd0f15c096d",
   "metadata": {},
   "outputs": [],
   "source": [
    "sp = stackspectra[2]\n",
    "lx,ux = 218.46, 218.5\n",
    "sp.plotter(xmin=lx, xmax=ux)\n",
    "sp.baseline()\n",
    "sp.plotter(xmin=lx, xmax=ux)\n",
    "sp.specfit() #guesses=[5,216.935,0.01], limited=[(True,True),(True,True),(True,True)], limits=[(0,20),(216.93,216.94),(0.0001,0.05)])\n",
    "sp.baseline(excludefit=True)\n",
    "sp.plotter(xmin=lx, xmax=ux, ymax=50)\n",
    "sp.specfit()\n",
    "cen = sp.specfit.parinfo['SHIFT0']*sp.xarr.unit# * (1 + vcen/constants.c)\n",
    "dx = (5*u.km/u.s / constants.c)*cen\n",
    "Splatalogue.query_lines(cen-dx, cen+dx, line_lists=['CDMS'], energy_max=1000, energy_type='eu_k', chemical_name='Formaldehyde')\n",
    "## H2CO"
   ]
  },
  {
   "cell_type": "code",
   "execution_count": null,
   "id": "01453c57-2c5b-469f-9164-f064426707be",
   "metadata": {},
   "outputs": [],
   "source": [
    "sp = stackspectra[1]\n",
    "lx,ux = 219.5, 219.6\n",
    "sp.plotter(xmin=lx, xmax=ux)\n",
    "sp.baseline()\n",
    "sp.plotter(xmin=lx, xmax=ux)\n",
    "sp.specfit() #guesses=[5,216.935,0.01], limited=[(True,True),(True,True),(True,True)], limits=[(0,20),(216.93,216.94),(0.0001,0.05)])\n",
    "sp.baseline(excludefit=True)\n",
    "sp.plotter(xmin=lx, xmax=ux, ymax=15)\n",
    "sp.specfit()\n",
    "cen = sp.specfit.parinfo['SHIFT0']*sp.xarr.unit# * (1 + vcen/constants.c)\n",
    "dx = (5*u.km/u.s / constants.c)*cen\n",
    "Splatalogue.query_lines(cen-dx, cen+dx, line_lists=['CDMS'], energy_max=1000, energy_type='eu_k', chemical_name='Monoxide')\n",
    "### C18O"
   ]
  },
  {
   "cell_type": "code",
   "execution_count": null,
   "id": "fdc43569-3425-42cf-8aaa-f66cec75877c",
   "metadata": {},
   "outputs": [],
   "source": [
    "sp = stackspectra[1]\n",
    "lx,ux = 219.7, 219.75\n",
    "sp.plotter(xmin=lx, xmax=ux)\n",
    "sp.baseline()\n",
    "sp.plotter(xmin=lx, xmax=ux)\n",
    "sp.specfit() #guesses=[5,216.935,0.01], limited=[(True,True),(True,True),(True,True)], limits=[(0,20),(216.93,216.94),(0.0001,0.05)])\n",
    "sp.baseline(excludefit=True)\n",
    "sp.plotter(xmin=lx, xmax=ux, ymax=15)\n",
    "sp.specfit()\n",
    "cen = sp.specfit.parinfo['SHIFT0']*sp.xarr.unit# * (1 + vcen/constants.c)\n",
    "dx = (5*u.km/u.s / constants.c)*cen\n",
    "Splatalogue.query_lines(cen-dx, cen+dx, line_lists=['CDMS'], energy_max=1000, energy_type='eu_k', chemical_name='Isocyanic')\n",
    "### HNCOv=0\tIsocyanic Acid\t--\t--\t219.737193\t3e-05\t10(2,8)-9(2,7)\t"
   ]
  },
  {
   "cell_type": "code",
   "execution_count": null,
   "id": "bdab08f5-32b7-4dea-92db-454e3e44ca9a",
   "metadata": {},
   "outputs": [],
   "source": [
    "sp = stackspectra[1]\n",
    "lx,ux = 219.79, 219.81\n",
    "sp.plotter(xmin=lx, xmax=ux)\n",
    "sp.baseline()\n",
    "sp.plotter(xmin=lx, xmax=ux)\n",
    "sp.specfit() #guesses=[5,216.935,0.01], limited=[(True,True),(True,True),(True,True)], limits=[(0,20),(216.93,216.94),(0.0001,0.05)])\n",
    "sp.baseline(excludefit=True)\n",
    "sp.plotter(xmin=lx, xmax=ux, ymax=15)\n",
    "sp.specfit()\n",
    "cen = sp.specfit.parinfo['SHIFT0']*sp.xarr.unit# * (1 + vcen/constants.c)\n",
    "dx = (5*u.km/u.s / constants.c)*cen\n",
    "Splatalogue.query_lines(cen-dx, cen+dx, line_lists=['CDMS'], energy_max=1000, energy_type='eu_k', chemical_name='Isocyanic')\n",
    "# HNCOv=0\tIsocyanic Acid\t--\t--\t219.798274\t4e-06\t10(0,10)-9(0,9)\t"
   ]
  },
  {
   "cell_type": "code",
   "execution_count": null,
   "id": "60482088-d101-4b13-9814-41cb2c3e0497",
   "metadata": {},
   "outputs": [],
   "source": [
    "sp = stackspectra[1]\n",
    "lx,ux = 219.93, 219.97\n",
    "sp.plotter(xmin=lx, xmax=ux)\n",
    "sp.baseline()\n",
    "sp.plotter(xmin=lx, xmax=ux)\n",
    "sp.specfit() #guesses=[5,216.935,0.01], limited=[(True,True),(True,True),(True,True)], limits=[(0,20),(216.93,216.94),(0.0001,0.05)])\n",
    "sp.baseline(excludefit=True)\n",
    "sp.plotter(xmin=lx, xmax=ux, ymax=80)\n",
    "sp.specfit()\n",
    "cen = sp.specfit.parinfo['SHIFT0']*sp.xarr.unit# * (1 + vcen/constants.c)\n",
    "dx = (5*u.km/u.s / constants.c)*cen\n",
    "Splatalogue.query_lines(cen-dx, cen+dx, line_lists=['CDMS'], energy_max=1000, energy_type='eu_k', chemical_name='Monoxide')\n",
    "# SO"
   ]
  },
  {
   "cell_type": "code",
   "execution_count": null,
   "id": "36b8a32b-6bb4-4b3d-a6e2-fb955625e3df",
   "metadata": {},
   "outputs": [],
   "source": [
    "sp = stackspectra[1]\n",
    "lx,ux = 220.05, 220.10\n",
    "sp.plotter(xmin=lx, xmax=ux)\n",
    "sp.baseline()\n",
    "sp.plotter(xmin=lx, xmax=ux)\n",
    "sp.specfit() #guesses=[5,216.935,0.01], limited=[(True,True),(True,True),(True,True)], limits=[(0,20),(216.93,216.94),(0.0001,0.05)])\n",
    "sp.baseline(excludefit=True)\n",
    "sp.plotter(xmin=lx, xmax=ux, ymax=30)\n",
    "sp.specfit()\n",
    "cen = sp.specfit.parinfo['SHIFT0']*sp.xarr.unit# * (1 + vcen/constants.c)\n",
    "dx = (5*u.km/u.s / constants.c)*cen\n",
    "Splatalogue.query_lines(cen-dx, cen+dx, line_lists=['CDMS'], energy_max=1000, energy_type='eu_k', chemical_name='Methanol')\n",
    "# CH3OHvt=0-2\tMethanol\t220.078561\t8e-06\t--\t--\t8(-0,8)-7(-1,6)E,vt=0\t"
   ]
  },
  {
   "cell_type": "code",
   "execution_count": null,
   "id": "9d018107-27bb-4a09-b368-07b7ee7b7a94",
   "metadata": {},
   "outputs": [],
   "source": [
    "sp = stackspectra[1]\n",
    "lx,ux = 220.35, 220.45\n",
    "sp.plotter(xmin=lx, xmax=ux)\n",
    "sp.baseline()\n",
    "sp.plotter(xmin=lx, xmax=ux)\n",
    "sp.specfit() #guesses=[5,216.935,0.01], limited=[(True,True),(True,True),(True,True)], limits=[(0,20),(216.93,216.94),(0.0001,0.05)])\n",
    "sp.baseline(excludefit=True)\n",
    "sp.plotter(xmin=lx, xmax=ux, ymax=30)\n",
    "sp.specfit()\n",
    "cen = sp.specfit.parinfo['SHIFT0']*sp.xarr.unit# * (1 + vcen/constants.c)\n",
    "dx = (5*u.km/u.s / constants.c)*cen\n",
    "Splatalogue.query_lines(cen-dx, cen+dx, line_lists=['CDMS'], energy_max=1000, energy_type='eu_k', chemical_name='Monoxide')\n",
    "# 13CO"
   ]
  },
  {
   "cell_type": "code",
   "execution_count": null,
   "id": "be0373f9-3e05-4197-b695-369a030b33dc",
   "metadata": {},
   "outputs": [],
   "source": [
    "sp = stackspectra[1]\n",
    "lx,ux = 220.5, 220.9\n",
    "sp.plotter(xmin=lx, xmax=ux)\n",
    "# CH3CN\n",
    "#sp.baseline()\n",
    "#sp.plotter(xmin=lx, xmax=ux)\n",
    "#sp.specfit() #guesses=[5,216.935,0.01], limited=[(True,True),(True,True),(True,True)], limits=[(0,20),(216.93,216.94),(0.0001,0.05)])\n",
    "#sp.baseline(excludefit=True)\n",
    "#sp.plotter(xmin=lx, xmax=ux, ymax=30)\n",
    "#sp.specfit()\n",
    "#cen = sp.specfit.parinfo['SHIFT0']*sp.xarr.unit# * (1 + vcen/constants.c)\n",
    "#dx = (5*u.km/u.s / constants.c)*cen\n",
    "#Splatalogue.query_lines(cen-dx, cen+dx, line_lists=['CDMS'], energy_max=1000, energy_type='eu_k', chemical_name='Monoxide')\n",
    "## 13CO"
   ]
  },
  {
   "cell_type": "code",
   "execution_count": null,
   "id": "a58859f0-b13a-4fd1-8132-53273b18becc",
   "metadata": {},
   "outputs": [],
   "source": []
  },
  {
   "cell_type": "code",
   "execution_count": null,
   "id": "938357a6-7c95-4dae-88a9-34a0d9611121",
   "metadata": {},
   "outputs": [],
   "source": [
    "sp = stackspectra[3]\n",
    "lx,ux = 231.25, 231.3\n",
    "sp.plotter(xmin=lx, xmax=ux)\n",
    "sp.baseline()\n",
    "sp.plotter(xmin=lx, xmax=ux)\n",
    "sp.specfit() #guesses=[5,216.935,0.01], limited=[(True,True),(True,True),(True,True)], limits=[(0,20),(216.93,216.94),(0.0001,0.05)])\n",
    "sp.baseline(excludefit=True)\n",
    "sp.plotter(xmin=lx, xmax=ux, ymax=15, ymin=-2)\n",
    "sp.specfit()\n",
    "cen = sp.specfit.parinfo['SHIFT0']*sp.xarr.unit# * (1 + vcen/constants.c)\n",
    "dx = (5*u.km/u.s / constants.c)*cen\n",
    "Splatalogue.query_lines(cen-dx, cen+dx, line_lists=['CDMS'], energy_max=1000, energy_type='eu_k', chemical_name='Methanol')\n",
    "# CH3OH 10(2,9)-9(3,6)A,vt=0\t"
   ]
  },
  {
   "cell_type": "code",
   "execution_count": null,
   "id": "471416f3-9470-4183-bcb8-6571584199f2",
   "metadata": {},
   "outputs": [],
   "source": [
    "sp = stackspectra[3]\n",
    "lx,ux = 232.4, 232.45\n",
    "sp.plotter(xmin=lx, xmax=ux)\n",
    "sp.baseline()\n",
    "sp.plotter(xmin=lx, xmax=ux)\n",
    "sp.specfit() #guesses=[5,216.935,0.01], limited=[(True,True),(True,True),(True,True)], limits=[(0,20),(216.93,216.94),(0.0001,0.05)])\n",
    "sp.baseline(excludefit=True)\n",
    "sp.plotter(xmin=lx, xmax=ux, ymax=15, ymin=-2)\n",
    "sp.specfit()\n",
    "cen = sp.specfit.parinfo['SHIFT0']*sp.xarr.unit# * (1 + vcen/constants.c)\n",
    "dx = (5*u.km/u.s / constants.c)*cen\n",
    "Splatalogue.query_lines(cen-dx, cen+dx, line_lists=['CDMS'], energy_max=1000, energy_type='eu_k', chemical_name='Methanol')\n",
    "# Methanol  10(2,8)-9(3,7)A,vt=0\t"
   ]
  },
  {
   "cell_type": "code",
   "execution_count": null,
   "id": "f2a96e48-c02f-499e-8f7e-b6d0abf8620c",
   "metadata": {},
   "outputs": [],
   "source": [
    "sp = stackspectra[3]\n",
    "lx,ux = 232.25, 232.30\n",
    "sp.plotter(xmin=lx, xmax=ux)\n",
    "sp.baseline()\n",
    "sp.plotter(xmin=lx, xmax=ux)\n",
    "sp.specfit() #guesses=[5,216.935,0.01], limited=[(True,True),(True,True),(True,True)], limits=[(0,20),(216.93,216.94),(0.0001,0.05)])\n",
    "sp.baseline(excludefit=True)\n",
    "sp.plotter(xmin=lx, xmax=ux, ymax=5, ymin=-2)\n",
    "sp.specfit()\n",
    "cen = sp.specfit.parinfo['SHIFT0']*sp.xarr.unit# * (1 + vcen/constants.c)\n",
    "dx = (5*u.km/u.s / constants.c)*cen\n",
    "Splatalogue.query_lines(cen-dx, cen+dx, line_lists=['CDMS'], energy_max=1000, energy_type='eu_k', chemical_name='Monoxide')\n",
    "# S18O 5(6)-4(5)\t"
   ]
  },
  {
   "cell_type": "code",
   "execution_count": null,
   "id": "f6bd913e-d256-4a3a-b78d-a12616a45a67",
   "metadata": {},
   "outputs": [],
   "source": []
  }
 ],
 "metadata": {
  "kernelspec": {
   "display_name": "python39",
   "language": "python",
   "name": "python39"
  },
  "language_info": {
   "codemirror_mode": {
    "name": "ipython",
    "version": 3
   },
   "file_extension": ".py",
   "mimetype": "text/x-python",
   "name": "python",
   "nbconvert_exporter": "python",
   "pygments_lexer": "ipython3",
   "version": "3.9.7"
  }
 },
 "nbformat": 4,
 "nbformat_minor": 5
}
