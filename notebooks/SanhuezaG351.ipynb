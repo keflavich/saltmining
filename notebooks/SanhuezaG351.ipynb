{
 "cells": [
  {
   "cell_type": "markdown",
   "id": "69f5eaeb-14bb-4bb3-b28a-7f2601b55266",
   "metadata": {},
   "source": [
    "# Conclusion:\n",
    "\n",
    "No salts.  This is an extremely line-rich source, but it looks like all overlapping \"weeds\" that happen to coincide with salts.  I'm not 100% sure I hit the right source, though, as there are many continuum objects.\n",
    "\n",
    "Well.... ok, there are _weak_ detections of the NaCl J=18-17 v=1 and v=0 lines...."
   ]
  },
  {
   "cell_type": "code",
   "execution_count": 1,
   "id": "adverse-conviction",
   "metadata": {},
   "outputs": [
    {
     "name": "stdout",
     "output_type": "stream",
     "text": [
      "/orange/adamginsburg/salt/sanhueza/G351.77\n"
     ]
    }
   ],
   "source": [
    "cd /orange/adamginsburg/salt/sanhueza/G351.77/"
   ]
  },
  {
   "cell_type": "code",
   "execution_count": 2,
   "id": "cultural-collect",
   "metadata": {},
   "outputs": [
    {
     "name": "stdout",
     "output_type": "stream",
     "text": [
      "cutout2.reg\n",
      "cutout3.reg\n",
      "cutout.reg\n",
      "G351.77-0.54.config8.cont_avg.selfcal_0.5_hogbom.image.fits\n",
      "G351.77-0.54.config8.spw0.robust0.5.image_co1_smaller.fits\n",
      "G351.77-0.54.config8.spw0.robust0.5.image_co2_smaller.fits\n",
      "G351.77-0.54.config8.spw0.robust0.5.image_co3_smaller.fits\n",
      "G351.77-0.54.config8.spw0.robust0.5.image_co4_smaller.fits\n",
      "G351.77-0.54.config8.spw0.robust0.5.image_small.fits\n",
      "G351.77-0.54.config8.spw1.robust0.5.image_co1_smaller.fits\n",
      "G351.77-0.54.config8.spw1.robust0.5.image_co2_smaller.fits\n",
      "G351.77-0.54.config8.spw1.robust0.5.image_co3_smaller.fits\n",
      "G351.77-0.54.config8.spw1.robust0.5.image_co4_smaller.fits\n",
      "G351.77-0.54.config8.spw1.robust0.5.image_small.fits\n",
      "G351.77-0.54.config8.spw2.robust0.5.image_co1_smaller.fits\n",
      "G351.77-0.54.config8.spw2.robust0.5.image_co2_smaller.fits\n",
      "G351.77-0.54.config8.spw2.robust0.5.image_co3_smaller.fits\n",
      "G351.77-0.54.config8.spw2.robust0.5.image_co4_smaller.fits\n",
      "G351.77-0.54.config8.spw2.robust0.5.image_small.fits\n",
      "G351.77-0.54.config8.spw3.robust0.5.image_co1_smaller.fits\n",
      "G351.77-0.54.config8.spw3.robust0.5.image_co2_smaller.fits\n",
      "G351.77-0.54.config8.spw3.robust0.5.image_co3_smaller.fits\n",
      "G351.77-0.54.config8.spw3.robust0.5.image_co4_smaller.fits\n",
      "G351.77-0.54.config8.spw3.robust0.5.image_small.fits\n",
      "NaCl_v_le_3_stackcube.fits\n",
      "\u001b[0m\u001b[01;34mspectra\u001b[0m/\n"
     ]
    }
   ],
   "source": [
    "ls"
   ]
  },
  {
   "cell_type": "markdown",
   "id": "b3066d98-0f24-4019-91e1-5f6c83362391",
   "metadata": {},
   "source": [
    "for fn in glob.glob(\"*.fits\"):\n",
    "    print('app"
   ]
  },
  {
   "cell_type": "code",
   "execution_count": 3,
   "id": "boxed-values",
   "metadata": {},
   "outputs": [
    {
     "data": {
      "text/plain": [
       "<astropy.visualization.units.quantity_support.<locals>.MplQuantityConverter at 0x2b0bc9f86100>"
      ]
     },
     "execution_count": 3,
     "metadata": {},
     "output_type": "execute_result"
    }
   ],
   "source": [
    "%matplotlib inline\n",
    "import pylab as pl\n",
    "pl.rcParams['figure.facecolor'] = 'w'\n",
    "from spectral_cube import SpectralCube\n",
    "from astropy import units as u\n",
    "from astropy.visualization import quantity_support\n",
    "quantity_support()"
   ]
  },
  {
   "cell_type": "code",
   "execution_count": 4,
   "id": "executive-senator",
   "metadata": {},
   "outputs": [],
   "source": [
    "from astropy.table import Table\n",
    "from astropy import table"
   ]
  },
  {
   "cell_type": "code",
   "execution_count": 5,
   "id": "robust-anchor",
   "metadata": {},
   "outputs": [],
   "source": [
    "import pprint"
   ]
  },
  {
   "cell_type": "code",
   "execution_count": 6,
   "id": "sustainable-tiffany",
   "metadata": {},
   "outputs": [],
   "source": [
    "import scipy, scipy.ndimage"
   ]
  },
  {
   "cell_type": "code",
   "execution_count": 7,
   "id": "visible-princess",
   "metadata": {},
   "outputs": [
    {
     "name": "stderr",
     "output_type": "stream",
     "text": [
      "WARNING: Model is linear in parameters; consider using linear fitting methods. [astropy.modeling.fitting]\n",
      "WARNING: Model is linear in parameters; consider using linear fitting methods. [astropy.modeling.fitting]\n"
     ]
    }
   ],
   "source": [
    "import numpy as np\n",
    "import os\n",
    "import glob\n",
    "from astropy import constants, units as u, table, stats, coordinates, wcs, log, coordinates as coord\n",
    "import radio_beam\n",
    "import pyspeckit\n",
    "import pylab as pl\n",
    "from astroquery.splatalogue.utils import minimize_table as mt\n",
    "import sys\n",
    "sys.path.append('/orange/adamginsburg/salt/Orion_ALMA_2016.1.00165.S/analysis')\n",
    "import lines\n",
    "import paths\n",
    "from salt_tables import (salt_tables, salt_table_names, SO, SO2, HCl, sis_tables, AlCl, AlF, Al37Cl,\n",
    "                         NaF, AlO, AlOH, NaCN, CaS, CaO)"
   ]
  },
  {
   "cell_type": "code",
   "execution_count": 8,
   "id": "dental-prayer",
   "metadata": {},
   "outputs": [],
   "source": [
    "import regions\n",
    "from astropy import units as u, coordinates\n",
    "reg = regions.Regions.read('cutout.reg')\n",
    "reg2 = regions.Regions.read('cutout2.reg')\n",
    "reg3 = regions.Regions.read('cutout3.reg')\n",
    "#regvsm = regions.Regions.read('verysmall.reg')\n",
    "#regvvsm = regions.Regions.read('innerdiskbox.reg')"
   ]
  },
  {
   "cell_type": "code",
   "execution_count": 9,
   "id": "668be547-d815-46ff-bc9a-66d724a8b0d8",
   "metadata": {},
   "outputs": [
    {
     "data": {
      "text/plain": [
       "<SkyCoord (Galactic): (l, b) in deg\n",
       "    (351.77460446, -0.53646274)>"
      ]
     },
     "execution_count": 9,
     "metadata": {},
     "output_type": "execute_result"
    }
   ],
   "source": [
    "reg[0].center.galactic"
   ]
  },
  {
   "cell_type": "markdown",
   "id": "chicken-cutting",
   "metadata": {},
   "source": [
    "# NaCl Stackl"
   ]
  },
  {
   "cell_type": "code",
   "execution_count": 10,
   "id": "informed-concrete",
   "metadata": {},
   "outputs": [],
   "source": [
    "from spectral_cube.analysis_utilities import stack_cube"
   ]
  },
  {
   "cell_type": "code",
   "execution_count": 11,
   "id": "controlling-melbourne",
   "metadata": {},
   "outputs": [],
   "source": [
    "nacltables = salt_tables[3:5]\n",
    "#nacltables[0]"
   ]
  },
  {
   "cell_type": "code",
   "execution_count": 12,
   "id": "leading-atlas",
   "metadata": {},
   "outputs": [],
   "source": [
    "import spectral_cube.analysis_utilities\n",
    "import imp\n",
    "imp.reload(spectral_cube.analysis_utilities)\n",
    "from spectral_cube.analysis_utilities import stack_cube"
   ]
  },
  {
   "cell_type": "code",
   "execution_count": 13,
   "id": "black-salvation",
   "metadata": {},
   "outputs": [],
   "source": [
    "flist = (glob.glob('G351.77-0.54.config8.spw[0-3].robust0.5.image_small.fits'))"
   ]
  },
  {
   "cell_type": "code",
   "execution_count": 14,
   "id": "2937665b-e9bf-41e1-9522-7cf6104b7e15",
   "metadata": {},
   "outputs": [
    {
     "data": {
      "text/plain": [
       "['G351.77-0.54.config8.spw0.robust0.5.image_small.fits',\n",
       " 'G351.77-0.54.config8.spw1.robust0.5.image_small.fits',\n",
       " 'G351.77-0.54.config8.spw3.robust0.5.image_small.fits',\n",
       " 'G351.77-0.54.config8.spw2.robust0.5.image_small.fits']"
      ]
     },
     "execution_count": 14,
     "metadata": {},
     "output_type": "execute_result"
    }
   ],
   "source": [
    "flist"
   ]
  },
  {
   "cell_type": "code",
   "execution_count": 15,
   "id": "d03eea2b-e4e1-4c41-ba87-9ac214afe384",
   "metadata": {},
   "outputs": [
    {
     "data": {
      "text/plain": [
       "<dask.config.set at 0x2b0bc9f95790>"
      ]
     },
     "execution_count": 15,
     "metadata": {},
     "output_type": "execute_result"
    }
   ],
   "source": [
    "#from dask.diagnostics import ProgressBar\n",
    "#pbar = ProgressBar()\n",
    "#pbar.register()\n",
    "\n",
    "import dask\n",
    "dask.config.set(scheduler='threads', num_workers=8)"
   ]
  },
  {
   "cell_type": "code",
   "execution_count": 16,
   "id": "tired-immune",
   "metadata": {},
   "outputs": [
    {
     "name": "stderr",
     "output_type": "stream",
     "text": [
      "WARNING: StokesWarning: Cube is a Stokes cube, returning spectral cube for I component [spectral_cube.io.core]\n",
      "WARNING: StokesWarning: Cube is a Stokes cube, returning spectral cube for I component [spectral_cube.io.core]\n",
      "WARNING: StokesWarning: Cube is a Stokes cube, returning spectral cube for I component [spectral_cube.io.core]\n",
      "WARNING: PossiblySlowWarning: This function (<function BaseSpectralCube.to at 0x2b0bc9b918b0>) requires loading the entire cube into memory and may therefore be slow. [spectral_cube.utils]\n",
      "WARNING: StokesWarning: Cube is a Stokes cube, returning spectral cube for I component [spectral_cube.io.core]\n"
     ]
    },
    {
     "ename": "TypeError",
     "evalue": "ufunc 'multiply' output (typecode 'O') could not be coerced to provided output parameter (typecode 'f') according to the casting rule ''same_kind''",
     "output_type": "error",
     "traceback": [
      "\u001b[0;31m---------------------------------------------------------------------------\u001b[0m",
      "\u001b[0;31mTypeError\u001b[0m                                 Traceback (most recent call last)",
      "\u001b[0;32m/scratch/local/25260084/ipykernel_1093/272476058.py\u001b[0m in \u001b[0;36m<module>\u001b[0;34m\u001b[0m\n\u001b[1;32m      7\u001b[0m             \u001b[0;32mwith\u001b[0m \u001b[0mcube\u001b[0m\u001b[0;34m.\u001b[0m\u001b[0muse_dask_scheduler\u001b[0m\u001b[0;34m(\u001b[0m\u001b[0;34m'threads'\u001b[0m\u001b[0;34m,\u001b[0m \u001b[0mnum_workers\u001b[0m\u001b[0;34m=\u001b[0m\u001b[0;36m8\u001b[0m\u001b[0;34m)\u001b[0m\u001b[0;34m:\u001b[0m\u001b[0;34m\u001b[0m\u001b[0;34m\u001b[0m\u001b[0m\n\u001b[1;32m      8\u001b[0m                 \u001b[0mcb\u001b[0m \u001b[0;34m=\u001b[0m \u001b[0mcube\u001b[0m\u001b[0;34m.\u001b[0m\u001b[0mbeams\u001b[0m\u001b[0;34m.\u001b[0m\u001b[0mcommon_beam\u001b[0m\u001b[0;34m(\u001b[0m\u001b[0mmax_iter\u001b[0m\u001b[0;34m=\u001b[0m\u001b[0;36m20\u001b[0m\u001b[0;34m,\u001b[0m \u001b[0mmax_epsilon\u001b[0m\u001b[0;34m=\u001b[0m\u001b[0;36m0.01\u001b[0m\u001b[0;34m)\u001b[0m\u001b[0;34m\u001b[0m\u001b[0;34m\u001b[0m\u001b[0m\n\u001b[0;32m----> 9\u001b[0;31m                 \u001b[0mscube\u001b[0m \u001b[0;34m=\u001b[0m \u001b[0mcube\u001b[0m\u001b[0;34m.\u001b[0m\u001b[0mconvolve_to\u001b[0m\u001b[0;34m(\u001b[0m\u001b[0mcb\u001b[0m\u001b[0;34m,\u001b[0m \u001b[0msave_to_tmp_dir\u001b[0m\u001b[0;34m=\u001b[0m\u001b[0;32mTrue\u001b[0m\u001b[0;34m)\u001b[0m\u001b[0;34m\u001b[0m\u001b[0;34m\u001b[0m\u001b[0m\n\u001b[0m\u001b[1;32m     10\u001b[0m             \u001b[0mscube\u001b[0m\u001b[0;34m.\u001b[0m\u001b[0mallow_huge_operations\u001b[0m \u001b[0;34m=\u001b[0m \u001b[0;32mTrue\u001b[0m\u001b[0;34m\u001b[0m\u001b[0;34m\u001b[0m\u001b[0m\n\u001b[1;32m     11\u001b[0m             \u001b[0mscube\u001b[0m\u001b[0;34m.\u001b[0m\u001b[0mto\u001b[0m\u001b[0;34m(\u001b[0m\u001b[0mu\u001b[0m\u001b[0;34m.\u001b[0m\u001b[0mK\u001b[0m\u001b[0;34m)\u001b[0m\u001b[0;34m.\u001b[0m\u001b[0mwrite\u001b[0m\u001b[0;34m(\u001b[0m\u001b[0moutfile\u001b[0m\u001b[0;34m,\u001b[0m \u001b[0moverwrite\u001b[0m\u001b[0;34m=\u001b[0m\u001b[0;32mTrue\u001b[0m\u001b[0;34m)\u001b[0m\u001b[0;34m\u001b[0m\u001b[0;34m\u001b[0m\u001b[0m\n",
      "\u001b[0;32m/blue/adamginsburg/adamginsburg/repos/spectral-cube/spectral_cube/dask_spectral_cube.py\u001b[0m in \u001b[0;36mwrapper\u001b[0;34m(self, *args, **kwargs)\u001b[0m\n\u001b[1;32m     83\u001b[0m             \u001b[0mfilename\u001b[0m \u001b[0;34m=\u001b[0m \u001b[0mtempfile\u001b[0m\u001b[0;34m.\u001b[0m\u001b[0mmktemp\u001b[0m\u001b[0;34m(\u001b[0m\u001b[0;34m)\u001b[0m\u001b[0;34m\u001b[0m\u001b[0;34m\u001b[0m\u001b[0m\n\u001b[1;32m     84\u001b[0m             \u001b[0;32mwith\u001b[0m \u001b[0mdask\u001b[0m\u001b[0;34m.\u001b[0m\u001b[0mconfig\u001b[0m\u001b[0;34m.\u001b[0m\u001b[0mset\u001b[0m\u001b[0;34m(\u001b[0m\u001b[0;34m**\u001b[0m\u001b[0mcube\u001b[0m\u001b[0;34m.\u001b[0m\u001b[0m_scheduler_kwargs\u001b[0m\u001b[0;34m)\u001b[0m\u001b[0;34m:\u001b[0m\u001b[0;34m\u001b[0m\u001b[0;34m\u001b[0m\u001b[0m\n\u001b[0;32m---> 85\u001b[0;31m                 \u001b[0mcube\u001b[0m\u001b[0;34m.\u001b[0m\u001b[0m_data\u001b[0m\u001b[0;34m.\u001b[0m\u001b[0mto_zarr\u001b[0m\u001b[0;34m(\u001b[0m\u001b[0mfilename\u001b[0m\u001b[0;34m)\u001b[0m\u001b[0;34m\u001b[0m\u001b[0;34m\u001b[0m\u001b[0m\n\u001b[0m\u001b[1;32m     86\u001b[0m             \u001b[0mcube\u001b[0m\u001b[0;34m.\u001b[0m\u001b[0m_data\u001b[0m \u001b[0;34m=\u001b[0m \u001b[0mda\u001b[0m\u001b[0;34m.\u001b[0m\u001b[0mfrom_zarr\u001b[0m\u001b[0;34m(\u001b[0m\u001b[0mfilename\u001b[0m\u001b[0;34m)\u001b[0m\u001b[0;34m\u001b[0m\u001b[0;34m\u001b[0m\u001b[0m\n\u001b[1;32m     87\u001b[0m         \u001b[0;32mreturn\u001b[0m \u001b[0mcube\u001b[0m\u001b[0;34m\u001b[0m\u001b[0;34m\u001b[0m\u001b[0m\n",
      "\u001b[0;32m/orange/adamginsburg/miniconda3/envs/python39/lib/python3.9/site-packages/dask/array/core.py\u001b[0m in \u001b[0;36mto_zarr\u001b[0;34m(self, *args, **kwargs)\u001b[0m\n\u001b[1;32m   2675\u001b[0m         \u001b[0mSee\u001b[0m \u001b[0mfunction\u001b[0m \u001b[0;34m:\u001b[0m\u001b[0mfunc\u001b[0m\u001b[0;34m:\u001b[0m\u001b[0;31m`\u001b[0m\u001b[0mdask\u001b[0m\u001b[0;34m.\u001b[0m\u001b[0marray\u001b[0m\u001b[0;34m.\u001b[0m\u001b[0mto_zarr\u001b[0m\u001b[0;31m`\u001b[0m \u001b[0;32mfor\u001b[0m \u001b[0mparameters\u001b[0m\u001b[0;34m.\u001b[0m\u001b[0;34m\u001b[0m\u001b[0;34m\u001b[0m\u001b[0m\n\u001b[1;32m   2676\u001b[0m         \"\"\"\n\u001b[0;32m-> 2677\u001b[0;31m         \u001b[0;32mreturn\u001b[0m \u001b[0mto_zarr\u001b[0m\u001b[0;34m(\u001b[0m\u001b[0mself\u001b[0m\u001b[0;34m,\u001b[0m \u001b[0;34m*\u001b[0m\u001b[0margs\u001b[0m\u001b[0;34m,\u001b[0m \u001b[0;34m**\u001b[0m\u001b[0mkwargs\u001b[0m\u001b[0;34m)\u001b[0m\u001b[0;34m\u001b[0m\u001b[0;34m\u001b[0m\u001b[0m\n\u001b[0m\u001b[1;32m   2678\u001b[0m \u001b[0;34m\u001b[0m\u001b[0m\n\u001b[1;32m   2679\u001b[0m     \u001b[0;32mdef\u001b[0m \u001b[0mto_tiledb\u001b[0m\u001b[0;34m(\u001b[0m\u001b[0mself\u001b[0m\u001b[0;34m,\u001b[0m \u001b[0muri\u001b[0m\u001b[0;34m,\u001b[0m \u001b[0;34m*\u001b[0m\u001b[0margs\u001b[0m\u001b[0;34m,\u001b[0m \u001b[0;34m**\u001b[0m\u001b[0mkwargs\u001b[0m\u001b[0;34m)\u001b[0m\u001b[0;34m:\u001b[0m\u001b[0;34m\u001b[0m\u001b[0;34m\u001b[0m\u001b[0m\n",
      "\u001b[0;32m/orange/adamginsburg/miniconda3/envs/python39/lib/python3.9/site-packages/dask/array/core.py\u001b[0m in \u001b[0;36mto_zarr\u001b[0;34m(arr, url, component, storage_options, overwrite, compute, return_stored, **kwargs)\u001b[0m\n\u001b[1;32m   3418\u001b[0m         \u001b[0;34m**\u001b[0m\u001b[0mkwargs\u001b[0m\u001b[0;34m,\u001b[0m\u001b[0;34m\u001b[0m\u001b[0;34m\u001b[0m\u001b[0m\n\u001b[1;32m   3419\u001b[0m     )\n\u001b[0;32m-> 3420\u001b[0;31m     \u001b[0;32mreturn\u001b[0m \u001b[0marr\u001b[0m\u001b[0;34m.\u001b[0m\u001b[0mstore\u001b[0m\u001b[0;34m(\u001b[0m\u001b[0mz\u001b[0m\u001b[0;34m,\u001b[0m \u001b[0mlock\u001b[0m\u001b[0;34m=\u001b[0m\u001b[0;32mFalse\u001b[0m\u001b[0;34m,\u001b[0m \u001b[0mcompute\u001b[0m\u001b[0;34m=\u001b[0m\u001b[0mcompute\u001b[0m\u001b[0;34m,\u001b[0m \u001b[0mreturn_stored\u001b[0m\u001b[0;34m=\u001b[0m\u001b[0mreturn_stored\u001b[0m\u001b[0;34m)\u001b[0m\u001b[0;34m\u001b[0m\u001b[0;34m\u001b[0m\u001b[0m\n\u001b[0m\u001b[1;32m   3421\u001b[0m \u001b[0;34m\u001b[0m\u001b[0m\n\u001b[1;32m   3422\u001b[0m \u001b[0;34m\u001b[0m\u001b[0m\n",
      "\u001b[0;32m/orange/adamginsburg/miniconda3/envs/python39/lib/python3.9/site-packages/dask/array/core.py\u001b[0m in \u001b[0;36mstore\u001b[0;34m(self, target, **kwargs)\u001b[0m\n\u001b[1;32m   1595\u001b[0m     \u001b[0;34m@\u001b[0m\u001b[0mwraps\u001b[0m\u001b[0;34m(\u001b[0m\u001b[0mstore\u001b[0m\u001b[0;34m)\u001b[0m\u001b[0;34m\u001b[0m\u001b[0;34m\u001b[0m\u001b[0m\n\u001b[1;32m   1596\u001b[0m     \u001b[0;32mdef\u001b[0m \u001b[0mstore\u001b[0m\u001b[0;34m(\u001b[0m\u001b[0mself\u001b[0m\u001b[0;34m,\u001b[0m \u001b[0mtarget\u001b[0m\u001b[0;34m,\u001b[0m \u001b[0;34m**\u001b[0m\u001b[0mkwargs\u001b[0m\u001b[0;34m)\u001b[0m\u001b[0;34m:\u001b[0m\u001b[0;34m\u001b[0m\u001b[0;34m\u001b[0m\u001b[0m\n\u001b[0;32m-> 1597\u001b[0;31m         \u001b[0mr\u001b[0m \u001b[0;34m=\u001b[0m \u001b[0mstore\u001b[0m\u001b[0;34m(\u001b[0m\u001b[0;34m[\u001b[0m\u001b[0mself\u001b[0m\u001b[0;34m]\u001b[0m\u001b[0;34m,\u001b[0m \u001b[0;34m[\u001b[0m\u001b[0mtarget\u001b[0m\u001b[0;34m]\u001b[0m\u001b[0;34m,\u001b[0m \u001b[0;34m**\u001b[0m\u001b[0mkwargs\u001b[0m\u001b[0;34m)\u001b[0m\u001b[0;34m\u001b[0m\u001b[0;34m\u001b[0m\u001b[0m\n\u001b[0m\u001b[1;32m   1598\u001b[0m \u001b[0;34m\u001b[0m\u001b[0m\n\u001b[1;32m   1599\u001b[0m         \u001b[0;32mif\u001b[0m \u001b[0mkwargs\u001b[0m\u001b[0;34m.\u001b[0m\u001b[0mget\u001b[0m\u001b[0;34m(\u001b[0m\u001b[0;34m\"return_stored\"\u001b[0m\u001b[0;34m,\u001b[0m \u001b[0;32mFalse\u001b[0m\u001b[0;34m)\u001b[0m\u001b[0;34m:\u001b[0m\u001b[0;34m\u001b[0m\u001b[0;34m\u001b[0m\u001b[0m\n",
      "\u001b[0;32m/orange/adamginsburg/miniconda3/envs/python39/lib/python3.9/site-packages/dask/array/core.py\u001b[0m in \u001b[0;36mstore\u001b[0;34m(sources, targets, lock, regions, compute, return_stored, **kwargs)\u001b[0m\n\u001b[1;32m   1074\u001b[0m     \u001b[0;32melif\u001b[0m \u001b[0mcompute\u001b[0m\u001b[0;34m:\u001b[0m\u001b[0;34m\u001b[0m\u001b[0;34m\u001b[0m\u001b[0m\n\u001b[1;32m   1075\u001b[0m         \u001b[0mstore_dsk\u001b[0m \u001b[0;34m=\u001b[0m \u001b[0mHighLevelGraph\u001b[0m\u001b[0;34m(\u001b[0m\u001b[0mlayers\u001b[0m\u001b[0;34m,\u001b[0m \u001b[0mdependencies\u001b[0m\u001b[0;34m)\u001b[0m\u001b[0;34m\u001b[0m\u001b[0;34m\u001b[0m\u001b[0m\n\u001b[0;32m-> 1076\u001b[0;31m         \u001b[0mcompute_as_if_collection\u001b[0m\u001b[0;34m(\u001b[0m\u001b[0mArray\u001b[0m\u001b[0;34m,\u001b[0m \u001b[0mstore_dsk\u001b[0m\u001b[0;34m,\u001b[0m \u001b[0mmap_keys\u001b[0m\u001b[0;34m,\u001b[0m \u001b[0;34m**\u001b[0m\u001b[0mkwargs\u001b[0m\u001b[0;34m)\u001b[0m\u001b[0;34m\u001b[0m\u001b[0;34m\u001b[0m\u001b[0m\n\u001b[0m\u001b[1;32m   1077\u001b[0m         \u001b[0;32mreturn\u001b[0m \u001b[0;32mNone\u001b[0m\u001b[0;34m\u001b[0m\u001b[0;34m\u001b[0m\u001b[0m\n\u001b[1;32m   1078\u001b[0m \u001b[0;34m\u001b[0m\u001b[0m\n",
      "\u001b[0;32m/orange/adamginsburg/miniconda3/envs/python39/lib/python3.9/site-packages/dask/base.py\u001b[0m in \u001b[0;36mcompute_as_if_collection\u001b[0;34m(cls, dsk, keys, scheduler, get, **kwargs)\u001b[0m\n\u001b[1;32m    313\u001b[0m     \u001b[0mschedule\u001b[0m \u001b[0;34m=\u001b[0m \u001b[0mget_scheduler\u001b[0m\u001b[0;34m(\u001b[0m\u001b[0mscheduler\u001b[0m\u001b[0;34m=\u001b[0m\u001b[0mscheduler\u001b[0m\u001b[0;34m,\u001b[0m \u001b[0mcls\u001b[0m\u001b[0;34m=\u001b[0m\u001b[0mcls\u001b[0m\u001b[0;34m,\u001b[0m \u001b[0mget\u001b[0m\u001b[0;34m=\u001b[0m\u001b[0mget\u001b[0m\u001b[0;34m)\u001b[0m\u001b[0;34m\u001b[0m\u001b[0;34m\u001b[0m\u001b[0m\n\u001b[1;32m    314\u001b[0m     \u001b[0mdsk2\u001b[0m \u001b[0;34m=\u001b[0m \u001b[0moptimization_function\u001b[0m\u001b[0;34m(\u001b[0m\u001b[0mcls\u001b[0m\u001b[0;34m)\u001b[0m\u001b[0;34m(\u001b[0m\u001b[0mdsk\u001b[0m\u001b[0;34m,\u001b[0m \u001b[0mkeys\u001b[0m\u001b[0;34m,\u001b[0m \u001b[0;34m**\u001b[0m\u001b[0mkwargs\u001b[0m\u001b[0;34m)\u001b[0m\u001b[0;34m\u001b[0m\u001b[0;34m\u001b[0m\u001b[0m\n\u001b[0;32m--> 315\u001b[0;31m     \u001b[0;32mreturn\u001b[0m \u001b[0mschedule\u001b[0m\u001b[0;34m(\u001b[0m\u001b[0mdsk2\u001b[0m\u001b[0;34m,\u001b[0m \u001b[0mkeys\u001b[0m\u001b[0;34m,\u001b[0m \u001b[0;34m**\u001b[0m\u001b[0mkwargs\u001b[0m\u001b[0;34m)\u001b[0m\u001b[0;34m\u001b[0m\u001b[0;34m\u001b[0m\u001b[0m\n\u001b[0m\u001b[1;32m    316\u001b[0m \u001b[0;34m\u001b[0m\u001b[0m\n\u001b[1;32m    317\u001b[0m \u001b[0;34m\u001b[0m\u001b[0m\n",
      "\u001b[0;32m/orange/adamginsburg/miniconda3/envs/python39/lib/python3.9/site-packages/dask/threaded.py\u001b[0m in \u001b[0;36mget\u001b[0;34m(dsk, result, cache, num_workers, pool, **kwargs)\u001b[0m\n\u001b[1;32m     77\u001b[0m             \u001b[0mpool\u001b[0m \u001b[0;34m=\u001b[0m \u001b[0mMultiprocessingPoolExecutor\u001b[0m\u001b[0;34m(\u001b[0m\u001b[0mpool\u001b[0m\u001b[0;34m)\u001b[0m\u001b[0;34m\u001b[0m\u001b[0;34m\u001b[0m\u001b[0m\n\u001b[1;32m     78\u001b[0m \u001b[0;34m\u001b[0m\u001b[0m\n\u001b[0;32m---> 79\u001b[0;31m     results = get_async(\n\u001b[0m\u001b[1;32m     80\u001b[0m         \u001b[0mpool\u001b[0m\u001b[0;34m.\u001b[0m\u001b[0msubmit\u001b[0m\u001b[0;34m,\u001b[0m\u001b[0;34m\u001b[0m\u001b[0;34m\u001b[0m\u001b[0m\n\u001b[1;32m     81\u001b[0m         \u001b[0mpool\u001b[0m\u001b[0;34m.\u001b[0m\u001b[0m_max_workers\u001b[0m\u001b[0;34m,\u001b[0m\u001b[0;34m\u001b[0m\u001b[0;34m\u001b[0m\u001b[0m\n",
      "\u001b[0;32m/orange/adamginsburg/miniconda3/envs/python39/lib/python3.9/site-packages/dask/local.py\u001b[0m in \u001b[0;36mget_async\u001b[0;34m(submit, num_workers, dsk, result, cache, get_id, rerun_exceptions_locally, pack_exception, raise_exception, callbacks, dumps, loads, chunksize, **kwargs)\u001b[0m\n\u001b[1;32m    505\u001b[0m                             \u001b[0m_execute_task\u001b[0m\u001b[0;34m(\u001b[0m\u001b[0mtask\u001b[0m\u001b[0;34m,\u001b[0m \u001b[0mdata\u001b[0m\u001b[0;34m)\u001b[0m  \u001b[0;31m# Re-execute locally\u001b[0m\u001b[0;34m\u001b[0m\u001b[0;34m\u001b[0m\u001b[0m\n\u001b[1;32m    506\u001b[0m                         \u001b[0;32melse\u001b[0m\u001b[0;34m:\u001b[0m\u001b[0;34m\u001b[0m\u001b[0;34m\u001b[0m\u001b[0m\n\u001b[0;32m--> 507\u001b[0;31m                             \u001b[0mraise_exception\u001b[0m\u001b[0;34m(\u001b[0m\u001b[0mexc\u001b[0m\u001b[0;34m,\u001b[0m \u001b[0mtb\u001b[0m\u001b[0;34m)\u001b[0m\u001b[0;34m\u001b[0m\u001b[0;34m\u001b[0m\u001b[0m\n\u001b[0m\u001b[1;32m    508\u001b[0m                     \u001b[0mres\u001b[0m\u001b[0;34m,\u001b[0m \u001b[0mworker_id\u001b[0m \u001b[0;34m=\u001b[0m \u001b[0mloads\u001b[0m\u001b[0;34m(\u001b[0m\u001b[0mres_info\u001b[0m\u001b[0;34m)\u001b[0m\u001b[0;34m\u001b[0m\u001b[0;34m\u001b[0m\u001b[0m\n\u001b[1;32m    509\u001b[0m                     \u001b[0mstate\u001b[0m\u001b[0;34m[\u001b[0m\u001b[0;34m\"cache\"\u001b[0m\u001b[0;34m]\u001b[0m\u001b[0;34m[\u001b[0m\u001b[0mkey\u001b[0m\u001b[0;34m]\u001b[0m \u001b[0;34m=\u001b[0m \u001b[0mres\u001b[0m\u001b[0;34m\u001b[0m\u001b[0;34m\u001b[0m\u001b[0m\n",
      "\u001b[0;32m/orange/adamginsburg/miniconda3/envs/python39/lib/python3.9/site-packages/dask/local.py\u001b[0m in \u001b[0;36mreraise\u001b[0;34m(exc, tb)\u001b[0m\n\u001b[1;32m    313\u001b[0m     \u001b[0;32mif\u001b[0m \u001b[0mexc\u001b[0m\u001b[0;34m.\u001b[0m\u001b[0m__traceback__\u001b[0m \u001b[0;32mis\u001b[0m \u001b[0;32mnot\u001b[0m \u001b[0mtb\u001b[0m\u001b[0;34m:\u001b[0m\u001b[0;34m\u001b[0m\u001b[0;34m\u001b[0m\u001b[0m\n\u001b[1;32m    314\u001b[0m         \u001b[0;32mraise\u001b[0m \u001b[0mexc\u001b[0m\u001b[0;34m.\u001b[0m\u001b[0mwith_traceback\u001b[0m\u001b[0;34m(\u001b[0m\u001b[0mtb\u001b[0m\u001b[0;34m)\u001b[0m\u001b[0;34m\u001b[0m\u001b[0;34m\u001b[0m\u001b[0m\n\u001b[0;32m--> 315\u001b[0;31m     \u001b[0;32mraise\u001b[0m \u001b[0mexc\u001b[0m\u001b[0;34m\u001b[0m\u001b[0;34m\u001b[0m\u001b[0m\n\u001b[0m\u001b[1;32m    316\u001b[0m \u001b[0;34m\u001b[0m\u001b[0m\n\u001b[1;32m    317\u001b[0m \u001b[0;34m\u001b[0m\u001b[0m\n",
      "\u001b[0;32m/orange/adamginsburg/miniconda3/envs/python39/lib/python3.9/site-packages/dask/local.py\u001b[0m in \u001b[0;36mexecute_task\u001b[0;34m(key, task_info, dumps, loads, get_id, pack_exception)\u001b[0m\n\u001b[1;32m    218\u001b[0m     \u001b[0;32mtry\u001b[0m\u001b[0;34m:\u001b[0m\u001b[0;34m\u001b[0m\u001b[0;34m\u001b[0m\u001b[0m\n\u001b[1;32m    219\u001b[0m         \u001b[0mtask\u001b[0m\u001b[0;34m,\u001b[0m \u001b[0mdata\u001b[0m \u001b[0;34m=\u001b[0m \u001b[0mloads\u001b[0m\u001b[0;34m(\u001b[0m\u001b[0mtask_info\u001b[0m\u001b[0;34m)\u001b[0m\u001b[0;34m\u001b[0m\u001b[0;34m\u001b[0m\u001b[0m\n\u001b[0;32m--> 220\u001b[0;31m         \u001b[0mresult\u001b[0m \u001b[0;34m=\u001b[0m \u001b[0m_execute_task\u001b[0m\u001b[0;34m(\u001b[0m\u001b[0mtask\u001b[0m\u001b[0;34m,\u001b[0m \u001b[0mdata\u001b[0m\u001b[0;34m)\u001b[0m\u001b[0;34m\u001b[0m\u001b[0;34m\u001b[0m\u001b[0m\n\u001b[0m\u001b[1;32m    221\u001b[0m         \u001b[0mid\u001b[0m \u001b[0;34m=\u001b[0m \u001b[0mget_id\u001b[0m\u001b[0;34m(\u001b[0m\u001b[0;34m)\u001b[0m\u001b[0;34m\u001b[0m\u001b[0;34m\u001b[0m\u001b[0m\n\u001b[1;32m    222\u001b[0m         \u001b[0mresult\u001b[0m \u001b[0;34m=\u001b[0m \u001b[0mdumps\u001b[0m\u001b[0;34m(\u001b[0m\u001b[0;34m(\u001b[0m\u001b[0mresult\u001b[0m\u001b[0;34m,\u001b[0m \u001b[0mid\u001b[0m\u001b[0;34m)\u001b[0m\u001b[0;34m)\u001b[0m\u001b[0;34m\u001b[0m\u001b[0;34m\u001b[0m\u001b[0m\n",
      "\u001b[0;32m/orange/adamginsburg/miniconda3/envs/python39/lib/python3.9/site-packages/dask/core.py\u001b[0m in \u001b[0;36m_execute_task\u001b[0;34m(arg, cache, dsk)\u001b[0m\n\u001b[1;32m    117\u001b[0m         \u001b[0;31m# temporaries by their reference count and can execute certain\u001b[0m\u001b[0;34m\u001b[0m\u001b[0;34m\u001b[0m\u001b[0m\n\u001b[1;32m    118\u001b[0m         \u001b[0;31m# operations in-place.\u001b[0m\u001b[0;34m\u001b[0m\u001b[0;34m\u001b[0m\u001b[0m\n\u001b[0;32m--> 119\u001b[0;31m         \u001b[0;32mreturn\u001b[0m \u001b[0mfunc\u001b[0m\u001b[0;34m(\u001b[0m\u001b[0;34m*\u001b[0m\u001b[0;34m(\u001b[0m\u001b[0m_execute_task\u001b[0m\u001b[0;34m(\u001b[0m\u001b[0ma\u001b[0m\u001b[0;34m,\u001b[0m \u001b[0mcache\u001b[0m\u001b[0;34m)\u001b[0m \u001b[0;32mfor\u001b[0m \u001b[0ma\u001b[0m \u001b[0;32min\u001b[0m \u001b[0margs\u001b[0m\u001b[0;34m)\u001b[0m\u001b[0;34m)\u001b[0m\u001b[0;34m\u001b[0m\u001b[0;34m\u001b[0m\u001b[0m\n\u001b[0m\u001b[1;32m    120\u001b[0m     \u001b[0;32melif\u001b[0m \u001b[0;32mnot\u001b[0m \u001b[0mishashable\u001b[0m\u001b[0;34m(\u001b[0m\u001b[0marg\u001b[0m\u001b[0;34m)\u001b[0m\u001b[0;34m:\u001b[0m\u001b[0;34m\u001b[0m\u001b[0;34m\u001b[0m\u001b[0m\n\u001b[1;32m    121\u001b[0m         \u001b[0;32mreturn\u001b[0m \u001b[0marg\u001b[0m\u001b[0;34m\u001b[0m\u001b[0;34m\u001b[0m\u001b[0m\n",
      "\u001b[0;32m/orange/adamginsburg/miniconda3/envs/python39/lib/python3.9/site-packages/dask/core.py\u001b[0m in \u001b[0;36m<genexpr>\u001b[0;34m(.0)\u001b[0m\n\u001b[1;32m    117\u001b[0m         \u001b[0;31m# temporaries by their reference count and can execute certain\u001b[0m\u001b[0;34m\u001b[0m\u001b[0;34m\u001b[0m\u001b[0m\n\u001b[1;32m    118\u001b[0m         \u001b[0;31m# operations in-place.\u001b[0m\u001b[0;34m\u001b[0m\u001b[0;34m\u001b[0m\u001b[0m\n\u001b[0;32m--> 119\u001b[0;31m         \u001b[0;32mreturn\u001b[0m \u001b[0mfunc\u001b[0m\u001b[0;34m(\u001b[0m\u001b[0;34m*\u001b[0m\u001b[0;34m(\u001b[0m\u001b[0m_execute_task\u001b[0m\u001b[0;34m(\u001b[0m\u001b[0ma\u001b[0m\u001b[0;34m,\u001b[0m \u001b[0mcache\u001b[0m\u001b[0;34m)\u001b[0m \u001b[0;32mfor\u001b[0m \u001b[0ma\u001b[0m \u001b[0;32min\u001b[0m \u001b[0margs\u001b[0m\u001b[0;34m)\u001b[0m\u001b[0;34m)\u001b[0m\u001b[0;34m\u001b[0m\u001b[0;34m\u001b[0m\u001b[0m\n\u001b[0m\u001b[1;32m    120\u001b[0m     \u001b[0;32melif\u001b[0m \u001b[0;32mnot\u001b[0m \u001b[0mishashable\u001b[0m\u001b[0;34m(\u001b[0m\u001b[0marg\u001b[0m\u001b[0;34m)\u001b[0m\u001b[0;34m:\u001b[0m\u001b[0;34m\u001b[0m\u001b[0;34m\u001b[0m\u001b[0m\n\u001b[1;32m    121\u001b[0m         \u001b[0;32mreturn\u001b[0m \u001b[0marg\u001b[0m\u001b[0;34m\u001b[0m\u001b[0;34m\u001b[0m\u001b[0m\n",
      "\u001b[0;32m/orange/adamginsburg/miniconda3/envs/python39/lib/python3.9/site-packages/dask/core.py\u001b[0m in \u001b[0;36m_execute_task\u001b[0;34m(arg, cache, dsk)\u001b[0m\n\u001b[1;32m    117\u001b[0m         \u001b[0;31m# temporaries by their reference count and can execute certain\u001b[0m\u001b[0;34m\u001b[0m\u001b[0;34m\u001b[0m\u001b[0m\n\u001b[1;32m    118\u001b[0m         \u001b[0;31m# operations in-place.\u001b[0m\u001b[0;34m\u001b[0m\u001b[0;34m\u001b[0m\u001b[0m\n\u001b[0;32m--> 119\u001b[0;31m         \u001b[0;32mreturn\u001b[0m \u001b[0mfunc\u001b[0m\u001b[0;34m(\u001b[0m\u001b[0;34m*\u001b[0m\u001b[0;34m(\u001b[0m\u001b[0m_execute_task\u001b[0m\u001b[0;34m(\u001b[0m\u001b[0ma\u001b[0m\u001b[0;34m,\u001b[0m \u001b[0mcache\u001b[0m\u001b[0;34m)\u001b[0m \u001b[0;32mfor\u001b[0m \u001b[0ma\u001b[0m \u001b[0;32min\u001b[0m \u001b[0margs\u001b[0m\u001b[0;34m)\u001b[0m\u001b[0;34m)\u001b[0m\u001b[0;34m\u001b[0m\u001b[0;34m\u001b[0m\u001b[0m\n\u001b[0m\u001b[1;32m    120\u001b[0m     \u001b[0;32melif\u001b[0m \u001b[0;32mnot\u001b[0m \u001b[0mishashable\u001b[0m\u001b[0;34m(\u001b[0m\u001b[0marg\u001b[0m\u001b[0;34m)\u001b[0m\u001b[0;34m:\u001b[0m\u001b[0;34m\u001b[0m\u001b[0;34m\u001b[0m\u001b[0m\n\u001b[1;32m    121\u001b[0m         \u001b[0;32mreturn\u001b[0m \u001b[0marg\u001b[0m\u001b[0;34m\u001b[0m\u001b[0;34m\u001b[0m\u001b[0m\n",
      "\u001b[0;32m/orange/adamginsburg/miniconda3/envs/python39/lib/python3.9/site-packages/dask/optimization.py\u001b[0m in \u001b[0;36m__call__\u001b[0;34m(self, *args)\u001b[0m\n\u001b[1;32m    967\u001b[0m         \u001b[0;32mif\u001b[0m \u001b[0;32mnot\u001b[0m \u001b[0mlen\u001b[0m\u001b[0;34m(\u001b[0m\u001b[0margs\u001b[0m\u001b[0;34m)\u001b[0m \u001b[0;34m==\u001b[0m \u001b[0mlen\u001b[0m\u001b[0;34m(\u001b[0m\u001b[0mself\u001b[0m\u001b[0;34m.\u001b[0m\u001b[0minkeys\u001b[0m\u001b[0;34m)\u001b[0m\u001b[0;34m:\u001b[0m\u001b[0;34m\u001b[0m\u001b[0;34m\u001b[0m\u001b[0m\n\u001b[1;32m    968\u001b[0m             \u001b[0;32mraise\u001b[0m \u001b[0mValueError\u001b[0m\u001b[0;34m(\u001b[0m\u001b[0;34m\"Expected %d args, got %d\"\u001b[0m \u001b[0;34m%\u001b[0m \u001b[0;34m(\u001b[0m\u001b[0mlen\u001b[0m\u001b[0;34m(\u001b[0m\u001b[0mself\u001b[0m\u001b[0;34m.\u001b[0m\u001b[0minkeys\u001b[0m\u001b[0;34m)\u001b[0m\u001b[0;34m,\u001b[0m \u001b[0mlen\u001b[0m\u001b[0;34m(\u001b[0m\u001b[0margs\u001b[0m\u001b[0;34m)\u001b[0m\u001b[0;34m)\u001b[0m\u001b[0;34m)\u001b[0m\u001b[0;34m\u001b[0m\u001b[0;34m\u001b[0m\u001b[0m\n\u001b[0;32m--> 969\u001b[0;31m         \u001b[0;32mreturn\u001b[0m \u001b[0mcore\u001b[0m\u001b[0;34m.\u001b[0m\u001b[0mget\u001b[0m\u001b[0;34m(\u001b[0m\u001b[0mself\u001b[0m\u001b[0;34m.\u001b[0m\u001b[0mdsk\u001b[0m\u001b[0;34m,\u001b[0m \u001b[0mself\u001b[0m\u001b[0;34m.\u001b[0m\u001b[0moutkey\u001b[0m\u001b[0;34m,\u001b[0m \u001b[0mdict\u001b[0m\u001b[0;34m(\u001b[0m\u001b[0mzip\u001b[0m\u001b[0;34m(\u001b[0m\u001b[0mself\u001b[0m\u001b[0;34m.\u001b[0m\u001b[0minkeys\u001b[0m\u001b[0;34m,\u001b[0m \u001b[0margs\u001b[0m\u001b[0;34m)\u001b[0m\u001b[0;34m)\u001b[0m\u001b[0;34m)\u001b[0m\u001b[0;34m\u001b[0m\u001b[0;34m\u001b[0m\u001b[0m\n\u001b[0m\u001b[1;32m    970\u001b[0m \u001b[0;34m\u001b[0m\u001b[0m\n\u001b[1;32m    971\u001b[0m     \u001b[0;32mdef\u001b[0m \u001b[0m__reduce__\u001b[0m\u001b[0;34m(\u001b[0m\u001b[0mself\u001b[0m\u001b[0;34m)\u001b[0m\u001b[0;34m:\u001b[0m\u001b[0;34m\u001b[0m\u001b[0;34m\u001b[0m\u001b[0m\n",
      "\u001b[0;32m/orange/adamginsburg/miniconda3/envs/python39/lib/python3.9/site-packages/dask/core.py\u001b[0m in \u001b[0;36mget\u001b[0;34m(dsk, out, cache)\u001b[0m\n\u001b[1;32m    147\u001b[0m     \u001b[0;32mfor\u001b[0m \u001b[0mkey\u001b[0m \u001b[0;32min\u001b[0m \u001b[0mtoposort\u001b[0m\u001b[0;34m(\u001b[0m\u001b[0mdsk\u001b[0m\u001b[0;34m)\u001b[0m\u001b[0;34m:\u001b[0m\u001b[0;34m\u001b[0m\u001b[0;34m\u001b[0m\u001b[0m\n\u001b[1;32m    148\u001b[0m         \u001b[0mtask\u001b[0m \u001b[0;34m=\u001b[0m \u001b[0mdsk\u001b[0m\u001b[0;34m[\u001b[0m\u001b[0mkey\u001b[0m\u001b[0;34m]\u001b[0m\u001b[0;34m\u001b[0m\u001b[0;34m\u001b[0m\u001b[0m\n\u001b[0;32m--> 149\u001b[0;31m         \u001b[0mresult\u001b[0m \u001b[0;34m=\u001b[0m \u001b[0m_execute_task\u001b[0m\u001b[0;34m(\u001b[0m\u001b[0mtask\u001b[0m\u001b[0;34m,\u001b[0m \u001b[0mcache\u001b[0m\u001b[0;34m)\u001b[0m\u001b[0;34m\u001b[0m\u001b[0;34m\u001b[0m\u001b[0m\n\u001b[0m\u001b[1;32m    150\u001b[0m         \u001b[0mcache\u001b[0m\u001b[0;34m[\u001b[0m\u001b[0mkey\u001b[0m\u001b[0;34m]\u001b[0m \u001b[0;34m=\u001b[0m \u001b[0mresult\u001b[0m\u001b[0;34m\u001b[0m\u001b[0;34m\u001b[0m\u001b[0m\n\u001b[1;32m    151\u001b[0m     \u001b[0mresult\u001b[0m \u001b[0;34m=\u001b[0m \u001b[0m_execute_task\u001b[0m\u001b[0;34m(\u001b[0m\u001b[0mout\u001b[0m\u001b[0;34m,\u001b[0m \u001b[0mcache\u001b[0m\u001b[0;34m)\u001b[0m\u001b[0;34m\u001b[0m\u001b[0;34m\u001b[0m\u001b[0m\n",
      "\u001b[0;32m/orange/adamginsburg/miniconda3/envs/python39/lib/python3.9/site-packages/dask/core.py\u001b[0m in \u001b[0;36m_execute_task\u001b[0;34m(arg, cache, dsk)\u001b[0m\n\u001b[1;32m    117\u001b[0m         \u001b[0;31m# temporaries by their reference count and can execute certain\u001b[0m\u001b[0;34m\u001b[0m\u001b[0;34m\u001b[0m\u001b[0m\n\u001b[1;32m    118\u001b[0m         \u001b[0;31m# operations in-place.\u001b[0m\u001b[0;34m\u001b[0m\u001b[0;34m\u001b[0m\u001b[0m\n\u001b[0;32m--> 119\u001b[0;31m         \u001b[0;32mreturn\u001b[0m \u001b[0mfunc\u001b[0m\u001b[0;34m(\u001b[0m\u001b[0;34m*\u001b[0m\u001b[0;34m(\u001b[0m\u001b[0m_execute_task\u001b[0m\u001b[0;34m(\u001b[0m\u001b[0ma\u001b[0m\u001b[0;34m,\u001b[0m \u001b[0mcache\u001b[0m\u001b[0;34m)\u001b[0m \u001b[0;32mfor\u001b[0m \u001b[0ma\u001b[0m \u001b[0;32min\u001b[0m \u001b[0margs\u001b[0m\u001b[0;34m)\u001b[0m\u001b[0;34m)\u001b[0m\u001b[0;34m\u001b[0m\u001b[0;34m\u001b[0m\u001b[0m\n\u001b[0m\u001b[1;32m    120\u001b[0m     \u001b[0;32melif\u001b[0m \u001b[0;32mnot\u001b[0m \u001b[0mishashable\u001b[0m\u001b[0;34m(\u001b[0m\u001b[0marg\u001b[0m\u001b[0;34m)\u001b[0m\u001b[0;34m:\u001b[0m\u001b[0;34m\u001b[0m\u001b[0;34m\u001b[0m\u001b[0m\n\u001b[1;32m    121\u001b[0m         \u001b[0;32mreturn\u001b[0m \u001b[0marg\u001b[0m\u001b[0;34m\u001b[0m\u001b[0;34m\u001b[0m\u001b[0m\n",
      "\u001b[0;32m/blue/adamginsburg/adamginsburg/repos/spectral-cube/spectral_cube/dask_spectral_cube.py\u001b[0m in \u001b[0;36mconvfunc\u001b[0;34m(img, beam, **kwargs)\u001b[0m\n\u001b[1;32m   1546\u001b[0m \u001b[0;34m\u001b[0m\u001b[0m\n\u001b[1;32m   1547\u001b[0m                         \u001b[0;32mif\u001b[0m \u001b[0mneeds_beam_ratio\u001b[0m\u001b[0;34m:\u001b[0m\u001b[0;34m\u001b[0m\u001b[0;34m\u001b[0m\u001b[0m\n\u001b[0;32m-> 1548\u001b[0;31m                             \u001b[0mout\u001b[0m\u001b[0;34m[\u001b[0m\u001b[0mindex\u001b[0m\u001b[0;34m]\u001b[0m \u001b[0;34m*=\u001b[0m \u001b[0mbeam_ratio_factors\u001b[0m\u001b[0;34m[\u001b[0m\u001b[0mindex\u001b[0m\u001b[0;34m]\u001b[0m\u001b[0;34m\u001b[0m\u001b[0;34m\u001b[0m\u001b[0m\n\u001b[0m\u001b[1;32m   1549\u001b[0m \u001b[0;34m\u001b[0m\u001b[0m\n\u001b[1;32m   1550\u001b[0m                 \u001b[0;32mreturn\u001b[0m \u001b[0mout\u001b[0m\u001b[0;34m\u001b[0m\u001b[0;34m\u001b[0m\u001b[0m\n",
      "\u001b[0;31mTypeError\u001b[0m: ufunc 'multiply' output (typecode 'O') could not be coerced to provided output parameter (typecode 'f') according to the casting rule ''same_kind''"
     ]
    }
   ],
   "source": [
    "for fn in flist:\n",
    "    for rr,regn in ((reg3, 'co3'), (reg, 'co1'), (reg2, 'co2')):\n",
    "        outfile = fn.replace(\"_small\",f\"_{regn}_smaller\")\n",
    "        if not os.path.exists(outfile) or (os.path.exists(outfile) and SpectralCube.read(outfile).unit != u.K):\n",
    "            cube = SpectralCube.read(fn, use_dask=True).subcube_from_regions(rr)\n",
    "            cube.allow_huge_operations=True\n",
    "            with cube.use_dask_scheduler('threads', num_workers=8):\n",
    "                cb = cube.beams.common_beam(max_iter=20, max_epsilon=0.01)\n",
    "                scube = cube.convolve_to(cb, save_to_tmp_dir=True)\n",
    "            scube.allow_huge_operations = True\n",
    "            scube.to(u.K).write(outfile, overwrite=True)"
   ]
  },
  {
   "cell_type": "code",
   "execution_count": null,
   "id": "fifty-poster",
   "metadata": {},
   "outputs": [],
   "source": [
    "regn = \"co1\"\n",
    "# don't need to subcube b/c reg = cutout = co1\n",
    "cubes = [SpectralCube.read(fn, use_dask=True)#.subcube_from_regions(reg3)\n",
    "         for fn in (glob.glob(f'G351.77-0.54.config8.spw[0-3].robust0.5.image_{regn}_smaller.fits'))]\n",
    "for ii,cube in enumerate(cubes):\n",
    "    # continuum subtract\n",
    "    with cube.use_dask_scheduler('threads', num_workers=8):\n",
    "        cube.allow_huge_operations = True\n",
    "        cubes[ii] = cube - cube.percentile(25, axis=0)\n",
    "cubes"
   ]
  },
  {
   "cell_type": "code",
   "execution_count": null,
   "id": "earlier-school",
   "metadata": {},
   "outputs": [],
   "source": [
    "# only needed for VRSCs\n",
    "if hasattr(cubes[0], 'beams'):\n",
    "    beams = radio_beam.Beams(beams=[cube.beams.common_beam(max_iter=20, max_epsilon=0.01) for cube in cubes])\n",
    "    cb=beams.common_beam()\n",
    "else:\n",
    "    beams = radio_beam.Beams(beams=[cube.beam for cube in cubes])\n",
    "    cb=beams.common_beam()"
   ]
  },
  {
   "cell_type": "code",
   "execution_count": null,
   "id": "necessary-emission",
   "metadata": {},
   "outputs": [],
   "source": [
    "linelist = np.concatenate([data['Freq'][(data['vu'] <= 3) &\n",
    "                                          np.any([((data['Freq'].quantity > cube.spectral_extrema[0]) &\n",
    "                                                   (data['Freq'].quantity < cube.spectral_extrema[1]))\n",
    "                                                 for cube in cubes],\n",
    "                                                 axis=0)].quantity\n",
    "                             for data in nacltables])\n",
    "linenames = np.concatenate( [data['Species'][(data['vu'] <= 3) &\n",
    "                                          np.any([((data['Freq'].quantity > cube.spectral_extrema[0]) &\n",
    "                                                   (data['Freq'].quantity < cube.spectral_extrema[1]))\n",
    "                                                 for cube in cubes],\n",
    "                                                 axis=0)]\n",
    "                             for data in nacltables] )\n",
    "(linelist, linenames)"
   ]
  },
  {
   "cell_type": "code",
   "execution_count": null,
   "id": "underlying-hawaii",
   "metadata": {},
   "outputs": [],
   "source": [
    "from astropy import log\n",
    "log.setLevel('INFO')"
   ]
  },
  {
   "cell_type": "code",
   "execution_count": null,
   "id": "cheap-bradford",
   "metadata": {},
   "outputs": [],
   "source": [
    "#log.setLevel('DEBUG')\n",
    "vcen = -3.6 * u.km/u.s # from Patricio\n",
    "stack, cutouts = stack_cube(cubes,\n",
    "                   linelist=linelist,\n",
    "                   vmin=vcen-25*u.km/u.s,\n",
    "                   vmax=vcen+25*u.km/u.s,\n",
    "                   average=np.nanmean,\n",
    "                   convolve_beam=cb,\n",
    "                   return_cutouts=True)\n",
    "#log.setLevel('INFO')\n",
    "stack.to(u.K).write('NaCl_v_le_3_stackcube.fits', overwrite=True)"
   ]
  },
  {
   "cell_type": "code",
   "execution_count": null,
   "id": "studied-hawaiian",
   "metadata": {},
   "outputs": [],
   "source": [
    "stackc = SpectralCube.read('NaCl_v_le_3_stackcube.fits')\n",
    "stackc"
   ]
  },
  {
   "cell_type": "code",
   "execution_count": null,
   "id": "14eff906-d5f1-46a4-89b8-64cbdaab1797",
   "metadata": {},
   "outputs": [],
   "source": [
    "jtok = stackc.beam.jtok(232.6867*u.GHz)"
   ]
  },
  {
   "cell_type": "code",
   "execution_count": null,
   "id": "2aa2b5c3-e6c5-4f4e-865d-14a2c5bf8667",
   "metadata": {},
   "outputs": [],
   "source": [
    "232.6867*(1+3.6*u.km/u.s/constants.c).decompose()"
   ]
  },
  {
   "cell_type": "code",
   "execution_count": null,
   "id": "071b4fd3-415d-4c5b-99b5-293a39e13d16",
   "metadata": {},
   "outputs": [],
   "source": [
    "pl.rcParams['image.origin'] = 'lower'"
   ]
  },
  {
   "cell_type": "code",
   "execution_count": null,
   "id": "5e13a272-552b-41ee-a896-f2c897cb5bbb",
   "metadata": {
    "jp-MarkdownHeadingCollapsed": true,
    "tags": []
   },
   "outputs": [],
   "source": [
    "# try creating a vmap based on another line (water)\n",
    "restval = 232.6867*u.GHz # 'H2Ov2=1_5(5,0)-6(4,3)': \n",
    "cube = [c for c in cubes if (c.spectral_extrema[0] < restval) & (c.spectral_extrema[1] > restval)][0]\n",
    "print(cube)\n",
    "scube = (cube.subcube_from_regions(reg)\n",
    "         .with_spectral_unit(u.km/u.s,\n",
    "                                                          velocity_convention='radio',\n",
    "                                                          rest_value=restval)\n",
    "         .spectral_slab(-20*u.km/u.s+vcen, 20*u.km/u.s+vcen))\n",
    "print(scube)\n",
    "pl.figure(figsize=(14,5))\n",
    "pl.subplot(1,3,1)\n",
    "m0 = scube.moment0()\n",
    "m0.quicklook()\n",
    "pl.title(\"m0\")\n",
    "\n",
    "pl.subplot(1,3,2)\n",
    "mx = scube.max(axis=0)\n",
    "mx.quicklook()\n",
    "pl.title(\"mx\")\n",
    "pl.colorbar()\n",
    "pl.subplot(1,3,3)\n",
    "msk = mx > 0.04*jtok\n",
    "#msk = scipy.ndimage.binary_erosion(msk, iterations=1)\n",
    "msk = scipy.ndimage.binary_dilation(msk, iterations=14)\n",
    "pl.imshow(msk, interpolation='none', origin='lower')\n",
    "pl.title('mask')\n",
    "pl.tight_layout()\n",
    "pl.figure()\n",
    "\n",
    "\n",
    "m1 = scube.with_mask(msk).with_mask(scube > 0.0001*jtok).moment1()\n",
    "pl.figure(figsize=(14,6))\n",
    "ax1 = pl.subplot(1,2,1)\n",
    "im = ax1.imshow(m1.value, vmin=-8, vmax=2)\n",
    "pl.colorbar(mappable=im)\n",
    "mxv = scube.with_mask(msk).argmax_world(axis=0)\n",
    "pl.subplot(1,2,2)\n",
    "pl.imshow(mxv.value, vmin=-8, vmax=2)\n",
    "pl.colorbar()\n",
    "\n",
    "\n",
    "#vmap = m1.hdu\n",
    "# the rest value selected above was just the line center; we need to assume it's really 32 km/s off\n",
    "#vmap.data = vmap.data"
   ]
  },
  {
   "cell_type": "code",
   "execution_count": null,
   "id": "7c4df669-f91e-43d0-baf8-172c1657726e",
   "metadata": {},
   "outputs": [],
   "source": []
  },
  {
   "cell_type": "raw",
   "id": "67ef495a-31f1-4bbc-b8cf-0a53a7354c99",
   "metadata": {},
   "source": [
    "rm spectra/figures/color_labels_G351_54_stack.png"
   ]
  },
  {
   "cell_type": "code",
   "execution_count": null,
   "id": "59d9704a-6783-43b5-840d-9e31162445ce",
   "metadata": {
    "jp-MarkdownHeadingCollapsed": true,
    "tags": []
   },
   "outputs": [],
   "source": [
    "# try creating a vmap based on another line (SiS 12-11)\n",
    "restval = 217.81764400*u.GHz # '': \n",
    "cube = [c for c in cubes if (c.spectral_extrema[0] < restval) & (c.spectral_extrema[1] > restval)][0]\n",
    "print(cube)\n",
    "scube = (cube.subcube_from_regions(reg)\n",
    "         .with_spectral_unit(u.km/u.s,\n",
    "                             velocity_convention='radio',\n",
    "                             rest_value=restval)\n",
    "         .spectral_slab(-20*u.km/u.s+vcen, 20*u.km/u.s+vcen))\n",
    "print(scube)\n",
    "pl.figure(figsize=(14,5))\n",
    "pl.subplot(1,3,1)\n",
    "m0 = scube.moment0()\n",
    "m0.quicklook()\n",
    "pl.title(\"m0\")\n",
    "\n",
    "pl.subplot(1,3,2)\n",
    "mx = scube.max(axis=0)\n",
    "mx.quicklook()\n",
    "pl.title(\"mx\")\n",
    "pl.colorbar()\n",
    "pl.subplot(1,3,3)\n",
    "msk = mx > 0.022*jtok\n",
    "#msk = scipy.ndimage.binary_erosion(msk, iterations=1)\n",
    "msk = scipy.ndimage.binary_dilation(msk, iterations=14)\n",
    "pl.imshow(msk, interpolation='none', origin='lower')\n",
    "pl.title('mask')\n",
    "pl.tight_layout()\n",
    "pl.figure()\n",
    "\n",
    "\n",
    "m1 = scube.with_mask(msk).with_mask(scube > 0.0001*jtok).moment1()\n",
    "pl.figure(figsize=(14,6))\n",
    "ax1 = pl.subplot(1,2,1)\n",
    "im = ax1.imshow(m1.value, vmin=-8, vmax=2)\n",
    "pl.colorbar(mappable=im)\n",
    "mxv = scube.with_mask(msk).argmax_world(axis=0)\n",
    "pl.subplot(1,2,2)\n",
    "pl.imshow(mxv.value, vmin=-8, vmax=2)\n",
    "pl.colorbar()\n",
    "\n",
    "\n",
    "vmap = m1.hdu"
   ]
  },
  {
   "cell_type": "code",
   "execution_count": null,
   "id": "primary-profit",
   "metadata": {},
   "outputs": [],
   "source": [
    "stackc = stackc.subcube_from_regions(reg)\n",
    "pl.figure(figsize=(14,5))\n",
    "pl.subplot(1,3,1)\n",
    "m0 = stackc.moment0()\n",
    "m0.quicklook()\n",
    "pl.title(\"m0\")\n",
    "\n",
    "pl.subplot(1,3,2)\n",
    "mx = stackc.max(axis=0)\n",
    "mx.quicklook()\n",
    "pl.title(\"mx\")\n",
    "pl.colorbar()\n",
    "pl.subplot(1,3,3)\n",
    "msk = mx > 0.0115*jtok\n",
    "msk = scipy.ndimage.binary_erosion(msk, iterations=1)\n",
    "msk = scipy.ndimage.binary_dilation(msk, iterations=15)\n",
    "pl.imshow(msk, interpolation='none', origin='lower')\n",
    "pl.title('mask')\n",
    "pl.tight_layout()\n",
    "pl.figure()\n",
    "\n",
    "\n",
    "m1 = stackc.with_mask(msk).with_mask(stackc > 0.0001*jtok).moment1()\n",
    "pl.figure(figsize=(14,6))\n",
    "ax1 = pl.subplot(1,2,1)\n",
    "im = ax1.imshow(m1.value, vmin=-8, vmax=2)\n",
    "pl.colorbar(mappable=im)\n",
    "mxv = stackc.with_mask(msk).argmax_world(axis=0)\n",
    "pl.subplot(1,2,2)\n",
    "pl.imshow(mxv.value, vmin=-8, vmax=2)\n",
    "pl.colorbar()\n",
    "\n",
    "\n",
    "#vmap = m1.hdu"
   ]
  },
  {
   "cell_type": "code",
   "execution_count": null,
   "id": "hindu-hepatitis",
   "metadata": {},
   "outputs": [],
   "source": [
    "import sys\n",
    "sys.path.append('/orange/adamginsburg/salt/code/')\n",
    "import imp, overplot_saltlines; imp.reload(overplot_saltlines)\n",
    "from overplot_saltlines import overplot_saltlines"
   ]
  },
  {
   "cell_type": "code",
   "execution_count": null,
   "id": "baking-nature",
   "metadata": {},
   "outputs": [],
   "source": [
    "spectra = []\n",
    "for ii,cube in enumerate(cubes):\n",
    "    cube.allow_huge_operations=True\n",
    "    sp = cube.subcube_from_regions(reg3).mean(axis=(1,2))\n",
    "    pysp = pyspeckit.Spectrum(data=sp, xarr=sp.spectral_axis, header=sp.header)\n",
    "    spectra.append(pysp)\n",
    "    pysp.specname = f'spw{ii+1}'"
   ]
  },
  {
   "cell_type": "code",
   "execution_count": null,
   "id": "judicial-meter",
   "metadata": {},
   "outputs": [],
   "source": [
    "mkdir -p spectra/figures"
   ]
  },
  {
   "cell_type": "code",
   "execution_count": null,
   "id": "physical-sister",
   "metadata": {},
   "outputs": [],
   "source": [
    "overplot_saltlines(spectra, vcen=vcen, savepath='spectra/figures', ymax=50, ymin=-5)"
   ]
  },
  {
   "cell_type": "code",
   "execution_count": null,
   "id": "alleged-service",
   "metadata": {},
   "outputs": [],
   "source": [
    "ls spectra/figures"
   ]
  },
  {
   "cell_type": "code",
   "execution_count": null,
   "id": "palestinian-shame",
   "metadata": {},
   "outputs": [],
   "source": [
    "from IPython.display import Image,display"
   ]
  },
  {
   "cell_type": "code",
   "execution_count": null,
   "id": "graphic-actress",
   "metadata": {},
   "outputs": [],
   "source": [
    "for fn in glob.glob('spectra/figures/color*png'):\n",
    "    display(Image(fn))"
   ]
  },
  {
   "cell_type": "code",
   "execution_count": null,
   "id": "latter-cattle",
   "metadata": {
    "tags": []
   },
   "outputs": [],
   "source": [
    "import glob\n",
    "import spectral_cube.analysis_utilities\n",
    "import reproject\n",
    "from tqdm.notebook import tqdm\n",
    "\n",
    "\n",
    "cbflist = (glob.glob('G351.77-0.54.config8.spw[0-3].robust0.5.image_co1_smaller.fits'))\n",
    "for fn in cbflist:\n",
    "    basename = os.path.split(fn)[-1].split(\".fits\")[0]\n",
    "    print(basename)\n",
    "    try:\n",
    "        cube = SpectralCube.read(fn, use_dask=True)\n",
    "    except Exception as ex:\n",
    "        print(ex)\n",
    "        continue\n",
    "    print(cube)\n",
    "    scube = cube.subcube_from_regions(reg3).to(u.K)\n",
    "    # continuum subtract before stacking\n",
    "    scube = scube - scube.percentile(25, axis=0)\n",
    "    #mx = scube.max(axis=0)\n",
    "    #msk = mx > 0.003*mx.unit\n",
    "    print(\"Mean spectrum\")\n",
    "    sp = scube.mean(axis=(1,2))\n",
    "    \n",
    "    sp.write(f'spectra/{fn.split(\"/\")[-1].replace(\".fits\",\"_meanspec.fits\")}', overwrite=True)\n",
    "\n",
    "\n",
    "    # reproject the velocity map into the cube's coordinate system\n",
    "    vmap_proj,_ = reproject.reproject_interp(vmap,\n",
    "                                             scube.wcs.celestial,\n",
    "                                             shape_out=scube.shape[1:])\n",
    "    vmap_proj = u.Quantity(vmap_proj, u.km/u.s)\n",
    "\n",
    "    # convert to km/s with arbitrary rest value so 0 km/s can be interpreted\n",
    "    if scube.spectral_axis.unit.is_equivalent(u.Hz):\n",
    "        scube = scube.with_spectral_unit(u.km/u.s, velocity_convention='radio', rest_value=scube.spectral_axis.mean())\n",
    "\n",
    "    print(\"Stacking\")\n",
    "    # perform the stacking!\n",
    "    stack = spectral_cube.analysis_utilities.stack_spectra(scube, vmap_proj,\n",
    "                                                           v0=0.0*u.km/u.s,\n",
    "                                                           #progressbar=tqdm,\n",
    "                                                           #num_cores=8\n",
    "                                                          )\n",
    "    fstack = stack.with_spectral_unit(u.GHz)\n",
    "\n",
    "    pl.suptitle(f\"{fn}\")\n",
    "    fstack.write(f'spectra/{basename}_stack.fits', overwrite=True)\n",
    "\n",
    "    pl.clf()\n",
    "    fstack.quicklook(filename=f'spectra/figures/{basename}_stack.pdf')\n",
    "    fstack.quicklook(filename=f'spectra/figures/{basename}_stack.png')\n",
    "    \n",
    "    \n",
    "    fig = pl.figure()\n",
    "    mappable = pl.subplot(1,2,1).imshow(mx.value, origin='lower', interpolation='none')\n",
    "    pl.colorbar(mappable)\n",
    "    pl.subplot(1,2,2)\n",
    "    pl.suptitle(fn)\n",
    "    sp.quicklook()"
   ]
  },
  {
   "cell_type": "code",
   "execution_count": null,
   "id": "naval-terror",
   "metadata": {},
   "outputs": [],
   "source": [
    "ls spectra"
   ]
  },
  {
   "cell_type": "code",
   "execution_count": null,
   "id": "technological-fishing",
   "metadata": {},
   "outputs": [],
   "source": [
    "stackspectra = []\n",
    "for ii,fn in enumerate(glob.glob('spectra/*_stack.fits')):\n",
    "    pysp = pyspeckit.Spectrum(fn)\n",
    "    basename = os.path.basename(fn)\n",
    "    spl = basename.split(\".\")\n",
    "    pysp.specname = f'{spl[0]}_{spl[4]}_stack'\n",
    "    stackspectra.append(pysp)"
   ]
  },
  {
   "cell_type": "code",
   "execution_count": null,
   "id": "certain-paintball",
   "metadata": {},
   "outputs": [],
   "source": [
    "overplot_saltlines(stackspectra, vcen=vcen, savepath='spectra/figures', ymax=50, ymin=-5)"
   ]
  },
  {
   "cell_type": "code",
   "execution_count": null,
   "id": "e2838f3c-ef94-4a54-b8c0-236d8127c738",
   "metadata": {},
   "outputs": [],
   "source": [
    "rm spectra/figures/color_labels_G351_image_co1_smaller_stack_stack.png"
   ]
  },
  {
   "cell_type": "code",
   "execution_count": null,
   "id": "bc05d0d8-d148-4cd6-8570-019423a080f1",
   "metadata": {},
   "outputs": [],
   "source": [
    "rm spectra/figures/color_labels_G351_54_stack.png"
   ]
  },
  {
   "cell_type": "code",
   "execution_count": null,
   "id": "decent-function",
   "metadata": {},
   "outputs": [],
   "source": [
    "ls spectra/figures/"
   ]
  },
  {
   "cell_type": "code",
   "execution_count": null,
   "id": "aware-pastor",
   "metadata": {},
   "outputs": [],
   "source": [
    "for fn in glob.glob('spectra/figures/color*stack.png'):\n",
    "    display(Image(fn))"
   ]
  },
  {
   "cell_type": "code",
   "execution_count": null,
   "id": "pacific-baltimore",
   "metadata": {},
   "outputs": [],
   "source": []
  },
  {
   "cell_type": "code",
   "execution_count": null,
   "id": "automated-nitrogen",
   "metadata": {},
   "outputs": [],
   "source": []
  }
 ],
 "metadata": {
  "kernelspec": {
   "display_name": "Py 3.9",
   "language": "python",
   "name": "python39"
  },
  "language_info": {
   "codemirror_mode": {
    "name": "ipython",
    "version": 3
   },
   "file_extension": ".py",
   "mimetype": "text/x-python",
   "name": "python",
   "nbconvert_exporter": "python",
   "pygments_lexer": "ipython3",
   "version": "3.9.7"
  }
 },
 "nbformat": 4,
 "nbformat_minor": 5
}
