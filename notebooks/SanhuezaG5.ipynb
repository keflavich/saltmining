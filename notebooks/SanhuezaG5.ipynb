{
 "cells": [
  {
   "cell_type": "code",
   "execution_count": 1,
   "id": "precious-sending",
   "metadata": {},
   "outputs": [
    {
     "name": "stdout",
     "output_type": "stream",
     "text": [
      "/orange/adamginsburg/salt/sanhueza/G5.89\n"
     ]
    }
   ],
   "source": [
    "cd /orange/adamginsburg/salt/sanhueza/G5.89/"
   ]
  },
  {
   "cell_type": "code",
   "execution_count": 2,
   "id": "common-ocean",
   "metadata": {},
   "outputs": [
    {
     "name": "stdout",
     "output_type": "stream",
     "text": [
      "edgeondisk.reg\n",
      "G5.89-0.37.config8.allchannels_avg.selfcal_0.5_hogbom.image.fits\n",
      "G5.89-0.37.config8.spw0.robust0.5.image_cb_small.fits\n",
      "G5.89-0.37.config8.spw0.robust0.5.image_small.fits\n",
      "G5.89-0.37.config8.spw1.robust0.5.image_cb_small.fits\n",
      "\u001b[0m\u001b[01;32mG5.89-0.37.config8.spw1.robust0.5.image_small.fits\u001b[0m*\n",
      "G5.89-0.37.config8.spw2.robust0.5.image_cb_small.fits\n",
      "G5.89-0.37.config8.spw2.robust0.5.image_small.fits\n",
      "G5.89-0.37.config8.spw3.robust0.5.image_cb_small.fits\n",
      "G5.89-0.37.config8.spw3.robust0.5.image_small.fits\n",
      "G5.89.zip\n",
      "ipython_log_2021-10-01.py\n",
      "NaCl_v_le_3_stackcube.fits\n",
      "\u001b[01;34mspectra\u001b[0m/\n"
     ]
    }
   ],
   "source": [
    "ls"
   ]
  },
  {
   "cell_type": "code",
   "execution_count": 3,
   "id": "latest-devon",
   "metadata": {},
   "outputs": [
    {
     "data": {
      "text/plain": [
       "<astropy.visualization.units.quantity_support.<locals>.MplQuantityConverter at 0x2ba436f19be0>"
      ]
     },
     "execution_count": 3,
     "metadata": {},
     "output_type": "execute_result"
    }
   ],
   "source": [
    "%matplotlib inline\n",
    "import pylab as pl\n",
    "from spectral_cube import SpectralCube\n",
    "from astropy import units as u\n",
    "from astropy.visualization import quantity_support\n",
    "quantity_support()"
   ]
  },
  {
   "cell_type": "code",
   "execution_count": 4,
   "id": "executive-infrared",
   "metadata": {},
   "outputs": [],
   "source": [
    "from astropy.table import Table\n",
    "from astropy import table"
   ]
  },
  {
   "cell_type": "code",
   "execution_count": 5,
   "id": "healthy-transition",
   "metadata": {},
   "outputs": [],
   "source": [
    "import pprint"
   ]
  },
  {
   "cell_type": "code",
   "execution_count": 6,
   "id": "transparent-nigeria",
   "metadata": {},
   "outputs": [],
   "source": [
    "import scipy, scipy.ndimage"
   ]
  },
  {
   "cell_type": "code",
   "execution_count": 7,
   "id": "coastal-rally",
   "metadata": {},
   "outputs": [
    {
     "name": "stderr",
     "output_type": "stream",
     "text": [
      "WARNING: Model is linear in parameters; consider using linear fitting methods. [astropy.modeling.fitting]\n",
      "WARNING: Model is linear in parameters; consider using linear fitting methods. [astropy.modeling.fitting]\n"
     ]
    }
   ],
   "source": [
    "import numpy as np\n",
    "import os\n",
    "import glob\n",
    "from astropy import constants, units as u, table, stats, coordinates, wcs, log, coordinates as coord\n",
    "import radio_beam\n",
    "import pyspeckit\n",
    "import pylab as pl\n",
    "from astroquery.splatalogue.utils import minimize_table as mt\n",
    "import sys\n",
    "sys.path.append('/orange/adamginsburg/salt/Orion_ALMA_2016.1.00165.S/analysis')\n",
    "import lines\n",
    "import paths\n",
    "from salt_tables import (salt_tables, salt_table_names, SO, SO2, HCl, sis_tables, AlCl, AlF, Al37Cl,\n",
    "                         NaF, AlO, AlOH, NaCN, CaS, CaO)"
   ]
  },
  {
   "cell_type": "code",
   "execution_count": 8,
   "id": "fuzzy-spectrum",
   "metadata": {},
   "outputs": [],
   "source": [
    "import regions\n",
    "from astropy import units as u, coordinates\n",
    "#reg = regions.Regions.read('big.reg')\n",
    "regsm = regions.Regions.read('edgeondisk.reg')\n",
    "#egvsm = regions.Regions.read('sourceAsmaller.reg')\n",
    "#regvvsm = regions.Regions.read('.reg')"
   ]
  },
  {
   "cell_type": "markdown",
   "id": "comparable-cancellation",
   "metadata": {},
   "source": [
    "# NaCl Stackl"
   ]
  },
  {
   "cell_type": "code",
   "execution_count": 9,
   "id": "thick-response",
   "metadata": {},
   "outputs": [],
   "source": [
    "from spectral_cube.analysis_utilities import stack_cube"
   ]
  },
  {
   "cell_type": "code",
   "execution_count": 10,
   "id": "forty-stockholm",
   "metadata": {
    "tags": []
   },
   "outputs": [],
   "source": [
    "nacltables = salt_tables[3:5]"
   ]
  },
  {
   "cell_type": "code",
   "execution_count": 11,
   "id": "unlike-member",
   "metadata": {},
   "outputs": [],
   "source": [
    "import spectral_cube.analysis_utilities\n",
    "import imp\n",
    "imp.reload(spectral_cube.analysis_utilities)\n",
    "from spectral_cube.analysis_utilities import stack_cube"
   ]
  },
  {
   "cell_type": "code",
   "execution_count": 12,
   "id": "aerial-testimony",
   "metadata": {},
   "outputs": [],
   "source": [
    "flist = sorted(glob.glob('G5.89-0.37.config8.spw[0-3].robust0.5.image_small.fits'))"
   ]
  },
  {
   "cell_type": "code",
   "execution_count": 13,
   "id": "roman-jacket",
   "metadata": {},
   "outputs": [],
   "source": [
    "for fn in flist:\n",
    "    outfile = fn.replace(\"_small\",\"_cb_small\")\n",
    "    if not os.path.exists(outfile):\n",
    "        cube = SpectralCube.read(fn, use_dask=True)#.subcube_from_regions(reg)\n",
    "        cube.allow_huge_operations=True\n",
    "        cb = cube.beams.common_beam(max_iter=20, max_epsilon=0.01)\n",
    "        scube = cube.convolve_to(cb)\n",
    "        scube.to(u.K).write(outfile, overwrite=True)"
   ]
  },
  {
   "cell_type": "code",
   "execution_count": 14,
   "id": "referenced-hazard",
   "metadata": {},
   "outputs": [
    {
     "name": "stderr",
     "output_type": "stream",
     "text": [
      "WARNING: PossiblySlowWarning: This function (<function BaseSpectralCube.to at 0x2ba436b318b0>) requires loading the entire cube into memory and may therefore be slow. [spectral_cube.utils]\n",
      "WARNING: PossiblySlowWarning: This function (<function BaseSpectralCube.to at 0x2ba436b318b0>) requires loading the entire cube into memory and may therefore be slow. [spectral_cube.utils]\n",
      "WARNING: PossiblySlowWarning: This function (<function BaseSpectralCube.to at 0x2ba436b318b0>) requires loading the entire cube into memory and may therefore be slow. [spectral_cube.utils]\n",
      "WARNING: PossiblySlowWarning: This function (<function BaseSpectralCube.to at 0x2ba436b318b0>) requires loading the entire cube into memory and may therefore be slow. [spectral_cube.utils]\n"
     ]
    },
    {
     "data": {
      "text/plain": [
       "[SpectralCube with shape=(1920, 49, 80) and unit=K:\n",
       "  n_x:     80  type_x: RA---SIN  unit_x: deg    range:   270.126048 deg:  270.126288 deg\n",
       "  n_y:     49  type_y: DEC--SIN  unit_y: deg    range:   -24.068077 deg:  -24.067944 deg\n",
       "  n_s:   1920  type_s: FREQ      unit_s: Hz     range: 233565132698.900 Hz:235439188519.174 Hz,\n",
       " SpectralCube with shape=(1920, 49, 80) and unit=K:\n",
       "  n_x:     80  type_x: RA---SIN  unit_x: deg    range:   270.126048 deg:  270.126288 deg\n",
       "  n_y:     49  type_y: DEC--SIN  unit_y: deg    range:   -24.068077 deg:  -24.067944 deg\n",
       "  n_s:   1920  type_s: FREQ      unit_s: Hz     range: 231065109664.600 Hz:232939165484.874 Hz,\n",
       " SpectralCube with shape=(1920, 49, 80) and unit=K:\n",
       "  n_x:     80  type_x: RA---SIN  unit_x: deg    range:   270.126048 deg:  270.126288 deg\n",
       "  n_y:     49  type_y: DEC--SIN  unit_y: deg    range:   -24.068077 deg:  -24.067944 deg\n",
       "  n_s:   1920  type_s: FREQ      unit_s: Hz     range: 216864978830.100 Hz:218739034650.374 Hz,\n",
       " SpectralCube with shape=(3840, 49, 80) and unit=K:\n",
       "  n_x:     80  type_x: RA---SIN  unit_x: deg    range:   270.126048 deg:  270.126288 deg\n",
       "  n_y:     49  type_y: DEC--SIN  unit_y: deg    range:   -24.068077 deg:  -24.067944 deg\n",
       "  n_s:   3840  type_s: FREQ      unit_s: Hz     range: 219064754955.400 Hz:220939299065.478 Hz]"
      ]
     },
     "execution_count": 14,
     "metadata": {},
     "output_type": "execute_result"
    }
   ],
   "source": [
    "cbflist = sorted((glob.glob('G5.89-0.37.config8.spw[0-3].robust0.5.image_cb_small.fits')))\n",
    "cubes = [SpectralCube.read(fn).subcube_from_regions(regsm).to(u.K) for fn in cbflist]\n",
    "cubes"
   ]
  },
  {
   "cell_type": "code",
   "execution_count": 15,
   "id": "permanent-arrest",
   "metadata": {},
   "outputs": [],
   "source": [
    "# only needed for VRSCs\n",
    "if hasattr(cubes[0], 'beams'):\n",
    "    beams = radio_beam.Beams(beams=[cube.beams.common_beam(max_iter=20, max_epsilon=0.01) for cube in cubes])\n",
    "    cb=beams.common_beam()\n",
    "else:\n",
    "    cb = cubes[0].beam"
   ]
  },
  {
   "cell_type": "code",
   "execution_count": 16,
   "id": "faced-shark",
   "metadata": {},
   "outputs": [
    {
     "data": {
      "text/plain": [
       "(<Quantity [217.980231, 219.614936, 232.509977, 234.251912] GHz>,\n",
       " array(['23Na-35Clv=2-2 J=17-16', '23Na-35Clv=1-1 J=17-16',\n",
       "        '23Na-35Clv=1-1 J=18-17', '23Na-35Clv=0-0 J=18-17'], dtype='<U24'))"
      ]
     },
     "execution_count": 16,
     "metadata": {},
     "output_type": "execute_result"
    }
   ],
   "source": [
    "linelist = np.concatenate([data['Freq'][(data['vu'] <= 3) &\n",
    "                                          np.any([((data['Freq'].quantity > cube.spectral_extrema[0]) &\n",
    "                                                   (data['Freq'].quantity < cube.spectral_extrema[1]))\n",
    "                                                 for cube in cubes],\n",
    "                                                 axis=0)].quantity\n",
    "                             for data in nacltables])\n",
    "linenames = np.concatenate( [data['Species'][(data['vu'] <= 3) &\n",
    "                                          np.any([((data['Freq'].quantity > cube.spectral_extrema[0]) &\n",
    "                                                   (data['Freq'].quantity < cube.spectral_extrema[1]))\n",
    "                                                 for cube in cubes],\n",
    "                                                 axis=0)]\n",
    "                             for data in nacltables] )\n",
    "(linelist, linenames)"
   ]
  },
  {
   "cell_type": "code",
   "execution_count": 17,
   "id": "crucial-nigeria",
   "metadata": {},
   "outputs": [],
   "source": [
    "from astropy import log\n",
    "log.setLevel('INFO')"
   ]
  },
  {
   "cell_type": "code",
   "execution_count": 18,
   "id": "twenty-pulse",
   "metadata": {},
   "outputs": [
    {
     "data": {
      "text/plain": [
       "[SpectralCube with shape=(1920, 49, 80) and unit=K:\n",
       "  n_x:     80  type_x: RA---SIN  unit_x: deg    range:   270.126048 deg:  270.126288 deg\n",
       "  n_y:     49  type_y: DEC--SIN  unit_y: deg    range:   -24.068077 deg:  -24.067944 deg\n",
       "  n_s:   1920  type_s: FREQ      unit_s: Hz     range: 233565132698.900 Hz:235439188519.174 Hz,\n",
       " SpectralCube with shape=(1920, 49, 80) and unit=K:\n",
       "  n_x:     80  type_x: RA---SIN  unit_x: deg    range:   270.126048 deg:  270.126288 deg\n",
       "  n_y:     49  type_y: DEC--SIN  unit_y: deg    range:   -24.068077 deg:  -24.067944 deg\n",
       "  n_s:   1920  type_s: FREQ      unit_s: Hz     range: 231065109664.600 Hz:232939165484.874 Hz,\n",
       " SpectralCube with shape=(1920, 49, 80) and unit=K:\n",
       "  n_x:     80  type_x: RA---SIN  unit_x: deg    range:   270.126048 deg:  270.126288 deg\n",
       "  n_y:     49  type_y: DEC--SIN  unit_y: deg    range:   -24.068077 deg:  -24.067944 deg\n",
       "  n_s:   1920  type_s: FREQ      unit_s: Hz     range: 216864978830.100 Hz:218739034650.374 Hz,\n",
       " SpectralCube with shape=(3840, 49, 80) and unit=K:\n",
       "  n_x:     80  type_x: RA---SIN  unit_x: deg    range:   270.126048 deg:  270.126288 deg\n",
       "  n_y:     49  type_y: DEC--SIN  unit_y: deg    range:   -24.068077 deg:  -24.067944 deg\n",
       "  n_s:   3840  type_s: FREQ      unit_s: Hz     range: 219064754955.400 Hz:220939299065.478 Hz]"
      ]
     },
     "execution_count": 18,
     "metadata": {},
     "output_type": "execute_result"
    }
   ],
   "source": [
    "cubes"
   ]
  },
  {
   "cell_type": "code",
   "execution_count": 20,
   "id": "spare-plastic",
   "metadata": {},
   "outputs": [
    {
     "name": "stderr",
     "output_type": "stream",
     "text": [
      "WARNING: SliceWarning: The maxmimum and minimum spectral channel in the spectralslab are identical; this indicates that one or both are likely incorrect and/or out of range. [spectral_cube.spectral_cube]\n",
      "WARNING: SliceWarning: The maxmimum and minimum spectral channel in the spectralslab are identical; this indicates that one or both are likely incorrect and/or out of range. [spectral_cube.spectral_cube]\n",
      "WARNING: SliceWarning: The maxmimum and minimum spectral channel in the spectralslab are identical; this indicates that one or both are likely incorrect and/or out of range. [spectral_cube.spectral_cube]\n",
      "WARNING: SliceWarning: The maxmimum and minimum spectral channel in the spectralslab are identical; this indicates that one or both are likely incorrect and/or out of range. [spectral_cube.spectral_cube]\n",
      "WARNING: SliceWarning: The maxmimum and minimum spectral channel in the spectralslab are identical; this indicates that one or both are likely incorrect and/or out of range. [spectral_cube.spectral_cube]\n",
      "WARNING: SliceWarning: The maxmimum and minimum spectral channel in the spectralslab are identical; this indicates that one or both are likely incorrect and/or out of range. [spectral_cube.spectral_cube]\n",
      "WARNING: SliceWarning: The maxmimum and minimum spectral channel in the spectralslab are identical; this indicates that one or both are likely incorrect and/or out of range. [spectral_cube.spectral_cube]\n",
      "WARNING: SliceWarning: The maxmimum and minimum spectral channel in the spectralslab are identical; this indicates that one or both are likely incorrect and/or out of range. [spectral_cube.spectral_cube]\n",
      "WARNING: SliceWarning: The maxmimum and minimum spectral channel in the spectralslab are identical; this indicates that one or both are likely incorrect and/or out of range. [spectral_cube.spectral_cube]\n",
      "WARNING: SliceWarning: The maxmimum and minimum spectral channel in the spectralslab are identical; this indicates that one or both are likely incorrect and/or out of range. [spectral_cube.spectral_cube]\n",
      "WARNING: SliceWarning: The maxmimum and minimum spectral channel in the spectralslab are identical; this indicates that one or both are likely incorrect and/or out of range. [spectral_cube.spectral_cube]\n",
      "WARNING: SliceWarning: The maxmimum and minimum spectral channel in the spectralslab are identical; this indicates that one or both are likely incorrect and/or out of range. [spectral_cube.spectral_cube]\n",
      "WARNING: SmoothingWarning: Input grid has too small a spacing. The data should be smoothed prior to resampling. [spectral_cube.spectral_cube]\n",
      "Mean of empty slice\n"
     ]
    }
   ],
   "source": [
    "#log.setLevel('DEBUG')\n",
    "vcen = 10 * u.km/u.s # from Patricio\n",
    "stack, cutouts = stack_cube(cubes,\n",
    "                   linelist=linelist,\n",
    "                   vmin=vcen-30*u.km/u.s,\n",
    "                   vmax=vcen+30*u.km/u.s,\n",
    "                   average=np.nanmean,\n",
    "                   convolve_beam=cb,\n",
    "                   return_cutouts=True)\n",
    "#log.setLevel('INFO')\n",
    "stack.write('NaCl_v_le_3_stackcube.fits', overwrite=True)"
   ]
  },
  {
   "cell_type": "code",
   "execution_count": null,
   "id": "adaptive-latino",
   "metadata": {},
   "outputs": [],
   "source": [
    "stackc = SpectralCube.read('NaCl_v_le_3_stackcube.fits')\n",
    "stackc"
   ]
  },
  {
   "cell_type": "code",
   "execution_count": null,
   "id": "90c21e1e-93aa-438e-ae3e-a7083d8accfa",
   "metadata": {},
   "outputs": [],
   "source": [
    "jtok = stackc.beam.jtok(217*u.GHz)"
   ]
  },
  {
   "cell_type": "code",
   "execution_count": null,
   "id": "unlike-giant",
   "metadata": {},
   "outputs": [],
   "source": [
    "stackc = stackc.subcube_from_regions(regsm)\n",
    "pl.figure(figsize=(14,5))\n",
    "pl.subplot(1,3,1)\n",
    "m0 = stackc.moment0()\n",
    "m0.quicklook()\n",
    "pl.title(\"m0\")\n",
    "\n",
    "pl.subplot(1,3,2)\n",
    "mx = stackc.max(axis=0)\n",
    "mx.quicklook()\n",
    "pl.title(\"mx\")\n",
    "pl.colorbar()\n",
    "pl.subplot(1,3,3)\n",
    "msk = mx > 0.00016*jtok\n",
    "msk = scipy.ndimage.binary_erosion(msk, iterations=1)\n",
    "msk = scipy.ndimage.binary_dilation(msk, iterations=5)\n",
    "pl.imshow(msk, interpolation='none', origin='lower')\n",
    "pl.tight_layout()\n",
    "pl.figure()\n",
    "\n",
    "\n",
    "m1 = stackc.with_mask(msk).with_mask(stackc > 0.0005*jtok).moment1()\n",
    "pl.figure(figsize=(14,6))\n",
    "ax1 = pl.subplot(1,2,1)\n",
    "im = ax1.imshow(m1.value, vmin=-10, vmax=50)\n",
    "pl.colorbar(mappable=im)\n",
    "mxv = stackc.with_mask(msk).argmax_world(axis=0)\n",
    "pl.subplot(1,2,2)\n",
    "pl.imshow(mxv.value, vmin=-10, vmax=50)\n",
    "pl.colorbar()\n",
    "\n",
    "\n",
    "# use water\n",
    "# vmap = mxv.hdu"
   ]
  },
  {
   "cell_type": "code",
   "execution_count": null,
   "id": "herbal-place",
   "metadata": {},
   "outputs": [],
   "source": [
    "# try creating a vmap based on another line\n",
    "restval = 232.3929*u.GHz \n",
    "restval = 232.6867*u.GHz # 'H2Ov2=1_5(5,0)-6(4,3)': \n",
    "cube = [c for c in cubes if (c.spectral_extrema[0] < restval) & (c.spectral_extrema[1] > restval)][0]\n",
    "\n",
    "scube = cube.subcube_from_regions(regsm).with_spectral_unit(u.km/u.s, velocity_convention='radio', rest_value=restval).spectral_slab(-20*u.km/u.s, 20*u.km/u.s)\n",
    "pl.figure(figsize=(14,5))\n",
    "pl.subplot(1,3,1)\n",
    "m0 = scube.moment0()\n",
    "m0.quicklook()\n",
    "pl.title(\"m0\")\n",
    "\n",
    "pl.subplot(1,3,2)\n",
    "mx = scube.max(axis=0)\n",
    "mx.quicklook()\n",
    "pl.title(\"mx\")\n",
    "pl.colorbar()\n",
    "pl.subplot(1,3,3)\n",
    "msk = mx > 0.00016*jtok\n",
    "msk = scipy.ndimage.binary_erosion(msk, iterations=1)\n",
    "msk = scipy.ndimage.binary_dilation(msk, iterations=5)\n",
    "pl.imshow(msk, interpolation='none', origin='lower')\n",
    "pl.tight_layout()\n",
    "pl.figure()\n",
    "\n",
    "\n",
    "m1 = scube.with_mask(msk).with_mask(scube > 0.0005*jtok).moment1()\n",
    "pl.figure(figsize=(14,6))\n",
    "ax1 = pl.subplot(1,2,1)\n",
    "im = ax1.imshow(m1.value, vmin=-10, vmax=10)\n",
    "pl.colorbar(mappable=im)\n",
    "mxv = scube.with_mask(msk).argmax_world(axis=0)\n",
    "pl.subplot(1,2,2)\n",
    "pl.imshow(mxv.value, vmin=-10, vmax=10)\n",
    "pl.colorbar()\n",
    "\n",
    "\n",
    "vmap = mxv.hdu\n",
    "vmap = m1.hdu\n",
    "# the rest value selected above was just the line center; we need to assume it's really 35 km/s off\n",
    "#vmap.data = vmap.data + vcen.value"
   ]
  },
  {
   "cell_type": "code",
   "execution_count": null,
   "id": "vietnamese-federal",
   "metadata": {},
   "outputs": [],
   "source": [
    "import sys\n",
    "sys.path.append('/orange/adamginsburg/salt/code/')\n",
    "from overplot_saltlines import overplot_saltlines"
   ]
  },
  {
   "cell_type": "code",
   "execution_count": null,
   "id": "published-freedom",
   "metadata": {},
   "outputs": [],
   "source": [
    "spectra = []\n",
    "for ii,cube in enumerate(cubes):\n",
    "    cube.allow_huge_operations=True\n",
    "    sp = cube.subcube_from_regions(regsm).mean(axis=(1,2))\n",
    "    pysp = pyspeckit.Spectrum(data=sp, xarr=sp.spectral_axis, header=sp.header)\n",
    "    spectra.append(pysp)\n",
    "    pysp.specname = f'spw{ii+1}'"
   ]
  },
  {
   "cell_type": "code",
   "execution_count": null,
   "id": "charming-process",
   "metadata": {},
   "outputs": [],
   "source": [
    "mkdir -p spectra/figures"
   ]
  },
  {
   "cell_type": "code",
   "execution_count": null,
   "id": "south-creature",
   "metadata": {},
   "outputs": [],
   "source": [
    "overplot_saltlines(spectra, vcen=vcen, savepath='spectra/figures')"
   ]
  },
  {
   "cell_type": "code",
   "execution_count": null,
   "id": "planned-litigation",
   "metadata": {},
   "outputs": [],
   "source": [
    "ls spectra/figures"
   ]
  },
  {
   "cell_type": "code",
   "execution_count": null,
   "id": "exact-cleaners",
   "metadata": {},
   "outputs": [],
   "source": [
    "from IPython.display import Image,display"
   ]
  },
  {
   "cell_type": "code",
   "execution_count": null,
   "id": "expanded-groove",
   "metadata": {},
   "outputs": [],
   "source": [
    "for fn in glob.glob('spectra/figures/color*png'):\n",
    "    display(Image(fn))"
   ]
  },
  {
   "cell_type": "code",
   "execution_count": null,
   "id": "antique-nevada",
   "metadata": {},
   "outputs": [],
   "source": []
  },
  {
   "cell_type": "code",
   "execution_count": null,
   "id": "subtle-oxford",
   "metadata": {},
   "outputs": [],
   "source": [
    "import glob\n",
    "import spectral_cube.analysis_utilities\n",
    "import reproject\n",
    "from tqdm.notebook import tqdm\n",
    "\n",
    "for fn in cbflist:\n",
    "    basename = os.path.split(fn)[-1].split(\".fits\")[0]\n",
    "    try:\n",
    "        cube = SpectralCube.read(fn, use_dask=True)\n",
    "    except Exception as ex:\n",
    "        print(ex)\n",
    "        continue\n",
    "    print(cube)\n",
    "    scube = cube.subcube_from_regions(regsm).to(u.K)\n",
    "    mx = scube.max(axis=0)\n",
    "    #msk = mx > 0.003*mx.unit\n",
    "    print(\"Mean spectrum\")\n",
    "    sp = scube.mean(axis=(1,2))\n",
    "    rms = sp.mad_std()\n",
    "    print(f\"rms={rms}\")\n",
    "    \n",
    "    sp.write(f'spectra/{fn.split(\"/\")[-1].replace(\".fits\",\"_meanspec.fits\")}', overwrite=True)\n",
    "\n",
    "\n",
    "    # reproject the velocity map into the cube's coordinate system\n",
    "    vmap_proj,_ = reproject.reproject_interp(vmap,\n",
    "                                             scube.wcs.celestial,\n",
    "                                             shape_out=scube.shape[1:])\n",
    "    vmap_proj = u.Quantity(vmap_proj, u.km/u.s)\n",
    "\n",
    "    # convert to km/s with arbitrary rest value so 0 km/s can be interpreted\n",
    "    if scube.spectral_axis.unit.is_equivalent(u.Hz):\n",
    "        scube = scube.with_spectral_unit(u.km/u.s, velocity_convention='radio', rest_value=scube.spectral_axis.mean())\n",
    "\n",
    "    print(\"Stacking\")\n",
    "    # perform the stacking!\n",
    "    stack = spectral_cube.analysis_utilities.stack_spectra(scube, vmap_proj,\n",
    "                                                           v0=0.0*u.km/u.s,\n",
    "                                                           #progressbar=tqdm,\n",
    "                                                           #num_cores=8\n",
    "                                                          )\n",
    "    fstack = stack.with_spectral_unit(u.GHz)\n",
    "\n",
    "    pl.suptitle(f\"{fn}\")\n",
    "    fstack.write(f'spectra/{basename}_stack.fits', overwrite=True)\n",
    "\n",
    "    pl.clf()\n",
    "    fstack.quicklook(filename=f'spectra/figures/{basename}_stack.pdf')\n",
    "    fstack.quicklook(filename=f'spectra/figures/{basename}_stack.png')\n",
    "    \n",
    "    \n",
    "    fig = pl.figure()\n",
    "    mappable = pl.subplot(1,2,1).imshow(mx.value, origin='lower', interpolation='none')\n",
    "    pl.colorbar(mappable)\n",
    "    pl.subplot(1,2,2)\n",
    "    pl.suptitle(fn)\n",
    "    sp.quicklook()"
   ]
  },
  {
   "cell_type": "code",
   "execution_count": null,
   "id": "decimal-bedroom",
   "metadata": {},
   "outputs": [],
   "source": [
    "ls spectra"
   ]
  },
  {
   "cell_type": "code",
   "execution_count": null,
   "id": "valued-contribution",
   "metadata": {},
   "outputs": [],
   "source": [
    "stackspectra = []\n",
    "for ii,fn in enumerate(glob.glob('spectra/*_stack.fits')):\n",
    "    pysp = pyspeckit.Spectrum(fn)\n",
    "    basename = os.path.basename(fn)\n",
    "    spl = basename.split(\".\")\n",
    "    pysp.specname = f'{\".\".join(spl[0:3])}_{spl[4]}_stack.fits'\n",
    "    print(pysp.specname)\n",
    "    stackspectra.append(pysp)"
   ]
  },
  {
   "cell_type": "code",
   "execution_count": null,
   "id": "shared-school",
   "metadata": {},
   "outputs": [],
   "source": [
    "overplot_saltlines(stackspectra, vcen=vcen, savepath='spectra/figures')"
   ]
  },
  {
   "cell_type": "code",
   "execution_count": null,
   "id": "inclusive-color",
   "metadata": {},
   "outputs": [],
   "source": [
    "ls spectra/figures/"
   ]
  },
  {
   "cell_type": "code",
   "execution_count": null,
   "id": "defined-commission",
   "metadata": {},
   "outputs": [],
   "source": [
    "for fn in glob.glob('spectra/figures/color*stack.png'):\n",
    "    display(Image(fn))"
   ]
  },
  {
   "cell_type": "code",
   "execution_count": null,
   "id": "widespread-newspaper",
   "metadata": {},
   "outputs": [],
   "source": []
  },
  {
   "cell_type": "code",
   "execution_count": null,
   "id": "african-tuning",
   "metadata": {},
   "outputs": [],
   "source": []
  },
  {
   "cell_type": "code",
   "execution_count": null,
   "id": "choice-leave",
   "metadata": {},
   "outputs": [],
   "source": []
  }
 ],
 "metadata": {
  "kernelspec": {
   "display_name": "Py 3.9",
   "language": "python",
   "name": "python39"
  },
  "language_info": {
   "codemirror_mode": {
    "name": "ipython",
    "version": 3
   },
   "file_extension": ".py",
   "mimetype": "text/x-python",
   "name": "python",
   "nbconvert_exporter": "python",
   "pygments_lexer": "ipython3",
   "version": "3.9.7"
  }
 },
 "nbformat": 4,
 "nbformat_minor": 5
}
