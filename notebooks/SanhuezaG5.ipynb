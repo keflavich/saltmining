{
 "cells": [
  {
   "cell_type": "markdown",
   "id": "feaa9465-430d-4f99-9192-ea3c6d4ad732",
   "metadata": {},
   "source": [
    "# G5.89\n",
    "\n",
    "TODO: find a disk candidate in the cube; it's not obvious there is one!"
   ]
  },
  {
   "cell_type": "markdown",
   "id": "74495470-d1d0-4fd2-b3d8-a4fb158922bf",
   "metadata": {},
   "source": [
    "MM15 might be a disk candidate\n",
    "\n",
    "Ferndandez-Lopez+ 2021: https://ui.adsabs.harvard.edu/abs/2021ApJ...913...29F/abstract\n",
    "\n",
    "Distance from FL2021 originally Sato 2014"
   ]
  },
  {
   "cell_type": "markdown",
   "id": "3b9f704c-2095-4251-a22a-32c04306e003",
   "metadata": {},
   "source": [
    "MM15 is \"edgeondisk\" in the regions.\n",
    "\n",
    "MM4 is `regd1`\n",
    "\n",
    "s6/s8 and the O5V \"feldt's star\" are in `regd2`"
   ]
  },
  {
   "cell_type": "code",
   "execution_count": 1,
   "id": "850cdb4d-429f-4808-9ef6-4df68ec47951",
   "metadata": {},
   "outputs": [],
   "source": [
    "from astropy import units as u\n",
    "distance = 3*u.kpc"
   ]
  },
  {
   "cell_type": "code",
   "execution_count": 2,
   "id": "precious-sending",
   "metadata": {},
   "outputs": [
    {
     "name": "stdout",
     "output_type": "stream",
     "text": [
      "/orange/adamginsburg/salt/sanhueza/G5.89\n"
     ]
    }
   ],
   "source": [
    "cd /orange/adamginsburg/salt/sanhueza/G5.89/"
   ]
  },
  {
   "cell_type": "code",
   "execution_count": 3,
   "id": "common-ocean",
   "metadata": {},
   "outputs": [
    {
     "name": "stdout",
     "output_type": "stream",
     "text": [
      "d1_NaCl_v_le_3_stackcube.fits\n",
      "d2_NaCl_v_le_3_stackcube.fits\n",
      "disk1_NaCl_v_le_3_stackcube.fits\n",
      "disk2_NaCl_v_le_3_stackcube.fits\n",
      "diskcandidate1.reg\n",
      "diskcandidate2.reg\n",
      "edgeondisk_NaCl_v_le_3_stackcube.fits\n",
      "edgeondisk.reg\n",
      "G5.89-0.37.config8.allchannels_avg.selfcal_0.5_hogbom.image.fits\n",
      "G5.89-0.37.config8.spw0.robust0.5.image_cb_small.fits\n",
      "G5.89-0.37.config8.spw0.robust0.5.image_d1_smaller.fits\n",
      "G5.89-0.37.config8.spw0.robust0.5.image_d2_smaller.fits\n",
      "G5.89-0.37.config8.spw0.robust0.5.image_edgeondisk_smaller.fits\n",
      "G5.89-0.37.config8.spw0.robust0.5.image_small.fits\n",
      "G5.89-0.37.config8.spw1.robust0.5.image_cb_small.fits\n",
      "G5.89-0.37.config8.spw1.robust0.5.image_d1_smaller.fits\n",
      "G5.89-0.37.config8.spw1.robust0.5.image_d2_smaller.fits\n",
      "G5.89-0.37.config8.spw1.robust0.5.image_edgeondisk_smaller.fits\n",
      "\u001b[0m\u001b[01;32mG5.89-0.37.config8.spw1.robust0.5.image_small.fits\u001b[0m*\n",
      "G5.89-0.37.config8.spw2.robust0.5.image_cb_small.fits\n",
      "G5.89-0.37.config8.spw2.robust0.5.image_d1_smaller.fits\n",
      "G5.89-0.37.config8.spw2.robust0.5.image_d2_smaller.fits\n",
      "G5.89-0.37.config8.spw2.robust0.5.image_edgeondisk_smaller.fits\n",
      "G5.89-0.37.config8.spw2.robust0.5.image_small.fits\n",
      "G5.89-0.37.config8.spw3.robust0.5.image_cb_small.fits\n",
      "G5.89-0.37.config8.spw3.robust0.5.image_d1_smaller.fits\n",
      "G5.89-0.37.config8.spw3.robust0.5.image_d2_smaller.fits\n",
      "G5.89-0.37.config8.spw3.robust0.5.image_edgeondisk_smaller.fits\n",
      "G5.89-0.37.config8.spw3.robust0.5.image_small.fits\n",
      "G5.89_regions_overview.pdf\n",
      "G5.89_regions_overview.png\n",
      "G5.89.zip\n",
      "ipython_log_2021-10-01.py\n",
      "NaCl_v_le_3_stackcube.fits\n",
      "\u001b[01;34mspectra\u001b[0m/\n"
     ]
    }
   ],
   "source": [
    "ls"
   ]
  },
  {
   "cell_type": "code",
   "execution_count": 4,
   "id": "latest-devon",
   "metadata": {},
   "outputs": [
    {
     "ename": "ModuleNotFoundError",
     "evalue": "No module named 'spectral_cube'",
     "output_type": "error",
     "traceback": [
      "\u001b[0;31m---------------------------------------------------------------------------\u001b[0m",
      "\u001b[0;31mModuleNotFoundError\u001b[0m                       Traceback (most recent call last)",
      "\u001b[0;32m/scratch/local/42000842/ipykernel_39357/3165734017.py\u001b[0m in \u001b[0;36m<module>\u001b[0;34m\u001b[0m\n\u001b[1;32m      1\u001b[0m \u001b[0mget_ipython\u001b[0m\u001b[0;34m(\u001b[0m\u001b[0;34m)\u001b[0m\u001b[0;34m.\u001b[0m\u001b[0mrun_line_magic\u001b[0m\u001b[0;34m(\u001b[0m\u001b[0;34m'matplotlib'\u001b[0m\u001b[0;34m,\u001b[0m \u001b[0;34m'inline'\u001b[0m\u001b[0;34m)\u001b[0m\u001b[0;34m\u001b[0m\u001b[0;34m\u001b[0m\u001b[0m\n\u001b[1;32m      2\u001b[0m \u001b[0;32mimport\u001b[0m \u001b[0mpylab\u001b[0m \u001b[0;32mas\u001b[0m \u001b[0mpl\u001b[0m\u001b[0;34m\u001b[0m\u001b[0;34m\u001b[0m\u001b[0m\n\u001b[0;32m----> 3\u001b[0;31m \u001b[0;32mfrom\u001b[0m \u001b[0mspectral_cube\u001b[0m \u001b[0;32mimport\u001b[0m \u001b[0mSpectralCube\u001b[0m\u001b[0;34m\u001b[0m\u001b[0;34m\u001b[0m\u001b[0m\n\u001b[0m\u001b[1;32m      4\u001b[0m \u001b[0;32mfrom\u001b[0m \u001b[0mastropy\u001b[0m \u001b[0;32mimport\u001b[0m \u001b[0munits\u001b[0m \u001b[0;32mas\u001b[0m \u001b[0mu\u001b[0m\u001b[0;34m\u001b[0m\u001b[0;34m\u001b[0m\u001b[0m\n\u001b[1;32m      5\u001b[0m \u001b[0;32mfrom\u001b[0m \u001b[0mastropy\u001b[0m\u001b[0;34m.\u001b[0m\u001b[0mvisualization\u001b[0m \u001b[0;32mimport\u001b[0m \u001b[0mquantity_support\u001b[0m\u001b[0;34m\u001b[0m\u001b[0;34m\u001b[0m\u001b[0m\n",
      "\u001b[0;31mModuleNotFoundError\u001b[0m: No module named 'spectral_cube'"
     ]
    }
   ],
   "source": [
    "%matplotlib inline\n",
    "import pylab as pl\n",
    "from spectral_cube import SpectralCube\n",
    "from astropy import units as u\n",
    "from astropy.visualization import quantity_support\n",
    "quantity_support()"
   ]
  },
  {
   "cell_type": "code",
   "execution_count": null,
   "id": "executive-infrared",
   "metadata": {},
   "outputs": [],
   "source": [
    "from astropy.table import Table\n",
    "from astropy import table"
   ]
  },
  {
   "cell_type": "code",
   "execution_count": null,
   "id": "healthy-transition",
   "metadata": {},
   "outputs": [],
   "source": [
    "import pprint"
   ]
  },
  {
   "cell_type": "code",
   "execution_count": null,
   "id": "transparent-nigeria",
   "metadata": {},
   "outputs": [],
   "source": [
    "import scipy, scipy.ndimage"
   ]
  },
  {
   "cell_type": "code",
   "execution_count": null,
   "id": "coastal-rally",
   "metadata": {},
   "outputs": [],
   "source": [
    "import numpy as np\n",
    "import os\n",
    "import glob\n",
    "from astropy import constants, units as u, table, stats, coordinates, wcs, log, coordinates as coord\n",
    "import radio_beam\n",
    "import pyspeckit\n",
    "import pylab as pl\n",
    "pl.rcParams['figure.facecolor'] = 'w'\n",
    "from astroquery.splatalogue.utils import minimize_table as mt\n",
    "import sys\n",
    "sys.path.append('/orange/adamginsburg/salt/Orion_ALMA_2016.1.00165.S/analysis')\n",
    "import lines\n",
    "import paths\n",
    "from salt_tables import (salt_tables, salt_table_names, SO, SO2, HCl, sis_tables, AlCl, AlF, Al37Cl,\n",
    "                         NaF, AlO, AlOH, NaCN, CaS, CaO)"
   ]
  },
  {
   "cell_type": "code",
   "execution_count": null,
   "id": "fuzzy-spectrum",
   "metadata": {},
   "outputs": [],
   "source": [
    "import regions\n",
    "from astropy import units as u, coordinates\n",
    "#reg = regions.Regions.read('big.reg')\n",
    "regsm = regions.Regions.read('edgeondisk.reg')\n",
    "regd1 = regions.Regions.read('diskcandidate1.reg')\n",
    "regd2 = regions.Regions.read('diskcandidate2.reg')\n",
    "#egvsm = regions.Regions.read('sourceAsmaller.reg')\n",
    "#regvvsm = regions.Regions.read('.reg')"
   ]
  },
  {
   "cell_type": "code",
   "execution_count": null,
   "id": "bcdafe8f-1218-4164-bfca-d919cd6b6fe3",
   "metadata": {},
   "outputs": [],
   "source": [
    "from astropy.visualization import simple_norm"
   ]
  },
  {
   "cell_type": "code",
   "execution_count": null,
   "id": "0131644f-31ac-440c-a54f-a02ac960cfb0",
   "metadata": {},
   "outputs": [],
   "source": [
    "cont = SpectralCube.read('G5.89-0.37.config8.allchannels_avg.selfcal_0.5_hogbom.image.fits')[:,2000:-2050,2000:-2050]\n",
    "ax = pl.subplot(projection=cont.wcs.celestial)\n",
    "ax.imshow(cont[0].value, cmap='gray_r', norm=simple_norm(cont[0].value, max_percent=99.95, min_percent=1))\n",
    "for regs, color in zip((regsm, regd1, regd2), ('r', 'g', 'b')):\n",
    "    regs[0].to_pixel(cont.wcs.celestial).plot(ax=ax, edgecolor=color, facecolor='none')\n",
    "ax.coords['ra'].set_axislabel(\"Right Ascension [ICRS]\")\n",
    "ax.coords['dec'].set_axislabel(\"Declination [ICRS]\")\n",
    "ax.coords['ra'].set_ticklabel(rotation=30, pad=50)\n",
    "pl.savefig(\"G5.89_regions_overview.png\", bbox_inches='tight')\n",
    "pl.savefig(\"G5.89_regions_overview.pdf\", bbox_inches='tight')"
   ]
  },
  {
   "cell_type": "markdown",
   "id": "comparable-cancellation",
   "metadata": {},
   "source": [
    "# NaCl Stackl"
   ]
  },
  {
   "cell_type": "code",
   "execution_count": null,
   "id": "thick-response",
   "metadata": {},
   "outputs": [],
   "source": [
    "from spectral_cube.analysis_utilities import stack_cube"
   ]
  },
  {
   "cell_type": "code",
   "execution_count": null,
   "id": "forty-stockholm",
   "metadata": {
    "tags": []
   },
   "outputs": [],
   "source": [
    "nacltables = salt_tables[3:5]"
   ]
  },
  {
   "cell_type": "code",
   "execution_count": null,
   "id": "unlike-member",
   "metadata": {},
   "outputs": [],
   "source": [
    "import spectral_cube.analysis_utilities\n",
    "import imp\n",
    "imp.reload(spectral_cube.analysis_utilities)\n",
    "from spectral_cube.analysis_utilities import stack_cube"
   ]
  },
  {
   "cell_type": "code",
   "execution_count": null,
   "id": "aerial-testimony",
   "metadata": {},
   "outputs": [],
   "source": [
    "flist = sorted(glob.glob('G5.89-0.37.config8.spw[0-3].robust0.5.image_small.fits'))"
   ]
  },
  {
   "cell_type": "code",
   "execution_count": null,
   "id": "roman-jacket",
   "metadata": {},
   "outputs": [],
   "source": [
    "for fn in flist:\n",
    "    for rr,regn in ((regsm, 'edgeondisk'), (regd1, 'd1'), (regd2, 'd2')):\n",
    "        outfile = fn.replace(\"_small\",f\"_{regn}_smaller\")\n",
    "        if not os.path.exists(outfile) or (os.path.exists(outfile) and SpectralCube.read(outfile).unit != u.K):\n",
    "            cube = SpectralCube.read(fn, use_dask=True).subcube_from_regions(rr)\n",
    "            cube.allow_huge_operations=True\n",
    "            with cube.use_dask_scheduler('threads', num_workers=8):\n",
    "                cb = cube.beams.common_beam(max_iter=20, max_epsilon=0.01)\n",
    "                scube = cube.convolve_to(cb, save_to_tmp_dir=True)\n",
    "            scube.allow_huge_operations = True\n",
    "            scube.to(u.K).write(outfile, overwrite=True)        "
   ]
  },
  {
   "cell_type": "code",
   "execution_count": null,
   "id": "referenced-hazard",
   "metadata": {},
   "outputs": [],
   "source": [
    "cbflist = sorted((glob.glob('G5.89-0.37.config8.spw[0-3].robust0.5.image_cb_small.fits')))\n",
    "cubes = [SpectralCube.read(fn).subcube_from_regions(regd1).to(u.K) for fn in cbflist]\n",
    "cubes"
   ]
  },
  {
   "cell_type": "code",
   "execution_count": null,
   "id": "permanent-arrest",
   "metadata": {},
   "outputs": [],
   "source": [
    "# only needed for VRSCs\n",
    "if hasattr(cubes[0], 'beams'):\n",
    "    beams = radio_beam.Beams(beams=[cube.beams.common_beam(max_iter=20, max_epsilon=0.01) for cube in cubes])\n",
    "    cb=beams.common_beam()\n",
    "else:\n",
    "    cb = cubes[0].beam"
   ]
  },
  {
   "cell_type": "code",
   "execution_count": null,
   "id": "d53dc74c-dc10-468e-94b3-109c6c1c8d6e",
   "metadata": {},
   "outputs": [],
   "source": [
    "cb"
   ]
  },
  {
   "cell_type": "code",
   "execution_count": null,
   "id": "830ed31c-de45-4e87-baf6-a8fe15e1ae60",
   "metadata": {},
   "outputs": [],
   "source": [
    "(cb.major*distance).to(u.au, u.dimensionless_angles())"
   ]
  },
  {
   "cell_type": "code",
   "execution_count": null,
   "id": "0c2e5ff5-8f63-4fd4-b790-508bbe2d5799",
   "metadata": {},
   "outputs": [],
   "source": [
    "(cb.minor*distance).to(u.au, u.dimensionless_angles())"
   ]
  },
  {
   "cell_type": "code",
   "execution_count": null,
   "id": "faced-shark",
   "metadata": {},
   "outputs": [],
   "source": [
    "linelist = np.concatenate([data['Freq'][(data['vu'] <= 3) &\n",
    "                                          np.any([((data['Freq'].quantity > cube.spectral_extrema[0]) &\n",
    "                                                   (data['Freq'].quantity < cube.spectral_extrema[1]))\n",
    "                                                 for cube in cubes],\n",
    "                                                 axis=0)].quantity\n",
    "                             for data in nacltables])\n",
    "linenames = np.concatenate( [data['Species'][(data['vu'] <= 3) &\n",
    "                                          np.any([((data['Freq'].quantity > cube.spectral_extrema[0]) &\n",
    "                                                   (data['Freq'].quantity < cube.spectral_extrema[1]))\n",
    "                                                 for cube in cubes],\n",
    "                                                 axis=0)]\n",
    "                             for data in nacltables] )\n",
    "(linelist, linenames)"
   ]
  },
  {
   "cell_type": "code",
   "execution_count": null,
   "id": "crucial-nigeria",
   "metadata": {},
   "outputs": [],
   "source": [
    "from astropy import log\n",
    "log.setLevel('INFO')"
   ]
  },
  {
   "cell_type": "code",
   "execution_count": null,
   "id": "twenty-pulse",
   "metadata": {},
   "outputs": [],
   "source": [
    "cubes"
   ]
  },
  {
   "cell_type": "code",
   "execution_count": null,
   "id": "16eb67bf-75a0-4956-9306-c065ebed217b",
   "metadata": {},
   "outputs": [],
   "source": []
  },
  {
   "cell_type": "code",
   "execution_count": null,
   "id": "99260398-5cd1-47ab-96ee-5f291f8c1f93",
   "metadata": {},
   "outputs": [],
   "source": [
    "\n",
    "for reg, regn in ((regsm, 'edgeondisk'), (regd1, 'd1'), (regd2, 'd2')):\n",
    "    cbflist = sorted((glob.glob('G5.89-0.37.config8.spw[0-3].robust0.5.image_cb_small.fits')))\n",
    "    cubes = [SpectralCube.read(fn).subcube_from_regions(reg).to(u.K) for fn in cbflist]\n",
    "\n",
    "    vcen = 10 * u.km/u.s # from Patricio\n",
    "    stack, cutouts = stack_cube(cubes,\n",
    "                       linelist=linelist,\n",
    "                       vmin=vcen-30*u.km/u.s,\n",
    "                       vmax=vcen+30*u.km/u.s,\n",
    "                       average=np.nanmean,\n",
    "                       convolve_beam=cb,\n",
    "                       return_cutouts=True)\n",
    "    #log.setLevel('INFO')\n",
    "    stack.write(f'{regn}_NaCl_v_le_3_stackcube.fits', overwrite=True)"
   ]
  },
  {
   "cell_type": "markdown",
   "id": "9ca4129b-61bd-4bb1-82c8-e4a40b4586c3",
   "metadata": {},
   "source": [
    "#log.setLevel('DEBUG')\n",
    "vcen = 10 * u.km/u.s # from Patricio\n",
    "stack, cutouts = stack_cube(cubes,\n",
    "                   linelist=linelist,\n",
    "                   vmin=vcen-30*u.km/u.s,\n",
    "                   vmax=vcen+30*u.km/u.s,\n",
    "                   average=np.nanmean,\n",
    "                   convolve_beam=cb,\n",
    "                   return_cutouts=True)\n",
    "#log.setLevel('INFO')\n",
    "stack.write('NaCl_v_le_3_stackcube.fits', overwrite=True)"
   ]
  },
  {
   "cell_type": "code",
   "execution_count": null,
   "id": "adaptive-latino",
   "metadata": {},
   "outputs": [],
   "source": [
    "stackc = SpectralCube.read('edgeondisk_NaCl_v_le_3_stackcube.fits')\n",
    "stackc"
   ]
  },
  {
   "cell_type": "code",
   "execution_count": null,
   "id": "90c21e1e-93aa-438e-ae3e-a7083d8accfa",
   "metadata": {},
   "outputs": [],
   "source": [
    "jtok = stackc.beam.jtok(217*u.GHz)"
   ]
  },
  {
   "cell_type": "code",
   "execution_count": null,
   "id": "unlike-giant",
   "metadata": {},
   "outputs": [],
   "source": [
    "stackc = stackc.subcube_from_regions(regsm)\n",
    "pl.figure(figsize=(14,5))\n",
    "pl.subplot(1,3,1)\n",
    "m0 = stackc.moment0()\n",
    "m0.quicklook()\n",
    "pl.title(\"m0\")\n",
    "\n",
    "pl.subplot(1,3,2)\n",
    "mx = stackc.max(axis=0)\n",
    "mx.quicklook()\n",
    "pl.title(\"mx\")\n",
    "pl.colorbar()\n",
    "pl.subplot(1,3,3)\n",
    "msk = mx > 0.00016*jtok\n",
    "msk = scipy.ndimage.binary_erosion(msk, iterations=1)\n",
    "msk = scipy.ndimage.binary_dilation(msk, iterations=5)\n",
    "pl.imshow(msk, interpolation='none', origin='lower')\n",
    "pl.tight_layout()\n",
    "pl.figure()\n",
    "\n",
    "\n",
    "m1 = stackc.with_mask(msk).with_mask(stackc > 0.0005*jtok).moment1()\n",
    "pl.figure(figsize=(14,6))\n",
    "ax1 = pl.subplot(1,2,1)\n",
    "im = ax1.imshow(m1.value, vmin=-10, vmax=50)\n",
    "pl.colorbar(mappable=im)\n",
    "mxv = stackc.with_mask(msk).argmax_world(axis=0)\n",
    "pl.subplot(1,2,2)\n",
    "pl.imshow(mxv.value, vmin=-10, vmax=50)\n",
    "pl.colorbar()\n",
    "#pl.suptitle(\"This vmap is not used.\")\n",
    "\n",
    "\n",
    "# use water\n",
    "# vmap = mxv.hdu"
   ]
  },
  {
   "cell_type": "code",
   "execution_count": null,
   "id": "herbal-place",
   "metadata": {},
   "outputs": [],
   "source": [
    "# try creating a vmap based on another line\n",
    "restval = 232.3929*u.GHz # this is maybe 33SO2?  Probably not...\n",
    "restval = 231.9811*u.GHz # eyeballed\n",
    "#restval = 232.4128*u.GHz # eyeballed\n",
    "\n",
    "#restval = 232.6867*u.GHz # 'H2Ov2=1_5(5,0)-6(4,3)': \n",
    "cubes = [SpectralCube.read(fn) for fn in cbflist]\n",
    "cube = [c.subcube_from_regions(regsm).to(u.K) for c in cubes if (c.spectral_extrema[0] < restval) & (c.spectral_extrema[1] > restval)][0]\n",
    "\n",
    "scube = cube.subcube_from_regions(regsm).with_spectral_unit(u.km/u.s, velocity_convention='radio', rest_value=restval).spectral_slab(-20*u.km/u.s, 20*u.km/u.s)\n",
    "pl.figure(figsize=(14,5))\n",
    "pl.subplot(1,3,1)\n",
    "m0 = scube.moment0()\n",
    "m0.quicklook()\n",
    "pl.title(\"m0\")\n",
    "pl.colorbar()\n",
    "\n",
    "pl.subplot(1,3,2)\n",
    "mx = scube.max(axis=0)\n",
    "mx.quicklook()\n",
    "pl.title(\"mx\")\n",
    "pl.colorbar()\n",
    "pl.subplot(1,3,3)\n",
    "msk = mx > 45*u.K\n",
    "msk = scipy.ndimage.binary_erosion(msk, iterations=1)\n",
    "msk = scipy.ndimage.binary_dilation(msk, iterations=5)\n",
    "pl.imshow(msk, interpolation='none', origin='lower')\n",
    "pl.tight_layout()\n",
    "pl.figure()\n",
    "\n",
    "\n",
    "m1 = scube.with_mask(msk).with_mask(scube > 40*u.K).moment1()\n",
    "pl.figure(figsize=(14,6))\n",
    "ax1 = pl.subplot(1,2,1)\n",
    "im = ax1.imshow(m1.value, vmin=-10, vmax=10)\n",
    "pl.colorbar(mappable=im)\n",
    "mxv = scube.with_mask(msk).argmax_world(axis=0)\n",
    "pl.subplot(1,2,2)\n",
    "pl.imshow(mxv.value, vmin=-10, vmax=10)\n",
    "pl.colorbar()\n",
    "\n",
    "\n",
    "vmap = mxv.hdu\n",
    "vmap = m1.hdu\n",
    "\n",
    "# just force it to 10 km/s because for the edge-on disk, there are no clear line detctions\n",
    "vmap.data[:] = 10\n",
    "msk = m0 > 400*m0.unit\n",
    "msk = scipy.ndimage.binary_erosion(msk, iterations=1)\n",
    "msk = scipy.ndimage.binary_dilation(msk, iterations=5)\n",
    "vmap.data[~msk] = np.nan\n",
    "pl.imshow(vmap.data)\n",
    "# the rest value selected above was just the line center; we need to assume it's really 35 km/s off\n",
    "#vmap.data = vmap.data + vcen.value"
   ]
  },
  {
   "cell_type": "code",
   "execution_count": null,
   "id": "vietnamese-federal",
   "metadata": {},
   "outputs": [],
   "source": [
    "import sys\n",
    "sys.path.append('/orange/adamginsburg/salt/code/')\n",
    "from overplot_saltlines import overplot_saltlines"
   ]
  },
  {
   "cell_type": "code",
   "execution_count": null,
   "id": "published-freedom",
   "metadata": {},
   "outputs": [],
   "source": [
    "spectra = []\n",
    "for ii,cube in enumerate(cubes):\n",
    "    cube.allow_huge_operations=True\n",
    "    sp = cube.subcube_from_regions(regsm).to(u.K).mean(axis=(1,2))\n",
    "    pysp = pyspeckit.Spectrum(data=sp, xarr=sp.spectral_axis, header=sp.header)\n",
    "    spectra.append(pysp)\n",
    "    pysp.specname = f'edgeondisk spw{ii+1}'"
   ]
  },
  {
   "cell_type": "code",
   "execution_count": null,
   "id": "charming-process",
   "metadata": {},
   "outputs": [],
   "source": [
    "mkdir -p spectra/figures"
   ]
  },
  {
   "cell_type": "code",
   "execution_count": null,
   "id": "south-creature",
   "metadata": {},
   "outputs": [],
   "source": [
    "overplot_saltlines(spectra, vcen=0*u.km/u.s, savepath='spectra/figures', ymin=-15, ymax=45)"
   ]
  },
  {
   "cell_type": "code",
   "execution_count": null,
   "id": "planned-litigation",
   "metadata": {},
   "outputs": [],
   "source": [
    "ls spectra/figures"
   ]
  },
  {
   "cell_type": "code",
   "execution_count": null,
   "id": "exact-cleaners",
   "metadata": {},
   "outputs": [],
   "source": [
    "from IPython.display import Image,display"
   ]
  },
  {
   "cell_type": "code",
   "execution_count": null,
   "id": "expanded-groove",
   "metadata": {},
   "outputs": [],
   "source": [
    "for fn in glob.glob('spectra/figures/color*png'):\n",
    "    display(Image(fn))"
   ]
  },
  {
   "cell_type": "code",
   "execution_count": null,
   "id": "antique-nevada",
   "metadata": {},
   "outputs": [],
   "source": []
  },
  {
   "cell_type": "code",
   "execution_count": null,
   "id": "subtle-oxford",
   "metadata": {},
   "outputs": [],
   "source": [
    "import glob\n",
    "import spectral_cube.analysis_utilities\n",
    "import reproject\n",
    "from tqdm.notebook import tqdm\n",
    "from astropy import stats\n",
    "\n",
    "for fn in cbflist:\n",
    "    basename = os.path.split(fn)[-1].split(\".fits\")[0]\n",
    "    try:\n",
    "        cube = SpectralCube.read(fn, use_dask=True)\n",
    "    except Exception as ex:\n",
    "        print(ex)\n",
    "        continue\n",
    "    print(cube)\n",
    "    scube = cube.subcube_from_regions(regsm).to(u.K)\n",
    "    mx = scube.max(axis=0)\n",
    "    #msk = mx > 0.003*mx.unit\n",
    "    print(\"Mean spectrum\")\n",
    "    sp = scube.mean(axis=(1,2))\n",
    "    rms = stats.mad_std(sp)\n",
    "    print(f\"rms={rms}\")\n",
    "    \n",
    "    sp.write(f'spectra/{fn.split(\"/\")[-1].replace(\".fits\",\"_meanspec.fits\")}', overwrite=True)\n",
    "\n",
    "\n",
    "    # reproject the velocity map into the cube's coordinate system\n",
    "    vmap_proj,_ = reproject.reproject_interp(vmap,\n",
    "                                             scube.wcs.celestial,\n",
    "                                             shape_out=scube.shape[1:])\n",
    "    vmap_proj = u.Quantity(vmap_proj, u.km/u.s)\n",
    "    fits.PrimaryHDU(data=vmap_proj, header=scube.wcs.celestial.to_header()).writeto('vmap.fits')\n",
    "    # convert to km/s with arbitrary rest value so 0 km/s can be interpreted\n",
    "    if scube.spectral_axis.unit.is_equivalent(u.Hz):\n",
    "        scube = scube.with_spectral_unit(u.km/u.s, velocity_convention='radio', rest_value=scube.spectral_axis.mean())\n",
    "\n",
    "    print(\"Stacking\")\n",
    "    # perform the stacking!\n",
    "    stack = spectral_cube.analysis_utilities.stack_spectra(scube, vmap_proj,\n",
    "                                                           v0=0.0*u.km/u.s,\n",
    "                                                           #progressbar=tqdm,\n",
    "                                                           #num_cores=8\n",
    "                                                          )\n",
    "    fstack = stack.with_spectral_unit(u.GHz)\n",
    "\n",
    "    pl.suptitle(f\"{fn}\")\n",
    "    fstack.write(f'spectra/{basename}_edgeondisk_stack.fits', overwrite=True)\n",
    "\n",
    "    pl.clf()\n",
    "    fstack.quicklook(filename=f'spectra/figures/{basename}_edgeondisk_stack.pdf')\n",
    "    fstack.quicklook(filename=f'spectra/figures/{basename}_edgeondisk_stack.png')\n",
    "    \n",
    "    \n",
    "    fig = pl.figure()\n",
    "    mappable = pl.subplot(1,2,1).imshow(mx.value, origin='lower', interpolation='none')\n",
    "    pl.colorbar(mappable)\n",
    "    pl.subplot(1,2,2)\n",
    "    pl.suptitle(fn)\n",
    "    sp.quicklook()"
   ]
  },
  {
   "cell_type": "code",
   "execution_count": null,
   "id": "decimal-bedroom",
   "metadata": {},
   "outputs": [],
   "source": [
    "ls spectra"
   ]
  },
  {
   "cell_type": "code",
   "execution_count": null,
   "id": "valued-contribution",
   "metadata": {},
   "outputs": [],
   "source": [
    "stackspectra = []\n",
    "for ii,fn in enumerate(glob.glob('spectra/*_stack.fits')):\n",
    "    pysp = pyspeckit.Spectrum(fn)\n",
    "    basename = os.path.basename(fn)\n",
    "    spl = basename.split(\".\")\n",
    "    pysp.specname = f'{\".\".join(spl[0:3])}_{spl[4]}_stack.fits'\n",
    "    print(pysp.specname)\n",
    "    stackspectra.append(pysp)"
   ]
  },
  {
   "cell_type": "code",
   "execution_count": null,
   "id": "shared-school",
   "metadata": {},
   "outputs": [],
   "source": [
    "overplot_saltlines(stackspectra, vcen=0*u.km/u.s, savepath='spectra/figures')"
   ]
  },
  {
   "cell_type": "code",
   "execution_count": null,
   "id": "inclusive-color",
   "metadata": {},
   "outputs": [],
   "source": [
    "ls spectra/figures/"
   ]
  },
  {
   "cell_type": "code",
   "execution_count": null,
   "id": "defined-commission",
   "metadata": {},
   "outputs": [],
   "source": [
    "for fn in glob.glob('spectra/figures/color*stack.png'):\n",
    "    display(Image(fn))"
   ]
  },
  {
   "cell_type": "code",
   "execution_count": null,
   "id": "widespread-newspaper",
   "metadata": {},
   "outputs": [],
   "source": []
  },
  {
   "cell_type": "code",
   "execution_count": null,
   "id": "african-tuning",
   "metadata": {},
   "outputs": [],
   "source": []
  },
  {
   "cell_type": "code",
   "execution_count": null,
   "id": "choice-leave",
   "metadata": {},
   "outputs": [],
   "source": []
  }
 ],
 "metadata": {
  "kernelspec": {
   "display_name": "python39",
   "language": "python",
   "name": "python39"
  },
  "language_info": {
   "codemirror_mode": {
    "name": "ipython",
    "version": 3
   },
   "file_extension": ".py",
   "mimetype": "text/x-python",
   "name": "python",
   "nbconvert_exporter": "python",
   "pygments_lexer": "ipython3",
   "version": "3.9.7"
  }
 },
 "nbformat": 4,
 "nbformat_minor": 5
}
