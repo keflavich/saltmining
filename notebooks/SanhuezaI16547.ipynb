{
 "cells": [
  {
   "cell_type": "code",
   "execution_count": 50,
   "id": "adverse-conviction",
   "metadata": {},
   "outputs": [
    {
     "name": "stdout",
     "output_type": "stream",
     "text": [
      "/orange/adamginsburg/salt/sanhueza/IRAS16547\n"
     ]
    }
   ],
   "source": [
    "cd /orange/adamginsburg/salt/sanhueza/IRAS16547"
   ]
  },
  {
   "cell_type": "code",
   "execution_count": 51,
   "id": "cultural-collect",
   "metadata": {},
   "outputs": [
    {
     "name": "stdout",
     "output_type": "stream",
     "text": [
      "cutout.reg\n",
      "IRAS165474247_G343.12-0.06.config8.cont_avg.selfcal_0.5_hogbom.image.fits\n",
      "IRAS165474247_G343.12-0.06.config8.spw0.robust0.5.image_small.fits\n",
      "IRAS165474247_G343.12-0.06.config8.spw1.robust0.5.image_small.fits\n",
      "IRAS165474247_G343.12-0.06.config8.spw2.robust0.5.image_small.fits?dl=0\n",
      "IRAS165474247_G343.12-0.06.config8.spw3.robust0.5.image_small.fits\n"
     ]
    }
   ],
   "source": [
    "ls"
   ]
  },
  {
   "cell_type": "code",
   "execution_count": 52,
   "id": "ac217334-8011-4258-ae9b-7f9192535364",
   "metadata": {},
   "outputs": [],
   "source": [
    "targetname = 'IRAS165474247_G343.12-0.06'"
   ]
  },
  {
   "cell_type": "markdown",
   "id": "b3066d98-0f24-4019-91e1-5f6c83362391",
   "metadata": {},
   "source": [
    "for fn in glob.glob(\"*.fits\"):\n",
    "    print('app"
   ]
  },
  {
   "cell_type": "code",
   "execution_count": 53,
   "id": "boxed-values",
   "metadata": {},
   "outputs": [
    {
     "data": {
      "text/plain": [
       "<astropy.visualization.units.quantity_support.<locals>.MplQuantityConverter at 0x2b9d0ac751f0>"
      ]
     },
     "execution_count": 53,
     "metadata": {},
     "output_type": "execute_result"
    }
   ],
   "source": [
    "%matplotlib inline\n",
    "import pylab as pl\n",
    "pl.rcParams['figure.facecolor'] = 'w'\n",
    "from spectral_cube import SpectralCube\n",
    "from astropy import units as u\n",
    "from astropy.visualization import quantity_support\n",
    "quantity_support()"
   ]
  },
  {
   "cell_type": "code",
   "execution_count": 54,
   "id": "executive-senator",
   "metadata": {},
   "outputs": [],
   "source": [
    "from astropy.table import Table\n",
    "from astropy import table"
   ]
  },
  {
   "cell_type": "code",
   "execution_count": 55,
   "id": "robust-anchor",
   "metadata": {},
   "outputs": [],
   "source": [
    "import pprint"
   ]
  },
  {
   "cell_type": "code",
   "execution_count": 56,
   "id": "sustainable-tiffany",
   "metadata": {},
   "outputs": [],
   "source": [
    "import scipy, scipy.ndimage"
   ]
  },
  {
   "cell_type": "code",
   "execution_count": 57,
   "id": "visible-princess",
   "metadata": {},
   "outputs": [],
   "source": [
    "import numpy as np\n",
    "import os\n",
    "import glob\n",
    "from astropy import constants, units as u, table, stats, coordinates, wcs, log, coordinates as coord\n",
    "import radio_beam\n",
    "import pyspeckit\n",
    "import pylab as pl\n",
    "from astroquery.splatalogue.utils import minimize_table as mt\n",
    "import sys\n",
    "sys.path.append('/orange/adamginsburg/salt/Orion_ALMA_2016.1.00165.S/analysis')\n",
    "import lines\n",
    "import paths\n",
    "from salt_tables import (salt_tables, salt_table_names, SO, SO2, HCl, sis_tables, AlCl, AlF, Al37Cl,\n",
    "                         NaF, AlO, AlOH, NaCN, CaS, CaO)"
   ]
  },
  {
   "cell_type": "code",
   "execution_count": 58,
   "id": "dental-prayer",
   "metadata": {},
   "outputs": [],
   "source": [
    "import regions\n",
    "from astropy import units as u, coordinates\n",
    "reg = regions.Regions.read('cutout.reg')\n",
    "#reg2 = regions.Regions.read('cutout2.reg')\n",
    "#reg3 = regions.Regions.read('cutout3.reg')\n",
    "#regvsm = regions.Regions.read('verysmall.reg')\n",
    "#regvvsm = regions.Regions.read('innerdiskbox.reg')"
   ]
  },
  {
   "cell_type": "code",
   "execution_count": 59,
   "id": "668be547-d815-46ff-bc9a-66d724a8b0d8",
   "metadata": {},
   "outputs": [
    {
     "data": {
      "text/plain": [
       "<SkyCoord (Galactic): (l, b) in deg\n",
       "    (343.12679073, -0.06289123)>"
      ]
     },
     "execution_count": 59,
     "metadata": {},
     "output_type": "execute_result"
    }
   ],
   "source": [
    "reg[0].center.galactic"
   ]
  },
  {
   "cell_type": "markdown",
   "id": "chicken-cutting",
   "metadata": {},
   "source": [
    "# NaCl Stackl"
   ]
  },
  {
   "cell_type": "code",
   "execution_count": 60,
   "id": "informed-concrete",
   "metadata": {},
   "outputs": [],
   "source": [
    "from spectral_cube.analysis_utilities import stack_cube"
   ]
  },
  {
   "cell_type": "code",
   "execution_count": 61,
   "id": "controlling-melbourne",
   "metadata": {},
   "outputs": [],
   "source": [
    "nacltables = salt_tables[3:5]\n",
    "#nacltables[0]"
   ]
  },
  {
   "cell_type": "code",
   "execution_count": 62,
   "id": "leading-atlas",
   "metadata": {},
   "outputs": [],
   "source": [
    "import spectral_cube.analysis_utilities\n",
    "import imp\n",
    "imp.reload(spectral_cube.analysis_utilities)\n",
    "from spectral_cube.analysis_utilities import stack_cube"
   ]
  },
  {
   "cell_type": "code",
   "execution_count": 63,
   "id": "black-salvation",
   "metadata": {},
   "outputs": [],
   "source": [
    "flist = (glob.glob(f'{targetname}.config8.spw[0-3].robust0.5.image_small.fits'))"
   ]
  },
  {
   "cell_type": "code",
   "execution_count": 64,
   "id": "2937665b-e9bf-41e1-9522-7cf6104b7e15",
   "metadata": {},
   "outputs": [
    {
     "data": {
      "text/plain": [
       "['IRAS165474247_G343.12-0.06.config8.spw3.robust0.5.image_small.fits',\n",
       " 'IRAS165474247_G343.12-0.06.config8.spw0.robust0.5.image_small.fits',\n",
       " 'IRAS165474247_G343.12-0.06.config8.spw1.robust0.5.image_small.fits']"
      ]
     },
     "execution_count": 64,
     "metadata": {},
     "output_type": "execute_result"
    }
   ],
   "source": [
    "flist"
   ]
  },
  {
   "cell_type": "code",
   "execution_count": 65,
   "id": "d03eea2b-e4e1-4c41-ba87-9ac214afe384",
   "metadata": {},
   "outputs": [
    {
     "data": {
      "text/plain": [
       "<dask.config.set at 0x2b9d0abe1670>"
      ]
     },
     "execution_count": 65,
     "metadata": {},
     "output_type": "execute_result"
    }
   ],
   "source": [
    "#from dask.diagnostics import ProgressBar\n",
    "#pbar = ProgressBar()\n",
    "#pbar.register()\n",
    "\n",
    "import dask\n",
    "dask.config.set(scheduler='threads', num_workers=8)"
   ]
  },
  {
   "cell_type": "code",
   "execution_count": null,
   "id": "tired-immune",
   "metadata": {},
   "outputs": [
    {
     "name": "stderr",
     "output_type": "stream",
     "text": [
      "WARNING: StokesWarning: Cube is a Stokes cube, returning spectral cube for I component [spectral_cube.io.core]\n",
      "WARNING: PossiblySlowWarning: This function (<function VaryingResolutionSpectralCube.convolve_to at 0x2b9cfe464c10>) requires loading the entire cube into memory and may therefore be slow. [spectral_cube.utils]\n"
     ]
    }
   ],
   "source": [
    "for fn in flist:\n",
    "    for rr,regn in ( (reg, 'co1'), ):\n",
    "        outfile = fn.replace(\"_small\",f\"_{regn}_smaller\")\n",
    "        if not os.path.exists(outfile):\n",
    "            cube = SpectralCube.read(fn, use_dask=False).subcube_from_regions(rr)\n",
    "            cube.allow_huge_operations=True\n",
    "            #with cube.use_dask_scheduler('threads', num_workers=8):\n",
    "            cb = cube.beams.common_beam(max_iter=20, max_epsilon=0.01)\n",
    "            scube = cube.convolve_to(cb)\n",
    "            scube.write(outfile)"
   ]
  },
  {
   "cell_type": "code",
   "execution_count": null,
   "id": "fifty-poster",
   "metadata": {},
   "outputs": [],
   "source": [
    "regn = \"co1\"\n",
    "# don't need to subcube b/c reg = cutout = co1\n",
    "cubes = [SpectralCube.read(fn, use_dask=True)#.subcube_from_regions(reg3)\n",
    "         for fn in (glob.glob(f'{targetname}.config8.spw[0-3].robust0.5.image_{regn}_smaller.fits'))]\n",
    "for ii,cube in enumerate(cubes):\n",
    "    # continuum subtract\n",
    "    with cube.use_dask_scheduler('threads', num_workers=8):\n",
    "        cube.allow_huge_operations = True\n",
    "        cubes[ii] = cube - cube.percentile(25, axis=0)\n",
    "cubes"
   ]
  },
  {
   "cell_type": "code",
   "execution_count": null,
   "id": "earlier-school",
   "metadata": {},
   "outputs": [],
   "source": [
    "# only needed for VRSCs\n",
    "if hasattr(cubes[0], 'beams'):\n",
    "    beams = radio_beam.Beams(beams=[cube.beams.common_beam(max_iter=20, max_epsilon=0.01) for cube in cubes])\n",
    "    cb=beams.common_beam()\n",
    "else:\n",
    "    beams = radio_beam.Beams(beams=[cube.beam for cube in cubes])\n",
    "    cb=beams.common_beam()"
   ]
  },
  {
   "cell_type": "code",
   "execution_count": null,
   "id": "necessary-emission",
   "metadata": {},
   "outputs": [],
   "source": [
    "linelist = np.concatenate([data['Freq'][(data['vu'] <= 3) &\n",
    "                                          np.any([((data['Freq'].quantity > cube.spectral_extrema[0]) &\n",
    "                                                   (data['Freq'].quantity < cube.spectral_extrema[1]))\n",
    "                                                 for cube in cubes],\n",
    "                                                 axis=0)].quantity\n",
    "                             for data in nacltables])\n",
    "linenames = np.concatenate( [data['Species'][(data['vu'] <= 3) &\n",
    "                                          np.any([((data['Freq'].quantity > cube.spectral_extrema[0]) &\n",
    "                                                   (data['Freq'].quantity < cube.spectral_extrema[1]))\n",
    "                                                 for cube in cubes],\n",
    "                                                 axis=0)]\n",
    "                             for data in nacltables] )\n",
    "(linelist, linenames)"
   ]
  },
  {
   "cell_type": "code",
   "execution_count": null,
   "id": "underlying-hawaii",
   "metadata": {},
   "outputs": [],
   "source": [
    "from astropy import log\n",
    "log.setLevel('INFO')"
   ]
  },
  {
   "cell_type": "code",
   "execution_count": null,
   "id": "cheap-bradford",
   "metadata": {},
   "outputs": [],
   "source": [
    "#log.setLevel('DEBUG')\n",
    "vcen = -30 * u.km/u.s # from Patricio\n",
    "stack, cutouts = stack_cube(cubes,\n",
    "                   linelist=linelist,\n",
    "                   vmin=vcen-25*u.km/u.s,\n",
    "                   vmax=vcen+25*u.km/u.s,\n",
    "                   average=np.nanmean,\n",
    "                   convolve_beam=cb,\n",
    "                   return_cutouts=True)\n",
    "#log.setLevel('INFO')\n",
    "stack.write('NaCl_v_le_3_stackcube.fits', overwrite=True)"
   ]
  },
  {
   "cell_type": "code",
   "execution_count": null,
   "id": "studied-hawaiian",
   "metadata": {},
   "outputs": [],
   "source": [
    "stackc = SpectralCube.read('NaCl_v_le_3_stackcube.fits')\n",
    "stackc"
   ]
  },
  {
   "cell_type": "code",
   "execution_count": null,
   "id": "9e3c5447-b567-4073-8d14-33ee718e18c4",
   "metadata": {},
   "outputs": [],
   "source": [
    "232.6867*(1+30*u.km/u.s/constants.c).decompose()"
   ]
  },
  {
   "cell_type": "code",
   "execution_count": null,
   "id": "071b4fd3-415d-4c5b-99b5-293a39e13d16",
   "metadata": {},
   "outputs": [],
   "source": [
    "pl.rcParams['image.origin'] = 'lower'"
   ]
  },
  {
   "cell_type": "code",
   "execution_count": null,
   "id": "5e13a272-552b-41ee-a896-f2c897cb5bbb",
   "metadata": {
    "jp-MarkdownHeadingCollapsed": true,
    "tags": []
   },
   "outputs": [],
   "source": [
    "# try creating a vmap based on another line (water)\n",
    "restval = 232.6867*u.GHz # 'H2Ov2=1_5(5,0)-6(4,3)': \n",
    "cube = [c for c in cubes if (c.spectral_extrema[0] < restval) & (c.spectral_extrema[1] > restval)][0]\n",
    "print(cube)\n",
    "scube = (cube.subcube_from_regions(reg)\n",
    "         .with_spectral_unit(u.km/u.s,\n",
    "                                                          velocity_convention='radio',\n",
    "                                                          rest_value=restval)\n",
    "         .spectral_slab(-20*u.km/u.s+vcen, 20*u.km/u.s+vcen))\n",
    "print(scube)\n",
    "pl.figure(figsize=(14,5))\n",
    "pl.subplot(1,3,1)\n",
    "m0 = scube.moment0()\n",
    "m0.quicklook()\n",
    "pl.title(\"m0\")\n",
    "\n",
    "pl.subplot(1,3,2)\n",
    "mx = scube.max(axis=0)\n",
    "mx.quicklook()\n",
    "pl.title(\"mx\")\n",
    "pl.colorbar()\n",
    "pl.subplot(1,3,3)\n",
    "msk = mx > 0.04*mx.unit\n",
    "#msk = scipy.ndimage.binary_erosion(msk, iterations=1)\n",
    "msk = scipy.ndimage.binary_dilation(msk, iterations=14)\n",
    "pl.imshow(msk, interpolation='none', origin='lower')\n",
    "pl.title('mask')\n",
    "pl.tight_layout()\n",
    "pl.figure()\n",
    "\n",
    "\n",
    "m1 = scube.with_mask(msk).with_mask(scube > 0.0001*stackc.unit).moment1()\n",
    "pl.figure(figsize=(14,6))\n",
    "ax1 = pl.subplot(1,2,1)\n",
    "im = ax1.imshow(m1.value, vmin=-8, vmax=2)\n",
    "pl.colorbar(mappable=im)\n",
    "mxv = scube.with_mask(msk).argmax_world(axis=0)\n",
    "pl.subplot(1,2,2)\n",
    "pl.imshow(mxv.value, vmin=-8, vmax=2)\n",
    "pl.colorbar()\n",
    "\n",
    "\n",
    "#vmap = m1.hdu\n",
    "# the rest value selected above was just the line center; we need to assume it's really 32 km/s off\n",
    "#vmap.data = vmap.data"
   ]
  },
  {
   "cell_type": "code",
   "execution_count": null,
   "id": "59d9704a-6783-43b5-840d-9e31162445ce",
   "metadata": {
    "jp-MarkdownHeadingCollapsed": true,
    "tags": []
   },
   "outputs": [],
   "source": [
    "# try creating a vmap based on another line (SiS 12-11)\n",
    "restval = 217.81764400*u.GHz # '': \n",
    "cube = [c for c in cubes if (c.spectral_extrema[0] < restval) & (c.spectral_extrema[1] > restval)][0]\n",
    "print(cube)\n",
    "scube = (cube.subcube_from_regions(reg)\n",
    "         .with_spectral_unit(u.km/u.s,\n",
    "                             velocity_convention='radio',\n",
    "                             rest_value=restval)\n",
    "         .spectral_slab(-20*u.km/u.s+vcen, 20*u.km/u.s+vcen))\n",
    "print(scube)\n",
    "pl.figure(figsize=(14,5))\n",
    "pl.subplot(1,3,1)\n",
    "m0 = scube.moment0()\n",
    "m0.quicklook()\n",
    "pl.title(\"m0\")\n",
    "\n",
    "pl.subplot(1,3,2)\n",
    "mx = scube.max(axis=0)\n",
    "mx.quicklook()\n",
    "pl.title(\"mx\")\n",
    "pl.colorbar()\n",
    "pl.subplot(1,3,3)\n",
    "msk = mx > 0.022*mx.unit\n",
    "#msk = scipy.ndimage.binary_erosion(msk, iterations=1)\n",
    "msk = scipy.ndimage.binary_dilation(msk, iterations=14)\n",
    "pl.imshow(msk, interpolation='none', origin='lower')\n",
    "pl.title('mask')\n",
    "pl.tight_layout()\n",
    "pl.figure()\n",
    "\n",
    "\n",
    "m1 = scube.with_mask(msk).with_mask(scube > 0.0001*stackc.unit).moment1()\n",
    "pl.figure(figsize=(14,6))\n",
    "ax1 = pl.subplot(1,2,1)\n",
    "im = ax1.imshow(m1.value, vmin=-8, vmax=2)\n",
    "pl.colorbar(mappable=im)\n",
    "mxv = scube.with_mask(msk).argmax_world(axis=0)\n",
    "pl.subplot(1,2,2)\n",
    "pl.imshow(mxv.value, vmin=-8, vmax=2)\n",
    "pl.colorbar()\n",
    "\n",
    "\n",
    "vmap = m1.hdu"
   ]
  },
  {
   "cell_type": "code",
   "execution_count": null,
   "id": "primary-profit",
   "metadata": {},
   "outputs": [],
   "source": [
    "stackc = stackc.subcube_from_regions(reg)\n",
    "pl.figure(figsize=(14,5))\n",
    "pl.subplot(1,3,1)\n",
    "m0 = stackc.moment0()\n",
    "m0.quicklook()\n",
    "pl.title(\"m0\")\n",
    "\n",
    "pl.subplot(1,3,2)\n",
    "mx = stackc.max(axis=0)\n",
    "mx.quicklook()\n",
    "pl.title(\"mx\")\n",
    "pl.colorbar()\n",
    "pl.subplot(1,3,3)\n",
    "msk = mx > 0.0115*mx.unit\n",
    "msk = scipy.ndimage.binary_erosion(msk, iterations=1)\n",
    "msk = scipy.ndimage.binary_dilation(msk, iterations=15)\n",
    "pl.imshow(msk, interpolation='none', origin='lower')\n",
    "pl.title('mask')\n",
    "pl.tight_layout()\n",
    "pl.figure()\n",
    "\n",
    "\n",
    "m1 = stackc.with_mask(msk).with_mask(stackc > 0.0001*stackc.unit).moment1()\n",
    "pl.figure(figsize=(14,6))\n",
    "ax1 = pl.subplot(1,2,1)\n",
    "im = ax1.imshow(m1.value, vmin=-8, vmax=2)\n",
    "pl.colorbar(mappable=im)\n",
    "mxv = stackc.with_mask(msk).argmax_world(axis=0)\n",
    "pl.subplot(1,2,2)\n",
    "pl.imshow(mxv.value, vmin=-8, vmax=2)\n",
    "pl.colorbar()\n",
    "\n",
    "\n",
    "#vmap = m1.hdu"
   ]
  },
  {
   "cell_type": "code",
   "execution_count": null,
   "id": "hindu-hepatitis",
   "metadata": {},
   "outputs": [],
   "source": [
    "import sys\n",
    "sys.path.append('/orange/adamginsburg/salt/code/')\n",
    "from overplot_saltlines import overplot_saltlines"
   ]
  },
  {
   "cell_type": "code",
   "execution_count": null,
   "id": "baking-nature",
   "metadata": {},
   "outputs": [],
   "source": [
    "spectra = []\n",
    "for ii,cube in enumerate(cubes):\n",
    "    cube.allow_huge_operations=True\n",
    "    sp = cube.subcube_from_regions(reg).mean(axis=(1,2))\n",
    "    pysp = pyspeckit.Spectrum(data=sp, xarr=sp.spectral_axis, header=sp.header)\n",
    "    spectra.append(pysp)\n",
    "    pysp.specname = f'spw{ii+1}'"
   ]
  },
  {
   "cell_type": "code",
   "execution_count": null,
   "id": "judicial-meter",
   "metadata": {},
   "outputs": [],
   "source": [
    "mkdir -p spectra/figures"
   ]
  },
  {
   "cell_type": "code",
   "execution_count": null,
   "id": "physical-sister",
   "metadata": {},
   "outputs": [],
   "source": [
    "overplot_saltlines(spectra, vcen=vcen, savepath='spectra/figures')"
   ]
  },
  {
   "cell_type": "code",
   "execution_count": null,
   "id": "alleged-service",
   "metadata": {},
   "outputs": [],
   "source": [
    "ls spectra/figures"
   ]
  },
  {
   "cell_type": "code",
   "execution_count": null,
   "id": "palestinian-shame",
   "metadata": {},
   "outputs": [],
   "source": [
    "from IPython.display import Image,display"
   ]
  },
  {
   "cell_type": "code",
   "execution_count": null,
   "id": "graphic-actress",
   "metadata": {},
   "outputs": [],
   "source": [
    "for fn in glob.glob('spectra/figures/color*png'):\n",
    "    display(Image(fn))"
   ]
  },
  {
   "cell_type": "code",
   "execution_count": null,
   "id": "latter-cattle",
   "metadata": {
    "tags": []
   },
   "outputs": [],
   "source": [
    "import glob\n",
    "import spectral_cube.analysis_utilities\n",
    "import reproject\n",
    "from tqdm.notebook import tqdm\n",
    "\n",
    "\n",
    "cbflist = (glob.glob(f'{targetname}.config8.spw[0-3].robust0.5.image_co1_smaller.fits'))\n",
    "for fn in cbflist:\n",
    "    basename = os.path.split(fn)[-1].split(\".fits\")[0]\n",
    "    print(basename)\n",
    "    try:\n",
    "        cube = SpectralCube.read(fn, use_dask=True)\n",
    "    except Exception as ex:\n",
    "        print(ex)\n",
    "        continue\n",
    "    print(cube)\n",
    "    scube = cube.subcube_from_regions(reg)\n",
    "    # continuum subtract before stacking\n",
    "    scube = scube - scube.percentile(25, axis=0)\n",
    "    #mx = scube.max(axis=0)\n",
    "    #msk = mx > 0.003*mx.unit\n",
    "    print(\"Mean spectrum\")\n",
    "    sp = scube.mean(axis=(1,2))\n",
    "    \n",
    "    sp.write(f'spectra/{fn.split(\"/\")[-1].replace(\".fits\",\"_meanspec.fits\")}', overwrite=True)\n",
    "\n",
    "\n",
    "    # reproject the velocity map into the cube's coordinate system\n",
    "    vmap_proj,_ = reproject.reproject_interp(vmap,\n",
    "                                             scube.wcs.celestial,\n",
    "                                             shape_out=scube.shape[1:])\n",
    "    vmap_proj = u.Quantity(vmap_proj, u.km/u.s)\n",
    "\n",
    "    # convert to km/s with arbitrary rest value so 0 km/s can be interpreted\n",
    "    if scube.spectral_axis.unit.is_equivalent(u.Hz):\n",
    "        scube = scube.with_spectral_unit(u.km/u.s, velocity_convention='radio', rest_value=scube.spectral_axis.mean())\n",
    "\n",
    "    print(\"Stacking\")\n",
    "    # perform the stacking!\n",
    "    stack = spectral_cube.analysis_utilities.stack_spectra(scube, vmap_proj,\n",
    "                                                           v0=0.0*u.km/u.s,\n",
    "                                                           #progressbar=tqdm,\n",
    "                                                           #num_cores=8\n",
    "                                                          )\n",
    "    fstack = stack.with_spectral_unit(u.GHz)\n",
    "\n",
    "    pl.suptitle(f\"{fn}\")\n",
    "    fstack.write(f'spectra/{basename}_stack.fits', overwrite=True)\n",
    "\n",
    "    pl.clf()\n",
    "    fstack.quicklook(filename=f'spectra/figures/{basename}_stack.pdf')\n",
    "    fstack.quicklook(filename=f'spectra/figures/{basename}_stack.png')\n",
    "    \n",
    "    \n",
    "    fig = pl.figure()\n",
    "    mappable = pl.subplot(1,2,1).imshow(mx.value, origin='lower', interpolation='none')\n",
    "    pl.colorbar(mappable)\n",
    "    pl.subplot(1,2,2)\n",
    "    pl.suptitle(fn)\n",
    "    sp.quicklook()"
   ]
  },
  {
   "cell_type": "code",
   "execution_count": null,
   "id": "naval-terror",
   "metadata": {},
   "outputs": [],
   "source": [
    "ls spectra"
   ]
  },
  {
   "cell_type": "code",
   "execution_count": null,
   "id": "technological-fishing",
   "metadata": {},
   "outputs": [],
   "source": [
    "stackspectra = []\n",
    "for ii,fn in enumerate(glob.glob('spectra/*_stack.fits')):\n",
    "    pysp = pyspeckit.Spectrum(fn)\n",
    "    basename = os.path.basename(fn)\n",
    "    spl = basename.split(\".\")\n",
    "    pysp.specname = f'{spl[0]}_{spl[4]}_stack'\n",
    "    stackspectra.append(pysp)"
   ]
  },
  {
   "cell_type": "code",
   "execution_count": null,
   "id": "certain-paintball",
   "metadata": {},
   "outputs": [],
   "source": [
    "overplot_saltlines(stackspectra, vcen=vcen, savepath='spectra/figures')"
   ]
  },
  {
   "cell_type": "code",
   "execution_count": null,
   "id": "decent-function",
   "metadata": {},
   "outputs": [],
   "source": [
    "ls spectra/figures/"
   ]
  },
  {
   "cell_type": "code",
   "execution_count": null,
   "id": "aware-pastor",
   "metadata": {},
   "outputs": [],
   "source": [
    "for fn in glob.glob('spectra/figures/color*stack.png'):\n",
    "    display(Image(fn))"
   ]
  },
  {
   "cell_type": "code",
   "execution_count": null,
   "id": "pacific-baltimore",
   "metadata": {},
   "outputs": [],
   "source": []
  },
  {
   "cell_type": "code",
   "execution_count": null,
   "id": "automated-nitrogen",
   "metadata": {},
   "outputs": [],
   "source": []
  }
 ],
 "metadata": {
  "kernelspec": {
   "display_name": "Py 3.9",
   "language": "python",
   "name": "python39"
  },
  "language_info": {
   "codemirror_mode": {
    "name": "ipython",
    "version": 3
   },
   "file_extension": ".py",
   "mimetype": "text/x-python",
   "name": "python",
   "nbconvert_exporter": "python",
   "pygments_lexer": "ipython3",
   "version": "3.9.7"
  }
 },
 "nbformat": 4,
 "nbformat_minor": 5
}
