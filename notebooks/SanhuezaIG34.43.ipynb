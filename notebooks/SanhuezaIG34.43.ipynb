{
 "cells": [
  {
   "cell_type": "markdown",
   "id": "60352c62-5193-46ad-87e7-9cc2872f35f6",
   "metadata": {},
   "source": [
    "Concluded that there's no obvious disk to try to track down; none of the lines obviously guide toward anything useful."
   ]
  },
  {
   "cell_type": "markdown",
   "id": "95215712-c822-40cc-b6d9-b2fe5e277845",
   "metadata": {},
   "source": [
    "Distance from https://ui.adsabs.harvard.edu/abs/2011PASJ...63..513K%2F/abstract (Kurayama, VLBI parallax)\n",
    "\n",
    "Also from Xu?\n",
    "\n",
    "Apparently name mm1 comes from Rathborne 2006\n",
    "https://ui.adsabs.harvard.edu/abs/2006ApJ...641..389R\n",
    "\n",
    "Csengeri 2017 2017A&A...600L..10C gives best coordinates"
   ]
  },
  {
   "cell_type": "code",
   "execution_count": 1,
   "id": "08d2f126-b55c-4ff9-9e1c-d9c2c858ba76",
   "metadata": {},
   "outputs": [],
   "source": [
    "from astropy import units as u\n",
    "distance = 1.56*u.kpc \n",
    "vcen = 57.6 * u.km/u.s # from Patricio\n"
   ]
  },
  {
   "cell_type": "code",
   "execution_count": 2,
   "id": "adverse-conviction",
   "metadata": {},
   "outputs": [
    {
     "name": "stdout",
     "output_type": "stream",
     "text": [
      "/orange/adamginsburg/salt/sanhueza/G34.43\n"
     ]
    }
   ],
   "source": [
    "cd /orange/adamginsburg/salt/sanhueza/G34.43"
   ]
  },
  {
   "cell_type": "code",
   "execution_count": 3,
   "id": "94f0cf15-741b-4b7d-ae69-2d49de67bead",
   "metadata": {},
   "outputs": [
    {
     "name": "stdout",
     "output_type": "stream",
     "text": [
      "const frame = await app.openFile(\"/salt/sanhueza/G34.43/G34.43+0.24.config8.cont_avg.selfcal_0.5_hogbom.image.fits\");\n",
      "\n",
      "\n",
      "const frame0 = await app.appendFile(\"/salt/sanhueza/G34.43/G34.43+0.24.config8.spw0.robust0.5.image_small.fits\");\n",
      "frame0.restFreqStore.setCustomUnit(\"GHz\");\n",
      "frame0.restFreqStore.setCustomVal(234.251912);\n",
      "\n",
      "\n",
      "const frame1 = await app.appendFile(\"/salt/sanhueza/G34.43/G34.43+0.24.config8.spw1.robust0.5.image_small.fits\");\n",
      "frame1.restFreqStore.setCustomUnit(\"GHz\");\n",
      "frame1.restFreqStore.setCustomVal(232.6867);\n",
      "\n",
      "\n",
      "const frame2 = await app.appendFile(\"/salt/sanhueza/G34.43/G34.43+0.24.config8.spw2.robust0.5.image_small.fits\");\n",
      "frame2.restFreqStore.setCustomUnit(\"GHz\");\n",
      "frame2.restFreqStore.setCustomVal(217.817644);\n",
      "\n",
      "\n",
      "const frame3 = await app.appendFile(\"/salt/sanhueza/G34.43/G34.43+0.24.config8.spw3.robust0.5.image_small.fits\");\n",
      "frame3.restFreqStore.setCustomUnit(\"GHz\");\n",
      "frame3.restFreqStore.setCustomVal(219.614936);\n",
      "\n"
     ]
    }
   ],
   "source": [
    "# CARTA loading script\n",
    "\n",
    "field = 'G34.43+0.24'\n",
    "dirfield = 'G34.43'\n",
    "spwmap = {\n",
    "0: 234.251912,\n",
    "1: 232.6867,\n",
    "2: 217.817644,\n",
    "3: 219.614936,\n",
    "}\n",
    "basepath = f\"/salt/sanhueza/{dirfield}\"\n",
    "print(f\"\"\"const frame = await app.openFile(\"{basepath}/{field}.config8.cont_avg.selfcal_0.5_hogbom.image.fits\");\\n\"\"\")\n",
    "for spw in (0,1,2,3):\n",
    "      print(f\"\"\"\n",
    "const frame{spw} = await app.appendFile(\"{basepath}/{field}.config8.spw{spw}.robust0.5.image_small.fits\");\n",
    "frame{spw}.restFreqStore.setCustomUnit(\"GHz\");\n",
    "frame{spw}.restFreqStore.setCustomVal({spwmap[spw]});\n",
    "\"\"\")"
   ]
  },
  {
   "cell_type": "code",
   "execution_count": 4,
   "id": "ba8dd18a-cc25-4b98-8976-b389e5c946e4",
   "metadata": {},
   "outputs": [
    {
     "name": "stdout",
     "output_type": "stream",
     "text": [
      "/orange/adamginsburg/salt/sanhueza/G34.43/G34.43+0.24.config8.cont_avg.selfcal_0.5_hogbom.image.fits\n"
     ]
    }
   ],
   "source": [
    "%%bash\n",
    "ls $PWD/G34.43+0.24.config8.cont_avg.selfcal_0.5_hogbom.image.fits"
   ]
  },
  {
   "cell_type": "code",
   "execution_count": 5,
   "id": "cultural-collect",
   "metadata": {},
   "outputs": [
    {
     "name": "stdout",
     "output_type": "stream",
     "text": [
      "cutout.reg\n",
      "G34.43+0.24.config8.cont_avg.selfcal_0.5_hogbom.image.fits\n",
      "G34.43+0.24.config8.spw0.robust0.5.image_co1_smaller.fits\n",
      "G34.43+0.24.config8.spw0.robust0.5.image_small.fits\n",
      "G34.43+0.24.config8.spw1.robust0.5.image_co1_smaller.fits\n",
      "G34.43+0.24.config8.spw1.robust0.5.image_small.fits\n",
      "G34.43+0.24.config8.spw2.robust0.5.image_co1_smaller.fits\n",
      "G34.43+0.24.config8.spw2.robust0.5.image_small.fits\n",
      "G34.43+0.24.config8.spw3.robust0.5.image_co1_smaller.fits\n",
      "G34.43+0.24.config8.spw3.robust0.5.image_small.fits\n",
      "NaCl_v_le_3_stackcube.fits\n",
      "\u001b[0m\u001b[01;34mspectra\u001b[0m/\n"
     ]
    }
   ],
   "source": [
    "ls"
   ]
  },
  {
   "cell_type": "code",
   "execution_count": 6,
   "id": "ac217334-8011-4258-ae9b-7f9192535364",
   "metadata": {},
   "outputs": [],
   "source": [
    "targetname = 'G34.43+0.24'"
   ]
  },
  {
   "cell_type": "markdown",
   "id": "b3066d98-0f24-4019-91e1-5f6c83362391",
   "metadata": {},
   "source": [
    "for fn in glob.glob(\"*.fits\"):\n",
    "    print('app"
   ]
  },
  {
   "cell_type": "code",
   "execution_count": 7,
   "id": "boxed-values",
   "metadata": {},
   "outputs": [
    {
     "data": {
      "text/plain": [
       "<astropy.visualization.units.quantity_support.<locals>.MplQuantityConverter at 0x2b264dc6b8e0>"
      ]
     },
     "execution_count": 7,
     "metadata": {},
     "output_type": "execute_result"
    }
   ],
   "source": [
    "%matplotlib inline\n",
    "import pylab as pl\n",
    "pl.rcParams['figure.facecolor'] = 'w'\n",
    "from spectral_cube import SpectralCube\n",
    "from astropy import units as u\n",
    "from astropy.visualization import quantity_support\n",
    "quantity_support()"
   ]
  },
  {
   "cell_type": "code",
   "execution_count": 8,
   "id": "executive-senator",
   "metadata": {},
   "outputs": [],
   "source": [
    "from astropy.table import Table\n",
    "from astropy import table"
   ]
  },
  {
   "cell_type": "code",
   "execution_count": 9,
   "id": "robust-anchor",
   "metadata": {},
   "outputs": [],
   "source": [
    "import pprint"
   ]
  },
  {
   "cell_type": "code",
   "execution_count": 10,
   "id": "sustainable-tiffany",
   "metadata": {},
   "outputs": [],
   "source": [
    "import scipy, scipy.ndimage"
   ]
  },
  {
   "cell_type": "code",
   "execution_count": 11,
   "id": "visible-princess",
   "metadata": {},
   "outputs": [
    {
     "name": "stderr",
     "output_type": "stream",
     "text": [
      "WARNING: Model is linear in parameters; consider using linear fitting methods. [astropy.modeling.fitting]\n",
      "WARNING: Model is linear in parameters; consider using linear fitting methods. [astropy.modeling.fitting]\n"
     ]
    }
   ],
   "source": [
    "import numpy as np\n",
    "import os\n",
    "import glob\n",
    "from astropy import constants, units as u, table, stats, coordinates, wcs, log, coordinates as coord, visualization\n",
    "import radio_beam\n",
    "import pyspeckit\n",
    "import pylab as pl\n",
    "from astroquery.splatalogue.utils import minimize_table as mt\n",
    "import sys\n",
    "sys.path.append('/orange/adamginsburg/salt/Orion_ALMA_2016.1.00165.S/analysis')\n",
    "import lines\n",
    "import paths\n",
    "from salt_tables import (salt_tables, salt_table_names, SO, SO2, HCl, sis_tables, AlCl, AlF, Al37Cl,\n",
    "                         NaF, AlO, AlOH, NaCN, CaS, CaO)"
   ]
  },
  {
   "cell_type": "code",
   "execution_count": 12,
   "id": "dental-prayer",
   "metadata": {},
   "outputs": [],
   "source": [
    "import regions\n",
    "from astropy import units as u, coordinates\n",
    "reg = regions.Regions.read('cutout.reg')\n",
    "#reg2 = regions.Regions.read('cutout2.reg')\n",
    "#reg3 = regions.Regions.read('cutout3.reg')\n",
    "#regvsm = regions.Regions.read('verysmall.reg')\n",
    "#regvvsm = regions.Regions.read('innerdiskbox.reg')"
   ]
  },
  {
   "cell_type": "code",
   "execution_count": 13,
   "id": "668be547-d815-46ff-bc9a-66d724a8b0d8",
   "metadata": {},
   "outputs": [
    {
     "data": {
      "text/plain": [
       "<SkyCoord (Galactic): (l, b) in deg\n",
       "    (34.41132396, 0.23491391)>"
      ]
     },
     "execution_count": 13,
     "metadata": {},
     "output_type": "execute_result"
    }
   ],
   "source": [
    "reg[0].center.galactic"
   ]
  },
  {
   "cell_type": "code",
   "execution_count": 14,
   "id": "d2aee297-d321-45b4-8e3b-c7c419a8cdf9",
   "metadata": {},
   "outputs": [
    {
     "data": {
      "text/html": [
       "<div><i>Table length=19</i>\n",
       "<table id=\"table47443687829568\" class=\"table-striped table-bordered table-condensed\">\n",
       "<thead><tr><th>MAIN_ID</th><th>RA</th><th>DEC</th><th>RA_PREC</th><th>DEC_PREC</th><th>COO_ERR_MAJA</th><th>COO_ERR_MINA</th><th>COO_ERR_ANGLE</th><th>COO_QUAL</th><th>COO_WAVELENGTH</th><th>COO_BIBCODE</th><th>SCRIPT_NUMBER_ID</th></tr></thead>\n",
       "<thead><tr><th></th><th>&quot;h:m:s&quot;</th><th>&quot;d:m:s&quot;</th><th></th><th></th><th>mas</th><th>mas</th><th>deg</th><th></th><th></th><th></th><th></th></tr></thead>\n",
       "<thead><tr><th>object</th><th>str13</th><th>str13</th><th>int16</th><th>int16</th><th>float32</th><th>float32</th><th>int16</th><th>str1</th><th>str1</th><th>object</th><th>int32</th></tr></thead>\n",
       "<tr><td>[CBW2017] G034.4112+00.2344-MM1</td><td>18 53 18.02</td><td>+01 25 25.5</td><td>6</td><td>6</td><td>--</td><td>--</td><td>0</td><td>D</td><td>s</td><td>2017A&amp;A...600L..10C</td><td>1</td></tr>\n",
       "<tr><td>[LZL2014] IRAS 18507+0121 P1</td><td>18 53 18.000</td><td>+01 25 25.50</td><td>7</td><td>7</td><td>--</td><td>--</td><td>0</td><td>D</td><td>R</td><td>2014ApJ...790...84L</td><td>1</td></tr>\n",
       "<tr><td>NAME G34.4MM</td><td>18 53 18.0319</td><td>+01 25 25.500</td><td>8</td><td>8</td><td>--</td><td>--</td><td>0</td><td>B</td><td>R</td><td>2019ApJ...885..131R</td><td>1</td></tr>\n",
       "<tr><td>[SNB2004] 124</td><td>18 53 18.04</td><td>+01 25 25.2</td><td>6</td><td>6</td><td>--</td><td>--</td><td>0</td><td>D</td><td></td><td>2004ApJ...602..850S</td><td>1</td></tr>\n",
       "<tr><td>[SPW2007] G34.4B</td><td>18 53 18.0</td><td>+01 25 25</td><td>5</td><td>5</td><td>--</td><td>--</td><td>0</td><td>E</td><td></td><td></td><td>1</td></tr>\n",
       "<tr><td>AGAL G034.411+00.234</td><td>18 53 18.0</td><td>+01 25 24</td><td>5</td><td>5</td><td>--</td><td>--</td><td>0</td><td>D</td><td>m</td><td>2006ApJ...641..389R</td><td>1</td></tr>\n",
       "<tr><td>EGO G034.41+0.24</td><td>18 53 17.9</td><td>+01 25 25</td><td>5</td><td>5</td><td>--</td><td>--</td><td>0</td><td>D</td><td>I</td><td>2008AJ....136.2391C</td><td>1</td></tr>\n",
       "<tr><td>[SNB2004] 133</td><td>18 53 17.91</td><td>+01 25 28.3</td><td>6</td><td>6</td><td>--</td><td>--</td><td>0</td><td>D</td><td></td><td>2004ApJ...602..850S</td><td>1</td></tr>\n",
       "<tr><td>[SNB2004] 131</td><td>18 53 17.82</td><td>+01 25 27.9</td><td>6</td><td>6</td><td>--</td><td>--</td><td>0</td><td>D</td><td></td><td>2004ApJ...602..850S</td><td>1</td></tr>\n",
       "<tr><td>[SNB2004] 132</td><td>18 53 18.22</td><td>+01 25 28.2</td><td>6</td><td>6</td><td>--</td><td>--</td><td>0</td><td>D</td><td></td><td>2004ApJ...602..850S</td><td>1</td></tr>\n",
       "<tr><td>[SNB2004] 122</td><td>18 53 18.30</td><td>+01 25 24.5</td><td>6</td><td>6</td><td>--</td><td>--</td><td>0</td><td>D</td><td></td><td>2004ApJ...602..850S</td><td>1</td></tr>\n",
       "<tr><td>[SNB2004] 130</td><td>18 53 18.31</td><td>+01 25 27.8</td><td>6</td><td>6</td><td>--</td><td>--</td><td>0</td><td>D</td><td></td><td>2004ApJ...602..850S</td><td>1</td></tr>\n",
       "<tr><td>[SNB2004] 136</td><td>18 53 17.80</td><td>+01 25 29.6</td><td>6</td><td>6</td><td>--</td><td>--</td><td>0</td><td>D</td><td></td><td>2004ApJ...602..850S</td><td>1</td></tr>\n",
       "<tr><td>[SNB2004] 113</td><td>18 53 18.20</td><td>+01 25 19.9</td><td>6</td><td>6</td><td>--</td><td>--</td><td>0</td><td>D</td><td></td><td>2004ApJ...602..850S</td><td>1</td></tr>\n",
       "<tr><td>[SNB2004] 116</td><td>18 53 17.67</td><td>+01 25 21.8</td><td>6</td><td>6</td><td>--</td><td>--</td><td>0</td><td>D</td><td></td><td>2004ApJ...602..850S</td><td>1</td></tr>\n",
       "<tr><td>[SNB2004] 110</td><td>18 53 17.87</td><td>+01 25 19.2</td><td>6</td><td>6</td><td>--</td><td>--</td><td>0</td><td>D</td><td></td><td>2004ApJ...602..850S</td><td>1</td></tr>\n",
       "<tr><td>[SNB2004] 129</td><td>18 53 18.45</td><td>+01 25 27.6</td><td>6</td><td>6</td><td>--</td><td>--</td><td>0</td><td>D</td><td></td><td>2004ApJ...602..850S</td><td>1</td></tr>\n",
       "<tr><td>[SNB2004] 106</td><td>18 53 17.70</td><td>+01 25 18.1</td><td>6</td><td>6</td><td>--</td><td>--</td><td>0</td><td>D</td><td></td><td>2004ApJ...602..850S</td><td>1</td></tr>\n",
       "<tr><td>[SNB2004] 107</td><td>18 53 18.44</td><td>+01 25 18.7</td><td>6</td><td>6</td><td>--</td><td>--</td><td>0</td><td>D</td><td></td><td>2004ApJ...602..850S</td><td>1</td></tr>\n",
       "</table></div>"
      ],
      "text/plain": [
       "<Table length=19>\n",
       "            MAIN_ID                   RA           DEC      RA_PREC DEC_PREC COO_ERR_MAJA COO_ERR_MINA COO_ERR_ANGLE COO_QUAL COO_WAVELENGTH     COO_BIBCODE     SCRIPT_NUMBER_ID\n",
       "                                   \"h:m:s\"       \"d:m:s\"                         mas          mas           deg                                                                  \n",
       "             object                 str13         str13      int16   int16     float32      float32        int16       str1        str1             object            int32      \n",
       "------------------------------- ------------- ------------- ------- -------- ------------ ------------ ------------- -------- -------------- ------------------- ----------------\n",
       "[CBW2017] G034.4112+00.2344-MM1   18 53 18.02   +01 25 25.5       6        6           --           --             0        D              s 2017A&A...600L..10C                1\n",
       "   [LZL2014] IRAS 18507+0121 P1  18 53 18.000  +01 25 25.50       7        7           --           --             0        D              R 2014ApJ...790...84L                1\n",
       "                   NAME G34.4MM 18 53 18.0319 +01 25 25.500       8        8           --           --             0        B              R 2019ApJ...885..131R                1\n",
       "                  [SNB2004] 124   18 53 18.04   +01 25 25.2       6        6           --           --             0        D                2004ApJ...602..850S                1\n",
       "               [SPW2007] G34.4B    18 53 18.0     +01 25 25       5        5           --           --             0        E                                                   1\n",
       "           AGAL G034.411+00.234    18 53 18.0     +01 25 24       5        5           --           --             0        D              m 2006ApJ...641..389R                1\n",
       "               EGO G034.41+0.24    18 53 17.9     +01 25 25       5        5           --           --             0        D              I 2008AJ....136.2391C                1\n",
       "                  [SNB2004] 133   18 53 17.91   +01 25 28.3       6        6           --           --             0        D                2004ApJ...602..850S                1\n",
       "                  [SNB2004] 131   18 53 17.82   +01 25 27.9       6        6           --           --             0        D                2004ApJ...602..850S                1\n",
       "                  [SNB2004] 132   18 53 18.22   +01 25 28.2       6        6           --           --             0        D                2004ApJ...602..850S                1\n",
       "                  [SNB2004] 122   18 53 18.30   +01 25 24.5       6        6           --           --             0        D                2004ApJ...602..850S                1\n",
       "                  [SNB2004] 130   18 53 18.31   +01 25 27.8       6        6           --           --             0        D                2004ApJ...602..850S                1\n",
       "                  [SNB2004] 136   18 53 17.80   +01 25 29.6       6        6           --           --             0        D                2004ApJ...602..850S                1\n",
       "                  [SNB2004] 113   18 53 18.20   +01 25 19.9       6        6           --           --             0        D                2004ApJ...602..850S                1\n",
       "                  [SNB2004] 116   18 53 17.67   +01 25 21.8       6        6           --           --             0        D                2004ApJ...602..850S                1\n",
       "                  [SNB2004] 110   18 53 17.87   +01 25 19.2       6        6           --           --             0        D                2004ApJ...602..850S                1\n",
       "                  [SNB2004] 129   18 53 18.45   +01 25 27.6       6        6           --           --             0        D                2004ApJ...602..850S                1\n",
       "                  [SNB2004] 106   18 53 17.70   +01 25 18.1       6        6           --           --             0        D                2004ApJ...602..850S                1\n",
       "                  [SNB2004] 107   18 53 18.44   +01 25 18.7       6        6           --           --             0        D                2004ApJ...602..850S                1"
      ]
     },
     "execution_count": 14,
     "metadata": {},
     "output_type": "execute_result"
    }
   ],
   "source": [
    "from astroquery.simbad import Simbad\n",
    "Simbad.query_region(reg[0].center, radius=10*u.arcsec)"
   ]
  },
  {
   "cell_type": "code",
   "execution_count": 15,
   "id": "2852b520-d9e6-4453-a775-3ea617e18f36",
   "metadata": {},
   "outputs": [
    {
     "name": "stderr",
     "output_type": "stream",
     "text": [
      "WARNING: StokesWarning: Cube is a Stokes cube, returning spectral cube for I component [spectral_cube.io.core]\n",
      "WARNING: WCSWarning: WCS1 is missing card PV2_1 [spectral_cube.wcs_utils]\n",
      "WARNING: WCSWarning: WCS1 is missing card PV2_2 [spectral_cube.wcs_utils]\n",
      "WARNING: WCSWarning: WCS1 is missing card PV2_1 [spectral_cube.wcs_utils]\n",
      "WARNING: WCSWarning: WCS1 is missing card PV2_2 [spectral_cube.wcs_utils]\n",
      "WARNING: WCSWarning: WCS1 is missing card PV2_1 [spectral_cube.wcs_utils]\n",
      "WARNING: WCSWarning: WCS1 is missing card PV2_2 [spectral_cube.wcs_utils]\n",
      "WARNING: WCSWarning: WCS1 is missing card PV2_1 [spectral_cube.wcs_utils]\n",
      "WARNING: WCSWarning: WCS1 is missing card PV2_2 [spectral_cube.wcs_utils]\n"
     ]
    },
    {
     "data": {
      "text/plain": [
       "(1996.0, 2089.0, 2005.0, 2097.0)"
      ]
     },
     "execution_count": 15,
     "metadata": {},
     "output_type": "execute_result"
    },
    {
     "data": {
      "image/png": "[encoded data removed]",
      "text/plain": [
       "<Figure size 720x720 with 1 Axes>"
      ]
     },
     "metadata": {},
     "output_type": "display_data"
    }
   ],
   "source": [
    "cont = SpectralCube.read('G34.43+0.24.config8.cont_avg.selfcal_0.5_hogbom.image.fits')\n",
    "pl.figure(figsize=(10,10))\n",
    "ax = pl.subplot(projection=cont[0].wcs)\n",
    "ax.imshow(cont[0].value, cmap='gray_r', norm=visualization.simple_norm(cont[0].value, stretch='log'))\n",
    "reg[0].to_pixel(cont[0].wcs).plot(ax=ax)\n",
    "#reg2[0].to_pixel(cont[0].wcs).plot(ax=ax)\n",
    "#regvsm[0].to_pixel(cont[0].wcs).plot(ax=ax)\n",
    "#regvvsm[0].to_pixel(cont[0].wcs).plot(ax=ax)\n",
    "pp = reg[0].to_pixel(cont.wcs.celestial)\n",
    "bb = pp.bounding_box\n",
    "ax.axis([bb.ixmin-20, bb.ixmax+20, bb.iymin-20, bb.iymax+20])"
   ]
  },
  {
   "cell_type": "markdown",
   "id": "chicken-cutting",
   "metadata": {},
   "source": [
    "# NaCl Stackl"
   ]
  },
  {
   "cell_type": "code",
   "execution_count": 16,
   "id": "informed-concrete",
   "metadata": {},
   "outputs": [],
   "source": [
    "from spectral_cube.analysis_utilities import stack_cube"
   ]
  },
  {
   "cell_type": "code",
   "execution_count": 17,
   "id": "controlling-melbourne",
   "metadata": {},
   "outputs": [],
   "source": [
    "nacltables = salt_tables[3:5]\n",
    "#nacltables[0]"
   ]
  },
  {
   "cell_type": "code",
   "execution_count": 18,
   "id": "leading-atlas",
   "metadata": {},
   "outputs": [],
   "source": [
    "import spectral_cube.analysis_utilities\n",
    "import imp\n",
    "imp.reload(spectral_cube.analysis_utilities)\n",
    "from spectral_cube.analysis_utilities import stack_cube"
   ]
  },
  {
   "cell_type": "code",
   "execution_count": 19,
   "id": "black-salvation",
   "metadata": {},
   "outputs": [],
   "source": [
    "flist = (glob.glob(f'{targetname}.config8.spw[0-3].robust0.5.image_small.fits'))"
   ]
  },
  {
   "cell_type": "code",
   "execution_count": 20,
   "id": "2937665b-e9bf-41e1-9522-7cf6104b7e15",
   "metadata": {},
   "outputs": [
    {
     "data": {
      "text/plain": [
       "['G34.43+0.24.config8.spw3.robust0.5.image_small.fits',\n",
       " 'G34.43+0.24.config8.spw2.robust0.5.image_small.fits',\n",
       " 'G34.43+0.24.config8.spw0.robust0.5.image_small.fits',\n",
       " 'G34.43+0.24.config8.spw1.robust0.5.image_small.fits']"
      ]
     },
     "execution_count": 20,
     "metadata": {},
     "output_type": "execute_result"
    }
   ],
   "source": [
    "flist"
   ]
  },
  {
   "cell_type": "code",
   "execution_count": 21,
   "id": "d03eea2b-e4e1-4c41-ba87-9ac214afe384",
   "metadata": {},
   "outputs": [
    {
     "data": {
      "text/plain": [
       "<dask.config.set at 0x2b265826a460>"
      ]
     },
     "execution_count": 21,
     "metadata": {},
     "output_type": "execute_result"
    }
   ],
   "source": [
    "#from dask.diagnostics import ProgressBar\n",
    "#pbar = ProgressBar()\n",
    "#pbar.register()\n",
    "\n",
    "import dask\n",
    "dask.config.set(scheduler='threads', num_workers=8)"
   ]
  },
  {
   "cell_type": "code",
   "execution_count": 22,
   "id": "tired-immune",
   "metadata": {},
   "outputs": [
    {
     "name": "stderr",
     "output_type": "stream",
     "text": [
      "WARNING: StokesWarning: Cube is a Stokes cube, returning spectral cube for I component [spectral_cube.io.core]\n",
      "WARNING: StokesWarning: Cube is a Stokes cube, returning spectral cube for I component [spectral_cube.io.core]\n",
      "WARNING: PossiblySlowWarning: This function (<function VaryingResolutionSpectralCube.convolve_to at 0x2b264d638940>) requires loading the entire cube into memory and may therefore be slow. [spectral_cube.utils]\n",
      "WARNING: PossiblySlowWarning: This function (<function BaseSpectralCube.to at 0x2b264d635280>) requires loading the entire cube into memory and may therefore be slow. [spectral_cube.utils]\n",
      "WARNING: StokesWarning: Cube is a Stokes cube, returning spectral cube for I component [spectral_cube.io.core]\n",
      "WARNING: StokesWarning: Cube is a Stokes cube, returning spectral cube for I component [spectral_cube.io.core]\n",
      "WARNING: PossiblySlowWarning: This function (<function VaryingResolutionSpectralCube.convolve_to at 0x2b264d638940>) requires loading the entire cube into memory and may therefore be slow. [spectral_cube.utils]\n",
      "WARNING: PossiblySlowWarning: This function (<function BaseSpectralCube.to at 0x2b264d635280>) requires loading the entire cube into memory and may therefore be slow. [spectral_cube.utils]\n",
      "WARNING: StokesWarning: Cube is a Stokes cube, returning spectral cube for I component [spectral_cube.io.core]\n",
      "WARNING: StokesWarning: Cube is a Stokes cube, returning spectral cube for I component [spectral_cube.io.core]\n",
      "WARNING: PossiblySlowWarning: This function (<function VaryingResolutionSpectralCube.convolve_to at 0x2b264d638940>) requires loading the entire cube into memory and may therefore be slow. [spectral_cube.utils]\n",
      "WARNING: PossiblySlowWarning: This function (<function BaseSpectralCube.to at 0x2b264d635280>) requires loading the entire cube into memory and may therefore be slow. [spectral_cube.utils]\n",
      "WARNING: StokesWarning: Cube is a Stokes cube, returning spectral cube for I component [spectral_cube.io.core]\n",
      "WARNING: StokesWarning: Cube is a Stokes cube, returning spectral cube for I component [spectral_cube.io.core]\n",
      "WARNING: PossiblySlowWarning: This function (<function VaryingResolutionSpectralCube.convolve_to at 0x2b264d638940>) requires loading the entire cube into memory and may therefore be slow. [spectral_cube.utils]\n",
      "WARNING: PossiblySlowWarning: This function (<function BaseSpectralCube.to at 0x2b264d635280>) requires loading the entire cube into memory and may therefore be slow. [spectral_cube.utils]\n"
     ]
    }
   ],
   "source": [
    "for fn in flist:\n",
    "    for rr,regn in ( (reg, 'co1'), ):\n",
    "        outfile = fn.replace(\"_small\",f\"_{regn}_smaller\")\n",
    "        if not os.path.exists(outfile) or SpectralCube.read(fn, use_dask=True).unit != u.K:\n",
    "            cube = SpectralCube.read(fn, use_dask=False).subcube_from_regions(rr)\n",
    "            cube.allow_huge_operations=True\n",
    "            #with cube.use_dask_scheduler('threads', num_workers=8):\n",
    "            cb = cube.beams.common_beam(max_iter=20, max_epsilon=0.01)\n",
    "            scube = cube.convolve_to(cb).to(u.K)\n",
    "            scube.write(outfile, overwrite=True)"
   ]
  },
  {
   "cell_type": "code",
   "execution_count": 23,
   "id": "fifty-poster",
   "metadata": {},
   "outputs": [
    {
     "name": "stderr",
     "output_type": "stream",
     "text": [
      "WARNING: PossiblySlowWarning: This function (<function BaseSpectralCube._apply_everywhere at 0x2b264d630dc0>) requires loading the entire cube into memory and may therefore be slow. [spectral_cube.utils]\n",
      "WARNING: PossiblySlowWarning: This function (<function BaseSpectralCube._apply_everywhere at 0x2b264d630dc0>) requires loading the entire cube into memory and may therefore be slow. [spectral_cube.utils]\n",
      "WARNING: PossiblySlowWarning: This function (<function BaseSpectralCube._apply_everywhere at 0x2b264d630dc0>) requires loading the entire cube into memory and may therefore be slow. [spectral_cube.utils]\n",
      "WARNING: PossiblySlowWarning: This function (<function BaseSpectralCube._apply_everywhere at 0x2b264d630dc0>) requires loading the entire cube into memory and may therefore be slow. [spectral_cube.utils]\n"
     ]
    },
    {
     "data": {
      "text/plain": [
       "[DaskSpectralCube with shape=(3866, 50, 52) and unit=K and chunk size (3866, 50, 52):\n",
       "  n_x:     52  type_x: RA---SIN  unit_x: deg    range:   283.324967 deg:  283.325151 deg\n",
       "  n_y:     50  type_y: DEC--SIN  unit_y: deg    range:     1.423664 deg:    1.423841 deg\n",
       "  n_s:   3866  type_s: FREQ      unit_s: Hz     range: 219062738860.000 Hz:220949992551.736 Hz,\n",
       " DaskSpectralCube with shape=(3866, 50, 52) and unit=K and chunk size (3866, 50, 52):\n",
       "  n_x:     52  type_x: RA---SIN  unit_x: deg    range:   283.324967 deg:  283.325151 deg\n",
       "  n_y:     50  type_y: DEC--SIN  unit_y: deg    range:     1.423664 deg:    1.423841 deg\n",
       "  n_s:   3866  type_s: FREQ      unit_s: Hz     range: 216862738681.100 Hz:218749992372.836 Hz,\n",
       " DaskSpectralCube with shape=(1933, 50, 52) and unit=K and chunk size (1933, 50, 52):\n",
       "  n_x:     52  type_x: RA---SIN  unit_x: deg    range:   283.324967 deg:  283.325151 deg\n",
       "  n_y:     50  type_y: DEC--SIN  unit_y: deg    range:     1.423664 deg:    1.423841 deg\n",
       "  n_s:   1933  type_s: FREQ      unit_s: Hz     range: 231062983982.800 Hz:232949749381.214 Hz,\n",
       " DaskSpectralCube with shape=(1934, 50, 52) and unit=K and chunk size (1934, 50, 52):\n",
       "  n_x:     52  type_x: RA---SIN  unit_x: deg    range:   283.324967 deg:  283.325151 deg\n",
       "  n_y:     50  type_y: DEC--SIN  unit_y: deg    range:     1.423664 deg:    1.423841 deg\n",
       "  n_s:   1934  type_s: FREQ      unit_s: Hz     range: 233562984186.100 Hz:235450726171.041 Hz]"
      ]
     },
     "execution_count": 23,
     "metadata": {},
     "output_type": "execute_result"
    }
   ],
   "source": [
    "regn = \"co1\"\n",
    "# don't need to subcube b/c reg = cutout = co1\n",
    "cubes = [SpectralCube.read(fn, use_dask=True)#.subcube_from_regions(reg3)\n",
    "         for fn in (glob.glob(f'{targetname}.config8.spw[0-3].robust0.5.image_{regn}_smaller.fits'))]\n",
    "for ii,cube in enumerate(cubes):\n",
    "    # continuum subtract\n",
    "    with cube.use_dask_scheduler('threads', num_workers=8):\n",
    "        cube.allow_huge_operations = True\n",
    "        cubes[ii] = cube - cube.percentile(25, axis=0)\n",
    "cubes"
   ]
  },
  {
   "cell_type": "code",
   "execution_count": 24,
   "id": "earlier-school",
   "metadata": {},
   "outputs": [],
   "source": [
    "# only needed for VRSCs\n",
    "if hasattr(cubes[0], 'beams'):\n",
    "    beams = radio_beam.Beams(beams=[cube.beams.common_beam(max_iter=20, max_epsilon=0.01) for cube in cubes])\n",
    "    cb=beams.common_beam()\n",
    "else:\n",
    "    beams = radio_beam.Beams(beams=[cube.beam for cube in cubes])\n",
    "    cb=beams.common_beam()"
   ]
  },
  {
   "cell_type": "code",
   "execution_count": 25,
   "id": "ac2dcaa4-afdd-41d1-adb1-272e2f186014",
   "metadata": {},
   "outputs": [
    {
     "data": {
      "text/latex": [
       "Beam: BMAJ=$0.10545357896124365^{''}$ BMIN=$0.07615044361590363^{''}$ BPA=$61.24926403267721^\\circ$"
      ],
      "text/plain": [
       "Beam: BMAJ=0.10545357896124365 arcsec BMIN=0.07615044361590363 arcsec BPA=61.24926403267721 deg"
      ]
     },
     "execution_count": 25,
     "metadata": {},
     "output_type": "execute_result"
    }
   ],
   "source": [
    "cb"
   ]
  },
  {
   "cell_type": "code",
   "execution_count": 26,
   "id": "01f1c934-ae86-45b2-b18f-a8ee03cead70",
   "metadata": {},
   "outputs": [
    {
     "data": {
      "text/latex": [
       "$164.50758 \\; \\mathrm{AU}$"
      ],
      "text/plain": [
       "<Quantity 164.50758318 AU>"
      ]
     },
     "execution_count": 26,
     "metadata": {},
     "output_type": "execute_result"
    }
   ],
   "source": [
    "(cb.major*distance).to(u.au, u.dimensionless_angles())"
   ]
  },
  {
   "cell_type": "code",
   "execution_count": 27,
   "id": "3c24d4f0-3249-4d78-8f51-2ea80b9400f6",
   "metadata": {},
   "outputs": [
    {
     "data": {
      "text/latex": [
       "$118.79469 \\; \\mathrm{AU}$"
      ],
      "text/plain": [
       "<Quantity 118.79469204 AU>"
      ]
     },
     "execution_count": 27,
     "metadata": {},
     "output_type": "execute_result"
    }
   ],
   "source": [
    "(cb.minor*distance).to(u.au, u.dimensionless_angles())"
   ]
  },
  {
   "cell_type": "code",
   "execution_count": 28,
   "id": "necessary-emission",
   "metadata": {},
   "outputs": [
    {
     "data": {
      "text/plain": [
       "(<Quantity [217.980231, 219.614936, 232.509977, 234.251912] GHz>,\n",
       " array(['23Na-35Clv=2-2 J=17-16', '23Na-35Clv=1-1 J=17-16',\n",
       "        '23Na-35Clv=1-1 J=18-17', '23Na-35Clv=0-0 J=18-17'], dtype='<U24'))"
      ]
     },
     "execution_count": 28,
     "metadata": {},
     "output_type": "execute_result"
    }
   ],
   "source": [
    "linelist = np.concatenate([data['Freq'][(data['vu'] <= 3) &\n",
    "                                          np.any([((data['Freq'].quantity > cube.spectral_extrema[0]) &\n",
    "                                                   (data['Freq'].quantity < cube.spectral_extrema[1]))\n",
    "                                                 for cube in cubes],\n",
    "                                                 axis=0)].quantity\n",
    "                             for data in nacltables])\n",
    "linenames = np.concatenate( [data['Species'][(data['vu'] <= 3) &\n",
    "                                          np.any([((data['Freq'].quantity > cube.spectral_extrema[0]) &\n",
    "                                                   (data['Freq'].quantity < cube.spectral_extrema[1]))\n",
    "                                                 for cube in cubes],\n",
    "                                                 axis=0)]\n",
    "                             for data in nacltables] )\n",
    "(linelist, linenames)"
   ]
  },
  {
   "cell_type": "code",
   "execution_count": 29,
   "id": "underlying-hawaii",
   "metadata": {},
   "outputs": [],
   "source": [
    "from astropy import log\n",
    "log.setLevel('INFO')"
   ]
  },
  {
   "cell_type": "code",
   "execution_count": 30,
   "id": "cheap-bradford",
   "metadata": {},
   "outputs": [
    {
     "name": "stderr",
     "output_type": "stream",
     "text": [
      "WARNING: SliceWarning: The maxmimum and minimum spectral channel in the spectralslab are identical; this indicates that one or both are likely incorrect and/or out of range. [spectral_cube.spectral_cube]\n",
      "WARNING: SliceWarning: The maxmimum and minimum spectral channel in the spectralslab are identical; this indicates that one or both are likely incorrect and/or out of range. [spectral_cube.spectral_cube]\n",
      "WARNING: SliceWarning: The maxmimum and minimum spectral channel in the spectralslab are identical; this indicates that one or both are likely incorrect and/or out of range. [spectral_cube.spectral_cube]\n",
      "WARNING: SliceWarning: The maxmimum and minimum spectral channel in the spectralslab are identical; this indicates that one or both are likely incorrect and/or out of range. [spectral_cube.spectral_cube]\n",
      "WARNING: SliceWarning: The maxmimum and minimum spectral channel in the spectralslab are identical; this indicates that one or both are likely incorrect and/or out of range. [spectral_cube.spectral_cube]\n",
      "WARNING: SliceWarning: The maxmimum and minimum spectral channel in the spectralslab are identical; this indicates that one or both are likely incorrect and/or out of range. [spectral_cube.spectral_cube]\n",
      "WARNING: SliceWarning: The maxmimum and minimum spectral channel in the spectralslab are identical; this indicates that one or both are likely incorrect and/or out of range. [spectral_cube.spectral_cube]\n",
      "WARNING: SliceWarning: The maxmimum and minimum spectral channel in the spectralslab are identical; this indicates that one or both are likely incorrect and/or out of range. [spectral_cube.spectral_cube]\n",
      "WARNING: SliceWarning: The maxmimum and minimum spectral channel in the spectralslab are identical; this indicates that one or both are likely incorrect and/or out of range. [spectral_cube.spectral_cube]\n",
      "WARNING: SliceWarning: The maxmimum and minimum spectral channel in the spectralslab are identical; this indicates that one or both are likely incorrect and/or out of range. [spectral_cube.spectral_cube]\n",
      "WARNING: SliceWarning: The maxmimum and minimum spectral channel in the spectralslab are identical; this indicates that one or both are likely incorrect and/or out of range. [spectral_cube.spectral_cube]\n",
      "WARNING: SliceWarning: The maxmimum and minimum spectral channel in the spectralslab are identical; this indicates that one or both are likely incorrect and/or out of range. [spectral_cube.spectral_cube]\n"
     ]
    }
   ],
   "source": [
    "#log.setLevel('DEBUG')\n",
    "vcen = 57.6 * u.km/u.s # from Patricio\n",
    "stack, cutouts = stack_cube(cubes,\n",
    "                   linelist=linelist,\n",
    "                   vmin=vcen-25*u.km/u.s,\n",
    "                   vmax=vcen+25*u.km/u.s,\n",
    "                   average=np.nanmean,\n",
    "                   convolve_beam=cb,\n",
    "                   return_cutouts=True)\n",
    "#log.setLevel('INFO')\n",
    "stack.write('NaCl_v_le_3_stackcube.fits', overwrite=True)"
   ]
  },
  {
   "cell_type": "code",
   "execution_count": 31,
   "id": "studied-hawaiian",
   "metadata": {},
   "outputs": [
    {
     "data": {
      "text/plain": [
       "SpectralCube with shape=(75, 50, 52) and unit=K:\n",
       " n_x:     52  type_x: RA---SIN  unit_x: deg    range:   283.324967 deg:  283.325151 deg\n",
       " n_y:     50  type_y: DEC--SIN  unit_y: deg    range:     1.423664 deg:    1.423841 deg\n",
       " n_s:     75  type_s: VRAD      unit_s: km / s  range:       32.616 km / s:      82.311 km / s"
      ]
     },
     "execution_count": 31,
     "metadata": {},
     "output_type": "execute_result"
    }
   ],
   "source": [
    "stackc = SpectralCube.read('NaCl_v_le_3_stackcube.fits')\n",
    "stackc"
   ]
  },
  {
   "cell_type": "code",
   "execution_count": 32,
   "id": "fa2f73ef-f92b-47c7-abc2-61fd07751b65",
   "metadata": {},
   "outputs": [],
   "source": [
    "jtok = stackc.beam.jtok(217*u.GHz)"
   ]
  },
  {
   "cell_type": "code",
   "execution_count": 33,
   "id": "9e3c5447-b567-4073-8d14-33ee718e18c4",
   "metadata": {},
   "outputs": [
    {
     "data": {
      "text/latex": [
       "$232.64199 \\; \\mathrm{}$"
      ],
      "text/plain": [
       "<Quantity 232.64199323>"
      ]
     },
     "execution_count": 33,
     "metadata": {},
     "output_type": "execute_result"
    }
   ],
   "source": [
    "232.6867*(1-vcen/constants.c).decompose()"
   ]
  },
  {
   "cell_type": "code",
   "execution_count": 34,
   "id": "071b4fd3-415d-4c5b-99b5-293a39e13d16",
   "metadata": {},
   "outputs": [],
   "source": [
    "pl.rcParams['image.origin'] = 'lower'"
   ]
  },
  {
   "cell_type": "code",
   "execution_count": 36,
   "id": "5e13a272-552b-41ee-a896-f2c897cb5bbb",
   "metadata": {
    "jp-MarkdownHeadingCollapsed": true,
    "tags": []
   },
   "outputs": [
    {
     "name": "stdout",
     "output_type": "stream",
     "text": [
      "DaskSpectralCube with shape=(1933, 50, 52) and unit=K and chunk size (1933, 50, 52):\n",
      " n_x:     52  type_x: RA---SIN  unit_x: deg    range:   283.324967 deg:  283.325151 deg\n",
      " n_y:     50  type_y: DEC--SIN  unit_y: deg    range:     1.423664 deg:    1.423841 deg\n",
      " n_s:   1933  type_s: FREQ      unit_s: Hz     range: 231062983982.800 Hz:232949749381.214 Hz\n",
      "DaskSpectralCube with shape=(33, 50, 52) and unit=K and chunk size (33, 50, 52):\n",
      " n_x:     52  type_x: RA---SIN  unit_x: deg    range:   283.324967 deg:  283.325151 deg\n",
      " n_y:     50  type_y: DEC--SIN  unit_y: deg    range:     1.423664 deg:    1.423841 deg\n",
      " n_s:     33  type_s: VRAD      unit_s: km / s  range:       37.299 km / s:      77.562 km / s\n"
     ]
    },
    {
     "name": "stderr",
     "output_type": "stream",
     "text": [
      "WARNING: PossiblySlowWarning: This function (<function BaseSpectralCube.argmax_world at 0x2b264d630a60>) requires loading the entire cube into memory and may therefore be slow. [spectral_cube.utils]\n"
     ]
    },
    {
     "data": {
      "image/png": "[encoded data removed]",
      "text/plain": [
       "<Figure size 1008x360 with 4 Axes>"
      ]
     },
     "metadata": {},
     "output_type": "display_data"
    },
    {
     "data": {
      "text/plain": [
       "<Figure size 432x288 with 0 Axes>"
      ]
     },
     "metadata": {},
     "output_type": "display_data"
    },
    {
     "data": {
      "image/png": "[encoded data removed]",
      "text/plain": [
       "<Figure size 1008x432 with 4 Axes>"
      ]
     },
     "metadata": {},
     "output_type": "display_data"
    }
   ],
   "source": [
    "# try creating a vmap based on another line (water)\n",
    "restval = 232.6867*u.GHz # 'H2Ov2=1_5(5,0)-6(4,3)': \n",
    "cube = [c for c in cubes if (c.spectral_extrema[0] < restval) & (c.spectral_extrema[1] > restval)][0]\n",
    "print(cube)\n",
    "scube = (cube.subcube_from_regions(reg)\n",
    "         .with_spectral_unit(u.km/u.s,\n",
    "                                                          velocity_convention='radio',\n",
    "                                                          rest_value=restval)\n",
    "         .spectral_slab(-20*u.km/u.s+vcen, 20*u.km/u.s+vcen))\n",
    "print(scube)\n",
    "pl.figure(figsize=(14,5))\n",
    "pl.subplot(1,3,1)\n",
    "m0 = scube.moment0()\n",
    "m0.quicklook(use_aplpy=False)\n",
    "pl.title(\"m0\")\n",
    "\n",
    "pl.subplot(1,3,2)\n",
    "mx = scube.max(axis=0)\n",
    "mx.quicklook(use_aplpy=False)\n",
    "pl.title(\"mx\")\n",
    "pl.colorbar()\n",
    "pl.subplot(1,3,3)\n",
    "msk = mx > 50*u.K\n",
    "#msk = scipy.ndimage.binary_erosion(msk, iterations=1)\n",
    "msk = scipy.ndimage.binary_dilation(msk, iterations=14)\n",
    "pl.imshow(msk, interpolation='none', origin='lower')\n",
    "pl.title('mask')\n",
    "pl.tight_layout()\n",
    "pl.figure()\n",
    "\n",
    "\n",
    "\n",
    "from dask_image.ndmorph import binary_dilation, binary_erosion\n",
    "m3d = (scube > 40*u.K).include()\n",
    "m3d = binary_erosion(m3d, iterations=1)\n",
    "m3d = binary_dilation(m3d, iterations=2)\n",
    "m3d = m3d.compute()\n",
    "\n",
    "\n",
    "\n",
    "\n",
    "\n",
    "m1 = scube.with_mask(msk).with_mask(m3d).moment1()\n",
    "pl.figure(figsize=(14,6))\n",
    "ax1 = pl.subplot(1,2,1)\n",
    "im = ax1.imshow(m1.value, vmin=vcen.value-10, vmax=vcen.value+10)\n",
    "pl.colorbar(mappable=im)\n",
    "mxv = scube.with_mask(msk).argmax_world(axis=0)\n",
    "pl.subplot(1,2,2)\n",
    "pl.imshow(mxv.value, vmin=vcen.value-10, vmax=vcen.value+10)\n",
    "pl.colorbar()\n",
    "\n",
    "\n",
    "vmap = m1.hdu\n",
    "# the rest value selected above was just the line center; we need to assume it's really 32 km/s off\n",
    "#vmap.data = vmap.data"
   ]
  },
  {
   "cell_type": "code",
   "execution_count": 37,
   "id": "59d9704a-6783-43b5-840d-9e31162445ce",
   "metadata": {
    "jp-MarkdownHeadingCollapsed": true,
    "tags": []
   },
   "outputs": [
    {
     "name": "stdout",
     "output_type": "stream",
     "text": [
      "DaskSpectralCube with shape=(3866, 50, 52) and unit=K and chunk size (3866, 50, 52):\n",
      " n_x:     52  type_x: RA---SIN  unit_x: deg    range:   283.324967 deg:  283.325151 deg\n",
      " n_y:     50  type_y: DEC--SIN  unit_y: deg    range:     1.423664 deg:    1.423841 deg\n",
      " n_s:   3866  type_s: FREQ      unit_s: Hz     range: 216862738681.100 Hz:218749992372.836 Hz\n",
      "DaskSpectralCube with shape=(61, 50, 52) and unit=K and chunk size (61, 50, 52):\n",
      " n_x:     52  type_x: RA---SIN  unit_x: deg    range:   283.324967 deg:  283.325151 deg\n",
      " n_y:     50  type_y: DEC--SIN  unit_y: deg    range:     1.423664 deg:    1.423841 deg\n",
      " n_s:     61  type_s: VRAD      unit_s: km / s  range:       37.365 km / s:      77.689 km / s\n",
      "INFO: Auto-setting vmin to  1.849e+01 [aplpy.core]\n",
      "INFO: Auto-setting vmax to  9.517e+02 [aplpy.core]\n",
      "INFO: Auto-setting vmin to  3.474e-01 [aplpy.core]\n",
      "INFO: Auto-setting vmax to  1.178e+02 [aplpy.core]\n"
     ]
    },
    {
     "ename": "RuntimeError",
     "evalue": "No mappable was found to use for colorbar creation. First define a mappable such as an image (with imshow) or a contour set (with contourf).",
     "output_type": "error",
     "traceback": [
      "\u001b[0;31m---------------------------------------------------------------------------\u001b[0m",
      "\u001b[0;31mRuntimeError\u001b[0m                              Traceback (most recent call last)",
      "\u001b[0;32m/scratch/local/44922727/ipykernel_15679/3674747269.py\u001b[0m in \u001b[0;36m<module>\u001b[0;34m\u001b[0m\n\u001b[1;32m     19\u001b[0m \u001b[0mmx\u001b[0m\u001b[0;34m.\u001b[0m\u001b[0mquicklook\u001b[0m\u001b[0;34m(\u001b[0m\u001b[0;34m)\u001b[0m\u001b[0;34m\u001b[0m\u001b[0;34m\u001b[0m\u001b[0m\n\u001b[1;32m     20\u001b[0m \u001b[0mpl\u001b[0m\u001b[0;34m.\u001b[0m\u001b[0mtitle\u001b[0m\u001b[0;34m(\u001b[0m\u001b[0;34m\"mx\"\u001b[0m\u001b[0;34m)\u001b[0m\u001b[0;34m\u001b[0m\u001b[0;34m\u001b[0m\u001b[0m\n\u001b[0;32m---> 21\u001b[0;31m \u001b[0mpl\u001b[0m\u001b[0;34m.\u001b[0m\u001b[0mcolorbar\u001b[0m\u001b[0;34m(\u001b[0m\u001b[0;34m)\u001b[0m\u001b[0;34m\u001b[0m\u001b[0;34m\u001b[0m\u001b[0m\n\u001b[0m\u001b[1;32m     22\u001b[0m \u001b[0mpl\u001b[0m\u001b[0;34m.\u001b[0m\u001b[0msubplot\u001b[0m\u001b[0;34m(\u001b[0m\u001b[0;36m1\u001b[0m\u001b[0;34m,\u001b[0m\u001b[0;36m3\u001b[0m\u001b[0;34m,\u001b[0m\u001b[0;36m3\u001b[0m\u001b[0;34m)\u001b[0m\u001b[0;34m\u001b[0m\u001b[0;34m\u001b[0m\u001b[0m\n\u001b[1;32m     23\u001b[0m \u001b[0mmsk\u001b[0m \u001b[0;34m=\u001b[0m \u001b[0mmx\u001b[0m \u001b[0;34m>\u001b[0m \u001b[0;36m0.022\u001b[0m\u001b[0;34m*\u001b[0m\u001b[0mmx\u001b[0m\u001b[0;34m.\u001b[0m\u001b[0munit\u001b[0m\u001b[0;34m*\u001b[0m\u001b[0mjtok\u001b[0m\u001b[0;34m.\u001b[0m\u001b[0mvalue\u001b[0m\u001b[0;34m\u001b[0m\u001b[0;34m\u001b[0m\u001b[0m\n",
      "\u001b[0;32m/orange/adamginsburg/miniconda3/envs/python39/lib/python3.9/site-packages/matplotlib/pyplot.py\u001b[0m in \u001b[0;36mcolorbar\u001b[0;34m(mappable, cax, ax, **kw)\u001b[0m\n\u001b[1;32m   2103\u001b[0m         \u001b[0mmappable\u001b[0m \u001b[0;34m=\u001b[0m \u001b[0mgci\u001b[0m\u001b[0;34m(\u001b[0m\u001b[0;34m)\u001b[0m\u001b[0;34m\u001b[0m\u001b[0;34m\u001b[0m\u001b[0m\n\u001b[1;32m   2104\u001b[0m         \u001b[0;32mif\u001b[0m \u001b[0mmappable\u001b[0m \u001b[0;32mis\u001b[0m \u001b[0;32mNone\u001b[0m\u001b[0;34m:\u001b[0m\u001b[0;34m\u001b[0m\u001b[0;34m\u001b[0m\u001b[0m\n\u001b[0;32m-> 2105\u001b[0;31m             raise RuntimeError('No mappable was found to use for colorbar '\n\u001b[0m\u001b[1;32m   2106\u001b[0m                                \u001b[0;34m'creation. First define a mappable such as '\u001b[0m\u001b[0;34m\u001b[0m\u001b[0;34m\u001b[0m\u001b[0m\n\u001b[1;32m   2107\u001b[0m                                \u001b[0;34m'an image (with imshow) or a contour set ('\u001b[0m\u001b[0;34m\u001b[0m\u001b[0;34m\u001b[0m\u001b[0m\n",
      "\u001b[0;31mRuntimeError\u001b[0m: No mappable was found to use for colorbar creation. First define a mappable such as an image (with imshow) or a contour set (with contourf)."
     ]
    },
    {
     "data": {
      "image/png": "[encoded data removed]",
      "text/plain": [
       "<Figure size 1008x360 with 1 Axes>"
      ]
     },
     "metadata": {},
     "output_type": "display_data"
    },
    {
     "data": {
      "image/png": "[encoded data removed]",
      "text/plain": [
       "<Figure size 720x648 with 2 Axes>"
      ]
     },
     "metadata": {},
     "output_type": "display_data"
    },
    {
     "data": {
      "image/png": "[encoded data removed]",
      "text/plain": [
       "<Figure size 720x648 with 2 Axes>"
      ]
     },
     "metadata": {},
     "output_type": "display_data"
    }
   ],
   "source": [
    "# try creating a vmap based on another line (SiS 12-11)\n",
    "restval = 217.81764400*u.GHz # '': \n",
    "cube = [c for c in cubes if (c.spectral_extrema[0] < restval) & (c.spectral_extrema[1] > restval)][0]\n",
    "print(cube)\n",
    "scube = (cube.subcube_from_regions(reg)\n",
    "         .with_spectral_unit(u.km/u.s,\n",
    "                             velocity_convention='radio',\n",
    "                             rest_value=restval)\n",
    "         .spectral_slab(-20*u.km/u.s+vcen, 20*u.km/u.s+vcen))\n",
    "print(scube)\n",
    "pl.figure(figsize=(14,5))\n",
    "pl.subplot(1,3,1)\n",
    "m0 = scube.moment0()\n",
    "m0.quicklook()\n",
    "pl.title(\"m0\")\n",
    "\n",
    "pl.subplot(1,3,2)\n",
    "mx = scube.max(axis=0)\n",
    "mx.quicklook()\n",
    "pl.title(\"mx\")\n",
    "pl.colorbar()\n",
    "pl.subplot(1,3,3)\n",
    "msk = mx > 0.022*mx.unit*jtok.value\n",
    "#msk = scipy.ndimage.binary_erosion(msk, iterations=1)\n",
    "msk = scipy.ndimage.binary_dilation(msk, iterations=14)\n",
    "pl.imshow(msk, interpolation='none', origin='lower')\n",
    "pl.title('mask')\n",
    "pl.tight_layout()\n",
    "pl.figure()\n",
    "\n",
    "\n",
    "m1 = scube.with_mask(msk).with_mask(scube > 0.0001*stackc.unit*jtok.value).moment1()\n",
    "pl.figure(figsize=(14,6))\n",
    "ax1 = pl.subplot(1,2,1)\n",
    "im = ax1.imshow(m1.value, vmin=vcen.value-5, vmax=vcen.value+5)\n",
    "pl.colorbar(mappable=im)\n",
    "mxv = scube.with_mask(msk).argmax_world(axis=0)\n",
    "pl.subplot(1,2,2)\n",
    "pl.imshow(mxv.value, vmin=vcen.value-5, vmax=vcen.value+5)\n",
    "pl.colorbar()\n",
    "\n",
    "\n",
    "#vmap = m1.hdu"
   ]
  },
  {
   "cell_type": "code",
   "execution_count": null,
   "id": "primary-profit",
   "metadata": {},
   "outputs": [],
   "source": [
    "stackc = stackc.subcube_from_regions(reg)\n",
    "pl.figure(figsize=(14,5))\n",
    "pl.subplot(1,3,1)\n",
    "m0 = stackc.moment0()\n",
    "m0.quicklook()\n",
    "pl.title(\"m0\")\n",
    "\n",
    "pl.subplot(1,3,2)\n",
    "mx = stackc.max(axis=0)\n",
    "mx.quicklook()\n",
    "pl.title(\"mx\")\n",
    "pl.colorbar()\n",
    "pl.subplot(1,3,3)\n",
    "msk = mx > 0.0115*mx.unit*jtok.value\n",
    "msk = scipy.ndimage.binary_erosion(msk, iterations=1)\n",
    "msk = scipy.ndimage.binary_dilation(msk, iterations=15)\n",
    "pl.imshow(msk, interpolation='none', origin='lower')\n",
    "pl.title('mask')\n",
    "pl.tight_layout()\n",
    "pl.figure()\n",
    "\n",
    "\n",
    "m1 = stackc.with_mask(msk).with_mask(stackc > 0.0001*stackc.unit*jtok.value).moment1()\n",
    "pl.figure(figsize=(14,6))\n",
    "ax1 = pl.subplot(1,2,1)\n",
    "im = ax1.imshow(m1.value, vmin=vcen.value-5, vmax=vcen.value+5)\n",
    "pl.colorbar(mappable=im)\n",
    "mxv = stackc.with_mask(msk).argmax_world(axis=0)\n",
    "pl.subplot(1,2,2)\n",
    "pl.imshow(mxv.value, vmin=vcen.value-5, vmax=vcen.value+5)\n",
    "pl.colorbar()\n",
    "\n",
    "\n",
    "vmap = m1.hdu"
   ]
  },
  {
   "cell_type": "code",
   "execution_count": null,
   "id": "hindu-hepatitis",
   "metadata": {},
   "outputs": [],
   "source": [
    "import sys\n",
    "sys.path.append('/orange/adamginsburg/salt/code/')\n",
    "from overplot_saltlines import overplot_saltlines"
   ]
  },
  {
   "cell_type": "code",
   "execution_count": null,
   "id": "baking-nature",
   "metadata": {},
   "outputs": [],
   "source": [
    "spectra = []\n",
    "for ii,cube in enumerate(cubes):\n",
    "    cube.allow_huge_operations=True\n",
    "    sp = cube.subcube_from_regions(reg).mean(axis=(1,2))\n",
    "    pysp = pyspeckit.Spectrum(data=sp, xarr=sp.spectral_axis, header=sp.header)\n",
    "    spectra.append(pysp)\n",
    "    pysp.specname = f'spw{ii+1}'"
   ]
  },
  {
   "cell_type": "code",
   "execution_count": null,
   "id": "judicial-meter",
   "metadata": {},
   "outputs": [],
   "source": [
    "mkdir -p spectra/figures"
   ]
  },
  {
   "cell_type": "code",
   "execution_count": null,
   "id": "physical-sister",
   "metadata": {},
   "outputs": [],
   "source": [
    "overplot_saltlines(spectra, vcen=vcen, savepath='spectra/figures')"
   ]
  },
  {
   "cell_type": "code",
   "execution_count": null,
   "id": "alleged-service",
   "metadata": {},
   "outputs": [],
   "source": [
    "ls spectra/figures"
   ]
  },
  {
   "cell_type": "code",
   "execution_count": null,
   "id": "palestinian-shame",
   "metadata": {},
   "outputs": [],
   "source": [
    "from IPython.display import Image,display"
   ]
  },
  {
   "cell_type": "code",
   "execution_count": null,
   "id": "graphic-actress",
   "metadata": {},
   "outputs": [],
   "source": [
    "for fn in glob.glob('spectra/figures/color*png'):\n",
    "    display(Image(fn))"
   ]
  },
  {
   "cell_type": "code",
   "execution_count": null,
   "id": "latter-cattle",
   "metadata": {
    "tags": []
   },
   "outputs": [],
   "source": [
    "import glob\n",
    "import spectral_cube.analysis_utilities\n",
    "import reproject\n",
    "from tqdm.notebook import tqdm\n",
    "from astropy.io import fits\n",
    "\n",
    "\n",
    "cbflist = (glob.glob(f'{targetname}.config8.spw[0-3].robust0.5.image_co1_smaller.fits'))\n",
    "for fn in cbflist:\n",
    "    basename = os.path.split(fn)[-1].split(\".fits\")[0]\n",
    "    print(basename)\n",
    "    try:\n",
    "        cube = SpectralCube.read(fn, use_dask=True)\n",
    "    except Exception as ex:\n",
    "        print(ex)\n",
    "        continue\n",
    "    print(cube)\n",
    "    scube = cube.subcube_from_regions(reg)\n",
    "    # continuum subtract before stacking\n",
    "    scube = scube - scube.percentile(25, axis=0)\n",
    "    #mx = scube.max(axis=0)\n",
    "    #msk = mx > 0.003*mx.unit\n",
    "    print(\"Mean spectrum\")\n",
    "    sp = scube.mean(axis=(1,2))\n",
    "    \n",
    "    sp.write(f'spectra/{fn.split(\"/\")[-1].replace(\".fits\",\"_meanspec.fits\")}', overwrite=True)\n",
    "\n",
    "\n",
    "    # reproject the velocity map into the cube's coordinate system\n",
    "    vmap_proj,_ = reproject.reproject_interp(vmap,\n",
    "                                             scube.wcs.celestial,\n",
    "                                             shape_out=scube.shape[1:])\n",
    "    vmap_proj = u.Quantity(vmap_proj, u.km/u.s)\n",
    "    fits.PrimaryHDU(data=vmap_proj.value, header=scube.wcs.celestial.to_header()).writeto('vmap.fits', overwrite=True)\n",
    "    # convert to km/s with arbitrary rest value so 0 km/s can be interpreted\n",
    "    if scube.spectral_axis.unit.is_equivalent(u.Hz):\n",
    "        scube = scube.with_spectral_unit(u.km/u.s, velocity_convention='radio', rest_value=scube.spectral_axis.mean())\n",
    "\n",
    "    print(\"Stacking\")\n",
    "    # perform the stacking!\n",
    "    stack = spectral_cube.analysis_utilities.stack_spectra(scube, vmap_proj,\n",
    "                                                           v0=0.0*u.km/u.s,\n",
    "                                                           #progressbar=tqdm,\n",
    "                                                           #num_cores=8\n",
    "                                                          )\n",
    "    fstack = stack.with_spectral_unit(u.GHz)\n",
    "\n",
    "    pl.suptitle(f\"{fn}\")\n",
    "    fstack.write(f'spectra/{basename}_stack.fits', overwrite=True)\n",
    "\n",
    "    pl.clf()\n",
    "    fstack.quicklook(filename=f'spectra/figures/{basename}_stack.pdf')\n",
    "    fstack.quicklook(filename=f'spectra/figures/{basename}_stack.png')\n",
    "    \n",
    "    \n",
    "    fig = pl.figure()\n",
    "    mappable = pl.subplot(1,2,1).imshow(mx.value, origin='lower', interpolation='none')\n",
    "    pl.colorbar(mappable)\n",
    "    pl.subplot(1,2,2)\n",
    "    pl.suptitle(fn)\n",
    "    sp.quicklook()"
   ]
  },
  {
   "cell_type": "code",
   "execution_count": null,
   "id": "naval-terror",
   "metadata": {},
   "outputs": [],
   "source": [
    "ls spectra"
   ]
  },
  {
   "cell_type": "code",
   "execution_count": null,
   "id": "technological-fishing",
   "metadata": {},
   "outputs": [],
   "source": [
    "stackspectra = []\n",
    "for ii,fn in enumerate(glob.glob('spectra/*_stack.fits')):\n",
    "    pysp = pyspeckit.Spectrum(fn)\n",
    "    basename = os.path.basename(fn)\n",
    "    spl = basename.split(\".\")\n",
    "    pysp.specname = f'{spl[0]}_{spl[4]}_stack'\n",
    "    stackspectra.append(pysp)"
   ]
  },
  {
   "cell_type": "code",
   "execution_count": null,
   "id": "certain-paintball",
   "metadata": {},
   "outputs": [],
   "source": [
    "overplot_saltlines(stackspectra, vcen=0*u.km/u.s, savepath='spectra/figures')"
   ]
  },
  {
   "cell_type": "code",
   "execution_count": null,
   "id": "decent-function",
   "metadata": {},
   "outputs": [],
   "source": [
    "ls spectra/figures/"
   ]
  },
  {
   "cell_type": "code",
   "execution_count": null,
   "id": "aware-pastor",
   "metadata": {},
   "outputs": [],
   "source": [
    "for fn in glob.glob('spectra/figures/color*stack.png'):\n",
    "    display(Image(fn))"
   ]
  },
  {
   "cell_type": "code",
   "execution_count": null,
   "id": "pacific-baltimore",
   "metadata": {},
   "outputs": [],
   "source": []
  },
  {
   "cell_type": "code",
   "execution_count": null,
   "id": "automated-nitrogen",
   "metadata": {},
   "outputs": [],
   "source": []
  },
  {
   "cell_type": "code",
   "execution_count": null,
   "id": "cbdd0520-1d60-4a34-9858-3eed04271d4c",
   "metadata": {},
   "outputs": [],
   "source": []
  }
 ],
 "metadata": {
  "kernelspec": {
   "display_name": "python39",
   "language": "python",
   "name": "python39"
  },
  "language_info": {
   "codemirror_mode": {
    "name": "ipython",
    "version": 3
   },
   "file_extension": ".py",
   "mimetype": "text/x-python",
   "name": "python",
   "nbconvert_exporter": "python",
   "pygments_lexer": "ipython3",
   "version": "3.9.13"
  }
 },
 "nbformat": 4,
 "nbformat_minor": 5
}
