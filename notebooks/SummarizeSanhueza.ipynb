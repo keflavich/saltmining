{
 "cells": [
  {
   "cell_type": "code",
   "execution_count": 1,
   "id": "d630135c-16d6-4af9-9978-4d879c28b2be",
   "metadata": {},
   "outputs": [
    {
     "name": "stdout",
     "output_type": "stream",
     "text": [
      "/orange/adamginsburg/salt/sanhueza\n"
     ]
    }
   ],
   "source": [
    "cd /orange/adamginsburg/salt/sanhueza"
   ]
  },
  {
   "cell_type": "code",
   "execution_count": 2,
   "id": "fd1287cb-f1e5-45cd-b739-e9c199862a93",
   "metadata": {},
   "outputs": [],
   "source": [
    "%matplotlib inline\n",
    "import pylab as pl\n",
    "pl.rcParams['figure.facecolor'] = 'w'"
   ]
  },
  {
   "cell_type": "code",
   "execution_count": 3,
   "id": "3c2e4ab8-d77f-45fe-8356-1330113d3a35",
   "metadata": {},
   "outputs": [],
   "source": [
    "from astropy import wcs\n",
    "from spectral_cube import SpectralCube\n",
    "import glob\n",
    "from astropy import units as u\n",
    "from astropy.io import fits"
   ]
  },
  {
   "cell_type": "code",
   "execution_count": 4,
   "id": "4a61173b-b525-494b-a4f6-2e47a462e3d3",
   "metadata": {},
   "outputs": [],
   "source": [
    "from dask.diagnostics import ProgressBar\n",
    "pbar = ProgressBar()"
   ]
  },
  {
   "cell_type": "code",
   "execution_count": 5,
   "id": "a3ea9d50-a46a-46a2-8ab6-ceda7cbfa857",
   "metadata": {},
   "outputs": [],
   "source": [
    "import regions\n",
    "import numpy as np\n",
    "import json"
   ]
  },
  {
   "cell_type": "code",
   "execution_count": 6,
   "id": "9416d379-ddbb-4a08-ab4a-9a3b1b77b5c9",
   "metadata": {},
   "outputs": [],
   "source": [
    "import warnings\n",
    "warnings.filterwarnings('ignore')"
   ]
  },
  {
   "cell_type": "code",
   "execution_count": 7,
   "id": "da1f7af4-8e88-46e8-87a9-41308cb65664",
   "metadata": {},
   "outputs": [],
   "source": [
    "non_sanhueza_flist = ['/orange/adamginsburg/salt/G351/G351_spw0_selfcal2.fits',\n",
    "                      '/orange/adamginsburg/salt/I16547/IRAS16547.Band6.spw0.selfcal.lowcontsub.rp.image.pbcor.fits',\n",
    "                      '/orange/adamginsburg/salt/maud/G17_SPW0_2017.image.fits',\n",
    "                      '/orange/adamginsburg/salt/s255ir/S255IR-SMA1_sci.spw3.cube.I.zoom.manual.JvM.image.pbcor.fits',\n",
    "                      '/orange/adamginsburg/salt/orion/OrionSourceI_only.B6.robust0.5.spw3.maskedclarkclean10000_medsub.image.pbcor.fits',\n",
    "                     ]"
   ]
  },
  {
   "cell_type": "code",
   "execution_count": 8,
   "id": "2d2f9844-68e0-4ee4-b93f-0819c2a6fdda",
   "metadata": {},
   "outputs": [],
   "source": [
    "try:\n",
    "    with open('fovs_meta.json', 'r') as fh:\n",
    "        fovs = json.load(fh)\n",
    "except Exception:\n",
    "    fovs = {}\n",
    "try:\n",
    "    with open('beams_meta.json', 'r') as fh:\n",
    "        beams = json.load(fh)    \n",
    "except Exception:\n",
    "    beams = {}\n",
    "try:\n",
    "    with open('spectralresolution.json', 'r') as fh:\n",
    "        spectralresolution = json.load(fh)    \n",
    "except Exception:\n",
    "    spectralresolution = {}\n",
    "\n",
    "for fn in glob.glob(\"*/*spw3*small.fits\") + non_sanhueza_flist:\n",
    "    name = os.path.basename(os.path.dirname(fn))\n",
    "    if name not in beams:\n",
    "        cube = SpectralCube.read(fn)\n",
    "        vv = cube.with_spectral_unit(u.km/u.s, velocity_convention='radio').spectral_axis\n",
    "        dv = np.abs(vv[1]-vv[0])\n",
    "        pixscale = wcs.utils.proj_plane_pixel_scales(cube.wcs.celestial)*u.deg\n",
    "        if hasattr(cube, 'beam'):\n",
    "            print(name, os.path.dirname(fn), (pixscale*cube.shape[1:]).to(u.arcsec), cube.beam, )\n",
    "            beam = cube.beam\n",
    "        else:\n",
    "            print(name, os.path.dirname(fn), (pixscale*cube.shape[1:]).to(u.arcsec),\n",
    "                  cube.beams.common_beam(max_iter=20, max_epsilon=0.01))\n",
    "            beam = cube.beams.common_beam(max_iter=20, max_epsilon=0.01)\n",
    "        beams[name] = list(map(float, (beam.major.to(u.arcsec).value, beam.minor.to(u.arcsec).value, beam.pa.to(u.deg).value)))\n",
    "        fovs[name] = list(map(float, (pixscale*cube.shape[1:]).to(u.arcsec).value))\n",
    "        spectralresolution[name] = dv.to(u.km/u.s).value\n",
    "        with open('fovs_meta.json', 'w') as fh:\n",
    "            json.dump(fovs, fh)\n",
    "        with open('beams_meta.json', 'w') as fh:\n",
    "            json.dump(beams, fh)\n",
    "        with open('spectralresolution.json', 'w') as fh:\n",
    "            json.dump(spectralresolution, fh)                "
   ]
  },
  {
   "cell_type": "code",
   "execution_count": 9,
   "id": "6411ec19-9939-4863-9e71-20152a6b343f",
   "metadata": {},
   "outputs": [
    {
     "data": {
      "text/plain": [
       "['/orange/adamginsburg/salt/G351/G351_spw2_selfcal2.fits',\n",
       " '/orange/adamginsburg/salt/G351/G351_spw0_selfcal2.fits',\n",
       " '/orange/adamginsburg/salt/G351/G351_spw1_selfcal2.fits',\n",
       " '/orange/adamginsburg/salt/G351/G351_spw3_selfcal2.fits',\n",
       " '/orange/adamginsburg/salt/I16547/IRAS16547.Band6.spw1.selfcal.lowcontsub.rp.image.pbcor.fits',\n",
       " '/orange/adamginsburg/salt/I16547/IRAS16547.Band6.spw3.selfcal.lowcontsub.rp.image.pbcor.fits',\n",
       " '/orange/adamginsburg/salt/I16547/IRAS16547.Band6.spw2.selfcal.lowcontsub.rp.image.pbcor.fits',\n",
       " '/orange/adamginsburg/salt/I16547/IRAS16547.Band6.spw0.selfcal.lowcontsub.rp.image.pbcor.fits',\n",
       " '/orange/adamginsburg/salt/maud/G17_SPW2_2017.image.fits',\n",
       " '/orange/adamginsburg/salt/maud/G17_SPW0_2017.image.fits',\n",
       " '/orange/adamginsburg/salt/maud/G17_SPW3_2017.image.fits',\n",
       " '/orange/adamginsburg/salt/maud/G17_SPW1_2017.image.fits',\n",
       " '/orange/adamginsburg/salt/s255ir/S255IR-SMA1_sci.spw3.cube.I.zoom.manual.JvM.image.pbcor.fits']"
      ]
     },
     "execution_count": 9,
     "metadata": {},
     "output_type": "execute_result"
    }
   ],
   "source": [
    "non_sanhueza_full_flist = ([y  for x in ['/orange/adamginsburg/salt/G351/G351_spw[012345]_selfcal2.fits',\n",
    "                      '/orange/adamginsburg/salt/I16547/IRAS16547.Band6.spw[012345].selfcal.lowcontsub.rp.image.pbcor.fits',\n",
    "                      '/orange/adamginsburg/salt/maud/G17_SPW[01234]_2017.image.fits',\n",
    "                      '/orange/adamginsburg/salt/s255ir/S255IR-SMA1_sci.spw[01234].cube.I.zoom.manual.JvM.image.pbcor.fits']\n",
    "                            for y in glob.glob(x)])\n",
    "non_sanhueza_full_flist"
   ]
  },
  {
   "cell_type": "code",
   "execution_count": 10,
   "id": "b695d873-a7f0-43f5-8983-10226dc1621c",
   "metadata": {},
   "outputs": [],
   "source": [
    "try:\n",
    "    with open('freqcov.json', 'r') as fh:\n",
    "        freqcov = json.load(fh)\n",
    "except Exception:\n",
    "    freqcov = {}\n",
    "\n",
    "    \n",
    "for fn in glob.glob(\"*/*spw[01234]*small.fits\") + non_sanhueza_full_flist:\n",
    "    name = os.path.basename(os.path.dirname(fn))\n",
    "\n",
    "    cube = SpectralCube.read(fn).with_spectral_unit(u.GHz)\n",
    "\n",
    "    if name not in freqcov:\n",
    "        freqcov[name] = [(cube.spectral_axis.min().value, cube.spectral_axis.max().value)]\n",
    "    else:\n",
    "        freqcov[name] += [(cube.spectral_axis.min().value, cube.spectral_axis.max().value)]\n",
    "    with open('freqcov.json', 'w') as fh:\n",
    "        json.dump(freqcov, fh)"
   ]
  },
  {
   "cell_type": "code",
   "execution_count": 11,
   "id": "fe5b5bb7-65fa-48af-a00f-f78bc5fec1ee",
   "metadata": {},
   "outputs": [
    {
     "data": {
      "text/plain": [
       "{'NGC6334I': [0.07804282009601593, 0.051630012691020966, 70.59971618652344],\n",
       " 'G5.89': [0.05795148657317544, 0.04095939016036121, 66.31839430366688],\n",
       " 'IRAS16547': [0.07686583218914345, 0.05244795041329405, 126.31673324398756],\n",
       " 'G333': [0.07612335681915283, 0.058185502886772156, 58.16907501220703],\n",
       " 'W33A': [0.0966954454779625, 0.06535904854536057, -83.22697448730469],\n",
       " 'I16562': [0.09567944070181846, 0.05012410463076423, 82.57850646972655],\n",
       " 'G335': [0.07347185909748077, 0.06121784448623657, 50.99840545654297],\n",
       " 'G34.43': [0.095871701836586, 0.07116999477148056, 61.10786819458008],\n",
       " 'IRAS18162': [0.09307271242141724, 0.06486117839813232, -85.60118865966797],\n",
       " 'G351.77': [0.12185147188038378, 0.06738864666347463, 113.00846099853513],\n",
       " 'NGC6334IN': [0.07778939604759216, 0.051596663892269135, 70.34847259521484],\n",
       " 'G29.96': [0.09104029089212418, 0.06827182322740555, 65.14855194091797],\n",
       " 'G11': [0.09511609974898803, 0.06500983670362831, 96.09446716308595],\n",
       " 'IRAS18089': [0.05811413273853422, 0.04250136871049898, 67.50644852773999],\n",
       " '/orange/adamginsburg/salt/G351': [0.0271777827292668,\n",
       "  0.021742420271039998,\n",
       "  -89.31478118896],\n",
       " '/orange/adamginsburg/salt/I16547': [0.06526206433764001,\n",
       "  0.04316686838856,\n",
       "  35.7102088928],\n",
       " '/orange/adamginsburg/salt/maud': [0.037536460401256036,\n",
       "  0.022107068353723506,\n",
       "  44.414886550702626],\n",
       " '/orange/adamginsburg/salt/s255ir': [0.03646451979875556,\n",
       "  0.02744857035577296,\n",
       "  5.5526123046875],\n",
       " 'G351': [0.0271777827292668, 0.021742420271039998, -89.31478118896],\n",
       " 'I16547': [0.06526206433764001, 0.04316686838856, 35.7102088928],\n",
       " 'maud': [0.037536460401256036, 0.022107068353723506, 44.414886550702626],\n",
       " 's255ir': [0.03646451979875556, 0.02744857035577296, 5.5526123046875],\n",
       " 'orion': [0.11275905273153927, 0.10400069443224592, 25.165424346923906]}"
      ]
     },
     "execution_count": 11,
     "metadata": {},
     "output_type": "execute_result"
    }
   ],
   "source": [
    "beams"
   ]
  },
  {
   "cell_type": "code",
   "execution_count": 12,
   "id": "6052491c-8f58-441a-9e24-016029adce79",
   "metadata": {},
   "outputs": [
    {
     "name": "stdout",
     "output_type": "stream",
     "text": [
      "mkdir: cannot create directory ‘avspectra’: File exists\n"
     ]
    }
   ],
   "source": [
    "mkdir avspectra"
   ]
  },
  {
   "cell_type": "code",
   "execution_count": 13,
   "id": "f6b5eef2-34d5-4990-849b-0ae53542f09c",
   "metadata": {},
   "outputs": [],
   "source": [
    "import time"
   ]
  },
  {
   "cell_type": "code",
   "execution_count": null,
   "id": "20a21963-ebe0-4e47-a7e5-1efe825d1fa6",
   "metadata": {},
   "outputs": [
    {
     "name": "stdout",
     "output_type": "stream",
     "text": [
      "\n",
      "NGC6334I/NGC6334I.config8.spw3.robust0.5.image_small.fits\n",
      "RMS = 0.002369687194004655 Jy / beam, RMSK = 19.56815583356257 K\n",
      "\n",
      "G5.89/G5.89-0.37.config8.spw3.robust0.5.image_small.fits\n",
      "RMS = 0.0020644988398998976 Jy / beam, RMSK = 19.15587080013167 K\n",
      "\n",
      "G5.89/G5.89-0.37.config8.spw3.robust0.5.image_cb_small.fits\n",
      "RMS = 0.0020644988398998976 Jy / beam, RMSK = 19.15587080013167 K\n",
      "\n",
      "IRAS16547/IRAS165474247_G343.12-0.06.config8.spw3.robust0.5.image_small.fits\n",
      "RMS = 0.0019507521064952016 Jy / beam, RMSK = 9.283274325274972 K\n",
      "\n",
      "G333/G333.23-0.06.config8.spw3.robust0.5.image_small.fits\n",
      "RMS = 0.002056265017017722 Jy / beam, RMSK = 18.410512124895526 K\n",
      "\n",
      "W33A/W33A.config8.spw3.robust0.5.image_small.fits\n",
      "RMS = 0.0017960338154807687 Jy / beam, RMSK = 6.548294946945052 K\n",
      "\n",
      "I16562/IRAS_165623959.config8.spw3.robust0.5.image_small.fits\n",
      "RMS = 0.002353072864934802 Jy / beam, RMSK = 10.510717169051501 K\n",
      "\n",
      "G335/G335.579-0.272.config8.spw3.robust0.5.image_small.fits\n",
      "RMS = 0.0021833227947354317 Jy / beam, RMSK = 20.378854177206982 K\n",
      "\n",
      "G34.43/G34.43+0.24.config8.spw3.robust0.5.image_small.fits\n",
      "RMS = 0.002639893675222993 Jy / beam, RMSK = 9.205689863612143 K\n"
     ]
    }
   ],
   "source": [
    "try:\n",
    "    with open('stddev_meta.json', 'r') as fh:\n",
    "        stddev = json.load(fh)\n",
    "except Exception as ex:\n",
    "    print(ex)\n",
    "    stdddev = {}\n",
    "try:\n",
    "    with open('fivesig_meta.json', 'r') as fh:\n",
    "        nfivesigma = json.load(fh)    \n",
    "except Exception as ex:\n",
    "    print(ex)\n",
    "    nfivesigma = {}\n",
    "\n",
    "for fn in glob.glob(\"*/*spw3*small.fits\") + non_sanhueza_flist:\n",
    "    print()\n",
    "    print(fn, end=None)\n",
    "    name = os.path.basename(os.path.dirname(fn))\n",
    "    cube = SpectralCube.read(fn, use_dask=True).with_spectral_unit(u.GHz)\n",
    "    if name not in stddev:\n",
    "        with cube.use_dask_scheduler('threads', num_workers=4):  \n",
    "            #rms = np.median(cube.mad_std(axis=0))\n",
    "            with pbar:\n",
    "                rms = cube.std()\n",
    "        rmsK = rms.to(u.K, beam.jtok_equiv(cube.spectral_axis.mean()))\n",
    "    else:\n",
    "        rms, rmsK = stddev[name]\n",
    "        rms = rms * cube.unit\n",
    "        rmsK = rmsK * u.K\n",
    "        \n",
    "    print(f\"RMS = {rms}, RMSK = {rmsK}\")\n",
    "\n",
    "    pixscale = wcs.utils.proj_plane_pixel_scales(cube.wcs.celestial)[0]*u.deg\n",
    "    if hasattr(cube, 'beam'):\n",
    "        #print(os.path.dirname(fn), (pixscale*cube.shape[1:]).to(u.arcsec), cube.beam, )\n",
    "        beam = cube.beam\n",
    "    else:\n",
    "        #print(os.path.dirname(fn), (pixscale*cube.shape[1:]).to(u.arcsec),\n",
    "        #      cube.beams.common_beam(max_iter=20, max_epsilon=0.01))\n",
    "        beam = cube.beams.common_beam(max_iter=20, max_epsilon=0.01)\n",
    "\n",
    "    stddev[name] = list(map(float, (rms.value, rmsK.value)))\n",
    "    \n",
    "    for regfn in glob.glob(f'{os.path.dirname(fn)}/*.reg'):\n",
    "        t0=time.time()\n",
    "        regname = os.path.splitext(os.path.basename(regfn))[0]\n",
    "        reg = regions.Regions.read(regfn)\n",
    "        if len(reg) > 1:\n",
    "            # not a cutout region\n",
    "            continue\n",
    "        if name in nfivesigma and regname in nfivesigma[name]:\n",
    "            # done!\n",
    "            continue\n",
    "        print(f\"region {regname} t={time.time()-t0}\")\n",
    "        \n",
    "        \n",
    "        try:\n",
    "            with cube.use_dask_scheduler('threads', num_workers=4):\n",
    "                with pbar:\n",
    "                    scube = cube.subcube_from_regions(reg)\n",
    "                    if scube.size >= 1e8:\n",
    "                        print(f\"Skipping b/c of large size.  t={time.time()-t0}\")\n",
    "                        if name in nfivesigma:\n",
    "                            nfivesigma[name][regname] = (np.nan, np.nan)\n",
    "                        else:\n",
    "                            nfivesigma[name] = {regname: (np.nan, np.nan)}\n",
    "                        continue\n",
    "            with scube.use_dask_scheduler('threads', num_workers=4):\n",
    "                with pbar:\n",
    "                    cont = scube.sigma_clip_spectrally(3, save_to_tmp_dir=True).median(axis=0)\n",
    "                    scube -= cont\n",
    "        except ValueError as ex:\n",
    "            print(f\"Exception:{ex} t={time.time()-t0}\")\n",
    "            continue        \n",
    "\n",
    "\n",
    "        specname = f'{name}_{regname}'\n",
    "        specfn = f'avspectra/{specname}.fits'\n",
    "        if os.path.exists(specfn):\n",
    "            print(f\"Loading mean spectrum from disk t={time.time()-t0}\")\n",
    "            spec = fits.getdata(specfn) * cube.unit\n",
    "        else:\n",
    "            print(f\"Calculating mean spectrum t={time.time()-t0}\")\n",
    "            with cube.use_dask_scheduler('threads', num_workers=4):\n",
    "                with pbar:\n",
    "                    spec = scube.mean(axis=(1,2))\n",
    "            spec.hdu.writeto(specfn, overwrite=True)\n",
    "\n",
    "        # scale the RMS by 1/sqrt(nbeams)\n",
    "        assert len(reg) == 1\n",
    "        regpix = reg[0].to_pixel(scube.wcs.celestial)\n",
    "        mask = regpix.to_mask()\n",
    "        npix = mask.data.sum()\n",
    "        nbeams = (npix*pixscale**2/beam.sr).decompose().value\n",
    "        print(f\"IDing 5-sigma t={time.time()-t0}\")\n",
    "        fivesigma = spec > 5 * rms / nbeams**0.5\n",
    "        frac = fivesigma.sum() / spec.size\n",
    "        print(f'specname={specname:20s} ppbeam = {(beam.sr / pixscale**2).decompose():10.5f}   nbeams={nbeams:10.5f} sqrt(nbeams)={nbeams**0.5:10.5f}  fivesig={fivesigma.sum():10.5f}  frac:{frac:6.3f}  median:{np.nanmedian(spec.value):10.2f}  t={time.time()-t0}')\n",
    "        if name not in nfivesigma:\n",
    "            nfivesigma[name] = {regname: (frac, nbeams)}\n",
    "        else:\n",
    "            nfivesigma[name][regname] = (frac, nbeams)\n",
    "            \n",
    "        fig = pl.figure(1, figsize=(10,8))\n",
    "        fig.clf()\n",
    "        ax = fig.gca()\n",
    "        xx = cube.spectral_axis.to(u.GHz).value\n",
    "        yy = spec.value\n",
    "        ax.plot(xx, yy)\n",
    "        yy[~fivesigma] = np.nan\n",
    "        ax.plot(xx, yy)\n",
    "        ax.axhline(0, linestyle=':', color='k', alpha=0.5)\n",
    "        ax.axhline((1*rms/nbeams**0.5).value, linestyle='--', color='k', alpha=0.5)\n",
    "        ax.axhline((3*rms/nbeams**0.5).value, linestyle='--', color='k', alpha=0.5)\n",
    "        ax.axhline((5*rms/nbeams**0.5).value, linestyle='--', color='k', alpha=0.5)\n",
    "        ax.set_xlabel(\"Frequency [GHz]\")\n",
    "        ax.set_ylabel(f\"Flux Density [{spec.unit.to_string('latex')}]\")\n",
    "        fig.savefig(specfn.replace(\".fits\", \".png\"), bbox_inches='tight')\n",
    "        print(f\"Saved figure t={time.time()-t0}\")\n",
    "                   \n",
    "\n",
    "    with open('stddev_meta.json', 'w') as fh:\n",
    "        json.dump(stddev, fh)\n",
    "    with open('fivesig_meta.json', 'w') as fh:\n",
    "        json.dump(nfivesigma, fh)    \n"
   ]
  },
  {
   "cell_type": "code",
   "execution_count": null,
   "id": "3d240d2f-629f-4efa-8163-c2dd136a5538",
   "metadata": {},
   "outputs": [],
   "source": [
    "stddev"
   ]
  },
  {
   "cell_type": "code",
   "execution_count": null,
   "id": "9e021005-e90e-482d-b2ea-59f97b99e945",
   "metadata": {},
   "outputs": [],
   "source": [
    "nfivesigma"
   ]
  },
  {
   "cell_type": "markdown",
   "id": "e7b96270-7dcf-4b3f-88be-cf991a59a629",
   "metadata": {},
   "source": [
    "# Next cell\n",
    "the goal of the next cell is to go into the averaged spectra (both stacked and not) and compute statistics.\n"
   ]
  },
  {
   "cell_type": "code",
   "execution_count": null,
   "id": "a981e48a-d2a2-495e-866a-b85cac2a71a6",
   "metadata": {},
   "outputs": [],
   "source": [
    "import pyspeckit\n",
    "from astropy.stats import mad_std"
   ]
  },
  {
   "cell_type": "code",
   "execution_count": null,
   "id": "8272526f-16fe-4dac-8a34-2a5910f5850b",
   "metadata": {},
   "outputs": [],
   "source": [
    "spw_stats = {}\n",
    "for field in nfivesigma:\n",
    "    spw_stats[field] = {}\n",
    "    for disk in nfivesigma[field]:\n",
    "        spw_stats[field][disk] = {}\n",
    "        for spw in (0,1,2,3):\n",
    "            stackfns = (glob.glob(f\"{field}/spectra/*{disk}*stack.fits\"))\n",
    "            meanfns = (glob.glob(f\"{field}/spectra/*{disk}*meanspec.fits\"))\n",
    "            if len(stackfns) > 0 and len(meanfns) > 0:\n",
    "                spst = pyspeckit.Spectrum(stackfns[0])\n",
    "                stackstd = mad_std(spst.data)\n",
    "                mnst = pyspeckit.Spectrum(meanfns[0])\n",
    "                meanstd = mad_std(mnst.data)\n",
    "                spw_stats[field][disk][spw] = {'stack': stackstd,\n",
    "                                              'mean': meanstd}\n",
    "                if len(stackfns) > 1 or len(meanfns) > 1:\n",
    "                    print(stackfns, meanfns)\n",
    "            else:\n",
    "                print(f\"Skipped {field} {disk} {spw}\")\n",
    "            \n"
   ]
  },
  {
   "cell_type": "code",
   "execution_count": null,
   "id": "11efeba1-e533-4d4b-aa70-5b72cbff1803",
   "metadata": {},
   "outputs": [],
   "source": [
    "spw_stats"
   ]
  },
  {
   "cell_type": "code",
   "execution_count": null,
   "id": "cb9e2a9c-fe7a-4e35-bd7e-45ea73f3b82f",
   "metadata": {},
   "outputs": [],
   "source": [
    "nfivesigma.keys()"
   ]
  },
  {
   "cell_type": "code",
   "execution_count": null,
   "id": "f383d4ea-bacd-48b9-82da-562b3e8cdbdc",
   "metadata": {},
   "outputs": [],
   "source": [
    "beams"
   ]
  },
  {
   "cell_type": "code",
   "execution_count": null,
   "id": "6f7234a1-fc3c-4a4a-a3f2-b489482ad5f4",
   "metadata": {},
   "outputs": [],
   "source": [
    "fovs"
   ]
  },
  {
   "cell_type": "code",
   "execution_count": null,
   "id": "24464550-bcee-4fde-96fe-88f088d22b17",
   "metadata": {},
   "outputs": [],
   "source": [
    "from astropy.table import Table"
   ]
  },
  {
   "cell_type": "code",
   "execution_count": null,
   "id": "f92621e7-fa3b-4e74-9310-71347f972968",
   "metadata": {},
   "outputs": [],
   "source": [
    "tabledata = {key:[] for key in ('field', 'disk', 'bmaj', 'bmin', 'bpa', 'rmsK', 'fivesigfrac', 'nbeams_avgd')}\n",
    "for field, cutouts in nfivesigma.items():\n",
    "    for candidate in cutouts:\n",
    "        tabledata['field'].append( field )\n",
    "        tabledata['disk'].append( candidate )\n",
    "        tabledata['bmaj'].append( beams[field][0] )\n",
    "        tabledata['bmin'].append( beams[field][1] )\n",
    "        tabledata['bpa'].append( beams[field][2] )\n",
    "        tabledata['rmsK'].append( stddev[field][1] )\n",
    "        tabledata['fivesigfrac'].append( cutouts[candidate][0] )\n",
    "        tabledata['nbeams_avgd'].append( cutouts[candidate][1] )\n",
    "tbl = Table(tabledata)"
   ]
  },
  {
   "cell_type": "code",
   "execution_count": null,
   "id": "91fb2a78-07b1-4d77-b000-a283be6792b3",
   "metadata": {},
   "outputs": [],
   "source": [
    "tbl"
   ]
  },
  {
   "cell_type": "code",
   "execution_count": null,
   "id": "cb3f0796-1742-4a29-86af-958ec72709c1",
   "metadata": {},
   "outputs": [],
   "source": [
    "for row in tbl:\n",
    "    print(f\"\\\"{row['field']}_{row['disk']}\\\":\")"
   ]
  },
  {
   "cell_type": "code",
   "execution_count": null,
   "id": "9f3c8315-c1ed-44fe-bebb-818f5920e864",
   "metadata": {},
   "outputs": [],
   "source": [
    "disk_name_mapping = {\n",
    "\"NGC6334I_verysmall\": \"mm2b\",\n",
    "\"NGC6334I_mm2b\": \"mm2b\",\n",
    "\"NGC6334I_mm1d\": \"mm1d\",\n",
    "\"NGC6334I_mm1b\": \"mm1b\",\n",
    "\"NGC6334I_mm2a\": None, # decided to leave this out \"mm2a\",\n",
    "\"NGC6334I_smallcutout\": None,\n",
    "\"G5.89_diskcandidate2\": None,\n",
    "\"G5.89_diskcandidate1\": None,\n",
    "\"G5.89_edgeondisk\": 'mm15',\n",
    "\"IRAS16547_cutout\": None, # we use Tanaka data for this\n",
    "\"G333_cutout3\": None,\n",
    "\"G333_cutout\": \"mm1\",\n",
    "\"G333_cutout2\": \"mm2\",\n",
    "\"W33A_small\": \"mm1-main\",\n",
    "\"I16562_bigbox\": None,\n",
    "\"I16562_box\": None,\n",
    "\"I16562_rrldiskbox\": \"G345.4938+01.4677\",\n",
    "\"G335_cutout2\": \"ALMA1\",\n",
    "\"G34.43_cutout\": \"mm1\",\n",
    "\"IRAS18162_cutout2\": \"GGD27\",\n",
    "\"G351.77_cutout3\":None,\n",
    "\"G351.77_disk1\": None, # use Beuther \"mm1\",\n",
    "\"G351.77_disk2\": None, # use Beuther \"mm2\",\n",
    "\"G351.77_disk3\": None, # use Beuther \"mm12\",\n",
    "'NGC6334IN_IN_1': \"SMA1b/d\",\n",
    "'NGC6334IN_IN_3_sm': \"SMA6\",    \n",
    "'NGC6334IN_IN_3': None,\n",
    "'G29.96_cutout': \"submm1\",\n",
    "'G11_sourceAsmall': \"mm1\",\n",
    "\"G11_sourceAdisk\": None,\n",
    "\"G11_sourceAsmaller\": None,\n",
    "\"G11_sourceA\": None,\n",
    "\"IRAS18089_diskbox\": None,\n",
    "\"IRAS18089_innerdiskbox\": \"I18089-1732\",\n",
    "\"G351_disk1\": \"mm1\", # these are the Beuther data\n",
    "\"G351_disk2\": \"mm2\",\n",
    "\"G351_disk3\": \"mm12\",\n",
    "\"I16547_I16547A\": \"A\",\n",
    "\"I16547_I16547B\": \"B\",\n",
    "\"s255ir_rrlcenter\": \"SMA1\",\n",
    "\"NGC6334I_cutout\": None,\n",
    "\"NGC6334I_mm1_all\": None,\n",
    "\"W33A_big\": None,\n",
    "\"G335_cutout\": None,\n",
    "\"IRAS18162_cutout\": None,\n",
    "\"IRAS18162_GGD27\": None,\n",
    "\"IRAS18162_GGD27_cutout\": None,\n",
    "\"G351.77_cutout\": None,\n",
    "\"G351.77_cutout2\": None,\n",
    "\"IRAS18089_continuumcutout\": None,\n",
    "\"IRAS18089_continuumpolygon\": None,\n",
    "\"s255ir_zoom\": None, \n",
    "'orion_orionsourcei_box': 'SrcI',\n",
    "}\n",
    "\n",
    "field_mapping = {\n",
    "    'G333': 'G333.23',\n",
    "}"
   ]
  },
  {
   "cell_type": "code",
   "execution_count": null,
   "id": "e72c3c72-8aef-40f3-9b2c-9c1641e96c73",
   "metadata": {},
   "outputs": [],
   "source": [
    "# This should be blank!!\n",
    "for row in tbl:\n",
    "    if f\"{row['field']}_{row['disk']}\" not in disk_name_mapping:\n",
    "        print(f\"\\\"{row['field']}_{row['disk']}\\\": None,\")"
   ]
  },
  {
   "cell_type": "code",
   "execution_count": null,
   "id": "e60d8128-b2c4-48e9-b2b7-385d0dd6d925",
   "metadata": {},
   "outputs": [],
   "source": [
    "pwd"
   ]
  },
  {
   "cell_type": "code",
   "execution_count": null,
   "id": "1d1d85dc-9fac-4d87-9ec5-e10d8e7385fc",
   "metadata": {},
   "outputs": [],
   "source": [
    "import json\n",
    "nbooks = '/orange/adamginsburg/salt/notebooks'\n",
    "with open(f'{nbooks}/distance_map.json', 'r') as fh:\n",
    "    distance_dict = json.load(fh)\n",
    "with open(f'{nbooks}/nuline_map.json', 'r') as fh:\n",
    "    nuline_dict = json.load(fh)"
   ]
  },
  {
   "cell_type": "code",
   "execution_count": null,
   "id": "131184dd-31ee-4a57-879b-5129d61317bb",
   "metadata": {},
   "outputs": [],
   "source": [
    "%run /orange/adamginsburg/salt/Orion_ALMA_2016.1.00165.S/analysis/latex_info.py"
   ]
  },
  {
   "cell_type": "code",
   "execution_count": null,
   "id": "b718a6a6-9dd5-4851-b380-bd3b4bbc86f8",
   "metadata": {},
   "outputs": [],
   "source": [
    "latexdict = latexdict.copy()\n",
    "latexdict['preamble'] = r'''\n",
    "\\centering\n",
    "\\caption{Observation Summary}\n",
    "\\label{tab:obsstats}\n",
    "'''\n",
    "latexdict['tablefoot'] = (r'''\n",
    "\\par\n",
    "Observation properties.  The `Field' name indicates the region of the ALMA pointing.  The `Source Name' is the identifier of the disk candidate examined.\n",
    "$\\theta$ gives the beam parameters.\n",
    "$\\sigma$ is the average noise level of the field, which is averaged down by $N_{beams}^{1/2}$ to give $\\sigma_{\\rm avg}$, the noise level in the stacked spectrum.\n",
    "$f(>5\\sigma)$ is the fraction of the stacked spectrum that is above five times $\\sigma_{avg}$; it is used as a diagnostic of the line crowding in the spectrum covering 219.2--220.8 GHz, which is high for complex-molecule-rich regions.\n",
    "''')\n",
    "\n",
    "textbl=tbl.copy()\n",
    "textbl.rename_column(\"fivesigfrac\", r\"$f(>5\\sigma)$\")\n",
    "textbl.rename_column(\"nbeams_avgd\", r\"$N_{\\rm beams}$\")\n",
    "textbl.rename_column(\"rmsK\", r\"$\\sigma$\")\n",
    "textbl[r'$\\sigma$'].unit = u.K\n",
    "textbl.rename_column(\"bmin\", r\"$\\theta_{\\rm min}$\")\n",
    "textbl.rename_column(\"bmaj\", r\"$\\theta_{\\rm maj}$\")\n",
    "textbl[r\"$\\theta_{\\rm min}$\"].unit = u.arcsec\n",
    "textbl[r\"$\\theta_{\\rm maj}$\"].unit = u.arcsec\n",
    "textbl.rename_column(\"bpa\", \"PA\")\n",
    "textbl[\"PA\"].unit = u.deg\n",
    "textbl.rename_column(\"field\", \"Field\")\n",
    "textbl.rename_column(\"disk\", \"Source Name\")\n",
    "textbl[r'$\\sigma_{\\rm avg}$'] = tbl['rmsK'] / tbl['nbeams_avgd']**0.5\n",
    "textbl[r'$\\sigma_{\\rm avg}$'].unit=u.K\n",
    "\n",
    "\n",
    "selrow = [ii for ii, row in enumerate(tbl) if disk_name_mapping[f\"{row['field']}_{row['disk']}\"] is not None]\n",
    "textbl['Field'] = [field_mapping[row['field']] if row['field'] in field_mapping else row['field'] for row in tbl]\n",
    "textbl['Source Name'] = [disk_name_mapping[f\"{row['field']}_{row['disk']}\"] for row in tbl]\n",
    "textbl = textbl[selrow]\n",
    "\n",
    "textbl[r'$\\nu$ line'] = [nuline_dict[k1+k2]\n",
    "                         if k1+k2 in nuline_dict\n",
    "                         else nuline_dict[f'{k1} {k2}']\n",
    "                         for k1,k2 in zip(textbl['Field'], textbl['Source Name'])]\n",
    "\n",
    "formats = {\"$f(>5\\sigma)$\": lambda x: \"{0:0.2f}\".format(x),\n",
    "           r\"$N_{\\rm beams}$\": lambda x: f\"{int(x):0d}\",\n",
    "           r\"$\\theta_{\\rm min}$\": lambda x:f\"{x:0.3f}\",\n",
    "           r\"$\\theta_{\\rm maj}$\": lambda x:f\"{x:0.3f}\",\n",
    "           \"PA\": lambda x:f\"{x:0.1f}\",\n",
    "           r'$\\sigma_{\\rm avg}$': lambda x:f\"{x:0.1f}\", \n",
    "           '$\\sigma$': lambda x:f\"{x:0.1f}\",\n",
    "          }\n",
    "\n",
    "\n",
    "textbl.write('data_summary.tex', format='ascii.latex', formats=formats, latexdict=latexdict, overwrite=True)\n",
    "textbl"
   ]
  },
  {
   "cell_type": "code",
   "execution_count": null,
   "id": "143311cc-442c-4938-88c3-fc6698db5bd7",
   "metadata": {},
   "outputs": [],
   "source": [
    "textbl.colnames"
   ]
  },
  {
   "cell_type": "code",
   "execution_count": null,
   "id": "e9534ae3-a29e-4e44-8bb6-39b4583d8905",
   "metadata": {},
   "outputs": [],
   "source": [
    "pwd"
   ]
  },
  {
   "cell_type": "code",
   "execution_count": null,
   "id": "395a2262-9b2f-402c-a124-14786d818974",
   "metadata": {},
   "outputs": [],
   "source": [
    "cat data_summary.tex"
   ]
  },
  {
   "cell_type": "code",
   "execution_count": null,
   "id": "b00d049a-68b7-4d18-a035-29d514ea455a",
   "metadata": {},
   "outputs": [],
   "source": [
    "tabledata = {key:[] for key in ('field', 'disk', 'bmaj', 'bmin', 'bpa', 'rmsK', 'fivesigfrac', 'nbeams_avgd')}\n",
    "for field, cutouts in nfivesigma.items():\n",
    "    for candidate in cutouts:\n",
    "        tabledata['field'].append( field )\n",
    "        tabledata['disk'].append( candidate )\n",
    "        tabledata['bmaj'].append( beams[field][0] )\n",
    "        tabledata['bmin'].append( beams[field][1] )\n",
    "        tabledata['bpa'].append( beams[field][2] )\n",
    "        tabledata['rmsK'].append( stddev[field][1] )\n",
    "        tabledata['fivesigfrac'].append( cutouts[candidate][0] )\n",
    "        tabledata['nbeams_avgd'].append( cutouts[candidate][1] )\n",
    "tbl = Table(tabledata)"
   ]
  },
  {
   "cell_type": "code",
   "execution_count": null,
   "id": "727c0614-983d-4b3c-bf4b-f7a07ee4607d",
   "metadata": {},
   "outputs": [],
   "source": []
  },
  {
   "cell_type": "code",
   "execution_count": null,
   "id": "76023926-0805-4583-8cf2-48c92b383d78",
   "metadata": {},
   "outputs": [],
   "source": []
  }
 ],
 "metadata": {
  "kernelspec": {
   "display_name": "python39",
   "language": "python",
   "name": "python39"
  },
  "language_info": {
   "codemirror_mode": {
    "name": "ipython",
    "version": 3
   },
   "file_extension": ".py",
   "mimetype": "text/x-python",
   "name": "python",
   "nbconvert_exporter": "python",
   "pygments_lexer": "ipython3",
   "version": "3.9.13"
  }
 },
 "nbformat": 4,
 "nbformat_minor": 5
}
