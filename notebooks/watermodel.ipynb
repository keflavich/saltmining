{
 "cells": [
  {
   "cell_type": "code",
   "execution_count": 1,
   "id": "overall-soccer",
   "metadata": {
    "execution": {
     "iopub.execute_input": "2022-09-24T11:20:01.121951Z",
     "iopub.status.busy": "2022-09-24T11:20:01.121679Z",
     "iopub.status.idle": "2022-09-24T11:20:01.652494Z",
     "shell.execute_reply": "2022-09-24T11:20:01.651963Z"
    }
   },
   "outputs": [],
   "source": [
    "%matplotlib inline\n",
    "import pylab as pl"
   ]
  },
  {
   "cell_type": "code",
   "execution_count": 2,
   "id": "unknown-charles",
   "metadata": {
    "execution": {
     "iopub.execute_input": "2022-09-24T11:20:01.654732Z",
     "iopub.status.busy": "2022-09-24T11:20:01.654461Z",
     "iopub.status.idle": "2022-09-24T11:20:03.695386Z",
     "shell.execute_reply": "2022-09-24T11:20:03.695106Z"
    }
   },
   "outputs": [],
   "source": [
    "import pyspeckit\n",
    "from astropy import units as u\n",
    "import numpy as np"
   ]
  },
  {
   "cell_type": "code",
   "execution_count": 3,
   "id": "educational-pointer",
   "metadata": {
    "execution": {
     "iopub.execute_input": "2022-09-24T11:20:03.697922Z",
     "iopub.status.busy": "2022-09-24T11:20:03.697646Z",
     "iopub.status.idle": "2022-09-24T11:20:03.700714Z",
     "shell.execute_reply": "2022-09-24T11:20:03.700226Z"
    }
   },
   "outputs": [],
   "source": [
    "source_size =  4.3350376922e+00\n",
    "tkin = 250\n",
    "Ntot = 1.0061155735e+14\n",
    "vwidth_fwhm = 4.2101396644e+00\n",
    "vwidth = vwidth_fwhm / np.sqrt(8*np.log(2))\n",
    "vcen = 0.0000000000e+00\n",
    "tbg = 0\n",
    "FreqMin = 100*u.GHz\n",
    "FreqMax = 300*u.GHz"
   ]
  },
  {
   "cell_type": "code",
   "execution_count": 4,
   "id": "brazilian-national",
   "metadata": {
    "execution": {
     "iopub.execute_input": "2022-09-24T11:20:03.702539Z",
     "iopub.status.busy": "2022-09-24T11:20:03.702275Z",
     "iopub.status.idle": "2022-09-24T11:20:03.720123Z",
     "shell.execute_reply": "2022-09-24T11:20:03.719645Z"
    }
   },
   "outputs": [],
   "source": [
    "from pyspeckit.spectrum.models import lte_molecule\n",
    "from pyspeckit.spectrum.models.lte_molecule import get_molecular_parameters, get_molecular_parameters, generate_model, generate_fitter"
   ]
  },
  {
   "cell_type": "code",
   "execution_count": 5,
   "id": "reflected-factory",
   "metadata": {
    "execution": {
     "iopub.execute_input": "2022-09-24T11:20:03.722584Z",
     "iopub.status.busy": "2022-09-24T11:20:03.722314Z",
     "iopub.status.idle": "2022-09-24T11:20:03.962878Z",
     "shell.execute_reply": "2022-09-24T11:20:03.962604Z"
    }
   },
   "outputs": [],
   "source": [
    "freqs, aij, deg, EU, partfunc = get_molecular_parameters('H2O',\n",
    "                                                         catalog='JPL',\n",
    "                                                         fmin=FreqMin,\n",
    "                                                         fmax=FreqMax)\n",
    "def modfunc(xarr, vcen, width, tex, column, **kwargs):\n",
    "    model = generate_model(xarr, vcen, width, tex, \n",
    "                   column=column, freqs=freqs, aij=aij, deg=deg, EU=EU, partfunc=partfunc)\n",
    "    return model\n",
    "\n",
    "\n",
    "fitter = generate_fitter(modfunc, name=\"H2O\")"
   ]
  },
  {
   "cell_type": "code",
   "execution_count": 6,
   "id": "behavioral-tenant",
   "metadata": {
    "execution": {
     "iopub.execute_input": "2022-09-24T11:20:03.975293Z",
     "iopub.status.busy": "2022-09-24T11:20:03.975008Z",
     "iopub.status.idle": "2022-09-24T11:20:04.213112Z",
     "shell.execute_reply": "2022-09-24T11:20:04.212884Z"
    }
   },
   "outputs": [
    {
     "name": "stderr",
     "output_type": "stream",
     "text": [
      "WARNING: No header given.  Creating an empty one.\n"
     ]
    }
   ],
   "source": [
    "tkin = 100\n",
    "xarr = np.linspace(230*u.GHz, 235*u.GHz, 10000)\n",
    "model = pyspeckit.Spectrum(xarr=xarr, data=modfunc(xarr, vcen, vwidth, tkin, Ntot, ))"
   ]
  },
  {
   "cell_type": "code",
   "execution_count": 7,
   "id": "still-archive",
   "metadata": {
    "execution": {
     "iopub.execute_input": "2022-09-24T11:20:04.215002Z",
     "iopub.status.busy": "2022-09-24T11:20:04.214736Z",
     "iopub.status.idle": "2022-09-24T11:20:04.324157Z",
     "shell.execute_reply": "2022-09-24T11:20:04.323929Z"
    }
   },
   "outputs": [
    {
     "data": {
      "image/png": "[encoded data removed]",
      "text/plain": [
       "<Figure size 864x576 with 1 Axes>"
      ]
     },
     "metadata": {
      "needs_background": "light"
     },
     "output_type": "display_data"
    }
   ],
   "source": [
    "fig = pl.figure(figsize=(12,8))\n",
    "\n",
    "model.plotter(figure=fig)"
   ]
  },
  {
   "cell_type": "code",
   "execution_count": null,
   "id": "fuzzy-beauty",
   "metadata": {},
   "outputs": [],
   "source": []
  },
  {
   "cell_type": "code",
   "execution_count": null,
   "id": "wrong-guide",
   "metadata": {},
   "outputs": [],
   "source": []
  },
  {
   "cell_type": "code",
   "execution_count": null,
   "id": "judicial-wichita",
   "metadata": {},
   "outputs": [],
   "source": []
  }
 ],
 "metadata": {
  "kernelspec": {
   "display_name": "python39",
   "language": "python",
   "name": "python39"
  },
  "language_info": {
   "codemirror_mode": {
    "name": "ipython",
    "version": 3
   },
   "file_extension": ".py",
   "mimetype": "text/x-python",
   "name": "python",
   "nbconvert_exporter": "python",
   "pygments_lexer": "ipython3",
   "version": "3.9.13"
  }
 },
 "nbformat": 4,
 "nbformat_minor": 5
}
