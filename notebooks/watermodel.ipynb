{
 "cells": [
  {
   "cell_type": "code",
   "execution_count": 19,
   "id": "overall-soccer",
   "metadata": {},
   "outputs": [],
   "source": [
    "%matplotlib inline\n",
    "import pylab as pl"
   ]
  },
  {
   "cell_type": "code",
   "execution_count": 20,
   "id": "unknown-charles",
   "metadata": {},
   "outputs": [],
   "source": [
    "import pyspeckit\n",
    "from astropy import units as u"
   ]
  },
  {
   "cell_type": "code",
   "execution_count": null,
   "id": "educational-pointer",
   "metadata": {},
   "outputs": [],
   "source": [
    "source_size =  4.3350376922e+00\n",
    "tkin = 250\n",
    "Ntot = 1.0061155735e+14\n",
    "vwidth_fwhm = 4.2101396644e+00\n",
    "vwidth = vwidth_fwhm / np.sqrt(8*np.log(2))\n",
    "vcen = 0.0000000000e+00\n",
    "tbg = 0\n",
    "FreqMin = 100*u.GHz\n",
    "FreqMax = 300*u.GHz"
   ]
  },
  {
   "cell_type": "code",
   "execution_count": null,
   "id": "brazilian-national",
   "metadata": {},
   "outputs": [],
   "source": [
    "from pyspeckit.spectrum.models import lte_molecule\n",
    "from pyspeckit.spectrum.models.lte_molecule import get_molecular_parameters, get_molecular_parameters, generate_model, generate_fitter"
   ]
  },
  {
   "cell_type": "code",
   "execution_count": null,
   "id": "reflected-factory",
   "metadata": {},
   "outputs": [],
   "source": [
    "freqs, aij, deg, EU, partfunc = get_molecular_parameters('H2O',\n",
    "                                                         catalog='JPL',\n",
    "                                                         fmin=FreqMin,\n",
    "                                                         fmax=FreqMax)\n",
    "def modfunc(xarr, vcen, width, tex, column, **kwargs):\n",
    "    model = generate_model(xarr, vcen, width, tex, \n",
    "                   column=column, freqs=freqs, aij=aij, deg=deg, EU=EU, partfunc=partfunc)\n",
    "    return model\n",
    "\n",
    "\n",
    "fitter = generate_fitter(modfunc, name=\"H2O\")"
   ]
  },
  {
   "cell_type": "code",
   "execution_count": null,
   "id": "behavioral-tenant",
   "metadata": {},
   "outputs": [],
   "source": [
    "tkin = 100\n",
    "xarr = np.linspace(230*u.GHz, 235*u.GHz, 10000)\n",
    "model = pyspeckit.Spectrum(xarr=xarr, data=modfunc(xarr, vcen, vwidth, tkin, Ntot, ))"
   ]
  },
  {
   "cell_type": "code",
   "execution_count": null,
   "id": "still-archive",
   "metadata": {},
   "outputs": [],
   "source": [
    "fig = pl.figure(figsize=(12,8))\n",
    "\n",
    "model.plotter(figure=fig)"
   ]
  },
  {
   "cell_type": "code",
   "execution_count": null,
   "id": "fuzzy-beauty",
   "metadata": {},
   "outputs": [],
   "source": []
  },
  {
   "cell_type": "code",
   "execution_count": null,
   "id": "wrong-guide",
   "metadata": {},
   "outputs": [],
   "source": []
  },
  {
   "cell_type": "code",
   "execution_count": null,
   "id": "judicial-wichita",
   "metadata": {},
   "outputs": [],
   "source": []
  }
 ],
 "metadata": {
  "kernelspec": {
   "display_name": "Py 3.9",
   "language": "python",
   "name": "python39"
  },
  "language_info": {
   "codemirror_mode": {
    "name": "ipython",
    "version": 3
   },
   "file_extension": ".py",
   "mimetype": "text/x-python",
   "name": "python",
   "nbconvert_exporter": "python",
   "pygments_lexer": "ipython3",
   "version": "3.9.2"
  }
 },
 "nbformat": 4,
 "nbformat_minor": 5
}
